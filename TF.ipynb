{
 "cells": [
  {
   "cell_type": "code",
   "execution_count": 1,
   "metadata": {},
   "outputs": [
    {
     "name": "stdout",
     "output_type": "stream",
     "text": [
      "WARNING:tensorflow:From C:\\Users\\Ilham AM\\AppData\\Roaming\\Python\\Python310\\site-packages\\keras\\src\\losses.py:2976: The name tf.losses.sparse_softmax_cross_entropy is deprecated. Please use tf.compat.v1.losses.sparse_softmax_cross_entropy instead.\n",
      "\n"
     ]
    }
   ],
   "source": [
    "import pandas as pd\n",
    "import re\n",
    "from nltk import word_tokenize\n",
    "from sklearn.preprocessing import LabelEncoder\n",
    "import numpy as np\n",
    "import matplotlib.pyplot as plt\n",
    "from sklearn.metrics import confusion_matrix\n",
    "\n",
    "from keras.preprocessing.text import Tokenizer\n",
    "from keras_preprocessing.sequence import pad_sequences\n",
    "from keras.models import Sequential\n",
    "from keras.layers import Embedding, LSTM, Dense\n",
    "from sklearn.metrics import classification_report\n",
    "from keras.regularizers import l2\n",
    "from keras.callbacks import EarlyStopping\n",
    "\n",
    "from Sastrawi.Stemmer.StemmerFactory import StemmerFactory\n",
    "from nltk.tokenize import word_tokenize\n",
    "import nltk\n",
    "import textattack\n",
    "from nltk.corpus import wordnet\n",
    "\n",
    "from textattack.models.wrappers import ModelWrapper\n",
    "from textattack.datasets import HuggingFaceDataset\n",
    "from textattack.transformations.word_swaps import WordSwap\n",
    "from textattack import AttackArgs\n",
    "from textattack import Attacker\n",
    "from textattack import Attack\n",
    "from textattack.constraints.pre_transformation import (\n",
    "    RepeatModification,\n",
    "    StopwordModification,\n",
    ")\n",
    "from textattack.goal_functions import UntargetedClassification\n",
    "from textattack.search_methods import GreedyWordSwapWIR\n",
    "from textattack.attack_recipes import AttackRecipe\n",
    "from textattack.loggers import CSVLogger\n",
    "from textattack.attack_results import SuccessfulAttackResult\n"
   ]
  },
  {
   "cell_type": "code",
   "execution_count": 2,
   "metadata": {},
   "outputs": [],
   "source": [
    "def load_data(dataset_split=\"train\"):\n",
    "    df = pd.read_csv(f'LabelEncoded_{dataset_split}_data.csv')\n",
    "    # Remove non-alphanumeric characters\n",
    "    df[\"text\"] = df[\"text\"].apply(lambda x: re.sub(\"[^a-zA-Z]\", \" \", str(x)))\n",
    "    df['text'] = df['text'].apply(lambda x: re.sub('  +', ' ', str(x)))\n",
    "    df['text'] = df['text'].apply(lambda x: re.sub('\\n', ' ', str(x)))\n",
    "    df['text'] = df['text'].apply(lambda x: re.sub('((www\\.[^\\s]+)|(https?://[^\\s]+)|(http?://[^\\s]+))', '', str(x)))\n",
    "    # Tokenize the training and testing data\n",
    "    df_tokenized = tokenize_review(df)\n",
    "    return df_tokenized\n",
    "\n",
    "def tokenize_review(df):\n",
    "    # Tokenize Reviews in the DataFrame\n",
    "    tokened_reviews = [word_tokenize(rev) for rev in df[\"text\"]]\n",
    "    \n",
    "    # Initialize the Indonesian stemmer\n",
    "    factory = StemmerFactory()\n",
    "    stemmer = factory.create_stemmer()\n",
    "\n",
    "    # Stem tokens for each review in Indonesian\n",
    "    stemmed_tokens = []\n",
    "    for tokens in tokened_reviews:\n",
    "        # Join the tokens into a single string for stemming, since Sastrawi expects a sentence\n",
    "        sentence = \" \".join(tokens)\n",
    "        # Perform stemming on the whole sentence\n",
    "        stemmed_sentence = stemmer.stem(sentence)\n",
    "        stemmed_tokens.append(stemmed_sentence)\n",
    "\n",
    "    # Insert the stemmed reviews into the DataFrame\n",
    "    df.insert(1, column=\"Stemmed\", value=stemmed_tokens)\n",
    "    \n",
    "    return df"
   ]
  },
  {
   "cell_type": "code",
   "execution_count": 3,
   "metadata": {},
   "outputs": [],
   "source": [
    "df_train = load_data(\"train\")\n",
    "df_test = load_data('test')"
   ]
  },
  {
   "cell_type": "code",
   "execution_count": 4,
   "metadata": {},
   "outputs": [],
   "source": [
    "df_val = load_data('valid')"
   ]
  },
  {
   "cell_type": "code",
   "execution_count": 5,
   "metadata": {},
   "outputs": [
    {
     "data": {
      "text/html": [
       "<div>\n",
       "<style scoped>\n",
       "    .dataframe tbody tr th:only-of-type {\n",
       "        vertical-align: middle;\n",
       "    }\n",
       "\n",
       "    .dataframe tbody tr th {\n",
       "        vertical-align: top;\n",
       "    }\n",
       "\n",
       "    .dataframe thead th {\n",
       "        text-align: right;\n",
       "    }\n",
       "</style>\n",
       "<table border=\"1\" class=\"dataframe\">\n",
       "  <thead>\n",
       "    <tr style=\"text-align: right;\">\n",
       "      <th></th>\n",
       "      <th>text</th>\n",
       "      <th>Stemmed</th>\n",
       "      <th>label</th>\n",
       "      <th>source</th>\n",
       "    </tr>\n",
       "  </thead>\n",
       "  <tbody>\n",
       "    <tr>\n",
       "      <th>0</th>\n",
       "      <td>warung ini dimiliki oleh pengusaha pabrik tahu...</td>\n",
       "      <td>warung ini milik oleh usaha pabrik tahu yang s...</td>\n",
       "      <td>2</td>\n",
       "      <td>indonlue/smsa</td>\n",
       "    </tr>\n",
       "    <tr>\n",
       "      <th>1</th>\n",
       "      <td>mohon ulama lurus dan k mmbri hujjah partai ap...</td>\n",
       "      <td>mohon ulama lurus dan k mmbri hujjah partai ap...</td>\n",
       "      <td>1</td>\n",
       "      <td>indonlue/smsa</td>\n",
       "    </tr>\n",
       "    <tr>\n",
       "      <th>2</th>\n",
       "      <td>lokasi strategis di jalan sumatera bandung tem...</td>\n",
       "      <td>lokasi strategis di jalan sumatera bandung tem...</td>\n",
       "      <td>2</td>\n",
       "      <td>indonlue/smsa</td>\n",
       "    </tr>\n",
       "    <tr>\n",
       "      <th>3</th>\n",
       "      <td>betapa bahagia nya diri ini saat unboxing pake...</td>\n",
       "      <td>betapa bahagia nya diri ini saat unboxing pake...</td>\n",
       "      <td>2</td>\n",
       "      <td>indonlue/smsa</td>\n",
       "    </tr>\n",
       "    <tr>\n",
       "      <th>4</th>\n",
       "      <td>duh jadi mahasiswa jangan sombong dong kasih k...</td>\n",
       "      <td>duh jadi mahasiswa jangan sombong dong kasih k...</td>\n",
       "      <td>0</td>\n",
       "      <td>indonlue/smsa</td>\n",
       "    </tr>\n",
       "    <tr>\n",
       "      <th>...</th>\n",
       "      <td>...</td>\n",
       "      <td>...</td>\n",
       "      <td>...</td>\n",
       "      <td>...</td>\n",
       "    </tr>\n",
       "    <tr>\n",
       "      <th>10995</th>\n",
       "      <td>tidak kecewa</td>\n",
       "      <td>tidak kecewa</td>\n",
       "      <td>2</td>\n",
       "      <td>indonlue/smsa</td>\n",
       "    </tr>\n",
       "    <tr>\n",
       "      <th>10996</th>\n",
       "      <td>enak rasa masakan nya apalagi kepiting yang me...</td>\n",
       "      <td>enak rasa masakan nya apalagi kepiting yang se...</td>\n",
       "      <td>2</td>\n",
       "      <td>indonlue/smsa</td>\n",
       "    </tr>\n",
       "    <tr>\n",
       "      <th>10997</th>\n",
       "      <td>hormati partai partai yang telah berkoalisi</td>\n",
       "      <td>hormat partai partai yang telah koalisi</td>\n",
       "      <td>1</td>\n",
       "      <td>indonlue/smsa</td>\n",
       "    </tr>\n",
       "    <tr>\n",
       "      <th>10998</th>\n",
       "      <td>pagi pagi di tol pasteur sudah macet parah bik...</td>\n",
       "      <td>pagi pagi di tol pasteur sudah macet parah bik...</td>\n",
       "      <td>0</td>\n",
       "      <td>indonlue/smsa</td>\n",
       "    </tr>\n",
       "    <tr>\n",
       "      <th>10999</th>\n",
       "      <td>meskipun sering belanja ke yogya di riau junct...</td>\n",
       "      <td>meski sering belanja ke yogya di riau junction...</td>\n",
       "      <td>2</td>\n",
       "      <td>indonlue/smsa</td>\n",
       "    </tr>\n",
       "  </tbody>\n",
       "</table>\n",
       "<p>11000 rows × 4 columns</p>\n",
       "</div>"
      ],
      "text/plain": [
       "                                                    text  \\\n",
       "0      warung ini dimiliki oleh pengusaha pabrik tahu...   \n",
       "1      mohon ulama lurus dan k mmbri hujjah partai ap...   \n",
       "2      lokasi strategis di jalan sumatera bandung tem...   \n",
       "3      betapa bahagia nya diri ini saat unboxing pake...   \n",
       "4      duh jadi mahasiswa jangan sombong dong kasih k...   \n",
       "...                                                  ...   \n",
       "10995                                       tidak kecewa   \n",
       "10996  enak rasa masakan nya apalagi kepiting yang me...   \n",
       "10997        hormati partai partai yang telah berkoalisi   \n",
       "10998  pagi pagi di tol pasteur sudah macet parah bik...   \n",
       "10999  meskipun sering belanja ke yogya di riau junct...   \n",
       "\n",
       "                                                 Stemmed  label         source  \n",
       "0      warung ini milik oleh usaha pabrik tahu yang s...      2  indonlue/smsa  \n",
       "1      mohon ulama lurus dan k mmbri hujjah partai ap...      1  indonlue/smsa  \n",
       "2      lokasi strategis di jalan sumatera bandung tem...      2  indonlue/smsa  \n",
       "3      betapa bahagia nya diri ini saat unboxing pake...      2  indonlue/smsa  \n",
       "4      duh jadi mahasiswa jangan sombong dong kasih k...      0  indonlue/smsa  \n",
       "...                                                  ...    ...            ...  \n",
       "10995                                       tidak kecewa      2  indonlue/smsa  \n",
       "10996  enak rasa masakan nya apalagi kepiting yang se...      2  indonlue/smsa  \n",
       "10997            hormat partai partai yang telah koalisi      1  indonlue/smsa  \n",
       "10998  pagi pagi di tol pasteur sudah macet parah bik...      0  indonlue/smsa  \n",
       "10999  meski sering belanja ke yogya di riau junction...      2  indonlue/smsa  \n",
       "\n",
       "[11000 rows x 4 columns]"
      ]
     },
     "execution_count": 5,
     "metadata": {},
     "output_type": "execute_result"
    }
   ],
   "source": [
    "df_train"
   ]
  },
  {
   "cell_type": "code",
   "execution_count": 6,
   "metadata": {},
   "outputs": [],
   "source": [
    "X_train = df_train['Stemmed'].astype(str)\n",
    "X_test = df_test['Stemmed'].astype(str)\n",
    "y_train = df_train['label']\n",
    "y_test = df_test['label']"
   ]
  },
  {
   "cell_type": "code",
   "execution_count": 7,
   "metadata": {},
   "outputs": [],
   "source": [
    "X_val = df_val['Stemmed'].astype(str)\n",
    "y_val = df_val['label']"
   ]
  },
  {
   "cell_type": "code",
   "execution_count": 8,
   "metadata": {},
   "outputs": [],
   "source": [
    "le = LabelEncoder()\n",
    "y_train = le.fit_transform(y_train)\n",
    "y_test = le.fit_transform(y_test)"
   ]
  },
  {
   "cell_type": "code",
   "execution_count": 9,
   "metadata": {},
   "outputs": [],
   "source": [
    "y_val = le.fit_transform(y_val)"
   ]
  },
  {
   "cell_type": "code",
   "execution_count": 10,
   "metadata": {},
   "outputs": [],
   "source": [
    "max_words = 5000  # Jumlah kata unik yang akan diikutsertakan dalam Tokenizer\n",
    "max_len = 512     # Panjang maksimum dari sebuah sequence (dapat disesuaikan)\n",
    "tokenizer = Tokenizer(num_words=max_words)\n",
    "tokenizer.fit_on_texts(X_train)"
   ]
  },
  {
   "cell_type": "code",
   "execution_count": 11,
   "metadata": {},
   "outputs": [],
   "source": [
    "X_train_sequences = tokenizer.texts_to_sequences(X_train)\n",
    "X_test_sequences = tokenizer.texts_to_sequences(X_test)\n",
    "X_val_sequences = tokenizer.texts_to_sequences(X_val)"
   ]
  },
  {
   "cell_type": "code",
   "execution_count": 12,
   "metadata": {},
   "outputs": [],
   "source": [
    "X_train_padded = pad_sequences(X_train_sequences, maxlen=max_len)\n",
    "X_test_padded = pad_sequences(X_test_sequences, maxlen=max_len)\n",
    "X_val_padded = pad_sequences(X_val_sequences, maxlen=max_len)"
   ]
  },
  {
   "cell_type": "code",
   "execution_count": 30,
   "metadata": {},
   "outputs": [],
   "source": [
    "model = Sequential()\n",
    "model.add(Embedding(max_words, 128, input_length=max_len))\n",
    "model.add(LSTM(64, dropout=0.2, recurrent_dropout=0.2))\n",
    "model.add(Dense(32, activation='relu', kernel_regularizer=l2(0.01)))\n",
    "model.add(Dense(3, activation='softmax'))"
   ]
  },
  {
   "cell_type": "code",
   "execution_count": 31,
   "metadata": {},
   "outputs": [
    {
     "name": "stdout",
     "output_type": "stream",
     "text": [
      "WARNING:tensorflow:From C:\\Users\\Ilham AM\\AppData\\Roaming\\Python\\Python310\\site-packages\\keras\\src\\optimizers\\__init__.py:309: The name tf.train.Optimizer is deprecated. Please use tf.compat.v1.train.Optimizer instead.\n",
      "\n"
     ]
    },
    {
     "name": "stderr",
     "output_type": "stream",
     "text": [
      "From C:\\Users\\Ilham AM\\AppData\\Roaming\\Python\\Python310\\site-packages\\keras\\src\\optimizers\\__init__.py:309: The name tf.train.Optimizer is deprecated. Please use tf.compat.v1.train.Optimizer instead.\n",
      "\n"
     ]
    }
   ],
   "source": [
    "model.compile(loss='sparse_categorical_crossentropy', optimizer='adam', metrics=['accuracy'])"
   ]
  },
  {
   "cell_type": "code",
   "execution_count": 32,
   "metadata": {},
   "outputs": [
    {
     "name": "stdout",
     "output_type": "stream",
     "text": [
      "Model: \"sequential_3\"\n",
      "_________________________________________________________________\n",
      " Layer (type)                Output Shape              Param #   \n",
      "=================================================================\n",
      " embedding_3 (Embedding)     (None, 512, 128)          640000    \n",
      "                                                                 \n",
      " lstm_3 (LSTM)               (None, 64)                49408     \n",
      "                                                                 \n",
      " dense_6 (Dense)             (None, 32)                2080      \n",
      "                                                                 \n",
      " dense_7 (Dense)             (None, 3)                 99        \n",
      "                                                                 \n",
      "=================================================================\n",
      "Total params: 691587 (2.64 MB)\n",
      "Trainable params: 691587 (2.64 MB)\n",
      "Non-trainable params: 0 (0.00 Byte)\n",
      "_________________________________________________________________\n"
     ]
    }
   ],
   "source": [
    "model.summary()"
   ]
  },
  {
   "cell_type": "code",
   "execution_count": 33,
   "metadata": {},
   "outputs": [],
   "source": [
    "early_stopping = EarlyStopping(monitor='val_loss', patience=3, restore_best_weights=True)"
   ]
  },
  {
   "cell_type": "code",
   "execution_count": 79,
   "metadata": {},
   "outputs": [
    {
     "name": "stdout",
     "output_type": "stream",
     "text": [
      "Epoch 1/10\n",
      "43/43 [==============================] - 100s 2s/step - loss: 1.0680 - accuracy: 0.6980 - val_loss: 0.7883 - val_accuracy: 0.7810\n",
      "Epoch 2/10\n",
      "43/43 [==============================] - 97s 2s/step - loss: 0.6445 - accuracy: 0.8319 - val_loss: 0.5754 - val_accuracy: 0.8492\n",
      "Epoch 3/10\n",
      "43/43 [==============================] - 97s 2s/step - loss: 0.4465 - accuracy: 0.9032 - val_loss: 0.4719 - val_accuracy: 0.8675\n",
      "Epoch 4/10\n",
      "43/43 [==============================] - 97s 2s/step - loss: 0.3237 - accuracy: 0.9283 - val_loss: 0.4378 - val_accuracy: 0.8770\n",
      "Epoch 5/10\n",
      "43/43 [==============================] - 98s 2s/step - loss: 0.2565 - accuracy: 0.9386 - val_loss: 0.4112 - val_accuracy: 0.8810\n",
      "Epoch 6/10\n",
      "43/43 [==============================] - 97s 2s/step - loss: 0.2026 - accuracy: 0.9529 - val_loss: 0.4236 - val_accuracy: 0.8746\n",
      "Epoch 7/10\n",
      "43/43 [==============================] - 98s 2s/step - loss: 0.1696 - accuracy: 0.9583 - val_loss: 0.4420 - val_accuracy: 0.8698\n",
      "Epoch 8/10\n",
      "43/43 [==============================] - 97s 2s/step - loss: 0.1442 - accuracy: 0.9646 - val_loss: 0.4403 - val_accuracy: 0.8683\n"
     ]
    }
   ],
   "source": [
    "#Train Model\n",
    "history = model.fit(X_train_padded, y_train, batch_size=256, epochs=10, validation_data=(X_val_padded, y_val), callbacks=early_stopping)"
   ]
  },
  {
   "cell_type": "code",
   "execution_count": 80,
   "metadata": {},
   "outputs": [
    {
     "data": {
      "image/png": "[encoded data removed]",
      "text/plain": [
       "<Figure size 640x480 with 1 Axes>"
      ]
     },
     "metadata": {},
     "output_type": "display_data"
    }
   ],
   "source": [
    "plt.plot(history.history['accuracy'])\n",
    "plt.plot(history.history['val_accuracy'])\n",
    "plt.title('model accuracy')\n",
    "plt.ylabel('accuracy')\n",
    "plt.xlabel('epoch')\n",
    "plt.legend(['train', 'val'], loc='upper left')\n",
    "plt.show()"
   ]
  },
  {
   "cell_type": "code",
   "execution_count": 81,
   "metadata": {},
   "outputs": [
    {
     "data": {
      "image/png": "[encoded data removed]",
      "text/plain": [
       "<Figure size 640x480 with 1 Axes>"
      ]
     },
     "metadata": {},
     "output_type": "display_data"
    }
   ],
   "source": [
    "plt.plot(history.history['loss'])\n",
    "plt.plot(history.history['val_loss'])\n",
    "plt.title('model loss')\n",
    "plt.ylabel('loss')\n",
    "plt.xlabel('epoch')\n",
    "plt.legend(['train', 'val'], loc='upper left')\n",
    "plt.show()"
   ]
  },
  {
   "cell_type": "code",
   "execution_count": 82,
   "metadata": {},
   "outputs": [
    {
     "name": "stdout",
     "output_type": "stream",
     "text": [
      "16/16 [==============================] - 1s 44ms/step\n"
     ]
    }
   ],
   "source": [
    "y_pred_prob = model.predict(X_test_padded)\n",
    "y_pred = np.argmax(y_pred_prob, axis=1)"
   ]
  },
  {
   "cell_type": "code",
   "execution_count": 83,
   "metadata": {},
   "outputs": [],
   "source": [
    "y_pred_labels = le.inverse_transform(y_pred)"
   ]
  },
  {
   "cell_type": "code",
   "execution_count": 84,
   "metadata": {},
   "outputs": [
    {
     "name": "stdout",
     "output_type": "stream",
     "text": [
      "              precision    recall  f1-score   support\n",
      "\n",
      "           0       0.92      0.73      0.82       256\n",
      "           1       0.47      0.82      0.59        50\n",
      "           2       0.79      0.85      0.82       194\n",
      "\n",
      "    accuracy                           0.79       500\n",
      "   macro avg       0.73      0.80      0.74       500\n",
      "weighted avg       0.82      0.79      0.79       500\n",
      "\n"
     ]
    }
   ],
   "source": [
    "print(classification_report(y_pred_labels, le.inverse_transform(y_test)))"
   ]
  },
  {
   "cell_type": "code",
   "execution_count": 23,
   "metadata": {},
   "outputs": [
    {
     "data": {
      "text/plain": [
       "array([[182,  32,  40],\n",
       "       [  4,  38,   4],\n",
       "       [ 18,  18, 164]], dtype=int64)"
      ]
     },
     "execution_count": 23,
     "metadata": {},
     "output_type": "execute_result"
    }
   ],
   "source": [
    "cm = confusion_matrix(y_pred_labels, le.inverse_transform(y_test))\n",
    "cm"
   ]
  },
  {
   "cell_type": "code",
   "execution_count": 24,
   "metadata": {},
   "outputs": [
    {
     "data": {
      "image/png": "[encoded data removed]",
      "text/plain": [
       "<Figure size 640x480 with 2 Axes>"
      ]
     },
     "metadata": {},
     "output_type": "display_data"
    }
   ],
   "source": [
    "plt.imshow(cm, interpolation='nearest', cmap=plt.cm.Blues)\n",
    "plt.title('Confusion Matrix')\n",
    "plt.colorbar()\n",
    "tick_marks = np.arange(3)\n",
    "plt.xticks(tick_marks, ['negative', 'neutral', 'positive'])\n",
    "plt.yticks(tick_marks, ['negative', 'neutral', 'positive'])\n",
    "plt.xlabel('Predicted')\n",
    "plt.ylabel('True')\n",
    "\n",
    "thresh = cm.max() / 2\n",
    "for i, j in np.ndindex(cm.shape):\n",
    "    plt.text(j, i, format(cm[i, j], 'd'), horizontalalignment=\"center\", color=\"white\" if cm[i, j] > thresh else \"black\")"
   ]
  },
  {
   "cell_type": "code",
   "execution_count": 101,
   "metadata": {},
   "outputs": [],
   "source": [
    "from keras.layers import BatchNormalization, SpatialDropout1D, Dropout, Lambda\n",
    "import keras.backend as K\n",
    "from keras.optimizers import Adam\n",
    "\n",
    "T = 2\n",
    "model2 = Sequential()\n",
    "model2.add(Embedding(max_words, 128, input_length=max_len))\n",
    "model2.add(SpatialDropout1D(0.3))\n",
    "model2.add(BatchNormalization())\n",
    "model2.add(LSTM(64, dropout=0.3, recurrent_dropout=0.3))\n",
    "model2.add(Dense(32, activation='relu', kernel_regularizer=l2(0.02)))\n",
    "model2.add(Dropout(0.3))\n",
    "model2.add(Dense(3))\n",
    "model.add(Lambda(lambda x: K.softmax(x / T)))\n"
   ]
  },
  {
   "cell_type": "code",
   "execution_count": 102,
   "metadata": {},
   "outputs": [],
   "source": [
    "optimizer = Adam(learning_rate=0.001, clipnorm=1.0)"
   ]
  },
  {
   "cell_type": "code",
   "execution_count": 103,
   "metadata": {},
   "outputs": [],
   "source": [
    "model2.compile(loss='sparse_categorical_crossentropy', optimizer=optimizer, metrics=['accuracy'])"
   ]
  },
  {
   "cell_type": "code",
   "execution_count": 104,
   "metadata": {},
   "outputs": [
    {
     "name": "stdout",
     "output_type": "stream",
     "text": [
      "Model: \"sequential_13\"\n",
      "_________________________________________________________________\n",
      " Layer (type)                Output Shape              Param #   \n",
      "=================================================================\n",
      " embedding_13 (Embedding)    (None, 512, 128)          640000    \n",
      "                                                                 \n",
      " spatial_dropout1d_5 (Spati  (None, 512, 128)          0         \n",
      " alDropout1D)                                                    \n",
      "                                                                 \n",
      " batch_normalization_6 (Bat  (None, 512, 128)          512       \n",
      " chNormalization)                                                \n",
      "                                                                 \n",
      " lstm_13 (LSTM)              (None, 64)                49408     \n",
      "                                                                 \n",
      " dense_26 (Dense)            (None, 32)                2080      \n",
      "                                                                 \n",
      " dropout_6 (Dropout)         (None, 32)                0         \n",
      "                                                                 \n",
      " dense_27 (Dense)            (None, 3)                 99        \n",
      "                                                                 \n",
      "=================================================================\n",
      "Total params: 692099 (2.64 MB)\n",
      "Trainable params: 691843 (2.64 MB)\n",
      "Non-trainable params: 256 (1.00 KB)\n",
      "_________________________________________________________________\n"
     ]
    }
   ],
   "source": [
    "model2.summary()\n"
   ]
  },
  {
   "cell_type": "code",
   "execution_count": 105,
   "metadata": {},
   "outputs": [],
   "source": [
    "early_stopping = EarlyStopping(monitor='val_loss', patience=3, restore_best_weights=True)"
   ]
  },
  {
   "cell_type": "code",
   "execution_count": 106,
   "metadata": {},
   "outputs": [
    {
     "name": "stdout",
     "output_type": "stream",
     "text": [
      "Epoch 1/10\n",
      "43/43 [==============================] - 112s 3s/step - loss: 2.9092 - accuracy: 0.5645 - val_loss: 1.6507 - val_accuracy: 0.6024\n",
      "Epoch 2/10\n",
      "43/43 [==============================] - 107s 2s/step - loss: 1.4832 - accuracy: 0.7028 - val_loss: 1.5619 - val_accuracy: 0.3524\n",
      "Epoch 3/10\n",
      "43/43 [==============================] - 108s 3s/step - loss: 1.3606 - accuracy: 0.8033 - val_loss: 1.4374 - val_accuracy: 0.3341\n",
      "Epoch 4/10\n",
      "43/43 [==============================] - 108s 3s/step - loss: 1.0886 - accuracy: 0.8412 - val_loss: 1.3520 - val_accuracy: 0.4016\n",
      "Epoch 5/10\n",
      "43/43 [==============================] - 107s 2s/step - loss: 0.9143 - accuracy: 0.8650 - val_loss: 1.2096 - val_accuracy: 0.3524\n",
      "Epoch 6/10\n",
      "43/43 [==============================] - 107s 2s/step - loss: 0.7905 - accuracy: 0.8843 - val_loss: 1.2046 - val_accuracy: 0.4325\n",
      "Epoch 7/10\n",
      "43/43 [==============================] - 107s 2s/step - loss: 0.6548 - accuracy: 0.9034 - val_loss: 0.9992 - val_accuracy: 0.5984\n",
      "Epoch 8/10\n",
      "43/43 [==============================] - 108s 3s/step - loss: 0.5938 - accuracy: 0.9129 - val_loss: 0.8107 - val_accuracy: 0.7556\n",
      "Epoch 9/10\n",
      "43/43 [==============================] - 107s 2s/step - loss: 0.5258 - accuracy: 0.9255 - val_loss: 0.7189 - val_accuracy: 0.8357\n",
      "Epoch 10/10\n",
      "43/43 [==============================] - 108s 3s/step - loss: 0.4539 - accuracy: 0.9285 - val_loss: 0.8337 - val_accuracy: 0.7341\n"
     ]
    }
   ],
   "source": [
    "history2 = model2.fit(X_train_padded, y_train, batch_size=256, epochs=10, validation_data=(X_val_padded, y_val), callbacks=early_stopping)"
   ]
  },
  {
   "cell_type": "code",
   "execution_count": 110,
   "metadata": {},
   "outputs": [
    {
     "name": "stdout",
     "output_type": "stream",
     "text": [
      "16/16 [==============================] - 1s 58ms/step\n"
     ]
    }
   ],
   "source": [
    "y_pred_prob = model2.predict(X_test_padded)\n",
    "y_pred = np.argmax(y_pred_prob, axis=1)"
   ]
  },
  {
   "cell_type": "code",
   "execution_count": 111,
   "metadata": {},
   "outputs": [],
   "source": [
    "y_pred_labels = le.inverse_transform(y_pred)"
   ]
  },
  {
   "cell_type": "code",
   "execution_count": 112,
   "metadata": {},
   "outputs": [
    {
     "name": "stdout",
     "output_type": "stream",
     "text": [
      "              precision    recall  f1-score   support\n",
      "\n",
      "           0       0.98      0.54      0.70       371\n",
      "           1       0.33      0.78      0.46        37\n",
      "           2       0.40      0.91      0.56        92\n",
      "\n",
      "    accuracy                           0.63       500\n",
      "   macro avg       0.57      0.75      0.57       500\n",
      "weighted avg       0.83      0.63      0.65       500\n",
      "\n"
     ]
    }
   ],
   "source": [
    "print(classification_report(y_pred_labels, le.inverse_transform(y_test)))"
   ]
  },
  {
   "cell_type": "code",
   "execution_count": 113,
   "metadata": {},
   "outputs": [],
   "source": [
    "class WordSwapWordNetBahasa(WordSwap):\n",
    "    \"\"\"Transforms an input by replacing its words with synonyms provided by\n",
    "    WordNet.\n",
    "\n",
    "    >>> from textattack.transformations import WordSwapWordNet\n",
    "    >>> from textattack.augmentation import Augmenter\n",
    "\n",
    "    >>> transformation = WordSwapWordNet()\n",
    "    >>> augmenter = Augmenter(transformation=transformation)\n",
    "    >>> s = 'I am fabulous.'\n",
    "    >>> augmenter.augment(s)\n",
    "    \"\"\"\n",
    "\n",
    "    def __init__(self, language=\"ind\"):\n",
    "        nltk.download(\"omw-1.4\")\n",
    "        # if language not in wordnet.langs():\n",
    "        #     raise ValueError(f\"Language {language} not one of {wordnet.langs()}\")\n",
    "        self.language = language\n",
    "\n",
    "    def _get_replacement_words(self, word, random=False):\n",
    "        \"\"\"Returns a list containing all possible words with 1 character\n",
    "        replaced by a homoglyph.\"\"\"\n",
    "        synonyms = set()\n",
    "        for syn in wordnet.synsets(word, lang=self.language):\n",
    "            for syn_word in syn.lemma_names(lang=self.language):\n",
    "                if (\n",
    "                    (syn_word != word)\n",
    "                    and (\"_\" not in syn_word)\n",
    "                    and (textattack.shared.utils.is_one_word(syn_word))\n",
    "                ):\n",
    "                    # WordNet can suggest phrases that are joined by '_' but we ignore phrases.\n",
    "                    synonyms.add(syn_word)\n",
    "        return list(synonyms)\n"
   ]
  },
  {
   "cell_type": "code",
   "execution_count": 114,
   "metadata": {},
   "outputs": [],
   "source": [
    "class PWWSham2024INDO(AttackRecipe):\n",
    "    \n",
    "    @staticmethod\n",
    "    def build(model_wrapper):\n",
    "        transformation = WordSwapWordNetBahasa(language=\"ind\")\n",
    "        constraint = [RepeatModification(), StopwordModification(language='indonesian')]\n",
    "        goal_function = UntargetedClassification(model_wrapper)\n",
    "        search_method = GreedyWordSwapWIR(\"weighted-saliency\")\n",
    "        return Attack(goal_function, constraint, transformation, search_method)"
   ]
  },
  {
   "cell_type": "code",
   "execution_count": 115,
   "metadata": {},
   "outputs": [],
   "source": [
    "class KerasModelWrapper(ModelWrapper):\n",
    "    def __init__(self, model, tokenizer, max_len):\n",
    "        self.model = model\n",
    "        self.tokenizer = tokenizer\n",
    "        self.max_len = max_len\n",
    "\n",
    "    def __call__(self, text_list):\n",
    "        sequences = self.tokenizer.texts_to_sequences(text_list)\n",
    "        padded_sequences = pad_sequences(sequences, maxlen=self.max_len)\n",
    "        return self.model.predict(padded_sequences)\n"
   ]
  },
  {
   "cell_type": "code",
   "execution_count": 116,
   "metadata": {},
   "outputs": [],
   "source": [
    "custom_data = list(df_test[['text', 'label']].itertuples(index=False, name=None))"
   ]
  },
  {
   "cell_type": "code",
   "execution_count": 118,
   "metadata": {},
   "outputs": [],
   "source": [
    "model_wrapper = KerasModelWrapper(model=model2, tokenizer=tokenizer, max_len=max_len)"
   ]
  },
  {
   "cell_type": "code",
   "execution_count": 119,
   "metadata": {},
   "outputs": [
    {
     "name": "stderr",
     "output_type": "stream",
     "text": [
      "[nltk_data] Downloading package omw-1.4 to C:\\Users\\Ilham\n",
      "[nltk_data]     AM\\AppData\\Roaming\\nltk_data...\n",
      "[nltk_data]   Package omw-1.4 is already up-to-date!\n",
      "textattack: Unknown if model of class <class 'keras.src.engine.sequential.Sequential'> compatible with goal function <class 'textattack.goal_functions.classification.untargeted_classification.UntargetedClassification'>.\n",
      "textattack: Logging to CSV at path attack_results_tf.csv\n"
     ]
    },
    {
     "name": "stdout",
     "output_type": "stream",
     "text": [
      "Attack(\n",
      "  (search_method): GreedyWordSwapWIR(\n",
      "    (wir_method):  weighted-saliency\n",
      "  )\n",
      "  (goal_function):  UntargetedClassification\n",
      "  (transformation):  WordSwapWordNetBahasa\n",
      "  (constraints): \n",
      "    (0): RepeatModification\n",
      "    (1): StopwordModification\n",
      "  (is_black_box):  True\n",
      ") \n",
      "\n"
     ]
    },
    {
     "name": "stderr",
     "output_type": "stream",
     "text": [
      "  0%|          | 0/500 [00:00<?, ?it/s]"
     ]
    },
    {
     "name": "stdout",
     "output_type": "stream",
     "text": [
      "1/1 [==============================] - 0s 43ms/step\n",
      "1/1 [==============================] - 0s 74ms/step\n",
      "1/1 [==============================] - 0s 71ms/step\n",
      "1/1 [==============================] - 0s 76ms/step\n",
      "1/1 [==============================] - 0s 58ms/step\n",
      "1/1 [==============================] - 0s 58ms/step\n",
      "1/1 [==============================] - 0s 57ms/step\n",
      "1/1 [==============================] - 0s 59ms/step\n",
      "1/1 [==============================] - 0s 58ms/step\n",
      "1/1 [==============================] - 0s 58ms/step\n",
      "1/1 [==============================] - 0s 56ms/step\n",
      "1/1 [==============================] - 0s 56ms/step\n",
      "1/1 [==============================] - 0s 55ms/step\n",
      "1/1 [==============================] - 0s 56ms/step\n",
      "1/1 [==============================] - 0s 55ms/step\n",
      "1/1 [==============================] - 0s 88ms/step\n",
      "1/1 [==============================] - 0s 71ms/step\n",
      "1/1 [==============================] - 0s 75ms/step\n",
      "1/1 [==============================] - 0s 57ms/step\n",
      "1/1 [==============================] - 0s 75ms/step\n",
      "1/1 [==============================] - 0s 60ms/step\n",
      "1/1 [==============================] - 0s 72ms/step\n",
      "1/1 [==============================] - 0s 71ms/step\n",
      "1/1 [==============================] - 0s 71ms/step\n",
      "1/1 [==============================] - 0s 74ms/step\n",
      "1/1 [==============================] - 0s 72ms/step\n",
      "1/1 [==============================] - 0s 58ms/step\n",
      "1/1 [==============================] - 0s 74ms/step\n",
      "1/1 [==============================] - 0s 69ms/step\n",
      "1/1 [==============================] - 0s 57ms/step\n",
      "1/1 [==============================] - 0s 58ms/step\n",
      "1/1 [==============================] - 0s 56ms/step\n",
      "1/1 [==============================] - 0s 57ms/step\n",
      "1/1 [==============================] - 0s 57ms/step\n",
      "1/1 [==============================] - 0s 57ms/step\n",
      "1/1 [==============================] - 0s 57ms/step\n",
      "1/1 [==============================] - 0s 58ms/step\n",
      "1/1 [==============================] - 0s 61ms/step\n",
      "1/1 [==============================] - 0s 64ms/step\n",
      "1/1 [==============================] - 0s 68ms/step\n",
      "1/1 [==============================] - 0s 86ms/step\n",
      "1/1 [==============================] - 0s 81ms/step\n",
      "1/1 [==============================] - 0s 74ms/step\n",
      "1/1 [==============================] - 0s 59ms/step\n",
      "1/1 [==============================] - 0s 77ms/step\n"
     ]
    },
    {
     "name": "stderr",
     "output_type": "stream",
     "text": [
      "[Succeeded / Failed / Skipped / Total] 0 / 1 / 0 / 1:   0%|          | 1/500 [00:07<1:05:48,  7.91s/it]"
     ]
    },
    {
     "name": "stdout",
     "output_type": "stream",
     "text": [
      "--------------------------------------------- Result 1 ---------------------------------------------\n",
      "[[0 (40%)]] --> [[[FAILED]]]\n",
      "\n",
      "kemarin gue datang ke tempat makan baru yang ada di dago atas gue kira makanan nya enak karena harga nya mahal ternyata boro boro tidak mau lagi deh ke tempat itu sudah mana tempat nya juga tidak nyaman banget terlalu sempit \n",
      "\n",
      "\n",
      "1/1 [==============================] - 0s 50ms/step\n",
      "1/1 [==============================] - 0s 85ms/step\n",
      "1/1 [==============================] - 0s 64ms/step\n",
      "1/1 [==============================] - 0s 118ms/step\n",
      "1/1 [==============================] - 0s 60ms/step\n",
      "1/1 [==============================] - 0s 76ms/step\n",
      "1/1 [==============================] - 0s 76ms/step\n",
      "1/1 [==============================] - 0s 79ms/step\n",
      "1/1 [==============================] - 0s 58ms/step\n",
      "1/1 [==============================] - 0s 76ms/step\n",
      "1/1 [==============================] - 0s 81ms/step\n",
      "1/1 [==============================] - 0s 76ms/step\n",
      "1/1 [==============================] - 0s 85ms/step\n",
      "1/1 [==============================] - 0s 62ms/step\n",
      "1/1 [==============================] - 0s 74ms/step\n",
      "1/1 [==============================] - 0s 75ms/step\n",
      "1/1 [==============================] - 0s 61ms/step\n",
      "1/1 [==============================] - 0s 75ms/step\n",
      "1/1 [==============================] - 0s 79ms/step\n",
      "1/1 [==============================] - 0s 74ms/step\n",
      "1/1 [==============================] - 0s 73ms/step\n",
      "1/1 [==============================] - 0s 64ms/step\n",
      "1/1 [==============================] - 0s 76ms/step\n",
      "1/1 [==============================] - 0s 76ms/step\n",
      "1/1 [==============================] - 0s 61ms/step\n",
      "1/1 [==============================] - 0s 73ms/step\n",
      "1/1 [==============================] - 0s 76ms/step\n",
      "1/1 [==============================] - 0s 74ms/step\n"
     ]
    },
    {
     "name": "stderr",
     "output_type": "stream",
     "text": [
      "[Succeeded / Failed / Skipped / Total] 0 / 2 / 0 / 2:   0%|          | 2/500 [00:11<47:05,  5.67s/it]  "
     ]
    },
    {
     "name": "stdout",
     "output_type": "stream",
     "text": [
      "--------------------------------------------- Result 2 ---------------------------------------------\n",
      "[[0 (42%)]] --> [[[FAILED]]]\n",
      "\n",
      "kayak nya sih gue tidak akan mau balik lagi ke tempat itu gila ya gue enggak ngerti kenapa tempat nya dibiarkan panas sudah begitu kotor pula kalau panas kepanasan kalau hujan kehujanan harus nya sih tidak ada restoran yang kayak gitu tidak tahu deh apa yang mereka jual \n",
      "\n",
      "\n",
      "1/1 [==============================] - 0s 46ms/step\n",
      "1/1 [==============================] - 0s 82ms/step\n",
      "1/1 [==============================] - 0s 77ms/step\n",
      "1/1 [==============================] - 0s 76ms/step\n",
      "1/1 [==============================] - 0s 76ms/step\n",
      "1/1 [==============================] - 0s 76ms/step\n",
      "1/1 [==============================] - 0s 63ms/step\n",
      "1/1 [==============================] - 0s 75ms/step\n",
      "1/1 [==============================] - 0s 75ms/step\n",
      "1/1 [==============================] - 0s 77ms/step\n",
      "1/1 [==============================] - 0s 88ms/step\n",
      "1/1 [==============================] - 0s 70ms/step\n"
     ]
    },
    {
     "name": "stderr",
     "output_type": "stream",
     "text": [
      "[Succeeded / Failed / Skipped / Total] 0 / 3 / 0 / 3:   1%|          | 3/500 [00:12<35:19,  4.27s/it]"
     ]
    },
    {
     "name": "stdout",
     "output_type": "stream",
     "text": [
      "--------------------------------------------- Result 3 ---------------------------------------------\n",
      "[[0 (45%)]] --> [[[FAILED]]]\n",
      "\n",
      "kalau dipikir pikir sebenarnya tidak ada yang bisa dibanggakan dari jokowi pertama dia tidak bisa nepatin janji kedua kerjaan nya selalu pencitraan ketiga dia tidak pro rakyat sudahlah ku sudah terlanjur kecewa \n",
      "\n",
      "\n",
      "1/1 [==============================] - 0s 41ms/step\n",
      "1/1 [==============================] - 0s 74ms/step\n",
      "1/1 [==============================] - 0s 70ms/step\n",
      "1/1 [==============================] - 0s 71ms/step\n",
      "1/1 [==============================] - 0s 57ms/step\n",
      "1/1 [==============================] - 0s 56ms/step\n",
      "1/1 [==============================] - 0s 69ms/step\n",
      "1/1 [==============================] - 0s 72ms/step\n",
      "1/1 [==============================] - 0s 75ms/step\n",
      "1/1 [==============================] - 0s 56ms/step\n",
      "1/1 [==============================] - 0s 58ms/step\n",
      "1/1 [==============================] - 0s 70ms/step\n",
      "1/1 [==============================] - 0s 70ms/step\n",
      "1/1 [==============================] - 0s 67ms/step\n",
      "1/1 [==============================] - 0s 70ms/step\n",
      "1/1 [==============================] - 0s 55ms/step\n",
      "1/1 [==============================] - 0s 67ms/step\n",
      "1/1 [==============================] - 0s 68ms/step\n",
      "1/1 [==============================] - 0s 59ms/step\n",
      "1/1 [==============================] - 0s 67ms/step\n",
      "1/1 [==============================] - 0s 56ms/step\n",
      "1/1 [==============================] - 0s 57ms/step\n",
      "1/1 [==============================] - 0s 57ms/step\n",
      "1/1 [==============================] - 0s 70ms/step\n",
      "1/1 [==============================] - 0s 56ms/step\n",
      "1/1 [==============================] - 0s 58ms/step\n",
      "1/1 [==============================] - 0s 57ms/step\n",
      "1/1 [==============================] - 0s 70ms/step\n",
      "1/1 [==============================] - 0s 71ms/step\n",
      "1/1 [==============================] - 0s 57ms/step\n",
      "1/1 [==============================] - 0s 57ms/step\n",
      "1/1 [==============================] - 0s 69ms/step\n",
      "1/1 [==============================] - 0s 57ms/step\n",
      "1/1 [==============================] - 0s 58ms/step\n",
      "1/1 [==============================] - 0s 69ms/step\n",
      "1/1 [==============================] - 0s 93ms/step\n",
      "1/1 [==============================] - 0s 57ms/step\n",
      "1/1 [==============================] - 0s 58ms/step\n",
      "1/1 [==============================] - 0s 66ms/step\n",
      "1/1 [==============================] - 0s 66ms/step\n",
      "1/1 [==============================] - 0s 66ms/step\n",
      "1/1 [==============================] - 0s 68ms/step\n",
      "1/1 [==============================] - 0s 68ms/step\n",
      "1/1 [==============================] - 0s 67ms/step\n"
     ]
    },
    {
     "name": "stderr",
     "output_type": "stream",
     "text": [
      "[Succeeded / Failed / Skipped / Total] 0 / 4 / 0 / 4:   1%|          | 4/500 [00:17<36:20,  4.40s/it]"
     ]
    },
    {
     "name": "stdout",
     "output_type": "stream",
     "text": [
      "--------------------------------------------- Result 4 ---------------------------------------------\n",
      "[[0 (44%)]] --> [[[FAILED]]]\n",
      "\n",
      "ini pertama kalinya gua ke bank buat ngurusin pembuatan rekening baru nama nya juga orang pertama kali ya baru ke bank gua kena semprot kelihatan banget pelayanan pelanggan nya tidak suka gua banyak bertanya amit amit padahal itu kan tugas mereka buat melayangkan gua \n",
      "\n",
      "\n",
      "1/1 [==============================] - 0s 40ms/step\n",
      "1/1 [==============================] - 0s 75ms/step\n",
      "1/1 [==============================] - 0s 58ms/step\n",
      "1/1 [==============================] - 0s 57ms/step\n",
      "1/1 [==============================] - 0s 66ms/step\n",
      "1/1 [==============================] - 0s 75ms/step\n",
      "1/1 [==============================] - 0s 58ms/step\n",
      "1/1 [==============================] - 0s 59ms/step\n",
      "1/1 [==============================] - 0s 59ms/step\n",
      "1/1 [==============================] - 0s 58ms/step\n",
      "1/1 [==============================] - 0s 60ms/step\n",
      "1/1 [==============================] - 0s 93ms/step\n",
      "1/1 [==============================] - 0s 86ms/step\n",
      "1/1 [==============================] - 0s 53ms/step\n",
      "1/1 [==============================] - 0s 37ms/step\n",
      "1/1 [==============================] - 0s 63ms/step\n",
      "1/1 [==============================] - 0s 60ms/step\n",
      "1/1 [==============================] - 0s 71ms/step\n",
      "1/1 [==============================] - 0s 80ms/step\n",
      "1/1 [==============================] - 0s 77ms/step\n",
      "1/1 [==============================] - 0s 76ms/step\n",
      "1/1 [==============================] - 0s 71ms/step\n",
      "1/1 [==============================] - 0s 58ms/step\n",
      "1/1 [==============================] - 0s 58ms/step\n",
      "1/1 [==============================] - 0s 71ms/step\n",
      "1/1 [==============================] - 0s 75ms/step\n",
      "1/1 [==============================] - 0s 75ms/step\n",
      "1/1 [==============================] - 0s 74ms/step\n",
      "1/1 [==============================] - 0s 58ms/step\n",
      "1/1 [==============================] - 0s 60ms/step\n",
      "1/1 [==============================] - 0s 71ms/step\n",
      "1/1 [==============================] - 0s 80ms/step\n",
      "1/1 [==============================] - 0s 44ms/step\n",
      "1/1 [==============================] - 0s 67ms/step\n",
      "1/1 [==============================] - 0s 82ms/step\n",
      "1/1 [==============================] - 0s 69ms/step\n",
      "1/1 [==============================] - 0s 77ms/step\n",
      "1/1 [==============================] - 0s 89ms/step\n",
      "1/1 [==============================] - 0s 81ms/step\n",
      "1/1 [==============================] - 0s 40ms/step\n",
      "1/1 [==============================] - 0s 62ms/step\n",
      "1/1 [==============================] - 0s 57ms/step\n",
      "1/1 [==============================] - 0s 68ms/step\n",
      "1/1 [==============================] - 0s 103ms/step\n",
      "1/1 [==============================] - 0s 92ms/step\n"
     ]
    },
    {
     "name": "stderr",
     "output_type": "stream",
     "text": [
      "[Succeeded / Failed / Skipped / Total] 0 / 4 / 0 / 4:   1%|          | 5/500 [00:22<37:47,  4.58s/it]"
     ]
    },
    {
     "name": "stdout",
     "output_type": "stream",
     "text": [
      "--------------------------------------------- Result 5 ---------------------------------------------\n",
      "[[0 (43%)]] --> [[[FAILED]]]\n",
      "\n",
      "waktu sampai dengan gue pernah disuruh ibu latihan karate kata nya biar gue bisa melawan penjahat kalau ada laki laki iseng tapi di hari pertama latihan kaki gue langsung cedera jadilah sekarang trauma dan tidak mau sekali sekali buat latihan karate lagi \n",
      "\n",
      "\n"
     ]
    },
    {
     "name": "stderr",
     "output_type": "stream",
     "text": [
      "[Succeeded / Failed / Skipped / Total] 0 / 5 / 0 / 5:   1%|          | 5/500 [00:22<37:48,  4.58s/it]"
     ]
    },
    {
     "name": "stdout",
     "output_type": "stream",
     "text": [
      "1/1 [==============================] - 0s 49ms/step\n",
      "1/1 [==============================] - 0s 74ms/step\n",
      "1/1 [==============================] - 0s 72ms/step\n",
      "1/1 [==============================] - 0s 77ms/step\n",
      "1/1 [==============================] - 0s 91ms/step\n",
      "1/1 [==============================] - 0s 87ms/step\n",
      "1/1 [==============================] - 0s 87ms/step\n",
      "1/1 [==============================] - 0s 61ms/step\n",
      "1/1 [==============================] - 0s 57ms/step\n",
      "1/1 [==============================] - 0s 74ms/step\n",
      "1/1 [==============================] - 0s 35ms/step\n",
      "1/1 [==============================] - 0s 70ms/step\n",
      "1/1 [==============================] - 0s 69ms/step\n",
      "1/1 [==============================] - 0s 72ms/step\n",
      "1/1 [==============================] - 0s 58ms/step\n",
      "1/1 [==============================] - 0s 73ms/step\n",
      "1/1 [==============================] - 0s 58ms/step\n",
      "1/1 [==============================] - 0s 67ms/step\n",
      "1/1 [==============================] - 0s 57ms/step\n",
      "1/1 [==============================] - 0s 70ms/step\n",
      "1/1 [==============================] - 0s 71ms/step\n",
      "1/1 [==============================] - 0s 58ms/step\n",
      "1/1 [==============================] - 0s 57ms/step\n",
      "1/1 [==============================] - 0s 56ms/step\n",
      "1/1 [==============================] - 0s 59ms/step\n",
      "1/1 [==============================] - 0s 71ms/step\n",
      "1/1 [==============================] - 0s 67ms/step\n",
      "1/1 [==============================] - 0s 65ms/step\n",
      "1/1 [==============================] - 0s 68ms/step\n",
      "1/1 [==============================] - 0s 66ms/step\n",
      "1/1 [==============================] - 0s 68ms/step\n",
      "1/1 [==============================] - 0s 38ms/step\n"
     ]
    },
    {
     "name": "stderr",
     "output_type": "stream",
     "text": [
      "[Succeeded / Failed / Skipped / Total] 0 / 6 / 0 / 6:   1%|          | 6/500 [00:26<36:23,  4.42s/it]"
     ]
    },
    {
     "name": "stdout",
     "output_type": "stream",
     "text": [
      "--------------------------------------------- Result 6 ---------------------------------------------\n",
      "[[0 (44%)]] --> [[[FAILED]]]\n",
      "\n",
      "pelayanan di hotel salak bogor tidak sebagus yang gue membayangkan fasilitas nya juga biasa banget padahal kata nya hotel bintang lima hm kecewa kayak nya sih nanti nanti tidak mau ke sana lagi \n",
      "\n",
      "\n",
      "1/1 [==============================] - 0s 38ms/step\n",
      "1/1 [==============================] - 0s 69ms/step\n",
      "1/1 [==============================] - 0s 66ms/step\n",
      "1/1 [==============================] - 0s 59ms/step\n",
      "1/1 [==============================] - 0s 57ms/step\n",
      "1/1 [==============================] - 0s 71ms/step\n",
      "1/1 [==============================] - 0s 71ms/step\n",
      "1/1 [==============================] - 0s 56ms/step\n",
      "1/1 [==============================] - 0s 73ms/step\n",
      "1/1 [==============================] - 0s 72ms/step\n",
      "1/1 [==============================] - 0s 70ms/step\n",
      "1/1 [==============================] - 0s 68ms/step\n",
      "1/1 [==============================] - 0s 73ms/step\n",
      "1/1 [==============================] - 0s 57ms/step\n",
      "1/1 [==============================] - 0s 67ms/step\n",
      "1/1 [==============================] - 0s 71ms/step\n",
      "1/1 [==============================] - 0s 72ms/step\n",
      "1/1 [==============================] - 0s 71ms/step\n",
      "1/1 [==============================] - 0s 69ms/step\n",
      "1/1 [==============================] - 0s 56ms/step\n",
      "1/1 [==============================] - 0s 57ms/step\n",
      "1/1 [==============================] - 0s 70ms/step\n",
      "1/1 [==============================] - 0s 79ms/step\n"
     ]
    },
    {
     "name": "stderr",
     "output_type": "stream",
     "text": [
      "[Succeeded / Failed / Skipped / Total] 0 / 7 / 0 / 7:   1%|▏         | 7/500 [00:29<34:04,  4.15s/it]"
     ]
    },
    {
     "name": "stdout",
     "output_type": "stream",
     "text": [
      "--------------------------------------------- Result 7 ---------------------------------------------\n",
      "[[0 (45%)]] --> [[[FAILED]]]\n",
      "\n",
      "ada apa dengan young lex kenapa dia harus mengirim hal hal tidak berfaedah kayak gitu merusak moral banget sumpah \n",
      "\n",
      "\n",
      "1/1 [==============================] - 0s 57ms/step\n",
      "1/1 [==============================] - 0s 99ms/step\n",
      "1/1 [==============================] - 0s 83ms/step\n",
      "1/1 [==============================] - 0s 68ms/step\n",
      "1/1 [==============================] - 0s 85ms/step\n",
      "1/1 [==============================] - 0s 77ms/step\n",
      "1/1 [==============================] - 0s 88ms/step\n",
      "1/1 [==============================] - 0s 73ms/step\n",
      "1/1 [==============================] - 0s 69ms/step\n",
      "1/1 [==============================] - 0s 69ms/step\n",
      "1/1 [==============================] - 0s 71ms/step\n",
      "1/1 [==============================] - 0s 68ms/step\n",
      "1/1 [==============================] - 0s 69ms/step\n",
      "1/1 [==============================] - 0s 72ms/step\n",
      "1/1 [==============================] - 0s 75ms/step\n",
      "1/1 [==============================] - 0s 59ms/step\n",
      "1/1 [==============================] - 0s 68ms/step\n",
      "1/1 [==============================] - 0s 71ms/step\n",
      "1/1 [==============================] - 0s 68ms/step\n",
      "1/1 [==============================] - 0s 69ms/step\n",
      "1/1 [==============================] - 0s 62ms/step\n",
      "1/1 [==============================] - 0s 65ms/step\n",
      "1/1 [==============================] - 0s 72ms/step\n",
      "1/1 [==============================] - 0s 68ms/step\n",
      "1/1 [==============================] - 0s 65ms/step\n",
      "1/1 [==============================] - 0s 72ms/step\n",
      "1/1 [==============================] - 0s 57ms/step\n",
      "1/1 [==============================] - 0s 59ms/step\n",
      "1/1 [==============================] - 0s 67ms/step\n",
      "1/1 [==============================] - 0s 67ms/step\n",
      "1/1 [==============================] - 0s 67ms/step\n",
      "1/1 [==============================] - 0s 66ms/step\n",
      "1/1 [==============================] - 0s 57ms/step\n",
      "1/1 [==============================] - 0s 57ms/step\n",
      "1/1 [==============================] - 0s 65ms/step\n",
      "1/1 [==============================] - 0s 66ms/step\n",
      "1/1 [==============================] - 0s 63ms/step\n",
      "1/1 [==============================] - 0s 62ms/step\n",
      "1/1 [==============================] - 0s 70ms/step\n",
      "1/1 [==============================] - 0s 67ms/step\n"
     ]
    },
    {
     "name": "stderr",
     "output_type": "stream",
     "text": [
      "[Succeeded / Failed / Skipped / Total] 0 / 8 / 0 / 8:   2%|▏         | 8/500 [00:33<34:37,  4.22s/it]"
     ]
    },
    {
     "name": "stdout",
     "output_type": "stream",
     "text": [
      "--------------------------------------------- Result 8 ---------------------------------------------\n",
      "[[0 (44%)]] --> [[[FAILED]]]\n",
      "\n",
      "gue pesimis sama manusia terutama dalam ngurusin sampah sudah berapa banyak hewan hewan laut jadi korban gara gara kita buang sampah ke laut tidak tega gue liat nya kadang tidak mengerti juga sebenarnya pemimpin pemimpin yang ada itu pada mikirin enggak sih urusan penting kayak gini he \n",
      "\n",
      "\n",
      "1/1 [==============================] - 0s 44ms/step\n",
      "1/1 [==============================] - 0s 69ms/step\n",
      "1/1 [==============================] - 0s 56ms/step\n",
      "1/1 [==============================] - 0s 62ms/step\n",
      "1/1 [==============================] - 0s 62ms/step\n",
      "1/1 [==============================] - 0s 62ms/step\n",
      "1/1 [==============================] - 0s 55ms/step\n",
      "1/1 [==============================] - 0s 63ms/step\n",
      "1/1 [==============================] - 0s 62ms/step\n",
      "1/1 [==============================] - 0s 63ms/step\n",
      "1/1 [==============================] - 0s 64ms/step\n",
      "1/1 [==============================] - 0s 69ms/step\n",
      "1/1 [==============================] - 0s 72ms/step\n",
      "1/1 [==============================] - 0s 68ms/step\n",
      "1/1 [==============================] - 0s 62ms/step\n",
      "1/1 [==============================] - 0s 65ms/step\n",
      "1/1 [==============================] - 0s 63ms/step\n",
      "1/1 [==============================] - 0s 53ms/step\n",
      "1/1 [==============================] - 0s 65ms/step\n",
      "1/1 [==============================] - 0s 55ms/step\n",
      "1/1 [==============================] - 0s 63ms/step\n",
      "1/1 [==============================] - 0s 66ms/step\n",
      "1/1 [==============================] - 0s 62ms/step\n",
      "1/1 [==============================] - 0s 66ms/step\n",
      "1/1 [==============================] - 0s 61ms/step\n"
     ]
    },
    {
     "name": "stderr",
     "output_type": "stream",
     "text": [
      "[Succeeded / Failed / Skipped / Total] 0 / 9 / 0 / 9:   2%|▏         | 9/500 [00:36<33:09,  4.05s/it]"
     ]
    },
    {
     "name": "stdout",
     "output_type": "stream",
     "text": [
      "--------------------------------------------- Result 9 ---------------------------------------------\n",
      "[[0 (40%)]] --> [[[FAILED]]]\n",
      "\n",
      "saya kecewa karena pengeditan biodata penumpang dilakukan by sistem tanpa konfirmasi dan solusi permasalahan nya pun dianggap sepele karena dibiarkan begitu saja sedang pelayanan pelanggan yang sudah berkali berkali dihubungi pun hanya seperti mengulur waktu sampai detik ini belum ada solusi untuk masalah saya yang kesalahan nya sendiri bukan dari pihak saya \n",
      "\n",
      "\n",
      "1/1 [==============================] - 0s 41ms/step\n",
      "1/1 [==============================] - 0s 67ms/step\n",
      "1/1 [==============================] - 0s 62ms/step\n",
      "1/1 [==============================] - 0s 61ms/step\n",
      "1/1 [==============================] - 0s 58ms/step\n",
      "1/1 [==============================] - 0s 64ms/step\n",
      "1/1 [==============================] - 0s 62ms/step\n",
      "1/1 [==============================] - 0s 63ms/step\n",
      "1/1 [==============================] - 0s 58ms/step\n",
      "1/1 [==============================] - 0s 56ms/step\n",
      "1/1 [==============================] - 0s 62ms/step\n",
      "1/1 [==============================] - 0s 35ms/step\n",
      "1/1 [==============================] - 0s 59ms/step\n",
      "1/1 [==============================] - 0s 71ms/step\n",
      "1/1 [==============================] - 0s 59ms/step\n",
      "1/1 [==============================] - 0s 65ms/step\n",
      "1/1 [==============================] - 0s 62ms/step\n",
      "1/1 [==============================] - 0s 56ms/step\n",
      "1/1 [==============================] - 0s 62ms/step\n",
      "1/1 [==============================] - 0s 69ms/step\n",
      "1/1 [==============================] - 0s 60ms/step\n",
      "1/1 [==============================] - 0s 57ms/step\n",
      "1/1 [==============================] - 0s 57ms/step\n",
      "1/1 [==============================] - 0s 60ms/step\n",
      "1/1 [==============================] - 0s 59ms/step\n",
      "1/1 [==============================] - 0s 54ms/step\n",
      "1/1 [==============================] - 0s 64ms/step\n",
      "1/1 [==============================] - 0s 58ms/step\n",
      "1/1 [==============================] - 0s 41ms/step\n"
     ]
    },
    {
     "name": "stderr",
     "output_type": "stream",
     "text": [
      "[Succeeded / Failed / Skipped / Total] 0 / 10 / 0 / 10:   2%|▏         | 10/500 [00:39<32:12,  3.94s/it]"
     ]
    },
    {
     "name": "stdout",
     "output_type": "stream",
     "text": [
      "--------------------------------------------- Result 10 ---------------------------------------------\n",
      "[[0 (42%)]] --> [[[FAILED]]]\n",
      "\n",
      "saya hari ini melakukan pemesanan dan tiket saya tidak kunjung saya terima padahal saya sudah menelpon pelayanan pelanggan sudah mengirimkan email dengan bukti transfer tapi respon nya sangat lambat dan tidak jelas \n",
      "\n",
      "\n",
      "1/1 [==============================] - 0s 35ms/step\n",
      "1/1 [==============================] - 0s 71ms/step\n",
      "1/1 [==============================] - 0s 64ms/step\n",
      "1/1 [==============================] - 0s 64ms/step\n",
      "1/1 [==============================] - 0s 54ms/step\n",
      "1/1 [==============================] - 0s 56ms/step\n",
      "1/1 [==============================] - 0s 60ms/step\n",
      "1/1 [==============================] - 0s 77ms/step\n",
      "1/1 [==============================] - 0s 58ms/step\n",
      "1/1 [==============================] - 0s 53ms/step\n",
      "1/1 [==============================] - 0s 63ms/step\n",
      "1/1 [==============================] - 0s 61ms/step\n",
      "1/1 [==============================] - 0s 62ms/step\n",
      "1/1 [==============================] - 0s 62ms/step\n",
      "1/1 [==============================] - 0s 61ms/step\n",
      "1/1 [==============================] - 0s 61ms/step\n",
      "1/1 [==============================] - 0s 60ms/step\n",
      "1/1 [==============================] - 0s 54ms/step\n",
      "1/1 [==============================] - 0s 52ms/step\n",
      "1/1 [==============================] - 0s 60ms/step\n",
      "1/1 [==============================] - 0s 58ms/step\n",
      "1/1 [==============================] - 0s 58ms/step\n",
      "1/1 [==============================] - 0s 62ms/step\n",
      "1/1 [==============================] - 0s 59ms/step\n",
      "1/1 [==============================] - 0s 53ms/step\n",
      "1/1 [==============================] - 0s 66ms/step\n",
      "1/1 [==============================] - 0s 59ms/step\n",
      "1/1 [==============================] - 0s 60ms/step\n",
      "1/1 [==============================] - 0s 62ms/step\n",
      "1/1 [==============================] - 0s 63ms/step\n",
      "1/1 [==============================] - 0s 52ms/step\n",
      "1/1 [==============================] - 0s 54ms/step\n",
      "1/1 [==============================] - 0s 60ms/step\n",
      "1/1 [==============================] - 0s 57ms/step\n",
      "1/1 [==============================] - 0s 60ms/step\n",
      "1/1 [==============================] - 0s 59ms/step\n",
      "1/1 [==============================] - 0s 59ms/step\n",
      "1/1 [==============================] - 0s 54ms/step\n",
      "1/1 [==============================] - 0s 59ms/step\n",
      "1/1 [==============================] - 0s 59ms/step\n",
      "1/1 [==============================] - 0s 54ms/step\n",
      "1/1 [==============================] - 0s 53ms/step\n",
      "1/1 [==============================] - 0s 54ms/step\n",
      "1/1 [==============================] - 0s 63ms/step\n",
      "1/1 [==============================] - 0s 59ms/step\n",
      "1/1 [==============================] - 0s 57ms/step\n",
      "1/1 [==============================] - 0s 62ms/step\n",
      "1/1 [==============================] - 0s 59ms/step\n",
      "1/1 [==============================] - 0s 54ms/step\n",
      "1/1 [==============================] - 0s 63ms/step\n",
      "1/1 [==============================] - 0s 58ms/step\n",
      "1/1 [==============================] - 0s 57ms/step\n",
      "1/1 [==============================] - 0s 58ms/step\n"
     ]
    },
    {
     "name": "stderr",
     "output_type": "stream",
     "text": [
      "[Succeeded / Failed / Skipped / Total] 0 / 11 / 0 / 11:   2%|▏         | 11/500 [00:44<33:14,  4.08s/it]"
     ]
    },
    {
     "name": "stdout",
     "output_type": "stream",
     "text": [
      "--------------------------------------------- Result 11 ---------------------------------------------\n",
      "[[0 (38%)]] --> [[[FAILED]]]\n",
      "\n",
      "sangat merugikan saya sudah memesan dan membayar tetapi e tiket tidak ada juga padahal bukti pembayaran sudah jelas sudah menelepon pelayanan pelanggan berkali kali dan tidak ada solusi nya pulsa sudah habis ratusan ribu saya meminta kembalikan uang juga sangat lama proses nya sangat merugikan pengguna banyak kerugian uang transport waktu penginapan dll \n",
      "\n",
      "\n",
      "1/1 [==============================] - 0s 37ms/step\n",
      "1/1 [==============================] - 0s 63ms/step\n",
      "1/1 [==============================] - 0s 61ms/step\n",
      "1/1 [==============================] - 0s 60ms/step\n",
      "1/1 [==============================] - 0s 47ms/step\n",
      "1/1 [==============================] - 0s 65ms/step\n",
      "1/1 [==============================] - 0s 54ms/step\n",
      "1/1 [==============================] - 0s 60ms/step\n",
      "1/1 [==============================] - 0s 60ms/step\n",
      "1/1 [==============================] - 0s 59ms/step\n",
      "1/1 [==============================] - 0s 34ms/step\n",
      "1/1 [==============================] - 0s 59ms/step\n",
      "1/1 [==============================] - 0s 61ms/step\n",
      "1/1 [==============================] - 0s 58ms/step\n",
      "1/1 [==============================] - 0s 63ms/step\n",
      "1/1 [==============================] - 0s 60ms/step\n",
      "1/1 [==============================] - 0s 59ms/step\n",
      "1/1 [==============================] - 0s 57ms/step\n",
      "1/1 [==============================] - 0s 54ms/step\n",
      "1/1 [==============================] - 0s 60ms/step\n",
      "1/1 [==============================] - 0s 53ms/step\n",
      "1/1 [==============================] - 0s 62ms/step\n",
      "1/1 [==============================] - 0s 60ms/step\n",
      "1/1 [==============================] - 0s 59ms/step\n",
      "1/1 [==============================] - 0s 52ms/step\n",
      "1/1 [==============================] - 0s 52ms/step\n",
      "1/1 [==============================] - 0s 61ms/step\n",
      "1/1 [==============================] - 0s 61ms/step\n",
      "1/1 [==============================] - 0s 53ms/step\n",
      "1/1 [==============================] - 0s 53ms/step\n",
      "1/1 [==============================] - 0s 61ms/step\n",
      "1/1 [==============================] - 0s 57ms/step\n",
      "1/1 [==============================] - 0s 59ms/step\n",
      "1/1 [==============================] - 0s 53ms/step\n",
      "1/1 [==============================] - 0s 64ms/step\n",
      "1/1 [==============================] - 0s 62ms/step\n",
      "1/1 [==============================] - 0s 56ms/step\n",
      "1/1 [==============================] - 0s 58ms/step\n",
      "1/1 [==============================] - 0s 58ms/step\n",
      "1/1 [==============================] - 0s 59ms/step\n",
      "1/1 [==============================] - 0s 61ms/step\n",
      "1/1 [==============================] - 0s 59ms/step\n",
      "1/1 [==============================] - 0s 61ms/step\n",
      "1/1 [==============================] - 0s 57ms/step\n",
      "1/1 [==============================] - 0s 69ms/step\n",
      "1/1 [==============================] - 0s 58ms/step\n",
      "1/1 [==============================] - 0s 34ms/step\n",
      "1/1 [==============================] - 0s 37ms/step\n",
      "1/1 [==============================] - 0s 60ms/step\n",
      "1/1 [==============================] - 0s 55ms/step\n",
      "1/1 [==============================] - 0s 61ms/step\n"
     ]
    },
    {
     "name": "stderr",
     "output_type": "stream",
     "text": [
      "[Succeeded / Failed / Skipped / Total] 0 / 12 / 0 / 12:   2%|▏         | 12/500 [00:49<33:52,  4.17s/it]"
     ]
    },
    {
     "name": "stdout",
     "output_type": "stream",
     "text": [
      "--------------------------------------------- Result 12 ---------------------------------------------\n",
      "[[0 (41%)]] --> [[[FAILED]]]\n",
      "\n",
      "saya itu memesan tiket dot com sudah dibayar email belum ada balasan bukti pembayaran sudah saya kirim by email saya masukkan data balasan nya pemesanan kadaluarsa terus akhirnya saya beli lagi langsung ke loket saya minta uang kembali masih menunggu hari ambil saja uang tiket nya tidak apa apa sedih saya download aplikasi ini \n",
      "\n",
      "\n",
      "1/1 [==============================] - 0s 35ms/step\n",
      "1/1 [==============================] - 0s 62ms/step\n",
      "1/1 [==============================] - 0s 59ms/step\n",
      "1/1 [==============================] - 0s 53ms/step\n",
      "1/1 [==============================] - 0s 60ms/step\n",
      "1/1 [==============================] - 0s 58ms/step\n",
      "1/1 [==============================] - 0s 52ms/step\n",
      "1/1 [==============================] - 0s 52ms/step\n",
      "1/1 [==============================] - 0s 67ms/step\n",
      "1/1 [==============================] - 0s 56ms/step\n",
      "1/1 [==============================] - 0s 58ms/step\n",
      "1/1 [==============================] - 0s 60ms/step\n",
      "1/1 [==============================] - 0s 34ms/step\n",
      "1/1 [==============================] - 0s 33ms/step\n",
      "1/1 [==============================] - 0s 40ms/step\n",
      "1/1 [==============================] - 0s 60ms/step\n",
      "1/1 [==============================] - 0s 53ms/step\n",
      "1/1 [==============================] - 0s 53ms/step\n",
      "1/1 [==============================] - 0s 63ms/step\n",
      "1/1 [==============================] - 0s 57ms/step\n",
      "1/1 [==============================] - 0s 59ms/step\n",
      "1/1 [==============================] - 0s 58ms/step\n",
      "1/1 [==============================] - 0s 33ms/step\n"
     ]
    },
    {
     "name": "stderr",
     "output_type": "stream",
     "text": [
      "[Succeeded / Failed / Skipped / Total] 0 / 13 / 0 / 13:   3%|▎         | 13/500 [00:52<32:34,  4.01s/it]"
     ]
    },
    {
     "name": "stdout",
     "output_type": "stream",
     "text": [
      "--------------------------------------------- Result 13 ---------------------------------------------\n",
      "[[0 (41%)]] --> [[[FAILED]]]\n",
      "\n",
      "saya sudah bayar tetapi etiket tidak dikirim malah kadaluwarsa diminta struk pembayaran saya sudah tidak punya hanya sms banking tetapi tetap saja tidak digubris dari pelayanan pelanggan nya sudah email dan telepon berkali berkali tetap tidak ada hasil sangat mengecewakan \n",
      "\n",
      "\n",
      "1/1 [==============================] - 0s 58ms/step\n",
      "1/1 [==============================] - 0s 64ms/step\n",
      "1/1 [==============================] - 0s 57ms/step\n",
      "1/1 [==============================] - 0s 59ms/step\n",
      "1/1 [==============================] - 0s 59ms/step\n",
      "1/1 [==============================] - 0s 63ms/step\n",
      "1/1 [==============================] - 0s 60ms/step\n",
      "1/1 [==============================] - 0s 56ms/step\n",
      "1/1 [==============================] - 0s 61ms/step\n",
      "1/1 [==============================] - 0s 58ms/step\n",
      "1/1 [==============================] - 0s 52ms/step\n",
      "1/1 [==============================] - 0s 56ms/step\n",
      "1/1 [==============================] - 0s 53ms/step\n",
      "1/1 [==============================] - 0s 52ms/step\n",
      "1/1 [==============================] - 0s 61ms/step\n",
      "1/1 [==============================] - 0s 53ms/step\n",
      "1/1 [==============================] - 0s 55ms/step\n",
      "1/1 [==============================] - 0s 54ms/step\n",
      "1/1 [==============================] - 0s 53ms/step\n",
      "1/1 [==============================] - 0s 61ms/step\n",
      "1/1 [==============================] - 0s 57ms/step\n",
      "1/1 [==============================] - 0s 58ms/step\n",
      "1/1 [==============================] - 0s 56ms/step\n",
      "1/1 [==============================] - 0s 61ms/step\n",
      "1/1 [==============================] - 0s 59ms/step\n",
      "1/1 [==============================] - 0s 57ms/step\n"
     ]
    },
    {
     "name": "stderr",
     "output_type": "stream",
     "text": [
      "[Succeeded / Failed / Skipped / Total] 0 / 14 / 0 / 14:   3%|▎         | 14/500 [00:54<31:41,  3.91s/it]"
     ]
    },
    {
     "name": "stdout",
     "output_type": "stream",
     "text": [
      "--------------------------------------------- Result 14 ---------------------------------------------\n",
      "[[0 (38%)]] --> [[[FAILED]]]\n",
      "\n",
      "saya mesan tiket tapi tidak dikonformasi dan proses pengembalian uang yang tidak jelas dan belum ada sampai sekarang pelayanan nya yang sangat buruk dan saran saya jangan pesan di sini sangat mengecewakan \n",
      "\n",
      "\n",
      "1/1 [==============================] - 0s 37ms/step\n",
      "1/1 [==============================] - 0s 64ms/step\n",
      "1/1 [==============================] - 0s 55ms/step\n",
      "1/1 [==============================] - 0s 58ms/step\n",
      "1/1 [==============================] - 0s 57ms/step\n",
      "1/1 [==============================] - 0s 61ms/step\n",
      "1/1 [==============================] - 0s 34ms/step\n",
      "1/1 [==============================] - 0s 58ms/step\n",
      "1/1 [==============================] - 0s 69ms/step\n",
      "1/1 [==============================] - 0s 53ms/step\n",
      "1/1 [==============================] - 0s 59ms/step\n",
      "1/1 [==============================] - 0s 59ms/step\n",
      "1/1 [==============================] - 0s 58ms/step\n",
      "1/1 [==============================] - 0s 54ms/step\n",
      "1/1 [==============================] - 0s 58ms/step\n",
      "1/1 [==============================] - 0s 60ms/step\n",
      "1/1 [==============================] - 0s 52ms/step\n",
      "1/1 [==============================] - 0s 58ms/step\n",
      "1/1 [==============================] - 0s 53ms/step\n",
      "1/1 [==============================] - 0s 57ms/step\n"
     ]
    },
    {
     "name": "stderr",
     "output_type": "stream",
     "text": [
      "[Succeeded / Failed / Skipped / Total] 1 / 14 / 0 / 15:   3%|▎         | 15/500 [00:56<30:34,  3.78s/it]"
     ]
    },
    {
     "name": "stdout",
     "output_type": "stream",
     "text": [
      "--------------------------------------------- Result 15 ---------------------------------------------\n",
      "[[0 (36%)]] --> [[1 (34%)]]\n",
      "\n",
      "sangat [[kecewa]] dengan aplikasi ini sudah ditransfer tetapi etiket tidak dikirim saya coba telepon call centre seharian tetapi [[sibuk]] terus call genre nya [[mending]] pakai traveloka adalah untuk pesanan selanjutnya \n",
      "\n",
      "sangat [[tewas]] dengan aplikasi ini sudah ditransfer tetapi etiket tidak dikirim saya coba telepon call centre seharian tetapi [[aksi]] terus call genre nya [[lurus]] pakai traveloka adalah untuk pesanan selanjutnya \n",
      "\n",
      "\n",
      "1/1 [==============================] - 0s 34ms/step\n",
      "1/1 [==============================] - 0s 60ms/step\n",
      "1/1 [==============================] - 0s 58ms/step\n",
      "1/1 [==============================] - 0s 53ms/step\n",
      "1/1 [==============================] - 0s 56ms/step\n",
      "1/1 [==============================] - 0s 53ms/step\n",
      "1/1 [==============================] - 0s 60ms/step\n",
      "1/1 [==============================] - 0s 57ms/step\n",
      "1/1 [==============================] - 0s 59ms/step\n",
      "1/1 [==============================] - 0s 58ms/step\n",
      "1/1 [==============================] - 0s 56ms/step\n",
      "1/1 [==============================] - 0s 61ms/step\n",
      "1/1 [==============================] - 0s 55ms/step\n",
      "1/1 [==============================] - 0s 54ms/step\n",
      "1/1 [==============================] - 0s 61ms/step\n",
      "1/1 [==============================] - 0s 58ms/step\n",
      "1/1 [==============================] - 0s 56ms/step\n",
      "1/1 [==============================] - 0s 61ms/step\n",
      "1/1 [==============================] - 0s 59ms/step\n",
      "1/1 [==============================] - 0s 53ms/step\n",
      "1/1 [==============================] - 0s 54ms/step\n",
      "1/1 [==============================] - 0s 60ms/step\n",
      "1/1 [==============================] - 0s 56ms/step\n",
      "1/1 [==============================] - 0s 65ms/step\n",
      "1/1 [==============================] - 0s 57ms/step\n",
      "1/1 [==============================] - 0s 59ms/step\n",
      "1/1 [==============================] - 0s 61ms/step\n",
      "1/1 [==============================] - 0s 58ms/step\n",
      "1/1 [==============================] - 0s 55ms/step\n",
      "1/1 [==============================] - 0s 53ms/step\n",
      "1/1 [==============================] - 0s 59ms/step\n"
     ]
    },
    {
     "name": "stderr",
     "output_type": "stream",
     "text": [
      "[Succeeded / Failed / Skipped / Total] 1 / 15 / 0 / 16:   3%|▎         | 16/500 [00:59<30:07,  3.74s/it]"
     ]
    },
    {
     "name": "stdout",
     "output_type": "stream",
     "text": [
      "--------------------------------------------- Result 16 ---------------------------------------------\n",
      "[[0 (38%)]] --> [[[FAILED]]]\n",
      "\n",
      "melihat komen nya negatif jadi pikir pikir buat mencari tiket kereta di sini mending aplikasi yang lain saja yang sudah terbukti bagus bertahun bertahun \n",
      "\n",
      "\n",
      "1/1 [==============================] - 0s 43ms/step\n",
      "1/1 [==============================] - 0s 63ms/step\n",
      "1/1 [==============================] - 0s 56ms/step\n",
      "1/1 [==============================] - 0s 57ms/step\n",
      "1/1 [==============================] - 0s 55ms/step\n",
      "1/1 [==============================] - 0s 59ms/step\n",
      "1/1 [==============================] - 0s 34ms/step\n",
      "1/1 [==============================] - 0s 61ms/step\n",
      "1/1 [==============================] - 0s 56ms/step\n",
      "1/1 [==============================] - 0s 64ms/step\n",
      "1/1 [==============================] - 0s 53ms/step\n",
      "1/1 [==============================] - 0s 55ms/step\n",
      "1/1 [==============================] - 0s 54ms/step\n",
      "1/1 [==============================] - 0s 53ms/step\n",
      "1/1 [==============================] - 0s 52ms/step\n",
      "1/1 [==============================] - 0s 55ms/step\n",
      "1/1 [==============================] - 0s 54ms/step\n",
      "1/1 [==============================] - 0s 55ms/step\n",
      "1/1 [==============================] - 0s 56ms/step\n",
      "1/1 [==============================] - 0s 57ms/step\n",
      "1/1 [==============================] - 0s 57ms/step\n",
      "1/1 [==============================] - 0s 41ms/step\n",
      "1/1 [==============================] - 0s 60ms/step\n",
      "1/1 [==============================] - 0s 56ms/step\n",
      "1/1 [==============================] - 0s 57ms/step\n",
      "1/1 [==============================] - 0s 70ms/step\n",
      "1/1 [==============================] - 0s 53ms/step\n",
      "1/1 [==============================] - 0s 56ms/step\n",
      "1/1 [==============================] - 0s 52ms/step\n",
      "1/1 [==============================] - 0s 54ms/step\n",
      "1/1 [==============================] - 0s 54ms/step\n",
      "1/1 [==============================] - 0s 53ms/step\n",
      "1/1 [==============================] - 0s 54ms/step\n",
      "1/1 [==============================] - 0s 58ms/step\n",
      "1/1 [==============================] - 0s 55ms/step\n",
      "1/1 [==============================] - 0s 55ms/step\n",
      "1/1 [==============================] - 0s 54ms/step\n",
      "1/1 [==============================] - 0s 54ms/step\n",
      "1/1 [==============================] - 0s 54ms/step\n",
      "1/1 [==============================] - 0s 65ms/step\n",
      "1/1 [==============================] - 0s 58ms/step\n",
      "1/1 [==============================] - 0s 34ms/step\n",
      "1/1 [==============================] - 0s 35ms/step\n"
     ]
    },
    {
     "name": "stderr",
     "output_type": "stream",
     "text": [
      "[Succeeded / Failed / Skipped / Total] 1 / 16 / 0 / 17:   3%|▎         | 17/500 [01:03<30:15,  3.76s/it]"
     ]
    },
    {
     "name": "stdout",
     "output_type": "stream",
     "text": [
      "--------------------------------------------- Result 17 ---------------------------------------------\n",
      "[[0 (42%)]] --> [[[FAILED]]]\n",
      "\n",
      "aplikasi tukang bohong promo gratis makan tidak terjadi komplain ke pelayanan pelanggan dengan email tidak ditanggapi komplain by phone hanya dicatat saja tidak ada tindak lanjut sangat tidak direkomendasikan untuk siapa pun \n",
      "\n",
      "\n",
      "1/1 [==============================] - 0s 44ms/step\n",
      "1/1 [==============================] - 0s 58ms/step\n",
      "1/1 [==============================] - 0s 56ms/step\n",
      "1/1 [==============================] - 0s 56ms/step\n",
      "1/1 [==============================] - 0s 59ms/step\n",
      "1/1 [==============================] - 0s 59ms/step\n",
      "1/1 [==============================] - 0s 36ms/step\n",
      "1/1 [==============================] - 0s 61ms/step\n",
      "1/1 [==============================] - 0s 55ms/step\n",
      "1/1 [==============================] - 0s 54ms/step\n",
      "1/1 [==============================] - 0s 63ms/step\n",
      "1/1 [==============================] - 0s 59ms/step\n",
      "1/1 [==============================] - 0s 58ms/step\n",
      "1/1 [==============================] - 0s 55ms/step\n",
      "1/1 [==============================] - 0s 55ms/step\n",
      "1/1 [==============================] - 0s 82ms/step\n",
      "1/1 [==============================] - 0s 59ms/step\n",
      "1/1 [==============================] - 0s 60ms/step\n",
      "1/1 [==============================] - 0s 34ms/step\n"
     ]
    },
    {
     "name": "stderr",
     "output_type": "stream",
     "text": [
      "[Succeeded / Failed / Skipped / Total] 1 / 17 / 0 / 18:   4%|▎         | 18/500 [01:05<29:20,  3.65s/it]"
     ]
    },
    {
     "name": "stdout",
     "output_type": "stream",
     "text": [
      "--------------------------------------------- Result 18 ---------------------------------------------\n",
      "[[0 (39%)]] --> [[[FAILED]]]\n",
      "\n",
      "kata nya dapat promo ribu tapi setelah di bayar di atm nya ternyata harga normal sudah saya kirim email tapi tidak ada balasan mengecewakan \n",
      "\n",
      "\n",
      "1/1 [==============================] - 0s 51ms/step\n",
      "1/1 [==============================] - 0s 62ms/step\n",
      "1/1 [==============================] - 0s 57ms/step\n",
      "1/1 [==============================] - 0s 57ms/step\n",
      "1/1 [==============================] - 0s 53ms/step\n",
      "1/1 [==============================] - 0s 53ms/step\n",
      "1/1 [==============================] - 0s 62ms/step\n",
      "1/1 [==============================] - 0s 58ms/step\n",
      "1/1 [==============================] - 0s 35ms/step\n",
      "1/1 [==============================] - 0s 65ms/step\n",
      "1/1 [==============================] - 0s 56ms/step\n",
      "1/1 [==============================] - 0s 58ms/step\n",
      "1/1 [==============================] - 0s 56ms/step\n",
      "1/1 [==============================] - 0s 54ms/step\n",
      "1/1 [==============================] - 0s 62ms/step\n",
      "1/1 [==============================] - 0s 60ms/step\n",
      "1/1 [==============================] - 0s 55ms/step\n",
      "1/1 [==============================] - 0s 53ms/step\n",
      "1/1 [==============================] - 0s 53ms/step\n",
      "1/1 [==============================] - 0s 63ms/step\n",
      "1/1 [==============================] - 0s 62ms/step\n",
      "1/1 [==============================] - 0s 58ms/step\n",
      "1/1 [==============================] - 0s 58ms/step\n",
      "1/1 [==============================] - 0s 58ms/step\n",
      "1/1 [==============================] - 0s 61ms/step\n",
      "1/1 [==============================] - 0s 36ms/step\n",
      "1/1 [==============================] - 0s 58ms/step\n",
      "1/1 [==============================] - 0s 57ms/step\n",
      "1/1 [==============================] - 0s 55ms/step\n",
      "1/1 [==============================] - 0s 54ms/step\n",
      "1/1 [==============================] - 0s 68ms/step\n",
      "1/1 [==============================] - 0s 62ms/step\n",
      "1/1 [==============================] - 0s 56ms/step\n",
      "1/1 [==============================] - 0s 56ms/step\n",
      "1/1 [==============================] - 0s 61ms/step\n",
      "1/1 [==============================] - 0s 56ms/step\n",
      "1/1 [==============================] - 0s 57ms/step\n",
      "1/1 [==============================] - 0s 61ms/step\n",
      "1/1 [==============================] - 0s 55ms/step\n",
      "1/1 [==============================] - 0s 60ms/step\n",
      "1/1 [==============================] - 0s 60ms/step\n",
      "1/1 [==============================] - 0s 56ms/step\n",
      "1/1 [==============================] - 0s 34ms/step\n",
      "1/1 [==============================] - 0s 56ms/step\n",
      "1/1 [==============================] - 0s 66ms/step\n",
      "1/1 [==============================] - 0s 37ms/step\n",
      "1/1 [==============================] - 0s 59ms/step\n",
      "1/1 [==============================] - 0s 57ms/step\n",
      "1/1 [==============================] - 0s 56ms/step\n"
     ]
    },
    {
     "name": "stderr",
     "output_type": "stream",
     "text": [
      "[Succeeded / Failed / Skipped / Total] 1 / 18 / 0 / 19:   4%|▍         | 19/500 [01:10<29:49,  3.72s/it]"
     ]
    },
    {
     "name": "stdout",
     "output_type": "stream",
     "text": [
      "--------------------------------------------- Result 19 ---------------------------------------------\n",
      "[[0 (42%)]] --> [[[FAILED]]]\n",
      "\n",
      "saya sudah bayar untuk hotel tapi etiket tidak terbit saya sudah kirim email bukti pembayaran nya tapi tetap tidak ada mengikuti naik nya sampai hari h mau cek in ini sudah menghubungi bolak balik pelayanan pelanggan sama saja ngulang ngulang informasi dari awal dijanjikan akan ditelpon tapi tidak dihubungi juga sampai sekarang saya mau laporkan polisi menyebalkan \n",
      "\n",
      "\n",
      "1/1 [==============================] - 0s 37ms/step\n",
      "1/1 [==============================] - 0s 63ms/step\n",
      "1/1 [==============================] - 0s 66ms/step\n",
      "1/1 [==============================] - 0s 59ms/step\n",
      "1/1 [==============================] - 0s 58ms/step\n",
      "1/1 [==============================] - 0s 34ms/step\n",
      "1/1 [==============================] - 0s 58ms/step\n",
      "1/1 [==============================] - 0s 55ms/step\n",
      "1/1 [==============================] - 0s 58ms/step\n",
      "1/1 [==============================] - 0s 54ms/step\n",
      "1/1 [==============================] - 0s 56ms/step\n",
      "1/1 [==============================] - 0s 34ms/step\n",
      "1/1 [==============================] - 0s 56ms/step\n",
      "1/1 [==============================] - 0s 60ms/step\n",
      "1/1 [==============================] - 0s 63ms/step\n",
      "1/1 [==============================] - 0s 56ms/step\n",
      "1/1 [==============================] - 0s 57ms/step\n",
      "1/1 [==============================] - 0s 54ms/step\n",
      "1/1 [==============================] - 0s 57ms/step\n",
      "1/1 [==============================] - 0s 33ms/step\n"
     ]
    },
    {
     "name": "stderr",
     "output_type": "stream",
     "text": [
      "[Succeeded / Failed / Skipped / Total] 1 / 18 / 0 / 19:   4%|▍         | 20/500 [01:12<29:00,  3.63s/it]"
     ]
    },
    {
     "name": "stdout",
     "output_type": "stream",
     "text": [
      "--------------------------------------------- Result 20 ---------------------------------------------\n",
      "[[0 (45%)]] --> [[[FAILED]]]\n",
      "\n",
      "saya kecewa karena saya sudah transfer dan belum dikonfirmasi saya telepon malah pelanggan sibuk terus aduh kecewa nih gue \n",
      "\n",
      "\n"
     ]
    },
    {
     "name": "stderr",
     "output_type": "stream",
     "text": [
      "[Succeeded / Failed / Skipped / Total] 1 / 19 / 0 / 20:   4%|▍         | 20/500 [01:12<29:00,  3.63s/it]"
     ]
    },
    {
     "name": "stdout",
     "output_type": "stream",
     "text": [
      "1/1 [==============================] - 0s 42ms/step\n",
      "1/1 [==============================] - 0s 57ms/step\n",
      "1/1 [==============================] - 0s 56ms/step\n",
      "1/1 [==============================] - 0s 55ms/step\n",
      "1/1 [==============================] - 0s 53ms/step\n",
      "1/1 [==============================] - 0s 57ms/step\n",
      "1/1 [==============================] - 0s 34ms/step\n",
      "1/1 [==============================] - 0s 59ms/step\n",
      "1/1 [==============================] - 0s 59ms/step\n",
      "1/1 [==============================] - 0s 55ms/step\n",
      "1/1 [==============================] - 0s 54ms/step\n",
      "1/1 [==============================] - 0s 54ms/step\n",
      "1/1 [==============================] - 0s 57ms/step\n",
      "1/1 [==============================] - 0s 57ms/step\n",
      "1/1 [==============================] - 0s 55ms/step\n",
      "1/1 [==============================] - 0s 55ms/step\n",
      "1/1 [==============================] - 0s 68ms/step\n",
      "1/1 [==============================] - 0s 57ms/step\n"
     ]
    },
    {
     "name": "stderr",
     "output_type": "stream",
     "text": [
      "[Succeeded / Failed / Skipped / Total] 2 / 19 / 0 / 21:   4%|▍         | 21/500 [01:14<28:13,  3.54s/it]"
     ]
    },
    {
     "name": "stdout",
     "output_type": "stream",
     "text": [
      "--------------------------------------------- Result 21 ---------------------------------------------\n",
      "[[0 (37%)]] --> [[1 (35%)]]\n",
      "\n",
      "saya sudah transfer ratusan ribu dan [[sesuai]] nominal transfer tapi tiket belum muncul juga harus diwaspadai ini aplikasi ini [[bahaya]] \n",
      "\n",
      "saya sudah transfer ratusan ribu dan [[tepat]] nominal transfer tapi tiket belum muncul juga harus diwaspadai ini aplikasi ini [[rawan]] \n",
      "\n",
      "\n",
      "1/1 [==============================] - 0s 36ms/step\n",
      "1/1 [==============================] - 0s 79ms/step\n",
      "1/1 [==============================] - 0s 53ms/step\n",
      "1/1 [==============================] - 0s 57ms/step\n",
      "1/1 [==============================] - 0s 57ms/step\n",
      "1/1 [==============================] - 0s 34ms/step\n",
      "1/1 [==============================] - 0s 35ms/step\n",
      "1/1 [==============================] - 0s 56ms/step\n",
      "1/1 [==============================] - 0s 54ms/step\n",
      "1/1 [==============================] - 0s 59ms/step\n",
      "1/1 [==============================] - 0s 57ms/step\n",
      "1/1 [==============================] - 0s 54ms/step\n",
      "1/1 [==============================] - 0s 56ms/step\n",
      "1/1 [==============================] - 0s 37ms/step\n",
      "1/1 [==============================] - 0s 36ms/step\n"
     ]
    },
    {
     "name": "stderr",
     "output_type": "stream",
     "text": [
      "[Succeeded / Failed / Skipped / Total] 2 / 20 / 0 / 22:   4%|▍         | 22/500 [01:15<27:23,  3.44s/it]"
     ]
    },
    {
     "name": "stdout",
     "output_type": "stream",
     "text": [
      "--------------------------------------------- Result 22 ---------------------------------------------\n",
      "[[0 (42%)]] --> [[[FAILED]]]\n",
      "\n",
      "pelayanan pelanggan tidak respon komentar disuruh email email saya tidak ditanggapi sudah beberapa hari yang lalu sampai sekarang tidak ada respon menyusahkan saja \n",
      "\n",
      "\n",
      "1/1 [==============================] - 0s 44ms/step\n",
      "1/1 [==============================] - 0s 59ms/step\n",
      "1/1 [==============================] - 0s 56ms/step\n",
      "1/1 [==============================] - 0s 58ms/step\n",
      "1/1 [==============================] - 0s 66ms/step\n",
      "1/1 [==============================] - 0s 53ms/step\n",
      "1/1 [==============================] - 0s 57ms/step\n",
      "1/1 [==============================] - 0s 52ms/step\n",
      "1/1 [==============================] - 0s 53ms/step\n",
      "1/1 [==============================] - 0s 55ms/step\n",
      "1/1 [==============================] - 0s 55ms/step\n",
      "1/1 [==============================] - 0s 54ms/step\n",
      "1/1 [==============================] - 0s 57ms/step\n",
      "1/1 [==============================] - 0s 54ms/step\n",
      "1/1 [==============================] - 0s 35ms/step\n",
      "1/1 [==============================] - 0s 56ms/step\n",
      "1/1 [==============================] - 0s 53ms/step\n",
      "1/1 [==============================] - 0s 56ms/step\n"
     ]
    },
    {
     "name": "stderr",
     "output_type": "stream",
     "text": [
      "[Succeeded / Failed / Skipped / Total] 3 / 20 / 0 / 23:   5%|▍         | 23/500 [01:17<26:44,  3.36s/it]"
     ]
    },
    {
     "name": "stdout",
     "output_type": "stream",
     "text": [
      "--------------------------------------------- Result 23 ---------------------------------------------\n",
      "[[0 (42%)]] --> [[1 (35%)]]\n",
      "\n",
      "tolong untuk pelayana nya diperjelas ya sudah pesan tiket sudah dibayar tetapi dengan alasan bank bermasalah dan tidak ada pertanggungjawaban untuk memulangkan uang saja harus sampai ditelpon lagi dikirim by email untuk komponen tidak direspon [[kecewa]] \n",
      "\n",
      "tolong untuk pelayana nya diperjelas ya sudah pesan tiket sudah dibayar tetapi dengan alasan bank bermasalah dan tidak ada pertanggungjawaban untuk memulangkan uang saja harus sampai ditelpon lagi dikirim by email untuk komponen tidak direspon [[tewas]] \n",
      "\n",
      "\n",
      "1/1 [==============================] - 0s 41ms/step\n",
      "1/1 [==============================] - 0s 58ms/step\n",
      "1/1 [==============================] - 0s 53ms/step\n",
      "1/1 [==============================] - 0s 54ms/step\n",
      "1/1 [==============================] - 0s 52ms/step\n",
      "1/1 [==============================] - 0s 55ms/step\n",
      "1/1 [==============================] - 0s 54ms/step\n",
      "1/1 [==============================] - 0s 55ms/step\n",
      "1/1 [==============================] - 0s 53ms/step\n",
      "1/1 [==============================] - 0s 52ms/step\n",
      "1/1 [==============================] - 0s 59ms/step\n",
      "1/1 [==============================] - 0s 56ms/step\n",
      "1/1 [==============================] - 0s 52ms/step\n",
      "1/1 [==============================] - 0s 55ms/step\n",
      "1/1 [==============================] - 0s 54ms/step\n",
      "1/1 [==============================] - 0s 54ms/step\n",
      "1/1 [==============================] - 0s 54ms/step\n",
      "1/1 [==============================] - 0s 55ms/step\n",
      "1/1 [==============================] - 0s 55ms/step\n",
      "1/1 [==============================] - 0s 57ms/step\n",
      "1/1 [==============================] - 0s 53ms/step\n",
      "1/1 [==============================] - 0s 55ms/step\n",
      "1/1 [==============================] - 0s 54ms/step\n",
      "1/1 [==============================] - 0s 57ms/step\n",
      "1/1 [==============================] - 0s 54ms/step\n",
      "1/1 [==============================] - 0s 56ms/step\n",
      "1/1 [==============================] - 0s 55ms/step\n",
      "1/1 [==============================] - 0s 56ms/step\n",
      "1/1 [==============================] - 0s 53ms/step\n",
      "1/1 [==============================] - 0s 53ms/step\n",
      "1/1 [==============================] - 0s 55ms/step\n",
      "1/1 [==============================] - 0s 59ms/step\n"
     ]
    },
    {
     "name": "stderr",
     "output_type": "stream",
     "text": [
      "[Succeeded / Failed / Skipped / Total] 4 / 20 / 0 / 24:   5%|▍         | 24/500 [01:20<26:37,  3.36s/it]"
     ]
    },
    {
     "name": "stdout",
     "output_type": "stream",
     "text": [
      "--------------------------------------------- Result 24 ---------------------------------------------\n",
      "[[0 (41%)]] --> [[1 (36%)]]\n",
      "\n",
      "luar biasa kecewa sangat dengan aplikasi ini saya sudah hubungi pusat panggilan untuk cek pemesanan saya karena saya sudah bayar dan tidak muncul e tiket nya bahkan saya sudah kirim bukti transaksi nya ke e mail hingga saat ini tidak ada pihak pusat panggilan yang [[menghubungi]] [[kecewa]] \n",
      "\n",
      "luar biasa kecewa sangat dengan aplikasi ini saya sudah hubungi pusat panggilan untuk cek pemesanan saya karena saya sudah bayar dan tidak muncul e tiket nya bahkan saya sudah kirim bukti transaksi nya ke e mail hingga saat ini tidak ada pihak pusat panggilan yang [[masuk]] [[tewas]] \n",
      "\n",
      "\n",
      "1/1 [==============================] - 0s 35ms/step\n",
      "1/1 [==============================] - 0s 60ms/step\n",
      "1/1 [==============================] - 0s 53ms/step\n",
      "1/1 [==============================] - 0s 55ms/step\n",
      "1/1 [==============================] - 0s 56ms/step\n",
      "1/1 [==============================] - 0s 65ms/step\n",
      "1/1 [==============================] - 0s 55ms/step\n",
      "1/1 [==============================] - 0s 52ms/step\n",
      "1/1 [==============================] - 0s 53ms/step\n",
      "1/1 [==============================] - 0s 55ms/step\n",
      "1/1 [==============================] - 0s 54ms/step\n",
      "1/1 [==============================] - 0s 54ms/step\n",
      "1/1 [==============================] - 0s 53ms/step\n",
      "1/1 [==============================] - 0s 53ms/step\n",
      "1/1 [==============================] - 0s 58ms/step\n",
      "1/1 [==============================] - 0s 56ms/step\n",
      "1/1 [==============================] - 0s 57ms/step\n",
      "1/1 [==============================] - 0s 34ms/step\n",
      "1/1 [==============================] - 0s 58ms/step\n",
      "1/1 [==============================] - 0s 52ms/step\n",
      "1/1 [==============================] - 0s 56ms/step\n",
      "1/1 [==============================] - 0s 53ms/step\n",
      "1/1 [==============================] - 0s 57ms/step\n",
      "1/1 [==============================] - 0s 55ms/step\n",
      "1/1 [==============================] - 0s 52ms/step\n",
      "1/1 [==============================] - 0s 56ms/step\n",
      "1/1 [==============================] - 0s 55ms/step\n",
      "1/1 [==============================] - 0s 58ms/step\n",
      "1/1 [==============================] - 0s 56ms/step\n",
      "1/1 [==============================] - 0s 56ms/step\n",
      "1/1 [==============================] - 0s 35ms/step\n"
     ]
    },
    {
     "name": "stderr",
     "output_type": "stream",
     "text": [
      "[Succeeded / Failed / Skipped / Total] 4 / 21 / 0 / 25:   5%|▌         | 25/500 [01:23<26:28,  3.34s/it]"
     ]
    },
    {
     "name": "stdout",
     "output_type": "stream",
     "text": [
      "--------------------------------------------- Result 25 ---------------------------------------------\n",
      "[[0 (40%)]] --> [[[FAILED]]]\n",
      "\n",
      "sangat mengecewakan saya pesan tiket dan sudah saya bayar padahal waktu itu belum kadaluarsa pas saya transfer tapi sampai sekarang belum dikasih kode bokong nya malah dikasih notifikasi sudah kadaluarsa lalu uang nya lari nya ke mana pas saya hubungi lewat email hanya ditanggapi sekali saja \n",
      "\n",
      "\n",
      "1/1 [==============================] - 0s 48ms/step\n",
      "1/1 [==============================] - 0s 56ms/step\n",
      "1/1 [==============================] - 0s 56ms/step\n",
      "1/1 [==============================] - 0s 66ms/step\n",
      "1/1 [==============================] - 0s 54ms/step\n",
      "1/1 [==============================] - 0s 54ms/step\n",
      "1/1 [==============================] - 0s 53ms/step\n",
      "1/1 [==============================] - 0s 52ms/step\n",
      "1/1 [==============================] - 0s 54ms/step\n",
      "1/1 [==============================] - 0s 52ms/step\n",
      "1/1 [==============================] - 0s 54ms/step\n",
      "1/1 [==============================] - 0s 63ms/step\n",
      "1/1 [==============================] - 0s 55ms/step\n",
      "1/1 [==============================] - 0s 55ms/step\n",
      "1/1 [==============================] - 0s 53ms/step\n",
      "1/1 [==============================] - 0s 54ms/step\n",
      "1/1 [==============================] - 0s 53ms/step\n",
      "1/1 [==============================] - 0s 53ms/step\n",
      "1/1 [==============================] - 0s 33ms/step\n",
      "1/1 [==============================] - 0s 53ms/step\n",
      "1/1 [==============================] - 0s 52ms/step\n",
      "1/1 [==============================] - 0s 54ms/step\n",
      "1/1 [==============================] - 0s 54ms/step\n",
      "1/1 [==============================] - 0s 58ms/step\n",
      "1/1 [==============================] - 0s 54ms/step\n",
      "1/1 [==============================] - 0s 56ms/step\n",
      "1/1 [==============================] - 0s 52ms/step\n",
      "1/1 [==============================] - 0s 61ms/step\n",
      "1/1 [==============================] - 0s 58ms/step\n",
      "1/1 [==============================] - 0s 53ms/step\n",
      "1/1 [==============================] - 0s 53ms/step\n",
      "1/1 [==============================] - 0s 55ms/step\n",
      "1/1 [==============================] - 0s 55ms/step\n",
      "1/1 [==============================] - 0s 56ms/step\n",
      "1/1 [==============================] - 0s 38ms/step\n"
     ]
    },
    {
     "name": "stderr",
     "output_type": "stream",
     "text": [
      "[Succeeded / Failed / Skipped / Total] 4 / 22 / 0 / 26:   5%|▌         | 26/500 [01:26<26:24,  3.34s/it]"
     ]
    },
    {
     "name": "stdout",
     "output_type": "stream",
     "text": [
      "--------------------------------------------- Result 26 ---------------------------------------------\n",
      "[[0 (45%)]] --> [[[FAILED]]]\n",
      "\n",
      "tolong jangan order tiket pakai aplikasi ini kalau tidak mau kecewa benci banget sudah transfer etiket tidak dikirim kirim malah pesanan dibatalkan telpon pelayanan pelanggan juga tidak diangkat di email tidak dibalas \n",
      "\n",
      "\n",
      "1/1 [==============================] - 0s 40ms/step\n",
      "1/1 [==============================] - 0s 63ms/step\n",
      "1/1 [==============================] - 0s 55ms/step\n",
      "1/1 [==============================] - 0s 54ms/step\n",
      "1/1 [==============================] - 0s 53ms/step\n",
      "1/1 [==============================] - 0s 55ms/step\n",
      "1/1 [==============================] - 0s 54ms/step\n",
      "1/1 [==============================] - 0s 52ms/step\n",
      "1/1 [==============================] - 0s 53ms/step\n",
      "1/1 [==============================] - 0s 54ms/step\n",
      "1/1 [==============================] - 0s 54ms/step\n",
      "1/1 [==============================] - 0s 53ms/step\n",
      "1/1 [==============================] - 0s 54ms/step\n",
      "1/1 [==============================] - 0s 54ms/step\n",
      "1/1 [==============================] - 0s 57ms/step\n",
      "1/1 [==============================] - 0s 55ms/step\n",
      "1/1 [==============================] - 0s 53ms/step\n",
      "1/1 [==============================] - 0s 56ms/step\n",
      "1/1 [==============================] - 0s 46ms/step\n",
      "1/1 [==============================] - 0s 56ms/step\n",
      "1/1 [==============================] - 0s 57ms/step\n",
      "1/1 [==============================] - 0s 52ms/step\n",
      "1/1 [==============================] - 0s 56ms/step\n",
      "1/1 [==============================] - 0s 55ms/step\n",
      "1/1 [==============================] - 0s 54ms/step\n",
      "1/1 [==============================] - 0s 52ms/step\n",
      "1/1 [==============================] - 0s 58ms/step\n",
      "1/1 [==============================] - 0s 52ms/step\n",
      "1/1 [==============================] - 0s 54ms/step\n",
      "1/1 [==============================] - 0s 53ms/step\n",
      "1/1 [==============================] - 0s 54ms/step\n",
      "1/1 [==============================] - 0s 57ms/step\n",
      "1/1 [==============================] - 0s 53ms/step\n",
      "1/1 [==============================] - 0s 53ms/step\n",
      "1/1 [==============================] - 0s 59ms/step\n",
      "1/1 [==============================] - 0s 53ms/step\n",
      "1/1 [==============================] - 0s 53ms/step\n",
      "1/1 [==============================] - 0s 56ms/step\n",
      "1/1 [==============================] - 0s 54ms/step\n",
      "1/1 [==============================] - 0s 52ms/step\n",
      "1/1 [==============================] - 0s 53ms/step\n",
      "1/1 [==============================] - 0s 58ms/step\n",
      "1/1 [==============================] - 0s 37ms/step\n"
     ]
    },
    {
     "name": "stderr",
     "output_type": "stream",
     "text": [
      "[Succeeded / Failed / Skipped / Total] 4 / 23 / 0 / 27:   5%|▌         | 27/500 [01:31<26:36,  3.37s/it]"
     ]
    },
    {
     "name": "stdout",
     "output_type": "stream",
     "text": [
      "--------------------------------------------- Result 27 ---------------------------------------------\n",
      "[[0 (39%)]] --> [[[FAILED]]]\n",
      "\n",
      "saya pesan tiket pesawat dan sudah melakukan pembayaran sesuai instruksi namun sudah lebih dari jam belum ada terbit e tiket malahan status pesanan saya malah jadi pemesanan kadaluarsa komplain sudah saya lakukan melalui email dan telpon pelayanan pelanggan sampai sekarang belum ada penyelesaian yang berarti ini sangat merugikan \n",
      "\n",
      "\n",
      "1/1 [==============================] - 0s 34ms/step\n",
      "1/1 [==============================] - 0s 60ms/step\n",
      "1/1 [==============================] - 0s 61ms/step\n",
      "1/1 [==============================] - 0s 56ms/step\n",
      "1/1 [==============================] - 0s 53ms/step\n",
      "1/1 [==============================] - 0s 54ms/step\n",
      "1/1 [==============================] - 0s 33ms/step\n",
      "1/1 [==============================] - 0s 56ms/step\n",
      "1/1 [==============================] - 0s 54ms/step\n",
      "1/1 [==============================] - 0s 65ms/step\n",
      "1/1 [==============================] - 0s 55ms/step\n",
      "1/1 [==============================] - 0s 54ms/step\n",
      "1/1 [==============================] - 0s 63ms/step\n",
      "1/1 [==============================] - 0s 63ms/step\n",
      "1/1 [==============================] - 0s 62ms/step\n",
      "1/1 [==============================] - 0s 55ms/step\n",
      "1/1 [==============================] - 0s 67ms/step\n",
      "1/1 [==============================] - 0s 63ms/step\n",
      "1/1 [==============================] - 0s 65ms/step\n",
      "1/1 [==============================] - 0s 64ms/step\n",
      "1/1 [==============================] - 0s 35ms/step\n",
      "1/1 [==============================] - 0s 56ms/step\n",
      "1/1 [==============================] - 0s 53ms/step\n",
      "1/1 [==============================] - 0s 68ms/step\n",
      "1/1 [==============================] - 0s 62ms/step\n",
      "1/1 [==============================] - 0s 64ms/step\n",
      "1/1 [==============================] - 0s 62ms/step\n",
      "1/1 [==============================] - 0s 63ms/step\n",
      "1/1 [==============================] - 0s 53ms/step\n",
      "1/1 [==============================] - 0s 62ms/step\n",
      "1/1 [==============================] - 0s 65ms/step\n",
      "1/1 [==============================] - 0s 54ms/step\n",
      "1/1 [==============================] - 0s 61ms/step\n",
      "1/1 [==============================] - 0s 64ms/step\n"
     ]
    },
    {
     "name": "stderr",
     "output_type": "stream",
     "text": [
      "[Succeeded / Failed / Skipped / Total] 4 / 24 / 0 / 28:   6%|▌         | 28/500 [01:34<26:41,  3.39s/it]"
     ]
    },
    {
     "name": "stdout",
     "output_type": "stream",
     "text": [
      "--------------------------------------------- Result 28 ---------------------------------------------\n",
      "[[0 (39%)]] --> [[[FAILED]]]\n",
      "\n",
      "saya pesan ticket sampai sekarang tidak ada konformasi nya uang sudah ditransfer kalau seperti itu kembalikan uang nya tai sekali telepon pusat panggilan habis pulsa hampir tidak ada kembalikan uang saya jangan pernah kalian pesan tiket di sini menyesal\n",
      "\n",
      "\n",
      "1/1 [==============================] - 0s 36ms/step\n",
      "1/1 [==============================] - 0s 66ms/step\n",
      "1/1 [==============================] - 0s 65ms/step\n",
      "1/1 [==============================] - 0s 62ms/step\n",
      "1/1 [==============================] - 0s 53ms/step\n",
      "1/1 [==============================] - 0s 52ms/step\n",
      "1/1 [==============================] - 0s 66ms/step\n",
      "1/1 [==============================] - 0s 64ms/step\n",
      "1/1 [==============================] - 0s 62ms/step\n",
      "1/1 [==============================] - 0s 66ms/step\n",
      "1/1 [==============================] - 0s 61ms/step\n",
      "1/1 [==============================] - 0s 53ms/step\n",
      "1/1 [==============================] - 0s 63ms/step\n",
      "1/1 [==============================] - 0s 61ms/step\n",
      "1/1 [==============================] - 0s 72ms/step\n",
      "1/1 [==============================] - 0s 67ms/step\n",
      "1/1 [==============================] - 0s 54ms/step\n",
      "1/1 [==============================] - 0s 53ms/step\n",
      "1/1 [==============================] - 0s 63ms/step\n",
      "1/1 [==============================] - 0s 61ms/step\n",
      "1/1 [==============================] - 0s 63ms/step\n",
      "1/1 [==============================] - 0s 63ms/step\n",
      "1/1 [==============================] - 0s 63ms/step\n",
      "1/1 [==============================] - 0s 63ms/step\n"
     ]
    },
    {
     "name": "stderr",
     "output_type": "stream",
     "text": [
      "[Succeeded / Failed / Skipped / Total] 4 / 25 / 0 / 29:   6%|▌         | 29/500 [01:37<26:22,  3.36s/it]"
     ]
    },
    {
     "name": "stdout",
     "output_type": "stream",
     "text": [
      "--------------------------------------------- Result 29 ---------------------------------------------\n",
      "[[0 (41%)]] --> [[[FAILED]]]\n",
      "\n",
      "pembayaran sudah dilakukan tetapi e tiket tidak dikirim dikirim malah dipesan diblang kadaluarsa titip cs nya berkali berkali jwaban nya tidak ada yang membantu dan tidak sinkron semua sampai sekarang belum jelas pengembalian uang ataupun penggantian tiket disarankan tidak usah memakai aplikasi ini \n",
      "\n",
      "\n",
      "1/1 [==============================] - 0s 45ms/step\n",
      "1/1 [==============================] - 0s 67ms/step\n",
      "1/1 [==============================] - 0s 55ms/step\n",
      "1/1 [==============================] - 0s 52ms/step\n",
      "1/1 [==============================] - 0s 66ms/step\n",
      "1/1 [==============================] - 0s 56ms/step\n",
      "1/1 [==============================] - 0s 64ms/step\n",
      "1/1 [==============================] - 0s 61ms/step\n",
      "1/1 [==============================] - 0s 53ms/step\n",
      "1/1 [==============================] - 0s 64ms/step\n",
      "1/1 [==============================] - 0s 64ms/step\n",
      "1/1 [==============================] - 0s 66ms/step\n",
      "1/1 [==============================] - 0s 35ms/step\n",
      "1/1 [==============================] - 0s 63ms/step\n",
      "1/1 [==============================] - 0s 67ms/step\n",
      "1/1 [==============================] - 0s 69ms/step\n",
      "1/1 [==============================] - 0s 64ms/step\n",
      "1/1 [==============================] - 0s 55ms/step\n",
      "1/1 [==============================] - 0s 66ms/step\n",
      "1/1 [==============================] - 0s 64ms/step\n",
      "1/1 [==============================] - 0s 63ms/step\n",
      "1/1 [==============================] - 0s 66ms/step\n",
      "1/1 [==============================] - 0s 62ms/step\n",
      "1/1 [==============================] - 0s 65ms/step\n",
      "1/1 [==============================] - 0s 63ms/step\n",
      "1/1 [==============================] - 0s 60ms/step\n",
      "1/1 [==============================] - 0s 64ms/step\n",
      "1/1 [==============================] - 0s 62ms/step\n",
      "1/1 [==============================] - 0s 62ms/step\n",
      "1/1 [==============================] - 0s 63ms/step\n",
      "1/1 [==============================] - 0s 64ms/step\n",
      "1/1 [==============================] - 0s 66ms/step\n",
      "1/1 [==============================] - 0s 62ms/step\n",
      "1/1 [==============================] - 0s 63ms/step\n",
      "1/1 [==============================] - 0s 52ms/step\n",
      "1/1 [==============================] - 0s 62ms/step\n",
      "1/1 [==============================] - 0s 54ms/step\n",
      "1/1 [==============================] - 0s 62ms/step\n",
      "1/1 [==============================] - 0s 61ms/step\n",
      "1/1 [==============================] - 0s 73ms/step\n",
      "1/1 [==============================] - 0s 55ms/step\n",
      "1/1 [==============================] - 0s 55ms/step\n",
      "1/1 [==============================] - 0s 66ms/step\n",
      "1/1 [==============================] - 0s 65ms/step\n",
      "1/1 [==============================] - 0s 63ms/step\n"
     ]
    },
    {
     "name": "stderr",
     "output_type": "stream",
     "text": [
      "[Succeeded / Failed / Skipped / Total] 5 / 25 / 0 / 30:   6%|▌         | 30/500 [01:42<26:41,  3.41s/it]"
     ]
    },
    {
     "name": "stdout",
     "output_type": "stream",
     "text": [
      "--------------------------------------------- Result 30 ---------------------------------------------\n",
      "[[0 (38%)]] --> [[1 (34%)]]\n",
      "\n",
      "sangat [[mengecewakan]] di mana kalau [[pesan]] [[tiket]] sudah dibayar sudah dikasih [[bukti]] [[transfer]] itu [[langsung]] dikasih nomor e [[tiket]] nya ini kok tidak ada konfirmasi apa sudah mendekati hari h tiba [[pesanan]] kadaluarsa [[pelayanan]] sangat [[buruk]] [[pelayanan]] [[pelanggan]] nya juga tidak [[sopan]] segera kembalikan [[uang]] [[pengembalian]] dana tiket saya \n",
      "\n",
      "sangat [[melayang-layang]] di mana kalau [[mohon]] [[kupon]] sudah dibayar sudah dikasih [[alamat]] [[pemindahan]] itu [[lurus]] dikasih nomor e [[kupon]] nya ini kok tidak ada konfirmasi apa sudah mendekati hari h tiba [[berita]] kadaluarsa [[bakti]] sangat [[bekas]] [[bakti]] [[klien]] nya juga tidak [[hormat]] segera kembalikan [[penukar]] [[renovasi]] dana tiket saya \n",
      "\n",
      "\n",
      "1/1 [==============================] - 0s 42ms/step\n",
      "1/1 [==============================] - 0s 64ms/step\n",
      "1/1 [==============================] - 0s 65ms/step\n",
      "1/1 [==============================] - 0s 71ms/step\n",
      "1/1 [==============================] - 0s 63ms/step\n",
      "1/1 [==============================] - 0s 64ms/step\n",
      "1/1 [==============================] - 0s 62ms/step\n",
      "1/1 [==============================] - 0s 55ms/step\n",
      "1/1 [==============================] - 0s 54ms/step\n",
      "1/1 [==============================] - 0s 63ms/step\n",
      "1/1 [==============================] - 0s 55ms/step\n",
      "1/1 [==============================] - 0s 64ms/step\n",
      "1/1 [==============================] - 0s 54ms/step\n",
      "1/1 [==============================] - 0s 65ms/step\n",
      "1/1 [==============================] - 0s 65ms/step\n",
      "1/1 [==============================] - 0s 60ms/step\n",
      "1/1 [==============================] - 0s 63ms/step\n",
      "1/1 [==============================] - 0s 64ms/step\n",
      "1/1 [==============================] - 0s 66ms/step\n"
     ]
    },
    {
     "name": "stderr",
     "output_type": "stream",
     "text": [
      "[Succeeded / Failed / Skipped / Total] 5 / 26 / 0 / 31:   6%|▌         | 31/500 [01:44<26:16,  3.36s/it]"
     ]
    },
    {
     "name": "stdout",
     "output_type": "stream",
     "text": [
      "--------------------------------------------- Result 31 ---------------------------------------------\n",
      "[[0 (42%)]] --> [[[FAILED]]]\n",
      "\n",
      "saya sudah komplain dengan berbagai cara tapi sangat tidak mengenakkan selain lama respon tetapi juga tidak ditanggapi saya sudah transfer uang dan sudah saya kirim tanda bukti nya tapi sampai saat ini tidak ada kejelasan sama sekali saya merasa tertipu \n",
      "\n",
      "\n",
      "1/1 [==============================] - 0s 46ms/step\n",
      "1/1 [==============================] - 0s 67ms/step\n",
      "1/1 [==============================] - 0s 54ms/step\n",
      "1/1 [==============================] - 0s 54ms/step\n",
      "1/1 [==============================] - 0s 64ms/step\n",
      "1/1 [==============================] - 0s 53ms/step\n",
      "1/1 [==============================] - 0s 54ms/step\n",
      "1/1 [==============================] - 0s 55ms/step\n",
      "1/1 [==============================] - 0s 61ms/step\n",
      "1/1 [==============================] - 0s 54ms/step\n",
      "1/1 [==============================] - 0s 54ms/step\n",
      "1/1 [==============================] - 0s 54ms/step\n",
      "1/1 [==============================] - 0s 54ms/step\n",
      "1/1 [==============================] - 0s 54ms/step\n",
      "1/1 [==============================] - 0s 54ms/step\n",
      "1/1 [==============================] - 0s 62ms/step\n",
      "1/1 [==============================] - 0s 56ms/step\n",
      "1/1 [==============================] - 0s 64ms/step\n",
      "1/1 [==============================] - 0s 53ms/step\n",
      "1/1 [==============================] - 0s 64ms/step\n",
      "1/1 [==============================] - 0s 62ms/step\n",
      "1/1 [==============================] - 0s 62ms/step\n",
      "1/1 [==============================] - 0s 67ms/step\n",
      "1/1 [==============================] - 0s 54ms/step\n",
      "1/1 [==============================] - 0s 63ms/step\n",
      "1/1 [==============================] - 0s 52ms/step\n",
      "1/1 [==============================] - 0s 55ms/step\n",
      "1/1 [==============================] - 0s 53ms/step\n",
      "1/1 [==============================] - 0s 53ms/step\n",
      "1/1 [==============================] - 0s 55ms/step\n",
      "1/1 [==============================] - 0s 52ms/step\n",
      "1/1 [==============================] - 0s 54ms/step\n",
      "1/1 [==============================] - 0s 63ms/step\n",
      "1/1 [==============================] - 0s 53ms/step\n",
      "1/1 [==============================] - 0s 52ms/step\n",
      "1/1 [==============================] - 0s 54ms/step\n",
      "1/1 [==============================] - 0s 53ms/step\n",
      "1/1 [==============================] - 0s 56ms/step\n",
      "1/1 [==============================] - 0s 68ms/step\n",
      "1/1 [==============================] - 0s 39ms/step\n"
     ]
    },
    {
     "name": "stderr",
     "output_type": "stream",
     "text": [
      "[Succeeded / Failed / Skipped / Total] 6 / 26 / 0 / 32:   6%|▋         | 32/500 [01:48<26:22,  3.38s/it]"
     ]
    },
    {
     "name": "stdout",
     "output_type": "stream",
     "text": [
      "--------------------------------------------- Result 32 ---------------------------------------------\n",
      "[[0 (38%)]] --> [[1 (35%)]]\n",
      "\n",
      "saya [[hilang]] juta dari apa ini karena terjadi eror saat [[melanjutkan]] pembayaran yang terpending [[menyebabkan]] isi isi data penumpang dan terjadi kesalahan flight [[kecewa]] sekali dengan [[fasilitas]] yang ada \n",
      "\n",
      "saya [[usai]] juta dari apa ini karena terjadi eror saat [[ikut]] pembayaran yang terpending [[mula]] isi isi data penumpang dan terjadi kesalahan flight [[tewas]] sekali dengan [[kemudahan]] yang ada \n",
      "\n",
      "\n",
      "1/1 [==============================] - 0s 36ms/step\n",
      "1/1 [==============================] - 0s 65ms/step\n",
      "1/1 [==============================] - 0s 62ms/step\n",
      "1/1 [==============================] - 0s 62ms/step\n",
      "1/1 [==============================] - 0s 54ms/step\n",
      "1/1 [==============================] - 0s 64ms/step\n",
      "1/1 [==============================] - 0s 61ms/step\n",
      "1/1 [==============================] - 0s 39ms/step\n",
      "1/1 [==============================] - 0s 58ms/step\n",
      "1/1 [==============================] - 0s 61ms/step\n",
      "1/1 [==============================] - 0s 62ms/step\n",
      "1/1 [==============================] - 0s 69ms/step\n",
      "1/1 [==============================] - 0s 63ms/step\n",
      "1/1 [==============================] - 0s 54ms/step\n",
      "1/1 [==============================] - 0s 53ms/step\n",
      "1/1 [==============================] - 0s 55ms/step\n",
      "1/1 [==============================] - 0s 55ms/step\n",
      "1/1 [==============================] - 0s 53ms/step\n",
      "1/1 [==============================] - 0s 57ms/step\n",
      "1/1 [==============================] - 0s 54ms/step\n",
      "1/1 [==============================] - 0s 54ms/step\n",
      "1/1 [==============================] - 0s 54ms/step\n",
      "1/1 [==============================] - 0s 52ms/step\n",
      "1/1 [==============================] - 0s 53ms/step\n",
      "1/1 [==============================] - 0s 54ms/step\n",
      "1/1 [==============================] - 0s 55ms/step\n",
      "1/1 [==============================] - 0s 53ms/step\n",
      "1/1 [==============================] - 0s 63ms/step\n",
      "1/1 [==============================] - 0s 61ms/step\n",
      "1/1 [==============================] - 0s 53ms/step\n",
      "1/1 [==============================] - 0s 61ms/step\n",
      "1/1 [==============================] - 0s 61ms/step\n",
      "1/1 [==============================] - 0s 61ms/step\n",
      "1/1 [==============================] - 0s 61ms/step\n",
      "1/1 [==============================] - 0s 59ms/step\n",
      "1/1 [==============================] - 0s 64ms/step\n",
      "1/1 [==============================] - 0s 68ms/step\n",
      "1/1 [==============================] - 0s 63ms/step\n",
      "1/1 [==============================] - 0s 53ms/step\n",
      "1/1 [==============================] - 0s 54ms/step\n",
      "1/1 [==============================] - 0s 62ms/step\n",
      "1/1 [==============================] - 0s 64ms/step\n",
      "1/1 [==============================] - 0s 63ms/step\n",
      "1/1 [==============================] - 0s 53ms/step\n",
      "1/1 [==============================] - 0s 55ms/step\n",
      "1/1 [==============================] - 0s 62ms/step\n",
      "1/1 [==============================] - 0s 63ms/step\n",
      "1/1 [==============================] - 0s 53ms/step\n",
      "1/1 [==============================] - 0s 54ms/step\n",
      "1/1 [==============================] - 0s 62ms/step\n",
      "1/1 [==============================] - 0s 63ms/step\n"
     ]
    },
    {
     "name": "stderr",
     "output_type": "stream",
     "text": [
      "[Succeeded / Failed / Skipped / Total] 7 / 26 / 0 / 33:   7%|▋         | 33/500 [01:53<26:44,  3.43s/it]"
     ]
    },
    {
     "name": "stdout",
     "output_type": "stream",
     "text": [
      "--------------------------------------------- Result 33 ---------------------------------------------\n",
      "[[0 (42%)]] --> [[1 (34%)]]\n",
      "\n",
      "sudah melakukan pembayaran tetapi tiket ada bukti transfer sudah dilampirkan ke email dengan alasan uang belum diterima ini [[niat]] jualan apa mau mengambil uang [[orang]] tidak lagi lagi beli tiket di tiket com [[sumpah]] asli [[tipu]] dan produk [[sampah]]\n",
      "\n",
      "sudah melakukan pembayaran tetapi tiket ada bukti transfer sudah dilampirkan ke email dengan alasan uang belum diterima ini [[motif]] jualan apa mau mengambil uang [[bentuk]] tidak lagi lagi beli tiket di tiket com [[berbakti]] asli [[dusta]] dan produk [[kebodohan]]\n",
      "\n",
      "\n",
      "1/1 [==============================] - 0s 44ms/step\n",
      "1/1 [==============================] - 0s 63ms/step\n",
      "1/1 [==============================] - 0s 55ms/step\n",
      "1/1 [==============================] - 0s 55ms/step\n",
      "1/1 [==============================] - 0s 60ms/step\n",
      "1/1 [==============================] - 0s 53ms/step\n",
      "1/1 [==============================] - 0s 65ms/step\n",
      "1/1 [==============================] - 0s 55ms/step\n",
      "1/1 [==============================] - 0s 61ms/step\n",
      "1/1 [==============================] - 0s 62ms/step\n",
      "1/1 [==============================] - 0s 84ms/step\n",
      "1/1 [==============================] - 0s 65ms/step\n",
      "1/1 [==============================] - 0s 71ms/step\n",
      "1/1 [==============================] - 0s 59ms/step\n",
      "1/1 [==============================] - 0s 64ms/step\n",
      "1/1 [==============================] - 0s 53ms/step\n",
      "1/1 [==============================] - 0s 61ms/step\n",
      "1/1 [==============================] - 0s 61ms/step\n",
      "1/1 [==============================] - 0s 54ms/step\n",
      "1/1 [==============================] - 0s 62ms/step\n",
      "1/1 [==============================] - 0s 60ms/step\n",
      "1/1 [==============================] - 0s 54ms/step\n",
      "1/1 [==============================] - 0s 52ms/step\n",
      "1/1 [==============================] - 0s 53ms/step\n",
      "1/1 [==============================] - 0s 54ms/step\n",
      "1/1 [==============================] - 0s 62ms/step\n",
      "1/1 [==============================] - 0s 62ms/step\n",
      "1/1 [==============================] - 0s 59ms/step\n",
      "1/1 [==============================] - 0s 63ms/step\n",
      "1/1 [==============================] - 0s 61ms/step\n",
      "1/1 [==============================] - 0s 55ms/step\n",
      "1/1 [==============================] - 0s 60ms/step\n",
      "1/1 [==============================] - 0s 61ms/step\n"
     ]
    },
    {
     "name": "stderr",
     "output_type": "stream",
     "text": [
      "[Succeeded / Failed / Skipped / Total] 7 / 27 / 0 / 34:   7%|▋         | 34/500 [01:56<26:39,  3.43s/it]"
     ]
    },
    {
     "name": "stdout",
     "output_type": "stream",
     "text": [
      "--------------------------------------------- Result 34 ---------------------------------------------\n",
      "[[0 (37%)]] --> [[[FAILED]]]\n",
      "\n",
      "saya baru saja mengalami pesan tiket lewat ini aplikasi penipu sudah transfer uang tapi belum ada balasan dan tidak ada respon jangan pernah pakai aplikasi tak nii \n",
      "\n",
      "\n",
      "1/1 [==============================] - 0s 41ms/step\n",
      "1/1 [==============================] - 0s 65ms/step\n",
      "1/1 [==============================] - 0s 64ms/step\n",
      "1/1 [==============================] - 0s 64ms/step\n",
      "1/1 [==============================] - 0s 61ms/step\n",
      "1/1 [==============================] - 0s 63ms/step\n",
      "1/1 [==============================] - 0s 63ms/step\n",
      "1/1 [==============================] - 0s 62ms/step\n",
      "1/1 [==============================] - 0s 62ms/step\n",
      "1/1 [==============================] - 0s 58ms/step\n",
      "1/1 [==============================] - 0s 71ms/step\n",
      "1/1 [==============================] - 0s 59ms/step\n",
      "1/1 [==============================] - 0s 52ms/step\n",
      "1/1 [==============================] - 0s 54ms/step\n",
      "1/1 [==============================] - 0s 60ms/step\n",
      "1/1 [==============================] - 0s 61ms/step\n",
      "1/1 [==============================] - 0s 61ms/step\n",
      "1/1 [==============================] - 0s 40ms/step\n",
      "1/1 [==============================] - 0s 59ms/step\n",
      "1/1 [==============================] - 0s 53ms/step\n",
      "1/1 [==============================] - 0s 63ms/step\n",
      "1/1 [==============================] - 0s 61ms/step\n"
     ]
    },
    {
     "name": "stderr",
     "output_type": "stream",
     "text": [
      "[Succeeded / Failed / Skipped / Total] 8 / 27 / 0 / 35:   7%|▋         | 35/500 [01:58<26:19,  3.40s/it]"
     ]
    },
    {
     "name": "stdout",
     "output_type": "stream",
     "text": [
      "--------------------------------------------- Result 35 ---------------------------------------------\n",
      "[[0 (36%)]] --> [[1 (34%)]]\n",
      "\n",
      "biasanya pesan tiket pesawat lancar lancar saja terakhir beli tiket kereta [[eksekutif]] untuk [[orang]] sudah ditransfer sebelum waktu berakhir tetapi cek [[order]] pemesanan kadaluarsa menyebalkan \n",
      "\n",
      "biasanya pesan tiket pesawat lancar lancar saja terakhir beli tiket kereta [[administrator]] untuk [[bentuk]] sudah ditransfer sebelum waktu berakhir tetapi cek [[arahan]] pemesanan kadaluarsa menyebalkan \n",
      "\n",
      "\n",
      "1/1 [==============================] - 0s 41ms/step\n",
      "1/1 [==============================] - 0s 64ms/step\n",
      "1/1 [==============================] - 0s 60ms/step\n",
      "1/1 [==============================] - 0s 62ms/step\n",
      "1/1 [==============================] - 0s 62ms/step\n",
      "1/1 [==============================] - 0s 53ms/step\n",
      "1/1 [==============================] - 0s 61ms/step\n",
      "1/1 [==============================] - 0s 64ms/step\n",
      "1/1 [==============================] - 0s 34ms/step\n",
      "1/1 [==============================] - 0s 62ms/step\n",
      "1/1 [==============================] - 0s 61ms/step\n",
      "1/1 [==============================] - 0s 54ms/step\n",
      "1/1 [==============================] - 0s 60ms/step\n",
      "1/1 [==============================] - 0s 60ms/step\n",
      "1/1 [==============================] - 0s 54ms/step\n",
      "1/1 [==============================] - 0s 60ms/step\n",
      "1/1 [==============================] - 0s 59ms/step\n",
      "1/1 [==============================] - 0s 59ms/step\n",
      "1/1 [==============================] - 0s 55ms/step\n",
      "1/1 [==============================] - 0s 61ms/step\n",
      "1/1 [==============================] - 0s 60ms/step\n",
      "1/1 [==============================] - 0s 40ms/step\n",
      "1/1 [==============================] - 0s 68ms/step\n",
      "1/1 [==============================] - 0s 62ms/step\n",
      "1/1 [==============================] - 0s 64ms/step\n",
      "1/1 [==============================] - 0s 61ms/step\n",
      "1/1 [==============================] - 0s 53ms/step\n",
      "1/1 [==============================] - 0s 60ms/step\n"
     ]
    },
    {
     "name": "stderr",
     "output_type": "stream",
     "text": [
      "[Succeeded / Failed / Skipped / Total] 8 / 28 / 0 / 36:   7%|▋         | 36/500 [02:01<26:07,  3.38s/it]"
     ]
    },
    {
     "name": "stdout",
     "output_type": "stream",
     "text": [
      "--------------------------------------------- Result 36 ---------------------------------------------\n",
      "[[0 (42%)]] --> [[[FAILED]]]\n",
      "\n",
      "proses pengembalian dana lama sudah dibayar tapi kode pesan tidak dapat pelayanan kurang telepon ke pelayanan pelanggan pakai pulsa yang banyak tidak mau pesan lagi di sini\n",
      "\n",
      "\n",
      "1/1 [==============================] - 0s 41ms/step\n",
      "1/1 [==============================] - 0s 62ms/step\n",
      "1/1 [==============================] - 0s 59ms/step\n",
      "1/1 [==============================] - 0s 60ms/step\n",
      "1/1 [==============================] - 0s 69ms/step\n",
      "1/1 [==============================] - 0s 61ms/step\n",
      "1/1 [==============================] - 0s 61ms/step\n",
      "1/1 [==============================] - 0s 60ms/step\n",
      "1/1 [==============================] - 0s 53ms/step\n",
      "1/1 [==============================] - 0s 59ms/step\n",
      "1/1 [==============================] - 0s 62ms/step\n",
      "1/1 [==============================] - 0s 70ms/step\n",
      "1/1 [==============================] - 0s 61ms/step\n",
      "1/1 [==============================] - 0s 60ms/step\n",
      "1/1 [==============================] - 0s 64ms/step\n",
      "1/1 [==============================] - 0s 63ms/step\n"
     ]
    },
    {
     "name": "stderr",
     "output_type": "stream",
     "text": [
      "[Succeeded / Failed / Skipped / Total] 8 / 29 / 0 / 37:   7%|▋         | 37/500 [02:03<25:42,  3.33s/it]"
     ]
    },
    {
     "name": "stdout",
     "output_type": "stream",
     "text": [
      "--------------------------------------------- Result 37 ---------------------------------------------\n",
      "[[0 (41%)]] --> [[[FAILED]]]\n",
      "\n",
      "e tiket belum diterima padahal uang nya sudah ditransfer pas mau konfirmasi ke pelayanan pelanggan tidak pernah direspons e mail juga tidak dijawab mantap bikin kecewa saja bisa nya \n",
      "\n",
      "\n",
      "1/1 [==============================] - 0s 40ms/step\n",
      "1/1 [==============================] - 0s 65ms/step\n",
      "1/1 [==============================] - 0s 52ms/step\n",
      "1/1 [==============================] - 0s 53ms/step\n",
      "1/1 [==============================] - 0s 53ms/step\n",
      "1/1 [==============================] - 0s 55ms/step\n",
      "1/1 [==============================] - 0s 54ms/step\n",
      "1/1 [==============================] - 0s 65ms/step\n",
      "1/1 [==============================] - 0s 61ms/step\n",
      "1/1 [==============================] - 0s 60ms/step\n",
      "1/1 [==============================] - 0s 52ms/step\n",
      "1/1 [==============================] - 0s 52ms/step\n",
      "1/1 [==============================] - 0s 61ms/step\n",
      "1/1 [==============================] - 0s 38ms/step\n",
      "1/1 [==============================] - 0s 63ms/step\n",
      "1/1 [==============================] - 0s 64ms/step\n",
      "1/1 [==============================] - 0s 57ms/step\n",
      "1/1 [==============================] - 0s 62ms/step\n",
      "1/1 [==============================] - 0s 53ms/step\n",
      "1/1 [==============================] - 0s 55ms/step\n",
      "1/1 [==============================] - 0s 64ms/step\n",
      "1/1 [==============================] - 0s 39ms/step\n",
      "1/1 [==============================] - 0s 60ms/step\n",
      "1/1 [==============================] - 0s 58ms/step\n",
      "1/1 [==============================] - 0s 60ms/step\n",
      "1/1 [==============================] - 0s 52ms/step\n",
      "1/1 [==============================] - 0s 53ms/step\n",
      "1/1 [==============================] - 0s 61ms/step\n",
      "1/1 [==============================] - 0s 59ms/step\n",
      "1/1 [==============================] - 0s 51ms/step\n",
      "1/1 [==============================] - 0s 62ms/step\n",
      "1/1 [==============================] - 0s 60ms/step\n",
      "1/1 [==============================] - 0s 54ms/step\n",
      "1/1 [==============================] - 0s 56ms/step\n",
      "1/1 [==============================] - 0s 67ms/step\n",
      "1/1 [==============================] - 0s 53ms/step\n",
      "1/1 [==============================] - 0s 62ms/step\n",
      "1/1 [==============================] - 0s 63ms/step\n",
      "1/1 [==============================] - 0s 62ms/step\n",
      "1/1 [==============================] - 0s 60ms/step\n",
      "1/1 [==============================] - 0s 61ms/step\n",
      "1/1 [==============================] - 0s 61ms/step\n",
      "1/1 [==============================] - 0s 52ms/step\n",
      "1/1 [==============================] - 0s 55ms/step\n",
      "1/1 [==============================] - 0s 65ms/step\n",
      "1/1 [==============================] - 0s 71ms/step\n",
      "1/1 [==============================] - 0s 53ms/step\n",
      "1/1 [==============================] - 0s 54ms/step\n",
      "1/1 [==============================] - 0s 62ms/step\n",
      "1/1 [==============================] - 0s 60ms/step\n",
      "1/1 [==============================] - 0s 54ms/step\n",
      "1/1 [==============================] - 0s 54ms/step\n",
      "1/1 [==============================] - 0s 55ms/step\n",
      "1/1 [==============================] - 0s 54ms/step\n",
      "1/1 [==============================] - 0s 53ms/step\n",
      "1/1 [==============================] - 0s 56ms/step\n",
      "1/1 [==============================] - 0s 65ms/step\n",
      "1/1 [==============================] - 0s 63ms/step\n",
      "1/1 [==============================] - 0s 66ms/step\n",
      "1/1 [==============================] - 0s 39ms/step\n",
      "1/1 [==============================] - 0s 38ms/step\n"
     ]
    },
    {
     "name": "stderr",
     "output_type": "stream",
     "text": [
      "[Succeeded / Failed / Skipped / Total] 8 / 30 / 0 / 38:   8%|▊         | 38/500 [02:09<26:13,  3.40s/it]"
     ]
    },
    {
     "name": "stdout",
     "output_type": "stream",
     "text": [
      "--------------------------------------------- Result 38 ---------------------------------------------\n",
      "[[0 (42%)]] --> [[[FAILED]]]\n",
      "\n",
      "saya sudah berhasil transaksi sesuai nominal tagihan dan sampai saat ini belum dapat etiket ini pelayanan yang sangat buruk dan menjengkelkan sudah email beberapa kali tapi tidak ada respon pelayanan pelanggan nya yang super duper lemah otak kalau kode pesan tidak juga dikirim pokokanyak duit saya harus kembali \n",
      "\n",
      "\n",
      "1/1 [==============================] - 0s 49ms/step\n",
      "1/1 [==============================] - 0s 65ms/step\n",
      "1/1 [==============================] - 0s 62ms/step\n",
      "1/1 [==============================] - 0s 61ms/step\n",
      "1/1 [==============================] - 0s 65ms/step\n",
      "1/1 [==============================] - 0s 42ms/step\n",
      "1/1 [==============================] - 0s 35ms/step\n",
      "1/1 [==============================] - 0s 62ms/step\n",
      "1/1 [==============================] - 0s 40ms/step\n",
      "1/1 [==============================] - 0s 63ms/step\n",
      "1/1 [==============================] - 0s 41ms/step\n"
     ]
    },
    {
     "name": "stderr",
     "output_type": "stream",
     "text": [
      "[Succeeded / Failed / Skipped / Total] 8 / 31 / 0 / 39:   8%|▊         | 39/500 [02:10<25:41,  3.34s/it]"
     ]
    },
    {
     "name": "stdout",
     "output_type": "stream",
     "text": [
      "--------------------------------------------- Result 39 ---------------------------------------------\n",
      "[[0 (40%)]] --> [[[FAILED]]]\n",
      "\n",
      "tidak bisa menggunakan kode promo di aplikasi android telpon ke pelayanan pelanggan bilang nya tidak ada solusi nya oke uninstall dan tidak rekomendasi \n",
      "\n",
      "\n",
      "1/1 [==============================] - 0s 39ms/step\n",
      "1/1 [==============================] - 0s 73ms/step\n",
      "1/1 [==============================] - 0s 64ms/step\n",
      "1/1 [==============================] - 0s 52ms/step\n",
      "1/1 [==============================] - 0s 60ms/step\n",
      "1/1 [==============================] - 0s 60ms/step\n",
      "1/1 [==============================] - 0s 63ms/step\n",
      "1/1 [==============================] - 0s 60ms/step\n",
      "1/1 [==============================] - 0s 64ms/step\n",
      "1/1 [==============================] - 0s 63ms/step\n",
      "1/1 [==============================] - 0s 62ms/step\n",
      "1/1 [==============================] - 0s 54ms/step\n",
      "1/1 [==============================] - 0s 53ms/step\n",
      "1/1 [==============================] - 0s 60ms/step\n",
      "1/1 [==============================] - 0s 61ms/step\n",
      "1/1 [==============================] - 0s 62ms/step\n"
     ]
    },
    {
     "name": "stderr",
     "output_type": "stream",
     "text": [
      "[Succeeded / Failed / Skipped / Total] 9 / 31 / 0 / 40:   8%|▊         | 40/500 [02:12<25:18,  3.30s/it]"
     ]
    },
    {
     "name": "stdout",
     "output_type": "stream",
     "text": [
      "--------------------------------------------- Result 40 ---------------------------------------------\n",
      "[[0 (37%)]] --> [[1 (37%)]]\n",
      "\n",
      "menyesal pesan tiket pesawat di tiket com sudah di transfer dibilang transaksi kedaluarsa pulsa [[habis]] banyak untuk telpon pelayanan pelanggan \n",
      "\n",
      "menyesal pesan tiket pesawat di tiket com sudah di transfer dibilang transaksi kedaluarsa pulsa [[lalu]] banyak untuk telpon pelayanan pelanggan \n",
      "\n",
      "\n",
      "1/1 [==============================] - 0s 40ms/step\n",
      "1/1 [==============================] - 0s 66ms/step\n",
      "1/1 [==============================] - 0s 75ms/step\n",
      "1/1 [==============================] - 0s 61ms/step\n",
      "1/1 [==============================] - 0s 62ms/step\n",
      "1/1 [==============================] - 0s 62ms/step\n",
      "1/1 [==============================] - 0s 63ms/step\n",
      "1/1 [==============================] - 0s 62ms/step\n",
      "1/1 [==============================] - 0s 60ms/step\n",
      "1/1 [==============================] - 0s 61ms/step\n",
      "1/1 [==============================] - 0s 65ms/step\n",
      "1/1 [==============================] - 0s 63ms/step\n",
      "1/1 [==============================] - 0s 61ms/step\n",
      "1/1 [==============================] - 0s 68ms/step\n",
      "1/1 [==============================] - 0s 63ms/step\n"
     ]
    },
    {
     "name": "stderr",
     "output_type": "stream",
     "text": [
      "[Succeeded / Failed / Skipped / Total] 9 / 32 / 0 / 41:   8%|▊         | 41/500 [02:13<24:55,  3.26s/it]"
     ]
    },
    {
     "name": "stdout",
     "output_type": "stream",
     "text": [
      "--------------------------------------------- Result 41 ---------------------------------------------\n",
      "[[0 (38%)]] --> [[[FAILED]]]\n",
      "\n",
      "di saat saya salah pembelian pengembalian uang cuma itu tidak masalah abang saya tetapi sudah bulan belum ada juga pengembalian nya tiket com tidak bisa dipercaya \n",
      "\n",
      "\n",
      "1/1 [==============================] - 0s 41ms/step\n",
      "1/1 [==============================] - 0s 82ms/step\n",
      "1/1 [==============================] - 0s 53ms/step\n",
      "1/1 [==============================] - 0s 60ms/step\n",
      "1/1 [==============================] - 0s 62ms/step\n",
      "1/1 [==============================] - 0s 61ms/step\n",
      "1/1 [==============================] - 0s 61ms/step\n",
      "1/1 [==============================] - 0s 53ms/step\n",
      "1/1 [==============================] - 0s 62ms/step\n",
      "1/1 [==============================] - 0s 60ms/step\n",
      "1/1 [==============================] - 0s 59ms/step\n",
      "1/1 [==============================] - 0s 53ms/step\n",
      "1/1 [==============================] - 0s 60ms/step\n",
      "1/1 [==============================] - 0s 67ms/step\n",
      "1/1 [==============================] - 0s 65ms/step\n",
      "1/1 [==============================] - 0s 62ms/step\n"
     ]
    },
    {
     "name": "stderr",
     "output_type": "stream",
     "text": [
      "[Succeeded / Failed / Skipped / Total] 9 / 33 / 0 / 42:   8%|▊         | 42/500 [02:15<24:34,  3.22s/it]"
     ]
    },
    {
     "name": "stdout",
     "output_type": "stream",
     "text": [
      "--------------------------------------------- Result 42 ---------------------------------------------\n",
      "[[0 (40%)]] --> [[[FAILED]]]\n",
      "\n",
      "sangat kecewa dengan pelayanan nya saya sudah transfer tapi sampai sekarang belum ada konfirmasi padahal sudah kirim bukti transfer dan sudah telpon ke cs nya \n",
      "\n",
      "\n",
      "1/1 [==============================] - 0s 36ms/step\n",
      "1/1 [==============================] - 0s 62ms/step\n",
      "1/1 [==============================] - 0s 55ms/step\n",
      "1/1 [==============================] - 0s 61ms/step\n",
      "1/1 [==============================] - 0s 60ms/step\n",
      "1/1 [==============================] - 0s 62ms/step\n",
      "1/1 [==============================] - 0s 60ms/step\n",
      "1/1 [==============================] - 0s 61ms/step\n",
      "1/1 [==============================] - 0s 61ms/step\n",
      "1/1 [==============================] - 0s 53ms/step\n",
      "1/1 [==============================] - 0s 61ms/step\n",
      "1/1 [==============================] - 0s 60ms/step\n",
      "1/1 [==============================] - 0s 61ms/step\n",
      "1/1 [==============================] - 0s 62ms/step\n",
      "1/1 [==============================] - 0s 63ms/step\n"
     ]
    },
    {
     "name": "stderr",
     "output_type": "stream",
     "text": [
      "[Succeeded / Failed / Skipped / Total] 9 / 34 / 0 / 43:   9%|▊         | 43/500 [02:16<24:12,  3.18s/it]"
     ]
    },
    {
     "name": "stdout",
     "output_type": "stream",
     "text": [
      "--------------------------------------------- Result 43 ---------------------------------------------\n",
      "[[0 (38%)]] --> [[[FAILED]]]\n",
      "\n",
      "saya kecewa sama aplikasi ini padahal cek in nya jam malahan saya ketinggal pesawat kembalikan uang saya \n",
      "\n",
      "\n",
      "1/1 [==============================] - 0s 45ms/step\n",
      "1/1 [==============================] - 0s 65ms/step\n",
      "1/1 [==============================] - 0s 60ms/step\n",
      "1/1 [==============================] - 0s 62ms/step\n",
      "1/1 [==============================] - 0s 54ms/step\n",
      "1/1 [==============================] - 0s 61ms/step\n",
      "1/1 [==============================] - 0s 62ms/step\n",
      "1/1 [==============================] - 0s 68ms/step\n",
      "1/1 [==============================] - 0s 56ms/step\n",
      "1/1 [==============================] - 0s 54ms/step\n",
      "1/1 [==============================] - 0s 55ms/step\n",
      "1/1 [==============================] - 0s 64ms/step\n",
      "1/1 [==============================] - 0s 61ms/step\n",
      "1/1 [==============================] - 0s 55ms/step\n",
      "1/1 [==============================] - 0s 58ms/step\n",
      "1/1 [==============================] - 0s 54ms/step\n",
      "1/1 [==============================] - 0s 56ms/step\n",
      "1/1 [==============================] - 0s 62ms/step\n",
      "1/1 [==============================] - 0s 59ms/step\n",
      "1/1 [==============================] - 0s 62ms/step\n",
      "1/1 [==============================] - 0s 54ms/step\n",
      "1/1 [==============================] - 0s 54ms/step\n",
      "1/1 [==============================] - 0s 52ms/step\n",
      "1/1 [==============================] - 0s 60ms/step\n",
      "1/1 [==============================] - 0s 61ms/step\n",
      "1/1 [==============================] - 0s 52ms/step\n",
      "1/1 [==============================] - 0s 55ms/step\n",
      "1/1 [==============================] - 0s 53ms/step\n",
      "1/1 [==============================] - 0s 60ms/step\n",
      "1/1 [==============================] - 0s 54ms/step\n",
      "1/1 [==============================] - 0s 59ms/step\n",
      "1/1 [==============================] - 0s 53ms/step\n",
      "1/1 [==============================] - 0s 63ms/step\n",
      "1/1 [==============================] - 0s 61ms/step\n",
      "1/1 [==============================] - 0s 55ms/step\n",
      "1/1 [==============================] - 0s 63ms/step\n",
      "1/1 [==============================] - 0s 53ms/step\n",
      "1/1 [==============================] - 0s 54ms/step\n",
      "1/1 [==============================] - 0s 54ms/step\n",
      "1/1 [==============================] - 0s 60ms/step\n",
      "1/1 [==============================] - 0s 54ms/step\n",
      "1/1 [==============================] - 0s 54ms/step\n",
      "1/1 [==============================] - 0s 55ms/step\n",
      "1/1 [==============================] - 0s 55ms/step\n",
      "1/1 [==============================] - 0s 53ms/step\n",
      "1/1 [==============================] - 0s 65ms/step\n",
      "1/1 [==============================] - 0s 54ms/step\n",
      "1/1 [==============================] - 0s 58ms/step\n",
      "1/1 [==============================] - 0s 61ms/step\n",
      "1/1 [==============================] - 0s 62ms/step\n",
      "1/1 [==============================] - 0s 58ms/step\n",
      "1/1 [==============================] - 0s 55ms/step\n",
      "1/1 [==============================] - 0s 56ms/step\n",
      "1/1 [==============================] - 0s 61ms/step\n",
      "1/1 [==============================] - 0s 61ms/step\n"
     ]
    },
    {
     "name": "stderr",
     "output_type": "stream",
     "text": [
      "[Succeeded / Failed / Skipped / Total] 9 / 35 / 0 / 44:   9%|▉         | 44/500 [02:22<24:33,  3.23s/it]"
     ]
    },
    {
     "name": "stdout",
     "output_type": "stream",
     "text": [
      "--------------------------------------------- Result 44 ---------------------------------------------\n",
      "[[0 (46%)]] --> [[[FAILED]]]\n",
      "\n",
      "tiket kadaluarsa padahal sudah bayar kacau mengganggu waktu dan rencana saya sistem nya tidak bagus pelayanan pelanggan nya tidak professional kalau tidak mau kerja suruh jangan kerja \n",
      "\n",
      "\n",
      "1/1 [==============================] - 0s 39ms/step\n",
      "1/1 [==============================] - 0s 64ms/step\n",
      "1/1 [==============================] - 0s 61ms/step\n",
      "1/1 [==============================] - 0s 66ms/step\n",
      "1/1 [==============================] - 0s 59ms/step\n",
      "1/1 [==============================] - 0s 59ms/step\n",
      "1/1 [==============================] - 0s 59ms/step\n",
      "1/1 [==============================] - 0s 41ms/step\n",
      "1/1 [==============================] - 0s 63ms/step\n",
      "1/1 [==============================] - 0s 54ms/step\n",
      "1/1 [==============================] - 0s 61ms/step\n",
      "1/1 [==============================] - 0s 62ms/step\n",
      "1/1 [==============================] - 0s 61ms/step\n"
     ]
    },
    {
     "name": "stderr",
     "output_type": "stream",
     "text": [
      "[Succeeded / Failed / Skipped / Total] 10 / 35 / 0 / 45:   9%|▉         | 45/500 [02:23<24:10,  3.19s/it]"
     ]
    },
    {
     "name": "stdout",
     "output_type": "stream",
     "text": [
      "--------------------------------------------- Result 45 ---------------------------------------------\n",
      "[[0 (39%)]] --> [[2 (34%)]]\n",
      "\n",
      "[[maaf]] [[ya]] saya uninstall saya [[kecewa]] karena sudah melakukan pembayaran tetapi tidak dikonfirmasi saya sudah komplain via email tetapi respon nya sangat [[lambat]] \n",
      "\n",
      "[[pemaafan]] [[pasti]] saya uninstall saya [[tewas]] karena sudah melakukan pembayaran tetapi tidak dikonfirmasi saya sudah komplain via email tetapi respon nya sangat [[perlahan-lahan]] \n",
      "\n",
      "\n",
      "1/1 [==============================] - 0s 35ms/step\n",
      "1/1 [==============================] - 0s 63ms/step\n",
      "1/1 [==============================] - 0s 63ms/step\n",
      "1/1 [==============================] - 0s 53ms/step\n",
      "1/1 [==============================] - 0s 62ms/step\n",
      "1/1 [==============================] - 0s 66ms/step\n",
      "1/1 [==============================] - 0s 58ms/step\n",
      "1/1 [==============================] - 0s 60ms/step\n",
      "1/1 [==============================] - 0s 54ms/step\n",
      "1/1 [==============================] - 0s 59ms/step\n",
      "1/1 [==============================] - 0s 59ms/step\n",
      "1/1 [==============================] - 0s 59ms/step\n",
      "1/1 [==============================] - 0s 60ms/step\n",
      "1/1 [==============================] - 0s 52ms/step\n",
      "1/1 [==============================] - 0s 61ms/step\n",
      "1/1 [==============================] - 0s 62ms/step\n",
      "1/1 [==============================] - 0s 53ms/step\n",
      "1/1 [==============================] - 0s 61ms/step\n",
      "1/1 [==============================] - 0s 62ms/step\n",
      "1/1 [==============================] - 0s 67ms/step\n",
      "1/1 [==============================] - 0s 61ms/step\n"
     ]
    },
    {
     "name": "stderr",
     "output_type": "stream",
     "text": [
      "[Succeeded / Failed / Skipped / Total] 10 / 36 / 0 / 46:   9%|▉         | 46/500 [02:25<23:56,  3.16s/it]"
     ]
    },
    {
     "name": "stdout",
     "output_type": "stream",
     "text": [
      "--------------------------------------------- Result 46 ---------------------------------------------\n",
      "[[0 (43%)]] --> [[[FAILED]]]\n",
      "\n",
      "serem melihat pengalaman yang sudah pesan di sini mending uninstal saja aplikasi abal abal ini mending pakai burung biru saja jelas \n",
      "\n",
      "\n",
      "1/1 [==============================] - 0s 41ms/step\n",
      "1/1 [==============================] - 0s 62ms/step\n",
      "1/1 [==============================] - 0s 65ms/step\n",
      "1/1 [==============================] - 0s 63ms/step\n",
      "1/1 [==============================] - 0s 61ms/step\n",
      "1/1 [==============================] - 0s 57ms/step\n",
      "1/1 [==============================] - 0s 54ms/step\n",
      "1/1 [==============================] - 0s 84ms/step\n"
     ]
    },
    {
     "name": "stderr",
     "output_type": "stream",
     "text": [
      "[Succeeded / Failed / Skipped / Total] 11 / 36 / 0 / 47:   9%|▉         | 47/500 [02:26<23:30,  3.11s/it]"
     ]
    },
    {
     "name": "stdout",
     "output_type": "stream",
     "text": [
      "--------------------------------------------- Result 47 ---------------------------------------------\n",
      "[[0 (36%)]] --> [[2 (35%)]]\n",
      "\n",
      "minta dikembalikan karena permasalahan bencana alam tapi tidak ada respon baik dari [[pelanggan]] nya sangat mengecewakan \n",
      "\n",
      "minta dikembalikan karena permasalahan bencana alam tapi tidak ada respon baik dari [[klien]] nya sangat mengecewakan \n",
      "\n",
      "\n",
      "1/1 [==============================] - 0s 40ms/step\n",
      "1/1 [==============================] - 0s 62ms/step\n",
      "1/1 [==============================] - 0s 60ms/step\n",
      "1/1 [==============================] - 0s 53ms/step\n",
      "1/1 [==============================] - 0s 54ms/step\n",
      "1/1 [==============================] - 0s 61ms/step\n",
      "1/1 [==============================] - 0s 53ms/step\n",
      "1/1 [==============================] - 0s 61ms/step\n",
      "1/1 [==============================] - 0s 61ms/step\n",
      "1/1 [==============================] - 0s 55ms/step\n",
      "1/1 [==============================] - 0s 56ms/step\n",
      "1/1 [==============================] - 0s 60ms/step\n",
      "1/1 [==============================] - 0s 33ms/step\n",
      "1/1 [==============================] - 0s 64ms/step\n",
      "1/1 [==============================] - 0s 55ms/step\n",
      "1/1 [==============================] - 0s 59ms/step\n",
      "1/1 [==============================] - 0s 60ms/step\n",
      "1/1 [==============================] - 0s 53ms/step\n",
      "1/1 [==============================] - 0s 60ms/step\n",
      "1/1 [==============================] - 0s 42ms/step\n",
      "1/1 [==============================] - 0s 59ms/step\n"
     ]
    },
    {
     "name": "stderr",
     "output_type": "stream",
     "text": [
      "[Succeeded / Failed / Skipped / Total] 11 / 37 / 0 / 48:  10%|▉         | 48/500 [02:28<23:17,  3.09s/it]"
     ]
    },
    {
     "name": "stdout",
     "output_type": "stream",
     "text": [
      "--------------------------------------------- Result 48 ---------------------------------------------\n",
      "[[0 (48%)]] --> [[[FAILED]]]\n",
      "\n",
      "aplikasi tipu sialan mengembalikan duit gua gua minta prtnggungjawaban susah sekali sialan menyebalkan \n",
      "\n",
      "\n",
      "1/1 [==============================] - 0s 42ms/step\n",
      "1/1 [==============================] - 0s 62ms/step\n",
      "1/1 [==============================] - 0s 58ms/step\n",
      "1/1 [==============================] - 0s 60ms/step\n",
      "1/1 [==============================] - 0s 61ms/step\n",
      "1/1 [==============================] - 0s 64ms/step\n",
      "1/1 [==============================] - 0s 67ms/step\n",
      "1/1 [==============================] - 0s 59ms/step\n",
      "1/1 [==============================] - 0s 63ms/step\n",
      "1/1 [==============================] - 0s 60ms/step\n",
      "1/1 [==============================] - 0s 61ms/step\n",
      "1/1 [==============================] - 0s 37ms/step\n",
      "1/1 [==============================] - 0s 38ms/step\n",
      "1/1 [==============================] - 0s 60ms/step\n",
      "1/1 [==============================] - 0s 59ms/step\n",
      "1/1 [==============================] - 0s 62ms/step\n",
      "1/1 [==============================] - 0s 56ms/step\n",
      "1/1 [==============================] - 0s 61ms/step\n",
      "1/1 [==============================] - 0s 60ms/step\n",
      "1/1 [==============================] - 0s 62ms/step\n",
      "1/1 [==============================] - 0s 42ms/step\n",
      "1/1 [==============================] - 0s 68ms/step\n",
      "1/1 [==============================] - 0s 62ms/step\n",
      "1/1 [==============================] - 0s 62ms/step\n",
      "1/1 [==============================] - 0s 61ms/step\n",
      "1/1 [==============================] - 0s 39ms/step\n",
      "1/1 [==============================] - 0s 60ms/step\n",
      "1/1 [==============================] - 0s 59ms/step\n",
      "1/1 [==============================] - 0s 61ms/step\n",
      "1/1 [==============================] - 0s 64ms/step\n",
      "1/1 [==============================] - 0s 59ms/step\n",
      "1/1 [==============================] - 0s 59ms/step\n"
     ]
    },
    {
     "name": "stderr",
     "output_type": "stream",
     "text": [
      "[Succeeded / Failed / Skipped / Total] 11 / 38 / 0 / 49:  10%|▉         | 49/500 [02:31<23:15,  3.09s/it]"
     ]
    },
    {
     "name": "stdout",
     "output_type": "stream",
     "text": [
      "--------------------------------------------- Result 49 ---------------------------------------------\n",
      "[[0 (43%)]] --> [[[FAILED]]]\n",
      "\n",
      "saya kemarin batalkan tiket pesawat karena salah ordrer kami sudah minta dikembalikan dan dapat balasan baru diproses tapi kenapa proses lama tidak seperti traveloka saat itu langsung dikembalikan pelayanan pelanggan pun telepon nya tarif mahal ini sudah lebih tiga hari setelah saya baca ternyata banyak pelanggan yang dibuat kecewa \n",
      "\n",
      "\n",
      "1/1 [==============================] - 0s 43ms/step\n",
      "1/1 [==============================] - 0s 68ms/step\n",
      "1/1 [==============================] - 0s 55ms/step\n",
      "1/1 [==============================] - 0s 60ms/step\n",
      "1/1 [==============================] - 0s 59ms/step\n",
      "1/1 [==============================] - 0s 60ms/step\n",
      "1/1 [==============================] - 0s 61ms/step\n",
      "1/1 [==============================] - 0s 58ms/step\n",
      "1/1 [==============================] - 0s 57ms/step\n",
      "1/1 [==============================] - 0s 55ms/step\n",
      "1/1 [==============================] - 0s 62ms/step\n",
      "1/1 [==============================] - 0s 48ms/step\n",
      "1/1 [==============================] - 0s 62ms/step\n",
      "1/1 [==============================] - 0s 52ms/step\n",
      "1/1 [==============================] - 0s 61ms/step\n",
      "1/1 [==============================] - 0s 62ms/step\n",
      "1/1 [==============================] - 0s 59ms/step\n",
      "1/1 [==============================] - 0s 60ms/step\n",
      "1/1 [==============================] - 0s 57ms/step\n",
      "1/1 [==============================] - 0s 62ms/step\n",
      "1/1 [==============================] - 0s 36ms/step\n"
     ]
    },
    {
     "name": "stderr",
     "output_type": "stream",
     "text": [
      "[Succeeded / Failed / Skipped / Total] 11 / 39 / 0 / 50:  10%|█         | 50/500 [02:33<23:03,  3.07s/it]"
     ]
    },
    {
     "name": "stdout",
     "output_type": "stream",
     "text": [
      "--------------------------------------------- Result 50 ---------------------------------------------\n",
      "[[0 (39%)]] --> [[[FAILED]]]\n",
      "\n",
      "tolong ya dana pengembalian dana saya ini sudah berbulan bulan saya email berkali kali tidak dibalas masalah nya ini bukan ratusan ribu atau satu dua jutaan sama sekali tidak bertanggung jawab dan sangat mengecewakan\n",
      "\n",
      "\n",
      "1/1 [==============================] - 0s 38ms/step\n",
      "1/1 [==============================] - 0s 67ms/step\n",
      "1/1 [==============================] - 0s 59ms/step\n",
      "1/1 [==============================] - 0s 54ms/step\n",
      "1/1 [==============================] - 0s 54ms/step\n",
      "1/1 [==============================] - 0s 62ms/step\n",
      "1/1 [==============================] - 0s 58ms/step\n",
      "1/1 [==============================] - 0s 60ms/step\n",
      "1/1 [==============================] - 0s 44ms/step\n",
      "1/1 [==============================] - 0s 59ms/step\n",
      "1/1 [==============================] - 0s 55ms/step\n",
      "1/1 [==============================] - 0s 52ms/step\n",
      "1/1 [==============================] - 0s 61ms/step\n",
      "1/1 [==============================] - 0s 35ms/step\n",
      "1/1 [==============================] - 0s 60ms/step\n"
     ]
    },
    {
     "name": "stderr",
     "output_type": "stream",
     "text": [
      "[Succeeded / Failed / Skipped / Total] 11 / 40 / 0 / 51:  10%|█         | 51/500 [02:35<22:46,  3.04s/it]"
     ]
    },
    {
     "name": "stdout",
     "output_type": "stream",
     "text": [
      "--------------------------------------------- Result 51 ---------------------------------------------\n",
      "[[0 (39%)]] --> [[[FAILED]]]\n",
      "\n",
      "saya melakukan pemesanan dan sudah transfer tapi etiket belum juga masuk dana saya juga belum ditransfer bahkan layanan live obrolan nya tidak ada menyebalkan \n",
      "\n",
      "\n",
      "1/1 [==============================] - 0s 44ms/step\n",
      "1/1 [==============================] - 0s 60ms/step\n",
      "1/1 [==============================] - 0s 59ms/step\n",
      "1/1 [==============================] - 0s 54ms/step\n",
      "1/1 [==============================] - 0s 63ms/step\n",
      "1/1 [==============================] - 0s 59ms/step\n",
      "1/1 [==============================] - 0s 60ms/step\n",
      "1/1 [==============================] - 0s 61ms/step\n",
      "1/1 [==============================] - 0s 52ms/step\n",
      "1/1 [==============================] - 0s 58ms/step\n",
      "1/1 [==============================] - 0s 60ms/step\n",
      "1/1 [==============================] - 0s 59ms/step\n",
      "1/1 [==============================] - 0s 61ms/step\n",
      "1/1 [==============================] - 0s 58ms/step\n",
      "1/1 [==============================] - 0s 62ms/step\n",
      "1/1 [==============================] - 0s 57ms/step\n",
      "1/1 [==============================] - 0s 53ms/step\n",
      "1/1 [==============================] - 0s 58ms/step\n",
      "1/1 [==============================] - 0s 58ms/step\n",
      "1/1 [==============================] - 0s 53ms/step\n",
      "1/1 [==============================] - 0s 61ms/step\n",
      "1/1 [==============================] - 0s 63ms/step\n",
      "1/1 [==============================] - 0s 59ms/step\n",
      "1/1 [==============================] - 0s 57ms/step\n",
      "1/1 [==============================] - 0s 58ms/step\n"
     ]
    },
    {
     "name": "stderr",
     "output_type": "stream",
     "text": [
      "[Succeeded / Failed / Skipped / Total] 11 / 41 / 0 / 52:  10%|█         | 52/500 [02:37<22:38,  3.03s/it]"
     ]
    },
    {
     "name": "stdout",
     "output_type": "stream",
     "text": [
      "--------------------------------------------- Result 52 ---------------------------------------------\n",
      "[[0 (41%)]] --> [[[FAILED]]]\n",
      "\n",
      "sebelumnya saya senang sekali menggunakan aplikasi ini tetapi sekarang agak kecewa kenapa diminta update dan karena belum diupdate aplikasi tidak dapat dijalankan pertanyaan saya update terbaru ini kenapa minta izin akses ke kontak dan telpon ini membuat konsumen tidak nyaman \n",
      "\n",
      "\n",
      "1/1 [==============================] - 0s 42ms/step\n",
      "1/1 [==============================] - 0s 66ms/step\n",
      "1/1 [==============================] - 0s 61ms/step\n",
      "1/1 [==============================] - 0s 59ms/step\n",
      "1/1 [==============================] - 0s 60ms/step\n",
      "1/1 [==============================] - 0s 58ms/step\n",
      "1/1 [==============================] - 0s 39ms/step\n",
      "1/1 [==============================] - 0s 53ms/step\n",
      "1/1 [==============================] - 0s 54ms/step\n",
      "1/1 [==============================] - 0s 59ms/step\n",
      "1/1 [==============================] - 0s 70ms/step\n",
      "1/1 [==============================] - 0s 59ms/step\n",
      "1/1 [==============================] - 0s 58ms/step\n",
      "1/1 [==============================] - 0s 60ms/step\n",
      "1/1 [==============================] - 0s 58ms/step\n",
      "1/1 [==============================] - 0s 52ms/step\n",
      "1/1 [==============================] - 0s 52ms/step\n",
      "1/1 [==============================] - 0s 60ms/step\n",
      "1/1 [==============================] - 0s 59ms/step\n",
      "1/1 [==============================] - 0s 62ms/step\n",
      "1/1 [==============================] - 0s 57ms/step\n",
      "1/1 [==============================] - 0s 59ms/step\n",
      "1/1 [==============================] - 0s 60ms/step\n",
      "1/1 [==============================] - 0s 52ms/step\n",
      "1/1 [==============================] - 0s 52ms/step\n",
      "1/1 [==============================] - 0s 60ms/step\n",
      "1/1 [==============================] - 0s 58ms/step\n",
      "1/1 [==============================] - 0s 59ms/step\n",
      "1/1 [==============================] - 0s 55ms/step\n",
      "1/1 [==============================] - 0s 55ms/step\n",
      "1/1 [==============================] - 0s 66ms/step\n",
      "1/1 [==============================] - 0s 58ms/step\n",
      "1/1 [==============================] - 0s 56ms/step\n",
      "1/1 [==============================] - 0s 57ms/step\n",
      "1/1 [==============================] - 0s 60ms/step\n",
      "1/1 [==============================] - 0s 59ms/step\n",
      "1/1 [==============================] - 0s 59ms/step\n",
      "1/1 [==============================] - 0s 52ms/step\n",
      "1/1 [==============================] - 0s 54ms/step\n",
      "1/1 [==============================] - 0s 60ms/step\n",
      "1/1 [==============================] - 0s 52ms/step\n",
      "1/1 [==============================] - 0s 53ms/step\n",
      "1/1 [==============================] - 0s 57ms/step\n",
      "1/1 [==============================] - 0s 60ms/step\n",
      "1/1 [==============================] - 0s 58ms/step\n",
      "1/1 [==============================] - 0s 59ms/step\n",
      "1/1 [==============================] - 0s 56ms/step\n",
      "1/1 [==============================] - 0s 60ms/step\n",
      "1/1 [==============================] - 0s 59ms/step\n",
      "1/1 [==============================] - 0s 37ms/step\n",
      "1/1 [==============================] - 0s 61ms/step\n"
     ]
    },
    {
     "name": "stderr",
     "output_type": "stream",
     "text": [
      "[Succeeded / Failed / Skipped / Total] 11 / 42 / 0 / 53:  11%|█         | 53/500 [02:42<22:53,  3.07s/it]"
     ]
    },
    {
     "name": "stdout",
     "output_type": "stream",
     "text": [
      "--------------------------------------------- Result 53 ---------------------------------------------\n",
      "[[0 (42%)]] --> [[[FAILED]]]\n",
      "\n",
      "sudah hampir bulan ini pengembalian dana dana tidak balik kali dapat notifikasi email berisi pengembalian dana dana sudah dikembalikan tapi kenyataan tidak ada dana yang masuk ke rekening saya dua kali juga suruh upload mutasi rekening telpon pelayanan pelanggan cuma bilang mengikuti naik saja sampai sekarang dana tidak balik \n",
      "\n",
      "\n",
      "1/1 [==============================] - 0s 44ms/step\n",
      "1/1 [==============================] - 0s 78ms/step\n",
      "1/1 [==============================] - 0s 56ms/step\n",
      "1/1 [==============================] - 0s 56ms/step\n",
      "1/1 [==============================] - 0s 58ms/step\n",
      "1/1 [==============================] - 0s 59ms/step\n",
      "1/1 [==============================] - 0s 56ms/step\n",
      "1/1 [==============================] - 0s 53ms/step\n",
      "1/1 [==============================] - 0s 57ms/step\n",
      "1/1 [==============================] - 0s 57ms/step\n",
      "1/1 [==============================] - 0s 58ms/step\n",
      "1/1 [==============================] - 0s 59ms/step\n",
      "1/1 [==============================] - 0s 57ms/step\n",
      "1/1 [==============================] - 0s 58ms/step\n",
      "1/1 [==============================] - 0s 55ms/step\n",
      "1/1 [==============================] - 0s 53ms/step\n",
      "1/1 [==============================] - 0s 51ms/step\n",
      "1/1 [==============================] - 0s 58ms/step\n",
      "1/1 [==============================] - 0s 53ms/step\n",
      "1/1 [==============================] - 0s 56ms/step\n",
      "1/1 [==============================] - 0s 54ms/step\n",
      "1/1 [==============================] - 0s 59ms/step\n",
      "1/1 [==============================] - 0s 62ms/step\n",
      "1/1 [==============================] - 0s 61ms/step\n",
      "1/1 [==============================] - 0s 58ms/step\n",
      "1/1 [==============================] - 0s 52ms/step\n",
      "1/1 [==============================] - 0s 60ms/step\n",
      "1/1 [==============================] - 0s 52ms/step\n",
      "1/1 [==============================] - 0s 52ms/step\n",
      "1/1 [==============================] - 0s 63ms/step\n",
      "1/1 [==============================] - 0s 58ms/step\n",
      "1/1 [==============================] - 0s 57ms/step\n",
      "1/1 [==============================] - 0s 58ms/step\n",
      "1/1 [==============================] - 0s 55ms/step\n",
      "1/1 [==============================] - 0s 59ms/step\n",
      "1/1 [==============================] - 0s 56ms/step\n",
      "1/1 [==============================] - 0s 56ms/step\n",
      "1/1 [==============================] - 0s 53ms/step\n",
      "1/1 [==============================] - 0s 56ms/step\n",
      "1/1 [==============================] - 0s 58ms/step\n",
      "1/1 [==============================] - 0s 56ms/step\n",
      "1/1 [==============================] - 0s 56ms/step\n",
      "1/1 [==============================] - 0s 66ms/step\n",
      "1/1 [==============================] - 0s 57ms/step\n",
      "1/1 [==============================] - 0s 61ms/step\n",
      "1/1 [==============================] - 0s 57ms/step\n",
      "1/1 [==============================] - 0s 57ms/step\n"
     ]
    },
    {
     "name": "stderr",
     "output_type": "stream",
     "text": [
      "[Succeeded / Failed / Skipped / Total] 11 / 43 / 0 / 54:  11%|█         | 54/500 [02:47<23:03,  3.10s/it]"
     ]
    },
    {
     "name": "stdout",
     "output_type": "stream",
     "text": [
      "--------------------------------------------- Result 54 ---------------------------------------------\n",
      "[[0 (45%)]] --> [[[FAILED]]]\n",
      "\n",
      "sangat jelek pelayanan nya saya transfer kelebihan saja tidak dikasih tiket pesan dan proses pengembalian dana nya lama banget sedangkan saya harus beli tiket baru lagi karena orang tua saya sakit tapi tidak ada kebijakan nya malah disuruh tunggu hari jelek sekali \n",
      "\n",
      "\n",
      "1/1 [==============================] - 0s 46ms/step\n",
      "1/1 [==============================] - 0s 64ms/step\n",
      "1/1 [==============================] - 0s 55ms/step\n",
      "1/1 [==============================] - 0s 55ms/step\n",
      "1/1 [==============================] - 0s 62ms/step\n",
      "1/1 [==============================] - 0s 71ms/step\n",
      "1/1 [==============================] - 0s 57ms/step\n",
      "1/1 [==============================] - 0s 57ms/step\n",
      "1/1 [==============================] - 0s 33ms/step\n",
      "1/1 [==============================] - 0s 59ms/step\n",
      "1/1 [==============================] - 0s 51ms/step\n",
      "1/1 [==============================] - 0s 57ms/step\n",
      "1/1 [==============================] - 0s 51ms/step\n",
      "1/1 [==============================] - 0s 57ms/step\n",
      "1/1 [==============================] - 0s 57ms/step\n",
      "1/1 [==============================] - 0s 69ms/step\n",
      "1/1 [==============================] - 0s 53ms/step\n",
      "1/1 [==============================] - 0s 56ms/step\n",
      "1/1 [==============================] - 0s 60ms/step\n",
      "1/1 [==============================] - 0s 57ms/step\n",
      "1/1 [==============================] - 0s 55ms/step\n",
      "1/1 [==============================] - 0s 34ms/step\n",
      "1/1 [==============================] - 0s 59ms/step\n",
      "1/1 [==============================] - 0s 56ms/step\n"
     ]
    },
    {
     "name": "stderr",
     "output_type": "stream",
     "text": [
      "[Succeeded / Failed / Skipped / Total] 11 / 44 / 0 / 55:  11%|█         | 55/500 [02:49<22:54,  3.09s/it]"
     ]
    },
    {
     "name": "stdout",
     "output_type": "stream",
     "text": [
      "--------------------------------------------- Result 55 ---------------------------------------------\n",
      "[[0 (39%)]] --> [[[FAILED]]]\n",
      "\n",
      "terminal nya tidak ditulis tahu dari mana saya kontak tidak ada balasan mending aplikasi sebelah lebih oke baru sekali coba sudah kayak gini kesan nya tidak asik \n",
      "\n",
      "\n",
      "1/1 [==============================] - 0s 43ms/step\n",
      "1/1 [==============================] - 0s 66ms/step\n",
      "1/1 [==============================] - 0s 57ms/step\n",
      "1/1 [==============================] - 0s 52ms/step\n",
      "1/1 [==============================] - 0s 56ms/step\n",
      "1/1 [==============================] - 0s 34ms/step\n",
      "1/1 [==============================] - 0s 54ms/step\n",
      "1/1 [==============================] - 0s 55ms/step\n",
      "1/1 [==============================] - 0s 60ms/step\n",
      "1/1 [==============================] - 0s 55ms/step\n",
      "1/1 [==============================] - 0s 55ms/step\n",
      "1/1 [==============================] - 0s 50ms/step\n",
      "1/1 [==============================] - 0s 60ms/step\n",
      "1/1 [==============================] - 0s 52ms/step\n",
      "1/1 [==============================] - 0s 54ms/step\n",
      "1/1 [==============================] - 0s 57ms/step\n",
      "1/1 [==============================] - 0s 56ms/step\n",
      "1/1 [==============================] - 0s 55ms/step\n",
      "1/1 [==============================] - 0s 55ms/step\n",
      "1/1 [==============================] - 0s 50ms/step\n",
      "1/1 [==============================] - 0s 56ms/step\n",
      "1/1 [==============================] - 0s 51ms/step\n",
      "1/1 [==============================] - 0s 58ms/step\n",
      "1/1 [==============================] - 0s 53ms/step\n",
      "1/1 [==============================] - 0s 56ms/step\n",
      "1/1 [==============================] - 0s 45ms/step\n"
     ]
    },
    {
     "name": "stderr",
     "output_type": "stream",
     "text": [
      "[Succeeded / Failed / Skipped / Total] 12 / 44 / 0 / 56:  11%|█         | 56/500 [02:52<22:46,  3.08s/it]"
     ]
    },
    {
     "name": "stdout",
     "output_type": "stream",
     "text": [
      "--------------------------------------------- Result 56 ---------------------------------------------\n",
      "[[0 (38%)]] --> [[1 (34%)]]\n",
      "\n",
      "kami meyewa [[kamar]] sangat [[kecewa]] dengan [[fasilitas]] yang didapat mulai dari ac yang tidak [[berfungsi]] dengan baik [[alat]] cukur di [[kamar]] yang tidak [[layak]] pakai sampai dapat apel yang [[busuk]] di evening coctail \n",
      "\n",
      "kami meyewa [[kebuk]] sangat [[tewas]] dengan [[kemudahan]] yang didapat mulai dari ac yang tidak [[kerja]] dengan baik [[bahan]] cukur di [[kebuk]] yang tidak [[lulus]] pakai sampai dapat apel yang [[bangsai]] di evening coctail \n",
      "\n",
      "\n",
      "1/1 [==============================] - 0s 36ms/step\n",
      "1/1 [==============================] - 0s 60ms/step\n",
      "1/1 [==============================] - 0s 54ms/step\n",
      "1/1 [==============================] - 0s 56ms/step\n",
      "1/1 [==============================] - 0s 33ms/step\n",
      "1/1 [==============================] - 0s 56ms/step\n",
      "1/1 [==============================] - 0s 53ms/step\n",
      "1/1 [==============================] - 0s 55ms/step\n",
      "1/1 [==============================] - 0s 53ms/step\n",
      "1/1 [==============================] - 0s 59ms/step\n",
      "1/1 [==============================] - 0s 34ms/step\n",
      "1/1 [==============================] - 0s 55ms/step\n",
      "1/1 [==============================] - 0s 53ms/step\n",
      "1/1 [==============================] - 0s 52ms/step\n",
      "1/1 [==============================] - 0s 51ms/step\n",
      "1/1 [==============================] - 0s 53ms/step\n",
      "1/1 [==============================] - 0s 58ms/step\n",
      "1/1 [==============================] - 0s 52ms/step\n",
      "1/1 [==============================] - 0s 54ms/step\n",
      "1/1 [==============================] - 0s 52ms/step\n",
      "1/1 [==============================] - 0s 52ms/step\n",
      "1/1 [==============================] - 0s 51ms/step\n",
      "1/1 [==============================] - 0s 52ms/step\n",
      "1/1 [==============================] - 0s 51ms/step\n",
      "1/1 [==============================] - 0s 56ms/step\n",
      "1/1 [==============================] - 0s 53ms/step\n",
      "1/1 [==============================] - 0s 53ms/step\n",
      "1/1 [==============================] - 0s 53ms/step\n",
      "1/1 [==============================] - 0s 52ms/step\n",
      "1/1 [==============================] - 0s 53ms/step\n",
      "1/1 [==============================] - 0s 33ms/step\n",
      "1/1 [==============================] - 0s 34ms/step\n",
      "1/1 [==============================] - 0s 59ms/step\n",
      "1/1 [==============================] - 0s 52ms/step\n"
     ]
    },
    {
     "name": "stderr",
     "output_type": "stream",
     "text": [
      "[Succeeded / Failed / Skipped / Total] 12 / 45 / 0 / 57:  11%|█▏        | 57/500 [02:55<22:44,  3.08s/it]"
     ]
    },
    {
     "name": "stdout",
     "output_type": "stream",
     "text": [
      "--------------------------------------------- Result 57 ---------------------------------------------\n",
      "[[0 (42%)]] --> [[[FAILED]]]\n",
      "\n",
      "gue merasa dirugikan banget sih ini harga miyako dispenser yang dp kualitas nya sama kayak profesional meja dispenser sanex ini tidak tahu gue saja yang mengalahkan atau bagaimana tapi yang pasti cold sama hot nya tidak berfungsi \n",
      "\n",
      "\n",
      "1/1 [==============================] - 0s 41ms/step\n",
      "1/1 [==============================] - 0s 58ms/step\n",
      "1/1 [==============================] - 0s 51ms/step\n",
      "1/1 [==============================] - 0s 54ms/step\n",
      "1/1 [==============================] - 0s 51ms/step\n",
      "1/1 [==============================] - 0s 55ms/step\n",
      "1/1 [==============================] - 0s 54ms/step\n",
      "1/1 [==============================] - 0s 51ms/step\n",
      "1/1 [==============================] - 0s 51ms/step\n",
      "1/1 [==============================] - 0s 49ms/step\n",
      "1/1 [==============================] - 0s 50ms/step\n",
      "1/1 [==============================] - 0s 53ms/step\n",
      "1/1 [==============================] - 0s 51ms/step\n",
      "1/1 [==============================] - 0s 52ms/step\n",
      "1/1 [==============================] - 0s 53ms/step\n",
      "1/1 [==============================] - 0s 51ms/step\n",
      "1/1 [==============================] - 0s 52ms/step\n",
      "1/1 [==============================] - 0s 52ms/step\n",
      "1/1 [==============================] - 0s 51ms/step\n",
      "1/1 [==============================] - 0s 49ms/step\n",
      "1/1 [==============================] - 0s 55ms/step\n",
      "1/1 [==============================] - 0s 57ms/step\n",
      "1/1 [==============================] - 0s 50ms/step\n",
      "1/1 [==============================] - 0s 53ms/step\n",
      "1/1 [==============================] - 0s 68ms/step\n",
      "1/1 [==============================] - 0s 51ms/step\n",
      "1/1 [==============================] - 0s 48ms/step\n",
      "1/1 [==============================] - 0s 52ms/step\n",
      "1/1 [==============================] - 0s 57ms/step\n",
      "1/1 [==============================] - 0s 59ms/step\n",
      "1/1 [==============================] - 0s 51ms/step\n",
      "1/1 [==============================] - 0s 52ms/step\n",
      "1/1 [==============================] - 0s 53ms/step\n",
      "1/1 [==============================] - 0s 50ms/step\n",
      "1/1 [==============================] - 0s 53ms/step\n",
      "1/1 [==============================] - 0s 51ms/step\n",
      "1/1 [==============================] - 0s 53ms/step\n",
      "1/1 [==============================] - 0s 51ms/step\n"
     ]
    },
    {
     "name": "stderr",
     "output_type": "stream",
     "text": [
      "[Succeeded / Failed / Skipped / Total] 13 / 45 / 0 / 58:  12%|█▏        | 58/500 [02:59<22:45,  3.09s/it]"
     ]
    },
    {
     "name": "stdout",
     "output_type": "stream",
     "text": [
      "--------------------------------------------- Result 58 ---------------------------------------------\n",
      "[[0 (39%)]] --> [[1 (34%)]]\n",
      "\n",
      "bicara kemiskinan tetapi hidup dengan kemewahan bicara kesenjangan tetapi harta triliunan bicara cinta nkri tetapi ngemplang pajak bicara [[kelaparan]] tetapi tidak bisa tahan lapar [[aneh]] \n",
      "\n",
      "bicara kemiskinan tetapi hidup dengan kemewahan bicara kesenjangan tetapi harta triliunan bicara cinta nkri tetapi ngemplang pajak bicara [[lapar]] tetapi tidak bisa tahan lapar [[aduhai]] \n",
      "\n",
      "\n",
      "1/1 [==============================] - 0s 42ms/step\n",
      "1/1 [==============================] - 0s 54ms/step\n",
      "1/1 [==============================] - 0s 51ms/step\n",
      "1/1 [==============================] - 0s 52ms/step\n",
      "1/1 [==============================] - 0s 53ms/step\n",
      "1/1 [==============================] - 0s 53ms/step\n",
      "1/1 [==============================] - 0s 52ms/step\n",
      "1/1 [==============================] - 0s 52ms/step\n",
      "1/1 [==============================] - 0s 50ms/step\n",
      "1/1 [==============================] - 0s 54ms/step\n",
      "1/1 [==============================] - 0s 50ms/step\n",
      "1/1 [==============================] - 0s 52ms/step\n",
      "1/1 [==============================] - 0s 50ms/step\n",
      "1/1 [==============================] - 0s 52ms/step\n",
      "1/1 [==============================] - 0s 53ms/step\n",
      "1/1 [==============================] - 0s 51ms/step\n",
      "1/1 [==============================] - 0s 51ms/step\n",
      "1/1 [==============================] - 0s 54ms/step\n",
      "1/1 [==============================] - 0s 51ms/step\n",
      "1/1 [==============================] - 0s 52ms/step\n",
      "1/1 [==============================] - 0s 52ms/step\n",
      "1/1 [==============================] - 0s 51ms/step\n",
      "1/1 [==============================] - 0s 55ms/step\n",
      "1/1 [==============================] - 0s 53ms/step\n",
      "1/1 [==============================] - 0s 54ms/step\n",
      "1/1 [==============================] - 0s 51ms/step\n",
      "1/1 [==============================] - 0s 50ms/step\n",
      "1/1 [==============================] - 0s 53ms/step\n",
      "1/1 [==============================] - 0s 51ms/step\n",
      "1/1 [==============================] - 0s 50ms/step\n",
      "1/1 [==============================] - 0s 53ms/step\n",
      "1/1 [==============================] - 0s 52ms/step\n",
      "1/1 [==============================] - 0s 54ms/step\n",
      "1/1 [==============================] - 0s 51ms/step\n",
      "1/1 [==============================] - 0s 53ms/step\n",
      "1/1 [==============================] - 0s 51ms/step\n",
      "1/1 [==============================] - 0s 52ms/step\n",
      "1/1 [==============================] - 0s 52ms/step\n",
      "1/1 [==============================] - 0s 52ms/step\n",
      "1/1 [==============================] - 0s 52ms/step\n",
      "1/1 [==============================] - 0s 50ms/step\n",
      "1/1 [==============================] - 0s 49ms/step\n",
      "1/1 [==============================] - 0s 53ms/step\n",
      "1/1 [==============================] - 0s 50ms/step\n",
      "1/1 [==============================] - 0s 52ms/step\n",
      "1/1 [==============================] - 0s 52ms/step\n",
      "1/1 [==============================] - 0s 60ms/step\n"
     ]
    },
    {
     "name": "stderr",
     "output_type": "stream",
     "text": [
      "[Succeeded / Failed / Skipped / Total] 13 / 46 / 0 / 59:  12%|█▏        | 59/500 [03:03<22:51,  3.11s/it]"
     ]
    },
    {
     "name": "stdout",
     "output_type": "stream",
     "text": [
      "--------------------------------------------- Result 59 ---------------------------------------------\n",
      "[[0 (42%)]] --> [[[FAILED]]]\n",
      "\n",
      "bicara kedamaian tetapi suka bikin gaduh bicara lawan isu bohong tetapi suka bicara ngawur yang kayak begini tidak pantas dipercaya jadi pemimpin \n",
      "\n",
      "\n",
      "1/1 [==============================] - 0s 35ms/step\n",
      "1/1 [==============================] - 0s 56ms/step\n",
      "1/1 [==============================] - 0s 52ms/step\n",
      "1/1 [==============================] - 0s 55ms/step\n",
      "1/1 [==============================] - 0s 51ms/step\n",
      "1/1 [==============================] - 0s 52ms/step\n",
      "1/1 [==============================] - 0s 51ms/step\n",
      "1/1 [==============================] - 0s 51ms/step\n",
      "1/1 [==============================] - 0s 53ms/step\n",
      "1/1 [==============================] - 0s 51ms/step\n",
      "1/1 [==============================] - 0s 52ms/step\n",
      "1/1 [==============================] - 0s 52ms/step\n",
      "1/1 [==============================] - 0s 50ms/step\n",
      "1/1 [==============================] - 0s 50ms/step\n",
      "1/1 [==============================] - 0s 51ms/step\n",
      "1/1 [==============================] - 0s 52ms/step\n",
      "1/1 [==============================] - 0s 53ms/step\n",
      "1/1 [==============================] - 0s 53ms/step\n",
      "1/1 [==============================] - 0s 52ms/step\n",
      "1/1 [==============================] - 0s 51ms/step\n",
      "1/1 [==============================] - 0s 50ms/step\n",
      "1/1 [==============================] - 0s 49ms/step\n",
      "1/1 [==============================] - 0s 53ms/step\n",
      "1/1 [==============================] - 0s 53ms/step\n",
      "1/1 [==============================] - 0s 53ms/step\n",
      "1/1 [==============================] - 0s 50ms/step\n",
      "1/1 [==============================] - 0s 50ms/step\n",
      "1/1 [==============================] - 0s 51ms/step\n",
      "1/1 [==============================] - 0s 56ms/step\n",
      "1/1 [==============================] - 0s 54ms/step\n",
      "1/1 [==============================] - 0s 54ms/step\n",
      "1/1 [==============================] - 0s 49ms/step\n",
      "1/1 [==============================] - 0s 50ms/step\n",
      "1/1 [==============================] - 0s 50ms/step\n",
      "1/1 [==============================] - 0s 50ms/step\n",
      "1/1 [==============================] - 0s 48ms/step\n",
      "1/1 [==============================] - 0s 52ms/step\n",
      "1/1 [==============================] - 0s 58ms/step\n",
      "1/1 [==============================] - 0s 48ms/step\n",
      "1/1 [==============================] - 0s 51ms/step\n",
      "1/1 [==============================] - 0s 55ms/step\n",
      "1/1 [==============================] - 0s 49ms/step\n",
      "1/1 [==============================] - 0s 53ms/step\n",
      "1/1 [==============================] - 0s 51ms/step\n",
      "1/1 [==============================] - 0s 51ms/step\n",
      "1/1 [==============================] - 0s 50ms/step\n"
     ]
    },
    {
     "name": "stderr",
     "output_type": "stream",
     "text": [
      "[Succeeded / Failed / Skipped / Total] 14 / 46 / 0 / 60:  12%|█▏        | 60/500 [03:08<22:58,  3.13s/it]"
     ]
    },
    {
     "name": "stdout",
     "output_type": "stream",
     "text": [
      "--------------------------------------------- Result 60 ---------------------------------------------\n",
      "[[0 (41%)]] --> [[2 (35%)]]\n",
      "\n",
      "buat kamu yang ke wattpad hanya buat mereport author yang bikin ff bxb mending cari kerjaan yang lebih berfaedah daripada menganjurkan karya orang membayangkan semua ide yang dibikin capek capek [[hilang]] gara gara [[orang]] yang gemar mereport karya [[orang]] lain kalau gasuka [[bab]] [[ya]] enggak usah [[lihat]] \n",
      "\n",
      "buat kamu yang ke wattpad hanya buat mereport author yang bikin ff bxb mending cari kerjaan yang lebih berfaedah daripada menganjurkan karya orang membayangkan semua ide yang dibikin capek capek [[usai]] gara gara [[muda]] yang gemar mereport karya [[muda]] lain kalau gasuka [[legenda]] [[tetap]] enggak usah [[seolah-olah]] \n",
      "\n",
      "\n",
      "1/1 [==============================] - 0s 39ms/step\n",
      "1/1 [==============================] - 0s 54ms/step\n",
      "1/1 [==============================] - 0s 49ms/step\n",
      "1/1 [==============================] - 0s 52ms/step\n",
      "1/1 [==============================] - 0s 53ms/step\n",
      "1/1 [==============================] - 0s 40ms/step\n",
      "1/1 [==============================] - 0s 61ms/step\n",
      "1/1 [==============================] - 0s 48ms/step\n",
      "1/1 [==============================] - 0s 51ms/step\n",
      "1/1 [==============================] - 0s 51ms/step\n",
      "1/1 [==============================] - 0s 51ms/step\n",
      "1/1 [==============================] - 0s 50ms/step\n",
      "1/1 [==============================] - 0s 54ms/step\n",
      "1/1 [==============================] - 0s 51ms/step\n",
      "1/1 [==============================] - 0s 50ms/step\n",
      "1/1 [==============================] - 0s 53ms/step\n",
      "1/1 [==============================] - 0s 54ms/step\n",
      "1/1 [==============================] - 0s 35ms/step\n",
      "1/1 [==============================] - 0s 54ms/step\n",
      "1/1 [==============================] - 0s 65ms/step\n",
      "1/1 [==============================] - 0s 51ms/step\n",
      "1/1 [==============================] - 0s 34ms/step\n",
      "1/1 [==============================] - 0s 53ms/step\n",
      "1/1 [==============================] - 0s 50ms/step\n",
      "1/1 [==============================] - 0s 55ms/step\n",
      "1/1 [==============================] - 0s 49ms/step\n",
      "1/1 [==============================] - 0s 52ms/step\n",
      "1/1 [==============================] - 0s 51ms/step\n",
      "1/1 [==============================] - 0s 50ms/step\n",
      "1/1 [==============================] - 0s 48ms/step\n",
      "1/1 [==============================] - 0s 35ms/step\n",
      "1/1 [==============================] - 0s 52ms/step\n",
      "1/1 [==============================] - 0s 53ms/step\n",
      "1/1 [==============================] - 0s 41ms/step\n",
      "1/1 [==============================] - 0s 57ms/step\n",
      "1/1 [==============================] - 0s 76ms/step\n",
      "1/1 [==============================] - 0s 49ms/step\n",
      "1/1 [==============================] - 0s 46ms/step\n",
      "1/1 [==============================] - 0s 56ms/step\n",
      "1/1 [==============================] - 0s 52ms/step\n",
      "1/1 [==============================] - 0s 49ms/step\n",
      "1/1 [==============================] - 0s 51ms/step\n",
      "1/1 [==============================] - 0s 53ms/step\n",
      "1/1 [==============================] - 0s 49ms/step\n",
      "1/1 [==============================] - 0s 48ms/step\n",
      "1/1 [==============================] - 0s 33ms/step\n",
      "1/1 [==============================] - 0s 53ms/step\n",
      "1/1 [==============================] - 0s 40ms/step\n",
      "1/1 [==============================] - 0s 59ms/step\n",
      "1/1 [==============================] - 0s 55ms/step\n",
      "1/1 [==============================] - 0s 35ms/step\n",
      "1/1 [==============================] - 0s 49ms/step\n",
      "1/1 [==============================] - 0s 48ms/step\n",
      "1/1 [==============================] - 0s 50ms/step\n",
      "1/1 [==============================] - 0s 53ms/step\n",
      "1/1 [==============================] - 0s 52ms/step\n",
      "1/1 [==============================] - 0s 49ms/step\n",
      "1/1 [==============================] - 0s 33ms/step\n",
      "1/1 [==============================] - 0s 49ms/step\n",
      "1/1 [==============================] - 0s 52ms/step\n",
      "1/1 [==============================] - 0s 57ms/step\n",
      "1/1 [==============================] - 0s 53ms/step\n",
      "1/1 [==============================] - 0s 52ms/step\n",
      "1/1 [==============================] - 0s 46ms/step\n",
      "1/1 [==============================] - 0s 48ms/step\n",
      "1/1 [==============================] - 0s 48ms/step\n",
      "1/1 [==============================] - 0s 50ms/step\n"
     ]
    },
    {
     "name": "stderr",
     "output_type": "stream",
     "text": [
      "[Succeeded / Failed / Skipped / Total] 14 / 47 / 0 / 61:  12%|█▏        | 61/500 [03:14<23:18,  3.19s/it]"
     ]
    },
    {
     "name": "stdout",
     "output_type": "stream",
     "text": [
      "--------------------------------------------- Result 61 ---------------------------------------------\n",
      "[[0 (44%)]] --> [[[FAILED]]]\n",
      "\n",
      "betul era sebelum perbedaan politik suatu hal yang biasa media sosial damai sejak jokowi nyapres pendukung pendukung nya suka cari ribut ke yang berbeda contoh di pilgub dki kami ikut ulama dibilang radikal intoleran jangan bawa bawa agama dan ulama sekarang ya dengan jadi cawapres yang tidak pilih dibilang anti ulama hadeuh pusing \n",
      "\n",
      "\n",
      "1/1 [==============================] - 0s 40ms/step\n",
      "1/1 [==============================] - 0s 59ms/step\n",
      "1/1 [==============================] - 0s 55ms/step\n",
      "1/1 [==============================] - 0s 54ms/step\n",
      "1/1 [==============================] - 0s 50ms/step\n",
      "1/1 [==============================] - 0s 47ms/step\n",
      "1/1 [==============================] - 0s 50ms/step\n",
      "1/1 [==============================] - 0s 49ms/step\n",
      "1/1 [==============================] - 0s 48ms/step\n",
      "1/1 [==============================] - 0s 53ms/step\n",
      "1/1 [==============================] - 0s 49ms/step\n",
      "1/1 [==============================] - 0s 53ms/step\n",
      "1/1 [==============================] - 0s 52ms/step\n",
      "1/1 [==============================] - 0s 54ms/step\n",
      "1/1 [==============================] - 0s 50ms/step\n",
      "1/1 [==============================] - 0s 52ms/step\n",
      "1/1 [==============================] - 0s 50ms/step\n",
      "1/1 [==============================] - 0s 48ms/step\n",
      "1/1 [==============================] - 0s 50ms/step\n",
      "1/1 [==============================] - 0s 50ms/step\n",
      "1/1 [==============================] - 0s 53ms/step\n",
      "1/1 [==============================] - 0s 49ms/step\n",
      "1/1 [==============================] - 0s 51ms/step\n",
      "1/1 [==============================] - 0s 51ms/step\n",
      "1/1 [==============================] - 0s 54ms/step\n",
      "1/1 [==============================] - 0s 55ms/step\n",
      "1/1 [==============================] - 0s 52ms/step\n",
      "1/1 [==============================] - 0s 52ms/step\n",
      "1/1 [==============================] - 0s 51ms/step\n",
      "1/1 [==============================] - 0s 51ms/step\n",
      "1/1 [==============================] - 0s 48ms/step\n",
      "1/1 [==============================] - 0s 48ms/step\n",
      "1/1 [==============================] - 0s 50ms/step\n",
      "1/1 [==============================] - 0s 53ms/step\n",
      "1/1 [==============================] - 0s 49ms/step\n",
      "1/1 [==============================] - 0s 47ms/step\n",
      "1/1 [==============================] - 0s 47ms/step\n",
      "1/1 [==============================] - 0s 51ms/step\n",
      "1/1 [==============================] - 0s 50ms/step\n",
      "1/1 [==============================] - 0s 59ms/step\n",
      "1/1 [==============================] - 0s 47ms/step\n"
     ]
    },
    {
     "name": "stderr",
     "output_type": "stream",
     "text": [
      "[Succeeded / Failed / Skipped / Total] 14 / 48 / 0 / 62:  12%|█▏        | 62/500 [03:18<23:20,  3.20s/it]"
     ]
    },
    {
     "name": "stdout",
     "output_type": "stream",
     "text": [
      "--------------------------------------------- Result 62 ---------------------------------------------\n",
      "[[0 (44%)]] --> [[[FAILED]]]\n",
      "\n",
      "suka kesal dengan kpopers yang mukulin pangsek sumpah saya kesal banget sama kalian saya dukung yanglek karena dia satu satu nya rapper yang muka nya seperti lipatan kulit badak kenapa kalian tidak mengajak saya dan tidak dimatikan sekalian atau direndam pakai rinso biar bening gue kan benci banget sama dia \n",
      "\n",
      "\n",
      "1/1 [==============================] - 0s 40ms/step\n",
      "1/1 [==============================] - 0s 53ms/step\n",
      "1/1 [==============================] - 0s 51ms/step\n",
      "1/1 [==============================] - 0s 50ms/step\n",
      "1/1 [==============================] - 0s 47ms/step\n",
      "1/1 [==============================] - 0s 52ms/step\n",
      "1/1 [==============================] - 0s 52ms/step\n",
      "1/1 [==============================] - 0s 53ms/step\n",
      "1/1 [==============================] - 0s 51ms/step\n",
      "1/1 [==============================] - 0s 33ms/step\n",
      "1/1 [==============================] - 0s 34ms/step\n",
      "1/1 [==============================] - 0s 51ms/step\n",
      "1/1 [==============================] - 0s 48ms/step\n",
      "1/1 [==============================] - 0s 52ms/step\n",
      "1/1 [==============================] - 0s 54ms/step\n",
      "1/1 [==============================] - 0s 51ms/step\n",
      "1/1 [==============================] - 0s 51ms/step\n",
      "1/1 [==============================] - 0s 51ms/step\n",
      "1/1 [==============================] - 0s 46ms/step\n",
      "1/1 [==============================] - 0s 50ms/step\n",
      "1/1 [==============================] - 0s 49ms/step\n",
      "1/1 [==============================] - 0s 52ms/step\n",
      "1/1 [==============================] - 0s 46ms/step\n",
      "1/1 [==============================] - 0s 50ms/step\n",
      "1/1 [==============================] - 0s 46ms/step\n",
      "1/1 [==============================] - 0s 47ms/step\n",
      "1/1 [==============================] - 0s 51ms/step\n",
      "1/1 [==============================] - 0s 46ms/step\n",
      "1/1 [==============================] - 0s 53ms/step\n",
      "1/1 [==============================] - 0s 54ms/step\n",
      "1/1 [==============================] - 0s 55ms/step\n",
      "1/1 [==============================] - 0s 66ms/step\n",
      "1/1 [==============================] - 0s 54ms/step\n",
      "1/1 [==============================] - 0s 46ms/step\n",
      "1/1 [==============================] - 0s 47ms/step\n",
      "1/1 [==============================] - 0s 46ms/step\n",
      "1/1 [==============================] - 0s 48ms/step\n",
      "1/1 [==============================] - 0s 46ms/step\n",
      "1/1 [==============================] - 0s 51ms/step\n",
      "1/1 [==============================] - 0s 51ms/step\n",
      "1/1 [==============================] - 0s 35ms/step\n",
      "1/1 [==============================] - 0s 53ms/step\n",
      "1/1 [==============================] - 0s 36ms/step\n",
      "1/1 [==============================] - 0s 51ms/step\n",
      "1/1 [==============================] - 0s 50ms/step\n",
      "1/1 [==============================] - 0s 46ms/step\n",
      "1/1 [==============================] - 0s 49ms/step\n",
      "1/1 [==============================] - 0s 50ms/step\n"
     ]
    },
    {
     "name": "stderr",
     "output_type": "stream",
     "text": [
      "[Succeeded / Failed / Skipped / Total] 14 / 49 / 0 / 63:  13%|█▎        | 63/500 [03:22<23:26,  3.22s/it]"
     ]
    },
    {
     "name": "stdout",
     "output_type": "stream",
     "text": [
      "--------------------------------------------- Result 63 ---------------------------------------------\n",
      "[[0 (44%)]] --> [[[FAILED]]]\n",
      "\n",
      "entah kenapa saya tidak suka melihat cara politisi mengemis suara dengan mengorbankan kemuliaan ulama kalau alim yang punya track record di partai sih tidak masalah ini kiai dengan ruf sudah setua itu harus lagi menerima caci maki dan tekanan terlalu kejam saya rasa kejam banget malah \n",
      "\n",
      "\n",
      "1/1 [==============================] - 0s 34ms/step\n",
      "1/1 [==============================] - 0s 53ms/step\n",
      "1/1 [==============================] - 0s 53ms/step\n",
      "1/1 [==============================] - 0s 51ms/step\n",
      "1/1 [==============================] - 0s 46ms/step\n",
      "1/1 [==============================] - 0s 52ms/step\n",
      "1/1 [==============================] - 0s 33ms/step\n",
      "1/1 [==============================] - 0s 59ms/step\n",
      "1/1 [==============================] - 0s 44ms/step\n",
      "1/1 [==============================] - 0s 46ms/step\n",
      "1/1 [==============================] - 0s 50ms/step\n",
      "1/1 [==============================] - 0s 50ms/step\n",
      "1/1 [==============================] - 0s 44ms/step\n",
      "1/1 [==============================] - 0s 56ms/step\n",
      "1/1 [==============================] - 0s 51ms/step\n",
      "1/1 [==============================] - 0s 46ms/step\n",
      "1/1 [==============================] - 0s 47ms/step\n",
      "1/1 [==============================] - 0s 47ms/step\n",
      "1/1 [==============================] - 0s 49ms/step\n",
      "1/1 [==============================] - 0s 54ms/step\n",
      "1/1 [==============================] - 0s 53ms/step\n",
      "1/1 [==============================] - 0s 49ms/step\n",
      "1/1 [==============================] - 0s 68ms/step\n",
      "1/1 [==============================] - 0s 50ms/step\n",
      "1/1 [==============================] - 0s 51ms/step\n",
      "1/1 [==============================] - 0s 50ms/step\n",
      "1/1 [==============================] - 0s 47ms/step\n",
      "1/1 [==============================] - 0s 47ms/step\n",
      "1/1 [==============================] - 0s 47ms/step\n",
      "1/1 [==============================] - 0s 47ms/step\n"
     ]
    },
    {
     "name": "stderr",
     "output_type": "stream",
     "text": [
      "[Succeeded / Failed / Skipped / Total] 15 / 49 / 0 / 64:  13%|█▎        | 64/500 [03:25<23:20,  3.21s/it]"
     ]
    },
    {
     "name": "stdout",
     "output_type": "stream",
     "text": [
      "--------------------------------------------- Result 64 ---------------------------------------------\n",
      "[[0 (36%)]] --> [[1 (35%)]]\n",
      "\n",
      "gua enggak suka cara pelatih timnas u yang melarang pemain nya diwawancara sama teman teman media di luar sana justru pemain muda diajari public speaking baik di depan media maupun di depan [[rakyat]] harus nya [[pelatih]] atau manager cukup membatasi apa yang tidak boleh dishare ke [[media]] \n",
      "\n",
      "gua enggak suka cara pelatih timnas u yang melarang pemain nya diwawancara sama teman teman media di luar sana justru pemain muda diajari public speaking baik di depan media maupun di depan [[Nation]] harus nya [[sel]] atau manager cukup membatasi apa yang tidak boleh dishare ke [[sarana]] \n",
      "\n",
      "\n",
      "1/1 [==============================] - 0s 34ms/step\n",
      "1/1 [==============================] - 0s 49ms/step\n",
      "1/1 [==============================] - 0s 49ms/step\n",
      "1/1 [==============================] - 0s 35ms/step\n",
      "1/1 [==============================] - 0s 57ms/step\n",
      "1/1 [==============================] - 0s 46ms/step\n"
     ]
    },
    {
     "name": "stderr",
     "output_type": "stream",
     "text": [
      "[Succeeded / Failed / Skipped / Total] 16 / 49 / 0 / 65:  13%|█▎        | 65/500 [03:26<22:58,  3.17s/it]"
     ]
    },
    {
     "name": "stdout",
     "output_type": "stream",
     "text": [
      "--------------------------------------------- Result 65 ---------------------------------------------\n",
      "[[0 (37%)]] --> [[1 (42%)]]\n",
      "\n",
      "takdir politik ahy belum bisa ikut kontestasi pilpres walaupun ahy legowo kami tetap [[kecewa]] \n",
      "\n",
      "takdir politik ahy belum bisa ikut kontestasi pilpres walaupun ahy legowo kami tetap [[tewas]] \n",
      "\n",
      "\n",
      "1/1 [==============================] - 0s 34ms/step\n",
      "1/1 [==============================] - 0s 50ms/step\n",
      "1/1 [==============================] - 0s 35ms/step\n",
      "1/1 [==============================] - 0s 49ms/step\n",
      "1/1 [==============================] - 0s 49ms/step\n",
      "1/1 [==============================] - 0s 48ms/step\n",
      "1/1 [==============================] - 0s 44ms/step\n",
      "1/1 [==============================] - 0s 52ms/step\n",
      "1/1 [==============================] - 0s 46ms/step\n",
      "1/1 [==============================] - 0s 40ms/step\n",
      "1/1 [==============================] - 0s 67ms/step\n",
      "1/1 [==============================] - 0s 51ms/step\n",
      "1/1 [==============================] - 0s 51ms/step\n",
      "1/1 [==============================] - 0s 51ms/step\n",
      "1/1 [==============================] - 0s 55ms/step\n",
      "1/1 [==============================] - 0s 54ms/step\n",
      "1/1 [==============================] - 0s 46ms/step\n",
      "1/1 [==============================] - 0s 51ms/step\n",
      "1/1 [==============================] - 0s 48ms/step\n",
      "1/1 [==============================] - 0s 50ms/step\n",
      "1/1 [==============================] - 0s 46ms/step\n",
      "1/1 [==============================] - 0s 48ms/step\n",
      "1/1 [==============================] - 0s 51ms/step\n",
      "1/1 [==============================] - 0s 52ms/step\n",
      "1/1 [==============================] - 0s 47ms/step\n",
      "1/1 [==============================] - 0s 50ms/step\n",
      "1/1 [==============================] - 0s 48ms/step\n",
      "1/1 [==============================] - 0s 54ms/step\n",
      "1/1 [==============================] - 0s 51ms/step\n",
      "1/1 [==============================] - 0s 49ms/step\n",
      "1/1 [==============================] - 0s 48ms/step\n",
      "1/1 [==============================] - 0s 33ms/step\n",
      "1/1 [==============================] - 0s 53ms/step\n",
      "1/1 [==============================] - 0s 48ms/step\n",
      "1/1 [==============================] - 0s 47ms/step\n",
      "1/1 [==============================] - 0s 33ms/step\n",
      "1/1 [==============================] - 0s 48ms/step\n",
      "1/1 [==============================] - 0s 50ms/step\n",
      "1/1 [==============================] - 0s 53ms/step\n",
      "1/1 [==============================] - 0s 45ms/step\n",
      "1/1 [==============================] - 0s 47ms/step\n"
     ]
    },
    {
     "name": "stderr",
     "output_type": "stream",
     "text": [
      "[Succeeded / Failed / Skipped / Total] 16 / 50 / 0 / 66:  13%|█▎        | 66/500 [03:29<22:59,  3.18s/it]"
     ]
    },
    {
     "name": "stdout",
     "output_type": "stream",
     "text": [
      "--------------------------------------------- Result 66 ---------------------------------------------\n",
      "[[0 (43%)]] --> [[[FAILED]]]\n",
      "\n",
      "yang mengira politik itu cuma soal dukung partai tokoh atau kepentingan nya saja pasti kemarin dan hari ini kecewa ketika ekspektasi nya tidak terpenuhi politik itu sarana mewujudkan amanat pembukaan uud untuk bangsa ini tokoh partai itu cuma alat saja \n",
      "\n",
      "\n",
      "1/1 [==============================] - 0s 35ms/step\n",
      "1/1 [==============================] - 0s 74ms/step\n",
      "1/1 [==============================] - 0s 50ms/step\n",
      "1/1 [==============================] - 0s 45ms/step\n",
      "1/1 [==============================] - 0s 49ms/step\n",
      "1/1 [==============================] - 0s 47ms/step\n",
      "1/1 [==============================] - 0s 49ms/step\n",
      "1/1 [==============================] - 0s 53ms/step\n",
      "1/1 [==============================] - 0s 44ms/step\n"
     ]
    },
    {
     "name": "stderr",
     "output_type": "stream",
     "text": [
      "[Succeeded / Failed / Skipped / Total] 16 / 50 / 0 / 66:  13%|█▎        | 67/500 [03:30<22:41,  3.14s/it]"
     ]
    },
    {
     "name": "stdout",
     "output_type": "stream",
     "text": [
      "--------------------------------------------- Result 67 ---------------------------------------------\n",
      "[[0 (39%)]] --> [[[FAILED]]]\n",
      "\n",
      "saya kecewa sama waktu beliau berhentikan sebagai mendikbud setelah saya tahu bagaimana kinerja nya baru paham mengapa dia diberhentikan sekarang pun begitu keputusan yang diambil jokowi pasti beralasan termasuk pemilihan wapres \n",
      "\n",
      "\n"
     ]
    },
    {
     "name": "stderr",
     "output_type": "stream",
     "text": [
      "[Succeeded / Failed / Skipped / Total] 16 / 51 / 0 / 67:  13%|█▎        | 67/500 [03:30<22:41,  3.14s/it]"
     ]
    },
    {
     "name": "stdout",
     "output_type": "stream",
     "text": [
      "1/1 [==============================] - 0s 35ms/step\n",
      "1/1 [==============================] - 0s 48ms/step\n",
      "1/1 [==============================] - 0s 51ms/step\n",
      "1/1 [==============================] - 0s 43ms/step\n",
      "1/1 [==============================] - 0s 43ms/step\n",
      "1/1 [==============================] - 0s 52ms/step\n",
      "1/1 [==============================] - 0s 44ms/step\n",
      "1/1 [==============================] - 0s 46ms/step\n",
      "1/1 [==============================] - 0s 48ms/step\n",
      "1/1 [==============================] - 0s 50ms/step\n",
      "1/1 [==============================] - 0s 43ms/step\n",
      "1/1 [==============================] - 0s 46ms/step\n",
      "1/1 [==============================] - 0s 45ms/step\n",
      "1/1 [==============================] - 0s 47ms/step\n"
     ]
    },
    {
     "name": "stderr",
     "output_type": "stream",
     "text": [
      "[Succeeded / Failed / Skipped / Total] 16 / 52 / 0 / 68:  14%|█▎        | 68/500 [03:31<22:25,  3.12s/it]"
     ]
    },
    {
     "name": "stdout",
     "output_type": "stream",
     "text": [
      "--------------------------------------------- Result 68 ---------------------------------------------\n",
      "[[0 (38%)]] --> [[[FAILED]]]\n",
      "\n",
      "udahlah kecewa jakarta dapet nya anies sandi terus gue harus kecewa dua kali dengan dapat prabowo sandi lagi ogah amat \n",
      "\n",
      "\n",
      "1/1 [==============================] - 0s 34ms/step\n",
      "1/1 [==============================] - 0s 50ms/step\n",
      "1/1 [==============================] - 0s 58ms/step\n",
      "1/1 [==============================] - 0s 49ms/step\n",
      "1/1 [==============================] - 0s 49ms/step\n",
      "1/1 [==============================] - 0s 50ms/step\n",
      "1/1 [==============================] - 0s 43ms/step\n",
      "1/1 [==============================] - 0s 45ms/step\n",
      "1/1 [==============================] - 0s 45ms/step\n",
      "1/1 [==============================] - 0s 46ms/step\n",
      "1/1 [==============================] - 0s 39ms/step\n",
      "1/1 [==============================] - 0s 54ms/step\n",
      "1/1 [==============================] - 0s 43ms/step\n",
      "1/1 [==============================] - 0s 47ms/step\n",
      "1/1 [==============================] - 0s 46ms/step\n",
      "1/1 [==============================] - 0s 44ms/step\n",
      "1/1 [==============================] - 0s 44ms/step\n",
      "1/1 [==============================] - 0s 46ms/step\n",
      "1/1 [==============================] - 0s 44ms/step\n",
      "1/1 [==============================] - 0s 45ms/step\n",
      "1/1 [==============================] - 0s 43ms/step\n",
      "1/1 [==============================] - 0s 45ms/step\n",
      "1/1 [==============================] - 0s 50ms/step\n",
      "1/1 [==============================] - 0s 51ms/step\n",
      "1/1 [==============================] - 0s 43ms/step\n",
      "1/1 [==============================] - 0s 50ms/step\n",
      "1/1 [==============================] - 0s 53ms/step\n",
      "1/1 [==============================] - 0s 44ms/step\n",
      "1/1 [==============================] - 0s 51ms/step\n",
      "1/1 [==============================] - 0s 50ms/step\n",
      "1/1 [==============================] - 0s 47ms/step\n",
      "1/1 [==============================] - 0s 44ms/step\n",
      "1/1 [==============================] - 0s 45ms/step\n",
      "1/1 [==============================] - 0s 43ms/step\n",
      "1/1 [==============================] - 0s 47ms/step\n",
      "1/1 [==============================] - 0s 33ms/step\n",
      "1/1 [==============================] - 0s 45ms/step\n",
      "1/1 [==============================] - 0s 46ms/step\n",
      "1/1 [==============================] - 0s 45ms/step\n"
     ]
    },
    {
     "name": "stderr",
     "output_type": "stream",
     "text": [
      "[Succeeded / Failed / Skipped / Total] 16 / 53 / 0 / 69:  14%|█▍        | 69/500 [03:35<22:24,  3.12s/it]"
     ]
    },
    {
     "name": "stdout",
     "output_type": "stream",
     "text": [
      "--------------------------------------------- Result 69 ---------------------------------------------\n",
      "[[0 (40%)]] --> [[[FAILED]]]\n",
      "\n",
      "kecewa berat kepada pihak stasiun tv yang mengacak siaran nya karena rakyat jelata seperti kami tidak bisa melihat timnas u bermain percuma kita tuan rumah kalau rakyat indonesia sendiri tidak bisa melihat di tv salam buat pihak yang terkait semoga kalian semua puas \n",
      "\n",
      "\n",
      "1/1 [==============================] - 0s 43ms/step\n",
      "1/1 [==============================] - 0s 48ms/step\n",
      "1/1 [==============================] - 0s 55ms/step\n",
      "1/1 [==============================] - 0s 53ms/step\n",
      "1/1 [==============================] - 0s 53ms/step\n",
      "1/1 [==============================] - 0s 50ms/step\n",
      "1/1 [==============================] - 0s 52ms/step\n",
      "1/1 [==============================] - 0s 50ms/step\n",
      "1/1 [==============================] - 0s 53ms/step\n",
      "1/1 [==============================] - 0s 49ms/step\n",
      "1/1 [==============================] - 0s 49ms/step\n",
      "1/1 [==============================] - 0s 53ms/step\n",
      "1/1 [==============================] - 0s 55ms/step\n",
      "1/1 [==============================] - 0s 53ms/step\n",
      "1/1 [==============================] - 0s 52ms/step\n",
      "1/1 [==============================] - 0s 38ms/step\n",
      "1/1 [==============================] - 0s 51ms/step\n",
      "1/1 [==============================] - 0s 54ms/step\n",
      "1/1 [==============================] - 0s 50ms/step\n",
      "1/1 [==============================] - 0s 49ms/step\n",
      "1/1 [==============================] - 0s 51ms/step\n",
      "1/1 [==============================] - 0s 48ms/step\n",
      "1/1 [==============================] - 0s 53ms/step\n",
      "1/1 [==============================] - 0s 51ms/step\n",
      "1/1 [==============================] - 0s 54ms/step\n",
      "1/1 [==============================] - 0s 50ms/step\n",
      "1/1 [==============================] - 0s 53ms/step\n",
      "1/1 [==============================] - 0s 50ms/step\n",
      "1/1 [==============================] - 0s 55ms/step\n",
      "1/1 [==============================] - 0s 49ms/step\n",
      "1/1 [==============================] - 0s 50ms/step\n",
      "1/1 [==============================] - 0s 50ms/step\n",
      "1/1 [==============================] - 0s 53ms/step\n",
      "1/1 [==============================] - 0s 51ms/step\n",
      "1/1 [==============================] - 0s 50ms/step\n",
      "1/1 [==============================] - 0s 53ms/step\n",
      "1/1 [==============================] - 0s 56ms/step\n",
      "1/1 [==============================] - 0s 59ms/step\n",
      "1/1 [==============================] - 0s 49ms/step\n",
      "1/1 [==============================] - 0s 35ms/step\n",
      "1/1 [==============================] - 0s 54ms/step\n",
      "1/1 [==============================] - 0s 51ms/step\n"
     ]
    },
    {
     "name": "stderr",
     "output_type": "stream",
     "text": [
      "[Succeeded / Failed / Skipped / Total] 16 / 54 / 0 / 70:  14%|█▍        | 70/500 [03:39<22:30,  3.14s/it]"
     ]
    },
    {
     "name": "stdout",
     "output_type": "stream",
     "text": [
      "--------------------------------------------- Result 70 ---------------------------------------------\n",
      "[[0 (38%)]] --> [[[FAILED]]]\n",
      "\n",
      "pak kami orang kampung yang khusus orang sumatera pedalaman kami sangat kecewa dengan hal penyiaran asian games sebenarnya regulasi bisa diubah karena ini wilayah indonesia jadi apa pun yang berada diindonesia harus mengikutkan perintah dari saya\n",
      "\n",
      "\n",
      "1/1 [==============================] - 0s 51ms/step\n",
      "1/1 [==============================] - 0s 52ms/step\n",
      "1/1 [==============================] - 0s 50ms/step\n",
      "1/1 [==============================] - 0s 52ms/step\n",
      "1/1 [==============================] - 0s 54ms/step\n",
      "1/1 [==============================] - 0s 49ms/step\n",
      "1/1 [==============================] - 0s 51ms/step\n",
      "1/1 [==============================] - 0s 50ms/step\n",
      "1/1 [==============================] - 0s 51ms/step\n",
      "1/1 [==============================] - 0s 36ms/step\n"
     ]
    },
    {
     "name": "stderr",
     "output_type": "stream",
     "text": [
      "[Succeeded / Failed / Skipped / Total] 17 / 54 / 0 / 71:  14%|█▍        | 71/500 [03:40<22:13,  3.11s/it]"
     ]
    },
    {
     "name": "stdout",
     "output_type": "stream",
     "text": [
      "--------------------------------------------- Result 71 ---------------------------------------------\n",
      "[[0 (37%)]] --> [[1 (36%)]]\n",
      "\n",
      "dukungan untuk asian games terbatas ini status satu kampung aku yang merasa [[kecewa]] ri nahrawi\n",
      "\n",
      "dukungan untuk asian games terbatas ini status satu kampung aku yang merasa [[tewas]] ri nahrawi\n",
      "\n",
      "\n",
      "1/1 [==============================] - 0s 38ms/step\n",
      "1/1 [==============================] - 0s 58ms/step\n",
      "1/1 [==============================] - 0s 62ms/step\n",
      "1/1 [==============================] - 0s 50ms/step\n",
      "1/1 [==============================] - 0s 53ms/step\n",
      "1/1 [==============================] - 0s 50ms/step\n",
      "1/1 [==============================] - 0s 52ms/step\n",
      "1/1 [==============================] - 0s 51ms/step\n",
      "1/1 [==============================] - 0s 48ms/step\n",
      "1/1 [==============================] - 0s 52ms/step\n",
      "1/1 [==============================] - 0s 51ms/step\n",
      "1/1 [==============================] - 0s 48ms/step\n",
      "1/1 [==============================] - 0s 58ms/step\n",
      "1/1 [==============================] - 0s 51ms/step\n",
      "1/1 [==============================] - 0s 51ms/step\n",
      "1/1 [==============================] - 0s 50ms/step\n",
      "1/1 [==============================] - 0s 50ms/step\n",
      "1/1 [==============================] - 0s 54ms/step\n",
      "1/1 [==============================] - 0s 50ms/step\n",
      "1/1 [==============================] - 0s 53ms/step\n"
     ]
    },
    {
     "name": "stderr",
     "output_type": "stream",
     "text": [
      "[Succeeded / Failed / Skipped / Total] 17 / 55 / 0 / 72:  14%|█▍        | 72/500 [03:42<22:02,  3.09s/it]"
     ]
    },
    {
     "name": "stdout",
     "output_type": "stream",
     "text": [
      "--------------------------------------------- Result 72 ---------------------------------------------\n",
      "[[0 (42%)]] --> [[[FAILED]]]\n",
      "\n",
      "tugas tv sctv itu untuk menghibur rakyat indonesia bukan malah membuat rakyat indonesia kecewa jangan selalu uang yang kalian pikirkan pak \n",
      "\n",
      "\n",
      "1/1 [==============================] - 0s 42ms/step\n",
      "1/1 [==============================] - 0s 56ms/step\n",
      "1/1 [==============================] - 0s 50ms/step\n",
      "1/1 [==============================] - 0s 54ms/step\n",
      "1/1 [==============================] - 0s 35ms/step\n",
      "1/1 [==============================] - 0s 50ms/step\n",
      "1/1 [==============================] - 0s 50ms/step\n",
      "1/1 [==============================] - 0s 52ms/step\n",
      "1/1 [==============================] - 0s 54ms/step\n",
      "1/1 [==============================] - 0s 50ms/step\n",
      "1/1 [==============================] - 0s 50ms/step\n",
      "1/1 [==============================] - 0s 49ms/step\n",
      "1/1 [==============================] - 0s 51ms/step\n",
      "1/1 [==============================] - 0s 51ms/step\n",
      "1/1 [==============================] - 0s 52ms/step\n",
      "1/1 [==============================] - 0s 51ms/step\n",
      "1/1 [==============================] - 0s 51ms/step\n",
      "1/1 [==============================] - 0s 49ms/step\n",
      "1/1 [==============================] - 0s 54ms/step\n",
      "1/1 [==============================] - 0s 52ms/step\n",
      "1/1 [==============================] - 0s 62ms/step\n",
      "1/1 [==============================] - 0s 51ms/step\n",
      "1/1 [==============================] - 0s 51ms/step\n",
      "1/1 [==============================] - 0s 52ms/step\n",
      "1/1 [==============================] - 0s 53ms/step\n",
      "1/1 [==============================] - 0s 65ms/step\n",
      "1/1 [==============================] - 0s 53ms/step\n",
      "1/1 [==============================] - 0s 52ms/step\n",
      "1/1 [==============================] - 0s 50ms/step\n",
      "1/1 [==============================] - 0s 52ms/step\n",
      "1/1 [==============================] - 0s 50ms/step\n",
      "1/1 [==============================] - 0s 49ms/step\n",
      "1/1 [==============================] - 0s 49ms/step\n",
      "1/1 [==============================] - 0s 50ms/step\n",
      "1/1 [==============================] - 0s 48ms/step\n",
      "1/1 [==============================] - 0s 34ms/step\n",
      "1/1 [==============================] - 0s 49ms/step\n",
      "1/1 [==============================] - 0s 50ms/step\n"
     ]
    },
    {
     "name": "stderr",
     "output_type": "stream",
     "text": [
      "[Succeeded / Failed / Skipped / Total] 17 / 56 / 0 / 73:  15%|█▍        | 73/500 [03:45<22:01,  3.10s/it]"
     ]
    },
    {
     "name": "stdout",
     "output_type": "stream",
     "text": [
      "--------------------------------------------- Result 73 ---------------------------------------------\n",
      "[[0 (43%)]] --> [[[FAILED]]]\n",
      "\n",
      "kami warga khusus sumatera kalimantan dan papua sangat kecewa dengan cara penyiaran asian games cabor sepak bola jangan bagikan alasan bahwa itu adalah aturan dari oympic bila bola itu adalah alasan basi memang kami bodoh apa \n",
      "\n",
      "\n",
      "1/1 [==============================] - 0s 39ms/step\n",
      "1/1 [==============================] - 0s 54ms/step\n",
      "1/1 [==============================] - 0s 51ms/step\n",
      "1/1 [==============================] - 0s 52ms/step\n",
      "1/1 [==============================] - 0s 51ms/step\n",
      "1/1 [==============================] - 0s 51ms/step\n",
      "1/1 [==============================] - 0s 50ms/step\n",
      "1/1 [==============================] - 0s 49ms/step\n",
      "1/1 [==============================] - 0s 51ms/step\n",
      "1/1 [==============================] - 0s 54ms/step\n",
      "1/1 [==============================] - 0s 50ms/step\n",
      "1/1 [==============================] - 0s 51ms/step\n",
      "1/1 [==============================] - 0s 50ms/step\n",
      "1/1 [==============================] - 0s 50ms/step\n",
      "1/1 [==============================] - 0s 52ms/step\n",
      "1/1 [==============================] - 0s 50ms/step\n",
      "1/1 [==============================] - 0s 54ms/step\n",
      "1/1 [==============================] - 0s 54ms/step\n",
      "1/1 [==============================] - 0s 49ms/step\n",
      "1/1 [==============================] - 0s 50ms/step\n",
      "1/1 [==============================] - 0s 49ms/step\n",
      "1/1 [==============================] - 0s 54ms/step\n",
      "1/1 [==============================] - 0s 51ms/step\n",
      "1/1 [==============================] - 0s 50ms/step\n",
      "1/1 [==============================] - 0s 52ms/step\n",
      "1/1 [==============================] - 0s 50ms/step\n",
      "1/1 [==============================] - 0s 47ms/step\n",
      "1/1 [==============================] - 0s 50ms/step\n",
      "1/1 [==============================] - 0s 53ms/step\n",
      "1/1 [==============================] - 0s 50ms/step\n",
      "1/1 [==============================] - 0s 50ms/step\n",
      "1/1 [==============================] - 0s 53ms/step\n",
      "1/1 [==============================] - 0s 52ms/step\n",
      "1/1 [==============================] - 0s 52ms/step\n",
      "1/1 [==============================] - 0s 52ms/step\n",
      "1/1 [==============================] - 0s 50ms/step\n",
      "1/1 [==============================] - 0s 51ms/step\n",
      "1/1 [==============================] - 0s 51ms/step\n",
      "1/1 [==============================] - 0s 54ms/step\n",
      "1/1 [==============================] - 0s 50ms/step\n",
      "1/1 [==============================] - 0s 50ms/step\n"
     ]
    },
    {
     "name": "stderr",
     "output_type": "stream",
     "text": [
      "[Succeeded / Failed / Skipped / Total] 17 / 56 / 0 / 73:  15%|█▍        | 74/500 [03:49<22:02,  3.11s/it]"
     ]
    },
    {
     "name": "stdout",
     "output_type": "stream",
     "text": [
      "--------------------------------------------- Result 74 ---------------------------------------------\n",
      "[[0 (39%)]] --> [[[FAILED]]]\n",
      "\n",
      "sebagai resmi broadcast saya merasa kecewa dengan karena selain siaran yang di acak iklan pop naik yang menutupi layar juga tidak menayangkan pertandingan lainn nya bahkan menjelang asian games masih banyak sinetron reguler daripada tayangan asian games \n",
      "\n",
      "\n"
     ]
    },
    {
     "name": "stderr",
     "output_type": "stream",
     "text": [
      "[Succeeded / Failed / Skipped / Total] 17 / 57 / 0 / 74:  15%|█▍        | 74/500 [03:49<22:02,  3.11s/it]"
     ]
    },
    {
     "name": "stdout",
     "output_type": "stream",
     "text": [
      "1/1 [==============================] - 0s 48ms/step\n",
      "1/1 [==============================] - 0s 53ms/step\n",
      "1/1 [==============================] - 0s 50ms/step\n",
      "1/1 [==============================] - 0s 49ms/step\n",
      "1/1 [==============================] - 0s 52ms/step\n",
      "1/1 [==============================] - 0s 50ms/step\n",
      "1/1 [==============================] - 0s 49ms/step\n",
      "1/1 [==============================] - 0s 49ms/step\n",
      "1/1 [==============================] - 0s 56ms/step\n",
      "1/1 [==============================] - 0s 51ms/step\n",
      "1/1 [==============================] - 0s 51ms/step\n",
      "1/1 [==============================] - 0s 50ms/step\n",
      "1/1 [==============================] - 0s 52ms/step\n",
      "1/1 [==============================] - 0s 50ms/step\n",
      "1/1 [==============================] - 0s 49ms/step\n",
      "1/1 [==============================] - 0s 48ms/step\n",
      "1/1 [==============================] - 0s 48ms/step\n",
      "1/1 [==============================] - 0s 49ms/step\n",
      "1/1 [==============================] - 0s 51ms/step\n",
      "1/1 [==============================] - 0s 50ms/step\n",
      "1/1 [==============================] - 0s 51ms/step\n",
      "1/1 [==============================] - 0s 53ms/step\n",
      "1/1 [==============================] - 0s 50ms/step\n",
      "1/1 [==============================] - 0s 49ms/step\n",
      "1/1 [==============================] - 0s 50ms/step\n",
      "1/1 [==============================] - 0s 48ms/step\n",
      "1/1 [==============================] - 0s 48ms/step\n",
      "1/1 [==============================] - 0s 50ms/step\n",
      "1/1 [==============================] - 0s 53ms/step\n",
      "1/1 [==============================] - 0s 50ms/step\n"
     ]
    },
    {
     "name": "stderr",
     "output_type": "stream",
     "text": [
      "[Succeeded / Failed / Skipped / Total] 17 / 58 / 0 / 75:  15%|█▌        | 75/500 [03:52<21:57,  3.10s/it]"
     ]
    },
    {
     "name": "stdout",
     "output_type": "stream",
     "text": [
      "--------------------------------------------- Result 75 ---------------------------------------------\n",
      "[[0 (44%)]] --> [[[FAILED]]]\n",
      "\n",
      "rakyat indonesia lebih kecewa ini bukan settingan kayak sinetron ini asli rakyat indonesia kecewa tidak bisa nonton asian games ingat sctv bisa menjadi besar sekarang karena rakyat indonesia bukan india atau sinetron tidak jelas \n",
      "\n",
      "\n",
      "1/1 [==============================] - 0s 34ms/step\n",
      "--------------------------------------------- Result 76 ---------------------------------------------\n",
      "[[2 (38%)]] --> [[[SKIPPED]]]\n",
      "\n",
      "saya secara pribadi tetap tidak setuju dengan semua jenis ajakan apalagi untuk timnas yang main kalau liga liga top eropa apa yang lain silakan saya tidak menonton juga tidak mengapa tapi ini timnas kita tetap meminta ta pak dan pak nahrawi\n",
      "\n",
      "\n"
     ]
    },
    {
     "name": "stderr",
     "output_type": "stream",
     "text": [
      "[Succeeded / Failed / Skipped / Total] 17 / 58 / 1 / 76:  15%|█▌        | 76/500 [03:52<21:37,  3.06s/it]"
     ]
    },
    {
     "name": "stdout",
     "output_type": "stream",
     "text": [
      "1/1 [==============================] - 0s 42ms/step\n",
      "1/1 [==============================] - 0s 54ms/step\n",
      "1/1 [==============================] - 0s 53ms/step\n",
      "1/1 [==============================] - 0s 61ms/step\n",
      "1/1 [==============================] - 0s 49ms/step\n",
      "1/1 [==============================] - 0s 52ms/step\n",
      "1/1 [==============================] - 0s 52ms/step\n",
      "1/1 [==============================] - 0s 52ms/step\n",
      "1/1 [==============================] - 0s 49ms/step\n",
      "1/1 [==============================] - 0s 32ms/step\n",
      "1/1 [==============================] - 0s 54ms/step\n",
      "1/1 [==============================] - 0s 52ms/step\n",
      "1/1 [==============================] - 0s 48ms/step\n",
      "1/1 [==============================] - 0s 52ms/step\n",
      "1/1 [==============================] - 0s 62ms/step\n",
      "1/1 [==============================] - 0s 50ms/step\n",
      "1/1 [==============================] - 0s 48ms/step\n",
      "1/1 [==============================] - 0s 53ms/step\n",
      "1/1 [==============================] - 0s 52ms/step\n",
      "1/1 [==============================] - 0s 53ms/step\n",
      "1/1 [==============================] - 0s 33ms/step\n",
      "1/1 [==============================] - 0s 61ms/step\n"
     ]
    },
    {
     "name": "stderr",
     "output_type": "stream",
     "text": [
      "[Succeeded / Failed / Skipped / Total] 17 / 58 / 1 / 76:  15%|█▌        | 77/500 [03:54<21:28,  3.05s/it]"
     ]
    },
    {
     "name": "stdout",
     "output_type": "stream",
     "text": [
      "--------------------------------------------- Result 77 ---------------------------------------------\n",
      "[[0 (42%)]] --> [[[FAILED]]]\n",
      "\n",
      "saya tidak peduli milo dan kokokrunch duo lebih mahal murah mana anak saya kecewa sarapan tidak sesuai keinginan nya\n",
      "\n",
      "\n"
     ]
    },
    {
     "name": "stderr",
     "output_type": "stream",
     "text": [
      "[Succeeded / Failed / Skipped / Total] 17 / 59 / 1 / 77:  15%|█▌        | 77/500 [03:54<21:29,  3.05s/it]"
     ]
    },
    {
     "name": "stdout",
     "output_type": "stream",
     "text": [
      "1/1 [==============================] - 0s 42ms/step\n",
      "1/1 [==============================] - 0s 52ms/step\n",
      "1/1 [==============================] - 0s 48ms/step\n",
      "1/1 [==============================] - 0s 56ms/step\n",
      "1/1 [==============================] - 0s 48ms/step\n",
      "1/1 [==============================] - 0s 50ms/step\n",
      "1/1 [==============================] - 0s 49ms/step\n",
      "1/1 [==============================] - 0s 51ms/step\n",
      "1/1 [==============================] - 0s 52ms/step\n",
      "1/1 [==============================] - 0s 49ms/step\n",
      "--------------------------------------------- Result 78 ---------------------------------------------\n"
     ]
    },
    {
     "name": "stderr",
     "output_type": "stream",
     "text": [
      "[Succeeded / Failed / Skipped / Total] 18 / 59 / 1 / 78:  16%|█▌        | 78/500 [03:55<21:14,  3.02s/it]"
     ]
    },
    {
     "name": "stdout",
     "output_type": "stream",
     "text": [
      "[[0 (35%)]] --> [[1 (34%)]]\n",
      "\n",
      "saya sebagai aktifis pecinta beruang indonesia apbi dengan ini merasa [[kecewa]] kepada pt nestle kenapa iklan nya sangat menipu \n",
      "\n",
      "saya sebagai aktifis pecinta beruang indonesia apbi dengan ini merasa [[tewas]] kepada pt nestle kenapa iklan nya sangat menipu \n",
      "\n",
      "\n",
      "1/1 [==============================] - 0s 34ms/step\n",
      "1/1 [==============================] - 0s 57ms/step\n",
      "1/1 [==============================] - 0s 52ms/step\n",
      "1/1 [==============================] - 0s 51ms/step\n",
      "1/1 [==============================] - 0s 49ms/step\n",
      "1/1 [==============================] - 0s 51ms/step\n",
      "1/1 [==============================] - 0s 49ms/step\n",
      "1/1 [==============================] - 0s 50ms/step\n",
      "1/1 [==============================] - 0s 51ms/step\n",
      "1/1 [==============================] - 0s 54ms/step\n",
      "1/1 [==============================] - 0s 48ms/step\n",
      "1/1 [==============================] - 0s 48ms/step\n",
      "1/1 [==============================] - 0s 50ms/step\n",
      "1/1 [==============================] - 0s 48ms/step\n",
      "1/1 [==============================] - 0s 51ms/step\n"
     ]
    },
    {
     "name": "stderr",
     "output_type": "stream",
     "text": [
      "[Succeeded / Failed / Skipped / Total] 18 / 60 / 1 / 79:  16%|█▌        | 79/500 [03:56<21:02,  3.00s/it]"
     ]
    },
    {
     "name": "stdout",
     "output_type": "stream",
     "text": [
      "--------------------------------------------- Result 79 ---------------------------------------------\n",
      "[[0 (40%)]] --> [[[FAILED]]]\n",
      "\n",
      "kecewa sama promo yang diadakan id dan sepertinya setengah setengah sekali kasih promo ivoucher ribu tiap beli box dancow gr huft harus nya tidak usah kasih promo kalau tidak niat \n",
      "\n",
      "\n",
      "1/1 [==============================] - 0s 35ms/step\n",
      "1/1 [==============================] - 0s 54ms/step\n",
      "1/1 [==============================] - 0s 59ms/step\n",
      "1/1 [==============================] - 0s 49ms/step\n",
      "1/1 [==============================] - 0s 50ms/step\n",
      "1/1 [==============================] - 0s 51ms/step\n",
      "1/1 [==============================] - 0s 52ms/step\n",
      "1/1 [==============================] - 0s 53ms/step\n",
      "1/1 [==============================] - 0s 52ms/step\n",
      "1/1 [==============================] - 0s 56ms/step\n",
      "1/1 [==============================] - 0s 48ms/step\n",
      "1/1 [==============================] - 0s 53ms/step\n",
      "1/1 [==============================] - 0s 50ms/step\n",
      "1/1 [==============================] - 0s 49ms/step\n",
      "1/1 [==============================] - 0s 48ms/step\n",
      "1/1 [==============================] - 0s 51ms/step\n",
      "1/1 [==============================] - 0s 55ms/step\n",
      "1/1 [==============================] - 0s 50ms/step\n",
      "1/1 [==============================] - 0s 52ms/step\n",
      "1/1 [==============================] - 0s 50ms/step\n",
      "1/1 [==============================] - 0s 52ms/step\n",
      "1/1 [==============================] - 0s 53ms/step\n",
      "1/1 [==============================] - 0s 50ms/step\n",
      "1/1 [==============================] - 0s 52ms/step\n",
      "1/1 [==============================] - 0s 51ms/step\n",
      "--------------------------------------------- Result 80 ---------------------------------------------\n",
      "[[0 (39%)]] --> [[1 (34%)]]\n",
      "\n",
      "aku [[kecewa]] tadi [[pergi]] kfc dapat wedges macam tidak [[niat]] dibuat nya sudah begitu memberi mayones nya [[berantakan]] [[banget]] \n",
      "\n",
      "aku [[tewas]] tadi [[mula]] kfc dapat wedges macam tidak [[motif]] dibuat nya sudah begitu memberi mayones nya [[semrawut]] [[metah]] \n",
      "\n",
      "\n"
     ]
    },
    {
     "name": "stderr",
     "output_type": "stream",
     "text": [
      "[Succeeded / Failed / Skipped / Total] 19 / 60 / 1 / 80:  16%|█▌        | 80/500 [03:59<20:56,  2.99s/it]"
     ]
    },
    {
     "name": "stdout",
     "output_type": "stream",
     "text": [
      "1/1 [==============================] - 0s 36ms/step\n",
      "1/1 [==============================] - 0s 51ms/step\n",
      "1/1 [==============================] - 0s 49ms/step\n",
      "1/1 [==============================] - 0s 52ms/step\n",
      "1/1 [==============================] - 0s 52ms/step\n",
      "1/1 [==============================] - 0s 54ms/step\n",
      "1/1 [==============================] - 0s 48ms/step\n",
      "1/1 [==============================] - 0s 50ms/step\n",
      "1/1 [==============================] - 0s 49ms/step\n",
      "1/1 [==============================] - 0s 52ms/step\n",
      "1/1 [==============================] - 0s 47ms/step\n",
      "1/1 [==============================] - 0s 48ms/step\n",
      "1/1 [==============================] - 0s 49ms/step\n",
      "1/1 [==============================] - 0s 48ms/step\n"
     ]
    },
    {
     "name": "stderr",
     "output_type": "stream",
     "text": [
      "[Succeeded / Failed / Skipped / Total] 19 / 60 / 1 / 80:  16%|█▌        | 81/500 [04:00<20:44,  2.97s/it]"
     ]
    },
    {
     "name": "stdout",
     "output_type": "stream",
     "text": [
      "--------------------------------------------- Result 81 ---------------------------------------------\n",
      "[[0 (41%)]] --> [[1 (34%)]]\n",
      "\n",
      "kfc chizza apa [[banget]] tidak jelas rasanya rasanya ingin buntut kfc buat [[mengembalikan]] [[uang]] gue [[kecewa]] \n",
      "\n",
      "kfc chizza apa [[metah]] tidak jelas rasanya rasanya ingin buntut kfc buat [[kembali]] [[penukar]] gue [[tewas]] \n",
      "\n",
      "\n"
     ]
    },
    {
     "name": "stderr",
     "output_type": "stream",
     "text": [
      "[Succeeded / Failed / Skipped / Total] 20 / 60 / 1 / 81:  16%|█▌        | 81/500 [04:00<20:44,  2.97s/it]"
     ]
    },
    {
     "name": "stdout",
     "output_type": "stream",
     "text": [
      "1/1 [==============================] - 0s 43ms/step\n",
      "1/1 [==============================] - 0s 66ms/step\n",
      "1/1 [==============================] - 0s 52ms/step\n",
      "1/1 [==============================] - 0s 53ms/step\n",
      "1/1 [==============================] - 0s 53ms/step\n",
      "1/1 [==============================] - 0s 51ms/step\n",
      "1/1 [==============================] - 0s 52ms/step\n",
      "1/1 [==============================] - 0s 52ms/step\n",
      "1/1 [==============================] - 0s 54ms/step\n",
      "1/1 [==============================] - 0s 48ms/step\n",
      "1/1 [==============================] - 0s 50ms/step\n",
      "1/1 [==============================] - 0s 47ms/step\n",
      "1/1 [==============================] - 0s 53ms/step\n",
      "1/1 [==============================] - 0s 52ms/step\n",
      "1/1 [==============================] - 0s 49ms/step\n",
      "--------------------------------------------- Result 82 ---------------------------------------------\n",
      "[[0 (38%)]] --> [[2 (35%)]]\n",
      "\n",
      "aku belajar satu perkara tentang pengharapan kalau kita berharap pada tuhan memang tak akan kecewa kalau kita berharap pd kfc barulah [[kecewa]] sangat \n",
      "\n",
      "aku belajar satu perkara tentang pengharapan kalau kita berharap pada tuhan memang tak akan kecewa kalau kita berharap pd kfc barulah [[tewas]] sangat \n",
      "\n",
      "\n"
     ]
    },
    {
     "name": "stderr",
     "output_type": "stream",
     "text": [
      "[Succeeded / Failed / Skipped / Total] 21 / 60 / 1 / 82:  16%|█▋        | 82/500 [04:01<20:33,  2.95s/it]"
     ]
    },
    {
     "name": "stdout",
     "output_type": "stream",
     "text": [
      "1/1 [==============================] - 0s 39ms/step\n",
      "1/1 [==============================] - 0s 50ms/step\n",
      "1/1 [==============================] - 0s 49ms/step\n",
      "1/1 [==============================] - 0s 52ms/step\n",
      "1/1 [==============================] - 0s 49ms/step\n",
      "1/1 [==============================] - 0s 52ms/step\n",
      "1/1 [==============================] - 0s 48ms/step\n",
      "1/1 [==============================] - 0s 50ms/step\n",
      "1/1 [==============================] - 0s 51ms/step\n",
      "1/1 [==============================] - 0s 52ms/step\n",
      "1/1 [==============================] - 0s 51ms/step\n",
      "1/1 [==============================] - 0s 55ms/step\n",
      "1/1 [==============================] - 0s 51ms/step\n",
      "1/1 [==============================] - 0s 50ms/step\n",
      "1/1 [==============================] - 0s 51ms/step\n",
      "1/1 [==============================] - 0s 50ms/step\n",
      "1/1 [==============================] - 0s 51ms/step\n",
      "1/1 [==============================] - 0s 49ms/step\n",
      "1/1 [==============================] - 0s 51ms/step\n",
      "1/1 [==============================] - 0s 51ms/step\n",
      "1/1 [==============================] - 0s 50ms/step\n",
      "1/1 [==============================] - 0s 52ms/step\n",
      "1/1 [==============================] - 0s 51ms/step\n",
      "1/1 [==============================] - 0s 51ms/step\n",
      "1/1 [==============================] - 0s 51ms/step\n",
      "1/1 [==============================] - 0s 49ms/step\n",
      "1/1 [==============================] - 0s 48ms/step\n",
      "1/1 [==============================] - 0s 55ms/step\n"
     ]
    },
    {
     "name": "stderr",
     "output_type": "stream",
     "text": [
      "[Succeeded / Failed / Skipped / Total] 21 / 61 / 1 / 83:  17%|█▋        | 83/500 [04:04<20:28,  2.95s/it]"
     ]
    },
    {
     "name": "stdout",
     "output_type": "stream",
     "text": [
      "--------------------------------------------- Result 83 ---------------------------------------------\n",
      "[[0 (43%)]] --> [[[FAILED]]]\n",
      "\n",
      "itu tadi saya cancel soal nya kantor saya juga sudah tutup semoga tidak kejadian seperti ini lagi karena selama saya order di pd baru pertama kali menemukan hal yang seperti ini kecewa sih \n",
      "\n",
      "\n",
      "1/1 [==============================] - 0s 33ms/step\n",
      "1/1 [==============================] - 0s 53ms/step\n",
      "1/1 [==============================] - 0s 53ms/step\n",
      "1/1 [==============================] - 0s 54ms/step\n",
      "1/1 [==============================] - 0s 49ms/step\n",
      "1/1 [==============================] - 0s 50ms/step\n",
      "1/1 [==============================] - 0s 53ms/step\n",
      "1/1 [==============================] - 0s 49ms/step\n",
      "1/1 [==============================] - 0s 55ms/step\n",
      "1/1 [==============================] - 0s 49ms/step\n",
      "1/1 [==============================] - 0s 51ms/step\n",
      "1/1 [==============================] - 0s 52ms/step\n",
      "1/1 [==============================] - 0s 47ms/step\n",
      "1/1 [==============================] - 0s 50ms/step\n",
      "1/1 [==============================] - 0s 48ms/step\n",
      "1/1 [==============================] - 0s 33ms/step\n",
      "1/1 [==============================] - 0s 53ms/step\n",
      "1/1 [==============================] - 0s 52ms/step\n",
      "1/1 [==============================] - 0s 54ms/step\n",
      "1/1 [==============================] - 0s 51ms/step\n",
      "1/1 [==============================] - 0s 52ms/step\n",
      "1/1 [==============================] - 0s 51ms/step\n",
      "1/1 [==============================] - 0s 56ms/step\n",
      "1/1 [==============================] - 0s 54ms/step\n",
      "1/1 [==============================] - 0s 53ms/step\n",
      "1/1 [==============================] - 0s 46ms/step\n",
      "1/1 [==============================] - 0s 50ms/step\n",
      "1/1 [==============================] - 0s 48ms/step\n",
      "1/1 [==============================] - 0s 49ms/step\n",
      "1/1 [==============================] - 0s 54ms/step\n",
      "1/1 [==============================] - 0s 50ms/step\n",
      "1/1 [==============================] - 0s 52ms/step\n",
      "1/1 [==============================] - 0s 57ms/step\n",
      "1/1 [==============================] - 0s 50ms/step\n",
      "1/1 [==============================] - 0s 50ms/step\n",
      "1/1 [==============================] - 0s 48ms/step\n",
      "1/1 [==============================] - 0s 48ms/step\n",
      "1/1 [==============================] - 0s 53ms/step\n",
      "1/1 [==============================] - 0s 51ms/step\n",
      "1/1 [==============================] - 0s 54ms/step\n",
      "1/1 [==============================] - 0s 51ms/step\n",
      "1/1 [==============================] - 0s 48ms/step\n",
      "1/1 [==============================] - 0s 52ms/step\n",
      "1/1 [==============================] - 0s 51ms/step\n",
      "1/1 [==============================] - 0s 47ms/step\n",
      "1/1 [==============================] - 0s 53ms/step\n",
      "1/1 [==============================] - 0s 50ms/step\n",
      "1/1 [==============================] - 0s 48ms/step\n",
      "1/1 [==============================] - 0s 52ms/step\n",
      "1/1 [==============================] - 0s 50ms/step\n",
      "1/1 [==============================] - 0s 48ms/step\n",
      "1/1 [==============================] - 0s 46ms/step\n",
      "1/1 [==============================] - 0s 47ms/step\n",
      "1/1 [==============================] - 0s 40ms/step\n",
      "1/1 [==============================] - 0s 49ms/step\n",
      "--------------------------------------------- Result 84 ---------------------------------------------\n",
      "[[0 (39%)]] --> [[1 (35%)]]\n",
      "\n",
      "dari sejujur nya saya sangat [[kecewa]] dengan [[kenyataan]] dari [[menangguhkan]] dengan [[alasan]] masalah kewangan berpunca dari [[kerajaan]] lama cari la solusi baru bukan tangguh dan tanding jari bagaimana nasib kami yang kurang mampu untuk [[memiliki]] [[sarjana]] dan pd [[kena]] [[korek]] [[duit]] [[tabung]] \n",
      "\n",
      "dari sejujur nya saya sangat [[tewas]] dengan [[kartu]] dari [[tahan]] dengan [[motif]] masalah kewangan berpunca dari [[kabinet]] lama cari la solusi baru bukan tangguh dan tanding jari bagaimana nasib kami yang kurang mampu untuk [[jaga]] [[mahasiswa]] dan pd [[bercantum]] [[tepat]] [[koin]] [[salur]] \n",
      "\n",
      "\n"
     ]
    },
    {
     "name": "stderr",
     "output_type": "stream",
     "text": [
      "[Succeeded / Failed / Skipped / Total] 22 / 61 / 1 / 84:  17%|█▋        | 84/500 [04:09<20:36,  2.97s/it]"
     ]
    },
    {
     "name": "stdout",
     "output_type": "stream",
     "text": [
      "1/1 [==============================] - 0s 37ms/step\n",
      "1/1 [==============================] - 0s 66ms/step\n",
      "1/1 [==============================] - 0s 59ms/step\n",
      "1/1 [==============================] - 0s 52ms/step\n",
      "1/1 [==============================] - 0s 47ms/step\n",
      "1/1 [==============================] - 0s 53ms/step\n",
      "1/1 [==============================] - 0s 51ms/step\n",
      "1/1 [==============================] - 0s 52ms/step\n",
      "1/1 [==============================] - 0s 56ms/step\n",
      "1/1 [==============================] - 0s 54ms/step\n",
      "1/1 [==============================] - 0s 54ms/step\n",
      "1/1 [==============================] - 0s 52ms/step\n",
      "1/1 [==============================] - 0s 46ms/step\n",
      "1/1 [==============================] - 0s 51ms/step\n",
      "1/1 [==============================] - 0s 49ms/step\n",
      "1/1 [==============================] - 0s 54ms/step\n",
      "1/1 [==============================] - 0s 51ms/step\n",
      "1/1 [==============================] - 0s 46ms/step\n",
      "1/1 [==============================] - 0s 47ms/step\n",
      "1/1 [==============================] - 0s 44ms/step\n",
      "1/1 [==============================] - 0s 55ms/step\n",
      "1/1 [==============================] - 0s 55ms/step\n",
      "1/1 [==============================] - 0s 58ms/step\n",
      "1/1 [==============================] - 0s 46ms/step\n",
      "1/1 [==============================] - 0s 47ms/step\n",
      "1/1 [==============================] - 0s 49ms/step\n",
      "1/1 [==============================] - 0s 55ms/step\n",
      "1/1 [==============================] - 0s 53ms/step\n",
      "1/1 [==============================] - 0s 60ms/step\n",
      "1/1 [==============================] - 0s 55ms/step\n",
      "1/1 [==============================] - 0s 47ms/step\n"
     ]
    },
    {
     "name": "stderr",
     "output_type": "stream",
     "text": [
      "[Succeeded / Failed / Skipped / Total] 23 / 61 / 1 / 85:  17%|█▋        | 85/500 [04:12<20:33,  2.97s/it]"
     ]
    },
    {
     "name": "stdout",
     "output_type": "stream",
     "text": [
      "--------------------------------------------- Result 85 ---------------------------------------------\n",
      "[[0 (40%)]] --> [[1 (34%)]]\n",
      "\n",
      "gue paling suka cebong pada mengawal ketua kpk wkwkkwk ahok [[mengurus]] laporan keuangan saja amburadul tidak pernah dapat wtp tahun [[bos]] sudahlah saya sudah [[terlanjur]] [[kecewa]] dengan dia \n",
      "\n",
      "gue paling suka cebong pada mengawal ketua kpk wkwkkwk ahok [[arah]] laporan keuangan saja amburadul tidak pernah dapat wtp tahun [[ketua]] sudahlah saya sudah [[mengaduk-aduk]] [[tewas]] dengan dia \n",
      "\n",
      "\n",
      "1/1 [==============================] - 0s 34ms/step\n",
      "1/1 [==============================] - 0s 50ms/step\n",
      "1/1 [==============================] - 0s 52ms/step\n",
      "1/1 [==============================] - 0s 55ms/step\n",
      "1/1 [==============================] - 0s 52ms/step\n",
      "1/1 [==============================] - 0s 49ms/step\n",
      "1/1 [==============================] - 0s 52ms/step\n",
      "1/1 [==============================] - 0s 47ms/step\n",
      "1/1 [==============================] - 0s 51ms/step\n",
      "1/1 [==============================] - 0s 49ms/step\n",
      "1/1 [==============================] - 0s 50ms/step\n",
      "1/1 [==============================] - 0s 34ms/step\n",
      "1/1 [==============================] - 0s 61ms/step\n",
      "1/1 [==============================] - 0s 48ms/step\n",
      "1/1 [==============================] - 0s 54ms/step\n",
      "1/1 [==============================] - 0s 50ms/step\n",
      "1/1 [==============================] - 0s 51ms/step\n",
      "1/1 [==============================] - 0s 49ms/step\n",
      "1/1 [==============================] - 0s 49ms/step\n",
      "1/1 [==============================] - 0s 44ms/step\n",
      "1/1 [==============================] - 0s 51ms/step\n",
      "1/1 [==============================] - 0s 50ms/step\n",
      "1/1 [==============================] - 0s 52ms/step\n",
      "1/1 [==============================] - 0s 51ms/step\n",
      "1/1 [==============================] - 0s 47ms/step\n"
     ]
    },
    {
     "name": "stderr",
     "output_type": "stream",
     "text": [
      "[Succeeded / Failed / Skipped / Total] 23 / 62 / 1 / 86:  17%|█▋        | 86/500 [04:14<20:27,  2.96s/it]"
     ]
    },
    {
     "name": "stdout",
     "output_type": "stream",
     "text": [
      "--------------------------------------------- Result 86 ---------------------------------------------\n",
      "[[0 (43%)]] --> [[[FAILED]]]\n",
      "\n",
      "saya sih tidak suka tsb tapi dengan diperiksa nya atas laporan lama ini bukti nyata bahwa kpk itu alat politik alat penguasa bubarkan saja \n",
      "\n",
      "\n",
      "1/1 [==============================] - 0s 37ms/step\n",
      "1/1 [==============================] - 0s 57ms/step\n",
      "1/1 [==============================] - 0s 50ms/step\n",
      "1/1 [==============================] - 0s 56ms/step\n",
      "1/1 [==============================] - 0s 58ms/step\n",
      "1/1 [==============================] - 0s 46ms/step\n",
      "1/1 [==============================] - 0s 49ms/step\n",
      "1/1 [==============================] - 0s 49ms/step\n",
      "1/1 [==============================] - 0s 49ms/step\n",
      "1/1 [==============================] - 0s 45ms/step\n",
      "1/1 [==============================] - 0s 51ms/step\n",
      "1/1 [==============================] - 0s 48ms/step\n",
      "1/1 [==============================] - 0s 53ms/step\n",
      "1/1 [==============================] - 0s 48ms/step\n",
      "1/1 [==============================] - 0s 48ms/step\n",
      "1/1 [==============================] - 0s 48ms/step\n",
      "1/1 [==============================] - 0s 47ms/step\n",
      "1/1 [==============================] - 0s 51ms/step\n",
      "1/1 [==============================] - 0s 49ms/step\n",
      "1/1 [==============================] - 0s 47ms/step\n",
      "1/1 [==============================] - 0s 51ms/step\n",
      "1/1 [==============================] - 0s 53ms/step\n",
      "1/1 [==============================] - 0s 48ms/step\n",
      "1/1 [==============================] - 0s 48ms/step\n",
      "1/1 [==============================] - 0s 48ms/step\n"
     ]
    },
    {
     "name": "stderr",
     "output_type": "stream",
     "text": [
      "[Succeeded / Failed / Skipped / Total] 23 / 63 / 1 / 87:  17%|█▋        | 87/500 [04:17<20:21,  2.96s/it]"
     ]
    },
    {
     "name": "stdout",
     "output_type": "stream",
     "text": [
      "--------------------------------------------- Result 87 ---------------------------------------------\n",
      "[[0 (40%)]] --> [[[FAILED]]]\n",
      "\n",
      "kenapa saya tidak suka sama elit elit pks yang sekarang karena elit elit yang sekarang adalah yang ngumpet di bawah meja saat elit elit terdahulu zaman am berdarah pertahankan pks dari badai kpk giliran mereka berkuasa elit am malah disingkirkan \n",
      "\n",
      "\n",
      "1/1 [==============================] - 0s 34ms/step\n",
      "1/1 [==============================] - 0s 53ms/step\n",
      "1/1 [==============================] - 0s 51ms/step\n",
      "1/1 [==============================] - 0s 53ms/step\n",
      "1/1 [==============================] - 0s 48ms/step\n",
      "1/1 [==============================] - 0s 52ms/step\n",
      "1/1 [==============================] - 0s 51ms/step\n",
      "1/1 [==============================] - 0s 45ms/step\n",
      "1/1 [==============================] - 0s 47ms/step\n",
      "1/1 [==============================] - 0s 46ms/step\n",
      "1/1 [==============================] - 0s 50ms/step\n",
      "1/1 [==============================] - 0s 51ms/step\n",
      "1/1 [==============================] - 0s 55ms/step\n",
      "1/1 [==============================] - 0s 52ms/step\n",
      "1/1 [==============================] - 0s 53ms/step\n",
      "1/1 [==============================] - 0s 53ms/step\n",
      "1/1 [==============================] - 0s 50ms/step\n",
      "1/1 [==============================] - 0s 46ms/step\n",
      "1/1 [==============================] - 0s 54ms/step\n",
      "1/1 [==============================] - 0s 47ms/step\n",
      "1/1 [==============================] - 0s 43ms/step\n",
      "1/1 [==============================] - 0s 54ms/step\n",
      "1/1 [==============================] - 0s 54ms/step\n",
      "1/1 [==============================] - 0s 52ms/step\n",
      "1/1 [==============================] - 0s 52ms/step\n",
      "1/1 [==============================] - 0s 46ms/step\n",
      "1/1 [==============================] - 0s 50ms/step\n",
      "1/1 [==============================] - 0s 52ms/step\n",
      "1/1 [==============================] - 0s 51ms/step\n",
      "1/1 [==============================] - 0s 51ms/step\n",
      "1/1 [==============================] - 0s 54ms/step\n",
      "1/1 [==============================] - 0s 54ms/step\n",
      "1/1 [==============================] - 0s 52ms/step\n",
      "1/1 [==============================] - 0s 49ms/step\n",
      "1/1 [==============================] - 0s 45ms/step\n",
      "1/1 [==============================] - 0s 48ms/step\n",
      "1/1 [==============================] - 0s 46ms/step\n",
      "--------------------------------------------- Result 88 ---------------------------------------------\n",
      "[[0 (38%)]] --> [[[FAILED]]]\n",
      "\n",
      "ini orang suka banget pidato sama resmikan acara tidak suka kerja si wakil nya cuma cengeh cengehan disamping benar benar badut\n",
      "\n",
      "\n"
     ]
    },
    {
     "name": "stderr",
     "output_type": "stream",
     "text": [
      "[Succeeded / Failed / Skipped / Total] 23 / 64 / 1 / 88:  18%|█▊        | 88/500 [04:20<20:20,  2.96s/it]"
     ]
    },
    {
     "name": "stdout",
     "output_type": "stream",
     "text": [
      "1/1 [==============================] - 0s 37ms/step\n",
      "1/1 [==============================] - 0s 57ms/step\n",
      "1/1 [==============================] - 0s 38ms/step\n",
      "1/1 [==============================] - 0s 53ms/step\n",
      "1/1 [==============================] - 0s 48ms/step\n",
      "1/1 [==============================] - 0s 46ms/step\n",
      "1/1 [==============================] - 0s 51ms/step\n",
      "1/1 [==============================] - 0s 54ms/step\n",
      "1/1 [==============================] - 0s 47ms/step\n",
      "1/1 [==============================] - 0s 49ms/step\n",
      "1/1 [==============================] - 0s 49ms/step\n",
      "1/1 [==============================] - 0s 52ms/step\n",
      "1/1 [==============================] - 0s 52ms/step\n",
      "1/1 [==============================] - 0s 49ms/step\n",
      "1/1 [==============================] - 0s 50ms/step\n",
      "1/1 [==============================] - 0s 54ms/step\n",
      "1/1 [==============================] - 0s 50ms/step\n",
      "1/1 [==============================] - 0s 49ms/step\n",
      "1/1 [==============================] - 0s 52ms/step\n",
      "1/1 [==============================] - 0s 50ms/step\n",
      "1/1 [==============================] - 0s 34ms/step\n",
      "1/1 [==============================] - 0s 53ms/step\n",
      "1/1 [==============================] - 0s 55ms/step\n",
      "1/1 [==============================] - 0s 44ms/step\n",
      "1/1 [==============================] - 0s 49ms/step\n",
      "1/1 [==============================] - 0s 51ms/step\n",
      "1/1 [==============================] - 0s 46ms/step\n",
      "1/1 [==============================] - 0s 53ms/step\n",
      "1/1 [==============================] - 0s 46ms/step\n",
      "1/1 [==============================] - 0s 49ms/step\n",
      "1/1 [==============================] - 0s 49ms/step\n",
      "1/1 [==============================] - 0s 46ms/step\n"
     ]
    },
    {
     "name": "stderr",
     "output_type": "stream",
     "text": [
      "[Succeeded / Failed / Skipped / Total] 23 / 65 / 1 / 89:  18%|█▊        | 89/500 [04:23<20:17,  2.96s/it]"
     ]
    },
    {
     "name": "stdout",
     "output_type": "stream",
     "text": [
      "--------------------------------------------- Result 89 ---------------------------------------------\n",
      "[[0 (40%)]] --> [[[FAILED]]]\n",
      "\n",
      "charger masih benar buat telepon genggam lain cuma sama xiao mi saya suka tidak cocok yang saya bawa tiap hari lebih cocok padahal charger asus malah charger ori xiaomi nya tidak enak\n",
      "\n",
      "\n",
      "1/1 [==============================] - 0s 40ms/step\n",
      "1/1 [==============================] - 0s 61ms/step\n",
      "1/1 [==============================] - 0s 50ms/step\n",
      "1/1 [==============================] - 0s 51ms/step\n",
      "1/1 [==============================] - 0s 46ms/step\n",
      "1/1 [==============================] - 0s 48ms/step\n",
      "1/1 [==============================] - 0s 46ms/step\n",
      "1/1 [==============================] - 0s 48ms/step\n",
      "1/1 [==============================] - 0s 46ms/step\n",
      "1/1 [==============================] - 0s 52ms/step\n",
      "1/1 [==============================] - 0s 53ms/step\n",
      "1/1 [==============================] - 0s 46ms/step\n",
      "1/1 [==============================] - 0s 53ms/step\n",
      "1/1 [==============================] - 0s 44ms/step\n",
      "1/1 [==============================] - 0s 48ms/step\n",
      "1/1 [==============================] - 0s 45ms/step\n",
      "1/1 [==============================] - 0s 56ms/step\n",
      "1/1 [==============================] - 0s 45ms/step\n",
      "1/1 [==============================] - 0s 51ms/step\n",
      "--------------------------------------------- Result 90 ---------------------------------------------\n",
      "[[0 (39%)]] --> [[[FAILED]]]\n",
      "\n",
      "dulu aku sempat pengin ganti handphone juga pertimbangan ku itu oppo f vivo v sama xiaomi mi a mereka bertiga dari spesifikasi dan harga mirip mirip tapi terus aku eliminasi xiaomi mi a karena dia slot nya hybrid aku tidak suka \n",
      "\n",
      "\n"
     ]
    },
    {
     "name": "stderr",
     "output_type": "stream",
     "text": [
      "[Succeeded / Failed / Skipped / Total] 23 / 66 / 1 / 90:  18%|█▊        | 90/500 [04:25<20:08,  2.95s/it]"
     ]
    },
    {
     "name": "stdout",
     "output_type": "stream",
     "text": [
      "1/1 [==============================] - 0s 44ms/step\n",
      "1/1 [==============================] - 0s 48ms/step\n",
      "1/1 [==============================] - 0s 49ms/step\n",
      "1/1 [==============================] - 0s 48ms/step\n",
      "1/1 [==============================] - 0s 49ms/step\n",
      "1/1 [==============================] - 0s 51ms/step\n",
      "1/1 [==============================] - 0s 47ms/step\n",
      "1/1 [==============================] - 0s 51ms/step\n",
      "1/1 [==============================] - 0s 45ms/step\n",
      "1/1 [==============================] - 0s 49ms/step\n",
      "1/1 [==============================] - 0s 51ms/step\n",
      "1/1 [==============================] - 0s 53ms/step\n",
      "1/1 [==============================] - 0s 46ms/step\n",
      "1/1 [==============================] - 0s 48ms/step\n",
      "1/1 [==============================] - 0s 49ms/step\n",
      "1/1 [==============================] - 0s 48ms/step\n",
      "1/1 [==============================] - 0s 46ms/step\n",
      "1/1 [==============================] - 0s 51ms/step\n",
      "1/1 [==============================] - 0s 51ms/step\n",
      "1/1 [==============================] - 0s 46ms/step\n",
      "1/1 [==============================] - 0s 46ms/step\n",
      "1/1 [==============================] - 0s 51ms/step\n",
      "1/1 [==============================] - 0s 50ms/step\n",
      "1/1 [==============================] - 0s 47ms/step\n",
      "1/1 [==============================] - 0s 46ms/step\n",
      "1/1 [==============================] - 0s 46ms/step\n",
      "1/1 [==============================] - 0s 51ms/step\n",
      "1/1 [==============================] - 0s 51ms/step\n",
      "1/1 [==============================] - 0s 47ms/step\n",
      "1/1 [==============================] - 0s 59ms/step\n",
      "1/1 [==============================] - 0s 47ms/step\n",
      "1/1 [==============================] - 0s 48ms/step\n",
      "1/1 [==============================] - 0s 48ms/step\n",
      "1/1 [==============================] - 0s 47ms/step\n",
      "1/1 [==============================] - 0s 51ms/step\n",
      "1/1 [==============================] - 0s 47ms/step\n",
      "1/1 [==============================] - 0s 49ms/step\n"
     ]
    },
    {
     "name": "stderr",
     "output_type": "stream",
     "text": [
      "[Succeeded / Failed / Skipped / Total] 23 / 67 / 1 / 91:  18%|█▊        | 91/500 [04:28<20:08,  2.95s/it]"
     ]
    },
    {
     "name": "stdout",
     "output_type": "stream",
     "text": [
      "--------------------------------------------- Result 91 ---------------------------------------------\n",
      "[[0 (41%)]] --> [[[FAILED]]]\n",
      "\n",
      "menyesal tidak sih ganti handphone dari iphone ke samsung s hmm menyesal kurang enak buat pakai s dari segi camera lebih suka ip dari segi performa juga ip batre juga tidak beda jauh banget lalu s ini juga agak sering melar padahal cuma buka instagram saja ckck\n",
      "\n",
      "\n",
      "1/1 [==============================] - 0s 37ms/step\n",
      "1/1 [==============================] - 0s 51ms/step\n",
      "1/1 [==============================] - 0s 50ms/step\n",
      "1/1 [==============================] - 0s 47ms/step\n",
      "1/1 [==============================] - 0s 48ms/step\n",
      "1/1 [==============================] - 0s 53ms/step\n",
      "1/1 [==============================] - 0s 53ms/step\n",
      "1/1 [==============================] - 0s 46ms/step\n",
      "1/1 [==============================] - 0s 63ms/step\n",
      "1/1 [==============================] - 0s 51ms/step\n",
      "1/1 [==============================] - 0s 50ms/step\n",
      "1/1 [==============================] - 0s 56ms/step\n",
      "1/1 [==============================] - 0s 48ms/step\n",
      "1/1 [==============================] - 0s 52ms/step\n",
      "1/1 [==============================] - 0s 51ms/step\n",
      "1/1 [==============================] - 0s 51ms/step\n",
      "1/1 [==============================] - 0s 54ms/step\n",
      "1/1 [==============================] - 0s 51ms/step\n",
      "1/1 [==============================] - 0s 51ms/step\n",
      "1/1 [==============================] - 0s 46ms/step\n",
      "1/1 [==============================] - 0s 45ms/step\n",
      "1/1 [==============================] - 0s 50ms/step\n",
      "1/1 [==============================] - 0s 47ms/step\n",
      "1/1 [==============================] - 0s 57ms/step\n",
      "1/1 [==============================] - 0s 52ms/step\n",
      "1/1 [==============================] - 0s 53ms/step\n",
      "1/1 [==============================] - 0s 48ms/step\n",
      "1/1 [==============================] - 0s 50ms/step\n",
      "1/1 [==============================] - 0s 49ms/step\n",
      "1/1 [==============================] - 0s 51ms/step\n",
      "1/1 [==============================] - 0s 52ms/step\n",
      "1/1 [==============================] - 0s 48ms/step\n",
      "1/1 [==============================] - 0s 50ms/step\n",
      "1/1 [==============================] - 0s 45ms/step\n",
      "1/1 [==============================] - 0s 52ms/step\n",
      "1/1 [==============================] - 0s 51ms/step\n",
      "1/1 [==============================] - 0s 51ms/step\n",
      "1/1 [==============================] - 0s 49ms/step\n",
      "1/1 [==============================] - 0s 49ms/step\n",
      "1/1 [==============================] - 0s 45ms/step\n",
      "1/1 [==============================] - 0s 47ms/step\n",
      "1/1 [==============================] - 0s 52ms/step\n",
      "1/1 [==============================] - 0s 50ms/step\n",
      "1/1 [==============================] - 0s 46ms/step\n",
      "1/1 [==============================] - 0s 47ms/step\n",
      "1/1 [==============================] - 0s 52ms/step\n",
      "1/1 [==============================] - 0s 47ms/step\n",
      "1/1 [==============================] - 0s 52ms/step\n",
      "1/1 [==============================] - 0s 45ms/step\n"
     ]
    },
    {
     "name": "stderr",
     "output_type": "stream",
     "text": [
      "[Succeeded / Failed / Skipped / Total] 23 / 68 / 1 / 92:  18%|█▊        | 92/500 [04:33<20:12,  2.97s/it]"
     ]
    },
    {
     "name": "stdout",
     "output_type": "stream",
     "text": [
      "--------------------------------------------- Result 92 ---------------------------------------------\n",
      "[[0 (41%)]] --> [[[FAILED]]]\n",
      "\n",
      "ada yang pakai samsung a tidak dan suara nya suka mati mati begitu kalau tidak pakai headset misalnya setel musik nanti sura nya kedengaran nya kayak pause detik begitu padahal masih jalan agak sering itu aku sebel deh \n",
      "\n",
      "\n",
      "1/1 [==============================] - 0s 36ms/step\n",
      "1/1 [==============================] - 0s 56ms/step\n",
      "1/1 [==============================] - 0s 52ms/step\n",
      "1/1 [==============================] - 0s 47ms/step\n",
      "1/1 [==============================] - 0s 35ms/step\n",
      "1/1 [==============================] - 0s 65ms/step\n",
      "1/1 [==============================] - 0s 41ms/step\n",
      "1/1 [==============================] - 0s 56ms/step\n",
      "1/1 [==============================] - 0s 49ms/step\n",
      "1/1 [==============================] - 0s 49ms/step\n",
      "1/1 [==============================] - 0s 49ms/step\n",
      "1/1 [==============================] - 0s 46ms/step\n",
      "1/1 [==============================] - 0s 48ms/step\n",
      "1/1 [==============================] - 0s 60ms/step\n",
      "1/1 [==============================] - 0s 54ms/step\n",
      "1/1 [==============================] - 0s 49ms/step\n",
      "1/1 [==============================] - 0s 54ms/step\n",
      "1/1 [==============================] - 0s 47ms/step\n",
      "1/1 [==============================] - 0s 48ms/step\n",
      "1/1 [==============================] - 0s 48ms/step\n",
      "1/1 [==============================] - 0s 35ms/step\n",
      "1/1 [==============================] - 0s 53ms/step\n",
      "1/1 [==============================] - 0s 36ms/step\n",
      "1/1 [==============================] - 0s 56ms/step\n",
      "1/1 [==============================] - 0s 48ms/step\n",
      "1/1 [==============================] - 0s 48ms/step\n"
     ]
    },
    {
     "name": "stderr",
     "output_type": "stream",
     "text": [
      "[Succeeded / Failed / Skipped / Total] 23 / 69 / 1 / 93:  19%|█▊        | 93/500 [04:35<20:07,  2.97s/it]"
     ]
    },
    {
     "name": "stdout",
     "output_type": "stream",
     "text": [
      "--------------------------------------------- Result 93 ---------------------------------------------\n",
      "[[0 (38%)]] --> [[[FAILED]]]\n",
      "\n",
      "saya sangat kecewa dengan pihak sales promotion toyota saya menang hadiah samsung gear sport tetapi di kasih nya gear s yang jelas jelas harga beda jauh nama nya satria after sales promotion dia bilang sudah bersyukur saja nama nya juga hadiahlah kok begitu \n",
      "\n",
      "\n",
      "1/1 [==============================] - 0s 45ms/step\n",
      "1/1 [==============================] - 0s 54ms/step\n",
      "1/1 [==============================] - 0s 49ms/step\n",
      "1/1 [==============================] - 0s 45ms/step\n",
      "1/1 [==============================] - 0s 48ms/step\n",
      "1/1 [==============================] - 0s 50ms/step\n",
      "1/1 [==============================] - 0s 45ms/step\n",
      "1/1 [==============================] - 0s 46ms/step\n",
      "1/1 [==============================] - 0s 52ms/step\n",
      "1/1 [==============================] - 0s 49ms/step\n"
     ]
    },
    {
     "name": "stderr",
     "output_type": "stream",
     "text": [
      "[Succeeded / Failed / Skipped / Total] 24 / 69 / 1 / 94:  19%|█▉        | 94/500 [04:36<19:55,  2.94s/it]"
     ]
    },
    {
     "name": "stdout",
     "output_type": "stream",
     "text": [
      "--------------------------------------------- Result 94 ---------------------------------------------\n",
      "[[0 (37%)]] --> [[1 (34%)]]\n",
      "\n",
      "id my s eror lagi hang atau apapun nama nya selama jam lebih kirain cuma hang biasa selama atau menit but ini adalah crazy [[kecewa]] [[parah]] pokok nya \n",
      "\n",
      "id my s eror lagi hang atau apapun nama nya selama jam lebih kirain cuma hang biasa selama atau menit but ini adalah crazy [[tewas]] [[fatal]] pokok nya \n",
      "\n",
      "\n",
      "1/1 [==============================] - 0s 36ms/step\n"
     ]
    },
    {
     "name": "stderr",
     "output_type": "stream",
     "text": [
      "[Succeeded / Failed / Skipped / Total] 24 / 69 / 2 / 95:  19%|█▉        | 95/500 [04:36<19:40,  2.91s/it]"
     ]
    },
    {
     "name": "stdout",
     "output_type": "stream",
     "text": [
      "--------------------------------------------- Result 95 ---------------------------------------------\n",
      "[[1 (41%)]] --> [[[SKIPPED]]]\n",
      "\n",
      "kecewa sama iphone kalah politik dengan samsung saat nya hijrah ke samsung iphone iphone x\n",
      "\n",
      "\n",
      "1/1 [==============================] - 0s 33ms/step\n",
      "1/1 [==============================] - 0s 50ms/step\n",
      "1/1 [==============================] - 0s 54ms/step\n",
      "1/1 [==============================] - 0s 45ms/step\n",
      "1/1 [==============================] - 0s 51ms/step\n",
      "1/1 [==============================] - 0s 46ms/step\n",
      "1/1 [==============================] - 0s 51ms/step\n",
      "1/1 [==============================] - 0s 45ms/step\n",
      "1/1 [==============================] - 0s 51ms/step\n",
      "1/1 [==============================] - 0s 45ms/step\n",
      "--------------------------------------------- Result 96 ---------------------------------------------\n"
     ]
    },
    {
     "name": "stderr",
     "output_type": "stream",
     "text": [
      "[Succeeded / Failed / Skipped / Total] 25 / 69 / 2 / 96:  19%|█▉        | 96/500 [04:37<19:28,  2.89s/it]"
     ]
    },
    {
     "name": "stdout",
     "output_type": "stream",
     "text": [
      "[[0 (37%)]] --> [[1 (35%)]]\n",
      "\n",
      "aku [[kecewa]] dengan iphone aku pakai ip s ini lama [[gila]] \n",
      "\n",
      "aku [[tewas]] dengan iphone aku pakai ip s ini lama [[bebas]] \n",
      "\n",
      "\n",
      "1/1 [==============================] - 0s 58ms/step\n",
      "1/1 [==============================] - 0s 48ms/step\n",
      "1/1 [==============================] - 0s 52ms/step\n",
      "1/1 [==============================] - 0s 46ms/step\n"
     ]
    },
    {
     "name": "stderr",
     "output_type": "stream",
     "text": [
      "[Succeeded / Failed / Skipped / Total] 25 / 69 / 2 / 96:  19%|█▉        | 97/500 [04:38<19:15,  2.87s/it]"
     ]
    },
    {
     "name": "stdout",
     "output_type": "stream",
     "text": [
      "--------------------------------------------- Result 97 ---------------------------------------------\n",
      "[[0 (36%)]] --> [[2 (35%)]]\n",
      "\n",
      "cukuplah sekali aku pernah [[kecewa]] dengan lenovo \n",
      "\n",
      "cukuplah sekali aku pernah [[tewas]] dengan lenovo \n",
      "\n",
      "\n"
     ]
    },
    {
     "name": "stderr",
     "output_type": "stream",
     "text": [
      "[Succeeded / Failed / Skipped / Total] 26 / 69 / 2 / 97:  19%|█▉        | 97/500 [04:38<19:15,  2.87s/it]"
     ]
    },
    {
     "name": "stdout",
     "output_type": "stream",
     "text": [
      "1/1 [==============================] - 0s 37ms/step\n",
      "1/1 [==============================] - 0s 50ms/step\n",
      "1/1 [==============================] - 0s 45ms/step\n",
      "1/1 [==============================] - 0s 50ms/step\n",
      "1/1 [==============================] - 0s 49ms/step\n",
      "1/1 [==============================] - 0s 46ms/step\n",
      "1/1 [==============================] - 0s 51ms/step\n",
      "1/1 [==============================] - 0s 50ms/step\n",
      "1/1 [==============================] - 0s 50ms/step\n",
      "1/1 [==============================] - 0s 44ms/step\n",
      "1/1 [==============================] - 0s 54ms/step\n",
      "1/1 [==============================] - 0s 46ms/step\n",
      "1/1 [==============================] - 0s 51ms/step\n",
      "1/1 [==============================] - 0s 51ms/step\n",
      "1/1 [==============================] - 0s 50ms/step\n",
      "1/1 [==============================] - 0s 45ms/step\n",
      "--------------------------------------------- Result 98 ---------------------------------------------\n",
      "[[0 (37%)]] --> [[[FAILED]]]\n",
      "\n",
      "kemarin banget dengar cerita ini wajar dong kalau saya kecewa dengan samsung saya merasa tertipu saya tidak dapat apa yang dijanjikan di awal \n",
      "\n",
      "\n"
     ]
    },
    {
     "name": "stderr",
     "output_type": "stream",
     "text": [
      "[Succeeded / Failed / Skipped / Total] 26 / 70 / 2 / 98:  20%|█▉        | 98/500 [04:39<19:06,  2.85s/it]"
     ]
    },
    {
     "name": "stdout",
     "output_type": "stream",
     "text": [
      "1/1 [==============================] - 0s 36ms/step\n",
      "1/1 [==============================] - 0s 49ms/step\n",
      "1/1 [==============================] - 0s 47ms/step\n",
      "1/1 [==============================] - 0s 54ms/step\n",
      "1/1 [==============================] - 0s 44ms/step\n",
      "1/1 [==============================] - 0s 45ms/step\n",
      "1/1 [==============================] - 0s 51ms/step\n",
      "1/1 [==============================] - 0s 46ms/step\n",
      "1/1 [==============================] - 0s 47ms/step\n",
      "1/1 [==============================] - 0s 53ms/step\n",
      "1/1 [==============================] - 0s 45ms/step\n",
      "1/1 [==============================] - 0s 45ms/step\n",
      "1/1 [==============================] - 0s 48ms/step\n",
      "1/1 [==============================] - 0s 50ms/step\n",
      "1/1 [==============================] - 0s 47ms/step\n",
      "1/1 [==============================] - 0s 50ms/step\n",
      "1/1 [==============================] - 0s 45ms/step\n",
      "1/1 [==============================] - 0s 52ms/step\n",
      "1/1 [==============================] - 0s 64ms/step\n",
      "1/1 [==============================] - 0s 46ms/step\n"
     ]
    },
    {
     "name": "stderr",
     "output_type": "stream",
     "text": [
      "[Succeeded / Failed / Skipped / Total] 26 / 71 / 2 / 99:  20%|█▉        | 99/500 [04:41<18:59,  2.84s/it]"
     ]
    },
    {
     "name": "stdout",
     "output_type": "stream",
     "text": [
      "--------------------------------------------- Result 99 ---------------------------------------------\n",
      "[[0 (40%)]] --> [[[FAILED]]]\n",
      "\n",
      "aku sudah x pakai samsung x kecewa aku menyesal aku tidak ingin pakai handphone merek itu lagi \n",
      "\n",
      "\n",
      "1/1 [==============================] - 0s 41ms/step\n",
      "1/1 [==============================] - 0s 54ms/step\n",
      "1/1 [==============================] - 0s 46ms/step\n",
      "1/1 [==============================] - 0s 46ms/step\n",
      "1/1 [==============================] - 0s 49ms/step\n",
      "1/1 [==============================] - 0s 44ms/step\n",
      "1/1 [==============================] - 0s 46ms/step\n",
      "1/1 [==============================] - 0s 50ms/step\n",
      "1/1 [==============================] - 0s 45ms/step\n",
      "--------------------------------------------- Result 100 ---------------------------------------------\n",
      "[[0 (39%)]] --> [[1 (34%)]]\n",
      "\n",
      "samsung galaxy s standar fon samsung ini bila sampai satu peringkat dia akan lagi dijuragan sendiri nya saya pengguna samsung yang [[kecewa]] \n",
      "\n",
      "samsung galaxy s standar fon samsung ini bila sampai satu peringkat dia akan lagi dijuragan sendiri nya saya pengguna samsung yang [[tewas]] \n",
      "\n",
      "\n"
     ]
    },
    {
     "name": "stderr",
     "output_type": "stream",
     "text": [
      "[Succeeded / Failed / Skipped / Total] 27 / 71 / 2 / 100:  20%|██        | 100/500 [04:42<18:48,  2.82s/it]"
     ]
    },
    {
     "name": "stdout",
     "output_type": "stream",
     "text": [
      "1/1 [==============================] - 0s 46ms/step\n",
      "1/1 [==============================] - 0s 47ms/step\n",
      "1/1 [==============================] - 0s 51ms/step\n",
      "1/1 [==============================] - 0s 44ms/step\n",
      "1/1 [==============================] - 0s 44ms/step\n",
      "1/1 [==============================] - 0s 53ms/step\n",
      "1/1 [==============================] - 0s 51ms/step\n",
      "1/1 [==============================] - 0s 45ms/step\n",
      "1/1 [==============================] - 0s 51ms/step\n",
      "1/1 [==============================] - 0s 45ms/step\n",
      "1/1 [==============================] - 0s 51ms/step\n",
      "1/1 [==============================] - 0s 44ms/step\n",
      "1/1 [==============================] - 0s 50ms/step\n",
      "1/1 [==============================] - 0s 47ms/step\n",
      "1/1 [==============================] - 0s 44ms/step\n"
     ]
    },
    {
     "name": "stderr",
     "output_type": "stream",
     "text": [
      "[Succeeded / Failed / Skipped / Total] 27 / 71 / 2 / 100:  20%|██        | 101/500 [04:43<18:39,  2.81s/it]"
     ]
    },
    {
     "name": "stdout",
     "output_type": "stream",
     "text": [
      "--------------------------------------------- Result 101 ---------------------------------------------\n",
      "[[0 (41%)]] --> [[[FAILED]]]\n",
      "\n",
      "kecewa dengan specs desain galaxy s tidak sesuai dengan harapan terlalu biasa saja \n",
      "\n",
      "\n"
     ]
    },
    {
     "name": "stderr",
     "output_type": "stream",
     "text": [
      "[Succeeded / Failed / Skipped / Total] 27 / 72 / 2 / 101:  20%|██        | 101/500 [04:43<18:39,  2.81s/it]"
     ]
    },
    {
     "name": "stdout",
     "output_type": "stream",
     "text": [
      "1/1 [==============================] - 0s 44ms/step\n",
      "1/1 [==============================] - 0s 49ms/step\n",
      "1/1 [==============================] - 0s 54ms/step\n",
      "1/1 [==============================] - 0s 45ms/step\n",
      "1/1 [==============================] - 0s 47ms/step\n",
      "1/1 [==============================] - 0s 44ms/step\n",
      "1/1 [==============================] - 0s 49ms/step\n",
      "1/1 [==============================] - 0s 46ms/step\n",
      "1/1 [==============================] - 0s 53ms/step\n",
      "1/1 [==============================] - 0s 46ms/step\n",
      "1/1 [==============================] - 0s 48ms/step\n",
      "1/1 [==============================] - 0s 46ms/step\n",
      "1/1 [==============================] - 0s 50ms/step\n",
      "1/1 [==============================] - 0s 44ms/step\n",
      "1/1 [==============================] - 0s 47ms/step\n",
      "1/1 [==============================] - 0s 59ms/step\n",
      "--------------------------------------------- Result 102 ---------------------------------------------\n",
      "[[0 (36%)]] --> [[[FAILED]]]\n",
      "\n",
      "kecewa banget sama id pusat servis pi kan kita spent waktu untuk ke sini tidak dikasih solusi masa harus bolak balik \n",
      "\n",
      "\n"
     ]
    },
    {
     "name": "stderr",
     "output_type": "stream",
     "text": [
      "[Succeeded / Failed / Skipped / Total] 27 / 73 / 2 / 102:  20%|██        | 102/500 [04:44<18:31,  2.79s/it]"
     ]
    },
    {
     "name": "stdout",
     "output_type": "stream",
     "text": [
      "1/1 [==============================] - 0s 35ms/step\n",
      "1/1 [==============================] - 0s 50ms/step\n",
      "1/1 [==============================] - 0s 47ms/step\n",
      "1/1 [==============================] - 0s 46ms/step\n",
      "1/1 [==============================] - 0s 50ms/step\n",
      "1/1 [==============================] - 0s 45ms/step\n",
      "1/1 [==============================] - 0s 48ms/step\n",
      "1/1 [==============================] - 0s 45ms/step\n"
     ]
    },
    {
     "name": "stderr",
     "output_type": "stream",
     "text": [
      "[Succeeded / Failed / Skipped / Total] 27 / 73 / 2 / 102:  21%|██        | 103/500 [04:45<18:20,  2.77s/it]"
     ]
    },
    {
     "name": "stdout",
     "output_type": "stream",
     "text": [
      "--------------------------------------------- Result 103 ---------------------------------------------\n",
      "[[0 (36%)]] --> [[1 (35%)]]\n",
      "\n",
      "baru sadar bahwa selama ini ternyata saya bukan apple penggemar saya adalah umat stevejob yang kecewa karena apple [[kalah]] inovasi oleh samsung \n",
      "\n",
      "baru sadar bahwa selama ini ternyata saya bukan apple penggemar saya adalah umat stevejob yang kecewa karena apple [[tewas]] inovasi oleh samsung \n",
      "\n",
      "\n"
     ]
    },
    {
     "name": "stderr",
     "output_type": "stream",
     "text": [
      "[Succeeded / Failed / Skipped / Total] 28 / 73 / 2 / 103:  21%|██        | 103/500 [04:45<18:20,  2.77s/it]"
     ]
    },
    {
     "name": "stdout",
     "output_type": "stream",
     "text": [
      "1/1 [==============================] - 0s 70ms/step\n",
      "1/1 [==============================] - 0s 50ms/step\n",
      "1/1 [==============================] - 0s 60ms/step\n",
      "1/1 [==============================] - 0s 45ms/step\n",
      "1/1 [==============================] - 0s 46ms/step\n",
      "1/1 [==============================] - 0s 46ms/step\n",
      "1/1 [==============================] - 0s 48ms/step\n",
      "1/1 [==============================] - 0s 50ms/step\n",
      "1/1 [==============================] - 0s 33ms/step\n",
      "1/1 [==============================] - 0s 53ms/step\n",
      "1/1 [==============================] - 0s 48ms/step\n",
      "1/1 [==============================] - 0s 51ms/step\n",
      "1/1 [==============================] - 0s 52ms/step\n",
      "1/1 [==============================] - 0s 46ms/step\n",
      "1/1 [==============================] - 0s 51ms/step\n",
      "1/1 [==============================] - 0s 49ms/step\n",
      "1/1 [==============================] - 0s 46ms/step\n",
      "1/1 [==============================] - 0s 51ms/step\n",
      "1/1 [==============================] - 0s 51ms/step\n",
      "1/1 [==============================] - 0s 47ms/step\n",
      "1/1 [==============================] - 0s 54ms/step\n",
      "1/1 [==============================] - 0s 52ms/step\n",
      "1/1 [==============================] - 0s 47ms/step\n",
      "1/1 [==============================] - 0s 52ms/step\n",
      "1/1 [==============================] - 0s 51ms/step\n",
      "1/1 [==============================] - 0s 50ms/step\n",
      "1/1 [==============================] - 0s 51ms/step\n",
      "1/1 [==============================] - 0s 46ms/step\n",
      "1/1 [==============================] - 0s 54ms/step\n",
      "1/1 [==============================] - 0s 47ms/step\n",
      "1/1 [==============================] - 0s 47ms/step\n",
      "1/1 [==============================] - 0s 48ms/step\n",
      "1/1 [==============================] - 0s 51ms/step\n",
      "1/1 [==============================] - 0s 34ms/step\n",
      "1/1 [==============================] - 0s 46ms/step\n"
     ]
    },
    {
     "name": "stderr",
     "output_type": "stream",
     "text": [
      "[Succeeded / Failed / Skipped / Total] 28 / 74 / 2 / 104:  21%|██        | 104/500 [04:48<18:19,  2.78s/it]"
     ]
    },
    {
     "name": "stdout",
     "output_type": "stream",
     "text": [
      "--------------------------------------------- Result 104 ---------------------------------------------\n",
      "[[0 (41%)]] --> [[[FAILED]]]\n",
      "\n",
      "kecewa aku dengan desain s samsung ketandusan ide kenapa bisa perusahaan besar itu keilangan akal mungkin isi orang orang nya hanya orang biasa saja \n",
      "\n",
      "\n",
      "1/1 [==============================] - 0s 51ms/step\n",
      "1/1 [==============================] - 0s 49ms/step\n",
      "1/1 [==============================] - 0s 44ms/step\n",
      "1/1 [==============================] - 0s 52ms/step\n",
      "1/1 [==============================] - 0s 44ms/step\n",
      "1/1 [==============================] - 0s 44ms/step\n",
      "1/1 [==============================] - 0s 46ms/step\n",
      "1/1 [==============================] - 0s 46ms/step\n",
      "1/1 [==============================] - 0s 45ms/step\n",
      "1/1 [==============================] - 0s 44ms/step\n",
      "1/1 [==============================] - 0s 49ms/step\n",
      "1/1 [==============================] - 0s 46ms/step\n",
      "1/1 [==============================] - 0s 51ms/step\n",
      "1/1 [==============================] - 0s 45ms/step\n",
      "1/1 [==============================] - 0s 52ms/step\n",
      "1/1 [==============================] - 0s 45ms/step\n",
      "1/1 [==============================] - 0s 44ms/step\n"
     ]
    },
    {
     "name": "stderr",
     "output_type": "stream",
     "text": [
      "[Succeeded / Failed / Skipped / Total] 28 / 75 / 2 / 105:  21%|██        | 105/500 [04:50<18:11,  2.76s/it]"
     ]
    },
    {
     "name": "stdout",
     "output_type": "stream",
     "text": [
      "--------------------------------------------- Result 105 ---------------------------------------------\n",
      "[[0 (40%)]] --> [[[FAILED]]]\n",
      "\n",
      "samsung galaxy s saya sudah diluncurkan semalam saya kecewa desain nya standar banget ekspektasi saya cuma terwujud percuma terbawa sampai mimpi \n",
      "\n",
      "\n",
      "1/1 [==============================] - 0s 49ms/step\n",
      "1/1 [==============================] - 0s 47ms/step\n",
      "1/1 [==============================] - 0s 44ms/step\n",
      "1/1 [==============================] - 0s 47ms/step\n",
      "1/1 [==============================] - 0s 44ms/step\n",
      "1/1 [==============================] - 0s 45ms/step\n",
      "1/1 [==============================] - 0s 53ms/step\n",
      "1/1 [==============================] - 0s 53ms/step\n",
      "1/1 [==============================] - 0s 49ms/step\n",
      "1/1 [==============================] - 0s 50ms/step\n",
      "1/1 [==============================] - 0s 53ms/step\n",
      "1/1 [==============================] - 0s 61ms/step\n",
      "1/1 [==============================] - 0s 50ms/step\n",
      "1/1 [==============================] - 0s 47ms/step\n",
      "1/1 [==============================] - 0s 47ms/step\n",
      "1/1 [==============================] - 0s 47ms/step\n",
      "1/1 [==============================] - 0s 52ms/step\n",
      "1/1 [==============================] - 0s 53ms/step\n",
      "1/1 [==============================] - 0s 47ms/step\n",
      "1/1 [==============================] - 0s 48ms/step\n"
     ]
    },
    {
     "name": "stderr",
     "output_type": "stream",
     "text": [
      "[Succeeded / Failed / Skipped / Total] 28 / 76 / 2 / 106:  21%|██        | 106/500 [04:52<18:05,  2.76s/it]"
     ]
    },
    {
     "name": "stdout",
     "output_type": "stream",
     "text": [
      "--------------------------------------------- Result 106 ---------------------------------------------\n",
      "[[0 (41%)]] --> [[[FAILED]]]\n",
      "\n",
      "hotel mau cek in aja ribet bersihkan kamar lama banget kecewa dah ini pertama kalinya gue ke sana terus langsung dikasih first impression yang tidak bagus \n",
      "\n",
      "\n",
      "1/1 [==============================] - 0s 44ms/step\n",
      "1/1 [==============================] - 0s 48ms/step\n",
      "1/1 [==============================] - 0s 43ms/step\n",
      "1/1 [==============================] - 0s 52ms/step\n",
      "1/1 [==============================] - 0s 44ms/step\n",
      "1/1 [==============================] - 0s 50ms/step\n",
      "1/1 [==============================] - 0s 53ms/step\n",
      "1/1 [==============================] - 0s 49ms/step\n",
      "1/1 [==============================] - 0s 50ms/step\n",
      "1/1 [==============================] - 0s 51ms/step\n",
      "1/1 [==============================] - 0s 50ms/step\n",
      "1/1 [==============================] - 0s 49ms/step\n",
      "1/1 [==============================] - 0s 46ms/step\n",
      "1/1 [==============================] - 0s 48ms/step\n",
      "1/1 [==============================] - 0s 37ms/step\n",
      "1/1 [==============================] - 0s 52ms/step\n",
      "1/1 [==============================] - 0s 48ms/step\n",
      "1/1 [==============================] - 0s 44ms/step\n",
      "1/1 [==============================] - 0s 45ms/step\n",
      "1/1 [==============================] - 0s 54ms/step\n",
      "1/1 [==============================] - 0s 45ms/step\n",
      "1/1 [==============================] - 0s 49ms/step\n",
      "1/1 [==============================] - 0s 42ms/step\n",
      "1/1 [==============================] - 0s 44ms/step\n",
      "1/1 [==============================] - 0s 54ms/step\n",
      "1/1 [==============================] - 0s 52ms/step\n",
      "1/1 [==============================] - 0s 59ms/step\n",
      "1/1 [==============================] - 0s 53ms/step\n",
      "1/1 [==============================] - 0s 52ms/step\n",
      "1/1 [==============================] - 0s 52ms/step\n",
      "1/1 [==============================] - 0s 51ms/step\n",
      "1/1 [==============================] - 0s 48ms/step\n",
      "1/1 [==============================] - 0s 44ms/step\n",
      "1/1 [==============================] - 0s 35ms/step\n",
      "1/1 [==============================] - 0s 45ms/step\n"
     ]
    },
    {
     "name": "stderr",
     "output_type": "stream",
     "text": [
      "[Succeeded / Failed / Skipped / Total] 28 / 77 / 2 / 107:  21%|██▏       | 107/500 [04:55<18:04,  2.76s/it]"
     ]
    },
    {
     "name": "stdout",
     "output_type": "stream",
     "text": [
      "--------------------------------------------- Result 107 ---------------------------------------------\n",
      "[[0 (41%)]] --> [[[FAILED]]]\n",
      "\n",
      "sebagai indomie goreng mania saya merasa kecewa kalau mendapati ternyata bumbu jebol di dalam kemasan kudu bagaimana nek ngene ini gaduh tidak profesional banget \n",
      "\n",
      "\n",
      "1/1 [==============================] - 0s 53ms/step\n",
      "1/1 [==============================] - 0s 52ms/step\n",
      "1/1 [==============================] - 0s 66ms/step\n",
      "1/1 [==============================] - 0s 43ms/step\n",
      "1/1 [==============================] - 0s 45ms/step\n",
      "1/1 [==============================] - 0s 47ms/step\n",
      "1/1 [==============================] - 0s 46ms/step\n",
      "1/1 [==============================] - 0s 50ms/step\n",
      "1/1 [==============================] - 0s 35ms/step\n",
      "1/1 [==============================] - 0s 59ms/step\n",
      "1/1 [==============================] - 0s 49ms/step\n",
      "1/1 [==============================] - 0s 45ms/step\n",
      "1/1 [==============================] - 0s 50ms/step\n",
      "1/1 [==============================] - 0s 34ms/step\n"
     ]
    },
    {
     "name": "stderr",
     "output_type": "stream",
     "text": [
      "[Succeeded / Failed / Skipped / Total] 28 / 78 / 2 / 108:  22%|██▏       | 108/500 [04:56<17:56,  2.75s/it]"
     ]
    },
    {
     "name": "stdout",
     "output_type": "stream",
     "text": [
      "--------------------------------------------- Result 108 ---------------------------------------------\n",
      "[[0 (36%)]] --> [[[FAILED]]]\n",
      "\n",
      "kecewa dengan kualitas barang dari depan kantor chitato expired masih dijual untung aku masih baik tadinya ingin lapor \n",
      "\n",
      "\n",
      "1/1 [==============================] - 0s 42ms/step\n",
      "1/1 [==============================] - 0s 64ms/step\n",
      "1/1 [==============================] - 0s 51ms/step\n",
      "1/1 [==============================] - 0s 44ms/step\n",
      "1/1 [==============================] - 0s 53ms/step\n",
      "1/1 [==============================] - 0s 50ms/step\n",
      "1/1 [==============================] - 0s 45ms/step\n",
      "1/1 [==============================] - 0s 52ms/step\n",
      "1/1 [==============================] - 0s 46ms/step\n",
      "1/1 [==============================] - 0s 43ms/step\n",
      "1/1 [==============================] - 0s 43ms/step\n",
      "1/1 [==============================] - 0s 51ms/step\n",
      "1/1 [==============================] - 0s 43ms/step\n",
      "1/1 [==============================] - 0s 44ms/step\n"
     ]
    },
    {
     "name": "stderr",
     "output_type": "stream",
     "text": [
      "[Succeeded / Failed / Skipped / Total] 29 / 78 / 2 / 109:  22%|██▏       | 109/500 [04:57<17:47,  2.73s/it]"
     ]
    },
    {
     "name": "stdout",
     "output_type": "stream",
     "text": [
      "--------------------------------------------- Result 109 ---------------------------------------------\n",
      "[[0 (39%)]] --> [[2 (36%)]]\n",
      "\n",
      "[[kecewa]] berat baru tahu pop mie goreng sudah discontinue [[ya]] why padahal itu enak banget [[terbaik]] \n",
      "\n",
      "[[tewas]] berat baru tahu pop mie goreng sudah discontinue [[tetap]] why padahal itu enak banget [[paling]] \n",
      "\n",
      "\n",
      "1/1 [==============================] - 0s 49ms/step\n",
      "1/1 [==============================] - 0s 51ms/step\n",
      "1/1 [==============================] - 0s 56ms/step\n",
      "1/1 [==============================] - 0s 45ms/step\n",
      "1/1 [==============================] - 0s 49ms/step\n",
      "1/1 [==============================] - 0s 46ms/step\n",
      "1/1 [==============================] - 0s 51ms/step\n",
      "1/1 [==============================] - 0s 44ms/step\n"
     ]
    },
    {
     "name": "stderr",
     "output_type": "stream",
     "text": [
      "[Succeeded / Failed / Skipped / Total] 30 / 78 / 2 / 110:  22%|██▏       | 110/500 [04:58<17:38,  2.71s/it]"
     ]
    },
    {
     "name": "stdout",
     "output_type": "stream",
     "text": [
      "--------------------------------------------- Result 110 ---------------------------------------------\n",
      "[[0 (35%)]] --> [[1 (34%)]]\n",
      "\n",
      "client kita komplain kami pun sangat [[kecewa]] paling tidak bisa [[jujur]] jika tidak bisa tepat waktu untuk antar dari wtc ke indofood tower \n",
      "\n",
      "client kita komplain kami pun sangat [[tewas]] paling tidak bisa [[lurus]] jika tidak bisa tepat waktu untuk antar dari wtc ke indofood tower \n",
      "\n",
      "\n",
      "1/1 [==============================] - 0s 38ms/step\n",
      "1/1 [==============================] - 0s 49ms/step\n",
      "1/1 [==============================] - 0s 53ms/step\n",
      "1/1 [==============================] - 0s 49ms/step\n",
      "1/1 [==============================] - 0s 47ms/step\n",
      "1/1 [==============================] - 0s 56ms/step\n",
      "1/1 [==============================] - 0s 48ms/step\n",
      "1/1 [==============================] - 0s 50ms/step\n",
      "1/1 [==============================] - 0s 53ms/step\n",
      "1/1 [==============================] - 0s 57ms/step\n",
      "1/1 [==============================] - 0s 44ms/step\n",
      "1/1 [==============================] - 0s 48ms/step\n",
      "1/1 [==============================] - 0s 46ms/step\n",
      "1/1 [==============================] - 0s 57ms/step\n",
      "1/1 [==============================] - 0s 52ms/step\n",
      "1/1 [==============================] - 0s 50ms/step\n",
      "1/1 [==============================] - 0s 51ms/step\n",
      "1/1 [==============================] - 0s 45ms/step\n",
      "1/1 [==============================] - 0s 52ms/step\n",
      "1/1 [==============================] - 0s 53ms/step\n",
      "1/1 [==============================] - 0s 52ms/step\n",
      "1/1 [==============================] - 0s 51ms/step\n",
      "1/1 [==============================] - 0s 51ms/step\n",
      "1/1 [==============================] - 0s 54ms/step\n",
      "1/1 [==============================] - 0s 45ms/step\n",
      "1/1 [==============================] - 0s 45ms/step\n",
      "1/1 [==============================] - 0s 49ms/step\n",
      "1/1 [==============================] - 0s 47ms/step\n"
     ]
    },
    {
     "name": "stderr",
     "output_type": "stream",
     "text": [
      "[Succeeded / Failed / Skipped / Total] 31 / 78 / 2 / 111:  22%|██▏       | 111/500 [05:01<17:34,  2.71s/it]"
     ]
    },
    {
     "name": "stdout",
     "output_type": "stream",
     "text": [
      "--------------------------------------------- Result 111 ---------------------------------------------\n",
      "[[0 (39%)]] --> [[1 (36%)]]\n",
      "\n",
      "selesai juga bikin surat pengunduran diri dah ah tinggal tidur saja besok pagi tinggal pergi ke gudang indofood sangat [[kecewa]] \n",
      "\n",
      "selesai juga bikin surat pengunduran diri dah ah tinggal tidur saja besok pagi tinggal pergi ke gudang indofood sangat [[tewas]] \n",
      "\n",
      "\n",
      "1/1 [==============================] - 0s 39ms/step\n",
      "1/1 [==============================] - 0s 63ms/step\n",
      "1/1 [==============================] - 0s 48ms/step\n",
      "1/1 [==============================] - 0s 52ms/step\n",
      "1/1 [==============================] - 0s 45ms/step\n",
      "1/1 [==============================] - 0s 44ms/step\n",
      "1/1 [==============================] - 0s 45ms/step\n",
      "1/1 [==============================] - 0s 52ms/step\n",
      "1/1 [==============================] - 0s 45ms/step\n",
      "1/1 [==============================] - 0s 52ms/step\n",
      "1/1 [==============================] - 0s 45ms/step\n",
      "1/1 [==============================] - 0s 50ms/step\n",
      "1/1 [==============================] - 0s 46ms/step\n",
      "1/1 [==============================] - 0s 48ms/step\n",
      "1/1 [==============================] - 0s 45ms/step\n",
      "1/1 [==============================] - 0s 53ms/step\n",
      "1/1 [==============================] - 0s 45ms/step\n",
      "1/1 [==============================] - 0s 53ms/step\n",
      "1/1 [==============================] - 0s 45ms/step\n",
      "--------------------------------------------- Result 112 ---------------------------------------------\n",
      "[[0 (48%)]] --> [[1 (35%)]]\n",
      "\n",
      "indofood tukang bohong dapat pulsa dari mi tetapi tidak di tanggepin [[kecewa]] tidak mau beli produk indofood lagi ah [[kecewa]] [[kecewa]] \n",
      "\n",
      "indofood tukang bohong dapat pulsa dari mi tetapi tidak di tanggepin [[tewas]] tidak mau beli produk indofood lagi ah [[tewas]] [[tewas]] \n",
      "\n",
      "\n"
     ]
    },
    {
     "name": "stderr",
     "output_type": "stream",
     "text": [
      "[Succeeded / Failed / Skipped / Total] 32 / 78 / 2 / 112:  22%|██▏       | 112/500 [05:02<17:28,  2.70s/it]"
     ]
    },
    {
     "name": "stdout",
     "output_type": "stream",
     "text": [
      "1/1 [==============================] - 0s 39ms/step\n",
      "1/1 [==============================] - 0s 47ms/step\n",
      "1/1 [==============================] - 0s 48ms/step\n",
      "1/1 [==============================] - 0s 50ms/step\n",
      "1/1 [==============================] - 0s 50ms/step\n",
      "1/1 [==============================] - 0s 46ms/step\n",
      "1/1 [==============================] - 0s 46ms/step\n",
      "1/1 [==============================] - 0s 55ms/step\n",
      "1/1 [==============================] - 0s 46ms/step\n",
      "1/1 [==============================] - 0s 52ms/step\n",
      "1/1 [==============================] - 0s 50ms/step\n",
      "1/1 [==============================] - 0s 52ms/step\n",
      "1/1 [==============================] - 0s 49ms/step\n",
      "1/1 [==============================] - 0s 51ms/step\n",
      "1/1 [==============================] - 0s 64ms/step\n",
      "1/1 [==============================] - 0s 49ms/step\n",
      "1/1 [==============================] - 0s 56ms/step\n",
      "1/1 [==============================] - 0s 51ms/step\n",
      "1/1 [==============================] - 0s 52ms/step\n",
      "1/1 [==============================] - 0s 49ms/step\n",
      "1/1 [==============================] - 0s 44ms/step\n",
      "1/1 [==============================] - 0s 47ms/step\n",
      "1/1 [==============================] - 0s 56ms/step\n",
      "1/1 [==============================] - 0s 54ms/step\n",
      "1/1 [==============================] - 0s 45ms/step\n",
      "1/1 [==============================] - 0s 52ms/step\n",
      "1/1 [==============================] - 0s 50ms/step\n",
      "1/1 [==============================] - 0s 52ms/step\n",
      "1/1 [==============================] - 0s 52ms/step\n",
      "1/1 [==============================] - 0s 50ms/step\n",
      "1/1 [==============================] - 0s 53ms/step\n",
      "1/1 [==============================] - 0s 50ms/step\n",
      "1/1 [==============================] - 0s 50ms/step\n",
      "1/1 [==============================] - 0s 54ms/step\n",
      "1/1 [==============================] - 0s 51ms/step\n",
      "1/1 [==============================] - 0s 53ms/step\n",
      "1/1 [==============================] - 0s 50ms/step\n",
      "1/1 [==============================] - 0s 44ms/step\n"
     ]
    },
    {
     "name": "stderr",
     "output_type": "stream",
     "text": [
      "[Succeeded / Failed / Skipped / Total] 32 / 79 / 2 / 113:  23%|██▎       | 113/500 [05:06<17:28,  2.71s/it]"
     ]
    },
    {
     "name": "stdout",
     "output_type": "stream",
     "text": [
      "--------------------------------------------- Result 113 ---------------------------------------------\n",
      "[[0 (43%)]] --> [[[FAILED]]]\n",
      "\n",
      "sumpah aku sedih banget dan kagol popmie favorit aku sudah tidak ada lagi kecewa indofood aku itu padahal hampir setiap hari makan itu \n",
      "\n",
      "\n",
      "1/1 [==============================] - 0s 59ms/step\n",
      "1/1 [==============================] - 0s 52ms/step\n",
      "1/1 [==============================] - 0s 50ms/step\n",
      "1/1 [==============================] - 0s 42ms/step\n",
      "1/1 [==============================] - 0s 44ms/step\n",
      "1/1 [==============================] - 0s 43ms/step\n",
      "1/1 [==============================] - 0s 48ms/step\n",
      "1/1 [==============================] - 0s 47ms/step\n",
      "1/1 [==============================] - 0s 47ms/step\n",
      "1/1 [==============================] - 0s 48ms/step\n",
      "1/1 [==============================] - 0s 50ms/step\n",
      "1/1 [==============================] - 0s 58ms/step\n",
      "1/1 [==============================] - 0s 45ms/step\n",
      "1/1 [==============================] - 0s 44ms/step\n",
      "1/1 [==============================] - 0s 48ms/step\n",
      "1/1 [==============================] - 0s 43ms/step\n",
      "1/1 [==============================] - 0s 52ms/step\n",
      "1/1 [==============================] - 0s 46ms/step\n",
      "1/1 [==============================] - 0s 49ms/step\n",
      "1/1 [==============================] - 0s 42ms/step\n",
      "--------------------------------------------- Result 114 ---------------------------------------------\n"
     ]
    },
    {
     "name": "stderr",
     "output_type": "stream",
     "text": [
      "[Succeeded / Failed / Skipped / Total] 32 / 80 / 2 / 114:  23%|██▎       | 114/500 [05:08<17:23,  2.70s/it]"
     ]
    },
    {
     "name": "stdout",
     "output_type": "stream",
     "text": [
      "[[0 (41%)]] --> [[[FAILED]]]\n",
      "\n",
      "kecewa sama indofood kata nya di sini tulisan nya sambal abc ekstra pedas tapi biro biro pedas manis mah iya ini tidak asik ah\n",
      "\n",
      "\n",
      "1/1 [==============================] - 0s 40ms/step\n",
      "1/1 [==============================] - 0s 45ms/step\n",
      "1/1 [==============================] - 0s 51ms/step\n",
      "1/1 [==============================] - 0s 44ms/step\n",
      "1/1 [==============================] - 0s 43ms/step\n",
      "1/1 [==============================] - 0s 48ms/step\n",
      "1/1 [==============================] - 0s 43ms/step\n",
      "1/1 [==============================] - 0s 45ms/step\n",
      "1/1 [==============================] - 0s 47ms/step\n",
      "1/1 [==============================] - 0s 48ms/step\n",
      "1/1 [==============================] - 0s 44ms/step\n",
      "1/1 [==============================] - 0s 44ms/step\n"
     ]
    },
    {
     "name": "stderr",
     "output_type": "stream",
     "text": [
      "[Succeeded / Failed / Skipped / Total] 32 / 80 / 2 / 114:  23%|██▎       | 115/500 [05:09<17:14,  2.69s/it]"
     ]
    },
    {
     "name": "stdout",
     "output_type": "stream",
     "text": [
      "--------------------------------------------- Result 115 ---------------------------------------------\n",
      "[[0 (37%)]] --> [[[FAILED]]]\n",
      "\n",
      "dengan ini saya nyatakan kecewa dengan indofood masa di indomie soto saya bubuk cabai nya kosong hak saya dihilangkan \n",
      "\n",
      "\n"
     ]
    },
    {
     "name": "stderr",
     "output_type": "stream",
     "text": [
      "[Succeeded / Failed / Skipped / Total] 32 / 81 / 2 / 115:  23%|██▎       | 115/500 [05:09<17:14,  2.69s/it]"
     ]
    },
    {
     "name": "stdout",
     "output_type": "stream",
     "text": [
      "1/1 [==============================] - 0s 45ms/step\n",
      "1/1 [==============================] - 0s 45ms/step\n",
      "1/1 [==============================] - 0s 50ms/step\n",
      "1/1 [==============================] - 0s 42ms/step\n",
      "1/1 [==============================] - 0s 42ms/step\n",
      "1/1 [==============================] - 0s 43ms/step\n",
      "1/1 [==============================] - 0s 50ms/step\n",
      "1/1 [==============================] - 0s 42ms/step\n"
     ]
    },
    {
     "name": "stderr",
     "output_type": "stream",
     "text": [
      "[Succeeded / Failed / Skipped / Total] 32 / 82 / 2 / 116:  23%|██▎       | 116/500 [05:09<17:05,  2.67s/it]"
     ]
    },
    {
     "name": "stdout",
     "output_type": "stream",
     "text": [
      "--------------------------------------------- Result 116 ---------------------------------------------\n",
      "[[0 (39%)]] --> [[[FAILED]]]\n",
      "\n",
      "kecewa sama supir taxi masa menara indofood dibilang shangrila hotel kalau memang tidak tahu ada baiknya tanya \n",
      "\n",
      "\n",
      "1/1 [==============================] - 0s 43ms/step\n",
      "1/1 [==============================] - 0s 53ms/step\n",
      "1/1 [==============================] - 0s 50ms/step\n",
      "1/1 [==============================] - 0s 51ms/step\n",
      "1/1 [==============================] - 0s 56ms/step\n",
      "1/1 [==============================] - 0s 47ms/step\n",
      "1/1 [==============================] - 0s 44ms/step\n",
      "1/1 [==============================] - 0s 51ms/step\n",
      "1/1 [==============================] - 0s 42ms/step\n",
      "1/1 [==============================] - 0s 47ms/step\n",
      "1/1 [==============================] - 0s 49ms/step\n",
      "1/1 [==============================] - 0s 45ms/step\n",
      "1/1 [==============================] - 0s 45ms/step\n",
      "1/1 [==============================] - 0s 47ms/step\n",
      "1/1 [==============================] - 0s 51ms/step\n",
      "1/1 [==============================] - 0s 48ms/step\n"
     ]
    },
    {
     "name": "stderr",
     "output_type": "stream",
     "text": [
      "[Succeeded / Failed / Skipped / Total] 33 / 82 / 2 / 117:  23%|██▎       | 117/500 [05:11<16:58,  2.66s/it]"
     ]
    },
    {
     "name": "stdout",
     "output_type": "stream",
     "text": [
      "--------------------------------------------- Result 117 ---------------------------------------------\n",
      "[[0 (35%)]] --> [[1 (34%)]]\n",
      "\n",
      "gimana ya antara kecewa atau sekadar deh sama r di indofood karena [[pas]] rendang keluar itu heboh [[mampus]] [[enak]] nya enggak ketolongan new varian noods din triliun capture dat magic \n",
      "\n",
      "gimana ya antara kecewa atau sekadar deh sama r di indofood karena [[lulus]] rendang keluar itu heboh [[pergi]] [[cantik]] nya enggak ketolongan new varian noods din triliun capture dat magic \n",
      "\n",
      "\n",
      "1/1 [==============================] - 0s 36ms/step\n"
     ]
    },
    {
     "name": "stderr",
     "output_type": "stream",
     "text": [
      "[Succeeded / Failed / Skipped / Total] 33 / 82 / 3 / 118:  24%|██▎       | 118/500 [05:11<16:47,  2.64s/it]"
     ]
    },
    {
     "name": "stdout",
     "output_type": "stream",
     "text": [
      "--------------------------------------------- Result 118 ---------------------------------------------\n",
      "[[2 (35%)]] --> [[[SKIPPED]]]\n",
      "\n",
      "kecewa sama sales teh kahuripan tawarkan produk maksa harus beli sampai ngancem enggak bakal dikasih tiket kupon mudik \n",
      "\n",
      "\n",
      "1/1 [==============================] - 0s 57ms/step\n",
      "1/1 [==============================] - 0s 45ms/step\n",
      "1/1 [==============================] - 0s 50ms/step\n",
      "1/1 [==============================] - 0s 42ms/step\n",
      "1/1 [==============================] - 0s 44ms/step\n",
      "1/1 [==============================] - 0s 34ms/step\n",
      "1/1 [==============================] - 0s 48ms/step\n",
      "1/1 [==============================] - 0s 46ms/step\n",
      "1/1 [==============================] - 0s 45ms/step\n",
      "1/1 [==============================] - 0s 42ms/step\n",
      "1/1 [==============================] - 0s 46ms/step\n",
      "1/1 [==============================] - 0s 50ms/step\n",
      "1/1 [==============================] - 0s 51ms/step\n",
      "1/1 [==============================] - 0s 43ms/step\n",
      "1/1 [==============================] - 0s 47ms/step\n",
      "1/1 [==============================] - 0s 43ms/step\n",
      "1/1 [==============================] - 0s 50ms/step\n",
      "1/1 [==============================] - 0s 43ms/step\n",
      "1/1 [==============================] - 0s 46ms/step\n",
      "1/1 [==============================] - 0s 45ms/step\n",
      "1/1 [==============================] - 0s 43ms/step\n",
      "1/1 [==============================] - 0s 47ms/step\n",
      "1/1 [==============================] - 0s 37ms/step\n"
     ]
    },
    {
     "name": "stderr",
     "output_type": "stream",
     "text": [
      "[Succeeded / Failed / Skipped / Total] 33 / 82 / 3 / 118:  24%|██▍       | 119/500 [05:13<16:43,  2.63s/it]"
     ]
    },
    {
     "name": "stdout",
     "output_type": "stream",
     "text": [
      "--------------------------------------------- Result 119 ---------------------------------------------\n",
      "[[0 (43%)]] --> [[[FAILED]]]\n",
      "\n",
      "saya sangat kecewa dengan klaim mobil saya an karpito serena b toz mohon penjelasan dari pihak bca karena hak dalam polis saya tidak dipenuh jangan merugikan orang lain \n",
      "\n",
      "\n"
     ]
    },
    {
     "name": "stderr",
     "output_type": "stream",
     "text": [
      "[Succeeded / Failed / Skipped / Total] 33 / 83 / 3 / 119:  24%|██▍       | 119/500 [05:13<16:43,  2.63s/it]"
     ]
    },
    {
     "name": "stdout",
     "output_type": "stream",
     "text": [
      "1/1 [==============================] - 0s 46ms/step\n",
      "1/1 [==============================] - 0s 45ms/step\n",
      "1/1 [==============================] - 0s 48ms/step\n",
      "1/1 [==============================] - 0s 43ms/step\n",
      "1/1 [==============================] - 0s 53ms/step\n",
      "1/1 [==============================] - 0s 49ms/step\n",
      "1/1 [==============================] - 0s 46ms/step\n",
      "1/1 [==============================] - 0s 56ms/step\n",
      "1/1 [==============================] - 0s 35ms/step\n",
      "1/1 [==============================] - 0s 52ms/step\n",
      "1/1 [==============================] - 0s 43ms/step\n",
      "1/1 [==============================] - 0s 46ms/step\n",
      "1/1 [==============================] - 0s 48ms/step\n",
      "1/1 [==============================] - 0s 47ms/step\n",
      "1/1 [==============================] - 0s 44ms/step\n",
      "1/1 [==============================] - 0s 54ms/step\n",
      "1/1 [==============================] - 0s 43ms/step\n",
      "1/1 [==============================] - 0s 44ms/step\n",
      "1/1 [==============================] - 0s 45ms/step\n",
      "1/1 [==============================] - 0s 49ms/step\n",
      "1/1 [==============================] - 0s 44ms/step\n",
      "1/1 [==============================] - 0s 49ms/step\n",
      "1/1 [==============================] - 0s 45ms/step\n",
      "1/1 [==============================] - 0s 44ms/step\n",
      "1/1 [==============================] - 0s 44ms/step\n",
      "1/1 [==============================] - 0s 43ms/step\n",
      "1/1 [==============================] - 0s 52ms/step\n",
      "1/1 [==============================] - 0s 49ms/step\n",
      "1/1 [==============================] - 0s 50ms/step\n",
      "1/1 [==============================] - 0s 37ms/step\n",
      "1/1 [==============================] - 0s 58ms/step\n",
      "1/1 [==============================] - 0s 46ms/step\n",
      "1/1 [==============================] - 0s 46ms/step\n"
     ]
    },
    {
     "name": "stderr",
     "output_type": "stream",
     "text": [
      "[Succeeded / Failed / Skipped / Total] 33 / 84 / 3 / 120:  24%|██▍       | 120/500 [05:16<16:41,  2.64s/it]"
     ]
    },
    {
     "name": "stdout",
     "output_type": "stream",
     "text": [
      "--------------------------------------------- Result 120 ---------------------------------------------\n",
      "[[0 (37%)]] --> [[[FAILED]]]\n",
      "\n",
      "kecewa dengan xl sudah bulan berturut berturut gagal debet ke kartu kredit bca status kartu normal padahal bulan bulan sebelumnya lancar malah suruh datang ke gerai xl buat apa ada pusat panggilan \n",
      "\n",
      "\n",
      "1/1 [==============================] - 0s 44ms/step\n",
      "1/1 [==============================] - 0s 48ms/step\n",
      "1/1 [==============================] - 0s 59ms/step\n",
      "1/1 [==============================] - 0s 42ms/step\n",
      "1/1 [==============================] - 0s 49ms/step\n",
      "1/1 [==============================] - 0s 36ms/step\n",
      "1/1 [==============================] - 0s 37ms/step\n",
      "1/1 [==============================] - 0s 44ms/step\n",
      "1/1 [==============================] - 0s 39ms/step\n",
      "1/1 [==============================] - 0s 55ms/step\n",
      "1/1 [==============================] - 0s 42ms/step\n",
      "1/1 [==============================] - 0s 41ms/step\n",
      "1/1 [==============================] - 0s 44ms/step\n",
      "1/1 [==============================] - 0s 53ms/step\n",
      "1/1 [==============================] - 0s 43ms/step\n",
      "1/1 [==============================] - 0s 44ms/step\n",
      "1/1 [==============================] - 0s 35ms/step\n",
      "1/1 [==============================] - 0s 56ms/step\n",
      "1/1 [==============================] - 0s 43ms/step\n",
      "1/1 [==============================] - 0s 34ms/step\n",
      "1/1 [==============================] - 0s 47ms/step\n",
      "1/1 [==============================] - 0s 46ms/step\n",
      "1/1 [==============================] - 0s 35ms/step\n",
      "1/1 [==============================] - 0s 52ms/step\n",
      "1/1 [==============================] - 0s 41ms/step\n",
      "1/1 [==============================] - 0s 42ms/step\n"
     ]
    },
    {
     "name": "stderr",
     "output_type": "stream",
     "text": [
      "[Succeeded / Failed / Skipped / Total] 33 / 85 / 3 / 121:  24%|██▍       | 121/500 [05:18<16:37,  2.63s/it]"
     ]
    },
    {
     "name": "stdout",
     "output_type": "stream",
     "text": [
      "--------------------------------------------- Result 121 ---------------------------------------------\n",
      "[[0 (41%)]] --> [[[FAILED]]]\n",
      "\n",
      "sampai saat ini benar benar enjoy deh pakai tapi tadi kita coba cash kembali sunday ya nonton bioskop di xxi epicentrum cuma bisa pkk debit bca saja tidak bisa pakai kartu lain penonton kecewa deh sad \n",
      "\n",
      "\n",
      "1/1 [==============================] - 0s 53ms/step\n",
      "1/1 [==============================] - 0s 50ms/step\n",
      "1/1 [==============================] - 0s 51ms/step\n",
      "1/1 [==============================] - 0s 45ms/step\n",
      "1/1 [==============================] - 0s 50ms/step\n",
      "1/1 [==============================] - 0s 44ms/step\n",
      "1/1 [==============================] - 0s 45ms/step\n",
      "1/1 [==============================] - 0s 48ms/step\n",
      "1/1 [==============================] - 0s 45ms/step\n",
      "1/1 [==============================] - 0s 42ms/step\n",
      "1/1 [==============================] - 0s 34ms/step\n",
      "1/1 [==============================] - 0s 51ms/step\n",
      "1/1 [==============================] - 0s 44ms/step\n",
      "1/1 [==============================] - 0s 52ms/step\n",
      "1/1 [==============================] - 0s 60ms/step\n",
      "1/1 [==============================] - 0s 51ms/step\n",
      "1/1 [==============================] - 0s 52ms/step\n",
      "1/1 [==============================] - 0s 52ms/step\n",
      "1/1 [==============================] - 0s 56ms/step\n",
      "1/1 [==============================] - 0s 49ms/step\n",
      "1/1 [==============================] - 0s 40ms/step\n",
      "1/1 [==============================] - 0s 43ms/step\n",
      "1/1 [==============================] - 0s 49ms/step\n",
      "1/1 [==============================] - 0s 51ms/step\n",
      "1/1 [==============================] - 0s 52ms/step\n",
      "1/1 [==============================] - 0s 49ms/step\n",
      "1/1 [==============================] - 0s 50ms/step\n",
      "1/1 [==============================] - 0s 45ms/step\n",
      "1/1 [==============================] - 0s 50ms/step\n",
      "1/1 [==============================] - 0s 42ms/step\n",
      "1/1 [==============================] - 0s 43ms/step\n",
      "1/1 [==============================] - 0s 51ms/step\n",
      "1/1 [==============================] - 0s 45ms/step\n",
      "1/1 [==============================] - 0s 56ms/step\n",
      "1/1 [==============================] - 0s 61ms/step\n",
      "1/1 [==============================] - 0s 41ms/step\n",
      "1/1 [==============================] - 0s 53ms/step\n",
      "1/1 [==============================] - 0s 51ms/step\n",
      "1/1 [==============================] - 0s 47ms/step\n",
      "1/1 [==============================] - 0s 44ms/step\n",
      "1/1 [==============================] - 0s 33ms/step\n",
      "--------------------------------------------- Result 122 ---------------------------------------------\n",
      "[[0 (38%)]] --> [[[FAILED]]]\n",
      "\n",
      "sungguh kecewa dengan pelayanan bca khusus nya baca finance wtc mg pelayanan ovet kredit yang sungguh mengecewakan sudah hampir bulan lebih belum ada kabar juga bahkan saya sudah membayar x tagihan cicilan masih belum ada kabar juga tanya ke marketing juga respon nya tidak ada \n",
      "\n",
      "\n"
     ]
    },
    {
     "name": "stderr",
     "output_type": "stream",
     "text": [
      "[Succeeded / Failed / Skipped / Total] 33 / 86 / 3 / 122:  24%|██▍       | 122/500 [05:22<16:38,  2.64s/it]"
     ]
    },
    {
     "name": "stdout",
     "output_type": "stream",
     "text": [
      "1/1 [==============================] - 0s 46ms/step\n",
      "1/1 [==============================] - 0s 46ms/step\n",
      "1/1 [==============================] - 0s 44ms/step\n",
      "1/1 [==============================] - 0s 52ms/step\n",
      "1/1 [==============================] - 0s 44ms/step\n",
      "1/1 [==============================] - 0s 51ms/step\n",
      "1/1 [==============================] - 0s 46ms/step\n",
      "1/1 [==============================] - 0s 41ms/step\n",
      "1/1 [==============================] - 0s 47ms/step\n",
      "1/1 [==============================] - 0s 48ms/step\n",
      "1/1 [==============================] - 0s 47ms/step\n",
      "1/1 [==============================] - 0s 49ms/step\n",
      "1/1 [==============================] - 0s 42ms/step\n",
      "1/1 [==============================] - 0s 48ms/step\n",
      "1/1 [==============================] - 0s 42ms/step\n",
      "1/1 [==============================] - 0s 50ms/step\n",
      "1/1 [==============================] - 0s 41ms/step\n",
      "1/1 [==============================] - 0s 49ms/step\n",
      "1/1 [==============================] - 0s 46ms/step\n",
      "1/1 [==============================] - 0s 45ms/step\n",
      "1/1 [==============================] - 0s 54ms/step\n",
      "1/1 [==============================] - 0s 47ms/step\n",
      "1/1 [==============================] - 0s 48ms/step\n",
      "1/1 [==============================] - 0s 49ms/step\n",
      "1/1 [==============================] - 0s 46ms/step\n",
      "1/1 [==============================] - 0s 44ms/step\n"
     ]
    },
    {
     "name": "stderr",
     "output_type": "stream",
     "text": [
      "[Succeeded / Failed / Skipped / Total] 33 / 87 / 3 / 123:  25%|██▍       | 123/500 [05:24<16:35,  2.64s/it]"
     ]
    },
    {
     "name": "stdout",
     "output_type": "stream",
     "text": [
      "--------------------------------------------- Result 123 ---------------------------------------------\n",
      "[[0 (39%)]] --> [[[FAILED]]]\n",
      "\n",
      "sedang proses penukaran produk karena awam pertama kali urusan dengan blibli maka pt bca tbk menyampaikan catatan ini serius sangat kecewa keberatan karena tidak ada itikad baik \n",
      "\n",
      "\n",
      "1/1 [==============================] - 0s 46ms/step\n",
      "1/1 [==============================] - 0s 46ms/step\n",
      "1/1 [==============================] - 0s 51ms/step\n",
      "1/1 [==============================] - 0s 48ms/step\n",
      "1/1 [==============================] - 0s 42ms/step\n",
      "1/1 [==============================] - 0s 42ms/step\n",
      "1/1 [==============================] - 0s 51ms/step\n",
      "1/1 [==============================] - 0s 50ms/step\n",
      "1/1 [==============================] - 0s 46ms/step\n",
      "1/1 [==============================] - 0s 47ms/step\n",
      "1/1 [==============================] - 0s 51ms/step\n",
      "1/1 [==============================] - 0s 59ms/step\n",
      "1/1 [==============================] - 0s 51ms/step\n",
      "1/1 [==============================] - 0s 44ms/step\n",
      "1/1 [==============================] - 0s 47ms/step\n",
      "1/1 [==============================] - 0s 43ms/step\n",
      "1/1 [==============================] - 0s 50ms/step\n",
      "1/1 [==============================] - 0s 41ms/step\n",
      "1/1 [==============================] - 0s 52ms/step\n",
      "1/1 [==============================] - 0s 43ms/step\n",
      "1/1 [==============================] - 0s 42ms/step\n"
     ]
    },
    {
     "name": "stderr",
     "output_type": "stream",
     "text": [
      "[Succeeded / Failed / Skipped / Total] 33 / 88 / 3 / 124:  25%|██▍       | 124/500 [05:26<16:30,  2.63s/it]"
     ]
    },
    {
     "name": "stdout",
     "output_type": "stream",
     "text": [
      "--------------------------------------------- Result 124 ---------------------------------------------\n",
      "[[0 (45%)]] --> [[[FAILED]]]\n",
      "\n",
      "seperti yang sudah saya mention sebelumnya pak romi data saya diketahui semuanya oh iya jikalau tutup akun bagaimana ya dan meminta semua data saya yang di bca tidak tersimpan lagi saya kecewa ingin tutup akun bca saja biar tidak terjadi seperti ini lagi \n",
      "\n",
      "\n",
      "1/1 [==============================] - 0s 48ms/step\n",
      "1/1 [==============================] - 0s 60ms/step\n",
      "1/1 [==============================] - 0s 60ms/step\n",
      "1/1 [==============================] - 0s 45ms/step\n",
      "1/1 [==============================] - 0s 42ms/step\n",
      "1/1 [==============================] - 0s 41ms/step\n",
      "1/1 [==============================] - 0s 41ms/step\n",
      "1/1 [==============================] - 0s 49ms/step\n",
      "1/1 [==============================] - 0s 42ms/step\n",
      "1/1 [==============================] - 0s 46ms/step\n",
      "1/1 [==============================] - 0s 45ms/step\n",
      "1/1 [==============================] - 0s 43ms/step\n",
      "1/1 [==============================] - 0s 48ms/step\n",
      "1/1 [==============================] - 0s 49ms/step\n",
      "1/1 [==============================] - 0s 41ms/step\n",
      "1/1 [==============================] - 0s 45ms/step\n",
      "1/1 [==============================] - 0s 45ms/step\n",
      "1/1 [==============================] - 0s 40ms/step\n",
      "1/1 [==============================] - 0s 50ms/step\n",
      "1/1 [==============================] - 0s 44ms/step\n",
      "1/1 [==============================] - 0s 48ms/step\n",
      "1/1 [==============================] - 0s 42ms/step\n"
     ]
    },
    {
     "name": "stderr",
     "output_type": "stream",
     "text": [
      "[Succeeded / Failed / Skipped / Total] 33 / 88 / 3 / 124:  25%|██▌       | 125/500 [05:28<16:25,  2.63s/it]"
     ]
    },
    {
     "name": "stdout",
     "output_type": "stream",
     "text": [
      "--------------------------------------------- Result 125 ---------------------------------------------\n"
     ]
    },
    {
     "name": "stderr",
     "output_type": "stream",
     "text": [
      "[Succeeded / Failed / Skipped / Total] 34 / 88 / 3 / 125:  25%|██▌       | 125/500 [05:28<16:25,  2.63s/it]"
     ]
    },
    {
     "name": "stdout",
     "output_type": "stream",
     "text": [
      "[[0 (36%)]] --> [[1 (35%)]]\n",
      "\n",
      "sebagai nasabah bank bca yang sudah lebih dari th saya merasa [[kecewa]] bca tidak dapat memberikan keamanan kepada nasabah nya bagaimana bisa uang di rekening saya [[habis]] terjadi transaksi berkali kali di [[tanggal]] [[mei]] kemarin yang bukan dilakukan oleh saya \n",
      "\n",
      "sebagai nasabah bank bca yang sudah lebih dari th saya merasa [[tewas]] bca tidak dapat memberikan keamanan kepada nasabah nya bagaimana bisa uang di rekening saya [[lalu]] terjadi transaksi berkali kali di [[ikut]] [[Ume]] kemarin yang bukan dilakukan oleh saya \n",
      "\n",
      "\n",
      "1/1 [==============================] - 0s 35ms/step\n"
     ]
    },
    {
     "name": "stderr",
     "output_type": "stream",
     "text": [
      "[Succeeded / Failed / Skipped / Total] 34 / 88 / 4 / 126:  25%|██▌       | 126/500 [05:28<16:15,  2.61s/it]"
     ]
    },
    {
     "name": "stdout",
     "output_type": "stream",
     "text": [
      "--------------------------------------------- Result 126 ---------------------------------------------\n",
      "[[0 (37%)]] --> [[[SKIPPED]]]\n",
      "\n",
      "apl ini sangat membantu sekali dengan memberikan kemudahan dalam pesan tiket to bepergian ke mana pun sehingga saya tidak harus keluar lagi to mmbli tiket semoga aplikasi ini selalu lncar ya setiap x melakukan pemesanan \n",
      "\n",
      "\n",
      "1/1 [==============================] - 0s 37ms/step\n",
      "1/1 [==============================] - 0s 51ms/step\n",
      "1/1 [==============================] - 0s 43ms/step\n",
      "1/1 [==============================] - 0s 48ms/step\n",
      "1/1 [==============================] - 0s 42ms/step\n",
      "1/1 [==============================] - 0s 43ms/step\n",
      "1/1 [==============================] - 0s 48ms/step\n",
      "1/1 [==============================] - 0s 49ms/step\n",
      "1/1 [==============================] - 0s 48ms/step\n",
      "1/1 [==============================] - 0s 48ms/step\n",
      "1/1 [==============================] - 0s 50ms/step\n",
      "1/1 [==============================] - 0s 46ms/step\n",
      "1/1 [==============================] - 0s 46ms/step\n",
      "1/1 [==============================] - 0s 43ms/step\n"
     ]
    },
    {
     "name": "stderr",
     "output_type": "stream",
     "text": [
      "[Succeeded / Failed / Skipped / Total] 35 / 88 / 4 / 127:  25%|██▌       | 127/500 [05:29<16:09,  2.60s/it]"
     ]
    },
    {
     "name": "stdout",
     "output_type": "stream",
     "text": [
      "--------------------------------------------- Result 127 ---------------------------------------------\n",
      "[[2 (36%)]] --> [[0 (36%)]]\n",
      "\n",
      "dua kali sudah teman saya bookingkan tiket lewat aplikasi ini bagus bagus saja tidak sampai mnit kode booking nya langsung dikirimkan [[mantap]] \n",
      "\n",
      "dua kali sudah teman saya bookingkan tiket lewat aplikasi ini bagus bagus saja tidak sampai mnit kode booking nya langsung dikirimkan [[utuh]] \n",
      "\n",
      "\n",
      "1/1 [==============================] - 0s 42ms/step\n",
      "1/1 [==============================] - 0s 52ms/step\n",
      "1/1 [==============================] - 0s 43ms/step\n",
      "1/1 [==============================] - 0s 67ms/step\n",
      "1/1 [==============================] - 0s 43ms/step\n",
      "1/1 [==============================] - 0s 46ms/step\n",
      "1/1 [==============================] - 0s 55ms/step\n",
      "1/1 [==============================] - 0s 62ms/step\n",
      "1/1 [==============================] - 0s 48ms/step\n",
      "1/1 [==============================] - 0s 42ms/step\n",
      "1/1 [==============================] - 0s 40ms/step\n",
      "1/1 [==============================] - 0s 41ms/step\n",
      "1/1 [==============================] - 0s 42ms/step\n",
      "1/1 [==============================] - 0s 48ms/step\n",
      "1/1 [==============================] - 0s 42ms/step\n",
      "--------------------------------------------- Result 128 ---------------------------------------------\n",
      "[[2 (37%)]] --> [[0 (35%)]]\n",
      "\n",
      "alhamdulillahirrabil allamin menggunakan aplikasi ini mudah paling suka adalah penukaran poin sebagai pembayaran tiket bisa dilakukan dengan [[mudah]] simpel dan terpercaya \n",
      "\n",
      "alhamdulillahirrabil allamin menggunakan aplikasi ini mudah paling suka adalah penukaran poin sebagai pembayaran tiket bisa dilakukan dengan [[jujur]] simpel dan terpercaya "
     ]
    },
    {
     "name": "stderr",
     "output_type": "stream",
     "text": [
      "[Succeeded / Failed / Skipped / Total] 36 / 88 / 4 / 128:  26%|██▌       | 128/500 [05:31<16:02,  2.59s/it]"
     ]
    },
    {
     "name": "stdout",
     "output_type": "stream",
     "text": [
      "\n",
      "\n",
      "\n",
      "1/1 [==============================] - 0s 38ms/step\n",
      "1/1 [==============================] - 0s 49ms/step\n",
      "1/1 [==============================] - 0s 48ms/step\n",
      "1/1 [==============================] - 0s 47ms/step\n",
      "1/1 [==============================] - 0s 43ms/step\n",
      "1/1 [==============================] - 0s 40ms/step\n",
      "1/1 [==============================] - 0s 45ms/step\n",
      "1/1 [==============================] - 0s 51ms/step\n",
      "1/1 [==============================] - 0s 48ms/step\n",
      "1/1 [==============================] - 0s 44ms/step\n",
      "1/1 [==============================] - 0s 44ms/step\n",
      "1/1 [==============================] - 0s 45ms/step\n",
      "1/1 [==============================] - 0s 48ms/step\n",
      "1/1 [==============================] - 0s 42ms/step\n",
      "1/1 [==============================] - 0s 43ms/step\n",
      "1/1 [==============================] - 0s 45ms/step\n",
      "1/1 [==============================] - 0s 41ms/step\n",
      "1/1 [==============================] - 0s 51ms/step\n",
      "1/1 [==============================] - 0s 46ms/step\n",
      "1/1 [==============================] - 0s 50ms/step\n",
      "1/1 [==============================] - 0s 48ms/step\n",
      "1/1 [==============================] - 0s 46ms/step\n",
      "1/1 [==============================] - 0s 45ms/step\n",
      "1/1 [==============================] - 0s 47ms/step\n",
      "1/1 [==============================] - 0s 55ms/step\n",
      "1/1 [==============================] - 0s 44ms/step\n"
     ]
    },
    {
     "name": "stderr",
     "output_type": "stream",
     "text": [
      "[Succeeded / Failed / Skipped / Total] 37 / 88 / 4 / 129:  26%|██▌       | 129/500 [05:33<15:59,  2.59s/it]"
     ]
    },
    {
     "name": "stdout",
     "output_type": "stream",
     "text": [
      "--------------------------------------------- Result 129 ---------------------------------------------\n",
      "[[2 (38%)]] --> [[0 (36%)]]\n",
      "\n",
      "sempat agak takut pesan tiket pesawat di sini karena ulasan yang lain tapi ingat teman pernah beli di sini lancar saja akhirnya memesan pas banget di tfansfer cuma hitungan detik e tiket dikirim terima kasih lo terima kasih promo nya lumayan jadi [[lumayan]] untung \n",
      "\n",
      "sempat agak takut pesan tiket pesawat di sini karena ulasan yang lain tapi ingat teman pernah beli di sini lancar saja akhirnya memesan pas banget di tfansfer cuma hitungan detik e tiket dikirim terima kasih lo terima kasih promo nya lumayan jadi [[pantas]] untung \n",
      "\n",
      "\n",
      "1/1 [==============================] - 0s 44ms/step\n",
      "1/1 [==============================] - 0s 44ms/step\n",
      "1/1 [==============================] - 0s 42ms/step\n",
      "1/1 [==============================] - 0s 50ms/step\n",
      "1/1 [==============================] - 0s 49ms/step\n",
      "1/1 [==============================] - 0s 51ms/step\n",
      "1/1 [==============================] - 0s 53ms/step\n",
      "1/1 [==============================] - 0s 52ms/step\n",
      "1/1 [==============================] - 0s 53ms/step\n"
     ]
    },
    {
     "name": "stderr",
     "output_type": "stream",
     "text": [
      "[Succeeded / Failed / Skipped / Total] 38 / 88 / 4 / 130:  26%|██▌       | 130/500 [05:35<15:53,  2.58s/it]"
     ]
    },
    {
     "name": "stdout",
     "output_type": "stream",
     "text": [
      "--------------------------------------------- Result 130 ---------------------------------------------\n",
      "[[2 (36%)]] --> [[0 (35%)]]\n",
      "\n",
      "aplikasi yang sangat membantu dalam setiap perjalan saya memuaskan pokok nya segera [[coba]] \n",
      "\n",
      "aplikasi yang sangat membantu dalam setiap perjalan saya memuaskan pokok nya segera [[usaha]] \n",
      "\n",
      "\n",
      "1/1 [==============================] - 0s 36ms/step\n",
      "1/1 [==============================] - 0s 52ms/step\n",
      "1/1 [==============================] - 0s 52ms/step\n",
      "1/1 [==============================] - 0s 55ms/step\n",
      "1/1 [==============================] - 0s 51ms/step\n",
      "1/1 [==============================] - 0s 53ms/step\n",
      "1/1 [==============================] - 0s 52ms/step\n",
      "1/1 [==============================] - 0s 54ms/step\n",
      "1/1 [==============================] - 0s 50ms/step\n",
      "1/1 [==============================] - 0s 52ms/step\n",
      "1/1 [==============================] - 0s 52ms/step\n",
      "1/1 [==============================] - 0s 51ms/step\n"
     ]
    },
    {
     "name": "stderr",
     "output_type": "stream",
     "text": [
      "[Succeeded / Failed / Skipped / Total] 39 / 88 / 4 / 131:  26%|██▌       | 131/500 [05:36<15:47,  2.57s/it]"
     ]
    },
    {
     "name": "stdout",
     "output_type": "stream",
     "text": [
      "--------------------------------------------- Result 131 ---------------------------------------------\n",
      "[[2 (36%)]] --> [[0 (35%)]]\n",
      "\n",
      "menyenangkan menggunakan aplikasi ini selain sangat [[lengkap]] aplikasi ini juga sangat rinci yang paling [[menyenangkan]] adalah banyak promo nya \n",
      "\n",
      "menyenangkan menggunakan aplikasi ini selain sangat [[kamil]] aplikasi ini juga sangat rinci yang paling [[gembira]] adalah banyak promo nya \n",
      "\n",
      "\n",
      "1/1 [==============================] - 0s 64ms/step\n",
      "1/1 [==============================] - 0s 60ms/step\n",
      "1/1 [==============================] - 0s 48ms/step\n",
      "1/1 [==============================] - 0s 54ms/step\n",
      "1/1 [==============================] - 0s 50ms/step\n",
      "1/1 [==============================] - 0s 51ms/step\n",
      "1/1 [==============================] - 0s 49ms/step\n",
      "1/1 [==============================] - 0s 51ms/step\n",
      "1/1 [==============================] - 0s 56ms/step\n",
      "1/1 [==============================] - 0s 50ms/step\n",
      "1/1 [==============================] - 0s 49ms/step\n",
      "1/1 [==============================] - 0s 34ms/step\n",
      "1/1 [==============================] - 0s 52ms/step\n",
      "1/1 [==============================] - 0s 51ms/step\n",
      "1/1 [==============================] - 0s 48ms/step\n",
      "1/1 [==============================] - 0s 48ms/step\n",
      "1/1 [==============================] - 0s 51ms/step\n",
      "1/1 [==============================] - 0s 50ms/step\n",
      "1/1 [==============================] - 0s 50ms/step\n",
      "1/1 [==============================] - 0s 50ms/step\n",
      "1/1 [==============================] - 0s 50ms/step\n",
      "1/1 [==============================] - 0s 49ms/step\n",
      "1/1 [==============================] - 0s 52ms/step\n",
      "1/1 [==============================] - 0s 48ms/step\n",
      "1/1 [==============================] - 0s 51ms/step\n",
      "1/1 [==============================] - 0s 48ms/step\n",
      "1/1 [==============================] - 0s 52ms/step\n",
      "1/1 [==============================] - 0s 53ms/step\n",
      "1/1 [==============================] - 0s 48ms/step\n",
      "1/1 [==============================] - 0s 53ms/step\n",
      "1/1 [==============================] - 0s 54ms/step\n",
      "1/1 [==============================] - 0s 51ms/step\n",
      "1/1 [==============================] - 0s 69ms/step\n",
      "1/1 [==============================] - 0s 48ms/step\n"
     ]
    },
    {
     "name": "stderr",
     "output_type": "stream",
     "text": [
      "[Succeeded / Failed / Skipped / Total] 40 / 88 / 4 / 132:  26%|██▋       | 132/500 [05:39<15:46,  2.57s/it]"
     ]
    },
    {
     "name": "stdout",
     "output_type": "stream",
     "text": [
      "--------------------------------------------- Result 132 ---------------------------------------------\n",
      "[[2 (36%)]] --> [[0 (34%)]]\n",
      "\n",
      "dari dulu pas liburan saya selalu memesan hotel pakai tiket com untuk gaji yang saat saat an seperti saya dan bisa dapat hotel bintang cup wow banget enggak iniihh apalagi ada tonight deals kita bisa dapatkan diskon sampai kalau pesan hotel di atas jam malam sudah pasti makin nikmat pas liburan ditambah lagi bisa istirahat di hotel bintang yang nyaman dengan harga yang [[murah]] terima kasih tiket com \n",
      "\n",
      "dari dulu pas liburan saya selalu memesan hotel pakai tiket com untuk gaji yang saat saat an seperti saya dan bisa dapat hotel bintang cup wow banget enggak iniihh apalagi ada tonight deals kita bisa dapatkan diskon sampai kalau pesan hotel di atas jam malam sudah pasti makin nikmat pas liburan ditambah lagi bisa istirahat di hotel bintang yang nyaman dengan harga yang [[buruk]] terima kasih tiket com \n",
      "\n",
      "\n",
      "1/1 [==============================] - 0s 55ms/step\n"
     ]
    },
    {
     "name": "stderr",
     "output_type": "stream",
     "text": [
      "[Succeeded / Failed / Skipped / Total] 40 / 88 / 5 / 133:  27%|██▋       | 133/500 [05:39<15:37,  2.55s/it]"
     ]
    },
    {
     "name": "stdout",
     "output_type": "stream",
     "text": [
      "--------------------------------------------- Result 133 ---------------------------------------------\n",
      "[[1 (35%)]] --> [[[SKIPPED]]]\n",
      "\n",
      "sumpah suka banget sudah limit nya lama bonus tixpoint nya luar binasaah tiket ke jakarta bisa dapat diskon ribu \n",
      "\n",
      "\n",
      "1/1 [==============================] - 0s 39ms/step\n"
     ]
    },
    {
     "name": "stderr",
     "output_type": "stream",
     "text": [
      "[Succeeded / Failed / Skipped / Total] 40 / 88 / 6 / 134:  27%|██▋       | 134/500 [05:39<15:27,  2.54s/it]"
     ]
    },
    {
     "name": "stdout",
     "output_type": "stream",
     "text": [
      "--------------------------------------------- Result 134 ---------------------------------------------\n",
      "[[0 (37%)]] --> [[[SKIPPED]]]\n",
      "\n",
      "mantap paling murah dan banyak bonus nya apa ini bagus banget proses nya cepat saya kasi bintang aku makin suka kamu \n",
      "\n",
      "\n",
      "1/1 [==============================] - 0s 35ms/step\n",
      "1/1 [==============================] - 0s 51ms/step\n",
      "1/1 [==============================] - 0s 51ms/step\n",
      "1/1 [==============================] - 0s 49ms/step\n",
      "1/1 [==============================] - 0s 33ms/step\n",
      "1/1 [==============================] - 0s 58ms/step\n",
      "1/1 [==============================] - 0s 48ms/step\n",
      "1/1 [==============================] - 0s 51ms/step\n",
      "1/1 [==============================] - 0s 50ms/step\n",
      "1/1 [==============================] - 0s 48ms/step\n"
     ]
    },
    {
     "name": "stderr",
     "output_type": "stream",
     "text": [
      "[Succeeded / Failed / Skipped / Total] 41 / 88 / 6 / 135:  27%|██▋       | 135/500 [05:40<15:20,  2.52s/it]"
     ]
    },
    {
     "name": "stdout",
     "output_type": "stream",
     "text": [
      "--------------------------------------------- Result 135 ---------------------------------------------\n",
      "[[2 (36%)]] --> [[0 (34%)]]\n",
      "\n",
      "bisa memilih penerbangan selain itu cukup [[mudah]] dalam bertransaksi lengkap aplikasi nya \n",
      "\n",
      "bisa memilih penerbangan selain itu cukup [[jujur]] dalam bertransaksi lengkap aplikasi nya \n",
      "\n",
      "\n",
      "1/1 [==============================] - 0s 41ms/step\n",
      "1/1 [==============================] - 0s 49ms/step\n",
      "1/1 [==============================] - 0s 76ms/step\n",
      "1/1 [==============================] - 0s 61ms/step\n",
      "1/1 [==============================] - 0s 49ms/step\n",
      "1/1 [==============================] - 0s 47ms/step\n",
      "1/1 [==============================] - 0s 51ms/step\n",
      "1/1 [==============================] - 0s 53ms/step\n",
      "1/1 [==============================] - 0s 48ms/step\n",
      "1/1 [==============================] - 0s 51ms/step\n",
      "1/1 [==============================] - 0s 55ms/step\n",
      "1/1 [==============================] - 0s 51ms/step\n",
      "1/1 [==============================] - 0s 52ms/step\n",
      "1/1 [==============================] - 0s 55ms/step\n",
      "1/1 [==============================] - 0s 48ms/step\n"
     ]
    },
    {
     "name": "stderr",
     "output_type": "stream",
     "text": [
      "[Succeeded / Failed / Skipped / Total] 42 / 88 / 6 / 136:  27%|██▋       | 136/500 [05:42<15:15,  2.51s/it]"
     ]
    },
    {
     "name": "stdout",
     "output_type": "stream",
     "text": [
      "--------------------------------------------- Result 136 ---------------------------------------------\n",
      "[[2 (36%)]] --> [[0 (37%)]]\n",
      "\n",
      "banyak promo dan aplikasi mudah digunakan proses sangat cepat dan juga aplikasi nya [[bagus]] dan tidak rumit \n",
      "\n",
      "banyak promo dan aplikasi mudah digunakan proses sangat cepat dan juga aplikasi nya [[pintar]] dan tidak rumit \n",
      "\n",
      "\n",
      "1/1 [==============================] - 0s 40ms/step\n",
      "1/1 [==============================] - 0s 64ms/step\n",
      "1/1 [==============================] - 0s 55ms/step\n",
      "1/1 [==============================] - 0s 54ms/step\n",
      "1/1 [==============================] - 0s 49ms/step\n",
      "1/1 [==============================] - 0s 52ms/step\n",
      "1/1 [==============================] - 0s 48ms/step\n",
      "1/1 [==============================] - 0s 48ms/step\n",
      "1/1 [==============================] - 0s 35ms/step\n",
      "1/1 [==============================] - 0s 50ms/step\n",
      "1/1 [==============================] - 0s 55ms/step\n",
      "1/1 [==============================] - 0s 56ms/step\n",
      "1/1 [==============================] - 0s 50ms/step\n",
      "1/1 [==============================] - 0s 51ms/step\n",
      "1/1 [==============================] - 0s 54ms/step\n",
      "1/1 [==============================] - 0s 49ms/step\n",
      "1/1 [==============================] - 0s 51ms/step\n",
      "1/1 [==============================] - 0s 50ms/step\n"
     ]
    },
    {
     "name": "stderr",
     "output_type": "stream",
     "text": [
      "[Succeeded / Failed / Skipped / Total] 43 / 88 / 6 / 137:  27%|██▋       | 137/500 [05:43<15:10,  2.51s/it]"
     ]
    },
    {
     "name": "stdout",
     "output_type": "stream",
     "text": [
      "--------------------------------------------- Result 137 ---------------------------------------------\n",
      "[[2 (37%)]] --> [[0 (36%)]]\n",
      "\n",
      "saya suka beli tiket di tiket com oke banget sangat membantu respon nya cepat yang pasti sangat [[memudahkan]] traveling saya \n",
      "\n",
      "saya suka beli tiket di tiket com oke banget sangat membantu respon nya cepat yang pasti sangat [[tolong]] traveling saya \n",
      "\n",
      "\n",
      "1/1 [==============================] - 0s 39ms/step\n",
      "1/1 [==============================] - 0s 51ms/step\n",
      "1/1 [==============================] - 0s 48ms/step\n",
      "1/1 [==============================] - 0s 50ms/step\n",
      "1/1 [==============================] - 0s 54ms/step\n",
      "1/1 [==============================] - 0s 49ms/step\n",
      "1/1 [==============================] - 0s 49ms/step\n",
      "1/1 [==============================] - 0s 50ms/step\n",
      "1/1 [==============================] - 0s 61ms/step\n",
      "1/1 [==============================] - 0s 54ms/step\n"
     ]
    },
    {
     "name": "stderr",
     "output_type": "stream",
     "text": [
      "[Succeeded / Failed / Skipped / Total] 44 / 88 / 6 / 138:  28%|██▊       | 138/500 [05:44<15:03,  2.50s/it]"
     ]
    },
    {
     "name": "stdout",
     "output_type": "stream",
     "text": [
      "--------------------------------------------- Result 138 ---------------------------------------------\n",
      "[[2 (38%)]] --> [[0 (36%)]]\n",
      "\n",
      "tiket com sangat terpercaya harga [[murah]] [[lancar]] praktis efektif dan efisien \n",
      "\n",
      "tiket com sangat terpercaya harga [[buruk]] [[jelas]] praktis efektif dan efisien \n",
      "\n",
      "\n",
      "1/1 [==============================] - 0s 37ms/step\n"
     ]
    },
    {
     "name": "stderr",
     "output_type": "stream",
     "text": [
      "[Succeeded / Failed / Skipped / Total] 44 / 88 / 7 / 139:  28%|██▊       | 139/500 [05:44<14:55,  2.48s/it]"
     ]
    },
    {
     "name": "stdout",
     "output_type": "stream",
     "text": [
      "--------------------------------------------- Result 139 ---------------------------------------------\n",
      "[[0 (37%)]] --> [[[SKIPPED]]]\n",
      "\n",
      "sangat puas dengan pelayanan nya tiket com selalu bokong tiket pesawat dari sini dan yang bikin nyaman nya kalau ada kslhan nm atau data lain bisa cepat diperbaiki dan tidak bikin ribet terima kasih \n",
      "\n",
      "\n",
      "1/1 [==============================] - 0s 36ms/step\n",
      "1/1 [==============================] - 0s 54ms/step\n",
      "1/1 [==============================] - 0s 54ms/step\n",
      "1/1 [==============================] - 0s 49ms/step\n",
      "1/1 [==============================] - 0s 53ms/step\n",
      "1/1 [==============================] - 0s 48ms/step\n",
      "1/1 [==============================] - 0s 50ms/step\n",
      "1/1 [==============================] - 0s 50ms/step\n",
      "1/1 [==============================] - 0s 50ms/step\n",
      "1/1 [==============================] - 0s 49ms/step\n",
      "1/1 [==============================] - 0s 50ms/step\n",
      "--------------------------------------------- Result 140 ---------------------------------------------\n",
      "[[2 (36%)]] --> [[0 (37%)]]\n",
      "\n",
      "saya selalu pesan tiket pesawat maupun kereta di sini harga lebih [[murah]] berbeda dengan aplikasi lain \n",
      "\n",
      "saya selalu pesan tiket pesawat maupun kereta di sini harga lebih [[buruk]] berbeda dengan aplikasi lain "
     ]
    },
    {
     "name": "stderr",
     "output_type": "stream",
     "text": [
      "[Succeeded / Failed / Skipped / Total] 45 / 88 / 7 / 140:  28%|██▊       | 140/500 [05:45<14:48,  2.47s/it]"
     ]
    },
    {
     "name": "stdout",
     "output_type": "stream",
     "text": [
      "\n",
      "\n",
      "\n",
      "1/1 [==============================] - 0s 41ms/step\n",
      "1/1 [==============================] - 0s 53ms/step\n",
      "1/1 [==============================] - 0s 49ms/step\n",
      "1/1 [==============================] - 0s 56ms/step\n",
      "1/1 [==============================] - 0s 53ms/step\n",
      "1/1 [==============================] - 0s 50ms/step\n",
      "1/1 [==============================] - 0s 52ms/step\n",
      "1/1 [==============================] - 0s 54ms/step\n",
      "1/1 [==============================] - 0s 49ms/step\n",
      "1/1 [==============================] - 0s 47ms/step\n",
      "1/1 [==============================] - 0s 53ms/step\n",
      "1/1 [==============================] - 0s 51ms/step\n",
      "1/1 [==============================] - 0s 53ms/step\n",
      "1/1 [==============================] - 0s 53ms/step\n",
      "1/1 [==============================] - 0s 72ms/step\n",
      "1/1 [==============================] - 0s 56ms/step\n",
      "1/1 [==============================] - 0s 64ms/step\n",
      "1/1 [==============================] - 0s 55ms/step\n",
      "1/1 [==============================] - 0s 55ms/step\n",
      "1/1 [==============================] - 0s 52ms/step\n",
      "1/1 [==============================] - 0s 54ms/step\n",
      "1/1 [==============================] - 0s 47ms/step\n",
      "1/1 [==============================] - 0s 51ms/step\n",
      "1/1 [==============================] - 0s 47ms/step\n",
      "1/1 [==============================] - 0s 48ms/step\n",
      "1/1 [==============================] - 0s 53ms/step\n",
      "1/1 [==============================] - 0s 51ms/step\n",
      "1/1 [==============================] - 0s 52ms/step\n",
      "1/1 [==============================] - 0s 51ms/step\n",
      "1/1 [==============================] - 0s 51ms/step\n",
      "1/1 [==============================] - 0s 52ms/step\n",
      "1/1 [==============================] - 0s 53ms/step\n",
      "1/1 [==============================] - 0s 51ms/step\n",
      "1/1 [==============================] - 0s 50ms/step\n",
      "1/1 [==============================] - 0s 51ms/step\n",
      "1/1 [==============================] - 0s 52ms/step\n"
     ]
    },
    {
     "name": "stderr",
     "output_type": "stream",
     "text": [
      "[Succeeded / Failed / Skipped / Total] 46 / 88 / 7 / 141:  28%|██▊       | 141/500 [05:49<14:48,  2.48s/it]"
     ]
    },
    {
     "name": "stdout",
     "output_type": "stream",
     "text": [
      "--------------------------------------------- Result 141 ---------------------------------------------\n",
      "[[2 (43%)]] --> [[0 (37%)]]\n",
      "\n",
      "hotel ini adalah salah satu hotel yang wajib dikunjungi kalau buka puasa bareng tempat nya menarik mewah staf nya ramah makanan nya banyaakk jenis nya menu nya komplet dan [[suasana]] nya sangat menyenangkan tempat yang sangat [[indah]] \n",
      "\n",
      "hotel ini adalah salah satu hotel yang wajib dikunjungi kalau buka puasa bareng tempat nya menarik mewah staf nya ramah makanan nya banyaakk jenis nya menu nya komplet dan [[posisi]] nya sangat menyenangkan tempat yang sangat [[sedap]] \n",
      "\n",
      "\n",
      "1/1 [==============================] - 0s 52ms/step\n",
      "1/1 [==============================] - 0s 55ms/step\n",
      "1/1 [==============================] - 0s 50ms/step\n",
      "1/1 [==============================] - 0s 49ms/step\n",
      "1/1 [==============================] - 0s 52ms/step\n",
      "1/1 [==============================] - 0s 52ms/step\n",
      "1/1 [==============================] - 0s 55ms/step\n",
      "1/1 [==============================] - 0s 54ms/step\n",
      "1/1 [==============================] - 0s 51ms/step\n",
      "1/1 [==============================] - 0s 50ms/step\n",
      "1/1 [==============================] - 0s 48ms/step\n",
      "1/1 [==============================] - 0s 33ms/step\n",
      "1/1 [==============================] - 0s 53ms/step\n",
      "1/1 [==============================] - 0s 52ms/step\n",
      "1/1 [==============================] - 0s 49ms/step\n",
      "1/1 [==============================] - 0s 53ms/step\n",
      "1/1 [==============================] - 0s 51ms/step\n",
      "1/1 [==============================] - 0s 52ms/step\n",
      "1/1 [==============================] - 0s 49ms/step\n",
      "1/1 [==============================] - 0s 52ms/step\n",
      "1/1 [==============================] - 0s 49ms/step\n",
      "1/1 [==============================] - 0s 53ms/step\n",
      "1/1 [==============================] - 0s 55ms/step\n",
      "1/1 [==============================] - 0s 52ms/step\n",
      "1/1 [==============================] - 0s 52ms/step\n",
      "1/1 [==============================] - 0s 48ms/step\n",
      "1/1 [==============================] - 0s 48ms/step\n",
      "1/1 [==============================] - 0s 49ms/step\n"
     ]
    },
    {
     "name": "stderr",
     "output_type": "stream",
     "text": [
      "[Succeeded / Failed / Skipped / Total] 47 / 88 / 7 / 142:  28%|██▊       | 142/500 [05:51<14:46,  2.48s/it]"
     ]
    },
    {
     "name": "stdout",
     "output_type": "stream",
     "text": [
      "--------------------------------------------- Result 142 ---------------------------------------------\n",
      "[[2 (42%)]] --> [[0 (37%)]]\n",
      "\n",
      "saya menginap dua malam bersama keluarga secara keseluruhan hotel nya sangat bagus bersih fasilitas hotel lengkap breakfast nya pun enak enak dan tentunya suasana hotel yang sejuk dan nyaman cocok untuk pilihan menginap bersama [[keluarga]] \n",
      "\n",
      "saya menginap dua malam bersama keluarga secara keseluruhan hotel nya sangat bagus bersih fasilitas hotel lengkap breakfast nya pun enak enak dan tentunya suasana hotel yang sejuk dan nyaman cocok untuk pilihan menginap bersama [[kelompok]] \n",
      "\n",
      "\n",
      "1/1 [==============================] - 0s 38ms/step\n",
      "1/1 [==============================] - 0s 65ms/step\n",
      "1/1 [==============================] - 0s 47ms/step\n",
      "1/1 [==============================] - 0s 52ms/step\n",
      "1/1 [==============================] - 0s 50ms/step\n",
      "1/1 [==============================] - 0s 53ms/step\n",
      "1/1 [==============================] - 0s 57ms/step\n",
      "1/1 [==============================] - 0s 53ms/step\n",
      "1/1 [==============================] - 0s 47ms/step\n",
      "1/1 [==============================] - 0s 49ms/step\n",
      "1/1 [==============================] - 0s 48ms/step\n",
      "1/1 [==============================] - 0s 52ms/step\n",
      "1/1 [==============================] - 0s 47ms/step\n",
      "1/1 [==============================] - 0s 50ms/step\n",
      "1/1 [==============================] - 0s 51ms/step\n",
      "1/1 [==============================] - 0s 33ms/step\n",
      "1/1 [==============================] - 0s 49ms/step\n",
      "1/1 [==============================] - 0s 52ms/step\n",
      "1/1 [==============================] - 0s 51ms/step\n",
      "1/1 [==============================] - 0s 51ms/step\n",
      "1/1 [==============================] - 0s 33ms/step\n",
      "1/1 [==============================] - 0s 51ms/step\n",
      "1/1 [==============================] - 0s 51ms/step\n",
      "1/1 [==============================] - 0s 51ms/step\n",
      "1/1 [==============================] - 0s 51ms/step\n",
      "1/1 [==============================] - 0s 46ms/step\n",
      "1/1 [==============================] - 0s 36ms/step\n",
      "1/1 [==============================] - 0s 47ms/step\n",
      "1/1 [==============================] - 0s 48ms/step\n",
      "1/1 [==============================] - 0s 47ms/step\n",
      "1/1 [==============================] - 0s 35ms/step\n",
      "1/1 [==============================] - 0s 48ms/step\n",
      "1/1 [==============================] - 0s 54ms/step\n",
      "1/1 [==============================] - 0s 49ms/step\n"
     ]
    },
    {
     "name": "stderr",
     "output_type": "stream",
     "text": [
      "[Succeeded / Failed / Skipped / Total] 48 / 88 / 7 / 143:  29%|██▊       | 143/500 [05:54<14:45,  2.48s/it]"
     ]
    },
    {
     "name": "stdout",
     "output_type": "stream",
     "text": [
      "--------------------------------------------- Result 143 ---------------------------------------------\n",
      "[[2 (35%)]] --> [[0 (34%)]]\n",
      "\n",
      "proses cek in cepat staf nya ramah dan helpfully lingkungan hotel sangat asri sejuk dan tenang amenities di kamar lengkap terdapat [[kampung]] ramadhan untuk berbuka dengan begitu banyak pilihan [[makanan]] yang siap memanjakan [[lidah]] terbaik tempat untuk staf when kamu visi bandung \n",
      "\n",
      "proses cek in cepat staf nya ramah dan helpfully lingkungan hotel sangat asri sejuk dan tenang amenities di kamar lengkap terdapat [[negara]] ramadhan untuk berbuka dengan begitu banyak pilihan [[bekal]] yang siap memanjakan [[pesisir]] terbaik tempat untuk staf when kamu visi bandung \n",
      "\n",
      "\n",
      "1/1 [==============================] - 0s 35ms/step\n",
      "1/1 [==============================] - 0s 53ms/step\n",
      "1/1 [==============================] - 0s 53ms/step\n",
      "1/1 [==============================] - 0s 53ms/step\n",
      "1/1 [==============================] - 0s 50ms/step\n",
      "1/1 [==============================] - 0s 51ms/step\n",
      "1/1 [==============================] - 0s 49ms/step\n",
      "1/1 [==============================] - 0s 53ms/step\n",
      "1/1 [==============================] - 0s 57ms/step\n",
      "1/1 [==============================] - 0s 49ms/step\n",
      "1/1 [==============================] - 0s 53ms/step\n",
      "1/1 [==============================] - 0s 50ms/step\n",
      "1/1 [==============================] - 0s 46ms/step\n",
      "1/1 [==============================] - 0s 49ms/step\n",
      "1/1 [==============================] - 0s 50ms/step\n",
      "1/1 [==============================] - 0s 51ms/step\n",
      "1/1 [==============================] - 0s 48ms/step\n",
      "1/1 [==============================] - 0s 53ms/step\n",
      "1/1 [==============================] - 0s 35ms/step\n",
      "--------------------------------------------- Result 144 ---------------------------------------------\n",
      "[[2 (38%)]] --> [[0 (37%)]]\n",
      "\n",
      "kami memakai berenam dan memakai kamar kamar besar dan bersih breakfast nya enak banyak varian nya dan aneka [[segar]] juice pelayanan sangat baik terutama pelayanan di restoran sangat memuaskan rekomendasi \n",
      "\n",
      "kami memakai berenam dan memakai kamar kamar besar dan bersih breakfast nya enak banyak varian nya dan aneka [[kasar]] juice pelayanan sangat baik terutama pelayanan di restoran sangat memuaskan rekomendasi \n",
      "\n",
      "\n"
     ]
    },
    {
     "name": "stderr",
     "output_type": "stream",
     "text": [
      "[Succeeded / Failed / Skipped / Total] 49 / 88 / 7 / 144:  29%|██▉       | 144/500 [05:56<14:41,  2.48s/it]"
     ]
    },
    {
     "name": "stdout",
     "output_type": "stream",
     "text": [
      "1/1 [==============================] - 0s 47ms/step\n"
     ]
    },
    {
     "name": "stderr",
     "output_type": "stream",
     "text": [
      "[Succeeded / Failed / Skipped / Total] 49 / 88 / 8 / 145:  29%|██▉       | 145/500 [05:56<14:33,  2.46s/it]"
     ]
    },
    {
     "name": "stdout",
     "output_type": "stream",
     "text": [
      "--------------------------------------------- Result 145 ---------------------------------------------\n",
      "[[0 (37%)]] --> [[[SKIPPED]]]\n",
      "\n",
      "melahirkan di rs hermina jatinegara sangat direkomendasikan fasilitas lengkap seperti fetotermal perina nicu klinik tumbuh kembang senam hamil dan pmo selain itu hermina juga sangat pro asi dan imd ditambah lagi semua kamar itu rooming in dengan bayi nya \n",
      "\n",
      "\n",
      "1/1 [==============================] - 0s 39ms/step\n",
      "1/1 [==============================] - 0s 66ms/step\n",
      "1/1 [==============================] - 0s 51ms/step\n",
      "1/1 [==============================] - 0s 52ms/step\n",
      "1/1 [==============================] - 0s 50ms/step\n",
      "1/1 [==============================] - 0s 52ms/step\n",
      "1/1 [==============================] - 0s 50ms/step\n",
      "1/1 [==============================] - 0s 73ms/step\n",
      "1/1 [==============================] - 0s 45ms/step\n",
      "1/1 [==============================] - 0s 63ms/step\n",
      "1/1 [==============================] - 0s 53ms/step\n",
      "1/1 [==============================] - 0s 48ms/step\n",
      "1/1 [==============================] - 0s 33ms/step\n",
      "1/1 [==============================] - 0s 49ms/step\n",
      "1/1 [==============================] - 0s 40ms/step\n",
      "1/1 [==============================] - 0s 47ms/step\n",
      "1/1 [==============================] - 0s 37ms/step\n",
      "1/1 [==============================] - 0s 51ms/step\n",
      "1/1 [==============================] - 0s 48ms/step\n",
      "1/1 [==============================] - 0s 48ms/step\n",
      "1/1 [==============================] - 0s 53ms/step\n"
     ]
    },
    {
     "name": "stderr",
     "output_type": "stream",
     "text": [
      "[Succeeded / Failed / Skipped / Total] 50 / 88 / 8 / 146:  29%|██▉       | 146/500 [05:58<14:29,  2.46s/it]"
     ]
    },
    {
     "name": "stdout",
     "output_type": "stream",
     "text": [
      "--------------------------------------------- Result 146 ---------------------------------------------\n",
      "[[2 (37%)]] --> [[0 (37%)]]\n",
      "\n",
      "kalau regis di rs hermina banyak keuntungan yang didapat pasien keuntungan nya antara lain kemudahan saat hari h melahirkan selain itu banyak juga gratisan nya seperti gratis senam hamil gratis kursus prenatal gratis senam nifas gratis kursus pijat bayi dan masih banyak lagi asik deh [[pokok]] nya \n",
      "\n",
      "kalau regis di rs hermina banyak keuntungan yang didapat pasien keuntungan nya antara lain kemudahan saat hari h melahirkan selain itu banyak juga gratisan nya seperti gratis senam hamil gratis kursus prenatal gratis senam nifas gratis kursus pijat bayi dan masih banyak lagi asik deh [[inti]] nya \n",
      "\n",
      "\n",
      "1/1 [==============================] - 0s 35ms/step\n"
     ]
    },
    {
     "name": "stderr",
     "output_type": "stream",
     "text": [
      "[Succeeded / Failed / Skipped / Total] 50 / 88 / 9 / 147:  29%|██▉       | 147/500 [05:58<14:21,  2.44s/it]"
     ]
    },
    {
     "name": "stdout",
     "output_type": "stream",
     "text": [
      "--------------------------------------------- Result 147 ---------------------------------------------\n",
      "[[0 (36%)]] --> [[[SKIPPED]]]\n",
      "\n",
      "menurut ku rumah sakit harapan kita itu rekomendasi selain bisa rooming suster nya juga membantu soal biaya tidak usah khawatir karena pasti terjangkau \n",
      "\n",
      "\n",
      "1/1 [==============================] - 0s 37ms/step\n",
      "--------------------------------------------- Result 148 ---------------------------------------------\n",
      "[[0 (36%)]] --> [[[SKIPPED]]]\n",
      "\n",
      "asik banget pakai traveloka diskon hotel sampai satu jutaan kita bisa langsung cek promo kemerdekaan banyak harga spesial hotel untuk berbagai hotel di dalam negeri seneng deh \n",
      "\n",
      "\n"
     ]
    },
    {
     "name": "stderr",
     "output_type": "stream",
     "text": [
      "[Succeeded / Failed / Skipped / Total] 50 / 88 / 10 / 148:  30%|██▉       | 148/500 [05:58<14:13,  2.42s/it]"
     ]
    },
    {
     "name": "stdout",
     "output_type": "stream",
     "text": [
      "1/1 [==============================] - 0s 40ms/step\n"
     ]
    },
    {
     "name": "stderr",
     "output_type": "stream",
     "text": [
      "[Succeeded / Failed / Skipped / Total] 50 / 88 / 11 / 149:  30%|██▉       | 149/500 [05:58<14:05,  2.41s/it]"
     ]
    },
    {
     "name": "stdout",
     "output_type": "stream",
     "text": [
      "--------------------------------------------- Result 149 ---------------------------------------------\n",
      "[[0 (38%)]] --> [[[SKIPPED]]]\n",
      "\n",
      "kalau belanja di blibli com tidak usah ragu pertama kita bisa leluasa memilih produk tanpa takut privasi kita terganggu selain itu kita juga dapat fasilitas pengiriman yang cepat dan gratis bisa sambil sadar emat uang dan tenaga \n",
      "\n",
      "\n",
      "1/1 [==============================] - 0s 50ms/step\n"
     ]
    },
    {
     "name": "stderr",
     "output_type": "stream",
     "text": [
      "[Succeeded / Failed / Skipped / Total] 50 / 88 / 12 / 150:  30%|███       | 150/500 [05:59<13:57,  2.39s/it]"
     ]
    },
    {
     "name": "stdout",
     "output_type": "stream",
     "text": [
      "--------------------------------------------- Result 150 ---------------------------------------------\n",
      "[[0 (38%)]] --> [[[SKIPPED]]]\n",
      "\n",
      "saya dukung ahok itu tidak ada hubungan nya dengan etnis dia atau agama ahok bahkan saya tak tahu agama dia apa saya dukung ahok karena saya suka fenomena baru dalam pemerintahan yang inovatif bersih dan banyak terobosan terobosan yang ia kerjakan dalam membangun pemerintahan \n",
      "\n",
      "\n",
      "1/1 [==============================] - 0s 40ms/step\n",
      "1/1 [==============================] - 0s 50ms/step\n",
      "1/1 [==============================] - 0s 49ms/step\n",
      "1/1 [==============================] - 0s 50ms/step\n",
      "1/1 [==============================] - 0s 54ms/step\n",
      "1/1 [==============================] - 0s 49ms/step\n",
      "1/1 [==============================] - 0s 49ms/step\n",
      "1/1 [==============================] - 0s 35ms/step\n",
      "1/1 [==============================] - 0s 62ms/step\n",
      "1/1 [==============================] - 0s 49ms/step\n",
      "1/1 [==============================] - 0s 47ms/step\n",
      "1/1 [==============================] - 0s 49ms/step\n",
      "1/1 [==============================] - 0s 46ms/step\n",
      "1/1 [==============================] - 0s 50ms/step\n",
      "1/1 [==============================] - 0s 34ms/step\n",
      "1/1 [==============================] - 0s 50ms/step\n",
      "1/1 [==============================] - 0s 33ms/step\n",
      "1/1 [==============================] - 0s 54ms/step\n",
      "1/1 [==============================] - 0s 53ms/step\n",
      "1/1 [==============================] - 0s 47ms/step\n",
      "1/1 [==============================] - 0s 50ms/step\n",
      "1/1 [==============================] - 0s 54ms/step\n",
      "1/1 [==============================] - 0s 48ms/step\n",
      "1/1 [==============================] - 0s 52ms/step\n",
      "1/1 [==============================] - 0s 48ms/step\n",
      "1/1 [==============================] - 0s 52ms/step\n",
      "1/1 [==============================] - 0s 56ms/step\n",
      "1/1 [==============================] - 0s 48ms/step\n",
      "1/1 [==============================] - 0s 51ms/step\n",
      "1/1 [==============================] - 0s 53ms/step\n",
      "1/1 [==============================] - 0s 49ms/step\n",
      "1/1 [==============================] - 0s 54ms/step\n",
      "1/1 [==============================] - 0s 50ms/step\n",
      "1/1 [==============================] - 0s 48ms/step\n",
      "1/1 [==============================] - 0s 49ms/step\n",
      "1/1 [==============================] - 0s 48ms/step\n",
      "1/1 [==============================] - 0s 47ms/step\n",
      "1/1 [==============================] - 0s 38ms/step\n",
      "1/1 [==============================] - 0s 43ms/step\n",
      "1/1 [==============================] - 0s 55ms/step\n",
      "1/1 [==============================] - 0s 46ms/step\n",
      "1/1 [==============================] - 0s 48ms/step\n",
      "1/1 [==============================] - 0s 49ms/step\n",
      "1/1 [==============================] - 0s 53ms/step\n",
      "1/1 [==============================] - 0s 48ms/step\n",
      "1/1 [==============================] - 0s 34ms/step\n"
     ]
    },
    {
     "name": "stderr",
     "output_type": "stream",
     "text": [
      "[Succeeded / Failed / Skipped / Total] 50 / 89 / 12 / 151:  30%|███       | 151/500 [06:03<13:59,  2.41s/it]"
     ]
    },
    {
     "name": "stdout",
     "output_type": "stream",
     "text": [
      "--------------------------------------------- Result 151 ---------------------------------------------\n",
      "[[0 (47%)]] --> [[[FAILED]]]\n",
      "\n",
      "spasi bambang jangan suka mengkafirkan sesama muslim lu bukan malaikat tanpa dosa beda pilihan beda pemahaman oke itu hak lu tetapi tidak harus mejelek mejelekin orang lain juga tidak suka cara lo yang kayak gini \n",
      "\n",
      "\n",
      "1/1 [==============================] - 0s 51ms/step\n",
      "--------------------------------------------- Result 152 ---------------------------------------------\n",
      "[[0 (34%)]] --> [[[SKIPPED]]]\n",
      "\n",
      "suka banget sama siti nurhaliza suara nya wajah nya attitude nya sempurna kayak nya cuma dia penyanyi yang tidak ada haters nya paling suka dulu pas dia rilis album transkripsi lupa tahun berapa lagu lagu nya semua jadi favorit ku semoga bisa duet sama di dalam album \n",
      "\n",
      "\n"
     ]
    },
    {
     "name": "stderr",
     "output_type": "stream",
     "text": [
      "[Succeeded / Failed / Skipped / Total] 50 / 89 / 13 / 152:  30%|███       | 152/500 [06:03<13:51,  2.39s/it]"
     ]
    },
    {
     "name": "stdout",
     "output_type": "stream",
     "text": [
      "1/1 [==============================] - 0s 41ms/step\n"
     ]
    },
    {
     "name": "stderr",
     "output_type": "stream",
     "text": [
      "[Succeeded / Failed / Skipped / Total] 50 / 89 / 14 / 153:  31%|███       | 153/500 [06:03<13:44,  2.38s/it]"
     ]
    },
    {
     "name": "stdout",
     "output_type": "stream",
     "text": [
      "--------------------------------------------- Result 153 ---------------------------------------------\n",
      "[[0 (43%)]] --> [[[SKIPPED]]]\n",
      "\n",
      "kata dosen ku budaya korea itu kalau ada orang yang sudah baik sama mereka walaupun cuma sekali mereka bakal balas kebaikan itu lebih banyak maka dari itu mereka kalau memberi itu suka tidak muluk muluk seneng deh sama mereka \n",
      "\n",
      "\n",
      "1/1 [==============================] - 0s 39ms/step\n",
      "1/1 [==============================] - 0s 63ms/step\n",
      "1/1 [==============================] - 0s 49ms/step\n",
      "1/1 [==============================] - 0s 48ms/step\n",
      "1/1 [==============================] - 0s 51ms/step\n",
      "1/1 [==============================] - 0s 53ms/step\n",
      "1/1 [==============================] - 0s 49ms/step\n",
      "--------------------------------------------- Result 154 ---------------------------------------------\n"
     ]
    },
    {
     "name": "stderr",
     "output_type": "stream",
     "text": [
      "[Succeeded / Failed / Skipped / Total] 51 / 89 / 14 / 154:  31%|███       | 154/500 [06:04<13:38,  2.36s/it]"
     ]
    },
    {
     "name": "stdout",
     "output_type": "stream",
     "text": [
      "[[2 (36%)]] --> [[0 (38%)]]\n",
      "\n",
      "foto aku cuma modal kamera xiaomi tetapi tetap [[suka]] \n",
      "\n",
      "foto aku cuma modal kamera xiaomi tetapi tetap [[harap]] \n",
      "\n",
      "\n",
      "1/1 [==============================] - 0s 37ms/step\n"
     ]
    },
    {
     "name": "stderr",
     "output_type": "stream",
     "text": [
      "[Succeeded / Failed / Skipped / Total] 51 / 89 / 15 / 155:  31%|███       | 155/500 [06:04<13:30,  2.35s/it]"
     ]
    },
    {
     "name": "stdout",
     "output_type": "stream",
     "text": [
      "--------------------------------------------- Result 155 ---------------------------------------------\n",
      "[[0 (36%)]] --> [[[SKIPPED]]]\n",
      "\n",
      "xiaomi ram nya mantap baterai awet juga kamera depan nya juga lumayan tidak menyesal beli ini \n",
      "\n",
      "\n",
      "1/1 [==============================] - 0s 46ms/step\n",
      "--------------------------------------------- Result 156 ---------------------------------------------\n",
      "[[0 (36%)]] --> [[[SKIPPED]]]\n",
      "\n",
      "xiaomi karena gue pakai xiaomi sekarang sebelumnya oppo f lebih suka xiaomi saja baterai nya kuat gue puas banget sih dengan xiaomi \n",
      "\n",
      "\n"
     ]
    },
    {
     "name": "stderr",
     "output_type": "stream",
     "text": [
      "[Succeeded / Failed / Skipped / Total] 51 / 89 / 16 / 156:  31%|███       | 156/500 [06:04<13:23,  2.34s/it]"
     ]
    },
    {
     "name": "stdout",
     "output_type": "stream",
     "text": [
      "1/1 [==============================] - 0s 41ms/step\n"
     ]
    },
    {
     "name": "stderr",
     "output_type": "stream",
     "text": [
      "[Succeeded / Failed / Skipped / Total] 51 / 89 / 17 / 157:  31%|███▏      | 157/500 [06:04<13:16,  2.32s/it]"
     ]
    },
    {
     "name": "stdout",
     "output_type": "stream",
     "text": [
      "--------------------------------------------- Result 157 ---------------------------------------------\n",
      "[[0 (39%)]] --> [[[SKIPPED]]]\n",
      "\n",
      "temen gue telepon genggam nya xiaomi yang juta saja masih kembali pas gue tanya kenapa dia beli itu padahal bisa saja di beli iphone dia jawab karena dia suka karena spek nya melebih iphone yang lo pandang ricuh itu \n",
      "\n",
      "\n",
      "1/1 [==============================] - 0s 50ms/step\n"
     ]
    },
    {
     "name": "stderr",
     "output_type": "stream",
     "text": [
      "[Succeeded / Failed / Skipped / Total] 51 / 89 / 18 / 158:  32%|███▏      | 158/500 [06:04<13:09,  2.31s/it]"
     ]
    },
    {
     "name": "stdout",
     "output_type": "stream",
     "text": [
      "--------------------------------------------- Result 158 ---------------------------------------------\n",
      "[[0 (38%)]] --> [[[SKIPPED]]]\n",
      "\n",
      "yang paling saya suka dari adalah trully open source sampai disediakan forum khusus itu bikin nyaman banget sih \n",
      "\n",
      "\n",
      "1/1 [==============================] - 0s 47ms/step\n",
      "1/1 [==============================] - 0s 50ms/step\n",
      "1/1 [==============================] - 0s 52ms/step\n",
      "1/1 [==============================] - 0s 51ms/step\n",
      "1/1 [==============================] - 0s 51ms/step\n",
      "1/1 [==============================] - 0s 54ms/step\n",
      "1/1 [==============================] - 0s 50ms/step\n",
      "1/1 [==============================] - 0s 47ms/step\n",
      "1/1 [==============================] - 0s 47ms/step\n",
      "1/1 [==============================] - 0s 48ms/step\n",
      "1/1 [==============================] - 0s 54ms/step\n",
      "1/1 [==============================] - 0s 54ms/step\n",
      "1/1 [==============================] - 0s 45ms/step\n",
      "1/1 [==============================] - 0s 36ms/step\n"
     ]
    },
    {
     "name": "stderr",
     "output_type": "stream",
     "text": [
      "[Succeeded / Failed / Skipped / Total] 51 / 89 / 18 / 158:  32%|███▏      | 159/500 [06:05<13:04,  2.30s/it]"
     ]
    },
    {
     "name": "stdout",
     "output_type": "stream",
     "text": [
      "--------------------------------------------- Result 159 ---------------------------------------------\n",
      "[[2 (38%)]] --> [[0 (37%)]]\n",
      "\n",
      "agak nya xiaomi tidak main main mau masuk pasar ponsel global mantap saya selalu [[suka]] miui mereka d\n",
      "\n",
      "agak nya xiaomi tidak main main mau masuk pasar ponsel global mantap saya selalu [[harap]] miui mereka d\n",
      "\n",
      "\n"
     ]
    },
    {
     "name": "stderr",
     "output_type": "stream",
     "text": [
      "[Succeeded / Failed / Skipped / Total] 52 / 89 / 18 / 159:  32%|███▏      | 159/500 [06:05<13:04,  2.30s/it]"
     ]
    },
    {
     "name": "stdout",
     "output_type": "stream",
     "text": [
      "1/1 [==============================] - 0s 40ms/step\n"
     ]
    },
    {
     "name": "stderr",
     "output_type": "stream",
     "text": [
      "[Succeeded / Failed / Skipped / Total] 52 / 89 / 19 / 160:  32%|███▏      | 160/500 [06:05<12:57,  2.29s/it]"
     ]
    },
    {
     "name": "stdout",
     "output_type": "stream",
     "text": [
      "--------------------------------------------- Result 160 ---------------------------------------------\n",
      "[[0 (40%)]] --> [[[SKIPPED]]]\n",
      "\n",
      "tidak dapat apple aku tidak kecewa kok yang penting samsung galaxy grand sudah di tangan ku sekarang aku senang \n",
      "\n",
      "\n",
      "1/1 [==============================] - 0s 39ms/step\n"
     ]
    },
    {
     "name": "stderr",
     "output_type": "stream",
     "text": [
      "[Succeeded / Failed / Skipped / Total] 52 / 89 / 20 / 161:  32%|███▏      | 161/500 [06:06<12:50,  2.27s/it]"
     ]
    },
    {
     "name": "stdout",
     "output_type": "stream",
     "text": [
      "--------------------------------------------- Result 161 ---------------------------------------------\n",
      "[[0 (37%)]] --> [[[SKIPPED]]]\n",
      "\n",
      "terima kasih bapak presiden jokowi sudah hadir dan menginap di tengah tengah kami warga lombok utara kehadiran bapak menambah semangat kami untuk bangkit lagi\n",
      "\n",
      "\n",
      "1/1 [==============================] - 0s 39ms/step\n",
      "1/1 [==============================] - 0s 52ms/step\n",
      "1/1 [==============================] - 0s 37ms/step\n",
      "1/1 [==============================] - 0s 49ms/step\n",
      "1/1 [==============================] - 0s 55ms/step\n",
      "1/1 [==============================] - 0s 54ms/step\n",
      "1/1 [==============================] - 0s 65ms/step\n",
      "1/1 [==============================] - 0s 48ms/step\n",
      "1/1 [==============================] - 0s 51ms/step\n",
      "1/1 [==============================] - 0s 53ms/step\n",
      "1/1 [==============================] - 0s 52ms/step\n",
      "1/1 [==============================] - 0s 48ms/step\n",
      "1/1 [==============================] - 0s 47ms/step\n",
      "1/1 [==============================] - 0s 53ms/step\n",
      "1/1 [==============================] - 0s 50ms/step\n",
      "1/1 [==============================] - 0s 50ms/step\n",
      "1/1 [==============================] - 0s 50ms/step\n",
      "1/1 [==============================] - 0s 51ms/step\n"
     ]
    },
    {
     "name": "stderr",
     "output_type": "stream",
     "text": [
      "[Succeeded / Failed / Skipped / Total] 53 / 89 / 20 / 162:  32%|███▏      | 162/500 [06:07<12:47,  2.27s/it]"
     ]
    },
    {
     "name": "stdout",
     "output_type": "stream",
     "text": [
      "--------------------------------------------- Result 162 ---------------------------------------------\n",
      "[[2 (35%)]] --> [[0 (34%)]]\n",
      "\n",
      "ketersediaan air adalah kunci ketahanan pangan kita karena itulah pemerintah telah membangun bendungan yang akan menjamin produksi pangan kita di masa depan [[terima]] [[kasih]] pak \n",
      "\n",
      "ketersediaan air adalah kunci ketahanan pangan kita karena itulah pemerintah telah membangun bendungan yang akan menjamin produksi pangan kita di masa depan [[ada]] [[afeksi]] pak \n",
      "\n",
      "\n",
      "1/1 [==============================] - 0s 46ms/step\n"
     ]
    },
    {
     "name": "stderr",
     "output_type": "stream",
     "text": [
      "[Succeeded / Failed / Skipped / Total] 53 / 89 / 21 / 163:  33%|███▎      | 163/500 [06:07<12:40,  2.26s/it]"
     ]
    },
    {
     "name": "stdout",
     "output_type": "stream",
     "text": [
      "--------------------------------------------- Result 163 ---------------------------------------------\n",
      "[[0 (36%)]] --> [[[SKIPPED]]]\n",
      "\n",
      "terima kasih bang atas apresiasi nya semoga pak cepat menemui wakil kami korban phk sepihak freeport bila perlu pak presiden agar masalah kami terselesaikan \n",
      "\n",
      "\n",
      "1/1 [==============================] - 0s 40ms/step\n",
      "1/1 [==============================] - 0s 52ms/step\n",
      "1/1 [==============================] - 0s 49ms/step\n",
      "1/1 [==============================] - 0s 68ms/step\n",
      "1/1 [==============================] - 0s 53ms/step\n",
      "1/1 [==============================] - 0s 57ms/step\n",
      "1/1 [==============================] - 0s 53ms/step\n",
      "1/1 [==============================] - 0s 51ms/step\n",
      "1/1 [==============================] - 0s 54ms/step\n",
      "1/1 [==============================] - 0s 52ms/step\n",
      "1/1 [==============================] - 0s 50ms/step\n",
      "1/1 [==============================] - 0s 61ms/step\n",
      "1/1 [==============================] - 0s 48ms/step\n",
      "1/1 [==============================] - 0s 47ms/step\n",
      "1/1 [==============================] - 0s 52ms/step\n",
      "1/1 [==============================] - 0s 37ms/step\n",
      "1/1 [==============================] - 0s 56ms/step\n",
      "1/1 [==============================] - 0s 52ms/step\n",
      "1/1 [==============================] - 0s 49ms/step\n",
      "1/1 [==============================] - 0s 55ms/step\n",
      "1/1 [==============================] - 0s 47ms/step\n",
      "1/1 [==============================] - 0s 45ms/step\n",
      "1/1 [==============================] - 0s 56ms/step\n",
      "1/1 [==============================] - 0s 50ms/step\n",
      "1/1 [==============================] - 0s 52ms/step\n",
      "--------------------------------------------- Result 164 ---------------------------------------------\n",
      "[[2 (35%)]] --> [[0 (34%)]]\n",
      "\n",
      "masyarakat papua dipastikan akan mendukung memilih jokowi saat pilpres karena masyarakat papua merasakan hasil pembangunan yang dicapai di [[era]] terima kasih pak\n",
      "\n",
      "masyarakat papua dipastikan akan mendukung memilih jokowi saat pilpres karena masyarakat papua merasakan hasil pembangunan yang dicapai di [[pukul]] terima kasih pak\n",
      "\n",
      "\n"
     ]
    },
    {
     "name": "stderr",
     "output_type": "stream",
     "text": [
      "[Succeeded / Failed / Skipped / Total] 54 / 89 / 21 / 164:  33%|███▎      | 164/500 [06:10<12:38,  2.26s/it]"
     ]
    },
    {
     "name": "stdout",
     "output_type": "stream",
     "text": [
      "1/1 [==============================] - 0s 42ms/step\n",
      "1/1 [==============================] - 0s 49ms/step\n",
      "1/1 [==============================] - 0s 50ms/step\n",
      "1/1 [==============================] - 0s 50ms/step\n",
      "1/1 [==============================] - 0s 51ms/step\n",
      "1/1 [==============================] - 0s 47ms/step\n",
      "1/1 [==============================] - 0s 53ms/step\n",
      "1/1 [==============================] - 0s 50ms/step\n",
      "1/1 [==============================] - 0s 49ms/step\n",
      "1/1 [==============================] - 0s 47ms/step\n",
      "1/1 [==============================] - 0s 47ms/step\n"
     ]
    },
    {
     "name": "stderr",
     "output_type": "stream",
     "text": [
      "[Succeeded / Failed / Skipped / Total] 55 / 89 / 21 / 165:  33%|███▎      | 165/500 [06:11<12:33,  2.25s/it]"
     ]
    },
    {
     "name": "stdout",
     "output_type": "stream",
     "text": [
      "--------------------------------------------- Result 165 ---------------------------------------------\n",
      "[[2 (38%)]] --> [[1 (35%)]]\n",
      "\n",
      "beliau [[cinta]] rakyat di [[cinta]] [[rakyat]] merakyat terima kasih pak\n",
      "\n",
      "beliau [[abang]] rakyat di [[abang]] [[negara]] merakyat terima kasih pak\n",
      "\n",
      "\n",
      "1/1 [==============================] - 0s 43ms/step\n"
     ]
    },
    {
     "name": "stderr",
     "output_type": "stream",
     "text": [
      "[Succeeded / Failed / Skipped / Total] 55 / 89 / 22 / 166:  33%|███▎      | 166/500 [06:11<12:27,  2.24s/it]"
     ]
    },
    {
     "name": "stdout",
     "output_type": "stream",
     "text": [
      "--------------------------------------------- Result 166 ---------------------------------------------\n",
      "[[1 (35%)]] --> [[[SKIPPED]]]\n",
      "\n",
      "semoga bapak selalu sehat semoga bapak bisa melanjutkan dua periode amin saya mendukung bapak \n",
      "\n",
      "\n",
      "1/1 [==============================] - 0s 56ms/step\n"
     ]
    },
    {
     "name": "stderr",
     "output_type": "stream",
     "text": [
      "[Succeeded / Failed / Skipped / Total] 55 / 89 / 23 / 167:  33%|███▎      | 167/500 [06:11<12:20,  2.22s/it]"
     ]
    },
    {
     "name": "stdout",
     "output_type": "stream",
     "text": [
      "--------------------------------------------- Result 167 ---------------------------------------------\n",
      "[[0 (37%)]] --> [[[SKIPPED]]]\n",
      "\n",
      "terima kasih kepada anies baswedan dan diego uno atas komitmen nya untuk tidak meninggalkan jabatan gubernur dan wakil gubernur selama tahun saya bangga memilih kalian \n",
      "\n",
      "\n",
      "1/1 [==============================] - 0s 36ms/step\n"
     ]
    },
    {
     "name": "stderr",
     "output_type": "stream",
     "text": [
      "[Succeeded / Failed / Skipped / Total] 55 / 89 / 24 / 168:  34%|███▎      | 168/500 [06:11<12:14,  2.21s/it]"
     ]
    },
    {
     "name": "stdout",
     "output_type": "stream",
     "text": [
      "--------------------------------------------- Result 168 ---------------------------------------------\n",
      "[[0 (36%)]] --> [[[SKIPPED]]]\n",
      "\n",
      "karya karya seperti itu layak menempati lokasi yang premium indah dan klasik saya suka terima kasih pak anies\n",
      "\n",
      "\n",
      "1/1 [==============================] - 0s 45ms/step\n",
      "1/1 [==============================] - 0s 51ms/step\n",
      "1/1 [==============================] - 0s 56ms/step\n",
      "1/1 [==============================] - 0s 58ms/step\n",
      "1/1 [==============================] - 0s 49ms/step\n",
      "1/1 [==============================] - 0s 53ms/step\n",
      "1/1 [==============================] - 0s 49ms/step\n",
      "1/1 [==============================] - 0s 50ms/step\n",
      "1/1 [==============================] - 0s 53ms/step\n",
      "1/1 [==============================] - 0s 55ms/step\n",
      "1/1 [==============================] - 0s 51ms/step\n",
      "1/1 [==============================] - 0s 47ms/step\n",
      "1/1 [==============================] - 0s 48ms/step\n",
      "1/1 [==============================] - 0s 52ms/step\n",
      "1/1 [==============================] - 0s 59ms/step\n",
      "1/1 [==============================] - 0s 52ms/step\n",
      "1/1 [==============================] - 0s 50ms/step\n",
      "1/1 [==============================] - 0s 54ms/step\n",
      "1/1 [==============================] - 0s 49ms/step\n"
     ]
    },
    {
     "name": "stderr",
     "output_type": "stream",
     "text": [
      "[Succeeded / Failed / Skipped / Total] 55 / 90 / 24 / 169:  34%|███▍      | 169/500 [06:13<12:11,  2.21s/it]"
     ]
    },
    {
     "name": "stdout",
     "output_type": "stream",
     "text": [
      "--------------------------------------------- Result 169 ---------------------------------------------\n",
      "[[2 (39%)]] --> [[[FAILED]]]\n",
      "\n",
      "bagus dong pak terima kasih sudah bergabung alhamdulillah sukses selalu\n",
      "\n",
      "\n",
      "1/1 [==============================] - 0s 39ms/step\n",
      "1/1 [==============================] - 0s 52ms/step\n",
      "1/1 [==============================] - 0s 55ms/step\n",
      "1/1 [==============================] - 0s 66ms/step\n",
      "1/1 [==============================] - 0s 49ms/step\n",
      "1/1 [==============================] - 0s 50ms/step\n",
      "1/1 [==============================] - 0s 46ms/step\n",
      "1/1 [==============================] - 0s 52ms/step\n",
      "1/1 [==============================] - 0s 48ms/step\n",
      "1/1 [==============================] - 0s 47ms/step\n",
      "1/1 [==============================] - 0s 49ms/step\n",
      "1/1 [==============================] - 0s 51ms/step\n",
      "1/1 [==============================] - 0s 47ms/step\n",
      "1/1 [==============================] - 0s 47ms/step\n",
      "--------------------------------------------- Result 170 ---------------------------------------------\n",
      "[[2 (38%)]] --> [[0 (35%)]]\n",
      "\n",
      "terima kasih pak anies sukses untuk anda baru kali ini lihat trotoar jakarta yang lebar nya melebihi lapangan badminton [[keren]] pak \n",
      "\n",
      "terima kasih pak anies sukses untuk anda baru kali ini lihat trotoar jakarta yang lebar nya melebihi lapangan badminton [[gembira]] pak \n",
      "\n",
      "\n"
     ]
    },
    {
     "name": "stderr",
     "output_type": "stream",
     "text": [
      "[Succeeded / Failed / Skipped / Total] 56 / 90 / 24 / 170:  34%|███▍      | 170/500 [06:14<12:07,  2.20s/it]"
     ]
    },
    {
     "name": "stdout",
     "output_type": "stream",
     "text": [
      "1/1 [==============================] - 0s 46ms/step\n"
     ]
    },
    {
     "name": "stderr",
     "output_type": "stream",
     "text": [
      "[Succeeded / Failed / Skipped / Total] 56 / 90 / 25 / 171:  34%|███▍      | 171/500 [06:14<12:00,  2.19s/it]"
     ]
    },
    {
     "name": "stdout",
     "output_type": "stream",
     "text": [
      "--------------------------------------------- Result 171 ---------------------------------------------\n",
      "[[0 (35%)]] --> [[[SKIPPED]]]\n",
      "\n",
      "doa kami untuk mu bapak anies semoga allah ridho engkau sukses bersama pak prabowo ri ri\n",
      "\n",
      "\n",
      "1/1 [==============================] - 0s 55ms/step\n"
     ]
    },
    {
     "name": "stderr",
     "output_type": "stream",
     "text": [
      "[Succeeded / Failed / Skipped / Total] 56 / 90 / 26 / 172:  34%|███▍      | 172/500 [06:14<11:54,  2.18s/it]"
     ]
    },
    {
     "name": "stdout",
     "output_type": "stream",
     "text": [
      "--------------------------------------------- Result 172 ---------------------------------------------\n",
      "[[0 (36%)]] --> [[[SKIPPED]]]\n",
      "\n",
      "terima kasih untuk buah karya mu di jakarta yang jadi sejuk santun bersama pak sandi juga pak anies\n",
      "\n",
      "\n",
      "1/1 [==============================] - 0s 45ms/step\n"
     ]
    },
    {
     "name": "stderr",
     "output_type": "stream",
     "text": [
      "[Succeeded / Failed / Skipped / Total] 56 / 90 / 27 / 173:  35%|███▍      | 173/500 [06:14<11:48,  2.17s/it]"
     ]
    },
    {
     "name": "stdout",
     "output_type": "stream",
     "text": [
      "--------------------------------------------- Result 173 ---------------------------------------------\n",
      "[[0 (36%)]] --> [[[SKIPPED]]]\n",
      "\n",
      "gue paling suka pakai susu ultra yang lowfat sumpah sih enak banget banget malah gue cuma bisa menghabiskan indomie rebus kalau kuah nya diganti susu\n",
      "\n",
      "\n",
      "1/1 [==============================] - 0s 46ms/step\n",
      "1/1 [==============================] - 0s 55ms/step\n",
      "1/1 [==============================] - 0s 52ms/step\n",
      "1/1 [==============================] - 0s 52ms/step\n",
      "1/1 [==============================] - 0s 52ms/step\n",
      "1/1 [==============================] - 0s 49ms/step\n",
      "1/1 [==============================] - 0s 46ms/step\n",
      "1/1 [==============================] - 0s 47ms/step\n",
      "1/1 [==============================] - 0s 47ms/step\n",
      "1/1 [==============================] - 0s 59ms/step\n",
      "1/1 [==============================] - 0s 35ms/step\n",
      "1/1 [==============================] - 0s 50ms/step\n",
      "1/1 [==============================] - 0s 50ms/step\n",
      "1/1 [==============================] - 0s 49ms/step\n",
      "1/1 [==============================] - 0s 54ms/step\n",
      "1/1 [==============================] - 0s 49ms/step\n",
      "1/1 [==============================] - 0s 48ms/step\n",
      "1/1 [==============================] - 0s 52ms/step\n"
     ]
    },
    {
     "name": "stderr",
     "output_type": "stream",
     "text": [
      "[Succeeded / Failed / Skipped / Total] 57 / 90 / 27 / 174:  35%|███▍      | 174/500 [06:16<11:45,  2.16s/it]"
     ]
    },
    {
     "name": "stdout",
     "output_type": "stream",
     "text": [
      "--------------------------------------------- Result 174 ---------------------------------------------\n",
      "[[2 (37%)]] --> [[0 (37%)]]\n",
      "\n",
      "kenapa aku kok suka banget sama yang nama nya mi apalagi mi indomie goreng dikasih kuah telur berh rasanya mantap tjoy pangsit di depan rumah gue aja kalah [[enak]] sama mi buatan aku sendiri \n",
      "\n",
      "kenapa aku kok suka banget sama yang nama nya mi apalagi mi indomie goreng dikasih kuah telur berh rasanya mantap tjoy pangsit di depan rumah gue aja kalah [[waras]] sama mi buatan aku sendiri \n",
      "\n",
      "\n",
      "1/1 [==============================] - 0s 48ms/step\n"
     ]
    },
    {
     "name": "stderr",
     "output_type": "stream",
     "text": [
      "[Succeeded / Failed / Skipped / Total] 57 / 90 / 28 / 175:  35%|███▌      | 175/500 [06:16<11:39,  2.15s/it]"
     ]
    },
    {
     "name": "stdout",
     "output_type": "stream",
     "text": [
      "--------------------------------------------- Result 175 ---------------------------------------------\n",
      "[[0 (35%)]] --> [[[SKIPPED]]]\n",
      "\n",
      "sebenarnya lebih suka kari ayam sih kak hehehe tapi kalau label nya sudah indomie apa saja masuk kok ke perut ku karena aku penggemar berat indomie \n",
      "\n",
      "\n",
      "1/1 [==============================] - 0s 37ms/step\n"
     ]
    },
    {
     "name": "stderr",
     "output_type": "stream",
     "text": [
      "[Succeeded / Failed / Skipped / Total] 57 / 90 / 29 / 176:  35%|███▌      | 176/500 [06:16<11:33,  2.14s/it]"
     ]
    },
    {
     "name": "stdout",
     "output_type": "stream",
     "text": [
      "--------------------------------------------- Result 176 ---------------------------------------------\n",
      "[[0 (42%)]] --> [[[SKIPPED]]]\n",
      "\n",
      "iya enak banget soal nya iya dong indomie mah teh terbaik iya lalu aku juga tidak suka orang yang padahal jelas jelas dia salah dan harus nya minta maaf tapi adem ayem saja sedangkan aku nya sudah menderita \n",
      "\n",
      "\n",
      "1/1 [==============================] - 0s 37ms/step\n"
     ]
    },
    {
     "name": "stderr",
     "output_type": "stream",
     "text": [
      "[Succeeded / Failed / Skipped / Total] 57 / 90 / 30 / 177:  35%|███▌      | 177/500 [06:16<11:27,  2.13s/it]"
     ]
    },
    {
     "name": "stdout",
     "output_type": "stream",
     "text": [
      "--------------------------------------------- Result 177 ---------------------------------------------\n",
      "[[0 (40%)]] --> [[[SKIPPED]]]\n",
      "\n",
      "yang terhormat saya suka banget sama indomie mau minta boleh tidak inovasiin bungkus minyak nya biar gampang dibuka pakai tangan dong supaya tidak bleweran ketika tidak ada gunting terima kasih \n",
      "\n",
      "\n",
      "1/1 [==============================] - 0s 67ms/step\n"
     ]
    },
    {
     "name": "stderr",
     "output_type": "stream",
     "text": [
      "[Succeeded / Failed / Skipped / Total] 57 / 90 / 31 / 178:  36%|███▌      | 178/500 [06:16<11:21,  2.12s/it]"
     ]
    },
    {
     "name": "stdout",
     "output_type": "stream",
     "text": [
      "--------------------------------------------- Result 178 ---------------------------------------------\n",
      "[[0 (36%)]] --> [[[SKIPPED]]]\n",
      "\n",
      "yang saya suka dari chitato indomie konsistensi mereka meng eksplore rasa lokal kesan nya indonesia banget \n",
      "\n",
      "\n",
      "1/1 [==============================] - 0s 41ms/step\n"
     ]
    },
    {
     "name": "stderr",
     "output_type": "stream",
     "text": [
      "[Succeeded / Failed / Skipped / Total] 57 / 90 / 32 / 179:  36%|███▌      | 179/500 [06:17<11:16,  2.11s/it]"
     ]
    },
    {
     "name": "stdout",
     "output_type": "stream",
     "text": [
      "--------------------------------------------- Result 179 ---------------------------------------------\n",
      "[[0 (37%)]] --> [[[SKIPPED]]]\n",
      "\n",
      "asus bagus speaker nya kencang kalau buat presentasi mayan maka dari itu aku lebih milih asus dibanding yang lain \n",
      "\n",
      "\n",
      "1/1 [==============================] - 0s 40ms/step\n"
     ]
    },
    {
     "name": "stderr",
     "output_type": "stream",
     "text": [
      "[Succeeded / Failed / Skipped / Total] 57 / 90 / 33 / 180:  36%|███▌      | 180/500 [06:17<11:10,  2.10s/it]"
     ]
    },
    {
     "name": "stdout",
     "output_type": "stream",
     "text": [
      "--------------------------------------------- Result 180 ---------------------------------------------\n",
      "[[0 (37%)]] --> [[[SKIPPED]]]\n",
      "\n",
      "xiaomi redmi note atau asus zenfone max pro m saja jutaan sudah pakai snapdragon batre gede update os terjamin kamera bagus \n",
      "\n",
      "\n",
      "1/1 [==============================] - 0s 37ms/step\n",
      "1/1 [==============================] - 0s 51ms/step\n",
      "1/1 [==============================] - 0s 54ms/step\n",
      "1/1 [==============================] - 0s 55ms/step\n",
      "1/1 [==============================] - 0s 49ms/step\n",
      "1/1 [==============================] - 0s 50ms/step\n",
      "1/1 [==============================] - 0s 47ms/step\n",
      "1/1 [==============================] - 0s 48ms/step\n",
      "1/1 [==============================] - 0s 59ms/step\n",
      "1/1 [==============================] - 0s 58ms/step\n",
      "1/1 [==============================] - 0s 40ms/step\n",
      "1/1 [==============================] - 0s 48ms/step\n"
     ]
    },
    {
     "name": "stderr",
     "output_type": "stream",
     "text": [
      "[Succeeded / Failed / Skipped / Total] 58 / 90 / 33 / 181:  36%|███▌      | 181/500 [06:18<11:06,  2.09s/it]"
     ]
    },
    {
     "name": "stdout",
     "output_type": "stream",
     "text": [
      "--------------------------------------------- Result 181 ---------------------------------------------\n",
      "[[2 (37%)]] --> [[0 (38%)]]\n",
      "\n",
      "kalau mau minum kopi datangkan journey kopi records ini kedai kopi anak musik banget jualan kaset tape cd sampai vinyl yang punya juga paham sekali musik kopi nya [[enak]] pol teh terbaik \n",
      "\n",
      "kalau mau minum kopi datangkan journey kopi records ini kedai kopi anak musik banget jualan kaset tape cd sampai vinyl yang punya juga paham sekali musik kopi nya [[waras]] pol teh terbaik \n",
      "\n",
      "\n",
      "1/1 [==============================] - 0s 35ms/step\n"
     ]
    },
    {
     "name": "stderr",
     "output_type": "stream",
     "text": [
      "[Succeeded / Failed / Skipped / Total] 58 / 90 / 34 / 182:  36%|███▋      | 182/500 [06:18<11:01,  2.08s/it]"
     ]
    },
    {
     "name": "stdout",
     "output_type": "stream",
     "text": [
      "--------------------------------------------- Result 182 ---------------------------------------------\n",
      "[[0 (39%)]] --> [[[SKIPPED]]]\n",
      "\n",
      "aku lagi makan mangga potong aku suka banget buah mangga besok kalau kepasar mau beli banyak banyak lagi ah \n",
      "\n",
      "\n",
      "1/1 [==============================] - 0s 38ms/step\n"
     ]
    },
    {
     "name": "stderr",
     "output_type": "stream",
     "text": [
      "[Succeeded / Failed / Skipped / Total] 58 / 90 / 35 / 183:  37%|███▋      | 183/500 [06:18<10:55,  2.07s/it]"
     ]
    },
    {
     "name": "stdout",
     "output_type": "stream",
     "text": [
      "--------------------------------------------- Result 183 ---------------------------------------------\n",
      "[[0 (39%)]] --> [[[SKIPPED]]]\n",
      "\n",
      "jaemin itu soft banget hati nya mudah tersentuh begitu sayang banget sama nctzen juga inti nya dia itu suka sama yang nama nya kasih sayang itu kenapa aku suka banget sama dia \n",
      "\n",
      "\n",
      "1/1 [==============================] - 0s 58ms/step\n"
     ]
    },
    {
     "name": "stderr",
     "output_type": "stream",
     "text": [
      "[Succeeded / Failed / Skipped / Total] 58 / 90 / 36 / 184:  37%|███▋      | 184/500 [06:18<10:50,  2.06s/it]"
     ]
    },
    {
     "name": "stdout",
     "output_type": "stream",
     "text": [
      "--------------------------------------------- Result 184 ---------------------------------------------\n",
      "[[0 (36%)]] --> [[[SKIPPED]]]\n",
      "\n",
      "ingin rekomendasi saja buat yang tertarik kuliner bandung bacang yang ada di jalan naripan sebelah hotel ibis styles ibis yang warna hijau sungguh seenak itu buka dari jam sore sampai jam dinihari kalau belum sekali harga ribu cocok buat ajak orang tersayang nya \n",
      "\n",
      "\n",
      "1/1 [==============================] - 0s 40ms/step\n",
      "1/1 [==============================] - 0s 52ms/step\n",
      "1/1 [==============================] - 0s 47ms/step\n",
      "1/1 [==============================] - 0s 46ms/step\n",
      "1/1 [==============================] - 0s 52ms/step\n",
      "1/1 [==============================] - 0s 50ms/step\n",
      "1/1 [==============================] - 0s 51ms/step\n",
      "1/1 [==============================] - 0s 46ms/step\n",
      "1/1 [==============================] - 0s 53ms/step\n",
      "1/1 [==============================] - 0s 53ms/step\n",
      "1/1 [==============================] - 0s 49ms/step\n",
      "1/1 [==============================] - 0s 47ms/step\n",
      "1/1 [==============================] - 0s 47ms/step\n",
      "1/1 [==============================] - 0s 50ms/step\n",
      "1/1 [==============================] - 0s 52ms/step\n",
      "1/1 [==============================] - 0s 52ms/step\n",
      "1/1 [==============================] - 0s 47ms/step\n",
      "1/1 [==============================] - 0s 46ms/step\n"
     ]
    },
    {
     "name": "stderr",
     "output_type": "stream",
     "text": [
      "[Succeeded / Failed / Skipped / Total] 59 / 90 / 36 / 185:  37%|███▋      | 185/500 [06:20<10:47,  2.06s/it]"
     ]
    },
    {
     "name": "stdout",
     "output_type": "stream",
     "text": [
      "--------------------------------------------- Result 185 ---------------------------------------------\n",
      "[[2 (39%)]] --> [[0 (38%)]]\n",
      "\n",
      "kuliner pertama yang harus dicoba itu ketan jompo rasa jangan ditanya lagi gurih manis dan hangat nya ketan yang ditaburi bubuk koyah bisa banget menemani malam kalian di kota jember harga nya juga murah cuma tiga ribu [[suka]] banget \n",
      "\n",
      "kuliner pertama yang harus dicoba itu ketan jompo rasa jangan ditanya lagi gurih manis dan hangat nya ketan yang ditaburi bubuk koyah bisa banget menemani malam kalian di kota jember harga nya juga murah cuma tiga ribu [[harap]] banget \n",
      "\n",
      "\n",
      "1/1 [==============================] - 0s 35ms/step\n"
     ]
    },
    {
     "name": "stderr",
     "output_type": "stream",
     "text": [
      "[Succeeded / Failed / Skipped / Total] 59 / 90 / 37 / 186:  37%|███▋      | 186/500 [06:20<10:42,  2.05s/it]"
     ]
    },
    {
     "name": "stdout",
     "output_type": "stream",
     "text": [
      "--------------------------------------------- Result 186 ---------------------------------------------\n",
      "[[0 (38%)]] --> [[[SKIPPED]]]\n",
      "\n",
      "di jember itu ada tempat makan enak nama nya warung bakaran mbak vivi makanan nya enak enak bakaran nya itu pas banget matang nya dan yang paling penting nya harga nya murah sekali untuk makanan seenak itu \n",
      "\n",
      "\n",
      "1/1 [==============================] - 0s 73ms/step\n"
     ]
    },
    {
     "name": "stderr",
     "output_type": "stream",
     "text": [
      "[Succeeded / Failed / Skipped / Total] 59 / 90 / 38 / 187:  37%|███▋      | 187/500 [06:20<10:36,  2.04s/it]"
     ]
    },
    {
     "name": "stdout",
     "output_type": "stream",
     "text": [
      "--------------------------------------------- Result 187 ---------------------------------------------\n",
      "[[0 (39%)]] --> [[[SKIPPED]]]\n",
      "\n",
      "gue baru pertama kali ke tempat makan nama nya ayam rempah jember rasanya bisa diadu sama makanan makanan enak kelas atas paduan nasi hangat sama ayam rempah terus disanding sama dua macam sambal dan minum nya jeruk panas parah sih itu rasanya ketagihan bikin ingin lagi dan lagi dan lagi \n",
      "\n",
      "\n",
      "1/1 [==============================] - 0s 42ms/step\n",
      "1/1 [==============================] - 0s 50ms/step\n",
      "1/1 [==============================] - 0s 50ms/step\n",
      "1/1 [==============================] - 0s 52ms/step\n",
      "1/1 [==============================] - 0s 47ms/step\n",
      "1/1 [==============================] - 0s 36ms/step\n",
      "1/1 [==============================] - 0s 61ms/step\n",
      "1/1 [==============================] - 0s 50ms/step\n",
      "1/1 [==============================] - 0s 55ms/step\n",
      "1/1 [==============================] - 0s 48ms/step\n",
      "1/1 [==============================] - 0s 54ms/step\n",
      "1/1 [==============================] - 0s 52ms/step\n",
      "1/1 [==============================] - 0s 53ms/step\n",
      "1/1 [==============================] - 0s 54ms/step\n",
      "1/1 [==============================] - 0s 51ms/step\n",
      "1/1 [==============================] - 0s 53ms/step\n",
      "1/1 [==============================] - 0s 59ms/step\n",
      "1/1 [==============================] - 0s 57ms/step\n",
      "1/1 [==============================] - 0s 49ms/step\n",
      "1/1 [==============================] - 0s 48ms/step\n",
      "1/1 [==============================] - 0s 35ms/step\n",
      "--------------------------------------------- Result 188 ---------------------------------------------\n",
      "[[2 (38%)]] --> [[0 (35%)]]\n",
      "\n",
      "di jember ada juga makanan nama nya tahu telur bangka waktu itu belum pernah nyobain makanan yang begituan eh sekali nya mencoba gue langsung jatuh [[cinta]] top \n",
      "\n",
      "di jember ada juga makanan nama nya tahu telur bangka waktu itu belum pernah nyobain makanan yang begituan eh sekali nya mencoba gue langsung jatuh [[abang]] top \n",
      "\n",
      "\n"
     ]
    },
    {
     "name": "stderr",
     "output_type": "stream",
     "text": [
      "[Succeeded / Failed / Skipped / Total] 60 / 90 / 38 / 188:  38%|███▊      | 188/500 [06:22<10:34,  2.03s/it]"
     ]
    },
    {
     "name": "stdout",
     "output_type": "stream",
     "text": [
      "1/1 [==============================] - 0s 40ms/step\n"
     ]
    },
    {
     "name": "stderr",
     "output_type": "stream",
     "text": [
      "[Succeeded / Failed / Skipped / Total] 60 / 90 / 39 / 189:  38%|███▊      | 189/500 [06:22<10:29,  2.02s/it]"
     ]
    },
    {
     "name": "stdout",
     "output_type": "stream",
     "text": [
      "--------------------------------------------- Result 189 ---------------------------------------------\n",
      "[[0 (35%)]] --> [[[SKIPPED]]]\n",
      "\n",
      "pujasera okm semanggi itu salah satu tempat makan yang lagi populer di jember asik banget buat nongkrong wifi nya juga kencang kayak nya sih bakal sering sering ke sana \n",
      "\n",
      "\n",
      "1/1 [==============================] - 0s 62ms/step\n"
     ]
    },
    {
     "name": "stderr",
     "output_type": "stream",
     "text": [
      "[Succeeded / Failed / Skipped / Total] 60 / 90 / 40 / 190:  38%|███▊      | 190/500 [06:22<10:24,  2.01s/it]"
     ]
    },
    {
     "name": "stdout",
     "output_type": "stream",
     "text": [
      "--------------------------------------------- Result 190 ---------------------------------------------\n",
      "[[0 (39%)]] --> [[[SKIPPED]]]\n",
      "\n",
      "haha yang baru baru sih sudah tidak begitu terlihat absurd nya yang rog baru malah logo mata doang keren jadi nya lenovo legion yang baru malah lebih lebih lagi elegan nya kalau saya pribadi sih suka \n",
      "\n",
      "\n",
      "1/1 [==============================] - 0s 38ms/step\n",
      "1/1 [==============================] - 0s 51ms/step\n",
      "1/1 [==============================] - 0s 46ms/step\n",
      "1/1 [==============================] - 0s 48ms/step\n",
      "1/1 [==============================] - 0s 53ms/step\n",
      "1/1 [==============================] - 0s 52ms/step\n",
      "1/1 [==============================] - 0s 49ms/step\n"
     ]
    },
    {
     "name": "stderr",
     "output_type": "stream",
     "text": [
      "[Succeeded / Failed / Skipped / Total] 61 / 90 / 40 / 191:  38%|███▊      | 191/500 [06:23<10:20,  2.01s/it]"
     ]
    },
    {
     "name": "stdout",
     "output_type": "stream",
     "text": [
      "--------------------------------------------- Result 191 ---------------------------------------------\n",
      "[[2 (37%)]] --> [[0 (36%)]]\n",
      "\n",
      "buat gue kece banget lenovo itu saking kece nya layar laptop lenovo yoga bisa ditekuk derajat [[keren]] [[banget]] memang benar sih kadang different adalah lebih baik \n",
      "\n",
      "buat gue kece banget lenovo itu saking kece nya layar laptop lenovo yoga bisa ditekuk derajat [[gembira]] [[begitu]] memang benar sih kadang different adalah lebih baik \n",
      "\n",
      "\n",
      "1/1 [==============================] - 0s 46ms/step\n"
     ]
    },
    {
     "name": "stderr",
     "output_type": "stream",
     "text": [
      "[Succeeded / Failed / Skipped / Total] 61 / 90 / 41 / 192:  38%|███▊      | 192/500 [06:23<10:15,  2.00s/it]"
     ]
    },
    {
     "name": "stdout",
     "output_type": "stream",
     "text": [
      "--------------------------------------------- Result 192 ---------------------------------------------\n",
      "[[0 (38%)]] --> [[[SKIPPED]]]\n",
      "\n",
      "ultra milk ini luv banget ya sekali nya ngeluarin flavor baru dua dua nya favorit ku tapi ku lebih sayang sama yang karamel sih \n",
      "\n",
      "\n",
      "1/1 [==============================] - 0s 38ms/step\n"
     ]
    },
    {
     "name": "stderr",
     "output_type": "stream",
     "text": [
      "[Succeeded / Failed / Skipped / Total] 61 / 90 / 42 / 193:  39%|███▊      | 193/500 [06:23<10:10,  1.99s/it]"
     ]
    },
    {
     "name": "stdout",
     "output_type": "stream",
     "text": [
      "--------------------------------------------- Result 193 ---------------------------------------------\n",
      "[[0 (39%)]] --> [[[SKIPPED]]]\n",
      "\n",
      "big cola itu enak banget aku suka dia tidak jauh beda enak nya dengan minuman cola lain ditambah dia itu harga nya lebih murah luv banget buat orang yang suka cola kayak aku \n",
      "\n",
      "\n",
      "1/1 [==============================] - 0s 37ms/step\n",
      "--------------------------------------------- Result 194 ---------------------------------------------\n",
      "[[0 (39%)]] --> [[[SKIPPED]]]\n",
      "\n",
      "dulu saya haus setelah ke indomaret dan membeli big cola haus saya hilang gila rasanya enak banget sejak saat itu jadi keterusan suka minumkan big cola \n",
      "\n",
      "\n"
     ]
    },
    {
     "name": "stderr",
     "output_type": "stream",
     "text": [
      "[Succeeded / Failed / Skipped / Total] 61 / 90 / 43 / 194:  39%|███▉      | 194/500 [06:23<10:05,  1.98s/it]"
     ]
    },
    {
     "name": "stdout",
     "output_type": "stream",
     "text": [
      "1/1 [==============================] - 0s 52ms/step\n"
     ]
    },
    {
     "name": "stderr",
     "output_type": "stream",
     "text": [
      "[Succeeded / Failed / Skipped / Total] 61 / 90 / 44 / 195:  39%|███▉      | 195/500 [06:23<10:00,  1.97s/it]"
     ]
    },
    {
     "name": "stdout",
     "output_type": "stream",
     "text": [
      "--------------------------------------------- Result 195 ---------------------------------------------\n",
      "[[0 (39%)]] --> [[[SKIPPED]]]\n",
      "\n",
      "bca keren banget sih pelayanan nya selain itu dia mikirin karyawan nya banget setiap hari saja karyawan nya dapat cemilan popcorn salut sama pemimpinan nya bukan cuma mikirin kenyamanan pelanggan tapi juga karyawan \n",
      "\n",
      "\n",
      "1/1 [==============================] - 0s 37ms/step\n"
     ]
    },
    {
     "name": "stderr",
     "output_type": "stream",
     "text": [
      "[Succeeded / Failed / Skipped / Total] 61 / 90 / 45 / 196:  39%|███▉      | 196/500 [06:23<09:55,  1.96s/it]"
     ]
    },
    {
     "name": "stdout",
     "output_type": "stream",
     "text": [
      "--------------------------------------------- Result 196 ---------------------------------------------\n",
      "[[0 (40%)]] --> [[[SKIPPED]]]\n",
      "\n",
      "sumpah big cola jauh banget lebih enak daripada coca cola tidak terlalu manis dan tidak menyisakan pait di mulut seperti coke zero wkwk norak ya gue baru mencoba tapi asli enak banget \n",
      "\n",
      "\n",
      "1/1 [==============================] - 0s 38ms/step\n"
     ]
    },
    {
     "name": "stderr",
     "output_type": "stream",
     "text": [
      "[Succeeded / Failed / Skipped / Total] 61 / 90 / 46 / 197:  39%|███▉      | 197/500 [06:23<09:50,  1.95s/it]"
     ]
    },
    {
     "name": "stdout",
     "output_type": "stream",
     "text": [
      "--------------------------------------------- Result 197 ---------------------------------------------\n",
      "[[0 (38%)]] --> [[[SKIPPED]]]\n",
      "\n",
      "aku sayang banget sama susu ultramilk rasanya tiap ke indomaret tidak pernah tidak beli susu itu enak ketagihan \n",
      "\n",
      "\n",
      "1/1 [==============================] - 0s 46ms/step\n"
     ]
    },
    {
     "name": "stderr",
     "output_type": "stream",
     "text": [
      "[Succeeded / Failed / Skipped / Total] 61 / 90 / 47 / 198:  40%|███▉      | 198/500 [06:24<09:45,  1.94s/it]"
     ]
    },
    {
     "name": "stdout",
     "output_type": "stream",
     "text": [
      "--------------------------------------------- Result 198 ---------------------------------------------\n",
      "[[0 (37%)]] --> [[[SKIPPED]]]\n",
      "\n",
      "oppo f menurut gue mantap banget sih mulai dari kamera depan nya yang bersih terus layar nya penuh display pakai gorilla glass lalu kamera belakang nya naik tingkat banget dari yang sebelumnya tidak menyesal gue beli ini hp \n",
      "\n",
      "\n",
      "1/1 [==============================] - 0s 46ms/step\n"
     ]
    },
    {
     "name": "stderr",
     "output_type": "stream",
     "text": [
      "[Succeeded / Failed / Skipped / Total] 61 / 90 / 48 / 199:  40%|███▉      | 199/500 [06:24<09:41,  1.93s/it]"
     ]
    },
    {
     "name": "stdout",
     "output_type": "stream",
     "text": [
      "--------------------------------------------- Result 199 ---------------------------------------------\n",
      "[[0 (39%)]] --> [[[SKIPPED]]]\n",
      "\n",
      "sarapan nya enak dan pilihan nya lumayan banyak kamar baik ac nya juga dingin hotel aston gue rekomendasikan sih buat kalian kalian yang mau menginap di hotel \n",
      "\n",
      "\n",
      "1/1 [==============================] - 0s 37ms/step\n",
      "1/1 [==============================] - 0s 50ms/step\n",
      "1/1 [==============================] - 0s 48ms/step\n",
      "1/1 [==============================] - 0s 47ms/step\n",
      "1/1 [==============================] - 0s 48ms/step\n",
      "1/1 [==============================] - 0s 46ms/step\n",
      "1/1 [==============================] - 0s 51ms/step\n",
      "1/1 [==============================] - 0s 66ms/step\n",
      "1/1 [==============================] - 0s 45ms/step\n",
      "1/1 [==============================] - 0s 48ms/step\n",
      "1/1 [==============================] - 0s 36ms/step\n",
      "1/1 [==============================] - 0s 51ms/step\n",
      "1/1 [==============================] - 0s 54ms/step\n",
      "1/1 [==============================] - 0s 50ms/step\n",
      "1/1 [==============================] - 0s 50ms/step\n",
      "1/1 [==============================] - 0s 51ms/step\n",
      "1/1 [==============================] - 0s 53ms/step\n",
      "1/1 [==============================] - 0s 54ms/step\n",
      "1/1 [==============================] - 0s 48ms/step\n",
      "1/1 [==============================] - 0s 47ms/step\n",
      "1/1 [==============================] - 0s 50ms/step\n",
      "1/1 [==============================] - 0s 49ms/step\n",
      "1/1 [==============================] - 0s 37ms/step\n",
      "1/1 [==============================] - 0s 51ms/step\n",
      "1/1 [==============================] - 0s 54ms/step\n",
      "1/1 [==============================] - 0s 48ms/step\n"
     ]
    },
    {
     "name": "stderr",
     "output_type": "stream",
     "text": [
      "[Succeeded / Failed / Skipped / Total] 62 / 90 / 48 / 200:  40%|████      | 200/500 [06:26<09:39,  1.93s/it]"
     ]
    },
    {
     "name": "stdout",
     "output_type": "stream",
     "text": [
      "--------------------------------------------- Result 200 ---------------------------------------------\n",
      "[[2 (37%)]] --> [[0 (37%)]]\n",
      "\n",
      "ini ya menurut gue tentang hotel aston itu pertama staf hotel tanggap cepat dan ramah kedua untuk sarapan lumayan enak dan untuk anak anak suka sekali dengan kolam renang anak termasuk saya dan istri ketiga yang pasti [[bersih]] \n",
      "\n",
      "ini ya menurut gue tentang hotel aston itu pertama staf hotel tanggap cepat dan ramah kedua untuk sarapan lumayan enak dan untuk anak anak suka sekali dengan kolam renang anak termasuk saya dan istri ketiga yang pasti [[polos]] \n",
      "\n",
      "\n",
      "1/1 [==============================] - 0s 41ms/step\n",
      "1/1 [==============================] - 0s 55ms/step\n",
      "1/1 [==============================] - 0s 47ms/step\n",
      "1/1 [==============================] - 0s 52ms/step\n",
      "1/1 [==============================] - 0s 57ms/step\n",
      "1/1 [==============================] - 0s 49ms/step\n",
      "1/1 [==============================] - 0s 52ms/step\n",
      "1/1 [==============================] - 0s 49ms/step\n",
      "1/1 [==============================] - 0s 48ms/step\n",
      "1/1 [==============================] - 0s 57ms/step\n",
      "1/1 [==============================] - 0s 47ms/step\n",
      "1/1 [==============================] - 0s 52ms/step\n"
     ]
    },
    {
     "name": "stderr",
     "output_type": "stream",
     "text": [
      "[Succeeded / Failed / Skipped / Total] 63 / 90 / 48 / 201:  40%|████      | 201/500 [06:27<09:36,  1.93s/it]"
     ]
    },
    {
     "name": "stdout",
     "output_type": "stream",
     "text": [
      "--------------------------------------------- Result 201 ---------------------------------------------\n",
      "[[2 (37%)]] --> [[0 (37%)]]\n",
      "\n",
      "kolam renang di hotel aston bikin tidak mau berenti berenang nyaman banget air nya [[bersih]] tempat bilas nya nyaman \n",
      "\n",
      "kolam renang di hotel aston bikin tidak mau berenti berenang nyaman banget air nya [[polos]] tempat bilas nya nyaman \n",
      "\n",
      "\n",
      "1/1 [==============================] - 0s 41ms/step\n",
      "1/1 [==============================] - 0s 48ms/step\n",
      "1/1 [==============================] - 0s 46ms/step\n",
      "1/1 [==============================] - 0s 48ms/step\n",
      "1/1 [==============================] - 0s 52ms/step\n",
      "1/1 [==============================] - 0s 59ms/step\n",
      "1/1 [==============================] - 0s 61ms/step\n",
      "1/1 [==============================] - 0s 52ms/step\n",
      "1/1 [==============================] - 0s 51ms/step\n",
      "1/1 [==============================] - 0s 56ms/step\n",
      "1/1 [==============================] - 0s 53ms/step\n",
      "1/1 [==============================] - 0s 47ms/step\n",
      "1/1 [==============================] - 0s 57ms/step\n",
      "1/1 [==============================] - 0s 53ms/step\n",
      "1/1 [==============================] - 0s 52ms/step\n",
      "1/1 [==============================] - 0s 70ms/step\n",
      "1/1 [==============================] - 0s 53ms/step\n",
      "1/1 [==============================] - 0s 54ms/step\n",
      "1/1 [==============================] - 0s 52ms/step\n",
      "1/1 [==============================] - 0s 56ms/step\n",
      "1/1 [==============================] - 0s 59ms/step\n",
      "1/1 [==============================] - 0s 48ms/step\n",
      "1/1 [==============================] - 0s 48ms/step\n"
     ]
    },
    {
     "name": "stderr",
     "output_type": "stream",
     "text": [
      "[Succeeded / Failed / Skipped / Total] 64 / 90 / 48 / 202:  40%|████      | 202/500 [06:29<09:35,  1.93s/it]"
     ]
    },
    {
     "name": "stdout",
     "output_type": "stream",
     "text": [
      "--------------------------------------------- Result 202 ---------------------------------------------\n",
      "[[2 (37%)]] --> [[0 (35%)]]\n",
      "\n",
      "wah keren ya persiapan bni saya juga mendukung semoga bisa berjalan [[lancar]] \n",
      "\n",
      "wah keren ya persiapan bni saya juga mendukung semoga bisa berjalan [[jelas]] \n",
      "\n",
      "\n",
      "1/1 [==============================] - 0s 35ms/step\n"
     ]
    },
    {
     "name": "stderr",
     "output_type": "stream",
     "text": [
      "[Succeeded / Failed / Skipped / Total] 64 / 90 / 49 / 203:  41%|████      | 203/500 [06:29<09:30,  1.92s/it]"
     ]
    },
    {
     "name": "stdout",
     "output_type": "stream",
     "text": [
      "--------------------------------------------- Result 203 ---------------------------------------------\n",
      "[[0 (38%)]] --> [[[SKIPPED]]]\n",
      "\n",
      "lebih enak lagi kalau nasi padang oreo momogi chocolatos terus semua itu di campur di aduk pakai tangan baru dimakan enak banget \n",
      "\n",
      "\n",
      "1/1 [==============================] - 0s 39ms/step\n"
     ]
    },
    {
     "name": "stderr",
     "output_type": "stream",
     "text": [
      "[Succeeded / Failed / Skipped / Total] 64 / 90 / 50 / 204:  41%|████      | 204/500 [06:30<09:26,  1.91s/it]"
     ]
    },
    {
     "name": "stdout",
     "output_type": "stream",
     "text": [
      "--------------------------------------------- Result 204 ---------------------------------------------\n",
      "[[0 (38%)]] --> [[[SKIPPED]]]\n",
      "\n",
      "sudah lama tidak minum ultra milk rasa stroberi pas sekarang minum merasa enak sekali tidak tahu kenapa ketagihan rasanya ingin beli sekardus gede buat diminum sendiri \n",
      "\n",
      "\n",
      "1/1 [==============================] - 0s 46ms/step\n",
      "1/1 [==============================] - 0s 52ms/step\n",
      "1/1 [==============================] - 0s 47ms/step\n",
      "1/1 [==============================] - 0s 51ms/step\n",
      "1/1 [==============================] - 0s 48ms/step\n",
      "1/1 [==============================] - 0s 46ms/step\n",
      "1/1 [==============================] - 0s 48ms/step\n",
      "1/1 [==============================] - 0s 49ms/step\n",
      "1/1 [==============================] - 0s 48ms/step\n",
      "1/1 [==============================] - 0s 48ms/step\n"
     ]
    },
    {
     "name": "stderr",
     "output_type": "stream",
     "text": [
      "[Succeeded / Failed / Skipped / Total] 65 / 90 / 50 / 205:  41%|████      | 205/500 [06:30<09:22,  1.91s/it]"
     ]
    },
    {
     "name": "stdout",
     "output_type": "stream",
     "text": [
      "--------------------------------------------- Result 205 ---------------------------------------------\n",
      "[[2 (35%)]] --> [[0 (34%)]]\n",
      "\n",
      "go jek makin sini makin [[keren]] deh [[semoga]] makin baik ya dalam [[pelayanan]] dan aplikasi nya ya go car go jek dan go go lainnya chiiiiirrs \n",
      "\n",
      "go jek makin sini makin [[gembira]] deh [[sungguh]] makin baik ya dalam [[bakti]] dan aplikasi nya ya go car go jek dan go go lainnya chiiiiirrs \n",
      "\n",
      "\n",
      "1/1 [==============================] - 0s 55ms/step\n"
     ]
    },
    {
     "name": "stderr",
     "output_type": "stream",
     "text": [
      "[Succeeded / Failed / Skipped / Total] 65 / 90 / 51 / 206:  41%|████      | 206/500 [06:31<09:18,  1.90s/it]"
     ]
    },
    {
     "name": "stdout",
     "output_type": "stream",
     "text": [
      "--------------------------------------------- Result 206 ---------------------------------------------\n",
      "[[0 (40%)]] --> [[[SKIPPED]]]\n",
      "\n",
      "go jek kalian harus tetap ada karena kami bukan sekadar butuh angkutan kami juga butuh pelayanan yang prima seperti biasanya saya sangat mendukung kalian \n",
      "\n",
      "\n",
      "1/1 [==============================] - 0s 44ms/step\n"
     ]
    },
    {
     "name": "stderr",
     "output_type": "stream",
     "text": [
      "[Succeeded / Failed / Skipped / Total] 65 / 90 / 52 / 207:  41%|████▏     | 207/500 [06:31<09:13,  1.89s/it]"
     ]
    },
    {
     "name": "stdout",
     "output_type": "stream",
     "text": [
      "--------------------------------------------- Result 207 ---------------------------------------------\n",
      "[[0 (36%)]] --> [[[SKIPPED]]]\n",
      "\n",
      "saya senang di bali bagus pelayanan go jek nya sangat terbantu dengan keberadaan nya memang harus ada terus supaya pelayanan nya semakin memuaskan \n",
      "\n",
      "\n",
      "1/1 [==============================] - 0s 49ms/step\n"
     ]
    },
    {
     "name": "stderr",
     "output_type": "stream",
     "text": [
      "[Succeeded / Failed / Skipped / Total] 65 / 90 / 53 / 208:  42%|████▏     | 208/500 [06:31<09:09,  1.88s/it]"
     ]
    },
    {
     "name": "stdout",
     "output_type": "stream",
     "text": [
      "--------------------------------------------- Result 208 ---------------------------------------------\n",
      "[[0 (34%)]] --> [[[SKIPPED]]]\n",
      "\n",
      "kalau driver go jek tidak pelayanan prima meminta bungkus acar untuk mengambil saos tambahan hilang nafsu makan saya bravo driver go jek \n",
      "\n",
      "\n",
      "1/1 [==============================] - 0s 39ms/step\n"
     ]
    },
    {
     "name": "stderr",
     "output_type": "stream",
     "text": [
      "[Succeeded / Failed / Skipped / Total] 65 / 90 / 54 / 209:  42%|████▏     | 209/500 [06:31<09:04,  1.87s/it]"
     ]
    },
    {
     "name": "stdout",
     "output_type": "stream",
     "text": [
      "--------------------------------------------- Result 209 ---------------------------------------------\n",
      "[[0 (37%)]] --> [[[SKIPPED]]]\n",
      "\n",
      "banyak alasan saya bisa merasa puas dengan pelayanan go jek go jek tidak pernah lepas dari tanggung jawab itu adalah nilai plus yang belum tentu dimiliki oleh perusahaan yang lain \n",
      "\n",
      "\n",
      "1/1 [==============================] - 0s 45ms/step\n",
      "1/1 [==============================] - 0s 51ms/step\n",
      "1/1 [==============================] - 0s 48ms/step\n",
      "1/1 [==============================] - 0s 53ms/step\n",
      "1/1 [==============================] - 0s 49ms/step\n",
      "1/1 [==============================] - 0s 47ms/step\n",
      "1/1 [==============================] - 0s 46ms/step\n",
      "1/1 [==============================] - 0s 51ms/step\n",
      "1/1 [==============================] - 0s 54ms/step\n",
      "1/1 [==============================] - 0s 75ms/step\n",
      "1/1 [==============================] - 0s 68ms/step\n",
      "1/1 [==============================] - 0s 54ms/step\n",
      "1/1 [==============================] - 0s 50ms/step\n",
      "1/1 [==============================] - 0s 50ms/step\n",
      "1/1 [==============================] - 0s 62ms/step\n",
      "1/1 [==============================] - 0s 50ms/step\n"
     ]
    },
    {
     "name": "stderr",
     "output_type": "stream",
     "text": [
      "[Succeeded / Failed / Skipped / Total] 66 / 90 / 54 / 210:  42%|████▏     | 210/500 [06:32<09:02,  1.87s/it]"
     ]
    },
    {
     "name": "stdout",
     "output_type": "stream",
     "text": [
      "--------------------------------------------- Result 210 ---------------------------------------------\n",
      "[[2 (38%)]] --> [[0 (36%)]]\n",
      "\n",
      "go jek selalu jadi inspirasi untuk perusahaan perusahaan di indonesia pelayanan nya bravo selalu berkembang setiap waktu dan memberi [[kemudahan]] bagi [[pelanggan]] \n",
      "\n",
      "go jek selalu jadi inspirasi untuk perusahaan perusahaan di indonesia pelayanan nya bravo selalu berkembang setiap waktu dan memberi [[mewah]] bagi [[nasabah]] \n",
      "\n",
      "\n",
      "1/1 [==============================] - 0s 39ms/step\n"
     ]
    },
    {
     "name": "stderr",
     "output_type": "stream",
     "text": [
      "[Succeeded / Failed / Skipped / Total] 66 / 90 / 55 / 211:  42%|████▏     | 211/500 [06:33<08:58,  1.86s/it]"
     ]
    },
    {
     "name": "stdout",
     "output_type": "stream",
     "text": [
      "--------------------------------------------- Result 211 ---------------------------------------------\n",
      "[[0 (35%)]] --> [[[SKIPPED]]]\n",
      "\n",
      "suka sama hotel ibis dia selalu bikin inovasi buat menjaga kenyamanan pelanggan selalu konsisten juga memberi pelayanan yang terbaik untuk tamu \n",
      "\n",
      "\n",
      "1/1 [==============================] - 0s 50ms/step\n"
     ]
    },
    {
     "name": "stderr",
     "output_type": "stream",
     "text": [
      "[Succeeded / Failed / Skipped / Total] 66 / 90 / 56 / 212:  42%|████▏     | 212/500 [06:33<08:54,  1.85s/it]"
     ]
    },
    {
     "name": "stdout",
     "output_type": "stream",
     "text": [
      "--------------------------------------------- Result 212 ---------------------------------------------\n",
      "[[0 (36%)]] --> [[[SKIPPED]]]\n",
      "\n",
      "kepada yang terhormat ibu dari ayi djembarsari selamat menunaikan tugas bu sebagai dirut rshs semoga pelayanan rshs semakin baik saya bangga kepada ibu \n",
      "\n",
      "\n",
      "1/1 [==============================] - 0s 38ms/step\n"
     ]
    },
    {
     "name": "stderr",
     "output_type": "stream",
     "text": [
      "[Succeeded / Failed / Skipped / Total] 66 / 90 / 57 / 213:  43%|████▎     | 213/500 [06:33<08:49,  1.85s/it]"
     ]
    },
    {
     "name": "stdout",
     "output_type": "stream",
     "text": [
      "--------------------------------------------- Result 213 ---------------------------------------------\n",
      "[[1 (34%)]] --> [[[SKIPPED]]]\n",
      "\n",
      "terima kasih atas saran yang kamu berikan kak kami akan selalu berusaha untuk meningkatkan pelayanan kami untuk pengalaman belanja yang lebih menyenangkan ya \n",
      "\n",
      "\n",
      "1/1 [==============================] - 0s 37ms/step\n",
      "--------------------------------------------- Result 214 ---------------------------------------------\n",
      "[[1 (34%)]] --> [[[SKIPPED]]]\n",
      "\n",
      "hai kak terima kasih atas masukan kamu ya saran kamu sangat berharga bagi kami kami akan berupaya meningkatkan performa aplikasi dan pelayanan kami untuk pengalaman jual beli yang selalu menyenangkan untuk kamu dan semua sobat shopee ya kak \n",
      "\n",
      "\n"
     ]
    },
    {
     "name": "stderr",
     "output_type": "stream",
     "text": [
      "[Succeeded / Failed / Skipped / Total] 66 / 90 / 58 / 214:  43%|████▎     | 214/500 [06:33<08:45,  1.84s/it]"
     ]
    },
    {
     "name": "stdout",
     "output_type": "stream",
     "text": [
      "1/1 [==============================] - 0s 64ms/step\n"
     ]
    },
    {
     "name": "stderr",
     "output_type": "stream",
     "text": [
      "[Succeeded / Failed / Skipped / Total] 66 / 90 / 59 / 215:  43%|████▎     | 215/500 [06:33<08:41,  1.83s/it]"
     ]
    },
    {
     "name": "stdout",
     "output_type": "stream",
     "text": [
      "--------------------------------------------- Result 215 ---------------------------------------------\n",
      "[[0 (36%)]] --> [[[SKIPPED]]]\n",
      "\n",
      "keleveru terbaik memang dari kualitas kuantitas pelayanan pun terbaik tidak salah pilih aku \n",
      "\n",
      "\n",
      "1/1 [==============================] - 0s 45ms/step\n",
      "1/1 [==============================] - 0s 50ms/step\n",
      "1/1 [==============================] - 0s 55ms/step\n",
      "1/1 [==============================] - 0s 50ms/step\n",
      "1/1 [==============================] - 0s 50ms/step\n",
      "1/1 [==============================] - 0s 51ms/step\n",
      "1/1 [==============================] - 0s 45ms/step\n",
      "1/1 [==============================] - 0s 46ms/step\n",
      "1/1 [==============================] - 0s 52ms/step\n",
      "1/1 [==============================] - 0s 56ms/step\n",
      "1/1 [==============================] - 0s 54ms/step\n",
      "1/1 [==============================] - 0s 52ms/step\n",
      "1/1 [==============================] - 0s 48ms/step\n",
      "--------------------------------------------- Result 216 ---------------------------------------------\n"
     ]
    },
    {
     "name": "stderr",
     "output_type": "stream",
     "text": [
      "[Succeeded / Failed / Skipped / Total] 67 / 90 / 59 / 216:  43%|████▎     | 216/500 [06:34<08:38,  1.83s/it]"
     ]
    },
    {
     "name": "stdout",
     "output_type": "stream",
     "text": [
      "[[2 (37%)]] --> [[0 (38%)]]\n",
      "\n",
      "cocok banget gue pakai shope sudah mana ongkos kirim gratis pengiriman juga aman dan [[lancar]] \n",
      "\n",
      "cocok banget gue pakai shope sudah mana ongkos kirim gratis pengiriman juga aman dan [[jelas]] \n",
      "\n",
      "\n",
      "1/1 [==============================] - 0s 44ms/step\n"
     ]
    },
    {
     "name": "stderr",
     "output_type": "stream",
     "text": [
      "[Succeeded / Failed / Skipped / Total] 67 / 90 / 60 / 217:  43%|████▎     | 217/500 [06:34<08:34,  1.82s/it]"
     ]
    },
    {
     "name": "stdout",
     "output_type": "stream",
     "text": [
      "--------------------------------------------- Result 217 ---------------------------------------------\n",
      "[[0 (39%)]] --> [[[SKIPPED]]]\n",
      "\n",
      "alhamdulillah selama beli di lazada tidak pernah bermasalah barang barang nya lebih lucu lucu pelayanan juga lebih baik dari yang lain sudah deh kalau beli apa apa aku mau beli di lazada saja \n",
      "\n",
      "\n",
      "1/1 [==============================] - 0s 47ms/step\n"
     ]
    },
    {
     "name": "stderr",
     "output_type": "stream",
     "text": [
      "[Succeeded / Failed / Skipped / Total] 67 / 90 / 61 / 218:  44%|████▎     | 218/500 [06:34<08:30,  1.81s/it]"
     ]
    },
    {
     "name": "stdout",
     "output_type": "stream",
     "text": [
      "--------------------------------------------- Result 218 ---------------------------------------------\n",
      "[[0 (37%)]] --> [[[SKIPPED]]]\n",
      "\n",
      "karena shopee bukan barang shope dia itu tempat belanjaan aku yang paling luar biasa pelayanan nya oke punya disko nya banjir \n",
      "\n",
      "\n",
      "1/1 [==============================] - 0s 51ms/step\n"
     ]
    },
    {
     "name": "stderr",
     "output_type": "stream",
     "text": [
      "[Succeeded / Failed / Skipped / Total] 67 / 90 / 62 / 219:  44%|████▍     | 219/500 [06:34<08:26,  1.80s/it]"
     ]
    },
    {
     "name": "stdout",
     "output_type": "stream",
     "text": [
      "--------------------------------------------- Result 219 ---------------------------------------------\n",
      "[[0 (42%)]] --> [[[SKIPPED]]]\n",
      "\n",
      "harus belanja di shopee karena shopee itu memberikan bukti pelayanan yang baik bukan sekadar janji doang seperti mantan itu\n",
      "\n",
      "\n",
      "1/1 [==============================] - 0s 37ms/step\n"
     ]
    },
    {
     "name": "stderr",
     "output_type": "stream",
     "text": [
      "[Succeeded / Failed / Skipped / Total] 67 / 90 / 63 / 220:  44%|████▍     | 220/500 [06:35<08:22,  1.80s/it]"
     ]
    },
    {
     "name": "stdout",
     "output_type": "stream",
     "text": [
      "--------------------------------------------- Result 220 ---------------------------------------------\n",
      "[[0 (35%)]] --> [[[SKIPPED]]]\n",
      "\n",
      "harus belanja di shopee karena pelayanan dari shope itu benar benar memuaskan pelanggan dan takkan mengecewakan \n",
      "\n",
      "\n",
      "1/1 [==============================] - 0s 42ms/step\n",
      "1/1 [==============================] - 0s 52ms/step\n",
      "1/1 [==============================] - 0s 46ms/step\n",
      "1/1 [==============================] - 0s 54ms/step\n",
      "1/1 [==============================] - 0s 46ms/step\n",
      "1/1 [==============================] - 0s 50ms/step\n",
      "1/1 [==============================] - 0s 48ms/step\n",
      "1/1 [==============================] - 0s 51ms/step\n"
     ]
    },
    {
     "name": "stderr",
     "output_type": "stream",
     "text": [
      "[Succeeded / Failed / Skipped / Total] 68 / 90 / 63 / 221:  44%|████▍     | 221/500 [06:35<08:19,  1.79s/it]"
     ]
    },
    {
     "name": "stdout",
     "output_type": "stream",
     "text": [
      "--------------------------------------------- Result 221 ---------------------------------------------\n",
      "[[2 (44%)]] --> [[0 (35%)]]\n",
      "\n",
      "karena hanya shope yang pelayanan nya memuaskan diskon besar besaran [[barang]] nya juga pasti nya bermerek [[mantap]] \n",
      "\n",
      "karena hanya shope yang pelayanan nya memuaskan diskon besar besaran [[bobot]] nya juga pasti nya bermerek [[utuh]] \n",
      "\n",
      "\n",
      "1/1 [==============================] - 0s 51ms/step\n",
      "1/1 [==============================] - 0s 64ms/step\n",
      "1/1 [==============================] - 0s 53ms/step\n",
      "1/1 [==============================] - 0s 53ms/step\n",
      "1/1 [==============================] - 0s 52ms/step\n",
      "1/1 [==============================] - 0s 48ms/step\n",
      "1/1 [==============================] - 0s 46ms/step\n",
      "1/1 [==============================] - 0s 48ms/step\n",
      "1/1 [==============================] - 0s 51ms/step\n",
      "1/1 [==============================] - 0s 46ms/step\n",
      "1/1 [==============================] - 0s 48ms/step\n",
      "1/1 [==============================] - 0s 57ms/step\n",
      "1/1 [==============================] - 0s 53ms/step\n",
      "1/1 [==============================] - 0s 50ms/step\n",
      "--------------------------------------------- Result 222 ---------------------------------------------\n",
      "[[2 (39%)]] --> [[0 (35%)]]\n",
      "\n",
      "shopee tidak pernah [[mengecewakan]] pelanggan selalu memberikan yang terbaik dalam pelayanan [[pokok]] nya shopee selalu memberikan [[pelayanan]] dengan baik \n",
      "\n",
      "shopee tidak pernah [[hambar]] pelanggan selalu memberikan yang terbaik dalam pelayanan [[inti]] nya shopee selalu memberikan [[bakti]] dengan baik \n",
      "\n",
      "\n"
     ]
    },
    {
     "name": "stderr",
     "output_type": "stream",
     "text": [
      "[Succeeded / Failed / Skipped / Total] 69 / 90 / 63 / 222:  44%|████▍     | 222/500 [06:37<08:17,  1.79s/it]"
     ]
    },
    {
     "name": "stdout",
     "output_type": "stream",
     "text": [
      "1/1 [==============================] - 0s 49ms/step\n",
      "1/1 [==============================] - 0s 56ms/step\n",
      "1/1 [==============================] - 0s 57ms/step\n",
      "1/1 [==============================] - 0s 46ms/step\n",
      "1/1 [==============================] - 0s 48ms/step\n",
      "1/1 [==============================] - 0s 58ms/step\n",
      "1/1 [==============================] - 0s 54ms/step\n",
      "1/1 [==============================] - 0s 51ms/step\n",
      "1/1 [==============================] - 0s 66ms/step\n",
      "1/1 [==============================] - 0s 56ms/step\n",
      "1/1 [==============================] - 0s 55ms/step\n",
      "1/1 [==============================] - 0s 51ms/step\n",
      "1/1 [==============================] - 0s 53ms/step\n",
      "1/1 [==============================] - 0s 54ms/step\n",
      "1/1 [==============================] - 0s 52ms/step\n",
      "1/1 [==============================] - 0s 61ms/step\n",
      "1/1 [==============================] - 0s 53ms/step\n",
      "1/1 [==============================] - 0s 48ms/step\n",
      "1/1 [==============================] - 0s 47ms/step\n",
      "1/1 [==============================] - 0s 47ms/step\n",
      "1/1 [==============================] - 0s 65ms/step\n",
      "1/1 [==============================] - 0s 57ms/step\n",
      "1/1 [==============================] - 0s 50ms/step\n",
      "1/1 [==============================] - 0s 53ms/step\n",
      "1/1 [==============================] - 0s 53ms/step\n",
      "1/1 [==============================] - 0s 47ms/step\n"
     ]
    },
    {
     "name": "stderr",
     "output_type": "stream",
     "text": [
      "[Succeeded / Failed / Skipped / Total] 70 / 90 / 63 / 223:  45%|████▍     | 223/500 [06:39<08:16,  1.79s/it]"
     ]
    },
    {
     "name": "stdout",
     "output_type": "stream",
     "text": [
      "--------------------------------------------- Result 223 ---------------------------------------------\n",
      "[[2 (39%)]] --> [[0 (38%)]]\n",
      "\n",
      "shopee itu pusat pembelanjaan online terpercaya dengan pelayanan yang memuaskan yang paling menarik adalah pemberian diskon yang besar besaran aku suka aku [[suka]] \n",
      "\n",
      "shopee itu pusat pembelanjaan online terpercaya dengan pelayanan yang memuaskan yang paling menarik adalah pemberian diskon yang besar besaran aku suka aku [[harap]] \n",
      "\n",
      "\n",
      "1/1 [==============================] - 0s 34ms/step\n"
     ]
    },
    {
     "name": "stderr",
     "output_type": "stream",
     "text": [
      "[Succeeded / Failed / Skipped / Total] 70 / 90 / 64 / 224:  45%|████▍     | 224/500 [06:39<08:12,  1.78s/it]"
     ]
    },
    {
     "name": "stdout",
     "output_type": "stream",
     "text": [
      "--------------------------------------------- Result 224 ---------------------------------------------\n",
      "[[0 (35%)]] --> [[[SKIPPED]]]\n",
      "\n",
      "kalau ada permasalahan di toko pedia bisa langsung terselesaikan dengan mudah dan cepat pelayanan nya juga jelas pusat panggilan yang harus dihubungi juga selalu aktif memuaskan \n",
      "\n",
      "\n",
      "1/1 [==============================] - 0s 48ms/step\n",
      "1/1 [==============================] - 0s 52ms/step\n",
      "1/1 [==============================] - 0s 53ms/step\n",
      "1/1 [==============================] - 0s 48ms/step\n",
      "1/1 [==============================] - 0s 46ms/step\n",
      "1/1 [==============================] - 0s 56ms/step\n",
      "1/1 [==============================] - 0s 53ms/step\n",
      "1/1 [==============================] - 0s 49ms/step\n",
      "1/1 [==============================] - 0s 47ms/step\n",
      "1/1 [==============================] - 0s 48ms/step\n",
      "1/1 [==============================] - 0s 45ms/step\n",
      "1/1 [==============================] - 0s 48ms/step\n",
      "1/1 [==============================] - 0s 54ms/step\n",
      "1/1 [==============================] - 0s 49ms/step\n"
     ]
    },
    {
     "name": "stderr",
     "output_type": "stream",
     "text": [
      "[Succeeded / Failed / Skipped / Total] 71 / 90 / 64 / 225:  45%|████▌     | 225/500 [06:41<08:10,  1.78s/it]"
     ]
    },
    {
     "name": "stdout",
     "output_type": "stream",
     "text": [
      "--------------------------------------------- Result 225 ---------------------------------------------\n",
      "[[2 (37%)]] --> [[0 (37%)]]\n",
      "\n",
      "marketplace pilihan gue ya tokopedia lah toko pedia itu selalu [[berusaha]] memberi pelayanan terbaik buat semua pengguna nya kalau ada keluhan juga pasti [[langsung]] ditanggapi salut \n",
      "\n",
      "marketplace pilihan gue ya tokopedia lah toko pedia itu selalu [[tiba]] memberi pelayanan terbaik buat semua pengguna nya kalau ada keluhan juga pasti [[betul-betul]] ditanggapi salut \n",
      "\n",
      "\n",
      "1/1 [==============================] - 0s 65ms/step\n"
     ]
    },
    {
     "name": "stderr",
     "output_type": "stream",
     "text": [
      "[Succeeded / Failed / Skipped / Total] 71 / 90 / 65 / 226:  45%|████▌     | 226/500 [06:41<08:06,  1.77s/it]"
     ]
    },
    {
     "name": "stdout",
     "output_type": "stream",
     "text": [
      "--------------------------------------------- Result 226 ---------------------------------------------\n",
      "[[0 (38%)]] --> [[[SKIPPED]]]\n",
      "\n",
      "senang sekali gue dengan pelayanan komplain di di saat penjual tidak menggubris tokopedia memberikan solusi dengan cepat pasti nya dengan investigasi yang tidak berlarut larut ya walau harus berakhir dengan pengembalian dana dana jadi gue tidak pernah bosan buat belanja di tokopedia \n",
      "\n",
      "\n",
      "1/1 [==============================] - 0s 37ms/step\n"
     ]
    },
    {
     "name": "stderr",
     "output_type": "stream",
     "text": [
      "[Succeeded / Failed / Skipped / Total] 71 / 90 / 66 / 227:  45%|████▌     | 227/500 [06:41<08:02,  1.77s/it]"
     ]
    },
    {
     "name": "stdout",
     "output_type": "stream",
     "text": [
      "--------------------------------------------- Result 227 ---------------------------------------------\n",
      "[[0 (38%)]] --> [[[SKIPPED]]]\n",
      "\n",
      "terima kasih atas tanggapan dari keluhan yang saya alami mengenai hilang nya kuota data saya terima kasih xl karena sudah betul betul menanggapi dan memberikan solusi yang sangat memuaskan atas keluhan keluhan saya saya jadi merasa sangat terbantu\n",
      "\n",
      "\n",
      "1/1 [==============================] - 0s 43ms/step\n"
     ]
    },
    {
     "name": "stderr",
     "output_type": "stream",
     "text": [
      "[Succeeded / Failed / Skipped / Total] 71 / 90 / 67 / 228:  46%|████▌     | 228/500 [06:41<07:58,  1.76s/it]"
     ]
    },
    {
     "name": "stdout",
     "output_type": "stream",
     "text": [
      "--------------------------------------------- Result 228 ---------------------------------------------\n",
      "[[0 (39%)]] --> [[[SKIPPED]]]\n",
      "\n",
      "kemarin itu pertama kalinya mencoba fatmilo yang white milo demi apa pun itu enak banget sih ampun aku itu tidak bisa berkata berkata lagi enak banget selera gue bangetlah \n",
      "\n",
      "\n",
      "1/1 [==============================] - 0s 49ms/step\n",
      "1/1 [==============================] - 0s 49ms/step\n",
      "1/1 [==============================] - 0s 53ms/step\n",
      "1/1 [==============================] - 0s 51ms/step\n",
      "1/1 [==============================] - 0s 48ms/step\n",
      "1/1 [==============================] - 0s 47ms/step\n",
      "1/1 [==============================] - 0s 47ms/step\n",
      "1/1 [==============================] - 0s 51ms/step\n",
      "1/1 [==============================] - 0s 34ms/step\n",
      "1/1 [==============================] - 0s 42ms/step\n",
      "1/1 [==============================] - 0s 63ms/step\n",
      "1/1 [==============================] - 0s 54ms/step\n",
      "1/1 [==============================] - 0s 45ms/step\n",
      "1/1 [==============================] - 0s 45ms/step\n",
      "1/1 [==============================] - 0s 54ms/step\n",
      "1/1 [==============================] - 0s 50ms/step\n",
      "1/1 [==============================] - 0s 38ms/step\n",
      "1/1 [==============================] - 0s 49ms/step\n",
      "1/1 [==============================] - 0s 45ms/step\n",
      "1/1 [==============================] - 0s 42ms/step\n",
      "1/1 [==============================] - 0s 51ms/step\n",
      "1/1 [==============================] - 0s 45ms/step\n",
      "1/1 [==============================] - 0s 35ms/step\n",
      "1/1 [==============================] - 0s 56ms/step\n",
      "1/1 [==============================] - 0s 58ms/step\n",
      "1/1 [==============================] - 0s 59ms/step\n",
      "1/1 [==============================] - 0s 56ms/step\n",
      "1/1 [==============================] - 0s 44ms/step\n",
      "1/1 [==============================] - 0s 35ms/step\n"
     ]
    },
    {
     "name": "stderr",
     "output_type": "stream",
     "text": [
      "[Succeeded / Failed / Skipped / Total] 72 / 90 / 67 / 229:  46%|████▌     | 229/500 [06:43<07:58,  1.76s/it]"
     ]
    },
    {
     "name": "stdout",
     "output_type": "stream",
     "text": [
      "--------------------------------------------- Result 229 ---------------------------------------------\n",
      "[[2 (36%)]] --> [[0 (34%)]]\n",
      "\n",
      "satu hal yang gue [[suka]] banget dari masjid agung sunda [[kelapa]] adalah surga jajanan kaki lima di luar masjid [[nasi]] [[gila]] sate [[ayam]] soto mi tempe mendoan es buah thai tea sampai es [[kepal]] milo ada di sini \n",
      "\n",
      "satu hal yang gue [[harap]] banget dari masjid agung sunda [[nyiur]] adalah surga jajanan kaki lima di luar masjid [[padi]] [[bodoh]] sate [[burung]] soto mi tempe mendoan es buah thai tea sampai es [[genggam]] milo ada di sini \n",
      "\n",
      "\n",
      "1/1 [==============================] - 0s 52ms/step\n"
     ]
    },
    {
     "name": "stderr",
     "output_type": "stream",
     "text": [
      "[Succeeded / Failed / Skipped / Total] 72 / 90 / 68 / 230:  46%|████▌     | 230/500 [06:44<07:54,  1.76s/it]"
     ]
    },
    {
     "name": "stdout",
     "output_type": "stream",
     "text": [
      "--------------------------------------------- Result 230 ---------------------------------------------\n",
      "[[0 (37%)]] --> [[[SKIPPED]]]\n",
      "\n",
      "ada yang suka makanin milo bubuk langsung dari saset nya tidak iya sama memang enak banget gimana gitu sih rasanya gue bisa setelah lima bungkus sendiri \n",
      "\n",
      "\n",
      "1/1 [==============================] - 0s 38ms/step\n",
      "1/1 [==============================] - 0s 50ms/step\n",
      "1/1 [==============================] - 0s 54ms/step\n",
      "1/1 [==============================] - 0s 49ms/step\n",
      "1/1 [==============================] - 0s 52ms/step\n",
      "1/1 [==============================] - 0s 44ms/step\n",
      "1/1 [==============================] - 0s 36ms/step\n",
      "1/1 [==============================] - 0s 50ms/step\n",
      "1/1 [==============================] - 0s 52ms/step\n",
      "1/1 [==============================] - 0s 45ms/step\n",
      "1/1 [==============================] - 0s 59ms/step\n",
      "1/1 [==============================] - 0s 46ms/step\n",
      "1/1 [==============================] - 0s 48ms/step\n"
     ]
    },
    {
     "name": "stderr",
     "output_type": "stream",
     "text": [
      "[Succeeded / Failed / Skipped / Total] 72 / 90 / 68 / 230:  46%|████▌     | 231/500 [06:45<07:51,  1.75s/it]"
     ]
    },
    {
     "name": "stdout",
     "output_type": "stream",
     "text": [
      "--------------------------------------------- Result 231 ---------------------------------------------\n",
      "[[2 (42%)]] --> [[0 (34%)]]\n",
      "\n",
      "terima kasih kembali oh iya garuda dan traveloka cepat respons mantap dan [[keren]] \n",
      "\n",
      "terima kasih kembali oh iya garuda dan traveloka cepat respons mantap dan [[gembira]] \n",
      "\n",
      "\n"
     ]
    },
    {
     "name": "stderr",
     "output_type": "stream",
     "text": [
      "[Succeeded / Failed / Skipped / Total] 73 / 90 / 68 / 231:  46%|████▌     | 231/500 [06:45<07:51,  1.75s/it]"
     ]
    },
    {
     "name": "stdout",
     "output_type": "stream",
     "text": [
      "1/1 [==============================] - 0s 59ms/step\n",
      "1/1 [==============================] - 0s 50ms/step\n",
      "1/1 [==============================] - 0s 45ms/step\n",
      "1/1 [==============================] - 0s 46ms/step\n",
      "1/1 [==============================] - 0s 46ms/step\n",
      "1/1 [==============================] - 0s 35ms/step\n",
      "1/1 [==============================] - 0s 45ms/step\n",
      "1/1 [==============================] - 0s 45ms/step\n",
      "1/1 [==============================] - 0s 51ms/step\n",
      "1/1 [==============================] - 0s 49ms/step\n",
      "--------------------------------------------- Result 232 ---------------------------------------------\n"
     ]
    },
    {
     "name": "stderr",
     "output_type": "stream",
     "text": [
      "[Succeeded / Failed / Skipped / Total] 74 / 90 / 68 / 232:  46%|████▋     | 232/500 [06:46<07:49,  1.75s/it]"
     ]
    },
    {
     "name": "stdout",
     "output_type": "stream",
     "text": [
      "[[2 (35%)]] --> [[0 (37%)]]\n",
      "\n",
      "mantap banget ikut kontribusi di google local guides kemarin dapat voucher diskon traveloka terus ini dapat tokocash tokopedia lagi aku [[senang]] \n",
      "\n",
      "mantap banget ikut kontribusi di google local guides kemarin dapat voucher diskon traveloka terus ini dapat tokocash tokopedia lagi aku [[kaya]] \n",
      "\n",
      "\n",
      "1/1 [==============================] - 0s 49ms/step\n",
      "1/1 [==============================] - 0s 50ms/step\n",
      "1/1 [==============================] - 0s 49ms/step\n",
      "1/1 [==============================] - 0s 37ms/step\n",
      "1/1 [==============================] - 0s 60ms/step\n",
      "1/1 [==============================] - 0s 51ms/step\n",
      "1/1 [==============================] - 0s 45ms/step\n",
      "1/1 [==============================] - 0s 45ms/step\n",
      "1/1 [==============================] - 0s 47ms/step\n"
     ]
    },
    {
     "name": "stderr",
     "output_type": "stream",
     "text": [
      "[Succeeded / Failed / Skipped / Total] 74 / 90 / 68 / 232:  47%|████▋     | 233/500 [06:46<07:46,  1.75s/it]"
     ]
    },
    {
     "name": "stdout",
     "output_type": "stream",
     "text": [
      "--------------------------------------------- Result 233 ---------------------------------------------\n",
      "[[2 (38%)]] --> [[1 (35%)]]\n",
      "\n",
      "wuih ada yang baru di aplikasi nih sekarang bisa pesan tiket bus [[mantap]] \n",
      "\n",
      "wuih ada yang baru di aplikasi nih sekarang bisa pesan tiket bus [[stabil]] \n",
      "\n",
      "\n"
     ]
    },
    {
     "name": "stderr",
     "output_type": "stream",
     "text": [
      "[Succeeded / Failed / Skipped / Total] 75 / 90 / 68 / 233:  47%|████▋     | 233/500 [06:46<07:46,  1.75s/it]"
     ]
    },
    {
     "name": "stdout",
     "output_type": "stream",
     "text": [
      "1/1 [==============================] - 0s 72ms/step\n",
      "1/1 [==============================] - 0s 59ms/step\n",
      "1/1 [==============================] - 0s 50ms/step\n",
      "1/1 [==============================] - 0s 46ms/step\n",
      "1/1 [==============================] - 0s 55ms/step\n",
      "1/1 [==============================] - 0s 44ms/step\n",
      "1/1 [==============================] - 0s 52ms/step\n",
      "1/1 [==============================] - 0s 52ms/step\n",
      "1/1 [==============================] - 0s 56ms/step\n",
      "1/1 [==============================] - 0s 58ms/step\n",
      "1/1 [==============================] - 0s 53ms/step\n",
      "1/1 [==============================] - 0s 53ms/step\n",
      "1/1 [==============================] - 0s 56ms/step\n",
      "1/1 [==============================] - 0s 56ms/step\n",
      "1/1 [==============================] - 0s 53ms/step\n",
      "1/1 [==============================] - 0s 55ms/step\n",
      "1/1 [==============================] - 0s 58ms/step\n",
      "1/1 [==============================] - 0s 59ms/step\n",
      "1/1 [==============================] - 0s 46ms/step\n",
      "1/1 [==============================] - 0s 62ms/step\n",
      "1/1 [==============================] - 0s 47ms/step\n",
      "1/1 [==============================] - 0s 57ms/step\n"
     ]
    },
    {
     "name": "stderr",
     "output_type": "stream",
     "text": [
      "[Succeeded / Failed / Skipped / Total] 76 / 90 / 68 / 234:  47%|████▋     | 234/500 [06:49<07:45,  1.75s/it]"
     ]
    },
    {
     "name": "stdout",
     "output_type": "stream",
     "text": [
      "--------------------------------------------- Result 234 ---------------------------------------------\n",
      "[[2 (38%)]] --> [[0 (35%)]]\n",
      "\n",
      "barusan memesan pesawat via traveloka seperti biasanya kadang pakai kadang booking com kadang agoda mana yang paling asyik aja hidup jadi lebih mudah [[mantap]] traveloka \n",
      "\n",
      "barusan memesan pesawat via traveloka seperti biasanya kadang pakai kadang booking com kadang agoda mana yang paling asyik aja hidup jadi lebih mudah [[stabil]] traveloka \n",
      "\n",
      "\n",
      "1/1 [==============================] - 0s 36ms/step\n"
     ]
    },
    {
     "name": "stderr",
     "output_type": "stream",
     "text": [
      "[Succeeded / Failed / Skipped / Total] 76 / 90 / 69 / 235:  47%|████▋     | 235/500 [06:49<07:41,  1.74s/it]"
     ]
    },
    {
     "name": "stdout",
     "output_type": "stream",
     "text": [
      "--------------------------------------------- Result 235 ---------------------------------------------\n",
      "[[0 (36%)]] --> [[[SKIPPED]]]\n",
      "\n",
      "terima kasih pelayanan mantap nih pengembalian dana cair kurang dari jam rekomendasi banget traveloka \n",
      "\n",
      "\n",
      "1/1 [==============================] - 0s 34ms/step\n",
      "--------------------------------------------- Result 236 ---------------------------------------------\n",
      "[[0 (36%)]] --> [[[SKIPPED]]]\n",
      "\n",
      "mantap terima kasih atas proses pengembalian dana yang cepat waktu maksimal hari tapi baru satu hari sudah ditransfer thumbsup\n",
      "\n",
      "\n"
     ]
    },
    {
     "name": "stderr",
     "output_type": "stream",
     "text": [
      "[Succeeded / Failed / Skipped / Total] 76 / 90 / 70 / 236:  47%|████▋     | 236/500 [06:49<07:37,  1.73s/it]"
     ]
    },
    {
     "name": "stdout",
     "output_type": "stream",
     "text": [
      "1/1 [==============================] - 0s 40ms/step\n",
      "1/1 [==============================] - 0s 46ms/step\n",
      "1/1 [==============================] - 0s 52ms/step\n",
      "1/1 [==============================] - 0s 44ms/step\n",
      "1/1 [==============================] - 0s 45ms/step\n",
      "1/1 [==============================] - 0s 51ms/step\n",
      "1/1 [==============================] - 0s 43ms/step\n",
      "1/1 [==============================] - 0s 43ms/step\n",
      "1/1 [==============================] - 0s 46ms/step\n",
      "1/1 [==============================] - 0s 43ms/step\n"
     ]
    },
    {
     "name": "stderr",
     "output_type": "stream",
     "text": [
      "[Succeeded / Failed / Skipped / Total] 77 / 90 / 70 / 237:  47%|████▋     | 237/500 [06:50<07:35,  1.73s/it]"
     ]
    },
    {
     "name": "stdout",
     "output_type": "stream",
     "text": [
      "--------------------------------------------- Result 237 ---------------------------------------------\n",
      "[[2 (40%)]] --> [[0 (37%)]]\n",
      "\n",
      "saya tambah setia ini sama traveloka sekarang pilihan maskapai nya makin banyak payment nya mudah selaint itu harga nya murah dari yang lain [[mantap]]\n",
      "\n",
      "saya tambah setia ini sama traveloka sekarang pilihan maskapai nya makin banyak payment nya mudah selaint itu harga nya murah dari yang lain [[utuh]]\n",
      "\n",
      "\n",
      "1/1 [==============================] - 0s 33ms/step\n"
     ]
    },
    {
     "name": "stderr",
     "output_type": "stream",
     "text": [
      "[Succeeded / Failed / Skipped / Total] 77 / 90 / 71 / 238:  48%|████▊     | 238/500 [06:50<07:31,  1.72s/it]"
     ]
    },
    {
     "name": "stdout",
     "output_type": "stream",
     "text": [
      "--------------------------------------------- Result 238 ---------------------------------------------\n",
      "[[0 (36%)]] --> [[[SKIPPED]]]\n",
      "\n",
      "makin mantap sekarang sudah ada menu pesan hotel lengkap dengan rating nya semoga makin sering ada promo ya pasti saya pantengin terus\n",
      "\n",
      "\n",
      "1/1 [==============================] - 0s 50ms/step\n",
      "1/1 [==============================] - 0s 46ms/step\n",
      "1/1 [==============================] - 0s 43ms/step\n",
      "1/1 [==============================] - 0s 50ms/step\n",
      "1/1 [==============================] - 0s 47ms/step\n",
      "1/1 [==============================] - 0s 43ms/step\n",
      "1/1 [==============================] - 0s 51ms/step\n",
      "1/1 [==============================] - 0s 52ms/step\n",
      "1/1 [==============================] - 0s 42ms/step\n",
      "1/1 [==============================] - 0s 45ms/step\n",
      "1/1 [==============================] - 0s 46ms/step\n",
      "1/1 [==============================] - 0s 33ms/step\n",
      "1/1 [==============================] - 0s 46ms/step\n"
     ]
    },
    {
     "name": "stderr",
     "output_type": "stream",
     "text": [
      "[Succeeded / Failed / Skipped / Total] 78 / 90 / 71 / 239:  48%|████▊     | 239/500 [06:51<07:29,  1.72s/it]"
     ]
    },
    {
     "name": "stdout",
     "output_type": "stream",
     "text": [
      "--------------------------------------------- Result 239 ---------------------------------------------\n",
      "[[2 (35%)]] --> [[1 (35%)]]\n",
      "\n",
      "e tiket sudah saya terima mantap reservasi cepat harga [[murah]] nomor tiketing online indonesia \n",
      "\n",
      "e tiket sudah saya terima mantap reservasi cepat harga [[kaya]] nomor tiketing online indonesia \n",
      "\n",
      "\n",
      "1/1 [==============================] - 0s 48ms/step\n"
     ]
    },
    {
     "name": "stderr",
     "output_type": "stream",
     "text": [
      "[Succeeded / Failed / Skipped / Total] 78 / 90 / 72 / 240:  48%|████▊     | 240/500 [06:51<07:25,  1.71s/it]"
     ]
    },
    {
     "name": "stdout",
     "output_type": "stream",
     "text": [
      "--------------------------------------------- Result 240 ---------------------------------------------\n",
      "[[0 (37%)]] --> [[[SKIPPED]]]\n",
      "\n",
      "hari ini iseng mencoba versi beta nya mantap search engine nya tidak pusing lagi kalau mau cari tiket murah dan waktu penerbangan memudahkan aku \n",
      "\n",
      "\n",
      "1/1 [==============================] - 0s 36ms/step\n"
     ]
    },
    {
     "name": "stderr",
     "output_type": "stream",
     "text": [
      "[Succeeded / Failed / Skipped / Total] 78 / 90 / 73 / 241:  48%|████▊     | 241/500 [06:51<07:22,  1.71s/it]"
     ]
    },
    {
     "name": "stdout",
     "output_type": "stream",
     "text": [
      "--------------------------------------------- Result 241 ---------------------------------------------\n",
      "[[1 (35%)]] --> [[[SKIPPED]]]\n",
      "\n",
      "keren air asia setelah malaysia indonesia thailand filipina jepang dan india bakal ada air asia vietnam dan air asia china \n",
      "\n",
      "\n",
      "1/1 [==============================] - 0s 37ms/step\n",
      "1/1 [==============================] - 0s 49ms/step\n",
      "1/1 [==============================] - 0s 43ms/step\n",
      "1/1 [==============================] - 0s 43ms/step\n",
      "1/1 [==============================] - 0s 41ms/step\n",
      "1/1 [==============================] - 0s 41ms/step\n",
      "1/1 [==============================] - 0s 47ms/step\n",
      "1/1 [==============================] - 0s 40ms/step\n",
      "1/1 [==============================] - 0s 33ms/step\n",
      "1/1 [==============================] - 0s 55ms/step\n",
      "1/1 [==============================] - 0s 50ms/step\n",
      "1/1 [==============================] - 0s 52ms/step\n",
      "1/1 [==============================] - 0s 48ms/step\n",
      "1/1 [==============================] - 0s 51ms/step\n",
      "1/1 [==============================] - 0s 49ms/step\n",
      "1/1 [==============================] - 0s 50ms/step\n",
      "1/1 [==============================] - 0s 54ms/step\n",
      "1/1 [==============================] - 0s 51ms/step\n",
      "1/1 [==============================] - 0s 54ms/step\n",
      "1/1 [==============================] - 0s 49ms/step\n",
      "1/1 [==============================] - 0s 41ms/step\n",
      "1/1 [==============================] - 0s 42ms/step\n",
      "1/1 [==============================] - 0s 45ms/step\n",
      "1/1 [==============================] - 0s 43ms/step\n",
      "1/1 [==============================] - 0s 43ms/step\n",
      "1/1 [==============================] - 0s 33ms/step\n"
     ]
    },
    {
     "name": "stderr",
     "output_type": "stream",
     "text": [
      "[Succeeded / Failed / Skipped / Total] 79 / 90 / 73 / 242:  48%|████▊     | 242/500 [06:53<07:21,  1.71s/it]"
     ]
    },
    {
     "name": "stdout",
     "output_type": "stream",
     "text": [
      "--------------------------------------------- Result 242 ---------------------------------------------\n",
      "[[2 (35%)]] --> [[1 (34%)]]\n",
      "\n",
      "air asia ini keren banget kasih tiket gratis seumur hidup buat atlit asia [[pemenang]] medali di olimpiade rio \n",
      "\n",
      "air asia ini keren banget kasih tiket gratis seumur hidup buat atlit asia [[kepala]] medali di olimpiade rio \n",
      "\n",
      "\n",
      "1/1 [==============================] - 0s 44ms/step\n"
     ]
    },
    {
     "name": "stderr",
     "output_type": "stream",
     "text": [
      "[Succeeded / Failed / Skipped / Total] 79 / 90 / 73 / 242:  49%|████▊     | 243/500 [06:53<07:17,  1.70s/it]"
     ]
    },
    {
     "name": "stdout",
     "output_type": "stream",
     "text": [
      "--------------------------------------------- Result 243 ---------------------------------------------\n",
      "[[0 (36%)]] --> [[[SKIPPED]]]\n",
      "\n",
      "top deh hari ini lion air cengkareng balikpapan on time sekali mantap harus nya sepeti ini terus sangat memuaskan \n",
      "\n",
      "\n"
     ]
    },
    {
     "name": "stderr",
     "output_type": "stream",
     "text": [
      "[Succeeded / Failed / Skipped / Total] 79 / 90 / 74 / 243:  49%|████▊     | 243/500 [06:53<07:17,  1.70s/it]"
     ]
    },
    {
     "name": "stdout",
     "output_type": "stream",
     "text": [
      "1/1 [==============================] - 0s 36ms/step\n",
      "1/1 [==============================] - 0s 52ms/step\n",
      "1/1 [==============================] - 0s 48ms/step\n",
      "1/1 [==============================] - 0s 43ms/step\n",
      "1/1 [==============================] - 0s 43ms/step\n",
      "1/1 [==============================] - 0s 43ms/step\n",
      "1/1 [==============================] - 0s 42ms/step\n",
      "1/1 [==============================] - 0s 44ms/step\n",
      "1/1 [==============================] - 0s 41ms/step\n",
      "1/1 [==============================] - 0s 44ms/step\n",
      "1/1 [==============================] - 0s 42ms/step\n"
     ]
    },
    {
     "name": "stderr",
     "output_type": "stream",
     "text": [
      "[Succeeded / Failed / Skipped / Total] 80 / 90 / 74 / 244:  49%|████▉     | 244/500 [06:54<07:15,  1.70s/it]"
     ]
    },
    {
     "name": "stdout",
     "output_type": "stream",
     "text": [
      "--------------------------------------------- Result 244 ---------------------------------------------\n",
      "[[2 (41%)]] --> [[0 (34%)]]\n",
      "\n",
      "[[bu]] memang [[mantap]] semoga siapapun presiden nya menteri kelautan perikanan tetap [[bu]] susi amin \n",
      "\n",
      "[[wanita]] memang [[stabil]] semoga siapapun presiden nya menteri kelautan perikanan tetap [[wanita]] susi amin \n",
      "\n",
      "\n",
      "1/1 [==============================] - 0s 34ms/step\n"
     ]
    },
    {
     "name": "stderr",
     "output_type": "stream",
     "text": [
      "[Succeeded / Failed / Skipped / Total] 80 / 90 / 75 / 245:  49%|████▉     | 245/500 [06:54<07:11,  1.69s/it]"
     ]
    },
    {
     "name": "stdout",
     "output_type": "stream",
     "text": [
      "--------------------------------------------- Result 245 ---------------------------------------------\n",
      "[[0 (38%)]] --> [[[SKIPPED]]]\n",
      "\n",
      "mantap bu saya juga akan ikut ke pantai bu biar laut kita bersih kalau kotor nanti malah ditenggelamkan dengan bu susi hehehe \n",
      "\n",
      "\n",
      "1/1 [==============================] - 0s 41ms/step\n",
      "1/1 [==============================] - 0s 50ms/step\n",
      "1/1 [==============================] - 0s 45ms/step\n",
      "1/1 [==============================] - 0s 48ms/step\n",
      "1/1 [==============================] - 0s 50ms/step\n",
      "1/1 [==============================] - 0s 46ms/step\n",
      "1/1 [==============================] - 0s 45ms/step\n",
      "1/1 [==============================] - 0s 51ms/step\n",
      "1/1 [==============================] - 0s 48ms/step\n",
      "1/1 [==============================] - 0s 54ms/step\n",
      "1/1 [==============================] - 0s 42ms/step\n",
      "1/1 [==============================] - 0s 44ms/step\n",
      "1/1 [==============================] - 0s 51ms/step\n",
      "1/1 [==============================] - 0s 46ms/step\n",
      "1/1 [==============================] - 0s 46ms/step\n",
      "1/1 [==============================] - 0s 44ms/step\n",
      "1/1 [==============================] - 0s 43ms/step\n",
      "1/1 [==============================] - 0s 51ms/step\n",
      "1/1 [==============================] - 0s 42ms/step\n",
      "1/1 [==============================] - 0s 44ms/step\n",
      "1/1 [==============================] - 0s 41ms/step\n",
      "1/1 [==============================] - 0s 44ms/step\n",
      "--------------------------------------------- Result 246 ---------------------------------------------\n",
      "[[2 (37%)]] --> [[1 (38%)]]\n",
      "\n",
      "antusias para pemilik agen sangat luar biasa dan terima kasih untuk para petinggi jne yang berkenan hadir dalam acara kami dan terima kasih untuk para agen mitra jne yang juga turut hadir dalam acara ini semoga di tahun depan akan semakin [[mantap]]\n",
      "\n",
      "antusias para pemilik agen sangat luar biasa dan terima kasih untuk para petinggi jne yang berkenan hadir dalam acara kami dan terima kasih untuk para agen mitra jne yang juga turut hadir dalam acara ini semoga di tahun depan akan semakin [[stabil]]\n",
      "\n",
      "\n"
     ]
    },
    {
     "name": "stderr",
     "output_type": "stream",
     "text": [
      "[Succeeded / Failed / Skipped / Total] 81 / 90 / 75 / 246:  49%|████▉     | 246/500 [06:56<07:10,  1.69s/it]"
     ]
    },
    {
     "name": "stdout",
     "output_type": "stream",
     "text": [
      "1/1 [==============================] - 0s 33ms/step\n"
     ]
    },
    {
     "name": "stderr",
     "output_type": "stream",
     "text": [
      "[Succeeded / Failed / Skipped / Total] 81 / 90 / 76 / 247:  49%|████▉     | 247/500 [06:56<07:06,  1.69s/it]"
     ]
    },
    {
     "name": "stdout",
     "output_type": "stream",
     "text": [
      "--------------------------------------------- Result 247 ---------------------------------------------\n",
      "[[0 (35%)]] --> [[[SKIPPED]]]\n",
      "\n",
      "kebiasaan paling keren dari tiki jne adalah langsung memberi laporan kalau yang menerima paket tidak ada di tempat tanpa telepon dulu ke si penerima mantap \n",
      "\n",
      "\n",
      "1/1 [==============================] - 0s 35ms/step\n",
      "1/1 [==============================] - 0s 45ms/step\n",
      "1/1 [==============================] - 0s 48ms/step\n",
      "1/1 [==============================] - 0s 44ms/step\n",
      "1/1 [==============================] - 0s 55ms/step\n",
      "1/1 [==============================] - 0s 42ms/step\n",
      "1/1 [==============================] - 0s 44ms/step\n",
      "1/1 [==============================] - 0s 43ms/step\n",
      "1/1 [==============================] - 0s 45ms/step\n",
      "1/1 [==============================] - 0s 43ms/step\n",
      "1/1 [==============================] - 0s 43ms/step\n",
      "1/1 [==============================] - 0s 44ms/step\n",
      "1/1 [==============================] - 0s 43ms/step\n",
      "1/1 [==============================] - 0s 42ms/step\n"
     ]
    },
    {
     "name": "stderr",
     "output_type": "stream",
     "text": [
      "[Succeeded / Failed / Skipped / Total] 82 / 90 / 76 / 248:  50%|████▉     | 248/500 [06:57<07:04,  1.69s/it]"
     ]
    },
    {
     "name": "stdout",
     "output_type": "stream",
     "text": [
      "--------------------------------------------- Result 248 ---------------------------------------------\n",
      "[[2 (37%)]] --> [[0 (35%)]]\n",
      "\n",
      "selamat ulang tahun bdo petugas nya pada ramah ramah umur sudah matang dan [[mantap]] sukses selalu karyawan nya pada [[sehat]] \n",
      "\n",
      "selamat ulang tahun bdo petugas nya pada ramah ramah umur sudah matang dan [[stabil]] sukses selalu karyawan nya pada [[kebajikan]] \n",
      "\n",
      "\n",
      "1/1 [==============================] - 0s 35ms/step\n",
      "1/1 [==============================] - 0s 43ms/step\n",
      "1/1 [==============================] - 0s 46ms/step\n",
      "1/1 [==============================] - 0s 45ms/step\n",
      "1/1 [==============================] - 0s 44ms/step\n",
      "1/1 [==============================] - 0s 43ms/step\n",
      "1/1 [==============================] - 0s 49ms/step\n",
      "1/1 [==============================] - 0s 44ms/step\n",
      "1/1 [==============================] - 0s 53ms/step\n",
      "1/1 [==============================] - 0s 42ms/step\n",
      "1/1 [==============================] - 0s 43ms/step\n",
      "1/1 [==============================] - 0s 41ms/step\n"
     ]
    },
    {
     "name": "stderr",
     "output_type": "stream",
     "text": [
      "[Succeeded / Failed / Skipped / Total] 83 / 90 / 76 / 249:  50%|████▉     | 249/500 [06:58<07:02,  1.68s/it]"
     ]
    },
    {
     "name": "stdout",
     "output_type": "stream",
     "text": [
      "--------------------------------------------- Result 249 ---------------------------------------------\n",
      "[[2 (34%)]] --> [[0 (34%)]]\n",
      "\n",
      "mantap sekali di hari libur tetap mengantarkan paket ke tujuan benar benar terapkan semangat kemerdekaan [[id]] bdo \n",
      "\n",
      "mantap sekali di hari libur tetap mengantarkan paket ke tujuan benar benar terapkan semangat kemerdekaan [[Idaho]] bdo \n",
      "\n",
      "\n",
      "1/1 [==============================] - 0s 34ms/step\n",
      "1/1 [==============================] - 0s 56ms/step\n",
      "1/1 [==============================] - 0s 46ms/step\n",
      "1/1 [==============================] - 0s 53ms/step\n",
      "1/1 [==============================] - 0s 58ms/step\n",
      "1/1 [==============================] - 0s 50ms/step\n",
      "1/1 [==============================] - 0s 45ms/step\n",
      "1/1 [==============================] - 0s 48ms/step\n",
      "1/1 [==============================] - 0s 46ms/step\n",
      "1/1 [==============================] - 0s 51ms/step\n",
      "1/1 [==============================] - 0s 47ms/step\n",
      "1/1 [==============================] - 0s 43ms/step\n",
      "1/1 [==============================] - 0s 43ms/step\n",
      "1/1 [==============================] - 0s 44ms/step\n",
      "1/1 [==============================] - 0s 44ms/step\n",
      "1/1 [==============================] - 0s 50ms/step\n",
      "1/1 [==============================] - 0s 49ms/step\n",
      "1/1 [==============================] - 0s 45ms/step\n",
      "1/1 [==============================] - 0s 50ms/step\n",
      "1/1 [==============================] - 0s 32ms/step\n",
      "--------------------------------------------- Result 250 ---------------------------------------------\n",
      "[[2 (37%)]] --> [[0 (36%)]]\n",
      "\n",
      "pengiriman barang menggunakan jne sangat memuaskan tanggal sampai pengiriman barang sesuai pelayanan sangat ramah harga juga sangat masuk [[akal]] dan terjangkau \n",
      "\n",
      "pengiriman barang menggunakan jne sangat memuaskan tanggal sampai pengiriman barang sesuai pelayanan sangat ramah harga juga sangat masuk [[kepala]] dan terjangkau "
     ]
    },
    {
     "name": "stderr",
     "output_type": "stream",
     "text": [
      "[Succeeded / Failed / Skipped / Total] 84 / 90 / 76 / 250:  50%|█████     | 250/500 [07:00<07:00,  1.68s/it]"
     ]
    },
    {
     "name": "stdout",
     "output_type": "stream",
     "text": [
      "\n",
      "\n",
      "\n",
      "1/1 [==============================] - 0s 33ms/step\n",
      "1/1 [==============================] - 0s 48ms/step\n",
      "1/1 [==============================] - 0s 53ms/step\n",
      "1/1 [==============================] - 0s 42ms/step\n",
      "1/1 [==============================] - 0s 41ms/step\n",
      "1/1 [==============================] - 0s 36ms/step\n",
      "1/1 [==============================] - 0s 55ms/step\n",
      "1/1 [==============================] - 0s 45ms/step\n",
      "1/1 [==============================] - 0s 44ms/step\n",
      "1/1 [==============================] - 0s 50ms/step\n",
      "1/1 [==============================] - 0s 42ms/step\n",
      "1/1 [==============================] - 0s 50ms/step\n",
      "1/1 [==============================] - 0s 44ms/step\n",
      "1/1 [==============================] - 0s 41ms/step\n",
      "1/1 [==============================] - 0s 48ms/step\n",
      "1/1 [==============================] - 0s 45ms/step\n",
      "1/1 [==============================] - 0s 41ms/step\n",
      "1/1 [==============================] - 0s 32ms/step\n",
      "1/1 [==============================] - 0s 48ms/step\n",
      "1/1 [==============================] - 0s 61ms/step\n",
      "1/1 [==============================] - 0s 52ms/step\n",
      "1/1 [==============================] - 0s 52ms/step\n",
      "1/1 [==============================] - 0s 50ms/step\n",
      "1/1 [==============================] - 0s 45ms/step\n",
      "1/1 [==============================] - 0s 45ms/step\n",
      "1/1 [==============================] - 0s 50ms/step\n",
      "1/1 [==============================] - 0s 45ms/step\n"
     ]
    },
    {
     "name": "stderr",
     "output_type": "stream",
     "text": [
      "[Succeeded / Failed / Skipped / Total] 85 / 90 / 76 / 251:  50%|█████     | 251/500 [07:03<06:59,  1.69s/it]"
     ]
    },
    {
     "name": "stdout",
     "output_type": "stream",
     "text": [
      "--------------------------------------------- Result 251 ---------------------------------------------\n",
      "[[1 (39%)]] --> [[0 (34%)]]\n",
      "\n",
      "saya suwandi sudah pesan tiket pak cengkareng tuk penerbangan tanggal jam via pesawat nam air namun sampai dengan hari ini tanggal juli saya belum terima info apa pun transfer dari bri syariah ke bank mandiri [[mohon]] bantuan nya untuk diinformasi kembali [[terima]] kasih \n",
      "\n",
      "saya suwandi sudah pesan tiket pak cengkareng tuk penerbangan tanggal jam via pesawat nam air namun sampai dengan hari ini tanggal juli saya belum terima info apa pun transfer dari bri syariah ke bank mandiri [[pohon]] bantuan nya untuk diinformasi kembali [[makan]] kasih \n",
      "\n",
      "\n",
      "1/1 [==============================] - 0s 34ms/step\n"
     ]
    },
    {
     "name": "stderr",
     "output_type": "stream",
     "text": [
      "[Succeeded / Failed / Skipped / Total] 85 / 90 / 77 / 252:  50%|█████     | 252/500 [07:03<06:56,  1.68s/it]"
     ]
    },
    {
     "name": "stdout",
     "output_type": "stream",
     "text": [
      "--------------------------------------------- Result 252 ---------------------------------------------\n",
      "[[0 (35%)]] --> [[[SKIPPED]]]\n",
      "\n",
      "daftar harga dispenser terbaik yang ada di blibli com memuat banyak produk salah satu nya adalah miyako wdp dispenser produk ini merupakan dispenser dengan penempatan galon di bawah sehingga anda tidak perlu mengangkat galon saat akan mengisi air \n",
      "\n",
      "\n",
      "1/1 [==============================] - 0s 36ms/step\n"
     ]
    },
    {
     "name": "stderr",
     "output_type": "stream",
     "text": [
      "[Succeeded / Failed / Skipped / Total] 85 / 90 / 78 / 253:  51%|█████     | 253/500 [07:03<06:53,  1.67s/it]"
     ]
    },
    {
     "name": "stdout",
     "output_type": "stream",
     "text": [
      "--------------------------------------------- Result 253 ---------------------------------------------\n",
      "[[0 (36%)]] --> [[[SKIPPED]]]\n",
      "\n",
      "samsung panasonic sharp dan berbagai produsen lainnya telah memasarkan berbagai macam jenis mesin cuci dengan fungsi yang beragam \n",
      "\n",
      "\n",
      "1/1 [==============================] - 0s 33ms/step\n",
      "1/1 [==============================] - 0s 49ms/step\n",
      "1/1 [==============================] - 0s 48ms/step\n",
      "1/1 [==============================] - 0s 34ms/step\n",
      "1/1 [==============================] - 0s 48ms/step\n",
      "1/1 [==============================] - 0s 43ms/step\n",
      "1/1 [==============================] - 0s 46ms/step\n",
      "1/1 [==============================] - 0s 42ms/step\n",
      "1/1 [==============================] - 0s 44ms/step\n"
     ]
    },
    {
     "name": "stderr",
     "output_type": "stream",
     "text": [
      "[Succeeded / Failed / Skipped / Total] 86 / 90 / 78 / 254:  51%|█████     | 254/500 [07:03<06:50,  1.67s/it]"
     ]
    },
    {
     "name": "stdout",
     "output_type": "stream",
     "text": [
      "--------------------------------------------- Result 254 ---------------------------------------------\n",
      "[[1 (37%)]] --> [[0 (35%)]]\n",
      "\n",
      "kami segenap direksi dan karyawan pt smartplus consulting indonesia mengucapkan [[selamat]] hari raya idul fitri h \n",
      "\n",
      "kami segenap direksi dan karyawan pt smartplus consulting indonesia mengucapkan [[jangan]] hari raya idul fitri h \n",
      "\n",
      "\n",
      "1/1 [==============================] - 0s 34ms/step\n",
      "1/1 [==============================] - 0s 52ms/step\n",
      "1/1 [==============================] - 0s 55ms/step\n",
      "1/1 [==============================] - 0s 42ms/step\n",
      "1/1 [==============================] - 0s 52ms/step\n",
      "1/1 [==============================] - 0s 42ms/step\n",
      "1/1 [==============================] - 0s 44ms/step\n",
      "1/1 [==============================] - 0s 46ms/step\n",
      "1/1 [==============================] - 0s 48ms/step\n",
      "1/1 [==============================] - 0s 49ms/step\n",
      "1/1 [==============================] - 0s 47ms/step\n",
      "1/1 [==============================] - 0s 45ms/step\n",
      "1/1 [==============================] - 0s 48ms/step\n",
      "1/1 [==============================] - 0s 49ms/step\n",
      "1/1 [==============================] - 0s 41ms/step\n",
      "1/1 [==============================] - 0s 47ms/step\n",
      "1/1 [==============================] - 0s 41ms/step\n",
      "1/1 [==============================] - 0s 43ms/step\n",
      "1/1 [==============================] - 0s 48ms/step\n"
     ]
    },
    {
     "name": "stderr",
     "output_type": "stream",
     "text": [
      "[Succeeded / Failed / Skipped / Total] 86 / 91 / 78 / 255:  51%|█████     | 255/500 [07:05<06:48,  1.67s/it]"
     ]
    },
    {
     "name": "stdout",
     "output_type": "stream",
     "text": [
      "--------------------------------------------- Result 255 ---------------------------------------------\n",
      "[[0 (40%)]] --> [[[FAILED]]]\n",
      "\n",
      "sudahlah ini negara demokrasi jangan saling membual masing masing punya pilihan pilih prabowo minggu tidak mau pilih jokowi juga tidak apa apa bebas \n",
      "\n",
      "\n",
      "1/1 [==============================] - 0s 38ms/step\n"
     ]
    },
    {
     "name": "stderr",
     "output_type": "stream",
     "text": [
      "[Succeeded / Failed / Skipped / Total] 86 / 91 / 79 / 256:  51%|█████     | 256/500 [07:05<06:45,  1.66s/it]"
     ]
    },
    {
     "name": "stdout",
     "output_type": "stream",
     "text": [
      "--------------------------------------------- Result 256 ---------------------------------------------\n",
      "[[0 (36%)]] --> [[[SKIPPED]]]\n",
      "\n",
      "kami bukan dalam kapasitas menentukan jangan nyapres mbk \n",
      "\n",
      "\n",
      "1/1 [==============================] - 0s 42ms/step\n"
     ]
    },
    {
     "name": "stderr",
     "output_type": "stream",
     "text": [
      "[Succeeded / Failed / Skipped / Total] 86 / 91 / 80 / 257:  51%|█████▏    | 257/500 [07:05<06:42,  1.66s/it]"
     ]
    },
    {
     "name": "stdout",
     "output_type": "stream",
     "text": [
      "--------------------------------------------- Result 257 ---------------------------------------------\n",
      "[[0 (37%)]] --> [[[SKIPPED]]]\n",
      "\n",
      "adab di media sosial itu jelas kok suka silakan like mengikuti tidak suka unfoll block simpel dan kita memiliki hak yang sama untuk melakukan nya \n",
      "\n",
      "\n",
      "1/1 [==============================] - 0s 35ms/step\n"
     ]
    },
    {
     "name": "stderr",
     "output_type": "stream",
     "text": [
      "[Succeeded / Failed / Skipped / Total] 86 / 91 / 81 / 258:  52%|█████▏    | 258/500 [07:05<06:39,  1.65s/it]"
     ]
    },
    {
     "name": "stdout",
     "output_type": "stream",
     "text": [
      "--------------------------------------------- Result 258 ---------------------------------------------\n",
      "[[0 (41%)]] --> [[[SKIPPED]]]\n",
      "\n",
      "kalau tidak suka gaperlu didukung mas dukung saja yang menurut mas daus itu bisa bawa indonesia jauh lebih baik yang penting kita harus menomorsatukan asas etika \n",
      "\n",
      "\n",
      "1/1 [==============================] - 0s 36ms/step\n"
     ]
    },
    {
     "name": "stderr",
     "output_type": "stream",
     "text": [
      "[Succeeded / Failed / Skipped / Total] 86 / 91 / 82 / 259:  52%|█████▏    | 259/500 [07:05<06:36,  1.64s/it]"
     ]
    },
    {
     "name": "stdout",
     "output_type": "stream",
     "text": [
      "--------------------------------------------- Result 259 ---------------------------------------------\n",
      "[[0 (35%)]] --> [[[SKIPPED]]]\n",
      "\n",
      "kamu bisa punya koleksi bts dengan membeli smartphone lagi k selain tersedia wallpaper dan tema di dalam nya kamu juga dapat poster dan postcard bts \n",
      "\n",
      "\n",
      "1/1 [==============================] - 0s 36ms/step\n",
      "1/1 [==============================] - 0s 44ms/step\n",
      "1/1 [==============================] - 0s 41ms/step\n",
      "1/1 [==============================] - 0s 43ms/step\n",
      "1/1 [==============================] - 0s 46ms/step\n",
      "1/1 [==============================] - 0s 50ms/step\n",
      "1/1 [==============================] - 0s 42ms/step\n",
      "1/1 [==============================] - 0s 37ms/step\n",
      "1/1 [==============================] - 0s 56ms/step\n",
      "1/1 [==============================] - 0s 40ms/step\n",
      "1/1 [==============================] - 0s 48ms/step\n",
      "1/1 [==============================] - 0s 42ms/step\n",
      "1/1 [==============================] - 0s 51ms/step\n",
      "1/1 [==============================] - 0s 53ms/step\n",
      "1/1 [==============================] - 0s 48ms/step\n",
      "1/1 [==============================] - 0s 53ms/step\n",
      "1/1 [==============================] - 0s 49ms/step\n",
      "1/1 [==============================] - 0s 49ms/step\n"
     ]
    },
    {
     "name": "stderr",
     "output_type": "stream",
     "text": [
      "[Succeeded / Failed / Skipped / Total] 87 / 91 / 82 / 260:  52%|█████▏    | 260/500 [07:07<06:34,  1.64s/it]"
     ]
    },
    {
     "name": "stdout",
     "output_type": "stream",
     "text": [
      "--------------------------------------------- Result 260 ---------------------------------------------\n",
      "[[0 (39%)]] --> [[1 (34%)]]\n",
      "\n",
      "siarin bola asian games lewat parabola dong puluhan juta pasang mata di luar jawa yang pakai parabola pasti [[kecewa]] kalau tidak bisa [[menonton]] \n",
      "\n",
      "siarin bola asian games lewat parabola dong puluhan juta pasang mata di luar jawa yang pakai parabola pasti [[tewas]] kalau tidak bisa [[jaga]] \n",
      "\n",
      "\n",
      "1/1 [==============================] - 0s 35ms/step\n"
     ]
    },
    {
     "name": "stderr",
     "output_type": "stream",
     "text": [
      "[Succeeded / Failed / Skipped / Total] 87 / 91 / 82 / 260:  52%|█████▏    | 261/500 [07:07<06:31,  1.64s/it]"
     ]
    },
    {
     "name": "stdout",
     "output_type": "stream",
     "text": [
      "--------------------------------------------- Result 261 ---------------------------------------------\n",
      "[[0 (37%)]] --> [[[SKIPPED]]]\n",
      "\n",
      "ada tiga tahap pertama harus unlock bootloader terus pasang twrp terus robot deh xiaomi kamu tipe berapa ya soal nya suka beda gitu loh\n",
      "\n",
      "\n"
     ]
    },
    {
     "name": "stderr",
     "output_type": "stream",
     "text": [
      "[Succeeded / Failed / Skipped / Total] 87 / 91 / 83 / 261:  52%|█████▏    | 261/500 [07:07<06:31,  1.64s/it]"
     ]
    },
    {
     "name": "stdout",
     "output_type": "stream",
     "text": [
      "1/1 [==============================] - 0s 34ms/step\n",
      "--------------------------------------------- Result 262 ---------------------------------------------\n",
      "[[0 (39%)]] --> [[[SKIPPED]]]\n",
      "\n",
      "maaf ini oot yang hape nya xiaomi bisa bantu aku tidak ini kalau aku lagi buka twit atau saya begitu suka menang nah yang aku lingkarkan merah itu aplikasi yang menghilang begitu ada yang tahu kenapa dan bagaimana cara menyembuhkan nya \n",
      "\n",
      "\n"
     ]
    },
    {
     "name": "stderr",
     "output_type": "stream",
     "text": [
      "[Succeeded / Failed / Skipped / Total] 87 / 91 / 84 / 262:  52%|█████▏    | 262/500 [07:07<06:28,  1.63s/it]"
     ]
    },
    {
     "name": "stdout",
     "output_type": "stream",
     "text": [
      "1/1 [==============================] - 0s 40ms/step\n"
     ]
    },
    {
     "name": "stderr",
     "output_type": "stream",
     "text": [
      "[Succeeded / Failed / Skipped / Total] 87 / 91 / 85 / 263:  53%|█████▎    | 263/500 [07:07<06:25,  1.63s/it]"
     ]
    },
    {
     "name": "stdout",
     "output_type": "stream",
     "text": [
      "--------------------------------------------- Result 263 ---------------------------------------------\n",
      "[[0 (39%)]] --> [[[SKIPPED]]]\n",
      "\n",
      "di indonesia pilihan brand smartphone kan melimpah kalau tidak suka cara xiaomi menjalankan bisnis nya ya tinggal pilih brand lain dibawa santai saja \n",
      "\n",
      "\n",
      "1/1 [==============================] - 0s 47ms/step\n",
      "1/1 [==============================] - 0s 50ms/step\n",
      "1/1 [==============================] - 0s 34ms/step\n",
      "1/1 [==============================] - 0s 43ms/step\n",
      "1/1 [==============================] - 0s 41ms/step\n",
      "1/1 [==============================] - 0s 43ms/step\n",
      "1/1 [==============================] - 0s 33ms/step\n"
     ]
    },
    {
     "name": "stderr",
     "output_type": "stream",
     "text": [
      "[Succeeded / Failed / Skipped / Total] 87 / 92 / 85 / 264:  53%|█████▎    | 264/500 [07:08<06:22,  1.62s/it]"
     ]
    },
    {
     "name": "stdout",
     "output_type": "stream",
     "text": [
      "--------------------------------------------- Result 264 ---------------------------------------------\n",
      "[[1 (34%)]] --> [[[FAILED]]]\n",
      "\n",
      "pendaftar towel towel lagi g thinq membludak hingga x kapasitas tempat ke depan nya bakal segera ada towel towel huawei nova i dan mungkin samsung galaxy note \n",
      "\n",
      "\n",
      "1/1 [==============================] - 0s 65ms/step\n",
      "1/1 [==============================] - 0s 46ms/step\n",
      "1/1 [==============================] - 0s 44ms/step\n",
      "1/1 [==============================] - 0s 44ms/step\n",
      "1/1 [==============================] - 0s 42ms/step\n"
     ]
    },
    {
     "name": "stderr",
     "output_type": "stream",
     "text": [
      "[Succeeded / Failed / Skipped / Total] 88 / 92 / 85 / 265:  53%|█████▎    | 265/500 [07:08<06:20,  1.62s/it]"
     ]
    },
    {
     "name": "stdout",
     "output_type": "stream",
     "text": [
      "--------------------------------------------- Result 265 ---------------------------------------------\n",
      "[[1 (37%)]] --> [[0 (36%)]]\n",
      "\n",
      "di depan sana masih ada kompetisi [[foto]] dengan tema morning feel \n",
      "\n",
      "di depan sana masih ada kompetisi [[bayang-bayang]] dengan tema morning feel \n",
      "\n",
      "\n",
      "1/1 [==============================] - 0s 36ms/step\n",
      "1/1 [==============================] - 0s 47ms/step\n",
      "1/1 [==============================] - 0s 34ms/step\n",
      "1/1 [==============================] - 0s 44ms/step\n",
      "1/1 [==============================] - 0s 36ms/step\n"
     ]
    },
    {
     "name": "stderr",
     "output_type": "stream",
     "text": [
      "[Succeeded / Failed / Skipped / Total] 88 / 93 / 85 / 266:  53%|█████▎    | 266/500 [07:09<06:17,  1.61s/it]"
     ]
    },
    {
     "name": "stdout",
     "output_type": "stream",
     "text": [
      "--------------------------------------------- Result 266 ---------------------------------------------\n",
      "[[1 (39%)]] --> [[[FAILED]]]\n",
      "\n",
      "oke saya akan segera menuju ke cabang bca terdekat \n",
      "\n",
      "\n",
      "1/1 [==============================] - 0s 36ms/step\n",
      "1/1 [==============================] - 0s 53ms/step\n",
      "1/1 [==============================] - 0s 54ms/step\n",
      "1/1 [==============================] - 0s 46ms/step\n",
      "1/1 [==============================] - 0s 42ms/step\n",
      "1/1 [==============================] - 0s 44ms/step\n",
      "1/1 [==============================] - 0s 50ms/step\n",
      "1/1 [==============================] - 0s 51ms/step\n",
      "1/1 [==============================] - 0s 46ms/step\n",
      "1/1 [==============================] - 0s 55ms/step\n",
      "1/1 [==============================] - 0s 46ms/step\n",
      "1/1 [==============================] - 0s 50ms/step\n",
      "1/1 [==============================] - 0s 47ms/step\n",
      "1/1 [==============================] - 0s 47ms/step\n",
      "1/1 [==============================] - 0s 48ms/step\n",
      "1/1 [==============================] - 0s 45ms/step\n"
     ]
    },
    {
     "name": "stderr",
     "output_type": "stream",
     "text": [
      "[Succeeded / Failed / Skipped / Total] 89 / 93 / 85 / 267:  53%|█████▎    | 267/500 [07:10<06:15,  1.61s/it]"
     ]
    },
    {
     "name": "stdout",
     "output_type": "stream",
     "text": [
      "--------------------------------------------- Result 267 ---------------------------------------------\n",
      "[[1 (42%)]] --> [[0 (35%)]]\n",
      "\n",
      "isi pulsa via atm bca tadi jam sampai sekarang belum masuk boleh [[tolong]] dicek [[terima]] kasih\n",
      "\n",
      "isi pulsa via atm bca tadi jam sampai sekarang belum masuk boleh [[servis]] dicek [[makan]] kasih\n",
      "\n",
      "\n",
      "1/1 [==============================] - 0s 34ms/step\n",
      "--------------------------------------------- Result 268 ---------------------------------------------\n",
      "[[0 (35%)]] --> [[[SKIPPED]]]\n",
      "\n",
      "mau tanya apa nomer ini benar nomer kantor bca jakarta yang menangani kartu kredit saya tunggu jawaban nya ya\n",
      "\n",
      "\n"
     ]
    },
    {
     "name": "stderr",
     "output_type": "stream",
     "text": [
      "[Succeeded / Failed / Skipped / Total] 89 / 93 / 86 / 268:  54%|█████▎    | 268/500 [07:10<06:12,  1.61s/it]"
     ]
    },
    {
     "name": "stdout",
     "output_type": "stream",
     "text": [
      "1/1 [==============================] - 0s 35ms/step\n",
      "1/1 [==============================] - 0s 46ms/step\n",
      "1/1 [==============================] - 0s 42ms/step\n",
      "1/1 [==============================] - 0s 52ms/step\n",
      "1/1 [==============================] - 0s 47ms/step\n",
      "1/1 [==============================] - 0s 42ms/step\n",
      "1/1 [==============================] - 0s 43ms/step\n"
     ]
    },
    {
     "name": "stderr",
     "output_type": "stream",
     "text": [
      "[Succeeded / Failed / Skipped / Total] 90 / 93 / 86 / 269:  54%|█████▍    | 269/500 [07:11<06:10,  1.60s/it]"
     ]
    },
    {
     "name": "stdout",
     "output_type": "stream",
     "text": [
      "--------------------------------------------- Result 269 ---------------------------------------------\n",
      "[[1 (41%)]] --> [[0 (36%)]]\n",
      "\n",
      "hai mas cepy saya sudah ke bank bca terdekat untuk langsung diproses pergantian kartu [[ya]]\n",
      "\n",
      "hai mas cepy saya sudah ke bank bca terdekat untuk langsung diproses pergantian kartu [[sekarang]]\n",
      "\n",
      "\n",
      "1/1 [==============================] - 0s 36ms/step\n",
      "1/1 [==============================] - 0s 46ms/step\n",
      "1/1 [==============================] - 0s 41ms/step\n",
      "1/1 [==============================] - 0s 51ms/step\n",
      "1/1 [==============================] - 0s 45ms/step\n",
      "1/1 [==============================] - 0s 40ms/step\n",
      "1/1 [==============================] - 0s 43ms/step\n",
      "1/1 [==============================] - 0s 41ms/step\n",
      "1/1 [==============================] - 0s 43ms/step\n",
      "1/1 [==============================] - 0s 52ms/step\n",
      "1/1 [==============================] - 0s 45ms/step\n",
      "1/1 [==============================] - 0s 48ms/step\n",
      "1/1 [==============================] - 0s 47ms/step\n",
      "1/1 [==============================] - 0s 45ms/step\n",
      "1/1 [==============================] - 0s 50ms/step\n",
      "1/1 [==============================] - 0s 43ms/step\n",
      "--------------------------------------------- Result 270 ---------------------------------------------\n",
      "[[1 (40%)]] --> [[0 (35%)]]\n",
      "\n",
      "hai ken saat ini isi e money flazz dari bca belum bisa di jenius ya kamu bisa menyampaikan saran kamu melalui bagian dari kami di jenius co create info [[lengkap]] bisa ku njungi [[terima]] kasih \n",
      "\n",
      "hai ken saat ini isi e money flazz dari bca belum bisa di jenius ya kamu bisa menyampaikan saran kamu melalui bagian dari kami di jenius co create info [[benar-benar]] bisa ku njungi [[makan]] kasih "
     ]
    },
    {
     "name": "stderr",
     "output_type": "stream",
     "text": [
      "[Succeeded / Failed / Skipped / Total] 91 / 93 / 86 / 270:  54%|█████▍    | 270/500 [07:12<06:08,  1.60s/it]"
     ]
    },
    {
     "name": "stdout",
     "output_type": "stream",
     "text": [
      "\n",
      "\n",
      "\n",
      "1/1 [==============================] - 0s 34ms/step\n"
     ]
    },
    {
     "name": "stderr",
     "output_type": "stream",
     "text": [
      "[Succeeded / Failed / Skipped / Total] 91 / 93 / 86 / 270:  54%|█████▍    | 271/500 [07:12<06:05,  1.60s/it]"
     ]
    },
    {
     "name": "stdout",
     "output_type": "stream",
     "text": [
      "--------------------------------------------- Result 271 ---------------------------------------------\n",
      "[[0 (35%)]] --> [[[SKIPPED]]]\n",
      "\n",
      "selamat siang kamu bisa menggunakan tarif ramai ramai untuk rombongan serta memanfat promo cashback dari rekanan bank seperti bank bri dan bca \n",
      "\n",
      "\n"
     ]
    },
    {
     "name": "stderr",
     "output_type": "stream",
     "text": [
      "[Succeeded / Failed / Skipped / Total] 91 / 93 / 87 / 271:  54%|█████▍    | 271/500 [07:12<06:05,  1.60s/it]"
     ]
    },
    {
     "name": "stdout",
     "output_type": "stream",
     "text": [
      "1/1 [==============================] - 0s 45ms/step\n",
      "--------------------------------------------- Result 272 ---------------------------------------------\n"
     ]
    },
    {
     "name": "stderr",
     "output_type": "stream",
     "text": [
      "[Succeeded / Failed / Skipped / Total] 91 / 93 / 88 / 272:  54%|█████▍    | 272/500 [07:12<06:02,  1.59s/it]"
     ]
    },
    {
     "name": "stdout",
     "output_type": "stream",
     "text": [
      "[[0 (37%)]] --> [[[SKIPPED]]]\n",
      "\n",
      "di pesona festival pasar terapung ada juga permainan tradisional balogo festival kain tradisional sasirangan kompetisi chef hotel dan restoran terbaik festival kuliner desa banjar lomba hias perahu jukung lomba fotografi dan masih banyak lagi yang lainnya \n",
      "\n",
      "\n",
      "1/1 [==============================] - 0s 36ms/step\n",
      "1/1 [==============================] - 0s 52ms/step\n",
      "1/1 [==============================] - 0s 43ms/step\n",
      "1/1 [==============================] - 0s 43ms/step\n",
      "1/1 [==============================] - 0s 42ms/step\n",
      "1/1 [==============================] - 0s 46ms/step\n",
      "1/1 [==============================] - 0s 49ms/step\n",
      "1/1 [==============================] - 0s 48ms/step\n",
      "1/1 [==============================] - 0s 49ms/step\n",
      "1/1 [==============================] - 0s 53ms/step\n",
      "1/1 [==============================] - 0s 53ms/step\n",
      "1/1 [==============================] - 0s 44ms/step\n",
      "1/1 [==============================] - 0s 41ms/step\n",
      "1/1 [==============================] - 0s 34ms/step\n",
      "1/1 [==============================] - 0s 45ms/step\n",
      "1/1 [==============================] - 0s 40ms/step\n",
      "1/1 [==============================] - 0s 44ms/step\n"
     ]
    },
    {
     "name": "stderr",
     "output_type": "stream",
     "text": [
      "[Succeeded / Failed / Skipped / Total] 92 / 93 / 88 / 273:  55%|█████▍    | 273/500 [07:14<06:00,  1.59s/it]"
     ]
    },
    {
     "name": "stdout",
     "output_type": "stream",
     "text": [
      "--------------------------------------------- Result 273 ---------------------------------------------\n",
      "[[2 (34%)]] --> [[1 (35%)]]\n",
      "\n",
      "asisten pelatih pskc cimahi nurjati merasa tim nya sangat bangga bertemu dengan tim sebesar persib bandung di babak besar [[piala]] indonesia \n",
      "\n",
      "asisten pelatih pskc cimahi nurjati merasa tim nya sangat bangga bertemu dengan tim sebesar persib bandung di babak besar [[hadiah]] indonesia \n",
      "\n",
      "\n",
      "1/1 [==============================] - 0s 40ms/step\n",
      "1/1 [==============================] - 0s 44ms/step\n",
      "1/1 [==============================] - 0s 52ms/step\n",
      "1/1 [==============================] - 0s 41ms/step\n",
      "1/1 [==============================] - 0s 44ms/step\n",
      "1/1 [==============================] - 0s 42ms/step\n",
      "1/1 [==============================] - 0s 49ms/step\n",
      "1/1 [==============================] - 0s 47ms/step\n",
      "1/1 [==============================] - 0s 48ms/step\n",
      "1/1 [==============================] - 0s 45ms/step\n",
      "1/1 [==============================] - 0s 44ms/step\n",
      "1/1 [==============================] - 0s 64ms/step\n",
      "1/1 [==============================] - 0s 48ms/step\n",
      "1/1 [==============================] - 0s 48ms/step\n",
      "1/1 [==============================] - 0s 45ms/step\n"
     ]
    },
    {
     "name": "stderr",
     "output_type": "stream",
     "text": [
      "[Succeeded / Failed / Skipped / Total] 93 / 93 / 88 / 274:  55%|█████▍    | 274/500 [07:15<05:59,  1.59s/it]"
     ]
    },
    {
     "name": "stdout",
     "output_type": "stream",
     "text": [
      "--------------------------------------------- Result 274 ---------------------------------------------\n",
      "[[1 (37%)]] --> [[0 (34%)]]\n",
      "\n",
      "selamat siang jika selama bulan tidak terdapat saldo rp tidak ada [[transaksi]] maka sudah otomatis closed namun untuk pengecekan [[status]] rekening anda dapat [[menghubungi]] bni call \n",
      "\n",
      "selamat siang jika selama bulan tidak terdapat saldo rp tidak ada [[industri]] maka sudah otomatis closed namun untuk pengecekan [[kaliber]] rekening anda dapat [[sentuh]] bni call \n",
      "\n",
      "\n",
      "1/1 [==============================] - 0s 37ms/step\n",
      "1/1 [==============================] - 0s 47ms/step\n",
      "1/1 [==============================] - 0s 45ms/step\n",
      "1/1 [==============================] - 0s 43ms/step\n",
      "1/1 [==============================] - 0s 49ms/step\n",
      "1/1 [==============================] - 0s 47ms/step\n",
      "1/1 [==============================] - 0s 47ms/step\n",
      "1/1 [==============================] - 0s 45ms/step\n",
      "1/1 [==============================] - 0s 50ms/step\n",
      "1/1 [==============================] - 0s 44ms/step\n",
      "1/1 [==============================] - 0s 53ms/step\n",
      "1/1 [==============================] - 0s 50ms/step\n",
      "1/1 [==============================] - 0s 50ms/step\n",
      "1/1 [==============================] - 0s 44ms/step\n",
      "1/1 [==============================] - 0s 51ms/step\n",
      "1/1 [==============================] - 0s 44ms/step\n",
      "1/1 [==============================] - 0s 48ms/step\n",
      "1/1 [==============================] - 0s 49ms/step\n",
      "1/1 [==============================] - 0s 51ms/step\n",
      "1/1 [==============================] - 0s 44ms/step\n",
      "1/1 [==============================] - 0s 44ms/step\n",
      "1/1 [==============================] - 0s 41ms/step\n",
      "1/1 [==============================] - 0s 33ms/step\n",
      "1/1 [==============================] - 0s 41ms/step\n",
      "1/1 [==============================] - 0s 51ms/step\n",
      "1/1 [==============================] - 0s 49ms/step\n",
      "1/1 [==============================] - 0s 44ms/step\n"
     ]
    },
    {
     "name": "stderr",
     "output_type": "stream",
     "text": [
      "[Succeeded / Failed / Skipped / Total] 94 / 93 / 88 / 275:  55%|█████▌    | 275/500 [07:17<05:58,  1.59s/it]"
     ]
    },
    {
     "name": "stdout",
     "output_type": "stream",
     "text": [
      "--------------------------------------------- Result 275 ---------------------------------------------\n",
      "[[1 (34%)]] --> [[0 (34%)]]\n",
      "\n",
      "selamat pagi untuk melihat tagihan dapat menghubungi bni call kemudian tekan untuk berbicara dengan bni call officer lalu tekan untuk berbicara dengan bni call officer layanan [[kartu]] kredit nanti petugas kami akan membantu anda \n",
      "\n",
      "selamat pagi untuk melihat tagihan dapat menghubungi bni call kemudian tekan untuk berbicara dengan bni call officer lalu tekan untuk berbicara dengan bni call officer layanan [[pemberitahuan]] kredit nanti petugas kami akan membantu anda \n",
      "\n",
      "\n",
      "1/1 [==============================] - 0s 59ms/step\n",
      "1/1 [==============================] - 0s 47ms/step\n",
      "1/1 [==============================] - 0s 44ms/step\n",
      "1/1 [==============================] - 0s 40ms/step\n",
      "1/1 [==============================] - 0s 41ms/step\n",
      "1/1 [==============================] - 0s 43ms/step\n",
      "1/1 [==============================] - 0s 46ms/step\n",
      "1/1 [==============================] - 0s 51ms/step\n",
      "1/1 [==============================] - 0s 52ms/step\n",
      "1/1 [==============================] - 0s 53ms/step\n",
      "1/1 [==============================] - 0s 48ms/step\n",
      "1/1 [==============================] - 0s 49ms/step\n",
      "1/1 [==============================] - 0s 49ms/step\n",
      "1/1 [==============================] - 0s 49ms/step\n",
      "1/1 [==============================] - 0s 48ms/step\n",
      "1/1 [==============================] - 0s 51ms/step\n",
      "1/1 [==============================] - 0s 51ms/step\n",
      "1/1 [==============================] - 0s 50ms/step\n",
      "1/1 [==============================] - 0s 58ms/step\n",
      "1/1 [==============================] - 0s 52ms/step\n",
      "1/1 [==============================] - 0s 50ms/step\n",
      "1/1 [==============================] - 0s 50ms/step\n",
      "1/1 [==============================] - 0s 51ms/step\n",
      "1/1 [==============================] - 0s 54ms/step\n",
      "1/1 [==============================] - 0s 43ms/step\n",
      "1/1 [==============================] - 0s 43ms/step\n",
      "1/1 [==============================] - 0s 49ms/step\n",
      "1/1 [==============================] - 0s 41ms/step\n",
      "1/1 [==============================] - 0s 52ms/step\n",
      "1/1 [==============================] - 0s 52ms/step\n",
      "1/1 [==============================] - 0s 43ms/step\n",
      "1/1 [==============================] - 0s 39ms/step\n",
      "1/1 [==============================] - 0s 43ms/step\n",
      "1/1 [==============================] - 0s 41ms/step\n",
      "1/1 [==============================] - 0s 44ms/step\n",
      "1/1 [==============================] - 0s 40ms/step\n",
      "1/1 [==============================] - 0s 43ms/step\n",
      "--------------------------------------------- Result 276 ---------------------------------------------\n",
      "[[1 (35%)]] --> [[0 (37%)]]\n",
      "\n",
      "selamat pagi silakan hubungi bni call untuk melakukan pemblokiran setelah itu silakan datang ke kantor cabang bni terdekat dengan membawa ktp surat keterangan hilang dari kepolisian dan buku tabungan untuk penggantian kartu nya [[ya]] \n",
      "\n",
      "selamat pagi silakan hubungi bni call untuk melakukan pemblokiran setelah itu silakan datang ke kantor cabang bni terdekat dengan membawa ktp surat keterangan hilang dari kepolisian dan buku tabungan untuk penggantian kartu nya [[sekarang]] \n",
      "\n",
      "\n"
     ]
    },
    {
     "name": "stderr",
     "output_type": "stream",
     "text": [
      "[Succeeded / Failed / Skipped / Total] 95 / 93 / 88 / 276:  55%|█████▌    | 276/500 [07:21<05:57,  1.60s/it]"
     ]
    },
    {
     "name": "stdout",
     "output_type": "stream",
     "text": [
      "1/1 [==============================] - 0s 61ms/step\n",
      "1/1 [==============================] - 0s 47ms/step\n",
      "1/1 [==============================] - 0s 41ms/step\n",
      "1/1 [==============================] - 0s 45ms/step\n",
      "1/1 [==============================] - 0s 33ms/step\n",
      "1/1 [==============================] - 0s 41ms/step\n",
      "1/1 [==============================] - 0s 49ms/step\n",
      "1/1 [==============================] - 0s 41ms/step\n",
      "1/1 [==============================] - 0s 45ms/step\n",
      "1/1 [==============================] - 0s 50ms/step\n",
      "1/1 [==============================] - 0s 49ms/step\n",
      "1/1 [==============================] - 0s 43ms/step\n",
      "1/1 [==============================] - 0s 40ms/step\n",
      "1/1 [==============================] - 0s 45ms/step\n",
      "1/1 [==============================] - 0s 46ms/step\n",
      "1/1 [==============================] - 0s 53ms/step\n",
      "1/1 [==============================] - 0s 42ms/step\n",
      "1/1 [==============================] - 0s 42ms/step\n",
      "1/1 [==============================] - 0s 41ms/step\n",
      "1/1 [==============================] - 0s 41ms/step\n",
      "1/1 [==============================] - 0s 41ms/step\n"
     ]
    },
    {
     "name": "stderr",
     "output_type": "stream",
     "text": [
      "[Succeeded / Failed / Skipped / Total] 95 / 94 / 88 / 277:  55%|█████▌    | 277/500 [07:22<05:56,  1.60s/it]"
     ]
    },
    {
     "name": "stdout",
     "output_type": "stream",
     "text": [
      "--------------------------------------------- Result 277 ---------------------------------------------\n",
      "[[1 (41%)]] --> [[[FAILED]]]\n",
      "\n",
      "tadi sore saya baru cek email dan sudah transfer kekurangan tapi belum ada balasan lagi apakah transferan nya sudah masuk atas nama ellena saufika no cust tf via mbanking bni \n",
      "\n",
      "\n",
      "1/1 [==============================] - 0s 35ms/step\n"
     ]
    },
    {
     "name": "stderr",
     "output_type": "stream",
     "text": [
      "[Succeeded / Failed / Skipped / Total] 95 / 94 / 89 / 278:  56%|█████▌    | 278/500 [07:22<05:53,  1.59s/it]"
     ]
    },
    {
     "name": "stdout",
     "output_type": "stream",
     "text": [
      "--------------------------------------------- Result 278 ---------------------------------------------\n",
      "[[0 (35%)]] --> [[[SKIPPED]]]\n",
      "\n",
      "jakarta november di hotel ibis kramat jakarta pusat balai ksda jakarta mengadakan bimtek web based integrated system peredaran tsl secara online e permit untuk mengenalkan sebuah aplikasi pelayanan pemanfaatan tsl yang dinamai si pinter sistem perijinan terpadu \n",
      "\n",
      "\n",
      "1/1 [==============================] - 0s 41ms/step\n"
     ]
    },
    {
     "name": "stderr",
     "output_type": "stream",
     "text": [
      "[Succeeded / Failed / Skipped / Total] 95 / 94 / 90 / 279:  56%|█████▌    | 279/500 [07:23<05:50,  1.59s/it]"
     ]
    },
    {
     "name": "stdout",
     "output_type": "stream",
     "text": [
      "--------------------------------------------- Result 279 ---------------------------------------------\n",
      "[[2 (34%)]] --> [[[SKIPPED]]]\n",
      "\n",
      "dalam kunjungan kerja nya ke provinsi jawa barat presiden meninjau pelayanan bpjs dan kartu indonesia sehat kis di rumah sakit umum pendidikan rsup dari hasan sadikin rshs kota bandung kamis siang februari \n",
      "\n",
      "\n",
      "1/1 [==============================] - 0s 35ms/step\n"
     ]
    },
    {
     "name": "stderr",
     "output_type": "stream",
     "text": [
      "[Succeeded / Failed / Skipped / Total] 95 / 94 / 91 / 280:  56%|█████▌    | 280/500 [07:23<05:48,  1.58s/it]"
     ]
    },
    {
     "name": "stdout",
     "output_type": "stream",
     "text": [
      "--------------------------------------------- Result 280 ---------------------------------------------\n",
      "[[0 (36%)]] --> [[[SKIPPED]]]\n",
      "\n",
      "hari ini rshs berusia tahun \n",
      "\n",
      "\n",
      "1/1 [==============================] - 0s 38ms/step\n",
      "1/1 [==============================] - 0s 44ms/step\n",
      "1/1 [==============================] - 0s 51ms/step\n",
      "1/1 [==============================] - 0s 43ms/step\n",
      "1/1 [==============================] - 0s 41ms/step\n",
      "1/1 [==============================] - 0s 40ms/step\n",
      "1/1 [==============================] - 0s 41ms/step\n",
      "1/1 [==============================] - 0s 47ms/step\n",
      "1/1 [==============================] - 0s 50ms/step\n",
      "1/1 [==============================] - 0s 47ms/step\n",
      "1/1 [==============================] - 0s 41ms/step\n",
      "1/1 [==============================] - 0s 39ms/step\n",
      "1/1 [==============================] - 0s 42ms/step\n",
      "1/1 [==============================] - 0s 51ms/step\n",
      "1/1 [==============================] - 0s 50ms/step\n",
      "1/1 [==============================] - 0s 43ms/step\n",
      "1/1 [==============================] - 0s 40ms/step\n",
      "1/1 [==============================] - 0s 40ms/step\n"
     ]
    },
    {
     "name": "stderr",
     "output_type": "stream",
     "text": [
      "[Succeeded / Failed / Skipped / Total] 96 / 94 / 91 / 281:  56%|█████▌    | 281/500 [07:24<05:46,  1.58s/it]"
     ]
    },
    {
     "name": "stdout",
     "output_type": "stream",
     "text": [
      "--------------------------------------------- Result 281 ---------------------------------------------\n",
      "[[1 (38%)]] --> [[0 (35%)]]\n",
      "\n",
      "pada tanggal februari esok poliklinik rawat jalan rshs tidak melakukan pelayanan dikarenakan hari libur nasional poli kembali buka hari [[senin]] februari \n",
      "\n",
      "pada tanggal februari esok poliklinik rawat jalan rshs tidak melakukan pelayanan dikarenakan hari libur nasional poli kembali buka hari [[Sen]] februari \n",
      "\n",
      "\n",
      "1/1 [==============================] - 0s 52ms/step\n",
      "1/1 [==============================] - 0s 43ms/step\n",
      "1/1 [==============================] - 0s 50ms/step\n",
      "1/1 [==============================] - 0s 52ms/step\n",
      "1/1 [==============================] - 0s 49ms/step\n",
      "1/1 [==============================] - 0s 50ms/step\n",
      "1/1 [==============================] - 0s 33ms/step\n",
      "1/1 [==============================] - 0s 42ms/step\n",
      "1/1 [==============================] - 0s 42ms/step\n",
      "1/1 [==============================] - 0s 52ms/step\n",
      "1/1 [==============================] - 0s 42ms/step\n",
      "1/1 [==============================] - 0s 41ms/step\n",
      "--------------------------------------------- Result 282 ---------------------------------------------\n",
      "[[1 (35%)]] --> [[0 (34%)]]\n",
      "\n",
      "kami ingin [[mengumumkan]] bahwa mal bom kini hadir di shopee mal \n",
      "\n",
      "kami ingin [[bubar]] bahwa mal bom kini hadir di shopee mal \n",
      "\n",
      "\n"
     ]
    },
    {
     "name": "stderr",
     "output_type": "stream",
     "text": [
      "[Succeeded / Failed / Skipped / Total] 97 / 94 / 91 / 282:  56%|█████▋    | 282/500 [07:25<05:44,  1.58s/it]"
     ]
    },
    {
     "name": "stdout",
     "output_type": "stream",
     "text": [
      "1/1 [==============================] - 0s 34ms/step\n",
      "1/1 [==============================] - 0s 45ms/step\n",
      "1/1 [==============================] - 0s 56ms/step\n",
      "1/1 [==============================] - 0s 44ms/step\n",
      "1/1 [==============================] - 0s 41ms/step\n",
      "1/1 [==============================] - 0s 48ms/step\n",
      "1/1 [==============================] - 0s 43ms/step\n",
      "1/1 [==============================] - 0s 51ms/step\n",
      "1/1 [==============================] - 0s 43ms/step\n",
      "1/1 [==============================] - 0s 42ms/step\n"
     ]
    },
    {
     "name": "stderr",
     "output_type": "stream",
     "text": [
      "[Succeeded / Failed / Skipped / Total] 98 / 94 / 91 / 283:  57%|█████▋    | 283/500 [07:26<05:42,  1.58s/it]"
     ]
    },
    {
     "name": "stdout",
     "output_type": "stream",
     "text": [
      "--------------------------------------------- Result 283 ---------------------------------------------\n",
      "[[1 (36%)]] --> [[0 (35%)]]\n",
      "\n",
      "hari ini periode submission xpresound telah ditutup ya dan para juri akan memilih finalis yang akan diumumkan tanggal [[agustus]] nanti \n",
      "\n",
      "hari ini periode submission xpresound telah ditutup ya dan para juri akan memilih finalis yang akan diumumkan tanggal [[Agt]] nanti \n",
      "\n",
      "\n",
      "1/1 [==============================] - 0s 33ms/step\n",
      "1/1 [==============================] - 0s 46ms/step\n",
      "1/1 [==============================] - 0s 40ms/step\n",
      "1/1 [==============================] - 0s 50ms/step\n",
      "1/1 [==============================] - 0s 50ms/step\n",
      "1/1 [==============================] - 0s 42ms/step\n",
      "1/1 [==============================] - 0s 49ms/step\n",
      "1/1 [==============================] - 0s 49ms/step\n",
      "1/1 [==============================] - 0s 49ms/step\n",
      "1/1 [==============================] - 0s 51ms/step\n",
      "1/1 [==============================] - 0s 51ms/step\n",
      "1/1 [==============================] - 0s 49ms/step\n",
      "1/1 [==============================] - 0s 44ms/step\n",
      "1/1 [==============================] - 0s 43ms/step\n",
      "1/1 [==============================] - 0s 53ms/step\n",
      "1/1 [==============================] - 0s 48ms/step\n",
      "1/1 [==============================] - 0s 51ms/step\n",
      "1/1 [==============================] - 0s 47ms/step\n",
      "1/1 [==============================] - 0s 51ms/step\n",
      "1/1 [==============================] - 0s 42ms/step\n",
      "1/1 [==============================] - 0s 41ms/step\n",
      "1/1 [==============================] - 0s 49ms/step\n",
      "1/1 [==============================] - 0s 53ms/step\n",
      "1/1 [==============================] - 0s 51ms/step\n",
      "1/1 [==============================] - 0s 52ms/step\n",
      "1/1 [==============================] - 0s 52ms/step\n",
      "1/1 [==============================] - 0s 52ms/step\n",
      "1/1 [==============================] - 0s 54ms/step\n",
      "1/1 [==============================] - 0s 54ms/step\n",
      "1/1 [==============================] - 0s 60ms/step\n",
      "1/1 [==============================] - 0s 41ms/step\n",
      "1/1 [==============================] - 0s 42ms/step\n",
      "1/1 [==============================] - 0s 37ms/step\n",
      "1/1 [==============================] - 0s 46ms/step\n",
      "1/1 [==============================] - 0s 42ms/step\n",
      "1/1 [==============================] - 0s 51ms/step\n",
      "1/1 [==============================] - 0s 56ms/step\n",
      "1/1 [==============================] - 0s 50ms/step\n",
      "1/1 [==============================] - 0s 47ms/step\n",
      "1/1 [==============================] - 0s 48ms/step\n",
      "1/1 [==============================] - 0s 50ms/step\n",
      "1/1 [==============================] - 0s 52ms/step\n",
      "1/1 [==============================] - 0s 51ms/step\n",
      "1/1 [==============================] - 0s 48ms/step\n",
      "1/1 [==============================] - 0s 42ms/step\n",
      "1/1 [==============================] - 0s 55ms/step\n",
      "1/1 [==============================] - 0s 50ms/step\n",
      "1/1 [==============================] - 0s 52ms/step\n",
      "1/1 [==============================] - 0s 51ms/step\n",
      "1/1 [==============================] - 0s 50ms/step\n",
      "1/1 [==============================] - 0s 42ms/step\n",
      "1/1 [==============================] - 0s 52ms/step\n",
      "1/1 [==============================] - 0s 48ms/step\n",
      "1/1 [==============================] - 0s 49ms/step\n",
      "1/1 [==============================] - 0s 48ms/step\n",
      "1/1 [==============================] - 0s 50ms/step\n",
      "1/1 [==============================] - 0s 50ms/step\n",
      "1/1 [==============================] - 0s 45ms/step\n",
      "1/1 [==============================] - 0s 42ms/step\n",
      "1/1 [==============================] - 0s 47ms/step\n",
      "1/1 [==============================] - 0s 44ms/step\n",
      "1/1 [==============================] - 0s 40ms/step\n",
      "1/1 [==============================] - 0s 41ms/step\n",
      "1/1 [==============================] - 0s 42ms/step\n",
      "1/1 [==============================] - 0s 34ms/step\n"
     ]
    },
    {
     "name": "stderr",
     "output_type": "stream",
     "text": [
      "[Succeeded / Failed / Skipped / Total] 98 / 95 / 91 / 284:  57%|█████▋    | 284/500 [07:32<05:43,  1.59s/it]"
     ]
    },
    {
     "name": "stdout",
     "output_type": "stream",
     "text": [
      "--------------------------------------------- Result 284 ---------------------------------------------\n",
      "[[1 (46%)]] --> [[[FAILED]]]\n",
      "\n",
      "informasi tambahan bahwa untuk pembayaran rp juta yang bapak lakukan tidak menjadikan limit menjadi rp juta melainkan pembayaran tersebut akan mengurangi tagihan yang sedang berjalan jika kartu kredit dalam keadaan berlebihan limit maka akan dikenakan biaya rp ribu \n",
      "\n",
      "\n",
      "1/1 [==============================] - 0s 50ms/step\n"
     ]
    },
    {
     "name": "stderr",
     "output_type": "stream",
     "text": [
      "[Succeeded / Failed / Skipped / Total] 98 / 95 / 92 / 285:  57%|█████▋    | 285/500 [07:32<05:41,  1.59s/it]"
     ]
    },
    {
     "name": "stdout",
     "output_type": "stream",
     "text": [
      "--------------------------------------------- Result 285 ---------------------------------------------\n",
      "[[0 (36%)]] --> [[[SKIPPED]]]\n",
      "\n",
      "sebentar lagi asian games dimulai nih coba tebak ada berapa cabang olahraga yang dipertandingkan di asian games nanti lalu menangkan hadiah kompor spesial dari rinnai untuk orang lazadians yang beruntung \n",
      "\n",
      "\n",
      "1/1 [==============================] - 0s 35ms/step\n"
     ]
    },
    {
     "name": "stderr",
     "output_type": "stream",
     "text": [
      "[Succeeded / Failed / Skipped / Total] 98 / 95 / 93 / 286:  57%|█████▋    | 286/500 [07:32<05:38,  1.58s/it]"
     ]
    },
    {
     "name": "stdout",
     "output_type": "stream",
     "text": [
      "--------------------------------------------- Result 286 ---------------------------------------------\n",
      "[[1 (36%)]] --> [[[SKIPPED]]]\n",
      "\n",
      "saat kunjungan ke hotel menag banyak menerima apresiasi atas layanan haji tahun ini \n",
      "\n",
      "\n",
      "1/1 [==============================] - 0s 36ms/step\n",
      "1/1 [==============================] - 0s 44ms/step\n",
      "1/1 [==============================] - 0s 49ms/step\n",
      "1/1 [==============================] - 0s 50ms/step\n",
      "1/1 [==============================] - 0s 48ms/step\n",
      "1/1 [==============================] - 0s 50ms/step\n",
      "1/1 [==============================] - 0s 48ms/step\n",
      "1/1 [==============================] - 0s 55ms/step\n",
      "1/1 [==============================] - 0s 53ms/step\n",
      "1/1 [==============================] - 0s 44ms/step\n",
      "1/1 [==============================] - 0s 47ms/step\n",
      "1/1 [==============================] - 0s 48ms/step\n",
      "1/1 [==============================] - 0s 39ms/step\n",
      "1/1 [==============================] - 0s 44ms/step\n",
      "1/1 [==============================] - 0s 42ms/step\n",
      "1/1 [==============================] - 0s 41ms/step\n",
      "1/1 [==============================] - 0s 46ms/step\n",
      "1/1 [==============================] - 0s 41ms/step\n",
      "1/1 [==============================] - 0s 42ms/step\n"
     ]
    },
    {
     "name": "stderr",
     "output_type": "stream",
     "text": [
      "[Succeeded / Failed / Skipped / Total] 99 / 95 / 93 / 287:  57%|█████▋    | 287/500 [07:33<05:36,  1.58s/it]"
     ]
    },
    {
     "name": "stdout",
     "output_type": "stream",
     "text": [
      "--------------------------------------------- Result 287 ---------------------------------------------\n",
      "[[1 (36%)]] --> [[0 (35%)]]\n",
      "\n",
      "pagi ini pemkab pemalang melalui menyelenggarakan kegiatan launching sistem layanan informasi [[publik]] secara online dan rakor ppid di [[salah]] satu hotel di pemalang \n",
      "\n",
      "pagi ini pemkab pemalang melalui menyelenggarakan kegiatan launching sistem layanan informasi [[negeri]] secara online dan rakor ppid di [[bohong]] satu hotel di pemalang \n",
      "\n",
      "\n",
      "1/1 [==============================] - 0s 42ms/step\n",
      "1/1 [==============================] - 0s 56ms/step\n",
      "1/1 [==============================] - 0s 42ms/step\n",
      "1/1 [==============================] - 0s 57ms/step\n",
      "1/1 [==============================] - 0s 54ms/step\n",
      "1/1 [==============================] - 0s 50ms/step\n",
      "1/1 [==============================] - 0s 48ms/step\n",
      "1/1 [==============================] - 0s 50ms/step\n",
      "1/1 [==============================] - 0s 50ms/step\n",
      "1/1 [==============================] - 0s 55ms/step\n",
      "1/1 [==============================] - 0s 43ms/step\n",
      "1/1 [==============================] - 0s 45ms/step\n",
      "1/1 [==============================] - 0s 46ms/step\n",
      "1/1 [==============================] - 0s 50ms/step\n",
      "1/1 [==============================] - 0s 49ms/step\n",
      "1/1 [==============================] - 0s 47ms/step\n",
      "1/1 [==============================] - 0s 42ms/step\n",
      "1/1 [==============================] - 0s 33ms/step\n",
      "1/1 [==============================] - 0s 42ms/step\n",
      "1/1 [==============================] - 0s 41ms/step\n",
      "1/1 [==============================] - 0s 34ms/step\n",
      "1/1 [==============================] - 0s 41ms/step\n",
      "1/1 [==============================] - 0s 48ms/step\n",
      "1/1 [==============================] - 0s 44ms/step\n",
      "1/1 [==============================] - 0s 41ms/step\n",
      "1/1 [==============================] - 0s 39ms/step\n",
      "1/1 [==============================] - 0s 44ms/step\n",
      "1/1 [==============================] - 0s 34ms/step\n"
     ]
    },
    {
     "name": "stderr",
     "output_type": "stream",
     "text": [
      "[Succeeded / Failed / Skipped / Total] 100 / 95 / 93 / 288:  58%|█████▊    | 288/500 [07:36<05:35,  1.58s/it]"
     ]
    },
    {
     "name": "stdout",
     "output_type": "stream",
     "text": [
      "--------------------------------------------- Result 288 ---------------------------------------------\n",
      "[[1 (36%)]] --> [[0 (36%)]]\n",
      "\n",
      "kemnaker ri menyelenggarakan pameran kesempatan kerja job fair nasional tahun di balairung hotel bumiwiyata depok jawa barat tanggal juli job fair ini tidak dipungut [[biaya]] gratis \n",
      "\n",
      "kemnaker ri menyelenggarakan pameran kesempatan kerja job fair nasional tahun di balairung hotel bumiwiyata depok jawa barat tanggal juli job fair ini tidak dipungut [[harga]] gratis \n",
      "\n",
      "\n",
      "1/1 [==============================] - 0s 38ms/step\n"
     ]
    },
    {
     "name": "stderr",
     "output_type": "stream",
     "text": [
      "[Succeeded / Failed / Skipped / Total] 100 / 95 / 94 / 289:  58%|█████▊    | 289/500 [07:36<05:33,  1.58s/it]"
     ]
    },
    {
     "name": "stdout",
     "output_type": "stream",
     "text": [
      "--------------------------------------------- Result 289 ---------------------------------------------\n",
      "[[0 (36%)]] --> [[[SKIPPED]]]\n",
      "\n",
      "gelaran jateng wow telah usai pada maret lalu dari pelaksanaan selama dua bulan penuh kegiatan ini telah meningkatkan hunian hotel mendatangkan ribuan kunjungan wisatawan mancanegara ke jawa tengah \n",
      "\n",
      "\n",
      "1/1 [==============================] - 0s 36ms/step\n",
      "--------------------------------------------- Result 290 ---------------------------------------------\n",
      "[[0 (34%)]] --> [[[SKIPPED]]]\n",
      "\n",
      "presiden harapkan menpar ri dan menko untuk mengajak pelaku pariwisata baik hotel maupun maskapai penerbangan untuk juga diajak memberikan informasi mempromosikan wisata di indonesia khusus nya bali \n",
      "\n",
      "\n"
     ]
    },
    {
     "name": "stderr",
     "output_type": "stream",
     "text": [
      "[Succeeded / Failed / Skipped / Total] 100 / 95 / 95 / 290:  58%|█████▊    | 290/500 [07:36<05:30,  1.57s/it]"
     ]
    },
    {
     "name": "stdout",
     "output_type": "stream",
     "text": [
      "1/1 [==============================] - 0s 35ms/step\n",
      "1/1 [==============================] - 0s 51ms/step\n",
      "1/1 [==============================] - 0s 40ms/step\n",
      "1/1 [==============================] - 0s 47ms/step\n",
      "1/1 [==============================] - 0s 54ms/step\n",
      "1/1 [==============================] - 0s 50ms/step\n",
      "1/1 [==============================] - 0s 50ms/step\n",
      "1/1 [==============================] - 0s 52ms/step\n",
      "1/1 [==============================] - 0s 51ms/step\n",
      "1/1 [==============================] - 0s 49ms/step\n",
      "1/1 [==============================] - 0s 48ms/step\n",
      "1/1 [==============================] - 0s 49ms/step\n",
      "1/1 [==============================] - 0s 49ms/step\n",
      "1/1 [==============================] - 0s 54ms/step\n",
      "1/1 [==============================] - 0s 49ms/step\n",
      "1/1 [==============================] - 0s 52ms/step\n",
      "1/1 [==============================] - 0s 49ms/step\n",
      "1/1 [==============================] - 0s 47ms/step\n",
      "1/1 [==============================] - 0s 55ms/step\n",
      "1/1 [==============================] - 0s 49ms/step\n",
      "1/1 [==============================] - 0s 47ms/step\n",
      "1/1 [==============================] - 0s 41ms/step\n",
      "1/1 [==============================] - 0s 44ms/step\n",
      "1/1 [==============================] - 0s 50ms/step\n",
      "1/1 [==============================] - 0s 42ms/step\n",
      "1/1 [==============================] - 0s 42ms/step\n",
      "1/1 [==============================] - 0s 50ms/step\n",
      "1/1 [==============================] - 0s 42ms/step\n",
      "1/1 [==============================] - 0s 47ms/step\n",
      "1/1 [==============================] - 0s 41ms/step\n",
      "1/1 [==============================] - 0s 47ms/step\n",
      "1/1 [==============================] - 0s 36ms/step\n",
      "1/1 [==============================] - 0s 42ms/step\n",
      "1/1 [==============================] - 0s 42ms/step\n",
      "1/1 [==============================] - 0s 48ms/step\n",
      "1/1 [==============================] - 0s 42ms/step\n",
      "1/1 [==============================] - 0s 48ms/step\n",
      "1/1 [==============================] - 0s 42ms/step\n",
      "1/1 [==============================] - 0s 57ms/step\n",
      "1/1 [==============================] - 0s 42ms/step\n",
      "1/1 [==============================] - 0s 40ms/step\n",
      "1/1 [==============================] - 0s 50ms/step\n",
      "1/1 [==============================] - 0s 41ms/step\n",
      "1/1 [==============================] - 0s 43ms/step\n",
      "1/1 [==============================] - 0s 47ms/step\n",
      "1/1 [==============================] - 0s 48ms/step\n",
      "1/1 [==============================] - 0s 47ms/step\n",
      "1/1 [==============================] - 0s 48ms/step\n",
      "1/1 [==============================] - 0s 49ms/step\n",
      "1/1 [==============================] - 0s 49ms/step\n",
      "1/1 [==============================] - 0s 49ms/step\n",
      "1/1 [==============================] - 0s 52ms/step\n",
      "1/1 [==============================] - 0s 51ms/step\n",
      "1/1 [==============================] - 0s 50ms/step\n",
      "1/1 [==============================] - 0s 49ms/step\n",
      "1/1 [==============================] - 0s 41ms/step\n"
     ]
    },
    {
     "name": "stderr",
     "output_type": "stream",
     "text": [
      "[Succeeded / Failed / Skipped / Total] 101 / 95 / 95 / 291:  58%|█████▊    | 291/500 [07:41<05:31,  1.59s/it]"
     ]
    },
    {
     "name": "stdout",
     "output_type": "stream",
     "text": [
      "--------------------------------------------- Result 291 ---------------------------------------------\n",
      "[[1 (35%)]] --> [[0 (37%)]]\n",
      "\n",
      "gubernur dki jakarta anies baswedan membentuk tim evaluasi tata kelola air minum pembentukan tim ini tertuang dalam keputusan gubernur nomor tahun yang ditandatangani agustus tim ini diketuai sekretaris daerah saefullah dengan wakil [[ketua]] asisten pembangunan dan lingkungan hidup yusmada faizal \n",
      "\n",
      "gubernur dki jakarta anies baswedan membentuk tim evaluasi tata kelola air minum pembentukan tim ini tertuang dalam keputusan gubernur nomor tahun yang ditandatangani agustus tim ini diketuai sekretaris daerah saefullah dengan wakil [[kepala]] asisten pembangunan dan lingkungan hidup yusmada faizal \n",
      "\n",
      "\n",
      "1/1 [==============================] - 0s 43ms/step\n"
     ]
    },
    {
     "name": "stderr",
     "output_type": "stream",
     "text": [
      "[Succeeded / Failed / Skipped / Total] 101 / 95 / 96 / 292:  58%|█████▊    | 292/500 [07:41<05:28,  1.58s/it]"
     ]
    },
    {
     "name": "stdout",
     "output_type": "stream",
     "text": [
      "--------------------------------------------- Result 292 ---------------------------------------------\n",
      "[[2 (34%)]] --> [[[SKIPPED]]]\n",
      "\n",
      "tujuh pemain real madrid akan menyamai rekor paolo maldini dan dani alves yang sampai saat ini masih menyandang predikat raja di piala super eropa ketujuh pemain yang dimaksud adalah dani carvajal sergio ramos marcelo luka modric karim benzema isco dan toni kroos di antara tujuh pemain itu sudah ada enam pemain yang meraih tiga gelar piala super eropa bersama real madrid yakni carvajal ramos marcelo modric benzema dan isco \n",
      "\n",
      "\n",
      "1/1 [==============================] - 0s 35ms/step\n",
      "1/1 [==============================] - 0s 51ms/step\n",
      "1/1 [==============================] - 0s 32ms/step\n",
      "1/1 [==============================] - 0s 51ms/step\n",
      "1/1 [==============================] - 0s 58ms/step\n",
      "1/1 [==============================] - 0s 41ms/step\n",
      "1/1 [==============================] - 0s 42ms/step\n",
      "1/1 [==============================] - 0s 34ms/step\n",
      "1/1 [==============================] - 0s 43ms/step\n",
      "1/1 [==============================] - 0s 43ms/step\n",
      "1/1 [==============================] - 0s 43ms/step\n",
      "1/1 [==============================] - 0s 41ms/step\n",
      "1/1 [==============================] - 0s 40ms/step\n",
      "1/1 [==============================] - 0s 40ms/step\n",
      "1/1 [==============================] - 0s 42ms/step\n",
      "1/1 [==============================] - 0s 48ms/step\n",
      "1/1 [==============================] - 0s 46ms/step\n",
      "1/1 [==============================] - 0s 49ms/step\n",
      "1/1 [==============================] - 0s 48ms/step\n",
      "1/1 [==============================] - 0s 48ms/step\n",
      "1/1 [==============================] - 0s 44ms/step\n",
      "1/1 [==============================] - 0s 47ms/step\n",
      "1/1 [==============================] - 0s 43ms/step\n",
      "1/1 [==============================] - 0s 45ms/step\n",
      "1/1 [==============================] - 0s 42ms/step\n",
      "1/1 [==============================] - 0s 56ms/step\n",
      "1/1 [==============================] - 0s 41ms/step\n",
      "1/1 [==============================] - 0s 42ms/step\n",
      "1/1 [==============================] - 0s 43ms/step\n",
      "1/1 [==============================] - 0s 42ms/step\n",
      "1/1 [==============================] - 0s 34ms/step\n",
      "1/1 [==============================] - 0s 48ms/step\n",
      "1/1 [==============================] - 0s 41ms/step\n",
      "1/1 [==============================] - 0s 50ms/step\n",
      "1/1 [==============================] - 0s 42ms/step\n"
     ]
    },
    {
     "name": "stderr",
     "output_type": "stream",
     "text": [
      "[Succeeded / Failed / Skipped / Total] 102 / 95 / 96 / 293:  59%|█████▊    | 293/500 [07:44<05:28,  1.59s/it]"
     ]
    },
    {
     "name": "stdout",
     "output_type": "stream",
     "text": [
      "--------------------------------------------- Result 293 ---------------------------------------------\n",
      "[[1 (36%)]] --> [[0 (36%)]]\n",
      "\n",
      "keberadaan peraturan presiden nomor tahun tentang strategi nasional pencegahan korupsi yang telah diteken oleh presiden joko widodo pada juli silam diharapkan mampu menghasilkan perubahan mendasar khusus nya terkait tiga aspek ketiga aspek itu menyangkut perizinan dan tata niaga keuangan negara dan penegakan hukum serta [[reformasi]] birokrasi \n",
      "\n",
      "keberadaan peraturan presiden nomor tahun tentang strategi nasional pencegahan korupsi yang telah diteken oleh presiden joko widodo pada juli silam diharapkan mampu menghasilkan perubahan mendasar khusus nya terkait tiga aspek ketiga aspek itu menyangkut perizinan dan tata niaga keuangan negara dan penegakan hukum serta [[pembaruan]] birokrasi \n",
      "\n",
      "\n",
      "1/1 [==============================] - 0s 34ms/step\n"
     ]
    },
    {
     "name": "stderr",
     "output_type": "stream",
     "text": [
      "[Succeeded / Failed / Skipped / Total] 102 / 95 / 97 / 294:  59%|█████▉    | 294/500 [07:45<05:26,  1.58s/it]"
     ]
    },
    {
     "name": "stdout",
     "output_type": "stream",
     "text": [
      "--------------------------------------------- Result 294 ---------------------------------------------\n",
      "[[2 (35%)]] --> [[[SKIPPED]]]\n",
      "\n",
      "beberapa fungsi layanan kami membutuhkan pendaftaran akun dengan memilih identifikasi pengguna id pengguna dan kata sandi unik serta memberikan informasi pribadi tertentu apabila anda memilih id pengguna yang dianggap tidak sopan atau tidak pantas oleh shopee atas kebijakan nya sendiri shopee berhak untuk menangguhkan atau mengakhiri akun anda \n",
      "\n",
      "\n",
      "1/1 [==============================] - 0s 34ms/step\n"
     ]
    },
    {
     "name": "stderr",
     "output_type": "stream",
     "text": [
      "[Succeeded / Failed / Skipped / Total] 102 / 95 / 98 / 295:  59%|█████▉    | 295/500 [07:45<05:23,  1.58s/it]"
     ]
    },
    {
     "name": "stdout",
     "output_type": "stream",
     "text": [
      "--------------------------------------------- Result 295 ---------------------------------------------\n",
      "[[0 (37%)]] --> [[[SKIPPED]]]\n",
      "\n",
      "sebuah musibah baru saja menimpa kampung adat megalitikum gurusina di bajawa flores kebakaran hebat yang terjadi pada senin sore hampir menghanguskan seluruh kampung total dari rumah adat yang ada habis dilalap api bersama semua cerita dan sejarah nya \n",
      "\n",
      "\n",
      "1/1 [==============================] - 0s 40ms/step\n"
     ]
    },
    {
     "name": "stderr",
     "output_type": "stream",
     "text": [
      "[Succeeded / Failed / Skipped / Total] 102 / 95 / 99 / 296:  59%|█████▉    | 296/500 [07:45<05:20,  1.57s/it]"
     ]
    },
    {
     "name": "stdout",
     "output_type": "stream",
     "text": [
      "--------------------------------------------- Result 296 ---------------------------------------------\n",
      "[[0 (38%)]] --> [[[SKIPPED]]]\n",
      "\n",
      "di usia tahun saat nya gerakan pramuka di tanah air menjawab tantangan zaman baru anggota pramuka harus dididik bukan hanya bahasa morse tetapi juga pengetahuan digital seperti coding artificial intelligence advance robotic dan internet of things \n",
      "\n",
      "\n",
      "1/1 [==============================] - 0s 44ms/step\n"
     ]
    },
    {
     "name": "stderr",
     "output_type": "stream",
     "text": [
      "[Succeeded / Failed / Skipped / Total] 102 / 95 / 99 / 296:  59%|█████▉    | 297/500 [07:45<05:18,  1.57s/it]"
     ]
    },
    {
     "name": "stdout",
     "output_type": "stream",
     "text": [
      "--------------------------------------------- Result 297 ---------------------------------------------\n",
      "[[0 (36%)]] --> [[[SKIPPED]]]\n",
      "\n",
      "dalam paparan nya menkeu smi menekankan penting nya menjaga integritas taxmin sebagai penyalur utama informasi perpajakan agar menyampaikan informasi yang baik dan benar kepada masyarakat melalui media sosial yang dimiliki nya \n",
      "\n",
      "\n"
     ]
    },
    {
     "name": "stderr",
     "output_type": "stream",
     "text": [
      "[Succeeded / Failed / Skipped / Total] 102 / 95 / 100 / 297:  59%|█████▉    | 297/500 [07:45<05:18,  1.57s/it]"
     ]
    },
    {
     "name": "stdout",
     "output_type": "stream",
     "text": [
      "1/1 [==============================] - 0s 34ms/step\n",
      "1/1 [==============================] - 0s 52ms/step\n",
      "1/1 [==============================] - 0s 51ms/step\n",
      "1/1 [==============================] - 0s 48ms/step\n",
      "1/1 [==============================] - 0s 46ms/step\n",
      "1/1 [==============================] - 0s 52ms/step\n",
      "1/1 [==============================] - 0s 51ms/step\n",
      "1/1 [==============================] - 0s 48ms/step\n",
      "1/1 [==============================] - 0s 46ms/step\n",
      "1/1 [==============================] - 0s 33ms/step\n",
      "1/1 [==============================] - 0s 33ms/step\n",
      "1/1 [==============================] - 0s 48ms/step\n",
      "1/1 [==============================] - 0s 47ms/step\n",
      "1/1 [==============================] - 0s 52ms/step\n",
      "1/1 [==============================] - 0s 47ms/step\n",
      "--------------------------------------------- Result 298 ---------------------------------------------\n",
      "[[1 (37%)]] --> [[0 (35%)]]\n",
      "\n",
      "sahabat mido untuk kenyamanan pemohon paspor dan menghindari praktik percaloan direktorat jenderal imigrasi bekerjasama dengan kementerian keuangan melalui bank bank yang tergabung dalam sistim informasi penerimaan [[negara]] bukan pajak online simponi \n",
      "\n",
      "sahabat mido untuk kenyamanan pemohon paspor dan menghindari praktik percaloan direktorat jenderal imigrasi bekerjasama dengan kementerian keuangan melalui bank bank yang tergabung dalam sistim informasi penerimaan [[negeri]] bukan pajak online simponi \n",
      "\n",
      "\n"
     ]
    },
    {
     "name": "stderr",
     "output_type": "stream",
     "text": [
      "[Succeeded / Failed / Skipped / Total] 103 / 95 / 100 / 298:  60%|█████▉    | 298/500 [07:46<05:16,  1.57s/it]"
     ]
    },
    {
     "name": "stdout",
     "output_type": "stream",
     "text": [
      "1/1 [==============================] - 0s 35ms/step\n",
      "1/1 [==============================] - 0s 51ms/step\n",
      "1/1 [==============================] - 0s 47ms/step\n",
      "1/1 [==============================] - 0s 46ms/step\n",
      "1/1 [==============================] - 0s 48ms/step\n",
      "1/1 [==============================] - 0s 47ms/step\n",
      "1/1 [==============================] - 0s 48ms/step\n",
      "1/1 [==============================] - 0s 47ms/step\n",
      "1/1 [==============================] - 0s 47ms/step\n",
      "1/1 [==============================] - 0s 47ms/step\n",
      "1/1 [==============================] - 0s 46ms/step\n",
      "1/1 [==============================] - 0s 50ms/step\n",
      "1/1 [==============================] - 0s 54ms/step\n",
      "1/1 [==============================] - 0s 52ms/step\n",
      "1/1 [==============================] - 0s 50ms/step\n",
      "1/1 [==============================] - 0s 46ms/step\n",
      "1/1 [==============================] - 0s 46ms/step\n"
     ]
    },
    {
     "name": "stderr",
     "output_type": "stream",
     "text": [
      "[Succeeded / Failed / Skipped / Total] 104 / 95 / 100 / 299:  60%|█████▉    | 299/500 [07:48<05:14,  1.57s/it]"
     ]
    },
    {
     "name": "stdout",
     "output_type": "stream",
     "text": [
      "--------------------------------------------- Result 299 ---------------------------------------------\n",
      "[[1 (34%)]] --> [[2 (34%)]]\n",
      "\n",
      "hai kak saat ini jam opertional restoran pizza hut belum sampai jam ya sekadar informasi restoran ph dan phd berbeda menu dengan konsep nya informasi mengenai phd kk dapat menghubungi atau tanyakan ke akun official nya id [[kak]] \n",
      "\n",
      "hai kak saat ini jam opertional restoran pizza hut belum sampai jam ya sekadar informasi restoran ph dan phd berbeda menu dengan konsep nya informasi mengenai phd kk dapat menghubungi atau tanyakan ke akun official nya id [[puan]] \n",
      "\n",
      "\n",
      "1/1 [==============================] - 0s 34ms/step\n",
      "1/1 [==============================] - 0s 51ms/step\n",
      "1/1 [==============================] - 0s 48ms/step\n",
      "1/1 [==============================] - 0s 51ms/step\n",
      "1/1 [==============================] - 0s 49ms/step\n",
      "1/1 [==============================] - 0s 46ms/step\n",
      "1/1 [==============================] - 0s 47ms/step\n",
      "1/1 [==============================] - 0s 47ms/step\n",
      "1/1 [==============================] - 0s 49ms/step\n",
      "1/1 [==============================] - 0s 49ms/step\n",
      "1/1 [==============================] - 0s 47ms/step\n",
      "1/1 [==============================] - 0s 46ms/step\n",
      "1/1 [==============================] - 0s 46ms/step\n",
      "1/1 [==============================] - 0s 52ms/step\n",
      "1/1 [==============================] - 0s 51ms/step\n",
      "1/1 [==============================] - 0s 54ms/step\n",
      "1/1 [==============================] - 0s 53ms/step\n",
      "1/1 [==============================] - 0s 52ms/step\n",
      "1/1 [==============================] - 0s 52ms/step\n",
      "1/1 [==============================] - 0s 34ms/step\n",
      "1/1 [==============================] - 0s 51ms/step\n",
      "1/1 [==============================] - 0s 57ms/step\n",
      "1/1 [==============================] - 0s 47ms/step\n",
      "1/1 [==============================] - 0s 47ms/step\n",
      "--------------------------------------------- Result 300 ---------------------------------------------\n",
      "[[1 (40%)]] --> [[0 (35%)]]\n",
      "\n",
      "juru bicara komisi pemberantasan korupsi kpk febri diansyah mengungkapkan laporan harta kekayaan calon presiden joko widodo telah terverifikasi lengkap kpk dalam waktu dekat akan mengumumkan laporan harta kekayaan jokowi di situs [[resmi]] kpk \n",
      "\n",
      "juru bicara komisi pemberantasan korupsi kpk febri diansyah mengungkapkan laporan harta kekayaan calon presiden joko widodo telah terverifikasi lengkap kpk dalam waktu dekat akan mengumumkan laporan harta kekayaan jokowi di situs [[tabiat]] kpk \n",
      "\n",
      "\n"
     ]
    },
    {
     "name": "stderr",
     "output_type": "stream",
     "text": [
      "[Succeeded / Failed / Skipped / Total] 105 / 95 / 100 / 300:  60%|██████    | 300/500 [07:50<05:13,  1.57s/it]"
     ]
    },
    {
     "name": "stdout",
     "output_type": "stream",
     "text": [
      "1/1 [==============================] - 0s 33ms/step\n",
      "1/1 [==============================] - 0s 46ms/step\n",
      "1/1 [==============================] - 0s 47ms/step\n",
      "1/1 [==============================] - 0s 51ms/step\n",
      "1/1 [==============================] - 0s 50ms/step\n"
     ]
    },
    {
     "name": "stderr",
     "output_type": "stream",
     "text": [
      "[Succeeded / Failed / Skipped / Total] 105 / 96 / 100 / 301:  60%|██████    | 301/500 [07:50<05:11,  1.56s/it]"
     ]
    },
    {
     "name": "stdout",
     "output_type": "stream",
     "text": [
      "--------------------------------------------- Result 301 ---------------------------------------------\n",
      "[[0 (41%)]] --> [[[FAILED]]]\n",
      "\n",
      "dia tidak pantas jadi pemimpin negara ini \n",
      "\n",
      "\n",
      "1/1 [==============================] - 0s 33ms/step\n",
      "1/1 [==============================] - 0s 60ms/step\n",
      "1/1 [==============================] - 0s 54ms/step\n",
      "1/1 [==============================] - 0s 51ms/step\n",
      "1/1 [==============================] - 0s 46ms/step\n",
      "1/1 [==============================] - 0s 46ms/step\n",
      "--------------------------------------------- Result 302 ---------------------------------------------\n",
      "[[0 (38%)]] --> [[2 (36%)]]\n",
      "\n",
      "tidak perlu diragukan lagi semua [[orang]] memang membenci dia aku pun sama \n",
      "\n",
      "tidak perlu diragukan lagi semua [[muda]] memang membenci dia aku pun sama \n",
      "\n",
      "\n"
     ]
    },
    {
     "name": "stderr",
     "output_type": "stream",
     "text": [
      "[Succeeded / Failed / Skipped / Total] 106 / 96 / 100 / 302:  60%|██████    | 302/500 [07:51<05:09,  1.56s/it]"
     ]
    },
    {
     "name": "stdout",
     "output_type": "stream",
     "text": [
      "1/1 [==============================] - 0s 37ms/step\n",
      "1/1 [==============================] - 0s 47ms/step\n",
      "1/1 [==============================] - 0s 53ms/step\n",
      "1/1 [==============================] - 0s 51ms/step\n",
      "1/1 [==============================] - 0s 46ms/step\n",
      "1/1 [==============================] - 0s 33ms/step\n",
      "1/1 [==============================] - 0s 53ms/step\n",
      "1/1 [==============================] - 0s 49ms/step\n",
      "1/1 [==============================] - 0s 49ms/step\n",
      "1/1 [==============================] - 0s 51ms/step\n",
      "1/1 [==============================] - 0s 42ms/step\n",
      "1/1 [==============================] - 0s 60ms/step\n",
      "1/1 [==============================] - 0s 53ms/step\n",
      "1/1 [==============================] - 0s 47ms/step\n",
      "1/1 [==============================] - 0s 53ms/step\n",
      "1/1 [==============================] - 0s 54ms/step\n",
      "1/1 [==============================] - 0s 46ms/step\n"
     ]
    },
    {
     "name": "stderr",
     "output_type": "stream",
     "text": [
      "[Succeeded / Failed / Skipped / Total] 106 / 97 / 100 / 303:  61%|██████    | 303/500 [07:52<05:07,  1.56s/it]"
     ]
    },
    {
     "name": "stdout",
     "output_type": "stream",
     "text": [
      "--------------------------------------------- Result 303 ---------------------------------------------\n",
      "[[0 (39%)]] --> [[[FAILED]]]\n",
      "\n",
      "selalu tidak suka sama cara dia ngomong belepotan dan sok paling mengerti sama masalah di negara ini \n",
      "\n",
      "\n",
      "1/1 [==============================] - 0s 41ms/step\n",
      "1/1 [==============================] - 0s 48ms/step\n",
      "1/1 [==============================] - 0s 46ms/step\n",
      "1/1 [==============================] - 0s 33ms/step\n",
      "1/1 [==============================] - 0s 49ms/step\n"
     ]
    },
    {
     "name": "stderr",
     "output_type": "stream",
     "text": [
      "[Succeeded / Failed / Skipped / Total] 107 / 97 / 100 / 304:  61%|██████    | 304/500 [07:53<05:05,  1.56s/it]"
     ]
    },
    {
     "name": "stdout",
     "output_type": "stream",
     "text": [
      "--------------------------------------------- Result 304 ---------------------------------------------\n",
      "[[0 (39%)]] --> [[1 (34%)]]\n",
      "\n",
      "pelayanan di supermarket itu [[payah]] \n",
      "\n",
      "pelayanan di supermarket itu [[kompleks]] \n",
      "\n",
      "\n",
      "1/1 [==============================] - 0s 41ms/step\n",
      "1/1 [==============================] - 0s 48ms/step\n",
      "1/1 [==============================] - 0s 50ms/step\n",
      "1/1 [==============================] - 0s 47ms/step\n",
      "1/1 [==============================] - 0s 48ms/step\n",
      "1/1 [==============================] - 0s 46ms/step\n",
      "1/1 [==============================] - 0s 46ms/step\n",
      "1/1 [==============================] - 0s 48ms/step\n",
      "1/1 [==============================] - 0s 48ms/step\n",
      "1/1 [==============================] - 0s 48ms/step\n",
      "1/1 [==============================] - 0s 49ms/step\n",
      "1/1 [==============================] - 0s 49ms/step\n",
      "1/1 [==============================] - 0s 48ms/step\n",
      "1/1 [==============================] - 0s 46ms/step\n",
      "1/1 [==============================] - 0s 55ms/step\n",
      "1/1 [==============================] - 0s 47ms/step\n",
      "1/1 [==============================] - 0s 49ms/step\n"
     ]
    },
    {
     "name": "stderr",
     "output_type": "stream",
     "text": [
      "[Succeeded / Failed / Skipped / Total] 107 / 97 / 100 / 304:  61%|██████    | 305/500 [07:54<05:03,  1.56s/it]"
     ]
    },
    {
     "name": "stdout",
     "output_type": "stream",
     "text": [
      "--------------------------------------------- Result 305 ---------------------------------------------\n",
      "[[0 (44%)]] --> [[2 (36%)]]\n",
      "\n",
      "aku [[kecewa]] dengan pelayanan hotel yang semalam aku tempati [[kamar]] [[mandi]] [[kotor]] pelayan tidak ramah \n",
      "\n",
      "aku [[tewas]] dengan pelayanan hotel yang semalam aku tempati [[tempat]] [[bersiram]] [[pudar]] pelayan tidak ramah \n",
      "\n",
      "\n"
     ]
    },
    {
     "name": "stderr",
     "output_type": "stream",
     "text": [
      "[Succeeded / Failed / Skipped / Total] 108 / 97 / 100 / 305:  61%|██████    | 305/500 [07:54<05:03,  1.56s/it]"
     ]
    },
    {
     "name": "stdout",
     "output_type": "stream",
     "text": [
      "1/1 [==============================] - 0s 36ms/step\n",
      "1/1 [==============================] - 0s 46ms/step\n",
      "1/1 [==============================] - 0s 48ms/step\n",
      "1/1 [==============================] - 0s 46ms/step\n",
      "1/1 [==============================] - 0s 46ms/step\n",
      "1/1 [==============================] - 0s 48ms/step\n",
      "1/1 [==============================] - 0s 52ms/step\n",
      "1/1 [==============================] - 0s 50ms/step\n",
      "1/1 [==============================] - 0s 48ms/step\n",
      "1/1 [==============================] - 0s 48ms/step\n",
      "1/1 [==============================] - 0s 46ms/step\n"
     ]
    },
    {
     "name": "stderr",
     "output_type": "stream",
     "text": [
      "[Succeeded / Failed / Skipped / Total] 108 / 98 / 100 / 306:  61%|██████    | 306/500 [07:55<05:01,  1.55s/it]"
     ]
    },
    {
     "name": "stdout",
     "output_type": "stream",
     "text": [
      "--------------------------------------------- Result 306 ---------------------------------------------\n",
      "[[0 (40%)]] --> [[[FAILED]]]\n",
      "\n",
      "parah sih bikin emosi naik ngobrol sama pelayanan pelanggan bank itu songong setelah \n",
      "\n",
      "\n",
      "1/1 [==============================] - 0s 37ms/step\n",
      "1/1 [==============================] - 0s 50ms/step\n",
      "1/1 [==============================] - 0s 50ms/step\n",
      "1/1 [==============================] - 0s 64ms/step\n",
      "1/1 [==============================] - 0s 52ms/step\n",
      "1/1 [==============================] - 0s 46ms/step\n",
      "1/1 [==============================] - 0s 48ms/step\n",
      "1/1 [==============================] - 0s 48ms/step\n",
      "1/1 [==============================] - 0s 53ms/step\n",
      "1/1 [==============================] - 0s 48ms/step\n",
      "1/1 [==============================] - 0s 52ms/step\n",
      "1/1 [==============================] - 0s 49ms/step\n",
      "1/1 [==============================] - 0s 47ms/step\n",
      "1/1 [==============================] - 0s 48ms/step\n",
      "1/1 [==============================] - 0s 53ms/step\n",
      "1/1 [==============================] - 0s 54ms/step\n",
      "1/1 [==============================] - 0s 47ms/step\n",
      "1/1 [==============================] - 0s 52ms/step\n",
      "1/1 [==============================] - 0s 48ms/step\n",
      "1/1 [==============================] - 0s 48ms/step\n",
      "1/1 [==============================] - 0s 48ms/step\n",
      "1/1 [==============================] - 0s 54ms/step\n",
      "1/1 [==============================] - 0s 49ms/step\n",
      "1/1 [==============================] - 0s 50ms/step\n",
      "1/1 [==============================] - 0s 48ms/step\n"
     ]
    },
    {
     "name": "stderr",
     "output_type": "stream",
     "text": [
      "[Succeeded / Failed / Skipped / Total] 108 / 99 / 100 / 307:  61%|██████▏   | 307/500 [07:57<05:00,  1.56s/it]"
     ]
    },
    {
     "name": "stdout",
     "output_type": "stream",
     "text": [
      "--------------------------------------------- Result 307 ---------------------------------------------\n",
      "[[0 (44%)]] --> [[[FAILED]]]\n",
      "\n",
      "dia tidak cocok pakai baju mahal karena dari sana nya memang sudah kelihatan kayak orang miskin \n",
      "\n",
      "\n",
      "1/1 [==============================] - 0s 40ms/step\n",
      "1/1 [==============================] - 0s 52ms/step\n",
      "1/1 [==============================] - 0s 47ms/step\n",
      "1/1 [==============================] - 0s 52ms/step\n",
      "1/1 [==============================] - 0s 48ms/step\n",
      "1/1 [==============================] - 0s 48ms/step\n",
      "1/1 [==============================] - 0s 48ms/step\n",
      "1/1 [==============================] - 0s 53ms/step\n",
      "1/1 [==============================] - 0s 48ms/step\n",
      "1/1 [==============================] - 0s 50ms/step\n",
      "1/1 [==============================] - 0s 48ms/step\n",
      "1/1 [==============================] - 0s 53ms/step\n",
      "1/1 [==============================] - 0s 49ms/step\n",
      "1/1 [==============================] - 0s 53ms/step\n",
      "1/1 [==============================] - 0s 55ms/step\n",
      "1/1 [==============================] - 0s 47ms/step\n",
      "1/1 [==============================] - 0s 54ms/step\n",
      "1/1 [==============================] - 0s 47ms/step\n",
      "1/1 [==============================] - 0s 46ms/step\n",
      "--------------------------------------------- Result 308 ---------------------------------------------\n"
     ]
    },
    {
     "name": "stderr",
     "output_type": "stream",
     "text": [
      "[Succeeded / Failed / Skipped / Total] 108 / 100 / 100 / 308:  62%|██████▏   | 308/500 [07:59<04:58,  1.56s/it]"
     ]
    },
    {
     "name": "stdout",
     "output_type": "stream",
     "text": [
      "[[0 (40%)]] --> [[[FAILED]]]\n",
      "\n",
      "harga makanan di restoran tadi mahal banget sudah begitu tidak enak lagi makanan nya \n",
      "\n",
      "\n",
      "1/1 [==============================] - 0s 36ms/step\n",
      "1/1 [==============================] - 0s 47ms/step\n",
      "1/1 [==============================] - 0s 46ms/step\n",
      "1/1 [==============================] - 0s 49ms/step\n",
      "1/1 [==============================] - 0s 52ms/step\n",
      "1/1 [==============================] - 0s 47ms/step\n",
      "1/1 [==============================] - 0s 47ms/step\n",
      "1/1 [==============================] - 0s 47ms/step\n",
      "1/1 [==============================] - 0s 49ms/step\n"
     ]
    },
    {
     "name": "stderr",
     "output_type": "stream",
     "text": [
      "[Succeeded / Failed / Skipped / Total] 109 / 100 / 100 / 309:  62%|██████▏   | 309/500 [08:00<04:56,  1.55s/it]"
     ]
    },
    {
     "name": "stdout",
     "output_type": "stream",
     "text": [
      "--------------------------------------------- Result 309 ---------------------------------------------\n",
      "[[0 (36%)]] --> [[1 (35%)]]\n",
      "\n",
      "nyesel deh beli [[baju]] di toko tadi kualitas nya murahan [[banget]] \n",
      "\n",
      "nyesel deh beli [[angka]] di toko tadi kualitas nya murahan [[metah]] \n",
      "\n",
      "\n",
      "1/1 [==============================] - 0s 38ms/step\n",
      "1/1 [==============================] - 0s 67ms/step\n",
      "1/1 [==============================] - 0s 47ms/step\n",
      "1/1 [==============================] - 0s 52ms/step\n",
      "1/1 [==============================] - 0s 52ms/step\n",
      "1/1 [==============================] - 0s 46ms/step\n",
      "1/1 [==============================] - 0s 54ms/step\n",
      "1/1 [==============================] - 0s 53ms/step\n",
      "1/1 [==============================] - 0s 52ms/step\n",
      "1/1 [==============================] - 0s 52ms/step\n",
      "1/1 [==============================] - 0s 50ms/step\n",
      "1/1 [==============================] - 0s 49ms/step\n",
      "1/1 [==============================] - 0s 50ms/step\n",
      "1/1 [==============================] - 0s 50ms/step\n",
      "1/1 [==============================] - 0s 51ms/step\n",
      "1/1 [==============================] - 0s 50ms/step\n",
      "1/1 [==============================] - 0s 53ms/step\n",
      "1/1 [==============================] - 0s 46ms/step\n",
      "1/1 [==============================] - 0s 51ms/step\n",
      "1/1 [==============================] - 0s 64ms/step\n",
      "1/1 [==============================] - 0s 45ms/step\n",
      "1/1 [==============================] - 0s 48ms/step\n",
      "1/1 [==============================] - 0s 50ms/step\n",
      "1/1 [==============================] - 0s 50ms/step\n",
      "1/1 [==============================] - 0s 52ms/step\n",
      "1/1 [==============================] - 0s 45ms/step\n",
      "1/1 [==============================] - 0s 55ms/step\n",
      "1/1 [==============================] - 0s 53ms/step\n",
      "1/1 [==============================] - 0s 49ms/step\n",
      "1/1 [==============================] - 0s 48ms/step\n",
      "1/1 [==============================] - 0s 51ms/step\n",
      "1/1 [==============================] - 0s 51ms/step\n",
      "1/1 [==============================] - 0s 51ms/step\n",
      "1/1 [==============================] - 0s 50ms/step\n",
      "1/1 [==============================] - 0s 48ms/step\n",
      "1/1 [==============================] - 0s 52ms/step\n",
      "1/1 [==============================] - 0s 51ms/step\n",
      "1/1 [==============================] - 0s 47ms/step\n",
      "1/1 [==============================] - 0s 46ms/step\n",
      "1/1 [==============================] - 0s 45ms/step\n",
      "--------------------------------------------- Result 310 ---------------------------------------------\n",
      "[[0 (44%)]] --> [[[FAILED]]]\n",
      "\n",
      "ipuh pantesan tidak pernah didatangkan banyak orang ternyata tempat makan di sana dalem nya kotor banget sampah saja dibiarkan berserakan \n",
      "\n",
      "\n"
     ]
    },
    {
     "name": "stderr",
     "output_type": "stream",
     "text": [
      "[Succeeded / Failed / Skipped / Total] 109 / 101 / 100 / 310:  62%|██████▏   | 310/500 [08:03<04:56,  1.56s/it]"
     ]
    },
    {
     "name": "stdout",
     "output_type": "stream",
     "text": [
      "1/1 [==============================] - 0s 33ms/step\n",
      "1/1 [==============================] - 0s 50ms/step\n",
      "1/1 [==============================] - 0s 49ms/step\n",
      "1/1 [==============================] - 0s 47ms/step\n",
      "1/1 [==============================] - 0s 53ms/step\n",
      "1/1 [==============================] - 0s 51ms/step\n",
      "1/1 [==============================] - 0s 52ms/step\n",
      "1/1 [==============================] - 0s 50ms/step\n",
      "1/1 [==============================] - 0s 53ms/step\n",
      "1/1 [==============================] - 0s 51ms/step\n",
      "1/1 [==============================] - 0s 54ms/step\n",
      "1/1 [==============================] - 0s 52ms/step\n",
      "1/1 [==============================] - 0s 54ms/step\n",
      "1/1 [==============================] - 0s 54ms/step\n",
      "1/1 [==============================] - 0s 55ms/step\n",
      "1/1 [==============================] - 0s 50ms/step\n",
      "1/1 [==============================] - 0s 55ms/step\n",
      "1/1 [==============================] - 0s 47ms/step\n",
      "1/1 [==============================] - 0s 61ms/step\n",
      "1/1 [==============================] - 0s 46ms/step\n",
      "1/1 [==============================] - 0s 49ms/step\n",
      "1/1 [==============================] - 0s 44ms/step\n",
      "1/1 [==============================] - 0s 39ms/step\n",
      "1/1 [==============================] - 0s 55ms/step\n",
      "1/1 [==============================] - 0s 47ms/step\n",
      "1/1 [==============================] - 0s 53ms/step\n",
      "1/1 [==============================] - 0s 53ms/step\n",
      "1/1 [==============================] - 0s 51ms/step\n",
      "1/1 [==============================] - 0s 53ms/step\n",
      "1/1 [==============================] - 0s 51ms/step\n",
      "1/1 [==============================] - 0s 51ms/step\n",
      "1/1 [==============================] - 0s 53ms/step\n",
      "1/1 [==============================] - 0s 50ms/step\n",
      "1/1 [==============================] - 0s 56ms/step\n",
      "1/1 [==============================] - 0s 51ms/step\n",
      "1/1 [==============================] - 0s 52ms/step\n",
      "1/1 [==============================] - 0s 45ms/step\n",
      "1/1 [==============================] - 0s 44ms/step\n",
      "1/1 [==============================] - 0s 51ms/step\n",
      "1/1 [==============================] - 0s 47ms/step\n",
      "1/1 [==============================] - 0s 35ms/step\n",
      "1/1 [==============================] - 0s 54ms/step\n",
      "1/1 [==============================] - 0s 48ms/step\n"
     ]
    },
    {
     "name": "stderr",
     "output_type": "stream",
     "text": [
      "[Succeeded / Failed / Skipped / Total] 109 / 102 / 100 / 311:  62%|██████▏   | 311/500 [08:07<04:56,  1.57s/it]"
     ]
    },
    {
     "name": "stdout",
     "output_type": "stream",
     "text": [
      "--------------------------------------------- Result 311 ---------------------------------------------\n",
      "[[0 (38%)]] --> [[[FAILED]]]\n",
      "\n",
      "tidak ada enak nya makan di sana bakso tidak enak teh manis nya rasanya aneh mi ayam nya mie nya kelembekan tidak mau lagi deh ke sana \n",
      "\n",
      "\n",
      "1/1 [==============================] - 0s 33ms/step\n",
      "1/1 [==============================] - 0s 47ms/step\n",
      "1/1 [==============================] - 0s 51ms/step\n",
      "1/1 [==============================] - 0s 46ms/step\n",
      "1/1 [==============================] - 0s 47ms/step\n",
      "1/1 [==============================] - 0s 47ms/step\n",
      "1/1 [==============================] - 0s 52ms/step\n",
      "1/1 [==============================] - 0s 51ms/step\n",
      "1/1 [==============================] - 0s 59ms/step\n",
      "1/1 [==============================] - 0s 57ms/step\n",
      "1/1 [==============================] - 0s 47ms/step\n",
      "1/1 [==============================] - 0s 46ms/step\n",
      "1/1 [==============================] - 0s 45ms/step\n",
      "1/1 [==============================] - 0s 49ms/step\n"
     ]
    },
    {
     "name": "stderr",
     "output_type": "stream",
     "text": [
      "[Succeeded / Failed / Skipped / Total] 109 / 103 / 100 / 312:  62%|██████▏   | 312/500 [08:08<04:54,  1.57s/it]"
     ]
    },
    {
     "name": "stdout",
     "output_type": "stream",
     "text": [
      "--------------------------------------------- Result 312 ---------------------------------------------\n",
      "[[0 (40%)]] --> [[[FAILED]]]\n",
      "\n",
      "benci banget sama pelayanan di rumah sakit itu tidak ada adab nya \n",
      "\n",
      "\n",
      "1/1 [==============================] - 0s 45ms/step\n",
      "1/1 [==============================] - 0s 50ms/step\n",
      "1/1 [==============================] - 0s 49ms/step\n",
      "1/1 [==============================] - 0s 46ms/step\n",
      "1/1 [==============================] - 0s 50ms/step\n",
      "1/1 [==============================] - 0s 47ms/step\n",
      "1/1 [==============================] - 0s 51ms/step\n",
      "1/1 [==============================] - 0s 50ms/step\n",
      "1/1 [==============================] - 0s 46ms/step\n",
      "1/1 [==============================] - 0s 53ms/step\n",
      "1/1 [==============================] - 0s 45ms/step\n",
      "1/1 [==============================] - 0s 54ms/step\n",
      "1/1 [==============================] - 0s 52ms/step\n",
      "1/1 [==============================] - 0s 49ms/step\n",
      "1/1 [==============================] - 0s 53ms/step\n",
      "1/1 [==============================] - 0s 47ms/step\n",
      "1/1 [==============================] - 0s 54ms/step\n",
      "1/1 [==============================] - 0s 48ms/step\n"
     ]
    },
    {
     "name": "stderr",
     "output_type": "stream",
     "text": [
      "[Succeeded / Failed / Skipped / Total] 109 / 104 / 100 / 313:  63%|██████▎   | 313/500 [08:10<04:53,  1.57s/it]"
     ]
    },
    {
     "name": "stdout",
     "output_type": "stream",
     "text": [
      "--------------------------------------------- Result 313 ---------------------------------------------\n",
      "[[0 (46%)]] --> [[[FAILED]]]\n",
      "\n",
      "saya tidak mau bicara lagi sama orang bodoh kayak dia \n",
      "\n",
      "\n",
      "1/1 [==============================] - 0s 33ms/step\n",
      "1/1 [==============================] - 0s 54ms/step\n",
      "1/1 [==============================] - 0s 52ms/step\n",
      "1/1 [==============================] - 0s 53ms/step\n",
      "1/1 [==============================] - 0s 46ms/step\n",
      "1/1 [==============================] - 0s 50ms/step\n",
      "1/1 [==============================] - 0s 51ms/step\n",
      "1/1 [==============================] - 0s 50ms/step\n",
      "1/1 [==============================] - 0s 47ms/step\n",
      "1/1 [==============================] - 0s 49ms/step\n",
      "1/1 [==============================] - 0s 50ms/step\n",
      "1/1 [==============================] - 0s 47ms/step\n",
      "1/1 [==============================] - 0s 49ms/step\n",
      "--------------------------------------------- Result 314 ---------------------------------------------\n",
      "[[0 (37%)]] --> [[2 (36%)]]\n",
      "\n",
      "sampai kapan pun saya tidak sudi berbagi sama [[orang]] yang tidak tahu [[terima]] [[kasih]] biarpun dia [[keluarga]] saya sendiri \n",
      "\n",
      "sampai kapan pun saya tidak sudi berbagi sama [[muda]] yang tidak tahu [[muat]] [[cinta]] biarpun dia [[kategori]] saya sendiri \n",
      "\n",
      "\n"
     ]
    },
    {
     "name": "stderr",
     "output_type": "stream",
     "text": [
      "[Succeeded / Failed / Skipped / Total] 110 / 104 / 100 / 314:  63%|██████▎   | 314/500 [08:11<04:51,  1.57s/it]"
     ]
    },
    {
     "name": "stdout",
     "output_type": "stream",
     "text": [
      "1/1 [==============================] - 0s 34ms/step\n",
      "1/1 [==============================] - 0s 50ms/step\n",
      "1/1 [==============================] - 0s 45ms/step\n",
      "1/1 [==============================] - 0s 46ms/step\n",
      "1/1 [==============================] - 0s 52ms/step\n",
      "1/1 [==============================] - 0s 50ms/step\n",
      "1/1 [==============================] - 0s 49ms/step\n",
      "1/1 [==============================] - 0s 44ms/step\n",
      "1/1 [==============================] - 0s 45ms/step\n",
      "1/1 [==============================] - 0s 47ms/step\n",
      "1/1 [==============================] - 0s 46ms/step\n",
      "1/1 [==============================] - 0s 46ms/step\n",
      "1/1 [==============================] - 0s 44ms/step\n",
      "1/1 [==============================] - 0s 48ms/step\n"
     ]
    },
    {
     "name": "stderr",
     "output_type": "stream",
     "text": [
      "[Succeeded / Failed / Skipped / Total] 110 / 104 / 100 / 314:  63%|██████▎   | 315/500 [08:12<04:49,  1.56s/it]"
     ]
    },
    {
     "name": "stdout",
     "output_type": "stream",
     "text": [
      "--------------------------------------------- Result 315 ---------------------------------------------\n",
      "[[0 (38%)]] --> [[2 (36%)]]\n",
      "\n",
      "gue tidak puas sama pelayanan kerja di tempat kemarin [[hak]] [[hak]] karyawan dibatesin banget \n",
      "\n",
      "gue tidak puas sama pelayanan kerja di tempat kemarin [[peluang]] [[peluang]] karyawan dibatesin banget "
     ]
    },
    {
     "name": "stderr",
     "output_type": "stream",
     "text": [
      "[Succeeded / Failed / Skipped / Total] 111 / 104 / 100 / 315:  63%|██████▎   | 315/500 [08:12<04:49,  1.56s/it]"
     ]
    },
    {
     "name": "stdout",
     "output_type": "stream",
     "text": [
      "\n",
      "\n",
      "\n",
      "1/1 [==============================] - 0s 35ms/step\n",
      "1/1 [==============================] - 0s 48ms/step\n",
      "1/1 [==============================] - 0s 53ms/step\n",
      "1/1 [==============================] - 0s 51ms/step\n",
      "1/1 [==============================] - 0s 46ms/step\n",
      "1/1 [==============================] - 0s 45ms/step\n",
      "1/1 [==============================] - 0s 49ms/step\n",
      "1/1 [==============================] - 0s 51ms/step\n",
      "1/1 [==============================] - 0s 48ms/step\n",
      "1/1 [==============================] - 0s 45ms/step\n",
      "1/1 [==============================] - 0s 48ms/step\n",
      "1/1 [==============================] - 0s 47ms/step\n",
      "1/1 [==============================] - 0s 53ms/step\n",
      "1/1 [==============================] - 0s 48ms/step\n",
      "1/1 [==============================] - 0s 45ms/step\n"
     ]
    },
    {
     "name": "stderr",
     "output_type": "stream",
     "text": [
      "[Succeeded / Failed / Skipped / Total] 111 / 105 / 100 / 316:  63%|██████▎   | 316/500 [08:14<04:47,  1.56s/it]"
     ]
    },
    {
     "name": "stdout",
     "output_type": "stream",
     "text": [
      "--------------------------------------------- Result 316 ---------------------------------------------\n",
      "[[0 (43%)]] --> [[[FAILED]]]\n",
      "\n",
      "gue sudah mengecap dia jelek sih jadi mau sebaik apa pun sikap nya gue tetap tidak suka dia \n",
      "\n",
      "\n",
      "1/1 [==============================] - 0s 42ms/step\n",
      "1/1 [==============================] - 0s 45ms/step\n",
      "1/1 [==============================] - 0s 47ms/step\n",
      "1/1 [==============================] - 0s 47ms/step\n",
      "1/1 [==============================] - 0s 35ms/step\n",
      "1/1 [==============================] - 0s 50ms/step\n",
      "1/1 [==============================] - 0s 44ms/step\n",
      "1/1 [==============================] - 0s 50ms/step\n",
      "1/1 [==============================] - 0s 45ms/step\n",
      "1/1 [==============================] - 0s 35ms/step\n",
      "1/1 [==============================] - 0s 45ms/step\n"
     ]
    },
    {
     "name": "stderr",
     "output_type": "stream",
     "text": [
      "[Succeeded / Failed / Skipped / Total] 111 / 106 / 100 / 317:  63%|██████▎   | 317/500 [08:15<04:45,  1.56s/it]"
     ]
    },
    {
     "name": "stdout",
     "output_type": "stream",
     "text": [
      "--------------------------------------------- Result 317 ---------------------------------------------\n",
      "[[0 (40%)]] --> [[[FAILED]]]\n",
      "\n",
      "setelah diperhatikan iklan di indonesia paling tidak kreatif dibanding negara lain terutama thailand \n",
      "\n",
      "\n",
      "1/1 [==============================] - 0s 43ms/step\n",
      "1/1 [==============================] - 0s 47ms/step\n",
      "1/1 [==============================] - 0s 53ms/step\n",
      "1/1 [==============================] - 0s 55ms/step\n",
      "1/1 [==============================] - 0s 43ms/step\n",
      "1/1 [==============================] - 0s 45ms/step\n",
      "1/1 [==============================] - 0s 46ms/step\n",
      "1/1 [==============================] - 0s 60ms/step\n",
      "1/1 [==============================] - 0s 50ms/step\n",
      "1/1 [==============================] - 0s 45ms/step\n",
      "1/1 [==============================] - 0s 54ms/step\n",
      "1/1 [==============================] - 0s 49ms/step\n",
      "1/1 [==============================] - 0s 45ms/step\n"
     ]
    },
    {
     "name": "stderr",
     "output_type": "stream",
     "text": [
      "[Succeeded / Failed / Skipped / Total] 111 / 107 / 100 / 318:  64%|██████▎   | 318/500 [08:16<04:44,  1.56s/it]"
     ]
    },
    {
     "name": "stdout",
     "output_type": "stream",
     "text": [
      "--------------------------------------------- Result 318 ---------------------------------------------\n",
      "[[0 (42%)]] --> [[[FAILED]]]\n",
      "\n",
      "tidak mengerti lagi sama perfilman di indonesia tidak berkualitas banget \n",
      "\n",
      "\n",
      "1/1 [==============================] - 0s 58ms/step\n",
      "1/1 [==============================] - 0s 49ms/step\n",
      "1/1 [==============================] - 0s 53ms/step\n",
      "1/1 [==============================] - 0s 49ms/step\n",
      "1/1 [==============================] - 0s 45ms/step\n",
      "1/1 [==============================] - 0s 46ms/step\n",
      "1/1 [==============================] - 0s 46ms/step\n",
      "1/1 [==============================] - 0s 52ms/step\n",
      "1/1 [==============================] - 0s 54ms/step\n",
      "1/1 [==============================] - 0s 53ms/step\n",
      "1/1 [==============================] - 0s 50ms/step\n",
      "1/1 [==============================] - 0s 52ms/step\n",
      "1/1 [==============================] - 0s 50ms/step\n",
      "1/1 [==============================] - 0s 52ms/step\n",
      "1/1 [==============================] - 0s 50ms/step\n",
      "1/1 [==============================] - 0s 52ms/step\n",
      "1/1 [==============================] - 0s 50ms/step\n",
      "1/1 [==============================] - 0s 48ms/step\n",
      "1/1 [==============================] - 0s 50ms/step\n",
      "1/1 [==============================] - 0s 49ms/step\n",
      "1/1 [==============================] - 0s 49ms/step\n",
      "1/1 [==============================] - 0s 45ms/step\n",
      "1/1 [==============================] - 0s 47ms/step\n",
      "1/1 [==============================] - 0s 50ms/step\n",
      "1/1 [==============================] - 0s 52ms/step\n",
      "1/1 [==============================] - 0s 45ms/step\n"
     ]
    },
    {
     "name": "stderr",
     "output_type": "stream",
     "text": [
      "[Succeeded / Failed / Skipped / Total] 112 / 107 / 100 / 319:  64%|██████▍   | 319/500 [08:18<04:42,  1.56s/it]"
     ]
    },
    {
     "name": "stdout",
     "output_type": "stream",
     "text": [
      "--------------------------------------------- Result 319 ---------------------------------------------\n",
      "[[0 (39%)]] --> [[1 (34%)]]\n",
      "\n",
      "gue enggak [[suka]] sama [[pelatih]] timnas yang sekarang [[strategi]] yang dibikin nya tidak bisa dipakai buat [[mengalahkan]] [[lawan]] \n",
      "\n",
      "gue enggak [[minat]] sama [[sel]] timnas yang sekarang [[rencana]] yang dibikin nya tidak bisa dipakai buat [[tewas]] [[musuh]] \n",
      "\n",
      "\n",
      "1/1 [==============================] - 0s 33ms/step\n",
      "1/1 [==============================] - 0s 50ms/step\n",
      "1/1 [==============================] - 0s 52ms/step\n",
      "1/1 [==============================] - 0s 50ms/step\n",
      "1/1 [==============================] - 0s 46ms/step\n",
      "1/1 [==============================] - 0s 52ms/step\n",
      "1/1 [==============================] - 0s 51ms/step\n",
      "1/1 [==============================] - 0s 47ms/step\n",
      "1/1 [==============================] - 0s 44ms/step\n",
      "1/1 [==============================] - 0s 47ms/step\n",
      "1/1 [==============================] - 0s 54ms/step\n",
      "1/1 [==============================] - 0s 55ms/step\n",
      "1/1 [==============================] - 0s 48ms/step\n",
      "1/1 [==============================] - 0s 53ms/step\n",
      "1/1 [==============================] - 0s 48ms/step\n",
      "1/1 [==============================] - 0s 46ms/step\n",
      "1/1 [==============================] - 0s 51ms/step\n",
      "1/1 [==============================] - 0s 50ms/step\n",
      "1/1 [==============================] - 0s 45ms/step\n",
      "1/1 [==============================] - 0s 45ms/step\n",
      "1/1 [==============================] - 0s 45ms/step\n"
     ]
    },
    {
     "name": "stderr",
     "output_type": "stream",
     "text": [
      "[Succeeded / Failed / Skipped / Total] 112 / 108 / 100 / 320:  64%|██████▍   | 320/500 [08:20<04:41,  1.56s/it]"
     ]
    },
    {
     "name": "stdout",
     "output_type": "stream",
     "text": [
      "--------------------------------------------- Result 320 ---------------------------------------------\n",
      "[[0 (43%)]] --> [[[FAILED]]]\n",
      "\n",
      "orang orang di indonesia itu memang begitu kerjaan nya nethink terus sama pemimpin tidak suka gue \n",
      "\n",
      "\n",
      "1/1 [==============================] - 0s 43ms/step\n",
      "1/1 [==============================] - 0s 48ms/step\n",
      "1/1 [==============================] - 0s 51ms/step\n",
      "1/1 [==============================] - 0s 51ms/step\n",
      "1/1 [==============================] - 0s 49ms/step\n",
      "1/1 [==============================] - 0s 54ms/step\n",
      "1/1 [==============================] - 0s 50ms/step\n",
      "1/1 [==============================] - 0s 46ms/step\n",
      "1/1 [==============================] - 0s 47ms/step\n",
      "1/1 [==============================] - 0s 50ms/step\n",
      "1/1 [==============================] - 0s 48ms/step\n"
     ]
    },
    {
     "name": "stderr",
     "output_type": "stream",
     "text": [
      "[Succeeded / Failed / Skipped / Total] 112 / 109 / 100 / 321:  64%|██████▍   | 321/500 [08:21<04:39,  1.56s/it]"
     ]
    },
    {
     "name": "stdout",
     "output_type": "stream",
     "text": [
      "--------------------------------------------- Result 321 ---------------------------------------------\n",
      "[[0 (41%)]] --> [[[FAILED]]]\n",
      "\n",
      "kadang bingung sih kenapa mulut netijen pada tidak bisa dijaga bisa nya behina terus aneh \n",
      "\n",
      "\n",
      "1/1 [==============================] - 0s 35ms/step\n",
      "1/1 [==============================] - 0s 63ms/step\n",
      "--------------------------------------------- Result 322 ---------------------------------------------\n",
      "[[0 (42%)]] --> [[[FAILED]]]\n",
      "\n",
      "ah persija mah cupu \n",
      "\n",
      "\n"
     ]
    },
    {
     "name": "stderr",
     "output_type": "stream",
     "text": [
      "[Succeeded / Failed / Skipped / Total] 112 / 110 / 100 / 322:  64%|██████▍   | 322/500 [08:21<04:37,  1.56s/it]"
     ]
    },
    {
     "name": "stdout",
     "output_type": "stream",
     "text": [
      "1/1 [==============================] - 0s 40ms/step\n",
      "1/1 [==============================] - 0s 48ms/step\n",
      "1/1 [==============================] - 0s 51ms/step\n",
      "1/1 [==============================] - 0s 51ms/step\n",
      "1/1 [==============================] - 0s 52ms/step\n",
      "1/1 [==============================] - 0s 49ms/step\n",
      "1/1 [==============================] - 0s 51ms/step\n",
      "1/1 [==============================] - 0s 34ms/step\n",
      "1/1 [==============================] - 0s 50ms/step\n",
      "1/1 [==============================] - 0s 46ms/step\n",
      "1/1 [==============================] - 0s 49ms/step\n",
      "1/1 [==============================] - 0s 50ms/step\n",
      "1/1 [==============================] - 0s 34ms/step\n",
      "1/1 [==============================] - 0s 50ms/step\n",
      "1/1 [==============================] - 0s 51ms/step\n",
      "1/1 [==============================] - 0s 49ms/step\n",
      "1/1 [==============================] - 0s 48ms/step\n",
      "1/1 [==============================] - 0s 48ms/step\n",
      "1/1 [==============================] - 0s 49ms/step\n"
     ]
    },
    {
     "name": "stderr",
     "output_type": "stream",
     "text": [
      "[Succeeded / Failed / Skipped / Total] 112 / 111 / 100 / 323:  65%|██████▍   | 323/500 [08:23<04:35,  1.56s/it]"
     ]
    },
    {
     "name": "stdout",
     "output_type": "stream",
     "text": [
      "--------------------------------------------- Result 323 ---------------------------------------------\n",
      "[[0 (40%)]] --> [[[FAILED]]]\n",
      "\n",
      "persija cuma bisa mencari ribut saja kalau lagi main di lapangan main nya tidak jago sama sekali \n",
      "\n",
      "\n",
      "1/1 [==============================] - 0s 32ms/step\n",
      "1/1 [==============================] - 0s 52ms/step\n",
      "1/1 [==============================] - 0s 47ms/step\n",
      "1/1 [==============================] - 0s 47ms/step\n",
      "1/1 [==============================] - 0s 51ms/step\n",
      "1/1 [==============================] - 0s 44ms/step\n",
      "1/1 [==============================] - 0s 51ms/step\n",
      "1/1 [==============================] - 0s 53ms/step\n",
      "1/1 [==============================] - 0s 59ms/step\n",
      "1/1 [==============================] - 0s 44ms/step\n",
      "1/1 [==============================] - 0s 50ms/step\n",
      "1/1 [==============================] - 0s 52ms/step\n",
      "1/1 [==============================] - 0s 44ms/step\n",
      "1/1 [==============================] - 0s 50ms/step\n",
      "1/1 [==============================] - 0s 45ms/step\n",
      "1/1 [==============================] - 0s 52ms/step\n",
      "1/1 [==============================] - 0s 45ms/step\n",
      "1/1 [==============================] - 0s 46ms/step\n",
      "1/1 [==============================] - 0s 51ms/step\n",
      "1/1 [==============================] - 0s 50ms/step\n",
      "1/1 [==============================] - 0s 46ms/step\n",
      "1/1 [==============================] - 0s 48ms/step\n",
      "1/1 [==============================] - 0s 50ms/step\n",
      "1/1 [==============================] - 0s 44ms/step\n",
      "1/1 [==============================] - 0s 45ms/step\n"
     ]
    },
    {
     "name": "stderr",
     "output_type": "stream",
     "text": [
      "[Succeeded / Failed / Skipped / Total] 112 / 112 / 100 / 324:  65%|██████▍   | 324/500 [08:25<04:34,  1.56s/it]"
     ]
    },
    {
     "name": "stdout",
     "output_type": "stream",
     "text": [
      "--------------------------------------------- Result 324 ---------------------------------------------\n",
      "[[0 (42%)]] --> [[[FAILED]]]\n",
      "\n",
      "memang masih zaman ya ngomong pakai kode kodean tidak suka banget gue sama orang yang kayak gitu \n",
      "\n",
      "\n",
      "1/1 [==============================] - 0s 36ms/step\n",
      "1/1 [==============================] - 0s 51ms/step\n",
      "1/1 [==============================] - 0s 50ms/step\n",
      "1/1 [==============================] - 0s 48ms/step\n",
      "1/1 [==============================] - 0s 51ms/step\n",
      "1/1 [==============================] - 0s 46ms/step\n",
      "1/1 [==============================] - 0s 53ms/step\n",
      "1/1 [==============================] - 0s 55ms/step\n",
      "1/1 [==============================] - 0s 45ms/step\n",
      "1/1 [==============================] - 0s 48ms/step\n"
     ]
    },
    {
     "name": "stderr",
     "output_type": "stream",
     "text": [
      "[Succeeded / Failed / Skipped / Total] 113 / 112 / 100 / 325:  65%|██████▌   | 325/500 [08:26<04:32,  1.56s/it]"
     ]
    },
    {
     "name": "stdout",
     "output_type": "stream",
     "text": [
      "--------------------------------------------- Result 325 ---------------------------------------------\n",
      "[[0 (37%)]] --> [[2 (35%)]]\n",
      "\n",
      "harus nya pop ditenggelamkan di indonesia karena cuma bikin [[anak]] muda lupa [[agama]] \n",
      "\n",
      "harus nya pop ditenggelamkan di indonesia karena cuma bikin [[muda]] muda lupa [[keagamaan]] \n",
      "\n",
      "\n",
      "1/1 [==============================] - 0s 34ms/step\n",
      "1/1 [==============================] - 0s 47ms/step\n",
      "1/1 [==============================] - 0s 48ms/step\n",
      "1/1 [==============================] - 0s 51ms/step\n",
      "1/1 [==============================] - 0s 47ms/step\n",
      "1/1 [==============================] - 0s 73ms/step\n",
      "1/1 [==============================] - 0s 44ms/step\n",
      "1/1 [==============================] - 0s 50ms/step\n",
      "1/1 [==============================] - 0s 51ms/step\n",
      "1/1 [==============================] - 0s 47ms/step\n",
      "--------------------------------------------- Result 326 ---------------------------------------------\n",
      "[[0 (39%)]] --> [[2 (37%)]]\n",
      "\n",
      "kagak ada faedah nya kenal kpop yang ada mata kita dibutakan terus bikin kita muja muja [[manusia]] \n",
      "\n",
      "kagak ada faedah nya kenal kpop yang ada mata kita dibutakan terus bikin kita muja muja [[unik]] \n",
      "\n",
      "\n"
     ]
    },
    {
     "name": "stderr",
     "output_type": "stream",
     "text": [
      "[Succeeded / Failed / Skipped / Total] 114 / 112 / 100 / 326:  65%|██████▌   | 326/500 [08:27<04:30,  1.56s/it]"
     ]
    },
    {
     "name": "stdout",
     "output_type": "stream",
     "text": [
      "1/1 [==============================] - 0s 34ms/step\n",
      "1/1 [==============================] - 0s 47ms/step\n",
      "1/1 [==============================] - 0s 50ms/step\n",
      "1/1 [==============================] - 0s 49ms/step\n",
      "1/1 [==============================] - 0s 43ms/step\n",
      "1/1 [==============================] - 0s 45ms/step\n",
      "1/1 [==============================] - 0s 46ms/step\n",
      "1/1 [==============================] - 0s 45ms/step\n",
      "1/1 [==============================] - 0s 44ms/step\n",
      "1/1 [==============================] - 0s 33ms/step\n",
      "1/1 [==============================] - 0s 33ms/step\n",
      "1/1 [==============================] - 0s 51ms/step\n",
      "1/1 [==============================] - 0s 54ms/step\n",
      "1/1 [==============================] - 0s 51ms/step\n",
      "1/1 [==============================] - 0s 44ms/step\n",
      "1/1 [==============================] - 0s 46ms/step\n",
      "1/1 [==============================] - 0s 45ms/step\n"
     ]
    },
    {
     "name": "stderr",
     "output_type": "stream",
     "text": [
      "[Succeeded / Failed / Skipped / Total] 114 / 113 / 100 / 327:  65%|██████▌   | 327/500 [08:28<04:29,  1.56s/it]"
     ]
    },
    {
     "name": "stdout",
     "output_type": "stream",
     "text": [
      "--------------------------------------------- Result 327 ---------------------------------------------\n",
      "[[0 (38%)]] --> [[[FAILED]]]\n",
      "\n",
      "entah kenapa gue enggak suka banget sama politisi yang bisa ngemis ngemis suara rakyat dengan manfaatkan harga diri ulama \n",
      "\n",
      "\n",
      "1/1 [==============================] - 0s 36ms/step\n",
      "1/1 [==============================] - 0s 44ms/step\n",
      "1/1 [==============================] - 0s 45ms/step\n",
      "1/1 [==============================] - 0s 44ms/step\n",
      "1/1 [==============================] - 0s 48ms/step\n",
      "1/1 [==============================] - 0s 55ms/step\n",
      "1/1 [==============================] - 0s 47ms/step\n",
      "1/1 [==============================] - 0s 46ms/step\n",
      "1/1 [==============================] - 0s 59ms/step\n"
     ]
    },
    {
     "name": "stderr",
     "output_type": "stream",
     "text": [
      "[Succeeded / Failed / Skipped / Total] 114 / 114 / 100 / 328:  66%|██████▌   | 328/500 [08:29<04:27,  1.55s/it]"
     ]
    },
    {
     "name": "stdout",
     "output_type": "stream",
     "text": [
      "--------------------------------------------- Result 328 ---------------------------------------------\n",
      "[[0 (38%)]] --> [[[FAILED]]]\n",
      "\n",
      "menyesal gue beli vivo kamera nya tidak bagus \n",
      "\n",
      "\n",
      "1/1 [==============================] - 0s 33ms/step\n",
      "1/1 [==============================] - 0s 44ms/step\n",
      "1/1 [==============================] - 0s 44ms/step\n",
      "1/1 [==============================] - 0s 49ms/step\n",
      "1/1 [==============================] - 0s 46ms/step\n",
      "1/1 [==============================] - 0s 45ms/step\n",
      "1/1 [==============================] - 0s 49ms/step\n",
      "1/1 [==============================] - 0s 53ms/step\n",
      "1/1 [==============================] - 0s 44ms/step\n",
      "1/1 [==============================] - 0s 50ms/step\n",
      "1/1 [==============================] - 0s 49ms/step\n"
     ]
    },
    {
     "name": "stderr",
     "output_type": "stream",
     "text": [
      "[Succeeded / Failed / Skipped / Total] 115 / 114 / 100 / 329:  66%|██████▌   | 329/500 [08:30<04:25,  1.55s/it]"
     ]
    },
    {
     "name": "stdout",
     "output_type": "stream",
     "text": [
      "--------------------------------------------- Result 329 ---------------------------------------------\n",
      "[[0 (38%)]] --> [[1 (34%)]]\n",
      "\n",
      "sudah berkali kali [[mencoba]] produk apple tetap tidak [[suka]] \n",
      "\n",
      "sudah berkali kali [[periksa]] produk apple tetap tidak [[bagai]] \n",
      "\n",
      "\n",
      "1/1 [==============================] - 0s 33ms/step\n",
      "1/1 [==============================] - 0s 45ms/step\n",
      "1/1 [==============================] - 0s 45ms/step\n",
      "1/1 [==============================] - 0s 44ms/step\n",
      "1/1 [==============================] - 0s 46ms/step\n"
     ]
    },
    {
     "name": "stderr",
     "output_type": "stream",
     "text": [
      "[Succeeded / Failed / Skipped / Total] 116 / 114 / 100 / 330:  66%|██████▌   | 330/500 [08:30<04:23,  1.55s/it]"
     ]
    },
    {
     "name": "stdout",
     "output_type": "stream",
     "text": [
      "--------------------------------------------- Result 330 ---------------------------------------------\n",
      "[[0 (34%)]] --> [[1 (36%)]]\n",
      "\n",
      "produk lokal memang [[cetek]] \n",
      "\n",
      "produk lokal memang [[dangkal]] \n",
      "\n",
      "\n",
      "1/1 [==============================] - 0s 44ms/step\n",
      "1/1 [==============================] - 0s 45ms/step\n",
      "1/1 [==============================] - 0s 45ms/step\n",
      "1/1 [==============================] - 0s 44ms/step\n",
      "1/1 [==============================] - 0s 45ms/step\n"
     ]
    },
    {
     "name": "stderr",
     "output_type": "stream",
     "text": [
      "[Succeeded / Failed / Skipped / Total] 116 / 115 / 100 / 331:  66%|██████▌   | 331/500 [08:31<04:20,  1.54s/it]"
     ]
    },
    {
     "name": "stdout",
     "output_type": "stream",
     "text": [
      "--------------------------------------------- Result 331 ---------------------------------------------\n",
      "[[0 (39%)]] --> [[[FAILED]]]\n",
      "\n",
      "band di indonesia tidak berkualitas dah \n",
      "\n",
      "\n",
      "1/1 [==============================] - 0s 65ms/step\n",
      "1/1 [==============================] - 0s 47ms/step\n",
      "1/1 [==============================] - 0s 43ms/step\n",
      "1/1 [==============================] - 0s 44ms/step\n",
      "1/1 [==============================] - 0s 47ms/step\n"
     ]
    },
    {
     "name": "stderr",
     "output_type": "stream",
     "text": [
      "[Succeeded / Failed / Skipped / Total] 116 / 116 / 100 / 332:  66%|██████▋   | 332/500 [08:31<04:18,  1.54s/it]"
     ]
    },
    {
     "name": "stdout",
     "output_type": "stream",
     "text": [
      "--------------------------------------------- Result 332 ---------------------------------------------\n",
      "[[0 (39%)]] --> [[[FAILED]]]\n",
      "\n",
      "kalau dibandingkan sama jepang indonesia itu tidak ada apa apa nya \n",
      "\n",
      "\n",
      "1/1 [==============================] - 0s 48ms/step\n",
      "1/1 [==============================] - 0s 48ms/step\n",
      "1/1 [==============================] - 0s 48ms/step\n",
      "1/1 [==============================] - 0s 52ms/step\n",
      "1/1 [==============================] - 0s 49ms/step\n",
      "1/1 [==============================] - 0s 48ms/step\n",
      "1/1 [==============================] - 0s 48ms/step\n"
     ]
    },
    {
     "name": "stderr",
     "output_type": "stream",
     "text": [
      "[Succeeded / Failed / Skipped / Total] 116 / 117 / 100 / 333:  67%|██████▋   | 333/500 [08:32<04:16,  1.54s/it]"
     ]
    },
    {
     "name": "stdout",
     "output_type": "stream",
     "text": [
      "--------------------------------------------- Result 333 ---------------------------------------------\n",
      "[[0 (45%)]] --> [[[FAILED]]]\n",
      "\n",
      "netijen mulut nya sampah semua tidak berfaedah \n",
      "\n",
      "\n",
      "1/1 [==============================] - 0s 36ms/step\n",
      "1/1 [==============================] - 0s 52ms/step\n",
      "1/1 [==============================] - 0s 47ms/step\n",
      "1/1 [==============================] - 0s 53ms/step\n",
      "1/1 [==============================] - 0s 54ms/step\n",
      "1/1 [==============================] - 0s 47ms/step\n",
      "1/1 [==============================] - 0s 54ms/step\n",
      "1/1 [==============================] - 0s 52ms/step\n",
      "1/1 [==============================] - 0s 50ms/step\n",
      "1/1 [==============================] - 0s 56ms/step\n",
      "1/1 [==============================] - 0s 48ms/step\n",
      "1/1 [==============================] - 0s 46ms/step\n",
      "1/1 [==============================] - 0s 45ms/step\n",
      "1/1 [==============================] - 0s 48ms/step\n",
      "1/1 [==============================] - 0s 50ms/step\n",
      "1/1 [==============================] - 0s 48ms/step\n",
      "1/1 [==============================] - 0s 44ms/step\n",
      "1/1 [==============================] - 0s 45ms/step\n",
      "1/1 [==============================] - 0s 43ms/step\n",
      "1/1 [==============================] - 0s 50ms/step\n",
      "1/1 [==============================] - 0s 46ms/step\n",
      "--------------------------------------------- Result 334 ---------------------------------------------\n",
      "[[0 (39%)]] --> [[[FAILED]]]\n",
      "\n",
      "menurut gue sih indonesia bakal susah bangkit kalau isi otak penduduk nya gitu gitu aja \n",
      "\n",
      "\n"
     ]
    },
    {
     "name": "stderr",
     "output_type": "stream",
     "text": [
      "[Succeeded / Failed / Skipped / Total] 116 / 118 / 100 / 334:  67%|██████▋   | 334/500 [08:33<04:15,  1.54s/it]"
     ]
    },
    {
     "name": "stdout",
     "output_type": "stream",
     "text": [
      "1/1 [==============================] - 0s 37ms/step\n",
      "1/1 [==============================] - 0s 45ms/step\n",
      "1/1 [==============================] - 0s 46ms/step\n",
      "1/1 [==============================] - 0s 44ms/step\n",
      "1/1 [==============================] - 0s 52ms/step\n",
      "1/1 [==============================] - 0s 45ms/step\n",
      "1/1 [==============================] - 0s 52ms/step\n",
      "1/1 [==============================] - 0s 51ms/step\n",
      "1/1 [==============================] - 0s 49ms/step\n",
      "1/1 [==============================] - 0s 48ms/step\n",
      "1/1 [==============================] - 0s 49ms/step\n",
      "1/1 [==============================] - 0s 49ms/step\n",
      "1/1 [==============================] - 0s 50ms/step\n",
      "1/1 [==============================] - 0s 52ms/step\n",
      "1/1 [==============================] - 0s 51ms/step\n",
      "1/1 [==============================] - 0s 54ms/step\n",
      "1/1 [==============================] - 0s 50ms/step\n",
      "1/1 [==============================] - 0s 43ms/step\n",
      "1/1 [==============================] - 0s 45ms/step\n",
      "1/1 [==============================] - 0s 48ms/step\n",
      "1/1 [==============================] - 0s 50ms/step\n",
      "1/1 [==============================] - 0s 55ms/step\n",
      "1/1 [==============================] - 0s 50ms/step\n",
      "1/1 [==============================] - 0s 50ms/step\n",
      "1/1 [==============================] - 0s 53ms/step\n",
      "1/1 [==============================] - 0s 51ms/step\n",
      "1/1 [==============================] - 0s 57ms/step\n",
      "1/1 [==============================] - 0s 52ms/step\n",
      "1/1 [==============================] - 0s 51ms/step\n",
      "1/1 [==============================] - 0s 52ms/step\n",
      "1/1 [==============================] - 0s 52ms/step\n",
      "1/1 [==============================] - 0s 51ms/step\n",
      "1/1 [==============================] - 0s 44ms/step\n",
      "1/1 [==============================] - 0s 47ms/step\n"
     ]
    },
    {
     "name": "stderr",
     "output_type": "stream",
     "text": [
      "[Succeeded / Failed / Skipped / Total] 116 / 118 / 100 / 334:  67%|██████▋   | 335/500 [08:36<04:14,  1.54s/it]"
     ]
    },
    {
     "name": "stdout",
     "output_type": "stream",
     "text": [
      "--------------------------------------------- Result 335 ---------------------------------------------\n",
      "[[0 (38%)]] --> [[1 (34%)]]\n",
      "\n",
      "percuma ganti presiden [[kayak]] [[makan]] [[buah]] simalakama tidak ada [[untung]] nya \n",
      "\n",
      "percuma ganti presiden [[bagai]] [[serap]] [[beri]] simalakama tidak ada [[nasib]] nya "
     ]
    },
    {
     "name": "stderr",
     "output_type": "stream",
     "text": [
      "[Succeeded / Failed / Skipped / Total] 117 / 118 / 100 / 335:  67%|██████▋   | 335/500 [08:36<04:14,  1.54s/it]"
     ]
    },
    {
     "name": "stdout",
     "output_type": "stream",
     "text": [
      "\n",
      "\n",
      "\n",
      "1/1 [==============================] - 0s 54ms/step\n",
      "1/1 [==============================] - 0s 45ms/step\n",
      "1/1 [==============================] - 0s 43ms/step\n",
      "1/1 [==============================] - 0s 43ms/step\n",
      "1/1 [==============================] - 0s 51ms/step\n",
      "1/1 [==============================] - 0s 45ms/step\n",
      "1/1 [==============================] - 0s 43ms/step\n",
      "1/1 [==============================] - 0s 46ms/step\n",
      "1/1 [==============================] - 0s 44ms/step\n",
      "1/1 [==============================] - 0s 46ms/step\n",
      "1/1 [==============================] - 0s 45ms/step\n",
      "1/1 [==============================] - 0s 45ms/step\n",
      "1/1 [==============================] - 0s 45ms/step\n",
      "1/1 [==============================] - 0s 44ms/step\n"
     ]
    },
    {
     "name": "stderr",
     "output_type": "stream",
     "text": [
      "[Succeeded / Failed / Skipped / Total] 117 / 119 / 100 / 336:  67%|██████▋   | 336/500 [08:38<04:12,  1.54s/it]"
     ]
    },
    {
     "name": "stdout",
     "output_type": "stream",
     "text": [
      "--------------------------------------------- Result 336 ---------------------------------------------\n",
      "[[0 (43%)]] --> [[[FAILED]]]\n",
      "\n",
      "kepemimpinan di indonesia mah cuma kayak panggung komedi rakyat nya juga sama saja cuma bisa nontonin saja tidak ada yang baik\n",
      "\n",
      "\n",
      "1/1 [==============================] - 0s 35ms/step\n",
      "1/1 [==============================] - 0s 49ms/step\n",
      "1/1 [==============================] - 0s 44ms/step\n",
      "1/1 [==============================] - 0s 45ms/step\n",
      "1/1 [==============================] - 0s 43ms/step\n"
     ]
    },
    {
     "name": "stderr",
     "output_type": "stream",
     "text": [
      "[Succeeded / Failed / Skipped / Total] 117 / 120 / 100 / 337:  67%|██████▋   | 337/500 [08:38<04:10,  1.54s/it]"
     ]
    },
    {
     "name": "stdout",
     "output_type": "stream",
     "text": [
      "--------------------------------------------- Result 337 ---------------------------------------------\n",
      "[[0 (36%)]] --> [[[FAILED]]]\n",
      "\n",
      "sandi uno tidak bertanggung jawab banget deh sama jakarta \n",
      "\n",
      "\n",
      "1/1 [==============================] - 0s 46ms/step\n",
      "1/1 [==============================] - 0s 52ms/step\n",
      "1/1 [==============================] - 0s 45ms/step\n",
      "1/1 [==============================] - 0s 43ms/step\n",
      "1/1 [==============================] - 0s 48ms/step\n",
      "1/1 [==============================] - 0s 45ms/step\n",
      "1/1 [==============================] - 0s 49ms/step\n",
      "1/1 [==============================] - 0s 45ms/step\n"
     ]
    },
    {
     "name": "stderr",
     "output_type": "stream",
     "text": [
      "[Succeeded / Failed / Skipped / Total] 118 / 120 / 100 / 338:  68%|██████▊   | 338/500 [08:39<04:08,  1.54s/it]"
     ]
    },
    {
     "name": "stdout",
     "output_type": "stream",
     "text": [
      "--------------------------------------------- Result 338 ---------------------------------------------\n",
      "[[0 (41%)]] --> [[1 (35%)]]\n",
      "\n",
      "sebenarnya yang dicari sama para pejabat di indonesia hanyalah kekuasaan bukan mensejahterakan [[rakyat]] [[payah]] \n",
      "\n",
      "sebenarnya yang dicari sama para pejabat di indonesia hanyalah kekuasaan bukan mensejahterakan [[warga]] [[kompleks]] \n",
      "\n",
      "\n",
      "1/1 [==============================] - 0s 46ms/step\n",
      "1/1 [==============================] - 0s 47ms/step\n",
      "1/1 [==============================] - 0s 50ms/step\n",
      "1/1 [==============================] - 0s 47ms/step\n",
      "1/1 [==============================] - 0s 50ms/step\n",
      "1/1 [==============================] - 0s 48ms/step\n",
      "1/1 [==============================] - 0s 45ms/step\n",
      "1/1 [==============================] - 0s 45ms/step\n",
      "1/1 [==============================] - 0s 44ms/step\n",
      "1/1 [==============================] - 0s 44ms/step\n",
      "1/1 [==============================] - 0s 44ms/step\n",
      "1/1 [==============================] - 0s 46ms/step\n",
      "1/1 [==============================] - 0s 46ms/step\n",
      "1/1 [==============================] - 0s 47ms/step\n",
      "1/1 [==============================] - 0s 91ms/step\n",
      "1/1 [==============================] - 0s 76ms/step\n",
      "1/1 [==============================] - 0s 69ms/step\n",
      "1/1 [==============================] - 0s 73ms/step\n",
      "1/1 [==============================] - 0s 60ms/step\n",
      "1/1 [==============================] - 0s 50ms/step\n",
      "1/1 [==============================] - 0s 54ms/step\n"
     ]
    },
    {
     "name": "stderr",
     "output_type": "stream",
     "text": [
      "[Succeeded / Failed / Skipped / Total] 118 / 121 / 100 / 339:  68%|██████▊   | 339/500 [08:41<04:07,  1.54s/it]"
     ]
    },
    {
     "name": "stdout",
     "output_type": "stream",
     "text": [
      "--------------------------------------------- Result 339 ---------------------------------------------\n",
      "[[0 (38%)]] --> [[[FAILED]]]\n",
      "\n",
      "sumpah ya gue terganggu banget sama suara nya komentator bola di indonesia malah bikin esmosi jiwa \n",
      "\n",
      "\n",
      "1/1 [==============================] - 0s 76ms/step\n",
      "1/1 [==============================] - 0s 57ms/step\n",
      "1/1 [==============================] - 0s 54ms/step\n",
      "1/1 [==============================] - 0s 57ms/step\n",
      "1/1 [==============================] - 0s 57ms/step\n"
     ]
    },
    {
     "name": "stderr",
     "output_type": "stream",
     "text": [
      "[Succeeded / Failed / Skipped / Total] 119 / 121 / 100 / 340:  68%|██████▊   | 340/500 [08:41<04:05,  1.54s/it]"
     ]
    },
    {
     "name": "stdout",
     "output_type": "stream",
     "text": [
      "--------------------------------------------- Result 340 ---------------------------------------------\n",
      "[[0 (38%)]] --> [[2 (35%)]]\n",
      "\n",
      "pemain persib main nya [[jelek]] \n",
      "\n",
      "pemain persib main nya [[dahsyat]] \n",
      "\n",
      "\n",
      "1/1 [==============================] - 0s 55ms/step\n",
      "1/1 [==============================] - 0s 53ms/step\n",
      "1/1 [==============================] - 0s 58ms/step\n",
      "1/1 [==============================] - 0s 47ms/step\n",
      "1/1 [==============================] - 0s 51ms/step\n"
     ]
    },
    {
     "name": "stderr",
     "output_type": "stream",
     "text": [
      "[Succeeded / Failed / Skipped / Total] 120 / 121 / 100 / 341:  68%|██████▊   | 341/500 [08:42<04:03,  1.53s/it]"
     ]
    },
    {
     "name": "stdout",
     "output_type": "stream",
     "text": [
      "--------------------------------------------- Result 341 ---------------------------------------------\n",
      "[[0 (37%)]] --> [[2 (34%)]]\n",
      "\n",
      "[[artis]] cowok pop [[banci]] semua \n",
      "\n",
      "[[artisan]] cowok pop [[cacah]] semua \n",
      "\n",
      "\n",
      "1/1 [==============================] - 0s 40ms/step\n",
      "1/1 [==============================] - 0s 46ms/step\n",
      "1/1 [==============================] - 0s 49ms/step\n",
      "1/1 [==============================] - 0s 48ms/step\n",
      "1/1 [==============================] - 0s 35ms/step\n",
      "1/1 [==============================] - 0s 60ms/step\n",
      "1/1 [==============================] - 0s 53ms/step\n",
      "1/1 [==============================] - 0s 50ms/step\n",
      "1/1 [==============================] - 0s 49ms/step\n",
      "1/1 [==============================] - 0s 50ms/step\n"
     ]
    },
    {
     "name": "stderr",
     "output_type": "stream",
     "text": [
      "[Succeeded / Failed / Skipped / Total] 121 / 121 / 100 / 342:  68%|██████▊   | 342/500 [08:43<04:01,  1.53s/it]"
     ]
    },
    {
     "name": "stdout",
     "output_type": "stream",
     "text": [
      "--------------------------------------------- Result 342 ---------------------------------------------\n",
      "[[0 (37%)]] --> [[1 (34%)]]\n",
      "\n",
      "harga [[baju]] di ramayana tidak sebanding sama kualitas [[baju]] nya \n",
      "\n",
      "harga [[angka]] di ramayana tidak sebanding sama kualitas [[angka]] nya \n",
      "\n",
      "\n",
      "1/1 [==============================] - 0s 37ms/step\n"
     ]
    },
    {
     "name": "stderr",
     "output_type": "stream",
     "text": [
      "[Succeeded / Failed / Skipped / Total] 121 / 121 / 101 / 343:  69%|██████▊   | 343/500 [08:43<03:59,  1.53s/it]"
     ]
    },
    {
     "name": "stdout",
     "output_type": "stream",
     "text": [
      "--------------------------------------------- Result 343 ---------------------------------------------\n",
      "[[1 (36%)]] --> [[[SKIPPED]]]\n",
      "\n",
      "model baju yang ada di matahari tidak sebagus model baju di ramayana \n",
      "\n",
      "\n",
      "1/1 [==============================] - 0s 42ms/step\n",
      "1/1 [==============================] - 0s 50ms/step\n",
      "1/1 [==============================] - 0s 48ms/step\n",
      "1/1 [==============================] - 0s 46ms/step\n",
      "1/1 [==============================] - 0s 53ms/step\n",
      "1/1 [==============================] - 0s 50ms/step\n",
      "1/1 [==============================] - 0s 53ms/step\n",
      "1/1 [==============================] - 0s 54ms/step\n",
      "1/1 [==============================] - 0s 73ms/step\n",
      "1/1 [==============================] - 0s 64ms/step\n",
      "1/1 [==============================] - 0s 56ms/step\n",
      "1/1 [==============================] - 0s 65ms/step\n",
      "1/1 [==============================] - 0s 62ms/step\n"
     ]
    },
    {
     "name": "stderr",
     "output_type": "stream",
     "text": [
      "[Succeeded / Failed / Skipped / Total] 121 / 122 / 101 / 344:  69%|██████▉   | 344/500 [08:44<03:57,  1.53s/it]"
     ]
    },
    {
     "name": "stdout",
     "output_type": "stream",
     "text": [
      "--------------------------------------------- Result 344 ---------------------------------------------\n",
      "[[0 (41%)]] --> [[[FAILED]]]\n",
      "\n",
      "sudah harga mahal tidak enak pula makanan nya tidak mau lagi deh ke restoran itu \n",
      "\n",
      "\n",
      "1/1 [==============================] - 0s 54ms/step\n",
      "1/1 [==============================] - 0s 66ms/step\n",
      "1/1 [==============================] - 0s 68ms/step\n",
      "1/1 [==============================] - 0s 64ms/step\n",
      "1/1 [==============================] - 0s 56ms/step\n",
      "1/1 [==============================] - 0s 73ms/step\n",
      "1/1 [==============================] - 0s 67ms/step\n",
      "1/1 [==============================] - 0s 69ms/step\n",
      "1/1 [==============================] - 0s 57ms/step\n"
     ]
    },
    {
     "name": "stderr",
     "output_type": "stream",
     "text": [
      "[Succeeded / Failed / Skipped / Total] 121 / 123 / 101 / 345:  69%|██████▉   | 345/500 [08:45<03:56,  1.52s/it]"
     ]
    },
    {
     "name": "stdout",
     "output_type": "stream",
     "text": [
      "--------------------------------------------- Result 345 ---------------------------------------------\n",
      "[[0 (37%)]] --> [[[FAILED]]]\n",
      "\n",
      "anak muda zaman sekarang cuma mikirin tenar enggak mikir buat masa depan \n",
      "\n",
      "\n",
      "1/1 [==============================] - 0s 39ms/step\n",
      "1/1 [==============================] - 0s 55ms/step\n",
      "1/1 [==============================] - 0s 59ms/step\n",
      "1/1 [==============================] - 0s 49ms/step\n",
      "1/1 [==============================] - 0s 48ms/step\n",
      "1/1 [==============================] - 0s 47ms/step\n",
      "1/1 [==============================] - 0s 68ms/step\n",
      "1/1 [==============================] - 0s 71ms/step\n",
      "1/1 [==============================] - 0s 56ms/step\n",
      "1/1 [==============================] - 0s 58ms/step\n",
      "1/1 [==============================] - 0s 54ms/step\n",
      "1/1 [==============================] - 0s 57ms/step\n",
      "1/1 [==============================] - 0s 57ms/step\n",
      "1/1 [==============================] - 0s 52ms/step\n",
      "1/1 [==============================] - 0s 51ms/step\n",
      "1/1 [==============================] - 0s 48ms/step\n"
     ]
    },
    {
     "name": "stderr",
     "output_type": "stream",
     "text": [
      "[Succeeded / Failed / Skipped / Total] 121 / 124 / 101 / 346:  69%|██████▉   | 346/500 [08:47<03:54,  1.52s/it]"
     ]
    },
    {
     "name": "stdout",
     "output_type": "stream",
     "text": [
      "--------------------------------------------- Result 346 ---------------------------------------------\n",
      "[[0 (42%)]] --> [[[FAILED]]]\n",
      "\n",
      "bodoh banget itu bocah tidak punya otak mengajak jokowi berantem \n",
      "\n",
      "\n",
      "1/1 [==============================] - 0s 36ms/step\n",
      "1/1 [==============================] - 0s 55ms/step\n",
      "1/1 [==============================] - 0s 52ms/step\n",
      "1/1 [==============================] - 0s 48ms/step\n"
     ]
    },
    {
     "name": "stderr",
     "output_type": "stream",
     "text": [
      "[Succeeded / Failed / Skipped / Total] 122 / 124 / 101 / 347:  69%|██████▉   | 347/500 [08:47<03:52,  1.52s/it]"
     ]
    },
    {
     "name": "stdout",
     "output_type": "stream",
     "text": [
      "--------------------------------------------- Result 347 ---------------------------------------------\n",
      "[[0 (37%)]] --> [[2 (36%)]]\n",
      "\n",
      "sinyal xl [[jelek]] banget di sini \n",
      "\n",
      "sinyal xl [[dahsyat]] banget di sini \n",
      "\n",
      "\n",
      "1/1 [==============================] - 0s 39ms/step\n",
      "1/1 [==============================] - 0s 48ms/step\n",
      "1/1 [==============================] - 0s 53ms/step\n",
      "1/1 [==============================] - 0s 56ms/step\n",
      "1/1 [==============================] - 0s 53ms/step\n",
      "1/1 [==============================] - 0s 46ms/step\n",
      "1/1 [==============================] - 0s 45ms/step\n",
      "1/1 [==============================] - 0s 50ms/step\n",
      "1/1 [==============================] - 0s 68ms/step\n",
      "1/1 [==============================] - 0s 62ms/step\n",
      "1/1 [==============================] - 0s 62ms/step\n",
      "1/1 [==============================] - 0s 52ms/step\n",
      "1/1 [==============================] - 0s 52ms/step\n"
     ]
    },
    {
     "name": "stderr",
     "output_type": "stream",
     "text": [
      "[Succeeded / Failed / Skipped / Total] 122 / 125 / 101 / 348:  70%|██████▉   | 348/500 [08:49<03:51,  1.52s/it]"
     ]
    },
    {
     "name": "stdout",
     "output_type": "stream",
     "text": [
      "--------------------------------------------- Result 348 ---------------------------------------------\n",
      "[[0 (37%)]] --> [[[FAILED]]]\n",
      "\n",
      "indosat bagus iklan nya doang tapi kualitas nya nol \n",
      "\n",
      "\n",
      "1/1 [==============================] - 0s 44ms/step\n",
      "1/1 [==============================] - 0s 57ms/step\n",
      "1/1 [==============================] - 0s 60ms/step\n",
      "1/1 [==============================] - 0s 56ms/step\n",
      "1/1 [==============================] - 0s 58ms/step\n",
      "1/1 [==============================] - 0s 63ms/step\n",
      "1/1 [==============================] - 0s 63ms/step\n",
      "1/1 [==============================] - 0s 56ms/step\n",
      "1/1 [==============================] - 0s 54ms/step\n",
      "1/1 [==============================] - 0s 67ms/step\n",
      "1/1 [==============================] - 0s 56ms/step\n",
      "1/1 [==============================] - 0s 66ms/step\n",
      "1/1 [==============================] - 0s 64ms/step\n",
      "1/1 [==============================] - 0s 54ms/step\n",
      "1/1 [==============================] - 0s 62ms/step\n",
      "1/1 [==============================] - 0s 51ms/step\n"
     ]
    },
    {
     "name": "stderr",
     "output_type": "stream",
     "text": [
      "[Succeeded / Failed / Skipped / Total] 123 / 125 / 101 / 349:  70%|██████▉   | 349/500 [08:50<03:49,  1.52s/it]"
     ]
    },
    {
     "name": "stdout",
     "output_type": "stream",
     "text": [
      "--------------------------------------------- Result 349 ---------------------------------------------\n",
      "[[0 (41%)]] --> [[1 (35%)]]\n",
      "\n",
      "[[sumpah]] ya kesel banget melihat [[orang]] yang [[sok]] tahu [[kayak]] anies \n",
      "\n",
      "[[berbakti]] ya kesel banget melihat [[bentuk]] yang [[terenyuh]] tahu [[bagai]] anies \n",
      "\n",
      "\n",
      "1/1 [==============================] - 0s 47ms/step\n",
      "1/1 [==============================] - 0s 78ms/step\n",
      "1/1 [==============================] - 0s 64ms/step\n",
      "1/1 [==============================] - 0s 67ms/step\n",
      "1/1 [==============================] - 0s 61ms/step\n",
      "1/1 [==============================] - 0s 58ms/step\n",
      "1/1 [==============================] - 0s 52ms/step\n",
      "1/1 [==============================] - 0s 77ms/step\n",
      "1/1 [==============================] - 0s 65ms/step\n",
      "1/1 [==============================] - 0s 63ms/step\n",
      "1/1 [==============================] - 0s 60ms/step\n"
     ]
    },
    {
     "name": "stderr",
     "output_type": "stream",
     "text": [
      "[Succeeded / Failed / Skipped / Total] 123 / 126 / 101 / 350:  70%|███████   | 350/500 [08:52<03:48,  1.52s/it]"
     ]
    },
    {
     "name": "stdout",
     "output_type": "stream",
     "text": [
      "--------------------------------------------- Result 350 ---------------------------------------------\n",
      "[[0 (41%)]] --> [[[FAILED]]]\n",
      "\n",
      "barang barang di informa biasa saja tapi harga mahal banget \n",
      "\n",
      "\n",
      "1/1 [==============================] - 0s 54ms/step\n",
      "1/1 [==============================] - 0s 60ms/step\n",
      "1/1 [==============================] - 0s 65ms/step\n",
      "1/1 [==============================] - 0s 58ms/step\n",
      "1/1 [==============================] - 0s 48ms/step\n",
      "1/1 [==============================] - 0s 46ms/step\n"
     ]
    },
    {
     "name": "stderr",
     "output_type": "stream",
     "text": [
      "[Succeeded / Failed / Skipped / Total] 123 / 126 / 101 / 350:  70%|███████   | 351/500 [08:52<03:46,  1.52s/it]"
     ]
    },
    {
     "name": "stdout",
     "output_type": "stream",
     "text": [
      "--------------------------------------------- Result 351 ---------------------------------------------\n",
      "[[0 (41%)]] --> [[1 (36%)]]\n",
      "\n",
      "handphone samsung [[jelek]] gampang [[rusak]] \n",
      "\n",
      "handphone samsung [[dahsyat]] gampang [[kupak]] \n",
      "\n",
      "\n"
     ]
    },
    {
     "name": "stderr",
     "output_type": "stream",
     "text": [
      "[Succeeded / Failed / Skipped / Total] 124 / 126 / 101 / 351:  70%|███████   | 351/500 [08:52<03:46,  1.52s/it]"
     ]
    },
    {
     "name": "stdout",
     "output_type": "stream",
     "text": [
      "1/1 [==============================] - 0s 88ms/step\n",
      "1/1 [==============================] - 0s 55ms/step\n",
      "1/1 [==============================] - 0s 57ms/step\n",
      "1/1 [==============================] - 0s 57ms/step\n",
      "1/1 [==============================] - 0s 56ms/step\n",
      "1/1 [==============================] - 0s 47ms/step\n",
      "1/1 [==============================] - 0s 59ms/step\n",
      "1/1 [==============================] - 0s 45ms/step\n"
     ]
    },
    {
     "name": "stderr",
     "output_type": "stream",
     "text": [
      "[Succeeded / Failed / Skipped / Total] 125 / 126 / 101 / 352:  70%|███████   | 352/500 [08:53<03:44,  1.52s/it]"
     ]
    },
    {
     "name": "stdout",
     "output_type": "stream",
     "text": [
      "--------------------------------------------- Result 352 ---------------------------------------------\n",
      "[[0 (36%)]] --> [[1 (35%)]]\n",
      "\n",
      "hai prabowo daripada [[malu]] [[mending]] tidak usah naik jadi [[presiden]] tahun ini \n",
      "\n",
      "hai prabowo daripada [[canggung]] [[lurus]] tidak usah naik jadi [[ketua]] tahun ini \n",
      "\n",
      "\n",
      "1/1 [==============================] - 0s 38ms/step\n",
      "1/1 [==============================] - 0s 45ms/step\n",
      "1/1 [==============================] - 0s 45ms/step\n"
     ]
    },
    {
     "name": "stderr",
     "output_type": "stream",
     "text": [
      "[Succeeded / Failed / Skipped / Total] 125 / 127 / 101 / 353:  71%|███████   | 353/500 [08:53<03:42,  1.51s/it]"
     ]
    },
    {
     "name": "stdout",
     "output_type": "stream",
     "text": [
      "--------------------------------------------- Result 353 ---------------------------------------------\n",
      "[[0 (41%)]] --> [[[FAILED]]]\n",
      "\n",
      "pengecut dia itu cuma bisa nantangin dari belakang saja \n",
      "\n",
      "\n",
      "1/1 [==============================] - 0s 46ms/step\n",
      "1/1 [==============================] - 0s 47ms/step\n",
      "1/1 [==============================] - 0s 58ms/step\n",
      "1/1 [==============================] - 0s 49ms/step\n",
      "1/1 [==============================] - 0s 46ms/step\n",
      "--------------------------------------------- Result 354 ---------------------------------------------\n",
      "[[0 (41%)]] --> [[[FAILED]]]\n",
      "\n",
      "aku tidak suka sama cowok yang bisa dance tidak maco \n",
      "\n",
      "\n"
     ]
    },
    {
     "name": "stderr",
     "output_type": "stream",
     "text": [
      "[Succeeded / Failed / Skipped / Total] 125 / 128 / 101 / 354:  71%|███████   | 354/500 [08:54<03:40,  1.51s/it]"
     ]
    },
    {
     "name": "stdout",
     "output_type": "stream",
     "text": [
      "1/1 [==============================] - 0s 58ms/step\n",
      "1/1 [==============================] - 0s 49ms/step\n",
      "1/1 [==============================] - 0s 51ms/step\n",
      "1/1 [==============================] - 0s 46ms/step\n",
      "1/1 [==============================] - 0s 59ms/step\n",
      "1/1 [==============================] - 0s 66ms/step\n",
      "1/1 [==============================] - 0s 58ms/step\n",
      "1/1 [==============================] - 0s 56ms/step\n",
      "1/1 [==============================] - 0s 50ms/step\n",
      "1/1 [==============================] - 0s 54ms/step\n",
      "1/1 [==============================] - 0s 48ms/step\n",
      "1/1 [==============================] - 0s 53ms/step\n",
      "1/1 [==============================] - 0s 56ms/step\n",
      "1/1 [==============================] - 0s 49ms/step\n",
      "1/1 [==============================] - 0s 52ms/step\n",
      "1/1 [==============================] - 0s 47ms/step\n",
      "1/1 [==============================] - 0s 52ms/step\n",
      "1/1 [==============================] - 0s 51ms/step\n",
      "1/1 [==============================] - 0s 47ms/step\n"
     ]
    },
    {
     "name": "stderr",
     "output_type": "stream",
     "text": [
      "[Succeeded / Failed / Skipped / Total] 125 / 128 / 101 / 354:  71%|███████   | 355/500 [08:56<03:39,  1.51s/it]"
     ]
    },
    {
     "name": "stdout",
     "output_type": "stream",
     "text": [
      "--------------------------------------------- Result 355 ---------------------------------------------\n",
      "[[0 (44%)]] --> [[[FAILED]]]\n",
      "\n",
      "sebenarnya gue benci banget sih sama orang yang kalau lagi diajak ngobrol dia tidak mau lihat muka kita tidak sopan \n",
      "\n",
      "\n"
     ]
    },
    {
     "name": "stderr",
     "output_type": "stream",
     "text": [
      "[Succeeded / Failed / Skipped / Total] 125 / 129 / 101 / 355:  71%|███████   | 355/500 [08:56<03:39,  1.51s/it]"
     ]
    },
    {
     "name": "stdout",
     "output_type": "stream",
     "text": [
      "1/1 [==============================] - 0s 35ms/step\n",
      "1/1 [==============================] - 0s 46ms/step\n",
      "1/1 [==============================] - 0s 62ms/step\n",
      "1/1 [==============================] - 0s 48ms/step\n",
      "1/1 [==============================] - 0s 45ms/step\n",
      "1/1 [==============================] - 0s 52ms/step\n",
      "1/1 [==============================] - 0s 63ms/step\n",
      "1/1 [==============================] - 0s 49ms/step\n",
      "1/1 [==============================] - 0s 45ms/step\n",
      "1/1 [==============================] - 0s 53ms/step\n",
      "1/1 [==============================] - 0s 45ms/step\n",
      "1/1 [==============================] - 0s 45ms/step\n",
      "1/1 [==============================] - 0s 45ms/step\n",
      "--------------------------------------------- Result 356 ---------------------------------------------\n",
      "[[0 (39%)]] --> [[[FAILED]]]\n",
      "\n",
      "di antara mata kuliah yang ada gue paling tidak suka sama statistika \n",
      "\n",
      "\n"
     ]
    },
    {
     "name": "stderr",
     "output_type": "stream",
     "text": [
      "[Succeeded / Failed / Skipped / Total] 125 / 130 / 101 / 356:  71%|███████   | 356/500 [08:57<03:37,  1.51s/it]"
     ]
    },
    {
     "name": "stdout",
     "output_type": "stream",
     "text": [
      "1/1 [==============================] - 0s 35ms/step\n",
      "1/1 [==============================] - 0s 48ms/step\n",
      "1/1 [==============================] - 0s 52ms/step\n",
      "1/1 [==============================] - 0s 55ms/step\n",
      "1/1 [==============================] - 0s 48ms/step\n",
      "1/1 [==============================] - 0s 54ms/step\n",
      "1/1 [==============================] - 0s 45ms/step\n",
      "1/1 [==============================] - 0s 50ms/step\n",
      "1/1 [==============================] - 0s 44ms/step\n"
     ]
    },
    {
     "name": "stderr",
     "output_type": "stream",
     "text": [
      "[Succeeded / Failed / Skipped / Total] 125 / 131 / 101 / 357:  71%|███████▏  | 357/500 [08:58<03:35,  1.51s/it]"
     ]
    },
    {
     "name": "stdout",
     "output_type": "stream",
     "text": [
      "--------------------------------------------- Result 357 ---------------------------------------------\n",
      "[[0 (39%)]] --> [[[FAILED]]]\n",
      "\n",
      "orang yang pakai kacamata itu terlihat cupu \n",
      "\n",
      "\n",
      "1/1 [==============================] - 0s 35ms/step\n",
      "1/1 [==============================] - 0s 48ms/step\n",
      "1/1 [==============================] - 0s 51ms/step\n",
      "1/1 [==============================] - 0s 54ms/step\n",
      "1/1 [==============================] - 0s 49ms/step\n",
      "1/1 [==============================] - 0s 48ms/step\n",
      "1/1 [==============================] - 0s 47ms/step\n",
      "1/1 [==============================] - 0s 52ms/step\n",
      "1/1 [==============================] - 0s 51ms/step\n",
      "1/1 [==============================] - 0s 52ms/step\n",
      "1/1 [==============================] - 0s 48ms/step\n"
     ]
    },
    {
     "name": "stderr",
     "output_type": "stream",
     "text": [
      "[Succeeded / Failed / Skipped / Total] 126 / 131 / 101 / 358:  72%|███████▏  | 358/500 [08:59<03:33,  1.51s/it]"
     ]
    },
    {
     "name": "stdout",
     "output_type": "stream",
     "text": [
      "--------------------------------------------- Result 358 ---------------------------------------------\n",
      "[[0 (39%)]] --> [[2 (35%)]]\n",
      "\n",
      "apa bagus nya [[ya]] itu acara l men [[jijik]] gue sih [[liat]] nya \n",
      "\n",
      "apa bagus nya [[yakin]] itu acara l men [[berlumar]] gue sih [[kenyal]] nya \n",
      "\n",
      "\n",
      "1/1 [==============================] - 0s 38ms/step\n",
      "1/1 [==============================] - 0s 47ms/step\n",
      "1/1 [==============================] - 0s 45ms/step\n",
      "1/1 [==============================] - 0s 54ms/step\n",
      "1/1 [==============================] - 0s 54ms/step\n",
      "1/1 [==============================] - 0s 49ms/step\n",
      "1/1 [==============================] - 0s 53ms/step\n",
      "1/1 [==============================] - 0s 59ms/step\n",
      "1/1 [==============================] - 0s 49ms/step\n"
     ]
    },
    {
     "name": "stderr",
     "output_type": "stream",
     "text": [
      "[Succeeded / Failed / Skipped / Total] 127 / 131 / 101 / 359:  72%|███████▏  | 359/500 [09:00<03:32,  1.50s/it]"
     ]
    },
    {
     "name": "stdout",
     "output_type": "stream",
     "text": [
      "--------------------------------------------- Result 359 ---------------------------------------------\n",
      "[[0 (35%)]] --> [[1 (34%)]]\n",
      "\n",
      "sinetron di [[indonesia]] mana ada yang [[bagus]] \n",
      "\n",
      "sinetron di [[Hindia-Belanda]] mana ada yang [[cantik]] \n",
      "\n",
      "\n",
      "1/1 [==============================] - 0s 43ms/step\n",
      "1/1 [==============================] - 0s 48ms/step\n",
      "1/1 [==============================] - 0s 49ms/step\n",
      "1/1 [==============================] - 0s 50ms/step\n",
      "1/1 [==============================] - 0s 51ms/step\n",
      "1/1 [==============================] - 0s 47ms/step\n",
      "1/1 [==============================] - 0s 50ms/step\n"
     ]
    },
    {
     "name": "stderr",
     "output_type": "stream",
     "text": [
      "[Succeeded / Failed / Skipped / Total] 127 / 132 / 101 / 360:  72%|███████▏  | 360/500 [09:00<03:30,  1.50s/it]"
     ]
    },
    {
     "name": "stdout",
     "output_type": "stream",
     "text": [
      "--------------------------------------------- Result 360 ---------------------------------------------\n",
      "[[0 (39%)]] --> [[[FAILED]]]\n",
      "\n",
      "odol pepsodent menurut gue terlalu pedas gue enggak suka \n",
      "\n",
      "\n",
      "1/1 [==============================] - 0s 37ms/step\n",
      "1/1 [==============================] - 0s 44ms/step\n",
      "1/1 [==============================] - 0s 54ms/step\n",
      "1/1 [==============================] - 0s 52ms/step\n",
      "1/1 [==============================] - 0s 46ms/step\n",
      "1/1 [==============================] - 0s 49ms/step\n",
      "1/1 [==============================] - 0s 46ms/step\n"
     ]
    },
    {
     "name": "stderr",
     "output_type": "stream",
     "text": [
      "[Succeeded / Failed / Skipped / Total] 128 / 132 / 101 / 361:  72%|███████▏  | 361/500 [09:01<03:28,  1.50s/it]"
     ]
    },
    {
     "name": "stdout",
     "output_type": "stream",
     "text": [
      "--------------------------------------------- Result 361 ---------------------------------------------\n",
      "[[0 (36%)]] --> [[1 (35%)]]\n",
      "\n",
      "gue enggak [[suka]] anggun jadi duta shampoo \n",
      "\n",
      "gue enggak [[minat]] anggun jadi duta shampoo \n",
      "\n",
      "\n",
      "1/1 [==============================] - 0s 35ms/step\n",
      "1/1 [==============================] - 0s 46ms/step\n"
     ]
    },
    {
     "name": "stderr",
     "output_type": "stream",
     "text": [
      "[Succeeded / Failed / Skipped / Total] 128 / 133 / 101 / 362:  72%|███████▏  | 362/500 [09:01<03:26,  1.50s/it]"
     ]
    },
    {
     "name": "stdout",
     "output_type": "stream",
     "text": [
      "--------------------------------------------- Result 362 ---------------------------------------------\n",
      "[[0 (39%)]] --> [[[FAILED]]]\n",
      "\n",
      "kesian sheila on tenggelem sekarang \n",
      "\n",
      "\n",
      "1/1 [==============================] - 0s 39ms/step\n",
      "1/1 [==============================] - 0s 50ms/step\n",
      "1/1 [==============================] - 0s 50ms/step\n",
      "1/1 [==============================] - 0s 49ms/step\n",
      "1/1 [==============================] - 0s 48ms/step\n",
      "1/1 [==============================] - 0s 61ms/step\n",
      "1/1 [==============================] - 0s 47ms/step\n"
     ]
    },
    {
     "name": "stderr",
     "output_type": "stream",
     "text": [
      "[Succeeded / Failed / Skipped / Total] 128 / 134 / 101 / 363:  73%|███████▎  | 363/500 [09:02<03:24,  1.49s/it]"
     ]
    },
    {
     "name": "stdout",
     "output_type": "stream",
     "text": [
      "--------------------------------------------- Result 363 ---------------------------------------------\n",
      "[[0 (43%)]] --> [[[FAILED]]]\n",
      "\n",
      "andhika kangen band apa kabar ya sepertinya makin miskin saja sekarang \n",
      "\n",
      "\n",
      "1/1 [==============================] - 0s 61ms/step\n",
      "1/1 [==============================] - 0s 46ms/step\n",
      "1/1 [==============================] - 0s 45ms/step\n",
      "1/1 [==============================] - 0s 49ms/step\n",
      "1/1 [==============================] - 0s 50ms/step\n"
     ]
    },
    {
     "name": "stderr",
     "output_type": "stream",
     "text": [
      "[Succeeded / Failed / Skipped / Total] 129 / 134 / 101 / 364:  73%|███████▎  | 364/500 [09:02<03:22,  1.49s/it]"
     ]
    },
    {
     "name": "stdout",
     "output_type": "stream",
     "text": [
      "--------------------------------------------- Result 364 ---------------------------------------------\n",
      "[[0 (38%)]] --> [[2 (37%)]]\n",
      "\n",
      "semua program yang ada ya kuya nya tidak pernah [[berfaedah]] \n",
      "\n",
      "semua program yang ada ya kuya nya tidak pernah [[bagus]] \n",
      "\n",
      "\n",
      "1/1 [==============================] - 0s 33ms/step\n",
      "1/1 [==============================] - 0s 47ms/step\n",
      "1/1 [==============================] - 0s 52ms/step\n",
      "1/1 [==============================] - 0s 51ms/step\n",
      "1/1 [==============================] - 0s 46ms/step\n",
      "1/1 [==============================] - 0s 45ms/step\n",
      "1/1 [==============================] - 0s 51ms/step\n",
      "1/1 [==============================] - 0s 46ms/step\n",
      "1/1 [==============================] - 0s 51ms/step\n",
      "1/1 [==============================] - 0s 50ms/step\n",
      "1/1 [==============================] - 0s 44ms/step\n",
      "1/1 [==============================] - 0s 47ms/step\n",
      "1/1 [==============================] - 0s 49ms/step\n"
     ]
    },
    {
     "name": "stderr",
     "output_type": "stream",
     "text": [
      "[Succeeded / Failed / Skipped / Total] 129 / 135 / 101 / 365:  73%|███████▎  | 365/500 [09:03<03:21,  1.49s/it]"
     ]
    },
    {
     "name": "stdout",
     "output_type": "stream",
     "text": [
      "--------------------------------------------- Result 365 ---------------------------------------------\n",
      "[[0 (43%)]] --> [[[FAILED]]]\n",
      "\n",
      "harus nya orang indonesia itu banyak cari ilmu bukan malah banyak cari masalah \n",
      "\n",
      "\n",
      "1/1 [==============================] - 0s 35ms/step\n",
      "1/1 [==============================] - 0s 67ms/step\n"
     ]
    },
    {
     "name": "stderr",
     "output_type": "stream",
     "text": [
      "[Succeeded / Failed / Skipped / Total] 129 / 136 / 101 / 366:  73%|███████▎  | 366/500 [09:03<03:19,  1.49s/it]"
     ]
    },
    {
     "name": "stdout",
     "output_type": "stream",
     "text": [
      "--------------------------------------------- Result 366 ---------------------------------------------\n",
      "[[0 (37%)]] --> [[[FAILED]]]\n",
      "\n",
      "its tidak ada apa apa nya kalau dibandingkan itb \n",
      "\n",
      "\n",
      "1/1 [==============================] - 0s 39ms/step\n",
      "1/1 [==============================] - 0s 48ms/step\n",
      "1/1 [==============================] - 0s 54ms/step\n",
      "1/1 [==============================] - 0s 54ms/step\n",
      "1/1 [==============================] - 0s 46ms/step\n",
      "1/1 [==============================] - 0s 48ms/step\n",
      "1/1 [==============================] - 0s 49ms/step\n",
      "1/1 [==============================] - 0s 50ms/step\n",
      "1/1 [==============================] - 0s 46ms/step\n",
      "1/1 [==============================] - 0s 52ms/step\n",
      "1/1 [==============================] - 0s 51ms/step\n",
      "1/1 [==============================] - 0s 45ms/step\n",
      "1/1 [==============================] - 0s 49ms/step\n"
     ]
    },
    {
     "name": "stderr",
     "output_type": "stream",
     "text": [
      "[Succeeded / Failed / Skipped / Total] 129 / 136 / 101 / 366:  73%|███████▎  | 367/500 [09:05<03:17,  1.49s/it]"
     ]
    },
    {
     "name": "stdout",
     "output_type": "stream",
     "text": [
      "--------------------------------------------- Result 367 ---------------------------------------------\n",
      "[[0 (38%)]] --> [[2 (35%)]]\n",
      "\n",
      "sekarang makin banyak [[orang]] yang nga ku islami tapi [[akhlak]] kagak dijaga selalu merasa jadi [[orang]] paling benar \n",
      "\n",
      "sekarang makin banyak [[muda]] yang nga ku islami tapi [[jenis]] kagak dijaga selalu merasa jadi [[muda]] paling benar "
     ]
    },
    {
     "name": "stderr",
     "output_type": "stream",
     "text": [
      "[Succeeded / Failed / Skipped / Total] 130 / 136 / 101 / 367:  73%|███████▎  | 367/500 [09:05<03:17,  1.49s/it]"
     ]
    },
    {
     "name": "stdout",
     "output_type": "stream",
     "text": [
      "\n",
      "\n",
      "\n",
      "1/1 [==============================] - 0s 42ms/step\n",
      "1/1 [==============================] - 0s 47ms/step\n",
      "1/1 [==============================] - 0s 52ms/step\n",
      "1/1 [==============================] - 0s 50ms/step\n",
      "1/1 [==============================] - 0s 45ms/step\n",
      "1/1 [==============================] - 0s 52ms/step\n",
      "1/1 [==============================] - 0s 51ms/step\n",
      "1/1 [==============================] - 0s 46ms/step\n",
      "1/1 [==============================] - 0s 48ms/step\n",
      "1/1 [==============================] - 0s 51ms/step\n",
      "1/1 [==============================] - 0s 43ms/step\n",
      "1/1 [==============================] - 0s 52ms/step\n",
      "1/1 [==============================] - 0s 44ms/step\n",
      "1/1 [==============================] - 0s 53ms/step\n",
      "1/1 [==============================] - 0s 43ms/step\n",
      "1/1 [==============================] - 0s 44ms/step\n",
      "1/1 [==============================] - 0s 50ms/step\n",
      "1/1 [==============================] - 0s 34ms/step\n",
      "1/1 [==============================] - 0s 50ms/step\n",
      "1/1 [==============================] - 0s 40ms/step\n",
      "1/1 [==============================] - 0s 44ms/step\n",
      "1/1 [==============================] - 0s 50ms/step\n",
      "1/1 [==============================] - 0s 52ms/step\n",
      "1/1 [==============================] - 0s 50ms/step\n",
      "1/1 [==============================] - 0s 49ms/step\n",
      "1/1 [==============================] - 0s 51ms/step\n",
      "1/1 [==============================] - 0s 44ms/step\n",
      "1/1 [==============================] - 0s 33ms/step\n"
     ]
    },
    {
     "name": "stderr",
     "output_type": "stream",
     "text": [
      "[Succeeded / Failed / Skipped / Total] 131 / 136 / 101 / 368:  74%|███████▎  | 368/500 [09:07<03:16,  1.49s/it]"
     ]
    },
    {
     "name": "stdout",
     "output_type": "stream",
     "text": [
      "--------------------------------------------- Result 368 ---------------------------------------------\n",
      "[[0 (39%)]] --> [[1 (35%)]]\n",
      "\n",
      "gue enggak suka itu sama [[orang]] [[orang]] yang pakai alasan [[agama]] buat menang di [[dunia]] [[politik]] \n",
      "\n",
      "gue enggak suka itu sama [[bentuk]] [[bentuk]] yang pakai alasan [[keagamaan]] buat menang di [[alam]] [[berpolitik]] \n",
      "\n",
      "\n",
      "1/1 [==============================] - 0s 35ms/step\n",
      "1/1 [==============================] - 0s 46ms/step\n",
      "1/1 [==============================] - 0s 45ms/step\n",
      "1/1 [==============================] - 0s 51ms/step\n",
      "1/1 [==============================] - 0s 51ms/step\n"
     ]
    },
    {
     "name": "stderr",
     "output_type": "stream",
     "text": [
      "[Succeeded / Failed / Skipped / Total] 131 / 137 / 101 / 369:  74%|███████▍  | 369/500 [09:07<03:14,  1.49s/it]"
     ]
    },
    {
     "name": "stdout",
     "output_type": "stream",
     "text": [
      "--------------------------------------------- Result 369 ---------------------------------------------\n",
      "[[0 (41%)]] --> [[[FAILED]]]\n",
      "\n",
      "kesal dah sama habib rizieq malu maluin saja bisa nya \n",
      "\n",
      "\n",
      "1/1 [==============================] - 0s 35ms/step\n",
      "1/1 [==============================] - 0s 62ms/step\n",
      "1/1 [==============================] - 0s 49ms/step\n",
      "1/1 [==============================] - 0s 51ms/step\n",
      "1/1 [==============================] - 0s 46ms/step\n",
      "1/1 [==============================] - 0s 45ms/step\n",
      "1/1 [==============================] - 0s 51ms/step\n",
      "1/1 [==============================] - 0s 52ms/step\n",
      "1/1 [==============================] - 0s 43ms/step\n",
      "1/1 [==============================] - 0s 46ms/step\n",
      "1/1 [==============================] - 0s 44ms/step\n"
     ]
    },
    {
     "name": "stderr",
     "output_type": "stream",
     "text": [
      "[Succeeded / Failed / Skipped / Total] 132 / 137 / 101 / 370:  74%|███████▍  | 370/500 [09:08<03:12,  1.48s/it]"
     ]
    },
    {
     "name": "stdout",
     "output_type": "stream",
     "text": [
      "--------------------------------------------- Result 370 ---------------------------------------------\n",
      "[[0 (35%)]] --> [[1 (35%)]]\n",
      "\n",
      "tidak suka sama laptop merek acer cepat [[rusak]] kakak \n",
      "\n",
      "tidak suka sama laptop merek acer cepat [[kupak]] kakak \n",
      "\n",
      "\n",
      "1/1 [==============================] - 0s 40ms/step\n",
      "1/1 [==============================] - 0s 46ms/step\n",
      "1/1 [==============================] - 0s 46ms/step\n",
      "1/1 [==============================] - 0s 34ms/step\n",
      "1/1 [==============================] - 0s 51ms/step\n",
      "1/1 [==============================] - 0s 46ms/step\n",
      "1/1 [==============================] - 0s 35ms/step\n",
      "1/1 [==============================] - 0s 55ms/step\n",
      "1/1 [==============================] - 0s 49ms/step\n",
      "1/1 [==============================] - 0s 50ms/step\n",
      "1/1 [==============================] - 0s 50ms/step\n",
      "1/1 [==============================] - 0s 47ms/step\n",
      "1/1 [==============================] - 0s 51ms/step\n",
      "1/1 [==============================] - 0s 50ms/step\n",
      "1/1 [==============================] - 0s 49ms/step\n",
      "1/1 [==============================] - 0s 33ms/step\n",
      "1/1 [==============================] - 0s 53ms/step\n",
      "1/1 [==============================] - 0s 46ms/step\n",
      "1/1 [==============================] - 0s 52ms/step\n",
      "1/1 [==============================] - 0s 46ms/step\n",
      "1/1 [==============================] - 0s 54ms/step\n",
      "1/1 [==============================] - 0s 49ms/step\n",
      "1/1 [==============================] - 0s 56ms/step\n",
      "1/1 [==============================] - 0s 47ms/step\n",
      "1/1 [==============================] - 0s 49ms/step\n",
      "1/1 [==============================] - 0s 48ms/step\n",
      "1/1 [==============================] - 0s 46ms/step\n"
     ]
    },
    {
     "name": "stderr",
     "output_type": "stream",
     "text": [
      "[Succeeded / Failed / Skipped / Total] 132 / 137 / 101 / 370:  74%|███████▍  | 371/500 [09:11<03:11,  1.49s/it]"
     ]
    },
    {
     "name": "stdout",
     "output_type": "stream",
     "text": [
      "--------------------------------------------- Result 371 ---------------------------------------------\n",
      "[[0 (40%)]] --> [[[FAILED]]]\n",
      "\n",
      "harga telepon genggam vivo y kemahalan padahal telepon genggam nya tidak bagus bagus amat \n",
      "\n",
      "\n"
     ]
    },
    {
     "name": "stderr",
     "output_type": "stream",
     "text": [
      "[Succeeded / Failed / Skipped / Total] 132 / 138 / 101 / 371:  74%|███████▍  | 371/500 [09:11<03:11,  1.49s/it]"
     ]
    },
    {
     "name": "stdout",
     "output_type": "stream",
     "text": [
      "1/1 [==============================] - 0s 36ms/step\n",
      "1/1 [==============================] - 0s 47ms/step\n",
      "1/1 [==============================] - 0s 55ms/step\n",
      "1/1 [==============================] - 0s 51ms/step\n",
      "1/1 [==============================] - 0s 47ms/step\n",
      "--------------------------------------------- Result 372 ---------------------------------------------\n",
      "[[0 (39%)]] --> [[[FAILED]]]\n",
      "\n",
      "tidak pernah suka sama handphone zenfone alay \n",
      "\n",
      "\n"
     ]
    },
    {
     "name": "stderr",
     "output_type": "stream",
     "text": [
      "[Succeeded / Failed / Skipped / Total] 132 / 139 / 101 / 372:  74%|███████▍  | 372/500 [09:11<03:09,  1.48s/it]"
     ]
    },
    {
     "name": "stdout",
     "output_type": "stream",
     "text": [
      "1/1 [==============================] - 0s 35ms/step\n",
      "1/1 [==============================] - 0s 47ms/step\n",
      "1/1 [==============================] - 0s 49ms/step\n",
      "1/1 [==============================] - 0s 53ms/step\n",
      "1/1 [==============================] - 0s 43ms/step\n"
     ]
    },
    {
     "name": "stderr",
     "output_type": "stream",
     "text": [
      "[Succeeded / Failed / Skipped / Total] 132 / 140 / 101 / 373:  75%|███████▍  | 373/500 [09:12<03:07,  1.48s/it]"
     ]
    },
    {
     "name": "stdout",
     "output_type": "stream",
     "text": [
      "--------------------------------------------- Result 373 ---------------------------------------------\n",
      "[[0 (39%)]] --> [[[FAILED]]]\n",
      "\n",
      "kamera zenfone selalu jelek kalau dipakai di tempat remang remang tidak profesional \n",
      "\n",
      "\n",
      "1/1 [==============================] - 0s 36ms/step\n",
      "1/1 [==============================] - 0s 53ms/step\n",
      "1/1 [==============================] - 0s 46ms/step\n",
      "1/1 [==============================] - 0s 47ms/step\n",
      "1/1 [==============================] - 0s 52ms/step\n",
      "1/1 [==============================] - 0s 66ms/step\n",
      "1/1 [==============================] - 0s 47ms/step\n",
      "1/1 [==============================] - 0s 45ms/step\n",
      "1/1 [==============================] - 0s 45ms/step\n",
      "1/1 [==============================] - 0s 43ms/step\n",
      "1/1 [==============================] - 0s 44ms/step\n"
     ]
    },
    {
     "name": "stderr",
     "output_type": "stream",
     "text": [
      "[Succeeded / Failed / Skipped / Total] 132 / 141 / 101 / 374:  75%|███████▍  | 374/500 [09:13<03:06,  1.48s/it]"
     ]
    },
    {
     "name": "stdout",
     "output_type": "stream",
     "text": [
      "--------------------------------------------- Result 374 ---------------------------------------------\n",
      "[[0 (38%)]] --> [[[FAILED]]]\n",
      "\n",
      "di antara olah raga yang ada gue paling tidak suka sepak bola \n",
      "\n",
      "\n",
      "1/1 [==============================] - 0s 42ms/step\n",
      "1/1 [==============================] - 0s 45ms/step\n",
      "1/1 [==============================] - 0s 53ms/step\n",
      "1/1 [==============================] - 0s 45ms/step\n",
      "1/1 [==============================] - 0s 46ms/step\n",
      "1/1 [==============================] - 0s 48ms/step\n",
      "1/1 [==============================] - 0s 50ms/step\n",
      "1/1 [==============================] - 0s 47ms/step\n",
      "1/1 [==============================] - 0s 49ms/step\n",
      "1/1 [==============================] - 0s 51ms/step\n",
      "1/1 [==============================] - 0s 48ms/step\n",
      "1/1 [==============================] - 0s 45ms/step\n",
      "1/1 [==============================] - 0s 46ms/step\n",
      "1/1 [==============================] - 0s 46ms/step\n",
      "1/1 [==============================] - 0s 47ms/step\n",
      "1/1 [==============================] - 0s 48ms/step\n",
      "1/1 [==============================] - 0s 49ms/step\n",
      "1/1 [==============================] - 0s 55ms/step\n",
      "1/1 [==============================] - 0s 44ms/step\n",
      "1/1 [==============================] - 0s 47ms/step\n",
      "1/1 [==============================] - 0s 53ms/step\n",
      "1/1 [==============================] - 0s 44ms/step\n"
     ]
    },
    {
     "name": "stderr",
     "output_type": "stream",
     "text": [
      "[Succeeded / Failed / Skipped / Total] 133 / 141 / 101 / 375:  75%|███████▌  | 375/500 [09:14<03:04,  1.48s/it]"
     ]
    },
    {
     "name": "stdout",
     "output_type": "stream",
     "text": [
      "--------------------------------------------- Result 375 ---------------------------------------------\n",
      "[[0 (43%)]] --> [[2 (36%)]]\n",
      "\n",
      "dulu pernah [[mencoba]] belajar renang tapi [[tenggelam]] terus sekarang tidak mau lagi deh gue renang [[trauma]] [[seram]] \n",
      "\n",
      "dulu pernah [[contoh]] belajar renang tapi [[rindu]] terus sekarang tidak mau lagi deh gue renang [[dahsyat]] [[dahsyat]] \n",
      "\n",
      "\n",
      "1/1 [==============================] - 0s 34ms/step\n",
      "--------------------------------------------- Result 376 ---------------------------------------------\n",
      "[[0 (36%)]] --> [[[SKIPPED]]]\n",
      "\n",
      "sebenarnya kelebihan makan di upnormal itu karena disediakan banyak mainan nongkrong jadi lebih seru \n",
      "\n",
      "\n"
     ]
    },
    {
     "name": "stderr",
     "output_type": "stream",
     "text": [
      "[Succeeded / Failed / Skipped / Total] 133 / 141 / 102 / 376:  75%|███████▌  | 376/500 [09:15<03:03,  1.48s/it]"
     ]
    },
    {
     "name": "stdout",
     "output_type": "stream",
     "text": [
      "1/1 [==============================] - 0s 43ms/step\n"
     ]
    },
    {
     "name": "stderr",
     "output_type": "stream",
     "text": [
      "[Succeeded / Failed / Skipped / Total] 133 / 141 / 103 / 377:  75%|███████▌  | 377/500 [09:15<03:01,  1.47s/it]"
     ]
    },
    {
     "name": "stdout",
     "output_type": "stream",
     "text": [
      "--------------------------------------------- Result 377 ---------------------------------------------\n",
      "[[0 (35%)]] --> [[[SKIPPED]]]\n",
      "\n",
      "gue paling suka sama indomie cabe hijau terbaik \n",
      "\n",
      "\n",
      "1/1 [==============================] - 0s 40ms/step\n",
      "1/1 [==============================] - 0s 52ms/step\n",
      "1/1 [==============================] - 0s 50ms/step\n",
      "1/1 [==============================] - 0s 50ms/step\n",
      "1/1 [==============================] - 0s 50ms/step\n",
      "1/1 [==============================] - 0s 44ms/step\n",
      "1/1 [==============================] - 0s 47ms/step\n",
      "1/1 [==============================] - 0s 43ms/step\n",
      "1/1 [==============================] - 0s 33ms/step\n"
     ]
    },
    {
     "name": "stderr",
     "output_type": "stream",
     "text": [
      "[Succeeded / Failed / Skipped / Total] 134 / 141 / 103 / 378:  76%|███████▌  | 378/500 [09:15<02:59,  1.47s/it]"
     ]
    },
    {
     "name": "stdout",
     "output_type": "stream",
     "text": [
      "--------------------------------------------- Result 378 ---------------------------------------------\n",
      "[[2 (34%)]] --> [[1 (35%)]]\n",
      "\n",
      "kalau suruh milih gue lebih [[suka]] belanja di shopee pelayanan nya nomor \n",
      "\n",
      "kalau suruh milih gue lebih [[harap]] belanja di shopee pelayanan nya nomor \n",
      "\n",
      "\n",
      "1/1 [==============================] - 0s 44ms/step\n"
     ]
    },
    {
     "name": "stderr",
     "output_type": "stream",
     "text": [
      "[Succeeded / Failed / Skipped / Total] 134 / 141 / 104 / 379:  76%|███████▌  | 379/500 [09:16<02:57,  1.47s/it]"
     ]
    },
    {
     "name": "stdout",
     "output_type": "stream",
     "text": [
      "--------------------------------------------- Result 379 ---------------------------------------------\n",
      "[[0 (37%)]] --> [[[SKIPPED]]]\n",
      "\n",
      "kalau mau kirim barang ke luar negeri menurut gue dil sudah paling enak \n",
      "\n",
      "\n",
      "1/1 [==============================] - 0s 37ms/step\n"
     ]
    },
    {
     "name": "stderr",
     "output_type": "stream",
     "text": [
      "[Succeeded / Failed / Skipped / Total] 134 / 141 / 105 / 380:  76%|███████▌  | 380/500 [09:16<02:55,  1.46s/it]"
     ]
    },
    {
     "name": "stdout",
     "output_type": "stream",
     "text": [
      "--------------------------------------------- Result 380 ---------------------------------------------\n",
      "[[0 (34%)]] --> [[[SKIPPED]]]\n",
      "\n",
      "gue bersyukur jokowi bakal jadi presiden selama sepuluh tahun \n",
      "\n",
      "\n",
      "1/1 [==============================] - 0s 41ms/step\n"
     ]
    },
    {
     "name": "stderr",
     "output_type": "stream",
     "text": [
      "[Succeeded / Failed / Skipped / Total] 134 / 141 / 106 / 381:  76%|███████▌  | 381/500 [09:16<02:53,  1.46s/it]"
     ]
    },
    {
     "name": "stdout",
     "output_type": "stream",
     "text": [
      "--------------------------------------------- Result 381 ---------------------------------------------\n",
      "[[0 (35%)]] --> [[[SKIPPED]]]\n",
      "\n",
      "senang banget liat sandi maju cawapres untuk yakin gue bakal milih dia \n",
      "\n",
      "\n",
      "1/1 [==============================] - 0s 37ms/step\n",
      "1/1 [==============================] - 0s 47ms/step\n",
      "1/1 [==============================] - 0s 52ms/step\n",
      "1/1 [==============================] - 0s 45ms/step\n",
      "1/1 [==============================] - 0s 33ms/step\n",
      "1/1 [==============================] - 0s 40ms/step\n",
      "1/1 [==============================] - 0s 46ms/step\n",
      "1/1 [==============================] - 0s 44ms/step\n"
     ]
    },
    {
     "name": "stderr",
     "output_type": "stream",
     "text": [
      "[Succeeded / Failed / Skipped / Total] 135 / 141 / 106 / 382:  76%|███████▋  | 382/500 [09:16<02:52,  1.46s/it]"
     ]
    },
    {
     "name": "stdout",
     "output_type": "stream",
     "text": [
      "--------------------------------------------- Result 382 ---------------------------------------------\n",
      "[[2 (37%)]] --> [[0 (36%)]]\n",
      "\n",
      "kalau mau karaoke enak lu datang saja ke studio karaoke harga nya juga terjangkau [[banget]] \n",
      "\n",
      "kalau mau karaoke enak lu datang saja ke studio karaoke harga nya juga terjangkau [[begitu]] \n",
      "\n",
      "\n",
      "1/1 [==============================] - 0s 37ms/step\n",
      "1/1 [==============================] - 0s 46ms/step\n",
      "1/1 [==============================] - 0s 52ms/step\n",
      "1/1 [==============================] - 0s 49ms/step\n",
      "1/1 [==============================] - 0s 44ms/step\n",
      "1/1 [==============================] - 0s 48ms/step\n",
      "1/1 [==============================] - 0s 53ms/step\n",
      "1/1 [==============================] - 0s 50ms/step\n",
      "1/1 [==============================] - 0s 45ms/step\n"
     ]
    },
    {
     "name": "stderr",
     "output_type": "stream",
     "text": [
      "[Succeeded / Failed / Skipped / Total] 135 / 141 / 106 / 382:  77%|███████▋  | 383/500 [09:17<02:50,  1.46s/it]"
     ]
    },
    {
     "name": "stdout",
     "output_type": "stream",
     "text": [
      "--------------------------------------------- Result 383 ---------------------------------------------\n",
      "[[2 (39%)]] --> [[0 (37%)]]\n",
      "\n",
      "xiamo sudah paling [[enak]] sih kualitas nya [[mantap]] harga nya juga kejangkau \n",
      "\n",
      "xiamo sudah paling [[waras]] sih kualitas nya [[stabil]] harga nya juga kejangkau \n",
      "\n",
      "\n"
     ]
    },
    {
     "name": "stderr",
     "output_type": "stream",
     "text": [
      "[Succeeded / Failed / Skipped / Total] 136 / 141 / 106 / 383:  77%|███████▋  | 383/500 [09:17<02:50,  1.46s/it]"
     ]
    },
    {
     "name": "stdout",
     "output_type": "stream",
     "text": [
      "1/1 [==============================] - 0s 34ms/step\n",
      "--------------------------------------------- Result 384 ---------------------------------------------\n",
      "[[0 (34%)]] --> [[[SKIPPED]]]\n",
      "\n",
      "banyak nilai positif yang bisa diambil dari jokowi \n",
      "\n",
      "\n"
     ]
    },
    {
     "name": "stderr",
     "output_type": "stream",
     "text": [
      "[Succeeded / Failed / Skipped / Total] 136 / 141 / 107 / 384:  77%|███████▋  | 384/500 [09:17<02:48,  1.45s/it]"
     ]
    },
    {
     "name": "stdout",
     "output_type": "stream",
     "text": [
      "1/1 [==============================] - 0s 34ms/step\n"
     ]
    },
    {
     "name": "stderr",
     "output_type": "stream",
     "text": [
      "[Succeeded / Failed / Skipped / Total] 136 / 141 / 108 / 385:  77%|███████▋  | 385/500 [09:17<02:46,  1.45s/it]"
     ]
    },
    {
     "name": "stdout",
     "output_type": "stream",
     "text": [
      "--------------------------------------------- Result 385 ---------------------------------------------\n",
      "[[0 (36%)]] --> [[[SKIPPED]]]\n",
      "\n",
      "gue suka banget matematika dari dulu karena mengasah otak jadi cerdas \n",
      "\n",
      "\n",
      "1/1 [==============================] - 0s 36ms/step\n",
      "1/1 [==============================] - 0s 53ms/step\n",
      "1/1 [==============================] - 0s 49ms/step\n",
      "1/1 [==============================] - 0s 44ms/step\n",
      "1/1 [==============================] - 0s 47ms/step\n",
      "1/1 [==============================] - 0s 50ms/step\n",
      "1/1 [==============================] - 0s 46ms/step\n",
      "1/1 [==============================] - 0s 45ms/step\n",
      "1/1 [==============================] - 0s 51ms/step\n",
      "1/1 [==============================] - 0s 50ms/step\n",
      "1/1 [==============================] - 0s 46ms/step\n",
      "1/1 [==============================] - 0s 50ms/step\n",
      "1/1 [==============================] - 0s 49ms/step\n",
      "1/1 [==============================] - 0s 50ms/step\n",
      "--------------------------------------------- Result 386 ---------------------------------------------\n",
      "[[2 (41%)]] --> [[0 (35%)]]\n",
      "\n",
      "jam tangan switch selalu kasih model yang terkini pilihan warna nya juga bagus [[bagus]] \n",
      "\n",
      "jam tangan switch selalu kasih model yang terkini pilihan warna nya juga bagus [[pintar]] \n",
      "\n",
      "\n"
     ]
    },
    {
     "name": "stderr",
     "output_type": "stream",
     "text": [
      "[Succeeded / Failed / Skipped / Total] 137 / 141 / 108 / 386:  77%|███████▋  | 386/500 [09:19<02:45,  1.45s/it]"
     ]
    },
    {
     "name": "stdout",
     "output_type": "stream",
     "text": [
      "1/1 [==============================] - 0s 41ms/step\n"
     ]
    },
    {
     "name": "stderr",
     "output_type": "stream",
     "text": [
      "[Succeeded / Failed / Skipped / Total] 137 / 141 / 109 / 387:  77%|███████▋  | 387/500 [09:19<02:43,  1.44s/it]"
     ]
    },
    {
     "name": "stdout",
     "output_type": "stream",
     "text": [
      "--------------------------------------------- Result 387 ---------------------------------------------\n",
      "[[0 (38%)]] --> [[[SKIPPED]]]\n",
      "\n",
      "kalau diperhatikan perkembangan film di indonesia makin berkembang gue suka itu \n",
      "\n",
      "\n",
      "1/1 [==============================] - 0s 35ms/step\n",
      "--------------------------------------------- Result 388 ---------------------------------------------\n",
      "[[0 (38%)]] --> [[[SKIPPED]]]\n",
      "\n",
      "film horor indonesia patut diacungin jempol konsep nya sudah hampir setara sama film horor luar negeri \n",
      "\n",
      "\n"
     ]
    },
    {
     "name": "stderr",
     "output_type": "stream",
     "text": [
      "[Succeeded / Failed / Skipped / Total] 137 / 141 / 110 / 388:  78%|███████▊  | 388/500 [09:19<02:41,  1.44s/it]"
     ]
    },
    {
     "name": "stdout",
     "output_type": "stream",
     "text": [
      "1/1 [==============================] - 0s 34ms/step\n"
     ]
    },
    {
     "name": "stderr",
     "output_type": "stream",
     "text": [
      "[Succeeded / Failed / Skipped / Total] 137 / 141 / 111 / 389:  78%|███████▊  | 389/500 [09:19<02:39,  1.44s/it]"
     ]
    },
    {
     "name": "stdout",
     "output_type": "stream",
     "text": [
      "--------------------------------------------- Result 389 ---------------------------------------------\n",
      "[[0 (37%)]] --> [[[SKIPPED]]]\n",
      "\n",
      "asli ya gue suka banget sama alur cerita film kafir sederhana tapi dapat makna nya \n",
      "\n",
      "\n",
      "1/1 [==============================] - 0s 37ms/step\n",
      "--------------------------------------------- Result 390 ---------------------------------------------\n",
      "[[0 (36%)]] --> [[[SKIPPED]]]\n",
      "\n",
      "cinta banget sama iko uwais apalagi kalau lagi main film \n",
      "\n",
      "\n"
     ]
    },
    {
     "name": "stderr",
     "output_type": "stream",
     "text": [
      "[Succeeded / Failed / Skipped / Total] 137 / 141 / 112 / 390:  78%|███████▊  | 390/500 [09:19<02:37,  1.43s/it]"
     ]
    },
    {
     "name": "stdout",
     "output_type": "stream",
     "text": [
      "1/1 [==============================] - 0s 33ms/step\n"
     ]
    },
    {
     "name": "stderr",
     "output_type": "stream",
     "text": [
      "[Succeeded / Failed / Skipped / Total] 137 / 141 / 113 / 391:  78%|███████▊  | 391/500 [09:19<02:35,  1.43s/it]"
     ]
    },
    {
     "name": "stdout",
     "output_type": "stream",
     "text": [
      "--------------------------------------------- Result 391 ---------------------------------------------\n",
      "[[0 (35%)]] --> [[[SKIPPED]]]\n",
      "\n",
      "kangen deh sama prabowo semoga beliau jadi presiden deh ya dua tahun lagi \n",
      "\n",
      "\n",
      "1/1 [==============================] - 0s 35ms/step\n",
      "1/1 [==============================] - 0s 46ms/step\n",
      "1/1 [==============================] - 0s 49ms/step\n",
      "1/1 [==============================] - 0s 45ms/step\n",
      "1/1 [==============================] - 0s 44ms/step\n",
      "--------------------------------------------- Result 392 ---------------------------------------------\n",
      "[[2 (40%)]] --> [[0 (36%)]]\n",
      "\n",
      "recheese nabati yang keju [[enak]] banget \n",
      "\n",
      "recheese nabati yang keju [[waras]] banget "
     ]
    },
    {
     "name": "stderr",
     "output_type": "stream",
     "text": [
      "[Succeeded / Failed / Skipped / Total] 138 / 141 / 113 / 392:  78%|███████▊  | 392/500 [09:19<02:34,  1.43s/it]"
     ]
    },
    {
     "name": "stdout",
     "output_type": "stream",
     "text": [
      "\n",
      "\n",
      "\n",
      "1/1 [==============================] - 0s 33ms/step\n"
     ]
    },
    {
     "name": "stderr",
     "output_type": "stream",
     "text": [
      "[Succeeded / Failed / Skipped / Total] 138 / 141 / 114 / 393:  79%|███████▊  | 393/500 [09:19<02:32,  1.42s/it]"
     ]
    },
    {
     "name": "stdout",
     "output_type": "stream",
     "text": [
      "--------------------------------------------- Result 393 ---------------------------------------------\n",
      "[[0 (35%)]] --> [[[SKIPPED]]]\n",
      "\n",
      "kalau ingin menghilangkan haus pakai minuman super duper segar mending beli hydrococo \n",
      "\n",
      "\n",
      "1/1 [==============================] - 0s 33ms/step\n",
      "--------------------------------------------- Result 394 ---------------------------------------------\n",
      "[[0 (34%)]] --> [[[SKIPPED]]]\n",
      "\n",
      "tidak tahu kenapa gue senang banget bisa tinggal di jakarta \n",
      "\n",
      "\n"
     ]
    },
    {
     "name": "stderr",
     "output_type": "stream",
     "text": [
      "[Succeeded / Failed / Skipped / Total] 138 / 141 / 115 / 394:  79%|███████▉  | 394/500 [09:20<02:30,  1.42s/it]"
     ]
    },
    {
     "name": "stdout",
     "output_type": "stream",
     "text": [
      "1/1 [==============================] - 0s 34ms/step\n"
     ]
    },
    {
     "name": "stderr",
     "output_type": "stream",
     "text": [
      "[Succeeded / Failed / Skipped / Total] 138 / 141 / 116 / 395:  79%|███████▉  | 395/500 [09:20<02:28,  1.42s/it]"
     ]
    },
    {
     "name": "stdout",
     "output_type": "stream",
     "text": [
      "--------------------------------------------- Result 395 ---------------------------------------------\n",
      "[[1 (35%)]] --> [[[SKIPPED]]]\n",
      "\n",
      "menurut gue bali itu pulau tercantik yang ada di indonesia \n",
      "\n",
      "\n",
      "1/1 [==============================] - 0s 43ms/step\n",
      "1/1 [==============================] - 0s 48ms/step\n",
      "1/1 [==============================] - 0s 53ms/step\n",
      "1/1 [==============================] - 0s 49ms/step\n",
      "1/1 [==============================] - 0s 45ms/step\n",
      "1/1 [==============================] - 0s 44ms/step\n",
      "1/1 [==============================] - 0s 44ms/step\n",
      "1/1 [==============================] - 0s 48ms/step\n",
      "1/1 [==============================] - 0s 46ms/step\n",
      "--------------------------------------------- Result 396 ---------------------------------------------\n",
      "[[2 (36%)]] --> [[0 (36%)]]\n",
      "\n",
      "yang gue suka dari indonesia adalah budaya nya yang kental [[banget]] \n",
      "\n",
      "yang gue suka dari indonesia adalah budaya nya yang kental [[begitu]] "
     ]
    },
    {
     "name": "stderr",
     "output_type": "stream",
     "text": [
      "[Succeeded / Failed / Skipped / Total] 139 / 141 / 116 / 396:  79%|███████▉  | 396/500 [09:20<02:27,  1.42s/it]"
     ]
    },
    {
     "name": "stdout",
     "output_type": "stream",
     "text": [
      "\n",
      "\n",
      "\n",
      "1/1 [==============================] - 0s 42ms/step\n"
     ]
    },
    {
     "name": "stderr",
     "output_type": "stream",
     "text": [
      "[Succeeded / Failed / Skipped / Total] 139 / 141 / 117 / 397:  79%|███████▉  | 397/500 [09:21<02:25,  1.41s/it]"
     ]
    },
    {
     "name": "stdout",
     "output_type": "stream",
     "text": [
      "--------------------------------------------- Result 397 ---------------------------------------------\n",
      "[[0 (36%)]] --> [[[SKIPPED]]]\n",
      "\n",
      "indonesia itu seperti banget sama seni dan budaya nya syukurlah gue dilahirkan di indonesia jadi bisa banyak belajar tentang indah nya perbedaan \n",
      "\n",
      "\n",
      "1/1 [==============================] - 0s 37ms/step\n",
      "--------------------------------------------- Result 398 ---------------------------------------------\n",
      "[[0 (35%)]] --> [[[SKIPPED]]]\n",
      "\n",
      "tidak pernah tidak suka sama suara once paling suka waktu dia nyanyi dealova dalem banget nusuk ke hati \n",
      "\n",
      "\n"
     ]
    },
    {
     "name": "stderr",
     "output_type": "stream",
     "text": [
      "[Succeeded / Failed / Skipped / Total] 139 / 141 / 118 / 398:  80%|███████▉  | 398/500 [09:21<02:23,  1.41s/it]"
     ]
    },
    {
     "name": "stdout",
     "output_type": "stream",
     "text": [
      "1/1 [==============================] - 0s 39ms/step\n",
      "1/1 [==============================] - 0s 49ms/step\n",
      "1/1 [==============================] - 0s 46ms/step\n",
      "1/1 [==============================] - 0s 47ms/step\n",
      "1/1 [==============================] - 0s 49ms/step\n",
      "1/1 [==============================] - 0s 46ms/step\n"
     ]
    },
    {
     "name": "stderr",
     "output_type": "stream",
     "text": [
      "[Succeeded / Failed / Skipped / Total] 140 / 141 / 118 / 399:  80%|███████▉  | 399/500 [09:21<02:22,  1.41s/it]"
     ]
    },
    {
     "name": "stdout",
     "output_type": "stream",
     "text": [
      "--------------------------------------------- Result 399 ---------------------------------------------\n",
      "[[2 (36%)]] --> [[0 (37%)]]\n",
      "\n",
      "lagu lagu indie itu selalu [[enak]] didenger \n",
      "\n",
      "lagu lagu indie itu selalu [[waras]] didenger \n",
      "\n",
      "\n",
      "1/1 [==============================] - 0s 33ms/step\n",
      "--------------------------------------------- Result 400 ---------------------------------------------\n",
      "[[0 (35%)]] --> [[[SKIPPED]]]\n",
      "\n",
      "genre musik paling asik menurut aku sih jazz \n",
      "\n",
      "\n"
     ]
    },
    {
     "name": "stderr",
     "output_type": "stream",
     "text": [
      "[Succeeded / Failed / Skipped / Total] 140 / 141 / 119 / 400:  80%|████████  | 400/500 [09:21<02:20,  1.40s/it]"
     ]
    },
    {
     "name": "stdout",
     "output_type": "stream",
     "text": [
      "1/1 [==============================] - 0s 32ms/step\n"
     ]
    },
    {
     "name": "stderr",
     "output_type": "stream",
     "text": [
      "[Succeeded / Failed / Skipped / Total] 140 / 141 / 119 / 400:  80%|████████  | 401/500 [09:21<02:18,  1.40s/it]"
     ]
    },
    {
     "name": "stdout",
     "output_type": "stream",
     "text": [
      "--------------------------------------------- Result 401 ---------------------------------------------\n",
      "[[0 (36%)]] --> [[[SKIPPED]]]\n",
      "\n",
      "kalau ditanya kualitas lirik lagu terbaik di indonesia gue bakal jawab lirik lagu nya ebiet tidak ade belum ada yang bisa bandingkan \n",
      "\n",
      "\n"
     ]
    },
    {
     "name": "stderr",
     "output_type": "stream",
     "text": [
      "[Succeeded / Failed / Skipped / Total] 140 / 141 / 120 / 401:  80%|████████  | 401/500 [09:21<02:18,  1.40s/it]"
     ]
    },
    {
     "name": "stdout",
     "output_type": "stream",
     "text": [
      "1/1 [==============================] - 0s 41ms/step\n"
     ]
    },
    {
     "name": "stderr",
     "output_type": "stream",
     "text": [
      "[Succeeded / Failed / Skipped / Total] 140 / 141 / 121 / 402:  80%|████████  | 402/500 [09:21<02:16,  1.40s/it]"
     ]
    },
    {
     "name": "stdout",
     "output_type": "stream",
     "text": [
      "--------------------------------------------- Result 402 ---------------------------------------------\n",
      "[[0 (35%)]] --> [[[SKIPPED]]]\n",
      "\n",
      "buat indonesia apa sih yang tidak gue rela deh kayak pahlawan zaman dulu yang sampai mengorbankan nyawa \n",
      "\n",
      "\n",
      "1/1 [==============================] - 0s 43ms/step\n"
     ]
    },
    {
     "name": "stderr",
     "output_type": "stream",
     "text": [
      "[Succeeded / Failed / Skipped / Total] 140 / 141 / 122 / 403:  81%|████████  | 403/500 [09:21<02:15,  1.39s/it]"
     ]
    },
    {
     "name": "stdout",
     "output_type": "stream",
     "text": [
      "--------------------------------------------- Result 403 ---------------------------------------------\n",
      "[[0 (38%)]] --> [[[SKIPPED]]]\n",
      "\n",
      "sebenarnya nilai di dalam pancasila itu sudah sesuai banget sama cita cita masyarakat indonesia pancasila sangat meninggikan kepentingan bersama karena itu gue sangat cinta dengan pancasila dan indonesia \n",
      "\n",
      "\n",
      "1/1 [==============================] - 0s 34ms/step\n",
      "--------------------------------------------- Result 404 ---------------------------------------------\n",
      "[[0 (37%)]] --> [[[SKIPPED]]]\n",
      "\n",
      "aku dukung banget kerja sama antara jokowi sama dengan ruf amin insyaallah indonesia bisa lebih baik ke depan nya kalau sama mereka \n",
      "\n",
      "\n"
     ]
    },
    {
     "name": "stderr",
     "output_type": "stream",
     "text": [
      "[Succeeded / Failed / Skipped / Total] 140 / 141 / 123 / 404:  81%|████████  | 404/500 [09:22<02:13,  1.39s/it]"
     ]
    },
    {
     "name": "stdout",
     "output_type": "stream",
     "text": [
      "1/1 [==============================] - 0s 39ms/step\n",
      "1/1 [==============================] - 0s 48ms/step\n",
      "1/1 [==============================] - 0s 59ms/step\n",
      "1/1 [==============================] - 0s 49ms/step\n",
      "1/1 [==============================] - 0s 51ms/step\n",
      "1/1 [==============================] - 0s 44ms/step\n",
      "1/1 [==============================] - 0s 44ms/step\n",
      "1/1 [==============================] - 0s 49ms/step\n",
      "1/1 [==============================] - 0s 50ms/step\n",
      "1/1 [==============================] - 0s 43ms/step\n"
     ]
    },
    {
     "name": "stderr",
     "output_type": "stream",
     "text": [
      "[Succeeded / Failed / Skipped / Total] 141 / 141 / 123 / 405:  81%|████████  | 405/500 [09:22<02:12,  1.39s/it]"
     ]
    },
    {
     "name": "stdout",
     "output_type": "stream",
     "text": [
      "--------------------------------------------- Result 405 ---------------------------------------------\n",
      "[[2 (39%)]] --> [[0 (37%)]]\n",
      "\n",
      "gue paling suka tisu merek paseo karena [[lembut]] banget \n",
      "\n",
      "gue paling suka tisu merek paseo karena [[lemah]] banget \n",
      "\n",
      "\n",
      "1/1 [==============================] - 0s 38ms/step\n",
      "--------------------------------------------- Result 406 ---------------------------------------------\n",
      "[[0 (35%)]] --> [[[SKIPPED]]]\n",
      "\n",
      "laptop lenovo nomor sih buat gue \n",
      "\n",
      "\n"
     ]
    },
    {
     "name": "stderr",
     "output_type": "stream",
     "text": [
      "[Succeeded / Failed / Skipped / Total] 141 / 141 / 124 / 406:  81%|████████  | 406/500 [09:23<02:10,  1.39s/it]"
     ]
    },
    {
     "name": "stdout",
     "output_type": "stream",
     "text": [
      "1/1 [==============================] - 0s 35ms/step\n"
     ]
    },
    {
     "name": "stderr",
     "output_type": "stream",
     "text": [
      "[Succeeded / Failed / Skipped / Total] 141 / 141 / 125 / 407:  81%|████████▏ | 407/500 [09:23<02:08,  1.38s/it]"
     ]
    },
    {
     "name": "stdout",
     "output_type": "stream",
     "text": [
      "--------------------------------------------- Result 407 ---------------------------------------------\n",
      "[[1 (35%)]] --> [[[SKIPPED]]]\n",
      "\n",
      "cemilan terenak menurut gue itu adalah kacang kuaci merek rebo \n",
      "\n",
      "\n",
      "1/1 [==============================] - 0s 60ms/step\n",
      "1/1 [==============================] - 0s 48ms/step\n",
      "1/1 [==============================] - 0s 48ms/step\n",
      "1/1 [==============================] - 0s 45ms/step\n",
      "1/1 [==============================] - 0s 43ms/step\n",
      "1/1 [==============================] - 0s 50ms/step\n",
      "1/1 [==============================] - 0s 49ms/step\n",
      "1/1 [==============================] - 0s 44ms/step\n",
      "--------------------------------------------- Result 408 ---------------------------------------------\n"
     ]
    },
    {
     "name": "stderr",
     "output_type": "stream",
     "text": [
      "[Succeeded / Failed / Skipped / Total] 142 / 141 / 125 / 408:  82%|████████▏ | 408/500 [09:23<02:07,  1.38s/it]"
     ]
    },
    {
     "name": "stdout",
     "output_type": "stream",
     "text": [
      "[[2 (35%)]] --> [[0 (38%)]]\n",
      "\n",
      "mouse logitech lucu lucu desain nya hampir semuanya gue [[suka]] \n",
      "\n",
      "mouse logitech lucu lucu desain nya hampir semuanya gue [[harap]] \n",
      "\n",
      "\n",
      "1/1 [==============================] - 0s 33ms/step\n",
      "1/1 [==============================] - 0s 46ms/step\n",
      "1/1 [==============================] - 0s 46ms/step\n",
      "1/1 [==============================] - 0s 45ms/step\n",
      "1/1 [==============================] - 0s 49ms/step\n",
      "1/1 [==============================] - 0s 48ms/step\n",
      "1/1 [==============================] - 0s 49ms/step\n",
      "1/1 [==============================] - 0s 46ms/step\n",
      "1/1 [==============================] - 0s 44ms/step\n",
      "1/1 [==============================] - 0s 46ms/step\n"
     ]
    },
    {
     "name": "stderr",
     "output_type": "stream",
     "text": [
      "[Succeeded / Failed / Skipped / Total] 143 / 141 / 125 / 409:  82%|████████▏ | 409/500 [09:24<02:05,  1.38s/it]"
     ]
    },
    {
     "name": "stdout",
     "output_type": "stream",
     "text": [
      "--------------------------------------------- Result 409 ---------------------------------------------\n",
      "[[2 (36%)]] --> [[0 (36%)]]\n",
      "\n",
      "lagu nya richard marx selalu syahdu [[enak]] didengar berulang ulang \n",
      "\n",
      "lagu nya richard marx selalu syahdu [[waras]] didengar berulang ulang \n",
      "\n",
      "\n",
      "1/1 [==============================] - 0s 35ms/step\n",
      "--------------------------------------------- Result 410 ---------------------------------------------\n",
      "[[1 (36%)]] --> [[[SKIPPED]]]\n",
      "\n",
      "karya anak bangsa indonesia di bidang teknologi selalu membanggakan \n",
      "\n",
      "\n"
     ]
    },
    {
     "name": "stderr",
     "output_type": "stream",
     "text": [
      "[Succeeded / Failed / Skipped / Total] 143 / 141 / 126 / 410:  82%|████████▏ | 410/500 [09:24<02:03,  1.38s/it]"
     ]
    },
    {
     "name": "stdout",
     "output_type": "stream",
     "text": [
      "1/1 [==============================] - 0s 37ms/step\n"
     ]
    },
    {
     "name": "stderr",
     "output_type": "stream",
     "text": [
      "[Succeeded / Failed / Skipped / Total] 143 / 141 / 127 / 411:  82%|████████▏ | 411/500 [09:24<02:02,  1.37s/it]"
     ]
    },
    {
     "name": "stdout",
     "output_type": "stream",
     "text": [
      "--------------------------------------------- Result 411 ---------------------------------------------\n",
      "[[0 (35%)]] --> [[[SKIPPED]]]\n",
      "\n",
      "salut banget sih sama pemimpin yang selalu bisa melihat poin plus yang ada di diri orang orang di sekitar nya \n",
      "\n",
      "\n",
      "1/1 [==============================] - 0s 45ms/step\n",
      "1/1 [==============================] - 0s 47ms/step\n",
      "1/1 [==============================] - 0s 47ms/step\n",
      "1/1 [==============================] - 0s 50ms/step\n",
      "1/1 [==============================] - 0s 51ms/step\n",
      "1/1 [==============================] - 0s 51ms/step\n",
      "1/1 [==============================] - 0s 47ms/step\n",
      "--------------------------------------------- Result 412 ---------------------------------------------\n",
      "[[2 (38%)]] --> [[0 (37%)]]\n",
      "\n",
      "[[bangga]] deh sama jokowi maju terus pak \n",
      "\n",
      "[[sombong]] deh sama jokowi maju terus pak \n",
      "\n",
      "\n"
     ]
    },
    {
     "name": "stderr",
     "output_type": "stream",
     "text": [
      "[Succeeded / Failed / Skipped / Total] 144 / 141 / 127 / 412:  82%|████████▏ | 412/500 [09:25<02:00,  1.37s/it]"
     ]
    },
    {
     "name": "stdout",
     "output_type": "stream",
     "text": [
      "1/1 [==============================] - 0s 34ms/step\n"
     ]
    },
    {
     "name": "stderr",
     "output_type": "stream",
     "text": [
      "[Succeeded / Failed / Skipped / Total] 144 / 141 / 128 / 413:  83%|████████▎ | 413/500 [09:25<01:59,  1.37s/it]"
     ]
    },
    {
     "name": "stdout",
     "output_type": "stream",
     "text": [
      "--------------------------------------------- Result 413 ---------------------------------------------\n",
      "[[0 (36%)]] --> [[[SKIPPED]]]\n",
      "\n",
      "tidak usah ditanya kehebatan jokowi apa semua juga bisa dilakukan sama bapak presiden terkuat satu itu \n",
      "\n",
      "\n",
      "1/1 [==============================] - 0s 35ms/step\n",
      "1/1 [==============================] - 0s 45ms/step\n",
      "1/1 [==============================] - 0s 50ms/step\n",
      "1/1 [==============================] - 0s 49ms/step\n",
      "1/1 [==============================] - 0s 52ms/step\n",
      "1/1 [==============================] - 0s 48ms/step\n",
      "1/1 [==============================] - 0s 50ms/step\n",
      "1/1 [==============================] - 0s 52ms/step\n",
      "1/1 [==============================] - 0s 50ms/step\n",
      "1/1 [==============================] - 0s 50ms/step\n",
      "1/1 [==============================] - 0s 49ms/step\n",
      "1/1 [==============================] - 0s 48ms/step\n",
      "1/1 [==============================] - 0s 50ms/step\n",
      "1/1 [==============================] - 0s 43ms/step\n",
      "1/1 [==============================] - 0s 51ms/step\n",
      "1/1 [==============================] - 0s 46ms/step\n",
      "1/1 [==============================] - 0s 49ms/step\n",
      "1/1 [==============================] - 0s 45ms/step\n",
      "1/1 [==============================] - 0s 50ms/step\n",
      "1/1 [==============================] - 0s 45ms/step\n",
      "1/1 [==============================] - 0s 51ms/step\n",
      "1/1 [==============================] - 0s 49ms/step\n"
     ]
    },
    {
     "name": "stderr",
     "output_type": "stream",
     "text": [
      "[Succeeded / Failed / Skipped / Total] 145 / 141 / 128 / 414:  83%|████████▎ | 414/500 [09:27<01:57,  1.37s/it]"
     ]
    },
    {
     "name": "stdout",
     "output_type": "stream",
     "text": [
      "--------------------------------------------- Result 414 ---------------------------------------------\n",
      "[[2 (35%)]] --> [[0 (37%)]]\n",
      "\n",
      "gue lebih milih makan di restoran yang bersih dan makanan nya [[enak]] kayak di ampera \n",
      "\n",
      "gue lebih milih makan di restoran yang bersih dan makanan nya [[waras]] kayak di ampera \n",
      "\n",
      "\n",
      "1/1 [==============================] - 0s 37ms/step\n"
     ]
    },
    {
     "name": "stderr",
     "output_type": "stream",
     "text": [
      "[Succeeded / Failed / Skipped / Total] 145 / 141 / 129 / 415:  83%|████████▎ | 415/500 [09:27<01:56,  1.37s/it]"
     ]
    },
    {
     "name": "stdout",
     "output_type": "stream",
     "text": [
      "--------------------------------------------- Result 415 ---------------------------------------------\n",
      "[[0 (36%)]] --> [[[SKIPPED]]]\n",
      "\n",
      "banyak ya yang bisa dibanggakan dari seorang habibie cerdas iya rendah hati pula \n",
      "\n",
      "\n",
      "1/1 [==============================] - 0s 44ms/step\n",
      "1/1 [==============================] - 0s 48ms/step\n",
      "1/1 [==============================] - 0s 45ms/step\n",
      "1/1 [==============================] - 0s 52ms/step\n",
      "1/1 [==============================] - 0s 46ms/step\n",
      "1/1 [==============================] - 0s 46ms/step\n",
      "1/1 [==============================] - 0s 44ms/step\n",
      "1/1 [==============================] - 0s 47ms/step\n",
      "1/1 [==============================] - 0s 50ms/step\n",
      "1/1 [==============================] - 0s 46ms/step\n",
      "1/1 [==============================] - 0s 47ms/step\n",
      "--------------------------------------------- Result 416 ---------------------------------------------\n",
      "[[2 (37%)]] --> [[0 (33%)]]\n",
      "\n",
      "pelayanan bank bni selalu memuaskan ramah [[ramah]] [[banget]] orang nya \n",
      "\n",
      "pelayanan bank bni selalu memuaskan ramah [[minat]] [[begitu]] orang nya \n",
      "\n",
      "\n"
     ]
    },
    {
     "name": "stderr",
     "output_type": "stream",
     "text": [
      "[Succeeded / Failed / Skipped / Total] 146 / 141 / 129 / 416:  83%|████████▎ | 416/500 [09:28<01:54,  1.37s/it]"
     ]
    },
    {
     "name": "stdout",
     "output_type": "stream",
     "text": [
      "1/1 [==============================] - 0s 36ms/step\n"
     ]
    },
    {
     "name": "stderr",
     "output_type": "stream",
     "text": [
      "[Succeeded / Failed / Skipped / Total] 146 / 141 / 129 / 416:  83%|████████▎ | 417/500 [09:28<01:53,  1.36s/it]"
     ]
    },
    {
     "name": "stdout",
     "output_type": "stream",
     "text": [
      "--------------------------------------------- Result 417 ---------------------------------------------\n",
      "[[0 (37%)]] --> [[[SKIPPED]]]\n",
      "\n",
      "bca keren sih karena sekarang sudah bisa medeteksi identitas orang cuma dengan ngedenger suara nya \n",
      "\n",
      "\n"
     ]
    },
    {
     "name": "stderr",
     "output_type": "stream",
     "text": [
      "[Succeeded / Failed / Skipped / Total] 146 / 141 / 130 / 417:  83%|████████▎ | 417/500 [09:28<01:53,  1.36s/it]"
     ]
    },
    {
     "name": "stdout",
     "output_type": "stream",
     "text": [
      "1/1 [==============================] - 0s 32ms/step\n",
      "--------------------------------------------- Result 418 ---------------------------------------------\n",
      "[[0 (38%)]] --> [[[SKIPPED]]]\n",
      "\n",
      "salut sama anak its bisa bikin robot canggih dengan biaya yang tidak berlebihan \n",
      "\n",
      "\n"
     ]
    },
    {
     "name": "stderr",
     "output_type": "stream",
     "text": [
      "[Succeeded / Failed / Skipped / Total] 146 / 141 / 131 / 418:  84%|████████▎ | 418/500 [09:28<01:51,  1.36s/it]"
     ]
    },
    {
     "name": "stdout",
     "output_type": "stream",
     "text": [
      "1/1 [==============================] - 0s 35ms/step\n"
     ]
    },
    {
     "name": "stderr",
     "output_type": "stream",
     "text": [
      "[Succeeded / Failed / Skipped / Total] 146 / 141 / 132 / 419:  84%|████████▍ | 419/500 [09:28<01:49,  1.36s/it]"
     ]
    },
    {
     "name": "stdout",
     "output_type": "stream",
     "text": [
      "--------------------------------------------- Result 419 ---------------------------------------------\n",
      "[[0 (38%)]] --> [[[SKIPPED]]]\n",
      "\n",
      "paling suka sama orang yang tidak pernah mengeluh kalau lagi kerja \n",
      "\n",
      "\n",
      "1/1 [==============================] - 0s 52ms/step\n",
      "1/1 [==============================] - 0s 45ms/step\n",
      "1/1 [==============================] - 0s 51ms/step\n",
      "1/1 [==============================] - 0s 52ms/step\n",
      "1/1 [==============================] - 0s 44ms/step\n",
      "1/1 [==============================] - 0s 44ms/step\n",
      "1/1 [==============================] - 0s 44ms/step\n",
      "--------------------------------------------- Result 420 ---------------------------------------------\n",
      "[[2 (38%)]] --> [[0 (37%)]]\n",
      "\n",
      "gue dari dulu selalu [[suka]] momogi rasanya ketagihan banget \n",
      "\n",
      "gue dari dulu selalu [[harap]] momogi rasanya ketagihan banget \n",
      "\n",
      "\n"
     ]
    },
    {
     "name": "stderr",
     "output_type": "stream",
     "text": [
      "[Succeeded / Failed / Skipped / Total] 147 / 141 / 132 / 420:  84%|████████▍ | 420/500 [09:29<01:48,  1.36s/it]"
     ]
    },
    {
     "name": "stdout",
     "output_type": "stream",
     "text": [
      "1/1 [==============================] - 0s 34ms/step\n",
      "1/1 [==============================] - 0s 49ms/step\n",
      "1/1 [==============================] - 0s 38ms/step\n",
      "1/1 [==============================] - 0s 57ms/step\n",
      "1/1 [==============================] - 0s 47ms/step\n",
      "1/1 [==============================] - 0s 45ms/step\n",
      "1/1 [==============================] - 0s 48ms/step\n",
      "1/1 [==============================] - 0s 49ms/step\n",
      "1/1 [==============================] - 0s 48ms/step\n",
      "1/1 [==============================] - 0s 46ms/step\n"
     ]
    },
    {
     "name": "stderr",
     "output_type": "stream",
     "text": [
      "[Succeeded / Failed / Skipped / Total] 148 / 141 / 132 / 421:  84%|████████▍ | 421/500 [09:30<01:47,  1.35s/it]"
     ]
    },
    {
     "name": "stdout",
     "output_type": "stream",
     "text": [
      "--------------------------------------------- Result 421 ---------------------------------------------\n",
      "[[2 (35%)]] --> [[0 (35%)]]\n",
      "\n",
      "indomie sih enggak usah ditanya lagi naik gunung cuma bawa indomie saja sudah cukup buat gue sudah bisa melengkapi kebahagiaan indomie [[mantap]] \n",
      "\n",
      "indomie sih enggak usah ditanya lagi naik gunung cuma bawa indomie saja sudah cukup buat gue sudah bisa melengkapi kebahagiaan indomie [[utuh]] \n",
      "\n",
      "\n",
      "1/1 [==============================] - 0s 34ms/step\n",
      "1/1 [==============================] - 0s 49ms/step\n",
      "1/1 [==============================] - 0s 51ms/step\n",
      "1/1 [==============================] - 0s 43ms/step\n",
      "1/1 [==============================] - 0s 50ms/step\n",
      "1/1 [==============================] - 0s 34ms/step\n",
      "1/1 [==============================] - 0s 34ms/step\n",
      "1/1 [==============================] - 0s 58ms/step\n",
      "1/1 [==============================] - 0s 56ms/step\n",
      "1/1 [==============================] - 0s 46ms/step\n",
      "--------------------------------------------- Result 422 ---------------------------------------------\n",
      "[[2 (34%)]] --> [[1 (34%)]]\n",
      "\n",
      "tidak pernah [[kecewa]] sama [[model]] sepatu nike selalu elegan \n",
      "\n",
      "tidak pernah [[hambar]] sama [[pola]] sepatu nike selalu elegan "
     ]
    },
    {
     "name": "stderr",
     "output_type": "stream",
     "text": [
      "[Succeeded / Failed / Skipped / Total] 149 / 141 / 132 / 422:  84%|████████▍ | 422/500 [09:31<01:45,  1.35s/it]"
     ]
    },
    {
     "name": "stdout",
     "output_type": "stream",
     "text": [
      "\n",
      "\n",
      "\n",
      "1/1 [==============================] - 0s 33ms/step\n"
     ]
    },
    {
     "name": "stderr",
     "output_type": "stream",
     "text": [
      "[Succeeded / Failed / Skipped / Total] 149 / 141 / 133 / 423:  85%|████████▍ | 423/500 [09:31<01:43,  1.35s/it]"
     ]
    },
    {
     "name": "stdout",
     "output_type": "stream",
     "text": [
      "--------------------------------------------- Result 423 ---------------------------------------------\n",
      "[[0 (35%)]] --> [[[SKIPPED]]]\n",
      "\n",
      "samsung galaxy a memang asik banget sih setimpal banget beli itu hp \n",
      "\n",
      "\n",
      "1/1 [==============================] - 0s 37ms/step\n",
      "--------------------------------------------- Result 424 ---------------------------------------------\n",
      "[[0 (34%)]] --> [[[SKIPPED]]]\n",
      "\n",
      "bangga dan salut buat dokter yang rela tidak dibayar buat turun jangankan korban gempa di lombok \n",
      "\n",
      "\n"
     ]
    },
    {
     "name": "stderr",
     "output_type": "stream",
     "text": [
      "[Succeeded / Failed / Skipped / Total] 149 / 141 / 134 / 424:  85%|████████▍ | 424/500 [09:31<01:42,  1.35s/it]"
     ]
    },
    {
     "name": "stdout",
     "output_type": "stream",
     "text": [
      "1/1 [==============================] - 0s 35ms/step\n"
     ]
    },
    {
     "name": "stderr",
     "output_type": "stream",
     "text": [
      "[Succeeded / Failed / Skipped / Total] 149 / 141 / 135 / 425:  85%|████████▌ | 425/500 [09:31<01:40,  1.34s/it]"
     ]
    },
    {
     "name": "stdout",
     "output_type": "stream",
     "text": [
      "--------------------------------------------- Result 425 ---------------------------------------------\n",
      "[[0 (37%)]] --> [[[SKIPPED]]]\n",
      "\n",
      "sandy shandoro tidak pernah gagal bikin gue merinding dewa banget suara nya \n",
      "\n",
      "\n",
      "1/1 [==============================] - 0s 42ms/step\n",
      "1/1 [==============================] - 0s 50ms/step\n",
      "1/1 [==============================] - 0s 49ms/step\n",
      "1/1 [==============================] - 0s 50ms/step\n",
      "1/1 [==============================] - 0s 49ms/step\n",
      "1/1 [==============================] - 0s 46ms/step\n",
      "--------------------------------------------- Result 426 ---------------------------------------------\n",
      "[[2 (36%)]] --> [[0 (38%)]]\n",
      "\n",
      "kalau disuruh milih antara koi sama chatime mending koi ke mana mana harga murah rasa [[juara]] \n",
      "\n",
      "kalau disuruh milih antara koi sama chatime mending koi ke mana mana harga murah rasa [[johan]] \n",
      "\n",
      "\n"
     ]
    },
    {
     "name": "stderr",
     "output_type": "stream",
     "text": [
      "[Succeeded / Failed / Skipped / Total] 150 / 141 / 135 / 426:  85%|████████▌ | 426/500 [09:31<01:39,  1.34s/it]"
     ]
    },
    {
     "name": "stdout",
     "output_type": "stream",
     "text": [
      "1/1 [==============================] - 0s 34ms/step\n",
      "1/1 [==============================] - 0s 46ms/step\n",
      "1/1 [==============================] - 0s 33ms/step\n",
      "1/1 [==============================] - 0s 50ms/step\n",
      "1/1 [==============================] - 0s 53ms/step\n"
     ]
    },
    {
     "name": "stderr",
     "output_type": "stream",
     "text": [
      "[Succeeded / Failed / Skipped / Total] 151 / 141 / 135 / 427:  85%|████████▌ | 427/500 [09:32<01:37,  1.34s/it]"
     ]
    },
    {
     "name": "stdout",
     "output_type": "stream",
     "text": [
      "--------------------------------------------- Result 427 ---------------------------------------------\n",
      "[[2 (36%)]] --> [[1 (34%)]]\n",
      "\n",
      "salut sama rk gue yakin jawa barat bakal [[juara]] \n",
      "\n",
      "salut sama rk gue yakin jawa barat bakal [[pintar]] \n",
      "\n",
      "\n",
      "1/1 [==============================] - 0s 35ms/step\n",
      "--------------------------------------------- Result 428 ---------------------------------------------\n",
      "[[0 (35%)]] --> [[[SKIPPED]]]\n",
      "\n",
      "di antara penyanyi rock yang ada gue paling suka bryan adams \n",
      "\n",
      "\n"
     ]
    },
    {
     "name": "stderr",
     "output_type": "stream",
     "text": [
      "[Succeeded / Failed / Skipped / Total] 151 / 141 / 136 / 428:  86%|████████▌ | 428/500 [09:32<01:36,  1.34s/it]"
     ]
    },
    {
     "name": "stdout",
     "output_type": "stream",
     "text": [
      "1/1 [==============================] - 0s 35ms/step\n"
     ]
    },
    {
     "name": "stderr",
     "output_type": "stream",
     "text": [
      "[Succeeded / Failed / Skipped / Total] 151 / 141 / 137 / 429:  86%|████████▌ | 429/500 [09:32<01:34,  1.33s/it]"
     ]
    },
    {
     "name": "stdout",
     "output_type": "stream",
     "text": [
      "--------------------------------------------- Result 429 ---------------------------------------------\n",
      "[[0 (39%)]] --> [[[SKIPPED]]]\n",
      "\n",
      "gue cuma mau dipimpin sama jokowi \n",
      "\n",
      "\n",
      "1/1 [==============================] - 0s 56ms/step\n",
      "1/1 [==============================] - 0s 48ms/step\n",
      "1/1 [==============================] - 0s 61ms/step\n",
      "1/1 [==============================] - 0s 47ms/step\n"
     ]
    },
    {
     "name": "stderr",
     "output_type": "stream",
     "text": [
      "[Succeeded / Failed / Skipped / Total] 152 / 141 / 137 / 430:  86%|████████▌ | 430/500 [09:32<01:33,  1.33s/it]"
     ]
    },
    {
     "name": "stdout",
     "output_type": "stream",
     "text": [
      "--------------------------------------------- Result 430 ---------------------------------------------\n",
      "[[2 (35%)]] --> [[0 (40%)]]\n",
      "\n",
      "kopi paling [[enak]] menurut gue torabika \n",
      "\n",
      "kopi paling [[waras]] menurut gue torabika \n",
      "\n",
      "\n",
      "1/1 [==============================] - 0s 34ms/step\n"
     ]
    },
    {
     "name": "stderr",
     "output_type": "stream",
     "text": [
      "[Succeeded / Failed / Skipped / Total] 152 / 141 / 137 / 430:  86%|████████▌ | 431/500 [09:32<01:31,  1.33s/it]"
     ]
    },
    {
     "name": "stdout",
     "output_type": "stream",
     "text": [
      "--------------------------------------------- Result 431 ---------------------------------------------\n",
      "[[0 (40%)]] --> [[[SKIPPED]]]\n",
      "\n",
      "gila sih rasa iga bakar di iga bakar si jangkung terbaik parah \n",
      "\n",
      "\n"
     ]
    },
    {
     "name": "stderr",
     "output_type": "stream",
     "text": [
      "[Succeeded / Failed / Skipped / Total] 152 / 141 / 138 / 431:  86%|████████▌ | 431/500 [09:33<01:31,  1.33s/it]"
     ]
    },
    {
     "name": "stdout",
     "output_type": "stream",
     "text": [
      "1/1 [==============================] - 0s 38ms/step\n",
      "1/1 [==============================] - 0s 47ms/step\n",
      "1/1 [==============================] - 0s 34ms/step\n",
      "1/1 [==============================] - 0s 53ms/step\n",
      "1/1 [==============================] - 0s 49ms/step\n",
      "--------------------------------------------- Result 432 ---------------------------------------------\n",
      "[[2 (35%)]] --> [[0 (34%)]]\n",
      "\n",
      "bandung itu kota paling [[nyaman]] buat ditempatkan \n",
      "\n",
      "bandung itu kota paling [[sedap]] buat ditempatkan \n",
      "\n",
      "\n"
     ]
    },
    {
     "name": "stderr",
     "output_type": "stream",
     "text": [
      "[Succeeded / Failed / Skipped / Total] 153 / 141 / 138 / 432:  86%|████████▋ | 432/500 [09:33<01:30,  1.33s/it]"
     ]
    },
    {
     "name": "stdout",
     "output_type": "stream",
     "text": [
      "1/1 [==============================] - 0s 35ms/step\n",
      "1/1 [==============================] - 0s 61ms/step\n",
      "1/1 [==============================] - 0s 46ms/step\n",
      "1/1 [==============================] - 0s 33ms/step\n",
      "1/1 [==============================] - 0s 64ms/step\n",
      "1/1 [==============================] - 0s 50ms/step\n",
      "1/1 [==============================] - 0s 47ms/step\n",
      "1/1 [==============================] - 0s 52ms/step\n",
      "1/1 [==============================] - 0s 49ms/step\n",
      "1/1 [==============================] - 0s 49ms/step\n",
      "1/1 [==============================] - 0s 46ms/step\n",
      "1/1 [==============================] - 0s 50ms/step\n",
      "1/1 [==============================] - 0s 49ms/step\n",
      "1/1 [==============================] - 0s 46ms/step\n"
     ]
    },
    {
     "name": "stderr",
     "output_type": "stream",
     "text": [
      "[Succeeded / Failed / Skipped / Total] 154 / 141 / 138 / 433:  87%|████████▋ | 433/500 [09:34<01:28,  1.33s/it]"
     ]
    },
    {
     "name": "stdout",
     "output_type": "stream",
     "text": [
      "--------------------------------------------- Result 433 ---------------------------------------------\n",
      "[[2 (38%)]] --> [[0 (36%)]]\n",
      "\n",
      "distro baju di bandung ternyata bagus [[bagus]] deh harga nya juga sesuai \n",
      "\n",
      "distro baju di bandung ternyata bagus [[pintar]] deh harga nya juga sesuai \n",
      "\n",
      "\n",
      "1/1 [==============================] - 0s 32ms/step\n",
      "--------------------------------------------- Result 434 ---------------------------------------------\n",
      "[[0 (35%)]] --> [[[SKIPPED]]]\n",
      "\n",
      "kalau mau jalan jalan melihat pulau paling cantik datang saja ke pulau saumlaki yang ada di maluku \n",
      "\n",
      "\n"
     ]
    },
    {
     "name": "stderr",
     "output_type": "stream",
     "text": [
      "[Succeeded / Failed / Skipped / Total] 154 / 141 / 139 / 434:  87%|████████▋ | 434/500 [09:34<01:27,  1.32s/it]"
     ]
    },
    {
     "name": "stdout",
     "output_type": "stream",
     "text": [
      "1/1 [==============================] - 0s 37ms/step\n",
      "1/1 [==============================] - 0s 52ms/step\n",
      "1/1 [==============================] - 0s 49ms/step\n",
      "1/1 [==============================] - 0s 48ms/step\n",
      "1/1 [==============================] - 0s 45ms/step\n"
     ]
    },
    {
     "name": "stderr",
     "output_type": "stream",
     "text": [
      "[Succeeded / Failed / Skipped / Total] 155 / 141 / 139 / 435:  87%|████████▋ | 435/500 [09:35<01:25,  1.32s/it]"
     ]
    },
    {
     "name": "stdout",
     "output_type": "stream",
     "text": [
      "--------------------------------------------- Result 435 ---------------------------------------------\n",
      "[[2 (35%)]] --> [[0 (35%)]]\n",
      "\n",
      "aku [[bangga]] jadi anak indonesia \n",
      "\n",
      "aku [[sombong]] jadi anak indonesia \n",
      "\n",
      "\n",
      "1/1 [==============================] - 0s 47ms/step\n",
      "1/1 [==============================] - 0s 51ms/step\n",
      "1/1 [==============================] - 0s 47ms/step\n",
      "1/1 [==============================] - 0s 46ms/step\n",
      "--------------------------------------------- Result 436 ---------------------------------------------\n",
      "[[2 (41%)]] --> [[0 (35%)]]\n",
      "\n",
      "salut deh sama keberanian [[bu]] susi \n",
      "\n",
      "salut deh sama keberanian [[wanita]] susi \n",
      "\n",
      "\n"
     ]
    },
    {
     "name": "stderr",
     "output_type": "stream",
     "text": [
      "[Succeeded / Failed / Skipped / Total] 156 / 141 / 139 / 436:  87%|████████▋ | 436/500 [09:35<01:24,  1.32s/it]"
     ]
    },
    {
     "name": "stdout",
     "output_type": "stream",
     "text": [
      "1/1 [==============================] - 0s 41ms/step\n"
     ]
    },
    {
     "name": "stderr",
     "output_type": "stream",
     "text": [
      "[Succeeded / Failed / Skipped / Total] 156 / 141 / 140 / 437:  87%|████████▋ | 437/500 [09:35<01:22,  1.32s/it]"
     ]
    },
    {
     "name": "stdout",
     "output_type": "stream",
     "text": [
      "--------------------------------------------- Result 437 ---------------------------------------------\n",
      "[[0 (35%)]] --> [[[SKIPPED]]]\n",
      "\n",
      "panutan banget bu sri mulyani otak nya cerdas luar biasa \n",
      "\n",
      "\n",
      "1/1 [==============================] - 0s 38ms/step\n",
      "1/1 [==============================] - 0s 49ms/step\n",
      "1/1 [==============================] - 0s 48ms/step\n",
      "1/1 [==============================] - 0s 54ms/step\n",
      "1/1 [==============================] - 0s 46ms/step\n",
      "1/1 [==============================] - 0s 46ms/step\n",
      "1/1 [==============================] - 0s 44ms/step\n",
      "1/1 [==============================] - 0s 45ms/step\n",
      "1/1 [==============================] - 0s 50ms/step\n",
      "1/1 [==============================] - 0s 45ms/step\n",
      "1/1 [==============================] - 0s 48ms/step\n"
     ]
    },
    {
     "name": "stderr",
     "output_type": "stream",
     "text": [
      "[Succeeded / Failed / Skipped / Total] 157 / 141 / 140 / 438:  88%|████████▊ | 438/500 [09:36<01:21,  1.32s/it]"
     ]
    },
    {
     "name": "stdout",
     "output_type": "stream",
     "text": [
      "--------------------------------------------- Result 438 ---------------------------------------------\n",
      "[[2 (39%)]] --> [[0 (37%)]]\n",
      "\n",
      "suka banget sama desain toko pedia bikin mata [[segar]] \n",
      "\n",
      "suka banget sama desain toko pedia bikin mata [[kasar]] \n",
      "\n",
      "\n",
      "1/1 [==============================] - 0s 53ms/step\n",
      "1/1 [==============================] - 0s 51ms/step\n",
      "1/1 [==============================] - 0s 55ms/step\n",
      "1/1 [==============================] - 0s 48ms/step\n",
      "1/1 [==============================] - 0s 45ms/step\n",
      "1/1 [==============================] - 0s 48ms/step\n"
     ]
    },
    {
     "name": "stderr",
     "output_type": "stream",
     "text": [
      "[Succeeded / Failed / Skipped / Total] 158 / 141 / 140 / 439:  88%|████████▊ | 439/500 [09:37<01:20,  1.31s/it]"
     ]
    },
    {
     "name": "stdout",
     "output_type": "stream",
     "text": [
      "--------------------------------------------- Result 439 ---------------------------------------------\n",
      "[[2 (34%)]] --> [[0 (34%)]]\n",
      "\n",
      "gue [[senang]] banget belanja di shopee banyak promo nya \n",
      "\n",
      "gue [[mewah]] banget belanja di shopee banyak promo nya \n",
      "\n",
      "\n",
      "1/1 [==============================] - 0s 34ms/step\n"
     ]
    },
    {
     "name": "stderr",
     "output_type": "stream",
     "text": [
      "[Succeeded / Failed / Skipped / Total] 158 / 141 / 141 / 440:  88%|████████▊ | 440/500 [09:37<01:18,  1.31s/it]"
     ]
    },
    {
     "name": "stdout",
     "output_type": "stream",
     "text": [
      "--------------------------------------------- Result 440 ---------------------------------------------\n",
      "[[0 (37%)]] --> [[[SKIPPED]]]\n",
      "\n",
      "kalau mau beli keperluan perawatan kulit the body stop direkomendasikan banget sih \n",
      "\n",
      "\n",
      "1/1 [==============================] - 0s 35ms/step\n",
      "1/1 [==============================] - 0s 44ms/step\n",
      "1/1 [==============================] - 0s 37ms/step\n",
      "1/1 [==============================] - 0s 44ms/step\n",
      "1/1 [==============================] - 0s 43ms/step\n",
      "1/1 [==============================] - 0s 45ms/step\n",
      "1/1 [==============================] - 0s 36ms/step\n"
     ]
    },
    {
     "name": "stderr",
     "output_type": "stream",
     "text": [
      "[Succeeded / Failed / Skipped / Total] 158 / 142 / 141 / 441:  88%|████████▊ | 441/500 [09:37<01:17,  1.31s/it]"
     ]
    },
    {
     "name": "stdout",
     "output_type": "stream",
     "text": [
      "--------------------------------------------- Result 441 ---------------------------------------------\n",
      "[[2 (35%)]] --> [[[FAILED]]]\n",
      "\n",
      "fasilitas di hotel santika memang terbaik \n",
      "\n",
      "\n",
      "1/1 [==============================] - 0s 62ms/step\n",
      "1/1 [==============================] - 0s 53ms/step\n",
      "1/1 [==============================] - 0s 35ms/step\n",
      "1/1 [==============================] - 0s 41ms/step\n",
      "1/1 [==============================] - 0s 36ms/step\n",
      "1/1 [==============================] - 0s 48ms/step\n",
      "1/1 [==============================] - 0s 45ms/step\n",
      "1/1 [==============================] - 0s 48ms/step\n",
      "1/1 [==============================] - 0s 50ms/step\n",
      "1/1 [==============================] - 0s 50ms/step\n",
      "--------------------------------------------- Result 442 ---------------------------------------------\n",
      "[[2 (39%)]] --> [[0 (37%)]]\n",
      "\n",
      "alun alun bandung nyaman banget buat nongkrong nongkrong sama [[keluarga]] atau [[teman]] \n",
      "\n",
      "alun alun bandung nyaman banget buat nongkrong nongkrong sama [[kelompok]] atau [[saudara]] \n",
      "\n",
      "\n"
     ]
    },
    {
     "name": "stderr",
     "output_type": "stream",
     "text": [
      "[Succeeded / Failed / Skipped / Total] 159 / 142 / 141 / 442:  88%|████████▊ | 442/500 [09:38<01:15,  1.31s/it]"
     ]
    },
    {
     "name": "stdout",
     "output_type": "stream",
     "text": [
      "1/1 [==============================] - 0s 46ms/step\n",
      "1/1 [==============================] - 0s 45ms/step\n",
      "1/1 [==============================] - 0s 45ms/step\n",
      "1/1 [==============================] - 0s 46ms/step\n",
      "1/1 [==============================] - 0s 45ms/step\n"
     ]
    },
    {
     "name": "stderr",
     "output_type": "stream",
     "text": [
      "[Succeeded / Failed / Skipped / Total] 159 / 142 / 141 / 442:  89%|████████▊ | 443/500 [09:39<01:14,  1.31s/it]"
     ]
    },
    {
     "name": "stdout",
     "output_type": "stream",
     "text": [
      "--------------------------------------------- Result 443 ---------------------------------------------\n",
      "[[2 (36%)]] --> [[0 (35%)]]\n",
      "\n",
      "aku seneng [[banget]] sama desain interior cgv beda sama bioskop bioskop lain \n",
      "\n",
      "aku seneng [[begitu]] sama desain interior cgv beda sama bioskop bioskop lain "
     ]
    },
    {
     "name": "stderr",
     "output_type": "stream",
     "text": [
      "[Succeeded / Failed / Skipped / Total] 160 / 142 / 141 / 443:  89%|████████▊ | 443/500 [09:39<01:14,  1.31s/it]"
     ]
    },
    {
     "name": "stdout",
     "output_type": "stream",
     "text": [
      "\n",
      "\n",
      "\n",
      "1/1 [==============================] - 0s 35ms/step\n"
     ]
    },
    {
     "name": "stderr",
     "output_type": "stream",
     "text": [
      "[Succeeded / Failed / Skipped / Total] 160 / 142 / 142 / 444:  89%|████████▉ | 444/500 [09:39<01:13,  1.30s/it]"
     ]
    },
    {
     "name": "stdout",
     "output_type": "stream",
     "text": [
      "--------------------------------------------- Result 444 ---------------------------------------------\n",
      "[[0 (36%)]] --> [[[SKIPPED]]]\n",
      "\n",
      "ayam sama kentang mcd tidak ada yang bisa mengalahkan \n",
      "\n",
      "\n",
      "1/1 [==============================] - 0s 34ms/step\n"
     ]
    },
    {
     "name": "stderr",
     "output_type": "stream",
     "text": [
      "[Succeeded / Failed / Skipped / Total] 160 / 142 / 143 / 445:  89%|████████▉ | 445/500 [09:39<01:11,  1.30s/it]"
     ]
    },
    {
     "name": "stdout",
     "output_type": "stream",
     "text": [
      "--------------------------------------------- Result 445 ---------------------------------------------\n",
      "[[0 (35%)]] --> [[[SKIPPED]]]\n",
      "\n",
      "mocha float kfc itu minuman terenak yang pernah gue rasain \n",
      "\n",
      "\n",
      "1/1 [==============================] - 0s 41ms/step\n"
     ]
    },
    {
     "name": "stderr",
     "output_type": "stream",
     "text": [
      "[Succeeded / Failed / Skipped / Total] 160 / 142 / 144 / 446:  89%|████████▉ | 446/500 [09:39<01:10,  1.30s/it]"
     ]
    },
    {
     "name": "stdout",
     "output_type": "stream",
     "text": [
      "--------------------------------------------- Result 446 ---------------------------------------------\n",
      "[[0 (35%)]] --> [[[SKIPPED]]]\n",
      "\n",
      "mal terasik di bandung menurut gue pvj sih \n",
      "\n",
      "\n",
      "1/1 [==============================] - 0s 35ms/step\n"
     ]
    },
    {
     "name": "stderr",
     "output_type": "stream",
     "text": [
      "[Succeeded / Failed / Skipped / Total] 160 / 142 / 145 / 447:  89%|████████▉ | 447/500 [09:39<01:08,  1.30s/it]"
     ]
    },
    {
     "name": "stdout",
     "output_type": "stream",
     "text": [
      "--------------------------------------------- Result 447 ---------------------------------------------\n",
      "[[0 (35%)]] --> [[[SKIPPED]]]\n",
      "\n",
      "semua rasa ayam di wingstop gue suka \n",
      "\n",
      "\n",
      "1/1 [==============================] - 0s 34ms/step\n",
      "1/1 [==============================] - 0s 49ms/step\n",
      "1/1 [==============================] - 0s 46ms/step\n",
      "1/1 [==============================] - 0s 49ms/step\n",
      "1/1 [==============================] - 0s 46ms/step\n",
      "1/1 [==============================] - 0s 47ms/step\n",
      "1/1 [==============================] - 0s 52ms/step\n",
      "1/1 [==============================] - 0s 47ms/step\n",
      "1/1 [==============================] - 0s 46ms/step\n",
      "1/1 [==============================] - 0s 50ms/step\n",
      "1/1 [==============================] - 0s 46ms/step\n",
      "--------------------------------------------- Result 448 ---------------------------------------------\n",
      "[[2 (46%)]] --> [[0 (38%)]]\n",
      "\n",
      "indomie goreng rasa rendang rasanya [[enak]] banget [[enak]] banget \n",
      "\n",
      "indomie goreng rasa rendang rasanya [[waras]] banget [[waras]] banget "
     ]
    },
    {
     "name": "stderr",
     "output_type": "stream",
     "text": [
      "[Succeeded / Failed / Skipped / Total] 161 / 142 / 145 / 448:  90%|████████▉ | 448/500 [09:40<01:07,  1.30s/it]"
     ]
    },
    {
     "name": "stdout",
     "output_type": "stream",
     "text": [
      "\n",
      "\n",
      "\n",
      "1/1 [==============================] - 0s 35ms/step\n"
     ]
    },
    {
     "name": "stderr",
     "output_type": "stream",
     "text": [
      "[Succeeded / Failed / Skipped / Total] 161 / 142 / 146 / 449:  90%|████████▉ | 449/500 [09:40<01:05,  1.29s/it]"
     ]
    },
    {
     "name": "stdout",
     "output_type": "stream",
     "text": [
      "--------------------------------------------- Result 449 ---------------------------------------------\n",
      "[[0 (35%)]] --> [[[SKIPPED]]]\n",
      "\n",
      "tempat direkomendasikan buat beli barang elektronik itu bec di sana banyak pilihan \n",
      "\n",
      "\n",
      "1/1 [==============================] - 0s 39ms/step\n",
      "--------------------------------------------- Result 450 ---------------------------------------------\n",
      "[[0 (34%)]] --> [[[SKIPPED]]]\n",
      "\n",
      "keren pemain pemain bola di indonesia makin punya skill \n",
      "\n",
      "\n"
     ]
    },
    {
     "name": "stderr",
     "output_type": "stream",
     "text": [
      "[Succeeded / Failed / Skipped / Total] 161 / 142 / 147 / 450:  90%|█████████ | 450/500 [09:40<01:04,  1.29s/it]"
     ]
    },
    {
     "name": "stdout",
     "output_type": "stream",
     "text": [
      "1/1 [==============================] - 0s 34ms/step\n"
     ]
    },
    {
     "name": "stderr",
     "output_type": "stream",
     "text": [
      "[Succeeded / Failed / Skipped / Total] 161 / 142 / 148 / 451:  90%|█████████ | 451/500 [09:40<01:03,  1.29s/it]"
     ]
    },
    {
     "name": "stdout",
     "output_type": "stream",
     "text": [
      "--------------------------------------------- Result 451 ---------------------------------------------\n",
      "[[0 (41%)]] --> [[[SKIPPED]]]\n",
      "\n",
      "kalau mau indonesia maju pemimpin itu harus peka sama kebutuhan negara \n",
      "\n",
      "\n",
      "1/1 [==============================] - 0s 35ms/step\n"
     ]
    },
    {
     "name": "stderr",
     "output_type": "stream",
     "text": [
      "[Succeeded / Failed / Skipped / Total] 161 / 142 / 149 / 452:  90%|█████████ | 452/500 [09:40<01:01,  1.28s/it]"
     ]
    },
    {
     "name": "stdout",
     "output_type": "stream",
     "text": [
      "--------------------------------------------- Result 452 ---------------------------------------------\n",
      "[[0 (36%)]] --> [[[SKIPPED]]]\n",
      "\n",
      "di indonesia lagi banyak bencana \n",
      "\n",
      "\n",
      "1/1 [==============================] - 0s 44ms/step\n",
      "1/1 [==============================] - 0s 45ms/step\n"
     ]
    },
    {
     "name": "stderr",
     "output_type": "stream",
     "text": [
      "[Succeeded / Failed / Skipped / Total] 161 / 142 / 149 / 452:  91%|█████████ | 453/500 [09:40<01:00,  1.28s/it]"
     ]
    },
    {
     "name": "stdout",
     "output_type": "stream",
     "text": [
      "--------------------------------------------- Result 453 ---------------------------------------------\n"
     ]
    },
    {
     "name": "stderr",
     "output_type": "stream",
     "text": [
      "[Succeeded / Failed / Skipped / Total] 161 / 143 / 149 / 453:  91%|█████████ | 453/500 [09:40<01:00,  1.28s/it]"
     ]
    },
    {
     "name": "stdout",
     "output_type": "stream",
     "text": [
      "[[1 (37%)]] --> [[[FAILED]]]\n",
      "\n",
      "kata nya lagi banyak promo di shopee \n",
      "\n",
      "\n",
      "1/1 [==============================] - 0s 52ms/step\n"
     ]
    },
    {
     "name": "stderr",
     "output_type": "stream",
     "text": [
      "[Succeeded / Failed / Skipped / Total] 161 / 143 / 150 / 454:  91%|█████████ | 454/500 [09:40<00:58,  1.28s/it]"
     ]
    },
    {
     "name": "stdout",
     "output_type": "stream",
     "text": [
      "--------------------------------------------- Result 454 ---------------------------------------------\n",
      "[[0 (35%)]] --> [[[SKIPPED]]]\n",
      "\n",
      "gojek fitur nya makin banyak \n",
      "\n",
      "\n",
      "1/1 [==============================] - 0s 35ms/step\n",
      "1/1 [==============================] - 0s 45ms/step\n",
      "1/1 [==============================] - 0s 51ms/step\n",
      "1/1 [==============================] - 0s 52ms/step\n",
      "1/1 [==============================] - 0s 53ms/step\n",
      "1/1 [==============================] - 0s 47ms/step\n",
      "1/1 [==============================] - 0s 46ms/step\n"
     ]
    },
    {
     "name": "stderr",
     "output_type": "stream",
     "text": [
      "[Succeeded / Failed / Skipped / Total] 161 / 144 / 150 / 455:  91%|█████████ | 455/500 [09:41<00:57,  1.28s/it]"
     ]
    },
    {
     "name": "stdout",
     "output_type": "stream",
     "text": [
      "--------------------------------------------- Result 455 ---------------------------------------------\n",
      "[[1 (35%)]] --> [[[FAILED]]]\n",
      "\n",
      "prabowo sama sandi maju jadi capres dan cawapres indonesia tahun \n",
      "\n",
      "\n",
      "1/1 [==============================] - 0s 36ms/step\n"
     ]
    },
    {
     "name": "stderr",
     "output_type": "stream",
     "text": [
      "[Succeeded / Failed / Skipped / Total] 161 / 144 / 151 / 456:  91%|█████████ | 456/500 [09:41<00:56,  1.28s/it]"
     ]
    },
    {
     "name": "stdout",
     "output_type": "stream",
     "text": [
      "--------------------------------------------- Result 456 ---------------------------------------------\n",
      "[[2 (34%)]] --> [[[SKIPPED]]]\n",
      "\n",
      "jokowi milih dengan ruh amin jadi cawapres nya \n",
      "\n",
      "\n",
      "1/1 [==============================] - 0s 37ms/step\n"
     ]
    },
    {
     "name": "stderr",
     "output_type": "stream",
     "text": [
      "[Succeeded / Failed / Skipped / Total] 161 / 144 / 152 / 457:  91%|█████████▏| 457/500 [09:41<00:54,  1.27s/it]"
     ]
    },
    {
     "name": "stdout",
     "output_type": "stream",
     "text": [
      "--------------------------------------------- Result 457 ---------------------------------------------\n",
      "[[0 (35%)]] --> [[[SKIPPED]]]\n",
      "\n",
      "hotel bintang yang ada di bogor salah satu nya hotel salak \n",
      "\n",
      "\n",
      "1/1 [==============================] - 0s 48ms/step\n"
     ]
    },
    {
     "name": "stderr",
     "output_type": "stream",
     "text": [
      "[Succeeded / Failed / Skipped / Total] 161 / 144 / 153 / 458:  92%|█████████▏| 458/500 [09:41<00:53,  1.27s/it]"
     ]
    },
    {
     "name": "stdout",
     "output_type": "stream",
     "text": [
      "--------------------------------------------- Result 458 ---------------------------------------------\n",
      "[[0 (34%)]] --> [[[SKIPPED]]]\n",
      "\n",
      "di bogor itu ada lima mal yang bisa didatangkan salah satu nya botani square \n",
      "\n",
      "\n",
      "1/1 [==============================] - 0s 34ms/step\n"
     ]
    },
    {
     "name": "stderr",
     "output_type": "stream",
     "text": [
      "[Succeeded / Failed / Skipped / Total] 161 / 144 / 154 / 459:  92%|█████████▏| 459/500 [09:41<00:51,  1.27s/it]"
     ]
    },
    {
     "name": "stdout",
     "output_type": "stream",
     "text": [
      "--------------------------------------------- Result 459 ---------------------------------------------\n",
      "[[0 (35%)]] --> [[[SKIPPED]]]\n",
      "\n",
      "sekarang transmart buka juga di bogor \n",
      "\n",
      "\n",
      "1/1 [==============================] - 0s 41ms/step\n"
     ]
    },
    {
     "name": "stderr",
     "output_type": "stream",
     "text": [
      "[Succeeded / Failed / Skipped / Total] 161 / 144 / 155 / 460:  92%|█████████▏| 460/500 [09:42<00:50,  1.27s/it]"
     ]
    },
    {
     "name": "stdout",
     "output_type": "stream",
     "text": [
      "--------------------------------------------- Result 460 ---------------------------------------------\n",
      "[[0 (36%)]] --> [[[SKIPPED]]]\n",
      "\n",
      "kata nya di pasteur bakal dibangun transmart yang kayak di buah batu itu \n",
      "\n",
      "\n",
      "1/1 [==============================] - 0s 36ms/step\n",
      "1/1 [==============================] - 0s 49ms/step\n",
      "1/1 [==============================] - 0s 54ms/step\n",
      "1/1 [==============================] - 0s 51ms/step\n",
      "1/1 [==============================] - 0s 44ms/step\n",
      "1/1 [==============================] - 0s 44ms/step\n",
      "1/1 [==============================] - 0s 52ms/step\n"
     ]
    },
    {
     "name": "stderr",
     "output_type": "stream",
     "text": [
      "[Succeeded / Failed / Skipped / Total] 162 / 144 / 155 / 461:  92%|█████████▏| 461/500 [09:42<00:49,  1.26s/it]"
     ]
    },
    {
     "name": "stdout",
     "output_type": "stream",
     "text": [
      "--------------------------------------------- Result 461 ---------------------------------------------\n",
      "[[0 (36%)]] --> [[1 (35%)]]\n",
      "\n",
      "bogor memang [[suka]] macet tiap akhir pekan melelahkan \n",
      "\n",
      "bogor memang [[minat]] macet tiap akhir pekan melelahkan \n",
      "\n",
      "\n",
      "1/1 [==============================] - 0s 39ms/step\n"
     ]
    },
    {
     "name": "stderr",
     "output_type": "stream",
     "text": [
      "[Succeeded / Failed / Skipped / Total] 162 / 144 / 156 / 462:  92%|█████████▏| 462/500 [09:42<00:47,  1.26s/it]"
     ]
    },
    {
     "name": "stdout",
     "output_type": "stream",
     "text": [
      "--------------------------------------------- Result 462 ---------------------------------------------\n",
      "[[0 (40%)]] --> [[[SKIPPED]]]\n",
      "\n",
      "car free hari di jalan sudirman bogor sudah tidak ada \n",
      "\n",
      "\n",
      "1/1 [==============================] - 0s 44ms/step\n"
     ]
    },
    {
     "name": "stderr",
     "output_type": "stream",
     "text": [
      "[Succeeded / Failed / Skipped / Total] 162 / 144 / 157 / 463:  93%|█████████▎| 463/500 [09:42<00:46,  1.26s/it]"
     ]
    },
    {
     "name": "stdout",
     "output_type": "stream",
     "text": [
      "--------------------------------------------- Result 463 ---------------------------------------------\n",
      "[[0 (36%)]] --> [[[SKIPPED]]]\n",
      "\n",
      "kalau di hari sabtu sama minggu banyak warga bogor yang lari keliling kebun raya \n",
      "\n",
      "\n",
      "1/1 [==============================] - 0s 39ms/step\n",
      "--------------------------------------------- Result 464 ---------------------------------------------\n",
      "[[0 (40%)]] --> [[[SKIPPED]]]\n",
      "\n",
      "di istana bogor itu dipelihara banyak rusa tutul peninggalan penjajah kata nya sih \n",
      "\n",
      "\n"
     ]
    },
    {
     "name": "stderr",
     "output_type": "stream",
     "text": [
      "[Succeeded / Failed / Skipped / Total] 162 / 144 / 158 / 464:  93%|█████████▎| 464/500 [09:42<00:45,  1.26s/it]"
     ]
    },
    {
     "name": "stdout",
     "output_type": "stream",
     "text": [
      "1/1 [==============================] - 0s 42ms/step\n",
      "1/1 [==============================] - 0s 45ms/step\n",
      "1/1 [==============================] - 0s 48ms/step\n",
      "1/1 [==============================] - 0s 33ms/step\n",
      "1/1 [==============================] - 0s 44ms/step\n",
      "1/1 [==============================] - 0s 49ms/step\n",
      "1/1 [==============================] - 0s 51ms/step\n",
      "1/1 [==============================] - 0s 53ms/step\n",
      "1/1 [==============================] - 0s 51ms/step\n",
      "1/1 [==============================] - 0s 52ms/step\n",
      "1/1 [==============================] - 0s 47ms/step\n"
     ]
    },
    {
     "name": "stderr",
     "output_type": "stream",
     "text": [
      "[Succeeded / Failed / Skipped / Total] 163 / 144 / 158 / 465:  93%|█████████▎| 465/500 [09:43<00:43,  1.26s/it]"
     ]
    },
    {
     "name": "stdout",
     "output_type": "stream",
     "text": [
      "--------------------------------------------- Result 465 ---------------------------------------------\n",
      "[[1 (34%)]] --> [[0 (36%)]]\n",
      "\n",
      "kemajuan teknologi di indonesia makin ke sini makin [[berkembang]] \n",
      "\n",
      "kemajuan teknologi di indonesia makin ke sini makin [[bangkit]] \n",
      "\n",
      "\n",
      "1/1 [==============================] - 0s 35ms/step\n"
     ]
    },
    {
     "name": "stderr",
     "output_type": "stream",
     "text": [
      "[Succeeded / Failed / Skipped / Total] 163 / 144 / 159 / 466:  93%|█████████▎| 466/500 [09:44<00:42,  1.25s/it]"
     ]
    },
    {
     "name": "stdout",
     "output_type": "stream",
     "text": [
      "--------------------------------------------- Result 466 ---------------------------------------------\n",
      "[[0 (38%)]] --> [[[SKIPPED]]]\n",
      "\n",
      "kemampuan memahami bacaan tiap orang itu beda beda ada yang sekali baca sudah paham ada juga yang butuh berkali kali baca dulu baru paham \n",
      "\n",
      "\n",
      "1/1 [==============================] - 0s 37ms/step\n",
      "1/1 [==============================] - 0s 46ms/step\n",
      "1/1 [==============================] - 0s 44ms/step\n",
      "1/1 [==============================] - 0s 34ms/step\n",
      "1/1 [==============================] - 0s 47ms/step\n"
     ]
    },
    {
     "name": "stderr",
     "output_type": "stream",
     "text": [
      "[Succeeded / Failed / Skipped / Total] 163 / 145 / 159 / 467:  93%|█████████▎| 467/500 [09:44<00:41,  1.25s/it]"
     ]
    },
    {
     "name": "stdout",
     "output_type": "stream",
     "text": [
      "--------------------------------------------- Result 467 ---------------------------------------------\n",
      "[[1 (36%)]] --> [[[FAILED]]]\n",
      "\n",
      "bali punya banyak pulau yang bisa dikunjungi \n",
      "\n",
      "\n",
      "1/1 [==============================] - 0s 39ms/step\n",
      "1/1 [==============================] - 0s 46ms/step\n",
      "1/1 [==============================] - 0s 45ms/step\n",
      "1/1 [==============================] - 0s 52ms/step\n",
      "1/1 [==============================] - 0s 72ms/step\n",
      "1/1 [==============================] - 0s 45ms/step\n",
      "1/1 [==============================] - 0s 35ms/step\n",
      "1/1 [==============================] - 0s 53ms/step\n",
      "1/1 [==============================] - 0s 50ms/step\n",
      "1/1 [==============================] - 0s 54ms/step\n",
      "1/1 [==============================] - 0s 50ms/step\n",
      "1/1 [==============================] - 0s 40ms/step\n",
      "1/1 [==============================] - 0s 61ms/step\n",
      "1/1 [==============================] - 0s 46ms/step\n"
     ]
    },
    {
     "name": "stderr",
     "output_type": "stream",
     "text": [
      "[Succeeded / Failed / Skipped / Total] 164 / 145 / 159 / 468:  94%|█████████▎| 468/500 [09:45<00:40,  1.25s/it]"
     ]
    },
    {
     "name": "stdout",
     "output_type": "stream",
     "text": [
      "--------------------------------------------- Result 468 ---------------------------------------------\n",
      "[[1 (35%)]] --> [[0 (38%)]]\n",
      "\n",
      "wortel mengandung vitamin a yang bisa [[jaga]] kesehatan mata \n",
      "\n",
      "wortel mengandung vitamin a yang bisa [[heran]] kesehatan mata \n",
      "\n",
      "\n",
      "1/1 [==============================] - 0s 34ms/step\n"
     ]
    },
    {
     "name": "stderr",
     "output_type": "stream",
     "text": [
      "[Succeeded / Failed / Skipped / Total] 164 / 145 / 160 / 469:  94%|█████████▍| 469/500 [09:45<00:38,  1.25s/it]"
     ]
    },
    {
     "name": "stdout",
     "output_type": "stream",
     "text": [
      "--------------------------------------------- Result 469 ---------------------------------------------\n",
      "[[0 (35%)]] --> [[[SKIPPED]]]\n",
      "\n",
      "jangan lupa minum air mineral gelas per hari nya \n",
      "\n",
      "\n",
      "1/1 [==============================] - 0s 37ms/step\n"
     ]
    },
    {
     "name": "stderr",
     "output_type": "stream",
     "text": [
      "[Succeeded / Failed / Skipped / Total] 164 / 145 / 161 / 470:  94%|█████████▍| 470/500 [09:45<00:37,  1.25s/it]"
     ]
    },
    {
     "name": "stdout",
     "output_type": "stream",
     "text": [
      "--------------------------------------------- Result 470 ---------------------------------------------\n",
      "[[2 (40%)]] --> [[[SKIPPED]]]\n",
      "\n",
      "sekarang lagi musim durian \n",
      "\n",
      "\n",
      "1/1 [==============================] - 0s 35ms/step\n"
     ]
    },
    {
     "name": "stderr",
     "output_type": "stream",
     "text": [
      "[Succeeded / Failed / Skipped / Total] 164 / 145 / 162 / 471:  94%|█████████▍| 471/500 [09:45<00:36,  1.24s/it]"
     ]
    },
    {
     "name": "stdout",
     "output_type": "stream",
     "text": [
      "--------------------------------------------- Result 471 ---------------------------------------------\n",
      "[[0 (35%)]] --> [[[SKIPPED]]]\n",
      "\n",
      "youngle nya setelah berantem sama penggemar kpop \n",
      "\n",
      "\n",
      "1/1 [==============================] - 0s 70ms/step\n",
      "1/1 [==============================] - 0s 44ms/step\n",
      "1/1 [==============================] - 0s 46ms/step\n",
      "1/1 [==============================] - 0s 45ms/step\n",
      "1/1 [==============================] - 0s 43ms/step\n"
     ]
    },
    {
     "name": "stderr",
     "output_type": "stream",
     "text": [
      "[Succeeded / Failed / Skipped / Total] 164 / 146 / 162 / 472:  94%|█████████▍| 472/500 [09:46<00:34,  1.24s/it]"
     ]
    },
    {
     "name": "stdout",
     "output_type": "stream",
     "text": [
      "--------------------------------------------- Result 472 ---------------------------------------------\n",
      "[[1 (37%)]] --> [[[FAILED]]]\n",
      "\n",
      "belakangan ini sudah terjadi dua kali gempa di lombok \n",
      "\n",
      "\n",
      "1/1 [==============================] - 0s 36ms/step\n"
     ]
    },
    {
     "name": "stderr",
     "output_type": "stream",
     "text": [
      "[Succeeded / Failed / Skipped / Total] 164 / 146 / 163 / 473:  95%|█████████▍| 473/500 [09:46<00:33,  1.24s/it]"
     ]
    },
    {
     "name": "stdout",
     "output_type": "stream",
     "text": [
      "--------------------------------------------- Result 473 ---------------------------------------------\n",
      "[[0 (38%)]] --> [[[SKIPPED]]]\n",
      "\n",
      "kabar tenggelam nya kami sinar bangun di danau toba sudah tidak pernah terdengar lagi \n",
      "\n",
      "\n",
      "1/1 [==============================] - 0s 37ms/step\n"
     ]
    },
    {
     "name": "stderr",
     "output_type": "stream",
     "text": [
      "[Succeeded / Failed / Skipped / Total] 164 / 146 / 164 / 474:  95%|█████████▍| 474/500 [09:46<00:32,  1.24s/it]"
     ]
    },
    {
     "name": "stdout",
     "output_type": "stream",
     "text": [
      "--------------------------------------------- Result 474 ---------------------------------------------\n",
      "[[0 (40%)]] --> [[[SKIPPED]]]\n",
      "\n",
      "jumlah korban tenggelam nya kami sinar bangun itu kurang lebih an orang \n",
      "\n",
      "\n",
      "1/1 [==============================] - 0s 41ms/step\n"
     ]
    },
    {
     "name": "stderr",
     "output_type": "stream",
     "text": [
      "[Succeeded / Failed / Skipped / Total] 164 / 146 / 165 / 475:  95%|█████████▌| 475/500 [09:46<00:30,  1.23s/it]"
     ]
    },
    {
     "name": "stdout",
     "output_type": "stream",
     "text": [
      "--------------------------------------------- Result 475 ---------------------------------------------\n",
      "[[0 (35%)]] --> [[[SKIPPED]]]\n",
      "\n",
      "sudah hampir orang yang meninggal karena gempa di lombok kemarin \n",
      "\n",
      "\n",
      "1/1 [==============================] - 0s 54ms/step\n",
      "1/1 [==============================] - 0s 44ms/step\n",
      "1/1 [==============================] - 0s 45ms/step\n",
      "1/1 [==============================] - 0s 44ms/step\n",
      "1/1 [==============================] - 0s 48ms/step\n",
      "1/1 [==============================] - 0s 45ms/step\n",
      "1/1 [==============================] - 0s 46ms/step\n"
     ]
    },
    {
     "name": "stderr",
     "output_type": "stream",
     "text": [
      "[Succeeded / Failed / Skipped / Total] 165 / 146 / 165 / 476:  95%|█████████▌| 476/500 [09:47<00:29,  1.23s/it]"
     ]
    },
    {
     "name": "stdout",
     "output_type": "stream",
     "text": [
      "--------------------------------------------- Result 476 ---------------------------------------------\n",
      "[[1 (40%)]] --> [[0 (40%)]]\n",
      "\n",
      "tukang bubur naik haji sudah [[stop]] [[produksi]] \n",
      "\n",
      "tukang bubur naik haji sudah [[mati]] [[hasil]] \n",
      "\n",
      "\n",
      "1/1 [==============================] - 0s 34ms/step\n"
     ]
    },
    {
     "name": "stderr",
     "output_type": "stream",
     "text": [
      "[Succeeded / Failed / Skipped / Total] 165 / 146 / 165 / 476:  95%|█████████▌| 477/500 [09:47<00:28,  1.23s/it]"
     ]
    },
    {
     "name": "stdout",
     "output_type": "stream",
     "text": [
      "--------------------------------------------- Result 477 ---------------------------------------------\n",
      "[[0 (34%)]] --> [[[SKIPPED]]]\n",
      "\n",
      "ada satu relawan di lombok yang meninggal dunia \n",
      "\n",
      "\n"
     ]
    },
    {
     "name": "stderr",
     "output_type": "stream",
     "text": [
      "[Succeeded / Failed / Skipped / Total] 165 / 146 / 166 / 477:  95%|█████████▌| 477/500 [09:47<00:28,  1.23s/it]"
     ]
    },
    {
     "name": "stdout",
     "output_type": "stream",
     "text": [
      "1/1 [==============================] - 0s 34ms/step\n"
     ]
    },
    {
     "name": "stderr",
     "output_type": "stream",
     "text": [
      "[Succeeded / Failed / Skipped / Total] 165 / 146 / 167 / 478:  96%|█████████▌| 478/500 [09:47<00:27,  1.23s/it]"
     ]
    },
    {
     "name": "stdout",
     "output_type": "stream",
     "text": [
      "--------------------------------------------- Result 478 ---------------------------------------------\n",
      "[[0 (36%)]] --> [[[SKIPPED]]]\n",
      "\n",
      "bikin puisi bisa bikin hati yang tadinya banyak masalah jadi lebih tenang \n",
      "\n",
      "\n",
      "1/1 [==============================] - 0s 42ms/step\n"
     ]
    },
    {
     "name": "stderr",
     "output_type": "stream",
     "text": [
      "[Succeeded / Failed / Skipped / Total] 165 / 146 / 167 / 478:  96%|█████████▌| 479/500 [09:47<00:25,  1.23s/it]"
     ]
    },
    {
     "name": "stdout",
     "output_type": "stream",
     "text": [
      "--------------------------------------------- Result 479 ---------------------------------------------\n",
      "[[2 (34%)]] --> [[[SKIPPED]]]\n",
      "\n",
      "kalau lapar ya baiknya makan \n",
      "\n",
      "\n"
     ]
    },
    {
     "name": "stderr",
     "output_type": "stream",
     "text": [
      "[Succeeded / Failed / Skipped / Total] 165 / 146 / 168 / 479:  96%|█████████▌| 479/500 [09:47<00:25,  1.23s/it]"
     ]
    },
    {
     "name": "stdout",
     "output_type": "stream",
     "text": [
      "1/1 [==============================] - 0s 34ms/step\n"
     ]
    },
    {
     "name": "stderr",
     "output_type": "stream",
     "text": [
      "[Succeeded / Failed / Skipped / Total] 165 / 146 / 169 / 480:  96%|█████████▌| 480/500 [09:47<00:24,  1.22s/it]"
     ]
    },
    {
     "name": "stdout",
     "output_type": "stream",
     "text": [
      "--------------------------------------------- Result 480 ---------------------------------------------\n",
      "[[0 (38%)]] --> [[[SKIPPED]]]\n",
      "\n",
      "kerja dari pagi sampai pagi lagi itu cuma bakal menyiksa diri sendiri jadi tidak usah berlebihan kalau soal kerjaan \n",
      "\n",
      "\n",
      "1/1 [==============================] - 0s 35ms/step\n"
     ]
    },
    {
     "name": "stderr",
     "output_type": "stream",
     "text": [
      "[Succeeded / Failed / Skipped / Total] 165 / 146 / 170 / 481:  96%|█████████▌| 481/500 [09:47<00:23,  1.22s/it]"
     ]
    },
    {
     "name": "stdout",
     "output_type": "stream",
     "text": [
      "--------------------------------------------- Result 481 ---------------------------------------------\n",
      "[[0 (40%)]] --> [[[SKIPPED]]]\n",
      "\n",
      "perempuan yang malang itu sekarang sudah tutup usia \n",
      "\n",
      "\n",
      "1/1 [==============================] - 0s 43ms/step\n",
      "--------------------------------------------- Result 482 ---------------------------------------------\n",
      "[[0 (36%)]] --> [[[SKIPPED]]]\n",
      "\n",
      "cerita si kancil itu identik dengan kecerdikan seorang kancil menyelesai masalah yang ada di hadapan nya \n",
      "\n",
      "\n"
     ]
    },
    {
     "name": "stderr",
     "output_type": "stream",
     "text": [
      "[Succeeded / Failed / Skipped / Total] 165 / 146 / 171 / 482:  96%|█████████▋| 482/500 [09:47<00:21,  1.22s/it]"
     ]
    },
    {
     "name": "stdout",
     "output_type": "stream",
     "text": [
      "1/1 [==============================] - 0s 40ms/step\n"
     ]
    },
    {
     "name": "stderr",
     "output_type": "stream",
     "text": [
      "[Succeeded / Failed / Skipped / Total] 165 / 146 / 172 / 483:  97%|█████████▋| 483/500 [09:47<00:20,  1.22s/it]"
     ]
    },
    {
     "name": "stdout",
     "output_type": "stream",
     "text": [
      "--------------------------------------------- Result 483 ---------------------------------------------\n",
      "[[0 (34%)]] --> [[[SKIPPED]]]\n",
      "\n",
      "kalau mau beli obat obatan datang saja ke kimia farma karena di sana lengkap dan harga terjangkau \n",
      "\n",
      "\n",
      "1/1 [==============================] - 0s 46ms/step\n"
     ]
    },
    {
     "name": "stderr",
     "output_type": "stream",
     "text": [
      "[Succeeded / Failed / Skipped / Total] 165 / 146 / 173 / 484:  97%|█████████▋| 484/500 [09:47<00:19,  1.21s/it]"
     ]
    },
    {
     "name": "stdout",
     "output_type": "stream",
     "text": [
      "--------------------------------------------- Result 484 ---------------------------------------------\n",
      "[[0 (37%)]] --> [[[SKIPPED]]]\n",
      "\n",
      "buah mangga yang kemarin gue lihat di pohon kayak nya sudah dimakan sama kelelawar \n",
      "\n",
      "\n",
      "1/1 [==============================] - 0s 38ms/step\n"
     ]
    },
    {
     "name": "stderr",
     "output_type": "stream",
     "text": [
      "[Succeeded / Failed / Skipped / Total] 165 / 146 / 174 / 485:  97%|█████████▋| 485/500 [09:48<00:18,  1.21s/it]"
     ]
    },
    {
     "name": "stdout",
     "output_type": "stream",
     "text": [
      "--------------------------------------------- Result 485 ---------------------------------------------\n",
      "[[0 (36%)]] --> [[[SKIPPED]]]\n",
      "\n",
      "semua perempuan suka dikasih bunga atau puisi sama pacar nya \n",
      "\n",
      "\n",
      "1/1 [==============================] - 0s 52ms/step\n",
      "--------------------------------------------- Result 486 ---------------------------------------------\n",
      "[[2 (35%)]] --> [[[SKIPPED]]]\n",
      "\n",
      "tidur yang cukup tiap hari nya bisa bikin badan segar \n",
      "\n",
      "\n"
     ]
    },
    {
     "name": "stderr",
     "output_type": "stream",
     "text": [
      "[Succeeded / Failed / Skipped / Total] 165 / 146 / 175 / 486:  97%|█████████▋| 486/500 [09:48<00:16,  1.21s/it]"
     ]
    },
    {
     "name": "stdout",
     "output_type": "stream",
     "text": [
      "1/1 [==============================] - 0s 36ms/step\n"
     ]
    },
    {
     "name": "stderr",
     "output_type": "stream",
     "text": [
      "[Succeeded / Failed / Skipped / Total] 165 / 146 / 176 / 487:  97%|█████████▋| 487/500 [09:48<00:15,  1.21s/it]"
     ]
    },
    {
     "name": "stdout",
     "output_type": "stream",
     "text": [
      "--------------------------------------------- Result 487 ---------------------------------------------\n",
      "[[0 (39%)]] --> [[[SKIPPED]]]\n",
      "\n",
      "baiknya orang yang dikasih kekuasaan di indonesia itu adalah orang yang paling tahu apa yang dibutuhkan sama rakyat \n",
      "\n",
      "\n",
      "1/1 [==============================] - 0s 40ms/step\n",
      "1/1 [==============================] - 0s 52ms/step\n",
      "1/1 [==============================] - 0s 48ms/step\n",
      "1/1 [==============================] - 0s 52ms/step\n",
      "1/1 [==============================] - 0s 54ms/step\n",
      "1/1 [==============================] - 0s 45ms/step\n",
      "1/1 [==============================] - 0s 43ms/step\n",
      "1/1 [==============================] - 0s 50ms/step\n",
      "1/1 [==============================] - 0s 52ms/step\n",
      "1/1 [==============================] - 0s 48ms/step\n",
      "--------------------------------------------- Result 488 ---------------------------------------------\n",
      "[[1 (40%)]] --> [[0 (36%)]]\n",
      "\n",
      "sandiaga uno [[salah]] satu [[orang]] terkaya di indonesia \n",
      "\n",
      "sandiaga uno [[bohong]] satu [[laki-laki]] terkaya di indonesia \n",
      "\n",
      "\n"
     ]
    },
    {
     "name": "stderr",
     "output_type": "stream",
     "text": [
      "[Succeeded / Failed / Skipped / Total] 166 / 146 / 176 / 488:  98%|█████████▊| 488/500 [09:49<00:14,  1.21s/it]"
     ]
    },
    {
     "name": "stdout",
     "output_type": "stream",
     "text": [
      "1/1 [==============================] - 0s 35ms/step\n",
      "1/1 [==============================] - 0s 46ms/step\n",
      "1/1 [==============================] - 0s 34ms/step\n",
      "1/1 [==============================] - 0s 42ms/step\n",
      "1/1 [==============================] - 0s 48ms/step\n",
      "1/1 [==============================] - 0s 52ms/step\n",
      "1/1 [==============================] - 0s 53ms/step\n",
      "1/1 [==============================] - 0s 46ms/step\n",
      "1/1 [==============================] - 0s 50ms/step\n",
      "1/1 [==============================] - 0s 50ms/step\n",
      "1/1 [==============================] - 0s 48ms/step\n",
      "1/1 [==============================] - 0s 53ms/step\n",
      "1/1 [==============================] - 0s 51ms/step\n",
      "1/1 [==============================] - 0s 47ms/step\n"
     ]
    },
    {
     "name": "stderr",
     "output_type": "stream",
     "text": [
      "[Succeeded / Failed / Skipped / Total] 167 / 146 / 176 / 489:  98%|█████████▊| 489/500 [09:50<00:13,  1.21s/it]"
     ]
    },
    {
     "name": "stdout",
     "output_type": "stream",
     "text": [
      "--------------------------------------------- Result 489 ---------------------------------------------\n",
      "[[2 (46%)]] --> [[0 (36%)]]\n",
      "\n",
      "di bandung banyak tempat yang bisa didatangkan buat wisata sama keluarga yang tempat nya [[bagus]] [[bagus]] \n",
      "\n",
      "di bandung banyak tempat yang bisa didatangkan buat wisata sama keluarga yang tempat nya [[pintar]] [[sedap]] \n",
      "\n",
      "\n",
      "1/1 [==============================] - 0s 35ms/step\n",
      "--------------------------------------------- Result 490 ---------------------------------------------\n",
      "[[0 (40%)]] --> [[[SKIPPED]]]\n",
      "\n",
      "indonesia punya banyak banget suku yang beragam budaya nya dan itu mencerminkan kalau negara kita sangat kaya \n",
      "\n",
      "\n"
     ]
    },
    {
     "name": "stderr",
     "output_type": "stream",
     "text": [
      "[Succeeded / Failed / Skipped / Total] 167 / 146 / 177 / 490:  98%|█████████▊| 490/500 [09:50<00:12,  1.20s/it]"
     ]
    },
    {
     "name": "stdout",
     "output_type": "stream",
     "text": [
      "1/1 [==============================] - 0s 38ms/step\n"
     ]
    },
    {
     "name": "stderr",
     "output_type": "stream",
     "text": [
      "[Succeeded / Failed / Skipped / Total] 167 / 146 / 178 / 491:  98%|█████████▊| 491/500 [09:50<00:10,  1.20s/it]"
     ]
    },
    {
     "name": "stdout",
     "output_type": "stream",
     "text": [
      "--------------------------------------------- Result 491 ---------------------------------------------\n",
      "[[0 (36%)]] --> [[[SKIPPED]]]\n",
      "\n",
      "kalau jadi pemimpin itu harus bisa adil \n",
      "\n",
      "\n",
      "1/1 [==============================] - 0s 34ms/step\n"
     ]
    },
    {
     "name": "stderr",
     "output_type": "stream",
     "text": [
      "[Succeeded / Failed / Skipped / Total] 167 / 146 / 179 / 492:  98%|█████████▊| 492/500 [09:50<00:09,  1.20s/it]"
     ]
    },
    {
     "name": "stdout",
     "output_type": "stream",
     "text": [
      "--------------------------------------------- Result 492 ---------------------------------------------\n",
      "[[0 (36%)]] --> [[[SKIPPED]]]\n",
      "\n",
      "jadi pemimpin di indonesia itu banyak tantangan nya \n",
      "\n",
      "\n",
      "1/1 [==============================] - 0s 35ms/step\n"
     ]
    },
    {
     "name": "stderr",
     "output_type": "stream",
     "text": [
      "[Succeeded / Failed / Skipped / Total] 167 / 146 / 180 / 493:  99%|█████████▊| 493/500 [09:50<00:08,  1.20s/it]"
     ]
    },
    {
     "name": "stdout",
     "output_type": "stream",
     "text": [
      "--------------------------------------------- Result 493 ---------------------------------------------\n",
      "[[0 (36%)]] --> [[[SKIPPED]]]\n",
      "\n",
      "salah satu tempat yang banyak didatangkan di bogor itu kebun raya bogor \n",
      "\n",
      "\n",
      "1/1 [==============================] - 0s 37ms/step\n"
     ]
    },
    {
     "name": "stderr",
     "output_type": "stream",
     "text": [
      "[Succeeded / Failed / Skipped / Total] 167 / 146 / 181 / 494:  99%|█████████▉| 494/500 [09:50<00:07,  1.20s/it]"
     ]
    },
    {
     "name": "stdout",
     "output_type": "stream",
     "text": [
      "--------------------------------------------- Result 494 ---------------------------------------------\n",
      "[[0 (39%)]] --> [[[SKIPPED]]]\n",
      "\n",
      "di sekitar istana bogor kita bisa kasih makan rusa langsung kalau rusa rusa nya lagi dikeluarkan \n",
      "\n",
      "\n",
      "1/1 [==============================] - 0s 60ms/step\n"
     ]
    },
    {
     "name": "stderr",
     "output_type": "stream",
     "text": [
      "[Succeeded / Failed / Skipped / Total] 167 / 146 / 182 / 495:  99%|█████████▉| 495/500 [09:50<00:05,  1.19s/it]"
     ]
    },
    {
     "name": "stdout",
     "output_type": "stream",
     "text": [
      "--------------------------------------------- Result 495 ---------------------------------------------\n",
      "[[2 (37%)]] --> [[[SKIPPED]]]\n",
      "\n",
      "kemarin aku setelah nyobain kopi nya warung kopi nako \n",
      "\n",
      "\n",
      "1/1 [==============================] - 0s 35ms/step\n",
      "1/1 [==============================] - 0s 45ms/step\n",
      "1/1 [==============================] - 0s 45ms/step\n",
      "1/1 [==============================] - 0s 43ms/step\n",
      "1/1 [==============================] - 0s 44ms/step\n",
      "1/1 [==============================] - 0s 35ms/step\n"
     ]
    },
    {
     "name": "stderr",
     "output_type": "stream",
     "text": [
      "[Succeeded / Failed / Skipped / Total] 168 / 146 / 182 / 496:  99%|█████████▉| 496/500 [09:51<00:04,  1.19s/it]"
     ]
    },
    {
     "name": "stdout",
     "output_type": "stream",
     "text": [
      "--------------------------------------------- Result 496 ---------------------------------------------\n",
      "[[1 (36%)]] --> [[0 (36%)]]\n",
      "\n",
      "kata nya tidur yang baik itu [[minimal]] enam jam sehari \n",
      "\n",
      "kata nya tidur yang baik itu [[sedikit-dikitnya]] enam jam sehari \n",
      "\n",
      "\n",
      "1/1 [==============================] - 0s 36ms/step\n",
      "1/1 [==============================] - 0s 44ms/step\n",
      "1/1 [==============================] - 0s 43ms/step\n",
      "1/1 [==============================] - 0s 34ms/step\n",
      "1/1 [==============================] - 0s 48ms/step\n",
      "1/1 [==============================] - 0s 36ms/step\n",
      "1/1 [==============================] - 0s 44ms/step\n"
     ]
    },
    {
     "name": "stderr",
     "output_type": "stream",
     "text": [
      "[Succeeded / Failed / Skipped / Total] 168 / 147 / 182 / 497:  99%|█████████▉| 497/500 [09:51<00:03,  1.19s/it]"
     ]
    },
    {
     "name": "stdout",
     "output_type": "stream",
     "text": [
      "--------------------------------------------- Result 497 ---------------------------------------------\n",
      "[[1 (38%)]] --> [[[FAILED]]]\n",
      "\n",
      "indonesia itu ada di benua asia \n",
      "\n",
      "\n",
      "1/1 [==============================] - 0s 42ms/step\n"
     ]
    },
    {
     "name": "stderr",
     "output_type": "stream",
     "text": [
      "[Succeeded / Failed / Skipped / Total] 168 / 147 / 183 / 498: 100%|█████████▉| 498/500 [09:51<00:02,  1.19s/it]"
     ]
    },
    {
     "name": "stdout",
     "output_type": "stream",
     "text": [
      "--------------------------------------------- Result 498 ---------------------------------------------\n",
      "[[0 (34%)]] --> [[[SKIPPED]]]\n",
      "\n",
      "salah satu kegemaran anak remaja indonesia sekarang adalah mendengar kpop \n",
      "\n",
      "\n",
      "1/1 [==============================] - 0s 35ms/step\n",
      "1/1 [==============================] - 0s 45ms/step\n",
      "1/1 [==============================] - 0s 46ms/step\n",
      "1/1 [==============================] - 0s 45ms/step\n",
      "1/1 [==============================] - 0s 52ms/step\n",
      "1/1 [==============================] - 0s 44ms/step\n"
     ]
    },
    {
     "name": "stderr",
     "output_type": "stream",
     "text": [
      "[Succeeded / Failed / Skipped / Total] 168 / 147 / 183 / 498: 100%|█████████▉| 499/500 [09:52<00:01,  1.19s/it]"
     ]
    },
    {
     "name": "stdout",
     "output_type": "stream",
     "text": [
      "--------------------------------------------- Result 499 ---------------------------------------------\n",
      "[[2 (35%)]] --> [[0 (35%)]]\n",
      "\n",
      "melihat warna hijau bisa bikin [[mata]] jadi lebih santai \n",
      "\n",
      "melihat warna hijau bisa bikin [[kepala]] jadi lebih santai \n",
      "\n",
      "\n"
     ]
    },
    {
     "name": "stderr",
     "output_type": "stream",
     "text": [
      "[Succeeded / Failed / Skipped / Total] 169 / 147 / 183 / 499: 100%|█████████▉| 499/500 [09:52<00:01,  1.19s/it]"
     ]
    },
    {
     "name": "stdout",
     "output_type": "stream",
     "text": [
      "1/1 [==============================] - 0s 39ms/step\n",
      "--------------------------------------------- Result 500 ---------------------------------------------\n",
      "[[0 (39%)]] --> [[[SKIPPED]]]\n",
      "\n",
      "bondan winarno yang suka bilang maknyus sekarang sudah tiada \n",
      "\n",
      "\n"
     ]
    },
    {
     "name": "stderr",
     "output_type": "stream",
     "text": [
      "[Succeeded / Failed / Skipped / Total] 169 / 147 / 184 / 500: 100%|██████████| 500/500 [09:52<00:00,  1.19s/it]"
     ]
    },
    {
     "name": "stdout",
     "output_type": "stream",
     "text": [
      "\n",
      "+-------------------------------+--------+\n",
      "| Attack Results                |        |\n",
      "+-------------------------------+--------+\n",
      "| Number of successful attacks: | 169    |\n",
      "| Number of failed attacks:     | 147    |\n",
      "| Number of skipped attacks:    | 184    |\n",
      "| Original accuracy:            | 63.2%  |\n",
      "| Accuracy under attack:        | 29.4%  |\n",
      "| Attack success rate:          | 53.48% |\n",
      "| Average perturbed word %:     | 11.72% |\n",
      "| Average num. words per input: | 21.57  |\n",
      "| Avg num queries:              | 348.09 |\n",
      "+-------------------------------+--------+\n"
     ]
    },
    {
     "name": "stderr",
     "output_type": "stream",
     "text": [
      "\n"
     ]
    }
   ],
   "source": [
    "import logging\n",
    "from textattack.datasets import Dataset\n",
    "logging.basicConfig(filename=\"textattack_output.log\", level=logging.INFO)\n",
    "\n",
    "dataset = Dataset(custom_data) #HuggingFaceDataset(\"tyqiangz/multilingual-sentiments\", \"indonesian\", \"test\")\n",
    "attack = PWWSham2024INDO.build(model_wrapper)\n",
    "\n",
    "attackargs = AttackArgs(num_examples=500, log_to_csv=\"attack_results_tf.csv\")\n",
    "attacker = Attacker(attack, dataset, attack_args=attackargs)\n",
    "attack_results = attacker.attack_dataset()\n",
    "\n",
    "for result in attack_results:\n",
    "    logging.info(result)"
   ]
  },
  {
   "cell_type": "code",
   "execution_count": 120,
   "metadata": {},
   "outputs": [
    {
     "name": "stderr",
     "output_type": "stream",
     "text": [
      "textattack: Logging to CSV at path results.csv\n",
      "C:\\Users\\Ilham AM\\AppData\\Local\\Temp\\ipykernel_8864\\682836251.py:11: DeprecationWarning: Importing display from IPython.core.display is deprecated since IPython 7.14, please import from IPython display\n",
      "  from IPython.core.display import display, HTML\n"
     ]
    },
    {
     "data": {
      "text/html": [
       "<table border=\"1\" class=\"dataframe\">\n",
       "  <thead>\n",
       "    <tr style=\"text-align: right;\">\n",
       "      <th></th>\n",
       "      <th>original_text</th>\n",
       "      <th>perturbed_text</th>\n",
       "    </tr>\n",
       "  </thead>\n",
       "  <tbody>\n",
       "    <tr>\n",
       "      <th>0</th>\n",
       "      <td>sangat <font color = red>kecewa</font> dengan aplikasi ini sudah ditransfer tetapi etiket tidak dikirim saya coba telepon call centre seharian tetapi <font color = red>sibuk</font> terus call genre nya <font color = red>mending</font> pakai traveloka adalah untuk pesanan selanjutnya</td>\n",
       "      <td>sangat <font color = green>tewas</font> dengan aplikasi ini sudah ditransfer tetapi etiket tidak dikirim saya coba telepon call centre seharian tetapi <font color = green>aksi</font> terus call genre nya <font color = green>lurus</font> pakai traveloka adalah untuk pesanan selanjutnya</td>\n",
       "    </tr>\n",
       "    <tr>\n",
       "      <th>1</th>\n",
       "      <td>saya sudah transfer ratusan ribu dan <font color = red>sesuai</font> nominal transfer tapi tiket belum muncul juga harus diwaspadai ini aplikasi ini <font color = red>bahaya</font></td>\n",
       "      <td>saya sudah transfer ratusan ribu dan <font color = green>tepat</font> nominal transfer tapi tiket belum muncul juga harus diwaspadai ini aplikasi ini <font color = green>rawan</font></td>\n",
       "    </tr>\n",
       "    <tr>\n",
       "      <th>2</th>\n",
       "      <td>tolong untuk pelayana nya diperjelas ya sudah pesan tiket sudah dibayar tetapi dengan alasan bank bermasalah dan tidak ada pertanggungjawaban untuk memulangkan uang saja harus sampai ditelpon lagi dikirim by email untuk komponen tidak direspon <font color = red>kecewa</font></td>\n",
       "      <td>tolong untuk pelayana nya diperjelas ya sudah pesan tiket sudah dibayar tetapi dengan alasan bank bermasalah dan tidak ada pertanggungjawaban untuk memulangkan uang saja harus sampai ditelpon lagi dikirim by email untuk komponen tidak direspon <font color = green>tewas</font></td>\n",
       "    </tr>\n",
       "    <tr>\n",
       "      <th>3</th>\n",
       "      <td>luar biasa kecewa sangat dengan aplikasi ini saya sudah hubungi pusat panggilan untuk cek pemesanan saya karena saya sudah bayar dan tidak muncul e tiket nya bahkan saya sudah kirim bukti transaksi nya ke e mail hingga saat ini tidak ada pihak pusat panggilan yang <font color = red>menghubungi</font> <font color = red>kecewa</font></td>\n",
       "      <td>luar biasa kecewa sangat dengan aplikasi ini saya sudah hubungi pusat panggilan untuk cek pemesanan saya karena saya sudah bayar dan tidak muncul e tiket nya bahkan saya sudah kirim bukti transaksi nya ke e mail hingga saat ini tidak ada pihak pusat panggilan yang <font color = green>masuk</font> <font color = green>tewas</font></td>\n",
       "    </tr>\n",
       "    <tr>\n",
       "      <th>4</th>\n",
       "      <td>sangat <font color = red>mengecewakan</font> di mana kalau <font color = red>pesan</font> <font color = red>tiket</font> sudah dibayar sudah dikasih <font color = red>bukti</font> <font color = red>transfer</font> itu <font color = red>langsung</font> dikasih nomor e <font color = red>tiket</font> nya ini kok tidak ada konfirmasi apa sudah mendekati hari h tiba <font color = red>pesanan</font> kadaluarsa <font color = red>pelayanan</font> sangat <font color = red>buruk</font> <font color = red>pelayanan</font> <font color = red>pelanggan</font> nya juga tidak <font color = red>sopan</font> segera kembalikan <font color = red>uang</font> <font color = red>pengembalian</font> dana tiket saya</td>\n",
       "      <td>sangat <font color = green>melayang-layang</font> di mana kalau <font color = green>mohon</font> <font color = green>kupon</font> sudah dibayar sudah dikasih <font color = green>alamat</font> <font color = green>pemindahan</font> itu <font color = green>lurus</font> dikasih nomor e <font color = green>kupon</font> nya ini kok tidak ada konfirmasi apa sudah mendekati hari h tiba <font color = green>berita</font> kadaluarsa <font color = green>bakti</font> sangat <font color = green>bekas</font> <font color = green>bakti</font> <font color = green>klien</font> nya juga tidak <font color = green>hormat</font> segera kembalikan <font color = green>penukar</font> <font color = green>renovasi</font> dana tiket saya</td>\n",
       "    </tr>\n",
       "    <tr>\n",
       "      <th>5</th>\n",
       "      <td>saya <font color = red>hilang</font> juta dari apa ini karena terjadi eror saat <font color = red>melanjutkan</font> pembayaran yang terpending <font color = red>menyebabkan</font> isi isi data penumpang dan terjadi kesalahan flight <font color = red>kecewa</font> sekali dengan <font color = red>fasilitas</font> yang ada</td>\n",
       "      <td>saya <font color = green>usai</font> juta dari apa ini karena terjadi eror saat <font color = green>ikut</font> pembayaran yang terpending <font color = green>mula</font> isi isi data penumpang dan terjadi kesalahan flight <font color = green>tewas</font> sekali dengan <font color = green>kemudahan</font> yang ada</td>\n",
       "    </tr>\n",
       "    <tr>\n",
       "      <th>6</th>\n",
       "      <td>sudah melakukan pembayaran tetapi tiket ada bukti transfer sudah dilampirkan ke email dengan alasan uang belum diterima ini <font color = red>niat</font> jualan apa mau mengambil uang <font color = red>orang</font> tidak lagi lagi beli tiket di tiket com <font color = red>sumpah</font> asli <font color = red>tipu</font> dan produk <font color = red>sampah</font></td>\n",
       "      <td>sudah melakukan pembayaran tetapi tiket ada bukti transfer sudah dilampirkan ke email dengan alasan uang belum diterima ini <font color = green>motif</font> jualan apa mau mengambil uang <font color = green>bentuk</font> tidak lagi lagi beli tiket di tiket com <font color = green>berbakti</font> asli <font color = green>dusta</font> dan produk <font color = green>kebodohan</font></td>\n",
       "    </tr>\n",
       "    <tr>\n",
       "      <th>7</th>\n",
       "      <td>biasanya pesan tiket pesawat lancar lancar saja terakhir beli tiket kereta <font color = red>eksekutif</font> untuk <font color = red>orang</font> sudah ditransfer sebelum waktu berakhir tetapi cek <font color = red>order</font> pemesanan kadaluarsa menyebalkan</td>\n",
       "      <td>biasanya pesan tiket pesawat lancar lancar saja terakhir beli tiket kereta <font color = green>administrator</font> untuk <font color = green>bentuk</font> sudah ditransfer sebelum waktu berakhir tetapi cek <font color = green>arahan</font> pemesanan kadaluarsa menyebalkan</td>\n",
       "    </tr>\n",
       "    <tr>\n",
       "      <th>8</th>\n",
       "      <td>menyesal pesan tiket pesawat di tiket com sudah di transfer dibilang transaksi kedaluarsa pulsa <font color = red>habis</font> banyak untuk telpon pelayanan pelanggan</td>\n",
       "      <td>menyesal pesan tiket pesawat di tiket com sudah di transfer dibilang transaksi kedaluarsa pulsa <font color = green>lalu</font> banyak untuk telpon pelayanan pelanggan</td>\n",
       "    </tr>\n",
       "    <tr>\n",
       "      <th>9</th>\n",
       "      <td><font color = red>maaf</font> <font color = red>ya</font> saya uninstall saya <font color = red>kecewa</font> karena sudah melakukan pembayaran tetapi tidak dikonfirmasi saya sudah komplain via email tetapi respon nya sangat <font color = red>lambat</font></td>\n",
       "      <td><font color = blue>pemaafan</font> <font color = blue>pasti</font> saya uninstall saya <font color = blue>tewas</font> karena sudah melakukan pembayaran tetapi tidak dikonfirmasi saya sudah komplain via email tetapi respon nya sangat <font color = blue>perlahan-lahan</font></td>\n",
       "    </tr>\n",
       "    <tr>\n",
       "      <th>10</th>\n",
       "      <td>minta dikembalikan karena permasalahan bencana alam tapi tidak ada respon baik dari <font color = red>pelanggan</font> nya sangat mengecewakan</td>\n",
       "      <td>minta dikembalikan karena permasalahan bencana alam tapi tidak ada respon baik dari <font color = blue>klien</font> nya sangat mengecewakan</td>\n",
       "    </tr>\n",
       "    <tr>\n",
       "      <th>11</th>\n",
       "      <td>kami meyewa <font color = red>kamar</font> sangat <font color = red>kecewa</font> dengan <font color = red>fasilitas</font> yang didapat mulai dari ac yang tidak <font color = red>berfungsi</font> dengan baik <font color = red>alat</font> cukur di <font color = red>kamar</font> yang tidak <font color = red>layak</font> pakai sampai dapat apel yang <font color = red>busuk</font> di evening coctail</td>\n",
       "      <td>kami meyewa <font color = green>kebuk</font> sangat <font color = green>tewas</font> dengan <font color = green>kemudahan</font> yang didapat mulai dari ac yang tidak <font color = green>kerja</font> dengan baik <font color = green>bahan</font> cukur di <font color = green>kebuk</font> yang tidak <font color = green>lulus</font> pakai sampai dapat apel yang <font color = green>bangsai</font> di evening coctail</td>\n",
       "    </tr>\n",
       "    <tr>\n",
       "      <th>12</th>\n",
       "      <td>bicara kemiskinan tetapi hidup dengan kemewahan bicara kesenjangan tetapi harta triliunan bicara cinta nkri tetapi ngemplang pajak bicara <font color = red>kelaparan</font> tetapi tidak bisa tahan lapar <font color = red>aneh</font></td>\n",
       "      <td>bicara kemiskinan tetapi hidup dengan kemewahan bicara kesenjangan tetapi harta triliunan bicara cinta nkri tetapi ngemplang pajak bicara <font color = green>lapar</font> tetapi tidak bisa tahan lapar <font color = green>aduhai</font></td>\n",
       "    </tr>\n",
       "    <tr>\n",
       "      <th>13</th>\n",
       "      <td>buat kamu yang ke wattpad hanya buat mereport author yang bikin ff bxb mending cari kerjaan yang lebih berfaedah daripada menganjurkan karya orang membayangkan semua ide yang dibikin capek capek <font color = red>hilang</font> gara gara <font color = red>orang</font> yang gemar mereport karya <font color = red>orang</font> lain kalau gasuka <font color = red>bab</font> <font color = red>ya</font> enggak usah <font color = red>lihat</font></td>\n",
       "      <td>buat kamu yang ke wattpad hanya buat mereport author yang bikin ff bxb mending cari kerjaan yang lebih berfaedah daripada menganjurkan karya orang membayangkan semua ide yang dibikin capek capek <font color = blue>usai</font> gara gara <font color = blue>muda</font> yang gemar mereport karya <font color = blue>muda</font> lain kalau gasuka <font color = blue>legenda</font> <font color = blue>tetap</font> enggak usah <font color = blue>seolah-olah</font></td>\n",
       "    </tr>\n",
       "    <tr>\n",
       "      <th>14</th>\n",
       "      <td>gua enggak suka cara pelatih timnas u yang melarang pemain nya diwawancara sama teman teman media di luar sana justru pemain muda diajari public speaking baik di depan media maupun di depan <font color = red>rakyat</font> harus nya <font color = red>pelatih</font> atau manager cukup membatasi apa yang tidak boleh dishare ke <font color = red>media</font></td>\n",
       "      <td>gua enggak suka cara pelatih timnas u yang melarang pemain nya diwawancara sama teman teman media di luar sana justru pemain muda diajari public speaking baik di depan media maupun di depan <font color = green>Nation</font> harus nya <font color = green>sel</font> atau manager cukup membatasi apa yang tidak boleh dishare ke <font color = green>sarana</font></td>\n",
       "    </tr>\n",
       "    <tr>\n",
       "      <th>15</th>\n",
       "      <td>takdir politik ahy belum bisa ikut kontestasi pilpres walaupun ahy legowo kami tetap <font color = red>kecewa</font></td>\n",
       "      <td>takdir politik ahy belum bisa ikut kontestasi pilpres walaupun ahy legowo kami tetap <font color = green>tewas</font></td>\n",
       "    </tr>\n",
       "    <tr>\n",
       "      <th>16</th>\n",
       "      <td>dukungan untuk asian games terbatas ini status satu kampung aku yang merasa <font color = red>kecewa</font> ri nahrawi</td>\n",
       "      <td>dukungan untuk asian games terbatas ini status satu kampung aku yang merasa <font color = green>tewas</font> ri nahrawi</td>\n",
       "    </tr>\n",
       "    <tr>\n",
       "      <th>17</th>\n",
       "      <td>saya sebagai aktifis pecinta beruang indonesia apbi dengan ini merasa <font color = red>kecewa</font> kepada pt nestle kenapa iklan nya sangat menipu</td>\n",
       "      <td>saya sebagai aktifis pecinta beruang indonesia apbi dengan ini merasa <font color = green>tewas</font> kepada pt nestle kenapa iklan nya sangat menipu</td>\n",
       "    </tr>\n",
       "    <tr>\n",
       "      <th>18</th>\n",
       "      <td>aku <font color = red>kecewa</font> tadi <font color = red>pergi</font> kfc dapat wedges macam tidak <font color = red>niat</font> dibuat nya sudah begitu memberi mayones nya <font color = red>berantakan</font> <font color = red>banget</font></td>\n",
       "      <td>aku <font color = green>tewas</font> tadi <font color = green>mula</font> kfc dapat wedges macam tidak <font color = green>motif</font> dibuat nya sudah begitu memberi mayones nya <font color = green>semrawut</font> <font color = green>metah</font></td>\n",
       "    </tr>\n",
       "    <tr>\n",
       "      <th>19</th>\n",
       "      <td>kfc chizza apa <font color = red>banget</font> tidak jelas rasanya rasanya ingin buntut kfc buat <font color = red>mengembalikan</font> <font color = red>uang</font> gue <font color = red>kecewa</font></td>\n",
       "      <td>kfc chizza apa <font color = green>metah</font> tidak jelas rasanya rasanya ingin buntut kfc buat <font color = green>kembali</font> <font color = green>penukar</font> gue <font color = green>tewas</font></td>\n",
       "    </tr>\n",
       "    <tr>\n",
       "      <th>20</th>\n",
       "      <td>aku belajar satu perkara tentang pengharapan kalau kita berharap pada tuhan memang tak akan kecewa kalau kita berharap pd kfc barulah <font color = red>kecewa</font> sangat</td>\n",
       "      <td>aku belajar satu perkara tentang pengharapan kalau kita berharap pada tuhan memang tak akan kecewa kalau kita berharap pd kfc barulah <font color = blue>tewas</font> sangat</td>\n",
       "    </tr>\n",
       "    <tr>\n",
       "      <th>21</th>\n",
       "      <td>dari sejujur nya saya sangat <font color = red>kecewa</font> dengan <font color = red>kenyataan</font> dari <font color = red>menangguhkan</font> dengan <font color = red>alasan</font> masalah kewangan berpunca dari <font color = red>kerajaan</font> lama cari la solusi baru bukan tangguh dan tanding jari bagaimana nasib kami yang kurang mampu untuk <font color = red>memiliki</font> <font color = red>sarjana</font> dan pd <font color = red>kena</font> <font color = red>korek</font> <font color = red>duit</font> <font color = red>tabung</font></td>\n",
       "      <td>dari sejujur nya saya sangat <font color = green>tewas</font> dengan <font color = green>kartu</font> dari <font color = green>tahan</font> dengan <font color = green>motif</font> masalah kewangan berpunca dari <font color = green>kabinet</font> lama cari la solusi baru bukan tangguh dan tanding jari bagaimana nasib kami yang kurang mampu untuk <font color = green>jaga</font> <font color = green>mahasiswa</font> dan pd <font color = green>bercantum</font> <font color = green>tepat</font> <font color = green>koin</font> <font color = green>salur</font></td>\n",
       "    </tr>\n",
       "    <tr>\n",
       "      <th>22</th>\n",
       "      <td>gue paling suka cebong pada mengawal ketua kpk wkwkkwk ahok <font color = red>mengurus</font> laporan keuangan saja amburadul tidak pernah dapat wtp tahun <font color = red>bos</font> sudahlah saya sudah <font color = red>terlanjur</font> <font color = red>kecewa</font> dengan dia</td>\n",
       "      <td>gue paling suka cebong pada mengawal ketua kpk wkwkkwk ahok <font color = green>arah</font> laporan keuangan saja amburadul tidak pernah dapat wtp tahun <font color = green>ketua</font> sudahlah saya sudah <font color = green>mengaduk-aduk</font> <font color = green>tewas</font> dengan dia</td>\n",
       "    </tr>\n",
       "    <tr>\n",
       "      <th>23</th>\n",
       "      <td>id my s eror lagi hang atau apapun nama nya selama jam lebih kirain cuma hang biasa selama atau menit but ini adalah crazy <font color = red>kecewa</font> <font color = red>parah</font> pokok nya</td>\n",
       "      <td>id my s eror lagi hang atau apapun nama nya selama jam lebih kirain cuma hang biasa selama atau menit but ini adalah crazy <font color = green>tewas</font> <font color = green>fatal</font> pokok nya</td>\n",
       "    </tr>\n",
       "    <tr>\n",
       "      <th>24</th>\n",
       "      <td>aku <font color = red>kecewa</font> dengan iphone aku pakai ip s ini lama <font color = red>gila</font></td>\n",
       "      <td>aku <font color = green>tewas</font> dengan iphone aku pakai ip s ini lama <font color = green>bebas</font></td>\n",
       "    </tr>\n",
       "    <tr>\n",
       "      <th>25</th>\n",
       "      <td>cukuplah sekali aku pernah <font color = red>kecewa</font> dengan lenovo</td>\n",
       "      <td>cukuplah sekali aku pernah <font color = blue>tewas</font> dengan lenovo</td>\n",
       "    </tr>\n",
       "    <tr>\n",
       "      <th>26</th>\n",
       "      <td>samsung galaxy s standar fon samsung ini bila sampai satu peringkat dia akan lagi dijuragan sendiri nya saya pengguna samsung yang <font color = red>kecewa</font></td>\n",
       "      <td>samsung galaxy s standar fon samsung ini bila sampai satu peringkat dia akan lagi dijuragan sendiri nya saya pengguna samsung yang <font color = green>tewas</font></td>\n",
       "    </tr>\n",
       "    <tr>\n",
       "      <th>27</th>\n",
       "      <td>baru sadar bahwa selama ini ternyata saya bukan apple penggemar saya adalah umat stevejob yang kecewa karena apple <font color = red>kalah</font> inovasi oleh samsung</td>\n",
       "      <td>baru sadar bahwa selama ini ternyata saya bukan apple penggemar saya adalah umat stevejob yang kecewa karena apple <font color = green>tewas</font> inovasi oleh samsung</td>\n",
       "    </tr>\n",
       "    <tr>\n",
       "      <th>28</th>\n",
       "      <td><font color = red>kecewa</font> berat baru tahu pop mie goreng sudah discontinue <font color = red>ya</font> why padahal itu enak banget <font color = red>terbaik</font></td>\n",
       "      <td><font color = blue>tewas</font> berat baru tahu pop mie goreng sudah discontinue <font color = blue>tetap</font> why padahal itu enak banget <font color = blue>paling</font></td>\n",
       "    </tr>\n",
       "    <tr>\n",
       "      <th>29</th>\n",
       "      <td>client kita komplain kami pun sangat <font color = red>kecewa</font> paling tidak bisa <font color = red>jujur</font> jika tidak bisa tepat waktu untuk antar dari wtc ke indofood tower</td>\n",
       "      <td>client kita komplain kami pun sangat <font color = green>tewas</font> paling tidak bisa <font color = green>lurus</font> jika tidak bisa tepat waktu untuk antar dari wtc ke indofood tower</td>\n",
       "    </tr>\n",
       "    <tr>\n",
       "      <th>30</th>\n",
       "      <td>selesai juga bikin surat pengunduran diri dah ah tinggal tidur saja besok pagi tinggal pergi ke gudang indofood sangat <font color = red>kecewa</font></td>\n",
       "      <td>selesai juga bikin surat pengunduran diri dah ah tinggal tidur saja besok pagi tinggal pergi ke gudang indofood sangat <font color = green>tewas</font></td>\n",
       "    </tr>\n",
       "    <tr>\n",
       "      <th>31</th>\n",
       "      <td>indofood tukang bohong dapat pulsa dari mi tetapi tidak di tanggepin <font color = red>kecewa</font> tidak mau beli produk indofood lagi ah <font color = red>kecewa</font> <font color = red>kecewa</font></td>\n",
       "      <td>indofood tukang bohong dapat pulsa dari mi tetapi tidak di tanggepin <font color = green>tewas</font> tidak mau beli produk indofood lagi ah <font color = green>tewas</font> <font color = green>tewas</font></td>\n",
       "    </tr>\n",
       "    <tr>\n",
       "      <th>32</th>\n",
       "      <td>gimana ya antara kecewa atau sekadar deh sama r di indofood karena <font color = red>pas</font> rendang keluar itu heboh <font color = red>mampus</font> <font color = red>enak</font> nya enggak ketolongan new varian noods din triliun capture dat magic</td>\n",
       "      <td>gimana ya antara kecewa atau sekadar deh sama r di indofood karena <font color = green>lulus</font> rendang keluar itu heboh <font color = green>pergi</font> <font color = green>cantik</font> nya enggak ketolongan new varian noods din triliun capture dat magic</td>\n",
       "    </tr>\n",
       "    <tr>\n",
       "      <th>33</th>\n",
       "      <td>sebagai nasabah bank bca yang sudah lebih dari th saya merasa <font color = red>kecewa</font> bca tidak dapat memberikan keamanan kepada nasabah nya bagaimana bisa uang di rekening saya <font color = red>habis</font> terjadi transaksi berkali kali di <font color = red>tanggal</font> <font color = red>mei</font> kemarin yang bukan dilakukan oleh saya</td>\n",
       "      <td>sebagai nasabah bank bca yang sudah lebih dari th saya merasa <font color = green>tewas</font> bca tidak dapat memberikan keamanan kepada nasabah nya bagaimana bisa uang di rekening saya <font color = green>lalu</font> terjadi transaksi berkali kali di <font color = green>ikut</font> <font color = green>Ume</font> kemarin yang bukan dilakukan oleh saya</td>\n",
       "    </tr>\n",
       "    <tr>\n",
       "      <th>34</th>\n",
       "      <td>dua kali sudah teman saya bookingkan tiket lewat aplikasi ini bagus bagus saja tidak sampai mnit kode booking nya langsung dikirimkan <font color = blue>mantap</font></td>\n",
       "      <td>dua kali sudah teman saya bookingkan tiket lewat aplikasi ini bagus bagus saja tidak sampai mnit kode booking nya langsung dikirimkan <font color = red>utuh</font></td>\n",
       "    </tr>\n",
       "    <tr>\n",
       "      <th>35</th>\n",
       "      <td>alhamdulillahirrabil allamin menggunakan aplikasi ini mudah paling suka adalah penukaran poin sebagai pembayaran tiket bisa dilakukan dengan <font color = blue>mudah</font> simpel dan terpercaya</td>\n",
       "      <td>alhamdulillahirrabil allamin menggunakan aplikasi ini mudah paling suka adalah penukaran poin sebagai pembayaran tiket bisa dilakukan dengan <font color = red>jujur</font> simpel dan terpercaya</td>\n",
       "    </tr>\n",
       "    <tr>\n",
       "      <th>36</th>\n",
       "      <td>sempat agak takut pesan tiket pesawat di sini karena ulasan yang lain tapi ingat teman pernah beli di sini lancar saja akhirnya memesan pas banget di tfansfer cuma hitungan detik e tiket dikirim terima kasih lo terima kasih promo nya lumayan jadi <font color = blue>lumayan</font> untung</td>\n",
       "      <td>sempat agak takut pesan tiket pesawat di sini karena ulasan yang lain tapi ingat teman pernah beli di sini lancar saja akhirnya memesan pas banget di tfansfer cuma hitungan detik e tiket dikirim terima kasih lo terima kasih promo nya lumayan jadi <font color = red>pantas</font> untung</td>\n",
       "    </tr>\n",
       "    <tr>\n",
       "      <th>37</th>\n",
       "      <td>aplikasi yang sangat membantu dalam setiap perjalan saya memuaskan pokok nya segera <font color = blue>coba</font></td>\n",
       "      <td>aplikasi yang sangat membantu dalam setiap perjalan saya memuaskan pokok nya segera <font color = red>usaha</font></td>\n",
       "    </tr>\n",
       "    <tr>\n",
       "      <th>38</th>\n",
       "      <td>menyenangkan menggunakan aplikasi ini selain sangat <font color = blue>lengkap</font> aplikasi ini juga sangat rinci yang paling <font color = blue>menyenangkan</font> adalah banyak promo nya</td>\n",
       "      <td>menyenangkan menggunakan aplikasi ini selain sangat <font color = red>kamil</font> aplikasi ini juga sangat rinci yang paling <font color = red>gembira</font> adalah banyak promo nya</td>\n",
       "    </tr>\n",
       "    <tr>\n",
       "      <th>39</th>\n",
       "      <td>dari dulu pas liburan saya selalu memesan hotel pakai tiket com untuk gaji yang saat saat an seperti saya dan bisa dapat hotel bintang cup wow banget enggak iniihh apalagi ada tonight deals kita bisa dapatkan diskon sampai kalau pesan hotel di atas jam malam sudah pasti makin nikmat pas liburan ditambah lagi bisa istirahat di hotel bintang yang nyaman dengan harga yang <font color = blue>murah</font> terima kasih tiket com</td>\n",
       "      <td>dari dulu pas liburan saya selalu memesan hotel pakai tiket com untuk gaji yang saat saat an seperti saya dan bisa dapat hotel bintang cup wow banget enggak iniihh apalagi ada tonight deals kita bisa dapatkan diskon sampai kalau pesan hotel di atas jam malam sudah pasti makin nikmat pas liburan ditambah lagi bisa istirahat di hotel bintang yang nyaman dengan harga yang <font color = red>buruk</font> terima kasih tiket com</td>\n",
       "    </tr>\n",
       "    <tr>\n",
       "      <th>40</th>\n",
       "      <td>bisa memilih penerbangan selain itu cukup <font color = blue>mudah</font> dalam bertransaksi lengkap aplikasi nya</td>\n",
       "      <td>bisa memilih penerbangan selain itu cukup <font color = red>jujur</font> dalam bertransaksi lengkap aplikasi nya</td>\n",
       "    </tr>\n",
       "    <tr>\n",
       "      <th>41</th>\n",
       "      <td>banyak promo dan aplikasi mudah digunakan proses sangat cepat dan juga aplikasi nya <font color = blue>bagus</font> dan tidak rumit</td>\n",
       "      <td>banyak promo dan aplikasi mudah digunakan proses sangat cepat dan juga aplikasi nya <font color = red>pintar</font> dan tidak rumit</td>\n",
       "    </tr>\n",
       "    <tr>\n",
       "      <th>42</th>\n",
       "      <td>saya suka beli tiket di tiket com oke banget sangat membantu respon nya cepat yang pasti sangat <font color = blue>memudahkan</font> traveling saya</td>\n",
       "      <td>saya suka beli tiket di tiket com oke banget sangat membantu respon nya cepat yang pasti sangat <font color = red>tolong</font> traveling saya</td>\n",
       "    </tr>\n",
       "    <tr>\n",
       "      <th>43</th>\n",
       "      <td>tiket com sangat terpercaya harga <font color = blue>murah</font> <font color = blue>lancar</font> praktis efektif dan efisien</td>\n",
       "      <td>tiket com sangat terpercaya harga <font color = red>buruk</font> <font color = red>jelas</font> praktis efektif dan efisien</td>\n",
       "    </tr>\n",
       "    <tr>\n",
       "      <th>44</th>\n",
       "      <td>saya selalu pesan tiket pesawat maupun kereta di sini harga lebih <font color = blue>murah</font> berbeda dengan aplikasi lain</td>\n",
       "      <td>saya selalu pesan tiket pesawat maupun kereta di sini harga lebih <font color = red>buruk</font> berbeda dengan aplikasi lain</td>\n",
       "    </tr>\n",
       "    <tr>\n",
       "      <th>45</th>\n",
       "      <td>hotel ini adalah salah satu hotel yang wajib dikunjungi kalau buka puasa bareng tempat nya menarik mewah staf nya ramah makanan nya banyaakk jenis nya menu nya komplet dan <font color = blue>suasana</font> nya sangat menyenangkan tempat yang sangat <font color = blue>indah</font></td>\n",
       "      <td>hotel ini adalah salah satu hotel yang wajib dikunjungi kalau buka puasa bareng tempat nya menarik mewah staf nya ramah makanan nya banyaakk jenis nya menu nya komplet dan <font color = red>posisi</font> nya sangat menyenangkan tempat yang sangat <font color = red>sedap</font></td>\n",
       "    </tr>\n",
       "    <tr>\n",
       "      <th>46</th>\n",
       "      <td>saya menginap dua malam bersama keluarga secara keseluruhan hotel nya sangat bagus bersih fasilitas hotel lengkap breakfast nya pun enak enak dan tentunya suasana hotel yang sejuk dan nyaman cocok untuk pilihan menginap bersama <font color = blue>keluarga</font></td>\n",
       "      <td>saya menginap dua malam bersama keluarga secara keseluruhan hotel nya sangat bagus bersih fasilitas hotel lengkap breakfast nya pun enak enak dan tentunya suasana hotel yang sejuk dan nyaman cocok untuk pilihan menginap bersama <font color = red>kelompok</font></td>\n",
       "    </tr>\n",
       "    <tr>\n",
       "      <th>47</th>\n",
       "      <td>proses cek in cepat staf nya ramah dan helpfully lingkungan hotel sangat asri sejuk dan tenang amenities di kamar lengkap terdapat <font color = blue>kampung</font> ramadhan untuk berbuka dengan begitu banyak pilihan <font color = blue>makanan</font> yang siap memanjakan <font color = blue>lidah</font> terbaik tempat untuk staf when kamu visi bandung</td>\n",
       "      <td>proses cek in cepat staf nya ramah dan helpfully lingkungan hotel sangat asri sejuk dan tenang amenities di kamar lengkap terdapat <font color = red>negara</font> ramadhan untuk berbuka dengan begitu banyak pilihan <font color = red>bekal</font> yang siap memanjakan <font color = red>pesisir</font> terbaik tempat untuk staf when kamu visi bandung</td>\n",
       "    </tr>\n",
       "    <tr>\n",
       "      <th>48</th>\n",
       "      <td>kami memakai berenam dan memakai kamar kamar besar dan bersih breakfast nya enak banyak varian nya dan aneka <font color = blue>segar</font> juice pelayanan sangat baik terutama pelayanan di restoran sangat memuaskan rekomendasi</td>\n",
       "      <td>kami memakai berenam dan memakai kamar kamar besar dan bersih breakfast nya enak banyak varian nya dan aneka <font color = red>kasar</font> juice pelayanan sangat baik terutama pelayanan di restoran sangat memuaskan rekomendasi</td>\n",
       "    </tr>\n",
       "    <tr>\n",
       "      <th>49</th>\n",
       "      <td>kalau regis di rs hermina banyak keuntungan yang didapat pasien keuntungan nya antara lain kemudahan saat hari h melahirkan selain itu banyak juga gratisan nya seperti gratis senam hamil gratis kursus prenatal gratis senam nifas gratis kursus pijat bayi dan masih banyak lagi asik deh <font color = blue>pokok</font> nya</td>\n",
       "      <td>kalau regis di rs hermina banyak keuntungan yang didapat pasien keuntungan nya antara lain kemudahan saat hari h melahirkan selain itu banyak juga gratisan nya seperti gratis senam hamil gratis kursus prenatal gratis senam nifas gratis kursus pijat bayi dan masih banyak lagi asik deh <font color = red>inti</font> nya</td>\n",
       "    </tr>\n",
       "    <tr>\n",
       "      <th>50</th>\n",
       "      <td>foto aku cuma modal kamera xiaomi tetapi tetap <font color = blue>suka</font></td>\n",
       "      <td>foto aku cuma modal kamera xiaomi tetapi tetap <font color = red>harap</font></td>\n",
       "    </tr>\n",
       "    <tr>\n",
       "      <th>51</th>\n",
       "      <td>agak nya xiaomi tidak main main mau masuk pasar ponsel global mantap saya selalu <font color = blue>suka</font> miui mereka d</td>\n",
       "      <td>agak nya xiaomi tidak main main mau masuk pasar ponsel global mantap saya selalu <font color = red>harap</font> miui mereka d</td>\n",
       "    </tr>\n",
       "    <tr>\n",
       "      <th>52</th>\n",
       "      <td>ketersediaan air adalah kunci ketahanan pangan kita karena itulah pemerintah telah membangun bendungan yang akan menjamin produksi pangan kita di masa depan <font color = blue>terima</font> <font color = blue>kasih</font> pak</td>\n",
       "      <td>ketersediaan air adalah kunci ketahanan pangan kita karena itulah pemerintah telah membangun bendungan yang akan menjamin produksi pangan kita di masa depan <font color = red>ada</font> <font color = red>afeksi</font> pak</td>\n",
       "    </tr>\n",
       "    <tr>\n",
       "      <th>53</th>\n",
       "      <td>masyarakat papua dipastikan akan mendukung memilih jokowi saat pilpres karena masyarakat papua merasakan hasil pembangunan yang dicapai di <font color = blue>era</font> terima kasih pak</td>\n",
       "      <td>masyarakat papua dipastikan akan mendukung memilih jokowi saat pilpres karena masyarakat papua merasakan hasil pembangunan yang dicapai di <font color = red>pukul</font> terima kasih pak</td>\n",
       "    </tr>\n",
       "    <tr>\n",
       "      <th>54</th>\n",
       "      <td>beliau <font color = blue>cinta</font> rakyat di <font color = blue>cinta</font> <font color = blue>rakyat</font> merakyat terima kasih pak</td>\n",
       "      <td>beliau <font color = green>abang</font> rakyat di <font color = green>abang</font> <font color = green>negara</font> merakyat terima kasih pak</td>\n",
       "    </tr>\n",
       "    <tr>\n",
       "      <th>55</th>\n",
       "      <td>terima kasih pak anies sukses untuk anda baru kali ini lihat trotoar jakarta yang lebar nya melebihi lapangan badminton <font color = blue>keren</font> pak</td>\n",
       "      <td>terima kasih pak anies sukses untuk anda baru kali ini lihat trotoar jakarta yang lebar nya melebihi lapangan badminton <font color = red>gembira</font> pak</td>\n",
       "    </tr>\n",
       "    <tr>\n",
       "      <th>56</th>\n",
       "      <td>kenapa aku kok suka banget sama yang nama nya mi apalagi mi indomie goreng dikasih kuah telur berh rasanya mantap tjoy pangsit di depan rumah gue aja kalah <font color = blue>enak</font> sama mi buatan aku sendiri</td>\n",
       "      <td>kenapa aku kok suka banget sama yang nama nya mi apalagi mi indomie goreng dikasih kuah telur berh rasanya mantap tjoy pangsit di depan rumah gue aja kalah <font color = red>waras</font> sama mi buatan aku sendiri</td>\n",
       "    </tr>\n",
       "    <tr>\n",
       "      <th>57</th>\n",
       "      <td>kalau mau minum kopi datangkan journey kopi records ini kedai kopi anak musik banget jualan kaset tape cd sampai vinyl yang punya juga paham sekali musik kopi nya <font color = blue>enak</font> pol teh terbaik</td>\n",
       "      <td>kalau mau minum kopi datangkan journey kopi records ini kedai kopi anak musik banget jualan kaset tape cd sampai vinyl yang punya juga paham sekali musik kopi nya <font color = red>waras</font> pol teh terbaik</td>\n",
       "    </tr>\n",
       "    <tr>\n",
       "      <th>58</th>\n",
       "      <td>kuliner pertama yang harus dicoba itu ketan jompo rasa jangan ditanya lagi gurih manis dan hangat nya ketan yang ditaburi bubuk koyah bisa banget menemani malam kalian di kota jember harga nya juga murah cuma tiga ribu <font color = blue>suka</font> banget</td>\n",
       "      <td>kuliner pertama yang harus dicoba itu ketan jompo rasa jangan ditanya lagi gurih manis dan hangat nya ketan yang ditaburi bubuk koyah bisa banget menemani malam kalian di kota jember harga nya juga murah cuma tiga ribu <font color = red>harap</font> banget</td>\n",
       "    </tr>\n",
       "    <tr>\n",
       "      <th>59</th>\n",
       "      <td>di jember ada juga makanan nama nya tahu telur bangka waktu itu belum pernah nyobain makanan yang begituan eh sekali nya mencoba gue langsung jatuh <font color = blue>cinta</font> top</td>\n",
       "      <td>di jember ada juga makanan nama nya tahu telur bangka waktu itu belum pernah nyobain makanan yang begituan eh sekali nya mencoba gue langsung jatuh <font color = red>abang</font> top</td>\n",
       "    </tr>\n",
       "    <tr>\n",
       "      <th>60</th>\n",
       "      <td>buat gue kece banget lenovo itu saking kece nya layar laptop lenovo yoga bisa ditekuk derajat <font color = blue>keren</font> <font color = blue>banget</font> memang benar sih kadang different adalah lebih baik</td>\n",
       "      <td>buat gue kece banget lenovo itu saking kece nya layar laptop lenovo yoga bisa ditekuk derajat <font color = red>gembira</font> <font color = red>begitu</font> memang benar sih kadang different adalah lebih baik</td>\n",
       "    </tr>\n",
       "    <tr>\n",
       "      <th>61</th>\n",
       "      <td>ini ya menurut gue tentang hotel aston itu pertama staf hotel tanggap cepat dan ramah kedua untuk sarapan lumayan enak dan untuk anak anak suka sekali dengan kolam renang anak termasuk saya dan istri ketiga yang pasti <font color = blue>bersih</font></td>\n",
       "      <td>ini ya menurut gue tentang hotel aston itu pertama staf hotel tanggap cepat dan ramah kedua untuk sarapan lumayan enak dan untuk anak anak suka sekali dengan kolam renang anak termasuk saya dan istri ketiga yang pasti <font color = red>polos</font></td>\n",
       "    </tr>\n",
       "    <tr>\n",
       "      <th>62</th>\n",
       "      <td>kolam renang di hotel aston bikin tidak mau berenti berenang nyaman banget air nya <font color = blue>bersih</font> tempat bilas nya nyaman</td>\n",
       "      <td>kolam renang di hotel aston bikin tidak mau berenti berenang nyaman banget air nya <font color = red>polos</font> tempat bilas nya nyaman</td>\n",
       "    </tr>\n",
       "    <tr>\n",
       "      <th>63</th>\n",
       "      <td>wah keren ya persiapan bni saya juga mendukung semoga bisa berjalan <font color = blue>lancar</font></td>\n",
       "      <td>wah keren ya persiapan bni saya juga mendukung semoga bisa berjalan <font color = red>jelas</font></td>\n",
       "    </tr>\n",
       "    <tr>\n",
       "      <th>64</th>\n",
       "      <td>go jek makin sini makin <font color = blue>keren</font> deh <font color = blue>semoga</font> makin baik ya dalam <font color = blue>pelayanan</font> dan aplikasi nya ya go car go jek dan go go lainnya chiiiiirrs</td>\n",
       "      <td>go jek makin sini makin <font color = red>gembira</font> deh <font color = red>sungguh</font> makin baik ya dalam <font color = red>bakti</font> dan aplikasi nya ya go car go jek dan go go lainnya chiiiiirrs</td>\n",
       "    </tr>\n",
       "    <tr>\n",
       "      <th>65</th>\n",
       "      <td>go jek selalu jadi inspirasi untuk perusahaan perusahaan di indonesia pelayanan nya bravo selalu berkembang setiap waktu dan memberi <font color = blue>kemudahan</font> bagi <font color = blue>pelanggan</font></td>\n",
       "      <td>go jek selalu jadi inspirasi untuk perusahaan perusahaan di indonesia pelayanan nya bravo selalu berkembang setiap waktu dan memberi <font color = red>mewah</font> bagi <font color = red>nasabah</font></td>\n",
       "    </tr>\n",
       "    <tr>\n",
       "      <th>66</th>\n",
       "      <td>cocok banget gue pakai shope sudah mana ongkos kirim gratis pengiriman juga aman dan <font color = blue>lancar</font></td>\n",
       "      <td>cocok banget gue pakai shope sudah mana ongkos kirim gratis pengiriman juga aman dan <font color = red>jelas</font></td>\n",
       "    </tr>\n",
       "    <tr>\n",
       "      <th>67</th>\n",
       "      <td>karena hanya shope yang pelayanan nya memuaskan diskon besar besaran <font color = blue>barang</font> nya juga pasti nya bermerek <font color = blue>mantap</font></td>\n",
       "      <td>karena hanya shope yang pelayanan nya memuaskan diskon besar besaran <font color = red>bobot</font> nya juga pasti nya bermerek <font color = red>utuh</font></td>\n",
       "    </tr>\n",
       "    <tr>\n",
       "      <th>68</th>\n",
       "      <td>shopee tidak pernah <font color = blue>mengecewakan</font> pelanggan selalu memberikan yang terbaik dalam pelayanan <font color = blue>pokok</font> nya shopee selalu memberikan <font color = blue>pelayanan</font> dengan baik</td>\n",
       "      <td>shopee tidak pernah <font color = red>hambar</font> pelanggan selalu memberikan yang terbaik dalam pelayanan <font color = red>inti</font> nya shopee selalu memberikan <font color = red>bakti</font> dengan baik</td>\n",
       "    </tr>\n",
       "    <tr>\n",
       "      <th>69</th>\n",
       "      <td>shopee itu pusat pembelanjaan online terpercaya dengan pelayanan yang memuaskan yang paling menarik adalah pemberian diskon yang besar besaran aku suka aku <font color = blue>suka</font></td>\n",
       "      <td>shopee itu pusat pembelanjaan online terpercaya dengan pelayanan yang memuaskan yang paling menarik adalah pemberian diskon yang besar besaran aku suka aku <font color = red>harap</font></td>\n",
       "    </tr>\n",
       "    <tr>\n",
       "      <th>70</th>\n",
       "      <td>marketplace pilihan gue ya tokopedia lah toko pedia itu selalu <font color = blue>berusaha</font> memberi pelayanan terbaik buat semua pengguna nya kalau ada keluhan juga pasti <font color = blue>langsung</font> ditanggapi salut</td>\n",
       "      <td>marketplace pilihan gue ya tokopedia lah toko pedia itu selalu <font color = red>tiba</font> memberi pelayanan terbaik buat semua pengguna nya kalau ada keluhan juga pasti <font color = red>betul-betul</font> ditanggapi salut</td>\n",
       "    </tr>\n",
       "    <tr>\n",
       "      <th>71</th>\n",
       "      <td>satu hal yang gue <font color = blue>suka</font> banget dari masjid agung sunda <font color = blue>kelapa</font> adalah surga jajanan kaki lima di luar masjid <font color = blue>nasi</font> <font color = blue>gila</font> sate <font color = blue>ayam</font> soto mi tempe mendoan es buah thai tea sampai es <font color = blue>kepal</font> milo ada di sini</td>\n",
       "      <td>satu hal yang gue <font color = red>harap</font> banget dari masjid agung sunda <font color = red>nyiur</font> adalah surga jajanan kaki lima di luar masjid <font color = red>padi</font> <font color = red>bodoh</font> sate <font color = red>burung</font> soto mi tempe mendoan es buah thai tea sampai es <font color = red>genggam</font> milo ada di sini</td>\n",
       "    </tr>\n",
       "    <tr>\n",
       "      <th>72</th>\n",
       "      <td>terima kasih kembali oh iya garuda dan traveloka cepat respons mantap dan <font color = blue>keren</font></td>\n",
       "      <td>terima kasih kembali oh iya garuda dan traveloka cepat respons mantap dan <font color = red>gembira</font></td>\n",
       "    </tr>\n",
       "    <tr>\n",
       "      <th>73</th>\n",
       "      <td>mantap banget ikut kontribusi di google local guides kemarin dapat voucher diskon traveloka terus ini dapat tokocash tokopedia lagi aku <font color = blue>senang</font></td>\n",
       "      <td>mantap banget ikut kontribusi di google local guides kemarin dapat voucher diskon traveloka terus ini dapat tokocash tokopedia lagi aku <font color = red>kaya</font></td>\n",
       "    </tr>\n",
       "    <tr>\n",
       "      <th>74</th>\n",
       "      <td>wuih ada yang baru di aplikasi nih sekarang bisa pesan tiket bus <font color = blue>mantap</font></td>\n",
       "      <td>wuih ada yang baru di aplikasi nih sekarang bisa pesan tiket bus <font color = green>stabil</font></td>\n",
       "    </tr>\n",
       "    <tr>\n",
       "      <th>75</th>\n",
       "      <td>barusan memesan pesawat via traveloka seperti biasanya kadang pakai kadang booking com kadang agoda mana yang paling asyik aja hidup jadi lebih mudah <font color = blue>mantap</font> traveloka</td>\n",
       "      <td>barusan memesan pesawat via traveloka seperti biasanya kadang pakai kadang booking com kadang agoda mana yang paling asyik aja hidup jadi lebih mudah <font color = red>stabil</font> traveloka</td>\n",
       "    </tr>\n",
       "    <tr>\n",
       "      <th>76</th>\n",
       "      <td>saya tambah setia ini sama traveloka sekarang pilihan maskapai nya makin banyak payment nya mudah selaint itu harga nya murah dari yang lain <font color = blue>mantap</font></td>\n",
       "      <td>saya tambah setia ini sama traveloka sekarang pilihan maskapai nya makin banyak payment nya mudah selaint itu harga nya murah dari yang lain <font color = red>utuh</font></td>\n",
       "    </tr>\n",
       "    <tr>\n",
       "      <th>77</th>\n",
       "      <td>e tiket sudah saya terima mantap reservasi cepat harga <font color = blue>murah</font> nomor tiketing online indonesia</td>\n",
       "      <td>e tiket sudah saya terima mantap reservasi cepat harga <font color = green>kaya</font> nomor tiketing online indonesia</td>\n",
       "    </tr>\n",
       "    <tr>\n",
       "      <th>78</th>\n",
       "      <td>air asia ini keren banget kasih tiket gratis seumur hidup buat atlit asia <font color = blue>pemenang</font> medali di olimpiade rio</td>\n",
       "      <td>air asia ini keren banget kasih tiket gratis seumur hidup buat atlit asia <font color = green>kepala</font> medali di olimpiade rio</td>\n",
       "    </tr>\n",
       "    <tr>\n",
       "      <th>79</th>\n",
       "      <td><font color = blue>bu</font> memang <font color = blue>mantap</font> semoga siapapun presiden nya menteri kelautan perikanan tetap <font color = blue>bu</font> susi amin</td>\n",
       "      <td><font color = red>wanita</font> memang <font color = red>stabil</font> semoga siapapun presiden nya menteri kelautan perikanan tetap <font color = red>wanita</font> susi amin</td>\n",
       "    </tr>\n",
       "    <tr>\n",
       "      <th>80</th>\n",
       "      <td>antusias para pemilik agen sangat luar biasa dan terima kasih untuk para petinggi jne yang berkenan hadir dalam acara kami dan terima kasih untuk para agen mitra jne yang juga turut hadir dalam acara ini semoga di tahun depan akan semakin <font color = blue>mantap</font></td>\n",
       "      <td>antusias para pemilik agen sangat luar biasa dan terima kasih untuk para petinggi jne yang berkenan hadir dalam acara kami dan terima kasih untuk para agen mitra jne yang juga turut hadir dalam acara ini semoga di tahun depan akan semakin <font color = green>stabil</font></td>\n",
       "    </tr>\n",
       "    <tr>\n",
       "      <th>81</th>\n",
       "      <td>selamat ulang tahun bdo petugas nya pada ramah ramah umur sudah matang dan <font color = blue>mantap</font> sukses selalu karyawan nya pada <font color = blue>sehat</font></td>\n",
       "      <td>selamat ulang tahun bdo petugas nya pada ramah ramah umur sudah matang dan <font color = red>stabil</font> sukses selalu karyawan nya pada <font color = red>kebajikan</font></td>\n",
       "    </tr>\n",
       "    <tr>\n",
       "      <th>82</th>\n",
       "      <td>mantap sekali di hari libur tetap mengantarkan paket ke tujuan benar benar terapkan semangat kemerdekaan <font color = blue>id</font> bdo</td>\n",
       "      <td>mantap sekali di hari libur tetap mengantarkan paket ke tujuan benar benar terapkan semangat kemerdekaan <font color = red>Idaho</font> bdo</td>\n",
       "    </tr>\n",
       "    <tr>\n",
       "      <th>83</th>\n",
       "      <td>pengiriman barang menggunakan jne sangat memuaskan tanggal sampai pengiriman barang sesuai pelayanan sangat ramah harga juga sangat masuk <font color = blue>akal</font> dan terjangkau</td>\n",
       "      <td>pengiriman barang menggunakan jne sangat memuaskan tanggal sampai pengiriman barang sesuai pelayanan sangat ramah harga juga sangat masuk <font color = red>kepala</font> dan terjangkau</td>\n",
       "    </tr>\n",
       "    <tr>\n",
       "      <th>84</th>\n",
       "      <td>saya suwandi sudah pesan tiket pak cengkareng tuk penerbangan tanggal jam via pesawat nam air namun sampai dengan hari ini tanggal juli saya belum terima info apa pun transfer dari bri syariah ke bank mandiri <font color = green>mohon</font> bantuan nya untuk diinformasi kembali <font color = green>terima</font> kasih</td>\n",
       "      <td>saya suwandi sudah pesan tiket pak cengkareng tuk penerbangan tanggal jam via pesawat nam air namun sampai dengan hari ini tanggal juli saya belum terima info apa pun transfer dari bri syariah ke bank mandiri <font color = red>pohon</font> bantuan nya untuk diinformasi kembali <font color = red>makan</font> kasih</td>\n",
       "    </tr>\n",
       "    <tr>\n",
       "      <th>85</th>\n",
       "      <td>kami segenap direksi dan karyawan pt smartplus consulting indonesia mengucapkan <font color = green>selamat</font> hari raya idul fitri h</td>\n",
       "      <td>kami segenap direksi dan karyawan pt smartplus consulting indonesia mengucapkan <font color = red>jangan</font> hari raya idul fitri h</td>\n",
       "    </tr>\n",
       "    <tr>\n",
       "      <th>86</th>\n",
       "      <td>siarin bola asian games lewat parabola dong puluhan juta pasang mata di luar jawa yang pakai parabola pasti <font color = red>kecewa</font> kalau tidak bisa <font color = red>menonton</font></td>\n",
       "      <td>siarin bola asian games lewat parabola dong puluhan juta pasang mata di luar jawa yang pakai parabola pasti <font color = green>tewas</font> kalau tidak bisa <font color = green>jaga</font></td>\n",
       "    </tr>\n",
       "    <tr>\n",
       "      <th>87</th>\n",
       "      <td>di depan sana masih ada kompetisi <font color = green>foto</font> dengan tema morning feel</td>\n",
       "      <td>di depan sana masih ada kompetisi <font color = red>bayang-bayang</font> dengan tema morning feel</td>\n",
       "    </tr>\n",
       "    <tr>\n",
       "      <th>88</th>\n",
       "      <td>isi pulsa via atm bca tadi jam sampai sekarang belum masuk boleh <font color = green>tolong</font> dicek <font color = green>terima</font> kasih</td>\n",
       "      <td>isi pulsa via atm bca tadi jam sampai sekarang belum masuk boleh <font color = red>servis</font> dicek <font color = red>makan</font> kasih</td>\n",
       "    </tr>\n",
       "    <tr>\n",
       "      <th>89</th>\n",
       "      <td>hai mas cepy saya sudah ke bank bca terdekat untuk langsung diproses pergantian kartu <font color = green>ya</font></td>\n",
       "      <td>hai mas cepy saya sudah ke bank bca terdekat untuk langsung diproses pergantian kartu <font color = red>sekarang</font></td>\n",
       "    </tr>\n",
       "    <tr>\n",
       "      <th>90</th>\n",
       "      <td>hai ken saat ini isi e money flazz dari bca belum bisa di jenius ya kamu bisa menyampaikan saran kamu melalui bagian dari kami di jenius co create info <font color = green>lengkap</font> bisa ku njungi <font color = green>terima</font> kasih</td>\n",
       "      <td>hai ken saat ini isi e money flazz dari bca belum bisa di jenius ya kamu bisa menyampaikan saran kamu melalui bagian dari kami di jenius co create info <font color = red>benar-benar</font> bisa ku njungi <font color = red>makan</font> kasih</td>\n",
       "    </tr>\n",
       "    <tr>\n",
       "      <th>91</th>\n",
       "      <td>asisten pelatih pskc cimahi nurjati merasa tim nya sangat bangga bertemu dengan tim sebesar persib bandung di babak besar <font color = blue>piala</font> indonesia</td>\n",
       "      <td>asisten pelatih pskc cimahi nurjati merasa tim nya sangat bangga bertemu dengan tim sebesar persib bandung di babak besar <font color = green>hadiah</font> indonesia</td>\n",
       "    </tr>\n",
       "    <tr>\n",
       "      <th>92</th>\n",
       "      <td>selamat siang jika selama bulan tidak terdapat saldo rp tidak ada <font color = green>transaksi</font> maka sudah otomatis closed namun untuk pengecekan <font color = green>status</font> rekening anda dapat <font color = green>menghubungi</font> bni call</td>\n",
       "      <td>selamat siang jika selama bulan tidak terdapat saldo rp tidak ada <font color = red>industri</font> maka sudah otomatis closed namun untuk pengecekan <font color = red>kaliber</font> rekening anda dapat <font color = red>sentuh</font> bni call</td>\n",
       "    </tr>\n",
       "    <tr>\n",
       "      <th>93</th>\n",
       "      <td>selamat pagi untuk melihat tagihan dapat menghubungi bni call kemudian tekan untuk berbicara dengan bni call officer lalu tekan untuk berbicara dengan bni call officer layanan <font color = green>kartu</font> kredit nanti petugas kami akan membantu anda</td>\n",
       "      <td>selamat pagi untuk melihat tagihan dapat menghubungi bni call kemudian tekan untuk berbicara dengan bni call officer lalu tekan untuk berbicara dengan bni call officer layanan <font color = red>pemberitahuan</font> kredit nanti petugas kami akan membantu anda</td>\n",
       "    </tr>\n",
       "    <tr>\n",
       "      <th>94</th>\n",
       "      <td>selamat pagi silakan hubungi bni call untuk melakukan pemblokiran setelah itu silakan datang ke kantor cabang bni terdekat dengan membawa ktp surat keterangan hilang dari kepolisian dan buku tabungan untuk penggantian kartu nya <font color = green>ya</font></td>\n",
       "      <td>selamat pagi silakan hubungi bni call untuk melakukan pemblokiran setelah itu silakan datang ke kantor cabang bni terdekat dengan membawa ktp surat keterangan hilang dari kepolisian dan buku tabungan untuk penggantian kartu nya <font color = red>sekarang</font></td>\n",
       "    </tr>\n",
       "    <tr>\n",
       "      <th>95</th>\n",
       "      <td>pada tanggal februari esok poliklinik rawat jalan rshs tidak melakukan pelayanan dikarenakan hari libur nasional poli kembali buka hari <font color = green>senin</font> februari</td>\n",
       "      <td>pada tanggal februari esok poliklinik rawat jalan rshs tidak melakukan pelayanan dikarenakan hari libur nasional poli kembali buka hari <font color = red>Sen</font> februari</td>\n",
       "    </tr>\n",
       "    <tr>\n",
       "      <th>96</th>\n",
       "      <td>kami ingin <font color = green>mengumumkan</font> bahwa mal bom kini hadir di shopee mal</td>\n",
       "      <td>kami ingin <font color = red>bubar</font> bahwa mal bom kini hadir di shopee mal</td>\n",
       "    </tr>\n",
       "    <tr>\n",
       "      <th>97</th>\n",
       "      <td>hari ini periode submission xpresound telah ditutup ya dan para juri akan memilih finalis yang akan diumumkan tanggal <font color = green>agustus</font> nanti</td>\n",
       "      <td>hari ini periode submission xpresound telah ditutup ya dan para juri akan memilih finalis yang akan diumumkan tanggal <font color = red>Agt</font> nanti</td>\n",
       "    </tr>\n",
       "    <tr>\n",
       "      <th>98</th>\n",
       "      <td>pagi ini pemkab pemalang melalui menyelenggarakan kegiatan launching sistem layanan informasi <font color = green>publik</font> secara online dan rakor ppid di <font color = green>salah</font> satu hotel di pemalang</td>\n",
       "      <td>pagi ini pemkab pemalang melalui menyelenggarakan kegiatan launching sistem layanan informasi <font color = red>negeri</font> secara online dan rakor ppid di <font color = red>bohong</font> satu hotel di pemalang</td>\n",
       "    </tr>\n",
       "    <tr>\n",
       "      <th>99</th>\n",
       "      <td>kemnaker ri menyelenggarakan pameran kesempatan kerja job fair nasional tahun di balairung hotel bumiwiyata depok jawa barat tanggal juli job fair ini tidak dipungut <font color = green>biaya</font> gratis</td>\n",
       "      <td>kemnaker ri menyelenggarakan pameran kesempatan kerja job fair nasional tahun di balairung hotel bumiwiyata depok jawa barat tanggal juli job fair ini tidak dipungut <font color = red>harga</font> gratis</td>\n",
       "    </tr>\n",
       "    <tr>\n",
       "      <th>100</th>\n",
       "      <td>gubernur dki jakarta anies baswedan membentuk tim evaluasi tata kelola air minum pembentukan tim ini tertuang dalam keputusan gubernur nomor tahun yang ditandatangani agustus tim ini diketuai sekretaris daerah saefullah dengan wakil <font color = green>ketua</font> asisten pembangunan dan lingkungan hidup yusmada faizal</td>\n",
       "      <td>gubernur dki jakarta anies baswedan membentuk tim evaluasi tata kelola air minum pembentukan tim ini tertuang dalam keputusan gubernur nomor tahun yang ditandatangani agustus tim ini diketuai sekretaris daerah saefullah dengan wakil <font color = red>kepala</font> asisten pembangunan dan lingkungan hidup yusmada faizal</td>\n",
       "    </tr>\n",
       "    <tr>\n",
       "      <th>101</th>\n",
       "      <td>keberadaan peraturan presiden nomor tahun tentang strategi nasional pencegahan korupsi yang telah diteken oleh presiden joko widodo pada juli silam diharapkan mampu menghasilkan perubahan mendasar khusus nya terkait tiga aspek ketiga aspek itu menyangkut perizinan dan tata niaga keuangan negara dan penegakan hukum serta <font color = green>reformasi</font> birokrasi</td>\n",
       "      <td>keberadaan peraturan presiden nomor tahun tentang strategi nasional pencegahan korupsi yang telah diteken oleh presiden joko widodo pada juli silam diharapkan mampu menghasilkan perubahan mendasar khusus nya terkait tiga aspek ketiga aspek itu menyangkut perizinan dan tata niaga keuangan negara dan penegakan hukum serta <font color = red>pembaruan</font> birokrasi</td>\n",
       "    </tr>\n",
       "    <tr>\n",
       "      <th>102</th>\n",
       "      <td>sahabat mido untuk kenyamanan pemohon paspor dan menghindari praktik percaloan direktorat jenderal imigrasi bekerjasama dengan kementerian keuangan melalui bank bank yang tergabung dalam sistim informasi penerimaan <font color = green>negara</font> bukan pajak online simponi</td>\n",
       "      <td>sahabat mido untuk kenyamanan pemohon paspor dan menghindari praktik percaloan direktorat jenderal imigrasi bekerjasama dengan kementerian keuangan melalui bank bank yang tergabung dalam sistim informasi penerimaan <font color = red>negeri</font> bukan pajak online simponi</td>\n",
       "    </tr>\n",
       "    <tr>\n",
       "      <th>103</th>\n",
       "      <td>hai kak saat ini jam opertional restoran pizza hut belum sampai jam ya sekadar informasi restoran ph dan phd berbeda menu dengan konsep nya informasi mengenai phd kk dapat menghubungi atau tanyakan ke akun official nya id <font color = green>kak</font></td>\n",
       "      <td>hai kak saat ini jam opertional restoran pizza hut belum sampai jam ya sekadar informasi restoran ph dan phd berbeda menu dengan konsep nya informasi mengenai phd kk dapat menghubungi atau tanyakan ke akun official nya id <font color = blue>puan</font></td>\n",
       "    </tr>\n",
       "    <tr>\n",
       "      <th>104</th>\n",
       "      <td>juru bicara komisi pemberantasan korupsi kpk febri diansyah mengungkapkan laporan harta kekayaan calon presiden joko widodo telah terverifikasi lengkap kpk dalam waktu dekat akan mengumumkan laporan harta kekayaan jokowi di situs <font color = green>resmi</font> kpk</td>\n",
       "      <td>juru bicara komisi pemberantasan korupsi kpk febri diansyah mengungkapkan laporan harta kekayaan calon presiden joko widodo telah terverifikasi lengkap kpk dalam waktu dekat akan mengumumkan laporan harta kekayaan jokowi di situs <font color = red>tabiat</font> kpk</td>\n",
       "    </tr>\n",
       "    <tr>\n",
       "      <th>105</th>\n",
       "      <td>tidak perlu diragukan lagi semua <font color = red>orang</font> memang membenci dia aku pun sama</td>\n",
       "      <td>tidak perlu diragukan lagi semua <font color = blue>muda</font> memang membenci dia aku pun sama</td>\n",
       "    </tr>\n",
       "    <tr>\n",
       "      <th>106</th>\n",
       "      <td>pelayanan di supermarket itu <font color = red>payah</font></td>\n",
       "      <td>pelayanan di supermarket itu <font color = green>kompleks</font></td>\n",
       "    </tr>\n",
       "    <tr>\n",
       "      <th>107</th>\n",
       "      <td>aku <font color = red>kecewa</font> dengan pelayanan hotel yang semalam aku tempati <font color = red>kamar</font> <font color = red>mandi</font> <font color = red>kotor</font> pelayan tidak ramah</td>\n",
       "      <td>aku <font color = blue>tewas</font> dengan pelayanan hotel yang semalam aku tempati <font color = blue>tempat</font> <font color = blue>bersiram</font> <font color = blue>pudar</font> pelayan tidak ramah</td>\n",
       "    </tr>\n",
       "    <tr>\n",
       "      <th>108</th>\n",
       "      <td>nyesel deh beli <font color = red>baju</font> di toko tadi kualitas nya murahan <font color = red>banget</font></td>\n",
       "      <td>nyesel deh beli <font color = green>angka</font> di toko tadi kualitas nya murahan <font color = green>metah</font></td>\n",
       "    </tr>\n",
       "    <tr>\n",
       "      <th>109</th>\n",
       "      <td>sampai kapan pun saya tidak sudi berbagi sama <font color = red>orang</font> yang tidak tahu <font color = red>terima</font> <font color = red>kasih</font> biarpun dia <font color = red>keluarga</font> saya sendiri</td>\n",
       "      <td>sampai kapan pun saya tidak sudi berbagi sama <font color = blue>muda</font> yang tidak tahu <font color = blue>muat</font> <font color = blue>cinta</font> biarpun dia <font color = blue>kategori</font> saya sendiri</td>\n",
       "    </tr>\n",
       "    <tr>\n",
       "      <th>110</th>\n",
       "      <td>gue tidak puas sama pelayanan kerja di tempat kemarin <font color = red>hak</font> <font color = red>hak</font> karyawan dibatesin banget</td>\n",
       "      <td>gue tidak puas sama pelayanan kerja di tempat kemarin <font color = blue>peluang</font> <font color = blue>peluang</font> karyawan dibatesin banget</td>\n",
       "    </tr>\n",
       "    <tr>\n",
       "      <th>111</th>\n",
       "      <td>gue enggak <font color = red>suka</font> sama <font color = red>pelatih</font> timnas yang sekarang <font color = red>strategi</font> yang dibikin nya tidak bisa dipakai buat <font color = red>mengalahkan</font> <font color = red>lawan</font></td>\n",
       "      <td>gue enggak <font color = green>minat</font> sama <font color = green>sel</font> timnas yang sekarang <font color = green>rencana</font> yang dibikin nya tidak bisa dipakai buat <font color = green>tewas</font> <font color = green>musuh</font></td>\n",
       "    </tr>\n",
       "    <tr>\n",
       "      <th>112</th>\n",
       "      <td>harus nya pop ditenggelamkan di indonesia karena cuma bikin <font color = red>anak</font> muda lupa <font color = red>agama</font></td>\n",
       "      <td>harus nya pop ditenggelamkan di indonesia karena cuma bikin <font color = blue>muda</font> muda lupa <font color = blue>keagamaan</font></td>\n",
       "    </tr>\n",
       "    <tr>\n",
       "      <th>113</th>\n",
       "      <td>kagak ada faedah nya kenal kpop yang ada mata kita dibutakan terus bikin kita muja muja <font color = red>manusia</font></td>\n",
       "      <td>kagak ada faedah nya kenal kpop yang ada mata kita dibutakan terus bikin kita muja muja <font color = blue>unik</font></td>\n",
       "    </tr>\n",
       "    <tr>\n",
       "      <th>114</th>\n",
       "      <td>sudah berkali kali <font color = red>mencoba</font> produk apple tetap tidak <font color = red>suka</font></td>\n",
       "      <td>sudah berkali kali <font color = green>periksa</font> produk apple tetap tidak <font color = green>bagai</font></td>\n",
       "    </tr>\n",
       "    <tr>\n",
       "      <th>115</th>\n",
       "      <td>produk lokal memang <font color = red>cetek</font></td>\n",
       "      <td>produk lokal memang <font color = green>dangkal</font></td>\n",
       "    </tr>\n",
       "    <tr>\n",
       "      <th>116</th>\n",
       "      <td>percuma ganti presiden <font color = red>kayak</font> <font color = red>makan</font> <font color = red>buah</font> simalakama tidak ada <font color = red>untung</font> nya</td>\n",
       "      <td>percuma ganti presiden <font color = green>bagai</font> <font color = green>serap</font> <font color = green>beri</font> simalakama tidak ada <font color = green>nasib</font> nya</td>\n",
       "    </tr>\n",
       "    <tr>\n",
       "      <th>117</th>\n",
       "      <td>sebenarnya yang dicari sama para pejabat di indonesia hanyalah kekuasaan bukan mensejahterakan <font color = red>rakyat</font> <font color = red>payah</font></td>\n",
       "      <td>sebenarnya yang dicari sama para pejabat di indonesia hanyalah kekuasaan bukan mensejahterakan <font color = green>warga</font> <font color = green>kompleks</font></td>\n",
       "    </tr>\n",
       "    <tr>\n",
       "      <th>118</th>\n",
       "      <td>pemain persib main nya <font color = red>jelek</font></td>\n",
       "      <td>pemain persib main nya <font color = blue>dahsyat</font></td>\n",
       "    </tr>\n",
       "    <tr>\n",
       "      <th>119</th>\n",
       "      <td><font color = red>artis</font> cowok pop <font color = red>banci</font> semua</td>\n",
       "      <td><font color = blue>artisan</font> cowok pop <font color = blue>cacah</font> semua</td>\n",
       "    </tr>\n",
       "    <tr>\n",
       "      <th>120</th>\n",
       "      <td>harga <font color = red>baju</font> di ramayana tidak sebanding sama kualitas <font color = red>baju</font> nya</td>\n",
       "      <td>harga <font color = green>angka</font> di ramayana tidak sebanding sama kualitas <font color = green>angka</font> nya</td>\n",
       "    </tr>\n",
       "    <tr>\n",
       "      <th>121</th>\n",
       "      <td>sinyal xl <font color = red>jelek</font> banget di sini</td>\n",
       "      <td>sinyal xl <font color = blue>dahsyat</font> banget di sini</td>\n",
       "    </tr>\n",
       "    <tr>\n",
       "      <th>122</th>\n",
       "      <td><font color = red>sumpah</font> ya kesel banget melihat <font color = red>orang</font> yang <font color = red>sok</font> tahu <font color = red>kayak</font> anies</td>\n",
       "      <td><font color = green>berbakti</font> ya kesel banget melihat <font color = green>bentuk</font> yang <font color = green>terenyuh</font> tahu <font color = green>bagai</font> anies</td>\n",
       "    </tr>\n",
       "    <tr>\n",
       "      <th>123</th>\n",
       "      <td>handphone samsung <font color = red>jelek</font> gampang <font color = red>rusak</font></td>\n",
       "      <td>handphone samsung <font color = green>dahsyat</font> gampang <font color = green>kupak</font></td>\n",
       "    </tr>\n",
       "    <tr>\n",
       "      <th>124</th>\n",
       "      <td>hai prabowo daripada <font color = red>malu</font> <font color = red>mending</font> tidak usah naik jadi <font color = red>presiden</font> tahun ini</td>\n",
       "      <td>hai prabowo daripada <font color = green>canggung</font> <font color = green>lurus</font> tidak usah naik jadi <font color = green>ketua</font> tahun ini</td>\n",
       "    </tr>\n",
       "    <tr>\n",
       "      <th>125</th>\n",
       "      <td>apa bagus nya <font color = red>ya</font> itu acara l men <font color = red>jijik</font> gue sih <font color = red>liat</font> nya</td>\n",
       "      <td>apa bagus nya <font color = blue>yakin</font> itu acara l men <font color = blue>berlumar</font> gue sih <font color = blue>kenyal</font> nya</td>\n",
       "    </tr>\n",
       "    <tr>\n",
       "      <th>126</th>\n",
       "      <td>sinetron di <font color = red>indonesia</font> mana ada yang <font color = red>bagus</font></td>\n",
       "      <td>sinetron di <font color = green>Hindia-Belanda</font> mana ada yang <font color = green>cantik</font></td>\n",
       "    </tr>\n",
       "    <tr>\n",
       "      <th>127</th>\n",
       "      <td>gue enggak <font color = red>suka</font> anggun jadi duta shampoo</td>\n",
       "      <td>gue enggak <font color = green>minat</font> anggun jadi duta shampoo</td>\n",
       "    </tr>\n",
       "    <tr>\n",
       "      <th>128</th>\n",
       "      <td>semua program yang ada ya kuya nya tidak pernah <font color = red>berfaedah</font></td>\n",
       "      <td>semua program yang ada ya kuya nya tidak pernah <font color = blue>bagus</font></td>\n",
       "    </tr>\n",
       "    <tr>\n",
       "      <th>129</th>\n",
       "      <td>sekarang makin banyak <font color = red>orang</font> yang nga ku islami tapi <font color = red>akhlak</font> kagak dijaga selalu merasa jadi <font color = red>orang</font> paling benar</td>\n",
       "      <td>sekarang makin banyak <font color = blue>muda</font> yang nga ku islami tapi <font color = blue>jenis</font> kagak dijaga selalu merasa jadi <font color = blue>muda</font> paling benar</td>\n",
       "    </tr>\n",
       "    <tr>\n",
       "      <th>130</th>\n",
       "      <td>gue enggak suka itu sama <font color = red>orang</font> <font color = red>orang</font> yang pakai alasan <font color = red>agama</font> buat menang di <font color = red>dunia</font> <font color = red>politik</font></td>\n",
       "      <td>gue enggak suka itu sama <font color = green>bentuk</font> <font color = green>bentuk</font> yang pakai alasan <font color = green>keagamaan</font> buat menang di <font color = green>alam</font> <font color = green>berpolitik</font></td>\n",
       "    </tr>\n",
       "    <tr>\n",
       "      <th>131</th>\n",
       "      <td>tidak suka sama laptop merek acer cepat <font color = red>rusak</font> kakak</td>\n",
       "      <td>tidak suka sama laptop merek acer cepat <font color = green>kupak</font> kakak</td>\n",
       "    </tr>\n",
       "    <tr>\n",
       "      <th>132</th>\n",
       "      <td>dulu pernah <font color = red>mencoba</font> belajar renang tapi <font color = red>tenggelam</font> terus sekarang tidak mau lagi deh gue renang <font color = red>trauma</font> <font color = red>seram</font></td>\n",
       "      <td>dulu pernah <font color = blue>contoh</font> belajar renang tapi <font color = blue>rindu</font> terus sekarang tidak mau lagi deh gue renang <font color = blue>dahsyat</font> <font color = blue>dahsyat</font></td>\n",
       "    </tr>\n",
       "    <tr>\n",
       "      <th>133</th>\n",
       "      <td>kalau suruh milih gue lebih <font color = blue>suka</font> belanja di shopee pelayanan nya nomor</td>\n",
       "      <td>kalau suruh milih gue lebih <font color = green>harap</font> belanja di shopee pelayanan nya nomor</td>\n",
       "    </tr>\n",
       "    <tr>\n",
       "      <th>134</th>\n",
       "      <td>kalau mau karaoke enak lu datang saja ke studio karaoke harga nya juga terjangkau <font color = blue>banget</font></td>\n",
       "      <td>kalau mau karaoke enak lu datang saja ke studio karaoke harga nya juga terjangkau <font color = red>begitu</font></td>\n",
       "    </tr>\n",
       "    <tr>\n",
       "      <th>135</th>\n",
       "      <td>xiamo sudah paling <font color = blue>enak</font> sih kualitas nya <font color = blue>mantap</font> harga nya juga kejangkau</td>\n",
       "      <td>xiamo sudah paling <font color = red>waras</font> sih kualitas nya <font color = red>stabil</font> harga nya juga kejangkau</td>\n",
       "    </tr>\n",
       "    <tr>\n",
       "      <th>136</th>\n",
       "      <td>jam tangan switch selalu kasih model yang terkini pilihan warna nya juga bagus <font color = blue>bagus</font></td>\n",
       "      <td>jam tangan switch selalu kasih model yang terkini pilihan warna nya juga bagus <font color = red>pintar</font></td>\n",
       "    </tr>\n",
       "    <tr>\n",
       "      <th>137</th>\n",
       "      <td>recheese nabati yang keju <font color = blue>enak</font> banget</td>\n",
       "      <td>recheese nabati yang keju <font color = red>waras</font> banget</td>\n",
       "    </tr>\n",
       "    <tr>\n",
       "      <th>138</th>\n",
       "      <td>yang gue suka dari indonesia adalah budaya nya yang kental <font color = blue>banget</font></td>\n",
       "      <td>yang gue suka dari indonesia adalah budaya nya yang kental <font color = red>begitu</font></td>\n",
       "    </tr>\n",
       "    <tr>\n",
       "      <th>139</th>\n",
       "      <td>lagu lagu indie itu selalu <font color = blue>enak</font> didenger</td>\n",
       "      <td>lagu lagu indie itu selalu <font color = red>waras</font> didenger</td>\n",
       "    </tr>\n",
       "    <tr>\n",
       "      <th>140</th>\n",
       "      <td>gue paling suka tisu merek paseo karena <font color = blue>lembut</font> banget</td>\n",
       "      <td>gue paling suka tisu merek paseo karena <font color = red>lemah</font> banget</td>\n",
       "    </tr>\n",
       "    <tr>\n",
       "      <th>141</th>\n",
       "      <td>mouse logitech lucu lucu desain nya hampir semuanya gue <font color = blue>suka</font></td>\n",
       "      <td>mouse logitech lucu lucu desain nya hampir semuanya gue <font color = red>harap</font></td>\n",
       "    </tr>\n",
       "    <tr>\n",
       "      <th>142</th>\n",
       "      <td>lagu nya richard marx selalu syahdu <font color = blue>enak</font> didengar berulang ulang</td>\n",
       "      <td>lagu nya richard marx selalu syahdu <font color = red>waras</font> didengar berulang ulang</td>\n",
       "    </tr>\n",
       "    <tr>\n",
       "      <th>143</th>\n",
       "      <td><font color = blue>bangga</font> deh sama jokowi maju terus pak</td>\n",
       "      <td><font color = red>sombong</font> deh sama jokowi maju terus pak</td>\n",
       "    </tr>\n",
       "    <tr>\n",
       "      <th>144</th>\n",
       "      <td>gue lebih milih makan di restoran yang bersih dan makanan nya <font color = blue>enak</font> kayak di ampera</td>\n",
       "      <td>gue lebih milih makan di restoran yang bersih dan makanan nya <font color = red>waras</font> kayak di ampera</td>\n",
       "    </tr>\n",
       "    <tr>\n",
       "      <th>145</th>\n",
       "      <td>pelayanan bank bni selalu memuaskan ramah <font color = blue>ramah</font> <font color = blue>banget</font> orang nya</td>\n",
       "      <td>pelayanan bank bni selalu memuaskan ramah <font color = red>minat</font> <font color = red>begitu</font> orang nya</td>\n",
       "    </tr>\n",
       "    <tr>\n",
       "      <th>146</th>\n",
       "      <td>gue dari dulu selalu <font color = blue>suka</font> momogi rasanya ketagihan banget</td>\n",
       "      <td>gue dari dulu selalu <font color = red>harap</font> momogi rasanya ketagihan banget</td>\n",
       "    </tr>\n",
       "    <tr>\n",
       "      <th>147</th>\n",
       "      <td>indomie sih enggak usah ditanya lagi naik gunung cuma bawa indomie saja sudah cukup buat gue sudah bisa melengkapi kebahagiaan indomie <font color = blue>mantap</font></td>\n",
       "      <td>indomie sih enggak usah ditanya lagi naik gunung cuma bawa indomie saja sudah cukup buat gue sudah bisa melengkapi kebahagiaan indomie <font color = red>utuh</font></td>\n",
       "    </tr>\n",
       "    <tr>\n",
       "      <th>148</th>\n",
       "      <td>tidak pernah <font color = blue>kecewa</font> sama <font color = blue>model</font> sepatu nike selalu elegan</td>\n",
       "      <td>tidak pernah <font color = green>hambar</font> sama <font color = green>pola</font> sepatu nike selalu elegan</td>\n",
       "    </tr>\n",
       "    <tr>\n",
       "      <th>149</th>\n",
       "      <td>kalau disuruh milih antara koi sama chatime mending koi ke mana mana harga murah rasa <font color = blue>juara</font></td>\n",
       "      <td>kalau disuruh milih antara koi sama chatime mending koi ke mana mana harga murah rasa <font color = red>johan</font></td>\n",
       "    </tr>\n",
       "    <tr>\n",
       "      <th>150</th>\n",
       "      <td>salut sama rk gue yakin jawa barat bakal <font color = blue>juara</font></td>\n",
       "      <td>salut sama rk gue yakin jawa barat bakal <font color = green>pintar</font></td>\n",
       "    </tr>\n",
       "    <tr>\n",
       "      <th>151</th>\n",
       "      <td>kopi paling <font color = blue>enak</font> menurut gue torabika</td>\n",
       "      <td>kopi paling <font color = red>waras</font> menurut gue torabika</td>\n",
       "    </tr>\n",
       "    <tr>\n",
       "      <th>152</th>\n",
       "      <td>bandung itu kota paling <font color = blue>nyaman</font> buat ditempatkan</td>\n",
       "      <td>bandung itu kota paling <font color = red>sedap</font> buat ditempatkan</td>\n",
       "    </tr>\n",
       "    <tr>\n",
       "      <th>153</th>\n",
       "      <td>distro baju di bandung ternyata bagus <font color = blue>bagus</font> deh harga nya juga sesuai</td>\n",
       "      <td>distro baju di bandung ternyata bagus <font color = red>pintar</font> deh harga nya juga sesuai</td>\n",
       "    </tr>\n",
       "    <tr>\n",
       "      <th>154</th>\n",
       "      <td>aku <font color = blue>bangga</font> jadi anak indonesia</td>\n",
       "      <td>aku <font color = red>sombong</font> jadi anak indonesia</td>\n",
       "    </tr>\n",
       "    <tr>\n",
       "      <th>155</th>\n",
       "      <td>salut deh sama keberanian <font color = blue>bu</font> susi</td>\n",
       "      <td>salut deh sama keberanian <font color = red>wanita</font> susi</td>\n",
       "    </tr>\n",
       "    <tr>\n",
       "      <th>156</th>\n",
       "      <td>suka banget sama desain toko pedia bikin mata <font color = blue>segar</font></td>\n",
       "      <td>suka banget sama desain toko pedia bikin mata <font color = red>kasar</font></td>\n",
       "    </tr>\n",
       "    <tr>\n",
       "      <th>157</th>\n",
       "      <td>gue <font color = blue>senang</font> banget belanja di shopee banyak promo nya</td>\n",
       "      <td>gue <font color = red>mewah</font> banget belanja di shopee banyak promo nya</td>\n",
       "    </tr>\n",
       "    <tr>\n",
       "      <th>158</th>\n",
       "      <td>alun alun bandung nyaman banget buat nongkrong nongkrong sama <font color = blue>keluarga</font> atau <font color = blue>teman</font></td>\n",
       "      <td>alun alun bandung nyaman banget buat nongkrong nongkrong sama <font color = red>kelompok</font> atau <font color = red>saudara</font></td>\n",
       "    </tr>\n",
       "    <tr>\n",
       "      <th>159</th>\n",
       "      <td>aku seneng <font color = blue>banget</font> sama desain interior cgv beda sama bioskop bioskop lain</td>\n",
       "      <td>aku seneng <font color = red>begitu</font> sama desain interior cgv beda sama bioskop bioskop lain</td>\n",
       "    </tr>\n",
       "    <tr>\n",
       "      <th>160</th>\n",
       "      <td>indomie goreng rasa rendang rasanya <font color = blue>enak</font> banget <font color = blue>enak</font> banget</td>\n",
       "      <td>indomie goreng rasa rendang rasanya <font color = red>waras</font> banget <font color = red>waras</font> banget</td>\n",
       "    </tr>\n",
       "    <tr>\n",
       "      <th>161</th>\n",
       "      <td>bogor memang <font color = red>suka</font> macet tiap akhir pekan melelahkan</td>\n",
       "      <td>bogor memang <font color = green>minat</font> macet tiap akhir pekan melelahkan</td>\n",
       "    </tr>\n",
       "    <tr>\n",
       "      <th>162</th>\n",
       "      <td>kemajuan teknologi di indonesia makin ke sini makin <font color = green>berkembang</font></td>\n",
       "      <td>kemajuan teknologi di indonesia makin ke sini makin <font color = red>bangkit</font></td>\n",
       "    </tr>\n",
       "    <tr>\n",
       "      <th>163</th>\n",
       "      <td>wortel mengandung vitamin a yang bisa <font color = green>jaga</font> kesehatan mata</td>\n",
       "      <td>wortel mengandung vitamin a yang bisa <font color = red>heran</font> kesehatan mata</td>\n",
       "    </tr>\n",
       "    <tr>\n",
       "      <th>164</th>\n",
       "      <td>tukang bubur naik haji sudah <font color = green>stop</font> <font color = green>produksi</font></td>\n",
       "      <td>tukang bubur naik haji sudah <font color = red>mati</font> <font color = red>hasil</font></td>\n",
       "    </tr>\n",
       "    <tr>\n",
       "      <th>165</th>\n",
       "      <td>sandiaga uno <font color = green>salah</font> satu <font color = green>orang</font> terkaya di indonesia</td>\n",
       "      <td>sandiaga uno <font color = red>bohong</font> satu <font color = red>laki-laki</font> terkaya di indonesia</td>\n",
       "    </tr>\n",
       "    <tr>\n",
       "      <th>166</th>\n",
       "      <td>di bandung banyak tempat yang bisa didatangkan buat wisata sama keluarga yang tempat nya <font color = blue>bagus</font> <font color = blue>bagus</font></td>\n",
       "      <td>di bandung banyak tempat yang bisa didatangkan buat wisata sama keluarga yang tempat nya <font color = red>pintar</font> <font color = red>sedap</font></td>\n",
       "    </tr>\n",
       "    <tr>\n",
       "      <th>167</th>\n",
       "      <td>kata nya tidur yang baik itu <font color = green>minimal</font> enam jam sehari</td>\n",
       "      <td>kata nya tidur yang baik itu <font color = red>sedikit-dikitnya</font> enam jam sehari</td>\n",
       "    </tr>\n",
       "    <tr>\n",
       "      <th>168</th>\n",
       "      <td>melihat warna hijau bisa bikin <font color = blue>mata</font> jadi lebih santai</td>\n",
       "      <td>melihat warna hijau bisa bikin <font color = red>kepala</font> jadi lebih santai</td>\n",
       "    </tr>\n",
       "  </tbody>\n",
       "</table>"
      ],
      "text/plain": [
       "<IPython.core.display.HTML object>"
      ]
     },
     "metadata": {},
     "output_type": "display_data"
    }
   ],
   "source": [
    "pd.options.display.max_colwidth = (\n",
    "    480  # increase colum width so we can actually read the examples\n",
    ")\n",
    "\n",
    "logger = CSVLogger(color_method=\"html\")\n",
    "\n",
    "for result in attack_results:\n",
    "    if isinstance(result, SuccessfulAttackResult):\n",
    "        logger.log_attack_result(result)\n",
    "\n",
    "from IPython.core.display import display, HTML\n",
    "\n",
    "results = pd.DataFrame.from_records(logger.row_list)\n",
    "display(HTML(results[[\"original_text\", \"perturbed_text\"]].to_html(escape=False)))"
   ]
  }
 ],
 "metadata": {
  "kernelspec": {
   "display_name": "Python 3",
   "language": "python",
   "name": "python3"
  },
  "language_info": {
   "codemirror_mode": {
    "name": "ipython",
    "version": 3
   },
   "file_extension": ".py",
   "mimetype": "text/x-python",
   "name": "python",
   "nbconvert_exporter": "python",
   "pygments_lexer": "ipython3",
   "version": "3.10.11"
  }
 },
 "nbformat": 4,
 "nbformat_minor": 2
}
