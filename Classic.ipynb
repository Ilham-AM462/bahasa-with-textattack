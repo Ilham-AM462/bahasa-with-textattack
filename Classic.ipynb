{
 "cells": [
  {
   "cell_type": "code",
   "execution_count": 1,
   "metadata": {},
   "outputs": [
    {
     "name": "stdout",
     "output_type": "stream",
     "text": [
      "WARNING:tensorflow:From C:\\Users\\Ilham AM\\AppData\\Roaming\\Python\\Python310\\site-packages\\keras\\src\\losses.py:2976: The name tf.losses.sparse_softmax_cross_entropy is deprecated. Please use tf.compat.v1.losses.sparse_softmax_cross_entropy instead.\n",
      "\n"
     ]
    }
   ],
   "source": [
    "import pandas as pd\n",
    "import re\n",
    "from nltk import word_tokenize\n",
    "from sklearn.linear_model import LogisticRegression\n",
    "from sklearn import preprocessing\n",
    "from sklearn.naive_bayes import MultinomialNB\n",
    "from sklearn.metrics import classification_report\n",
    "\n",
    "from Sastrawi.Stemmer.StemmerFactory import StemmerFactory\n",
    "from nltk.tokenize import word_tokenize\n",
    "import nltk\n",
    "from nltk.corpus import wordnet\n",
    "from Sastrawi.StopWordRemover.StopWordRemoverFactory import StopWordRemoverFactory\n",
    "from sklearn.feature_extraction.text import CountVectorizer, TfidfVectorizer\n",
    "\n",
    "import textattack\n",
    "from textattack.models.wrappers.model_wrapper import ModelWrapper\n",
    "from textattack.transformations.word_swaps import WordSwap\n",
    "from textattack import Attack\n",
    "from textattack.constraints.pre_transformation import (\n",
    "    RepeatModification,\n",
    "    StopwordModification,\n",
    ")\n",
    "from textattack.goal_functions import UntargetedClassification\n",
    "from textattack.search_methods import GreedyWordSwapWIR\n",
    "from textattack.attack_recipes import AttackRecipe\n",
    "from textattack.datasets import HuggingFaceDataset\n",
    "from textattack import Attacker\n",
    "from textattack.attacker import AttackArgs\n"
   ]
  },
  {
   "cell_type": "code",
   "execution_count": 2,
   "metadata": {},
   "outputs": [],
   "source": [
    "def load_data(dataset_split=\"train\"):\n",
    "    df = pd.read_csv(f'LabelEncoded_{dataset_split}_data.csv')\n",
    "    # Remove non-alphanumeric characters\n",
    "    df[\"text\"] = df[\"text\"].apply(lambda x: re.sub(\"[^a-zA-Z]\", \" \", str(x)))\n",
    "    df['text'] = df['text'].apply(lambda x: re.sub('  +', ' ', str(x)))\n",
    "    df['text'] = df['text'].apply(lambda x: re.sub('\\n', ' ', str(x)))\n",
    "    df['text'] = df['text'].apply(lambda x: re.sub('((www\\.[^\\s]+)|(https?://[^\\s]+)|(http?://[^\\s]+))', '', str(x)))\n",
    "    # Tokenize the training and testing data\n",
    "    df_tokenized = tokenize_review(df)\n",
    "    return df_tokenized\n",
    "\n",
    "def tokenize_review(df):\n",
    "    # Tokenize Reviews in the DataFrame\n",
    "    tokened_reviews = [word_tokenize(rev) for rev in df[\"text\"]]\n",
    "    \n",
    "    # Initialize the Indonesian stemmer\n",
    "    factory = StemmerFactory()\n",
    "    stemmer = factory.create_stemmer()\n",
    "\n",
    "    # Stem tokens for each review in Indonesian\n",
    "    stemmed_tokens = []\n",
    "    for tokens in tokened_reviews:\n",
    "        # Join the tokens into a single string for stemming, since Sastrawi expects a sentence\n",
    "        sentence = \" \".join(tokens)\n",
    "        # Perform stemming on the whole sentence\n",
    "        stemmed_sentence = stemmer.stem(sentence)\n",
    "        stemmed_tokens.append(stemmed_sentence)\n",
    "\n",
    "    # Insert the stemmed reviews into the DataFrame\n",
    "    df.insert(1, column=\"Stemmed\", value=stemmed_tokens)\n",
    "    \n",
    "    return df"
   ]
  },
  {
   "cell_type": "code",
   "execution_count": 3,
   "metadata": {},
   "outputs": [],
   "source": [
    "df_train = load_data(\"train\")\n",
    "df_test = load_data('test')"
   ]
  },
  {
   "cell_type": "code",
   "execution_count": 4,
   "metadata": {},
   "outputs": [
    {
     "data": {
      "text/html": [
       "<div>\n",
       "<style scoped>\n",
       "    .dataframe tbody tr th:only-of-type {\n",
       "        vertical-align: middle;\n",
       "    }\n",
       "\n",
       "    .dataframe tbody tr th {\n",
       "        vertical-align: top;\n",
       "    }\n",
       "\n",
       "    .dataframe thead th {\n",
       "        text-align: right;\n",
       "    }\n",
       "</style>\n",
       "<table border=\"1\" class=\"dataframe\">\n",
       "  <thead>\n",
       "    <tr style=\"text-align: right;\">\n",
       "      <th></th>\n",
       "      <th>text</th>\n",
       "      <th>Stemmed</th>\n",
       "      <th>label</th>\n",
       "      <th>source</th>\n",
       "    </tr>\n",
       "  </thead>\n",
       "  <tbody>\n",
       "    <tr>\n",
       "      <th>0</th>\n",
       "      <td>warung ini dimiliki oleh pengusaha pabrik tahu...</td>\n",
       "      <td>warung ini milik oleh usaha pabrik tahu yang s...</td>\n",
       "      <td>2</td>\n",
       "      <td>indonlue/smsa</td>\n",
       "    </tr>\n",
       "    <tr>\n",
       "      <th>1</th>\n",
       "      <td>mohon ulama lurus dan k mmbri hujjah partai ap...</td>\n",
       "      <td>mohon ulama lurus dan k mmbri hujjah partai ap...</td>\n",
       "      <td>1</td>\n",
       "      <td>indonlue/smsa</td>\n",
       "    </tr>\n",
       "    <tr>\n",
       "      <th>2</th>\n",
       "      <td>lokasi strategis di jalan sumatera bandung tem...</td>\n",
       "      <td>lokasi strategis di jalan sumatera bandung tem...</td>\n",
       "      <td>2</td>\n",
       "      <td>indonlue/smsa</td>\n",
       "    </tr>\n",
       "    <tr>\n",
       "      <th>3</th>\n",
       "      <td>betapa bahagia nya diri ini saat unboxing pake...</td>\n",
       "      <td>betapa bahagia nya diri ini saat unboxing pake...</td>\n",
       "      <td>2</td>\n",
       "      <td>indonlue/smsa</td>\n",
       "    </tr>\n",
       "    <tr>\n",
       "      <th>4</th>\n",
       "      <td>duh jadi mahasiswa jangan sombong dong kasih k...</td>\n",
       "      <td>duh jadi mahasiswa jangan sombong dong kasih k...</td>\n",
       "      <td>0</td>\n",
       "      <td>indonlue/smsa</td>\n",
       "    </tr>\n",
       "    <tr>\n",
       "      <th>...</th>\n",
       "      <td>...</td>\n",
       "      <td>...</td>\n",
       "      <td>...</td>\n",
       "      <td>...</td>\n",
       "    </tr>\n",
       "    <tr>\n",
       "      <th>10995</th>\n",
       "      <td>tidak kecewa</td>\n",
       "      <td>tidak kecewa</td>\n",
       "      <td>2</td>\n",
       "      <td>indonlue/smsa</td>\n",
       "    </tr>\n",
       "    <tr>\n",
       "      <th>10996</th>\n",
       "      <td>enak rasa masakan nya apalagi kepiting yang me...</td>\n",
       "      <td>enak rasa masakan nya apalagi kepiting yang se...</td>\n",
       "      <td>2</td>\n",
       "      <td>indonlue/smsa</td>\n",
       "    </tr>\n",
       "    <tr>\n",
       "      <th>10997</th>\n",
       "      <td>hormati partai partai yang telah berkoalisi</td>\n",
       "      <td>hormat partai partai yang telah koalisi</td>\n",
       "      <td>1</td>\n",
       "      <td>indonlue/smsa</td>\n",
       "    </tr>\n",
       "    <tr>\n",
       "      <th>10998</th>\n",
       "      <td>pagi pagi di tol pasteur sudah macet parah bik...</td>\n",
       "      <td>pagi pagi di tol pasteur sudah macet parah bik...</td>\n",
       "      <td>0</td>\n",
       "      <td>indonlue/smsa</td>\n",
       "    </tr>\n",
       "    <tr>\n",
       "      <th>10999</th>\n",
       "      <td>meskipun sering belanja ke yogya di riau junct...</td>\n",
       "      <td>meski sering belanja ke yogya di riau junction...</td>\n",
       "      <td>2</td>\n",
       "      <td>indonlue/smsa</td>\n",
       "    </tr>\n",
       "  </tbody>\n",
       "</table>\n",
       "<p>11000 rows × 4 columns</p>\n",
       "</div>"
      ],
      "text/plain": [
       "                                                    text  \\\n",
       "0      warung ini dimiliki oleh pengusaha pabrik tahu...   \n",
       "1      mohon ulama lurus dan k mmbri hujjah partai ap...   \n",
       "2      lokasi strategis di jalan sumatera bandung tem...   \n",
       "3      betapa bahagia nya diri ini saat unboxing pake...   \n",
       "4      duh jadi mahasiswa jangan sombong dong kasih k...   \n",
       "...                                                  ...   \n",
       "10995                                       tidak kecewa   \n",
       "10996  enak rasa masakan nya apalagi kepiting yang me...   \n",
       "10997        hormati partai partai yang telah berkoalisi   \n",
       "10998  pagi pagi di tol pasteur sudah macet parah bik...   \n",
       "10999  meskipun sering belanja ke yogya di riau junct...   \n",
       "\n",
       "                                                 Stemmed  label         source  \n",
       "0      warung ini milik oleh usaha pabrik tahu yang s...      2  indonlue/smsa  \n",
       "1      mohon ulama lurus dan k mmbri hujjah partai ap...      1  indonlue/smsa  \n",
       "2      lokasi strategis di jalan sumatera bandung tem...      2  indonlue/smsa  \n",
       "3      betapa bahagia nya diri ini saat unboxing pake...      2  indonlue/smsa  \n",
       "4      duh jadi mahasiswa jangan sombong dong kasih k...      0  indonlue/smsa  \n",
       "...                                                  ...    ...            ...  \n",
       "10995                                       tidak kecewa      2  indonlue/smsa  \n",
       "10996  enak rasa masakan nya apalagi kepiting yang se...      2  indonlue/smsa  \n",
       "10997            hormat partai partai yang telah koalisi      1  indonlue/smsa  \n",
       "10998  pagi pagi di tol pasteur sudah macet parah bik...      0  indonlue/smsa  \n",
       "10999  meski sering belanja ke yogya di riau junction...      2  indonlue/smsa  \n",
       "\n",
       "[11000 rows x 4 columns]"
      ]
     },
     "execution_count": 4,
     "metadata": {},
     "output_type": "execute_result"
    }
   ],
   "source": [
    "df_train"
   ]
  },
  {
   "cell_type": "code",
   "execution_count": 5,
   "metadata": {},
   "outputs": [],
   "source": [
    "def add_augmenting_features(df):\n",
    "    tokened_reviews = [word_tokenize(rev) for rev in df[\"text\"]]\n",
    "    # Create feature that measures length of reviews\n",
    "    len_tokens = []\n",
    "    for i in range(len(tokened_reviews)):\n",
    "        len_tokens.append(len(tokened_reviews[i]))\n",
    "    len_tokens = preprocessing.scale(len_tokens)\n",
    "    df.insert(0, column=\"Lengths\", value=len_tokens)\n",
    "\n",
    "    # Create average word length (training)\n",
    "    Average_Words = [len(x) / (len(x.split())) for x in df[\"text\"].tolist()]\n",
    "    Average_Words = preprocessing.scale(Average_Words)\n",
    "    df[\"averageWords\"] = Average_Words\n",
    "    return df"
   ]
  },
  {
   "cell_type": "code",
   "execution_count": 6,
   "metadata": {},
   "outputs": [],
   "source": [
    "df_train = add_augmenting_features(df_train)\n",
    "df_test = add_augmenting_features(df_test)"
   ]
  },
  {
   "cell_type": "code",
   "execution_count": 7,
   "metadata": {},
   "outputs": [
    {
     "data": {
      "text/html": [
       "<div>\n",
       "<style scoped>\n",
       "    .dataframe tbody tr th:only-of-type {\n",
       "        vertical-align: middle;\n",
       "    }\n",
       "\n",
       "    .dataframe tbody tr th {\n",
       "        vertical-align: top;\n",
       "    }\n",
       "\n",
       "    .dataframe thead th {\n",
       "        text-align: right;\n",
       "    }\n",
       "</style>\n",
       "<table border=\"1\" class=\"dataframe\">\n",
       "  <thead>\n",
       "    <tr style=\"text-align: right;\">\n",
       "      <th></th>\n",
       "      <th>Lengths</th>\n",
       "      <th>text</th>\n",
       "      <th>Stemmed</th>\n",
       "      <th>label</th>\n",
       "      <th>source</th>\n",
       "      <th>averageWords</th>\n",
       "    </tr>\n",
       "  </thead>\n",
       "  <tbody>\n",
       "    <tr>\n",
       "      <th>0</th>\n",
       "      <td>1.456633</td>\n",
       "      <td>warung ini dimiliki oleh pengusaha pabrik tahu...</td>\n",
       "      <td>warung ini milik oleh usaha pabrik tahu yang s...</td>\n",
       "      <td>2</td>\n",
       "      <td>indonlue/smsa</td>\n",
       "      <td>1.007417</td>\n",
       "    </tr>\n",
       "    <tr>\n",
       "      <th>1</th>\n",
       "      <td>-0.594078</td>\n",
       "      <td>mohon ulama lurus dan k mmbri hujjah partai ap...</td>\n",
       "      <td>mohon ulama lurus dan k mmbri hujjah partai ap...</td>\n",
       "      <td>1</td>\n",
       "      <td>indonlue/smsa</td>\n",
       "      <td>-1.261937</td>\n",
       "    </tr>\n",
       "    <tr>\n",
       "      <th>2</th>\n",
       "      <td>-0.054417</td>\n",
       "      <td>lokasi strategis di jalan sumatera bandung tem...</td>\n",
       "      <td>lokasi strategis di jalan sumatera bandung tem...</td>\n",
       "      <td>2</td>\n",
       "      <td>indonlue/smsa</td>\n",
       "      <td>-0.141996</td>\n",
       "    </tr>\n",
       "    <tr>\n",
       "      <th>3</th>\n",
       "      <td>-0.755976</td>\n",
       "      <td>betapa bahagia nya diri ini saat unboxing pake...</td>\n",
       "      <td>betapa bahagia nya diri ini saat unboxing pake...</td>\n",
       "      <td>2</td>\n",
       "      <td>indonlue/smsa</td>\n",
       "      <td>-0.436717</td>\n",
       "    </tr>\n",
       "    <tr>\n",
       "      <th>4</th>\n",
       "      <td>0.161447</td>\n",
       "      <td>duh jadi mahasiswa jangan sombong dong kasih k...</td>\n",
       "      <td>duh jadi mahasiswa jangan sombong dong kasih k...</td>\n",
       "      <td>0</td>\n",
       "      <td>indonlue/smsa</td>\n",
       "      <td>0.027469</td>\n",
       "    </tr>\n",
       "    <tr>\n",
       "      <th>...</th>\n",
       "      <td>...</td>\n",
       "      <td>...</td>\n",
       "      <td>...</td>\n",
       "      <td>...</td>\n",
       "      <td>...</td>\n",
       "      <td>...</td>\n",
       "    </tr>\n",
       "    <tr>\n",
       "      <th>10995</th>\n",
       "      <td>-1.457535</td>\n",
       "      <td>tidak kecewa</td>\n",
       "      <td>tidak kecewa</td>\n",
       "      <td>2</td>\n",
       "      <td>indonlue/smsa</td>\n",
       "      <td>-0.436717</td>\n",
       "    </tr>\n",
       "    <tr>\n",
       "      <th>10996</th>\n",
       "      <td>-0.270282</td>\n",
       "      <td>enak rasa masakan nya apalagi kepiting yang me...</td>\n",
       "      <td>enak rasa masakan nya apalagi kepiting yang se...</td>\n",
       "      <td>2</td>\n",
       "      <td>indonlue/smsa</td>\n",
       "      <td>0.182197</td>\n",
       "    </tr>\n",
       "    <tr>\n",
       "      <th>10997</th>\n",
       "      <td>-1.241671</td>\n",
       "      <td>hormati partai partai yang telah berkoalisi</td>\n",
       "      <td>hormat partai partai yang telah koalisi</td>\n",
       "      <td>1</td>\n",
       "      <td>indonlue/smsa</td>\n",
       "      <td>1.488795</td>\n",
       "    </tr>\n",
       "    <tr>\n",
       "      <th>10998</th>\n",
       "      <td>-0.917875</td>\n",
       "      <td>pagi pagi di tol pasteur sudah macet parah bik...</td>\n",
       "      <td>pagi pagi di tol pasteur sudah macet parah bik...</td>\n",
       "      <td>0</td>\n",
       "      <td>indonlue/smsa</td>\n",
       "      <td>-1.399474</td>\n",
       "    </tr>\n",
       "    <tr>\n",
       "      <th>10999</th>\n",
       "      <td>1.618531</td>\n",
       "      <td>meskipun sering belanja ke yogya di riau junct...</td>\n",
       "      <td>meski sering belanja ke yogya di riau junction...</td>\n",
       "      <td>2</td>\n",
       "      <td>indonlue/smsa</td>\n",
       "      <td>0.010859</td>\n",
       "    </tr>\n",
       "  </tbody>\n",
       "</table>\n",
       "<p>11000 rows × 6 columns</p>\n",
       "</div>"
      ],
      "text/plain": [
       "        Lengths                                               text  \\\n",
       "0      1.456633  warung ini dimiliki oleh pengusaha pabrik tahu...   \n",
       "1     -0.594078  mohon ulama lurus dan k mmbri hujjah partai ap...   \n",
       "2     -0.054417  lokasi strategis di jalan sumatera bandung tem...   \n",
       "3     -0.755976  betapa bahagia nya diri ini saat unboxing pake...   \n",
       "4      0.161447  duh jadi mahasiswa jangan sombong dong kasih k...   \n",
       "...         ...                                                ...   \n",
       "10995 -1.457535                                       tidak kecewa   \n",
       "10996 -0.270282  enak rasa masakan nya apalagi kepiting yang me...   \n",
       "10997 -1.241671        hormati partai partai yang telah berkoalisi   \n",
       "10998 -0.917875  pagi pagi di tol pasteur sudah macet parah bik...   \n",
       "10999  1.618531  meskipun sering belanja ke yogya di riau junct...   \n",
       "\n",
       "                                                 Stemmed  label  \\\n",
       "0      warung ini milik oleh usaha pabrik tahu yang s...      2   \n",
       "1      mohon ulama lurus dan k mmbri hujjah partai ap...      1   \n",
       "2      lokasi strategis di jalan sumatera bandung tem...      2   \n",
       "3      betapa bahagia nya diri ini saat unboxing pake...      2   \n",
       "4      duh jadi mahasiswa jangan sombong dong kasih k...      0   \n",
       "...                                                  ...    ...   \n",
       "10995                                       tidak kecewa      2   \n",
       "10996  enak rasa masakan nya apalagi kepiting yang se...      2   \n",
       "10997            hormat partai partai yang telah koalisi      1   \n",
       "10998  pagi pagi di tol pasteur sudah macet parah bik...      0   \n",
       "10999  meski sering belanja ke yogya di riau junction...      2   \n",
       "\n",
       "              source  averageWords  \n",
       "0      indonlue/smsa      1.007417  \n",
       "1      indonlue/smsa     -1.261937  \n",
       "2      indonlue/smsa     -0.141996  \n",
       "3      indonlue/smsa     -0.436717  \n",
       "4      indonlue/smsa      0.027469  \n",
       "...              ...           ...  \n",
       "10995  indonlue/smsa     -0.436717  \n",
       "10996  indonlue/smsa      0.182197  \n",
       "10997  indonlue/smsa      1.488795  \n",
       "10998  indonlue/smsa     -1.399474  \n",
       "10999  indonlue/smsa      0.010859  \n",
       "\n",
       "[11000 rows x 6 columns]"
      ]
     },
     "execution_count": 7,
     "metadata": {},
     "output_type": "execute_result"
    }
   ],
   "source": [
    "df_train"
   ]
  },
  {
   "cell_type": "code",
   "execution_count": 8,
   "metadata": {},
   "outputs": [
    {
     "data": {
      "text/html": [
       "<div>\n",
       "<style scoped>\n",
       "    .dataframe tbody tr th:only-of-type {\n",
       "        vertical-align: middle;\n",
       "    }\n",
       "\n",
       "    .dataframe tbody tr th {\n",
       "        vertical-align: top;\n",
       "    }\n",
       "\n",
       "    .dataframe thead th {\n",
       "        text-align: right;\n",
       "    }\n",
       "</style>\n",
       "<table border=\"1\" class=\"dataframe\">\n",
       "  <thead>\n",
       "    <tr style=\"text-align: right;\">\n",
       "      <th></th>\n",
       "      <th>Lengths</th>\n",
       "      <th>text</th>\n",
       "      <th>Stemmed</th>\n",
       "      <th>label</th>\n",
       "      <th>source</th>\n",
       "      <th>averageWords</th>\n",
       "    </tr>\n",
       "  </thead>\n",
       "  <tbody>\n",
       "    <tr>\n",
       "      <th>0</th>\n",
       "      <td>1.588254</td>\n",
       "      <td>kemarin gue datang ke tempat makan baru yang a...</td>\n",
       "      <td>kemarin gue datang ke tempat makan baru yang a...</td>\n",
       "      <td>0</td>\n",
       "      <td>indonlue/smsa</td>\n",
       "      <td>-1.356389</td>\n",
       "    </tr>\n",
       "    <tr>\n",
       "      <th>1</th>\n",
       "      <td>2.160332</td>\n",
       "      <td>kayak nya sih gue tidak akan mau balik lagi ke...</td>\n",
       "      <td>kayak nya sih gue tidak akan mau balik lagi ke...</td>\n",
       "      <td>0</td>\n",
       "      <td>indonlue/smsa</td>\n",
       "      <td>-1.072196</td>\n",
       "    </tr>\n",
       "    <tr>\n",
       "      <th>2</th>\n",
       "      <td>0.852724</td>\n",
       "      <td>kalau dipikir pikir sebenarnya tidak ada yang ...</td>\n",
       "      <td>kalau pikir pikir benar tidak ada yang bisa ba...</td>\n",
       "      <td>0</td>\n",
       "      <td>indonlue/smsa</td>\n",
       "      <td>0.632503</td>\n",
       "    </tr>\n",
       "    <tr>\n",
       "      <th>3</th>\n",
       "      <td>1.833430</td>\n",
       "      <td>ini pertama kalinya gua ke bank buat ngurusin ...</td>\n",
       "      <td>ini pertama kali gua ke bank buat ngurusin bua...</td>\n",
       "      <td>0</td>\n",
       "      <td>indonlue/smsa</td>\n",
       "      <td>-0.271788</td>\n",
       "    </tr>\n",
       "    <tr>\n",
       "      <th>4</th>\n",
       "      <td>1.669979</td>\n",
       "      <td>waktu sampai dengan gue pernah disuruh ibu lat...</td>\n",
       "      <td>waktu sampai dengan gue pernah suruh ibu latih...</td>\n",
       "      <td>0</td>\n",
       "      <td>indonlue/smsa</td>\n",
       "      <td>-0.306821</td>\n",
       "    </tr>\n",
       "    <tr>\n",
       "      <th>...</th>\n",
       "      <td>...</td>\n",
       "      <td>...</td>\n",
       "      <td>...</td>\n",
       "      <td>...</td>\n",
       "      <td>...</td>\n",
       "      <td>...</td>\n",
       "    </tr>\n",
       "    <tr>\n",
       "      <th>495</th>\n",
       "      <td>-0.945237</td>\n",
       "      <td>kata nya tidur yang baik itu minimal enam jam ...</td>\n",
       "      <td>kata nya tidur yang baik itu minimal enam jam ...</td>\n",
       "      <td>1</td>\n",
       "      <td>indonlue/smsa</td>\n",
       "      <td>-1.694131</td>\n",
       "    </tr>\n",
       "    <tr>\n",
       "      <th>496</th>\n",
       "      <td>-1.272139</td>\n",
       "      <td>indonesia itu ada di benua asia</td>\n",
       "      <td>indonesia itu ada di benua asia</td>\n",
       "      <td>1</td>\n",
       "      <td>indonlue/smsa</td>\n",
       "      <td>-1.634185</td>\n",
       "    </tr>\n",
       "    <tr>\n",
       "      <th>497</th>\n",
       "      <td>-0.945237</td>\n",
       "      <td>salah satu kegemaran anak remaja indonesia sek...</td>\n",
       "      <td>salah satu gemar anak remaja indonesia sekaran...</td>\n",
       "      <td>1</td>\n",
       "      <td>indonlue/smsa</td>\n",
       "      <td>2.082433</td>\n",
       "    </tr>\n",
       "    <tr>\n",
       "      <th>498</th>\n",
       "      <td>-1.026963</td>\n",
       "      <td>melihat warna hijau bisa bikin mata jadi lebih...</td>\n",
       "      <td>lihat warna hijau bisa bikin mata jadi lebih s...</td>\n",
       "      <td>2</td>\n",
       "      <td>indonlue/smsa</td>\n",
       "      <td>-0.435276</td>\n",
       "    </tr>\n",
       "    <tr>\n",
       "      <th>499</th>\n",
       "      <td>-1.026963</td>\n",
       "      <td>bondan winarno yang suka bilang maknyus sekara...</td>\n",
       "      <td>bondan winarno yang suka bilang maknyus sekara...</td>\n",
       "      <td>1</td>\n",
       "      <td>indonlue/smsa</td>\n",
       "      <td>0.963452</td>\n",
       "    </tr>\n",
       "  </tbody>\n",
       "</table>\n",
       "<p>500 rows × 6 columns</p>\n",
       "</div>"
      ],
      "text/plain": [
       "      Lengths                                               text  \\\n",
       "0    1.588254  kemarin gue datang ke tempat makan baru yang a...   \n",
       "1    2.160332  kayak nya sih gue tidak akan mau balik lagi ke...   \n",
       "2    0.852724  kalau dipikir pikir sebenarnya tidak ada yang ...   \n",
       "3    1.833430  ini pertama kalinya gua ke bank buat ngurusin ...   \n",
       "4    1.669979  waktu sampai dengan gue pernah disuruh ibu lat...   \n",
       "..        ...                                                ...   \n",
       "495 -0.945237  kata nya tidur yang baik itu minimal enam jam ...   \n",
       "496 -1.272139                   indonesia itu ada di benua asia    \n",
       "497 -0.945237  salah satu kegemaran anak remaja indonesia sek...   \n",
       "498 -1.026963  melihat warna hijau bisa bikin mata jadi lebih...   \n",
       "499 -1.026963  bondan winarno yang suka bilang maknyus sekara...   \n",
       "\n",
       "                                               Stemmed  label         source  \\\n",
       "0    kemarin gue datang ke tempat makan baru yang a...      0  indonlue/smsa   \n",
       "1    kayak nya sih gue tidak akan mau balik lagi ke...      0  indonlue/smsa   \n",
       "2    kalau pikir pikir benar tidak ada yang bisa ba...      0  indonlue/smsa   \n",
       "3    ini pertama kali gua ke bank buat ngurusin bua...      0  indonlue/smsa   \n",
       "4    waktu sampai dengan gue pernah suruh ibu latih...      0  indonlue/smsa   \n",
       "..                                                 ...    ...            ...   \n",
       "495  kata nya tidur yang baik itu minimal enam jam ...      1  indonlue/smsa   \n",
       "496                    indonesia itu ada di benua asia      1  indonlue/smsa   \n",
       "497  salah satu gemar anak remaja indonesia sekaran...      1  indonlue/smsa   \n",
       "498  lihat warna hijau bisa bikin mata jadi lebih s...      2  indonlue/smsa   \n",
       "499  bondan winarno yang suka bilang maknyus sekara...      1  indonlue/smsa   \n",
       "\n",
       "     averageWords  \n",
       "0       -1.356389  \n",
       "1       -1.072196  \n",
       "2        0.632503  \n",
       "3       -0.271788  \n",
       "4       -0.306821  \n",
       "..            ...  \n",
       "495     -1.694131  \n",
       "496     -1.634185  \n",
       "497      2.082433  \n",
       "498     -0.435276  \n",
       "499      0.963452  \n",
       "\n",
       "[500 rows x 6 columns]"
      ]
     },
     "execution_count": 8,
     "metadata": {},
     "output_type": "execute_result"
    }
   ],
   "source": [
    "df_test"
   ]
  },
  {
   "cell_type": "code",
   "execution_count": 9,
   "metadata": {},
   "outputs": [],
   "source": [
    "factory = StopWordRemoverFactory()\n",
    "def transform_BOW(training, testing, column_name):\n",
    "    vect = CountVectorizer(\n",
    "        max_features=100, ngram_range=(1, 3), stop_words=list(factory.get_stop_words())\n",
    "    )\n",
    "    vectFit = vect.fit(training[column_name])\n",
    "    BOW_training = vectFit.transform(training[column_name])\n",
    "    BOW_training_df = pd.DataFrame(\n",
    "        BOW_training.toarray(), columns=vect.get_feature_names_out()\n",
    "    )\n",
    "    BOW_testing = vectFit.transform(testing[column_name])\n",
    "    BOW_testing_Df = pd.DataFrame(\n",
    "        BOW_testing.toarray(), columns=vect.get_feature_names_out()\n",
    "    )\n",
    "    return vectFit, BOW_training_df, BOW_testing_Df\n",
    "\n",
    "\n",
    "def transform_tfidf(training, testing, column_name):\n",
    "    Tfidf = TfidfVectorizer(\n",
    "        ngram_range=(1, 3), max_features=100, stop_words=list(factory.get_stop_words())\n",
    "    )\n",
    "    Tfidf_fit = Tfidf.fit(training[column_name])\n",
    "    Tfidf_training = Tfidf_fit.transform(training[column_name])\n",
    "    Tfidf_training_df = pd.DataFrame(\n",
    "        Tfidf_training.toarray(), columns=Tfidf.get_feature_names_out()\n",
    "    )\n",
    "    Tfidf_testing = Tfidf_fit.transform(testing[column_name])\n",
    "    Tfidf_testing_df = pd.DataFrame(\n",
    "        Tfidf_testing.toarray(), columns=Tfidf.get_feature_names_out()\n",
    "    )\n",
    "    return Tfidf_fit, Tfidf_training_df, Tfidf_testing_df"
   ]
  },
  {
   "cell_type": "code",
   "execution_count": 10,
   "metadata": {},
   "outputs": [
    {
     "name": "stdout",
     "output_type": "stream",
     "text": [
      "...successfully created the unstemmed BOW data\n",
      "...successfully created the unstemmed TFIDF data\n"
     ]
    }
   ],
   "source": [
    "# Create BOW features for training set\n",
    "unstemmed_BOW_vect_fit, df_train_bow_unstem, df_test_bow_unstem = transform_BOW(\n",
    "    df_train, df_test, \"Stemmed\"\n",
    ")\n",
    "print(\"...successfully created the unstemmed BOW data\")\n",
    "\n",
    "# Create TfIdf features for training set\n",
    "unstemmed_tfidf_vect_fit, df_train_tfidf_unstem, df_test_tfidf_unstem = transform_tfidf(\n",
    "    df_train, df_test, \"Stemmed\"\n",
    ")\n",
    "print(\"...successfully created the unstemmed TFIDF data\")"
   ]
  },
  {
   "cell_type": "code",
   "execution_count": 13,
   "metadata": {},
   "outputs": [],
   "source": [
    "def build_model(X_train, y_train, X_test, y_test, name_of_test):\n",
    "    log_reg = LogisticRegression(C=30, max_iter=500).fit(X_train, y_train)\n",
    "    y_pred = log_reg.predict(X_test)\n",
    "    print(\n",
    "        \"Training accuracy of \" + name_of_test + \": \", log_reg.score(X_train, y_train)\n",
    "    )\n",
    "    print(\"Testing accuracy of \" + name_of_test + \": \", log_reg.score(X_test, y_test))\n",
    "    print(classification_report(y_test, y_pred))  # Evaluating prediction ability\n",
    "    return log_reg"
   ]
  },
  {
   "cell_type": "code",
   "execution_count": 14,
   "metadata": {},
   "outputs": [
    {
     "name": "stdout",
     "output_type": "stream",
     "text": [
      "Training accuracy of BOW Unstemmed:  0.7682727272727272\n",
      "Testing accuracy of BOW Unstemmed:  0.564\n",
      "              precision    recall  f1-score   support\n",
      "\n",
      "           0       0.50      0.85      0.63       204\n",
      "           1       0.59      0.26      0.36        88\n",
      "           2       0.77      0.41      0.53       208\n",
      "\n",
      "    accuracy                           0.56       500\n",
      "   macro avg       0.62      0.51      0.51       500\n",
      "weighted avg       0.63      0.56      0.54       500\n",
      "\n",
      "Training accuracy of TFIDF Unstemmed:  0.7695454545454545\n",
      "Testing accuracy of TFIDF Unstemmed:  0.544\n",
      "              precision    recall  f1-score   support\n",
      "\n",
      "           0       0.49      0.78      0.60       204\n",
      "           1       0.53      0.20      0.30        88\n",
      "           2       0.67      0.46      0.54       208\n",
      "\n",
      "    accuracy                           0.54       500\n",
      "   macro avg       0.56      0.48      0.48       500\n",
      "weighted avg       0.57      0.54      0.52       500\n",
      "\n"
     ]
    }
   ],
   "source": [
    "bow_unstemmed = build_model(\n",
    "    df_train_bow_unstem,\n",
    "    df_train[\"label\"],\n",
    "    df_test_bow_unstem,\n",
    "    df_test[\"label\"],\n",
    "    \"BOW Unstemmed\",\n",
    ")\n",
    "\n",
    "tfidf_unstemmed = build_model(\n",
    "    df_train_tfidf_unstem,\n",
    "    df_train[\"label\"],\n",
    "    df_test_tfidf_unstem,\n",
    "    df_test[\"label\"],\n",
    "    \"TFIDF Unstemmed\",\n",
    ")"
   ]
  },
  {
   "cell_type": "code",
   "execution_count": 24,
   "metadata": {},
   "outputs": [
    {
     "data": {
      "text/html": [
       "<style>#sk-container-id-2 {color: black;}#sk-container-id-2 pre{padding: 0;}#sk-container-id-2 div.sk-toggleable {background-color: white;}#sk-container-id-2 label.sk-toggleable__label {cursor: pointer;display: block;width: 100%;margin-bottom: 0;padding: 0.3em;box-sizing: border-box;text-align: center;}#sk-container-id-2 label.sk-toggleable__label-arrow:before {content: \"▸\";float: left;margin-right: 0.25em;color: #696969;}#sk-container-id-2 label.sk-toggleable__label-arrow:hover:before {color: black;}#sk-container-id-2 div.sk-estimator:hover label.sk-toggleable__label-arrow:before {color: black;}#sk-container-id-2 div.sk-toggleable__content {max-height: 0;max-width: 0;overflow: hidden;text-align: left;background-color: #f0f8ff;}#sk-container-id-2 div.sk-toggleable__content pre {margin: 0.2em;color: black;border-radius: 0.25em;background-color: #f0f8ff;}#sk-container-id-2 input.sk-toggleable__control:checked~div.sk-toggleable__content {max-height: 200px;max-width: 100%;overflow: auto;}#sk-container-id-2 input.sk-toggleable__control:checked~label.sk-toggleable__label-arrow:before {content: \"▾\";}#sk-container-id-2 div.sk-estimator input.sk-toggleable__control:checked~label.sk-toggleable__label {background-color: #d4ebff;}#sk-container-id-2 div.sk-label input.sk-toggleable__control:checked~label.sk-toggleable__label {background-color: #d4ebff;}#sk-container-id-2 input.sk-hidden--visually {border: 0;clip: rect(1px 1px 1px 1px);clip: rect(1px, 1px, 1px, 1px);height: 1px;margin: -1px;overflow: hidden;padding: 0;position: absolute;width: 1px;}#sk-container-id-2 div.sk-estimator {font-family: monospace;background-color: #f0f8ff;border: 1px dotted black;border-radius: 0.25em;box-sizing: border-box;margin-bottom: 0.5em;}#sk-container-id-2 div.sk-estimator:hover {background-color: #d4ebff;}#sk-container-id-2 div.sk-parallel-item::after {content: \"\";width: 100%;border-bottom: 1px solid gray;flex-grow: 1;}#sk-container-id-2 div.sk-label:hover label.sk-toggleable__label {background-color: #d4ebff;}#sk-container-id-2 div.sk-serial::before {content: \"\";position: absolute;border-left: 1px solid gray;box-sizing: border-box;top: 0;bottom: 0;left: 50%;z-index: 0;}#sk-container-id-2 div.sk-serial {display: flex;flex-direction: column;align-items: center;background-color: white;padding-right: 0.2em;padding-left: 0.2em;position: relative;}#sk-container-id-2 div.sk-item {position: relative;z-index: 1;}#sk-container-id-2 div.sk-parallel {display: flex;align-items: stretch;justify-content: center;background-color: white;position: relative;}#sk-container-id-2 div.sk-item::before, #sk-container-id-2 div.sk-parallel-item::before {content: \"\";position: absolute;border-left: 1px solid gray;box-sizing: border-box;top: 0;bottom: 0;left: 50%;z-index: -1;}#sk-container-id-2 div.sk-parallel-item {display: flex;flex-direction: column;z-index: 1;position: relative;background-color: white;}#sk-container-id-2 div.sk-parallel-item:first-child::after {align-self: flex-end;width: 50%;}#sk-container-id-2 div.sk-parallel-item:last-child::after {align-self: flex-start;width: 50%;}#sk-container-id-2 div.sk-parallel-item:only-child::after {width: 0;}#sk-container-id-2 div.sk-dashed-wrapped {border: 1px dashed gray;margin: 0 0.4em 0.5em 0.4em;box-sizing: border-box;padding-bottom: 0.4em;background-color: white;}#sk-container-id-2 div.sk-label label {font-family: monospace;font-weight: bold;display: inline-block;line-height: 1.2em;}#sk-container-id-2 div.sk-label-container {text-align: center;}#sk-container-id-2 div.sk-container {/* jupyter's `normalize.less` sets `[hidden] { display: none; }` but bootstrap.min.css set `[hidden] { display: none !important; }` so we also need the `!important` here to be able to override the default hidden behavior on the sphinx rendered scikit-learn.org. See: https://github.com/scikit-learn/scikit-learn/issues/21755 */display: inline-block !important;position: relative;}#sk-container-id-2 div.sk-text-repr-fallback {display: none;}</style><div id=\"sk-container-id-2\" class=\"sk-top-container\"><div class=\"sk-text-repr-fallback\"><pre>MultinomialNB()</pre><b>In a Jupyter environment, please rerun this cell to show the HTML representation or trust the notebook. <br />On GitHub, the HTML representation is unable to render, please try loading this page with nbviewer.org.</b></div><div class=\"sk-container\" hidden><div class=\"sk-item\"><div class=\"sk-estimator sk-toggleable\"><input class=\"sk-toggleable__control sk-hidden--visually\" id=\"sk-estimator-id-2\" type=\"checkbox\" checked><label for=\"sk-estimator-id-2\" class=\"sk-toggleable__label sk-toggleable__label-arrow\">MultinomialNB</label><div class=\"sk-toggleable__content\"><pre>MultinomialNB()</pre></div></div></div></div></div>"
      ],
      "text/plain": [
       "MultinomialNB()"
      ]
     },
     "execution_count": 24,
     "metadata": {},
     "output_type": "execute_result"
    }
   ],
   "source": [
    "clf = MultinomialNB()\n",
    "clf.fit(df_train_tfidf_unstem, df_train['label'])"
   ]
  },
  {
   "cell_type": "code",
   "execution_count": 26,
   "metadata": {},
   "outputs": [
    {
     "name": "stdout",
     "output_type": "stream",
     "text": [
      "              precision    recall  f1-score   support\n",
      "\n",
      "           0       0.61      0.50      0.55       250\n",
      "           1       0.03      0.60      0.06         5\n",
      "           2       0.57      0.49      0.53       245\n",
      "\n",
      "    accuracy                           0.49       500\n",
      "   macro avg       0.40      0.53      0.38       500\n",
      "weighted avg       0.58      0.49      0.53       500\n",
      "\n"
     ]
    }
   ],
   "source": [
    "y_test = clf.predict(df_test_tfidf_unstem)\n",
    "print(classification_report(y_test, df_test['label']))"
   ]
  },
  {
   "cell_type": "code",
   "execution_count": 27,
   "metadata": {},
   "outputs": [],
   "source": [
    "class SklearnModelWrapperNew(ModelWrapper):\n",
    "    \"\"\"Loads a scikit-learn model and tokenizer (tokenizer implements\n",
    "    `transform` and model implements `predict_proba`).\n",
    "\n",
    "    May need to be extended and modified for different types of\n",
    "    tokenizers.\n",
    "    \"\"\"\n",
    "\n",
    "    def __init__(self, model, tokenizer):\n",
    "        self.model = model\n",
    "        self.tokenizer = tokenizer\n",
    "\n",
    "    def __call__(self, text_input_list, batch_size=None):\n",
    "        encoded_text_matrix = self.tokenizer.transform(text_input_list).toarray()\n",
    "        tokenized_text_df = pd.DataFrame(\n",
    "            encoded_text_matrix, columns=self.tokenizer.get_feature_names_out()\n",
    "        )\n",
    "        return self.model.predict_proba(tokenized_text_df)\n",
    "\n",
    "def get_grad(self, text_input):\n",
    "        raise NotImplementedError()"
   ]
  },
  {
   "cell_type": "code",
   "execution_count": 28,
   "metadata": {},
   "outputs": [],
   "source": [
    "model_wrapper = SklearnModelWrapperNew(clf, unstemmed_tfidf_vect_fit)"
   ]
  },
  {
   "cell_type": "code",
   "execution_count": 29,
   "metadata": {},
   "outputs": [],
   "source": [
    "class WordSwapWordNetBahasa(WordSwap):\n",
    "    \"\"\"Transforms an input by replacing its words with synonyms provided by\n",
    "    WordNet.\n",
    "\n",
    "    >>> from textattack.transformations import WordSwapWordNet\n",
    "    >>> from textattack.augmentation import Augmenter\n",
    "\n",
    "    >>> transformation = WordSwapWordNet()\n",
    "    >>> augmenter = Augmenter(transformation=transformation)\n",
    "    >>> s = 'I am fabulous.'\n",
    "    >>> augmenter.augment(s)\n",
    "    \"\"\"\n",
    "\n",
    "    def __init__(self, language=\"ind\"):\n",
    "        nltk.download(\"omw-1.4\")\n",
    "        # if language not in wordnet.langs():\n",
    "        #     raise ValueError(f\"Language {language} not one of {wordnet.langs()}\")\n",
    "        self.language = language\n",
    "\n",
    "    def _get_replacement_words(self, word, random=False):\n",
    "        \"\"\"Returns a list containing all possible words with 1 character\n",
    "        replaced by a homoglyph.\"\"\"\n",
    "        synonyms = set()\n",
    "        for syn in wordnet.synsets(word, lang=self.language):\n",
    "            for syn_word in syn.lemma_names(lang=self.language):\n",
    "                if (\n",
    "                    (syn_word != word)\n",
    "                    and (\"_\" not in syn_word)\n",
    "                    and (textattack.shared.utils.is_one_word(syn_word))\n",
    "                ):\n",
    "                    # WordNet can suggest phrases that are joined by '_' but we ignore phrases.\n",
    "                    synonyms.add(syn_word)\n",
    "        return list(synonyms)\n"
   ]
  },
  {
   "cell_type": "code",
   "execution_count": 30,
   "metadata": {},
   "outputs": [],
   "source": [
    "class PWWSham2024INDO(AttackRecipe):\n",
    "    \n",
    "    @staticmethod\n",
    "    def build(model_wrapper):\n",
    "        transformation = WordSwapWordNetBahasa(language=\"ind\")\n",
    "        constraint = [RepeatModification(), StopwordModification()]\n",
    "        goal_function = UntargetedClassification(model_wrapper)\n",
    "        search_method = GreedyWordSwapWIR(\"weighted-saliency\")\n",
    "        return Attack(goal_function, constraint, transformation, search_method)"
   ]
  },
  {
   "cell_type": "code",
   "execution_count": 31,
   "metadata": {},
   "outputs": [],
   "source": [
    "custom_data = list(df_test[['text', 'label']].itertuples(index=False, name=None))"
   ]
  },
  {
   "cell_type": "code",
   "execution_count": 32,
   "metadata": {},
   "outputs": [
    {
     "name": "stderr",
     "output_type": "stream",
     "text": [
      "[nltk_data] Downloading package omw-1.4 to C:\\Users\\Ilham\n",
      "[nltk_data]     AM\\AppData\\Roaming\\nltk_data...\n",
      "[nltk_data]   Package omw-1.4 is already up-to-date!\n",
      "textattack: Unknown if model of class <class 'sklearn.naive_bayes.MultinomialNB'> compatible with goal function <class 'textattack.goal_functions.classification.untargeted_classification.UntargetedClassification'>.\n",
      "textattack: Logging to CSV at path attack_results_classic.csv\n"
     ]
    },
    {
     "name": "stdout",
     "output_type": "stream",
     "text": [
      "Attack(\n",
      "  (search_method): GreedyWordSwapWIR(\n",
      "    (wir_method):  weighted-saliency\n",
      "  )\n",
      "  (goal_function):  UntargetedClassification\n",
      "  (transformation):  WordSwapWordNetBahasa\n",
      "  (constraints): \n",
      "    (0): RepeatModification\n",
      "    (1): StopwordModification\n",
      "  (is_black_box):  True\n",
      ") \n",
      "\n"
     ]
    },
    {
     "name": "stderr",
     "output_type": "stream",
     "text": [
      "[Succeeded / Failed / Skipped / Total] 0 / 0 / 1 / 1:   0%|          | 1/500 [00:00<07:23,  1.13it/s]"
     ]
    },
    {
     "name": "stdout",
     "output_type": "stream",
     "text": [
      "--------------------------------------------- Result 1 ---------------------------------------------\n",
      "[[2 (81%)]] --> [[[SKIPPED]]]\n",
      "\n",
      "kemarin gue datang ke tempat makan baru yang ada di dago atas gue kira makanan nya enak karena harga nya mahal ternyata boro boro tidak mau lagi deh ke tempat itu sudah mana tempat nya juga tidak nyaman banget terlalu sempit \n",
      "\n",
      "\n"
     ]
    },
    {
     "name": "stderr",
     "output_type": "stream",
     "text": [
      "[Succeeded / Failed / Skipped / Total] 1 / 0 / 2 / 3:   1%|          | 3/500 [00:03<10:08,  1.22s/it]"
     ]
    },
    {
     "name": "stdout",
     "output_type": "stream",
     "text": [
      "--------------------------------------------- Result 2 ---------------------------------------------\n",
      "[[0 (66%)]] --> [[2 (53%)]]\n",
      "\n",
      "kayak nya sih gue tidak akan [[mau]] balik lagi ke tempat itu gila ya gue enggak ngerti kenapa tempat nya dibiarkan panas sudah begitu kotor pula kalau panas kepanasan kalau hujan kehujanan harus nya sih tidak ada restoran yang kayak gitu tidak [[tahu]] deh apa yang mereka jual \n",
      "\n",
      "kayak nya sih gue tidak akan [[bagai]] balik lagi ke tempat itu gila ya gue enggak ngerti kenapa tempat nya dibiarkan panas sudah begitu kotor pula kalau panas kepanasan kalau hujan kehujanan harus nya sih tidak ada restoran yang kayak gitu tidak [[rasa]] deh apa yang mereka jual \n",
      "\n",
      "\n",
      "--------------------------------------------- Result 3 ---------------------------------------------\n",
      "[[2 (45%)]] --> [[[SKIPPED]]]\n",
      "\n",
      "kalau dipikir pikir sebenarnya tidak ada yang bisa dibanggakan dari jokowi pertama dia tidak bisa nepatin janji kedua kerjaan nya selalu pencitraan ketiga dia tidak pro rakyat sudahlah ku sudah terlanjur kecewa \n",
      "\n",
      "\n"
     ]
    },
    {
     "name": "stderr",
     "output_type": "stream",
     "text": [
      "[Succeeded / Failed / Skipped / Total] 2 / 0 / 2 / 4:   1%|          | 4/500 [00:04<09:09,  1.11s/it]"
     ]
    },
    {
     "name": "stdout",
     "output_type": "stream",
     "text": [
      "--------------------------------------------- Result 4 ---------------------------------------------\n",
      "[[0 (65%)]] --> [[2 (42%)]]\n",
      "\n",
      "ini pertama kalinya gua ke bank buat ngurusin pembuatan rekening baru nama nya juga [[orang]] pertama kali ya baru ke bank gua kena semprot kelihatan banget pelayanan pelanggan nya tidak [[suka]] gua banyak bertanya amit amit padahal itu kan tugas mereka buat melayangkan gua \n",
      "\n",
      "ini pertama kalinya gua ke bank buat ngurusin pembuatan rekening baru nama nya juga [[ada]] pertama kali ya baru ke bank gua kena semprot kelihatan banget pelayanan pelanggan nya tidak [[bagai]] gua banyak bertanya amit amit padahal itu kan tugas mereka buat melayangkan gua \n",
      "\n",
      "\n"
     ]
    },
    {
     "name": "stderr",
     "output_type": "stream",
     "text": [
      "[Succeeded / Failed / Skipped / Total] 3 / 0 / 2 / 5:   1%|          | 5/500 [00:05<08:28,  1.03s/it]"
     ]
    },
    {
     "name": "stdout",
     "output_type": "stream",
     "text": [
      "--------------------------------------------- Result 5 ---------------------------------------------\n",
      "[[0 (65%)]] --> [[2 (41%)]]\n",
      "\n",
      "waktu sampai dengan gue pernah disuruh ibu latihan karate kata nya biar gue bisa melawan penjahat kalau ada laki laki iseng tapi di hari pertama latihan kaki gue langsung cedera jadilah sekarang trauma dan tidak [[mau]] sekali sekali [[buat]] latihan karate lagi \n",
      "\n",
      "waktu sampai dengan gue pernah disuruh ibu latihan karate kata nya biar gue bisa melawan penjahat kalau ada laki laki iseng tapi di hari pertama latihan kaki gue langsung cedera jadilah sekarang trauma dan tidak [[bagai]] sekali sekali [[sedia]] latihan karate lagi \n",
      "\n",
      "\n"
     ]
    },
    {
     "name": "stderr",
     "output_type": "stream",
     "text": [
      "[Succeeded / Failed / Skipped / Total] 4 / 0 / 3 / 7:   1%|▏         | 7/500 [00:05<06:31,  1.26it/s]"
     ]
    },
    {
     "name": "stdout",
     "output_type": "stream",
     "text": [
      "--------------------------------------------- Result 6 ---------------------------------------------\n",
      "[[0 (77%)]] --> [[2 (61%)]]\n",
      "\n",
      "pelayanan di hotel salak bogor tidak sebagus yang gue membayangkan fasilitas nya juga [[biasa]] banget padahal kata nya hotel bintang lima hm kecewa kayak nya sih nanti nanti tidak [[mau]] ke sana lagi \n",
      "\n",
      "pelayanan di hotel salak bogor tidak sebagus yang gue membayangkan fasilitas nya juga [[khas]] banget padahal kata nya hotel bintang lima hm kecewa kayak nya sih nanti nanti tidak [[bagai]] ke sana lagi \n",
      "\n",
      "\n",
      "--------------------------------------------- Result 7 ---------------------------------------------\n",
      "[[2 (52%)]] --> [[[SKIPPED]]]\n",
      "\n",
      "ada apa dengan young lex kenapa dia harus mengirim hal hal tidak berfaedah kayak gitu merusak moral banget sumpah \n",
      "\n",
      "\n"
     ]
    },
    {
     "name": "stderr",
     "output_type": "stream",
     "text": [
      "[Succeeded / Failed / Skipped / Total] 5 / 0 / 9 / 14:   3%|▎         | 14/500 [00:06<03:46,  2.14it/s]"
     ]
    },
    {
     "name": "stdout",
     "output_type": "stream",
     "text": [
      "--------------------------------------------- Result 8 ---------------------------------------------\n",
      "[[0 (72%)]] --> [[2 (49%)]]\n",
      "\n",
      "gue pesimis [[sama]] manusia terutama dalam ngurusin sampah sudah berapa banyak hewan hewan laut [[jadi]] korban gara gara kita buang sampah ke laut tidak tega gue liat nya kadang tidak mengerti juga sebenarnya pemimpin pemimpin yang ada itu pada mikirin enggak sih urusan penting kayak gini he \n",
      "\n",
      "gue pesimis [[bagai]] manusia terutama dalam ngurusin sampah sudah berapa banyak hewan hewan laut [[minum]] korban gara gara kita buang sampah ke laut tidak tega gue liat nya kadang tidak mengerti juga sebenarnya pemimpin pemimpin yang ada itu pada mikirin enggak sih urusan penting kayak gini he \n",
      "\n",
      "\n",
      "--------------------------------------------- Result 9 ---------------------------------------------\n",
      "[[2 (50%)]] --> [[[SKIPPED]]]\n",
      "\n",
      "saya kecewa karena pengeditan biodata penumpang dilakukan by sistem tanpa konfirmasi dan solusi permasalahan nya pun dianggap sepele karena dibiarkan begitu saja sedang pelayanan pelanggan yang sudah berkali berkali dihubungi pun hanya seperti mengulur waktu sampai detik ini belum ada solusi untuk masalah saya yang kesalahan nya sendiri bukan dari pihak saya \n",
      "\n",
      "\n",
      "--------------------------------------------- Result 10 ---------------------------------------------\n",
      "[[2 (68%)]] --> [[[SKIPPED]]]\n",
      "\n",
      "saya hari ini melakukan pemesanan dan tiket saya tidak kunjung saya terima padahal saya sudah menelpon pelayanan pelanggan sudah mengirimkan email dengan bukti transfer tapi respon nya sangat lambat dan tidak jelas \n",
      "\n",
      "\n",
      "--------------------------------------------- Result 11 ---------------------------------------------\n",
      "[[2 (59%)]] --> [[[SKIPPED]]]\n",
      "\n",
      "sangat merugikan saya sudah memesan dan membayar tetapi e tiket tidak ada juga padahal bukti pembayaran sudah jelas sudah menelepon pelayanan pelanggan berkali kali dan tidak ada solusi nya pulsa sudah habis ratusan ribu saya meminta kembalikan uang juga sangat lama proses nya sangat merugikan pengguna banyak kerugian uang transport waktu penginapan dll \n",
      "\n",
      "\n",
      "--------------------------------------------- Result 12 ---------------------------------------------\n",
      "[[2 (38%)]] --> [[[SKIPPED]]]\n",
      "\n",
      "saya itu memesan tiket dot com sudah dibayar email belum ada balasan bukti pembayaran sudah saya kirim by email saya masukkan data balasan nya pemesanan kadaluarsa terus akhirnya saya beli lagi langsung ke loket saya minta uang kembali masih menunggu hari ambil saja uang tiket nya tidak apa apa sedih saya download aplikasi ini \n",
      "\n",
      "\n",
      "--------------------------------------------- Result 13 ---------------------------------------------\n",
      "[[2 (63%)]] --> [[[SKIPPED]]]\n",
      "\n",
      "saya sudah bayar tetapi etiket tidak dikirim malah kadaluwarsa diminta struk pembayaran saya sudah tidak punya hanya sms banking tetapi tetap saja tidak digubris dari pelayanan pelanggan nya sudah email dan telepon berkali berkali tetap tidak ada hasil sangat mengecewakan \n",
      "\n",
      "\n",
      "--------------------------------------------- Result 14 ---------------------------------------------\n",
      "[[2 (74%)]] --> [[[SKIPPED]]]\n",
      "\n",
      "saya mesan tiket tapi tidak dikonformasi dan proses pengembalian uang yang tidak jelas dan belum ada sampai sekarang pelayanan nya yang sangat buruk dan saran saya jangan pesan di sini sangat mengecewakan \n",
      "\n",
      "\n"
     ]
    },
    {
     "name": "stderr",
     "output_type": "stream",
     "text": [
      "[Succeeded / Failed / Skipped / Total] 6 / 0 / 12 / 18:   4%|▎         | 18/500 [00:06<03:02,  2.65it/s]"
     ]
    },
    {
     "name": "stdout",
     "output_type": "stream",
     "text": [
      "--------------------------------------------- Result 15 ---------------------------------------------\n",
      "[[0 (48%)]] --> [[2 (76%)]]\n",
      "\n",
      "sangat kecewa dengan aplikasi ini sudah ditransfer tetapi etiket tidak dikirim saya coba telepon call centre seharian tetapi sibuk terus call genre nya mending [[pakai]] traveloka adalah untuk pesanan selanjutnya \n",
      "\n",
      "sangat kecewa dengan aplikasi ini sudah ditransfer tetapi etiket tidak dikirim saya coba telepon call centre seharian tetapi sibuk terus call genre nya mending [[makan]] traveloka adalah untuk pesanan selanjutnya \n",
      "\n",
      "\n",
      "--------------------------------------------- Result 16 ---------------------------------------------\n",
      "[[2 (58%)]] --> [[[SKIPPED]]]\n",
      "\n",
      "melihat komen nya negatif jadi pikir pikir buat mencari tiket kereta di sini mending aplikasi yang lain saja yang sudah terbukti bagus bertahun bertahun \n",
      "\n",
      "\n",
      "--------------------------------------------- Result 17 ---------------------------------------------\n",
      "[[2 (75%)]] --> [[[SKIPPED]]]\n",
      "\n",
      "aplikasi tukang bohong promo gratis makan tidak terjadi komplain ke pelayanan pelanggan dengan email tidak ditanggapi komplain by phone hanya dicatat saja tidak ada tindak lanjut sangat tidak direkomendasikan untuk siapa pun \n",
      "\n",
      "\n",
      "--------------------------------------------- Result 18 ---------------------------------------------\n",
      "[[2 (57%)]] --> [[[SKIPPED]]]\n",
      "\n",
      "kata nya dapat promo ribu tapi setelah di bayar di atm nya ternyata harga normal sudah saya kirim email tapi tidak ada balasan mengecewakan \n",
      "\n",
      "\n"
     ]
    },
    {
     "name": "stderr",
     "output_type": "stream",
     "text": [
      "[Succeeded / Failed / Skipped / Total] 7 / 0 / 18 / 25:   5%|▌         | 25/500 [00:07<02:30,  3.16it/s]"
     ]
    },
    {
     "name": "stdout",
     "output_type": "stream",
     "text": [
      "--------------------------------------------- Result 19 ---------------------------------------------\n",
      "[[0 (60%)]] --> [[1 (45%)]]\n",
      "\n",
      "saya sudah bayar untuk hotel tapi etiket tidak terbit saya sudah kirim email bukti pembayaran nya tapi tetap tidak ada mengikuti naik nya sampai hari h [[mau]] cek in ini sudah menghubungi bolak balik pelayanan pelanggan sama saja ngulang ngulang informasi dari awal dijanjikan akan ditelpon tapi tidak dihubungi juga sampai sekarang saya mau laporkan polisi menyebalkan \n",
      "\n",
      "saya sudah bayar untuk hotel tapi etiket tidak terbit saya sudah kirim email bukti pembayaran nya tapi tetap tidak ada mengikuti naik nya sampai hari h [[bagai]] cek in ini sudah menghubungi bolak balik pelayanan pelanggan sama saja ngulang ngulang informasi dari awal dijanjikan akan ditelpon tapi tidak dihubungi juga sampai sekarang saya mau laporkan polisi menyebalkan \n",
      "\n",
      "\n",
      "--------------------------------------------- Result 20 ---------------------------------------------\n",
      "[[2 (58%)]] --> [[[SKIPPED]]]\n",
      "\n",
      "saya kecewa karena saya sudah transfer dan belum dikonfirmasi saya telepon malah pelanggan sibuk terus aduh kecewa nih gue \n",
      "\n",
      "\n",
      "--------------------------------------------- Result 21 ---------------------------------------------\n",
      "[[2 (58%)]] --> [[[SKIPPED]]]\n",
      "\n",
      "saya sudah transfer ratusan ribu dan sesuai nominal transfer tapi tiket belum muncul juga harus diwaspadai ini aplikasi ini bahaya \n",
      "\n",
      "\n",
      "--------------------------------------------- Result 22 ---------------------------------------------\n",
      "[[2 (44%)]] --> [[[SKIPPED]]]\n",
      "\n",
      "pelayanan pelanggan tidak respon komentar disuruh email email saya tidak ditanggapi sudah beberapa hari yang lalu sampai sekarang tidak ada respon menyusahkan saja \n",
      "\n",
      "\n",
      "--------------------------------------------- Result 23 ---------------------------------------------\n",
      "[[2 (39%)]] --> [[[SKIPPED]]]\n",
      "\n",
      "tolong untuk pelayana nya diperjelas ya sudah pesan tiket sudah dibayar tetapi dengan alasan bank bermasalah dan tidak ada pertanggungjawaban untuk memulangkan uang saja harus sampai ditelpon lagi dikirim by email untuk komponen tidak direspon kecewa \n",
      "\n",
      "\n",
      "--------------------------------------------- Result 24 ---------------------------------------------\n",
      "[[2 (61%)]] --> [[[SKIPPED]]]\n",
      "\n",
      "luar biasa kecewa sangat dengan aplikasi ini saya sudah hubungi pusat panggilan untuk cek pemesanan saya karena saya sudah bayar dan tidak muncul e tiket nya bahkan saya sudah kirim bukti transaksi nya ke e mail hingga saat ini tidak ada pihak pusat panggilan yang menghubungi kecewa \n",
      "\n",
      "\n",
      "--------------------------------------------- Result 25 ---------------------------------------------\n",
      "[[2 (53%)]] --> [[[SKIPPED]]]\n",
      "\n",
      "sangat mengecewakan saya pesan tiket dan sudah saya bayar padahal waktu itu belum kadaluarsa pas saya transfer tapi sampai sekarang belum dikasih kode bokong nya malah dikasih notifikasi sudah kadaluarsa lalu uang nya lari nya ke mana pas saya hubungi lewat email hanya ditanggapi sekali saja \n",
      "\n",
      "\n"
     ]
    },
    {
     "name": "stderr",
     "output_type": "stream",
     "text": [
      "[Succeeded / Failed / Skipped / Total] 8 / 0 / 18 / 26:   5%|▌         | 26/500 [00:08<02:29,  3.17it/s]"
     ]
    },
    {
     "name": "stdout",
     "output_type": "stream",
     "text": [
      "--------------------------------------------- Result 26 ---------------------------------------------\n",
      "[[0 (81%)]] --> [[2 (63%)]]\n",
      "\n",
      "tolong [[jangan]] order tiket [[pakai]] aplikasi ini kalau tidak [[mau]] kecewa benci [[banget]] sudah transfer etiket tidak dikirim kirim malah pesanan dibatalkan telpon pelayanan pelanggan juga tidak diangkat di email tidak dibalas \n",
      "\n",
      "tolong [[masakan]] order tiket [[makan]] aplikasi ini kalau tidak [[bagai]] kecewa benci [[amat]] sudah transfer etiket tidak dikirim kirim malah pesanan dibatalkan telpon pelayanan pelanggan juga tidak diangkat di email tidak dibalas \n",
      "\n",
      "\n"
     ]
    },
    {
     "name": "stderr",
     "output_type": "stream",
     "text": [
      "[Succeeded / Failed / Skipped / Total] 9 / 0 / 18 / 27:   5%|▌         | 27/500 [00:09<02:42,  2.92it/s]"
     ]
    },
    {
     "name": "stdout",
     "output_type": "stream",
     "text": [
      "--------------------------------------------- Result 27 ---------------------------------------------\n",
      "[[0 (55%)]] --> [[2 (39%)]]\n",
      "\n",
      "saya pesan tiket pesawat dan sudah [[melakukan]] pembayaran sesuai instruksi namun sudah lebih dari jam belum ada terbit e tiket malahan status pesanan saya malah jadi pemesanan kadaluarsa komplain sudah saya lakukan melalui email dan telpon pelayanan pelanggan sampai sekarang belum ada penyelesaian yang berarti ini sangat merugikan \n",
      "\n",
      "saya pesan tiket pesawat dan sudah [[sedia]] pembayaran sesuai instruksi namun sudah lebih dari jam belum ada terbit e tiket malahan status pesanan saya malah jadi pemesanan kadaluarsa komplain sudah saya lakukan melalui email dan telpon pelayanan pelanggan sampai sekarang belum ada penyelesaian yang berarti ini sangat merugikan \n",
      "\n",
      "\n"
     ]
    },
    {
     "name": "stderr",
     "output_type": "stream",
     "text": [
      "[Succeeded / Failed / Skipped / Total] 10 / 0 / 18 / 28:   6%|▌         | 28/500 [00:09<02:44,  2.87it/s]"
     ]
    },
    {
     "name": "stdout",
     "output_type": "stream",
     "text": [
      "--------------------------------------------- Result 28 ---------------------------------------------\n",
      "[[0 (47%)]] --> [[2 (50%)]]\n",
      "\n",
      "saya pesan ticket sampai sekarang tidak ada konformasi nya uang sudah ditransfer kalau seperti itu kembalikan uang nya tai [[sekali]] telepon pusat panggilan habis pulsa hampir tidak ada kembalikan uang saya jangan pernah kalian pesan tiket di sini menyesal\n",
      "\n",
      "saya pesan ticket sampai sekarang tidak ada konformasi nya uang sudah ditransfer kalau seperti itu kembalikan uang nya tai [[cukup]] telepon pusat panggilan habis pulsa hampir tidak ada kembalikan uang saya jangan pernah kalian pesan tiket di sini menyesal\n",
      "\n",
      "\n"
     ]
    },
    {
     "name": "stderr",
     "output_type": "stream",
     "text": [
      "[Succeeded / Failed / Skipped / Total] 11 / 0 / 18 / 29:   6%|▌         | 29/500 [00:10<02:44,  2.86it/s]"
     ]
    },
    {
     "name": "stdout",
     "output_type": "stream",
     "text": [
      "--------------------------------------------- Result 29 ---------------------------------------------\n",
      "[[0 (55%)]] --> [[2 (49%)]]\n",
      "\n",
      "pembayaran sudah dilakukan tetapi e tiket tidak dikirim dikirim malah dipesan diblang kadaluarsa titip cs nya berkali berkali jwaban nya tidak ada yang membantu dan tidak sinkron [[semua]] sampai sekarang belum jelas pengembalian uang ataupun penggantian tiket disarankan tidak usah memakai aplikasi ini \n",
      "\n",
      "pembayaran sudah dilakukan tetapi e tiket tidak dikirim dikirim malah dipesan diblang kadaluarsa titip cs nya berkali berkali jwaban nya tidak ada yang membantu dan tidak sinkron [[betul-betul]] sampai sekarang belum jelas pengembalian uang ataupun penggantian tiket disarankan tidak usah memakai aplikasi ini \n",
      "\n",
      "\n"
     ]
    },
    {
     "name": "stderr",
     "output_type": "stream",
     "text": [
      "[Succeeded / Failed / Skipped / Total] 12 / 0 / 18 / 30:   6%|▌         | 30/500 [00:10<02:49,  2.78it/s]"
     ]
    },
    {
     "name": "stdout",
     "output_type": "stream",
     "text": [
      "--------------------------------------------- Result 30 ---------------------------------------------\n",
      "[[0 (51%)]] --> [[2 (50%)]]\n",
      "\n",
      "sangat mengecewakan di mana kalau pesan tiket sudah dibayar sudah dikasih bukti transfer itu langsung dikasih nomor e tiket nya ini kok tidak [[ada]] konfirmasi apa sudah mendekati hari h tiba pesanan kadaluarsa pelayanan sangat buruk pelayanan pelanggan nya juga tidak sopan segera kembalikan uang pengembalian dana tiket saya \n",
      "\n",
      "sangat mengecewakan di mana kalau pesan tiket sudah dibayar sudah dikasih bukti transfer itu langsung dikasih nomor e tiket nya ini kok tidak [[minum]] konfirmasi apa sudah mendekati hari h tiba pesanan kadaluarsa pelayanan sangat buruk pelayanan pelanggan nya juga tidak sopan segera kembalikan uang pengembalian dana tiket saya \n",
      "\n",
      "\n"
     ]
    },
    {
     "name": "stderr",
     "output_type": "stream",
     "text": [
      "[Succeeded / Failed / Skipped / Total] 13 / 0 / 18 / 31:   6%|▌         | 31/500 [00:11<02:51,  2.74it/s]"
     ]
    },
    {
     "name": "stdout",
     "output_type": "stream",
     "text": [
      "--------------------------------------------- Result 31 ---------------------------------------------\n",
      "[[0 (65%)]] --> [[2 (49%)]]\n",
      "\n",
      "saya sudah komplain dengan berbagai cara tapi sangat tidak mengenakkan selain lama respon tetapi juga tidak ditanggapi saya sudah transfer uang dan sudah saya kirim tanda bukti nya tapi sampai saat ini tidak ada kejelasan sama [[sekali]] saya merasa tertipu \n",
      "\n",
      "saya sudah komplain dengan berbagai cara tapi sangat tidak mengenakkan selain lama respon tetapi juga tidak ditanggapi saya sudah transfer uang dan sudah saya kirim tanda bukti nya tapi sampai saat ini tidak ada kejelasan sama [[cukup]] saya merasa tertipu \n",
      "\n",
      "\n"
     ]
    },
    {
     "name": "stderr",
     "output_type": "stream",
     "text": [
      "[Succeeded / Failed / Skipped / Total] 14 / 0 / 18 / 32:   6%|▋         | 32/500 [00:11<02:52,  2.72it/s]"
     ]
    },
    {
     "name": "stdout",
     "output_type": "stream",
     "text": [
      "--------------------------------------------- Result 32 ---------------------------------------------\n",
      "[[0 (48%)]] --> [[2 (79%)]]\n",
      "\n",
      "saya hilang juta dari apa ini karena terjadi eror saat melanjutkan pembayaran yang terpending menyebabkan isi isi data penumpang dan terjadi kesalahan flight kecewa [[sekali]] dengan fasilitas yang ada \n",
      "\n",
      "saya hilang juta dari apa ini karena terjadi eror saat melanjutkan pembayaran yang terpending menyebabkan isi isi data penumpang dan terjadi kesalahan flight kecewa [[cukup]] dengan fasilitas yang ada \n",
      "\n",
      "\n"
     ]
    },
    {
     "name": "stderr",
     "output_type": "stream",
     "text": [
      "[Succeeded / Failed / Skipped / Total] 15 / 0 / 18 / 33:   7%|▋         | 33/500 [00:12<03:01,  2.57it/s]"
     ]
    },
    {
     "name": "stdout",
     "output_type": "stream",
     "text": [
      "--------------------------------------------- Result 33 ---------------------------------------------\n",
      "[[0 (75%)]] --> [[1 (43%)]]\n",
      "\n",
      "sudah [[melakukan]] pembayaran tetapi tiket ada bukti transfer sudah dilampirkan ke email dengan alasan uang belum diterima ini niat jualan apa [[mau]] mengambil uang orang tidak lagi lagi beli tiket di tiket com sumpah asli tipu dan produk sampah\n",
      "\n",
      "sudah [[sedia]] pembayaran tetapi tiket ada bukti transfer sudah dilampirkan ke email dengan alasan uang belum diterima ini niat jualan apa [[bagai]] mengambil uang orang tidak lagi lagi beli tiket di tiket com sumpah asli tipu dan produk sampah\n",
      "\n",
      "\n"
     ]
    },
    {
     "name": "stderr",
     "output_type": "stream",
     "text": [
      "[Succeeded / Failed / Skipped / Total] 16 / 0 / 18 / 34:   7%|▋         | 34/500 [00:13<03:01,  2.57it/s]"
     ]
    },
    {
     "name": "stdout",
     "output_type": "stream",
     "text": [
      "--------------------------------------------- Result 34 ---------------------------------------------\n",
      "[[0 (48%)]] --> [[2 (54%)]]\n",
      "\n",
      "saya baru saja mengalami pesan tiket lewat ini aplikasi penipu sudah transfer uang tapi belum ada balasan dan tidak ada respon jangan pernah [[pakai]] aplikasi tak nii \n",
      "\n",
      "saya baru saja mengalami pesan tiket lewat ini aplikasi penipu sudah transfer uang tapi belum ada balasan dan tidak ada respon jangan pernah [[makan]] aplikasi tak nii \n",
      "\n",
      "\n"
     ]
    },
    {
     "name": "stderr",
     "output_type": "stream",
     "text": [
      "[Succeeded / Failed / Skipped / Total] 17 / 0 / 18 / 35:   7%|▋         | 35/500 [00:13<02:59,  2.60it/s]"
     ]
    },
    {
     "name": "stdout",
     "output_type": "stream",
     "text": [
      "--------------------------------------------- Result 35 ---------------------------------------------\n",
      "[[0 (54%)]] --> [[2 (44%)]]\n",
      "\n",
      "biasanya pesan tiket pesawat lancar lancar saja terakhir beli tiket kereta eksekutif untuk [[orang]] sudah ditransfer sebelum waktu berakhir tetapi cek order pemesanan kadaluarsa menyebalkan \n",
      "\n",
      "biasanya pesan tiket pesawat lancar lancar saja terakhir beli tiket kereta eksekutif untuk [[ada]] sudah ditransfer sebelum waktu berakhir tetapi cek order pemesanan kadaluarsa menyebalkan \n",
      "\n",
      "\n"
     ]
    },
    {
     "name": "stderr",
     "output_type": "stream",
     "text": [
      "[Succeeded / Failed / Skipped / Total] 18 / 0 / 18 / 36:   7%|▋         | 36/500 [00:13<02:58,  2.60it/s]"
     ]
    },
    {
     "name": "stdout",
     "output_type": "stream",
     "text": [
      "--------------------------------------------- Result 36 ---------------------------------------------\n",
      "[[0 (66%)]] --> [[2 (43%)]]\n",
      "\n",
      "proses pengembalian dana lama sudah dibayar tapi kode pesan tidak dapat pelayanan [[kurang]] telepon ke pelayanan pelanggan [[pakai]] pulsa yang banyak tidak [[mau]] pesan lagi di sini\n",
      "\n",
      "proses pengembalian dana lama sudah dibayar tapi kode pesan tidak dapat pelayanan [[canggung]] telepon ke pelayanan pelanggan [[makan]] pulsa yang banyak tidak [[bagai]] pesan lagi di sini\n",
      "\n",
      "\n"
     ]
    },
    {
     "name": "stderr",
     "output_type": "stream",
     "text": [
      "[Succeeded / Failed / Skipped / Total] 19 / 0 / 18 / 37:   7%|▋         | 37/500 [00:14<02:56,  2.63it/s]"
     ]
    },
    {
     "name": "stdout",
     "output_type": "stream",
     "text": [
      "--------------------------------------------- Result 37 ---------------------------------------------\n",
      "[[0 (53%)]] --> [[2 (51%)]]\n",
      "\n",
      "e tiket belum diterima padahal uang nya sudah ditransfer pas [[mau]] konfirmasi ke pelayanan pelanggan tidak pernah direspons e mail juga tidak dijawab mantap bikin kecewa saja bisa nya \n",
      "\n",
      "e tiket belum diterima padahal uang nya sudah ditransfer pas [[bagai]] konfirmasi ke pelayanan pelanggan tidak pernah direspons e mail juga tidak dijawab mantap bikin kecewa saja bisa nya \n",
      "\n",
      "\n"
     ]
    },
    {
     "name": "stderr",
     "output_type": "stream",
     "text": [
      "[Succeeded / Failed / Skipped / Total] 21 / 0 / 22 / 43:   9%|▊         | 43/500 [00:15<02:40,  2.85it/s]"
     ]
    },
    {
     "name": "stdout",
     "output_type": "stream",
     "text": [
      "--------------------------------------------- Result 38 ---------------------------------------------\n",
      "[[0 (49%)]] --> [[2 (53%)]]\n",
      "\n",
      "saya sudah berhasil transaksi [[sesuai]] nominal tagihan dan sampai saat ini belum dapat etiket ini pelayanan yang sangat buruk dan menjengkelkan sudah email beberapa kali tapi tidak ada respon pelayanan pelanggan nya yang super duper lemah otak kalau kode pesan tidak juga dikirim pokokanyak duit saya harus kembali \n",
      "\n",
      "saya sudah berhasil transaksi [[cocok]] nominal tagihan dan sampai saat ini belum dapat etiket ini pelayanan yang sangat buruk dan menjengkelkan sudah email beberapa kali tapi tidak ada respon pelayanan pelanggan nya yang super duper lemah otak kalau kode pesan tidak juga dikirim pokokanyak duit saya harus kembali \n",
      "\n",
      "\n",
      "--------------------------------------------- Result 39 ---------------------------------------------\n",
      "[[2 (67%)]] --> [[[SKIPPED]]]\n",
      "\n",
      "tidak bisa menggunakan kode promo di aplikasi android telpon ke pelayanan pelanggan bilang nya tidak ada solusi nya oke uninstall dan tidak rekomendasi \n",
      "\n",
      "\n",
      "--------------------------------------------- Result 40 ---------------------------------------------\n",
      "[[2 (42%)]] --> [[[SKIPPED]]]\n",
      "\n",
      "menyesal pesan tiket pesawat di tiket com sudah di transfer dibilang transaksi kedaluarsa pulsa habis banyak untuk telpon pelayanan pelanggan \n",
      "\n",
      "\n",
      "--------------------------------------------- Result 41 ---------------------------------------------\n",
      "[[2 (49%)]] --> [[[SKIPPED]]]\n",
      "\n",
      "di saat saya salah pembelian pengembalian uang cuma itu tidak masalah abang saya tetapi sudah bulan belum ada juga pengembalian nya tiket com tidak bisa dipercaya \n",
      "\n",
      "\n",
      "--------------------------------------------- Result 42 ---------------------------------------------\n",
      "[[2 (59%)]] --> [[[SKIPPED]]]\n",
      "\n",
      "sangat kecewa dengan pelayanan nya saya sudah transfer tapi sampai sekarang belum ada konfirmasi padahal sudah kirim bukti transfer dan sudah telpon ke cs nya \n",
      "\n",
      "\n",
      "--------------------------------------------- Result 43 ---------------------------------------------\n",
      "[[0 (53%)]] --> [[1 (38%)]]\n",
      "\n",
      "saya kecewa [[sama]] aplikasi ini padahal cek in nya jam malahan saya ketinggal pesawat kembalikan uang saya \n",
      "\n",
      "saya kecewa [[bagai]] aplikasi ini padahal cek in nya jam malahan saya ketinggal pesawat kembalikan uang saya \n",
      "\n",
      "\n"
     ]
    },
    {
     "name": "stderr",
     "output_type": "stream",
     "text": [
      "[Succeeded / Failed / Skipped / Total] 22 / 0 / 23 / 45:   9%|▉         | 45/500 [00:15<02:36,  2.90it/s]"
     ]
    },
    {
     "name": "stdout",
     "output_type": "stream",
     "text": [
      "--------------------------------------------- Result 44 ---------------------------------------------\n",
      "[[0 (59%)]] --> [[2 (48%)]]\n",
      "\n",
      "tiket kadaluarsa padahal sudah bayar kacau mengganggu waktu dan rencana saya sistem nya tidak bagus pelayanan pelanggan nya tidak professional kalau tidak [[mau]] kerja suruh jangan kerja \n",
      "\n",
      "tiket kadaluarsa padahal sudah bayar kacau mengganggu waktu dan rencana saya sistem nya tidak bagus pelayanan pelanggan nya tidak professional kalau tidak [[bagai]] kerja suruh jangan kerja \n",
      "\n",
      "\n",
      "--------------------------------------------- Result 45 ---------------------------------------------\n",
      "[[2 (78%)]] --> [[[SKIPPED]]]\n",
      "\n",
      "maaf ya saya uninstall saya kecewa karena sudah melakukan pembayaran tetapi tidak dikonfirmasi saya sudah komplain via email tetapi respon nya sangat lambat \n",
      "\n",
      "\n"
     ]
    },
    {
     "name": "stderr",
     "output_type": "stream",
     "text": [
      "[Succeeded / Failed / Skipped / Total] 24 / 0 / 24 / 48:  10%|▉         | 48/500 [00:15<02:29,  3.02it/s]"
     ]
    },
    {
     "name": "stdout",
     "output_type": "stream",
     "text": [
      "--------------------------------------------- Result 46 ---------------------------------------------\n",
      "[[0 (47%)]] --> [[2 (66%)]]\n",
      "\n",
      "serem melihat pengalaman yang sudah pesan di sini mending uninstal saja aplikasi abal abal ini mending [[pakai]] burung biru saja jelas \n",
      "\n",
      "serem melihat pengalaman yang sudah pesan di sini mending uninstal saja aplikasi abal abal ini mending [[makan]] burung biru saja jelas \n",
      "\n",
      "\n",
      "--------------------------------------------- Result 47 ---------------------------------------------\n",
      "[[2 (75%)]] --> [[[SKIPPED]]]\n",
      "\n",
      "minta dikembalikan karena permasalahan bencana alam tapi tidak ada respon baik dari pelanggan nya sangat mengecewakan \n",
      "\n",
      "\n",
      "--------------------------------------------- Result 48 ---------------------------------------------\n",
      "[[0 (48%)]] --> [[2 (79%)]]\n",
      "\n",
      "aplikasi tipu sialan mengembalikan duit gua gua minta prtnggungjawaban susah [[sekali]] sialan menyebalkan \n",
      "\n",
      "aplikasi tipu sialan mengembalikan duit gua gua minta prtnggungjawaban susah [[cukup]] sialan menyebalkan \n",
      "\n",
      "\n"
     ]
    },
    {
     "name": "stderr",
     "output_type": "stream",
     "text": [
      "[Succeeded / Failed / Skipped / Total] 25 / 0 / 24 / 49:  10%|▉         | 49/500 [00:16<02:31,  2.97it/s]"
     ]
    },
    {
     "name": "stdout",
     "output_type": "stream",
     "text": [
      "--------------------------------------------- Result 49 ---------------------------------------------\n",
      "[[0 (62%)]] --> [[2 (34%)]]\n",
      "\n",
      "saya kemarin batalkan tiket pesawat karena salah ordrer kami sudah minta dikembalikan dan dapat balasan baru diproses tapi kenapa proses [[lama]] tidak [[seperti]] traveloka saat itu langsung dikembalikan pelayanan pelanggan pun telepon nya tarif [[mahal]] ini sudah lebih tiga hari setelah saya baca ternyata banyak pelanggan yang dibuat kecewa \n",
      "\n",
      "saya kemarin batalkan tiket pesawat karena salah ordrer kami sudah minta dikembalikan dan dapat balasan baru diproses tapi kenapa proses [[bahari]] tidak [[bagai]] traveloka saat itu langsung dikembalikan pelayanan pelanggan pun telepon nya tarif [[banyak]] ini sudah lebih tiga hari setelah saya baca ternyata banyak pelanggan yang dibuat kecewa \n",
      "\n",
      "\n"
     ]
    },
    {
     "name": "stderr",
     "output_type": "stream",
     "text": [
      "[Succeeded / Failed / Skipped / Total] 26 / 0 / 27 / 53:  11%|█         | 53/500 [00:16<02:21,  3.15it/s]"
     ]
    },
    {
     "name": "stdout",
     "output_type": "stream",
     "text": [
      "--------------------------------------------- Result 50 ---------------------------------------------\n",
      "[[0 (53%)]] --> [[2 (55%)]]\n",
      "\n",
      "tolong ya dana pengembalian dana saya ini sudah berbulan bulan saya email berkali kali tidak dibalas masalah nya ini bukan ratusan ribu atau satu dua jutaan sama [[sekali]] tidak bertanggung jawab dan sangat mengecewakan\n",
      "\n",
      "tolong ya dana pengembalian dana saya ini sudah berbulan bulan saya email berkali kali tidak dibalas masalah nya ini bukan ratusan ribu atau satu dua jutaan sama [[cukup]] tidak bertanggung jawab dan sangat mengecewakan\n",
      "\n",
      "\n",
      "--------------------------------------------- Result 51 ---------------------------------------------\n",
      "[[2 (39%)]] --> [[[SKIPPED]]]\n",
      "\n",
      "saya melakukan pemesanan dan sudah transfer tapi etiket belum juga masuk dana saya juga belum ditransfer bahkan layanan live obrolan nya tidak ada menyebalkan \n",
      "\n",
      "\n",
      "--------------------------------------------- Result 52 ---------------------------------------------\n",
      "[[2 (66%)]] --> [[[SKIPPED]]]\n",
      "\n",
      "sebelumnya saya senang sekali menggunakan aplikasi ini tetapi sekarang agak kecewa kenapa diminta update dan karena belum diupdate aplikasi tidak dapat dijalankan pertanyaan saya update terbaru ini kenapa minta izin akses ke kontak dan telpon ini membuat konsumen tidak nyaman \n",
      "\n",
      "\n",
      "--------------------------------------------- Result 53 ---------------------------------------------\n",
      "[[2 (43%)]] --> [[[SKIPPED]]]\n",
      "\n",
      "sudah hampir bulan ini pengembalian dana dana tidak balik kali dapat notifikasi email berisi pengembalian dana dana sudah dikembalikan tapi kenyataan tidak ada dana yang masuk ke rekening saya dua kali juga suruh upload mutasi rekening telpon pelayanan pelanggan cuma bilang mengikuti naik saja sampai sekarang dana tidak balik \n",
      "\n",
      "\n"
     ]
    },
    {
     "name": "stderr",
     "output_type": "stream",
     "text": [
      "[Succeeded / Failed / Skipped / Total] 27 / 0 / 28 / 55:  11%|█         | 55/500 [00:17<02:20,  3.16it/s]"
     ]
    },
    {
     "name": "stdout",
     "output_type": "stream",
     "text": [
      "--------------------------------------------- Result 54 ---------------------------------------------\n",
      "[[0 (74%)]] --> [[2 (44%)]]\n",
      "\n",
      "sangat jelek pelayanan nya saya transfer kelebihan saja tidak dikasih tiket pesan dan proses pengembalian dana nya lama [[banget]] sedangkan saya harus beli tiket baru lagi karena [[orang]] tua saya sakit tapi tidak ada kebijakan nya malah disuruh tunggu hari jelek [[sekali]] \n",
      "\n",
      "sangat jelek pelayanan nya saya transfer kelebihan saja tidak dikasih tiket pesan dan proses pengembalian dana nya lama [[amat]] sedangkan saya harus beli tiket baru lagi karena [[ada]] tua saya sakit tapi tidak ada kebijakan nya malah disuruh tunggu hari jelek [[cukup]] \n",
      "\n",
      "\n",
      "--------------------------------------------- Result 55 ---------------------------------------------\n",
      "[[2 (44%)]] --> [[[SKIPPED]]]\n",
      "\n",
      "terminal nya tidak ditulis tahu dari mana saya kontak tidak ada balasan mending aplikasi sebelah lebih oke baru sekali coba sudah kayak gini kesan nya tidak asik \n",
      "\n",
      "\n"
     ]
    },
    {
     "name": "stderr",
     "output_type": "stream",
     "text": [
      "[Succeeded / Failed / Skipped / Total] 28 / 0 / 28 / 56:  11%|█         | 56/500 [00:17<02:21,  3.14it/s]"
     ]
    },
    {
     "name": "stdout",
     "output_type": "stream",
     "text": [
      "--------------------------------------------- Result 56 ---------------------------------------------\n",
      "[[0 (55%)]] --> [[2 (71%)]]\n",
      "\n",
      "kami meyewa kamar sangat kecewa dengan fasilitas yang didapat mulai dari ac yang tidak berfungsi dengan baik alat cukur di kamar yang tidak layak [[pakai]] sampai dapat apel yang busuk di evening coctail \n",
      "\n",
      "kami meyewa kamar sangat kecewa dengan fasilitas yang didapat mulai dari ac yang tidak berfungsi dengan baik alat cukur di kamar yang tidak layak [[makan]] sampai dapat apel yang busuk di evening coctail \n",
      "\n",
      "\n"
     ]
    },
    {
     "name": "stderr",
     "output_type": "stream",
     "text": [
      "[Succeeded / Failed / Skipped / Total] 29 / 0 / 29 / 58:  12%|█▏        | 58/500 [00:18<02:20,  3.15it/s]"
     ]
    },
    {
     "name": "stdout",
     "output_type": "stream",
     "text": [
      "--------------------------------------------- Result 57 ---------------------------------------------\n",
      "[[0 (73%)]] --> [[2 (52%)]]\n",
      "\n",
      "gue [[merasa]] dirugikan banget sih ini harga miyako dispenser yang dp kualitas nya sama kayak profesional meja dispenser sanex ini tidak [[tahu]] gue saja yang mengalahkan atau bagaimana tapi yang pasti cold [[sama]] hot nya tidak berfungsi \n",
      "\n",
      "gue [[pandang]] dirugikan banget sih ini harga miyako dispenser yang dp kualitas nya sama kayak profesional meja dispenser sanex ini tidak [[rasa]] gue saja yang mengalahkan atau bagaimana tapi yang pasti cold [[bagai]] hot nya tidak berfungsi \n",
      "\n",
      "\n",
      "--------------------------------------------- Result 58 ---------------------------------------------\n",
      "[[2 (58%)]] --> [[[SKIPPED]]]\n",
      "\n",
      "bicara kemiskinan tetapi hidup dengan kemewahan bicara kesenjangan tetapi harta triliunan bicara cinta nkri tetapi ngemplang pajak bicara kelaparan tetapi tidak bisa tahan lapar aneh \n",
      "\n",
      "\n"
     ]
    },
    {
     "name": "stderr",
     "output_type": "stream",
     "text": [
      "[Succeeded / Failed / Skipped / Total] 30 / 0 / 29 / 59:  12%|█▏        | 59/500 [00:18<02:20,  3.14it/s]"
     ]
    },
    {
     "name": "stdout",
     "output_type": "stream",
     "text": [
      "--------------------------------------------- Result 59 ---------------------------------------------\n",
      "[[0 (50%)]] --> [[2 (63%)]]\n",
      "\n",
      "bicara kedamaian tetapi suka bikin gaduh bicara lawan isu bohong tetapi suka bicara ngawur yang kayak begini tidak pantas dipercaya [[jadi]] pemimpin \n",
      "\n",
      "bicara kedamaian tetapi suka bikin gaduh bicara lawan isu bohong tetapi suka bicara ngawur yang kayak begini tidak pantas dipercaya [[minum]] pemimpin \n",
      "\n",
      "\n"
     ]
    },
    {
     "name": "stderr",
     "output_type": "stream",
     "text": [
      "[Succeeded / Failed / Skipped / Total] 31 / 0 / 29 / 60:  12%|█▏        | 60/500 [00:20<02:29,  2.94it/s]"
     ]
    },
    {
     "name": "stdout",
     "output_type": "stream",
     "text": [
      "--------------------------------------------- Result 60 ---------------------------------------------\n",
      "[[0 (77%)]] --> [[2 (37%)]]\n",
      "\n",
      "[[buat]] kamu yang [[ke]] wattpad hanya [[buat]] mereport author yang bikin ff bxb mending cari kerjaan yang lebih berfaedah daripada menganjurkan karya orang membayangkan [[semua]] ide yang dibikin capek capek hilang gara gara [[orang]] yang gemar mereport karya [[orang]] lain kalau gasuka bab ya enggak usah [[lihat]] \n",
      "\n",
      "[[sedia]] kamu yang [[masuk]] wattpad hanya [[sedia]] mereport author yang bikin ff bxb mending cari kerjaan yang lebih berfaedah daripada menganjurkan karya orang membayangkan [[sempurna]] ide yang dibikin capek capek hilang gara gara [[umat]] yang gemar mereport karya [[ada]] lain kalau gasuka bab ya enggak usah [[berjumpa]] \n",
      "\n",
      "\n"
     ]
    },
    {
     "name": "stderr",
     "output_type": "stream",
     "text": [
      "[Succeeded / Failed / Skipped / Total] 32 / 0 / 29 / 61:  12%|█▏        | 61/500 [00:21<02:35,  2.82it/s]"
     ]
    },
    {
     "name": "stdout",
     "output_type": "stream",
     "text": [
      "--------------------------------------------- Result 61 ---------------------------------------------\n",
      "[[0 (50%)]] --> [[2 (69%)]]\n",
      "\n",
      "betul era sebelum perbedaan politik suatu hal yang [[biasa]] media sosial damai sejak jokowi nyapres pendukung pendukung nya suka cari ribut ke yang berbeda contoh di pilgub dki kami ikut ulama dibilang radikal intoleran jangan bawa bawa agama dan ulama sekarang ya dengan jadi cawapres yang tidak pilih dibilang anti ulama hadeuh pusing \n",
      "\n",
      "betul era sebelum perbedaan politik suatu hal yang [[khas]] media sosial damai sejak jokowi nyapres pendukung pendukung nya suka cari ribut ke yang berbeda contoh di pilgub dki kami ikut ulama dibilang radikal intoleran jangan bawa bawa agama dan ulama sekarang ya dengan jadi cawapres yang tidak pilih dibilang anti ulama hadeuh pusing \n",
      "\n",
      "\n"
     ]
    },
    {
     "name": "stderr",
     "output_type": "stream",
     "text": [
      "[Succeeded / Failed / Skipped / Total] 33 / 0 / 29 / 62:  12%|█▏        | 62/500 [00:22<02:38,  2.76it/s]"
     ]
    },
    {
     "name": "stdout",
     "output_type": "stream",
     "text": [
      "--------------------------------------------- Result 62 ---------------------------------------------\n",
      "[[0 (63%)]] --> [[2 (49%)]]\n",
      "\n",
      "[[suka]] kesal dengan kpopers yang mukulin pangsek sumpah saya kesal banget sama kalian saya dukung yanglek karena dia satu satu nya rapper yang muka nya seperti lipatan kulit badak kenapa kalian tidak mengajak saya dan tidak dimatikan sekalian atau direndam [[pakai]] rinso biar bening gue kan benci banget [[sama]] dia \n",
      "\n",
      "[[bagai]] kesal dengan kpopers yang mukulin pangsek sumpah saya kesal banget sama kalian saya dukung yanglek karena dia satu satu nya rapper yang muka nya seperti lipatan kulit badak kenapa kalian tidak mengajak saya dan tidak dimatikan sekalian atau direndam [[makan]] rinso biar bening gue kan benci banget [[bagai]] dia \n",
      "\n",
      "\n"
     ]
    },
    {
     "name": "stderr",
     "output_type": "stream",
     "text": [
      "[Succeeded / Failed / Skipped / Total] 34 / 0 / 32 / 66:  13%|█▎        | 66/500 [00:23<02:35,  2.79it/s]"
     ]
    },
    {
     "name": "stdout",
     "output_type": "stream",
     "text": [
      "--------------------------------------------- Result 63 ---------------------------------------------\n",
      "[[0 (69%)]] --> [[2 (50%)]]\n",
      "\n",
      "entah kenapa saya tidak [[suka]] [[melihat]] cara politisi mengemis suara dengan mengorbankan kemuliaan ulama kalau alim yang punya track record di partai sih tidak masalah ini kiai dengan ruf sudah setua itu harus lagi [[menerima]] caci maki dan tekanan terlalu kejam saya rasa kejam [[banget]] malah \n",
      "\n",
      "entah kenapa saya tidak [[bagai]] [[makan]] cara politisi mengemis suara dengan mengorbankan kemuliaan ulama kalau alim yang punya track record di partai sih tidak masalah ini kiai dengan ruf sudah setua itu harus lagi [[makan]] caci maki dan tekanan terlalu kejam saya rasa kejam [[terlalu]] malah \n",
      "\n",
      "\n",
      "--------------------------------------------- Result 64 ---------------------------------------------\n",
      "[[2 (65%)]] --> [[[SKIPPED]]]\n",
      "\n",
      "gua enggak suka cara pelatih timnas u yang melarang pemain nya diwawancara sama teman teman media di luar sana justru pemain muda diajari public speaking baik di depan media maupun di depan rakyat harus nya pelatih atau manager cukup membatasi apa yang tidak boleh dishare ke media \n",
      "\n",
      "\n",
      "--------------------------------------------- Result 65 ---------------------------------------------\n",
      "[[2 (58%)]] --> [[[SKIPPED]]]\n",
      "\n",
      "takdir politik ahy belum bisa ikut kontestasi pilpres walaupun ahy legowo kami tetap kecewa \n",
      "\n",
      "\n",
      "--------------------------------------------- Result 66 ---------------------------------------------\n",
      "[[2 (38%)]] --> [[[SKIPPED]]]\n",
      "\n",
      "yang mengira politik itu cuma soal dukung partai tokoh atau kepentingan nya saja pasti kemarin dan hari ini kecewa ketika ekspektasi nya tidak terpenuhi politik itu sarana mewujudkan amanat pembukaan uud untuk bangsa ini tokoh partai itu cuma alat saja \n",
      "\n",
      "\n"
     ]
    },
    {
     "name": "stderr",
     "output_type": "stream",
     "text": [
      "[Succeeded / Failed / Skipped / Total] 35 / 0 / 33 / 68:  14%|█▎        | 68/500 [00:23<02:32,  2.84it/s]"
     ]
    },
    {
     "name": "stdout",
     "output_type": "stream",
     "text": [
      "--------------------------------------------- Result 67 ---------------------------------------------\n",
      "[[0 (56%)]] --> [[2 (44%)]]\n",
      "\n",
      "saya kecewa [[sama]] waktu beliau berhentikan sebagai mendikbud setelah saya [[tahu]] bagaimana kinerja nya baru paham mengapa dia diberhentikan sekarang pun begitu keputusan yang diambil jokowi pasti beralasan termasuk pemilihan wapres \n",
      "\n",
      "saya kecewa [[bagai]] waktu beliau berhentikan sebagai mendikbud setelah saya [[bercinta]] bagaimana kinerja nya baru paham mengapa dia diberhentikan sekarang pun begitu keputusan yang diambil jokowi pasti beralasan termasuk pemilihan wapres \n",
      "\n",
      "\n",
      "--------------------------------------------- Result 68 ---------------------------------------------\n",
      "[[2 (46%)]] --> [[[SKIPPED]]]\n",
      "\n",
      "udahlah kecewa jakarta dapet nya anies sandi terus gue harus kecewa dua kali dengan dapat prabowo sandi lagi ogah amat \n",
      "\n",
      "\n"
     ]
    },
    {
     "name": "stderr",
     "output_type": "stream",
     "text": [
      "[Succeeded / Failed / Skipped / Total] 36 / 0 / 33 / 69:  14%|█▍        | 69/500 [00:24<02:35,  2.77it/s]"
     ]
    },
    {
     "name": "stdout",
     "output_type": "stream",
     "text": [
      "--------------------------------------------- Result 69 ---------------------------------------------\n",
      "[[0 (53%)]] --> [[1 (44%)]]\n",
      "\n",
      "kecewa berat kepada pihak stasiun tv yang mengacak siaran nya karena rakyat jelata seperti kami tidak bisa melihat timnas u bermain percuma kita tuan rumah kalau rakyat indonesia sendiri tidak bisa melihat di tv salam [[buat]] pihak yang terkait semoga kalian [[semua]] puas \n",
      "\n",
      "kecewa berat kepada pihak stasiun tv yang mengacak siaran nya karena rakyat jelata seperti kami tidak bisa melihat timnas u bermain percuma kita tuan rumah kalau rakyat indonesia sendiri tidak bisa melihat di tv salam [[sedia]] pihak yang terkait semoga kalian [[betul-betul]] puas \n",
      "\n",
      "\n"
     ]
    },
    {
     "name": "stderr",
     "output_type": "stream",
     "text": [
      "[Succeeded / Failed / Skipped / Total] 37 / 0 / 34 / 71:  14%|█▍        | 71/500 [00:25<02:33,  2.79it/s]"
     ]
    },
    {
     "name": "stdout",
     "output_type": "stream",
     "text": [
      "--------------------------------------------- Result 70 ---------------------------------------------\n",
      "[[0 (75%)]] --> [[2 (60%)]]\n",
      "\n",
      "pak kami [[orang]] kampung yang [[khusus]] [[orang]] sumatera pedalaman kami [[sangat]] kecewa dengan hal penyiaran asian games sebenarnya regulasi bisa diubah karena ini wilayah indonesia jadi apa pun yang berada diindonesia harus mengikutkan perintah dari saya\n",
      "\n",
      "pak kami [[ada]] kampung yang [[khas]] [[ada]] sumatera pedalaman kami [[bagus]] kecewa dengan hal penyiaran asian games sebenarnya regulasi bisa diubah karena ini wilayah indonesia jadi apa pun yang berada diindonesia harus mengikutkan perintah dari saya\n",
      "\n",
      "\n",
      "--------------------------------------------- Result 71 ---------------------------------------------\n",
      "[[2 (53%)]] --> [[[SKIPPED]]]\n",
      "\n",
      "dukungan untuk asian games terbatas ini status satu kampung aku yang merasa kecewa ri nahrawi\n",
      "\n",
      "\n"
     ]
    },
    {
     "name": "stderr",
     "output_type": "stream",
     "text": [
      "[Succeeded / Failed / Skipped / Total] 38 / 0 / 37 / 75:  15%|█▌        | 75/500 [00:25<02:26,  2.90it/s]"
     ]
    },
    {
     "name": "stdout",
     "output_type": "stream",
     "text": [
      "--------------------------------------------- Result 72 ---------------------------------------------\n",
      "[[0 (43%)]] --> [[1 (39%)]]\n",
      "\n",
      "tugas tv sctv itu untuk menghibur rakyat indonesia bukan malah [[membuat]] rakyat indonesia kecewa jangan selalu uang yang kalian pikirkan pak \n",
      "\n",
      "tugas tv sctv itu untuk menghibur rakyat indonesia bukan malah [[sedia]] rakyat indonesia kecewa jangan selalu uang yang kalian pikirkan pak \n",
      "\n",
      "\n",
      "--------------------------------------------- Result 73 ---------------------------------------------\n",
      "[[2 (51%)]] --> [[[SKIPPED]]]\n",
      "\n",
      "kami warga khusus sumatera kalimantan dan papua sangat kecewa dengan cara penyiaran asian games cabor sepak bola jangan bagikan alasan bahwa itu adalah aturan dari oympic bila bola itu adalah alasan basi memang kami bodoh apa \n",
      "\n",
      "\n",
      "--------------------------------------------- Result 74 ---------------------------------------------\n",
      "[[2 (50%)]] --> [[[SKIPPED]]]\n",
      "\n",
      "sebagai resmi broadcast saya merasa kecewa dengan karena selain siaran yang di acak iklan pop naik yang menutupi layar juga tidak menayangkan pertandingan lainn nya bahkan menjelang asian games masih banyak sinetron reguler daripada tayangan asian games \n",
      "\n",
      "\n",
      "--------------------------------------------- Result 75 ---------------------------------------------\n",
      "[[1 (41%)]] --> [[[SKIPPED]]]\n",
      "\n",
      "rakyat indonesia lebih kecewa ini bukan settingan kayak sinetron ini asli rakyat indonesia kecewa tidak bisa nonton asian games ingat sctv bisa menjadi besar sekarang karena rakyat indonesia bukan india atau sinetron tidak jelas \n",
      "\n",
      "\n"
     ]
    },
    {
     "name": "stderr",
     "output_type": "stream",
     "text": [
      "[Succeeded / Failed / Skipped / Total] 40 / 0 / 38 / 78:  16%|█▌        | 78/500 [00:26<02:23,  2.94it/s]"
     ]
    },
    {
     "name": "stdout",
     "output_type": "stream",
     "text": [
      "--------------------------------------------- Result 76 ---------------------------------------------\n",
      "[[0 (66%)]] --> [[2 (48%)]]\n",
      "\n",
      "saya secara pribadi tetap tidak [[setuju]] dengan semua [[jenis]] ajakan apalagi untuk timnas yang main kalau liga liga top eropa apa yang lain silakan saya tidak menonton juga tidak mengapa tapi ini timnas kita tetap meminta ta pak dan pak nahrawi\n",
      "\n",
      "saya secara pribadi tetap tidak [[cocok]] dengan semua [[bagai]] ajakan apalagi untuk timnas yang main kalau liga liga top eropa apa yang lain silakan saya tidak menonton juga tidak mengapa tapi ini timnas kita tetap meminta ta pak dan pak nahrawi\n",
      "\n",
      "\n",
      "--------------------------------------------- Result 77 ---------------------------------------------\n",
      "[[0 (48%)]] --> [[2 (54%)]]\n",
      "\n",
      "saya tidak peduli milo dan kokokrunch duo lebih [[mahal]] murah mana anak saya kecewa sarapan tidak sesuai keinginan nya\n",
      "\n",
      "saya tidak peduli milo dan kokokrunch duo lebih [[berharga]] murah mana anak saya kecewa sarapan tidak sesuai keinginan nya\n",
      "\n",
      "\n",
      "--------------------------------------------- Result 78 ---------------------------------------------\n",
      "[[2 (55%)]] --> [[[SKIPPED]]]\n",
      "\n",
      "saya sebagai aktifis pecinta beruang indonesia apbi dengan ini merasa kecewa kepada pt nestle kenapa iklan nya sangat menipu \n",
      "\n",
      "\n"
     ]
    },
    {
     "name": "stderr",
     "output_type": "stream",
     "text": [
      "[Succeeded / Failed / Skipped / Total] 42 / 0 / 40 / 82:  16%|█▋        | 82/500 [00:26<02:16,  3.05it/s]"
     ]
    },
    {
     "name": "stdout",
     "output_type": "stream",
     "text": [
      "--------------------------------------------- Result 79 ---------------------------------------------\n",
      "[[0 (66%)]] --> [[2 (51%)]]\n",
      "\n",
      "kecewa [[sama]] promo yang diadakan id dan sepertinya setengah setengah [[sekali]] kasih promo ivoucher ribu tiap beli box dancow gr huft harus nya tidak usah kasih promo kalau tidak niat \n",
      "\n",
      "kecewa [[bagai]] promo yang diadakan id dan sepertinya setengah setengah [[cukup]] kasih promo ivoucher ribu tiap beli box dancow gr huft harus nya tidak usah kasih promo kalau tidak niat \n",
      "\n",
      "\n",
      "--------------------------------------------- Result 80 ---------------------------------------------\n",
      "[[2 (49%)]] --> [[[SKIPPED]]]\n",
      "\n",
      "aku kecewa tadi pergi kfc dapat wedges macam tidak niat dibuat nya sudah begitu memberi mayones nya berantakan banget \n",
      "\n",
      "\n",
      "--------------------------------------------- Result 81 ---------------------------------------------\n",
      "[[2 (50%)]] --> [[[SKIPPED]]]\n",
      "\n",
      "kfc chizza apa banget tidak jelas rasanya rasanya ingin buntut kfc buat mengembalikan uang gue kecewa \n",
      "\n",
      "\n",
      "--------------------------------------------- Result 82 ---------------------------------------------\n",
      "[[0 (58%)]] --> [[2 (53%)]]\n",
      "\n",
      "aku belajar satu [[perkara]] tentang pengharapan kalau kita berharap pada tuhan memang tak akan kecewa kalau kita berharap pd kfc barulah kecewa sangat \n",
      "\n",
      "aku belajar satu [[suasana]] tentang pengharapan kalau kita berharap pada tuhan memang tak akan kecewa kalau kita berharap pd kfc barulah kecewa sangat \n",
      "\n",
      "\n"
     ]
    },
    {
     "name": "stderr",
     "output_type": "stream",
     "text": [
      "[Succeeded / Failed / Skipped / Total] 43 / 0 / 42 / 85:  17%|█▋        | 85/500 [00:27<02:13,  3.12it/s]"
     ]
    },
    {
     "name": "stdout",
     "output_type": "stream",
     "text": [
      "--------------------------------------------- Result 83 ---------------------------------------------\n",
      "[[0 (63%)]] --> [[2 (39%)]]\n",
      "\n",
      "itu tadi saya cancel soal nya kantor saya juga sudah tutup semoga tidak kejadian [[seperti]] ini lagi karena selama saya order di pd baru pertama kali [[menemukan]] hal yang [[seperti]] ini kecewa sih \n",
      "\n",
      "itu tadi saya cancel soal nya kantor saya juga sudah tutup semoga tidak kejadian [[bagai]] ini lagi karena selama saya order di pd baru pertama kali [[beberapa]] hal yang [[bagai]] ini kecewa sih \n",
      "\n",
      "\n",
      "--------------------------------------------- Result 84 ---------------------------------------------\n",
      "[[2 (51%)]] --> [[[SKIPPED]]]\n",
      "\n",
      "dari sejujur nya saya sangat kecewa dengan kenyataan dari menangguhkan dengan alasan masalah kewangan berpunca dari kerajaan lama cari la solusi baru bukan tangguh dan tanding jari bagaimana nasib kami yang kurang mampu untuk memiliki sarjana dan pd kena korek duit tabung \n",
      "\n",
      "\n",
      "--------------------------------------------- Result 85 ---------------------------------------------\n",
      "[[2 (53%)]] --> [[[SKIPPED]]]\n",
      "\n",
      "gue paling suka cebong pada mengawal ketua kpk wkwkkwk ahok mengurus laporan keuangan saja amburadul tidak pernah dapat wtp tahun bos sudahlah saya sudah terlanjur kecewa dengan dia \n",
      "\n",
      "\n"
     ]
    },
    {
     "name": "stderr",
     "output_type": "stream",
     "text": [
      "[Succeeded / Failed / Skipped / Total] 43 / 1 / 42 / 86:  17%|█▋        | 86/500 [00:27<02:12,  3.12it/s]"
     ]
    },
    {
     "name": "stdout",
     "output_type": "stream",
     "text": [
      "--------------------------------------------- Result 86 ---------------------------------------------\n",
      "[[0 (71%)]] --> [[[FAILED]]]\n",
      "\n",
      "saya sih tidak suka tsb tapi dengan diperiksa nya atas laporan lama ini bukti nyata bahwa kpk itu alat politik alat penguasa bubarkan saja \n",
      "\n",
      "\n"
     ]
    },
    {
     "name": "stderr",
     "output_type": "stream",
     "text": [
      "[Succeeded / Failed / Skipped / Total] 44 / 1 / 42 / 87:  17%|█▋        | 87/500 [00:27<02:12,  3.11it/s]"
     ]
    },
    {
     "name": "stdout",
     "output_type": "stream",
     "text": [
      "--------------------------------------------- Result 87 ---------------------------------------------\n",
      "[[0 (54%)]] --> [[2 (53%)]]\n",
      "\n",
      "kenapa saya tidak suka [[sama]] elit elit pks yang sekarang karena elit elit yang sekarang adalah yang ngumpet di bawah meja saat elit elit terdahulu zaman am berdarah pertahankan pks dari badai kpk giliran mereka berkuasa elit am malah disingkirkan \n",
      "\n",
      "kenapa saya tidak suka [[bagai]] elit elit pks yang sekarang karena elit elit yang sekarang adalah yang ngumpet di bawah meja saat elit elit terdahulu zaman am berdarah pertahankan pks dari badai kpk giliran mereka berkuasa elit am malah disingkirkan \n",
      "\n",
      "\n"
     ]
    },
    {
     "name": "stderr",
     "output_type": "stream",
     "text": [
      "[Succeeded / Failed / Skipped / Total] 45 / 1 / 44 / 90:  18%|█▊        | 90/500 [00:28<02:09,  3.18it/s]"
     ]
    },
    {
     "name": "stdout",
     "output_type": "stream",
     "text": [
      "--------------------------------------------- Result 88 ---------------------------------------------\n",
      "[[0 (74%)]] --> [[2 (53%)]]\n",
      "\n",
      "ini [[orang]] suka banget pidato [[sama]] resmikan acara tidak suka kerja si wakil nya cuma cengeh cengehan disamping [[benar]] benar badut\n",
      "\n",
      "ini [[ada]] suka banget pidato [[bagai]] resmikan acara tidak suka kerja si wakil nya cuma cengeh cengehan disamping [[cocok]] benar badut\n",
      "\n",
      "\n",
      "--------------------------------------------- Result 89 ---------------------------------------------\n",
      "[[2 (70%)]] --> [[[SKIPPED]]]\n",
      "\n",
      "charger masih benar buat telepon genggam lain cuma sama xiao mi saya suka tidak cocok yang saya bawa tiap hari lebih cocok padahal charger asus malah charger ori xiaomi nya tidak enak\n",
      "\n",
      "\n",
      "--------------------------------------------- Result 90 ---------------------------------------------\n",
      "[[2 (62%)]] --> [[[SKIPPED]]]\n",
      "\n",
      "dulu aku sempat pengin ganti handphone juga pertimbangan ku itu oppo f vivo v sama xiaomi mi a mereka bertiga dari spesifikasi dan harga mirip mirip tapi terus aku eliminasi xiaomi mi a karena dia slot nya hybrid aku tidak suka \n",
      "\n",
      "\n"
     ]
    },
    {
     "name": "stderr",
     "output_type": "stream",
     "text": [
      "[Succeeded / Failed / Skipped / Total] 46 / 1 / 44 / 91:  18%|█▊        | 91/500 [00:28<02:09,  3.15it/s]"
     ]
    },
    {
     "name": "stdout",
     "output_type": "stream",
     "text": [
      "--------------------------------------------- Result 91 ---------------------------------------------\n",
      "[[0 (77%)]] --> [[2 (52%)]]\n",
      "\n",
      "menyesal tidak sih ganti handphone dari iphone ke samsung s hmm menyesal kurang enak [[buat]] [[pakai]] s dari segi camera lebih suka ip dari segi performa juga ip batre juga tidak beda jauh banget lalu s ini juga agak sering melar padahal cuma buka instagram saja ckck\n",
      "\n",
      "menyesal tidak sih ganti handphone dari iphone ke samsung s hmm menyesal kurang enak [[sedia]] [[makan]] s dari segi camera lebih suka ip dari segi performa juga ip batre juga tidak beda jauh banget lalu s ini juga agak sering melar padahal cuma buka instagram saja ckck\n",
      "\n",
      "\n"
     ]
    },
    {
     "name": "stderr",
     "output_type": "stream",
     "text": [
      "[Succeeded / Failed / Skipped / Total] 48 / 1 / 45 / 94:  19%|█▉        | 94/500 [00:29<02:07,  3.18it/s]"
     ]
    },
    {
     "name": "stdout",
     "output_type": "stream",
     "text": [
      "--------------------------------------------- Result 92 ---------------------------------------------\n",
      "[[0 (61%)]] --> [[1 (44%)]]\n",
      "\n",
      "ada yang pakai samsung a tidak dan suara nya [[suka]] mati mati begitu kalau tidak pakai headset misalnya setel musik nanti sura nya kedengaran nya [[kayak]] pause detik begitu padahal masih jalan agak sering itu aku sebel deh \n",
      "\n",
      "ada yang pakai samsung a tidak dan suara nya [[bagai]] mati mati begitu kalau tidak pakai headset misalnya setel musik nanti sura nya kedengaran nya [[bagai]] pause detik begitu padahal masih jalan agak sering itu aku sebel deh \n",
      "\n",
      "\n",
      "--------------------------------------------- Result 93 ---------------------------------------------\n",
      "[[2 (61%)]] --> [[[SKIPPED]]]\n",
      "\n",
      "saya sangat kecewa dengan pihak sales promotion toyota saya menang hadiah samsung gear sport tetapi di kasih nya gear s yang jelas jelas harga beda jauh nama nya satria after sales promotion dia bilang sudah bersyukur saja nama nya juga hadiahlah kok begitu \n",
      "\n",
      "\n",
      "--------------------------------------------- Result 94 ---------------------------------------------\n",
      "[[0 (50%)]] --> [[2 (59%)]]\n",
      "\n",
      "id my s eror lagi hang atau apapun nama nya selama jam lebih kirain cuma hang [[biasa]] selama atau menit but ini adalah crazy kecewa parah pokok nya \n",
      "\n",
      "id my s eror lagi hang atau apapun nama nya selama jam lebih kirain cuma hang [[khas]] selama atau menit but ini adalah crazy kecewa parah pokok nya \n",
      "\n",
      "\n"
     ]
    },
    {
     "name": "stderr",
     "output_type": "stream",
     "text": [
      "[Succeeded / Failed / Skipped / Total] 51 / 1 / 45 / 97:  19%|█▉        | 97/500 [00:29<02:03,  3.25it/s]"
     ]
    },
    {
     "name": "stdout",
     "output_type": "stream",
     "text": [
      "--------------------------------------------- Result 95 ---------------------------------------------\n",
      "[[0 (50%)]] --> [[2 (41%)]]\n",
      "\n",
      "kecewa [[sama]] iphone kalah politik dengan samsung saat nya hijrah ke samsung iphone iphone x\n",
      "\n",
      "kecewa [[bagai]] iphone kalah politik dengan samsung saat nya hijrah ke samsung iphone iphone x\n",
      "\n",
      "\n",
      "--------------------------------------------- Result 96 ---------------------------------------------\n",
      "[[0 (62%)]] --> [[2 (48%)]]\n",
      "\n",
      "aku kecewa dengan iphone aku [[pakai]] ip s ini lama gila \n",
      "\n",
      "aku kecewa dengan iphone aku [[makan]] ip s ini lama gila \n",
      "\n",
      "\n",
      "--------------------------------------------- Result 97 ---------------------------------------------\n",
      "[[0 (48%)]] --> [[2 (79%)]]\n",
      "\n",
      "cukuplah [[sekali]] aku pernah kecewa dengan lenovo \n",
      "\n",
      "cukuplah [[cukup]] aku pernah kecewa dengan lenovo \n",
      "\n",
      "\n"
     ]
    },
    {
     "name": "stderr",
     "output_type": "stream",
     "text": [
      "[Succeeded / Failed / Skipped / Total] 53 / 1 / 49 / 103:  21%|██        | 103/500 [00:30<01:56,  3.41it/s]"
     ]
    },
    {
     "name": "stdout",
     "output_type": "stream",
     "text": [
      "--------------------------------------------- Result 98 ---------------------------------------------\n",
      "[[0 (61%)]] --> [[2 (63%)]]\n",
      "\n",
      "kemarin banget dengar cerita ini wajar dong kalau saya kecewa dengan samsung saya [[merasa]] tertipu saya tidak dapat apa yang dijanjikan di awal \n",
      "\n",
      "kemarin banget dengar cerita ini wajar dong kalau saya kecewa dengan samsung saya [[pandang]] tertipu saya tidak dapat apa yang dijanjikan di awal \n",
      "\n",
      "\n",
      "--------------------------------------------- Result 99 ---------------------------------------------\n",
      "[[0 (55%)]] --> [[1 (43%)]]\n",
      "\n",
      "aku sudah x pakai samsung x kecewa aku menyesal aku tidak [[ingin]] [[pakai]] handphone merek itu lagi \n",
      "\n",
      "aku sudah x pakai samsung x kecewa aku menyesal aku tidak [[bagai]] [[angkat]] handphone merek itu lagi \n",
      "\n",
      "\n",
      "--------------------------------------------- Result 100 ---------------------------------------------\n",
      "[[2 (50%)]] --> [[[SKIPPED]]]\n",
      "\n",
      "samsung galaxy s standar fon samsung ini bila sampai satu peringkat dia akan lagi dijuragan sendiri nya saya pengguna samsung yang kecewa \n",
      "\n",
      "\n",
      "--------------------------------------------- Result 101 ---------------------------------------------\n",
      "[[2 (51%)]] --> [[[SKIPPED]]]\n",
      "\n",
      "kecewa dengan specs desain galaxy s tidak sesuai dengan harapan terlalu biasa saja \n",
      "\n",
      "\n",
      "--------------------------------------------- Result 102 ---------------------------------------------\n",
      "[[2 (52%)]] --> [[[SKIPPED]]]\n",
      "\n",
      "kecewa banget sama id pusat servis pi kan kita spent waktu untuk ke sini tidak dikasih solusi masa harus bolak balik \n",
      "\n",
      "\n",
      "--------------------------------------------- Result 103 ---------------------------------------------\n",
      "[[2 (58%)]] --> [[[SKIPPED]]]\n",
      "\n",
      "baru sadar bahwa selama ini ternyata saya bukan apple penggemar saya adalah umat stevejob yang kecewa karena apple kalah inovasi oleh samsung \n",
      "\n",
      "\n"
     ]
    },
    {
     "name": "stderr",
     "output_type": "stream",
     "text": [
      "[Succeeded / Failed / Skipped / Total] 54 / 1 / 50 / 105:  21%|██        | 105/500 [00:30<01:54,  3.44it/s]"
     ]
    },
    {
     "name": "stdout",
     "output_type": "stream",
     "text": [
      "--------------------------------------------- Result 104 ---------------------------------------------\n",
      "[[0 (64%)]] --> [[2 (58%)]]\n",
      "\n",
      "kecewa aku dengan desain s samsung ketandusan ide kenapa bisa perusahaan besar itu keilangan akal mungkin isi orang [[orang]] nya hanya [[orang]] [[biasa]] saja \n",
      "\n",
      "kecewa aku dengan desain s samsung ketandusan ide kenapa bisa perusahaan besar itu keilangan akal mungkin isi orang [[umat]] nya hanya [[ada]] [[khas]] saja \n",
      "\n",
      "\n",
      "--------------------------------------------- Result 105 ---------------------------------------------\n",
      "[[2 (50%)]] --> [[[SKIPPED]]]\n",
      "\n",
      "samsung galaxy s saya sudah diluncurkan semalam saya kecewa desain nya standar banget ekspektasi saya cuma terwujud percuma terbawa sampai mimpi \n",
      "\n",
      "\n"
     ]
    },
    {
     "name": "stderr",
     "output_type": "stream",
     "text": [
      "[Succeeded / Failed / Skipped / Total] 55 / 1 / 55 / 111:  22%|██▏       | 111/500 [00:30<01:48,  3.59it/s]"
     ]
    },
    {
     "name": "stdout",
     "output_type": "stream",
     "text": [
      "--------------------------------------------- Result 106 ---------------------------------------------\n",
      "[[0 (69%)]] --> [[2 (52%)]]\n",
      "\n",
      "hotel [[mau]] cek in aja ribet bersihkan kamar lama banget kecewa dah ini pertama kalinya gue ke sana terus langsung dikasih first impression yang tidak bagus \n",
      "\n",
      "hotel [[bagai]] cek in aja ribet bersihkan kamar lama banget kecewa dah ini pertama kalinya gue ke sana terus langsung dikasih first impression yang tidak bagus \n",
      "\n",
      "\n",
      "--------------------------------------------- Result 107 ---------------------------------------------\n",
      "[[2 (59%)]] --> [[[SKIPPED]]]\n",
      "\n",
      "sebagai indomie goreng mania saya merasa kecewa kalau mendapati ternyata bumbu jebol di dalam kemasan kudu bagaimana nek ngene ini gaduh tidak profesional banget \n",
      "\n",
      "\n",
      "--------------------------------------------- Result 108 ---------------------------------------------\n",
      "[[2 (57%)]] --> [[[SKIPPED]]]\n",
      "\n",
      "kecewa dengan kualitas barang dari depan kantor chitato expired masih dijual untung aku masih baik tadinya ingin lapor \n",
      "\n",
      "\n",
      "--------------------------------------------- Result 109 ---------------------------------------------\n",
      "[[2 (65%)]] --> [[[SKIPPED]]]\n",
      "\n",
      "kecewa berat baru tahu pop mie goreng sudah discontinue ya why padahal itu enak banget terbaik \n",
      "\n",
      "\n",
      "--------------------------------------------- Result 110 ---------------------------------------------\n",
      "[[2 (59%)]] --> [[[SKIPPED]]]\n",
      "\n",
      "client kita komplain kami pun sangat kecewa paling tidak bisa jujur jika tidak bisa tepat waktu untuk antar dari wtc ke indofood tower \n",
      "\n",
      "\n",
      "--------------------------------------------- Result 111 ---------------------------------------------\n",
      "[[2 (67%)]] --> [[[SKIPPED]]]\n",
      "\n",
      "selesai juga bikin surat pengunduran diri dah ah tinggal tidur saja besok pagi tinggal pergi ke gudang indofood sangat kecewa \n",
      "\n",
      "\n"
     ]
    },
    {
     "name": "stderr",
     "output_type": "stream",
     "text": [
      "[Succeeded / Failed / Skipped / Total] 56 / 1 / 58 / 115:  23%|██▎       | 115/500 [00:31<01:44,  3.68it/s]"
     ]
    },
    {
     "name": "stdout",
     "output_type": "stream",
     "text": [
      "--------------------------------------------- Result 112 ---------------------------------------------\n",
      "[[0 (45%)]] --> [[2 (75%)]]\n",
      "\n",
      "indofood tukang bohong dapat pulsa dari mi tetapi tidak di tanggepin kecewa tidak [[mau]] beli produk indofood lagi ah kecewa kecewa \n",
      "\n",
      "indofood tukang bohong dapat pulsa dari mi tetapi tidak di tanggepin kecewa tidak [[makan]] beli produk indofood lagi ah kecewa kecewa \n",
      "\n",
      "\n",
      "--------------------------------------------- Result 113 ---------------------------------------------\n",
      "[[2 (53%)]] --> [[[SKIPPED]]]\n",
      "\n",
      "sumpah aku sedih banget dan kagol popmie favorit aku sudah tidak ada lagi kecewa indofood aku itu padahal hampir setiap hari makan itu \n",
      "\n",
      "\n",
      "--------------------------------------------- Result 114 ---------------------------------------------\n",
      "[[2 (50%)]] --> [[[SKIPPED]]]\n",
      "\n",
      "kecewa sama indofood kata nya di sini tulisan nya sambal abc ekstra pedas tapi biro biro pedas manis mah iya ini tidak asik ah\n",
      "\n",
      "\n",
      "--------------------------------------------- Result 115 ---------------------------------------------\n",
      "[[2 (49%)]] --> [[[SKIPPED]]]\n",
      "\n",
      "dengan ini saya nyatakan kecewa dengan indofood masa di indomie soto saya bubuk cabai nya kosong hak saya dihilangkan \n",
      "\n",
      "\n"
     ]
    },
    {
     "name": "stderr",
     "output_type": "stream",
     "text": [
      "[Succeeded / Failed / Skipped / Total] 57 / 1 / 59 / 117:  23%|██▎       | 117/500 [00:31<01:43,  3.70it/s]"
     ]
    },
    {
     "name": "stdout",
     "output_type": "stream",
     "text": [
      "--------------------------------------------- Result 116 ---------------------------------------------\n",
      "[[0 (74%)]] --> [[2 (53%)]]\n",
      "\n",
      "kecewa [[sama]] supir taxi masa menara indofood dibilang shangrila hotel kalau memang tidak [[tahu]] [[ada]] baiknya tanya \n",
      "\n",
      "kecewa [[bagai]] supir taxi masa menara indofood dibilang shangrila hotel kalau memang tidak [[rasa]] [[minum]] baiknya tanya \n",
      "\n",
      "\n",
      "--------------------------------------------- Result 117 ---------------------------------------------\n",
      "[[2 (62%)]] --> [[[SKIPPED]]]\n",
      "\n",
      "gimana ya antara kecewa atau sekadar deh sama r di indofood karena pas rendang keluar itu heboh mampus enak nya enggak ketolongan new varian noods din triliun capture dat magic \n",
      "\n",
      "\n"
     ]
    },
    {
     "name": "stderr",
     "output_type": "stream",
     "text": [
      "[Succeeded / Failed / Skipped / Total] 58 / 1 / 59 / 118:  24%|██▎       | 118/500 [00:31<01:43,  3.71it/s]"
     ]
    },
    {
     "name": "stdout",
     "output_type": "stream",
     "text": [
      "--------------------------------------------- Result 118 ---------------------------------------------\n",
      "[[0 (50%)]] --> [[2 (44%)]]\n",
      "\n",
      "kecewa [[sama]] sales teh kahuripan tawarkan produk maksa harus beli sampai ngancem enggak bakal dikasih tiket kupon mudik \n",
      "\n",
      "kecewa [[bagai]] sales teh kahuripan tawarkan produk maksa harus beli sampai ngancem enggak bakal dikasih tiket kupon mudik \n",
      "\n",
      "\n"
     ]
    },
    {
     "name": "stderr",
     "output_type": "stream",
     "text": [
      "[Succeeded / Failed / Skipped / Total] 59 / 1 / 60 / 120:  24%|██▍       | 120/500 [00:32<01:41,  3.73it/s]"
     ]
    },
    {
     "name": "stdout",
     "output_type": "stream",
     "text": [
      "--------------------------------------------- Result 119 ---------------------------------------------\n",
      "[[0 (68%)]] --> [[2 (67%)]]\n",
      "\n",
      "saya sangat kecewa dengan klaim mobil saya an karpito serena b toz mohon penjelasan dari pihak bca karena hak dalam polis saya tidak dipenuh jangan merugikan [[orang]] lain \n",
      "\n",
      "saya sangat kecewa dengan klaim mobil saya an karpito serena b toz mohon penjelasan dari pihak bca karena hak dalam polis saya tidak dipenuh jangan merugikan [[ada]] lain \n",
      "\n",
      "\n",
      "--------------------------------------------- Result 120 ---------------------------------------------\n",
      "[[2 (48%)]] --> [[[SKIPPED]]]\n",
      "\n",
      "kecewa dengan xl sudah bulan berturut berturut gagal debet ke kartu kredit bca status kartu normal padahal bulan bulan sebelumnya lancar malah suruh datang ke gerai xl buat apa ada pusat panggilan \n",
      "\n",
      "\n"
     ]
    },
    {
     "name": "stderr",
     "output_type": "stream",
     "text": [
      "[Succeeded / Failed / Skipped / Total] 60 / 1 / 62 / 123:  25%|██▍       | 123/500 [00:32<01:40,  3.76it/s]"
     ]
    },
    {
     "name": "stdout",
     "output_type": "stream",
     "text": [
      "--------------------------------------------- Result 121 ---------------------------------------------\n",
      "[[0 (59%)]] --> [[2 (45%)]]\n",
      "\n",
      "sampai saat ini [[benar]] [[benar]] enjoy deh pakai tapi tadi kita coba cash kembali sunday ya nonton bioskop di xxi epicentrum cuma bisa pkk debit bca saja tidak bisa pakai kartu lain penonton kecewa deh sad \n",
      "\n",
      "sampai saat ini [[cukup]] [[cukup]] enjoy deh pakai tapi tadi kita coba cash kembali sunday ya nonton bioskop di xxi epicentrum cuma bisa pkk debit bca saja tidak bisa pakai kartu lain penonton kecewa deh sad \n",
      "\n",
      "\n",
      "--------------------------------------------- Result 122 ---------------------------------------------\n",
      "[[2 (41%)]] --> [[[SKIPPED]]]\n",
      "\n",
      "sungguh kecewa dengan pelayanan bca khusus nya baca finance wtc mg pelayanan ovet kredit yang sungguh mengecewakan sudah hampir bulan lebih belum ada kabar juga bahkan saya sudah membayar x tagihan cicilan masih belum ada kabar juga tanya ke marketing juga respon nya tidak ada \n",
      "\n",
      "\n",
      "--------------------------------------------- Result 123 ---------------------------------------------\n",
      "[[2 (57%)]] --> [[[SKIPPED]]]\n",
      "\n",
      "sedang proses penukaran produk karena awam pertama kali urusan dengan blibli maka pt bca tbk menyampaikan catatan ini serius sangat kecewa keberatan karena tidak ada itikad baik \n",
      "\n",
      "\n"
     ]
    },
    {
     "name": "stderr",
     "output_type": "stream",
     "text": [
      "[Succeeded / Failed / Skipped / Total] 61 / 1 / 62 / 124:  25%|██▍       | 124/500 [00:33<01:40,  3.73it/s]"
     ]
    },
    {
     "name": "stdout",
     "output_type": "stream",
     "text": [
      "--------------------------------------------- Result 124 ---------------------------------------------\n",
      "[[0 (57%)]] --> [[2 (58%)]]\n",
      "\n",
      "seperti yang sudah saya mention sebelumnya pak romi data saya diketahui semuanya oh iya jikalau tutup akun bagaimana ya dan meminta [[semua]] data saya yang di bca tidak tersimpan lagi saya kecewa ingin tutup akun bca saja biar tidak terjadi seperti ini lagi \n",
      "\n",
      "seperti yang sudah saya mention sebelumnya pak romi data saya diketahui semuanya oh iya jikalau tutup akun bagaimana ya dan meminta [[betul-betul]] data saya yang di bca tidak tersimpan lagi saya kecewa ingin tutup akun bca saja biar tidak terjadi seperti ini lagi \n",
      "\n",
      "\n"
     ]
    },
    {
     "name": "stderr",
     "output_type": "stream",
     "text": [
      "[Succeeded / Failed / Skipped / Total] 62 / 1 / 62 / 125:  25%|██▌       | 125/500 [00:33<01:41,  3.69it/s]"
     ]
    },
    {
     "name": "stdout",
     "output_type": "stream",
     "text": [
      "--------------------------------------------- Result 125 ---------------------------------------------\n",
      "[[0 (44%)]] --> [[2 (49%)]]\n",
      "\n",
      "sebagai nasabah bank bca yang sudah lebih dari th saya merasa kecewa bca tidak dapat [[memberikan]] keamanan kepada nasabah nya bagaimana bisa uang di rekening saya habis terjadi transaksi berkali kali di tanggal mei kemarin yang bukan dilakukan oleh saya \n",
      "\n",
      "sebagai nasabah bank bca yang sudah lebih dari th saya merasa kecewa bca tidak dapat [[tambah]] keamanan kepada nasabah nya bagaimana bisa uang di rekening saya habis terjadi transaksi berkali kali di tanggal mei kemarin yang bukan dilakukan oleh saya \n",
      "\n",
      "\n"
     ]
    },
    {
     "name": "stderr",
     "output_type": "stream",
     "text": [
      "[Succeeded / Failed / Skipped / Total] 63 / 1 / 62 / 126:  25%|██▌       | 127/500 [00:34<01:42,  3.66it/s]"
     ]
    },
    {
     "name": "stdout",
     "output_type": "stream",
     "text": [
      "--------------------------------------------- Result 126 ---------------------------------------------\n",
      "[[2 (52%)]] --> [[0 (59%)]]\n",
      "\n",
      "apl ini sangat membantu sekali dengan memberikan kemudahan dalam pesan tiket to bepergian ke mana pun sehingga saya tidak harus keluar lagi to mmbli tiket semoga aplikasi ini [[selalu]] lncar ya setiap x melakukan pemesanan \n",
      "\n",
      "apl ini sangat membantu sekali dengan memberikan kemudahan dalam pesan tiket to bepergian ke mana pun sehingga saya tidak harus keluar lagi to mmbli tiket semoga aplikasi ini [[benar-benar]] lncar ya setiap x melakukan pemesanan \n",
      "\n",
      "\n"
     ]
    },
    {
     "name": "stderr",
     "output_type": "stream",
     "text": [
      "[Succeeded / Failed / Skipped / Total] 64 / 1 / 62 / 127:  25%|██▌       | 127/500 [00:34<01:42,  3.65it/s]"
     ]
    },
    {
     "name": "stdout",
     "output_type": "stream",
     "text": [
      "--------------------------------------------- Result 127 ---------------------------------------------\n",
      "[[2 (68%)]] --> [[0 (47%)]]\n",
      "\n",
      "dua kali sudah teman saya bookingkan tiket lewat aplikasi ini bagus bagus [[saja]] tidak sampai mnit kode booking nya [[langsung]] dikirimkan mantap \n",
      "\n",
      "dua kali sudah teman saya bookingkan tiket lewat aplikasi ini bagus bagus [[benar-benar]] tidak sampai mnit kode booking nya [[benar-benar]] dikirimkan mantap \n",
      "\n",
      "\n"
     ]
    },
    {
     "name": "stderr",
     "output_type": "stream",
     "text": [
      "[Succeeded / Failed / Skipped / Total] 65 / 1 / 62 / 128:  26%|██▌       | 128/500 [00:35<01:41,  3.66it/s]"
     ]
    },
    {
     "name": "stdout",
     "output_type": "stream",
     "text": [
      "--------------------------------------------- Result 128 ---------------------------------------------\n",
      "[[2 (53%)]] --> [[0 (61%)]]\n",
      "\n",
      "alhamdulillahirrabil allamin menggunakan aplikasi ini mudah paling [[suka]] adalah penukaran poin sebagai pembayaran tiket bisa dilakukan dengan mudah simpel dan terpercaya \n",
      "\n",
      "alhamdulillahirrabil allamin menggunakan aplikasi ini mudah paling [[mau]] adalah penukaran poin sebagai pembayaran tiket bisa dilakukan dengan mudah simpel dan terpercaya \n",
      "\n",
      "\n"
     ]
    },
    {
     "name": "stderr",
     "output_type": "stream",
     "text": [
      "[Succeeded / Failed / Skipped / Total] 67 / 1 / 62 / 130:  26%|██▌       | 130/500 [00:35<01:41,  3.64it/s]"
     ]
    },
    {
     "name": "stdout",
     "output_type": "stream",
     "text": [
      "--------------------------------------------- Result 129 ---------------------------------------------\n",
      "[[2 (75%)]] --> [[0 (49%)]]\n",
      "\n",
      "sempat agak takut pesan tiket pesawat di sini karena ulasan yang lain tapi ingat teman pernah beli di sini lancar [[saja]] [[akhirnya]] memesan pas banget di tfansfer cuma hitungan detik e tiket dikirim terima kasih lo terima kasih promo nya [[lumayan]] jadi lumayan untung \n",
      "\n",
      "sempat agak takut pesan tiket pesawat di sini karena ulasan yang lain tapi ingat teman pernah beli di sini lancar [[benar-benar]] [[lama-lama]] memesan pas banget di tfansfer cuma hitungan detik e tiket dikirim terima kasih lo terima kasih promo nya [[adil]] jadi lumayan untung \n",
      "\n",
      "\n",
      "--------------------------------------------- Result 130 ---------------------------------------------\n",
      "[[2 (70%)]] --> [[0 (53%)]]\n",
      "\n",
      "aplikasi yang [[sangat]] membantu dalam setiap perjalan saya memuaskan pokok nya segera [[coba]] \n",
      "\n",
      "aplikasi yang [[benar]] membantu dalam setiap perjalan saya memuaskan pokok nya segera [[anju]] \n",
      "\n",
      "\n"
     ]
    },
    {
     "name": "stderr",
     "output_type": "stream",
     "text": [
      "[Succeeded / Failed / Skipped / Total] 68 / 1 / 62 / 131:  26%|██▌       | 131/500 [00:35<01:41,  3.65it/s]"
     ]
    },
    {
     "name": "stdout",
     "output_type": "stream",
     "text": [
      "--------------------------------------------- Result 131 ---------------------------------------------\n",
      "[[2 (59%)]] --> [[0 (58%)]]\n",
      "\n",
      "menyenangkan menggunakan aplikasi ini selain sangat lengkap aplikasi ini juga sangat rinci yang paling menyenangkan [[adalah]] banyak promo nya \n",
      "\n",
      "menyenangkan menggunakan aplikasi ini selain sangat lengkap aplikasi ini juga sangat rinci yang paling menyenangkan [[orang]] banyak promo nya \n",
      "\n",
      "\n"
     ]
    },
    {
     "name": "stderr",
     "output_type": "stream",
     "text": [
      "[Succeeded / Failed / Skipped / Total] 69 / 1 / 63 / 133:  27%|██▋       | 133/500 [00:37<01:42,  3.59it/s]"
     ]
    },
    {
     "name": "stdout",
     "output_type": "stream",
     "text": [
      "--------------------------------------------- Result 132 ---------------------------------------------\n",
      "[[2 (59%)]] --> [[0 (52%)]]\n",
      "\n",
      "dari dulu pas liburan saya selalu memesan hotel pakai tiket com untuk gaji yang saat saat an [[seperti]] saya dan bisa dapat hotel bintang cup wow banget enggak iniihh apalagi ada tonight deals kita bisa dapatkan diskon sampai kalau pesan hotel di atas jam malam sudah pasti makin [[nikmat]] pas liburan ditambah lagi bisa istirahat di hotel bintang yang nyaman dengan harga yang murah terima kasih tiket com \n",
      "\n",
      "dari dulu pas liburan saya selalu memesan hotel pakai tiket com untuk gaji yang saat saat an [[mau]] saya dan bisa dapat hotel bintang cup wow banget enggak iniihh apalagi ada tonight deals kita bisa dapatkan diskon sampai kalau pesan hotel di atas jam malam sudah pasti makin [[kegembiraan]] pas liburan ditambah lagi bisa istirahat di hotel bintang yang nyaman dengan harga yang murah terima kasih tiket com \n",
      "\n",
      "\n",
      "--------------------------------------------- Result 133 ---------------------------------------------\n",
      "[[0 (50%)]] --> [[[SKIPPED]]]\n",
      "\n",
      "sumpah suka banget sudah limit nya lama bonus tixpoint nya luar binasaah tiket ke jakarta bisa dapat diskon ribu \n",
      "\n",
      "\n"
     ]
    },
    {
     "name": "stderr",
     "output_type": "stream",
     "text": [
      "[Succeeded / Failed / Skipped / Total] 71 / 1 / 63 / 135:  27%|██▋       | 135/500 [00:37<01:41,  3.61it/s]"
     ]
    },
    {
     "name": "stdout",
     "output_type": "stream",
     "text": [
      "--------------------------------------------- Result 134 ---------------------------------------------\n",
      "[[2 (60%)]] --> [[0 (54%)]]\n",
      "\n",
      "mantap paling murah dan banyak bonus nya apa ini bagus banget proses nya cepat saya kasi bintang aku makin [[suka]] kamu \n",
      "\n",
      "mantap paling murah dan banyak bonus nya apa ini bagus banget proses nya cepat saya kasi bintang aku makin [[mau]] kamu \n",
      "\n",
      "\n",
      "--------------------------------------------- Result 135 ---------------------------------------------\n",
      "[[2 (75%)]] --> [[0 (53%)]]\n",
      "\n",
      "bisa memilih penerbangan selain itu [[cukup]] mudah dalam bertransaksi lengkap aplikasi nya \n",
      "\n",
      "bisa memilih penerbangan selain itu [[benar]] mudah dalam bertransaksi lengkap aplikasi nya \n",
      "\n",
      "\n"
     ]
    },
    {
     "name": "stderr",
     "output_type": "stream",
     "text": [
      "[Succeeded / Failed / Skipped / Total] 72 / 1 / 63 / 136:  27%|██▋       | 136/500 [00:37<01:40,  3.62it/s]"
     ]
    },
    {
     "name": "stdout",
     "output_type": "stream",
     "text": [
      "--------------------------------------------- Result 136 ---------------------------------------------\n",
      "[[2 (67%)]] --> [[0 (52%)]]\n",
      "\n",
      "banyak promo dan aplikasi mudah digunakan proses [[sangat]] cepat dan juga aplikasi nya [[bagus]] dan tidak rumit \n",
      "\n",
      "banyak promo dan aplikasi mudah digunakan proses [[benar]] cepat dan juga aplikasi nya [[Berguna]] dan tidak rumit \n",
      "\n",
      "\n"
     ]
    },
    {
     "name": "stderr",
     "output_type": "stream",
     "text": [
      "[Succeeded / Failed / Skipped / Total] 74 / 1 / 63 / 138:  28%|██▊       | 138/500 [00:37<01:39,  3.64it/s]"
     ]
    },
    {
     "name": "stdout",
     "output_type": "stream",
     "text": [
      "--------------------------------------------- Result 137 ---------------------------------------------\n",
      "[[2 (64%)]] --> [[0 (52%)]]\n",
      "\n",
      "saya [[suka]] beli tiket di tiket com oke banget sangat membantu respon nya cepat yang pasti sangat memudahkan traveling saya \n",
      "\n",
      "saya [[mau]] beli tiket di tiket com oke banget sangat membantu respon nya cepat yang pasti sangat memudahkan traveling saya \n",
      "\n",
      "\n",
      "--------------------------------------------- Result 138 ---------------------------------------------\n",
      "[[2 (76%)]] --> [[0 (47%)]]\n",
      "\n",
      "tiket com [[sangat]] terpercaya harga [[murah]] lancar praktis efektif dan efisien \n",
      "\n",
      "tiket com [[benar]] terpercaya harga [[berlebih-lebih]] lancar praktis efektif dan efisien \n",
      "\n",
      "\n"
     ]
    },
    {
     "name": "stderr",
     "output_type": "stream",
     "text": [
      "[Succeeded / Failed / Skipped / Total] 76 / 1 / 63 / 140:  28%|██▊       | 140/500 [00:38<01:38,  3.64it/s]"
     ]
    },
    {
     "name": "stdout",
     "output_type": "stream",
     "text": [
      "--------------------------------------------- Result 139 ---------------------------------------------\n",
      "[[2 (68%)]] --> [[0 (49%)]]\n",
      "\n",
      "sangat puas dengan pelayanan nya tiket com [[selalu]] bokong tiket pesawat dari sini dan yang bikin nyaman nya kalau ada kslhan nm atau data lain bisa cepat diperbaiki dan tidak bikin ribet terima kasih \n",
      "\n",
      "sangat puas dengan pelayanan nya tiket com [[benar-benar]] bokong tiket pesawat dari sini dan yang bikin nyaman nya kalau ada kslhan nm atau data lain bisa cepat diperbaiki dan tidak bikin ribet terima kasih \n",
      "\n",
      "\n",
      "--------------------------------------------- Result 140 ---------------------------------------------\n",
      "[[2 (64%)]] --> [[0 (48%)]]\n",
      "\n",
      "saya [[selalu]] pesan tiket pesawat maupun kereta di sini harga lebih [[murah]] berbeda dengan aplikasi lain \n",
      "\n",
      "saya [[benar-benar]] pesan tiket pesawat maupun kereta di sini harga lebih [[berlebih-lebih]] berbeda dengan aplikasi lain \n",
      "\n",
      "\n"
     ]
    },
    {
     "name": "stderr",
     "output_type": "stream",
     "text": [
      "[Succeeded / Failed / Skipped / Total] 77 / 1 / 63 / 141:  28%|██▊       | 141/500 [00:39<01:39,  3.60it/s]"
     ]
    },
    {
     "name": "stdout",
     "output_type": "stream",
     "text": [
      "--------------------------------------------- Result 141 ---------------------------------------------\n",
      "[[2 (89%)]] --> [[0 (48%)]]\n",
      "\n",
      "hotel ini [[adalah]] salah [[satu]] hotel yang wajib dikunjungi kalau buka puasa bareng [[tempat]] nya menarik mewah staf nya [[ramah]] makanan nya banyaakk jenis nya menu nya komplet dan [[suasana]] nya [[sangat]] menyenangkan tempat yang sangat indah \n",
      "\n",
      "hotel ini [[orang]] salah [[salah]] hotel yang wajib dikunjungi kalau buka puasa bareng [[rumah]] nya menarik mewah staf nya [[bersemangat]] makanan nya banyaakk jenis nya menu nya komplet dan [[angkasa]] nya [[benar]] menyenangkan tempat yang sangat indah \n",
      "\n",
      "\n"
     ]
    },
    {
     "name": "stderr",
     "output_type": "stream",
     "text": [
      "[Succeeded / Failed / Skipped / Total] 78 / 1 / 63 / 142:  28%|██▊       | 142/500 [00:39<01:40,  3.57it/s]"
     ]
    },
    {
     "name": "stdout",
     "output_type": "stream",
     "text": [
      "--------------------------------------------- Result 142 ---------------------------------------------\n",
      "[[2 (96%)]] --> [[0 (48%)]]\n",
      "\n",
      "saya menginap dua malam [[bersama]] keluarga secara [[keseluruhan]] hotel nya [[sangat]] bagus bersih fasilitas hotel [[lengkap]] breakfast nya pun [[enak]] enak dan tentunya [[suasana]] hotel yang sejuk dan nyaman [[cocok]] untuk pilihan menginap [[bersama]] keluarga \n",
      "\n",
      "saya menginap dua malam [[sama-sama]] keluarga secara [[benar-benar]] hotel nya [[benar]] bagus bersih fasilitas hotel [[benar-benar]] breakfast nya pun [[baik]] enak dan tentunya [[angkasa]] hotel yang sejuk dan nyaman [[benar]] untuk pilihan menginap [[sama-sama]] keluarga \n",
      "\n",
      "\n"
     ]
    },
    {
     "name": "stderr",
     "output_type": "stream",
     "text": [
      "[Succeeded / Failed / Skipped / Total] 79 / 1 / 63 / 143:  29%|██▊       | 143/500 [00:40<01:40,  3.54it/s]"
     ]
    },
    {
     "name": "stdout",
     "output_type": "stream",
     "text": [
      "--------------------------------------------- Result 143 ---------------------------------------------\n",
      "[[2 (87%)]] --> [[0 (46%)]]\n",
      "\n",
      "proses cek in cepat staf nya [[ramah]] dan helpfully lingkungan hotel [[sangat]] asri sejuk dan tenang amenities di kamar [[lengkap]] terdapat kampung ramadhan untuk berbuka dengan [[begitu]] banyak pilihan makanan yang siap memanjakan lidah terbaik tempat untuk staf when kamu visi bandung \n",
      "\n",
      "proses cek in cepat staf nya [[bersemangat]] dan helpfully lingkungan hotel [[benar]] asri sejuk dan tenang amenities di kamar [[benar-benar]] terdapat kampung ramadhan untuk berbuka dengan [[jadi]] banyak pilihan makanan yang siap memanjakan lidah terbaik tempat untuk staf when kamu visi bandung \n",
      "\n",
      "\n"
     ]
    },
    {
     "name": "stderr",
     "output_type": "stream",
     "text": [
      "[Succeeded / Failed / Skipped / Total] 80 / 1 / 63 / 144:  29%|██▉       | 144/500 [00:40<01:40,  3.53it/s]"
     ]
    },
    {
     "name": "stdout",
     "output_type": "stream",
     "text": [
      "--------------------------------------------- Result 144 ---------------------------------------------\n",
      "[[2 (84%)]] --> [[0 (50%)]]\n",
      "\n",
      "kami [[memakai]] berenam dan [[memakai]] kamar kamar besar dan bersih breakfast nya [[enak]] banyak varian nya dan aneka segar juice pelayanan sangat baik terutama pelayanan di restoran [[sangat]] memuaskan rekomendasi \n",
      "\n",
      "kami [[pakai]] berenam dan [[pakai]] kamar kamar besar dan bersih breakfast nya [[baik]] banyak varian nya dan aneka segar juice pelayanan sangat baik terutama pelayanan di restoran [[benar]] memuaskan rekomendasi \n",
      "\n",
      "\n"
     ]
    },
    {
     "name": "stderr",
     "output_type": "stream",
     "text": [
      "[Succeeded / Failed / Skipped / Total] 81 / 1 / 64 / 146:  29%|██▉       | 146/500 [00:41<01:39,  3.55it/s]"
     ]
    },
    {
     "name": "stdout",
     "output_type": "stream",
     "text": [
      "--------------------------------------------- Result 145 ---------------------------------------------\n",
      "[[2 (50%)]] --> [[0 (63%)]]\n",
      "\n",
      "melahirkan di rs hermina jatinegara sangat direkomendasikan fasilitas lengkap seperti fetotermal perina nicu klinik tumbuh kembang senam hamil dan pmo selain itu hermina juga [[sangat]] pro asi dan imd ditambah lagi semua kamar itu rooming in dengan bayi nya \n",
      "\n",
      "melahirkan di rs hermina jatinegara sangat direkomendasikan fasilitas lengkap seperti fetotermal perina nicu klinik tumbuh kembang senam hamil dan pmo selain itu hermina juga [[benar]] pro asi dan imd ditambah lagi semua kamar itu rooming in dengan bayi nya \n",
      "\n",
      "\n",
      "--------------------------------------------- Result 146 ---------------------------------------------\n",
      "[[0 (46%)]] --> [[[SKIPPED]]]\n",
      "\n",
      "kalau regis di rs hermina banyak keuntungan yang didapat pasien keuntungan nya antara lain kemudahan saat hari h melahirkan selain itu banyak juga gratisan nya seperti gratis senam hamil gratis kursus prenatal gratis senam nifas gratis kursus pijat bayi dan masih banyak lagi asik deh pokok nya \n",
      "\n",
      "\n",
      "--------------------------------------------- Result 147 ---------------------------------------------\n",
      "[[2 (61%)]] --> [[0 (46%)]]\n",
      "\n",
      "menurut ku rumah sakit harapan kita itu [[rekomendasi]] selain bisa rooming suster nya juga membantu soal biaya tidak usah khawatir karena [[pasti]] terjangkau \n",
      "\n",
      "menurut ku rumah sakit harapan kita itu [[cadangan]] selain bisa rooming suster nya juga membantu soal biaya tidak usah khawatir karena [[benar-benar]] terjangkau \n",
      "\n",
      "\n"
     ]
    },
    {
     "name": "stderr",
     "output_type": "stream",
     "text": [
      "[Succeeded / Failed / Skipped / Total] 82 / 1 / 67 / 150:  30%|███       | 150/500 [00:41<01:36,  3.63it/s]"
     ]
    },
    {
     "name": "stdout",
     "output_type": "stream",
     "text": [
      "--------------------------------------------- Result 148 ---------------------------------------------\n",
      "[[0 (53%)]] --> [[[SKIPPED]]]\n",
      "\n",
      "asik banget pakai traveloka diskon hotel sampai satu jutaan kita bisa langsung cek promo kemerdekaan banyak harga spesial hotel untuk berbagai hotel di dalam negeri seneng deh \n",
      "\n",
      "\n",
      "--------------------------------------------- Result 149 ---------------------------------------------\n",
      "[[0 (55%)]] --> [[[SKIPPED]]]\n",
      "\n",
      "kalau belanja di blibli com tidak usah ragu pertama kita bisa leluasa memilih produk tanpa takut privasi kita terganggu selain itu kita juga dapat fasilitas pengiriman yang cepat dan gratis bisa sambil sadar emat uang dan tenaga \n",
      "\n",
      "\n",
      "--------------------------------------------- Result 150 ---------------------------------------------\n",
      "[[0 (59%)]] --> [[[SKIPPED]]]\n",
      "\n",
      "saya dukung ahok itu tidak ada hubungan nya dengan etnis dia atau agama ahok bahkan saya tak tahu agama dia apa saya dukung ahok karena saya suka fenomena baru dalam pemerintahan yang inovatif bersih dan banyak terobosan terobosan yang ia kerjakan dalam membangun pemerintahan \n",
      "\n",
      "\n"
     ]
    },
    {
     "name": "stderr",
     "output_type": "stream",
     "text": [
      "[Succeeded / Failed / Skipped / Total] 84 / 1 / 69 / 154:  31%|███       | 154/500 [00:41<01:34,  3.68it/s]"
     ]
    },
    {
     "name": "stdout",
     "output_type": "stream",
     "text": [
      "--------------------------------------------- Result 151 ---------------------------------------------\n",
      "[[0 (52%)]] --> [[2 (62%)]]\n",
      "\n",
      "spasi bambang jangan suka mengkafirkan sesama muslim lu bukan malaikat tanpa dosa beda pilihan beda pemahaman oke itu hak lu tetapi tidak harus mejelek mejelekin [[orang]] lain juga tidak suka cara lo yang kayak gini \n",
      "\n",
      "spasi bambang jangan suka mengkafirkan sesama muslim lu bukan malaikat tanpa dosa beda pilihan beda pemahaman oke itu hak lu tetapi tidak harus mejelek mejelekin [[ada]] lain juga tidak suka cara lo yang kayak gini \n",
      "\n",
      "\n",
      "--------------------------------------------- Result 152 ---------------------------------------------\n",
      "[[0 (64%)]] --> [[[SKIPPED]]]\n",
      "\n",
      "suka banget sama siti nurhaliza suara nya wajah nya attitude nya sempurna kayak nya cuma dia penyanyi yang tidak ada haters nya paling suka dulu pas dia rilis album transkripsi lupa tahun berapa lagu lagu nya semua jadi favorit ku semoga bisa duet sama di dalam album \n",
      "\n",
      "\n",
      "--------------------------------------------- Result 153 ---------------------------------------------\n",
      "[[0 (76%)]] --> [[[SKIPPED]]]\n",
      "\n",
      "kata dosen ku budaya korea itu kalau ada orang yang sudah baik sama mereka walaupun cuma sekali mereka bakal balas kebaikan itu lebih banyak maka dari itu mereka kalau memberi itu suka tidak muluk muluk seneng deh sama mereka \n",
      "\n",
      "\n",
      "--------------------------------------------- Result 154 ---------------------------------------------\n",
      "[[2 (54%)]] --> [[0 (63%)]]\n",
      "\n",
      "foto aku cuma modal kamera xiaomi tetapi tetap [[suka]] \n",
      "\n",
      "foto aku cuma modal kamera xiaomi tetapi tetap [[mau]] \n",
      "\n",
      "\n"
     ]
    },
    {
     "name": "stderr",
     "output_type": "stream",
     "text": [
      "[Succeeded / Failed / Skipped / Total] 84 / 2 / 70 / 156:  31%|███       | 156/500 [00:41<01:32,  3.72it/s]"
     ]
    },
    {
     "name": "stdout",
     "output_type": "stream",
     "text": [
      "--------------------------------------------- Result 155 ---------------------------------------------\n",
      "[[2 (73%)]] --> [[[FAILED]]]\n",
      "\n",
      "xiaomi ram nya mantap baterai awet juga kamera depan nya juga lumayan tidak menyesal beli ini \n",
      "\n",
      "\n",
      "--------------------------------------------- Result 156 ---------------------------------------------\n",
      "[[0 (79%)]] --> [[[SKIPPED]]]\n",
      "\n",
      "xiaomi karena gue pakai xiaomi sekarang sebelumnya oppo f lebih suka xiaomi saja baterai nya kuat gue puas banget sih dengan xiaomi \n",
      "\n",
      "\n"
     ]
    },
    {
     "name": "stderr",
     "output_type": "stream",
     "text": [
      "[Succeeded / Failed / Skipped / Total] 85 / 2 / 72 / 159:  32%|███▏      | 159/500 [00:42<01:31,  3.74it/s]"
     ]
    },
    {
     "name": "stdout",
     "output_type": "stream",
     "text": [
      "--------------------------------------------- Result 157 ---------------------------------------------\n",
      "[[2 (73%)]] --> [[0 (53%)]]\n",
      "\n",
      "temen gue telepon genggam nya xiaomi yang juta saja masih kembali pas gue tanya kenapa dia beli itu padahal bisa saja di beli iphone dia jawab karena dia [[suka]] karena spek nya melebih iphone yang lo [[pandang]] ricuh itu \n",
      "\n",
      "temen gue telepon genggam nya xiaomi yang juta saja masih kembali pas gue tanya kenapa dia beli itu padahal bisa saja di beli iphone dia jawab karena dia [[mau]] karena spek nya melebih iphone yang lo [[beranggapan]] ricuh itu \n",
      "\n",
      "\n",
      "--------------------------------------------- Result 158 ---------------------------------------------\n",
      "[[0 (54%)]] --> [[[SKIPPED]]]\n",
      "\n",
      "yang paling saya suka dari adalah trully open source sampai disediakan forum khusus itu bikin nyaman banget sih \n",
      "\n",
      "\n",
      "--------------------------------------------- Result 159 ---------------------------------------------\n",
      "[[0 (56%)]] --> [[[SKIPPED]]]\n",
      "\n",
      "agak nya xiaomi tidak main main mau masuk pasar ponsel global mantap saya selalu suka miui mereka d\n",
      "\n",
      "\n"
     ]
    },
    {
     "name": "stderr",
     "output_type": "stream",
     "text": [
      "[Succeeded / Failed / Skipped / Total] 85 / 3 / 72 / 160:  32%|███▏      | 160/500 [00:42<01:30,  3.74it/s]"
     ]
    },
    {
     "name": "stdout",
     "output_type": "stream",
     "text": [
      "--------------------------------------------- Result 160 ---------------------------------------------\n",
      "[[2 (58%)]] --> [[[FAILED]]]\n",
      "\n",
      "tidak dapat apple aku tidak kecewa kok yang penting samsung galaxy grand sudah di tangan ku sekarang aku senang \n",
      "\n",
      "\n",
      "--------------------------------------------- Result 161 ---------------------------------------------\n",
      "[[2 (58%)]] --> [[0 (45%)]]\n",
      "\n",
      "[[terima]] kasih bapak presiden jokowi sudah hadir dan menginap di tengah tengah kami warga lombok utara kehadiran bapak menambah semangat kami untuk bangkit lagi\n",
      "\n",
      "[[jadi]] kasih bapak presiden jokowi sudah hadir dan menginap di tengah tengah kami warga lombok utara kehadiran bapak menambah semangat kami untuk bangkit lagi\n",
      "\n",
      "\n"
     ]
    },
    {
     "name": "stderr",
     "output_type": "stream",
     "text": [
      "[Succeeded / Failed / Skipped / Total] 87 / 3 / 72 / 162:  32%|███▏      | 162/500 [00:43<01:30,  3.75it/s]"
     ]
    },
    {
     "name": "stdout",
     "output_type": "stream",
     "text": [
      "--------------------------------------------- Result 162 ---------------------------------------------\n",
      "[[2 (58%)]] --> [[0 (70%)]]\n",
      "\n",
      "ketersediaan air [[adalah]] kunci ketahanan pangan kita karena itulah pemerintah telah membangun bendungan yang akan menjamin produksi pangan kita di masa depan terima kasih pak \n",
      "\n",
      "ketersediaan air [[orang]] kunci ketahanan pangan kita karena itulah pemerintah telah membangun bendungan yang akan menjamin produksi pangan kita di masa depan terima kasih pak \n",
      "\n",
      "\n"
     ]
    },
    {
     "name": "stderr",
     "output_type": "stream",
     "text": [
      "[Succeeded / Failed / Skipped / Total] 88 / 3 / 72 / 163:  33%|███▎      | 163/500 [00:43<01:29,  3.75it/s]"
     ]
    },
    {
     "name": "stdout",
     "output_type": "stream",
     "text": [
      "--------------------------------------------- Result 163 ---------------------------------------------\n",
      "[[2 (49%)]] --> [[0 (61%)]]\n",
      "\n",
      "terima kasih bang atas apresiasi nya semoga pak cepat menemui wakil kami korban phk sepihak freeport bila [[perlu]] pak presiden agar masalah kami terselesaikan \n",
      "\n",
      "terima kasih bang atas apresiasi nya semoga pak cepat menemui wakil kami korban phk sepihak freeport bila [[mau]] pak presiden agar masalah kami terselesaikan \n",
      "\n",
      "\n"
     ]
    },
    {
     "name": "stderr",
     "output_type": "stream",
     "text": [
      "[Succeeded / Failed / Skipped / Total] 90 / 3 / 72 / 165:  33%|███▎      | 165/500 [00:43<01:29,  3.76it/s]"
     ]
    },
    {
     "name": "stdout",
     "output_type": "stream",
     "text": [
      "--------------------------------------------- Result 164 ---------------------------------------------\n",
      "[[2 (58%)]] --> [[0 (70%)]]\n",
      "\n",
      "[[masyarakat]] papua dipastikan akan mendukung memilih jokowi saat pilpres karena masyarakat papua merasakan hasil pembangunan yang dicapai di era terima kasih pak\n",
      "\n",
      "[[orang]] papua dipastikan akan mendukung memilih jokowi saat pilpres karena masyarakat papua merasakan hasil pembangunan yang dicapai di era terima kasih pak\n",
      "\n",
      "\n",
      "--------------------------------------------- Result 165 ---------------------------------------------\n",
      "[[2 (58%)]] --> [[0 (45%)]]\n",
      "\n",
      "beliau cinta rakyat di cinta rakyat merakyat [[terima]] kasih pak\n",
      "\n",
      "beliau cinta rakyat di cinta rakyat merakyat [[jadi]] kasih pak\n",
      "\n",
      "\n"
     ]
    },
    {
     "name": "stderr",
     "output_type": "stream",
     "text": [
      "[Succeeded / Failed / Skipped / Total] 91 / 3 / 72 / 166:  33%|███▎      | 166/500 [00:44<01:28,  3.77it/s]"
     ]
    },
    {
     "name": "stdout",
     "output_type": "stream",
     "text": [
      "--------------------------------------------- Result 166 ---------------------------------------------\n",
      "[[2 (62%)]] --> [[0 (52%)]]\n",
      "\n",
      "semoga bapak [[selalu]] sehat semoga bapak bisa melanjutkan dua periode amin saya mendukung bapak \n",
      "\n",
      "semoga bapak [[benar-benar]] sehat semoga bapak bisa melanjutkan dua periode amin saya mendukung bapak \n",
      "\n",
      "\n"
     ]
    },
    {
     "name": "stderr",
     "output_type": "stream",
     "text": [
      "[Succeeded / Failed / Skipped / Total] 92 / 3 / 72 / 167:  33%|███▎      | 167/500 [00:44<01:28,  3.77it/s]"
     ]
    },
    {
     "name": "stdout",
     "output_type": "stream",
     "text": [
      "--------------------------------------------- Result 167 ---------------------------------------------\n",
      "[[2 (49%)]] --> [[0 (45%)]]\n",
      "\n",
      "[[terima]] kasih kepada anies baswedan dan diego uno atas komitmen nya untuk tidak meninggalkan jabatan gubernur dan wakil gubernur selama tahun saya bangga memilih kalian \n",
      "\n",
      "[[jadi]] kasih kepada anies baswedan dan diego uno atas komitmen nya untuk tidak meninggalkan jabatan gubernur dan wakil gubernur selama tahun saya bangga memilih kalian \n",
      "\n",
      "\n"
     ]
    },
    {
     "name": "stderr",
     "output_type": "stream",
     "text": [
      "[Succeeded / Failed / Skipped / Total] 93 / 3 / 72 / 168:  34%|███▎      | 168/500 [00:44<01:27,  3.77it/s]"
     ]
    },
    {
     "name": "stdout",
     "output_type": "stream",
     "text": [
      "--------------------------------------------- Result 168 ---------------------------------------------\n",
      "[[2 (74%)]] --> [[0 (50%)]]\n",
      "\n",
      "karya karya [[seperti]] itu layak menempati lokasi yang premium indah dan klasik saya [[suka]] terima kasih pak anies\n",
      "\n",
      "karya karya [[mau]] itu layak menempati lokasi yang premium indah dan klasik saya [[mau]] terima kasih pak anies\n",
      "\n",
      "\n"
     ]
    },
    {
     "name": "stderr",
     "output_type": "stream",
     "text": [
      "[Succeeded / Failed / Skipped / Total] 95 / 3 / 75 / 173:  35%|███▍      | 173/500 [00:44<01:24,  3.85it/s]"
     ]
    },
    {
     "name": "stdout",
     "output_type": "stream",
     "text": [
      "--------------------------------------------- Result 169 ---------------------------------------------\n",
      "[[2 (71%)]] --> [[0 (48%)]]\n",
      "\n",
      "bagus dong pak terima kasih sudah bergabung alhamdulillah sukses [[selalu]]\n",
      "\n",
      "bagus dong pak terima kasih sudah bergabung alhamdulillah sukses [[benar-benar]]\n",
      "\n",
      "\n",
      "--------------------------------------------- Result 170 ---------------------------------------------\n",
      "[[0 (53%)]] --> [[[SKIPPED]]]\n",
      "\n",
      "terima kasih pak anies sukses untuk anda baru kali ini lihat trotoar jakarta yang lebar nya melebihi lapangan badminton keren pak \n",
      "\n",
      "\n",
      "--------------------------------------------- Result 171 ---------------------------------------------\n",
      "[[2 (58%)]] --> [[0 (50%)]]\n",
      "\n",
      "doa kami untuk mu bapak anies semoga allah ridho engkau sukses [[bersama]] pak prabowo ri ri\n",
      "\n",
      "doa kami untuk mu bapak anies semoga allah ridho engkau sukses [[bersama-sama]] pak prabowo ri ri\n",
      "\n",
      "\n",
      "--------------------------------------------- Result 172 ---------------------------------------------\n",
      "[[0 (45%)]] --> [[[SKIPPED]]]\n",
      "\n",
      "terima kasih untuk buah karya mu di jakarta yang jadi sejuk santun bersama pak sandi juga pak anies\n",
      "\n",
      "\n",
      "--------------------------------------------- Result 173 ---------------------------------------------\n",
      "[[0 (74%)]] --> [[[SKIPPED]]]\n",
      "\n",
      "gue paling suka pakai susu ultra yang lowfat sumpah sih enak banget banget malah gue cuma bisa menghabiskan indomie rebus kalau kuah nya diganti susu\n",
      "\n",
      "\n"
     ]
    },
    {
     "name": "stderr",
     "output_type": "stream",
     "text": [
      "[Succeeded / Failed / Skipped / Total] 96 / 3 / 81 / 180:  36%|███▌      | 180/500 [00:45<01:20,  3.96it/s]"
     ]
    },
    {
     "name": "stdout",
     "output_type": "stream",
     "text": [
      "--------------------------------------------- Result 174 ---------------------------------------------\n",
      "[[2 (68%)]] --> [[0 (45%)]]\n",
      "\n",
      "kenapa aku kok [[suka]] [[banget]] [[sama]] yang nama nya mi apalagi mi indomie goreng dikasih kuah telur berh rasanya mantap tjoy pangsit di depan rumah gue aja kalah [[enak]] [[sama]] mi buatan aku sendiri \n",
      "\n",
      "kenapa aku kok [[mau]] [[benar]] [[orang]] yang nama nya mi apalagi mi indomie goreng dikasih kuah telur berh rasanya mantap tjoy pangsit di depan rumah gue aja kalah [[baik]] [[orang]] mi buatan aku sendiri \n",
      "\n",
      "\n",
      "--------------------------------------------- Result 175 ---------------------------------------------\n",
      "[[0 (57%)]] --> [[[SKIPPED]]]\n",
      "\n",
      "sebenarnya lebih suka kari ayam sih kak hehehe tapi kalau label nya sudah indomie apa saja masuk kok ke perut ku karena aku penggemar berat indomie \n",
      "\n",
      "\n",
      "--------------------------------------------- Result 176 ---------------------------------------------\n",
      "[[0 (60%)]] --> [[[SKIPPED]]]\n",
      "\n",
      "iya enak banget soal nya iya dong indomie mah teh terbaik iya lalu aku juga tidak suka orang yang padahal jelas jelas dia salah dan harus nya minta maaf tapi adem ayem saja sedangkan aku nya sudah menderita \n",
      "\n",
      "\n",
      "--------------------------------------------- Result 177 ---------------------------------------------\n",
      "[[0 (81%)]] --> [[[SKIPPED]]]\n",
      "\n",
      "yang terhormat saya suka banget sama indomie mau minta boleh tidak inovasiin bungkus minyak nya biar gampang dibuka pakai tangan dong supaya tidak bleweran ketika tidak ada gunting terima kasih \n",
      "\n",
      "\n",
      "--------------------------------------------- Result 178 ---------------------------------------------\n",
      "[[0 (61%)]] --> [[[SKIPPED]]]\n",
      "\n",
      "yang saya suka dari chitato indomie konsistensi mereka meng eksplore rasa lokal kesan nya indonesia banget \n",
      "\n",
      "\n",
      "--------------------------------------------- Result 179 ---------------------------------------------\n",
      "[[0 (47%)]] --> [[[SKIPPED]]]\n",
      "\n",
      "asus bagus speaker nya kencang kalau buat presentasi mayan maka dari itu aku lebih milih asus dibanding yang lain \n",
      "\n",
      "\n",
      "--------------------------------------------- Result 180 ---------------------------------------------\n",
      "[[0 (51%)]] --> [[[SKIPPED]]]\n",
      "\n",
      "xiaomi redmi note atau asus zenfone max pro m saja jutaan sudah pakai snapdragon batre gede update os terjamin kamera bagus \n",
      "\n",
      "\n"
     ]
    },
    {
     "name": "stderr",
     "output_type": "stream",
     "text": [
      "[Succeeded / Failed / Skipped / Total] 97 / 3 / 84 / 184:  37%|███▋      | 184/500 [00:45<01:18,  4.02it/s]"
     ]
    },
    {
     "name": "stdout",
     "output_type": "stream",
     "text": [
      "--------------------------------------------- Result 181 ---------------------------------------------\n",
      "[[2 (50%)]] --> [[0 (69%)]]\n",
      "\n",
      "kalau mau minum kopi datangkan journey kopi records ini kedai kopi anak musik banget jualan kaset tape cd sampai vinyl yang punya juga paham sekali musik kopi nya [[enak]] pol teh terbaik \n",
      "\n",
      "kalau mau minum kopi datangkan journey kopi records ini kedai kopi anak musik banget jualan kaset tape cd sampai vinyl yang punya juga paham sekali musik kopi nya [[afiat]] pol teh terbaik \n",
      "\n",
      "\n",
      "--------------------------------------------- Result 182 ---------------------------------------------\n",
      "[[0 (68%)]] --> [[[SKIPPED]]]\n",
      "\n",
      "aku lagi makan mangga potong aku suka banget buah mangga besok kalau kepasar mau beli banyak banyak lagi ah \n",
      "\n",
      "\n",
      "--------------------------------------------- Result 183 ---------------------------------------------\n",
      "[[0 (61%)]] --> [[[SKIPPED]]]\n",
      "\n",
      "jaemin itu soft banget hati nya mudah tersentuh begitu sayang banget sama nctzen juga inti nya dia itu suka sama yang nama nya kasih sayang itu kenapa aku suka banget sama dia \n",
      "\n",
      "\n",
      "--------------------------------------------- Result 184 ---------------------------------------------\n",
      "[[0 (45%)]] --> [[[SKIPPED]]]\n",
      "\n",
      "ingin rekomendasi saja buat yang tertarik kuliner bandung bacang yang ada di jalan naripan sebelah hotel ibis styles ibis yang warna hijau sungguh seenak itu buka dari jam sore sampai jam dinihari kalau belum sekali harga ribu cocok buat ajak orang tersayang nya \n",
      "\n",
      "\n"
     ]
    },
    {
     "name": "stderr",
     "output_type": "stream",
     "text": [
      "[Succeeded / Failed / Skipped / Total] 98 / 3 / 84 / 185:  37%|███▋      | 185/500 [00:46<01:19,  3.98it/s]"
     ]
    },
    {
     "name": "stdout",
     "output_type": "stream",
     "text": [
      "--------------------------------------------- Result 185 ---------------------------------------------\n",
      "[[2 (76%)]] --> [[0 (52%)]]\n",
      "\n",
      "kuliner pertama yang harus dicoba itu ketan jompo [[rasa]] jangan ditanya lagi gurih manis dan [[hangat]] nya ketan yang ditaburi bubuk koyah bisa banget menemani malam kalian di kota jember harga nya juga murah cuma tiga ribu [[suka]] banget \n",
      "\n",
      "kuliner pertama yang harus dicoba itu ketan jompo [[tahu]] jangan ditanya lagi gurih manis dan [[benar-benar]] nya ketan yang ditaburi bubuk koyah bisa banget menemani malam kalian di kota jember harga nya juga murah cuma tiga ribu [[mau]] banget \n",
      "\n",
      "\n"
     ]
    },
    {
     "name": "stderr",
     "output_type": "stream",
     "text": [
      "[Succeeded / Failed / Skipped / Total] 99 / 3 / 84 / 186:  37%|███▋      | 186/500 [00:47<01:19,  3.93it/s]"
     ]
    },
    {
     "name": "stdout",
     "output_type": "stream",
     "text": [
      "--------------------------------------------- Result 186 ---------------------------------------------\n",
      "[[2 (83%)]] --> [[0 (53%)]]\n",
      "\n",
      "di jember itu [[ada]] tempat [[makan]] enak nama nya warung bakaran mbak vivi makanan nya [[enak]] enak bakaran nya itu pas banget matang nya dan yang paling penting nya harga nya murah [[sekali]] untuk makanan seenak itu \n",
      "\n",
      "di jember itu [[orang]] tempat [[mau]] enak nama nya warung bakaran mbak vivi makanan nya [[baik]] enak bakaran nya itu pas banget matang nya dan yang paling penting nya harga nya murah [[benar-benar]] untuk makanan seenak itu \n",
      "\n",
      "\n"
     ]
    },
    {
     "name": "stderr",
     "output_type": "stream",
     "text": [
      "[Succeeded / Failed / Skipped / Total] 100 / 3 / 85 / 188:  38%|███▊      | 188/500 [00:48<01:20,  3.87it/s]"
     ]
    },
    {
     "name": "stdout",
     "output_type": "stream",
     "text": [
      "--------------------------------------------- Result 187 ---------------------------------------------\n",
      "[[2 (70%)]] --> [[0 (50%)]]\n",
      "\n",
      "gue baru pertama kali ke tempat [[makan]] nama nya ayam rempah jember rasanya bisa diadu sama makanan makanan enak kelas atas paduan nasi hangat sama ayam rempah terus disanding sama dua macam sambal dan minum nya jeruk panas parah sih itu rasanya ketagihan bikin [[ingin]] lagi dan lagi dan lagi \n",
      "\n",
      "gue baru pertama kali ke tempat [[mau]] nama nya ayam rempah jember rasanya bisa diadu sama makanan makanan enak kelas atas paduan nasi hangat sama ayam rempah terus disanding sama dua macam sambal dan minum nya jeruk panas parah sih itu rasanya ketagihan bikin [[mau]] lagi dan lagi dan lagi \n",
      "\n",
      "\n",
      "--------------------------------------------- Result 188 ---------------------------------------------\n",
      "[[0 (57%)]] --> [[[SKIPPED]]]\n",
      "\n",
      "di jember ada juga makanan nama nya tahu telur bangka waktu itu belum pernah nyobain makanan yang begituan eh sekali nya mencoba gue langsung jatuh cinta top \n",
      "\n",
      "\n"
     ]
    },
    {
     "name": "stderr",
     "output_type": "stream",
     "text": [
      "[Succeeded / Failed / Skipped / Total] 101 / 3 / 88 / 192:  38%|███▊      | 192/500 [00:49<01:19,  3.88it/s]"
     ]
    },
    {
     "name": "stdout",
     "output_type": "stream",
     "text": [
      "--------------------------------------------- Result 189 ---------------------------------------------\n",
      "[[2 (60%)]] --> [[0 (51%)]]\n",
      "\n",
      "pujasera okm semanggi itu salah satu tempat [[makan]] yang lagi populer di jember asik banget buat nongkrong wifi nya juga kencang kayak nya sih bakal sering sering ke sana \n",
      "\n",
      "pujasera okm semanggi itu salah satu tempat [[mau]] yang lagi populer di jember asik banget buat nongkrong wifi nya juga kencang kayak nya sih bakal sering sering ke sana \n",
      "\n",
      "\n",
      "--------------------------------------------- Result 190 ---------------------------------------------\n",
      "[[0 (74%)]] --> [[[SKIPPED]]]\n",
      "\n",
      "haha yang baru baru sih sudah tidak begitu terlihat absurd nya yang rog baru malah logo mata doang keren jadi nya lenovo legion yang baru malah lebih lebih lagi elegan nya kalau saya pribadi sih suka \n",
      "\n",
      "\n",
      "--------------------------------------------- Result 191 ---------------------------------------------\n",
      "[[0 (73%)]] --> [[[SKIPPED]]]\n",
      "\n",
      "buat gue kece banget lenovo itu saking kece nya layar laptop lenovo yoga bisa ditekuk derajat keren banget memang benar sih kadang different adalah lebih baik \n",
      "\n",
      "\n",
      "--------------------------------------------- Result 192 ---------------------------------------------\n",
      "[[0 (75%)]] --> [[[SKIPPED]]]\n",
      "\n",
      "ultra milk ini luv banget ya sekali nya ngeluarin flavor baru dua dua nya favorit ku tapi ku lebih sayang sama yang karamel sih \n",
      "\n",
      "\n"
     ]
    },
    {
     "name": "stderr",
     "output_type": "stream",
     "text": [
      "[Succeeded / Failed / Skipped / Total] 102 / 3 / 88 / 193:  39%|███▊      | 193/500 [00:49<01:19,  3.86it/s]"
     ]
    },
    {
     "name": "stdout",
     "output_type": "stream",
     "text": [
      "--------------------------------------------- Result 193 ---------------------------------------------\n",
      "[[2 (55%)]] --> [[0 (57%)]]\n",
      "\n",
      "big cola itu enak banget aku suka dia tidak jauh beda enak nya dengan minuman cola lain ditambah dia itu harga nya lebih murah luv banget buat orang yang suka cola [[kayak]] aku \n",
      "\n",
      "big cola itu enak banget aku suka dia tidak jauh beda enak nya dengan minuman cola lain ditambah dia itu harga nya lebih murah luv banget buat orang yang suka cola [[mau]] aku \n",
      "\n",
      "\n"
     ]
    },
    {
     "name": "stderr",
     "output_type": "stream",
     "text": [
      "[Succeeded / Failed / Skipped / Total] 103 / 3 / 89 / 195:  39%|███▉      | 195/500 [00:50<01:18,  3.87it/s]"
     ]
    },
    {
     "name": "stdout",
     "output_type": "stream",
     "text": [
      "--------------------------------------------- Result 194 ---------------------------------------------\n",
      "[[2 (51%)]] --> [[0 (59%)]]\n",
      "\n",
      "dulu saya haus setelah ke indomaret dan membeli big cola haus saya hilang gila rasanya [[enak]] banget sejak saat itu jadi keterusan suka minumkan big cola \n",
      "\n",
      "dulu saya haus setelah ke indomaret dan membeli big cola haus saya hilang gila rasanya [[afiat]] banget sejak saat itu jadi keterusan suka minumkan big cola \n",
      "\n",
      "\n",
      "--------------------------------------------- Result 195 ---------------------------------------------\n",
      "[[0 (67%)]] --> [[[SKIPPED]]]\n",
      "\n",
      "bca keren banget sih pelayanan nya selain itu dia mikirin karyawan nya banget setiap hari saja karyawan nya dapat cemilan popcorn salut sama pemimpinan nya bukan cuma mikirin kenyamanan pelanggan tapi juga karyawan \n",
      "\n",
      "\n"
     ]
    },
    {
     "name": "stderr",
     "output_type": "stream",
     "text": [
      "[Succeeded / Failed / Skipped / Total] 104 / 3 / 89 / 196:  39%|███▉      | 197/500 [00:50<01:18,  3.87it/s]"
     ]
    },
    {
     "name": "stdout",
     "output_type": "stream",
     "text": [
      "--------------------------------------------- Result 196 ---------------------------------------------\n",
      "[[2 (63%)]] --> [[0 (54%)]]\n",
      "\n",
      "sumpah big cola jauh banget lebih enak daripada coca cola tidak terlalu manis dan tidak menyisakan pait di mulut [[seperti]] coke zero wkwk norak ya gue baru mencoba tapi asli enak banget \n",
      "\n",
      "sumpah big cola jauh banget lebih enak daripada coca cola tidak terlalu manis dan tidak menyisakan pait di mulut [[mau]] coke zero wkwk norak ya gue baru mencoba tapi asli enak banget \n",
      "\n",
      "\n"
     ]
    },
    {
     "name": "stderr",
     "output_type": "stream",
     "text": [
      "[Succeeded / Failed / Skipped / Total] 105 / 3 / 90 / 198:  40%|███▉      | 198/500 [00:50<01:17,  3.88it/s]"
     ]
    },
    {
     "name": "stdout",
     "output_type": "stream",
     "text": [
      "--------------------------------------------- Result 197 ---------------------------------------------\n",
      "[[2 (55%)]] --> [[0 (58%)]]\n",
      "\n",
      "aku sayang banget sama susu ultramilk rasanya tiap ke indomaret tidak pernah tidak beli susu itu [[enak]] ketagihan \n",
      "\n",
      "aku sayang banget sama susu ultramilk rasanya tiap ke indomaret tidak pernah tidak beli susu itu [[afiat]] ketagihan \n",
      "\n",
      "\n",
      "--------------------------------------------- Result 198 ---------------------------------------------\n",
      "[[0 (73%)]] --> [[[SKIPPED]]]\n",
      "\n",
      "oppo f menurut gue mantap banget sih mulai dari kamera depan nya yang bersih terus layar nya penuh display pakai gorilla glass lalu kamera belakang nya naik tingkat banget dari yang sebelumnya tidak menyesal gue beli ini hp \n",
      "\n",
      "\n"
     ]
    },
    {
     "name": "stderr",
     "output_type": "stream",
     "text": [
      "[Succeeded / Failed / Skipped / Total] 106 / 3 / 90 / 199:  40%|███▉      | 199/500 [00:51<01:17,  3.88it/s]"
     ]
    },
    {
     "name": "stdout",
     "output_type": "stream",
     "text": [
      "--------------------------------------------- Result 199 ---------------------------------------------\n",
      "[[2 (54%)]] --> [[0 (59%)]]\n",
      "\n",
      "sarapan nya [[enak]] dan pilihan nya lumayan banyak kamar baik ac nya juga dingin hotel aston gue rekomendasikan sih buat kalian kalian yang mau menginap di hotel \n",
      "\n",
      "sarapan nya [[afiat]] dan pilihan nya lumayan banyak kamar baik ac nya juga dingin hotel aston gue rekomendasikan sih buat kalian kalian yang mau menginap di hotel \n",
      "\n",
      "\n"
     ]
    },
    {
     "name": "stderr",
     "output_type": "stream",
     "text": [
      "[Succeeded / Failed / Skipped / Total] 108 / 3 / 90 / 201:  40%|████      | 201/500 [00:51<01:17,  3.87it/s]"
     ]
    },
    {
     "name": "stdout",
     "output_type": "stream",
     "text": [
      "--------------------------------------------- Result 200 ---------------------------------------------\n",
      "[[2 (69%)]] --> [[0 (50%)]]\n",
      "\n",
      "ini [[ya]] menurut gue tentang hotel aston itu pertama staf hotel tanggap cepat dan [[ramah]] kedua untuk sarapan lumayan enak dan untuk anak anak suka sekali dengan kolam renang anak termasuk saya dan istri ketiga yang [[pasti]] bersih \n",
      "\n",
      "ini [[benar-benar]] menurut gue tentang hotel aston itu pertama staf hotel tanggap cepat dan [[bersemangat]] kedua untuk sarapan lumayan enak dan untuk anak anak suka sekali dengan kolam renang anak termasuk saya dan istri ketiga yang [[benar-benar]] bersih \n",
      "\n",
      "\n",
      "--------------------------------------------- Result 201 ---------------------------------------------\n",
      "[[2 (59%)]] --> [[0 (50%)]]\n",
      "\n",
      "kolam renang di hotel aston bikin tidak mau berenti berenang nyaman banget air nya bersih tempat bilas nya [[nyaman]] \n",
      "\n",
      "kolam renang di hotel aston bikin tidak mau berenti berenang nyaman banget air nya bersih tempat bilas nya [[afdal]] \n",
      "\n",
      "\n"
     ]
    },
    {
     "name": "stderr",
     "output_type": "stream",
     "text": [
      "[Succeeded / Failed / Skipped / Total] 109 / 3 / 91 / 203:  41%|████      | 203/500 [00:52<01:16,  3.89it/s]"
     ]
    },
    {
     "name": "stdout",
     "output_type": "stream",
     "text": [
      "--------------------------------------------- Result 202 ---------------------------------------------\n",
      "[[2 (58%)]] --> [[0 (45%)]]\n",
      "\n",
      "wah keren [[ya]] persiapan bni saya juga mendukung semoga bisa berjalan lancar \n",
      "\n",
      "wah keren [[jadi]] persiapan bni saya juga mendukung semoga bisa berjalan lancar \n",
      "\n",
      "\n",
      "--------------------------------------------- Result 203 ---------------------------------------------\n",
      "[[0 (56%)]] --> [[[SKIPPED]]]\n",
      "\n",
      "lebih enak lagi kalau nasi padang oreo momogi chocolatos terus semua itu di campur di aduk pakai tangan baru dimakan enak banget \n",
      "\n",
      "\n"
     ]
    },
    {
     "name": "stderr",
     "output_type": "stream",
     "text": [
      "[Succeeded / Failed / Skipped / Total] 111 / 3 / 91 / 205:  41%|████      | 205/500 [00:52<01:15,  3.88it/s]"
     ]
    },
    {
     "name": "stdout",
     "output_type": "stream",
     "text": [
      "--------------------------------------------- Result 204 ---------------------------------------------\n",
      "[[2 (58%)]] --> [[0 (52%)]]\n",
      "\n",
      "sudah lama tidak [[minum]] ultra milk rasa stroberi pas sekarang minum merasa enak sekali tidak tahu kenapa ketagihan rasanya ingin beli sekardus gede buat diminum sendiri \n",
      "\n",
      "sudah lama tidak [[jadi]] ultra milk rasa stroberi pas sekarang minum merasa enak sekali tidak tahu kenapa ketagihan rasanya ingin beli sekardus gede buat diminum sendiri \n",
      "\n",
      "\n",
      "--------------------------------------------- Result 205 ---------------------------------------------\n",
      "[[2 (66%)]] --> [[0 (47%)]]\n",
      "\n",
      "go jek makin sini makin keren deh semoga makin baik ya dalam pelayanan dan aplikasi nya [[ya]] go car go jek dan go go lainnya chiiiiirrs \n",
      "\n",
      "go jek makin sini makin keren deh semoga makin baik ya dalam pelayanan dan aplikasi nya [[benar-benar]] go car go jek dan go go lainnya chiiiiirrs \n",
      "\n",
      "\n"
     ]
    },
    {
     "name": "stderr",
     "output_type": "stream",
     "text": [
      "[Succeeded / Failed / Skipped / Total] 112 / 3 / 91 / 206:  41%|████      | 206/500 [00:53<01:15,  3.88it/s]"
     ]
    },
    {
     "name": "stdout",
     "output_type": "stream",
     "text": [
      "--------------------------------------------- Result 206 ---------------------------------------------\n",
      "[[2 (67%)]] --> [[0 (67%)]]\n",
      "\n",
      "go jek kalian harus tetap ada karena kami bukan sekadar butuh angkutan kami juga [[butuh]] pelayanan yang prima seperti biasanya saya sangat mendukung kalian \n",
      "\n",
      "go jek kalian harus tetap ada karena kami bukan sekadar butuh angkutan kami juga [[mau]] pelayanan yang prima seperti biasanya saya sangat mendukung kalian \n",
      "\n",
      "\n"
     ]
    },
    {
     "name": "stderr",
     "output_type": "stream",
     "text": [
      "[Succeeded / Failed / Skipped / Total] 113 / 3 / 91 / 207:  41%|████▏     | 207/500 [00:53<01:15,  3.88it/s]"
     ]
    },
    {
     "name": "stdout",
     "output_type": "stream",
     "text": [
      "--------------------------------------------- Result 207 ---------------------------------------------\n",
      "[[2 (67%)]] --> [[0 (52%)]]\n",
      "\n",
      "saya senang di bali bagus pelayanan go jek nya [[sangat]] terbantu dengan keberadaan nya memang harus ada terus supaya pelayanan nya semakin memuaskan \n",
      "\n",
      "saya senang di bali bagus pelayanan go jek nya [[benar]] terbantu dengan keberadaan nya memang harus ada terus supaya pelayanan nya semakin memuaskan \n",
      "\n",
      "\n"
     ]
    },
    {
     "name": "stderr",
     "output_type": "stream",
     "text": [
      "[Succeeded / Failed / Skipped / Total] 114 / 3 / 91 / 208:  42%|████▏     | 208/500 [00:54<01:15,  3.85it/s]"
     ]
    },
    {
     "name": "stdout",
     "output_type": "stream",
     "text": [
      "--------------------------------------------- Result 208 ---------------------------------------------\n",
      "[[2 (49%)]] --> [[0 (69%)]]\n",
      "\n",
      "kalau driver go jek tidak pelayanan prima meminta bungkus acar untuk mengambil saos tambahan hilang nafsu [[makan]] saya bravo driver go jek \n",
      "\n",
      "kalau driver go jek tidak pelayanan prima meminta bungkus acar untuk mengambil saos tambahan hilang nafsu [[mau]] saya bravo driver go jek \n",
      "\n",
      "\n"
     ]
    },
    {
     "name": "stderr",
     "output_type": "stream",
     "text": [
      "[Succeeded / Failed / Skipped / Total] 115 / 3 / 92 / 210:  42%|████▏     | 210/500 [00:54<01:15,  3.86it/s]"
     ]
    },
    {
     "name": "stdout",
     "output_type": "stream",
     "text": [
      "--------------------------------------------- Result 209 ---------------------------------------------\n",
      "[[2 (53%)]] --> [[0 (66%)]]\n",
      "\n",
      "banyak alasan saya bisa merasa puas dengan pelayanan go jek go jek tidak pernah lepas dari tanggung jawab itu [[adalah]] nilai plus yang belum tentu dimiliki oleh perusahaan yang lain \n",
      "\n",
      "banyak alasan saya bisa merasa puas dengan pelayanan go jek go jek tidak pernah lepas dari tanggung jawab itu [[orang]] nilai plus yang belum tentu dimiliki oleh perusahaan yang lain \n",
      "\n",
      "\n",
      "--------------------------------------------- Result 210 ---------------------------------------------\n",
      "[[0 (41%)]] --> [[[SKIPPED]]]\n",
      "\n",
      "go jek selalu jadi inspirasi untuk perusahaan perusahaan di indonesia pelayanan nya bravo selalu berkembang setiap waktu dan memberi kemudahan bagi pelanggan \n",
      "\n",
      "\n"
     ]
    },
    {
     "name": "stderr",
     "output_type": "stream",
     "text": [
      "[Succeeded / Failed / Skipped / Total] 116 / 3 / 92 / 211:  42%|████▏     | 211/500 [00:54<01:15,  3.84it/s]"
     ]
    },
    {
     "name": "stdout",
     "output_type": "stream",
     "text": [
      "--------------------------------------------- Result 211 ---------------------------------------------\n",
      "[[2 (51%)]] --> [[0 (57%)]]\n",
      "\n",
      "suka sama hotel ibis dia [[selalu]] bikin inovasi buat menjaga kenyamanan pelanggan selalu konsisten juga memberi pelayanan yang terbaik untuk tamu \n",
      "\n",
      "suka sama hotel ibis dia [[benar-benar]] bikin inovasi buat menjaga kenyamanan pelanggan selalu konsisten juga memberi pelayanan yang terbaik untuk tamu \n",
      "\n",
      "\n"
     ]
    },
    {
     "name": "stderr",
     "output_type": "stream",
     "text": [
      "[Succeeded / Failed / Skipped / Total] 117 / 3 / 92 / 212:  42%|████▏     | 212/500 [00:55<01:15,  3.83it/s]"
     ]
    },
    {
     "name": "stdout",
     "output_type": "stream",
     "text": [
      "--------------------------------------------- Result 212 ---------------------------------------------\n",
      "[[2 (57%)]] --> [[0 (56%)]]\n",
      "\n",
      "kepada yang terhormat ibu dari ayi djembarsari selamat menunaikan tugas bu [[sebagai]] dirut rshs semoga pelayanan rshs semakin baik saya bangga kepada ibu \n",
      "\n",
      "kepada yang terhormat ibu dari ayi djembarsari selamat menunaikan tugas bu [[mau]] dirut rshs semoga pelayanan rshs semakin baik saya bangga kepada ibu \n",
      "\n",
      "\n"
     ]
    },
    {
     "name": "stderr",
     "output_type": "stream",
     "text": [
      "[Succeeded / Failed / Skipped / Total] 118 / 3 / 92 / 213:  43%|████▎     | 213/500 [00:55<01:15,  3.82it/s]"
     ]
    },
    {
     "name": "stdout",
     "output_type": "stream",
     "text": [
      "--------------------------------------------- Result 213 ---------------------------------------------\n",
      "[[2 (52%)]] --> [[0 (54%)]]\n",
      "\n",
      "terima kasih atas saran yang kamu berikan kak kami akan [[selalu]] berusaha untuk meningkatkan pelayanan kami untuk pengalaman belanja yang lebih menyenangkan ya \n",
      "\n",
      "terima kasih atas saran yang kamu berikan kak kami akan [[benar-benar]] berusaha untuk meningkatkan pelayanan kami untuk pengalaman belanja yang lebih menyenangkan ya \n",
      "\n",
      "\n"
     ]
    },
    {
     "name": "stderr",
     "output_type": "stream",
     "text": [
      "[Succeeded / Failed / Skipped / Total] 120 / 3 / 94 / 217:  43%|████▎     | 217/500 [00:56<01:13,  3.85it/s]"
     ]
    },
    {
     "name": "stdout",
     "output_type": "stream",
     "text": [
      "--------------------------------------------- Result 214 ---------------------------------------------\n",
      "[[2 (51%)]] --> [[0 (67%)]]\n",
      "\n",
      "hai kak terima kasih atas masukan kamu ya saran kamu sangat [[berharga]] bagi kami kami akan berupaya meningkatkan performa aplikasi dan pelayanan kami untuk pengalaman jual beli yang selalu menyenangkan untuk kamu dan semua sobat shopee ya kak \n",
      "\n",
      "hai kak terima kasih atas masukan kamu ya saran kamu sangat [[orang]] bagi kami kami akan berupaya meningkatkan performa aplikasi dan pelayanan kami untuk pengalaman jual beli yang selalu menyenangkan untuk kamu dan semua sobat shopee ya kak \n",
      "\n",
      "\n",
      "--------------------------------------------- Result 215 ---------------------------------------------\n",
      "[[2 (47%)]] --> [[0 (48%)]]\n",
      "\n",
      "keleveru terbaik [[memang]] dari kualitas kuantitas pelayanan pun terbaik tidak salah pilih aku \n",
      "\n",
      "keleveru terbaik [[benar-benar]] dari kualitas kuantitas pelayanan pun terbaik tidak salah pilih aku \n",
      "\n",
      "\n",
      "--------------------------------------------- Result 216 ---------------------------------------------\n",
      "[[0 (50%)]] --> [[[SKIPPED]]]\n",
      "\n",
      "cocok banget gue pakai shope sudah mana ongkos kirim gratis pengiriman juga aman dan lancar \n",
      "\n",
      "\n",
      "--------------------------------------------- Result 217 ---------------------------------------------\n",
      "[[0 (59%)]] --> [[[SKIPPED]]]\n",
      "\n",
      "alhamdulillah selama beli di lazada tidak pernah bermasalah barang barang nya lebih lucu lucu pelayanan juga lebih baik dari yang lain sudah deh kalau beli apa apa aku mau beli di lazada saja \n",
      "\n",
      "\n"
     ]
    },
    {
     "name": "stderr",
     "output_type": "stream",
     "text": [
      "[Succeeded / Failed / Skipped / Total] 120 / 4 / 94 / 218:  44%|████▎     | 218/500 [00:56<01:13,  3.84it/s]"
     ]
    },
    {
     "name": "stdout",
     "output_type": "stream",
     "text": [
      "--------------------------------------------- Result 218 ---------------------------------------------\n",
      "[[2 (68%)]] --> [[[FAILED]]]\n",
      "\n",
      "karena shopee bukan barang shope dia itu tempat belanjaan aku yang paling luar biasa pelayanan nya oke punya disko nya banjir \n",
      "\n",
      "\n"
     ]
    },
    {
     "name": "stderr",
     "output_type": "stream",
     "text": [
      "[Succeeded / Failed / Skipped / Total] 122 / 4 / 95 / 221:  44%|████▍     | 221/500 [00:57<01:12,  3.86it/s]"
     ]
    },
    {
     "name": "stdout",
     "output_type": "stream",
     "text": [
      "--------------------------------------------- Result 219 ---------------------------------------------\n",
      "[[2 (57%)]] --> [[0 (56%)]]\n",
      "\n",
      "harus belanja di shopee karena shopee itu memberikan bukti pelayanan yang baik bukan sekadar janji doang [[seperti]] mantan itu\n",
      "\n",
      "harus belanja di shopee karena shopee itu memberikan bukti pelayanan yang baik bukan sekadar janji doang [[mau]] mantan itu\n",
      "\n",
      "\n",
      "--------------------------------------------- Result 220 ---------------------------------------------\n",
      "[[0 (52%)]] --> [[[SKIPPED]]]\n",
      "\n",
      "harus belanja di shopee karena pelayanan dari shope itu benar benar memuaskan pelanggan dan takkan mengecewakan \n",
      "\n",
      "\n",
      "--------------------------------------------- Result 221 ---------------------------------------------\n",
      "[[2 (48%)]] --> [[0 (46%)]]\n",
      "\n",
      "karena hanya shope yang pelayanan nya memuaskan diskon besar besaran barang nya juga [[pasti]] nya bermerek mantap \n",
      "\n",
      "karena hanya shope yang pelayanan nya memuaskan diskon besar besaran barang nya juga [[benar-benar]] nya bermerek mantap \n",
      "\n",
      "\n"
     ]
    },
    {
     "name": "stderr",
     "output_type": "stream",
     "text": [
      "[Succeeded / Failed / Skipped / Total] 123 / 4 / 95 / 222:  44%|████▍     | 222/500 [00:57<01:12,  3.85it/s]"
     ]
    },
    {
     "name": "stdout",
     "output_type": "stream",
     "text": [
      "--------------------------------------------- Result 222 ---------------------------------------------\n",
      "[[2 (60%)]] --> [[0 (48%)]]\n",
      "\n",
      "shopee tidak pernah mengecewakan pelanggan selalu memberikan yang terbaik dalam pelayanan pokok nya shopee [[selalu]] memberikan pelayanan dengan baik \n",
      "\n",
      "shopee tidak pernah mengecewakan pelanggan selalu memberikan yang terbaik dalam pelayanan pokok nya shopee [[benar-benar]] memberikan pelayanan dengan baik \n",
      "\n",
      "\n"
     ]
    },
    {
     "name": "stderr",
     "output_type": "stream",
     "text": [
      "[Succeeded / Failed / Skipped / Total] 124 / 4 / 95 / 223:  45%|████▍     | 223/500 [00:58<01:12,  3.83it/s]"
     ]
    },
    {
     "name": "stdout",
     "output_type": "stream",
     "text": [
      "--------------------------------------------- Result 223 ---------------------------------------------\n",
      "[[2 (55%)]] --> [[0 (55%)]]\n",
      "\n",
      "shopee itu pusat pembelanjaan online terpercaya dengan pelayanan yang memuaskan yang paling menarik adalah pemberian diskon yang besar besaran aku suka aku [[suka]] \n",
      "\n",
      "shopee itu pusat pembelanjaan online terpercaya dengan pelayanan yang memuaskan yang paling menarik adalah pemberian diskon yang besar besaran aku suka aku [[mau]] \n",
      "\n",
      "\n"
     ]
    },
    {
     "name": "stderr",
     "output_type": "stream",
     "text": [
      "[Succeeded / Failed / Skipped / Total] 125 / 4 / 97 / 226:  45%|████▌     | 226/500 [00:58<01:11,  3.85it/s]"
     ]
    },
    {
     "name": "stdout",
     "output_type": "stream",
     "text": [
      "--------------------------------------------- Result 224 ---------------------------------------------\n",
      "[[2 (45%)]] --> [[0 (60%)]]\n",
      "\n",
      "kalau ada permasalahan di toko pedia bisa langsung terselesaikan dengan mudah dan cepat pelayanan nya juga jelas pusat panggilan yang harus dihubungi juga [[selalu]] aktif memuaskan \n",
      "\n",
      "kalau ada permasalahan di toko pedia bisa langsung terselesaikan dengan mudah dan cepat pelayanan nya juga jelas pusat panggilan yang harus dihubungi juga [[benar-benar]] aktif memuaskan \n",
      "\n",
      "\n",
      "--------------------------------------------- Result 225 ---------------------------------------------\n",
      "[[0 (56%)]] --> [[[SKIPPED]]]\n",
      "\n",
      "marketplace pilihan gue ya tokopedia lah toko pedia itu selalu berusaha memberi pelayanan terbaik buat semua pengguna nya kalau ada keluhan juga pasti langsung ditanggapi salut \n",
      "\n",
      "\n",
      "--------------------------------------------- Result 226 ---------------------------------------------\n",
      "[[0 (53%)]] --> [[[SKIPPED]]]\n",
      "\n",
      "senang sekali gue dengan pelayanan komplain di di saat penjual tidak menggubris tokopedia memberikan solusi dengan cepat pasti nya dengan investigasi yang tidak berlarut larut ya walau harus berakhir dengan pengembalian dana dana jadi gue tidak pernah bosan buat belanja di tokopedia \n",
      "\n",
      "\n"
     ]
    },
    {
     "name": "stderr",
     "output_type": "stream",
     "text": [
      "[Succeeded / Failed / Skipped / Total] 126 / 4 / 97 / 227:  45%|████▌     | 227/500 [00:59<01:11,  3.81it/s]"
     ]
    },
    {
     "name": "stdout",
     "output_type": "stream",
     "text": [
      "--------------------------------------------- Result 227 ---------------------------------------------\n",
      "[[2 (53%)]] --> [[0 (59%)]]\n",
      "\n",
      "terima kasih atas tanggapan dari keluhan yang saya alami mengenai hilang nya kuota data saya terima kasih xl karena sudah betul betul menanggapi dan memberikan solusi yang [[sangat]] memuaskan atas keluhan keluhan saya saya jadi merasa sangat terbantu\n",
      "\n",
      "terima kasih atas tanggapan dari keluhan yang saya alami mengenai hilang nya kuota data saya terima kasih xl karena sudah betul betul menanggapi dan memberikan solusi yang [[benar]] memuaskan atas keluhan keluhan saya saya jadi merasa sangat terbantu\n",
      "\n",
      "\n"
     ]
    },
    {
     "name": "stderr",
     "output_type": "stream",
     "text": [
      "[Succeeded / Failed / Skipped / Total] 127 / 4 / 97 / 228:  46%|████▌     | 228/500 [00:59<01:11,  3.80it/s]"
     ]
    },
    {
     "name": "stdout",
     "output_type": "stream",
     "text": [
      "--------------------------------------------- Result 228 ---------------------------------------------\n",
      "[[2 (56%)]] --> [[0 (53%)]]\n",
      "\n",
      "kemarin itu pertama kalinya mencoba fatmilo yang white milo demi apa pun itu enak banget sih ampun aku itu tidak bisa berkata berkata lagi [[enak]] banget selera gue bangetlah \n",
      "\n",
      "kemarin itu pertama kalinya mencoba fatmilo yang white milo demi apa pun itu enak banget sih ampun aku itu tidak bisa berkata berkata lagi [[afiat]] banget selera gue bangetlah \n",
      "\n",
      "\n"
     ]
    },
    {
     "name": "stderr",
     "output_type": "stream",
     "text": [
      "[Succeeded / Failed / Skipped / Total] 128 / 4 / 98 / 230:  46%|████▌     | 230/500 [01:00<01:11,  3.78it/s]"
     ]
    },
    {
     "name": "stdout",
     "output_type": "stream",
     "text": [
      "--------------------------------------------- Result 229 ---------------------------------------------\n",
      "[[2 (87%)]] --> [[0 (52%)]]\n",
      "\n",
      "satu hal yang gue [[suka]] banget dari masjid agung sunda kelapa [[adalah]] surga jajanan kaki lima di luar masjid nasi gila sate [[ayam]] soto mi tempe mendoan es buah thai tea sampai es kepal milo [[ada]] di sini \n",
      "\n",
      "satu hal yang gue [[mau]] banget dari masjid agung sunda kelapa [[orang]] surga jajanan kaki lima di luar masjid nasi gila sate [[burung]] soto mi tempe mendoan es buah thai tea sampai es kepal milo [[orang]] di sini \n",
      "\n",
      "\n",
      "--------------------------------------------- Result 230 ---------------------------------------------\n",
      "[[0 (70%)]] --> [[[SKIPPED]]]\n",
      "\n",
      "ada yang suka makanin milo bubuk langsung dari saset nya tidak iya sama memang enak banget gimana gitu sih rasanya gue bisa setelah lima bungkus sendiri \n",
      "\n",
      "\n"
     ]
    },
    {
     "name": "stderr",
     "output_type": "stream",
     "text": [
      "[Succeeded / Failed / Skipped / Total] 129 / 4 / 98 / 231:  46%|████▌     | 231/500 [01:00<01:11,  3.79it/s]"
     ]
    },
    {
     "name": "stdout",
     "output_type": "stream",
     "text": [
      "--------------------------------------------- Result 231 ---------------------------------------------\n",
      "[[2 (58%)]] --> [[0 (45%)]]\n",
      "\n",
      "[[terima]] kasih kembali oh iya garuda dan traveloka cepat respons mantap dan keren \n",
      "\n",
      "[[jadi]] kasih kembali oh iya garuda dan traveloka cepat respons mantap dan keren \n",
      "\n",
      "\n"
     ]
    },
    {
     "name": "stderr",
     "output_type": "stream",
     "text": [
      "[Succeeded / Failed / Skipped / Total] 130 / 4 / 98 / 232:  46%|████▋     | 232/500 [01:01<01:11,  3.77it/s]"
     ]
    },
    {
     "name": "stdout",
     "output_type": "stream",
     "text": [
      "--------------------------------------------- Result 232 ---------------------------------------------\n",
      "[[2 (52%)]] --> [[0 (58%)]]\n",
      "\n",
      "mantap banget [[ikut]] kontribusi di google local guides kemarin dapat voucher diskon traveloka terus ini dapat tokocash tokopedia lagi aku senang \n",
      "\n",
      "mantap banget [[bersama-sama]] kontribusi di google local guides kemarin dapat voucher diskon traveloka terus ini dapat tokocash tokopedia lagi aku senang \n",
      "\n",
      "\n",
      "--------------------------------------------- Result 233 ---------------------------------------------\n",
      "[[2 (41%)]] --> [[0 (59%)]]\n",
      "\n",
      "wuih [[ada]] yang baru di aplikasi nih sekarang bisa pesan tiket bus mantap \n",
      "\n",
      "wuih [[orang]] yang baru di aplikasi nih sekarang bisa pesan tiket bus mantap \n",
      "\n",
      "\n"
     ]
    },
    {
     "name": "stderr",
     "output_type": "stream",
     "text": [
      "[Succeeded / Failed / Skipped / Total] 131 / 4 / 100 / 235:  47%|████▋     | 235/500 [01:01<01:09,  3.81it/s]"
     ]
    },
    {
     "name": "stdout",
     "output_type": "stream",
     "text": [
      "--------------------------------------------- Result 234 ---------------------------------------------\n",
      "[[0 (59%)]] --> [[[SKIPPED]]]\n",
      "\n",
      "barusan memesan pesawat via traveloka seperti biasanya kadang pakai kadang booking com kadang agoda mana yang paling asyik aja hidup jadi lebih mudah mantap traveloka \n",
      "\n",
      "\n",
      "--------------------------------------------- Result 235 ---------------------------------------------\n",
      "[[0 (56%)]] --> [[[SKIPPED]]]\n",
      "\n",
      "terima kasih pelayanan mantap nih pengembalian dana cair kurang dari jam rekomendasi banget traveloka \n",
      "\n",
      "\n"
     ]
    },
    {
     "name": "stderr",
     "output_type": "stream",
     "text": [
      "[Succeeded / Failed / Skipped / Total] 132 / 4 / 100 / 236:  47%|████▋     | 236/500 [01:01<01:09,  3.81it/s]"
     ]
    },
    {
     "name": "stdout",
     "output_type": "stream",
     "text": [
      "--------------------------------------------- Result 236 ---------------------------------------------\n",
      "[[2 (39%)]] --> [[0 (38%)]]\n",
      "\n",
      "mantap terima kasih atas proses pengembalian dana yang cepat [[waktu]] maksimal hari tapi baru satu hari sudah ditransfer thumbsup\n",
      "\n",
      "mantap terima kasih atas proses pengembalian dana yang cepat [[berjam-jam]] maksimal hari tapi baru satu hari sudah ditransfer thumbsup\n",
      "\n",
      "\n"
     ]
    },
    {
     "name": "stderr",
     "output_type": "stream",
     "text": [
      "[Succeeded / Failed / Skipped / Total] 133 / 4 / 100 / 237:  47%|████▋     | 237/500 [01:02<01:09,  3.81it/s]"
     ]
    },
    {
     "name": "stdout",
     "output_type": "stream",
     "text": [
      "--------------------------------------------- Result 237 ---------------------------------------------\n",
      "[[2 (67%)]] --> [[0 (38%)]]\n",
      "\n",
      "saya tambah setia ini sama traveloka sekarang pilihan maskapai nya [[makin]] banyak payment nya mudah selaint itu [[harga]] nya [[murah]] dari yang lain mantap\n",
      "\n",
      "saya tambah setia ini sama traveloka sekarang pilihan maskapai nya [[menjadi-jadi]] banyak payment nya mudah selaint itu [[Price]] nya [[berlebih-lebih]] dari yang lain mantap\n",
      "\n",
      "\n"
     ]
    },
    {
     "name": "stderr",
     "output_type": "stream",
     "text": [
      "[Succeeded / Failed / Skipped / Total] 135 / 4 / 102 / 241:  48%|████▊     | 241/500 [01:02<01:07,  3.84it/s]"
     ]
    },
    {
     "name": "stdout",
     "output_type": "stream",
     "text": [
      "--------------------------------------------- Result 238 ---------------------------------------------\n",
      "[[2 (62%)]] --> [[0 (49%)]]\n",
      "\n",
      "makin mantap sekarang sudah ada menu pesan hotel lengkap dengan rating nya semoga makin sering [[ada]] promo ya pasti saya pantengin terus\n",
      "\n",
      "makin mantap sekarang sudah ada menu pesan hotel lengkap dengan rating nya semoga makin sering [[orang]] promo ya pasti saya pantengin terus\n",
      "\n",
      "\n",
      "--------------------------------------------- Result 239 ---------------------------------------------\n",
      "[[2 (47%)]] --> [[0 (42%)]]\n",
      "\n",
      "e tiket sudah saya terima mantap reservasi cepat harga [[murah]] nomor tiketing online indonesia \n",
      "\n",
      "e tiket sudah saya terima mantap reservasi cepat harga [[berlebih-lebih]] nomor tiketing online indonesia \n",
      "\n",
      "\n",
      "--------------------------------------------- Result 240 ---------------------------------------------\n",
      "[[0 (55%)]] --> [[[SKIPPED]]]\n",
      "\n",
      "hari ini iseng mencoba versi beta nya mantap search engine nya tidak pusing lagi kalau mau cari tiket murah dan waktu penerbangan memudahkan aku \n",
      "\n",
      "\n",
      "--------------------------------------------- Result 241 ---------------------------------------------\n",
      "[[0 (44%)]] --> [[[SKIPPED]]]\n",
      "\n",
      "keren air asia setelah malaysia indonesia thailand filipina jepang dan india bakal ada air asia vietnam dan air asia china \n",
      "\n",
      "\n"
     ]
    },
    {
     "name": "stderr",
     "output_type": "stream",
     "text": [
      "[Succeeded / Failed / Skipped / Total] 136 / 4 / 105 / 245:  49%|████▉     | 245/500 [01:03<01:05,  3.88it/s]"
     ]
    },
    {
     "name": "stdout",
     "output_type": "stream",
     "text": [
      "--------------------------------------------- Result 242 ---------------------------------------------\n",
      "[[2 (50%)]] --> [[0 (70%)]]\n",
      "\n",
      "air asia ini keren banget kasih tiket gratis seumur [[hidup]] buat atlit asia pemenang medali di olimpiade rio \n",
      "\n",
      "air asia ini keren banget kasih tiket gratis seumur [[orang]] buat atlit asia pemenang medali di olimpiade rio \n",
      "\n",
      "\n",
      "--------------------------------------------- Result 243 ---------------------------------------------\n",
      "[[0 (50%)]] --> [[[SKIPPED]]]\n",
      "\n",
      "top deh hari ini lion air cengkareng balikpapan on time sekali mantap harus nya sepeti ini terus sangat memuaskan \n",
      "\n",
      "\n",
      "--------------------------------------------- Result 244 ---------------------------------------------\n",
      "[[0 (53%)]] --> [[[SKIPPED]]]\n",
      "\n",
      "bu memang mantap semoga siapapun presiden nya menteri kelautan perikanan tetap bu susi amin \n",
      "\n",
      "\n",
      "--------------------------------------------- Result 245 ---------------------------------------------\n",
      "[[0 (55%)]] --> [[[SKIPPED]]]\n",
      "\n",
      "mantap bu saya juga akan ikut ke pantai bu biar laut kita bersih kalau kotor nanti malah ditenggelamkan dengan bu susi hehehe \n",
      "\n",
      "\n"
     ]
    },
    {
     "name": "stderr",
     "output_type": "stream",
     "text": [
      "[Succeeded / Failed / Skipped / Total] 137 / 4 / 105 / 246:  49%|████▉     | 246/500 [01:03<01:05,  3.87it/s]"
     ]
    },
    {
     "name": "stdout",
     "output_type": "stream",
     "text": [
      "--------------------------------------------- Result 246 ---------------------------------------------\n",
      "[[2 (66%)]] --> [[0 (53%)]]\n",
      "\n",
      "antusias para pemilik agen [[sangat]] [[luar]] biasa dan terima kasih untuk para petinggi jne yang berkenan hadir dalam acara kami dan terima kasih untuk para agen mitra jne yang juga turut hadir dalam acara ini semoga di tahun depan akan semakin mantap\n",
      "\n",
      "antusias para pemilik agen [[benar]] [[jangan]] biasa dan terima kasih untuk para petinggi jne yang berkenan hadir dalam acara kami dan terima kasih untuk para agen mitra jne yang juga turut hadir dalam acara ini semoga di tahun depan akan semakin mantap\n",
      "\n",
      "\n"
     ]
    },
    {
     "name": "stderr",
     "output_type": "stream",
     "text": [
      "[Succeeded / Failed / Skipped / Total] 139 / 4 / 106 / 249:  50%|████▉     | 249/500 [01:04<01:04,  3.87it/s]"
     ]
    },
    {
     "name": "stdout",
     "output_type": "stream",
     "text": [
      "--------------------------------------------- Result 247 ---------------------------------------------\n",
      "[[2 (54%)]] --> [[0 (63%)]]\n",
      "\n",
      "kebiasaan paling keren dari tiki jne adalah langsung memberi laporan kalau yang menerima paket tidak [[ada]] di tempat tanpa telepon dulu ke si penerima mantap \n",
      "\n",
      "kebiasaan paling keren dari tiki jne adalah langsung memberi laporan kalau yang menerima paket tidak [[orang]] di tempat tanpa telepon dulu ke si penerima mantap \n",
      "\n",
      "\n",
      "--------------------------------------------- Result 248 ---------------------------------------------\n",
      "[[2 (79%)]] --> [[0 (49%)]]\n",
      "\n",
      "selamat ulang tahun bdo petugas nya pada [[ramah]] ramah umur sudah [[matang]] dan mantap sukses [[selalu]] karyawan nya pada sehat \n",
      "\n",
      "selamat ulang tahun bdo petugas nya pada [[bersemangat]] ramah umur sudah [[lama]] dan mantap sukses [[benar-benar]] karyawan nya pada sehat \n",
      "\n",
      "\n",
      "--------------------------------------------- Result 249 ---------------------------------------------\n",
      "[[0 (58%)]] --> [[[SKIPPED]]]\n",
      "\n",
      "mantap sekali di hari libur tetap mengantarkan paket ke tujuan benar benar terapkan semangat kemerdekaan id bdo \n",
      "\n",
      "\n"
     ]
    },
    {
     "name": "stderr",
     "output_type": "stream",
     "text": [
      "[Succeeded / Failed / Skipped / Total] 140 / 4 / 110 / 254:  51%|█████     | 254/500 [01:04<01:02,  3.92it/s]"
     ]
    },
    {
     "name": "stdout",
     "output_type": "stream",
     "text": [
      "--------------------------------------------- Result 250 ---------------------------------------------\n",
      "[[2 (74%)]] --> [[0 (57%)]]\n",
      "\n",
      "pengiriman barang [[menggunakan]] jne [[sangat]] memuaskan tanggal sampai pengiriman barang sesuai pelayanan sangat [[ramah]] harga juga sangat masuk akal dan terjangkau \n",
      "\n",
      "pengiriman barang [[pakai]] jne [[benar]] memuaskan tanggal sampai pengiriman barang sesuai pelayanan sangat [[bersemangat]] harga juga sangat masuk akal dan terjangkau \n",
      "\n",
      "\n",
      "--------------------------------------------- Result 251 ---------------------------------------------\n",
      "[[0 (41%)]] --> [[[SKIPPED]]]\n",
      "\n",
      "saya suwandi sudah pesan tiket pak cengkareng tuk penerbangan tanggal jam via pesawat nam air namun sampai dengan hari ini tanggal juli saya belum terima info apa pun transfer dari bri syariah ke bank mandiri mohon bantuan nya untuk diinformasi kembali terima kasih \n",
      "\n",
      "\n",
      "--------------------------------------------- Result 252 ---------------------------------------------\n",
      "[[2 (58%)]] --> [[[SKIPPED]]]\n",
      "\n",
      "daftar harga dispenser terbaik yang ada di blibli com memuat banyak produk salah satu nya adalah miyako wdp dispenser produk ini merupakan dispenser dengan penempatan galon di bawah sehingga anda tidak perlu mengangkat galon saat akan mengisi air \n",
      "\n",
      "\n",
      "--------------------------------------------- Result 253 ---------------------------------------------\n",
      "[[2 (58%)]] --> [[[SKIPPED]]]\n",
      "\n",
      "samsung panasonic sharp dan berbagai produsen lainnya telah memasarkan berbagai macam jenis mesin cuci dengan fungsi yang beragam \n",
      "\n",
      "\n",
      "--------------------------------------------- Result 254 ---------------------------------------------\n",
      "[[0 (40%)]] --> [[[SKIPPED]]]\n",
      "\n",
      "kami segenap direksi dan karyawan pt smartplus consulting indonesia mengucapkan selamat hari raya idul fitri h \n",
      "\n",
      "\n"
     ]
    },
    {
     "name": "stderr",
     "output_type": "stream",
     "text": [
      "[Succeeded / Failed / Skipped / Total] 141 / 4 / 114 / 259:  52%|█████▏    | 259/500 [01:05<01:00,  3.98it/s]"
     ]
    },
    {
     "name": "stdout",
     "output_type": "stream",
     "text": [
      "--------------------------------------------- Result 255 ---------------------------------------------\n",
      "[[0 (44%)]] --> [[2 (49%)]]\n",
      "\n",
      "sudahlah ini negara demokrasi jangan saling membual masing masing punya pilihan pilih prabowo minggu tidak [[mau]] pilih jokowi juga tidak apa apa bebas \n",
      "\n",
      "sudahlah ini negara demokrasi jangan saling membual masing masing punya pilihan pilih prabowo minggu tidak [[bagai]] pilih jokowi juga tidak apa apa bebas \n",
      "\n",
      "\n",
      "--------------------------------------------- Result 256 ---------------------------------------------\n",
      "[[2 (58%)]] --> [[[SKIPPED]]]\n",
      "\n",
      "kami bukan dalam kapasitas menentukan jangan nyapres mbk \n",
      "\n",
      "\n",
      "--------------------------------------------- Result 257 ---------------------------------------------\n",
      "[[0 (52%)]] --> [[[SKIPPED]]]\n",
      "\n",
      "adab di media sosial itu jelas kok suka silakan like mengikuti tidak suka unfoll block simpel dan kita memiliki hak yang sama untuk melakukan nya \n",
      "\n",
      "\n",
      "--------------------------------------------- Result 258 ---------------------------------------------\n",
      "[[0 (61%)]] --> [[[SKIPPED]]]\n",
      "\n",
      "kalau tidak suka gaperlu didukung mas dukung saja yang menurut mas daus itu bisa bawa indonesia jauh lebih baik yang penting kita harus menomorsatukan asas etika \n",
      "\n",
      "\n",
      "--------------------------------------------- Result 259 ---------------------------------------------\n",
      "[[2 (49%)]] --> [[[SKIPPED]]]\n",
      "\n",
      "kamu bisa punya koleksi bts dengan membeli smartphone lagi k selain tersedia wallpaper dan tema di dalam nya kamu juga dapat poster dan postcard bts \n",
      "\n",
      "\n"
     ]
    },
    {
     "name": "stderr",
     "output_type": "stream",
     "text": [
      "[Succeeded / Failed / Skipped / Total] 142 / 4 / 121 / 267:  53%|█████▎    | 267/500 [01:05<00:57,  4.08it/s]"
     ]
    },
    {
     "name": "stdout",
     "output_type": "stream",
     "text": [
      "--------------------------------------------- Result 260 ---------------------------------------------\n",
      "[[0 (55%)]] --> [[2 (63%)]]\n",
      "\n",
      "siarin bola asian games lewat parabola dong puluhan juta pasang mata di luar jawa yang [[pakai]] parabola pasti kecewa kalau tidak bisa menonton \n",
      "\n",
      "siarin bola asian games lewat parabola dong puluhan juta pasang mata di luar jawa yang [[makan]] parabola pasti kecewa kalau tidak bisa menonton \n",
      "\n",
      "\n",
      "--------------------------------------------- Result 261 ---------------------------------------------\n",
      "[[2 (52%)]] --> [[[SKIPPED]]]\n",
      "\n",
      "ada tiga tahap pertama harus unlock bootloader terus pasang twrp terus robot deh xiaomi kamu tipe berapa ya soal nya suka beda gitu loh\n",
      "\n",
      "\n",
      "--------------------------------------------- Result 262 ---------------------------------------------\n",
      "[[0 (66%)]] --> [[[SKIPPED]]]\n",
      "\n",
      "maaf ini oot yang hape nya xiaomi bisa bantu aku tidak ini kalau aku lagi buka twit atau saya begitu suka menang nah yang aku lingkarkan merah itu aplikasi yang menghilang begitu ada yang tahu kenapa dan bagaimana cara menyembuhkan nya \n",
      "\n",
      "\n",
      "--------------------------------------------- Result 263 ---------------------------------------------\n",
      "[[0 (58%)]] --> [[[SKIPPED]]]\n",
      "\n",
      "di indonesia pilihan brand smartphone kan melimpah kalau tidak suka cara xiaomi menjalankan bisnis nya ya tinggal pilih brand lain dibawa santai saja \n",
      "\n",
      "\n",
      "--------------------------------------------- Result 264 ---------------------------------------------\n",
      "[[2 (74%)]] --> [[[SKIPPED]]]\n",
      "\n",
      "pendaftar towel towel lagi g thinq membludak hingga x kapasitas tempat ke depan nya bakal segera ada towel towel huawei nova i dan mungkin samsung galaxy note \n",
      "\n",
      "\n",
      "--------------------------------------------- Result 265 ---------------------------------------------\n",
      "[[2 (58%)]] --> [[[SKIPPED]]]\n",
      "\n",
      "di depan sana masih ada kompetisi foto dengan tema morning feel \n",
      "\n",
      "\n",
      "--------------------------------------------- Result 266 ---------------------------------------------\n",
      "[[2 (69%)]] --> [[[SKIPPED]]]\n",
      "\n",
      "oke saya akan segera menuju ke cabang bca terdekat \n",
      "\n",
      "\n",
      "--------------------------------------------- Result 267 ---------------------------------------------\n",
      "[[0 (40%)]] --> [[[SKIPPED]]]\n",
      "\n",
      "isi pulsa via atm bca tadi jam sampai sekarang belum masuk boleh tolong dicek terima kasih\n",
      "\n",
      "\n"
     ]
    },
    {
     "name": "stderr",
     "output_type": "stream",
     "text": [
      "[Succeeded / Failed / Skipped / Total] 142 / 4 / 126 / 272:  54%|█████▍    | 272/500 [01:05<00:54,  4.15it/s]"
     ]
    },
    {
     "name": "stdout",
     "output_type": "stream",
     "text": [
      "--------------------------------------------- Result 268 ---------------------------------------------\n",
      "[[0 (68%)]] --> [[[SKIPPED]]]\n",
      "\n",
      "mau tanya apa nomer ini benar nomer kantor bca jakarta yang menangani kartu kredit saya tunggu jawaban nya ya\n",
      "\n",
      "\n",
      "--------------------------------------------- Result 269 ---------------------------------------------\n",
      "[[2 (58%)]] --> [[[SKIPPED]]]\n",
      "\n",
      "hai mas cepy saya sudah ke bank bca terdekat untuk langsung diproses pergantian kartu ya\n",
      "\n",
      "\n",
      "--------------------------------------------- Result 270 ---------------------------------------------\n",
      "[[2 (58%)]] --> [[[SKIPPED]]]\n",
      "\n",
      "hai ken saat ini isi e money flazz dari bca belum bisa di jenius ya kamu bisa menyampaikan saran kamu melalui bagian dari kami di jenius co create info lengkap bisa ku njungi terima kasih \n",
      "\n",
      "\n",
      "--------------------------------------------- Result 271 ---------------------------------------------\n",
      "[[2 (69%)]] --> [[[SKIPPED]]]\n",
      "\n",
      "selamat siang kamu bisa menggunakan tarif ramai ramai untuk rombongan serta memanfat promo cashback dari rekanan bank seperti bank bri dan bca \n",
      "\n",
      "\n",
      "--------------------------------------------- Result 272 ---------------------------------------------\n",
      "[[2 (72%)]] --> [[[SKIPPED]]]\n",
      "\n",
      "di pesona festival pasar terapung ada juga permainan tradisional balogo festival kain tradisional sasirangan kompetisi chef hotel dan restoran terbaik festival kuliner desa banjar lomba hias perahu jukung lomba fotografi dan masih banyak lagi yang lainnya \n",
      "\n",
      "\n"
     ]
    },
    {
     "name": "stderr",
     "output_type": "stream",
     "text": [
      "[Succeeded / Failed / Skipped / Total] 143 / 4 / 131 / 278:  56%|█████▌    | 278/500 [01:05<00:52,  4.22it/s]"
     ]
    },
    {
     "name": "stdout",
     "output_type": "stream",
     "text": [
      "--------------------------------------------- Result 273 ---------------------------------------------\n",
      "[[2 (65%)]] --> [[0 (34%)]]\n",
      "\n",
      "asisten pelatih pskc cimahi nurjati merasa tim nya [[sangat]] bangga bertemu dengan tim sebesar persib bandung di babak besar piala indonesia \n",
      "\n",
      "asisten pelatih pskc cimahi nurjati merasa tim nya [[benar]] bangga bertemu dengan tim sebesar persib bandung di babak besar piala indonesia \n",
      "\n",
      "\n",
      "--------------------------------------------- Result 274 ---------------------------------------------\n",
      "[[2 (58%)]] --> [[[SKIPPED]]]\n",
      "\n",
      "selamat siang jika selama bulan tidak terdapat saldo rp tidak ada transaksi maka sudah otomatis closed namun untuk pengecekan status rekening anda dapat menghubungi bni call \n",
      "\n",
      "\n",
      "--------------------------------------------- Result 275 ---------------------------------------------\n",
      "[[2 (58%)]] --> [[[SKIPPED]]]\n",
      "\n",
      "selamat pagi untuk melihat tagihan dapat menghubungi bni call kemudian tekan untuk berbicara dengan bni call officer lalu tekan untuk berbicara dengan bni call officer layanan kartu kredit nanti petugas kami akan membantu anda \n",
      "\n",
      "\n",
      "--------------------------------------------- Result 276 ---------------------------------------------\n",
      "[[2 (50%)]] --> [[[SKIPPED]]]\n",
      "\n",
      "selamat pagi silakan hubungi bni call untuk melakukan pemblokiran setelah itu silakan datang ke kantor cabang bni terdekat dengan membawa ktp surat keterangan hilang dari kepolisian dan buku tabungan untuk penggantian kartu nya ya \n",
      "\n",
      "\n",
      "--------------------------------------------- Result 277 ---------------------------------------------\n",
      "[[2 (39%)]] --> [[[SKIPPED]]]\n",
      "\n",
      "tadi sore saya baru cek email dan sudah transfer kekurangan tapi belum ada balasan lagi apakah transferan nya sudah masuk atas nama ellena saufika no cust tf via mbanking bni \n",
      "\n",
      "\n",
      "--------------------------------------------- Result 278 ---------------------------------------------\n",
      "[[2 (58%)]] --> [[[SKIPPED]]]\n",
      "\n",
      "jakarta november di hotel ibis kramat jakarta pusat balai ksda jakarta mengadakan bimtek web based integrated system peredaran tsl secara online e permit untuk mengenalkan sebuah aplikasi pelayanan pemanfaatan tsl yang dinamai si pinter sistem perijinan terpadu \n",
      "\n",
      "\n"
     ]
    },
    {
     "name": "stderr",
     "output_type": "stream",
     "text": [
      "[Succeeded / Failed / Skipped / Total] 144 / 4 / 137 / 285:  57%|█████▋    | 285/500 [01:06<00:50,  4.29it/s]"
     ]
    },
    {
     "name": "stdout",
     "output_type": "stream",
     "text": [
      "--------------------------------------------- Result 279 ---------------------------------------------\n",
      "[[1 (46%)]] --> [[2 (63%)]]\n",
      "\n",
      "dalam kunjungan kerja nya ke provinsi jawa barat presiden meninjau pelayanan bpjs dan kartu [[indonesia]] sehat kis di rumah sakit umum pendidikan rsup dari hasan sadikin rshs kota bandung kamis siang februari \n",
      "\n",
      "dalam kunjungan kerja nya ke provinsi jawa barat presiden meninjau pelayanan bpjs dan kartu [[Hindia-Belanda]] sehat kis di rumah sakit umum pendidikan rsup dari hasan sadikin rshs kota bandung kamis siang februari \n",
      "\n",
      "\n",
      "--------------------------------------------- Result 280 ---------------------------------------------\n",
      "[[2 (40%)]] --> [[[SKIPPED]]]\n",
      "\n",
      "hari ini rshs berusia tahun \n",
      "\n",
      "\n",
      "--------------------------------------------- Result 281 ---------------------------------------------\n",
      "[[2 (40%)]] --> [[[SKIPPED]]]\n",
      "\n",
      "pada tanggal februari esok poliklinik rawat jalan rshs tidak melakukan pelayanan dikarenakan hari libur nasional poli kembali buka hari senin februari \n",
      "\n",
      "\n",
      "--------------------------------------------- Result 282 ---------------------------------------------\n",
      "[[2 (58%)]] --> [[[SKIPPED]]]\n",
      "\n",
      "kami ingin mengumumkan bahwa mal bom kini hadir di shopee mal \n",
      "\n",
      "\n",
      "--------------------------------------------- Result 283 ---------------------------------------------\n",
      "[[2 (40%)]] --> [[[SKIPPED]]]\n",
      "\n",
      "hari ini periode submission xpresound telah ditutup ya dan para juri akan memilih finalis yang akan diumumkan tanggal agustus nanti \n",
      "\n",
      "\n",
      "--------------------------------------------- Result 284 ---------------------------------------------\n",
      "[[2 (58%)]] --> [[[SKIPPED]]]\n",
      "\n",
      "informasi tambahan bahwa untuk pembayaran rp juta yang bapak lakukan tidak menjadikan limit menjadi rp juta melainkan pembayaran tersebut akan mengurangi tagihan yang sedang berjalan jika kartu kredit dalam keadaan berlebihan limit maka akan dikenakan biaya rp ribu \n",
      "\n",
      "\n",
      "--------------------------------------------- Result 285 ---------------------------------------------\n",
      "[[0 (51%)]] --> [[[SKIPPED]]]\n",
      "\n",
      "sebentar lagi asian games dimulai nih coba tebak ada berapa cabang olahraga yang dipertandingkan di asian games nanti lalu menangkan hadiah kompor spesial dari rinnai untuk orang lazadians yang beruntung \n",
      "\n",
      "\n"
     ]
    },
    {
     "name": "stderr",
     "output_type": "stream",
     "text": [
      "[Succeeded / Failed / Skipped / Total] 145 / 4 / 139 / 288:  58%|█████▊    | 288/500 [01:06<00:49,  4.32it/s]"
     ]
    },
    {
     "name": "stdout",
     "output_type": "stream",
     "text": [
      "--------------------------------------------- Result 286 ---------------------------------------------\n",
      "[[2 (53%)]] --> [[0 (46%)]]\n",
      "\n",
      "saat kunjungan [[ke]] hotel menag banyak menerima apresiasi atas layanan haji tahun ini \n",
      "\n",
      "saat kunjungan [[jadi]] hotel menag banyak menerima apresiasi atas layanan haji tahun ini \n",
      "\n",
      "\n",
      "--------------------------------------------- Result 287 ---------------------------------------------\n",
      "[[2 (59%)]] --> [[[SKIPPED]]]\n",
      "\n",
      "pagi ini pemkab pemalang melalui menyelenggarakan kegiatan launching sistem layanan informasi publik secara online dan rakor ppid di salah satu hotel di pemalang \n",
      "\n",
      "\n",
      "--------------------------------------------- Result 288 ---------------------------------------------\n",
      "[[2 (58%)]] --> [[[SKIPPED]]]\n",
      "\n",
      "kemnaker ri menyelenggarakan pameran kesempatan kerja job fair nasional tahun di balairung hotel bumiwiyata depok jawa barat tanggal juli job fair ini tidak dipungut biaya gratis \n",
      "\n",
      "\n"
     ]
    },
    {
     "name": "stderr",
     "output_type": "stream",
     "text": [
      "[Succeeded / Failed / Skipped / Total] 146 / 4 / 150 / 300:  60%|██████    | 300/500 [01:07<00:44,  4.45it/s]"
     ]
    },
    {
     "name": "stdout",
     "output_type": "stream",
     "text": [
      "--------------------------------------------- Result 289 ---------------------------------------------\n",
      "[[2 (58%)]] --> [[0 (45%)]]\n",
      "\n",
      "gelaran jateng wow telah usai pada maret lalu dari pelaksanaan selama dua bulan penuh kegiatan ini telah meningkatkan hunian hotel mendatangkan ribuan kunjungan wisatawan mancanegara [[ke]] jawa tengah \n",
      "\n",
      "gelaran jateng wow telah usai pada maret lalu dari pelaksanaan selama dua bulan penuh kegiatan ini telah meningkatkan hunian hotel mendatangkan ribuan kunjungan wisatawan mancanegara [[jadi]] jawa tengah \n",
      "\n",
      "\n",
      "--------------------------------------------- Result 290 ---------------------------------------------\n",
      "[[0 (43%)]] --> [[[SKIPPED]]]\n",
      "\n",
      "presiden harapkan menpar ri dan menko untuk mengajak pelaku pariwisata baik hotel maupun maskapai penerbangan untuk juga diajak memberikan informasi mempromosikan wisata di indonesia khusus nya bali \n",
      "\n",
      "\n",
      "--------------------------------------------- Result 291 ---------------------------------------------\n",
      "[[2 (75%)]] --> [[[SKIPPED]]]\n",
      "\n",
      "gubernur dki jakarta anies baswedan membentuk tim evaluasi tata kelola air minum pembentukan tim ini tertuang dalam keputusan gubernur nomor tahun yang ditandatangani agustus tim ini diketuai sekretaris daerah saefullah dengan wakil ketua asisten pembangunan dan lingkungan hidup yusmada faizal \n",
      "\n",
      "\n",
      "--------------------------------------------- Result 292 ---------------------------------------------\n",
      "[[2 (58%)]] --> [[[SKIPPED]]]\n",
      "\n",
      "tujuh pemain real madrid akan menyamai rekor paolo maldini dan dani alves yang sampai saat ini masih menyandang predikat raja di piala super eropa ketujuh pemain yang dimaksud adalah dani carvajal sergio ramos marcelo luka modric karim benzema isco dan toni kroos di antara tujuh pemain itu sudah ada enam pemain yang meraih tiga gelar piala super eropa bersama real madrid yakni carvajal ramos marcelo modric benzema dan isco \n",
      "\n",
      "\n",
      "--------------------------------------------- Result 293 ---------------------------------------------\n",
      "[[2 (49%)]] --> [[[SKIPPED]]]\n",
      "\n",
      "keberadaan peraturan presiden nomor tahun tentang strategi nasional pencegahan korupsi yang telah diteken oleh presiden joko widodo pada juli silam diharapkan mampu menghasilkan perubahan mendasar khusus nya terkait tiga aspek ketiga aspek itu menyangkut perizinan dan tata niaga keuangan negara dan penegakan hukum serta reformasi birokrasi \n",
      "\n",
      "\n",
      "--------------------------------------------- Result 294 ---------------------------------------------\n",
      "[[2 (53%)]] --> [[[SKIPPED]]]\n",
      "\n",
      "beberapa fungsi layanan kami membutuhkan pendaftaran akun dengan memilih identifikasi pengguna id pengguna dan kata sandi unik serta memberikan informasi pribadi tertentu apabila anda memilih id pengguna yang dianggap tidak sopan atau tidak pantas oleh shopee atas kebijakan nya sendiri shopee berhak untuk menangguhkan atau mengakhiri akun anda \n",
      "\n",
      "\n",
      "--------------------------------------------- Result 295 ---------------------------------------------\n",
      "[[0 (43%)]] --> [[[SKIPPED]]]\n",
      "\n",
      "sebuah musibah baru saja menimpa kampung adat megalitikum gurusina di bajawa flores kebakaran hebat yang terjadi pada senin sore hampir menghanguskan seluruh kampung total dari rumah adat yang ada habis dilalap api bersama semua cerita dan sejarah nya \n",
      "\n",
      "\n",
      "--------------------------------------------- Result 296 ---------------------------------------------\n",
      "[[2 (49%)]] --> [[[SKIPPED]]]\n",
      "\n",
      "di usia tahun saat nya gerakan pramuka di tanah air menjawab tantangan zaman baru anggota pramuka harus dididik bukan hanya bahasa morse tetapi juga pengetahuan digital seperti coding artificial intelligence advance robotic dan internet of things \n",
      "\n",
      "\n",
      "--------------------------------------------- Result 297 ---------------------------------------------\n",
      "[[0 (47%)]] --> [[[SKIPPED]]]\n",
      "\n",
      "dalam paparan nya menkeu smi menekankan penting nya menjaga integritas taxmin sebagai penyalur utama informasi perpajakan agar menyampaikan informasi yang baik dan benar kepada masyarakat melalui media sosial yang dimiliki nya \n",
      "\n",
      "\n",
      "--------------------------------------------- Result 298 ---------------------------------------------\n",
      "[[2 (58%)]] --> [[[SKIPPED]]]\n",
      "\n",
      "sahabat mido untuk kenyamanan pemohon paspor dan menghindari praktik percaloan direktorat jenderal imigrasi bekerjasama dengan kementerian keuangan melalui bank bank yang tergabung dalam sistim informasi penerimaan negara bukan pajak online simponi \n",
      "\n",
      "\n",
      "--------------------------------------------- Result 299 ---------------------------------------------\n",
      "[[2 (62%)]] --> [[[SKIPPED]]]\n",
      "\n",
      "hai kak saat ini jam opertional restoran pizza hut belum sampai jam ya sekadar informasi restoran ph dan phd berbeda menu dengan konsep nya informasi mengenai phd kk dapat menghubungi atau tanyakan ke akun official nya id kak \n",
      "\n",
      "\n",
      "--------------------------------------------- Result 300 ---------------------------------------------\n",
      "[[2 (55%)]] --> [[[SKIPPED]]]\n",
      "\n",
      "juru bicara komisi pemberantasan korupsi kpk febri diansyah mengungkapkan laporan harta kekayaan calon presiden joko widodo telah terverifikasi lengkap kpk dalam waktu dekat akan mengumumkan laporan harta kekayaan jokowi di situs resmi kpk \n",
      "\n",
      "\n"
     ]
    },
    {
     "name": "stderr",
     "output_type": "stream",
     "text": [
      "[Succeeded / Failed / Skipped / Total] 147 / 4 / 150 / 301:  60%|██████    | 301/500 [01:07<00:44,  4.46it/s]"
     ]
    },
    {
     "name": "stdout",
     "output_type": "stream",
     "text": [
      "--------------------------------------------- Result 301 ---------------------------------------------\n",
      "[[0 (45%)]] --> [[2 (77%)]]\n",
      "\n",
      "dia tidak pantas [[jadi]] pemimpin negara ini \n",
      "\n",
      "dia tidak pantas [[makan]] pemimpin negara ini \n",
      "\n",
      "\n"
     ]
    },
    {
     "name": "stderr",
     "output_type": "stream",
     "text": [
      "[Succeeded / Failed / Skipped / Total] 148 / 4 / 150 / 302:  60%|██████    | 302/500 [01:07<00:44,  4.46it/s]"
     ]
    },
    {
     "name": "stdout",
     "output_type": "stream",
     "text": [
      "--------------------------------------------- Result 302 ---------------------------------------------\n",
      "[[0 (81%)]] --> [[1 (36%)]]\n",
      "\n",
      "tidak perlu diragukan lagi [[semua]] [[orang]] [[memang]] membenci dia aku pun [[sama]] \n",
      "\n",
      "tidak perlu diragukan lagi [[betul-betul]] [[sama]] [[bahwasanya]] membenci dia aku pun [[bagai]] \n",
      "\n",
      "\n"
     ]
    },
    {
     "name": "stderr",
     "output_type": "stream",
     "text": [
      "[Succeeded / Failed / Skipped / Total] 149 / 4 / 152 / 305:  61%|██████    | 305/500 [01:08<00:43,  4.48it/s]"
     ]
    },
    {
     "name": "stdout",
     "output_type": "stream",
     "text": [
      "--------------------------------------------- Result 303 ---------------------------------------------\n",
      "[[0 (52%)]] --> [[2 (44%)]]\n",
      "\n",
      "selalu tidak [[suka]] [[sama]] cara dia ngomong belepotan dan sok paling mengerti sama masalah di negara ini \n",
      "\n",
      "selalu tidak [[bagai]] [[bagai]] cara dia ngomong belepotan dan sok paling mengerti sama masalah di negara ini \n",
      "\n",
      "\n",
      "--------------------------------------------- Result 304 ---------------------------------------------\n",
      "[[2 (58%)]] --> [[[SKIPPED]]]\n",
      "\n",
      "pelayanan di supermarket itu payah \n",
      "\n",
      "\n",
      "--------------------------------------------- Result 305 ---------------------------------------------\n",
      "[[2 (83%)]] --> [[[SKIPPED]]]\n",
      "\n",
      "aku kecewa dengan pelayanan hotel yang semalam aku tempati kamar mandi kotor pelayan tidak ramah \n",
      "\n",
      "\n"
     ]
    },
    {
     "name": "stderr",
     "output_type": "stream",
     "text": [
      "[Succeeded / Failed / Skipped / Total] 150 / 4 / 152 / 306:  61%|██████    | 306/500 [01:08<00:43,  4.47it/s]"
     ]
    },
    {
     "name": "stdout",
     "output_type": "stream",
     "text": [
      "--------------------------------------------- Result 306 ---------------------------------------------\n",
      "[[0 (71%)]] --> [[2 (49%)]]\n",
      "\n",
      "parah sih bikin emosi [[naik]] ngobrol [[sama]] pelayanan pelanggan bank itu songong setelah \n",
      "\n",
      "parah sih bikin emosi [[tambah]] ngobrol [[bagai]] pelayanan pelanggan bank itu songong setelah \n",
      "\n",
      "\n"
     ]
    },
    {
     "name": "stderr",
     "output_type": "stream",
     "text": [
      "[Succeeded / Failed / Skipped / Total] 151 / 4 / 154 / 309:  62%|██████▏   | 309/500 [01:08<00:42,  4.49it/s]"
     ]
    },
    {
     "name": "stdout",
     "output_type": "stream",
     "text": [
      "--------------------------------------------- Result 307 ---------------------------------------------\n",
      "[[0 (77%)]] --> [[2 (57%)]]\n",
      "\n",
      "dia tidak cocok [[pakai]] baju mahal karena dari sana nya memang sudah kelihatan kayak [[orang]] miskin \n",
      "\n",
      "dia tidak cocok [[makan]] baju mahal karena dari sana nya memang sudah kelihatan kayak [[ada]] miskin \n",
      "\n",
      "\n",
      "--------------------------------------------- Result 308 ---------------------------------------------\n",
      "[[2 (67%)]] --> [[[SKIPPED]]]\n",
      "\n",
      "harga makanan di restoran tadi mahal banget sudah begitu tidak enak lagi makanan nya \n",
      "\n",
      "\n",
      "--------------------------------------------- Result 309 ---------------------------------------------\n",
      "[[2 (50%)]] --> [[[SKIPPED]]]\n",
      "\n",
      "nyesel deh beli baju di toko tadi kualitas nya murahan banget \n",
      "\n",
      "\n"
     ]
    },
    {
     "name": "stderr",
     "output_type": "stream",
     "text": [
      "[Succeeded / Failed / Skipped / Total] 152 / 4 / 155 / 311:  62%|██████▏   | 311/500 [01:09<00:42,  4.49it/s]"
     ]
    },
    {
     "name": "stdout",
     "output_type": "stream",
     "text": [
      "--------------------------------------------- Result 310 ---------------------------------------------\n",
      "[[0 (56%)]] --> [[2 (68%)]]\n",
      "\n",
      "ipuh pantesan tidak pernah didatangkan banyak [[orang]] ternyata tempat makan di sana dalem nya kotor banget sampah saja dibiarkan berserakan \n",
      "\n",
      "ipuh pantesan tidak pernah didatangkan banyak [[ada]] ternyata tempat makan di sana dalem nya kotor banget sampah saja dibiarkan berserakan \n",
      "\n",
      "\n",
      "--------------------------------------------- Result 311 ---------------------------------------------\n",
      "[[2 (71%)]] --> [[[SKIPPED]]]\n",
      "\n",
      "tidak ada enak nya makan di sana bakso tidak enak teh manis nya rasanya aneh mi ayam nya mie nya kelembekan tidak mau lagi deh ke sana \n",
      "\n",
      "\n"
     ]
    },
    {
     "name": "stderr",
     "output_type": "stream",
     "text": [
      "[Succeeded / Failed / Skipped / Total] 153 / 4 / 155 / 312:  62%|██████▏   | 312/500 [01:09<00:41,  4.49it/s]"
     ]
    },
    {
     "name": "stdout",
     "output_type": "stream",
     "text": [
      "--------------------------------------------- Result 312 ---------------------------------------------\n",
      "[[0 (47%)]] --> [[2 (52%)]]\n",
      "\n",
      "benci banget [[sama]] pelayanan di rumah sakit itu tidak ada adab nya \n",
      "\n",
      "benci banget [[bagai]] pelayanan di rumah sakit itu tidak ada adab nya \n",
      "\n",
      "\n"
     ]
    },
    {
     "name": "stderr",
     "output_type": "stream",
     "text": [
      "[Succeeded / Failed / Skipped / Total] 154 / 4 / 155 / 313:  63%|██████▎   | 313/500 [01:09<00:41,  4.48it/s]"
     ]
    },
    {
     "name": "stdout",
     "output_type": "stream",
     "text": [
      "--------------------------------------------- Result 313 ---------------------------------------------\n",
      "[[0 (76%)]] --> [[1 (38%)]]\n",
      "\n",
      "saya tidak [[mau]] bicara lagi [[sama]] orang bodoh kayak dia \n",
      "\n",
      "saya tidak [[bagai]] bicara lagi [[bagai]] orang bodoh kayak dia \n",
      "\n",
      "\n"
     ]
    },
    {
     "name": "stderr",
     "output_type": "stream",
     "text": [
      "[Succeeded / Failed / Skipped / Total] 155 / 4 / 156 / 315:  63%|██████▎   | 315/500 [01:10<00:41,  4.49it/s]"
     ]
    },
    {
     "name": "stdout",
     "output_type": "stream",
     "text": [
      "--------------------------------------------- Result 314 ---------------------------------------------\n",
      "[[0 (63%)]] --> [[2 (45%)]]\n",
      "\n",
      "sampai kapan pun saya tidak sudi berbagi [[sama]] [[orang]] yang tidak tahu terima kasih biarpun dia keluarga saya sendiri \n",
      "\n",
      "sampai kapan pun saya tidak sudi berbagi [[bagai]] [[ada]] yang tidak tahu terima kasih biarpun dia keluarga saya sendiri \n",
      "\n",
      "\n",
      "--------------------------------------------- Result 315 ---------------------------------------------\n",
      "[[2 (53%)]] --> [[[SKIPPED]]]\n",
      "\n",
      "gue tidak puas sama pelayanan kerja di tempat kemarin hak hak karyawan dibatesin banget \n",
      "\n",
      "\n"
     ]
    },
    {
     "name": "stderr",
     "output_type": "stream",
     "text": [
      "[Succeeded / Failed / Skipped / Total] 157 / 4 / 156 / 317:  63%|██████▎   | 317/500 [01:10<00:40,  4.47it/s]"
     ]
    },
    {
     "name": "stdout",
     "output_type": "stream",
     "text": [
      "--------------------------------------------- Result 316 ---------------------------------------------\n",
      "[[0 (81%)]] --> [[2 (51%)]]\n",
      "\n",
      "gue sudah mengecap dia jelek sih [[jadi]] [[mau]] sebaik apa pun sikap nya gue tetap tidak [[suka]] dia \n",
      "\n",
      "gue sudah mengecap dia jelek sih [[minum]] [[bagai]] sebaik apa pun sikap nya gue tetap tidak [[bagai]] dia \n",
      "\n",
      "\n",
      "--------------------------------------------- Result 317 ---------------------------------------------\n",
      "[[0 (49%)]] --> [[2 (55%)]]\n",
      "\n",
      "setelah diperhatikan iklan di [[indonesia]] paling tidak kreatif dibanding negara lain terutama thailand \n",
      "\n",
      "setelah diperhatikan iklan di [[Hindia-Belanda]] paling tidak kreatif dibanding negara lain terutama thailand \n",
      "\n",
      "\n"
     ]
    },
    {
     "name": "stderr",
     "output_type": "stream",
     "text": [
      "[Succeeded / Failed / Skipped / Total] 158 / 4 / 156 / 318:  64%|██████▎   | 318/500 [01:11<00:40,  4.47it/s]"
     ]
    },
    {
     "name": "stdout",
     "output_type": "stream",
     "text": [
      "--------------------------------------------- Result 318 ---------------------------------------------\n",
      "[[0 (66%)]] --> [[1 (53%)]]\n",
      "\n",
      "tidak mengerti lagi [[sama]] perfilman di indonesia tidak berkualitas [[banget]] \n",
      "\n",
      "tidak mengerti lagi [[bagai]] perfilman di indonesia tidak berkualitas [[amat]] \n",
      "\n",
      "\n"
     ]
    },
    {
     "name": "stderr",
     "output_type": "stream",
     "text": [
      "[Succeeded / Failed / Skipped / Total] 159 / 4 / 156 / 319:  64%|██████▍   | 319/500 [01:11<00:40,  4.46it/s]"
     ]
    },
    {
     "name": "stdout",
     "output_type": "stream",
     "text": [
      "--------------------------------------------- Result 319 ---------------------------------------------\n",
      "[[0 (53%)]] --> [[1 (38%)]]\n",
      "\n",
      "gue enggak [[suka]] sama pelatih timnas yang sekarang strategi yang dibikin nya tidak bisa dipakai buat mengalahkan lawan \n",
      "\n",
      "gue enggak [[bagai]] sama pelatih timnas yang sekarang strategi yang dibikin nya tidak bisa dipakai buat mengalahkan lawan \n",
      "\n",
      "\n"
     ]
    },
    {
     "name": "stderr",
     "output_type": "stream",
     "text": [
      "[Succeeded / Failed / Skipped / Total] 160 / 4 / 156 / 320:  64%|██████▍   | 320/500 [01:11<00:40,  4.45it/s]"
     ]
    },
    {
     "name": "stdout",
     "output_type": "stream",
     "text": [
      "--------------------------------------------- Result 320 ---------------------------------------------\n",
      "[[0 (81%)]] --> [[1 (43%)]]\n",
      "\n",
      "orang orang di indonesia itu [[memang]] begitu kerjaan nya nethink terus [[sama]] pemimpin tidak [[suka]] gue \n",
      "\n",
      "orang orang di indonesia itu [[bahwasanya]] begitu kerjaan nya nethink terus [[bagai]] pemimpin tidak [[bagai]] gue \n",
      "\n",
      "\n"
     ]
    },
    {
     "name": "stderr",
     "output_type": "stream",
     "text": [
      "[Succeeded / Failed / Skipped / Total] 160 / 5 / 157 / 322:  64%|██████▍   | 322/500 [01:12<00:39,  4.45it/s]"
     ]
    },
    {
     "name": "stdout",
     "output_type": "stream",
     "text": [
      "--------------------------------------------- Result 321 ---------------------------------------------\n",
      "[[0 (66%)]] --> [[[FAILED]]]\n",
      "\n",
      "kadang bingung sih kenapa mulut netijen pada tidak bisa dijaga bisa nya behina terus aneh \n",
      "\n",
      "\n",
      "--------------------------------------------- Result 322 ---------------------------------------------\n",
      "[[2 (58%)]] --> [[[SKIPPED]]]\n",
      "\n",
      "ah persija mah cupu \n",
      "\n",
      "\n"
     ]
    },
    {
     "name": "stderr",
     "output_type": "stream",
     "text": [
      "[Succeeded / Failed / Skipped / Total] 161 / 5 / 157 / 323:  65%|██████▍   | 323/500 [01:12<00:39,  4.44it/s]"
     ]
    },
    {
     "name": "stdout",
     "output_type": "stream",
     "text": [
      "--------------------------------------------- Result 323 ---------------------------------------------\n",
      "[[0 (66%)]] --> [[2 (51%)]]\n",
      "\n",
      "persija cuma bisa mencari ribut saja kalau lagi main di lapangan main nya tidak jago [[sama]] [[sekali]] \n",
      "\n",
      "persija cuma bisa mencari ribut saja kalau lagi main di lapangan main nya tidak jago [[bagai]] [[cukup]] \n",
      "\n",
      "\n"
     ]
    },
    {
     "name": "stderr",
     "output_type": "stream",
     "text": [
      "[Succeeded / Failed / Skipped / Total] 163 / 5 / 158 / 326:  65%|██████▌   | 326/500 [01:13<00:39,  4.45it/s]"
     ]
    },
    {
     "name": "stdout",
     "output_type": "stream",
     "text": [
      "--------------------------------------------- Result 324 ---------------------------------------------\n",
      "[[0 (85%)]] --> [[2 (46%)]]\n",
      "\n",
      "memang masih zaman ya ngomong [[pakai]] kode kodean tidak [[suka]] banget gue [[sama]] [[orang]] yang kayak gitu \n",
      "\n",
      "memang masih zaman ya ngomong [[makan]] kode kodean tidak [[bagai]] banget gue [[bagai]] [[sama]] yang kayak gitu \n",
      "\n",
      "\n",
      "--------------------------------------------- Result 325 ---------------------------------------------\n",
      "[[0 (46%)]] --> [[2 (49%)]]\n",
      "\n",
      "harus nya pop ditenggelamkan di [[indonesia]] karena cuma bikin anak muda lupa agama \n",
      "\n",
      "harus nya pop ditenggelamkan di [[Hindia-Belanda]] karena cuma bikin anak muda lupa agama \n",
      "\n",
      "\n",
      "--------------------------------------------- Result 326 ---------------------------------------------\n",
      "[[2 (49%)]] --> [[[SKIPPED]]]\n",
      "\n",
      "kagak ada faedah nya kenal kpop yang ada mata kita dibutakan terus bikin kita muja muja manusia \n",
      "\n",
      "\n"
     ]
    },
    {
     "name": "stderr",
     "output_type": "stream",
     "text": [
      "[Succeeded / Failed / Skipped / Total] 165 / 5 / 160 / 330:  66%|██████▌   | 330/500 [01:13<00:37,  4.48it/s]"
     ]
    },
    {
     "name": "stdout",
     "output_type": "stream",
     "text": [
      "--------------------------------------------- Result 327 ---------------------------------------------\n",
      "[[0 (53%)]] --> [[2 (57%)]]\n",
      "\n",
      "entah kenapa gue enggak suka banget [[sama]] politisi yang bisa ngemis ngemis suara rakyat dengan manfaatkan harga diri ulama \n",
      "\n",
      "entah kenapa gue enggak suka banget [[bagai]] politisi yang bisa ngemis ngemis suara rakyat dengan manfaatkan harga diri ulama \n",
      "\n",
      "\n",
      "--------------------------------------------- Result 328 ---------------------------------------------\n",
      "[[2 (69%)]] --> [[[SKIPPED]]]\n",
      "\n",
      "menyesal gue beli vivo kamera nya tidak bagus \n",
      "\n",
      "\n",
      "--------------------------------------------- Result 329 ---------------------------------------------\n",
      "[[2 (49%)]] --> [[[SKIPPED]]]\n",
      "\n",
      "sudah berkali kali mencoba produk apple tetap tidak suka \n",
      "\n",
      "\n",
      "--------------------------------------------- Result 330 ---------------------------------------------\n",
      "[[0 (51%)]] --> [[2 (58%)]]\n",
      "\n",
      "produk lokal [[memang]] cetek \n",
      "\n",
      "produk lokal [[bahwasanya]] cetek \n",
      "\n",
      "\n"
     ]
    },
    {
     "name": "stderr",
     "output_type": "stream",
     "text": [
      "[Succeeded / Failed / Skipped / Total] 166 / 5 / 160 / 331:  66%|██████▌   | 331/500 [01:13<00:37,  4.49it/s]"
     ]
    },
    {
     "name": "stdout",
     "output_type": "stream",
     "text": [
      "--------------------------------------------- Result 331 ---------------------------------------------\n",
      "[[0 (44%)]] --> [[2 (58%)]]\n",
      "\n",
      "band di [[indonesia]] tidak berkualitas dah \n",
      "\n",
      "band di [[Hindia-Belanda]] tidak berkualitas dah \n",
      "\n",
      "\n"
     ]
    },
    {
     "name": "stderr",
     "output_type": "stream",
     "text": [
      "[Succeeded / Failed / Skipped / Total] 168 / 5 / 160 / 333:  67%|██████▋   | 333/500 [01:14<00:37,  4.50it/s]"
     ]
    },
    {
     "name": "stdout",
     "output_type": "stream",
     "text": [
      "--------------------------------------------- Result 332 ---------------------------------------------\n",
      "[[0 (59%)]] --> [[1 (45%)]]\n",
      "\n",
      "kalau dibandingkan [[sama]] jepang indonesia itu tidak ada apa apa nya \n",
      "\n",
      "kalau dibandingkan [[bagai]] jepang indonesia itu tidak ada apa apa nya \n",
      "\n",
      "\n",
      "--------------------------------------------- Result 333 ---------------------------------------------\n",
      "[[0 (57%)]] --> [[2 (49%)]]\n",
      "\n",
      "netijen mulut nya sampah [[semua]] tidak berfaedah \n",
      "\n",
      "netijen mulut nya sampah [[betul-betul]] tidak berfaedah \n",
      "\n",
      "\n"
     ]
    },
    {
     "name": "stderr",
     "output_type": "stream",
     "text": [
      "[Succeeded / Failed / Skipped / Total] 168 / 6 / 161 / 335:  67%|██████▋   | 335/500 [01:14<00:36,  4.50it/s]"
     ]
    },
    {
     "name": "stdout",
     "output_type": "stream",
     "text": [
      "--------------------------------------------- Result 334 ---------------------------------------------\n",
      "[[0 (75%)]] --> [[[FAILED]]]\n",
      "\n",
      "menurut gue sih indonesia bakal susah bangkit kalau isi otak penduduk nya gitu gitu aja \n",
      "\n",
      "\n",
      "--------------------------------------------- Result 335 ---------------------------------------------\n",
      "[[2 (69%)]] --> [[[SKIPPED]]]\n",
      "\n",
      "percuma ganti presiden kayak makan buah simalakama tidak ada untung nya \n",
      "\n",
      "\n"
     ]
    },
    {
     "name": "stderr",
     "output_type": "stream",
     "text": [
      "[Succeeded / Failed / Skipped / Total] 170 / 6 / 161 / 337:  67%|██████▋   | 337/500 [01:14<00:36,  4.49it/s]"
     ]
    },
    {
     "name": "stdout",
     "output_type": "stream",
     "text": [
      "--------------------------------------------- Result 336 ---------------------------------------------\n",
      "[[0 (49%)]] --> [[1 (47%)]]\n",
      "\n",
      "kepemimpinan di indonesia mah cuma kayak panggung komedi rakyat nya juga [[sama]] saja cuma bisa nontonin saja tidak ada yang baik\n",
      "\n",
      "kepemimpinan di indonesia mah cuma kayak panggung komedi rakyat nya juga [[bagai]] saja cuma bisa nontonin saja tidak ada yang baik\n",
      "\n",
      "\n",
      "--------------------------------------------- Result 337 ---------------------------------------------\n",
      "[[0 (58%)]] --> [[2 (54%)]]\n",
      "\n",
      "sandi uno tidak bertanggung jawab banget deh [[sama]] jakarta \n",
      "\n",
      "sandi uno tidak bertanggung jawab banget deh [[bagai]] jakarta \n",
      "\n",
      "\n"
     ]
    },
    {
     "name": "stderr",
     "output_type": "stream",
     "text": [
      "[Succeeded / Failed / Skipped / Total] 171 / 6 / 161 / 338:  68%|██████▊   | 338/500 [01:15<00:36,  4.50it/s]"
     ]
    },
    {
     "name": "stdout",
     "output_type": "stream",
     "text": [
      "--------------------------------------------- Result 338 ---------------------------------------------\n",
      "[[0 (50%)]] --> [[1 (53%)]]\n",
      "\n",
      "sebenarnya yang dicari [[sama]] para pejabat di indonesia hanyalah kekuasaan bukan mensejahterakan rakyat payah \n",
      "\n",
      "sebenarnya yang dicari [[bagai]] para pejabat di indonesia hanyalah kekuasaan bukan mensejahterakan rakyat payah \n",
      "\n",
      "\n"
     ]
    },
    {
     "name": "stderr",
     "output_type": "stream",
     "text": [
      "[Succeeded / Failed / Skipped / Total] 173 / 6 / 164 / 343:  69%|██████▊   | 343/500 [01:15<00:34,  4.54it/s]"
     ]
    },
    {
     "name": "stdout",
     "output_type": "stream",
     "text": [
      "--------------------------------------------- Result 339 ---------------------------------------------\n",
      "[[0 (66%)]] --> [[1 (53%)]]\n",
      "\n",
      "sumpah ya gue terganggu [[banget]] [[sama]] suara nya komentator bola di indonesia malah bikin esmosi jiwa \n",
      "\n",
      "sumpah ya gue terganggu [[amat]] [[bagai]] suara nya komentator bola di indonesia malah bikin esmosi jiwa \n",
      "\n",
      "\n",
      "--------------------------------------------- Result 340 ---------------------------------------------\n",
      "[[2 (49%)]] --> [[[SKIPPED]]]\n",
      "\n",
      "pemain persib main nya jelek \n",
      "\n",
      "\n",
      "--------------------------------------------- Result 341 ---------------------------------------------\n",
      "[[0 (57%)]] --> [[2 (58%)]]\n",
      "\n",
      "artis cowok pop banci [[semua]] \n",
      "\n",
      "artis cowok pop banci [[betul-betul]] \n",
      "\n",
      "\n",
      "--------------------------------------------- Result 342 ---------------------------------------------\n",
      "[[2 (43%)]] --> [[[SKIPPED]]]\n",
      "\n",
      "harga baju di ramayana tidak sebanding sama kualitas baju nya \n",
      "\n",
      "\n",
      "--------------------------------------------- Result 343 ---------------------------------------------\n",
      "[[2 (58%)]] --> [[[SKIPPED]]]\n",
      "\n",
      "model baju yang ada di matahari tidak sebagus model baju di ramayana \n",
      "\n",
      "\n"
     ]
    },
    {
     "name": "stderr",
     "output_type": "stream",
     "text": [
      "[Succeeded / Failed / Skipped / Total] 174 / 6 / 168 / 348:  70%|██████▉   | 348/500 [01:15<00:33,  4.58it/s]"
     ]
    },
    {
     "name": "stdout",
     "output_type": "stream",
     "text": [
      "--------------------------------------------- Result 344 ---------------------------------------------\n",
      "[[0 (51%)]] --> [[2 (76%)]]\n",
      "\n",
      "sudah harga mahal tidak enak pula makanan nya tidak [[mau]] lagi deh ke restoran itu \n",
      "\n",
      "sudah harga mahal tidak enak pula makanan nya tidak [[makan]] lagi deh ke restoran itu \n",
      "\n",
      "\n",
      "--------------------------------------------- Result 345 ---------------------------------------------\n",
      "[[2 (48%)]] --> [[[SKIPPED]]]\n",
      "\n",
      "anak muda zaman sekarang cuma mikirin tenar enggak mikir buat masa depan \n",
      "\n",
      "\n",
      "--------------------------------------------- Result 346 ---------------------------------------------\n",
      "[[2 (52%)]] --> [[[SKIPPED]]]\n",
      "\n",
      "bodoh banget itu bocah tidak punya otak mengajak jokowi berantem \n",
      "\n",
      "\n",
      "--------------------------------------------- Result 347 ---------------------------------------------\n",
      "[[2 (67%)]] --> [[[SKIPPED]]]\n",
      "\n",
      "sinyal xl jelek banget di sini \n",
      "\n",
      "\n",
      "--------------------------------------------- Result 348 ---------------------------------------------\n",
      "[[2 (65%)]] --> [[[SKIPPED]]]\n",
      "\n",
      "indosat bagus iklan nya doang tapi kualitas nya nol \n",
      "\n",
      "\n"
     ]
    },
    {
     "name": "stderr",
     "output_type": "stream",
     "text": [
      "[Succeeded / Failed / Skipped / Total] 176 / 6 / 168 / 350:  70%|███████   | 351/500 [01:16<00:32,  4.59it/s]"
     ]
    },
    {
     "name": "stdout",
     "output_type": "stream",
     "text": [
      "--------------------------------------------- Result 349 ---------------------------------------------\n",
      "[[0 (79%)]] --> [[2 (59%)]]\n",
      "\n",
      "sumpah ya kesel banget melihat [[orang]] yang sok [[tahu]] [[kayak]] anies \n",
      "\n",
      "sumpah ya kesel banget melihat [[ada]] yang sok [[rasa]] [[bagai]] anies \n",
      "\n",
      "\n",
      "--------------------------------------------- Result 350 ---------------------------------------------\n",
      "[[0 (55%)]] --> [[2 (75%)]]\n",
      "\n",
      "barang barang di informa [[biasa]] saja tapi harga mahal banget \n",
      "\n",
      "barang barang di informa [[khas]] saja tapi harga mahal banget \n",
      "\n",
      "\n",
      "--------------------------------------------- Result 351 ---------------------------------------------\n",
      "[[2 (58%)]] --> [[[SKIPPED]]]\n",
      "\n",
      "handphone samsung jelek gampang rusak \n",
      "\n",
      "\n"
     ]
    },
    {
     "name": "stderr",
     "output_type": "stream",
     "text": [
      "[Succeeded / Failed / Skipped / Total] 178 / 6 / 170 / 354:  71%|███████   | 354/500 [01:16<00:31,  4.60it/s]"
     ]
    },
    {
     "name": "stdout",
     "output_type": "stream",
     "text": [
      "--------------------------------------------- Result 352 ---------------------------------------------\n",
      "[[0 (45%)]] --> [[2 (77%)]]\n",
      "\n",
      "hai prabowo daripada malu mending tidak usah naik [[jadi]] presiden tahun ini \n",
      "\n",
      "hai prabowo daripada malu mending tidak usah naik [[makan]] presiden tahun ini \n",
      "\n",
      "\n",
      "--------------------------------------------- Result 353 ---------------------------------------------\n",
      "[[2 (58%)]] --> [[[SKIPPED]]]\n",
      "\n",
      "pengecut dia itu cuma bisa nantangin dari belakang saja \n",
      "\n",
      "\n",
      "--------------------------------------------- Result 354 ---------------------------------------------\n",
      "[[0 (54%)]] --> [[2 (53%)]]\n",
      "\n",
      "aku tidak suka [[sama]] cowok yang bisa dance tidak maco \n",
      "\n",
      "aku tidak suka [[bagai]] cowok yang bisa dance tidak maco \n",
      "\n",
      "\n"
     ]
    },
    {
     "name": "stderr",
     "output_type": "stream",
     "text": [
      "[Succeeded / Failed / Skipped / Total] 178 / 7 / 170 / 355:  71%|███████   | 355/500 [01:17<00:31,  4.59it/s]"
     ]
    },
    {
     "name": "stdout",
     "output_type": "stream",
     "text": [
      "--------------------------------------------- Result 355 ---------------------------------------------\n",
      "[[0 (92%)]] --> [[[FAILED]]]\n",
      "\n",
      "sebenarnya gue benci banget sih sama orang yang kalau lagi diajak ngobrol dia tidak mau lihat muka kita tidak sopan \n",
      "\n",
      "\n"
     ]
    },
    {
     "name": "stderr",
     "output_type": "stream",
     "text": [
      "[Succeeded / Failed / Skipped / Total] 180 / 7 / 170 / 357:  71%|███████▏  | 357/500 [01:17<00:31,  4.59it/s]"
     ]
    },
    {
     "name": "stdout",
     "output_type": "stream",
     "text": [
      "--------------------------------------------- Result 356 ---------------------------------------------\n",
      "[[0 (53%)]] --> [[2 (53%)]]\n",
      "\n",
      "di antara mata kuliah yang ada gue paling tidak suka [[sama]] statistika \n",
      "\n",
      "di antara mata kuliah yang ada gue paling tidak suka [[bagai]] statistika \n",
      "\n",
      "\n",
      "--------------------------------------------- Result 357 ---------------------------------------------\n",
      "[[0 (71%)]] --> [[2 (77%)]]\n",
      "\n",
      "[[orang]] yang [[pakai]] kacamata itu terlihat cupu \n",
      "\n",
      "[[ada]] yang [[makan]] kacamata itu terlihat cupu \n",
      "\n",
      "\n"
     ]
    },
    {
     "name": "stderr",
     "output_type": "stream",
     "text": [
      "[Succeeded / Failed / Skipped / Total] 182 / 7 / 170 / 359:  72%|███████▏  | 359/500 [01:18<00:30,  4.59it/s]"
     ]
    },
    {
     "name": "stdout",
     "output_type": "stream",
     "text": [
      "--------------------------------------------- Result 358 ---------------------------------------------\n",
      "[[0 (52%)]] --> [[2 (50%)]]\n",
      "\n",
      "apa [[bagus]] nya [[ya]] itu acara l men jijik gue sih liat nya \n",
      "\n",
      "apa [[nyaman]] nya [[alah]] itu acara l men jijik gue sih liat nya \n",
      "\n",
      "\n",
      "--------------------------------------------- Result 359 ---------------------------------------------\n",
      "[[0 (44%)]] --> [[2 (73%)]]\n",
      "\n",
      "sinetron di [[indonesia]] mana ada yang bagus \n",
      "\n",
      "sinetron di [[Hindia-Belanda]] mana ada yang bagus \n",
      "\n",
      "\n",
      "--------------------------------------------- Result 360 ---------------------------------------------\n",
      "[[2 (54%)]] --> [[[SKIPPED]]]\n",
      "\n",
      "odol pepsodent menurut gue terlalu pedas gue enggak suka \n",
      "\n",
      "\n"
     ]
    },
    {
     "name": "stderr",
     "output_type": "stream",
     "text": [
      "[Succeeded / Failed / Skipped / Total] 183 / 7 / 173 / 363:  73%|███████▎  | 363/500 [01:18<00:29,  4.63it/s]"
     ]
    },
    {
     "name": "stdout",
     "output_type": "stream",
     "text": [
      "--------------------------------------------- Result 361 ---------------------------------------------\n",
      "[[0 (53%)]] --> [[1 (44%)]]\n",
      "\n",
      "gue enggak [[suka]] anggun jadi duta shampoo \n",
      "\n",
      "gue enggak [[bagai]] anggun jadi duta shampoo \n",
      "\n",
      "\n",
      "--------------------------------------------- Result 362 ---------------------------------------------\n",
      "[[2 (58%)]] --> [[[SKIPPED]]]\n",
      "\n",
      "kesian sheila on tenggelem sekarang \n",
      "\n",
      "\n",
      "--------------------------------------------- Result 363 ---------------------------------------------\n",
      "[[2 (58%)]] --> [[[SKIPPED]]]\n",
      "\n",
      "andhika kangen band apa kabar ya sepertinya makin miskin saja sekarang \n",
      "\n",
      "\n"
     ]
    },
    {
     "name": "stderr",
     "output_type": "stream",
     "text": [
      "[Succeeded / Failed / Skipped / Total] 184 / 7 / 173 / 364:  73%|███████▎  | 364/500 [01:18<00:29,  4.63it/s]"
     ]
    },
    {
     "name": "stdout",
     "output_type": "stream",
     "text": [
      "--------------------------------------------- Result 364 ---------------------------------------------\n",
      "[[0 (57%)]] --> [[2 (49%)]]\n",
      "\n",
      "[[semua]] program yang ada ya kuya nya tidak pernah berfaedah \n",
      "\n",
      "[[betul-betul]] program yang ada ya kuya nya tidak pernah berfaedah \n",
      "\n",
      "\n"
     ]
    },
    {
     "name": "stderr",
     "output_type": "stream",
     "text": [
      "[Succeeded / Failed / Skipped / Total] 186 / 7 / 173 / 366:  73%|███████▎  | 366/500 [01:19<00:28,  4.63it/s]"
     ]
    },
    {
     "name": "stdout",
     "output_type": "stream",
     "text": [
      "--------------------------------------------- Result 365 ---------------------------------------------\n",
      "[[0 (60%)]] --> [[1 (37%)]]\n",
      "\n",
      "harus nya [[orang]] indonesia itu [[banyak]] cari ilmu bukan malah banyak cari masalah \n",
      "\n",
      "harus nya [[ada]] indonesia itu [[besar]] cari ilmu bukan malah banyak cari masalah \n",
      "\n",
      "\n",
      "--------------------------------------------- Result 366 ---------------------------------------------\n",
      "[[0 (55%)]] --> [[2 (55%)]]\n",
      "\n",
      "its tidak [[ada]] apa apa nya kalau dibandingkan itb \n",
      "\n",
      "its tidak [[minum]] apa apa nya kalau dibandingkan itb \n",
      "\n",
      "\n"
     ]
    },
    {
     "name": "stderr",
     "output_type": "stream",
     "text": [
      "[Succeeded / Failed / Skipped / Total] 187 / 7 / 173 / 367:  73%|███████▎  | 367/500 [01:20<00:29,  4.58it/s]"
     ]
    },
    {
     "name": "stdout",
     "output_type": "stream",
     "text": [
      "--------------------------------------------- Result 367 ---------------------------------------------\n",
      "[[0 (72%)]] --> [[2 (56%)]]\n",
      "\n",
      "sekarang makin banyak [[orang]] yang nga ku islami tapi akhlak kagak dijaga selalu merasa jadi [[orang]] paling [[benar]] \n",
      "\n",
      "sekarang makin banyak [[ada]] yang nga ku islami tapi akhlak kagak dijaga selalu merasa jadi [[ada]] paling [[cukup]] \n",
      "\n",
      "\n"
     ]
    },
    {
     "name": "stderr",
     "output_type": "stream",
     "text": [
      "[Succeeded / Failed / Skipped / Total] 189 / 7 / 173 / 369:  74%|███████▍  | 369/500 [01:20<00:28,  4.57it/s]"
     ]
    },
    {
     "name": "stdout",
     "output_type": "stream",
     "text": [
      "--------------------------------------------- Result 368 ---------------------------------------------\n",
      "[[0 (77%)]] --> [[1 (46%)]]\n",
      "\n",
      "gue enggak [[suka]] itu [[sama]] orang orang yang pakai alasan agama [[buat]] menang di dunia politik \n",
      "\n",
      "gue enggak [[bagai]] itu [[bagai]] orang orang yang pakai alasan agama [[sedia]] menang di dunia politik \n",
      "\n",
      "\n",
      "--------------------------------------------- Result 369 ---------------------------------------------\n",
      "[[0 (50%)]] --> [[2 (41%)]]\n",
      "\n",
      "kesal dah [[sama]] habib rizieq malu maluin saja bisa nya \n",
      "\n",
      "kesal dah [[bagai]] habib rizieq malu maluin saja bisa nya \n",
      "\n",
      "\n"
     ]
    },
    {
     "name": "stderr",
     "output_type": "stream",
     "text": [
      "[Succeeded / Failed / Skipped / Total] 190 / 7 / 174 / 371:  74%|███████▍  | 371/500 [01:21<00:28,  4.57it/s]"
     ]
    },
    {
     "name": "stdout",
     "output_type": "stream",
     "text": [
      "--------------------------------------------- Result 370 ---------------------------------------------\n",
      "[[0 (54%)]] --> [[2 (53%)]]\n",
      "\n",
      "tidak suka [[sama]] laptop merek acer cepat rusak kakak \n",
      "\n",
      "tidak suka [[bagai]] laptop merek acer cepat rusak kakak \n",
      "\n",
      "\n",
      "--------------------------------------------- Result 371 ---------------------------------------------\n",
      "[[2 (73%)]] --> [[[SKIPPED]]]\n",
      "\n",
      "harga telepon genggam vivo y kemahalan padahal telepon genggam nya tidak bagus bagus amat \n",
      "\n",
      "\n"
     ]
    },
    {
     "name": "stderr",
     "output_type": "stream",
     "text": [
      "[Succeeded / Failed / Skipped / Total] 191 / 7 / 176 / 374:  75%|███████▍  | 374/500 [01:21<00:27,  4.60it/s]"
     ]
    },
    {
     "name": "stdout",
     "output_type": "stream",
     "text": [
      "--------------------------------------------- Result 372 ---------------------------------------------\n",
      "[[0 (54%)]] --> [[2 (53%)]]\n",
      "\n",
      "tidak pernah suka [[sama]] handphone zenfone alay \n",
      "\n",
      "tidak pernah suka [[bagai]] handphone zenfone alay \n",
      "\n",
      "\n",
      "--------------------------------------------- Result 373 ---------------------------------------------\n",
      "[[2 (60%)]] --> [[[SKIPPED]]]\n",
      "\n",
      "kamera zenfone selalu jelek kalau dipakai di tempat remang remang tidak profesional \n",
      "\n",
      "\n",
      "--------------------------------------------- Result 374 ---------------------------------------------\n",
      "[[2 (53%)]] --> [[[SKIPPED]]]\n",
      "\n",
      "di antara olah raga yang ada gue paling tidak suka sepak bola \n",
      "\n",
      "\n"
     ]
    },
    {
     "name": "stderr",
     "output_type": "stream",
     "text": [
      "[Succeeded / Failed / Skipped / Total] 192 / 7 / 181 / 380:  76%|███████▌  | 380/500 [01:21<00:25,  4.65it/s]"
     ]
    },
    {
     "name": "stdout",
     "output_type": "stream",
     "text": [
      "--------------------------------------------- Result 375 ---------------------------------------------\n",
      "[[0 (63%)]] --> [[2 (77%)]]\n",
      "\n",
      "dulu pernah mencoba belajar renang tapi tenggelam terus sekarang tidak [[mau]] lagi deh gue renang trauma seram \n",
      "\n",
      "dulu pernah mencoba belajar renang tapi tenggelam terus sekarang tidak [[makan]] lagi deh gue renang trauma seram \n",
      "\n",
      "\n",
      "--------------------------------------------- Result 376 ---------------------------------------------\n",
      "[[0 (44%)]] --> [[[SKIPPED]]]\n",
      "\n",
      "sebenarnya kelebihan makan di upnormal itu karena disediakan banyak mainan nongkrong jadi lebih seru \n",
      "\n",
      "\n",
      "--------------------------------------------- Result 377 ---------------------------------------------\n",
      "[[0 (53%)]] --> [[[SKIPPED]]]\n",
      "\n",
      "gue paling suka sama indomie cabe hijau terbaik \n",
      "\n",
      "\n",
      "--------------------------------------------- Result 378 ---------------------------------------------\n",
      "[[0 (59%)]] --> [[[SKIPPED]]]\n",
      "\n",
      "kalau suruh milih gue lebih suka belanja di shopee pelayanan nya nomor \n",
      "\n",
      "\n",
      "--------------------------------------------- Result 379 ---------------------------------------------\n",
      "[[0 (54%)]] --> [[[SKIPPED]]]\n",
      "\n",
      "kalau mau kirim barang ke luar negeri menurut gue dil sudah paling enak \n",
      "\n",
      "\n",
      "--------------------------------------------- Result 380 ---------------------------------------------\n",
      "[[0 (45%)]] --> [[[SKIPPED]]]\n",
      "\n",
      "gue bersyukur jokowi bakal jadi presiden selama sepuluh tahun \n",
      "\n",
      "\n"
     ]
    },
    {
     "name": "stderr",
     "output_type": "stream",
     "text": [
      "[Succeeded / Failed / Skipped / Total] 194 / 7 / 182 / 383:  77%|███████▋  | 383/500 [01:22<00:25,  4.67it/s]"
     ]
    },
    {
     "name": "stdout",
     "output_type": "stream",
     "text": [
      "--------------------------------------------- Result 381 ---------------------------------------------\n",
      "[[2 (52%)]] --> [[0 (57%)]]\n",
      "\n",
      "senang banget liat sandi maju cawapres untuk [[yakin]] gue bakal milih dia \n",
      "\n",
      "senang banget liat sandi maju cawapres untuk [[benar-benar]] gue bakal milih dia \n",
      "\n",
      "\n",
      "--------------------------------------------- Result 382 ---------------------------------------------\n",
      "[[0 (53%)]] --> [[[SKIPPED]]]\n",
      "\n",
      "kalau mau karaoke enak lu datang saja ke studio karaoke harga nya juga terjangkau banget \n",
      "\n",
      "\n",
      "--------------------------------------------- Result 383 ---------------------------------------------\n",
      "[[2 (60%)]] --> [[0 (51%)]]\n",
      "\n",
      "xiamo sudah paling enak sih kualitas nya mantap [[harga]] nya juga kejangkau \n",
      "\n",
      "xiamo sudah paling enak sih kualitas nya mantap [[Price]] nya juga kejangkau \n",
      "\n",
      "\n"
     ]
    },
    {
     "name": "stderr",
     "output_type": "stream",
     "text": [
      "[Succeeded / Failed / Skipped / Total] 195 / 7 / 183 / 385:  77%|███████▋  | 385/500 [01:22<00:24,  4.68it/s]"
     ]
    },
    {
     "name": "stdout",
     "output_type": "stream",
     "text": [
      "--------------------------------------------- Result 384 ---------------------------------------------\n",
      "[[2 (53%)]] --> [[0 (58%)]]\n",
      "\n",
      "[[banyak]] nilai positif yang bisa diambil dari jokowi \n",
      "\n",
      "[[mahal]] nilai positif yang bisa diambil dari jokowi \n",
      "\n",
      "\n",
      "--------------------------------------------- Result 385 ---------------------------------------------\n",
      "[[0 (59%)]] --> [[[SKIPPED]]]\n",
      "\n",
      "gue suka banget matematika dari dulu karena mengasah otak jadi cerdas \n",
      "\n",
      "\n"
     ]
    },
    {
     "name": "stderr",
     "output_type": "stream",
     "text": [
      "[Succeeded / Failed / Skipped / Total] 196 / 7 / 188 / 391:  78%|███████▊  | 391/500 [01:22<00:23,  4.73it/s]"
     ]
    },
    {
     "name": "stdout",
     "output_type": "stream",
     "text": [
      "--------------------------------------------- Result 386 ---------------------------------------------\n",
      "[[2 (61%)]] --> [[0 (49%)]]\n",
      "\n",
      "jam tangan switch [[selalu]] kasih model yang terkini pilihan warna nya juga bagus bagus \n",
      "\n",
      "jam tangan switch [[benar-benar]] kasih model yang terkini pilihan warna nya juga bagus bagus \n",
      "\n",
      "\n",
      "--------------------------------------------- Result 387 ---------------------------------------------\n",
      "[[0 (64%)]] --> [[[SKIPPED]]]\n",
      "\n",
      "kalau diperhatikan perkembangan film di indonesia makin berkembang gue suka itu \n",
      "\n",
      "\n",
      "--------------------------------------------- Result 388 ---------------------------------------------\n",
      "[[0 (47%)]] --> [[[SKIPPED]]]\n",
      "\n",
      "film horor indonesia patut diacungin jempol konsep nya sudah hampir setara sama film horor luar negeri \n",
      "\n",
      "\n",
      "--------------------------------------------- Result 389 ---------------------------------------------\n",
      "[[0 (60%)]] --> [[[SKIPPED]]]\n",
      "\n",
      "asli ya gue suka banget sama alur cerita film kafir sederhana tapi dapat makna nya \n",
      "\n",
      "\n",
      "--------------------------------------------- Result 390 ---------------------------------------------\n",
      "[[0 (67%)]] --> [[[SKIPPED]]]\n",
      "\n",
      "cinta banget sama iko uwais apalagi kalau lagi main film \n",
      "\n",
      "\n",
      "--------------------------------------------- Result 391 ---------------------------------------------\n",
      "[[0 (53%)]] --> [[[SKIPPED]]]\n",
      "\n",
      "kangen deh sama prabowo semoga beliau jadi presiden deh ya dua tahun lagi \n",
      "\n",
      "\n",
      "--------------------------------------------- Result 392 ---------------------------------------------\n",
      "[[2 (71%)]] --> [[0 (52%)]]\n",
      "\n",
      "recheese nabati yang keju [[enak]] [[banget]] \n",
      "\n",
      "recheese nabati yang keju [[afiat]] [[benar]] \n",
      "\n",
      "\n"
     ]
    },
    {
     "name": "stderr",
     "output_type": "stream",
     "text": [
      "[Succeeded / Failed / Skipped / Total] 197 / 7 / 194 / 398:  80%|███████▉  | 398/500 [01:22<00:21,  4.81it/s]"
     ]
    },
    {
     "name": "stdout",
     "output_type": "stream",
     "text": [
      "--------------------------------------------- Result 393 ---------------------------------------------\n",
      "[[0 (64%)]] --> [[[SKIPPED]]]\n",
      "\n",
      "kalau ingin menghilangkan haus pakai minuman super duper segar mending beli hydrococo \n",
      "\n",
      "\n",
      "--------------------------------------------- Result 394 ---------------------------------------------\n",
      "[[0 (63%)]] --> [[[SKIPPED]]]\n",
      "\n",
      "tidak tahu kenapa gue senang banget bisa tinggal di jakarta \n",
      "\n",
      "\n",
      "--------------------------------------------- Result 395 ---------------------------------------------\n",
      "[[0 (44%)]] --> [[[SKIPPED]]]\n",
      "\n",
      "menurut gue bali itu pulau tercantik yang ada di indonesia \n",
      "\n",
      "\n",
      "--------------------------------------------- Result 396 ---------------------------------------------\n",
      "[[0 (64%)]] --> [[[SKIPPED]]]\n",
      "\n",
      "yang gue suka dari indonesia adalah budaya nya yang kental banget \n",
      "\n",
      "\n",
      "--------------------------------------------- Result 397 ---------------------------------------------\n",
      "[[0 (61%)]] --> [[[SKIPPED]]]\n",
      "\n",
      "indonesia itu seperti banget sama seni dan budaya nya syukurlah gue dilahirkan di indonesia jadi bisa banyak belajar tentang indah nya perbedaan \n",
      "\n",
      "\n",
      "--------------------------------------------- Result 398 ---------------------------------------------\n",
      "[[0 (54%)]] --> [[[SKIPPED]]]\n",
      "\n",
      "tidak pernah tidak suka sama suara once paling suka waktu dia nyanyi dealova dalem banget nusuk ke hati \n",
      "\n",
      "\n",
      "--------------------------------------------- Result 399 ---------------------------------------------\n",
      "[[2 (77%)]] --> [[0 (52%)]]\n",
      "\n",
      "lagu lagu indie itu [[selalu]] [[enak]] didenger \n",
      "\n",
      "lagu lagu indie itu [[benar-benar]] [[afiat]] didenger \n",
      "\n",
      "\n"
     ]
    },
    {
     "name": "stderr",
     "output_type": "stream",
     "text": [
      "[Succeeded / Failed / Skipped / Total] 199 / 7 / 199 / 405:  81%|████████  | 405/500 [01:23<00:19,  4.87it/s]"
     ]
    },
    {
     "name": "stdout",
     "output_type": "stream",
     "text": [
      "--------------------------------------------- Result 400 ---------------------------------------------\n",
      "[[0 (60%)]] --> [[[SKIPPED]]]\n",
      "\n",
      "genre musik paling asik menurut aku sih jazz \n",
      "\n",
      "\n",
      "--------------------------------------------- Result 401 ---------------------------------------------\n",
      "[[0 (55%)]] --> [[[SKIPPED]]]\n",
      "\n",
      "kalau ditanya kualitas lirik lagu terbaik di indonesia gue bakal jawab lirik lagu nya ebiet tidak ade belum ada yang bisa bandingkan \n",
      "\n",
      "\n",
      "--------------------------------------------- Result 402 ---------------------------------------------\n",
      "[[0 (66%)]] --> [[[SKIPPED]]]\n",
      "\n",
      "buat indonesia apa sih yang tidak gue rela deh kayak pahlawan zaman dulu yang sampai mengorbankan nyawa \n",
      "\n",
      "\n",
      "--------------------------------------------- Result 403 ---------------------------------------------\n",
      "[[0 (63%)]] --> [[[SKIPPED]]]\n",
      "\n",
      "sebenarnya nilai di dalam pancasila itu sudah sesuai banget sama cita cita masyarakat indonesia pancasila sangat meninggikan kepentingan bersama karena itu gue sangat cinta dengan pancasila dan indonesia \n",
      "\n",
      "\n",
      "--------------------------------------------- Result 404 ---------------------------------------------\n",
      "[[0 (65%)]] --> [[[SKIPPED]]]\n",
      "\n",
      "aku dukung banget kerja sama antara jokowi sama dengan ruf amin insyaallah indonesia bisa lebih baik ke depan nya kalau sama mereka \n",
      "\n",
      "\n",
      "--------------------------------------------- Result 405 ---------------------------------------------\n",
      "[[2 (49%)]] --> [[0 (68%)]]\n",
      "\n",
      "gue paling [[suka]] tisu merek paseo karena lembut banget \n",
      "\n",
      "gue paling [[mau]] tisu merek paseo karena lembut banget \n",
      "\n",
      "\n"
     ]
    },
    {
     "name": "stderr",
     "output_type": "stream",
     "text": [
      "[Succeeded / Failed / Skipped / Total] 200 / 7 / 200 / 407:  81%|████████▏ | 407/500 [01:23<00:19,  4.89it/s]"
     ]
    },
    {
     "name": "stdout",
     "output_type": "stream",
     "text": [
      "--------------------------------------------- Result 406 ---------------------------------------------\n",
      "[[0 (61%)]] --> [[[SKIPPED]]]\n",
      "\n",
      "laptop lenovo nomor sih buat gue \n",
      "\n",
      "\n",
      "--------------------------------------------- Result 407 ---------------------------------------------\n",
      "[[2 (58%)]] --> [[0 (70%)]]\n",
      "\n",
      "cemilan terenak menurut gue itu [[adalah]] kacang kuaci merek rebo \n",
      "\n",
      "cemilan terenak menurut gue itu [[orang]] kacang kuaci merek rebo \n",
      "\n",
      "\n"
     ]
    },
    {
     "name": "stderr",
     "output_type": "stream",
     "text": [
      "[Succeeded / Failed / Skipped / Total] 202 / 7 / 202 / 411:  82%|████████▏ | 411/500 [01:23<00:18,  4.91it/s]"
     ]
    },
    {
     "name": "stdout",
     "output_type": "stream",
     "text": [
      "--------------------------------------------- Result 408 ---------------------------------------------\n",
      "[[2 (52%)]] --> [[0 (61%)]]\n",
      "\n",
      "mouse logitech lucu lucu desain nya hampir semuanya gue [[suka]] \n",
      "\n",
      "mouse logitech lucu lucu desain nya hampir semuanya gue [[mau]] \n",
      "\n",
      "\n",
      "--------------------------------------------- Result 409 ---------------------------------------------\n",
      "[[2 (74%)]] --> [[0 (47%)]]\n",
      "\n",
      "lagu nya richard marx [[selalu]] syahdu enak didengar berulang ulang \n",
      "\n",
      "lagu nya richard marx [[benar-benar]] syahdu enak didengar berulang ulang \n",
      "\n",
      "\n",
      "--------------------------------------------- Result 410 ---------------------------------------------\n",
      "[[0 (43%)]] --> [[[SKIPPED]]]\n",
      "\n",
      "karya anak bangsa indonesia di bidang teknologi selalu membanggakan \n",
      "\n",
      "\n",
      "--------------------------------------------- Result 411 ---------------------------------------------\n",
      "[[0 (82%)]] --> [[[SKIPPED]]]\n",
      "\n",
      "salut banget sih sama pemimpin yang selalu bisa melihat poin plus yang ada di diri orang orang di sekitar nya \n",
      "\n",
      "\n"
     ]
    },
    {
     "name": "stderr",
     "output_type": "stream",
     "text": [
      "[Succeeded / Failed / Skipped / Total] 202 / 7 / 204 / 413:  83%|████████▎ | 413/500 [01:23<00:17,  4.94it/s]"
     ]
    },
    {
     "name": "stdout",
     "output_type": "stream",
     "text": [
      "--------------------------------------------- Result 412 ---------------------------------------------\n",
      "[[0 (50%)]] --> [[[SKIPPED]]]\n",
      "\n",
      "bangga deh sama jokowi maju terus pak \n",
      "\n",
      "\n",
      "--------------------------------------------- Result 413 ---------------------------------------------\n",
      "[[0 (54%)]] --> [[[SKIPPED]]]\n",
      "\n",
      "tidak usah ditanya kehebatan jokowi apa semua juga bisa dilakukan sama bapak presiden terkuat satu itu \n",
      "\n",
      "\n"
     ]
    },
    {
     "name": "stderr",
     "output_type": "stream",
     "text": [
      "[Succeeded / Failed / Skipped / Total] 204 / 7 / 204 / 415:  83%|████████▎ | 415/500 [01:24<00:17,  4.92it/s]"
     ]
    },
    {
     "name": "stdout",
     "output_type": "stream",
     "text": [
      "--------------------------------------------- Result 414 ---------------------------------------------\n",
      "[[2 (89%)]] --> [[0 (52%)]]\n",
      "\n",
      "gue lebih milih [[makan]] di restoran yang bersih dan makanan nya [[enak]] kayak di ampera \n",
      "\n",
      "gue lebih milih [[mau]] di restoran yang bersih dan makanan nya [[baik]] kayak di ampera \n",
      "\n",
      "\n",
      "--------------------------------------------- Result 415 ---------------------------------------------\n",
      "[[2 (53%)]] --> [[0 (66%)]]\n",
      "\n",
      "banyak ya yang bisa dibanggakan dari [[seorang]] habibie cerdas iya rendah hati pula \n",
      "\n",
      "banyak ya yang bisa dibanggakan dari [[orang]] habibie cerdas iya rendah hati pula \n",
      "\n",
      "\n"
     ]
    },
    {
     "name": "stderr",
     "output_type": "stream",
     "text": [
      "[Succeeded / Failed / Skipped / Total] 206 / 7 / 207 / 420:  84%|████████▍ | 420/500 [01:24<00:16,  4.96it/s]"
     ]
    },
    {
     "name": "stdout",
     "output_type": "stream",
     "text": [
      "--------------------------------------------- Result 416 ---------------------------------------------\n",
      "[[2 (65%)]] --> [[0 (64%)]]\n",
      "\n",
      "pelayanan bank bni selalu memuaskan [[ramah]] [[ramah]] banget orang nya \n",
      "\n",
      "pelayanan bank bni selalu memuaskan [[bersemangat]] [[bersemangat]] banget orang nya \n",
      "\n",
      "\n",
      "--------------------------------------------- Result 417 ---------------------------------------------\n",
      "[[0 (82%)]] --> [[[SKIPPED]]]\n",
      "\n",
      "bca keren sih karena sekarang sudah bisa medeteksi identitas orang cuma dengan ngedenger suara nya \n",
      "\n",
      "\n",
      "--------------------------------------------- Result 418 ---------------------------------------------\n",
      "[[0 (47%)]] --> [[[SKIPPED]]]\n",
      "\n",
      "salut sama anak its bisa bikin robot canggih dengan biaya yang tidak berlebihan \n",
      "\n",
      "\n",
      "--------------------------------------------- Result 419 ---------------------------------------------\n",
      "[[0 (76%)]] --> [[[SKIPPED]]]\n",
      "\n",
      "paling suka sama orang yang tidak pernah mengeluh kalau lagi kerja \n",
      "\n",
      "\n",
      "--------------------------------------------- Result 420 ---------------------------------------------\n",
      "[[2 (56%)]] --> [[0 (60%)]]\n",
      "\n",
      "gue dari dulu [[selalu]] suka momogi rasanya ketagihan banget \n",
      "\n",
      "gue dari dulu [[benar-benar]] suka momogi rasanya ketagihan banget \n",
      "\n",
      "\n"
     ]
    },
    {
     "name": "stderr",
     "output_type": "stream",
     "text": [
      "[Succeeded / Failed / Skipped / Total] 208 / 7 / 208 / 423:  85%|████████▍ | 423/500 [01:25<00:15,  4.97it/s]"
     ]
    },
    {
     "name": "stdout",
     "output_type": "stream",
     "text": [
      "--------------------------------------------- Result 421 ---------------------------------------------\n",
      "[[2 (50%)]] --> [[0 (68%)]]\n",
      "\n",
      "indomie sih enggak usah ditanya lagi naik gunung cuma bawa indomie saja sudah [[cukup]] buat gue sudah bisa melengkapi kebahagiaan indomie mantap \n",
      "\n",
      "indomie sih enggak usah ditanya lagi naik gunung cuma bawa indomie saja sudah [[benar]] buat gue sudah bisa melengkapi kebahagiaan indomie mantap \n",
      "\n",
      "\n",
      "--------------------------------------------- Result 422 ---------------------------------------------\n",
      "[[2 (47%)]] --> [[0 (58%)]]\n",
      "\n",
      "tidak pernah kecewa sama model sepatu nike [[selalu]] elegan \n",
      "\n",
      "tidak pernah kecewa sama model sepatu nike [[benar-benar]] elegan \n",
      "\n",
      "\n",
      "--------------------------------------------- Result 423 ---------------------------------------------\n",
      "[[0 (68%)]] --> [[[SKIPPED]]]\n",
      "\n",
      "samsung galaxy a memang asik banget sih setimpal banget beli itu hp \n",
      "\n",
      "\n"
     ]
    },
    {
     "name": "stderr",
     "output_type": "stream",
     "text": [
      "[Succeeded / Failed / Skipped / Total] 210 / 7 / 208 / 425:  85%|████████▌ | 425/500 [01:25<00:15,  4.96it/s]"
     ]
    },
    {
     "name": "stdout",
     "output_type": "stream",
     "text": [
      "--------------------------------------------- Result 424 ---------------------------------------------\n",
      "[[2 (49%)]] --> [[0 (39%)]]\n",
      "\n",
      "bangga dan salut buat dokter yang rela tidak dibayar buat [[turun]] jangankan korban gempa di lombok \n",
      "\n",
      "bangga dan salut buat dokter yang rela tidak dibayar buat [[menjadi-jadi]] jangankan korban gempa di lombok \n",
      "\n",
      "\n",
      "--------------------------------------------- Result 425 ---------------------------------------------\n",
      "[[2 (50%)]] --> [[0 (53%)]]\n",
      "\n",
      "sandy shandoro tidak pernah gagal bikin gue merinding dewa [[banget]] suara nya \n",
      "\n",
      "sandy shandoro tidak pernah gagal bikin gue merinding dewa [[benar]] suara nya \n",
      "\n",
      "\n"
     ]
    },
    {
     "name": "stderr",
     "output_type": "stream",
     "text": [
      "[Succeeded / Failed / Skipped / Total] 211 / 7 / 209 / 427:  85%|████████▌ | 427/500 [01:25<00:14,  4.97it/s]"
     ]
    },
    {
     "name": "stdout",
     "output_type": "stream",
     "text": [
      "--------------------------------------------- Result 426 ---------------------------------------------\n",
      "[[2 (52%)]] --> [[0 (52%)]]\n",
      "\n",
      "kalau disuruh milih antara koi sama chatime mending koi ke mana mana harga [[murah]] rasa juara \n",
      "\n",
      "kalau disuruh milih antara koi sama chatime mending koi ke mana mana harga [[berlebih-lebih]] rasa juara \n",
      "\n",
      "\n",
      "--------------------------------------------- Result 427 ---------------------------------------------\n",
      "[[0 (50%)]] --> [[[SKIPPED]]]\n",
      "\n",
      "salut sama rk gue yakin jawa barat bakal juara \n",
      "\n",
      "\n"
     ]
    },
    {
     "name": "stderr",
     "output_type": "stream",
     "text": [
      "[Succeeded / Failed / Skipped / Total] 212 / 7 / 210 / 429:  86%|████████▌ | 429/500 [01:26<00:14,  4.98it/s]"
     ]
    },
    {
     "name": "stdout",
     "output_type": "stream",
     "text": [
      "--------------------------------------------- Result 428 ---------------------------------------------\n",
      "[[2 (53%)]] --> [[0 (61%)]]\n",
      "\n",
      "di antara penyanyi rock yang ada gue paling [[suka]] bryan adams \n",
      "\n",
      "di antara penyanyi rock yang ada gue paling [[mau]] bryan adams \n",
      "\n",
      "\n",
      "--------------------------------------------- Result 429 ---------------------------------------------\n",
      "[[0 (65%)]] --> [[[SKIPPED]]]\n",
      "\n",
      "gue cuma mau dipimpin sama jokowi \n",
      "\n",
      "\n",
      "--------------------------------------------- Result 430 ---------------------------------------------\n",
      "[[2 (71%)]] --> [[[FAILED]]]\n",
      "\n",
      "kopi paling enak menurut gue torabika \n",
      "\n",
      "\n"
     ]
    },
    {
     "name": "stderr",
     "output_type": "stream",
     "text": [
      "[Succeeded / Failed / Skipped / Total] 213 / 9 / 210 / 432:  86%|████████▋ | 432/500 [01:26<00:13,  4.99it/s]"
     ]
    },
    {
     "name": "stdout",
     "output_type": "stream",
     "text": [
      "--------------------------------------------- Result 431 ---------------------------------------------\n",
      "[[2 (48%)]] --> [[0 (52%)]]\n",
      "\n",
      "gila sih [[rasa]] iga bakar di iga bakar si jangkung terbaik parah \n",
      "\n",
      "gila sih [[tahu]] iga bakar di iga bakar si jangkung terbaik parah \n",
      "\n",
      "\n",
      "--------------------------------------------- Result 432 ---------------------------------------------\n",
      "[[2 (79%)]] --> [[[FAILED]]]\n",
      "\n",
      "bandung itu kota paling nyaman buat ditempatkan \n",
      "\n",
      "\n"
     ]
    },
    {
     "name": "stderr",
     "output_type": "stream",
     "text": [
      "[Succeeded / Failed / Skipped / Total] 214 / 10 / 214 / 438:  88%|████████▊ | 438/500 [01:26<00:12,  5.03it/s]"
     ]
    },
    {
     "name": "stdout",
     "output_type": "stream",
     "text": [
      "--------------------------------------------- Result 433 ---------------------------------------------\n",
      "[[2 (83%)]] --> [[[FAILED]]]\n",
      "\n",
      "distro baju di bandung ternyata bagus bagus deh harga nya juga sesuai \n",
      "\n",
      "\n",
      "--------------------------------------------- Result 434 ---------------------------------------------\n",
      "[[0 (48%)]] --> [[[SKIPPED]]]\n",
      "\n",
      "kalau mau jalan jalan melihat pulau paling cantik datang saja ke pulau saumlaki yang ada di maluku \n",
      "\n",
      "\n",
      "--------------------------------------------- Result 435 ---------------------------------------------\n",
      "[[0 (48%)]] --> [[[SKIPPED]]]\n",
      "\n",
      "aku bangga jadi anak indonesia \n",
      "\n",
      "\n",
      "--------------------------------------------- Result 436 ---------------------------------------------\n",
      "[[0 (50%)]] --> [[[SKIPPED]]]\n",
      "\n",
      "salut deh sama keberanian bu susi \n",
      "\n",
      "\n",
      "--------------------------------------------- Result 437 ---------------------------------------------\n",
      "[[2 (57%)]] --> [[0 (51%)]]\n",
      "\n",
      "panutan banget bu sri mulyani otak nya cerdas [[luar]] biasa \n",
      "\n",
      "panutan banget bu sri mulyani otak nya cerdas [[jangan]] biasa \n",
      "\n",
      "\n",
      "--------------------------------------------- Result 438 ---------------------------------------------\n",
      "[[0 (59%)]] --> [[[SKIPPED]]]\n",
      "\n",
      "suka banget sama desain toko pedia bikin mata segar \n",
      "\n",
      "\n",
      "--------------------------------------------- Result 439 ---------------------------------------------\n",
      "[[2 (49%)]] --> [[0 (62%)]]\n",
      "\n",
      "gue senang banget belanja di shopee [[banyak]] promo nya \n",
      "\n",
      "gue senang banget belanja di shopee [[mahal]] promo nya \n",
      "\n",
      "\n"
     ]
    },
    {
     "name": "stderr",
     "output_type": "stream",
     "text": [
      "[Succeeded / Failed / Skipped / Total] 216 / 10 / 216 / 442:  88%|████████▊ | 442/500 [01:27<00:11,  5.06it/s]"
     ]
    },
    {
     "name": "stdout",
     "output_type": "stream",
     "text": [
      "--------------------------------------------- Result 440 ---------------------------------------------\n",
      "[[0 (85%)]] --> [[[SKIPPED]]]\n",
      "\n",
      "kalau mau beli keperluan perawatan kulit the body stop direkomendasikan banget sih \n",
      "\n",
      "\n",
      "--------------------------------------------- Result 441 ---------------------------------------------\n",
      "[[0 (51%)]] --> [[[SKIPPED]]]\n",
      "\n",
      "fasilitas di hotel santika memang terbaik \n",
      "\n",
      "\n",
      "--------------------------------------------- Result 442 ---------------------------------------------\n",
      "[[2 (75%)]] --> [[0 (44%)]]\n",
      "\n",
      "alun alun bandung [[nyaman]] [[banget]] buat nongkrong nongkrong [[sama]] [[keluarga]] atau teman \n",
      "\n",
      "alun alun bandung [[baik]] [[benar]] buat nongkrong nongkrong [[orang]] [[famili]] atau teman \n",
      "\n",
      "\n"
     ]
    },
    {
     "name": "stderr",
     "output_type": "stream",
     "text": [
      "[Succeeded / Failed / Skipped / Total] 216 / 10 / 217 / 443:  89%|████████▊ | 443/500 [01:27<00:11,  5.07it/s]"
     ]
    },
    {
     "name": "stdout",
     "output_type": "stream",
     "text": [
      "--------------------------------------------- Result 443 ---------------------------------------------\n",
      "[[0 (58%)]] --> [[[SKIPPED]]]\n",
      "\n",
      "aku seneng banget sama desain interior cgv beda sama bioskop bioskop lain \n",
      "\n",
      "\n",
      "--------------------------------------------- Result 444 ---------------------------------------------\n",
      "[[2 (68%)]] --> [[0 (50%)]]\n",
      "\n",
      "[[ayam]] sama kentang mcd tidak ada yang bisa mengalahkan \n",
      "\n",
      "[[burung]] sama kentang mcd tidak ada yang bisa mengalahkan \n",
      "\n",
      "\n"
     ]
    },
    {
     "name": "stderr",
     "output_type": "stream",
     "text": [
      "[Succeeded / Failed / Skipped / Total] 219 / 11 / 217 / 447:  89%|████████▉ | 447/500 [01:27<00:10,  5.09it/s]"
     ]
    },
    {
     "name": "stdout",
     "output_type": "stream",
     "text": [
      "--------------------------------------------- Result 445 ---------------------------------------------\n",
      "[[2 (58%)]] --> [[0 (48%)]]\n",
      "\n",
      "mocha float kfc itu minuman terenak yang [[pernah]] gue rasain \n",
      "\n",
      "mocha float kfc itu minuman terenak yang [[sekali]] gue rasain \n",
      "\n",
      "\n",
      "--------------------------------------------- Result 446 ---------------------------------------------\n",
      "[[2 (55%)]] --> [[[FAILED]]]\n",
      "\n",
      "mal terasik di bandung menurut gue pvj sih \n",
      "\n",
      "\n",
      "--------------------------------------------- Result 447 ---------------------------------------------\n",
      "[[2 (63%)]] --> [[0 (54%)]]\n",
      "\n",
      "semua rasa [[ayam]] di wingstop gue suka \n",
      "\n",
      "semua rasa [[burung]] di wingstop gue suka \n",
      "\n",
      "\n"
     ]
    },
    {
     "name": "stderr",
     "output_type": "stream",
     "text": [
      "[Succeeded / Failed / Skipped / Total] 221 / 11 / 219 / 451:  90%|█████████ | 451/500 [01:28<00:09,  5.12it/s]"
     ]
    },
    {
     "name": "stdout",
     "output_type": "stream",
     "text": [
      "--------------------------------------------- Result 448 ---------------------------------------------\n",
      "[[2 (80%)]] --> [[0 (51%)]]\n",
      "\n",
      "indomie goreng [[rasa]] rendang rasanya [[enak]] [[banget]] [[enak]] banget \n",
      "\n",
      "indomie goreng [[tahu]] rendang rasanya [[baik]] [[benar]] [[afiat]] banget \n",
      "\n",
      "\n",
      "--------------------------------------------- Result 449 ---------------------------------------------\n",
      "[[2 (63%)]] --> [[0 (54%)]]\n",
      "\n",
      "[[tempat]] direkomendasikan buat beli barang elektronik itu bec di sana [[banyak]] pilihan \n",
      "\n",
      "[[alun-alun]] direkomendasikan buat beli barang elektronik itu bec di sana [[mahal]] pilihan \n",
      "\n",
      "\n",
      "--------------------------------------------- Result 450 ---------------------------------------------\n",
      "[[0 (44%)]] --> [[[SKIPPED]]]\n",
      "\n",
      "keren pemain pemain bola di indonesia makin punya skill \n",
      "\n",
      "\n",
      "--------------------------------------------- Result 451 ---------------------------------------------\n",
      "[[0 (65%)]] --> [[[SKIPPED]]]\n",
      "\n",
      "kalau mau indonesia maju pemimpin itu harus peka sama kebutuhan negara \n",
      "\n",
      "\n"
     ]
    },
    {
     "name": "stderr",
     "output_type": "stream",
     "text": [
      "[Succeeded / Failed / Skipped / Total] 221 / 11 / 228 / 460:  92%|█████████▏| 460/500 [01:28<00:07,  5.21it/s]"
     ]
    },
    {
     "name": "stdout",
     "output_type": "stream",
     "text": [
      "--------------------------------------------- Result 452 ---------------------------------------------\n",
      "[[0 (46%)]] --> [[[SKIPPED]]]\n",
      "\n",
      "di indonesia lagi banyak bencana \n",
      "\n",
      "\n",
      "--------------------------------------------- Result 453 ---------------------------------------------\n",
      "[[2 (50%)]] --> [[[SKIPPED]]]\n",
      "\n",
      "kata nya lagi banyak promo di shopee \n",
      "\n",
      "\n",
      "--------------------------------------------- Result 454 ---------------------------------------------\n",
      "[[2 (50%)]] --> [[[SKIPPED]]]\n",
      "\n",
      "gojek fitur nya makin banyak \n",
      "\n",
      "\n",
      "--------------------------------------------- Result 455 ---------------------------------------------\n",
      "[[0 (50%)]] --> [[[SKIPPED]]]\n",
      "\n",
      "prabowo sama sandi maju jadi capres dan cawapres indonesia tahun \n",
      "\n",
      "\n",
      "--------------------------------------------- Result 456 ---------------------------------------------\n",
      "[[0 (45%)]] --> [[[SKIPPED]]]\n",
      "\n",
      "jokowi milih dengan ruh amin jadi cawapres nya \n",
      "\n",
      "\n",
      "--------------------------------------------- Result 457 ---------------------------------------------\n",
      "[[2 (57%)]] --> [[[SKIPPED]]]\n",
      "\n",
      "hotel bintang yang ada di bogor salah satu nya hotel salak \n",
      "\n",
      "\n",
      "--------------------------------------------- Result 458 ---------------------------------------------\n",
      "[[2 (57%)]] --> [[[SKIPPED]]]\n",
      "\n",
      "di bogor itu ada lima mal yang bisa didatangkan salah satu nya botani square \n",
      "\n",
      "\n",
      "--------------------------------------------- Result 459 ---------------------------------------------\n",
      "[[2 (58%)]] --> [[[SKIPPED]]]\n",
      "\n",
      "sekarang transmart buka juga di bogor \n",
      "\n",
      "\n",
      "--------------------------------------------- Result 460 ---------------------------------------------\n",
      "[[2 (49%)]] --> [[[SKIPPED]]]\n",
      "\n",
      "kata nya di pasteur bakal dibangun transmart yang kayak di buah batu itu \n",
      "\n",
      "\n"
     ]
    },
    {
     "name": "stderr",
     "output_type": "stream",
     "text": [
      "[Succeeded / Failed / Skipped / Total] 222 / 11 / 237 / 470:  94%|█████████▍| 470/500 [01:28<00:05,  5.30it/s]"
     ]
    },
    {
     "name": "stdout",
     "output_type": "stream",
     "text": [
      "--------------------------------------------- Result 461 ---------------------------------------------\n",
      "[[0 (54%)]] --> [[2 (59%)]]\n",
      "\n",
      "bogor memang suka macet tiap akhir [[pekan]] melelahkan \n",
      "\n",
      "bogor memang suka macet tiap akhir [[kota]] melelahkan \n",
      "\n",
      "\n",
      "--------------------------------------------- Result 462 ---------------------------------------------\n",
      "[[2 (42%)]] --> [[[SKIPPED]]]\n",
      "\n",
      "car free hari di jalan sudirman bogor sudah tidak ada \n",
      "\n",
      "\n",
      "--------------------------------------------- Result 463 ---------------------------------------------\n",
      "[[0 (56%)]] --> [[[SKIPPED]]]\n",
      "\n",
      "kalau di hari sabtu sama minggu banyak warga bogor yang lari keliling kebun raya \n",
      "\n",
      "\n",
      "--------------------------------------------- Result 464 ---------------------------------------------\n",
      "[[0 (63%)]] --> [[[SKIPPED]]]\n",
      "\n",
      "di istana bogor itu dipelihara banyak rusa tutul peninggalan penjajah kata nya sih \n",
      "\n",
      "\n",
      "--------------------------------------------- Result 465 ---------------------------------------------\n",
      "[[0 (41%)]] --> [[[SKIPPED]]]\n",
      "\n",
      "kemajuan teknologi di indonesia makin ke sini makin berkembang \n",
      "\n",
      "\n",
      "--------------------------------------------- Result 466 ---------------------------------------------\n",
      "[[0 (69%)]] --> [[[SKIPPED]]]\n",
      "\n",
      "kemampuan memahami bacaan tiap orang itu beda beda ada yang sekali baca sudah paham ada juga yang butuh berkali kali baca dulu baru paham \n",
      "\n",
      "\n",
      "--------------------------------------------- Result 467 ---------------------------------------------\n",
      "[[2 (53%)]] --> [[[SKIPPED]]]\n",
      "\n",
      "bali punya banyak pulau yang bisa dikunjungi \n",
      "\n",
      "\n",
      "--------------------------------------------- Result 468 ---------------------------------------------\n",
      "[[2 (58%)]] --> [[[SKIPPED]]]\n",
      "\n",
      "wortel mengandung vitamin a yang bisa jaga kesehatan mata \n",
      "\n",
      "\n",
      "--------------------------------------------- Result 469 ---------------------------------------------\n",
      "[[2 (58%)]] --> [[[SKIPPED]]]\n",
      "\n",
      "jangan lupa minum air mineral gelas per hari nya \n",
      "\n",
      "\n",
      "--------------------------------------------- Result 470 ---------------------------------------------\n",
      "[[2 (58%)]] --> [[[SKIPPED]]]\n",
      "\n",
      "sekarang lagi musim durian \n",
      "\n",
      "\n"
     ]
    },
    {
     "name": "stderr",
     "output_type": "stream",
     "text": [
      "[Succeeded / Failed / Skipped / Total] 222 / 11 / 247 / 480:  96%|█████████▌| 480/500 [01:28<00:03,  5.41it/s]"
     ]
    },
    {
     "name": "stdout",
     "output_type": "stream",
     "text": [
      "--------------------------------------------- Result 471 ---------------------------------------------\n",
      "[[0 (50%)]] --> [[[SKIPPED]]]\n",
      "\n",
      "youngle nya setelah berantem sama penggemar kpop \n",
      "\n",
      "\n",
      "--------------------------------------------- Result 472 ---------------------------------------------\n",
      "[[2 (49%)]] --> [[[SKIPPED]]]\n",
      "\n",
      "belakangan ini sudah terjadi dua kali gempa di lombok \n",
      "\n",
      "\n",
      "--------------------------------------------- Result 473 ---------------------------------------------\n",
      "[[2 (49%)]] --> [[[SKIPPED]]]\n",
      "\n",
      "kabar tenggelam nya kami sinar bangun di danau toba sudah tidak pernah terdengar lagi \n",
      "\n",
      "\n",
      "--------------------------------------------- Result 474 ---------------------------------------------\n",
      "[[0 (74%)]] --> [[[SKIPPED]]]\n",
      "\n",
      "jumlah korban tenggelam nya kami sinar bangun itu kurang lebih an orang \n",
      "\n",
      "\n",
      "--------------------------------------------- Result 475 ---------------------------------------------\n",
      "[[0 (70%)]] --> [[[SKIPPED]]]\n",
      "\n",
      "sudah hampir orang yang meninggal karena gempa di lombok kemarin \n",
      "\n",
      "\n",
      "--------------------------------------------- Result 476 ---------------------------------------------\n",
      "[[2 (58%)]] --> [[[SKIPPED]]]\n",
      "\n",
      "tukang bubur naik haji sudah stop produksi \n",
      "\n",
      "\n",
      "--------------------------------------------- Result 477 ---------------------------------------------\n",
      "[[2 (53%)]] --> [[[SKIPPED]]]\n",
      "\n",
      "ada satu relawan di lombok yang meninggal dunia \n",
      "\n",
      "\n",
      "--------------------------------------------- Result 478 ---------------------------------------------\n",
      "[[0 (48%)]] --> [[[SKIPPED]]]\n",
      "\n",
      "bikin puisi bisa bikin hati yang tadinya banyak masalah jadi lebih tenang \n",
      "\n",
      "\n",
      "--------------------------------------------- Result 479 ---------------------------------------------\n",
      "[[2 (49%)]] --> [[[SKIPPED]]]\n",
      "\n",
      "kalau lapar ya baiknya makan \n",
      "\n",
      "\n",
      "--------------------------------------------- Result 480 ---------------------------------------------\n",
      "[[0 (58%)]] --> [[[SKIPPED]]]\n",
      "\n",
      "kerja dari pagi sampai pagi lagi itu cuma bakal menyiksa diri sendiri jadi tidak usah berlebihan kalau soal kerjaan \n",
      "\n",
      "\n",
      "--------------------------------------------- Result 481 ---------------------------------------------\n",
      "[[2 (58%)]] --> [[[SKIPPED]]]\n",
      "\n",
      "perempuan yang malang itu sekarang sudah tutup usia \n",
      "\n",
      "\n"
     ]
    },
    {
     "name": "stderr",
     "output_type": "stream",
     "text": [
      "[Succeeded / Failed / Skipped / Total] 223 / 11 / 254 / 488:  98%|█████████▊| 488/500 [01:28<00:02,  5.48it/s]"
     ]
    },
    {
     "name": "stdout",
     "output_type": "stream",
     "text": [
      "--------------------------------------------- Result 482 ---------------------------------------------\n",
      "[[2 (49%)]] --> [[[SKIPPED]]]\n",
      "\n",
      "cerita si kancil itu identik dengan kecerdikan seorang kancil menyelesai masalah yang ada di hadapan nya \n",
      "\n",
      "\n",
      "--------------------------------------------- Result 483 ---------------------------------------------\n",
      "[[0 (58%)]] --> [[[SKIPPED]]]\n",
      "\n",
      "kalau mau beli obat obatan datang saja ke kimia farma karena di sana lengkap dan harga terjangkau \n",
      "\n",
      "\n",
      "--------------------------------------------- Result 484 ---------------------------------------------\n",
      "[[0 (60%)]] --> [[[SKIPPED]]]\n",
      "\n",
      "buah mangga yang kemarin gue lihat di pohon kayak nya sudah dimakan sama kelelawar \n",
      "\n",
      "\n",
      "--------------------------------------------- Result 485 ---------------------------------------------\n",
      "[[0 (66%)]] --> [[[SKIPPED]]]\n",
      "\n",
      "semua perempuan suka dikasih bunga atau puisi sama pacar nya \n",
      "\n",
      "\n",
      "--------------------------------------------- Result 486 ---------------------------------------------\n",
      "[[2 (57%)]] --> [[[SKIPPED]]]\n",
      "\n",
      "tidur yang cukup tiap hari nya bisa bikin badan segar \n",
      "\n",
      "\n",
      "--------------------------------------------- Result 487 ---------------------------------------------\n",
      "[[0 (76%)]] --> [[[SKIPPED]]]\n",
      "\n",
      "baiknya orang yang dikasih kekuasaan di indonesia itu adalah orang yang paling tahu apa yang dibutuhkan sama rakyat \n",
      "\n",
      "\n",
      "--------------------------------------------- Result 488 ---------------------------------------------\n",
      "[[1 (42%)]] --> [[0 (53%)]]\n",
      "\n",
      "sandiaga uno salah [[satu]] orang terkaya di indonesia \n",
      "\n",
      "sandiaga uno salah [[salah]] orang terkaya di indonesia \n",
      "\n",
      "\n"
     ]
    },
    {
     "name": "stderr",
     "output_type": "stream",
     "text": [
      "[Succeeded / Failed / Skipped / Total] 223 / 12 / 262 / 497:  99%|█████████▉| 497/500 [01:29<00:00,  5.55it/s]"
     ]
    },
    {
     "name": "stdout",
     "output_type": "stream",
     "text": [
      "--------------------------------------------- Result 489 ---------------------------------------------\n",
      "[[2 (84%)]] --> [[[FAILED]]]\n",
      "\n",
      "di bandung banyak tempat yang bisa didatangkan buat wisata sama keluarga yang tempat nya bagus bagus \n",
      "\n",
      "\n",
      "--------------------------------------------- Result 490 ---------------------------------------------\n",
      "[[0 (68%)]] --> [[[SKIPPED]]]\n",
      "\n",
      "indonesia punya banyak banget suku yang beragam budaya nya dan itu mencerminkan kalau negara kita sangat kaya \n",
      "\n",
      "\n",
      "--------------------------------------------- Result 491 ---------------------------------------------\n",
      "[[0 (58%)]] --> [[[SKIPPED]]]\n",
      "\n",
      "kalau jadi pemimpin itu harus bisa adil \n",
      "\n",
      "\n",
      "--------------------------------------------- Result 492 ---------------------------------------------\n",
      "[[0 (47%)]] --> [[[SKIPPED]]]\n",
      "\n",
      "jadi pemimpin di indonesia itu banyak tantangan nya \n",
      "\n",
      "\n",
      "--------------------------------------------- Result 493 ---------------------------------------------\n",
      "[[2 (67%)]] --> [[[SKIPPED]]]\n",
      "\n",
      "salah satu tempat yang banyak didatangkan di bogor itu kebun raya bogor \n",
      "\n",
      "\n",
      "--------------------------------------------- Result 494 ---------------------------------------------\n",
      "[[2 (47%)]] --> [[[SKIPPED]]]\n",
      "\n",
      "di sekitar istana bogor kita bisa kasih makan rusa langsung kalau rusa rusa nya lagi dikeluarkan \n",
      "\n",
      "\n",
      "--------------------------------------------- Result 495 ---------------------------------------------\n",
      "[[2 (49%)]] --> [[[SKIPPED]]]\n",
      "\n",
      "kemarin aku setelah nyobain kopi nya warung kopi nako \n",
      "\n",
      "\n",
      "--------------------------------------------- Result 496 ---------------------------------------------\n",
      "[[0 (44%)]] --> [[[SKIPPED]]]\n",
      "\n",
      "kata nya tidur yang baik itu minimal enam jam sehari \n",
      "\n",
      "\n",
      "--------------------------------------------- Result 497 ---------------------------------------------\n",
      "[[0 (44%)]] --> [[[SKIPPED]]]\n",
      "\n",
      "indonesia itu ada di benua asia \n",
      "\n",
      "\n"
     ]
    },
    {
     "name": "stderr",
     "output_type": "stream",
     "text": [
      "[Succeeded / Failed / Skipped / Total] 224 / 12 / 264 / 500: 100%|██████████| 500/500 [01:29<00:00,  5.57it/s]"
     ]
    },
    {
     "name": "stdout",
     "output_type": "stream",
     "text": [
      "--------------------------------------------- Result 498 ---------------------------------------------\n",
      "[[1 (38%)]] --> [[2 (57%)]]\n",
      "\n",
      "salah satu kegemaran anak remaja [[indonesia]] sekarang adalah mendengar kpop \n",
      "\n",
      "salah satu kegemaran anak remaja [[Nederlands-Indië]] sekarang adalah mendengar kpop \n",
      "\n",
      "\n",
      "--------------------------------------------- Result 499 ---------------------------------------------\n",
      "[[0 (47%)]] --> [[[SKIPPED]]]\n",
      "\n",
      "melihat warna hijau bisa bikin mata jadi lebih santai \n",
      "\n",
      "\n",
      "--------------------------------------------- Result 500 ---------------------------------------------\n",
      "[[2 (54%)]] --> [[[SKIPPED]]]\n",
      "\n",
      "bondan winarno yang suka bilang maknyus sekarang sudah tiada \n",
      "\n",
      "\n",
      "\n",
      "+-------------------------------+--------+\n",
      "| Attack Results                |        |\n",
      "+-------------------------------+--------+\n",
      "| Number of successful attacks: | 224    |\n",
      "| Number of failed attacks:     | 12     |\n",
      "| Number of skipped attacks:    | 264    |\n",
      "| Original accuracy:            | 47.2%  |\n",
      "| Accuracy under attack:        | 2.4%   |\n",
      "| Attack success rate:          | 94.92% |\n",
      "| Average perturbed word %:     | 8.85%  |\n",
      "| Average num. words per input: | 21.57  |\n",
      "| Avg num queries:              | 565.54 |\n",
      "+-------------------------------+--------+"
     ]
    },
    {
     "name": "stderr",
     "output_type": "stream",
     "text": [
      "\n"
     ]
    },
    {
     "name": "stdout",
     "output_type": "stream",
     "text": [
      "\n"
     ]
    }
   ],
   "source": [
    "from textattack.datasets import Dataset\n",
    "\n",
    "dataset = Dataset(custom_data) #HuggingFaceDataset(\"tyqiangz/multilingual-sentiments\", \"indonesian\", \"test\")\n",
    "attack = PWWSham2024INDO.build(model_wrapper)\n",
    "\n",
    "attackargs = AttackArgs(num_examples=500, log_to_csv=\"attack_results_classic.csv\")\n",
    "attacker = Attacker(attack, dataset, attack_args=attackargs)\n",
    "attack_results = attacker.attack_dataset()"
   ]
  },
  {
   "cell_type": "code",
   "execution_count": null,
   "metadata": {},
   "outputs": [
    {
     "name": "stderr",
     "output_type": "stream",
     "text": [
      "textattack: Logging to CSV at path results.csv\n",
      "C:\\Users\\Ilham AM\\AppData\\Local\\Temp\\ipykernel_12364\\2054896546.py:16: DeprecationWarning: Importing display from IPython.core.display is deprecated since IPython 7.14, please import from IPython display\n",
      "  from IPython.core.display import display, HTML\n"
     ]
    },
    {
     "data": {
      "text/html": [
       "<table border=\"1\" class=\"dataframe\">\n",
       "  <thead>\n",
       "    <tr style=\"text-align: right;\">\n",
       "      <th></th>\n",
       "      <th>original_text</th>\n",
       "      <th>perturbed_text</th>\n",
       "    </tr>\n",
       "  </thead>\n",
       "  <tbody>\n",
       "    <tr>\n",
       "      <th>0</th>\n",
       "      <td>kemarin gue datang ke tempat makan baru yang ada di dago atas . gue kira makanan nya <font color = red>enak</font> karena harga nya mahal . ternyata , boro-boro . tidak mau lagi deh ke tempat itu . sudah mana <font color = red>tempat</font> nya juga tidak nyaman banget , terlalu sempit .</td>\n",
       "      <td>kemarin gue datang ke tempat makan baru yang ada di dago atas . gue kira makanan nya <font color = green>afiat</font> karena harga nya mahal . ternyata , boro-boro . tidak mau lagi deh ke tempat itu . sudah mana <font color = green>alun-alun</font> nya juga tidak nyaman banget , terlalu sempit .</td>\n",
       "    </tr>\n",
       "    <tr>\n",
       "      <th>1</th>\n",
       "      <td>saya mesan tiket tapi tidak dikonformasi dan proses pengembalian uang yang tidak jelas dan belum ada sampai sekarang , pelayanan nya yang <font color = red>sangat</font> buruk dan saran saya jangan pesan di sini , sangat mengecewakan .</td>\n",
       "      <td>saya mesan tiket tapi tidak dikonformasi dan proses pengembalian uang yang tidak jelas dan belum ada sampai sekarang , pelayanan nya yang <font color = green>sekali</font> buruk dan saran saya jangan pesan di sini , sangat mengecewakan .</td>\n",
       "    </tr>\n",
       "    <tr>\n",
       "      <th>2</th>\n",
       "      <td><font color = red>sangat</font> kecewa dengan aplikasi ini , sudah ditransfer tetapi etiket tidak dikirim saya coba telepon call centre seharian tetapi sibuk terus call genre nya , mending pakai traveloka adalah untuk pesanan selanjutnya .</td>\n",
       "      <td><font color = green>sekali</font> kecewa dengan aplikasi ini , sudah ditransfer tetapi etiket tidak dikirim saya coba telepon call centre seharian tetapi sibuk terus call genre nya , mending pakai traveloka adalah untuk pesanan selanjutnya .</td>\n",
       "    </tr>\n",
       "    <tr>\n",
       "      <th>3</th>\n",
       "      <td><font color = red>melihat</font> komen nya 90 % negatif jadi pikir-pikir buat mencari tiket kereta di sini . mending aplikasi yang lain saja yang sudah terbukti <font color = red>bagus</font> bertahun-bertahun .</td>\n",
       "      <td><font color = green>lihat</font> komen nya 90 % negatif jadi pikir-pikir buat mencari tiket kereta di sini . mending aplikasi yang lain saja yang sudah terbukti <font color = green>Berguna</font> bertahun-bertahun .</td>\n",
       "    </tr>\n",
       "    <tr>\n",
       "      <th>4</th>\n",
       "      <td>aplikasi tukang bohong . promo gratis <font color = red>makan</font> tidak terjadi . komplain ke pelayanan pelanggan dengan email tidak ditanggapi . komplain by phone hanya dicatat saja tidak ada tindak lanjut . sangat tidak direkomendasikan untuk siapa pun .</td>\n",
       "      <td>aplikasi tukang bohong . promo gratis <font color = green>mau</font> tidak terjadi . komplain ke pelayanan pelanggan dengan email tidak ditanggapi . komplain by phone hanya dicatat saja tidak ada tindak lanjut . sangat tidak direkomendasikan untuk siapa pun .</td>\n",
       "    </tr>\n",
       "    <tr>\n",
       "      <th>5</th>\n",
       "      <td>tidak bisa menggunakan kode promo di aplikasi android , telpon ke pelayanan pelanggan bilang nya tidak <font color = red>ada</font> solusi nya . oke uninstall dan tidak <font color = red>rekomendasi</font> !</td>\n",
       "      <td>tidak bisa menggunakan kode promo di aplikasi android , telpon ke pelayanan pelanggan bilang nya tidak <font color = green>orang</font> solusi nya . oke uninstall dan tidak <font color = green>cadangan</font> !</td>\n",
       "    </tr>\n",
       "    <tr>\n",
       "      <th>6</th>\n",
       "      <td>maaf ya saya uninstall . saya kecewa karena sudah melakukan pembayaran tetapi tidak dikonfirmasi . saya sudah komplain via email tetapi respon nya <font color = red>sangat</font> lambat .</td>\n",
       "      <td>maaf ya saya uninstall . saya kecewa karena sudah melakukan pembayaran tetapi tidak dikonfirmasi . saya sudah komplain via email tetapi respon nya <font color = green>sekali</font> lambat .</td>\n",
       "    </tr>\n",
       "    <tr>\n",
       "      <th>7</th>\n",
       "      <td>minta dikembalikan karena permasalahan bencana alam tapi tidak ada respon baik dari pelanggan nya . <font color = red>sangat</font> mengecewakan .</td>\n",
       "      <td>minta dikembalikan karena permasalahan bencana alam tapi tidak ada respon baik dari pelanggan nya . <font color = green>sekali</font> mengecewakan .</td>\n",
       "    </tr>\n",
       "    <tr>\n",
       "      <th>8</th>\n",
       "      <td>terminal nya tidak ditulis tahu dari mana , saya kontak tidak ada balasan , mending aplikasi sebelah lebih oke , baru sekali <font color = red>coba</font> sudah kayak gini kesan nya . tidak asik .</td>\n",
       "      <td>terminal nya tidak ditulis tahu dari mana , saya kontak tidak ada balasan , mending aplikasi sebelah lebih oke , baru sekali <font color = green>anju</font> sudah kayak gini kesan nya . tidak asik .</td>\n",
       "    </tr>\n",
       "    <tr>\n",
       "      <th>9</th>\n",
       "      <td>kami meyewa 2 kamar sangat kecewa dengan fasilitas yang didapat , mulai dari ac yang tidak berfungsi dengan <font color = red>baik</font> , alat cukur di 2 kamar yang tidak layak pakai sampai dapat apel yang busuk di evening coctail .</td>\n",
       "      <td>kami meyewa 2 kamar sangat kecewa dengan fasilitas yang didapat , mulai dari ac yang tidak berfungsi dengan <font color = green>afdal</font> , alat cukur di 2 kamar yang tidak layak pakai sampai dapat apel yang busuk di evening coctail .</td>\n",
       "    </tr>\n",
       "    <tr>\n",
       "      <th>10</th>\n",
       "      <td>gua enggak <font color = red>suka</font> cara pelatih timnas u16 yang melarang pemain nya diwawancara sama teman-teman media . di <font color = red>luar</font> sana , justru pemain muda diajari public speaking baik di depan media maupun di depan rakyat . harus nya pelatih atau manager cukup membatasi apa yang tidak boleh dishare ke media .</td>\n",
       "      <td>gua enggak <font color = green>mau</font> cara pelatih timnas u16 yang melarang pemain nya diwawancara sama teman-teman media . di <font color = green>jangan</font> sana , justru pemain muda diajari public speaking baik di depan media maupun di depan rakyat . harus nya pelatih atau manager cukup membatasi apa yang tidak boleh dishare ke media .</td>\n",
       "    </tr>\n",
       "    <tr>\n",
       "      <th>11</th>\n",
       "      <td>saya sebagai aktifis pecinta beruang indonesia apbi , dengan ini merasa kecewa kepada pt nestle . kenapa iklan nya <font color = red>sangat</font> menipu .</td>\n",
       "      <td>saya sebagai aktifis pecinta beruang indonesia apbi , dengan ini merasa kecewa kepada pt nestle . kenapa iklan nya <font color = green>sekali</font> menipu .</td>\n",
       "    </tr>\n",
       "    <tr>\n",
       "      <th>12</th>\n",
       "      <td>charger masih benar buat telepon genggam lain . cuma sama xiao mi saya <font color = red>suka</font> tidak <font color = red>cocok</font> . yang saya bawa tiap hari lebih cocok . <font color = red>padahal</font> charger asus . malah charger ori xiaomi nya tidak <font color = red>enak</font></td>\n",
       "      <td>charger masih benar buat telepon genggam lain . cuma sama xiao mi saya <font color = green>mau</font> tidak <font color = green>benar</font> . yang saya bawa tiap hari lebih cocok . <font color = green>benar-benar</font> charger asus . malah charger ori xiaomi nya tidak <font color = green>afiat</font></td>\n",
       "    </tr>\n",
       "    <tr>\n",
       "      <th>13</th>\n",
       "      <td>dulu aku sempat pengin ganti handphone juga . pertimbangan ku itu oppo f5 , vivo v7 , sama xiaomi mi a1 . mereka bertiga dari spesifikasi dan harga mirip mirip . tapi terus aku eliminasi xiaomi mi a1 , karena dia slot nya hybrid . aku tidak <font color = red>suka</font> .</td>\n",
       "      <td>dulu aku sempat pengin ganti handphone juga . pertimbangan ku itu oppo f5 , vivo v7 , sama xiaomi mi a1 . mereka bertiga dari spesifikasi dan harga mirip mirip . tapi terus aku eliminasi xiaomi mi a1 , karena dia slot nya hybrid . aku tidak <font color = green>mau</font> .</td>\n",
       "    </tr>\n",
       "    <tr>\n",
       "      <th>14</th>\n",
       "      <td>kecewa banget sama id pusat servis pi . kan kita spent <font color = red>waktu</font> untuk ke sini , tidak dikasih solusi . masa harus bolak balik .</td>\n",
       "      <td>kecewa banget sama id pusat servis pi . kan kita spent <font color = green>berjam-jam</font> untuk ke sini , tidak dikasih solusi . masa harus bolak balik .</td>\n",
       "    </tr>\n",
       "    <tr>\n",
       "      <th>15</th>\n",
       "      <td>sebagai indomie goreng mania , saya merasa kecewa kalau mendapati ternyata bumbu jebol di dalam kemasan , kudu bagaimana nek ngene ini ? gaduh . tidak profesional <font color = red>banget</font> .</td>\n",
       "      <td>sebagai indomie goreng mania , saya merasa kecewa kalau mendapati ternyata bumbu jebol di dalam kemasan , kudu bagaimana nek ngene ini ? gaduh . tidak profesional <font color = gray>amat</font> .</td>\n",
       "    </tr>\n",
       "    <tr>\n",
       "      <th>16</th>\n",
       "      <td>kecewa dengan kualitas barang dari depan kantor , chitato expired masih dijual untung aku masih <font color = red>baik</font> . tadinya ingin lapor .</td>\n",
       "      <td>kecewa dengan kualitas barang dari depan kantor , chitato expired masih dijual untung aku masih <font color = gray>afdal</font> . tadinya ingin lapor .</td>\n",
       "    </tr>\n",
       "    <tr>\n",
       "      <th>17</th>\n",
       "      <td>kecewa berat . baru tahu pop mie goreng sudah discontinue ya ? why ???!!!! padahal itu <font color = red>enak</font> <font color = red>banget</font> , terbaik .</td>\n",
       "      <td>kecewa berat . baru tahu pop mie goreng sudah discontinue ya ? why ???!!!! padahal itu <font color = gray>afiat</font> <font color = gray>amat</font> , terbaik .</td>\n",
       "    </tr>\n",
       "    <tr>\n",
       "      <th>18</th>\n",
       "      <td>gimana ya antara kecewa atau sekadar deh sama r di indofood , karena pas rendang keluar itu heboh mampus <font color = red>enak</font> nya enggak ketolongan . new varian noods din triliun capture dat magic .</td>\n",
       "      <td>gimana ya antara kecewa atau sekadar deh sama r di indofood , karena pas rendang keluar itu heboh mampus <font color = green>afiat</font> nya enggak ketolongan . new varian noods din triliun capture dat magic .</td>\n",
       "    </tr>\n",
       "    <tr>\n",
       "      <th>19</th>\n",
       "      <td>sedang proses penukaran produk karena awam pertama kali urusan dengan blibli . maka pt bca tbk menyampaikan catatan ini serius . sangat kecewa keberatan karena tidak ada itikad <font color = red>baik</font> .</td>\n",
       "      <td>sedang proses penukaran produk karena awam pertama kali urusan dengan blibli . maka pt bca tbk menyampaikan catatan ini serius . sangat kecewa keberatan karena tidak ada itikad <font color = green>afdal</font> .</td>\n",
       "    </tr>\n",
       "    <tr>\n",
       "      <th>20</th>\n",
       "      <td>apl ini sangat membantu <font color = green>sekali</font> dengan memberikan kemudahan dalam pesan tiket to bepergian ke mana pun , sehingga saya tidak harus keluar lagi to mmbli tiket , semoga aplikasi ini selalu lncar ya setiap x melakukan pemesanan .</td>\n",
       "      <td>apl ini sangat membantu <font color = red>cukup</font> dengan memberikan kemudahan dalam pesan tiket to bepergian ke mana pun , sehingga saya tidak harus keluar lagi to mmbli tiket , semoga aplikasi ini selalu lncar ya setiap x melakukan pemesanan .</td>\n",
       "    </tr>\n",
       "    <tr>\n",
       "      <th>21</th>\n",
       "      <td>alhamdulillahirrabil allamin , menggunakan aplikasi ini mudah . paling suka adalah penukaran poin sebagai pembayaran tiket bisa dilakukan dengan <font color = green>mudah</font> , simpel dan terpercaya .</td>\n",
       "      <td>alhamdulillahirrabil allamin , menggunakan aplikasi ini mudah . paling suka adalah penukaran poin sebagai pembayaran tiket bisa dilakukan dengan <font color = red>cocok</font> , simpel dan terpercaya .</td>\n",
       "    </tr>\n",
       "    <tr>\n",
       "      <th>22</th>\n",
       "      <td>menyenangkan menggunakan aplikasi ini . selain sangat <font color = green>lengkap</font> , aplikasi ini juga sangat rinci . yang paling menyenangkan adalah banyak promo nya .</td>\n",
       "      <td>menyenangkan menggunakan aplikasi ini . selain sangat <font color = red>sedia</font> , aplikasi ini juga sangat rinci . yang paling menyenangkan adalah banyak promo nya .</td>\n",
       "    </tr>\n",
       "    <tr>\n",
       "      <th>23</th>\n",
       "      <td>melahirkan di rs hermina jatinegara sangat direkomendasikan . fasilitas <font color = green>lengkap</font> , seperti fetotermal , perina , nicu , klinik tumbuh kembang , senam hamil , dan pmo . selain itu , hermina juga sangat pro asi dan imd . ditambah lagi semua kamar itu rooming in dengan bayi nya .</td>\n",
       "      <td>melahirkan di rs hermina jatinegara sangat direkomendasikan . fasilitas <font color = red>sedia</font> , seperti fetotermal , perina , nicu , klinik tumbuh kembang , senam hamil , dan pmo . selain itu , hermina juga sangat pro asi dan imd . ditambah lagi semua kamar itu rooming in dengan bayi nya .</td>\n",
       "    </tr>\n",
       "    <tr>\n",
       "      <th>24</th>\n",
       "      <td>kalau regis di rs hermina , banyak keuntungan yang didapat pasien . keuntungan nya antara lain kemudahan saat hari h melahirkan . selain itu , <font color = green>banyak</font> juga gratisan nya , seperti gratis senam hamil , gratis kursus prenatal , gratis senam nifas , gratis kursus pijat bayi , dan masih <font color = green>banyak</font> lagi . asik deh pokok nya .</td>\n",
       "      <td>kalau regis di rs hermina , banyak keuntungan yang didapat pasien . keuntungan nya antara lain kemudahan saat hari h melahirkan . selain itu , <font color = red>bagus</font> juga gratisan nya , seperti gratis senam hamil , gratis kursus prenatal , gratis senam nifas , gratis kursus pijat bayi , dan masih <font color = red>selalu</font> lagi . asik deh pokok nya .</td>\n",
       "    </tr>\n",
       "    <tr>\n",
       "      <th>25</th>\n",
       "      <td>asik banget pakai traveloka , diskon hotel sampai satu jutaan ! kita bisa langsung cek promo kemerdekaan . banyak harga <font color = green>spesial</font> hotel untuk berbagai hotel di dalam negeri . seneng deh .</td>\n",
       "      <td>asik banget pakai traveloka , diskon hotel sampai satu jutaan ! kita bisa langsung cek promo kemerdekaan . banyak harga <font color = red>khas</font> hotel untuk berbagai hotel di dalam negeri . seneng deh .</td>\n",
       "    </tr>\n",
       "    <tr>\n",
       "      <th>26</th>\n",
       "      <td>kalau belanja di blibli.com tidak usah ragu . pertama , kita bisa leluasa <font color = green>memilih</font> produk tanpa takut privasi kita terganggu . selain itu , kita juga dapat fasilitas <font color = green>pengiriman</font> yang cepat dan gratis . bisa sambil sadar emat uang dan tenaga .</td>\n",
       "      <td>kalau belanja di blibli.com tidak usah ragu . pertama , kita bisa leluasa <font color = red>makan</font> produk tanpa takut privasi kita terganggu . selain itu , kita juga dapat fasilitas <font color = red>tempat</font> yang cepat dan gratis . bisa sambil sadar emat uang dan tenaga .</td>\n",
       "    </tr>\n",
       "    <tr>\n",
       "      <th>27</th>\n",
       "      <td>saya dukung ahok itu tidak ada hubungan nya dengan etnis dia atau agama ahok . bahkan saya tak tahu agama dia apa . saya dukung ahok karena saya suka fenomena baru dalam pemerintahan yang inovatif bersih dan <font color = green>banyak</font> terobosan terobosan yang ia kerjakan dalam membangun pemerintahan .</td>\n",
       "      <td>saya dukung ahok itu tidak ada hubungan nya dengan etnis dia atau agama ahok . bahkan saya tak tahu agama dia apa . saya dukung ahok karena saya suka fenomena baru dalam pemerintahan yang inovatif bersih dan <font color = red>bagus</font> terobosan terobosan yang ia kerjakan dalam membangun pemerintahan .</td>\n",
       "    </tr>\n",
       "    <tr>\n",
       "      <th>28</th>\n",
       "      <td>suka banget sama siti nurhaliza . suara nya , wajah nya , attitude nya , <font color = green>sempurna</font> ! kayak nya cuma dia penyanyi yang tidak ada haters nya . paling suka dulu pas dia rilis album transkripsi , lupa tahun berapa , lagu-lagu nya semua jadi favorit ku . semoga bisa duet sama di dalam album !</td>\n",
       "      <td>suka banget sama siti nurhaliza . suara nya , wajah nya , attitude nya , <font color = red>bagus</font> ! kayak nya cuma dia penyanyi yang tidak ada haters nya . paling suka dulu pas dia rilis album transkripsi , lupa tahun berapa , lagu-lagu nya semua jadi favorit ku . semoga bisa duet sama di dalam album !</td>\n",
       "    </tr>\n",
       "    <tr>\n",
       "      <th>29</th>\n",
       "      <td><font color = green>kata</font> dosen ku budaya korea itu kalau ada orang yang sudah baik sama mereka walaupun cuma <font color = green>sekali</font> , mereka bakal balas kebaikan itu lebih banyak . maka dari itu mereka kalau memberi itu suka tidak muluk-muluk . seneng deh sama mereka .</td>\n",
       "      <td><font color = red>tambah</font> dosen ku budaya korea itu kalau ada orang yang sudah baik sama mereka walaupun cuma <font color = red>selalu</font> , mereka bakal balas kebaikan itu lebih banyak . maka dari itu mereka kalau memberi itu suka tidak muluk-muluk . seneng deh sama mereka .</td>\n",
       "    </tr>\n",
       "    <tr>\n",
       "      <th>30</th>\n",
       "      <td>foto aku cuma modal kamera xiaomi : tetapi tetap <font color = green>suka</font> !</td>\n",
       "      <td>foto aku cuma modal kamera xiaomi : tetapi tetap <font color = gray>bagai</font> !</td>\n",
       "    </tr>\n",
       "    <tr>\n",
       "      <th>31</th>\n",
       "      <td>xiaomi . karena gue <font color = green>pakai</font> xiaomi sekarang , sebelumnya oppo f1 . lebih <font color = green>suka</font> xiaomi <font color = green>saja</font> , baterai nya <font color = green>kuat</font> . gue puas banget sih dengan xiaomi .</td>\n",
       "      <td>xiaomi . karena gue <font color = red>makan</font> xiaomi sekarang , sebelumnya oppo f1 . lebih <font color = red>bagai</font> xiaomi <font color = red>memang</font> , baterai nya <font color = red>ramai</font> . gue puas banget sih dengan xiaomi .</td>\n",
       "    </tr>\n",
       "    <tr>\n",
       "      <th>32</th>\n",
       "      <td>yang paling saya suka dari adalah . trully open source , sampai disediakan forum <font color = green>khusus</font> . itu bikin nyaman banget , sih .</td>\n",
       "      <td>yang paling saya suka dari adalah . trully open source , sampai disediakan forum <font color = red>khas</font> . itu bikin nyaman banget , sih .</td>\n",
       "    </tr>\n",
       "    <tr>\n",
       "      <th>33</th>\n",
       "      <td>agak nya xiaomi tidak main-main <font color = green>mau</font> masuk pasar ponsel global . mantap ! saya selalu suka miui mereka : d</td>\n",
       "      <td>agak nya xiaomi tidak main-main <font color = red>makan</font> masuk pasar ponsel global . mantap ! saya selalu suka miui mereka : d</td>\n",
       "    </tr>\n",
       "    <tr>\n",
       "      <th>34</th>\n",
       "      <td><font color = green>terima</font> kasih bang <font color = green>atas</font> apresiasi nya . semoga pak cepat menemui wakil kami korban phk sepihak freeport . bila perlu pak presiden agar masalah kami terselesaikan .</td>\n",
       "      <td><font color = red>makan</font> kasih bang <font color = red>besar</font> apresiasi nya . semoga pak cepat menemui wakil kami korban phk sepihak freeport . bila perlu pak presiden agar masalah kami terselesaikan .</td>\n",
       "    </tr>\n",
       "    <tr>\n",
       "      <th>35</th>\n",
       "      <td>terima kasih kepada anies baswedan dan diego uno atas komitmen nya untuk tidak meninggalkan <font color = green>jabatan</font> gubernur dan wakil gubernur selama 5 tahun . saya bangga memilih kalian .</td>\n",
       "      <td>terima kasih kepada anies baswedan dan diego uno atas komitmen nya untuk tidak meninggalkan <font color = red>tempat</font> gubernur dan wakil gubernur selama 5 tahun . saya bangga memilih kalian .</td>\n",
       "    </tr>\n",
       "    <tr>\n",
       "      <th>36</th>\n",
       "      <td>terima kasih pak anies . sukses untuk anda . baru <font color = green>kali</font> ini <font color = green>lihat</font> trotoar jakarta yang lebar nya melebihi <font color = green>lapangan</font> badminton . keren pak .</td>\n",
       "      <td>terima kasih pak anies . sukses untuk anda . baru <font color = red>aliran</font> ini <font color = red>berjumpa</font> trotoar jakarta yang lebar nya melebihi <font color = red>tempat</font> badminton . keren pak .</td>\n",
       "    </tr>\n",
       "    <tr>\n",
       "      <th>37</th>\n",
       "      <td>terima kasih untuk buah karya mu di jakarta yang <font color = green>jadi</font> sejuk santun bersama pak sandi juga pak anies</td>\n",
       "      <td>terima kasih untuk buah karya mu di jakarta yang <font color = red>makan</font> sejuk santun bersama pak sandi juga pak anies</td>\n",
       "    </tr>\n",
       "    <tr>\n",
       "      <th>38</th>\n",
       "      <td>sebenarnya lebih suka kari ayam sih kak , hehehe . tapi kalau label nya sudah indomie , apa saja masuk kok ke perut ku . karena aku penggemar <font color = green>berat</font> indomie .</td>\n",
       "      <td>sebenarnya lebih suka kari ayam sih kak , hehehe . tapi kalau label nya sudah indomie , apa saja masuk kok ke perut ku . karena aku penggemar <font color = red>baik</font> indomie .</td>\n",
       "    </tr>\n",
       "    <tr>\n",
       "      <th>39</th>\n",
       "      <td>iya enak banget soal nya ; iya dong indomie mah teh terbaik . iya , lalu aku juga tidak suka <font color = green>orang</font> yang padahal jelas-jelas dia salah dan harus nya minta maaf , tapi adem ayem saja sedangkan aku nya sudah menderita .</td>\n",
       "      <td>iya enak banget soal nya ; iya dong indomie mah teh terbaik . iya , lalu aku juga tidak suka <font color = red>umat</font> yang padahal jelas-jelas dia salah dan harus nya minta maaf , tapi adem ayem saja sedangkan aku nya sudah menderita .</td>\n",
       "    </tr>\n",
       "    <tr>\n",
       "      <th>40</th>\n",
       "      <td>yang terhormat , saya suka banget sama indomie . <font color = green>mau</font> minta boleh tidak . inovasiin bungkus minyak nya biar gampang dibuka pakai tangan dong supaya tidak bleweran ketika tidak ada gunting . terima kasih .</td>\n",
       "      <td>yang terhormat , saya suka banget sama indomie . <font color = red>makan</font> minta boleh tidak . inovasiin bungkus minyak nya biar gampang dibuka pakai tangan dong supaya tidak bleweran ketika tidak ada gunting . terima kasih .</td>\n",
       "    </tr>\n",
       "    <tr>\n",
       "      <th>41</th>\n",
       "      <td>aku lagi makan mangga potong ! aku suka banget buah mangga , besok kalau kepasar <font color = green>mau</font> beli banyak-banyak lagi ah .</td>\n",
       "      <td>aku lagi makan mangga potong ! aku suka banget buah mangga , besok kalau kepasar <font color = red>bagai</font> beli banyak-banyak lagi ah .</td>\n",
       "    </tr>\n",
       "    <tr>\n",
       "      <th>42</th>\n",
       "      <td>jaemin itu soft banget hati nya . <font color = green>mudah</font> tersentuh begitu , sayang banget sama nctzen juga . inti nya dia itu suka sama yang nama nya kasih sayang . itu kenapa aku suka banget sama dia .</td>\n",
       "      <td>jaemin itu soft banget hati nya . <font color = red>cocok</font> tersentuh begitu , sayang banget sama nctzen juga . inti nya dia itu suka sama yang nama nya kasih sayang . itu kenapa aku suka banget sama dia .</td>\n",
       "    </tr>\n",
       "    <tr>\n",
       "      <th>43</th>\n",
       "      <td>ingin rekomendasi saja buat yang tertarik kuliner bandung , bacang yang ada di jalan naripan sebelah hotel ibis styles ibis yang warna hijau . sungguh , seenak itu ! buka dari jam 5 sore sampai <font color = green>jam</font> 3 dinihari kalau belum sekali . harga 8 ribu . cocok buat ajak orang tersayang nya .</td>\n",
       "      <td>ingin rekomendasi saja buat yang tertarik kuliner bandung , bacang yang ada di jalan naripan sebelah hotel ibis styles ibis yang warna hijau . sungguh , seenak itu ! buka dari jam 5 sore sampai <font color = red>waktu</font> 3 dinihari kalau belum sekali . harga 8 ribu . cocok buat ajak orang tersayang nya .</td>\n",
       "    </tr>\n",
       "    <tr>\n",
       "      <th>44</th>\n",
       "      <td>di jember ada juga makanan nama nya tahu telur bangka . waktu itu belum pernah nyobain makanan yang begituan . eh <font color = green>sekali</font> nya mencoba gue langsung jatuh cinta . top !</td>\n",
       "      <td>di jember ada juga makanan nama nya tahu telur bangka . waktu itu belum pernah nyobain makanan yang begituan . eh <font color = red>selalu</font> nya mencoba gue langsung jatuh cinta . top !</td>\n",
       "    </tr>\n",
       "    <tr>\n",
       "      <th>45</th>\n",
       "      <td>ultra milk ini luv banget ya . <font color = green>sekali</font> nya ngeluarin flavor baru , dua-dua nya favorit ku . tapi ku lebih <font color = green>sayang</font> <font color = green>sama</font> yang karamel sih .</td>\n",
       "      <td>ultra milk ini luv banget ya . <font color = red>selalu</font> nya ngeluarin flavor baru , dua-dua nya favorit ku . tapi ku lebih <font color = red>suka</font> <font color = red>bagai</font> yang karamel sih .</td>\n",
       "    </tr>\n",
       "    <tr>\n",
       "      <th>46</th>\n",
       "      <td>oppo f7 menurut gue mantap banget sih . mulai dari kamera depan nya yang bersih . <font color = green>terus</font> layar nya penuh display pakai gorilla glass 5 . lalu kamera belakang nya <font color = green>naik</font> tingkat banget dari yang sebelumnya . tidak menyesal gue beli ini hp .</td>\n",
       "      <td>oppo f7 menurut gue mantap banget sih . mulai dari kamera depan nya yang bersih . <font color = red>selalu</font> layar nya penuh display pakai gorilla glass 5 . lalu kamera belakang nya <font color = red>tambah</font> tingkat banget dari yang sebelumnya . tidak menyesal gue beli ini hp .</td>\n",
       "    </tr>\n",
       "    <tr>\n",
       "      <th>47</th>\n",
       "      <td>kolam renang di hotel aston bikin tidak <font color = green>mau</font> berenti berenang . nyaman banget . air nya bersih . tempat bilas nya nyaman .</td>\n",
       "      <td>kolam renang di hotel aston bikin tidak <font color = red>makan</font> berenti berenang . nyaman banget . air nya bersih . tempat bilas nya nyaman .</td>\n",
       "    </tr>\n",
       "    <tr>\n",
       "      <th>48</th>\n",
       "      <td>go jek . kalian harus tetap ada , karena kami bukan sekadar butuh angkutan . kami juga butuh pelayanan yang prima seperti biasanya . saya <font color = green>sangat</font> mendukung kalian .</td>\n",
       "      <td>go jek . kalian harus tetap ada , karena kami bukan sekadar butuh angkutan . kami juga butuh pelayanan yang prima seperti biasanya . saya <font color = red>bagus</font> mendukung kalian .</td>\n",
       "    </tr>\n",
       "    <tr>\n",
       "      <th>49</th>\n",
       "      <td>kalau driver go jek tidak pelayanan prima meminta bungkus acar untuk mengambil saos <font color = green>tambahan</font> hilang nafsu makan saya . bravo driver go jek .</td>\n",
       "      <td>kalau driver go jek tidak pelayanan prima meminta bungkus acar untuk mengambil saos <font color = red>tambah</font> hilang nafsu makan saya . bravo driver go jek .</td>\n",
       "    </tr>\n",
       "    <tr>\n",
       "      <th>50</th>\n",
       "      <td><font color = green>banyak</font> alasan saya bisa merasa puas dengan pelayanan go jek . go jek tidak pernah lepas dari tanggung jawab . itu adalah nilai plus yang belum tentu dimiliki oleh perusahaan yang lain .</td>\n",
       "      <td><font color = red>bagus</font> alasan saya bisa merasa puas dengan pelayanan go jek . go jek tidak pernah lepas dari tanggung jawab . itu adalah nilai plus yang belum tentu dimiliki oleh perusahaan yang lain .</td>\n",
       "    </tr>\n",
       "    <tr>\n",
       "      <th>51</th>\n",
       "      <td>keleveru <font color = green>terbaik</font> memang , dari kualitas , kuantitas , pelayanan pun terbaik . tidak <font color = green>salah</font> pilih aku .</td>\n",
       "      <td>keleveru <font color = red>paling</font> memang , dari kualitas , kuantitas , pelayanan pun terbaik . tidak <font color = red>satu</font> pilih aku .</td>\n",
       "    </tr>\n",
       "    <tr>\n",
       "      <th>52</th>\n",
       "      <td>alhamdulillah selama beli di lazada tidak <font color = green>pernah</font> bermasalah . barang-barang nya lebih lucu-lucu . pelayanan juga lebih baik dari yang lain . sudah deh kalau beli apa-apa , aku <font color = green>mau</font> beli di lazada saja .</td>\n",
       "      <td>alhamdulillah selama beli di lazada tidak <font color = red>selalu</font> bermasalah . barang-barang nya lebih lucu-lucu . pelayanan juga lebih baik dari yang lain . sudah deh kalau beli apa-apa , aku <font color = red>bagai</font> beli di lazada saja .</td>\n",
       "    </tr>\n",
       "    <tr>\n",
       "      <th>53</th>\n",
       "      <td>harus belanja di shopee karena pelayanan dari shope itu <font color = green>benar</font> benar memuaskan pelanggan dan takkan mengecewakan .</td>\n",
       "      <td>harus belanja di shopee karena pelayanan dari shope itu <font color = red>cocok</font> benar memuaskan pelanggan dan takkan mengecewakan .</td>\n",
       "    </tr>\n",
       "    <tr>\n",
       "      <th>54</th>\n",
       "      <td>karena hanya shope yang pelayanan nya <font color = green>memuaskan</font> . diskon besar-besaran . barang nya juga pasti nya bermerek . mantap .</td>\n",
       "      <td>karena hanya shope yang pelayanan nya <font color = red>cukup</font> . diskon besar-besaran . barang nya juga pasti nya bermerek . mantap .</td>\n",
       "    </tr>\n",
       "    <tr>\n",
       "      <th>55</th>\n",
       "      <td>kalau ada permasalahan di toko pedia bisa langsung terselesaikan dengan <font color = green>mudah</font> dan cepat . pelayanan nya juga jelas . pusat panggilan yang harus dihubungi juga selalu aktif . memuaskan !</td>\n",
       "      <td>kalau ada permasalahan di toko pedia bisa langsung terselesaikan dengan <font color = red>cocok</font> dan cepat . pelayanan nya juga jelas . pusat panggilan yang harus dihubungi juga selalu aktif . memuaskan !</td>\n",
       "    </tr>\n",
       "    <tr>\n",
       "      <th>56</th>\n",
       "      <td>marketplace pilihan gue ya tokopedia - lah . toko pedia itu selalu berusaha <font color = green>memberi</font> pelayanan terbaik buat semua pengguna nya . kalau ada keluhan juga pasti langsung ditanggapi . salut .</td>\n",
       "      <td>marketplace pilihan gue ya tokopedia - lah . toko pedia itu selalu berusaha <font color = red>tambah</font> pelayanan terbaik buat semua pengguna nya . kalau ada keluhan juga pasti langsung ditanggapi . salut .</td>\n",
       "    </tr>\n",
       "    <tr>\n",
       "      <th>57</th>\n",
       "      <td>senang <font color = green>sekali</font> gue dengan pelayanan komplain di , di saat penjual tidak menggubris , tokopedia memberikan solusi dengan cepat , pasti nya dengan investigasi yang tidak berlarut-larut . ya walau harus berakhir dengan pengembalian dana dana . jadi gue tidak pernah bosan buat belanja di tokopedia .</td>\n",
       "      <td>senang <font color = red>selalu</font> gue dengan pelayanan komplain di , di saat penjual tidak menggubris , tokopedia memberikan solusi dengan cepat , pasti nya dengan investigasi yang tidak berlarut-larut . ya walau harus berakhir dengan pengembalian dana dana . jadi gue tidak pernah bosan buat belanja di tokopedia .</td>\n",
       "    </tr>\n",
       "    <tr>\n",
       "      <th>58</th>\n",
       "      <td>terima kasih atas tanggapan dari 2 keluhan yang saya alami mengenai hilang nya kuota data saya . terima kasih xl karena sudah betul-betul menanggapi dan memberikan solusi yang sangat memuaskan atas keluhan-keluhan saya . saya jadi <font color = green>merasa</font> sangat terbantu</td>\n",
       "      <td>terima kasih atas tanggapan dari 2 keluhan yang saya alami mengenai hilang nya kuota data saya . terima kasih xl karena sudah betul-betul menanggapi dan memberikan solusi yang sangat memuaskan atas keluhan-keluhan saya . saya jadi <font color = red>pandang</font> sangat terbantu</td>\n",
       "    </tr>\n",
       "    <tr>\n",
       "      <th>59</th>\n",
       "      <td>mantap banget ikut kontribusi di google local guides . kemarin dapat voucher diskon traveloka , terus ini dapat tokocash tokopedia lagi . aku <font color = green>senang</font> .</td>\n",
       "      <td>mantap banget ikut kontribusi di google local guides . kemarin dapat voucher diskon traveloka , terus ini dapat tokocash tokopedia lagi . aku <font color = red>enak</font> .</td>\n",
       "    </tr>\n",
       "    <tr>\n",
       "      <th>60</th>\n",
       "      <td>barusan memesan pesawat via traveloka , seperti biasanya . kadang pakai , kadang booking.com , kadang agoda . mana yang paling asyik aja . hidup jadi lebih <font color = green>mudah</font> . mantap traveloka .</td>\n",
       "      <td>barusan memesan pesawat via traveloka , seperti biasanya . kadang pakai , kadang booking.com , kadang agoda . mana yang paling asyik aja . hidup jadi lebih <font color = red>cocok</font> . mantap traveloka .</td>\n",
       "    </tr>\n",
       "    <tr>\n",
       "      <th>61</th>\n",
       "      <td>terima kasih , pelayanan mantap nih . pengembalian dana cair <font color = green>kurang</font> dari 12 <font color = green>jam</font> ! rekomendasi banget traveloka !</td>\n",
       "      <td>terima kasih , pelayanan mantap nih . pengembalian dana cair <font color = red>canggung</font> dari 12 <font color = red>waktu</font> ! rekomendasi banget traveloka !</td>\n",
       "    </tr>\n",
       "    <tr>\n",
       "      <th>62</th>\n",
       "      <td>mantap . terima kasih <font color = green>atas</font> proses pengembalian dana yang cepat . waktu maksimal 90 <font color = green>hari</font> tapi baru satu <font color = green>hari</font> sudah ditransfer . 2 thumbsup</td>\n",
       "      <td>mantap . terima kasih <font color = red>besar</font> proses pengembalian dana yang cepat . waktu maksimal 90 <font color = red>Day</font> tapi baru satu <font color = red>Day</font> sudah ditransfer . 2 thumbsup</td>\n",
       "    </tr>\n",
       "    <tr>\n",
       "      <th>63</th>\n",
       "      <td>makin mantap sekarang , sudah ada menu <font color = green>pesan</font> hotel lengkap dengan rating - nya . semoga makin sering ada promo ya . pasti saya pantengin terus</td>\n",
       "      <td>makin mantap sekarang , sudah ada menu <font color = red>bercakap</font> hotel lengkap dengan rating - nya . semoga makin sering ada promo ya . pasti saya pantengin terus</td>\n",
       "    </tr>\n",
       "    <tr>\n",
       "      <th>64</th>\n",
       "      <td>hari ini iseng <font color = green>mencoba</font> versi beta nya , mantap search engine nya . tidak pusing lagi kalau <font color = green>mau</font> cari tiket murah dan waktu penerbangan : memudahkan aku .</td>\n",
       "      <td>hari ini iseng <font color = red>coba</font> versi beta nya , mantap search engine nya . tidak pusing lagi kalau <font color = red>bagai</font> cari tiket murah dan waktu penerbangan : memudahkan aku .</td>\n",
       "    </tr>\n",
       "    <tr>\n",
       "      <th>65</th>\n",
       "      <td>keren air asia . setelah malaysia , <font color = green>indonesia</font> , thailand , filipina , jepang dan india , bakal <font color = green>ada</font> air asia vietnam dan air asia china .</td>\n",
       "      <td>keren air asia . setelah malaysia , <font color = red>Hindia-Belanda</font> , thailand , filipina , jepang dan india , bakal <font color = red>makan</font> air asia vietnam dan air asia china .</td>\n",
       "    </tr>\n",
       "    <tr>\n",
       "      <th>66</th>\n",
       "      <td>air asia ini keren banget . kasih tiket gratis seumur <font color = green>hidup</font> buat atlit asia pemenang medali di olimpiade rio .</td>\n",
       "      <td>air asia ini keren banget . kasih tiket gratis seumur <font color = red>cocok</font> buat atlit asia pemenang medali di olimpiade rio .</td>\n",
       "    </tr>\n",
       "    <tr>\n",
       "      <th>67</th>\n",
       "      <td>top deh hari ini lion air cengkareng balikpapan on time <font color = green>sekali</font> . mantap harus nya sepeti ini terus . sangat memuaskan .</td>\n",
       "      <td>top deh hari ini lion air cengkareng balikpapan on time <font color = red>selalu</font> . mantap harus nya sepeti ini terus . sangat memuaskan .</td>\n",
       "    </tr>\n",
       "    <tr>\n",
       "      <th>68</th>\n",
       "      <td>mantap bu saya juga akan ikut <font color = green>ke</font> pantai bu . biar laut kita bersih , kalau <font color = green>kotor</font> nanti malah ditenggelamkan dengan bu susi . hehehe .</td>\n",
       "      <td>mantap bu saya juga akan ikut <font color = red>makan</font> pantai bu . biar laut kita bersih , kalau <font color = red>murah</font> nanti malah ditenggelamkan dengan bu susi . hehehe .</td>\n",
       "    </tr>\n",
       "    <tr>\n",
       "      <th>69</th>\n",
       "      <td>antusias para pemilik agen sangat luar <font color = green>biasa</font> dan terima kasih untuk para petinggi jne yang berkenan hadir dalam acara kami , dan terima kasih untuk para agen / mitra jne yang juga turut hadir dalam acara ini . semoga di tahun depan akan semakin mantap</td>\n",
       "      <td>antusias para pemilik agen sangat luar <font color = red>khas</font> dan terima kasih untuk para petinggi jne yang berkenan hadir dalam acara kami , dan terima kasih untuk para agen / mitra jne yang juga turut hadir dalam acara ini . semoga di tahun depan akan semakin mantap</td>\n",
       "    </tr>\n",
       "    <tr>\n",
       "      <th>70</th>\n",
       "      <td>kebiasaan paling keren dari tiki / jne adalah langsung <font color = green>memberi</font> laporan kalau yang menerima paket tidak ada di tempat tanpa telepon dulu ke si penerima . mantap !</td>\n",
       "      <td>kebiasaan paling keren dari tiki / jne adalah langsung <font color = red>tambah</font> laporan kalau yang menerima paket tidak ada di tempat tanpa telepon dulu ke si penerima . mantap !</td>\n",
       "    </tr>\n",
       "    <tr>\n",
       "      <th>71</th>\n",
       "      <td>mantap sekali di hari libur tetap mengantarkan paket ke tujuan ! benar-benar terapkan <font color = green>semangat</font> kemerdekaan id bdo !</td>\n",
       "      <td>mantap sekali di hari libur tetap mengantarkan paket ke tujuan ! benar-benar terapkan <font color = red>suasana</font> kemerdekaan id bdo !</td>\n",
       "    </tr>\n",
       "    <tr>\n",
       "      <th>72</th>\n",
       "      <td>kami bukan dalam kapasitas menentukan <font color = gray>jangan</font> / nyapres , mbk .</td>\n",
       "      <td>kami bukan dalam kapasitas menentukan <font color = red>luar</font> / nyapres , mbk .</td>\n",
       "    </tr>\n",
       "    <tr>\n",
       "      <th>73</th>\n",
       "      <td>di depan sana masih <font color = gray>ada</font> kompetisi foto dengan tema morning feel .</td>\n",
       "      <td>di depan sana masih <font color = red>minum</font> kompetisi foto dengan tema morning feel .</td>\n",
       "    </tr>\n",
       "    <tr>\n",
       "      <th>74</th>\n",
       "      <td>oke . saya akan segera menuju ke <font color = gray>cabang</font> bca terdekat .</td>\n",
       "      <td>oke . saya akan segera menuju ke <font color = red>anak</font> bca terdekat .</td>\n",
       "    </tr>\n",
       "    <tr>\n",
       "      <th>75</th>\n",
       "      <td>hai mas cepy . saya sudah ke bank bca terdekat untuk langsung diproses pergantian kartu , <font color = gray>ya</font></td>\n",
       "      <td>hai mas cepy . saya sudah ke bank bca terdekat untuk langsung diproses pergantian kartu , <font color = green>memang</font></td>\n",
       "    </tr>\n",
       "    <tr>\n",
       "      <th>76</th>\n",
       "      <td>hai , ken . saat ini isi e-money flazz dari bca belum bisa di jenius , ya . kamu bisa menyampaikan saran kamu melalui bagian dari kami di jenius co . create , info lengkap bisa ku njungi : . terima <font color = gray>kasih</font> .</td>\n",
       "      <td>hai , ken . saat ini isi e-money flazz dari bca belum bisa di jenius , ya . kamu bisa menyampaikan saran kamu melalui bagian dari kami di jenius co . create , info lengkap bisa ku njungi : . terima <font color = green>suka</font> .</td>\n",
       "    </tr>\n",
       "    <tr>\n",
       "      <th>77</th>\n",
       "      <td>selamat siang . jika selama 6 bulan tidak terdapat saldo rp . 0 tidak <font color = gray>ada</font> transaksi , maka sudah otomatis closed . namun untuk pengecekan status rekening anda dapat menghubungi bni call 1500046 .</td>\n",
       "      <td>selamat siang . jika selama 6 bulan tidak terdapat saldo rp . 0 tidak <font color = red>minum</font> transaksi , maka sudah otomatis closed . namun untuk pengecekan status rekening anda dapat menghubungi bni call 1500046 .</td>\n",
       "    </tr>\n",
       "    <tr>\n",
       "      <th>78</th>\n",
       "      <td>selamat pagi , untuk <font color = gray>melihat</font> tagihan dapat menghubungi bni call 1500046 , kemudian tekan 0 untuk berbicara dengan bni call officer lalu tekan 2 untuk berbicara dengan bni call officer layanan kartu kredit . nanti petugas kami akan membantu anda .</td>\n",
       "      <td>selamat pagi , untuk <font color = green>lihat</font> tagihan dapat menghubungi bni call 1500046 , kemudian tekan 0 untuk berbicara dengan bni call officer lalu tekan 2 untuk berbicara dengan bni call officer layanan kartu kredit . nanti petugas kami akan membantu anda .</td>\n",
       "    </tr>\n",
       "    <tr>\n",
       "      <th>79</th>\n",
       "      <td>tadi sore saya baru cek email dan sudah transfer kekurangan 30.000 , tapi belum ada balasan lagi . apakah transferan nya sudah <font color = gray>masuk</font> ? atas nama ellena saufika , no. cust 253360 , tf via mbanking bni .</td>\n",
       "      <td>tadi sore saya baru cek email dan sudah transfer kekurangan 30.000 , tapi belum ada balasan lagi . apakah transferan nya sudah <font color = green>bersama-sama</font> ? atas nama ellena saufika , no. cust 253360 , tf via mbanking bni .</td>\n",
       "    </tr>\n",
       "    <tr>\n",
       "      <th>80</th>\n",
       "      <td>jakarta , 29 november 2017 di hotel ibis kramat 100 jakarta pusat , balai ksda jakarta <font color = gray>mengadakan</font> bimtek web - based integrated system peredaran tsl secara online e - permit untuk mengenalkan sebuah aplikasi pelayanan pemanfaatan tsl yang dinamai si pinter sistem perijinan terpadu .</td>\n",
       "      <td>jakarta , 29 november 2017 di hotel ibis kramat 100 jakarta pusat , balai ksda jakarta <font color = red>minum</font> bimtek web - based integrated system peredaran tsl secara online e - permit untuk mengenalkan sebuah aplikasi pelayanan pemanfaatan tsl yang dinamai si pinter sistem perijinan terpadu .</td>\n",
       "    </tr>\n",
       "    <tr>\n",
       "      <th>81</th>\n",
       "      <td>kami <font color = gray>ingin</font> mengumumkan bahwa mal bom kini hadir di shopee mal !</td>\n",
       "      <td>kami <font color = green>suka</font> mengumumkan bahwa mal bom kini hadir di shopee mal !</td>\n",
       "    </tr>\n",
       "    <tr>\n",
       "      <th>82</th>\n",
       "      <td>informasi tambahan bahwa untuk pembayaran rp 2 juta yang bapak lakukan tidak menjadikan limit menjadi rp 7 juta , melainkan pembayaran tersebut akan mengurangi tagihan yang sedang berjalan . jika kartu kredit dalam keadaan <font color = gray>berlebihan</font> limit maka akan dikenakan biaya rp 40 ribu .</td>\n",
       "      <td>informasi tambahan bahwa untuk pembayaran rp 2 juta yang bapak lakukan tidak menjadikan limit menjadi rp 7 juta , melainkan pembayaran tersebut akan mengurangi tagihan yang sedang berjalan . jika kartu kredit dalam keadaan <font color = green>mahal</font> limit maka akan dikenakan biaya rp 40 ribu .</td>\n",
       "    </tr>\n",
       "    <tr>\n",
       "      <th>83</th>\n",
       "      <td>saat kunjungan ke hotel , menag <font color = green>banyak</font> menerima apresiasi atas layanan haji tahun ini .</td>\n",
       "      <td>saat kunjungan ke hotel , menag <font color = red>bagus</font> menerima apresiasi atas layanan haji tahun ini .</td>\n",
       "    </tr>\n",
       "    <tr>\n",
       "      <th>84</th>\n",
       "      <td>pagi ini pemkab pemalang melalui menyelenggarakan kegiatan launching sistem layanan informasi publik secara online dan rakor ppid di salah <font color = gray>satu</font> hotel di pemalang 10 / 7 / 2018 .</td>\n",
       "      <td>pagi ini pemkab pemalang melalui menyelenggarakan kegiatan launching sistem layanan informasi publik secara online dan rakor ppid di salah <font color = green>carikan</font> hotel di pemalang 10 / 7 / 2018 .</td>\n",
       "    </tr>\n",
       "    <tr>\n",
       "      <th>85</th>\n",
       "      <td>kemnaker ri menyelenggarakan pameran kesempatan <font color = gray>kerja</font> job fair nasional tahun 2018 di balairung hotel bumiwiyata depok , jawa barat tanggal 4 - 5 juli 2018 . job fair ini tidak dipungut biaya / gratis .</td>\n",
       "      <td>kemnaker ri menyelenggarakan pameran kesempatan <font color = red>tempat</font> job fair nasional tahun 2018 di balairung hotel bumiwiyata depok , jawa barat tanggal 4 - 5 juli 2018 . job fair ini tidak dipungut biaya / gratis .</td>\n",
       "    </tr>\n",
       "    <tr>\n",
       "      <th>86</th>\n",
       "      <td>tujuh pemain real madrid akan menyamai rekor paolo maldini dan dani alves yang sampai saat ini masih menyandang predikat raja di piala super eropa . ketujuh pemain yang dimaksud adalah dani carvajal , sergio ramos , marcelo , luka modric , karim benzema , isco , dan toni kroos . di antara tujuh pemain itu , sudah <font color = gray>ada</font> enam pemain yang meraih tiga gelar piala super eropa bersama real madrid , yakni carvajal , ramos , marcelo , modric , benzema , dan isco 2014 , 2016 , 2017 .</td>\n",
       "      <td>tujuh pemain real madrid akan menyamai rekor paolo maldini dan dani alves yang sampai saat ini masih menyandang predikat raja di piala super eropa . ketujuh pemain yang dimaksud adalah dani carvajal , sergio ramos , marcelo , luka modric , karim benzema , isco , dan toni kroos . di antara tujuh pemain itu , sudah <font color = red>minum</font> enam pemain yang meraih tiga gelar piala super eropa bersama real madrid , yakni carvajal , ramos , marcelo , modric , benzema , dan isco 2014 , 2016 , 2017 .</td>\n",
       "    </tr>\n",
       "    <tr>\n",
       "      <th>87</th>\n",
       "      <td>sahabat mido , untuk kenyamanan pemohon paspor dan menghindari <font color = gray>praktik</font> percaloan , direktorat jenderal imigrasi bekerjasama dengan kementerian keuangan melalui bank-bank yang tergabung dalam sistim informasi penerimaan negara bukan pajak online simponi .</td>\n",
       "      <td>sahabat mido , untuk kenyamanan pemohon paspor dan menghindari <font color = green>sekali</font> percaloan , direktorat jenderal imigrasi bekerjasama dengan kementerian keuangan melalui bank-bank yang tergabung dalam sistim informasi penerimaan negara bukan pajak online simponi .</td>\n",
       "    </tr>\n",
       "    <tr>\n",
       "      <th>88</th>\n",
       "      <td><font color = red>selalu</font> tidak suka sama cara dia ngomong , belepotan , dan sok paling mengerti sama masalah di negara ini .</td>\n",
       "      <td><font color = green>biasa</font> tidak suka sama cara dia ngomong , belepotan , dan sok paling mengerti sama masalah di negara ini .</td>\n",
       "    </tr>\n",
       "    <tr>\n",
       "      <th>89</th>\n",
       "      <td>aku kecewa dengan pelayanan hotel yang semalam aku tempati , kamar mandi kotor , pelayan tidak <font color = red>ramah</font> .</td>\n",
       "      <td>aku kecewa dengan pelayanan hotel yang semalam aku tempati , kamar mandi kotor , pelayan tidak <font color = gray>bersemangat</font> .</td>\n",
       "    </tr>\n",
       "    <tr>\n",
       "      <th>90</th>\n",
       "      <td>harga makanan di restoran tadi mahal banget , sudah begitu tidak <font color = red>enak</font> lagi makanan nya .</td>\n",
       "      <td>harga makanan di restoran tadi mahal banget , sudah begitu tidak <font color = green>syahdu</font> lagi makanan nya .</td>\n",
       "    </tr>\n",
       "    <tr>\n",
       "      <th>91</th>\n",
       "      <td>tidak ada <font color = red>enak</font> nya <font color = red>makan</font> di sana , bakso tidak enak , teh manis nya rasanya aneh , mi ayam nya mie nya kelembekan , tidak mau lagi deh ke sana .</td>\n",
       "      <td>tidak ada <font color = green>afiat</font> nya <font color = green>mau</font> di sana , bakso tidak enak , teh manis nya rasanya aneh , mi ayam nya mie nya kelembekan , tidak mau lagi deh ke sana .</td>\n",
       "    </tr>\n",
       "    <tr>\n",
       "      <th>92</th>\n",
       "      <td>gue tidak puas sama pelayanan kerja di <font color = red>tempat</font> kemarin , hak-hak karyawan dibatesin banget .</td>\n",
       "      <td>gue tidak puas sama pelayanan kerja di <font color = green>alun-alun</font> kemarin , hak-hak karyawan dibatesin banget .</td>\n",
       "    </tr>\n",
       "    <tr>\n",
       "      <th>93</th>\n",
       "      <td>entah kenapa gue enggak <font color = red>suka</font> banget sama politisi yang bisa ngemis-ngemis suara rakyat dengan manfaatkan harga diri ulama .</td>\n",
       "      <td>entah kenapa gue enggak <font color = green>mau</font> banget sama politisi yang bisa ngemis-ngemis suara rakyat dengan manfaatkan harga diri ulama .</td>\n",
       "    </tr>\n",
       "    <tr>\n",
       "      <th>94</th>\n",
       "      <td>menyesal gue beli vivo , kamera nya tidak <font color = red>bagus</font> .</td>\n",
       "      <td>menyesal gue beli vivo , kamera nya tidak <font color = green>Berguna</font> .</td>\n",
       "    </tr>\n",
       "    <tr>\n",
       "      <th>95</th>\n",
       "      <td>percuma 2019 ganti presiden , kayak <font color = red>makan</font> buah simalakama . tidak ada untung nya .</td>\n",
       "      <td>percuma 2019 ganti presiden , kayak <font color = green>mau</font> buah simalakama . tidak ada untung nya .</td>\n",
       "    </tr>\n",
       "    <tr>\n",
       "      <th>96</th>\n",
       "      <td>sinyal xl jelek <font color = red>banget</font> di sini .</td>\n",
       "      <td>sinyal xl jelek <font color = green>terlalu</font> di sini .</td>\n",
       "    </tr>\n",
       "    <tr>\n",
       "      <th>97</th>\n",
       "      <td>indosat <font color = red>bagus</font> iklan nya doang , tapi kualitas nya nol .</td>\n",
       "      <td>indosat <font color = green>Berguna</font> iklan nya doang , tapi kualitas nya nol .</td>\n",
       "    </tr>\n",
       "    <tr>\n",
       "      <th>98</th>\n",
       "      <td>sinetron di indonesia mana ada yang <font color = red>bagus</font> .</td>\n",
       "      <td>sinetron di indonesia mana ada yang <font color = green>Berguna</font> .</td>\n",
       "    </tr>\n",
       "    <tr>\n",
       "      <th>99</th>\n",
       "      <td>kamera zenfone <font color = red>selalu</font> jelek kalau dipakai di tempat remang-remang , tidak profesional .</td>\n",
       "      <td>kamera zenfone <font color = green>biasa</font> jelek kalau dipakai di tempat remang-remang , tidak profesional .</td>\n",
       "    </tr>\n",
       "    <tr>\n",
       "      <th>100</th>\n",
       "      <td>sebenarnya kelebihan makan di upnormal itu karena disediakan <font color = green>banyak</font> mainan , nongkrong jadi lebih seru .</td>\n",
       "      <td>sebenarnya kelebihan makan di upnormal itu karena disediakan <font color = red>bagus</font> mainan , nongkrong jadi lebih seru .</td>\n",
       "    </tr>\n",
       "    <tr>\n",
       "      <th>101</th>\n",
       "      <td>gue paling suka <font color = green>sama</font> indomie cabe hijau , terbaik .</td>\n",
       "      <td>gue paling suka <font color = red>bagai</font> indomie cabe hijau , terbaik .</td>\n",
       "    </tr>\n",
       "    <tr>\n",
       "      <th>102</th>\n",
       "      <td>gue bersyukur jokowi bakal <font color = green>jadi</font> presiden selama sepuluh tahun .</td>\n",
       "      <td>gue bersyukur jokowi bakal <font color = red>makan</font> presiden selama sepuluh tahun .</td>\n",
       "    </tr>\n",
       "    <tr>\n",
       "      <th>103</th>\n",
       "      <td><font color = green>senang</font> banget liat sandi maju cawapres , untuk yakin gue bakal milih dia .</td>\n",
       "      <td><font color = red>enak</font> banget liat sandi maju cawapres , untuk yakin gue bakal milih dia .</td>\n",
       "    </tr>\n",
       "    <tr>\n",
       "      <th>104</th>\n",
       "      <td>kalau <font color = green>mau</font> karaoke enak , lu datang saja ke studio karaoke , harga nya juga terjangkau banget .</td>\n",
       "      <td>kalau <font color = red>makan</font> karaoke enak , lu datang saja ke studio karaoke , harga nya juga terjangkau banget .</td>\n",
       "    </tr>\n",
       "    <tr>\n",
       "      <th>105</th>\n",
       "      <td><font color = green>banyak</font> nilai positif yang bisa diambil dari jokowi .</td>\n",
       "      <td><font color = red>bagus</font> nilai positif yang bisa diambil dari jokowi .</td>\n",
       "    </tr>\n",
       "    <tr>\n",
       "      <th>106</th>\n",
       "      <td>gue suka banget matematika dari dulu karena mengasah otak <font color = green>jadi</font> cerdas .</td>\n",
       "      <td>gue suka banget matematika dari dulu karena mengasah otak <font color = red>makan</font> cerdas .</td>\n",
       "    </tr>\n",
       "    <tr>\n",
       "      <th>107</th>\n",
       "      <td>kalau diperhatikan , <font color = green>perkembangan</font> film di indonesia makin berkembang , gue suka itu .</td>\n",
       "      <td>kalau diperhatikan , <font color = red>tambah</font> film di indonesia makin berkembang , gue suka itu .</td>\n",
       "    </tr>\n",
       "    <tr>\n",
       "      <th>108</th>\n",
       "      <td>asli ya gue suka banget sama alur cerita film kafir , <font color = green>sederhana</font> , tapi dapat makna nya .</td>\n",
       "      <td>asli ya gue suka banget sama alur cerita film kafir , <font color = red>lumayan</font> , tapi dapat makna nya .</td>\n",
       "    </tr>\n",
       "    <tr>\n",
       "      <th>109</th>\n",
       "      <td>kangen deh <font color = green>sama</font> prabowo , semoga beliau jadi presiden deh ya dua tahun lagi .</td>\n",
       "      <td>kangen deh <font color = gray>bagai</font> prabowo , semoga beliau jadi presiden deh ya dua tahun lagi .</td>\n",
       "    </tr>\n",
       "    <tr>\n",
       "      <th>110</th>\n",
       "      <td>kalau ingin menghilangkan haus pakai minuman super duper <font color = green>segar</font> , mending beli hydrococo .</td>\n",
       "      <td>kalau ingin menghilangkan haus pakai minuman super duper <font color = red>enak</font> , mending beli hydrococo .</td>\n",
       "    </tr>\n",
       "    <tr>\n",
       "      <th>111</th>\n",
       "      <td>tidak tahu kenapa gue <font color = green>senang</font> banget bisa tinggal di jakarta .</td>\n",
       "      <td>tidak tahu kenapa gue <font color = red>lumayan</font> banget bisa tinggal di jakarta .</td>\n",
       "    </tr>\n",
       "    <tr>\n",
       "      <th>112</th>\n",
       "      <td>menurut gue , bali itu pulau tercantik yang <font color = green>ada</font> di <font color = green>indonesia</font> .</td>\n",
       "      <td>menurut gue , bali itu pulau tercantik yang <font color = red>makan</font> di <font color = red>Hindia-Belanda</font> .</td>\n",
       "    </tr>\n",
       "    <tr>\n",
       "      <th>113</th>\n",
       "      <td>yang gue suka dari <font color = green>indonesia</font> adalah budaya nya yang kental banget .</td>\n",
       "      <td>yang gue suka dari <font color = red>Hindia-Belanda</font> adalah budaya nya yang kental banget .</td>\n",
       "    </tr>\n",
       "    <tr>\n",
       "      <th>114</th>\n",
       "      <td>indonesia itu seperti banget sama seni dan budaya nya , syukurlah gue dilahirkan di indonesia , jadi bisa banyak belajar tentang <font color = green>indah</font> nya perbedaan .</td>\n",
       "      <td>indonesia itu seperti banget sama seni dan budaya nya , syukurlah gue dilahirkan di indonesia , jadi bisa banyak belajar tentang <font color = red>enak</font> nya perbedaan .</td>\n",
       "    </tr>\n",
       "    <tr>\n",
       "      <th>115</th>\n",
       "      <td><font color = green>buat</font> indonesia apa sih yang tidak , gue rela deh <font color = green>kayak</font> pahlawan <font color = green>zaman</font> dulu yang sampai mengorbankan nyawa .</td>\n",
       "      <td><font color = red>sedia</font> indonesia apa sih yang tidak , gue rela deh <font color = red>bagai</font> pahlawan <font color = red>waktu</font> dulu yang sampai mengorbankan nyawa .</td>\n",
       "    </tr>\n",
       "    <tr>\n",
       "      <th>116</th>\n",
       "      <td>sebenarnya nilai di dalam pancasila itu sudah <font color = green>sesuai</font> banget sama cita-cita masyarakat indonesia . pancasila sangat meninggikan kepentingan bersama . karena itu gue sangat cinta dengan pancasila dan indonesia .</td>\n",
       "      <td>sebenarnya nilai di dalam pancasila itu sudah <font color = red>cocok</font> banget sama cita-cita masyarakat indonesia . pancasila sangat meninggikan kepentingan bersama . karena itu gue sangat cinta dengan pancasila dan indonesia .</td>\n",
       "    </tr>\n",
       "    <tr>\n",
       "      <th>117</th>\n",
       "      <td>aku dukung banget kerja <font color = green>sama</font> antara jokowi <font color = green>sama</font> dengan ruf amin , insyaallah indonesia bisa lebih baik ke depan nya kalau sama mereka .</td>\n",
       "      <td>aku dukung banget kerja <font color = red>bagai</font> antara jokowi <font color = red>bagai</font> dengan ruf amin , insyaallah indonesia bisa lebih baik ke depan nya kalau sama mereka .</td>\n",
       "    </tr>\n",
       "    <tr>\n",
       "      <th>118</th>\n",
       "      <td>mouse logitech lucu-lucu desain nya , hampir semuanya gue <font color = green>suka</font> .</td>\n",
       "      <td>mouse logitech lucu-lucu desain nya , hampir semuanya gue <font color = gray>bagai</font> .</td>\n",
       "    </tr>\n",
       "    <tr>\n",
       "      <th>119</th>\n",
       "      <td>salut banget sih sama pemimpin yang selalu bisa melihat poin <font color = green>plus</font> yang ada di diri orang-orang di <font color = green>sekitar</font> nya .</td>\n",
       "      <td>salut banget sih sama pemimpin yang selalu bisa melihat poin <font color = red>tambah</font> yang ada di diri orang-orang di <font color = red>tempat</font> nya .</td>\n",
       "    </tr>\n",
       "    <tr>\n",
       "      <th>120</th>\n",
       "      <td>bangga deh <font color = green>sama</font> jokowi , maju terus , pak .</td>\n",
       "      <td>bangga deh <font color = gray>bagai</font> jokowi , maju terus , pak .</td>\n",
       "    </tr>\n",
       "    <tr>\n",
       "      <th>121</th>\n",
       "      <td>tidak usah ditanya kehebatan jokowi apa , <font color = green>semua</font> juga bisa dilakukan <font color = green>sama</font> bapak presiden terkuat satu itu .</td>\n",
       "      <td>tidak usah ditanya kehebatan jokowi apa , <font color = gray>betul-betul</font> juga bisa dilakukan <font color = gray>bagai</font> bapak presiden terkuat satu itu .</td>\n",
       "    </tr>\n",
       "    <tr>\n",
       "      <th>122</th>\n",
       "      <td><font color = green>banyak</font> ya yang bisa dibanggakan dari seorang habibie , cerdas iya , rendah hati pula .</td>\n",
       "      <td><font color = red>bagus</font> ya yang bisa dibanggakan dari seorang habibie , cerdas iya , rendah hati pula .</td>\n",
       "    </tr>\n",
       "    <tr>\n",
       "      <th>123</th>\n",
       "      <td>salut <font color = green>sama</font> anak its , bisa bikin robot canggih dengan <font color = green>biaya</font> yang tidak berlebihan .</td>\n",
       "      <td>salut <font color = gray>bagai</font> anak its , bisa bikin robot canggih dengan <font color = gray>harga</font> yang tidak berlebihan .</td>\n",
       "    </tr>\n",
       "    <tr>\n",
       "      <th>124</th>\n",
       "      <td>paling suka sama <font color = green>orang</font> yang tidak <font color = green>pernah</font> mengeluh kalau lagi kerja .</td>\n",
       "      <td>paling suka sama <font color = red>ada</font> yang tidak <font color = red>selalu</font> mengeluh kalau lagi kerja .</td>\n",
       "    </tr>\n",
       "    <tr>\n",
       "      <th>125</th>\n",
       "      <td>indomie sih enggak usah ditanya lagi , naik gunung cuma bawa indomie saja sudah cukup buat gue , sudah bisa <font color = green>melengkapi</font> kebahagiaan . indomie mantap .</td>\n",
       "      <td>indomie sih enggak usah ditanya lagi , naik gunung cuma bawa indomie saja sudah cukup buat gue , sudah bisa <font color = red>sedia</font> kebahagiaan . indomie mantap .</td>\n",
       "    </tr>\n",
       "    <tr>\n",
       "      <th>126</th>\n",
       "      <td>samsung galaxy a6 memang asik banget sih , <font color = green>setimpal</font> banget beli itu hp .</td>\n",
       "      <td>samsung galaxy a6 memang asik banget sih , <font color = red>cocok</font> banget beli itu hp .</td>\n",
       "    </tr>\n",
       "    <tr>\n",
       "      <th>127</th>\n",
       "      <td>bangga dan salut <font color = green>buat</font> dokter yang rela tidak dibayar buat turun jangankan korban gempa di lombok .</td>\n",
       "      <td>bangga dan salut <font color = gray>sedia</font> dokter yang rela tidak dibayar buat turun jangankan korban gempa di lombok .</td>\n",
       "    </tr>\n",
       "    <tr>\n",
       "      <th>128</th>\n",
       "      <td>sandy shandoro tidak <font color = green>pernah</font> gagal bikin gue merinding , dewa banget suara nya .</td>\n",
       "      <td>sandy shandoro tidak <font color = red>selalu</font> gagal bikin gue merinding , dewa banget suara nya .</td>\n",
       "    </tr>\n",
       "    <tr>\n",
       "      <th>129</th>\n",
       "      <td>salut <font color = green>sama</font> rk , gue yakin jawa barat bakal juara .</td>\n",
       "      <td>salut <font color = gray>bagai</font> rk , gue yakin jawa barat bakal juara .</td>\n",
       "    </tr>\n",
       "    <tr>\n",
       "      <th>130</th>\n",
       "      <td>di antara penyanyi rock yang <font color = green>ada</font> , gue paling suka bryan adams .</td>\n",
       "      <td>di antara penyanyi rock yang <font color = red>minum</font> , gue paling suka bryan adams .</td>\n",
       "    </tr>\n",
       "    <tr>\n",
       "      <th>131</th>\n",
       "      <td>gue cuma <font color = green>mau</font> dipimpin sama jokowi .</td>\n",
       "      <td>gue cuma <font color = gray>bagai</font> dipimpin sama jokowi .</td>\n",
       "    </tr>\n",
       "    <tr>\n",
       "      <th>132</th>\n",
       "      <td>kalau <font color = green>mau</font> jalan-jalan melihat pulau paling <font color = green>cantik</font> , datang saja ke pulau saumlaki yang ada di maluku .</td>\n",
       "      <td>kalau <font color = red>bagai</font> jalan-jalan melihat pulau paling <font color = red>enak</font> , datang saja ke pulau saumlaki yang ada di maluku .</td>\n",
       "    </tr>\n",
       "    <tr>\n",
       "      <th>133</th>\n",
       "      <td>aku bangga <font color = green>jadi</font> <font color = green>anak</font> <font color = green>indonesia</font> .</td>\n",
       "      <td>aku bangga <font color = red>makan</font> <font color = red>amoi</font> <font color = red>Hindia-Belanda</font> .</td>\n",
       "    </tr>\n",
       "    <tr>\n",
       "      <th>134</th>\n",
       "      <td>salut deh <font color = green>sama</font> keberanian bu susi .</td>\n",
       "      <td>salut deh <font color = gray>bagai</font> keberanian bu susi .</td>\n",
       "    </tr>\n",
       "    <tr>\n",
       "      <th>135</th>\n",
       "      <td>panutan banget bu sri mulyani , otak nya cerdas luar <font color = green>biasa</font> .</td>\n",
       "      <td>panutan banget bu sri mulyani , otak nya cerdas luar <font color = red>khas</font> .</td>\n",
       "    </tr>\n",
       "    <tr>\n",
       "      <th>136</th>\n",
       "      <td>suka banget sama desain toko pedia , bikin mata <font color = green>segar</font> .</td>\n",
       "      <td>suka banget sama desain toko pedia , bikin mata <font color = red>enak</font> .</td>\n",
       "    </tr>\n",
       "    <tr>\n",
       "      <th>137</th>\n",
       "      <td>gue <font color = green>senang</font> banget belanja di shopee , banyak promo nya .</td>\n",
       "      <td>gue <font color = red>enak</font> banget belanja di shopee , banyak promo nya .</td>\n",
       "    </tr>\n",
       "    <tr>\n",
       "      <th>138</th>\n",
       "      <td>fasilitas di hotel santika <font color = green>memang</font> terbaik .</td>\n",
       "      <td>fasilitas di hotel santika <font color = gray>bahwasanya</font> terbaik .</td>\n",
       "    </tr>\n",
       "    <tr>\n",
       "      <th>139</th>\n",
       "      <td>aku seneng <font color = green>banget</font> <font color = green>sama</font> desain interior cgv , beda <font color = green>sama</font> bioskop-bioskop lain .</td>\n",
       "      <td>aku seneng <font color = gray>amat</font> <font color = gray>bagai</font> desain interior cgv , beda <font color = gray>bagai</font> bioskop-bioskop lain .</td>\n",
       "    </tr>\n",
       "    <tr>\n",
       "      <th>140</th>\n",
       "      <td>keren pemain-pemain bola di <font color = green>indonesia</font> makin punya skill .</td>\n",
       "      <td>keren pemain-pemain bola di <font color = gray>Hindia-Belanda</font> makin punya skill .</td>\n",
       "    </tr>\n",
       "    <tr>\n",
       "      <th>141</th>\n",
       "      <td>hotel bintang 5 yang ada di bogor salah <font color = gray>satu</font> nya hotel salak .</td>\n",
       "      <td>hotel bintang 5 yang ada di bogor salah <font color = green>carikan</font> nya hotel salak .</td>\n",
       "    </tr>\n",
       "    <tr>\n",
       "      <th>142</th>\n",
       "      <td>di bogor itu ada lima mal yang bisa didatangkan , salah <font color = gray>satu</font> nya botani square .</td>\n",
       "      <td>di bogor itu ada lima mal yang bisa didatangkan , salah <font color = green>carikan</font> nya botani square .</td>\n",
       "    </tr>\n",
       "    <tr>\n",
       "      <th>143</th>\n",
       "      <td>sekarang transmart buka <font color = gray>juga</font> di bogor .</td>\n",
       "      <td>sekarang transmart buka <font color = green>terlalu</font> di bogor .</td>\n",
       "    </tr>\n",
       "    <tr>\n",
       "      <th>144</th>\n",
       "      <td>wortel <font color = gray>mengandung</font> vitamin a yang bisa jaga kesehatan mata .</td>\n",
       "      <td>wortel <font color = red>makan</font> vitamin a yang bisa jaga kesehatan mata .</td>\n",
       "    </tr>\n",
       "    <tr>\n",
       "      <th>145</th>\n",
       "      <td>sekarang lagi <font color = gray>musim</font> durian .</td>\n",
       "      <td>sekarang lagi <font color = green>waktu</font> durian .</td>\n",
       "    </tr>\n",
       "    <tr>\n",
       "      <th>146</th>\n",
       "      <td>tukang bubur <font color = gray>naik</font> haji sudah stop produksi .</td>\n",
       "      <td>tukang bubur <font color = green>jadi</font> haji sudah stop produksi .</td>\n",
       "    </tr>\n",
       "    <tr>\n",
       "      <th>147</th>\n",
       "      <td>bikin puisi bisa bikin hati yang tadinya <font color = green>banyak</font> masalah jadi lebih tenang .</td>\n",
       "      <td>bikin puisi bisa bikin hati yang tadinya <font color = red>bagus</font> masalah jadi lebih tenang .</td>\n",
       "    </tr>\n",
       "    <tr>\n",
       "      <th>148</th>\n",
       "      <td>kalau <font color = green>mau</font> beli obat-obatan datang saja ke kimia farma karena di sana <font color = green>lengkap</font> dan harga terjangkau .</td>\n",
       "      <td>kalau <font color = gray>bagai</font> beli obat-obatan datang saja ke kimia farma karena di sana <font color = gray>sedia</font> dan harga terjangkau .</td>\n",
       "    </tr>\n",
       "    <tr>\n",
       "      <th>149</th>\n",
       "      <td><font color = green>semua</font> perempuan suka dikasih bunga atau puisi <font color = green>sama</font> pacar nya .</td>\n",
       "      <td><font color = red>betul-betul</font> perempuan suka dikasih bunga atau puisi <font color = red>bagai</font> pacar nya .</td>\n",
       "    </tr>\n",
       "    <tr>\n",
       "      <th>150</th>\n",
       "      <td>sandiaga uno salah <font color = gray>satu</font> orang terkaya di indonesia .</td>\n",
       "      <td>sandiaga uno salah <font color = green>salah</font> orang terkaya di indonesia .</td>\n",
       "    </tr>\n",
       "    <tr>\n",
       "      <th>151</th>\n",
       "      <td>indonesia punya <font color = green>banyak</font> banget suku yang beragam budaya nya dan itu mencerminkan kalau negara kita sangat kaya .</td>\n",
       "      <td>indonesia punya <font color = red>bagus</font> banget suku yang beragam budaya nya dan itu mencerminkan kalau negara kita sangat kaya .</td>\n",
       "    </tr>\n",
       "    <tr>\n",
       "      <th>152</th>\n",
       "      <td><font color = green>melihat</font> warna hijau bisa bikin mata <font color = green>jadi</font> lebih santai .</td>\n",
       "      <td><font color = red>makan</font> warna hijau bisa bikin mata <font color = red>makan</font> lebih santai .</td>\n",
       "    </tr>\n",
       "  </tbody>\n",
       "</table>"
      ],
      "text/plain": [
       "<IPython.core.display.HTML object>"
      ]
     },
     "metadata": {},
     "output_type": "display_data"
    }
   ],
   "source": [
    "import pandas as pd\n",
    "from textattack.loggers import CSVLogger  # tracks a dataframe for us.\n",
    "from textattack.attack_results import SuccessfulAttackResult\n",
    "\n",
    "\n",
    "pd.options.display.max_colwidth = (\n",
    "    480  # increase colum width so we can actually read the examples\n",
    ")\n",
    "\n",
    "logger = CSVLogger(color_method=\"html\")\n",
    "\n",
    "for result in attack_results:\n",
    "    if isinstance(result, SuccessfulAttackResult):\n",
    "        logger.log_attack_result(result)\n",
    "\n",
    "from IPython.core.display import display, HTML\n",
    "\n",
    "results = pd.DataFrame.from_records(logger.row_list)\n",
    "display(HTML(results[[\"original_text\", \"perturbed_text\"]].to_html(escape=False)))"
   ]
  },
  {
   "cell_type": "code",
   "execution_count": null,
   "metadata": {},
   "outputs": [],
   "source": []
  }
 ],
 "metadata": {
  "kernelspec": {
   "display_name": "Python 3",
   "language": "python",
   "name": "python3"
  },
  "language_info": {
   "codemirror_mode": {
    "name": "ipython",
    "version": 3
   },
   "file_extension": ".py",
   "mimetype": "text/x-python",
   "name": "python",
   "nbconvert_exporter": "python",
   "pygments_lexer": "ipython3",
   "version": "3.10.11"
  }
 },
 "nbformat": 4,
 "nbformat_minor": 2
}
