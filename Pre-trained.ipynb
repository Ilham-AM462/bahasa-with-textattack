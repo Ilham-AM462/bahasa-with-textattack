{
 "cells": [
  {
   "cell_type": "code",
   "execution_count": 3,
   "metadata": {},
   "outputs": [],
   "source": [
    "import numpy as np\n",
    "import pandas as pd\n",
    "import re\n",
    "from sklearn.preprocessing import LabelEncoder\n",
    "\n",
    "from Sastrawi.Stemmer.StemmerFactory import StemmerFactory\n",
    "from nltk.tokenize import word_tokenize\n",
    "import nltk\n",
    "from nltk.corpus import wordnet\n",
    "\n",
    "import torch\n",
    "from tqdm.notebook import tqdm\n",
    "from transformers import BertTokenizer\n",
    "from torch.utils.data import TensorDataset\n",
    "from transformers import BertForSequenceClassification\n",
    "from torch.utils.data import DataLoader, RandomSampler\n",
    "from transformers import AdamW, get_linear_schedule_with_warmup\n",
    "from sklearn.metrics import f1_score\n",
    "\n",
    "import textattack\n",
    "from textattack.transformations.word_swaps import WordSwap\n",
    "from textattack import AttackArgs\n",
    "from textattack.datasets import Dataset\n",
    "from textattack import Attacker\n",
    "from textattack import Attack\n",
    "from textattack.constraints.pre_transformation import (\n",
    "    RepeatModification,\n",
    "    StopwordModification,\n",
    ")\n",
    "from textattack.goal_functions import UntargetedClassification\n",
    "from textattack.search_methods import GreedyWordSwapWIR\n",
    "from textattack.attack_recipes import AttackRecipe\n",
    "from textattack.datasets import HuggingFaceDataset\n",
    "from textattack.models.wrappers import HuggingFaceModelWrapper"
   ]
  },
  {
   "cell_type": "code",
   "execution_count": 4,
   "metadata": {},
   "outputs": [],
   "source": [
    "# Fungsi untuk import dataset\n",
    "def load_data(dataset_split=\"train\"):\n",
    "    df = pd.read_csv(f'LabelEncoded_{dataset_split}_data.csv')\n",
    "    # Remove non-alphanumeric characters\n",
    "    df[\"text\"] = df[\"text\"].apply(lambda x: re.sub(\"[^a-zA-Z]\", \" \", str(x)))\n",
    "    df['text'] = df['text'].apply(lambda x: re.sub('  +', ' ', str(x)))\n",
    "    df['text'] = df['text'].apply(lambda x: re.sub('\\n', ' ', str(x)))\n",
    "    df['text'] = df['text'].apply(lambda x: re.sub('((www\\.[^\\s]+)|(https?://[^\\s]+)|(http?://[^\\s]+))', '', str(x)))\n",
    "    df[\"text\"] = df[\"text\"].apply(lambda x: re.sub(\"[^a-zA-Z]\", \" \", str(x)))\n",
    "    # Tokenize the training and testing data\n",
    "    df_tokenized = tokenize_review(df)\n",
    "    return df_tokenized\n",
    "\n",
    "# Fungsi untuk melakukan tokenizing dataset\n",
    "def tokenize_review(df):\n",
    "    # Tokenize Reviews in the DataFrame\n",
    "    tokened_reviews = [word_tokenize(rev) for rev in df[\"text\"]]\n",
    "    \n",
    "    # Initialize the Indonesian stemmer\n",
    "    factory = StemmerFactory()\n",
    "    stemmer = factory.create_stemmer()\n",
    "\n",
    "    # Stem tokens for each review in Indonesian\n",
    "    stemmed_tokens = []\n",
    "    for tokens in tokened_reviews:\n",
    "        # Join the tokens into a single string for stemming, since Sastrawi expects a sentence\n",
    "        sentence = \" \".join(tokens)\n",
    "        # Perform stemming on the whole sentence\n",
    "        stemmed_sentence = stemmer.stem(sentence)\n",
    "        stemmed_tokens.append(stemmed_sentence)\n",
    "\n",
    "    # Insert the stemmed reviews into the DataFrame\n",
    "    df.insert(1, column=\"Stemmed\", value=stemmed_tokens)\n",
    "    \n",
    "    return df"
   ]
  },
  {
   "cell_type": "code",
   "execution_count": 5,
   "metadata": {},
   "outputs": [],
   "source": [
    "# Import data train test validation\n",
    "df_train = load_data(\"train\")\n",
    "df_test = load_data('test')\n",
    "df_val = load_data('valid')"
   ]
  },
  {
   "cell_type": "code",
   "execution_count": 6,
   "metadata": {},
   "outputs": [],
   "source": [
    "# Melakukan stemming pada dataset\n",
    "X_train = df_train['Stemmed'].astype(str)\n",
    "X_test = df_test['Stemmed'].astype(str)\n",
    "X_val = df_val['Stemmed'].astype(str)\n",
    "y_train = df_train['label']\n",
    "y_test = df_test['label']\n",
    "y_val = df_val['label']"
   ]
  },
  {
   "cell_type": "code",
   "execution_count": 7,
   "metadata": {},
   "outputs": [],
   "source": [
    "# Melakukan label encoding pada label data\n",
    "le = LabelEncoder()\n",
    "y_train = le.fit_transform(y_train)\n",
    "y_test = le.fit_transform(y_test)\n",
    "y_val = le.fit_transform(y_val)"
   ]
  },
  {
   "cell_type": "code",
   "execution_count": 8,
   "metadata": {},
   "outputs": [],
   "source": [
    "# Inisialisasi tokenizer dari BERT\n",
    "tokenizer = BertTokenizer.from_pretrained(\n",
    "    'indolem/indobertweet-base-uncased',\n",
    "    do_lower_case=True\n",
    ")"
   ]
  },
  {
   "cell_type": "code",
   "execution_count": 9,
   "metadata": {},
   "outputs": [
    {
     "name": "stderr",
     "output_type": "stream",
     "text": [
      "Truncation was not explicitly activated but `max_length` is provided a specific value, please use `truncation=True` to explicitly truncate examples to max length. Defaulting to 'longest_first' truncation strategy. If you encode pairs of sequences (GLUE-style) with the tokenizer you can select this strategy more precisely by providing a specific strategy to `truncation`.\n",
      "c:\\Python310\\lib\\site-packages\\transformers\\tokenization_utils_base.py:2618: FutureWarning: The `pad_to_max_length` argument is deprecated and will be removed in a future version, use `padding=True` or `padding='longest'` to pad to the longest sequence in the batch, or use `padding='max_length'` to pad to a max length. In this case, you can give a specific length with `max_length` (e.g. `max_length=45`) or leave max_length to None to pad to the maximal input size of the model (e.g. 512 for Bert).\n",
      "  warnings.warn(\n"
     ]
    }
   ],
   "source": [
    "# Encode the training data\n",
    "encoded_data_train = tokenizer.batch_encode_plus(\n",
    "    X_train,\n",
    "    add_special_tokens=True,\n",
    "    return_attention_mask=True,\n",
    "    pad_to_max_length=True,\n",
    "    max_length=256,\n",
    "    return_tensors='pt'\n",
    ")\n",
    "\n",
    "# Encode the validation data\n",
    "encoded_data_val = tokenizer.batch_encode_plus(\n",
    "    X_val,\n",
    "    add_special_tokens=True,\n",
    "    return_attention_mask=True,\n",
    "    pad_to_max_length=True,\n",
    "    max_length=256,\n",
    "    return_tensors='pt'\n",
    ")\n",
    "\n",
    "# # Encode the test data\n",
    "encoded_data_test = tokenizer.batch_encode_plus(\n",
    "    X_test,\n",
    "    add_special_tokens=True,\n",
    "    return_attention_mask=True,\n",
    "    pad_to_max_length=True,\n",
    "    max_length=256,\n",
    "    return_tensors='pt'\n",
    ")\n",
    "\n",
    "# Extract input IDs and attention masks for training data\n",
    "input_ids_train = encoded_data_train['input_ids']\n",
    "attention_masks_train = encoded_data_train['attention_mask']\n",
    "labels_train = torch.tensor(y_train)\n",
    "\n",
    "# Extract input IDs and attention masks for validation data\n",
    "input_ids_val = encoded_data_val['input_ids']\n",
    "attention_masks_val = encoded_data_val['attention_mask']\n",
    "labels_val = torch.tensor(y_val)\n",
    "\n",
    "# Extract input IDs and attention masks for test data\n",
    "input_ids_test = encoded_data_test['input_ids']\n",
    "attention_masks_test = encoded_data_test['attention_mask']\n",
    "labels_test = torch.tensor(y_test)"
   ]
  },
  {
   "cell_type": "code",
   "execution_count": 10,
   "metadata": {},
   "outputs": [],
   "source": [
    "# Menginisialisasi Tensor Dataset\n",
    "dataset_train = TensorDataset(input_ids_train, \n",
    "                              attention_masks_train,\n",
    "                              labels_train)\n",
    "\n",
    "dataset_val = TensorDataset(input_ids_val, \n",
    "                            attention_masks_val,\n",
    "                           labels_val)\n",
    "\n",
    "dataset_test = TensorDataset(input_ids_test, \n",
    "                            attention_masks_test,\n",
    "                           labels_test)"
   ]
  },
  {
   "cell_type": "code",
   "execution_count": 11,
   "metadata": {},
   "outputs": [
    {
     "name": "stderr",
     "output_type": "stream",
     "text": [
      "Some weights of BertForSequenceClassification were not initialized from the model checkpoint at indolem/indobertweet-base-uncased and are newly initialized: ['classifier.weight', 'classifier.bias']\n",
      "You should probably TRAIN this model on a down-stream task to be able to use it for predictions and inference.\n"
     ]
    }
   ],
   "source": [
    "# Inisialisasi model dengan output 3 label\n",
    "model = BertForSequenceClassification.from_pretrained(\n",
    "                                      'indolem/indobertweet-base-uncased', \n",
    "                                      num_labels = 3,\n",
    "                                      output_attentions = False,\n",
    "                                      output_hidden_states = False\n",
    "                                     )"
   ]
  },
  {
   "cell_type": "code",
   "execution_count": 12,
   "metadata": {},
   "outputs": [],
   "source": [
    "# Inisialisasi ukuran batch saat training\n",
    "batch_size = 4\n",
    "\n",
    "# Inisialisasi dataloader dengan inputan Tensor Dataset, sampler, dan ukuran batch\n",
    "dataloader_train = DataLoader(\n",
    "    dataset_train,\n",
    "    sampler=RandomSampler(dataset_train),\n",
    "    batch_size=batch_size\n",
    ")\n",
    "\n",
    "dataloader_val = DataLoader(\n",
    "    dataset_val,\n",
    "    sampler=RandomSampler(dataset_val),\n",
    "    batch_size=32\n",
    ")\n",
    "\n",
    "dataloader_test = DataLoader(\n",
    "    dataset_test,\n",
    "    sampler=RandomSampler(dataset_test),\n",
    "    batch_size=1\n",
    ")"
   ]
  },
  {
   "cell_type": "code",
   "execution_count": 13,
   "metadata": {},
   "outputs": [
    {
     "name": "stderr",
     "output_type": "stream",
     "text": [
      "c:\\Python310\\lib\\site-packages\\transformers\\optimization.py:429: FutureWarning: This implementation of AdamW is deprecated and will be removed in a future version. Use the PyTorch implementation torch.optim.AdamW instead, or set `no_deprecation_warning=True` to disable this warning\n",
      "  warnings.warn(\n"
     ]
    }
   ],
   "source": [
    "# Inisialisasi Optimizer\n",
    "optimizer = AdamW(\n",
    "    model.parameters(),\n",
    "    lr = 1e-5,\n",
    "    eps = 1e-8\n",
    ")"
   ]
  },
  {
   "cell_type": "code",
   "execution_count": 14,
   "metadata": {},
   "outputs": [],
   "source": [
    "# Inisialisasi Epoch dan Scheduler\n",
    "epochs = 3\n",
    "\n",
    "scheduler = get_linear_schedule_with_warmup(\n",
    "    optimizer,\n",
    "    num_warmup_steps=0,\n",
    "    num_training_steps = len(dataloader_train)*epochs\n",
    ")"
   ]
  },
  {
   "cell_type": "code",
   "execution_count": 15,
   "metadata": {},
   "outputs": [],
   "source": [
    "# Fungsi untuk menampilkan f1_score saat training\n",
    "def f1_score_func(preds, labels):\n",
    "    preds_flat = np.argmax(preds, axis=1).flatten()\n",
    "    labels_flat = labels.flatten()\n",
    "    return f1_score(labels_flat, preds_flat, average = 'weighted')"
   ]
  },
  {
   "cell_type": "code",
   "execution_count": 16,
   "metadata": {},
   "outputs": [],
   "source": [
    "# Fungsi untuk melihat seberapa akurasi perkelas dari model\n",
    "def accuracy_per_class(preds, labels):\n",
    "    preds_flat = np.argmax(preds, axis=1).flatten()\n",
    "    labels_flat = labels.flatten()\n",
    "    \n",
    "    for label in np.unique(labels_flat):\n",
    "        y_preds = preds_flat[labels_flat == label]\n",
    "        y_true = labels_flat[labels_flat == label]\n",
    "        print(f'Class: {label}')\n",
    "        print(f'Accuracy: {len(y_preds[y_preds == label])}/{len(y_true)}\\n')"
   ]
  },
  {
   "cell_type": "code",
   "execution_count": 17,
   "metadata": {},
   "outputs": [
    {
     "name": "stdout",
     "output_type": "stream",
     "text": [
      "cuda\n"
     ]
    }
   ],
   "source": [
    "# Pengecekan apakah device yang digunakan saat training\n",
    "device = torch.device('cuda' if torch.cuda.is_available() else 'cpu')\n",
    "model.to(device)\n",
    "print(device)"
   ]
  },
  {
   "cell_type": "code",
   "execution_count": 18,
   "metadata": {},
   "outputs": [],
   "source": [
    "# Fungsi untuk mengevaluasi saat training\n",
    "def evaluate(dataloader_test):\n",
    "\n",
    "    model.eval()\n",
    "    \n",
    "    loss_val_total = 0\n",
    "    predictions, true_vals = [], []\n",
    "    \n",
    "    for batch in tqdm(dataloader_test):\n",
    "        \n",
    "        batch = tuple(b.to(device) for b in batch)\n",
    "        \n",
    "        inputs = {'input_ids':      batch[0],\n",
    "                  'attention_mask': batch[1],\n",
    "                  'labels':         batch[2],\n",
    "                 }\n",
    "\n",
    "        with torch.no_grad():        \n",
    "            outputs = model(**inputs)\n",
    "            \n",
    "        loss = outputs[0]\n",
    "        logits = outputs[1]\n",
    "        loss_val_total += loss.item()\n",
    "\n",
    "        logits = logits.detach().cpu().numpy()\n",
    "        label_ids = inputs['labels'].cpu().numpy()\n",
    "        predictions.append(logits)\n",
    "        true_vals.append(label_ids)\n",
    "    \n",
    "    loss_val_avg = loss_val_total/len(dataloader_test) \n",
    "    \n",
    "    predictions = np.concatenate(predictions, axis=0)\n",
    "    true_vals = np.concatenate(true_vals, axis=0)\n",
    "            \n",
    "    return loss_val_avg, predictions, true_vals"
   ]
  },
  {
   "cell_type": "code",
   "execution_count": 19,
   "metadata": {},
   "outputs": [
    {
     "data": {
      "application/vnd.jupyter.widget-view+json": {
       "model_id": "409be1a8c77743fa8459aed0a424e3ba",
       "version_major": 2,
       "version_minor": 0
      },
      "text/plain": [
       "  0%|          | 0/3 [00:00<?, ?it/s]"
      ]
     },
     "metadata": {},
     "output_type": "display_data"
    },
    {
     "data": {
      "application/vnd.jupyter.widget-view+json": {
       "model_id": "226a44a3df7a487cb4acf4618cea28eb",
       "version_major": 2,
       "version_minor": 0
      },
      "text/plain": [
       "Epoch 1:   0%|          | 0/2750 [00:00<?, ?it/s]"
      ]
     },
     "metadata": {},
     "output_type": "display_data"
    },
    {
     "name": "stdout",
     "output_type": "stream",
     "text": [
      "\n",
      "Epoch 1\n",
      "Training loss: 0.34241611326786436\n"
     ]
    },
    {
     "data": {
      "application/vnd.jupyter.widget-view+json": {
       "model_id": "ba3b5c18a5d142a8ab8b4d951154abe4",
       "version_major": 2,
       "version_minor": 0
      },
      "text/plain": [
       "  0%|          | 0/500 [00:00<?, ?it/s]"
      ]
     },
     "metadata": {},
     "output_type": "display_data"
    },
    {
     "name": "stdout",
     "output_type": "stream",
     "text": [
      "Validation loss: 0.3873551219656365\n",
      "F1 Score (weighted): 0.9120095821541961\n"
     ]
    },
    {
     "data": {
      "application/vnd.jupyter.widget-view+json": {
       "model_id": "6817786d96c748e4992bd2113f7e7e63",
       "version_major": 2,
       "version_minor": 0
      },
      "text/plain": [
       "Epoch 2:   0%|          | 0/2750 [00:00<?, ?it/s]"
      ]
     },
     "metadata": {},
     "output_type": "display_data"
    },
    {
     "name": "stdout",
     "output_type": "stream",
     "text": [
      "\n",
      "Epoch 2\n",
      "Training loss: 0.2030720525322355\n"
     ]
    },
    {
     "data": {
      "application/vnd.jupyter.widget-view+json": {
       "model_id": "8fd57d637e674be0b0ee44916076842b",
       "version_major": 2,
       "version_minor": 0
      },
      "text/plain": [
       "  0%|          | 0/500 [00:00<?, ?it/s]"
      ]
     },
     "metadata": {},
     "output_type": "display_data"
    },
    {
     "name": "stdout",
     "output_type": "stream",
     "text": [
      "Validation loss: 0.44956752958626023\n",
      "F1 Score (weighted): 0.9162665938765298\n"
     ]
    },
    {
     "data": {
      "application/vnd.jupyter.widget-view+json": {
       "model_id": "78ed3b0341a74abc919ece41142bb368",
       "version_major": 2,
       "version_minor": 0
      },
      "text/plain": [
       "Epoch 3:   0%|          | 0/2750 [00:00<?, ?it/s]"
      ]
     },
     "metadata": {},
     "output_type": "display_data"
    },
    {
     "name": "stdout",
     "output_type": "stream",
     "text": [
      "\n",
      "Epoch 3\n",
      "Training loss: 0.12690628786471841\n"
     ]
    },
    {
     "data": {
      "application/vnd.jupyter.widget-view+json": {
       "model_id": "78b3ce6c5fba44dc9d44f6aeb8aa7b65",
       "version_major": 2,
       "version_minor": 0
      },
      "text/plain": [
       "  0%|          | 0/500 [00:00<?, ?it/s]"
      ]
     },
     "metadata": {},
     "output_type": "display_data"
    },
    {
     "name": "stdout",
     "output_type": "stream",
     "text": [
      "Validation loss: 0.45388479330114206\n",
      "F1 Score (weighted): 0.9123598388416498\n"
     ]
    }
   ],
   "source": [
    "#Melakukan training sebanyak Epoch yang telah diinisialisasikan\n",
    "for epoch in tqdm(range(1, epochs+1)):\n",
    "    model.train()\n",
    "    loss_train_total = 0\n",
    "    \n",
    "    progress_bar = tqdm(dataloader_train, \n",
    "                        desc='Epoch {:1d}'.format(epoch), \n",
    "                        leave=False, \n",
    "                        disable=False)\n",
    "    \n",
    "    for batch in progress_bar:\n",
    "        model.zero_grad()\n",
    "        batch = tuple(b.to(device) for b in batch)\n",
    "        inputs = {\n",
    "            'input_ids': batch[0],\n",
    "            'attention_mask': batch[1],\n",
    "            'labels': batch[2]\n",
    "        }\n",
    "        \n",
    "        outputs = model(**inputs)\n",
    "        loss = outputs[0]\n",
    "        loss_train_total +=loss.item()\n",
    "        loss.backward()\n",
    "        \n",
    "        torch.nn.utils.clip_grad_norm_(model.parameters(), 1.0)\n",
    "        \n",
    "        optimizer.step()\n",
    "        scheduler.step()\n",
    "        \n",
    "        progress_bar.set_postfix({'training_loss': '{:.3f}'.format(loss.item()/len(batch))})     \n",
    "    \n",
    "    #torch.save(model.state_dict(), f'Models/BERT_ft_Epoch{epoch}.model')\n",
    "    \n",
    "    # Evaluasi per epoch\n",
    "    tqdm.write(f'\\nEpoch {epoch}')\n",
    "    \n",
    "    loss_train_avg = loss_train_total/len(dataloader_train)\n",
    "    tqdm.write(f'Training loss: {loss_train_avg}')\n",
    "    \n",
    "    val_loss, predictions, true_vals = evaluate(dataloader_test)\n",
    "    val_f1 = f1_score_func(predictions, true_vals)\n",
    "    tqdm.write(f'Validation loss: {val_loss}')\n",
    "    tqdm.write(f'F1 Score (weighted): {val_f1}')"
   ]
  },
  {
   "cell_type": "code",
   "execution_count": 20,
   "metadata": {},
   "outputs": [
    {
     "name": "stdout",
     "output_type": "stream",
     "text": [
      "Class: 0\n",
      "Accuracy: 204/204\n",
      "\n",
      "Class: 1\n",
      "Accuracy: 60/88\n",
      "\n",
      "Class: 2\n",
      "Accuracy: 194/208\n",
      "\n"
     ]
    }
   ],
   "source": [
    "accuracy_per_class(predictions, true_vals)"
   ]
  },
  {
   "cell_type": "code",
   "execution_count": 21,
   "metadata": {},
   "outputs": [],
   "source": [
    "original_model = model\n",
    "original_tokenizer = tokenizer\n",
    "# Wrapping model\n",
    "model_wrapper = HuggingFaceModelWrapper(original_model, original_tokenizer)"
   ]
  },
  {
   "cell_type": "code",
   "execution_count": 22,
   "metadata": {},
   "outputs": [],
   "source": [
    "# Menyimpan model\n",
    "torch.save(original_model, 'pre-trained.pth')"
   ]
  },
  {
   "cell_type": "code",
   "execution_count": 23,
   "metadata": {},
   "outputs": [],
   "source": [
    "# Membuat kelas untuk wordswap berbahasa Indonesia\n",
    "class WordSwapWordNetBahasa(WordSwap):\n",
    "    \"\"\"Transforms an input by replacing its words with synonyms provided by\n",
    "    WordNet.\n",
    "\n",
    "    >>> from textattack.transformations import WordSwapWordNet\n",
    "    >>> from textattack.augmentation import Augmenter\n",
    "\n",
    "    >>> transformation = WordSwapWordNet()\n",
    "    >>> augmenter = Augmenter(transformation=transformation)\n",
    "    >>> s = 'I am fabulous.'\n",
    "    >>> augmenter.augment(s)\n",
    "    \"\"\"\n",
    "    # Melakukan setting bahasa saat kelas dipanggil\n",
    "    def __init__(self, language=\"ind\"):\n",
    "        nltk.download(\"omw-1.4\")\n",
    "        # if language not in wordnet.langs():\n",
    "        #     raise ValueError(f\"Language {language} not one of {wordnet.langs()}\")\n",
    "        self.language = language\n",
    "\n",
    "    # Mendapatkan sinonim untuk wordswap\n",
    "    def _get_replacement_words(self, word, random=False):\n",
    "        \"\"\"Returns a list containing all possible words with 1 character\n",
    "        replaced by a homoglyph.\"\"\"\n",
    "        synonyms = set()\n",
    "        for syn in wordnet.synsets(word, lang=self.language):\n",
    "            for syn_word in syn.lemma_names(lang=self.language):\n",
    "                if (\n",
    "                    (syn_word != word)\n",
    "                    and (\"_\" not in syn_word)\n",
    "                    and (textattack.shared.utils.is_one_word(syn_word))\n",
    "                ):\n",
    "                    # WordNet can suggest phrases that are joined by '_' but we ignore phrases.\n",
    "                    synonyms.add(syn_word)\n",
    "        return list(synonyms)\n"
   ]
  },
  {
   "cell_type": "code",
   "execution_count": 24,
   "metadata": {},
   "outputs": [],
   "source": [
    "# Inisialisasi kelas untuk algoritma pencarian, tujuan, larangan, dan transformasi\n",
    "class PWWSham2024INDO(AttackRecipe):\n",
    "    \n",
    "    @staticmethod\n",
    "    def build(model_wrapper):\n",
    "        transformation = WordSwapWordNetBahasa(language=\"ind\")\n",
    "        constraint = [RepeatModification(), StopwordModification(language='indonesian')]\n",
    "        goal_function = UntargetedClassification(model_wrapper)\n",
    "        search_method = GreedyWordSwapWIR(\"weighted-saliency\")\n",
    "        return Attack(goal_function, constraint, transformation, search_method)"
   ]
  },
  {
   "cell_type": "code",
   "execution_count": 25,
   "metadata": {},
   "outputs": [],
   "source": [
    "custom_data = list(df_test[['text', 'label']].itertuples(index=False, name=None))"
   ]
  },
  {
   "cell_type": "code",
   "execution_count": 26,
   "metadata": {},
   "outputs": [
    {
     "name": "stderr",
     "output_type": "stream",
     "text": [
      "[nltk_data] Downloading package omw-1.4 to C:\\Users\\Ilham\n",
      "[nltk_data]     AM\\AppData\\Roaming\\nltk_data...\n",
      "[nltk_data]   Package omw-1.4 is already up-to-date!\n",
      "textattack: Unknown if model of class <class 'transformers.models.bert.modeling_bert.BertForSequenceClassification'> compatible with goal function <class 'textattack.goal_functions.classification.untargeted_classification.UntargetedClassification'>.\n",
      "textattack: Logging to CSV at path attack_results_pretrained.csv\n"
     ]
    },
    {
     "name": "stdout",
     "output_type": "stream",
     "text": [
      "Attack(\n",
      "  (search_method): GreedyWordSwapWIR(\n",
      "    (wir_method):  weighted-saliency\n",
      "  )\n",
      "  (goal_function):  UntargetedClassification\n",
      "  (transformation):  WordSwapWordNetBahasa\n",
      "  (constraints): \n",
      "    (0): RepeatModification\n",
      "    (1): StopwordModification\n",
      "  (is_black_box):  True\n",
      ") \n",
      "\n"
     ]
    },
    {
     "name": "stderr",
     "output_type": "stream",
     "text": [
      "[Succeeded / Failed / Skipped / Total] 1 / 0 / 0 / 1:   0%|          | 1/500 [00:50<7:03:00, 50.86s/it]"
     ]
    },
    {
     "name": "stdout",
     "output_type": "stream",
     "text": [
      "--------------------------------------------- Result 1 ---------------------------------------------\n",
      "[[0 (100%)]] --> [[2 (98%)]]\n",
      "\n",
      "kemarin gue datang ke tempat makan baru yang ada di dago atas gue kira makanan nya enak karena harga nya [[mahal]] ternyata boro boro tidak mau lagi deh ke tempat itu sudah mana tempat nya juga tidak [[nyaman]] banget terlalu [[sempit]] \n",
      "\n",
      "kemarin gue datang ke tempat makan baru yang ada di dago atas gue kira makanan nya enak karena harga nya [[mewah]] ternyata boro boro tidak mau lagi deh ke tempat itu sudah mana tempat nya juga tidak [[romantik]] banget terlalu [[kencang]] \n",
      "\n",
      "\n"
     ]
    },
    {
     "name": "stderr",
     "output_type": "stream",
     "text": [
      "[Succeeded / Failed / Skipped / Total] 2 / 0 / 0 / 2:   0%|          | 2/500 [01:16<5:19:30, 38.50s/it]"
     ]
    },
    {
     "name": "stdout",
     "output_type": "stream",
     "text": [
      "--------------------------------------------- Result 2 ---------------------------------------------\n",
      "[[0 (100%)]] --> [[2 (89%)]]\n",
      "\n",
      "[[kayak]] nya sih gue tidak akan mau balik lagi ke tempat itu [[gila]] ya gue enggak ngerti kenapa tempat nya dibiarkan panas sudah begitu [[kotor]] pula kalau panas kepanasan kalau hujan kehujanan harus nya sih tidak ada restoran yang kayak gitu tidak tahu deh apa yang mereka jual \n",
      "\n",
      "[[menyenangi]] nya sih gue tidak akan mau balik lagi ke tempat itu [[kegemaran]] ya gue enggak ngerti kenapa tempat nya dibiarkan panas sudah begitu [[menyeramkan]] pula kalau panas kepanasan kalau hujan kehujanan harus nya sih tidak ada restoran yang kayak gitu tidak tahu deh apa yang mereka jual \n",
      "\n",
      "\n"
     ]
    },
    {
     "name": "stderr",
     "output_type": "stream",
     "text": [
      "[Succeeded / Failed / Skipped / Total] 2 / 1 / 0 / 3:   1%|          | 3/500 [01:24<3:52:55, 28.12s/it]"
     ]
    },
    {
     "name": "stdout",
     "output_type": "stream",
     "text": [
      "--------------------------------------------- Result 3 ---------------------------------------------\n",
      "[[0 (100%)]] --> [[[FAILED]]]\n",
      "\n",
      "kalau dipikir pikir sebenarnya tidak ada yang bisa dibanggakan dari jokowi pertama dia tidak bisa nepatin janji kedua kerjaan nya selalu pencitraan ketiga dia tidak pro rakyat sudahlah ku sudah terlanjur kecewa \n",
      "\n",
      "\n"
     ]
    },
    {
     "name": "stderr",
     "output_type": "stream",
     "text": [
      "[Succeeded / Failed / Skipped / Total] 3 / 1 / 0 / 4:   1%|          | 4/500 [02:09<4:27:16, 32.33s/it]"
     ]
    },
    {
     "name": "stdout",
     "output_type": "stream",
     "text": [
      "--------------------------------------------- Result 4 ---------------------------------------------\n",
      "[[0 (100%)]] --> [[2 (100%)]]\n",
      "\n",
      "ini pertama kalinya gua ke bank buat ngurusin pembuatan rekening baru nama nya juga orang pertama kali ya baru ke bank gua [[kena]] semprot kelihatan banget pelayanan pelanggan nya tidak [[suka]] gua banyak bertanya amit amit padahal itu kan tugas mereka buat melayangkan gua \n",
      "\n",
      "ini pertama kalinya gua ke bank buat ngurusin pembuatan rekening baru nama nya juga orang pertama kali ya baru ke bank gua [[berhasil]] semprot kelihatan banget pelayanan pelanggan nya tidak [[menyenangi]] gua banyak bertanya amit amit padahal itu kan tugas mereka buat melayangkan gua \n",
      "\n",
      "\n"
     ]
    },
    {
     "name": "stderr",
     "output_type": "stream",
     "text": [
      "[Succeeded / Failed / Skipped / Total] 3 / 2 / 0 / 5:   1%|          | 5/500 [03:28<5:43:29, 41.63s/it]"
     ]
    },
    {
     "name": "stdout",
     "output_type": "stream",
     "text": [
      "--------------------------------------------- Result 5 ---------------------------------------------\n",
      "[[0 (100%)]] --> [[[FAILED]]]\n",
      "\n",
      "waktu sampai dengan gue pernah disuruh ibu latihan karate kata nya biar gue bisa melawan penjahat kalau ada laki laki iseng tapi di hari pertama latihan kaki gue langsung cedera jadilah sekarang trauma dan tidak mau sekali sekali buat latihan karate lagi \n",
      "\n",
      "\n"
     ]
    },
    {
     "name": "stderr",
     "output_type": "stream",
     "text": [
      "[Succeeded / Failed / Skipped / Total] 4 / 2 / 0 / 6:   1%|          | 6/500 [03:54<5:22:09, 39.13s/it]"
     ]
    },
    {
     "name": "stdout",
     "output_type": "stream",
     "text": [
      "--------------------------------------------- Result 6 ---------------------------------------------\n",
      "[[0 (100%)]] --> [[2 (98%)]]\n",
      "\n",
      "pelayanan di hotel salak bogor tidak sebagus yang gue membayangkan fasilitas nya juga biasa banget padahal kata nya hotel bintang lima hm [[kecewa]] [[kayak]] nya sih nanti nanti tidak mau ke sana lagi \n",
      "\n",
      "pelayanan di hotel salak bogor tidak sebagus yang gue membayangkan fasilitas nya juga biasa banget padahal kata nya hotel bintang lima hm [[menjelajahi]] [[suka]] nya sih nanti nanti tidak mau ke sana lagi \n",
      "\n",
      "\n"
     ]
    },
    {
     "name": "stderr",
     "output_type": "stream",
     "text": [
      "[Succeeded / Failed / Skipped / Total] 5 / 2 / 0 / 7:   1%|▏         | 7/500 [04:15<4:59:27, 36.45s/it]"
     ]
    },
    {
     "name": "stdout",
     "output_type": "stream",
     "text": [
      "--------------------------------------------- Result 7 ---------------------------------------------\n",
      "[[0 (100%)]] --> [[2 (100%)]]\n",
      "\n",
      "ada apa dengan young lex kenapa dia harus mengirim hal hal tidak berfaedah [[kayak]] gitu [[merusak]] [[moral]] banget sumpah \n",
      "\n",
      "ada apa dengan young lex kenapa dia harus mengirim hal hal tidak berfaedah [[menggemari]] gitu [[menggeledah]] [[semangat]] banget sumpah \n",
      "\n",
      "\n"
     ]
    },
    {
     "name": "stderr",
     "output_type": "stream",
     "text": [
      "[Succeeded / Failed / Skipped / Total] 5 / 3 / 0 / 8:   2%|▏         | 8/500 [04:57<5:04:27, 37.13s/it]"
     ]
    },
    {
     "name": "stdout",
     "output_type": "stream",
     "text": [
      "--------------------------------------------- Result 8 ---------------------------------------------\n",
      "[[0 (100%)]] --> [[[FAILED]]]\n",
      "\n",
      "gue pesimis sama manusia terutama dalam ngurusin sampah sudah berapa banyak hewan hewan laut jadi korban gara gara kita buang sampah ke laut tidak tega gue liat nya kadang tidak mengerti juga sebenarnya pemimpin pemimpin yang ada itu pada mikirin enggak sih urusan penting kayak gini he \n",
      "\n",
      "\n"
     ]
    },
    {
     "name": "stderr",
     "output_type": "stream",
     "text": [
      "[Succeeded / Failed / Skipped / Total] 5 / 4 / 0 / 9:   2%|▏         | 9/500 [05:23<4:53:55, 35.92s/it]"
     ]
    },
    {
     "name": "stdout",
     "output_type": "stream",
     "text": [
      "--------------------------------------------- Result 9 ---------------------------------------------\n",
      "[[0 (100%)]] --> [[[FAILED]]]\n",
      "\n",
      "saya kecewa karena pengeditan biodata penumpang dilakukan by sistem tanpa konfirmasi dan solusi permasalahan nya pun dianggap sepele karena dibiarkan begitu saja sedang pelayanan pelanggan yang sudah berkali berkali dihubungi pun hanya seperti mengulur waktu sampai detik ini belum ada solusi untuk masalah saya yang kesalahan nya sendiri bukan dari pihak saya \n",
      "\n",
      "\n"
     ]
    },
    {
     "name": "stderr",
     "output_type": "stream",
     "text": [
      "[Succeeded / Failed / Skipped / Total] 5 / 5 / 0 / 10:   2%|▏         | 10/500 [05:58<4:52:22, 35.80s/it]"
     ]
    },
    {
     "name": "stdout",
     "output_type": "stream",
     "text": [
      "--------------------------------------------- Result 10 ---------------------------------------------\n",
      "[[0 (100%)]] --> [[[FAILED]]]\n",
      "\n",
      "saya hari ini melakukan pemesanan dan tiket saya tidak kunjung saya terima padahal saya sudah menelpon pelayanan pelanggan sudah mengirimkan email dengan bukti transfer tapi respon nya sangat lambat dan tidak jelas \n",
      "\n",
      "\n"
     ]
    },
    {
     "name": "stderr",
     "output_type": "stream",
     "text": [
      "[Succeeded / Failed / Skipped / Total] 5 / 6 / 0 / 11:   2%|▏         | 11/500 [07:02<5:13:12, 38.43s/it]"
     ]
    },
    {
     "name": "stdout",
     "output_type": "stream",
     "text": [
      "--------------------------------------------- Result 11 ---------------------------------------------\n",
      "[[0 (100%)]] --> [[[FAILED]]]\n",
      "\n",
      "sangat merugikan saya sudah memesan dan membayar tetapi e tiket tidak ada juga padahal bukti pembayaran sudah jelas sudah menelepon pelayanan pelanggan berkali kali dan tidak ada solusi nya pulsa sudah habis ratusan ribu saya meminta kembalikan uang juga sangat lama proses nya sangat merugikan pengguna banyak kerugian uang transport waktu penginapan dll \n",
      "\n",
      "\n"
     ]
    },
    {
     "name": "stderr",
     "output_type": "stream",
     "text": [
      "[Succeeded / Failed / Skipped / Total] 6 / 6 / 0 / 12:   2%|▏         | 12/500 [07:36<5:09:35, 38.06s/it]"
     ]
    },
    {
     "name": "stdout",
     "output_type": "stream",
     "text": [
      "--------------------------------------------- Result 12 ---------------------------------------------\n",
      "[[0 (100%)]] --> [[2 (100%)]]\n",
      "\n",
      "saya itu memesan tiket dot com sudah dibayar email belum ada balasan bukti pembayaran sudah saya kirim by email saya masukkan data balasan nya pemesanan kadaluarsa terus akhirnya saya beli lagi langsung ke loket saya minta uang kembali masih menunggu hari ambil saja uang tiket nya tidak apa apa [[sedih]] saya download aplikasi ini \n",
      "\n",
      "saya itu memesan tiket dot com sudah dibayar email belum ada balasan bukti pembayaran sudah saya kirim by email saya masukkan data balasan nya pemesanan kadaluarsa terus akhirnya saya beli lagi langsung ke loket saya minta uang kembali masih menunggu hari ambil saja uang tiket nya tidak apa apa [[terharu]] saya download aplikasi ini \n",
      "\n",
      "\n"
     ]
    },
    {
     "name": "stderr",
     "output_type": "stream",
     "text": [
      "[Succeeded / Failed / Skipped / Total] 7 / 6 / 0 / 13:   3%|▎         | 13/500 [08:02<5:01:03, 37.09s/it]"
     ]
    },
    {
     "name": "stdout",
     "output_type": "stream",
     "text": [
      "--------------------------------------------- Result 13 ---------------------------------------------\n",
      "[[0 (100%)]] --> [[2 (53%)]]\n",
      "\n",
      "saya sudah bayar tetapi etiket tidak dikirim malah kadaluwarsa diminta struk [[pembayaran]] saya sudah tidak punya hanya sms banking tetapi tetap saja tidak digubris dari [[pelayanan]] pelanggan nya sudah email dan telepon berkali berkali tetap tidak ada [[hasil]] sangat [[mengecewakan]] \n",
      "\n",
      "saya sudah bayar tetapi etiket tidak dikirim malah kadaluwarsa diminta struk [[penyelesaian]] saya sudah tidak punya hanya sms banking tetapi tetap saja tidak digubris dari [[layanan]] pelanggan nya sudah email dan telepon berkali berkali tetap tidak ada [[pulangan]] sangat [[menggiurkan]] \n",
      "\n",
      "\n"
     ]
    },
    {
     "name": "stderr",
     "output_type": "stream",
     "text": [
      "[Succeeded / Failed / Skipped / Total] 8 / 6 / 0 / 14:   3%|▎         | 14/500 [08:25<4:52:16, 36.08s/it]"
     ]
    },
    {
     "name": "stdout",
     "output_type": "stream",
     "text": [
      "--------------------------------------------- Result 14 ---------------------------------------------\n",
      "[[0 (100%)]] --> [[2 (100%)]]\n",
      "\n",
      "saya mesan tiket tapi tidak dikonformasi dan proses pengembalian uang yang tidak jelas dan belum ada sampai sekarang pelayanan nya yang sangat [[buruk]] dan saran saya jangan pesan di sini sangat [[mengecewakan]] \n",
      "\n",
      "saya mesan tiket tapi tidak dikonformasi dan proses pengembalian uang yang tidak jelas dan belum ada sampai sekarang pelayanan nya yang sangat [[murah]] dan saran saya jangan pesan di sini sangat [[mengentuti]] \n",
      "\n",
      "\n"
     ]
    },
    {
     "name": "stderr",
     "output_type": "stream",
     "text": [
      "[Succeeded / Failed / Skipped / Total] 9 / 6 / 0 / 15:   3%|▎         | 15/500 [08:38<4:39:24, 34.57s/it]"
     ]
    },
    {
     "name": "stdout",
     "output_type": "stream",
     "text": [
      "--------------------------------------------- Result 15 ---------------------------------------------\n",
      "[[0 (100%)]] --> [[2 (100%)]]\n",
      "\n",
      "sangat [[kecewa]] dengan aplikasi ini sudah ditransfer tetapi etiket tidak dikirim saya coba telepon call centre seharian tetapi sibuk terus call genre nya mending pakai traveloka adalah untuk pesanan selanjutnya \n",
      "\n",
      "sangat [[menjelajahi]] dengan aplikasi ini sudah ditransfer tetapi etiket tidak dikirim saya coba telepon call centre seharian tetapi sibuk terus call genre nya mending pakai traveloka adalah untuk pesanan selanjutnya \n",
      "\n",
      "\n"
     ]
    },
    {
     "name": "stderr",
     "output_type": "stream",
     "text": [
      "[Succeeded / Failed / Skipped / Total] 10 / 6 / 0 / 16:   3%|▎         | 16/500 [09:01<4:32:46, 33.82s/it]"
     ]
    },
    {
     "name": "stdout",
     "output_type": "stream",
     "text": [
      "--------------------------------------------- Result 16 ---------------------------------------------\n",
      "[[0 (100%)]] --> [[2 (96%)]]\n",
      "\n",
      "melihat komen nya [[negatif]] jadi pikir pikir buat mencari tiket kereta di sini mending aplikasi yang lain saja yang sudah terbukti bagus bertahun bertahun \n",
      "\n",
      "melihat komen nya [[nafi]] jadi pikir pikir buat mencari tiket kereta di sini mending aplikasi yang lain saja yang sudah terbukti bagus bertahun bertahun \n",
      "\n",
      "\n"
     ]
    },
    {
     "name": "stderr",
     "output_type": "stream",
     "text": [
      "[Succeeded / Failed / Skipped / Total] 10 / 7 / 0 / 17:   3%|▎         | 17/500 [10:20<4:53:51, 36.50s/it]"
     ]
    },
    {
     "name": "stdout",
     "output_type": "stream",
     "text": [
      "--------------------------------------------- Result 17 ---------------------------------------------\n",
      "[[0 (100%)]] --> [[[FAILED]]]\n",
      "\n",
      "aplikasi tukang bohong promo gratis makan tidak terjadi komplain ke pelayanan pelanggan dengan email tidak ditanggapi komplain by phone hanya dicatat saja tidak ada tindak lanjut sangat tidak direkomendasikan untuk siapa pun \n",
      "\n",
      "\n"
     ]
    },
    {
     "name": "stderr",
     "output_type": "stream",
     "text": [
      "[Succeeded / Failed / Skipped / Total] 11 / 7 / 0 / 18:   4%|▎         | 18/500 [10:32<4:42:29, 35.17s/it]"
     ]
    },
    {
     "name": "stdout",
     "output_type": "stream",
     "text": [
      "--------------------------------------------- Result 18 ---------------------------------------------\n",
      "[[0 (100%)]] --> [[1 (87%)]]\n",
      "\n",
      "kata nya dapat promo ribu tapi setelah di bayar di atm nya ternyata harga normal sudah saya kirim email tapi tidak ada balasan [[mengecewakan]] \n",
      "\n",
      "kata nya dapat promo ribu tapi setelah di bayar di atm nya ternyata harga normal sudah saya kirim email tapi tidak ada balasan [[menghalang]] \n",
      "\n",
      "\n"
     ]
    },
    {
     "name": "stderr",
     "output_type": "stream",
     "text": [
      "[Succeeded / Failed / Skipped / Total] 11 / 8 / 0 / 19:   4%|▍         | 19/500 [11:43<4:56:44, 37.01s/it]"
     ]
    },
    {
     "name": "stdout",
     "output_type": "stream",
     "text": [
      "--------------------------------------------- Result 19 ---------------------------------------------\n",
      "[[0 (100%)]] --> [[[FAILED]]]\n",
      "\n",
      "saya sudah bayar untuk hotel tapi etiket tidak terbit saya sudah kirim email bukti pembayaran nya tapi tetap tidak ada mengikuti naik nya sampai hari h mau cek in ini sudah menghubungi bolak balik pelayanan pelanggan sama saja ngulang ngulang informasi dari awal dijanjikan akan ditelpon tapi tidak dihubungi juga sampai sekarang saya mau laporkan polisi menyebalkan \n",
      "\n",
      "\n"
     ]
    },
    {
     "name": "stderr",
     "output_type": "stream",
     "text": [
      "[Succeeded / Failed / Skipped / Total] 11 / 9 / 0 / 20:   4%|▍         | 20/500 [12:02<4:48:59, 36.12s/it]"
     ]
    },
    {
     "name": "stdout",
     "output_type": "stream",
     "text": [
      "--------------------------------------------- Result 20 ---------------------------------------------\n",
      "[[0 (100%)]] --> [[[FAILED]]]\n",
      "\n",
      "saya kecewa karena saya sudah transfer dan belum dikonfirmasi saya telepon malah pelanggan sibuk terus aduh kecewa nih gue \n",
      "\n",
      "\n"
     ]
    },
    {
     "name": "stderr",
     "output_type": "stream",
     "text": [
      "[Succeeded / Failed / Skipped / Total] 12 / 9 / 0 / 21:   4%|▍         | 21/500 [12:37<4:48:09, 36.09s/it]"
     ]
    },
    {
     "name": "stdout",
     "output_type": "stream",
     "text": [
      "--------------------------------------------- Result 21 ---------------------------------------------\n",
      "[[0 (100%)]] --> [[1 (74%)]]\n",
      "\n",
      "saya sudah transfer ratusan ribu dan [[sesuai]] nominal transfer tapi tiket belum [[muncul]] juga harus diwaspadai ini [[aplikasi]] ini [[bahaya]] \n",
      "\n",
      "saya sudah transfer ratusan ribu dan [[berkenaan]] nominal transfer tapi tiket belum [[berekor]] juga harus diwaspadai ini [[penggunaan]] ini [[risiko]] \n",
      "\n",
      "\n"
     ]
    },
    {
     "name": "stderr",
     "output_type": "stream",
     "text": [
      "[Succeeded / Failed / Skipped / Total] 13 / 9 / 0 / 22:   4%|▍         | 22/500 [12:46<4:37:37, 34.85s/it]"
     ]
    },
    {
     "name": "stdout",
     "output_type": "stream",
     "text": [
      "--------------------------------------------- Result 22 ---------------------------------------------\n",
      "[[0 (100%)]] --> [[2 (78%)]]\n",
      "\n",
      "pelayanan pelanggan tidak respon komentar disuruh email email saya tidak ditanggapi sudah beberapa hari yang lalu sampai sekarang tidak ada respon [[menyusahkan]] saja \n",
      "\n",
      "pelayanan pelanggan tidak respon komentar disuruh email email saya tidak ditanggapi sudah beberapa hari yang lalu sampai sekarang tidak ada respon [[menjemukan]] saja \n",
      "\n",
      "\n"
     ]
    },
    {
     "name": "stderr",
     "output_type": "stream",
     "text": [
      "[Succeeded / Failed / Skipped / Total] 14 / 9 / 0 / 23:   5%|▍         | 23/500 [13:19<4:36:13, 34.74s/it]"
     ]
    },
    {
     "name": "stdout",
     "output_type": "stream",
     "text": [
      "--------------------------------------------- Result 23 ---------------------------------------------\n",
      "[[0 (100%)]] --> [[2 (90%)]]\n",
      "\n",
      "[[tolong]] untuk pelayana nya diperjelas [[ya]] sudah [[pesan]] tiket sudah dibayar tetapi dengan [[alasan]] bank bermasalah dan tidak ada [[pertanggungjawaban]] untuk memulangkan uang saja harus sampai ditelpon lagi dikirim by email untuk komponen tidak direspon [[kecewa]] \n",
      "\n",
      "[[membantu]] untuk pelayana nya diperjelas [[tentu]] sudah [[menceritakan]] tiket sudah dibayar tetapi dengan [[pernyataan]] bank bermasalah dan tidak ada [[kekurangan]] untuk memulangkan uang saja harus sampai ditelpon lagi dikirim by email untuk komponen tidak direspon [[mengarungi]] \n",
      "\n",
      "\n"
     ]
    },
    {
     "name": "stderr",
     "output_type": "stream",
     "text": [
      "[Succeeded / Failed / Skipped / Total] 15 / 9 / 0 / 24:   5%|▍         | 24/500 [14:04<4:39:18, 35.21s/it]"
     ]
    },
    {
     "name": "stdout",
     "output_type": "stream",
     "text": [
      "--------------------------------------------- Result 24 ---------------------------------------------\n",
      "[[0 (100%)]] --> [[2 (96%)]]\n",
      "\n",
      "luar biasa [[kecewa]] sangat dengan aplikasi ini saya sudah hubungi pusat panggilan untuk cek pemesanan saya karena saya sudah bayar dan tidak muncul e tiket nya bahkan saya sudah kirim bukti transaksi nya ke e mail hingga saat ini tidak ada pihak pusat panggilan yang menghubungi [[kecewa]] \n",
      "\n",
      "luar biasa [[menjelajah]] sangat dengan aplikasi ini saya sudah hubungi pusat panggilan untuk cek pemesanan saya karena saya sudah bayar dan tidak muncul e tiket nya bahkan saya sudah kirim bukti transaksi nya ke e mail hingga saat ini tidak ada pihak pusat panggilan yang menghubungi [[menghentikan]] \n",
      "\n",
      "\n"
     ]
    },
    {
     "name": "stderr",
     "output_type": "stream",
     "text": [
      "[Succeeded / Failed / Skipped / Total] 16 / 9 / 0 / 25:   5%|▌         | 25/500 [14:44<4:39:58, 35.36s/it]"
     ]
    },
    {
     "name": "stdout",
     "output_type": "stream",
     "text": [
      "--------------------------------------------- Result 25 ---------------------------------------------\n",
      "[[0 (100%)]] --> [[2 (78%)]]\n",
      "\n",
      "sangat [[mengecewakan]] saya [[pesan]] tiket dan sudah saya bayar padahal waktu itu belum kadaluarsa pas saya transfer tapi sampai sekarang belum dikasih kode bokong nya malah dikasih notifikasi sudah kadaluarsa lalu [[uang]] nya [[lari]] nya ke mana pas saya hubungi lewat email hanya ditanggapi sekali saja \n",
      "\n",
      "sangat [[menjelajahi]] saya [[menceritakan]] tiket dan sudah saya bayar padahal waktu itu belum kadaluarsa pas saya transfer tapi sampai sekarang belum dikasih kode bokong nya malah dikasih notifikasi sudah kadaluarsa lalu [[wang]] nya [[pendakian]] nya ke mana pas saya hubungi lewat email hanya ditanggapi sekali saja \n",
      "\n",
      "\n"
     ]
    },
    {
     "name": "stderr",
     "output_type": "stream",
     "text": [
      "[Succeeded / Failed / Skipped / Total] 16 / 10 / 0 / 26:   5%|▌         | 26/500 [15:14<4:37:45, 35.16s/it]"
     ]
    },
    {
     "name": "stdout",
     "output_type": "stream",
     "text": [
      "--------------------------------------------- Result 26 ---------------------------------------------\n",
      "[[0 (100%)]] --> [[[FAILED]]]\n",
      "\n",
      "tolong jangan order tiket pakai aplikasi ini kalau tidak mau kecewa benci banget sudah transfer etiket tidak dikirim kirim malah pesanan dibatalkan telpon pelayanan pelanggan juga tidak diangkat di email tidak dibalas \n",
      "\n",
      "\n"
     ]
    },
    {
     "name": "stderr",
     "output_type": "stream",
     "text": [
      "[Succeeded / Failed / Skipped / Total] 17 / 10 / 0 / 27:   5%|▌         | 27/500 [16:05<4:41:58, 35.77s/it]"
     ]
    },
    {
     "name": "stdout",
     "output_type": "stream",
     "text": [
      "--------------------------------------------- Result 27 ---------------------------------------------\n",
      "[[0 (100%)]] --> [[1 (48%)]]\n",
      "\n",
      "saya [[pesan]] tiket pesawat dan sudah melakukan pembayaran [[sesuai]] [[instruksi]] namun sudah lebih dari jam belum ada [[terbit]] e tiket malahan status pesanan saya malah jadi pemesanan kadaluarsa komplain sudah saya lakukan melalui email dan telpon pelayanan [[pelanggan]] sampai sekarang belum ada [[penyelesaian]] yang berarti ini sangat [[merugikan]] \n",
      "\n",
      "saya [[mengarahkan]] tiket pesawat dan sudah melakukan pembayaran [[serupa]] [[amaran]] namun sudah lebih dari jam belum ada [[bermula]] e tiket malahan status pesanan saya malah jadi pemesanan kadaluarsa komplain sudah saya lakukan melalui email dan telpon pelayanan [[penyumbang]] sampai sekarang belum ada [[perjanjian]] yang berarti ini sangat [[berharga]] \n",
      "\n",
      "\n"
     ]
    },
    {
     "name": "stderr",
     "output_type": "stream",
     "text": [
      "[Succeeded / Failed / Skipped / Total] 17 / 11 / 0 / 28:   6%|▌         | 28/500 [16:38<4:40:27, 35.65s/it]"
     ]
    },
    {
     "name": "stdout",
     "output_type": "stream",
     "text": [
      "--------------------------------------------- Result 28 ---------------------------------------------\n",
      "[[0 (100%)]] --> [[[FAILED]]]\n",
      "\n",
      "saya pesan ticket sampai sekarang tidak ada konformasi nya uang sudah ditransfer kalau seperti itu kembalikan uang nya tai sekali telepon pusat panggilan habis pulsa hampir tidak ada kembalikan uang saya jangan pernah kalian pesan tiket di sini menyesal\n",
      "\n",
      "\n"
     ]
    },
    {
     "name": "stderr",
     "output_type": "stream",
     "text": [
      "[Succeeded / Failed / Skipped / Total] 17 / 12 / 0 / 29:   6%|▌         | 29/500 [17:00<4:36:14, 35.19s/it]"
     ]
    },
    {
     "name": "stdout",
     "output_type": "stream",
     "text": [
      "--------------------------------------------- Result 29 ---------------------------------------------\n",
      "[[0 (100%)]] --> [[[FAILED]]]\n",
      "\n",
      "pembayaran sudah dilakukan tetapi e tiket tidak dikirim dikirim malah dipesan diblang kadaluarsa titip cs nya berkali berkali jwaban nya tidak ada yang membantu dan tidak sinkron semua sampai sekarang belum jelas pengembalian uang ataupun penggantian tiket disarankan tidak usah memakai aplikasi ini \n",
      "\n",
      "\n"
     ]
    },
    {
     "name": "stderr",
     "output_type": "stream",
     "text": [
      "[Succeeded / Failed / Skipped / Total] 18 / 12 / 0 / 30:   6%|▌         | 30/500 [17:42<4:37:23, 35.41s/it]"
     ]
    },
    {
     "name": "stdout",
     "output_type": "stream",
     "text": [
      "--------------------------------------------- Result 30 ---------------------------------------------\n",
      "[[0 (100%)]] --> [[2 (100%)]]\n",
      "\n",
      "sangat [[mengecewakan]] di mana kalau pesan tiket sudah dibayar sudah dikasih bukti transfer itu langsung dikasih nomor e tiket nya ini kok tidak ada konfirmasi apa sudah mendekati hari h tiba pesanan kadaluarsa pelayanan sangat [[buruk]] pelayanan pelanggan nya juga tidak [[sopan]] segera kembalikan uang pengembalian dana tiket saya \n",
      "\n",
      "sangat [[menjelajahi]] di mana kalau pesan tiket sudah dibayar sudah dikasih bukti transfer itu langsung dikasih nomor e tiket nya ini kok tidak ada konfirmasi apa sudah mendekati hari h tiba pesanan kadaluarsa pelayanan sangat [[murah]] pelayanan pelanggan nya juga tidak [[segan]] segera kembalikan uang pengembalian dana tiket saya \n",
      "\n",
      "\n"
     ]
    },
    {
     "name": "stderr",
     "output_type": "stream",
     "text": [
      "[Succeeded / Failed / Skipped / Total] 18 / 13 / 0 / 31:   6%|▌         | 31/500 [18:06<4:33:51, 35.03s/it]"
     ]
    },
    {
     "name": "stdout",
     "output_type": "stream",
     "text": [
      "--------------------------------------------- Result 31 ---------------------------------------------\n",
      "[[0 (100%)]] --> [[[FAILED]]]\n",
      "\n",
      "saya sudah komplain dengan berbagai cara tapi sangat tidak mengenakkan selain lama respon tetapi juga tidak ditanggapi saya sudah transfer uang dan sudah saya kirim tanda bukti nya tapi sampai saat ini tidak ada kejelasan sama sekali saya merasa tertipu \n",
      "\n",
      "\n"
     ]
    },
    {
     "name": "stderr",
     "output_type": "stream",
     "text": [
      "[Succeeded / Failed / Skipped / Total] 19 / 13 / 0 / 32:   6%|▋         | 32/500 [19:05<4:39:10, 35.79s/it]"
     ]
    },
    {
     "name": "stdout",
     "output_type": "stream",
     "text": [
      "--------------------------------------------- Result 32 ---------------------------------------------\n",
      "[[0 (100%)]] --> [[2 (100%)]]\n",
      "\n",
      "saya [[hilang]] juta dari apa ini karena terjadi eror saat melanjutkan pembayaran yang terpending menyebabkan isi isi data penumpang dan terjadi kesalahan flight [[kecewa]] sekali dengan fasilitas yang ada \n",
      "\n",
      "saya [[rindu]] juta dari apa ini karena terjadi eror saat melanjutkan pembayaran yang terpending menyebabkan isi isi data penumpang dan terjadi kesalahan flight [[menjelajah]] sekali dengan fasilitas yang ada \n",
      "\n",
      "\n"
     ]
    },
    {
     "name": "stderr",
     "output_type": "stream",
     "text": [
      "[Succeeded / Failed / Skipped / Total] 20 / 13 / 0 / 33:   7%|▋         | 33/500 [20:24<4:48:50, 37.11s/it]"
     ]
    },
    {
     "name": "stdout",
     "output_type": "stream",
     "text": [
      "--------------------------------------------- Result 33 ---------------------------------------------\n",
      "[[0 (100%)]] --> [[2 (100%)]]\n",
      "\n",
      "sudah melakukan pembayaran tetapi tiket ada bukti transfer sudah dilampirkan ke email dengan alasan uang belum diterima ini niat jualan apa mau mengambil uang orang tidak lagi lagi beli tiket di tiket com sumpah asli [[tipu]] dan produk [[sampah]]\n",
      "\n",
      "sudah melakukan pembayaran tetapi tiket ada bukti transfer sudah dilampirkan ke email dengan alasan uang belum diterima ini niat jualan apa mau mengambil uang orang tidak lagi lagi beli tiket di tiket com sumpah asli [[memperdaya]] dan produk [[serasah]]\n",
      "\n",
      "\n"
     ]
    },
    {
     "name": "stderr",
     "output_type": "stream",
     "text": [
      "[Succeeded / Failed / Skipped / Total] 21 / 13 / 0 / 34:   7%|▋         | 34/500 [20:51<4:45:51, 36.81s/it]"
     ]
    },
    {
     "name": "stdout",
     "output_type": "stream",
     "text": [
      "--------------------------------------------- Result 34 ---------------------------------------------\n",
      "[[0 (100%)]] --> [[2 (99%)]]\n",
      "\n",
      "saya baru saja mengalami pesan tiket lewat ini aplikasi [[penipu]] sudah transfer uang tapi belum ada balasan dan tidak ada respon jangan pernah [[pakai]] [[aplikasi]] tak nii \n",
      "\n",
      "saya baru saja mengalami pesan tiket lewat ini aplikasi [[perantau]] sudah transfer uang tapi belum ada balasan dan tidak ada respon jangan pernah [[melindangkan]] [[ketekunan]] tak nii \n",
      "\n",
      "\n"
     ]
    },
    {
     "name": "stderr",
     "output_type": "stream",
     "text": [
      "[Succeeded / Failed / Skipped / Total] 22 / 13 / 0 / 35:   7%|▋         | 35/500 [21:05<4:40:16, 36.16s/it]"
     ]
    },
    {
     "name": "stdout",
     "output_type": "stream",
     "text": [
      "--------------------------------------------- Result 35 ---------------------------------------------\n",
      "[[0 (100%)]] --> [[1 (65%)]]\n",
      "\n",
      "biasanya pesan tiket pesawat lancar lancar saja terakhir beli tiket kereta eksekutif untuk orang sudah ditransfer sebelum waktu berakhir tetapi cek order pemesanan kadaluarsa [[menyebalkan]] \n",
      "\n",
      "biasanya pesan tiket pesawat lancar lancar saja terakhir beli tiket kereta eksekutif untuk orang sudah ditransfer sebelum waktu berakhir tetapi cek order pemesanan kadaluarsa [[keluhan]] \n",
      "\n",
      "\n"
     ]
    },
    {
     "name": "stderr",
     "output_type": "stream",
     "text": [
      "[Succeeded / Failed / Skipped / Total] 23 / 13 / 0 / 36:   7%|▋         | 36/500 [21:23<4:35:42, 35.65s/it]"
     ]
    },
    {
     "name": "stdout",
     "output_type": "stream",
     "text": [
      "--------------------------------------------- Result 36 ---------------------------------------------\n",
      "[[0 (100%)]] --> [[1 (87%)]]\n",
      "\n",
      "[[proses]] [[pengembalian]] dana lama sudah dibayar tapi kode pesan tidak dapat [[pelayanan]] kurang telepon ke [[pelayanan]] pelanggan [[pakai]] pulsa yang banyak tidak mau [[pesan]] lagi di sini\n",
      "\n",
      "[[cara]] [[pembaruan]] dana lama sudah dibayar tapi kode pesan tidak dapat [[layanan]] kurang telepon ke [[layanan]] pelanggan [[mengandaikan]] pulsa yang banyak tidak mau [[sebut]] lagi di sini\n",
      "\n",
      "\n"
     ]
    },
    {
     "name": "stderr",
     "output_type": "stream",
     "text": [
      "[Succeeded / Failed / Skipped / Total] 23 / 14 / 0 / 37:   7%|▋         | 37/500 [21:30<4:29:14, 34.89s/it]"
     ]
    },
    {
     "name": "stdout",
     "output_type": "stream",
     "text": [
      "--------------------------------------------- Result 37 ---------------------------------------------\n",
      "[[0 (100%)]] --> [[[FAILED]]]\n",
      "\n",
      "e tiket belum diterima padahal uang nya sudah ditransfer pas mau konfirmasi ke pelayanan pelanggan tidak pernah direspons e mail juga tidak dijawab mantap bikin kecewa saja bisa nya \n",
      "\n",
      "\n"
     ]
    },
    {
     "name": "stderr",
     "output_type": "stream",
     "text": [
      "[Succeeded / Failed / Skipped / Total] 24 / 14 / 0 / 38:   8%|▊         | 38/500 [22:29<4:33:24, 35.51s/it]"
     ]
    },
    {
     "name": "stdout",
     "output_type": "stream",
     "text": [
      "--------------------------------------------- Result 38 ---------------------------------------------\n",
      "[[0 (100%)]] --> [[2 (100%)]]\n",
      "\n",
      "saya sudah berhasil transaksi sesuai nominal tagihan dan sampai saat ini belum dapat etiket ini pelayanan yang sangat [[buruk]] dan menjengkelkan sudah email beberapa kali tapi tidak ada respon pelayanan pelanggan nya yang super duper [[lemah]] otak kalau kode pesan tidak juga dikirim pokokanyak duit saya harus kembali \n",
      "\n",
      "saya sudah berhasil transaksi sesuai nominal tagihan dan sampai saat ini belum dapat etiket ini pelayanan yang sangat [[werda]] dan menjengkelkan sudah email beberapa kali tapi tidak ada respon pelayanan pelanggan nya yang super duper [[terbantut]] otak kalau kode pesan tidak juga dikirim pokokanyak duit saya harus kembali \n",
      "\n",
      "\n"
     ]
    },
    {
     "name": "stderr",
     "output_type": "stream",
     "text": [
      "[Succeeded / Failed / Skipped / Total] 24 / 15 / 0 / 39:   8%|▊         | 39/500 [22:31<4:26:15, 34.65s/it]"
     ]
    },
    {
     "name": "stdout",
     "output_type": "stream",
     "text": [
      "--------------------------------------------- Result 39 ---------------------------------------------\n",
      "[[0 (100%)]] --> [[[FAILED]]]\n",
      "\n",
      "tidak bisa menggunakan kode promo di aplikasi android telpon ke pelayanan pelanggan bilang nya tidak ada solusi nya oke uninstall dan tidak rekomendasi \n",
      "\n",
      "\n"
     ]
    },
    {
     "name": "stderr",
     "output_type": "stream",
     "text": [
      "[Succeeded / Failed / Skipped / Total] 25 / 15 / 0 / 40:   8%|▊         | 40/500 [22:51<4:22:55, 34.29s/it]"
     ]
    },
    {
     "name": "stdout",
     "output_type": "stream",
     "text": [
      "--------------------------------------------- Result 40 ---------------------------------------------\n",
      "[[0 (100%)]] --> [[2 (100%)]]\n",
      "\n",
      "[[menyesal]] pesan tiket pesawat di tiket com sudah di transfer dibilang transaksi kedaluarsa pulsa [[habis]] banyak untuk telpon pelayanan pelanggan \n",
      "\n",
      "[[insaf]] pesan tiket pesawat di tiket com sudah di transfer dibilang transaksi kedaluarsa pulsa [[menyudahkan]] banyak untuk telpon pelayanan pelanggan \n",
      "\n",
      "\n"
     ]
    },
    {
     "name": "stderr",
     "output_type": "stream",
     "text": [
      "[Succeeded / Failed / Skipped / Total] 25 / 16 / 0 / 41:   8%|▊         | 41/500 [22:59<4:17:24, 33.65s/it]"
     ]
    },
    {
     "name": "stdout",
     "output_type": "stream",
     "text": [
      "--------------------------------------------- Result 41 ---------------------------------------------\n",
      "[[0 (100%)]] --> [[[FAILED]]]\n",
      "\n",
      "di saat saya salah pembelian pengembalian uang cuma itu tidak masalah abang saya tetapi sudah bulan belum ada juga pengembalian nya tiket com tidak bisa dipercaya \n",
      "\n",
      "\n"
     ]
    },
    {
     "name": "stderr",
     "output_type": "stream",
     "text": [
      "[Succeeded / Failed / Skipped / Total] 26 / 16 / 0 / 42:   8%|▊         | 42/500 [23:07<4:12:15, 33.05s/it]"
     ]
    },
    {
     "name": "stdout",
     "output_type": "stream",
     "text": [
      "--------------------------------------------- Result 42 ---------------------------------------------\n",
      "[[0 (100%)]] --> [[2 (100%)]]\n",
      "\n",
      "sangat [[kecewa]] dengan pelayanan nya saya sudah transfer tapi sampai sekarang belum ada konfirmasi padahal sudah kirim bukti transfer dan sudah telpon ke cs nya \n",
      "\n",
      "sangat [[menjelajah]] dengan pelayanan nya saya sudah transfer tapi sampai sekarang belum ada konfirmasi padahal sudah kirim bukti transfer dan sudah telpon ke cs nya \n",
      "\n",
      "\n"
     ]
    },
    {
     "name": "stderr",
     "output_type": "stream",
     "text": [
      "[Succeeded / Failed / Skipped / Total] 27 / 16 / 0 / 43:   9%|▊         | 43/500 [23:14<4:07:02, 32.43s/it]"
     ]
    },
    {
     "name": "stdout",
     "output_type": "stream",
     "text": [
      "--------------------------------------------- Result 43 ---------------------------------------------\n",
      "[[0 (100%)]] --> [[1 (95%)]]\n",
      "\n",
      "saya [[kecewa]] sama aplikasi ini padahal [[cek]] in nya [[jam]] malahan saya ketinggal pesawat kembalikan [[uang]] saya \n",
      "\n",
      "saya [[menjelajah]] sama aplikasi ini padahal [[audit]] in nya [[ketika]] malahan saya ketinggal pesawat kembalikan [[penukar]] saya \n",
      "\n",
      "\n"
     ]
    },
    {
     "name": "stderr",
     "output_type": "stream",
     "text": [
      "[Succeeded / Failed / Skipped / Total] 28 / 16 / 0 / 44:   9%|▉         | 44/500 [24:59<4:19:04, 34.09s/it]"
     ]
    },
    {
     "name": "stdout",
     "output_type": "stream",
     "text": [
      "--------------------------------------------- Result 44 ---------------------------------------------\n",
      "[[0 (100%)]] --> [[2 (83%)]]\n",
      "\n",
      "tiket kadaluarsa padahal sudah bayar [[kacau]] [[mengganggu]] waktu dan [[rencana]] saya [[sistem]] nya tidak [[bagus]] pelayanan [[pelanggan]] nya tidak professional kalau tidak mau [[kerja]] [[suruh]] jangan [[kerja]] \n",
      "\n",
      "tiket kadaluarsa padahal sudah bayar [[menggairahkan]] [[menigas]] waktu dan [[pemerintahan]] saya [[peranti]] nya tidak [[meruak]] pelayanan [[tajaan]] nya tidak professional kalau tidak mau [[membuat]] [[membuat]] jangan [[melangsungkan]] \n",
      "\n",
      "\n"
     ]
    },
    {
     "name": "stderr",
     "output_type": "stream",
     "text": [
      "[Succeeded / Failed / Skipped / Total] 29 / 16 / 0 / 45:   9%|▉         | 45/500 [25:11<4:14:38, 33.58s/it]"
     ]
    },
    {
     "name": "stdout",
     "output_type": "stream",
     "text": [
      "--------------------------------------------- Result 45 ---------------------------------------------\n",
      "[[0 (100%)]] --> [[2 (100%)]]\n",
      "\n",
      "maaf ya saya uninstall saya [[kecewa]] karena sudah melakukan pembayaran tetapi tidak dikonfirmasi saya sudah komplain via email tetapi respon nya sangat [[lambat]] \n",
      "\n",
      "maaf ya saya uninstall saya [[mogok]] karena sudah melakukan pembayaran tetapi tidak dikonfirmasi saya sudah komplain via email tetapi respon nya sangat [[kasip]] \n",
      "\n",
      "\n"
     ]
    },
    {
     "name": "stderr",
     "output_type": "stream",
     "text": [
      "[Succeeded / Failed / Skipped / Total] 30 / 16 / 0 / 46:   9%|▉         | 46/500 [25:26<4:11:01, 33.17s/it]"
     ]
    },
    {
     "name": "stdout",
     "output_type": "stream",
     "text": [
      "--------------------------------------------- Result 46 ---------------------------------------------\n",
      "[[0 (100%)]] --> [[2 (77%)]]\n",
      "\n",
      "serem melihat [[pengalaman]] yang sudah [[pesan]] di sini [[mending]] uninstal saja [[aplikasi]] abal abal ini [[mending]] [[pakai]] [[burung]] [[biru]] saja jelas \n",
      "\n",
      "serem melihat [[berumah]] yang sudah [[menyarankan]] di sini [[khair]] uninstal saja [[pemetaan]] abal abal ini [[mulia]] [[melindangkan]] [[unggas]] [[kebiru-biruan]] saja jelas \n",
      "\n",
      "\n"
     ]
    },
    {
     "name": "stderr",
     "output_type": "stream",
     "text": [
      "[Succeeded / Failed / Skipped / Total] 31 / 16 / 0 / 47:   9%|▉         | 47/500 [25:39<4:07:22, 32.77s/it]"
     ]
    },
    {
     "name": "stdout",
     "output_type": "stream",
     "text": [
      "--------------------------------------------- Result 47 ---------------------------------------------\n",
      "[[0 (100%)]] --> [[2 (100%)]]\n",
      "\n",
      "minta dikembalikan karena permasalahan bencana alam tapi tidak ada respon baik dari pelanggan nya sangat [[mengecewakan]] \n",
      "\n",
      "minta dikembalikan karena permasalahan bencana alam tapi tidak ada respon baik dari pelanggan nya sangat [[menganiaya]] \n",
      "\n",
      "\n"
     ]
    },
    {
     "name": "stderr",
     "output_type": "stream",
     "text": [
      "[Succeeded / Failed / Skipped / Total] 32 / 16 / 0 / 48:  10%|▉         | 48/500 [26:08<4:06:06, 32.67s/it]"
     ]
    },
    {
     "name": "stdout",
     "output_type": "stream",
     "text": [
      "--------------------------------------------- Result 48 ---------------------------------------------\n",
      "[[0 (100%)]] --> [[2 (95%)]]\n",
      "\n",
      "[[aplikasi]] [[tipu]] sialan [[mengembalikan]] duit gua gua minta prtnggungjawaban [[susah]] sekali sialan [[menyebalkan]] \n",
      "\n",
      "[[kerajinan]] [[memujuk]] sialan [[menyingkir]] duit gua gua minta prtnggungjawaban [[menjerihkan]] sekali sialan [[keluhan]] \n",
      "\n",
      "\n"
     ]
    },
    {
     "name": "stderr",
     "output_type": "stream",
     "text": [
      "[Succeeded / Failed / Skipped / Total] 33 / 16 / 0 / 49:  10%|▉         | 49/500 [26:22<4:02:49, 32.31s/it]"
     ]
    },
    {
     "name": "stdout",
     "output_type": "stream",
     "text": [
      "--------------------------------------------- Result 49 ---------------------------------------------\n",
      "[[0 (100%)]] --> [[2 (85%)]]\n",
      "\n",
      "saya kemarin batalkan tiket pesawat karena salah ordrer kami sudah minta dikembalikan dan dapat balasan baru diproses tapi kenapa proses lama tidak seperti traveloka saat itu langsung dikembalikan pelayanan [[pelanggan]] pun [[telepon]] nya [[tarif]] [[mahal]] ini sudah lebih tiga hari setelah saya [[baca]] ternyata banyak pelanggan yang dibuat [[kecewa]] \n",
      "\n",
      "saya kemarin batalkan tiket pesawat karena salah ordrer kami sudah minta dikembalikan dan dapat balasan baru diproses tapi kenapa proses lama tidak seperti traveloka saat itu langsung dikembalikan pelayanan [[nasabah]] pun [[telefon]] nya [[cukai]] [[berharga]] ini sudah lebih tiga hari setelah saya [[berdoa]] ternyata banyak pelanggan yang dibuat [[menjelajahi]] \n",
      "\n",
      "\n"
     ]
    },
    {
     "name": "stderr",
     "output_type": "stream",
     "text": [
      "[Succeeded / Failed / Skipped / Total] 33 / 17 / 0 / 50:  10%|█         | 50/500 [26:45<4:00:52, 32.12s/it]"
     ]
    },
    {
     "name": "stdout",
     "output_type": "stream",
     "text": [
      "--------------------------------------------- Result 50 ---------------------------------------------\n",
      "[[0 (100%)]] --> [[[FAILED]]]\n",
      "\n",
      "tolong ya dana pengembalian dana saya ini sudah berbulan bulan saya email berkali kali tidak dibalas masalah nya ini bukan ratusan ribu atau satu dua jutaan sama sekali tidak bertanggung jawab dan sangat mengecewakan\n",
      "\n",
      "\n"
     ]
    },
    {
     "name": "stderr",
     "output_type": "stream",
     "text": [
      "[Succeeded / Failed / Skipped / Total] 33 / 18 / 0 / 51:  10%|█         | 51/500 [27:03<3:58:10, 31.83s/it]"
     ]
    },
    {
     "name": "stdout",
     "output_type": "stream",
     "text": [
      "--------------------------------------------- Result 51 ---------------------------------------------\n",
      "[[0 (100%)]] --> [[[FAILED]]]\n",
      "\n",
      "saya melakukan pemesanan dan sudah transfer tapi etiket belum juga masuk dana saya juga belum ditransfer bahkan layanan live obrolan nya tidak ada menyebalkan \n",
      "\n",
      "\n"
     ]
    },
    {
     "name": "stderr",
     "output_type": "stream",
     "text": [
      "[Succeeded / Failed / Skipped / Total] 34 / 18 / 0 / 52:  10%|█         | 52/500 [27:17<3:55:10, 31.50s/it]"
     ]
    },
    {
     "name": "stdout",
     "output_type": "stream",
     "text": [
      "--------------------------------------------- Result 52 ---------------------------------------------\n",
      "[[0 (100%)]] --> [[2 (98%)]]\n",
      "\n",
      "sebelumnya saya senang sekali menggunakan [[aplikasi]] ini tetapi sekarang agak [[kecewa]] kenapa diminta update dan karena belum diupdate [[aplikasi]] tidak dapat dijalankan pertanyaan saya update terbaru ini kenapa minta [[izin]] akses ke kontak dan telpon ini membuat konsumen tidak [[nyaman]] \n",
      "\n",
      "sebelumnya saya senang sekali menggunakan [[kerajinan]] ini tetapi sekarang agak [[menjelajahi]] kenapa diminta update dan karena belum diupdate [[permohonan]] tidak dapat dijalankan pertanyaan saya update terbaru ini kenapa minta [[berkat]] akses ke kontak dan telpon ini membuat konsumen tidak [[romantik]] \n",
      "\n",
      "\n"
     ]
    },
    {
     "name": "stderr",
     "output_type": "stream",
     "text": [
      "[Succeeded / Failed / Skipped / Total] 35 / 18 / 0 / 53:  11%|█         | 53/500 [28:09<3:57:27, 31.87s/it]"
     ]
    },
    {
     "name": "stdout",
     "output_type": "stream",
     "text": [
      "--------------------------------------------- Result 53 ---------------------------------------------\n",
      "[[0 (100%)]] --> [[1 (63%)]]\n",
      "\n",
      "sudah hampir bulan ini [[pengembalian]] dana [[dana]] tidak balik [[kali]] dapat notifikasi email [[berisi]] [[pengembalian]] dana dana sudah dikembalikan tapi kenyataan tidak ada dana yang [[masuk]] ke rekening saya dua [[kali]] juga [[suruh]] upload mutasi rekening telpon [[pelayanan]] [[pelanggan]] cuma bilang mengikuti naik saja sampai sekarang [[dana]] tidak balik \n",
      "\n",
      "sudah hampir bulan ini [[pulih]] dana [[simpanan]] tidak balik [[sungai]] dapat notifikasi email [[memegat]] [[balasan]] dana dana sudah dikembalikan tapi kenyataan tidak ada dana yang [[memasuki]] ke rekening saya dua [[ketika]] juga [[menghendaki]] upload mutasi rekening telpon [[khidmat]] [[anjuran]] cuma bilang mengikuti naik saja sampai sekarang [[penyumbangan]] tidak balik \n",
      "\n",
      "\n"
     ]
    },
    {
     "name": "stderr",
     "output_type": "stream",
     "text": [
      "[Succeeded / Failed / Skipped / Total] 36 / 18 / 0 / 54:  11%|█         | 54/500 [28:55<3:58:50, 32.13s/it]"
     ]
    },
    {
     "name": "stdout",
     "output_type": "stream",
     "text": [
      "--------------------------------------------- Result 54 ---------------------------------------------\n",
      "[[0 (100%)]] --> [[2 (95%)]]\n",
      "\n",
      "sangat [[jelek]] pelayanan nya saya [[transfer]] [[kelebihan]] saja tidak dikasih tiket [[pesan]] dan proses pengembalian [[dana]] nya lama [[banget]] sedangkan saya harus [[beli]] tiket baru lagi karena [[orang]] tua saya [[sakit]] tapi tidak ada [[kebijakan]] nya malah disuruh tunggu hari [[jelek]] sekali \n",
      "\n",
      "sangat [[bangpak]] pelayanan nya saya [[pindahan]] [[membantu]] saja tidak dikasih tiket [[bercakap]] dan proses pengembalian [[modal]] nya lama [[metah]] sedangkan saya harus [[memperoleh]] tiket baru lagi karena [[membentuk]] tua saya [[uzur]] tapi tidak ada [[brilian]] nya malah disuruh tunggu hari [[dahsyat]] sekali \n",
      "\n",
      "\n"
     ]
    },
    {
     "name": "stderr",
     "output_type": "stream",
     "text": [
      "[Succeeded / Failed / Skipped / Total] 36 / 19 / 0 / 55:  11%|█         | 55/500 [29:15<3:56:43, 31.92s/it]"
     ]
    },
    {
     "name": "stdout",
     "output_type": "stream",
     "text": [
      "--------------------------------------------- Result 55 ---------------------------------------------\n",
      "[[0 (100%)]] --> [[[FAILED]]]\n",
      "\n",
      "terminal nya tidak ditulis tahu dari mana saya kontak tidak ada balasan mending aplikasi sebelah lebih oke baru sekali coba sudah kayak gini kesan nya tidak asik \n",
      "\n",
      "\n"
     ]
    },
    {
     "name": "stderr",
     "output_type": "stream",
     "text": [
      "[Succeeded / Failed / Skipped / Total] 37 / 19 / 0 / 56:  11%|█         | 56/500 [29:35<3:54:38, 31.71s/it]"
     ]
    },
    {
     "name": "stdout",
     "output_type": "stream",
     "text": [
      "--------------------------------------------- Result 56 ---------------------------------------------\n",
      "[[0 (100%)]] --> [[2 (100%)]]\n",
      "\n",
      "kami meyewa kamar sangat [[kecewa]] dengan fasilitas yang didapat mulai dari ac yang tidak berfungsi dengan baik alat cukur di kamar yang tidak layak pakai sampai dapat apel yang [[busuk]] di evening coctail \n",
      "\n",
      "kami meyewa kamar sangat [[menjelajahi]] dengan fasilitas yang didapat mulai dari ac yang tidak berfungsi dengan baik alat cukur di kamar yang tidak layak pakai sampai dapat apel yang [[cemar]] di evening coctail \n",
      "\n",
      "\n"
     ]
    },
    {
     "name": "stderr",
     "output_type": "stream",
     "text": [
      "[Succeeded / Failed / Skipped / Total] 38 / 19 / 0 / 57:  11%|█▏        | 57/500 [30:08<3:54:11, 31.72s/it]"
     ]
    },
    {
     "name": "stdout",
     "output_type": "stream",
     "text": [
      "--------------------------------------------- Result 57 ---------------------------------------------\n",
      "[[0 (100%)]] --> [[2 (100%)]]\n",
      "\n",
      "gue merasa dirugikan banget sih ini harga miyako dispenser yang dp kualitas nya sama [[kayak]] profesional meja dispenser sanex ini tidak tahu gue saja yang mengalahkan atau bagaimana tapi yang pasti cold sama hot nya tidak [[berfungsi]] \n",
      "\n",
      "gue merasa dirugikan banget sih ini harga miyako dispenser yang dp kualitas nya sama [[suka]] profesional meja dispenser sanex ini tidak tahu gue saja yang mengalahkan atau bagaimana tapi yang pasti cold sama hot nya tidak [[membuyarkan]] \n",
      "\n",
      "\n"
     ]
    },
    {
     "name": "stderr",
     "output_type": "stream",
     "text": [
      "[Succeeded / Failed / Skipped / Total] 39 / 19 / 0 / 58:  12%|█▏        | 58/500 [31:22<3:59:07, 32.46s/it]"
     ]
    },
    {
     "name": "stdout",
     "output_type": "stream",
     "text": [
      "--------------------------------------------- Result 58 ---------------------------------------------\n",
      "[[0 (100%)]] --> [[2 (79%)]]\n",
      "\n",
      "bicara kemiskinan tetapi hidup dengan kemewahan bicara kesenjangan tetapi harta triliunan bicara cinta nkri tetapi ngemplang pajak bicara kelaparan tetapi tidak bisa tahan lapar [[aneh]] \n",
      "\n",
      "bicara kemiskinan tetapi hidup dengan kemewahan bicara kesenjangan tetapi harta triliunan bicara cinta nkri tetapi ngemplang pajak bicara kelaparan tetapi tidak bisa tahan lapar [[menakjubkan]] \n",
      "\n",
      "\n"
     ]
    },
    {
     "name": "stderr",
     "output_type": "stream",
     "text": [
      "[Succeeded / Failed / Skipped / Total] 39 / 20 / 0 / 59:  12%|█▏        | 59/500 [32:44<4:04:40, 33.29s/it]"
     ]
    },
    {
     "name": "stdout",
     "output_type": "stream",
     "text": [
      "--------------------------------------------- Result 59 ---------------------------------------------\n",
      "[[0 (100%)]] --> [[[FAILED]]]\n",
      "\n",
      "bicara kedamaian tetapi suka bikin gaduh bicara lawan isu bohong tetapi suka bicara ngawur yang kayak begini tidak pantas dipercaya jadi pemimpin \n",
      "\n",
      "\n"
     ]
    },
    {
     "name": "stderr",
     "output_type": "stream",
     "text": [
      "[Succeeded / Failed / Skipped / Total] 40 / 20 / 0 / 60:  12%|█▏        | 60/500 [34:08<4:10:19, 34.13s/it]"
     ]
    },
    {
     "name": "stdout",
     "output_type": "stream",
     "text": [
      "--------------------------------------------- Result 60 ---------------------------------------------\n",
      "[[0 (100%)]] --> [[2 (89%)]]\n",
      "\n",
      "buat kamu yang ke wattpad hanya buat mereport author yang bikin ff bxb [[mending]] cari kerjaan yang lebih berfaedah daripada menganjurkan karya [[orang]] [[membayangkan]] semua ide yang dibikin capek capek hilang gara gara orang yang [[gemar]] mereport karya orang lain kalau gasuka bab ya enggak usah [[lihat]] \n",
      "\n",
      "buat kamu yang ke wattpad hanya buat mereport author yang bikin ff bxb [[tulus]] cari kerjaan yang lebih berfaedah daripada menganjurkan karya [[memisalkan]] [[merefleksikan]] semua ide yang dibikin capek capek hilang gara gara orang yang [[sayang]] mereport karya orang lain kalau gasuka bab ya enggak usah [[mencagun]] \n",
      "\n",
      "\n"
     ]
    },
    {
     "name": "stderr",
     "output_type": "stream",
     "text": [
      "[Succeeded / Failed / Skipped / Total] 41 / 20 / 0 / 61:  12%|█▏        | 61/500 [35:15<4:13:44, 34.68s/it]"
     ]
    },
    {
     "name": "stdout",
     "output_type": "stream",
     "text": [
      "--------------------------------------------- Result 61 ---------------------------------------------\n",
      "[[0 (100%)]] --> [[2 (50%)]]\n",
      "\n",
      "betul era sebelum perbedaan politik suatu hal yang biasa [[media]] sosial damai sejak jokowi nyapres pendukung pendukung nya [[suka]] [[cari]] [[ribut]] ke yang berbeda contoh di pilgub dki kami ikut ulama dibilang radikal intoleran jangan bawa bawa agama dan ulama sekarang [[ya]] dengan jadi cawapres yang tidak [[pilih]] dibilang anti ulama hadeuh [[pusing]] \n",
      "\n",
      "betul era sebelum perbedaan politik suatu hal yang biasa [[sederhana]] sosial damai sejak jokowi nyapres pendukung pendukung nya [[berbahagia]] [[meneliti]] [[hiruk]] ke yang berbeda contoh di pilgub dki kami ikut ulama dibilang radikal intoleran jangan bawa bawa agama dan ulama sekarang [[yakin]] dengan jadi cawapres yang tidak [[meluwengkan]] dibilang anti ulama hadeuh [[perubahan]] \n",
      "\n",
      "\n"
     ]
    },
    {
     "name": "stderr",
     "output_type": "stream",
     "text": [
      "[Succeeded / Failed / Skipped / Total] 42 / 20 / 0 / 62:  12%|█▏        | 62/500 [36:13<4:15:56, 35.06s/it]"
     ]
    },
    {
     "name": "stdout",
     "output_type": "stream",
     "text": [
      "--------------------------------------------- Result 62 ---------------------------------------------\n",
      "[[0 (100%)]] --> [[2 (88%)]]\n",
      "\n",
      "[[suka]] kesal dengan kpopers yang mukulin pangsek [[sumpah]] saya [[kesal]] [[banget]] sama kalian saya dukung yanglek karena dia satu satu nya rapper yang [[muka]] nya seperti lipatan kulit badak kenapa kalian tidak mengajak saya dan tidak dimatikan sekalian atau direndam [[pakai]] rinso biar bening gue kan [[benci]] banget sama dia \n",
      "\n",
      "[[senang]] kesal dengan kpopers yang mukulin pangsek [[berbakti]] saya [[taubat]] [[sangat]] sama kalian saya dukung yanglek karena dia satu satu nya rapper yang [[gelendong]] nya seperti lipatan kulit badak kenapa kalian tidak mengajak saya dan tidak dimatikan sekalian atau direndam [[melindangkan]] rinso biar bening gue kan [[meluahkan]] banget sama dia \n",
      "\n",
      "\n"
     ]
    },
    {
     "name": "stderr",
     "output_type": "stream",
     "text": [
      "[Succeeded / Failed / Skipped / Total] 42 / 21 / 0 / 63:  13%|█▎        | 63/500 [37:35<4:20:45, 35.80s/it]"
     ]
    },
    {
     "name": "stdout",
     "output_type": "stream",
     "text": [
      "--------------------------------------------- Result 63 ---------------------------------------------\n",
      "[[0 (100%)]] --> [[[FAILED]]]\n",
      "\n",
      "entah kenapa saya tidak suka melihat cara politisi mengemis suara dengan mengorbankan kemuliaan ulama kalau alim yang punya track record di partai sih tidak masalah ini kiai dengan ruf sudah setua itu harus lagi menerima caci maki dan tekanan terlalu kejam saya rasa kejam banget malah \n",
      "\n",
      "\n"
     ]
    },
    {
     "name": "stderr",
     "output_type": "stream",
     "text": [
      "[Succeeded / Failed / Skipped / Total] 43 / 21 / 0 / 64:  13%|█▎        | 64/500 [38:25<4:21:47, 36.03s/it]"
     ]
    },
    {
     "name": "stdout",
     "output_type": "stream",
     "text": [
      "--------------------------------------------- Result 64 ---------------------------------------------\n",
      "[[0 (100%)]] --> [[2 (48%)]]\n",
      "\n",
      "gua enggak [[suka]] cara pelatih timnas u yang melarang pemain nya diwawancara sama teman teman media di luar sana justru pemain muda diajari public speaking baik di depan media maupun di depan rakyat harus nya pelatih atau manager cukup membatasi apa yang tidak boleh dishare ke media \n",
      "\n",
      "gua enggak [[menyenangi]] cara pelatih timnas u yang melarang pemain nya diwawancara sama teman teman media di luar sana justru pemain muda diajari public speaking baik di depan media maupun di depan rakyat harus nya pelatih atau manager cukup membatasi apa yang tidak boleh dishare ke media \n",
      "\n",
      "\n"
     ]
    },
    {
     "name": "stderr",
     "output_type": "stream",
     "text": [
      "[Succeeded / Failed / Skipped / Total] 44 / 21 / 0 / 65:  13%|█▎        | 65/500 [38:30<4:17:40, 35.54s/it]"
     ]
    },
    {
     "name": "stdout",
     "output_type": "stream",
     "text": [
      "--------------------------------------------- Result 65 ---------------------------------------------\n",
      "[[0 (99%)]] --> [[1 (100%)]]\n",
      "\n",
      "takdir politik ahy belum bisa ikut kontestasi pilpres walaupun ahy legowo kami tetap [[kecewa]] \n",
      "\n",
      "takdir politik ahy belum bisa ikut kontestasi pilpres walaupun ahy legowo kami tetap [[menjelajah]] \n",
      "\n",
      "\n"
     ]
    },
    {
     "name": "stderr",
     "output_type": "stream",
     "text": [
      "[Succeeded / Failed / Skipped / Total] 45 / 21 / 0 / 66:  13%|█▎        | 66/500 [39:31<4:19:51, 35.93s/it]"
     ]
    },
    {
     "name": "stdout",
     "output_type": "stream",
     "text": [
      "--------------------------------------------- Result 66 ---------------------------------------------\n",
      "[[0 (100%)]] --> [[2 (94%)]]\n",
      "\n",
      "yang mengira politik itu cuma soal dukung partai tokoh atau [[kepentingan]] nya saja pasti kemarin dan hari ini [[kecewa]] ketika ekspektasi nya tidak terpenuhi politik itu sarana [[mewujudkan]] amanat [[pembukaan]] uud untuk bangsa ini [[tokoh]] [[partai]] itu cuma [[alat]] saja \n",
      "\n",
      "yang mengira politik itu cuma soal dukung partai tokoh atau [[minat]] nya saja pasti kemarin dan hari ini [[menggundahkan]] ketika ekspektasi nya tidak terpenuhi politik itu sarana [[menggugah]] amanat [[pertama]] uud untuk bangsa ini [[kes]] [[sambutan]] itu cuma [[pesawat]] saja \n",
      "\n",
      "\n"
     ]
    },
    {
     "name": "stderr",
     "output_type": "stream",
     "text": [
      "[Succeeded / Failed / Skipped / Total] 46 / 21 / 0 / 67:  13%|█▎        | 67/500 [39:37<4:16:03, 35.48s/it]"
     ]
    },
    {
     "name": "stdout",
     "output_type": "stream",
     "text": [
      "--------------------------------------------- Result 67 ---------------------------------------------\n",
      "[[0 (100%)]] --> [[2 (100%)]]\n",
      "\n",
      "saya [[kecewa]] sama waktu beliau berhentikan sebagai mendikbud setelah saya tahu bagaimana kinerja nya baru paham mengapa dia diberhentikan sekarang pun begitu [[keputusan]] yang diambil jokowi pasti beralasan termasuk pemilihan wapres \n",
      "\n",
      "saya [[menjelajah]] sama waktu beliau berhentikan sebagai mendikbud setelah saya tahu bagaimana kinerja nya baru paham mengapa dia diberhentikan sekarang pun begitu [[kesungguhan]] yang diambil jokowi pasti beralasan termasuk pemilihan wapres \n",
      "\n",
      "\n"
     ]
    },
    {
     "name": "stderr",
     "output_type": "stream",
     "text": [
      "[Succeeded / Failed / Skipped / Total] 46 / 22 / 0 / 68:  14%|█▎        | 68/500 [39:50<4:13:06, 35.15s/it]"
     ]
    },
    {
     "name": "stdout",
     "output_type": "stream",
     "text": [
      "--------------------------------------------- Result 68 ---------------------------------------------\n",
      "[[0 (100%)]] --> [[[FAILED]]]\n",
      "\n",
      "udahlah kecewa jakarta dapet nya anies sandi terus gue harus kecewa dua kali dengan dapat prabowo sandi lagi ogah amat \n",
      "\n",
      "\n"
     ]
    },
    {
     "name": "stderr",
     "output_type": "stream",
     "text": [
      "[Succeeded / Failed / Skipped / Total] 47 / 22 / 0 / 69:  14%|█▍        | 69/500 [40:08<4:10:41, 34.90s/it]"
     ]
    },
    {
     "name": "stdout",
     "output_type": "stream",
     "text": [
      "--------------------------------------------- Result 69 ---------------------------------------------\n",
      "[[0 (100%)]] --> [[2 (97%)]]\n",
      "\n",
      "[[kecewa]] berat kepada pihak stasiun tv yang mengacak siaran nya karena rakyat jelata seperti kami tidak bisa melihat timnas u bermain percuma kita tuan rumah kalau rakyat indonesia sendiri tidak bisa melihat di tv salam buat pihak yang terkait semoga kalian semua [[puas]] \n",
      "\n",
      "[[terhalang]] berat kepada pihak stasiun tv yang mengacak siaran nya karena rakyat jelata seperti kami tidak bisa melihat timnas u bermain percuma kita tuan rumah kalau rakyat indonesia sendiri tidak bisa melihat di tv salam buat pihak yang terkait semoga kalian semua [[senang]] \n",
      "\n",
      "\n"
     ]
    },
    {
     "name": "stderr",
     "output_type": "stream",
     "text": [
      "[Succeeded / Failed / Skipped / Total] 48 / 22 / 0 / 70:  14%|█▍        | 70/500 [40:44<4:10:19, 34.93s/it]"
     ]
    },
    {
     "name": "stdout",
     "output_type": "stream",
     "text": [
      "--------------------------------------------- Result 70 ---------------------------------------------\n",
      "[[0 (100%)]] --> [[2 (48%)]]\n",
      "\n",
      "pak kami orang kampung yang khusus orang sumatera pedalaman kami sangat [[kecewa]] dengan hal penyiaran asian games sebenarnya regulasi bisa diubah karena ini wilayah indonesia jadi apa pun yang berada diindonesia harus mengikutkan perintah dari saya\n",
      "\n",
      "pak kami orang kampung yang khusus orang sumatera pedalaman kami sangat [[menjelajahi]] dengan hal penyiaran asian games sebenarnya regulasi bisa diubah karena ini wilayah indonesia jadi apa pun yang berada diindonesia harus mengikutkan perintah dari saya\n",
      "\n",
      "\n"
     ]
    },
    {
     "name": "stderr",
     "output_type": "stream",
     "text": [
      "[Succeeded / Failed / Skipped / Total] 49 / 22 / 0 / 71:  14%|█▍        | 71/500 [40:52<4:07:01, 34.55s/it]"
     ]
    },
    {
     "name": "stdout",
     "output_type": "stream",
     "text": [
      "--------------------------------------------- Result 71 ---------------------------------------------\n",
      "[[0 (92%)]] --> [[1 (100%)]]\n",
      "\n",
      "dukungan untuk asian games terbatas ini status satu kampung aku yang merasa [[kecewa]] ri nahrawi\n",
      "\n",
      "dukungan untuk asian games terbatas ini status satu kampung aku yang merasa [[menjelajah]] ri nahrawi\n",
      "\n",
      "\n"
     ]
    },
    {
     "name": "stderr",
     "output_type": "stream",
     "text": [
      "[Succeeded / Failed / Skipped / Total] 49 / 23 / 0 / 72:  14%|█▍        | 72/500 [41:09<4:04:41, 34.30s/it]"
     ]
    },
    {
     "name": "stdout",
     "output_type": "stream",
     "text": [
      "--------------------------------------------- Result 72 ---------------------------------------------\n",
      "[[0 (100%)]] --> [[[FAILED]]]\n",
      "\n",
      "tugas tv sctv itu untuk menghibur rakyat indonesia bukan malah membuat rakyat indonesia kecewa jangan selalu uang yang kalian pikirkan pak \n",
      "\n",
      "\n"
     ]
    },
    {
     "name": "stderr",
     "output_type": "stream",
     "text": [
      "[Succeeded / Failed / Skipped / Total] 50 / 23 / 0 / 73:  15%|█▍        | 73/500 [41:45<4:04:15, 34.32s/it]"
     ]
    },
    {
     "name": "stdout",
     "output_type": "stream",
     "text": [
      "--------------------------------------------- Result 73 ---------------------------------------------\n",
      "[[0 (100%)]] --> [[2 (94%)]]\n",
      "\n",
      "kami warga [[khusus]] sumatera kalimantan dan papua sangat [[kecewa]] dengan cara [[penyiaran]] asian games cabor sepak bola jangan bagikan [[alasan]] bahwa itu adalah [[aturan]] dari oympic bila bola itu adalah [[alasan]] [[basi]] memang kami [[bodoh]] apa \n",
      "\n",
      "kami warga [[masing-masing]] sumatera kalimantan dan papua sangat [[menjelajah]] dengan cara [[pancaran]] asian games cabor sepak bola jangan bagikan [[perdebatan]] bahwa itu adalah [[tertib]] dari oympic bila bola itu adalah [[keterampilan]] [[stok]] memang kami [[bambung]] apa \n",
      "\n",
      "\n"
     ]
    },
    {
     "name": "stderr",
     "output_type": "stream",
     "text": [
      "[Succeeded / Failed / Skipped / Total] 51 / 23 / 0 / 74:  15%|█▍        | 74/500 [42:13<4:03:05, 34.24s/it]"
     ]
    },
    {
     "name": "stdout",
     "output_type": "stream",
     "text": [
      "--------------------------------------------- Result 74 ---------------------------------------------\n",
      "[[0 (100%)]] --> [[2 (100%)]]\n",
      "\n",
      "sebagai resmi broadcast saya merasa [[kecewa]] dengan karena selain siaran yang di acak iklan pop naik yang menutupi layar juga tidak [[menayangkan]] pertandingan lainn nya bahkan menjelang asian games masih banyak sinetron reguler daripada tayangan asian games \n",
      "\n",
      "sebagai resmi broadcast saya merasa [[menjelajah]] dengan karena selain siaran yang di acak iklan pop naik yang menutupi layar juga tidak [[berpongah-pongah]] pertandingan lainn nya bahkan menjelang asian games masih banyak sinetron reguler daripada tayangan asian games \n",
      "\n",
      "\n"
     ]
    },
    {
     "name": "stderr",
     "output_type": "stream",
     "text": [
      "[Succeeded / Failed / Skipped / Total] 52 / 23 / 0 / 75:  15%|█▌        | 75/500 [42:37<4:01:33, 34.10s/it]"
     ]
    },
    {
     "name": "stdout",
     "output_type": "stream",
     "text": [
      "--------------------------------------------- Result 75 ---------------------------------------------\n",
      "[[0 (100%)]] --> [[2 (99%)]]\n",
      "\n",
      "rakyat [[indonesia]] lebih [[kecewa]] ini bukan settingan kayak sinetron ini [[asli]] rakyat indonesia [[kecewa]] tidak bisa nonton asian games ingat sctv bisa menjadi besar sekarang karena rakyat indonesia bukan india atau sinetron tidak jelas \n",
      "\n",
      "rakyat [[Hindia-Belanda]] lebih [[menggundahkan]] ini bukan settingan kayak sinetron ini [[unik]] rakyat indonesia [[terhalang]] tidak bisa nonton asian games ingat sctv bisa menjadi besar sekarang karena rakyat indonesia bukan india atau sinetron tidak jelas \n",
      "\n",
      "\n"
     ]
    },
    {
     "name": "stderr",
     "output_type": "stream",
     "text": [
      "[Succeeded / Failed / Skipped / Total] 53 / 23 / 0 / 76:  15%|█▌        | 76/500 [42:57<3:59:37, 33.91s/it]"
     ]
    },
    {
     "name": "stdout",
     "output_type": "stream",
     "text": [
      "--------------------------------------------- Result 76 ---------------------------------------------\n",
      "[[0 (100%)]] --> [[2 (91%)]]\n",
      "\n",
      "saya secara pribadi tetap tidak [[setuju]] dengan semua jenis ajakan apalagi untuk timnas yang main kalau liga liga top eropa apa yang lain silakan saya tidak menonton juga tidak mengapa tapi ini timnas kita tetap meminta ta pak dan pak nahrawi\n",
      "\n",
      "saya secara pribadi tetap tidak [[mencengkeram]] dengan semua jenis ajakan apalagi untuk timnas yang main kalau liga liga top eropa apa yang lain silakan saya tidak menonton juga tidak mengapa tapi ini timnas kita tetap meminta ta pak dan pak nahrawi\n",
      "\n",
      "\n"
     ]
    },
    {
     "name": "stderr",
     "output_type": "stream",
     "text": [
      "[Succeeded / Failed / Skipped / Total] 54 / 23 / 0 / 77:  15%|█▌        | 77/500 [43:17<3:57:46, 33.73s/it]"
     ]
    },
    {
     "name": "stdout",
     "output_type": "stream",
     "text": [
      "--------------------------------------------- Result 77 ---------------------------------------------\n",
      "[[0 (100%)]] --> [[2 (100%)]]\n",
      "\n",
      "saya tidak [[peduli]] milo dan kokokrunch duo lebih mahal murah mana anak saya [[kecewa]] sarapan tidak sesuai keinginan nya\n",
      "\n",
      "saya tidak [[mencemaskan]] milo dan kokokrunch duo lebih mahal murah mana anak saya [[mencegah]] sarapan tidak sesuai keinginan nya\n",
      "\n",
      "\n"
     ]
    },
    {
     "name": "stderr",
     "output_type": "stream",
     "text": [
      "[Succeeded / Failed / Skipped / Total] 55 / 23 / 0 / 78:  16%|█▌        | 78/500 [43:34<3:55:47, 33.53s/it]"
     ]
    },
    {
     "name": "stdout",
     "output_type": "stream",
     "text": [
      "--------------------------------------------- Result 78 ---------------------------------------------\n",
      "[[0 (100%)]] --> [[2 (100%)]]\n",
      "\n",
      "saya sebagai aktifis pecinta beruang indonesia apbi dengan ini merasa [[kecewa]] kepada pt nestle kenapa iklan nya sangat [[menipu]] \n",
      "\n",
      "saya sebagai aktifis pecinta beruang indonesia apbi dengan ini merasa [[menjelajah]] kepada pt nestle kenapa iklan nya sangat [[memahat]] \n",
      "\n",
      "\n"
     ]
    },
    {
     "name": "stderr",
     "output_type": "stream",
     "text": [
      "[Succeeded / Failed / Skipped / Total] 56 / 23 / 0 / 79:  16%|█▌        | 79/500 [43:42<3:52:54, 33.19s/it]"
     ]
    },
    {
     "name": "stdout",
     "output_type": "stream",
     "text": [
      "--------------------------------------------- Result 79 ---------------------------------------------\n",
      "[[0 (100%)]] --> [[2 (98%)]]\n",
      "\n",
      "[[kecewa]] sama promo yang diadakan id dan sepertinya setengah setengah sekali [[kasih]] promo ivoucher ribu tiap beli box dancow gr huft harus nya tidak usah kasih promo kalau tidak niat \n",
      "\n",
      "[[menjelajahi]] sama promo yang diadakan id dan sepertinya setengah setengah sekali [[suka]] promo ivoucher ribu tiap beli box dancow gr huft harus nya tidak usah kasih promo kalau tidak niat \n",
      "\n",
      "\n"
     ]
    },
    {
     "name": "stderr",
     "output_type": "stream",
     "text": [
      "[Succeeded / Failed / Skipped / Total] 57 / 23 / 0 / 80:  16%|█▌        | 80/500 [44:08<3:51:42, 33.10s/it]"
     ]
    },
    {
     "name": "stdout",
     "output_type": "stream",
     "text": [
      "--------------------------------------------- Result 80 ---------------------------------------------\n",
      "[[0 (100%)]] --> [[2 (100%)]]\n",
      "\n",
      "aku [[kecewa]] tadi pergi kfc dapat wedges macam tidak niat dibuat nya sudah begitu memberi mayones nya [[berantakan]] banget \n",
      "\n",
      "aku [[menjelajahi]] tadi pergi kfc dapat wedges macam tidak niat dibuat nya sudah begitu memberi mayones nya [[rincu]] banget \n",
      "\n",
      "\n"
     ]
    },
    {
     "name": "stderr",
     "output_type": "stream",
     "text": [
      "[Succeeded / Failed / Skipped / Total] 58 / 23 / 0 / 81:  16%|█▌        | 81/500 [44:20<3:49:19, 32.84s/it]"
     ]
    },
    {
     "name": "stdout",
     "output_type": "stream",
     "text": [
      "--------------------------------------------- Result 81 ---------------------------------------------\n",
      "[[0 (100%)]] --> [[2 (91%)]]\n",
      "\n",
      "kfc chizza apa [[banget]] tidak jelas rasanya rasanya ingin [[buntut]] kfc buat [[mengembalikan]] [[uang]] gue [[kecewa]] \n",
      "\n",
      "kfc chizza apa [[terlalu]] tidak jelas rasanya rasanya ingin [[belakang]] kfc buat [[menghasilkan]] [[penukar]] gue [[menjelajahi]] \n",
      "\n",
      "\n"
     ]
    },
    {
     "name": "stderr",
     "output_type": "stream",
     "text": [
      "[Succeeded / Failed / Skipped / Total] 59 / 23 / 0 / 82:  16%|█▋        | 82/500 [44:48<3:48:24, 32.79s/it]"
     ]
    },
    {
     "name": "stdout",
     "output_type": "stream",
     "text": [
      "--------------------------------------------- Result 82 ---------------------------------------------\n",
      "[[0 (75%)]] --> [[2 (100%)]]\n",
      "\n",
      "aku belajar satu perkara tentang pengharapan kalau kita berharap pada tuhan memang tak akan kecewa kalau kita berharap pd kfc barulah [[kecewa]] sangat \n",
      "\n",
      "aku belajar satu perkara tentang pengharapan kalau kita berharap pada tuhan memang tak akan kecewa kalau kita berharap pd kfc barulah [[menjelajahi]] sangat \n",
      "\n",
      "\n"
     ]
    },
    {
     "name": "stderr",
     "output_type": "stream",
     "text": [
      "[Succeeded / Failed / Skipped / Total] 60 / 23 / 0 / 83:  17%|█▋        | 83/500 [45:13<3:47:14, 32.70s/it]"
     ]
    },
    {
     "name": "stdout",
     "output_type": "stream",
     "text": [
      "--------------------------------------------- Result 83 ---------------------------------------------\n",
      "[[0 (100%)]] --> [[2 (100%)]]\n",
      "\n",
      "itu tadi saya cancel soal nya kantor saya juga sudah tutup semoga tidak kejadian seperti ini lagi karena selama saya order di pd baru pertama kali menemukan hal yang seperti ini [[kecewa]] sih \n",
      "\n",
      "itu tadi saya cancel soal nya kantor saya juga sudah tutup semoga tidak kejadian seperti ini lagi karena selama saya order di pd baru pertama kali menemukan hal yang seperti ini [[menjelajah]] sih \n",
      "\n",
      "\n"
     ]
    },
    {
     "name": "stderr",
     "output_type": "stream",
     "text": [
      "[Succeeded / Failed / Skipped / Total] 61 / 23 / 0 / 84:  17%|█▋        | 84/500 [46:06<3:48:19, 32.93s/it]"
     ]
    },
    {
     "name": "stdout",
     "output_type": "stream",
     "text": [
      "--------------------------------------------- Result 84 ---------------------------------------------\n",
      "[[0 (100%)]] --> [[2 (92%)]]\n",
      "\n",
      "dari sejujur nya saya sangat [[kecewa]] dengan kenyataan dari menangguhkan dengan alasan masalah kewangan berpunca dari kerajaan lama [[cari]] la solusi baru bukan tangguh dan tanding jari bagaimana nasib kami yang kurang mampu untuk memiliki sarjana dan pd [[kena]] [[korek]] duit tabung \n",
      "\n",
      "dari sejujur nya saya sangat [[menjelajah]] dengan kenyataan dari menangguhkan dengan alasan masalah kewangan berpunca dari kerajaan lama [[menjelajahi]] la solusi baru bukan tangguh dan tanding jari bagaimana nasib kami yang kurang mampu untuk memiliki sarjana dan pd [[menyayukan]] [[melubangi]] duit tabung \n",
      "\n",
      "\n"
     ]
    },
    {
     "name": "stderr",
     "output_type": "stream",
     "text": [
      "[Succeeded / Failed / Skipped / Total] 62 / 23 / 0 / 85:  17%|█▋        | 85/500 [47:38<3:52:34, 33.63s/it]"
     ]
    },
    {
     "name": "stdout",
     "output_type": "stream",
     "text": [
      "--------------------------------------------- Result 85 ---------------------------------------------\n",
      "[[0 (100%)]] --> [[2 (77%)]]\n",
      "\n",
      "gue paling [[suka]] cebong pada [[mengawal]] [[ketua]] kpk wkwkkwk ahok [[mengurus]] laporan keuangan saja amburadul tidak pernah dapat wtp tahun bos sudahlah saya sudah terlanjur [[kecewa]] dengan dia \n",
      "\n",
      "gue paling [[bahagia]] cebong pada [[menawan]] [[memimpin]] kpk wkwkkwk ahok [[memuat]] laporan keuangan saja amburadul tidak pernah dapat wtp tahun bos sudahlah saya sudah terlanjur [[menggagalkan]] dengan dia \n",
      "\n",
      "\n"
     ]
    },
    {
     "name": "stderr",
     "output_type": "stream",
     "text": [
      "[Succeeded / Failed / Skipped / Total] 62 / 24 / 0 / 86:  17%|█▋        | 86/500 [48:13<3:52:09, 33.65s/it]"
     ]
    },
    {
     "name": "stdout",
     "output_type": "stream",
     "text": [
      "--------------------------------------------- Result 86 ---------------------------------------------\n",
      "[[0 (100%)]] --> [[[FAILED]]]\n",
      "\n",
      "saya sih tidak suka tsb tapi dengan diperiksa nya atas laporan lama ini bukti nyata bahwa kpk itu alat politik alat penguasa bubarkan saja \n",
      "\n",
      "\n"
     ]
    },
    {
     "name": "stderr",
     "output_type": "stream",
     "text": [
      "[Succeeded / Failed / Skipped / Total] 62 / 25 / 0 / 87:  17%|█▋        | 87/500 [48:39<3:51:01, 33.56s/it]"
     ]
    },
    {
     "name": "stdout",
     "output_type": "stream",
     "text": [
      "--------------------------------------------- Result 87 ---------------------------------------------\n",
      "[[0 (100%)]] --> [[[FAILED]]]\n",
      "\n",
      "kenapa saya tidak suka sama elit elit pks yang sekarang karena elit elit yang sekarang adalah yang ngumpet di bawah meja saat elit elit terdahulu zaman am berdarah pertahankan pks dari badai kpk giliran mereka berkuasa elit am malah disingkirkan \n",
      "\n",
      "\n"
     ]
    },
    {
     "name": "stderr",
     "output_type": "stream",
     "text": [
      "[Succeeded / Failed / Skipped / Total] 63 / 25 / 0 / 88:  18%|█▊        | 88/500 [49:22<3:51:08, 33.66s/it]"
     ]
    },
    {
     "name": "stdout",
     "output_type": "stream",
     "text": [
      "--------------------------------------------- Result 88 ---------------------------------------------\n",
      "[[0 (100%)]] --> [[2 (100%)]]\n",
      "\n",
      "ini [[orang]] suka banget pidato sama resmikan acara tidak [[suka]] kerja si wakil nya cuma cengeh cengehan disamping benar benar badut\n",
      "\n",
      "ini [[unik]] suka banget pidato sama resmikan acara tidak [[mudah]] kerja si wakil nya cuma cengeh cengehan disamping benar benar badut\n",
      "\n",
      "\n"
     ]
    },
    {
     "name": "stderr",
     "output_type": "stream",
     "text": [
      "[Succeeded / Failed / Skipped / Total] 64 / 25 / 0 / 89:  18%|█▊        | 89/500 [49:55<3:50:34, 33.66s/it]"
     ]
    },
    {
     "name": "stdout",
     "output_type": "stream",
     "text": [
      "--------------------------------------------- Result 89 ---------------------------------------------\n",
      "[[0 (100%)]] --> [[2 (100%)]]\n",
      "\n",
      "charger masih benar buat telepon genggam lain cuma sama xiao mi saya suka tidak [[cocok]] yang saya bawa tiap hari lebih cocok padahal charger asus malah charger ori xiaomi nya tidak [[enak]]\n",
      "\n",
      "charger masih benar buat telepon genggam lain cuma sama xiao mi saya suka tidak [[mencampurkan]] yang saya bawa tiap hari lebih cocok padahal charger asus malah charger ori xiaomi nya tidak [[kelezatan]]\n",
      "\n",
      "\n"
     ]
    },
    {
     "name": "stderr",
     "output_type": "stream",
     "text": [
      "[Succeeded / Failed / Skipped / Total] 65 / 25 / 0 / 90:  18%|█▊        | 90/500 [50:08<3:48:25, 33.43s/it]"
     ]
    },
    {
     "name": "stdout",
     "output_type": "stream",
     "text": [
      "--------------------------------------------- Result 90 ---------------------------------------------\n",
      "[[0 (100%)]] --> [[2 (100%)]]\n",
      "\n",
      "dulu aku sempat pengin ganti handphone juga pertimbangan ku itu oppo f vivo v sama xiaomi mi a mereka bertiga dari spesifikasi dan harga mirip mirip tapi terus aku eliminasi xiaomi mi a karena dia slot nya hybrid aku tidak [[suka]] \n",
      "\n",
      "dulu aku sempat pengin ganti handphone juga pertimbangan ku itu oppo f vivo v sama xiaomi mi a mereka bertiga dari spesifikasi dan harga mirip mirip tapi terus aku eliminasi xiaomi mi a karena dia slot nya hybrid aku tidak [[jigrah]] \n",
      "\n",
      "\n"
     ]
    },
    {
     "name": "stderr",
     "output_type": "stream",
     "text": [
      "[Succeeded / Failed / Skipped / Total] 66 / 25 / 0 / 91:  18%|█▊        | 91/500 [50:43<3:47:58, 33.44s/it]"
     ]
    },
    {
     "name": "stdout",
     "output_type": "stream",
     "text": [
      "--------------------------------------------- Result 91 ---------------------------------------------\n",
      "[[0 (100%)]] --> [[2 (99%)]]\n",
      "\n",
      "[[menyesal]] tidak sih ganti handphone dari iphone ke samsung s hmm menyesal kurang enak buat pakai s dari segi camera lebih [[suka]] ip dari segi performa juga ip batre juga tidak beda jauh banget lalu s ini juga agak sering [[melar]] padahal cuma buka instagram saja ckck\n",
      "\n",
      "[[taubat]] tidak sih ganti handphone dari iphone ke samsung s hmm menyesal kurang enak buat pakai s dari segi camera lebih [[bahagia]] ip dari segi performa juga ip batre juga tidak beda jauh banget lalu s ini juga agak sering [[elastik]] padahal cuma buka instagram saja ckck\n",
      "\n",
      "\n"
     ]
    },
    {
     "name": "stderr",
     "output_type": "stream",
     "text": [
      "[Succeeded / Failed / Skipped / Total] 66 / 26 / 0 / 92:  18%|█▊        | 92/500 [52:26<3:52:33, 34.20s/it]"
     ]
    },
    {
     "name": "stdout",
     "output_type": "stream",
     "text": [
      "--------------------------------------------- Result 92 ---------------------------------------------\n",
      "[[0 (100%)]] --> [[[FAILED]]]\n",
      "\n",
      "ada yang pakai samsung a tidak dan suara nya suka mati mati begitu kalau tidak pakai headset misalnya setel musik nanti sura nya kedengaran nya kayak pause detik begitu padahal masih jalan agak sering itu aku sebel deh \n",
      "\n",
      "\n"
     ]
    },
    {
     "name": "stderr",
     "output_type": "stream",
     "text": [
      "[Succeeded / Failed / Skipped / Total] 67 / 26 / 0 / 93:  19%|█▊        | 93/500 [52:41<3:50:36, 34.00s/it]"
     ]
    },
    {
     "name": "stdout",
     "output_type": "stream",
     "text": [
      "--------------------------------------------- Result 93 ---------------------------------------------\n",
      "[[0 (100%)]] --> [[2 (99%)]]\n",
      "\n",
      "saya sangat [[kecewa]] dengan pihak sales promotion toyota saya menang hadiah samsung gear sport tetapi di kasih nya gear s yang jelas jelas harga beda jauh nama nya satria after sales promotion dia bilang sudah bersyukur saja nama nya juga hadiahlah kok begitu \n",
      "\n",
      "saya sangat [[menjelajah]] dengan pihak sales promotion toyota saya menang hadiah samsung gear sport tetapi di kasih nya gear s yang jelas jelas harga beda jauh nama nya satria after sales promotion dia bilang sudah bersyukur saja nama nya juga hadiahlah kok begitu \n",
      "\n",
      "\n"
     ]
    },
    {
     "name": "stderr",
     "output_type": "stream",
     "text": [
      "[Succeeded / Failed / Skipped / Total] 68 / 26 / 0 / 94:  19%|█▉        | 94/500 [52:51<3:48:16, 33.73s/it]"
     ]
    },
    {
     "name": "stdout",
     "output_type": "stream",
     "text": [
      "--------------------------------------------- Result 94 ---------------------------------------------\n",
      "[[0 (100%)]] --> [[2 (94%)]]\n",
      "\n",
      "id my s eror lagi hang atau apapun nama nya selama jam lebih kirain cuma hang biasa selama atau menit but ini adalah crazy [[kecewa]] parah pokok nya \n",
      "\n",
      "id my s eror lagi hang atau apapun nama nya selama jam lebih kirain cuma hang biasa selama atau menit but ini adalah crazy [[menjelajahi]] parah pokok nya \n",
      "\n",
      "\n"
     ]
    },
    {
     "name": "stderr",
     "output_type": "stream",
     "text": [
      "[Succeeded / Failed / Skipped / Total] 69 / 26 / 0 / 95:  19%|█▉        | 95/500 [52:55<3:45:39, 33.43s/it]"
     ]
    },
    {
     "name": "stdout",
     "output_type": "stream",
     "text": [
      "--------------------------------------------- Result 95 ---------------------------------------------\n",
      "[[0 (100%)]] --> [[1 (100%)]]\n",
      "\n",
      "[[kecewa]] sama iphone kalah politik dengan samsung saat nya hijrah ke samsung iphone iphone x\n",
      "\n",
      "[[menjelajahi]] sama iphone kalah politik dengan samsung saat nya hijrah ke samsung iphone iphone x\n",
      "\n",
      "\n"
     ]
    },
    {
     "name": "stderr",
     "output_type": "stream",
     "text": [
      "[Succeeded / Failed / Skipped / Total] 70 / 26 / 0 / 96:  19%|█▉        | 96/500 [53:13<3:43:59, 33.27s/it]"
     ]
    },
    {
     "name": "stdout",
     "output_type": "stream",
     "text": [
      "--------------------------------------------- Result 96 ---------------------------------------------\n",
      "[[0 (100%)]] --> [[2 (100%)]]\n",
      "\n",
      "aku [[kecewa]] dengan iphone aku [[pakai]] ip s ini lama [[gila]] \n",
      "\n",
      "aku [[menjelajahi]] dengan iphone aku [[melindangkan]] ip s ini lama [[bersemangat]] \n",
      "\n",
      "\n"
     ]
    },
    {
     "name": "stderr",
     "output_type": "stream",
     "text": [
      "[Succeeded / Failed / Skipped / Total] 71 / 26 / 0 / 97:  19%|█▉        | 97/500 [53:17<3:41:22, 32.96s/it]"
     ]
    },
    {
     "name": "stdout",
     "output_type": "stream",
     "text": [
      "--------------------------------------------- Result 97 ---------------------------------------------\n",
      "[[0 (100%)]] --> [[2 (100%)]]\n",
      "\n",
      "cukuplah sekali aku pernah [[kecewa]] dengan lenovo \n",
      "\n",
      "cukuplah sekali aku pernah [[menjelajahi]] dengan lenovo \n",
      "\n",
      "\n"
     ]
    },
    {
     "name": "stderr",
     "output_type": "stream",
     "text": [
      "[Succeeded / Failed / Skipped / Total] 72 / 26 / 0 / 98:  20%|█▉        | 98/500 [53:37<3:39:58, 32.83s/it]"
     ]
    },
    {
     "name": "stdout",
     "output_type": "stream",
     "text": [
      "--------------------------------------------- Result 98 ---------------------------------------------\n",
      "[[0 (100%)]] --> [[2 (71%)]]\n",
      "\n",
      "kemarin banget [[dengar]] cerita ini [[wajar]] dong kalau saya [[kecewa]] dengan samsung saya merasa tertipu saya tidak dapat apa yang dijanjikan di awal \n",
      "\n",
      "kemarin banget [[mengerti]] cerita ini [[bijak]] dong kalau saya [[mengarungi]] dengan samsung saya merasa tertipu saya tidak dapat apa yang dijanjikan di awal \n",
      "\n",
      "\n"
     ]
    },
    {
     "name": "stderr",
     "output_type": "stream",
     "text": [
      "[Succeeded / Failed / Skipped / Total] 73 / 26 / 0 / 99:  20%|█▉        | 99/500 [53:49<3:38:00, 32.62s/it]"
     ]
    },
    {
     "name": "stdout",
     "output_type": "stream",
     "text": [
      "--------------------------------------------- Result 99 ---------------------------------------------\n",
      "[[0 (100%)]] --> [[2 (99%)]]\n",
      "\n",
      "aku sudah x pakai samsung x [[kecewa]] aku [[menyesal]] aku tidak ingin pakai handphone merek itu lagi \n",
      "\n",
      "aku sudah x pakai samsung x [[mencegah]] aku [[bersimpati]] aku tidak ingin pakai handphone merek itu lagi \n",
      "\n",
      "\n"
     ]
    },
    {
     "name": "stderr",
     "output_type": "stream",
     "text": [
      "[Succeeded / Failed / Skipped / Total] 74 / 26 / 0 / 100:  20%|██        | 100/500 [53:57<3:35:48, 32.37s/it]"
     ]
    },
    {
     "name": "stdout",
     "output_type": "stream",
     "text": [
      "--------------------------------------------- Result 100 ---------------------------------------------\n",
      "[[0 (100%)]] --> [[2 (99%)]]\n",
      "\n",
      "samsung galaxy s standar fon samsung ini bila sampai satu peringkat dia akan lagi dijuragan sendiri nya saya pengguna samsung yang [[kecewa]] \n",
      "\n",
      "samsung galaxy s standar fon samsung ini bila sampai satu peringkat dia akan lagi dijuragan sendiri nya saya pengguna samsung yang [[menjelajah]] \n",
      "\n",
      "\n"
     ]
    },
    {
     "name": "stderr",
     "output_type": "stream",
     "text": [
      "[Succeeded / Failed / Skipped / Total] 75 / 26 / 0 / 101:  20%|██        | 101/500 [54:17<3:34:30, 32.26s/it]"
     ]
    },
    {
     "name": "stdout",
     "output_type": "stream",
     "text": [
      "--------------------------------------------- Result 101 ---------------------------------------------\n",
      "[[0 (100%)]] --> [[2 (100%)]]\n",
      "\n",
      "[[kecewa]] dengan specs desain galaxy s tidak [[sesuai]] dengan harapan terlalu biasa saja \n",
      "\n",
      "[[terbentur]] dengan specs desain galaxy s tidak [[gegadan]] dengan harapan terlalu biasa saja \n",
      "\n",
      "\n"
     ]
    },
    {
     "name": "stderr",
     "output_type": "stream",
     "text": [
      "[Succeeded / Failed / Skipped / Total] 76 / 26 / 0 / 102:  20%|██        | 102/500 [54:26<3:32:24, 32.02s/it]"
     ]
    },
    {
     "name": "stdout",
     "output_type": "stream",
     "text": [
      "--------------------------------------------- Result 102 ---------------------------------------------\n",
      "[[0 (100%)]] --> [[2 (84%)]]\n",
      "\n",
      "[[kecewa]] banget sama id pusat servis pi kan kita spent waktu untuk ke sini tidak dikasih solusi masa harus bolak balik \n",
      "\n",
      "[[menjelajah]] banget sama id pusat servis pi kan kita spent waktu untuk ke sini tidak dikasih solusi masa harus bolak balik \n",
      "\n",
      "\n"
     ]
    },
    {
     "name": "stderr",
     "output_type": "stream",
     "text": [
      "[Succeeded / Failed / Skipped / Total] 77 / 26 / 0 / 103:  21%|██        | 103/500 [54:32<3:30:13, 31.77s/it]"
     ]
    },
    {
     "name": "stdout",
     "output_type": "stream",
     "text": [
      "--------------------------------------------- Result 103 ---------------------------------------------\n",
      "[[0 (100%)]] --> [[1 (79%)]]\n",
      "\n",
      "baru sadar bahwa selama ini ternyata saya bukan apple [[penggemar]] saya adalah umat stevejob yang [[kecewa]] karena apple [[kalah]] inovasi oleh samsung \n",
      "\n",
      "baru sadar bahwa selama ini ternyata saya bukan apple [[amatir]] saya adalah umat stevejob yang [[tewas]] karena apple [[menewaskan]] inovasi oleh samsung \n",
      "\n",
      "\n"
     ]
    },
    {
     "name": "stderr",
     "output_type": "stream",
     "text": [
      "[Succeeded / Failed / Skipped / Total] 78 / 26 / 0 / 104:  21%|██        | 104/500 [55:08<3:29:58, 31.82s/it]"
     ]
    },
    {
     "name": "stdout",
     "output_type": "stream",
     "text": [
      "--------------------------------------------- Result 104 ---------------------------------------------\n",
      "[[0 (100%)]] --> [[2 (100%)]]\n",
      "\n",
      "[[kecewa]] aku dengan desain s samsung ketandusan ide kenapa bisa perusahaan besar itu keilangan [[akal]] mungkin isi orang orang nya hanya orang biasa saja \n",
      "\n",
      "[[menjelajahi]] aku dengan desain s samsung ketandusan ide kenapa bisa perusahaan besar itu keilangan [[kecerdikan]] mungkin isi orang orang nya hanya orang biasa saja \n",
      "\n",
      "\n"
     ]
    },
    {
     "name": "stderr",
     "output_type": "stream",
     "text": [
      "[Succeeded / Failed / Skipped / Total] 79 / 26 / 0 / 105:  21%|██        | 105/500 [55:14<3:27:47, 31.56s/it]"
     ]
    },
    {
     "name": "stdout",
     "output_type": "stream",
     "text": [
      "--------------------------------------------- Result 105 ---------------------------------------------\n",
      "[[0 (100%)]] --> [[2 (68%)]]\n",
      "\n",
      "samsung galaxy s saya sudah diluncurkan semalam saya [[kecewa]] desain nya standar banget ekspektasi saya cuma terwujud percuma terbawa sampai [[mimpi]] \n",
      "\n",
      "samsung galaxy s saya sudah diluncurkan semalam saya [[menggundahkan]] desain nya standar banget ekspektasi saya cuma terwujud percuma terbawa sampai [[memimpikan]] \n",
      "\n",
      "\n"
     ]
    },
    {
     "name": "stderr",
     "output_type": "stream",
     "text": [
      "[Succeeded / Failed / Skipped / Total] 80 / 26 / 0 / 106:  21%|██        | 106/500 [55:29<3:26:16, 31.41s/it]"
     ]
    },
    {
     "name": "stdout",
     "output_type": "stream",
     "text": [
      "--------------------------------------------- Result 106 ---------------------------------------------\n",
      "[[0 (100%)]] --> [[2 (59%)]]\n",
      "\n",
      "hotel mau cek in aja ribet bersihkan kamar lama [[banget]] [[kecewa]] dah ini pertama kalinya gue ke sana terus langsung dikasih first impression yang tidak bagus \n",
      "\n",
      "hotel mau cek in aja ribet bersihkan kamar lama [[sangat]] [[menjelajahi]] dah ini pertama kalinya gue ke sana terus langsung dikasih first impression yang tidak bagus \n",
      "\n",
      "\n"
     ]
    },
    {
     "name": "stderr",
     "output_type": "stream",
     "text": [
      "[Succeeded / Failed / Skipped / Total] 81 / 26 / 0 / 107:  21%|██▏       | 107/500 [56:06<3:26:04, 31.46s/it]"
     ]
    },
    {
     "name": "stdout",
     "output_type": "stream",
     "text": [
      "--------------------------------------------- Result 107 ---------------------------------------------\n",
      "[[0 (100%)]] --> [[2 (98%)]]\n",
      "\n",
      "sebagai indomie goreng mania saya merasa [[kecewa]] kalau mendapati ternyata bumbu jebol di dalam [[kemasan]] kudu bagaimana nek ngene ini [[gaduh]] tidak [[profesional]] [[banget]] \n",
      "\n",
      "sebagai indomie goreng mania saya merasa [[menjelajah]] kalau mendapati ternyata bumbu jebol di dalam [[mencocokkan]] kudu bagaimana nek ngene ini [[bergolak]] tidak [[pekerjaan]] [[metah]] \n",
      "\n",
      "\n"
     ]
    },
    {
     "name": "stderr",
     "output_type": "stream",
     "text": [
      "[Succeeded / Failed / Skipped / Total] 82 / 26 / 0 / 108:  22%|██▏       | 108/500 [56:12<3:24:00, 31.23s/it]"
     ]
    },
    {
     "name": "stdout",
     "output_type": "stream",
     "text": [
      "--------------------------------------------- Result 108 ---------------------------------------------\n",
      "[[0 (100%)]] --> [[2 (100%)]]\n",
      "\n",
      "[[kecewa]] dengan kualitas barang dari depan kantor chitato expired masih dijual untung aku masih baik tadinya ingin lapor \n",
      "\n",
      "[[menjelajah]] dengan kualitas barang dari depan kantor chitato expired masih dijual untung aku masih baik tadinya ingin lapor \n",
      "\n",
      "\n"
     ]
    },
    {
     "name": "stderr",
     "output_type": "stream",
     "text": [
      "[Succeeded / Failed / Skipped / Total] 83 / 26 / 0 / 109:  22%|██▏       | 109/500 [56:27<3:22:30, 31.07s/it]"
     ]
    },
    {
     "name": "stdout",
     "output_type": "stream",
     "text": [
      "--------------------------------------------- Result 109 ---------------------------------------------\n",
      "[[0 (100%)]] --> [[2 (100%)]]\n",
      "\n",
      "[[kecewa]] berat baru tahu pop mie goreng sudah discontinue ya why padahal itu enak banget terbaik \n",
      "\n",
      "[[menjelajah]] berat baru tahu pop mie goreng sudah discontinue ya why padahal itu enak banget terbaik \n",
      "\n",
      "\n"
     ]
    },
    {
     "name": "stderr",
     "output_type": "stream",
     "text": [
      "[Succeeded / Failed / Skipped / Total] 83 / 27 / 0 / 110:  22%|██▏       | 110/500 [56:37<3:20:45, 30.89s/it]"
     ]
    },
    {
     "name": "stdout",
     "output_type": "stream",
     "text": [
      "--------------------------------------------- Result 110 ---------------------------------------------\n",
      "[[0 (100%)]] --> [[[FAILED]]]\n",
      "\n",
      "client kita komplain kami pun sangat kecewa paling tidak bisa jujur jika tidak bisa tepat waktu untuk antar dari wtc ke indofood tower \n",
      "\n",
      "\n"
     ]
    },
    {
     "name": "stderr",
     "output_type": "stream",
     "text": [
      "[Succeeded / Failed / Skipped / Total] 84 / 27 / 0 / 111:  22%|██▏       | 111/500 [57:35<3:21:51, 31.13s/it]"
     ]
    },
    {
     "name": "stdout",
     "output_type": "stream",
     "text": [
      "--------------------------------------------- Result 111 ---------------------------------------------\n",
      "[[0 (100%)]] --> [[2 (100%)]]\n",
      "\n",
      "selesai juga bikin surat pengunduran diri dah ah tinggal tidur saja besok pagi tinggal pergi ke gudang indofood sangat [[kecewa]] \n",
      "\n",
      "selesai juga bikin surat pengunduran diri dah ah tinggal tidur saja besok pagi tinggal pergi ke gudang indofood sangat [[menjelajahi]] \n",
      "\n",
      "\n"
     ]
    },
    {
     "name": "stderr",
     "output_type": "stream",
     "text": [
      "[Succeeded / Failed / Skipped / Total] 85 / 27 / 0 / 112:  22%|██▏       | 112/500 [58:02<3:21:05, 31.10s/it]"
     ]
    },
    {
     "name": "stdout",
     "output_type": "stream",
     "text": [
      "--------------------------------------------- Result 112 ---------------------------------------------\n",
      "[[0 (100%)]] --> [[2 (86%)]]\n",
      "\n",
      "indofood [[tukang]] [[bohong]] dapat [[pulsa]] dari [[mi]] tetapi tidak di tanggepin [[kecewa]] tidak mau [[beli]] [[produk]] indofood lagi ah [[kecewa]] [[kecewa]] \n",
      "\n",
      "indofood [[pandai]] [[mengentuti]] dapat [[keinginan]] dari [[Michigan]] tetapi tidak di tanggepin [[jatuh]] tidak mau [[membelikan]] [[barangan]] indofood lagi ah [[mencegah]] [[kegagalan]] \n",
      "\n",
      "\n"
     ]
    },
    {
     "name": "stderr",
     "output_type": "stream",
     "text": [
      "[Succeeded / Failed / Skipped / Total] 86 / 27 / 0 / 113:  23%|██▎       | 113/500 [58:54<3:21:43, 31.28s/it]"
     ]
    },
    {
     "name": "stdout",
     "output_type": "stream",
     "text": [
      "--------------------------------------------- Result 113 ---------------------------------------------\n",
      "[[0 (100%)]] --> [[2 (100%)]]\n",
      "\n",
      "sumpah aku [[sedih]] banget dan kagol popmie favorit aku sudah tidak ada lagi kecewa indofood aku itu padahal hampir setiap hari makan itu \n",
      "\n",
      "sumpah aku [[terharu]] banget dan kagol popmie favorit aku sudah tidak ada lagi kecewa indofood aku itu padahal hampir setiap hari makan itu \n",
      "\n",
      "\n"
     ]
    },
    {
     "name": "stderr",
     "output_type": "stream",
     "text": [
      "[Succeeded / Failed / Skipped / Total] 87 / 27 / 0 / 114:  23%|██▎       | 114/500 [59:11<3:20:26, 31.16s/it]"
     ]
    },
    {
     "name": "stdout",
     "output_type": "stream",
     "text": [
      "--------------------------------------------- Result 114 ---------------------------------------------\n",
      "[[0 (100%)]] --> [[2 (96%)]]\n",
      "\n",
      "[[kecewa]] sama indofood kata nya di sini [[tulisan]] nya sambal abc ekstra [[pedas]] tapi [[biro]] [[biro]] [[pedas]] [[manis]] mah iya ini tidak asik ah\n",
      "\n",
      "[[menjelajahi]] sama indofood kata nya di sini [[inskripsi]] nya sambal abc ekstra [[menggerunkan]] tapi [[bagian]] [[agen]] [[menjengkelkan]] [[memikat]] mah iya ini tidak asik ah\n",
      "\n",
      "\n"
     ]
    },
    {
     "name": "stderr",
     "output_type": "stream",
     "text": [
      "[Succeeded / Failed / Skipped / Total] 88 / 27 / 0 / 115:  23%|██▎       | 115/500 [59:23<3:18:50, 30.99s/it]"
     ]
    },
    {
     "name": "stdout",
     "output_type": "stream",
     "text": [
      "--------------------------------------------- Result 115 ---------------------------------------------\n",
      "[[0 (100%)]] --> [[2 (100%)]]\n",
      "\n",
      "dengan ini saya nyatakan [[kecewa]] dengan indofood masa di indomie soto saya bubuk cabai nya [[kosong]] [[hak]] saya dihilangkan \n",
      "\n",
      "dengan ini saya nyatakan [[menjelajahi]] dengan indofood masa di indomie soto saya bubuk cabai nya [[langgas]] [[peluang]] saya dihilangkan \n",
      "\n",
      "\n"
     ]
    },
    {
     "name": "stderr",
     "output_type": "stream",
     "text": [
      "[Succeeded / Failed / Skipped / Total] 89 / 27 / 0 / 116:  23%|██▎       | 116/500 [59:27<3:16:50, 30.76s/it]"
     ]
    },
    {
     "name": "stdout",
     "output_type": "stream",
     "text": [
      "--------------------------------------------- Result 116 ---------------------------------------------\n",
      "[[0 (100%)]] --> [[1 (100%)]]\n",
      "\n",
      "[[kecewa]] sama supir taxi masa menara indofood dibilang shangrila hotel kalau memang tidak tahu ada baiknya tanya \n",
      "\n",
      "[[menjelajah]] sama supir taxi masa menara indofood dibilang shangrila hotel kalau memang tidak tahu ada baiknya tanya \n",
      "\n",
      "\n"
     ]
    },
    {
     "name": "stderr",
     "output_type": "stream",
     "text": [
      "[Succeeded / Failed / Skipped / Total] 90 / 27 / 0 / 117:  23%|██▎       | 117/500 [59:43<3:15:30, 30.63s/it]"
     ]
    },
    {
     "name": "stdout",
     "output_type": "stream",
     "text": [
      "--------------------------------------------- Result 117 ---------------------------------------------\n",
      "[[0 (100%)]] --> [[2 (100%)]]\n",
      "\n",
      "gimana ya antara [[kecewa]] atau sekadar deh sama r di indofood karena pas rendang keluar itu heboh mampus enak nya enggak ketolongan new varian noods din triliun capture dat magic \n",
      "\n",
      "gimana ya antara [[menjelajahi]] atau sekadar deh sama r di indofood karena pas rendang keluar itu heboh mampus enak nya enggak ketolongan new varian noods din triliun capture dat magic \n",
      "\n",
      "\n"
     ]
    },
    {
     "name": "stderr",
     "output_type": "stream",
     "text": [
      "[Succeeded / Failed / Skipped / Total] 91 / 27 / 0 / 118:  24%|██▎       | 118/500 [59:48<3:13:36, 30.41s/it]"
     ]
    },
    {
     "name": "stdout",
     "output_type": "stream",
     "text": [
      "--------------------------------------------- Result 118 ---------------------------------------------\n",
      "[[0 (100%)]] --> [[1 (75%)]]\n",
      "\n",
      "[[kecewa]] sama sales teh kahuripan tawarkan produk maksa harus beli sampai ngancem enggak bakal dikasih tiket kupon mudik \n",
      "\n",
      "[[menjelajah]] sama sales teh kahuripan tawarkan produk maksa harus beli sampai ngancem enggak bakal dikasih tiket kupon mudik \n",
      "\n",
      "\n"
     ]
    },
    {
     "name": "stderr",
     "output_type": "stream",
     "text": [
      "[Succeeded / Failed / Skipped / Total] 92 / 27 / 0 / 119:  24%|██▍       | 119/500 [1:00:10<3:12:40, 30.34s/it]"
     ]
    },
    {
     "name": "stdout",
     "output_type": "stream",
     "text": [
      "--------------------------------------------- Result 119 ---------------------------------------------\n",
      "[[0 (100%)]] --> [[2 (69%)]]\n",
      "\n",
      "saya sangat [[kecewa]] dengan klaim mobil saya an karpito serena b toz [[mohon]] [[penjelasan]] dari pihak bca karena [[hak]] dalam [[polis]] saya tidak dipenuh jangan merugikan [[orang]] lain \n",
      "\n",
      "saya sangat [[menjelajah]] dengan klaim mobil saya an karpito serena b toz [[mendoa]] [[tafsiran]] dari pihak bca karena [[peluang]] dalam [[mata-mata]] saya tidak dipenuh jangan merugikan [[merupakan]] lain \n",
      "\n",
      "\n"
     ]
    },
    {
     "name": "stderr",
     "output_type": "stream",
     "text": [
      "[Succeeded / Failed / Skipped / Total] 93 / 27 / 0 / 120:  24%|██▍       | 120/500 [1:00:33<3:11:44, 30.28s/it]"
     ]
    },
    {
     "name": "stdout",
     "output_type": "stream",
     "text": [
      "--------------------------------------------- Result 120 ---------------------------------------------\n",
      "[[0 (100%)]] --> [[2 (99%)]]\n",
      "\n",
      "[[kecewa]] dengan xl sudah bulan berturut berturut gagal debet ke kartu kredit bca status kartu normal padahal bulan bulan sebelumnya lancar malah [[suruh]] datang ke gerai xl buat apa ada pusat panggilan \n",
      "\n",
      "[[menjelajah]] dengan xl sudah bulan berturut berturut gagal debet ke kartu kredit bca status kartu normal padahal bulan bulan sebelumnya lancar malah [[membuat]] datang ke gerai xl buat apa ada pusat panggilan \n",
      "\n",
      "\n"
     ]
    },
    {
     "name": "stderr",
     "output_type": "stream",
     "text": [
      "[Succeeded / Failed / Skipped / Total] 94 / 27 / 0 / 121:  24%|██▍       | 121/500 [1:00:46<3:10:20, 30.13s/it]"
     ]
    },
    {
     "name": "stdout",
     "output_type": "stream",
     "text": [
      "--------------------------------------------- Result 121 ---------------------------------------------\n",
      "[[0 (100%)]] --> [[2 (84%)]]\n",
      "\n",
      "sampai saat ini benar benar enjoy deh pakai tapi tadi kita coba cash kembali sunday ya nonton bioskop di xxi epicentrum cuma bisa pkk debit bca saja tidak bisa pakai kartu lain [[penonton]] [[kecewa]] deh sad \n",
      "\n",
      "sampai saat ini benar benar enjoy deh pakai tapi tadi kita coba cash kembali sunday ya nonton bioskop di xxi epicentrum cuma bisa pkk debit bca saja tidak bisa pakai kartu lain [[menarik]] [[mencegah]] deh sad \n",
      "\n",
      "\n"
     ]
    },
    {
     "name": "stderr",
     "output_type": "stream",
     "text": [
      "[Succeeded / Failed / Skipped / Total] 95 / 27 / 0 / 122:  24%|██▍       | 122/500 [1:01:53<3:11:45, 30.44s/it]"
     ]
    },
    {
     "name": "stdout",
     "output_type": "stream",
     "text": [
      "--------------------------------------------- Result 122 ---------------------------------------------\n",
      "[[0 (100%)]] --> [[2 (58%)]]\n",
      "\n",
      "[[sungguh]] [[kecewa]] dengan pelayanan bca [[khusus]] nya [[baca]] finance wtc mg pelayanan ovet kredit yang [[sungguh]] [[mengecewakan]] sudah hampir bulan lebih belum ada kabar juga bahkan saya sudah [[membayar]] x [[tagihan]] cicilan masih belum ada kabar juga tanya ke marketing juga respon nya tidak ada \n",
      "\n",
      "[[sangat]] [[menjelajah]] dengan pelayanan bca [[istimewa]] nya [[berdeklamasi]] finance wtc mg pelayanan ovet kredit yang [[timbun]] [[menjelajah]] sudah hampir bulan lebih belum ada kabar juga bahkan saya sudah [[menguntungkan]] x [[kira-kira]] cicilan masih belum ada kabar juga tanya ke marketing juga respon nya tidak ada \n",
      "\n",
      "\n"
     ]
    },
    {
     "name": "stderr",
     "output_type": "stream",
     "text": [
      "[Succeeded / Failed / Skipped / Total] 96 / 27 / 0 / 123:  25%|██▍       | 123/500 [1:02:11<3:10:36, 30.34s/it]"
     ]
    },
    {
     "name": "stdout",
     "output_type": "stream",
     "text": [
      "--------------------------------------------- Result 123 ---------------------------------------------\n",
      "[[0 (100%)]] --> [[1 (100%)]]\n",
      "\n",
      "sedang proses penukaran produk karena awam pertama kali urusan dengan blibli maka pt bca tbk menyampaikan catatan ini [[serius]] sangat [[kecewa]] keberatan karena tidak ada itikad baik \n",
      "\n",
      "sedang proses penukaran produk karena awam pertama kali urusan dengan blibli maka pt bca tbk menyampaikan catatan ini [[penting]] sangat [[mencegah]] keberatan karena tidak ada itikad baik \n",
      "\n",
      "\n"
     ]
    },
    {
     "name": "stderr",
     "output_type": "stream",
     "text": [
      "[Succeeded / Failed / Skipped / Total] 97 / 27 / 0 / 124:  25%|██▍       | 124/500 [1:02:33<3:09:42, 30.27s/it]"
     ]
    },
    {
     "name": "stdout",
     "output_type": "stream",
     "text": [
      "--------------------------------------------- Result 124 ---------------------------------------------\n",
      "[[0 (100%)]] --> [[1 (90%)]]\n",
      "\n",
      "seperti yang sudah saya mention sebelumnya pak romi data saya diketahui semuanya oh iya jikalau [[tutup]] akun bagaimana ya dan meminta semua data saya yang di bca tidak [[tersimpan]] lagi saya [[kecewa]] ingin [[tutup]] akun bca saja biar tidak terjadi seperti ini lagi \n",
      "\n",
      "seperti yang sudah saya mention sebelumnya pak romi data saya diketahui semuanya oh iya jikalau [[memejamkan]] akun bagaimana ya dan meminta semua data saya yang di bca tidak [[menyisakan]] lagi saya [[urung]] ingin [[menutup]] akun bca saja biar tidak terjadi seperti ini lagi \n",
      "\n",
      "\n"
     ]
    },
    {
     "name": "stderr",
     "output_type": "stream",
     "text": [
      "[Succeeded / Failed / Skipped / Total] 97 / 28 / 0 / 125:  25%|██▌       | 125/500 [1:03:03<3:09:09, 30.27s/it]"
     ]
    },
    {
     "name": "stdout",
     "output_type": "stream",
     "text": [
      "--------------------------------------------- Result 125 ---------------------------------------------\n",
      "[[0 (100%)]] --> [[[FAILED]]]\n",
      "\n",
      "sebagai nasabah bank bca yang sudah lebih dari th saya merasa kecewa bca tidak dapat memberikan keamanan kepada nasabah nya bagaimana bisa uang di rekening saya habis terjadi transaksi berkali kali di tanggal mei kemarin yang bukan dilakukan oleh saya \n",
      "\n",
      "\n"
     ]
    },
    {
     "name": "stderr",
     "output_type": "stream",
     "text": [
      "[Succeeded / Failed / Skipped / Total] 97 / 29 / 0 / 126:  25%|██▌       | 126/500 [1:03:27<3:08:23, 30.22s/it]"
     ]
    },
    {
     "name": "stdout",
     "output_type": "stream",
     "text": [
      "--------------------------------------------- Result 126 ---------------------------------------------\n",
      "[[2 (100%)]] --> [[[FAILED]]]\n",
      "\n",
      "apl ini sangat membantu sekali dengan memberikan kemudahan dalam pesan tiket to bepergian ke mana pun sehingga saya tidak harus keluar lagi to mmbli tiket semoga aplikasi ini selalu lncar ya setiap x melakukan pemesanan \n",
      "\n",
      "\n"
     ]
    },
    {
     "name": "stderr",
     "output_type": "stream",
     "text": [
      "[Succeeded / Failed / Skipped / Total] 98 / 29 / 0 / 127:  25%|██▌       | 127/500 [1:03:57<3:07:49, 30.21s/it]"
     ]
    },
    {
     "name": "stdout",
     "output_type": "stream",
     "text": [
      "--------------------------------------------- Result 127 ---------------------------------------------\n",
      "[[2 (100%)]] --> [[0 (100%)]]\n",
      "\n",
      "dua kali sudah teman saya bookingkan tiket lewat aplikasi ini bagus [[bagus]] saja tidak sampai mnit kode booking nya langsung dikirimkan [[mantap]] \n",
      "\n",
      "dua kali sudah teman saya bookingkan tiket lewat aplikasi ini bagus [[membiak]] saja tidak sampai mnit kode booking nya langsung dikirimkan [[malar]] \n",
      "\n",
      "\n"
     ]
    },
    {
     "name": "stderr",
     "output_type": "stream",
     "text": [
      "[Succeeded / Failed / Skipped / Total] 99 / 29 / 0 / 128:  26%|██▌       | 128/500 [1:04:26<3:07:18, 30.21s/it]"
     ]
    },
    {
     "name": "stdout",
     "output_type": "stream",
     "text": [
      "--------------------------------------------- Result 128 ---------------------------------------------\n",
      "[[2 (100%)]] --> [[1 (63%)]]\n",
      "\n",
      "alhamdulillahirrabil allamin menggunakan [[aplikasi]] ini [[mudah]] paling [[suka]] adalah [[penukaran]] poin sebagai pembayaran [[tiket]] bisa dilakukan dengan [[mudah]] simpel dan terpercaya \n",
      "\n",
      "alhamdulillahirrabil allamin menggunakan [[permohonan]] ini [[praktik]] paling [[sukaria]] adalah [[berganti]] poin sebagai pembayaran [[kupon]] bisa dilakukan dengan [[memasang]] simpel dan terpercaya \n",
      "\n",
      "\n"
     ]
    },
    {
     "name": "stderr",
     "output_type": "stream",
     "text": [
      "[Succeeded / Failed / Skipped / Total] 100 / 29 / 0 / 129:  26%|██▌       | 129/500 [1:05:14<3:07:37, 30.34s/it]"
     ]
    },
    {
     "name": "stdout",
     "output_type": "stream",
     "text": [
      "--------------------------------------------- Result 129 ---------------------------------------------\n",
      "[[2 (100%)]] --> [[0 (80%)]]\n",
      "\n",
      "sempat agak [[takut]] pesan tiket pesawat di sini karena [[ulasan]] yang lain tapi ingat [[teman]] pernah beli di sini [[lancar]] saja akhirnya memesan pas [[banget]] di tfansfer cuma hitungan detik e tiket dikirim [[terima]] kasih lo [[terima]] kasih promo nya [[lumayan]] jadi [[lumayan]] [[untung]] \n",
      "\n",
      "sempat agak [[lisah]] pesan tiket pesawat di sini karena [[menunjukkan]] yang lain tapi ingat [[kawan]] pernah beli di sini [[mengacir]] saja akhirnya memesan pas [[benar]] di tfansfer cuma hitungan detik e tiket dikirim [[merelakan]] kasih lo [[mengira]] kasih promo nya [[sedang]] jadi [[cukup]] [[mujur]] \n",
      "\n",
      "\n"
     ]
    },
    {
     "name": "stderr",
     "output_type": "stream",
     "text": [
      "[Succeeded / Failed / Skipped / Total] 101 / 29 / 0 / 130:  26%|██▌       | 130/500 [1:05:29<3:06:25, 30.23s/it]"
     ]
    },
    {
     "name": "stdout",
     "output_type": "stream",
     "text": [
      "--------------------------------------------- Result 130 ---------------------------------------------\n",
      "[[2 (100%)]] --> [[0 (100%)]]\n",
      "\n",
      "aplikasi yang sangat membantu dalam setiap perjalan saya [[memuaskan]] pokok nya segera coba \n",
      "\n",
      "aplikasi yang sangat membantu dalam setiap perjalan saya [[muak]] pokok nya segera coba \n",
      "\n",
      "\n"
     ]
    },
    {
     "name": "stderr",
     "output_type": "stream",
     "text": [
      "[Succeeded / Failed / Skipped / Total] 102 / 29 / 0 / 131:  26%|██▌       | 131/500 [1:05:50<3:05:26, 30.15s/it]"
     ]
    },
    {
     "name": "stdout",
     "output_type": "stream",
     "text": [
      "--------------------------------------------- Result 131 ---------------------------------------------\n",
      "[[2 (100%)]] --> [[0 (85%)]]\n",
      "\n",
      "[[menyenangkan]] menggunakan aplikasi ini selain sangat [[lengkap]] aplikasi ini juga sangat rinci yang paling [[menyenangkan]] adalah banyak promo nya \n",
      "\n",
      "[[menggemarkan]] menggunakan aplikasi ini selain sangat [[kafah]] aplikasi ini juga sangat rinci yang paling [[berkurang]] adalah banyak promo nya \n",
      "\n",
      "\n"
     ]
    },
    {
     "name": "stderr",
     "output_type": "stream",
     "text": [
      "[Succeeded / Failed / Skipped / Total] 103 / 29 / 0 / 132:  26%|██▋       | 132/500 [1:06:26<3:05:13, 30.20s/it]"
     ]
    },
    {
     "name": "stdout",
     "output_type": "stream",
     "text": [
      "--------------------------------------------- Result 132 ---------------------------------------------\n",
      "[[2 (100%)]] --> [[0 (96%)]]\n",
      "\n",
      "dari dulu [[pas]] liburan saya selalu [[memesan]] hotel [[pakai]] tiket com untuk gaji yang saat saat an seperti saya dan bisa dapat hotel bintang cup wow [[banget]] enggak iniihh apalagi ada tonight deals kita bisa dapatkan diskon sampai kalau pesan hotel di atas jam malam sudah pasti makin [[nikmat]] pas liburan ditambah lagi bisa [[istirahat]] di hotel bintang yang [[nyaman]] dengan [[harga]] yang [[murah]] [[terima]] [[kasih]] tiket com \n",
      "\n",
      "dari dulu [[kelulusan]] liburan saya selalu [[bermohon]] hotel [[mengira]] tiket com untuk gaji yang saat saat an seperti saya dan bisa dapat hotel bintang cup wow [[sangat]] enggak iniihh apalagi ada tonight deals kita bisa dapatkan diskon sampai kalau pesan hotel di atas jam malam sudah pasti makin [[menggembirakan]] pas liburan ditambah lagi bisa [[putus]] di hotel bintang yang [[baik]] dengan [[nilai]] yang [[buruk]] [[berlaku]] [[sayang]] tiket com \n",
      "\n",
      "\n"
     ]
    },
    {
     "name": "stderr",
     "output_type": "stream",
     "text": [
      "[Succeeded / Failed / Skipped / Total] 104 / 29 / 0 / 133:  27%|██▋       | 133/500 [1:06:38<3:03:53, 30.07s/it]"
     ]
    },
    {
     "name": "stdout",
     "output_type": "stream",
     "text": [
      "--------------------------------------------- Result 133 ---------------------------------------------\n",
      "[[2 (100%)]] --> [[0 (100%)]]\n",
      "\n",
      "sumpah [[suka]] banget sudah limit nya lama bonus tixpoint nya luar binasaah tiket ke jakarta bisa dapat diskon ribu \n",
      "\n",
      "sumpah [[membenarkan]] banget sudah limit nya lama bonus tixpoint nya luar binasaah tiket ke jakarta bisa dapat diskon ribu \n",
      "\n",
      "\n"
     ]
    },
    {
     "name": "stderr",
     "output_type": "stream",
     "text": [
      "[Succeeded / Failed / Skipped / Total] 105 / 29 / 1 / 135:  27%|██▋       | 135/500 [1:07:17<3:01:55, 29.91s/it]"
     ]
    },
    {
     "name": "stdout",
     "output_type": "stream",
     "text": [
      "--------------------------------------------- Result 134 ---------------------------------------------\n",
      "[[2 (100%)]] --> [[0 (90%)]]\n",
      "\n",
      "mantap paling [[murah]] dan banyak [[bonus]] nya apa ini [[bagus]] banget proses nya cepat saya kasi bintang aku makin [[suka]] kamu \n",
      "\n",
      "mantap paling [[buruk]] dan banyak [[hadiah]] nya apa ini [[kandis]] banget proses nya cepat saya kasi bintang aku makin [[membenarkan]] kamu \n",
      "\n",
      "\n",
      "--------------------------------------------- Result 135 ---------------------------------------------\n",
      "[[1 (90%)]] --> [[[SKIPPED]]]\n",
      "\n",
      "bisa memilih penerbangan selain itu cukup mudah dalam bertransaksi lengkap aplikasi nya \n",
      "\n",
      "\n"
     ]
    },
    {
     "name": "stderr",
     "output_type": "stream",
     "text": [
      "[Succeeded / Failed / Skipped / Total] 106 / 29 / 1 / 136:  27%|██▋       | 136/500 [1:07:49<3:01:31, 29.92s/it]"
     ]
    },
    {
     "name": "stdout",
     "output_type": "stream",
     "text": [
      "--------------------------------------------- Result 136 ---------------------------------------------\n",
      "[[2 (100%)]] --> [[0 (100%)]]\n",
      "\n",
      "banyak promo dan aplikasi [[mudah]] digunakan proses sangat [[cepat]] dan juga aplikasi nya bagus dan tidak [[rumit]] \n",
      "\n",
      "banyak promo dan aplikasi [[tepat]] digunakan proses sangat [[rancak]] dan juga aplikasi nya bagus dan tidak [[keras]] \n",
      "\n",
      "\n"
     ]
    },
    {
     "name": "stderr",
     "output_type": "stream",
     "text": [
      "[Succeeded / Failed / Skipped / Total] 107 / 29 / 1 / 137:  27%|██▋       | 137/500 [1:08:27<3:01:24, 29.98s/it]"
     ]
    },
    {
     "name": "stdout",
     "output_type": "stream",
     "text": [
      "--------------------------------------------- Result 137 ---------------------------------------------\n",
      "[[2 (100%)]] --> [[0 (100%)]]\n",
      "\n",
      "saya [[suka]] beli tiket di tiket com oke banget sangat [[membantu]] respon nya cepat yang pasti sangat [[memudahkan]] traveling saya \n",
      "\n",
      "saya [[harap]] beli tiket di tiket com oke banget sangat [[mundur]] respon nya cepat yang pasti sangat [[kurang]] traveling saya \n",
      "\n",
      "\n"
     ]
    },
    {
     "name": "stderr",
     "output_type": "stream",
     "text": [
      "[Succeeded / Failed / Skipped / Total] 108 / 29 / 1 / 138:  28%|██▊       | 138/500 [1:08:32<2:59:46, 29.80s/it]"
     ]
    },
    {
     "name": "stdout",
     "output_type": "stream",
     "text": [
      "--------------------------------------------- Result 138 ---------------------------------------------\n",
      "[[2 (100%)]] --> [[0 (100%)]]\n",
      "\n",
      "[[tiket]] com sangat terpercaya harga [[murah]] [[lancar]] [[praktis]] efektif dan efisien \n",
      "\n",
      "[[kad]] com sangat terpercaya harga [[kotor]] [[jelas]] [[arif]] efektif dan efisien \n",
      "\n",
      "\n"
     ]
    },
    {
     "name": "stderr",
     "output_type": "stream",
     "text": [
      "[Succeeded / Failed / Skipped / Total] 109 / 29 / 1 / 139:  28%|██▊       | 139/500 [1:08:51<2:58:48, 29.72s/it]"
     ]
    },
    {
     "name": "stdout",
     "output_type": "stream",
     "text": [
      "--------------------------------------------- Result 139 ---------------------------------------------\n",
      "[[2 (100%)]] --> [[0 (99%)]]\n",
      "\n",
      "sangat [[puas]] dengan pelayanan nya tiket com selalu bokong tiket pesawat dari sini dan yang bikin [[nyaman]] nya kalau ada kslhan nm atau data lain bisa cepat diperbaiki dan tidak bikin ribet [[terima]] kasih \n",
      "\n",
      "sangat [[marem]] dengan pelayanan nya tiket com selalu bokong tiket pesawat dari sini dan yang bikin [[elok]] nya kalau ada kslhan nm atau data lain bisa cepat diperbaiki dan tidak bikin ribet [[menenggak]] kasih \n",
      "\n",
      "\n"
     ]
    },
    {
     "name": "stderr",
     "output_type": "stream",
     "text": [
      "[Succeeded / Failed / Skipped / Total] 110 / 29 / 1 / 140:  28%|██▊       | 140/500 [1:08:57<2:57:18, 29.55s/it]"
     ]
    },
    {
     "name": "stdout",
     "output_type": "stream",
     "text": [
      "--------------------------------------------- Result 140 ---------------------------------------------\n",
      "[[2 (97%)]] --> [[0 (100%)]]\n",
      "\n",
      "saya selalu pesan tiket pesawat maupun kereta di sini harga lebih [[murah]] berbeda dengan aplikasi lain \n",
      "\n",
      "saya selalu pesan tiket pesawat maupun kereta di sini harga lebih [[buruk]] berbeda dengan aplikasi lain \n",
      "\n",
      "\n"
     ]
    },
    {
     "name": "stderr",
     "output_type": "stream",
     "text": [
      "[Succeeded / Failed / Skipped / Total] 111 / 29 / 1 / 141:  28%|██▊       | 141/500 [1:10:25<2:59:18, 29.97s/it]"
     ]
    },
    {
     "name": "stdout",
     "output_type": "stream",
     "text": [
      "--------------------------------------------- Result 141 ---------------------------------------------\n",
      "[[2 (100%)]] --> [[0 (74%)]]\n",
      "\n",
      "hotel ini adalah [[salah]] satu hotel yang wajib dikunjungi kalau buka puasa bareng tempat nya menarik mewah staf nya ramah makanan nya banyaakk [[jenis]] nya menu nya komplet dan [[suasana]] nya sangat [[menyenangkan]] tempat yang sangat [[indah]] \n",
      "\n",
      "hotel ini adalah [[janggal]] satu hotel yang wajib dikunjungi kalau buka puasa bareng tempat nya menarik mewah staf nya ramah makanan nya banyaakk [[perkara]] nya menu nya komplet dan [[syarat]] nya sangat [[berkurang]] tempat yang sangat [[lela]] \n",
      "\n",
      "\n"
     ]
    },
    {
     "name": "stderr",
     "output_type": "stream",
     "text": [
      "[Succeeded / Failed / Skipped / Total] 112 / 29 / 1 / 142:  28%|██▊       | 142/500 [1:11:13<2:59:34, 30.10s/it]"
     ]
    },
    {
     "name": "stdout",
     "output_type": "stream",
     "text": [
      "--------------------------------------------- Result 142 ---------------------------------------------\n",
      "[[2 (100%)]] --> [[0 (97%)]]\n",
      "\n",
      "saya menginap dua malam bersama keluarga secara keseluruhan hotel nya sangat [[bagus]] [[bersih]] fasilitas [[hotel]] lengkap breakfast nya pun [[enak]] enak dan tentunya suasana hotel yang [[sejuk]] dan nyaman [[cocok]] untuk pilihan menginap bersama keluarga \n",
      "\n",
      "saya menginap dua malam bersama keluarga secara keseluruhan hotel nya sangat [[sangat]] [[kosong]] fasilitas [[telatap]] lengkap breakfast nya pun [[hasan]] enak dan tentunya suasana hotel yang [[kedinginan]] dan nyaman [[beradab]] untuk pilihan menginap bersama keluarga \n",
      "\n",
      "\n"
     ]
    },
    {
     "name": "stderr",
     "output_type": "stream",
     "text": [
      "[Succeeded / Failed / Skipped / Total] 113 / 29 / 1 / 143:  29%|██▊       | 143/500 [1:12:16<3:00:26, 30.33s/it]"
     ]
    },
    {
     "name": "stdout",
     "output_type": "stream",
     "text": [
      "--------------------------------------------- Result 143 ---------------------------------------------\n",
      "[[2 (100%)]] --> [[0 (98%)]]\n",
      "\n",
      "[[proses]] [[cek]] in [[cepat]] staf nya [[ramah]] dan helpfully [[lingkungan]] hotel sangat [[asri]] [[sejuk]] dan [[tenang]] amenities di kamar [[lengkap]] terdapat kampung ramadhan untuk berbuka dengan begitu banyak pilihan [[makanan]] yang siap [[memanjakan]] lidah terbaik tempat untuk staf when kamu [[visi]] bandung \n",
      "\n",
      "[[tindakan]] [[pembuktian]] in [[memburu-buru]] staf nya [[curiah]] dan helpfully [[tiba]] hotel sangat [[bagus]] [[kedinginan]] dan [[bungkam]] amenities di kamar [[memasang]] terdapat kampung ramadhan untuk berbuka dengan begitu banyak pilihan [[mencampurkan]] yang siap [[merusak]] lidah terbaik tempat untuk staf when kamu [[khayalan]] bandung \n",
      "\n",
      "\n"
     ]
    },
    {
     "name": "stderr",
     "output_type": "stream",
     "text": [
      "[Succeeded / Failed / Skipped / Total] 114 / 29 / 1 / 144:  29%|██▉       | 144/500 [1:12:41<2:59:41, 30.29s/it]"
     ]
    },
    {
     "name": "stdout",
     "output_type": "stream",
     "text": [
      "--------------------------------------------- Result 144 ---------------------------------------------\n",
      "[[2 (100%)]] --> [[0 (81%)]]\n",
      "\n",
      "kami memakai berenam dan memakai kamar kamar besar dan bersih breakfast nya [[enak]] banyak [[varian]] nya dan aneka segar juice pelayanan sangat baik terutama pelayanan di restoran sangat [[memuaskan]] rekomendasi \n",
      "\n",
      "kami memakai berenam dan memakai kamar kamar besar dan bersih breakfast nya [[waras]] banyak [[kelainan]] nya dan aneka segar juice pelayanan sangat baik terutama pelayanan di restoran sangat [[muak]] rekomendasi \n",
      "\n",
      "\n"
     ]
    },
    {
     "name": "stderr",
     "output_type": "stream",
     "text": [
      "[Succeeded / Failed / Skipped / Total] 114 / 30 / 1 / 145:  29%|██▉       | 145/500 [1:13:38<3:00:18, 30.48s/it]"
     ]
    },
    {
     "name": "stdout",
     "output_type": "stream",
     "text": [
      "--------------------------------------------- Result 145 ---------------------------------------------\n",
      "[[2 (100%)]] --> [[[FAILED]]]\n",
      "\n",
      "melahirkan di rs hermina jatinegara sangat direkomendasikan fasilitas lengkap seperti fetotermal perina nicu klinik tumbuh kembang senam hamil dan pmo selain itu hermina juga sangat pro asi dan imd ditambah lagi semua kamar itu rooming in dengan bayi nya \n",
      "\n",
      "\n"
     ]
    },
    {
     "name": "stderr",
     "output_type": "stream",
     "text": [
      "[Succeeded / Failed / Skipped / Total] 114 / 31 / 1 / 146:  29%|██▉       | 146/500 [1:14:27<3:00:31, 30.60s/it]"
     ]
    },
    {
     "name": "stdout",
     "output_type": "stream",
     "text": [
      "--------------------------------------------- Result 146 ---------------------------------------------\n",
      "[[2 (100%)]] --> [[[FAILED]]]\n",
      "\n",
      "kalau regis di rs hermina banyak keuntungan yang didapat pasien keuntungan nya antara lain kemudahan saat hari h melahirkan selain itu banyak juga gratisan nya seperti gratis senam hamil gratis kursus prenatal gratis senam nifas gratis kursus pijat bayi dan masih banyak lagi asik deh pokok nya \n",
      "\n",
      "\n"
     ]
    },
    {
     "name": "stderr",
     "output_type": "stream",
     "text": [
      "[Succeeded / Failed / Skipped / Total] 115 / 31 / 1 / 147:  29%|██▉       | 147/500 [1:14:53<2:59:50, 30.57s/it]"
     ]
    },
    {
     "name": "stdout",
     "output_type": "stream",
     "text": [
      "--------------------------------------------- Result 147 ---------------------------------------------\n",
      "[[2 (100%)]] --> [[0 (95%)]]\n",
      "\n",
      "menurut ku rumah [[sakit]] [[harapan]] kita itu [[rekomendasi]] selain bisa rooming suster nya juga [[membantu]] soal biaya tidak usah khawatir karena pasti terjangkau \n",
      "\n",
      "menurut ku rumah [[mencelakai]] [[harap]] kita itu [[cadangan]] selain bisa rooming suster nya juga [[mencampurkan]] soal biaya tidak usah khawatir karena pasti terjangkau \n",
      "\n",
      "\n"
     ]
    },
    {
     "name": "stderr",
     "output_type": "stream",
     "text": [
      "[Succeeded / Failed / Skipped / Total] 115 / 32 / 1 / 148:  30%|██▉       | 148/500 [1:15:14<2:58:57, 30.50s/it]"
     ]
    },
    {
     "name": "stdout",
     "output_type": "stream",
     "text": [
      "--------------------------------------------- Result 148 ---------------------------------------------\n",
      "[[2 (100%)]] --> [[[FAILED]]]\n",
      "\n",
      "asik banget pakai traveloka diskon hotel sampai satu jutaan kita bisa langsung cek promo kemerdekaan banyak harga spesial hotel untuk berbagai hotel di dalam negeri seneng deh \n",
      "\n",
      "\n"
     ]
    },
    {
     "name": "stderr",
     "output_type": "stream",
     "text": [
      "[Succeeded / Failed / Skipped / Total] 116 / 32 / 1 / 149:  30%|██▉       | 149/500 [1:15:50<2:58:38, 30.54s/it]"
     ]
    },
    {
     "name": "stdout",
     "output_type": "stream",
     "text": [
      "--------------------------------------------- Result 149 ---------------------------------------------\n",
      "[[2 (100%)]] --> [[0 (51%)]]\n",
      "\n",
      "kalau [[belanja]] di blibli com tidak usah [[ragu]] pertama kita bisa leluasa [[memilih]] produk tanpa [[takut]] privasi kita [[terganggu]] selain itu kita juga dapat fasilitas [[pengiriman]] yang [[cepat]] dan gratis bisa sambil sadar emat uang dan [[tenaga]] \n",
      "\n",
      "kalau [[memperlakukan]] di blibli com tidak usah [[maido]] pertama kita bisa leluasa [[mengundi]] produk tanpa [[kuat]] privasi kita [[mengacaukan]] selain itu kita juga dapat fasilitas [[tugas]] yang [[tergesa-gesa]] dan gratis bisa sambil sadar emat uang dan [[rancak]] \n",
      "\n",
      "\n"
     ]
    },
    {
     "name": "stderr",
     "output_type": "stream",
     "text": [
      "[Succeeded / Failed / Skipped / Total] 117 / 32 / 1 / 150:  30%|███       | 150/500 [1:16:32<2:58:35, 30.62s/it]"
     ]
    },
    {
     "name": "stdout",
     "output_type": "stream",
     "text": [
      "--------------------------------------------- Result 150 ---------------------------------------------\n",
      "[[2 (100%)]] --> [[0 (69%)]]\n",
      "\n",
      "saya dukung ahok itu tidak ada [[hubungan]] nya dengan etnis dia atau agama ahok bahkan saya tak tahu agama dia apa saya dukung ahok karena saya [[suka]] fenomena baru dalam pemerintahan yang inovatif [[bersih]] dan banyak terobosan terobosan yang ia kerjakan dalam [[membangun]] pemerintahan \n",
      "\n",
      "saya dukung ahok itu tidak ada [[persatuan]] nya dengan etnis dia atau agama ahok bahkan saya tak tahu agama dia apa saya dukung ahok karena saya [[ingin]] fenomena baru dalam pemerintahan yang inovatif [[kosong]] dan banyak terobosan terobosan yang ia kerjakan dalam [[memalsukan]] pemerintahan \n",
      "\n",
      "\n"
     ]
    },
    {
     "name": "stderr",
     "output_type": "stream",
     "text": [
      "[Succeeded / Failed / Skipped / Total] 118 / 32 / 1 / 151:  30%|███       | 151/500 [1:17:11<2:58:24, 30.67s/it]"
     ]
    },
    {
     "name": "stdout",
     "output_type": "stream",
     "text": [
      "--------------------------------------------- Result 151 ---------------------------------------------\n",
      "[[0 (100%)]] --> [[2 (93%)]]\n",
      "\n",
      "spasi [[bambang]] jangan [[suka]] mengkafirkan sesama muslim lu bukan [[malaikat]] tanpa dosa beda pilihan beda [[pemahaman]] oke itu hak lu tetapi tidak harus mejelek mejelekin orang lain juga tidak [[suka]] cara lo yang [[kayak]] gini \n",
      "\n",
      "spasi [[luas]] jangan [[peduli]] mengkafirkan sesama muslim lu bukan [[santo]] tanpa dosa beda pilihan beda [[tiba]] oke itu hak lu tetapi tidak harus mejelek mejelekin orang lain juga tidak [[sukaria]] cara lo yang [[menghayati]] gini \n",
      "\n",
      "\n"
     ]
    },
    {
     "name": "stderr",
     "output_type": "stream",
     "text": [
      "[Succeeded / Failed / Skipped / Total] 119 / 32 / 1 / 152:  30%|███       | 152/500 [1:18:06<2:58:49, 30.83s/it]"
     ]
    },
    {
     "name": "stdout",
     "output_type": "stream",
     "text": [
      "--------------------------------------------- Result 152 ---------------------------------------------\n",
      "[[2 (100%)]] --> [[0 (78%)]]\n",
      "\n",
      "[[suka]] [[banget]] sama siti nurhaliza [[suara]] nya [[wajah]] nya attitude nya [[sempurna]] kayak nya cuma dia penyanyi yang tidak ada haters nya paling [[suka]] dulu pas dia rilis album transkripsi lupa tahun berapa [[lagu]] lagu nya semua jadi favorit ku semoga bisa duet sama di dalam album \n",
      "\n",
      "[[ganal]] [[amat]] sama siti nurhaliza [[pembunyian]] nya [[lagak]] nya attitude nya [[absolut]] kayak nya cuma dia penyanyi yang tidak ada haters nya paling [[ganal]] dulu pas dia rilis album transkripsi lupa tahun berapa [[perbuatan]] lagu nya semua jadi favorit ku semoga bisa duet sama di dalam album \n",
      "\n",
      "\n"
     ]
    },
    {
     "name": "stderr",
     "output_type": "stream",
     "text": [
      "[Succeeded / Failed / Skipped / Total] 119 / 33 / 1 / 153:  31%|███       | 153/500 [1:18:34<2:58:12, 30.81s/it]"
     ]
    },
    {
     "name": "stdout",
     "output_type": "stream",
     "text": [
      "--------------------------------------------- Result 153 ---------------------------------------------\n",
      "[[2 (100%)]] --> [[[FAILED]]]\n",
      "\n",
      "kata dosen ku budaya korea itu kalau ada orang yang sudah baik sama mereka walaupun cuma sekali mereka bakal balas kebaikan itu lebih banyak maka dari itu mereka kalau memberi itu suka tidak muluk muluk seneng deh sama mereka \n",
      "\n",
      "\n"
     ]
    },
    {
     "name": "stderr",
     "output_type": "stream",
     "text": [
      "[Succeeded / Failed / Skipped / Total] 120 / 33 / 1 / 154:  31%|███       | 154/500 [1:18:42<2:56:50, 30.67s/it]"
     ]
    },
    {
     "name": "stdout",
     "output_type": "stream",
     "text": [
      "--------------------------------------------- Result 154 ---------------------------------------------\n",
      "[[2 (100%)]] --> [[1 (100%)]]\n",
      "\n",
      "foto aku cuma modal kamera xiaomi tetapi tetap [[suka]] \n",
      "\n",
      "foto aku cuma modal kamera xiaomi tetapi tetap [[persetujuan]] \n",
      "\n",
      "\n"
     ]
    },
    {
     "name": "stderr",
     "output_type": "stream",
     "text": [
      "[Succeeded / Failed / Skipped / Total] 121 / 33 / 1 / 155:  31%|███       | 155/500 [1:18:45<2:55:18, 30.49s/it]"
     ]
    },
    {
     "name": "stdout",
     "output_type": "stream",
     "text": [
      "--------------------------------------------- Result 155 ---------------------------------------------\n",
      "[[2 (100%)]] --> [[0 (100%)]]\n",
      "\n",
      "xiaomi ram nya [[mantap]] baterai awet juga kamera depan nya juga [[lumayan]] tidak [[menyesal]] beli ini \n",
      "\n",
      "xiaomi ram nya [[kaku]] baterai awet juga kamera depan nya juga [[pantas]] tidak [[insaf]] beli ini \n",
      "\n",
      "\n"
     ]
    },
    {
     "name": "stderr",
     "output_type": "stream",
     "text": [
      "[Succeeded / Failed / Skipped / Total] 122 / 33 / 1 / 156:  31%|███       | 156/500 [1:19:06<2:54:26, 30.43s/it]"
     ]
    },
    {
     "name": "stdout",
     "output_type": "stream",
     "text": [
      "--------------------------------------------- Result 156 ---------------------------------------------\n",
      "[[2 (100%)]] --> [[0 (100%)]]\n",
      "\n",
      "xiaomi karena gue pakai xiaomi sekarang sebelumnya oppo f lebih suka xiaomi saja baterai nya kuat gue [[puas]] banget sih dengan xiaomi \n",
      "\n",
      "xiaomi karena gue pakai xiaomi sekarang sebelumnya oppo f lebih suka xiaomi saja baterai nya kuat gue [[marem]] banget sih dengan xiaomi \n",
      "\n",
      "\n"
     ]
    },
    {
     "name": "stderr",
     "output_type": "stream",
     "text": [
      "[Succeeded / Failed / Skipped / Total] 123 / 33 / 1 / 157:  31%|███▏      | 157/500 [1:19:23<2:53:26, 30.34s/it]"
     ]
    },
    {
     "name": "stdout",
     "output_type": "stream",
     "text": [
      "--------------------------------------------- Result 157 ---------------------------------------------\n",
      "[[2 (100%)]] --> [[0 (100%)]]\n",
      "\n",
      "temen gue telepon genggam nya xiaomi yang juta saja masih kembali pas gue tanya kenapa dia beli itu padahal bisa saja di beli iphone dia jawab karena dia [[suka]] karena spek nya melebih iphone yang lo pandang ricuh itu \n",
      "\n",
      "temen gue telepon genggam nya xiaomi yang juta saja masih kembali pas gue tanya kenapa dia beli itu padahal bisa saja di beli iphone dia jawab karena dia [[berhasrat]] karena spek nya melebih iphone yang lo pandang ricuh itu \n",
      "\n",
      "\n"
     ]
    },
    {
     "name": "stderr",
     "output_type": "stream",
     "text": [
      "[Succeeded / Failed / Skipped / Total] 124 / 33 / 1 / 158:  32%|███▏      | 158/500 [1:19:39<2:52:25, 30.25s/it]"
     ]
    },
    {
     "name": "stdout",
     "output_type": "stream",
     "text": [
      "--------------------------------------------- Result 158 ---------------------------------------------\n",
      "[[2 (100%)]] --> [[0 (100%)]]\n",
      "\n",
      "yang paling saya [[suka]] dari adalah trully open source sampai disediakan forum khusus itu bikin [[nyaman]] banget sih \n",
      "\n",
      "yang paling saya [[mengakuri]] dari adalah trully open source sampai disediakan forum khusus itu bikin [[informal]] banget sih \n",
      "\n",
      "\n"
     ]
    },
    {
     "name": "stderr",
     "output_type": "stream",
     "text": [
      "[Succeeded / Failed / Skipped / Total] 125 / 33 / 1 / 159:  32%|███▏      | 159/500 [1:19:57<2:51:28, 30.17s/it]"
     ]
    },
    {
     "name": "stdout",
     "output_type": "stream",
     "text": [
      "--------------------------------------------- Result 159 ---------------------------------------------\n",
      "[[2 (100%)]] --> [[0 (100%)]]\n",
      "\n",
      "agak nya xiaomi tidak [[main]] main mau masuk pasar ponsel global [[mantap]] saya selalu [[suka]] miui mereka d\n",
      "\n",
      "agak nya xiaomi tidak [[mengetahui]] main mau masuk pasar ponsel global [[kaku]] saya selalu [[membenarkan]] miui mereka d\n",
      "\n",
      "\n"
     ]
    },
    {
     "name": "stderr",
     "output_type": "stream",
     "text": [
      "[Succeeded / Failed / Skipped / Total] 126 / 33 / 1 / 160:  32%|███▏      | 160/500 [1:20:05<2:50:10, 30.03s/it]"
     ]
    },
    {
     "name": "stdout",
     "output_type": "stream",
     "text": [
      "--------------------------------------------- Result 160 ---------------------------------------------\n",
      "[[2 (100%)]] --> [[0 (96%)]]\n",
      "\n",
      "tidak dapat apple aku tidak kecewa kok yang penting samsung galaxy grand sudah di tangan ku sekarang aku [[senang]] \n",
      "\n",
      "tidak dapat apple aku tidak kecewa kok yang penting samsung galaxy grand sudah di tangan ku sekarang aku [[marem]] \n",
      "\n",
      "\n"
     ]
    },
    {
     "name": "stderr",
     "output_type": "stream",
     "text": [
      "[Succeeded / Failed / Skipped / Total] 127 / 33 / 1 / 161:  32%|███▏      | 161/500 [1:20:37<2:49:46, 30.05s/it]"
     ]
    },
    {
     "name": "stdout",
     "output_type": "stream",
     "text": [
      "--------------------------------------------- Result 161 ---------------------------------------------\n",
      "[[2 (100%)]] --> [[0 (79%)]]\n",
      "\n",
      "[[terima]] [[kasih]] bapak presiden jokowi sudah hadir dan [[menginap]] di tengah tengah kami warga lombok utara kehadiran bapak [[menambah]] [[semangat]] kami untuk bangkit lagi\n",
      "\n",
      "[[menggantikan]] [[perasaan]] bapak presiden jokowi sudah hadir dan [[menumpang]] di tengah tengah kami warga lombok utara kehadiran bapak [[mencampurkan]] [[nafsu]] kami untuk bangkit lagi\n",
      "\n",
      "\n"
     ]
    },
    {
     "name": "stderr",
     "output_type": "stream",
     "text": [
      "[Succeeded / Failed / Skipped / Total] 128 / 33 / 1 / 162:  32%|███▏      | 162/500 [1:20:58<2:48:57, 29.99s/it]"
     ]
    },
    {
     "name": "stdout",
     "output_type": "stream",
     "text": [
      "--------------------------------------------- Result 162 ---------------------------------------------\n",
      "[[2 (100%)]] --> [[1 (65%)]]\n",
      "\n",
      "ketersediaan air adalah kunci ketahanan pangan kita karena itulah pemerintah telah membangun bendungan yang akan menjamin produksi pangan kita di masa depan [[terima]] [[kasih]] pak \n",
      "\n",
      "ketersediaan air adalah kunci ketahanan pangan kita karena itulah pemerintah telah membangun bendungan yang akan menjamin produksi pangan kita di masa depan [[mengadakan]] [[penyakit]] pak \n",
      "\n",
      "\n"
     ]
    },
    {
     "name": "stderr",
     "output_type": "stream",
     "text": [
      "[Succeeded / Failed / Skipped / Total] 129 / 33 / 1 / 163:  33%|███▎      | 163/500 [1:21:45<2:49:02, 30.10s/it]"
     ]
    },
    {
     "name": "stdout",
     "output_type": "stream",
     "text": [
      "--------------------------------------------- Result 163 ---------------------------------------------\n",
      "[[2 (100%)]] --> [[1 (72%)]]\n",
      "\n",
      "[[terima]] kasih bang atas [[apresiasi]] nya semoga pak cepat [[menemui]] wakil kami korban phk sepihak freeport bila perlu pak presiden agar masalah kami terselesaikan \n",
      "\n",
      "[[mengadakan]] kasih bang atas [[penghayatan]] nya semoga pak cepat [[bertinjau-tinjauan]] wakil kami korban phk sepihak freeport bila perlu pak presiden agar masalah kami terselesaikan \n",
      "\n",
      "\n"
     ]
    },
    {
     "name": "stderr",
     "output_type": "stream",
     "text": [
      "[Succeeded / Failed / Skipped / Total] 130 / 33 / 1 / 164:  33%|███▎      | 164/500 [1:22:48<2:49:39, 30.30s/it]"
     ]
    },
    {
     "name": "stdout",
     "output_type": "stream",
     "text": [
      "--------------------------------------------- Result 164 ---------------------------------------------\n",
      "[[2 (100%)]] --> [[0 (98%)]]\n",
      "\n",
      "masyarakat papua dipastikan akan [[mendukung]] memilih jokowi saat pilpres karena masyarakat papua [[merasakan]] hasil pembangunan yang dicapai di era terima kasih pak\n",
      "\n",
      "masyarakat papua dipastikan akan [[mencengkam]] memilih jokowi saat pilpres karena masyarakat papua [[mengecam]] hasil pembangunan yang dicapai di era terima kasih pak\n",
      "\n",
      "\n"
     ]
    },
    {
     "name": "stderr",
     "output_type": "stream",
     "text": [
      "[Succeeded / Failed / Skipped / Total] 131 / 33 / 1 / 165:  33%|███▎      | 165/500 [1:22:56<2:48:23, 30.16s/it]"
     ]
    },
    {
     "name": "stdout",
     "output_type": "stream",
     "text": [
      "--------------------------------------------- Result 165 ---------------------------------------------\n",
      "[[2 (100%)]] --> [[0 (95%)]]\n",
      "\n",
      "beliau cinta rakyat di cinta rakyat merakyat [[terima]] [[kasih]] pak\n",
      "\n",
      "beliau cinta rakyat di cinta rakyat merakyat [[meluwengkan]] [[perasaan]] pak\n",
      "\n",
      "\n"
     ]
    },
    {
     "name": "stderr",
     "output_type": "stream",
     "text": [
      "[Succeeded / Failed / Skipped / Total] 132 / 33 / 1 / 166:  33%|███▎      | 166/500 [1:23:26<2:47:53, 30.16s/it]"
     ]
    },
    {
     "name": "stdout",
     "output_type": "stream",
     "text": [
      "--------------------------------------------- Result 166 ---------------------------------------------\n",
      "[[2 (100%)]] --> [[0 (99%)]]\n",
      "\n",
      "semoga bapak selalu sehat semoga bapak bisa melanjutkan dua periode amin saya [[mendukung]] bapak \n",
      "\n",
      "semoga bapak selalu sehat semoga bapak bisa melanjutkan dua periode amin saya [[meringkukkan]] bapak \n",
      "\n",
      "\n"
     ]
    },
    {
     "name": "stderr",
     "output_type": "stream",
     "text": [
      "[Succeeded / Failed / Skipped / Total] 133 / 33 / 1 / 167:  33%|███▎      | 167/500 [1:23:57<2:47:25, 30.17s/it]"
     ]
    },
    {
     "name": "stdout",
     "output_type": "stream",
     "text": [
      "--------------------------------------------- Result 167 ---------------------------------------------\n",
      "[[2 (100%)]] --> [[0 (80%)]]\n",
      "\n",
      "terima kasih kepada anies baswedan dan diego uno atas komitmen nya untuk tidak meninggalkan jabatan gubernur dan wakil gubernur selama tahun saya [[bangga]] memilih kalian \n",
      "\n",
      "terima kasih kepada anies baswedan dan diego uno atas komitmen nya untuk tidak meninggalkan jabatan gubernur dan wakil gubernur selama tahun saya [[angkuh]] memilih kalian \n",
      "\n",
      "\n"
     ]
    },
    {
     "name": "stderr",
     "output_type": "stream",
     "text": [
      "[Succeeded / Failed / Skipped / Total] 134 / 33 / 1 / 168:  34%|███▎      | 168/500 [1:24:25<2:46:50, 30.15s/it]"
     ]
    },
    {
     "name": "stdout",
     "output_type": "stream",
     "text": [
      "--------------------------------------------- Result 168 ---------------------------------------------\n",
      "[[2 (100%)]] --> [[1 (86%)]]\n",
      "\n",
      "karya karya seperti itu layak [[menempati]] [[lokasi]] yang premium [[indah]] dan klasik saya [[suka]] terima kasih pak anies\n",
      "\n",
      "karya karya seperti itu layak [[menduduki]] [[peletakan]] yang premium [[sahda]] dan klasik saya [[persetujuan]] terima kasih pak anies\n",
      "\n",
      "\n"
     ]
    },
    {
     "name": "stderr",
     "output_type": "stream",
     "text": [
      "[Succeeded / Failed / Skipped / Total] 134 / 34 / 1 / 169:  34%|███▍      | 169/500 [1:24:56<2:46:21, 30.16s/it]"
     ]
    },
    {
     "name": "stdout",
     "output_type": "stream",
     "text": [
      "--------------------------------------------- Result 169 ---------------------------------------------\n",
      "[[2 (100%)]] --> [[[FAILED]]]\n",
      "\n",
      "bagus dong pak terima kasih sudah bergabung alhamdulillah sukses selalu\n",
      "\n",
      "\n"
     ]
    },
    {
     "name": "stderr",
     "output_type": "stream",
     "text": [
      "[Succeeded / Failed / Skipped / Total] 135 / 34 / 1 / 170:  34%|███▍      | 170/500 [1:25:21<2:45:42, 30.13s/it]"
     ]
    },
    {
     "name": "stdout",
     "output_type": "stream",
     "text": [
      "--------------------------------------------- Result 170 ---------------------------------------------\n",
      "[[2 (100%)]] --> [[0 (100%)]]\n",
      "\n",
      "[[terima]] [[kasih]] pak anies sukses untuk anda baru [[kali]] ini [[lihat]] trotoar jakarta yang [[lebar]] nya [[melebihi]] lapangan badminton [[keren]] pak \n",
      "\n",
      "[[mencaplok]] [[meregup]] pak anies sukses untuk anda baru [[jam]] ini [[mengawasi]] trotoar jakarta yang [[buka]] nya [[keterlaluan]] lapangan badminton [[periang]] pak \n",
      "\n",
      "\n"
     ]
    },
    {
     "name": "stderr",
     "output_type": "stream",
     "text": [
      "[Succeeded / Failed / Skipped / Total] 135 / 35 / 1 / 171:  34%|███▍      | 171/500 [1:25:31<2:44:33, 30.01s/it]"
     ]
    },
    {
     "name": "stdout",
     "output_type": "stream",
     "text": [
      "--------------------------------------------- Result 171 ---------------------------------------------\n",
      "[[2 (100%)]] --> [[[FAILED]]]\n",
      "\n",
      "doa kami untuk mu bapak anies semoga allah ridho engkau sukses bersama pak prabowo ri ri\n",
      "\n",
      "\n"
     ]
    },
    {
     "name": "stderr",
     "output_type": "stream",
     "text": [
      "[Succeeded / Failed / Skipped / Total] 136 / 35 / 1 / 172:  34%|███▍      | 172/500 [1:25:40<2:43:22, 29.89s/it]"
     ]
    },
    {
     "name": "stdout",
     "output_type": "stream",
     "text": [
      "--------------------------------------------- Result 172 ---------------------------------------------\n",
      "[[2 (100%)]] --> [[1 (100%)]]\n",
      "\n",
      "[[terima]] [[kasih]] untuk buah karya mu di jakarta yang jadi [[sejuk]] [[santun]] bersama pak sandi juga pak anies\n",
      "\n",
      "[[iktiraf]] [[afeksi]] untuk buah karya mu di jakarta yang jadi [[kedinginan]] [[seni]] bersama pak sandi juga pak anies\n",
      "\n",
      "\n"
     ]
    },
    {
     "name": "stderr",
     "output_type": "stream",
     "text": [
      "[Succeeded / Failed / Skipped / Total] 137 / 35 / 1 / 173:  35%|███▍      | 173/500 [1:26:21<2:43:13, 29.95s/it]"
     ]
    },
    {
     "name": "stdout",
     "output_type": "stream",
     "text": [
      "--------------------------------------------- Result 173 ---------------------------------------------\n",
      "[[2 (100%)]] --> [[0 (82%)]]\n",
      "\n",
      "gue paling [[suka]] pakai susu ultra yang lowfat sumpah sih [[enak]] banget banget malah gue cuma bisa menghabiskan indomie rebus kalau kuah nya diganti susu\n",
      "\n",
      "gue paling [[membenarkan]] pakai susu ultra yang lowfat sumpah sih [[molek]] banget banget malah gue cuma bisa menghabiskan indomie rebus kalau kuah nya diganti susu\n",
      "\n",
      "\n"
     ]
    },
    {
     "name": "stderr",
     "output_type": "stream",
     "text": [
      "[Succeeded / Failed / Skipped / Total] 138 / 35 / 1 / 174:  35%|███▍      | 174/500 [1:26:37<2:42:17, 29.87s/it]"
     ]
    },
    {
     "name": "stdout",
     "output_type": "stream",
     "text": [
      "--------------------------------------------- Result 174 ---------------------------------------------\n",
      "[[2 (100%)]] --> [[0 (100%)]]\n",
      "\n",
      "kenapa aku kok suka banget sama yang nama nya mi apalagi mi indomie goreng dikasih kuah telur berh rasanya mantap tjoy pangsit di depan rumah gue aja [[kalah]] enak sama mi buatan aku sendiri \n",
      "\n",
      "kenapa aku kok suka banget sama yang nama nya mi apalagi mi indomie goreng dikasih kuah telur berh rasanya mantap tjoy pangsit di depan rumah gue aja [[kecewa]] enak sama mi buatan aku sendiri \n",
      "\n",
      "\n"
     ]
    },
    {
     "name": "stderr",
     "output_type": "stream",
     "text": [
      "[Succeeded / Failed / Skipped / Total] 139 / 35 / 2 / 176:  35%|███▌      | 176/500 [1:26:59<2:40:09, 29.66s/it]"
     ]
    },
    {
     "name": "stdout",
     "output_type": "stream",
     "text": [
      "--------------------------------------------- Result 175 ---------------------------------------------\n",
      "[[2 (100%)]] --> [[0 (100%)]]\n",
      "\n",
      "sebenarnya lebih suka kari ayam sih kak hehehe tapi kalau label nya sudah indomie apa saja masuk kok ke perut ku karena aku [[penggemar]] berat indomie \n",
      "\n",
      "sebenarnya lebih suka kari ayam sih kak hehehe tapi kalau label nya sudah indomie apa saja masuk kok ke perut ku karena aku [[pengkhayal]] berat indomie \n",
      "\n",
      "\n",
      "--------------------------------------------- Result 176 ---------------------------------------------\n",
      "[[0 (100%)]] --> [[[SKIPPED]]]\n",
      "\n",
      "iya enak banget soal nya iya dong indomie mah teh terbaik iya lalu aku juga tidak suka orang yang padahal jelas jelas dia salah dan harus nya minta maaf tapi adem ayem saja sedangkan aku nya sudah menderita \n",
      "\n",
      "\n"
     ]
    },
    {
     "name": "stderr",
     "output_type": "stream",
     "text": [
      "[Succeeded / Failed / Skipped / Total] 140 / 35 / 2 / 177:  35%|███▌      | 177/500 [1:27:23<2:39:28, 29.62s/it]"
     ]
    },
    {
     "name": "stdout",
     "output_type": "stream",
     "text": [
      "--------------------------------------------- Result 177 ---------------------------------------------\n",
      "[[2 (100%)]] --> [[0 (100%)]]\n",
      "\n",
      "yang terhormat saya [[suka]] banget sama indomie mau minta boleh tidak inovasiin bungkus minyak nya biar gampang dibuka pakai tangan dong supaya tidak bleweran ketika tidak ada gunting terima kasih \n",
      "\n",
      "yang terhormat saya [[membenarkan]] banget sama indomie mau minta boleh tidak inovasiin bungkus minyak nya biar gampang dibuka pakai tangan dong supaya tidak bleweran ketika tidak ada gunting terima kasih \n",
      "\n",
      "\n"
     ]
    },
    {
     "name": "stderr",
     "output_type": "stream",
     "text": [
      "[Succeeded / Failed / Skipped / Total] 141 / 35 / 2 / 178:  36%|███▌      | 178/500 [1:27:39<2:38:33, 29.55s/it]"
     ]
    },
    {
     "name": "stdout",
     "output_type": "stream",
     "text": [
      "--------------------------------------------- Result 178 ---------------------------------------------\n",
      "[[2 (100%)]] --> [[0 (99%)]]\n",
      "\n",
      "yang saya [[suka]] dari chitato indomie konsistensi mereka meng eksplore rasa lokal [[kesan]] nya indonesia [[banget]] \n",
      "\n",
      "yang saya [[harap]] dari chitato indomie konsistensi mereka meng eksplore rasa lokal [[kotoran]] nya indonesia [[terlalu]] \n",
      "\n",
      "\n"
     ]
    },
    {
     "name": "stderr",
     "output_type": "stream",
     "text": [
      "[Succeeded / Failed / Skipped / Total] 142 / 35 / 2 / 179:  36%|███▌      | 179/500 [1:28:00<2:37:49, 29.50s/it]"
     ]
    },
    {
     "name": "stdout",
     "output_type": "stream",
     "text": [
      "--------------------------------------------- Result 179 ---------------------------------------------\n",
      "[[2 (100%)]] --> [[0 (100%)]]\n",
      "\n",
      "asus [[bagus]] speaker nya [[kencang]] kalau buat presentasi mayan maka dari itu aku lebih milih asus dibanding yang lain \n",
      "\n",
      "asus [[rupawan]] speaker nya [[bengis]] kalau buat presentasi mayan maka dari itu aku lebih milih asus dibanding yang lain \n",
      "\n",
      "\n"
     ]
    },
    {
     "name": "stderr",
     "output_type": "stream",
     "text": [
      "[Succeeded / Failed / Skipped / Total] 143 / 35 / 2 / 180:  36%|███▌      | 180/500 [1:28:12<2:36:49, 29.40s/it]"
     ]
    },
    {
     "name": "stdout",
     "output_type": "stream",
     "text": [
      "--------------------------------------------- Result 180 ---------------------------------------------\n",
      "[[2 (100%)]] --> [[1 (100%)]]\n",
      "\n",
      "xiaomi redmi note atau asus zenfone max pro m saja jutaan sudah pakai snapdragon batre gede update os [[terjamin]] kamera [[bagus]] \n",
      "\n",
      "xiaomi redmi note atau asus zenfone max pro m saja jutaan sudah pakai snapdragon batre gede update os [[selamat]] kamera [[bum]] \n",
      "\n",
      "\n"
     ]
    },
    {
     "name": "stderr",
     "output_type": "stream",
     "text": [
      "[Succeeded / Failed / Skipped / Total] 143 / 36 / 2 / 181:  36%|███▌      | 181/500 [1:28:28<2:35:55, 29.33s/it]"
     ]
    },
    {
     "name": "stdout",
     "output_type": "stream",
     "text": [
      "--------------------------------------------- Result 181 ---------------------------------------------\n",
      "[[2 (100%)]] --> [[[FAILED]]]\n",
      "\n",
      "kalau mau minum kopi datangkan journey kopi records ini kedai kopi anak musik banget jualan kaset tape cd sampai vinyl yang punya juga paham sekali musik kopi nya enak pol teh terbaik \n",
      "\n",
      "\n"
     ]
    },
    {
     "name": "stderr",
     "output_type": "stream",
     "text": [
      "[Succeeded / Failed / Skipped / Total] 144 / 36 / 2 / 182:  36%|███▋      | 182/500 [1:29:16<2:35:59, 29.43s/it]"
     ]
    },
    {
     "name": "stdout",
     "output_type": "stream",
     "text": [
      "--------------------------------------------- Result 182 ---------------------------------------------\n",
      "[[2 (100%)]] --> [[0 (98%)]]\n",
      "\n",
      "aku lagi [[makan]] mangga potong aku suka banget buah mangga besok kalau kepasar mau beli banyak banyak lagi ah \n",
      "\n",
      "aku lagi [[muak]] mangga potong aku suka banget buah mangga besok kalau kepasar mau beli banyak banyak lagi ah \n",
      "\n",
      "\n"
     ]
    },
    {
     "name": "stderr",
     "output_type": "stream",
     "text": [
      "[Succeeded / Failed / Skipped / Total] 145 / 36 / 2 / 183:  37%|███▋      | 183/500 [1:29:58<2:35:51, 29.50s/it]"
     ]
    },
    {
     "name": "stdout",
     "output_type": "stream",
     "text": [
      "--------------------------------------------- Result 183 ---------------------------------------------\n",
      "[[2 (100%)]] --> [[0 (100%)]]\n",
      "\n",
      "jaemin itu soft banget hati nya [[mudah]] tersentuh begitu [[sayang]] banget sama nctzen juga inti nya dia itu [[suka]] sama yang nama nya kasih sayang itu kenapa aku [[suka]] banget sama dia \n",
      "\n",
      "jaemin itu soft banget hati nya [[memelihara]] tersentuh begitu [[penyakit]] banget sama nctzen juga inti nya dia itu [[bercinta]] sama yang nama nya kasih sayang itu kenapa aku [[membenarkan]] banget sama dia \n",
      "\n",
      "\n"
     ]
    },
    {
     "name": "stderr",
     "output_type": "stream",
     "text": [
      "[Succeeded / Failed / Skipped / Total] 146 / 36 / 2 / 184:  37%|███▋      | 184/500 [1:30:50<2:36:01, 29.62s/it]"
     ]
    },
    {
     "name": "stdout",
     "output_type": "stream",
     "text": [
      "--------------------------------------------- Result 184 ---------------------------------------------\n",
      "[[2 (100%)]] --> [[0 (86%)]]\n",
      "\n",
      "ingin rekomendasi saja buat yang tertarik kuliner bandung bacang yang ada di jalan naripan sebelah hotel ibis styles ibis yang warna [[hijau]] [[sungguh]] seenak itu [[buka]] dari jam sore sampai jam dinihari kalau belum sekali harga ribu [[cocok]] buat ajak [[orang]] tersayang nya \n",
      "\n",
      "ingin rekomendasi saja buat yang tertarik kuliner bandung bacang yang ada di jalan naripan sebelah hotel ibis styles ibis yang warna [[mentah]] [[terlalu]] seenak itu [[meleraikan]] dari jam sore sampai jam dinihari kalau belum sekali harga ribu [[mencampurkan]] buat ajak [[manusia]] tersayang nya \n",
      "\n",
      "\n"
     ]
    },
    {
     "name": "stderr",
     "output_type": "stream",
     "text": [
      "[Succeeded / Failed / Skipped / Total] 147 / 36 / 2 / 185:  37%|███▋      | 185/500 [1:31:22<2:35:34, 29.63s/it]"
     ]
    },
    {
     "name": "stdout",
     "output_type": "stream",
     "text": [
      "--------------------------------------------- Result 185 ---------------------------------------------\n",
      "[[2 (100%)]] --> [[0 (75%)]]\n",
      "\n",
      "kuliner pertama yang harus dicoba itu ketan jompo rasa jangan ditanya lagi gurih [[manis]] dan [[hangat]] nya [[ketan]] yang ditaburi bubuk koyah bisa banget [[menemani]] [[malam]] kalian di kota jember harga nya juga [[murah]] cuma tiga ribu [[suka]] banget \n",
      "\n",
      "kuliner pertama yang harus dicoba itu ketan jompo rasa jangan ditanya lagi gurih [[halus]] dan [[sayang]] nya [[belengket]] yang ditaburi bubuk koyah bisa banget [[menganut]] [[nokturnal]] kalian di kota jember harga nya juga [[kotor]] cuma tiga ribu [[ingin]] banget \n",
      "\n",
      "\n"
     ]
    },
    {
     "name": "stderr",
     "output_type": "stream",
     "text": [
      "[Succeeded / Failed / Skipped / Total] 148 / 36 / 2 / 186:  37%|███▋      | 186/500 [1:33:05<2:37:08, 30.03s/it]"
     ]
    },
    {
     "name": "stdout",
     "output_type": "stream",
     "text": [
      "--------------------------------------------- Result 186 ---------------------------------------------\n",
      "[[2 (100%)]] --> [[0 (74%)]]\n",
      "\n",
      "di jember itu ada tempat [[makan]] enak nama nya warung bakaran mbak vivi makanan nya enak enak bakaran nya itu pas banget matang nya dan yang paling penting nya harga nya [[murah]] sekali untuk [[makanan]] seenak itu \n",
      "\n",
      "di jember itu ada tempat [[menuntut]] enak nama nya warung bakaran mbak vivi makanan nya enak enak bakaran nya itu pas banget matang nya dan yang paling penting nya harga nya [[buruk]] sekali untuk [[melayani]] seenak itu \n",
      "\n",
      "\n"
     ]
    },
    {
     "name": "stderr",
     "output_type": "stream",
     "text": [
      "[Succeeded / Failed / Skipped / Total] 149 / 36 / 2 / 187:  37%|███▋      | 187/500 [1:35:00<2:39:01, 30.48s/it]"
     ]
    },
    {
     "name": "stdout",
     "output_type": "stream",
     "text": [
      "--------------------------------------------- Result 187 ---------------------------------------------\n",
      "[[2 (100%)]] --> [[0 (79%)]]\n",
      "\n",
      "gue baru pertama kali ke tempat [[makan]] nama nya ayam rempah jember rasanya bisa diadu sama [[makanan]] makanan [[enak]] kelas atas [[paduan]] nasi [[hangat]] sama ayam rempah terus disanding sama dua macam sambal dan [[minum]] nya [[jeruk]] [[panas]] parah sih itu rasanya [[ketagihan]] bikin ingin lagi dan lagi dan lagi \n",
      "\n",
      "gue baru pertama kali ke tempat [[rakus]] nama nya ayam rempah jember rasanya bisa diadu sama [[menyerahkan]] makanan [[elok]] kelas atas [[kepaduan]] nasi [[pesam]] sama ayam rempah terus disanding sama dua macam sambal dan [[ambil]] nya [[acar]] [[berdiang]] parah sih itu rasanya [[ketergantungan]] bikin ingin lagi dan lagi dan lagi \n",
      "\n",
      "\n"
     ]
    },
    {
     "name": "stderr",
     "output_type": "stream",
     "text": [
      "[Succeeded / Failed / Skipped / Total] 150 / 36 / 2 / 188:  38%|███▊      | 188/500 [1:35:39<2:38:45, 30.53s/it]"
     ]
    },
    {
     "name": "stdout",
     "output_type": "stream",
     "text": [
      "--------------------------------------------- Result 188 ---------------------------------------------\n",
      "[[2 (100%)]] --> [[0 (100%)]]\n",
      "\n",
      "di jember ada juga makanan nama nya tahu telur bangka waktu itu belum pernah nyobain makanan yang begituan eh sekali nya mencoba gue langsung [[jatuh]] cinta top \n",
      "\n",
      "di jember ada juga makanan nama nya tahu telur bangka waktu itu belum pernah nyobain makanan yang begituan eh sekali nya mencoba gue langsung [[kecewa]] cinta top \n",
      "\n",
      "\n"
     ]
    },
    {
     "name": "stderr",
     "output_type": "stream",
     "text": [
      "[Succeeded / Failed / Skipped / Total] 151 / 36 / 2 / 189:  38%|███▊      | 189/500 [1:37:13<2:39:59, 30.87s/it]"
     ]
    },
    {
     "name": "stdout",
     "output_type": "stream",
     "text": [
      "--------------------------------------------- Result 189 ---------------------------------------------\n",
      "[[2 (100%)]] --> [[0 (81%)]]\n",
      "\n",
      "pujasera okm semanggi itu [[salah]] satu tempat [[makan]] yang lagi populer di jember asik banget buat nongkrong wifi nya juga [[kencang]] [[kayak]] nya sih bakal sering sering ke sana \n",
      "\n",
      "pujasera okm semanggi itu [[janggal]] satu tempat [[membenamkan]] yang lagi populer di jember asik banget buat nongkrong wifi nya juga [[bengis]] [[harap]] nya sih bakal sering sering ke sana \n",
      "\n",
      "\n"
     ]
    },
    {
     "name": "stderr",
     "output_type": "stream",
     "text": [
      "[Succeeded / Failed / Skipped / Total] 152 / 36 / 2 / 190:  38%|███▊      | 190/500 [1:37:26<2:38:58, 30.77s/it]"
     ]
    },
    {
     "name": "stdout",
     "output_type": "stream",
     "text": [
      "--------------------------------------------- Result 190 ---------------------------------------------\n",
      "[[2 (100%)]] --> [[0 (99%)]]\n",
      "\n",
      "haha yang baru baru sih sudah tidak begitu terlihat absurd nya yang rog baru malah logo mata doang keren jadi nya lenovo legion yang baru malah lebih lebih lagi [[elegan]] nya kalau saya pribadi sih [[suka]] \n",
      "\n",
      "haha yang baru baru sih sudah tidak begitu terlihat absurd nya yang rog baru malah logo mata doang keren jadi nya lenovo legion yang baru malah lebih lebih lagi [[kehalusan]] nya kalau saya pribadi sih [[membenarkan]] \n",
      "\n",
      "\n"
     ]
    },
    {
     "name": "stderr",
     "output_type": "stream",
     "text": [
      "[Succeeded / Failed / Skipped / Total] 152 / 37 / 2 / 191:  38%|███▊      | 191/500 [1:37:28<2:37:41, 30.62s/it]"
     ]
    },
    {
     "name": "stdout",
     "output_type": "stream",
     "text": [
      "--------------------------------------------- Result 191 ---------------------------------------------\n",
      "[[2 (100%)]] --> [[[FAILED]]]\n",
      "\n",
      "buat gue kece banget lenovo itu saking kece nya layar laptop lenovo yoga bisa ditekuk derajat keren banget memang benar sih kadang different adalah lebih baik \n",
      "\n",
      "\n"
     ]
    },
    {
     "name": "stderr",
     "output_type": "stream",
     "text": [
      "[Succeeded / Failed / Skipped / Total] 153 / 37 / 2 / 192:  38%|███▊      | 192/500 [1:37:33<2:36:30, 30.49s/it]"
     ]
    },
    {
     "name": "stdout",
     "output_type": "stream",
     "text": [
      "--------------------------------------------- Result 192 ---------------------------------------------\n",
      "[[2 (100%)]] --> [[0 (99%)]]\n",
      "\n",
      "ultra milk ini luv [[banget]] [[ya]] sekali nya ngeluarin flavor baru dua dua nya favorit ku tapi ku lebih [[sayang]] sama yang karamel sih \n",
      "\n",
      "ultra milk ini luv [[terlalu]] [[alah]] sekali nya ngeluarin flavor baru dua dua nya favorit ku tapi ku lebih [[penyakit]] sama yang karamel sih \n",
      "\n",
      "\n"
     ]
    },
    {
     "name": "stderr",
     "output_type": "stream",
     "text": [
      "[Succeeded / Failed / Skipped / Total] 154 / 37 / 2 / 193:  39%|███▊      | 193/500 [1:38:11<2:36:11, 30.53s/it]"
     ]
    },
    {
     "name": "stdout",
     "output_type": "stream",
     "text": [
      "--------------------------------------------- Result 193 ---------------------------------------------\n",
      "[[2 (100%)]] --> [[0 (99%)]]\n",
      "\n",
      "big cola itu [[enak]] banget aku suka dia tidak jauh beda enak nya dengan minuman cola lain ditambah dia itu harga nya lebih [[murah]] luv [[banget]] buat orang yang suka cola kayak aku \n",
      "\n",
      "big cola itu [[boto]] banget aku suka dia tidak jauh beda enak nya dengan minuman cola lain ditambah dia itu harga nya lebih [[buruk]] luv [[terlalu]] buat orang yang suka cola kayak aku \n",
      "\n",
      "\n"
     ]
    },
    {
     "name": "stderr",
     "output_type": "stream",
     "text": [
      "[Succeeded / Failed / Skipped / Total] 155 / 37 / 2 / 194:  39%|███▉      | 194/500 [1:38:49<2:35:53, 30.57s/it]"
     ]
    },
    {
     "name": "stdout",
     "output_type": "stream",
     "text": [
      "--------------------------------------------- Result 194 ---------------------------------------------\n",
      "[[2 (100%)]] --> [[0 (100%)]]\n",
      "\n",
      "dulu saya haus setelah ke indomaret dan membeli big cola haus saya hilang gila rasanya [[enak]] banget sejak saat itu jadi keterusan [[suka]] minumkan big cola \n",
      "\n",
      "dulu saya haus setelah ke indomaret dan membeli big cola haus saya hilang gila rasanya [[hasan]] banget sejak saat itu jadi keterusan [[sukaria]] minumkan big cola \n",
      "\n",
      "\n"
     ]
    },
    {
     "name": "stderr",
     "output_type": "stream",
     "text": [
      "[Succeeded / Failed / Skipped / Total] 155 / 38 / 2 / 195:  39%|███▉      | 195/500 [1:38:55<2:34:43, 30.44s/it]"
     ]
    },
    {
     "name": "stdout",
     "output_type": "stream",
     "text": [
      "--------------------------------------------- Result 195 ---------------------------------------------\n",
      "[[2 (100%)]] --> [[[FAILED]]]\n",
      "\n",
      "bca keren banget sih pelayanan nya selain itu dia mikirin karyawan nya banget setiap hari saja karyawan nya dapat cemilan popcorn salut sama pemimpinan nya bukan cuma mikirin kenyamanan pelanggan tapi juga karyawan \n",
      "\n",
      "\n"
     ]
    },
    {
     "name": "stderr",
     "output_type": "stream",
     "text": [
      "[Succeeded / Failed / Skipped / Total] 156 / 38 / 2 / 196:  39%|███▉      | 196/500 [1:39:23<2:34:09, 30.43s/it]"
     ]
    },
    {
     "name": "stdout",
     "output_type": "stream",
     "text": [
      "--------------------------------------------- Result 196 ---------------------------------------------\n",
      "[[2 (100%)]] --> [[0 (100%)]]\n",
      "\n",
      "sumpah big cola jauh banget lebih enak daripada coca cola tidak terlalu manis dan tidak menyisakan pait di mulut seperti coke zero wkwk norak ya gue baru mencoba tapi asli [[enak]] banget \n",
      "\n",
      "sumpah big cola jauh banget lebih enak daripada coca cola tidak terlalu manis dan tidak menyisakan pait di mulut seperti coke zero wkwk norak ya gue baru mencoba tapi asli [[berair]] banget \n",
      "\n",
      "\n"
     ]
    },
    {
     "name": "stderr",
     "output_type": "stream",
     "text": [
      "[Succeeded / Failed / Skipped / Total] 157 / 38 / 2 / 197:  39%|███▉      | 197/500 [1:39:35<2:33:11, 30.33s/it]"
     ]
    },
    {
     "name": "stdout",
     "output_type": "stream",
     "text": [
      "--------------------------------------------- Result 197 ---------------------------------------------\n",
      "[[2 (100%)]] --> [[0 (100%)]]\n",
      "\n",
      "aku [[sayang]] banget sama susu ultramilk rasanya tiap ke indomaret tidak pernah tidak beli susu itu [[enak]] ketagihan \n",
      "\n",
      "aku [[rendah]] banget sama susu ultramilk rasanya tiap ke indomaret tidak pernah tidak beli susu itu [[kelezatan]] ketagihan \n",
      "\n",
      "\n"
     ]
    },
    {
     "name": "stderr",
     "output_type": "stream",
     "text": [
      "[Succeeded / Failed / Skipped / Total] 158 / 38 / 2 / 198:  40%|███▉      | 198/500 [1:39:55<2:32:25, 30.28s/it]"
     ]
    },
    {
     "name": "stdout",
     "output_type": "stream",
     "text": [
      "--------------------------------------------- Result 198 ---------------------------------------------\n",
      "[[2 (100%)]] --> [[0 (99%)]]\n",
      "\n",
      "oppo f menurut gue [[mantap]] banget sih mulai dari kamera depan nya yang bersih terus layar nya penuh display pakai gorilla glass lalu kamera belakang nya naik tingkat banget dari yang sebelumnya tidak menyesal gue beli ini hp \n",
      "\n",
      "oppo f menurut gue [[kaku]] banget sih mulai dari kamera depan nya yang bersih terus layar nya penuh display pakai gorilla glass lalu kamera belakang nya naik tingkat banget dari yang sebelumnya tidak menyesal gue beli ini hp \n",
      "\n",
      "\n"
     ]
    },
    {
     "name": "stderr",
     "output_type": "stream",
     "text": [
      "[Succeeded / Failed / Skipped / Total] 158 / 39 / 2 / 199:  40%|███▉      | 199/500 [1:40:07<2:31:27, 30.19s/it]"
     ]
    },
    {
     "name": "stdout",
     "output_type": "stream",
     "text": [
      "--------------------------------------------- Result 199 ---------------------------------------------\n",
      "[[2 (100%)]] --> [[[FAILED]]]\n",
      "\n",
      "sarapan nya enak dan pilihan nya lumayan banyak kamar baik ac nya juga dingin hotel aston gue rekomendasikan sih buat kalian kalian yang mau menginap di hotel \n",
      "\n",
      "\n"
     ]
    },
    {
     "name": "stderr",
     "output_type": "stream",
     "text": [
      "[Succeeded / Failed / Skipped / Total] 159 / 39 / 2 / 200:  40%|████      | 200/500 [1:40:42<2:31:04, 30.21s/it]"
     ]
    },
    {
     "name": "stdout",
     "output_type": "stream",
     "text": [
      "--------------------------------------------- Result 200 ---------------------------------------------\n",
      "[[2 (100%)]] --> [[0 (59%)]]\n",
      "\n",
      "ini ya menurut gue tentang hotel aston itu pertama staf hotel tanggap cepat dan ramah kedua untuk sarapan lumayan enak dan untuk anak [[anak]] [[suka]] sekali dengan kolam renang anak termasuk saya dan istri ketiga yang pasti [[bersih]] \n",
      "\n",
      "ini ya menurut gue tentang hotel aston itu pertama staf hotel tanggap cepat dan ramah kedua untuk sarapan lumayan enak dan untuk anak [[mentah]] [[bercintakan]] sekali dengan kolam renang anak termasuk saya dan istri ketiga yang pasti [[polos]] \n",
      "\n",
      "\n"
     ]
    },
    {
     "name": "stderr",
     "output_type": "stream",
     "text": [
      "[Succeeded / Failed / Skipped / Total] 160 / 39 / 2 / 201:  40%|████      | 201/500 [1:40:52<2:30:03, 30.11s/it]"
     ]
    },
    {
     "name": "stdout",
     "output_type": "stream",
     "text": [
      "--------------------------------------------- Result 201 ---------------------------------------------\n",
      "[[2 (100%)]] --> [[0 (100%)]]\n",
      "\n",
      "kolam renang di hotel aston bikin tidak mau berenti berenang [[nyaman]] [[banget]] air nya [[bersih]] tempat bilas nya [[nyaman]] \n",
      "\n",
      "kolam renang di hotel aston bikin tidak mau berenti berenang [[informal]] [[amat]] air nya [[kosong]] tempat bilas nya [[informal]] \n",
      "\n",
      "\n"
     ]
    },
    {
     "name": "stderr",
     "output_type": "stream",
     "text": [
      "[Succeeded / Failed / Skipped / Total] 161 / 39 / 2 / 202:  40%|████      | 202/500 [1:41:46<2:30:08, 30.23s/it]"
     ]
    },
    {
     "name": "stdout",
     "output_type": "stream",
     "text": [
      "--------------------------------------------- Result 202 ---------------------------------------------\n",
      "[[2 (100%)]] --> [[1 (99%)]]\n",
      "\n",
      "wah [[keren]] ya persiapan bni saya juga [[mendukung]] semoga bisa berjalan lancar \n",
      "\n",
      "wah [[periang]] ya persiapan bni saya juga [[mundur]] semoga bisa berjalan lancar \n",
      "\n",
      "\n"
     ]
    },
    {
     "name": "stderr",
     "output_type": "stream",
     "text": [
      "[Succeeded / Failed / Skipped / Total] 162 / 39 / 2 / 203:  41%|████      | 203/500 [1:42:09<2:29:27, 30.19s/it]"
     ]
    },
    {
     "name": "stdout",
     "output_type": "stream",
     "text": [
      "--------------------------------------------- Result 203 ---------------------------------------------\n",
      "[[2 (100%)]] --> [[0 (100%)]]\n",
      "\n",
      "lebih [[enak]] lagi kalau nasi padang oreo momogi chocolatos terus semua itu di campur di aduk pakai tangan baru dimakan [[enak]] banget \n",
      "\n",
      "lebih [[elok]] lagi kalau nasi padang oreo momogi chocolatos terus semua itu di campur di aduk pakai tangan baru dimakan [[syahda]] banget \n",
      "\n",
      "\n"
     ]
    },
    {
     "name": "stderr",
     "output_type": "stream",
     "text": [
      "[Succeeded / Failed / Skipped / Total] 163 / 39 / 2 / 204:  41%|████      | 204/500 [1:42:22<2:28:33, 30.11s/it]"
     ]
    },
    {
     "name": "stdout",
     "output_type": "stream",
     "text": [
      "--------------------------------------------- Result 204 ---------------------------------------------\n",
      "[[2 (100%)]] --> [[0 (97%)]]\n",
      "\n",
      "sudah lama tidak minum ultra milk rasa stroberi [[pas]] sekarang minum merasa [[enak]] sekali tidak tahu kenapa [[ketagihan]] rasanya ingin beli sekardus gede buat diminum sendiri \n",
      "\n",
      "sudah lama tidak minum ultra milk rasa stroberi [[lulus]] sekarang minum merasa [[selesa]] sekali tidak tahu kenapa [[habituasi]] rasanya ingin beli sekardus gede buat diminum sendiri \n",
      "\n",
      "\n"
     ]
    },
    {
     "name": "stderr",
     "output_type": "stream",
     "text": [
      "[Succeeded / Failed / Skipped / Total] 163 / 40 / 2 / 205:  41%|████      | 205/500 [1:42:26<2:27:25, 29.98s/it]"
     ]
    },
    {
     "name": "stdout",
     "output_type": "stream",
     "text": [
      "--------------------------------------------- Result 205 ---------------------------------------------\n",
      "[[2 (100%)]] --> [[[FAILED]]]\n",
      "\n",
      "go jek makin sini makin keren deh semoga makin baik ya dalam pelayanan dan aplikasi nya ya go car go jek dan go go lainnya chiiiiirrs \n",
      "\n",
      "\n"
     ]
    },
    {
     "name": "stderr",
     "output_type": "stream",
     "text": [
      "[Succeeded / Failed / Skipped / Total] 164 / 40 / 2 / 206:  41%|████      | 206/500 [1:42:54<2:26:51, 29.97s/it]"
     ]
    },
    {
     "name": "stdout",
     "output_type": "stream",
     "text": [
      "--------------------------------------------- Result 206 ---------------------------------------------\n",
      "[[2 (100%)]] --> [[0 (100%)]]\n",
      "\n",
      "go jek kalian harus tetap ada karena kami bukan sekadar butuh angkutan kami juga butuh pelayanan yang prima seperti biasanya saya sangat [[mendukung]] kalian \n",
      "\n",
      "go jek kalian harus tetap ada karena kami bukan sekadar butuh angkutan kami juga butuh pelayanan yang prima seperti biasanya saya sangat [[membuang]] kalian \n",
      "\n",
      "\n"
     ]
    },
    {
     "name": "stderr",
     "output_type": "stream",
     "text": [
      "[Succeeded / Failed / Skipped / Total] 165 / 40 / 2 / 207:  41%|████▏     | 207/500 [1:43:21<2:26:17, 29.96s/it]"
     ]
    },
    {
     "name": "stdout",
     "output_type": "stream",
     "text": [
      "--------------------------------------------- Result 207 ---------------------------------------------\n",
      "[[2 (100%)]] --> [[0 (66%)]]\n",
      "\n",
      "saya [[senang]] di [[bali]] [[bagus]] pelayanan go jek nya sangat terbantu dengan [[keberadaan]] nya memang harus ada terus supaya pelayanan nya semakin [[memuaskan]] \n",
      "\n",
      "saya [[berdaulat]] di [[Subali]] [[gombang]] pelayanan go jek nya sangat terbantu dengan [[ada]] nya memang harus ada terus supaya pelayanan nya semakin [[muak]] \n",
      "\n",
      "\n"
     ]
    },
    {
     "name": "stderr",
     "output_type": "stream",
     "text": [
      "[Succeeded / Failed / Skipped / Total] 166 / 40 / 2 / 208:  42%|████▏     | 208/500 [1:45:00<2:27:24, 30.29s/it]"
     ]
    },
    {
     "name": "stdout",
     "output_type": "stream",
     "text": [
      "--------------------------------------------- Result 208 ---------------------------------------------\n",
      "[[2 (94%)]] --> [[0 (98%)]]\n",
      "\n",
      "kalau driver go jek tidak pelayanan prima meminta [[bungkus]] acar untuk mengambil saos tambahan hilang nafsu makan saya bravo driver go jek \n",
      "\n",
      "kalau driver go jek tidak pelayanan prima meminta [[kampit]] acar untuk mengambil saos tambahan hilang nafsu makan saya bravo driver go jek \n",
      "\n",
      "\n"
     ]
    },
    {
     "name": "stderr",
     "output_type": "stream",
     "text": [
      "[Succeeded / Failed / Skipped / Total] 167 / 40 / 2 / 209:  42%|████▏     | 209/500 [1:45:16<2:26:35, 30.22s/it]"
     ]
    },
    {
     "name": "stdout",
     "output_type": "stream",
     "text": [
      "--------------------------------------------- Result 209 ---------------------------------------------\n",
      "[[2 (100%)]] --> [[0 (99%)]]\n",
      "\n",
      "banyak [[alasan]] saya bisa merasa puas dengan pelayanan go jek go jek tidak pernah [[lepas]] dari tanggung jawab itu adalah nilai plus yang belum tentu dimiliki oleh perusahaan yang lain \n",
      "\n",
      "banyak [[merasionalkan]] saya bisa merasa puas dengan pelayanan go jek go jek tidak pernah [[mengimbak-imbak]] dari tanggung jawab itu adalah nilai plus yang belum tentu dimiliki oleh perusahaan yang lain \n",
      "\n",
      "\n"
     ]
    },
    {
     "name": "stderr",
     "output_type": "stream",
     "text": [
      "[Succeeded / Failed / Skipped / Total] 167 / 41 / 2 / 210:  42%|████▏     | 210/500 [1:45:39<2:25:55, 30.19s/it]"
     ]
    },
    {
     "name": "stdout",
     "output_type": "stream",
     "text": [
      "--------------------------------------------- Result 210 ---------------------------------------------\n",
      "[[2 (100%)]] --> [[[FAILED]]]\n",
      "\n",
      "go jek selalu jadi inspirasi untuk perusahaan perusahaan di indonesia pelayanan nya bravo selalu berkembang setiap waktu dan memberi kemudahan bagi pelanggan \n",
      "\n",
      "\n"
     ]
    },
    {
     "name": "stderr",
     "output_type": "stream",
     "text": [
      "[Succeeded / Failed / Skipped / Total] 167 / 42 / 2 / 211:  42%|████▏     | 211/500 [1:46:18<2:25:36, 30.23s/it]"
     ]
    },
    {
     "name": "stdout",
     "output_type": "stream",
     "text": [
      "--------------------------------------------- Result 211 ---------------------------------------------\n",
      "[[2 (100%)]] --> [[[FAILED]]]\n",
      "\n",
      "suka sama hotel ibis dia selalu bikin inovasi buat menjaga kenyamanan pelanggan selalu konsisten juga memberi pelayanan yang terbaik untuk tamu \n",
      "\n",
      "\n"
     ]
    },
    {
     "name": "stderr",
     "output_type": "stream",
     "text": [
      "[Succeeded / Failed / Skipped / Total] 168 / 42 / 2 / 212:  42%|████▏     | 212/500 [1:46:37<2:24:50, 30.18s/it]"
     ]
    },
    {
     "name": "stdout",
     "output_type": "stream",
     "text": [
      "--------------------------------------------- Result 212 ---------------------------------------------\n",
      "[[2 (100%)]] --> [[1 (84%)]]\n",
      "\n",
      "kepada yang terhormat ibu dari ayi djembarsari selamat [[menunaikan]] tugas bu sebagai dirut rshs semoga pelayanan rshs semakin baik saya [[bangga]] kepada ibu \n",
      "\n",
      "kepada yang terhormat ibu dari ayi djembarsari selamat [[bertinjau-tinjauan]] tugas bu sebagai dirut rshs semoga pelayanan rshs semakin baik saya [[aga]] kepada ibu \n",
      "\n",
      "\n"
     ]
    },
    {
     "name": "stderr",
     "output_type": "stream",
     "text": [
      "[Succeeded / Failed / Skipped / Total] 169 / 42 / 2 / 213:  43%|████▎     | 213/500 [1:47:13<2:24:28, 30.20s/it]"
     ]
    },
    {
     "name": "stdout",
     "output_type": "stream",
     "text": [
      "--------------------------------------------- Result 213 ---------------------------------------------\n",
      "[[2 (100%)]] --> [[0 (100%)]]\n",
      "\n",
      "[[terima]] kasih atas saran yang kamu berikan kak kami akan selalu [[berusaha]] untuk meningkatkan pelayanan kami untuk pengalaman belanja yang lebih [[menyenangkan]] ya \n",
      "\n",
      "[[mencaplok]] kasih atas saran yang kamu berikan kak kami akan selalu [[menolak]] untuk meningkatkan pelayanan kami untuk pengalaman belanja yang lebih [[berkurang]] ya \n",
      "\n",
      "\n"
     ]
    },
    {
     "name": "stderr",
     "output_type": "stream",
     "text": [
      "[Succeeded / Failed / Skipped / Total] 170 / 42 / 2 / 214:  43%|████▎     | 214/500 [1:47:38<2:23:50, 30.18s/it]"
     ]
    },
    {
     "name": "stdout",
     "output_type": "stream",
     "text": [
      "--------------------------------------------- Result 214 ---------------------------------------------\n",
      "[[2 (100%)]] --> [[0 (100%)]]\n",
      "\n",
      "hai kak terima kasih atas masukan kamu ya saran kamu sangat [[berharga]] bagi kami kami akan berupaya meningkatkan performa aplikasi dan pelayanan kami untuk pengalaman jual beli yang selalu [[menyenangkan]] untuk kamu dan semua sobat shopee ya kak \n",
      "\n",
      "hai kak terima kasih atas masukan kamu ya saran kamu sangat [[merugikan]] bagi kami kami akan berupaya meningkatkan performa aplikasi dan pelayanan kami untuk pengalaman jual beli yang selalu [[berkurang]] untuk kamu dan semua sobat shopee ya kak \n",
      "\n",
      "\n"
     ]
    },
    {
     "name": "stderr",
     "output_type": "stream",
     "text": [
      "[Succeeded / Failed / Skipped / Total] 171 / 42 / 2 / 215:  43%|████▎     | 215/500 [1:47:45<2:22:50, 30.07s/it]"
     ]
    },
    {
     "name": "stdout",
     "output_type": "stream",
     "text": [
      "--------------------------------------------- Result 215 ---------------------------------------------\n",
      "[[2 (100%)]] --> [[0 (99%)]]\n",
      "\n",
      "keleveru terbaik memang dari kualitas kuantitas pelayanan pun terbaik tidak [[salah]] pilih aku \n",
      "\n",
      "keleveru terbaik memang dari kualitas kuantitas pelayanan pun terbaik tidak [[sumbang]] pilih aku \n",
      "\n",
      "\n"
     ]
    },
    {
     "name": "stderr",
     "output_type": "stream",
     "text": [
      "[Succeeded / Failed / Skipped / Total] 172 / 42 / 2 / 216:  43%|████▎     | 216/500 [1:48:01<2:22:02, 30.01s/it]"
     ]
    },
    {
     "name": "stdout",
     "output_type": "stream",
     "text": [
      "--------------------------------------------- Result 216 ---------------------------------------------\n",
      "[[2 (100%)]] --> [[0 (100%)]]\n",
      "\n",
      "[[cocok]] banget gue pakai shope sudah mana ongkos kirim gratis pengiriman juga aman dan [[lancar]] \n",
      "\n",
      "[[mengarun]] banget gue pakai shope sudah mana ongkos kirim gratis pengiriman juga aman dan [[licin]] \n",
      "\n",
      "\n"
     ]
    },
    {
     "name": "stderr",
     "output_type": "stream",
     "text": [
      "[Succeeded / Failed / Skipped / Total] 173 / 42 / 2 / 217:  43%|████▎     | 217/500 [1:48:08<2:21:02, 29.90s/it]"
     ]
    },
    {
     "name": "stdout",
     "output_type": "stream",
     "text": [
      "--------------------------------------------- Result 217 ---------------------------------------------\n",
      "[[2 (100%)]] --> [[0 (94%)]]\n",
      "\n",
      "alhamdulillah selama beli di lazada tidak pernah bermasalah [[barang]] [[barang]] nya lebih [[lucu]] [[lucu]] [[pelayanan]] juga lebih baik dari yang lain sudah deh kalau beli apa apa aku mau [[beli]] di lazada saja \n",
      "\n",
      "alhamdulillah selama beli di lazada tidak pernah bermasalah [[muatan]] [[barangan]] nya lebih [[absurd]] [[absurd]] [[jasa]] juga lebih baik dari yang lain sudah deh kalau beli apa apa aku mau [[pembelian]] di lazada saja \n",
      "\n",
      "\n"
     ]
    },
    {
     "name": "stderr",
     "output_type": "stream",
     "text": [
      "[Succeeded / Failed / Skipped / Total] 174 / 42 / 2 / 218:  44%|████▎     | 218/500 [1:48:14<2:20:01, 29.79s/it]"
     ]
    },
    {
     "name": "stdout",
     "output_type": "stream",
     "text": [
      "--------------------------------------------- Result 218 ---------------------------------------------\n",
      "[[2 (100%)]] --> [[0 (90%)]]\n",
      "\n",
      "karena shopee bukan [[barang]] shope dia itu tempat belanjaan aku yang paling luar biasa [[pelayanan]] nya oke punya [[disko]] nya [[banjir]] \n",
      "\n",
      "karena shopee bukan [[tindakan]] shope dia itu tempat belanjaan aku yang paling luar biasa [[bakti]] nya oke punya [[klub]] nya [[tertubruk]] \n",
      "\n",
      "\n"
     ]
    },
    {
     "name": "stderr",
     "output_type": "stream",
     "text": [
      "[Succeeded / Failed / Skipped / Total] 175 / 42 / 2 / 219:  44%|████▍     | 219/500 [1:48:19<2:19:00, 29.68s/it]"
     ]
    },
    {
     "name": "stdout",
     "output_type": "stream",
     "text": [
      "--------------------------------------------- Result 219 ---------------------------------------------\n",
      "[[2 (74%)]] --> [[0 (95%)]]\n",
      "\n",
      "harus belanja di shopee karena shopee itu memberikan bukti [[pelayanan]] yang baik bukan sekadar janji doang seperti mantan itu\n",
      "\n",
      "harus belanja di shopee karena shopee itu memberikan bukti [[jasa]] yang baik bukan sekadar janji doang seperti mantan itu\n",
      "\n",
      "\n"
     ]
    },
    {
     "name": "stderr",
     "output_type": "stream",
     "text": [
      "[Succeeded / Failed / Skipped / Total] 176 / 42 / 2 / 220:  44%|████▍     | 220/500 [1:48:34<2:18:10, 29.61s/it]"
     ]
    },
    {
     "name": "stdout",
     "output_type": "stream",
     "text": [
      "--------------------------------------------- Result 220 ---------------------------------------------\n",
      "[[2 (100%)]] --> [[0 (100%)]]\n",
      "\n",
      "harus belanja di shopee karena pelayanan dari shope itu benar benar [[memuaskan]] pelanggan dan takkan mengecewakan \n",
      "\n",
      "harus belanja di shopee karena pelayanan dari shope itu benar benar [[muak]] pelanggan dan takkan mengecewakan \n",
      "\n",
      "\n"
     ]
    },
    {
     "name": "stderr",
     "output_type": "stream",
     "text": [
      "[Succeeded / Failed / Skipped / Total] 177 / 42 / 2 / 221:  44%|████▍     | 221/500 [1:48:39<2:17:10, 29.50s/it]"
     ]
    },
    {
     "name": "stdout",
     "output_type": "stream",
     "text": [
      "--------------------------------------------- Result 221 ---------------------------------------------\n",
      "[[2 (100%)]] --> [[0 (50%)]]\n",
      "\n",
      "karena hanya shope yang pelayanan nya memuaskan diskon besar besaran barang nya juga pasti nya bermerek [[mantap]] \n",
      "\n",
      "karena hanya shope yang pelayanan nya memuaskan diskon besar besaran barang nya juga pasti nya bermerek [[malar]] \n",
      "\n",
      "\n"
     ]
    },
    {
     "name": "stderr",
     "output_type": "stream",
     "text": [
      "[Succeeded / Failed / Skipped / Total] 177 / 43 / 2 / 222:  44%|████▍     | 222/500 [1:48:59<2:16:28, 29.46s/it]"
     ]
    },
    {
     "name": "stdout",
     "output_type": "stream",
     "text": [
      "--------------------------------------------- Result 222 ---------------------------------------------\n",
      "[[2 (100%)]] --> [[[FAILED]]]\n",
      "\n",
      "shopee tidak pernah mengecewakan pelanggan selalu memberikan yang terbaik dalam pelayanan pokok nya shopee selalu memberikan pelayanan dengan baik \n",
      "\n",
      "\n"
     ]
    },
    {
     "name": "stderr",
     "output_type": "stream",
     "text": [
      "[Succeeded / Failed / Skipped / Total] 178 / 43 / 2 / 223:  45%|████▍     | 223/500 [1:50:03<2:16:42, 29.61s/it]"
     ]
    },
    {
     "name": "stdout",
     "output_type": "stream",
     "text": [
      "--------------------------------------------- Result 223 ---------------------------------------------\n",
      "[[2 (100%)]] --> [[0 (57%)]]\n",
      "\n",
      "shopee itu pusat pembelanjaan online terpercaya dengan pelayanan yang memuaskan yang paling [[menarik]] adalah pemberian diskon yang besar besaran aku suka aku [[suka]] \n",
      "\n",
      "shopee itu pusat pembelanjaan online terpercaya dengan pelayanan yang memuaskan yang paling [[menyusahkan]] adalah pemberian diskon yang besar besaran aku suka aku [[mengecap]] \n",
      "\n",
      "\n"
     ]
    },
    {
     "name": "stderr",
     "output_type": "stream",
     "text": [
      "[Succeeded / Failed / Skipped / Total] 179 / 43 / 2 / 224:  45%|████▍     | 224/500 [1:50:25<2:16:04, 29.58s/it]"
     ]
    },
    {
     "name": "stdout",
     "output_type": "stream",
     "text": [
      "--------------------------------------------- Result 224 ---------------------------------------------\n",
      "[[2 (100%)]] --> [[0 (100%)]]\n",
      "\n",
      "kalau ada permasalahan di toko pedia bisa langsung terselesaikan dengan mudah dan cepat pelayanan nya juga jelas pusat panggilan yang harus dihubungi juga selalu [[aktif]] [[memuaskan]] \n",
      "\n",
      "kalau ada permasalahan di toko pedia bisa langsung terselesaikan dengan mudah dan cepat pelayanan nya juga jelas pusat panggilan yang harus dihubungi juga selalu [[rancak]] [[muak]] \n",
      "\n",
      "\n"
     ]
    },
    {
     "name": "stderr",
     "output_type": "stream",
     "text": [
      "[Succeeded / Failed / Skipped / Total] 179 / 44 / 2 / 225:  45%|████▌     | 225/500 [1:50:46<2:15:23, 29.54s/it]"
     ]
    },
    {
     "name": "stdout",
     "output_type": "stream",
     "text": [
      "--------------------------------------------- Result 225 ---------------------------------------------\n",
      "[[2 (100%)]] --> [[[FAILED]]]\n",
      "\n",
      "marketplace pilihan gue ya tokopedia lah toko pedia itu selalu berusaha memberi pelayanan terbaik buat semua pengguna nya kalau ada keluhan juga pasti langsung ditanggapi salut \n",
      "\n",
      "\n"
     ]
    },
    {
     "name": "stderr",
     "output_type": "stream",
     "text": [
      "[Succeeded / Failed / Skipped / Total] 180 / 44 / 2 / 226:  45%|████▌     | 226/500 [1:51:15<2:14:53, 29.54s/it]"
     ]
    },
    {
     "name": "stdout",
     "output_type": "stream",
     "text": [
      "--------------------------------------------- Result 226 ---------------------------------------------\n",
      "[[2 (100%)]] --> [[0 (100%)]]\n",
      "\n",
      "[[senang]] sekali gue dengan pelayanan komplain di di saat penjual tidak menggubris tokopedia memberikan solusi dengan [[cepat]] pasti nya dengan investigasi yang tidak berlarut larut ya walau harus berakhir dengan pengembalian dana dana jadi gue tidak pernah [[bosan]] buat belanja di tokopedia \n",
      "\n",
      "[[marem]] sekali gue dengan pelayanan komplain di di saat penjual tidak menggubris tokopedia memberikan solusi dengan [[rancak]] pasti nya dengan investigasi yang tidak berlarut larut ya walau harus berakhir dengan pengembalian dana dana jadi gue tidak pernah [[menjemukan]] buat belanja di tokopedia \n",
      "\n",
      "\n"
     ]
    },
    {
     "name": "stderr",
     "output_type": "stream",
     "text": [
      "[Succeeded / Failed / Skipped / Total] 181 / 44 / 2 / 227:  45%|████▌     | 227/500 [1:51:44<2:14:23, 29.54s/it]"
     ]
    },
    {
     "name": "stdout",
     "output_type": "stream",
     "text": [
      "--------------------------------------------- Result 227 ---------------------------------------------\n",
      "[[2 (100%)]] --> [[0 (99%)]]\n",
      "\n",
      "[[terima]] kasih atas tanggapan dari keluhan yang saya alami mengenai hilang nya kuota data saya terima kasih xl karena sudah betul betul menanggapi dan memberikan solusi yang sangat [[memuaskan]] atas keluhan keluhan saya saya jadi merasa sangat terbantu\n",
      "\n",
      "[[mencaplok]] kasih atas tanggapan dari keluhan yang saya alami mengenai hilang nya kuota data saya terima kasih xl karena sudah betul betul menanggapi dan memberikan solusi yang sangat [[muak]] atas keluhan keluhan saya saya jadi merasa sangat terbantu\n",
      "\n",
      "\n"
     ]
    },
    {
     "name": "stderr",
     "output_type": "stream",
     "text": [
      "[Succeeded / Failed / Skipped / Total] 182 / 44 / 2 / 228:  46%|████▌     | 228/500 [1:52:00<2:13:37, 29.48s/it]"
     ]
    },
    {
     "name": "stdout",
     "output_type": "stream",
     "text": [
      "--------------------------------------------- Result 228 ---------------------------------------------\n",
      "[[2 (100%)]] --> [[0 (84%)]]\n",
      "\n",
      "kemarin itu pertama kalinya mencoba fatmilo yang white milo demi apa pun itu enak banget sih ampun aku itu tidak bisa berkata berkata lagi [[enak]] banget [[selera]] gue bangetlah \n",
      "\n",
      "kemarin itu pertama kalinya mencoba fatmilo yang white milo demi apa pun itu enak banget sih ampun aku itu tidak bisa berkata berkata lagi [[elok]] banget [[kehalusan]] gue bangetlah \n",
      "\n",
      "\n"
     ]
    },
    {
     "name": "stderr",
     "output_type": "stream",
     "text": [
      "[Succeeded / Failed / Skipped / Total] 182 / 45 / 2 / 229:  46%|████▌     | 229/500 [1:52:32<2:13:11, 29.49s/it]"
     ]
    },
    {
     "name": "stdout",
     "output_type": "stream",
     "text": [
      "--------------------------------------------- Result 229 ---------------------------------------------\n",
      "[[2 (100%)]] --> [[[FAILED]]]\n",
      "\n",
      "satu hal yang gue suka banget dari masjid agung sunda kelapa adalah surga jajanan kaki lima di luar masjid nasi gila sate ayam soto mi tempe mendoan es buah thai tea sampai es kepal milo ada di sini \n",
      "\n",
      "\n"
     ]
    },
    {
     "name": "stderr",
     "output_type": "stream",
     "text": [
      "[Succeeded / Failed / Skipped / Total] 183 / 45 / 2 / 230:  46%|████▌     | 230/500 [1:52:54<2:12:32, 29.45s/it]"
     ]
    },
    {
     "name": "stdout",
     "output_type": "stream",
     "text": [
      "--------------------------------------------- Result 230 ---------------------------------------------\n",
      "[[2 (100%)]] --> [[0 (100%)]]\n",
      "\n",
      "ada yang [[suka]] makanin milo bubuk langsung dari saset nya tidak iya sama memang [[enak]] banget gimana gitu sih rasanya gue bisa setelah lima bungkus sendiri \n",
      "\n",
      "ada yang [[membenarkan]] makanin milo bubuk langsung dari saset nya tidak iya sama memang [[kelezatan]] banget gimana gitu sih rasanya gue bisa setelah lima bungkus sendiri \n",
      "\n",
      "\n"
     ]
    },
    {
     "name": "stderr",
     "output_type": "stream",
     "text": [
      "[Succeeded / Failed / Skipped / Total] 184 / 45 / 2 / 231:  46%|████▌     | 231/500 [1:53:11<2:11:48, 29.40s/it]"
     ]
    },
    {
     "name": "stdout",
     "output_type": "stream",
     "text": [
      "--------------------------------------------- Result 231 ---------------------------------------------\n",
      "[[2 (100%)]] --> [[0 (100%)]]\n",
      "\n",
      "[[terima]] kasih kembali oh iya garuda dan traveloka [[cepat]] [[respons]] [[mantap]] dan [[keren]] \n",
      "\n",
      "[[mencaplok]] kasih kembali oh iya garuda dan traveloka [[kesibukan]] [[balasan]] [[kaku]] dan [[periang]] \n",
      "\n",
      "\n"
     ]
    },
    {
     "name": "stderr",
     "output_type": "stream",
     "text": [
      "[Succeeded / Failed / Skipped / Total] 185 / 45 / 2 / 232:  46%|████▋     | 232/500 [1:53:17<2:10:51, 29.30s/it]"
     ]
    },
    {
     "name": "stdout",
     "output_type": "stream",
     "text": [
      "--------------------------------------------- Result 232 ---------------------------------------------\n",
      "[[2 (100%)]] --> [[0 (100%)]]\n",
      "\n",
      "[[mantap]] banget ikut kontribusi di google local guides kemarin dapat voucher diskon traveloka terus ini dapat tokocash tokopedia lagi aku [[senang]] \n",
      "\n",
      "[[kaku]] banget ikut kontribusi di google local guides kemarin dapat voucher diskon traveloka terus ini dapat tokocash tokopedia lagi aku [[sukaria]] \n",
      "\n",
      "\n"
     ]
    },
    {
     "name": "stderr",
     "output_type": "stream",
     "text": [
      "[Succeeded / Failed / Skipped / Total] 186 / 45 / 2 / 233:  47%|████▋     | 233/500 [1:53:25<2:09:58, 29.21s/it]"
     ]
    },
    {
     "name": "stdout",
     "output_type": "stream",
     "text": [
      "--------------------------------------------- Result 233 ---------------------------------------------\n",
      "[[2 (100%)]] --> [[1 (98%)]]\n",
      "\n",
      "wuih ada yang baru di aplikasi nih sekarang bisa [[pesan]] tiket bus [[mantap]] \n",
      "\n",
      "wuih ada yang baru di aplikasi nih sekarang bisa [[meminta]] tiket bus [[kukuh]] \n",
      "\n",
      "\n"
     ]
    },
    {
     "name": "stderr",
     "output_type": "stream",
     "text": [
      "[Succeeded / Failed / Skipped / Total] 187 / 45 / 2 / 234:  47%|████▋     | 234/500 [1:54:50<2:10:32, 29.45s/it]"
     ]
    },
    {
     "name": "stdout",
     "output_type": "stream",
     "text": [
      "--------------------------------------------- Result 234 ---------------------------------------------\n",
      "[[2 (100%)]] --> [[0 (100%)]]\n",
      "\n",
      "barusan memesan pesawat via traveloka seperti biasanya kadang pakai kadang booking com kadang agoda mana yang paling asyik aja [[hidup]] jadi lebih [[mudah]] [[mantap]] traveloka \n",
      "\n",
      "barusan memesan pesawat via traveloka seperti biasanya kadang pakai kadang booking com kadang agoda mana yang paling asyik aja [[hilang]] jadi lebih [[kacang]] [[kaku]] traveloka \n",
      "\n",
      "\n"
     ]
    },
    {
     "name": "stderr",
     "output_type": "stream",
     "text": [
      "[Succeeded / Failed / Skipped / Total] 188 / 45 / 2 / 235:  47%|████▋     | 235/500 [1:54:58<2:09:39, 29.36s/it]"
     ]
    },
    {
     "name": "stdout",
     "output_type": "stream",
     "text": [
      "--------------------------------------------- Result 235 ---------------------------------------------\n",
      "[[2 (100%)]] --> [[0 (97%)]]\n",
      "\n",
      "terima kasih pelayanan [[mantap]] nih pengembalian dana cair kurang dari jam rekomendasi [[banget]] traveloka \n",
      "\n",
      "terima kasih pelayanan [[kaku]] nih pengembalian dana cair kurang dari jam rekomendasi [[amat]] traveloka \n",
      "\n",
      "\n"
     ]
    },
    {
     "name": "stderr",
     "output_type": "stream",
     "text": [
      "[Succeeded / Failed / Skipped / Total] 189 / 45 / 2 / 236:  47%|████▋     | 236/500 [1:55:23<2:09:05, 29.34s/it]"
     ]
    },
    {
     "name": "stdout",
     "output_type": "stream",
     "text": [
      "--------------------------------------------- Result 236 ---------------------------------------------\n",
      "[[2 (100%)]] --> [[1 (80%)]]\n",
      "\n",
      "[[mantap]] [[terima]] [[kasih]] atas proses [[pengembalian]] dana yang [[cepat]] waktu maksimal hari tapi baru satu hari sudah ditransfer thumbsup\n",
      "\n",
      "[[utuh]] [[mengantongi]] [[afeksi]] atas proses [[terbalik]] dana yang [[kepesatan]] waktu maksimal hari tapi baru satu hari sudah ditransfer thumbsup\n",
      "\n",
      "\n"
     ]
    },
    {
     "name": "stderr",
     "output_type": "stream",
     "text": [
      "[Succeeded / Failed / Skipped / Total] 190 / 45 / 2 / 237:  47%|████▋     | 237/500 [1:55:37<2:08:18, 29.27s/it]"
     ]
    },
    {
     "name": "stdout",
     "output_type": "stream",
     "text": [
      "--------------------------------------------- Result 237 ---------------------------------------------\n",
      "[[2 (100%)]] --> [[0 (100%)]]\n",
      "\n",
      "saya tambah [[setia]] ini sama traveloka sekarang pilihan maskapai nya makin banyak payment nya mudah selaint itu harga nya [[murah]] dari yang lain [[mantap]]\n",
      "\n",
      "saya tambah [[malar]] ini sama traveloka sekarang pilihan maskapai nya makin banyak payment nya mudah selaint itu harga nya [[kotor]] dari yang lain [[malar]]\n",
      "\n",
      "\n"
     ]
    },
    {
     "name": "stderr",
     "output_type": "stream",
     "text": [
      "[Succeeded / Failed / Skipped / Total] 190 / 46 / 2 / 238:  48%|████▊     | 238/500 [1:55:53<2:07:35, 29.22s/it]"
     ]
    },
    {
     "name": "stdout",
     "output_type": "stream",
     "text": [
      "--------------------------------------------- Result 238 ---------------------------------------------\n",
      "[[2 (100%)]] --> [[[FAILED]]]\n",
      "\n",
      "makin mantap sekarang sudah ada menu pesan hotel lengkap dengan rating nya semoga makin sering ada promo ya pasti saya pantengin terus\n",
      "\n",
      "\n"
     ]
    },
    {
     "name": "stderr",
     "output_type": "stream",
     "text": [
      "[Succeeded / Failed / Skipped / Total] 191 / 46 / 2 / 239:  48%|████▊     | 239/500 [1:56:06<2:06:47, 29.15s/it]"
     ]
    },
    {
     "name": "stdout",
     "output_type": "stream",
     "text": [
      "--------------------------------------------- Result 239 ---------------------------------------------\n",
      "[[2 (100%)]] --> [[1 (100%)]]\n",
      "\n",
      "e tiket sudah saya terima [[mantap]] reservasi cepat harga murah nomor tiketing online indonesia \n",
      "\n",
      "e tiket sudah saya terima [[malar]] reservasi cepat harga murah nomor tiketing online indonesia \n",
      "\n",
      "\n"
     ]
    },
    {
     "name": "stderr",
     "output_type": "stream",
     "text": [
      "[Succeeded / Failed / Skipped / Total] 192 / 46 / 3 / 241:  48%|████▊     | 241/500 [1:56:26<2:05:08, 28.99s/it]"
     ]
    },
    {
     "name": "stdout",
     "output_type": "stream",
     "text": [
      "--------------------------------------------- Result 240 ---------------------------------------------\n",
      "[[2 (100%)]] --> [[0 (95%)]]\n",
      "\n",
      "hari ini iseng mencoba versi beta nya mantap search engine nya tidak [[pusing]] lagi kalau mau cari tiket murah dan waktu penerbangan [[memudahkan]] aku \n",
      "\n",
      "hari ini iseng mencoba versi beta nya mantap search engine nya tidak [[giliran]] lagi kalau mau cari tiket murah dan waktu penerbangan [[menyusuti]] aku \n",
      "\n",
      "\n",
      "--------------------------------------------- Result 241 ---------------------------------------------\n",
      "[[1 (99%)]] --> [[[SKIPPED]]]\n",
      "\n",
      "keren air asia setelah malaysia indonesia thailand filipina jepang dan india bakal ada air asia vietnam dan air asia china \n",
      "\n",
      "\n"
     ]
    },
    {
     "name": "stderr",
     "output_type": "stream",
     "text": [
      "[Succeeded / Failed / Skipped / Total] 193 / 46 / 3 / 242:  48%|████▊     | 242/500 [1:57:41<2:05:28, 29.18s/it]"
     ]
    },
    {
     "name": "stdout",
     "output_type": "stream",
     "text": [
      "--------------------------------------------- Result 242 ---------------------------------------------\n",
      "[[2 (100%)]] --> [[1 (90%)]]\n",
      "\n",
      "air asia ini [[keren]] banget kasih [[tiket]] gratis seumur [[hidup]] buat atlit asia pemenang [[medali]] di olimpiade rio \n",
      "\n",
      "air asia ini [[gembira]] banget kasih [[kupon]] gratis seumur [[lolos]] buat atlit asia pemenang [[lencana]] di olimpiade rio \n",
      "\n",
      "\n"
     ]
    },
    {
     "name": "stderr",
     "output_type": "stream",
     "text": [
      "[Succeeded / Failed / Skipped / Total] 194 / 46 / 3 / 243:  49%|████▊     | 243/500 [1:57:45<2:04:32, 29.08s/it]"
     ]
    },
    {
     "name": "stdout",
     "output_type": "stream",
     "text": [
      "--------------------------------------------- Result 243 ---------------------------------------------\n",
      "[[2 (100%)]] --> [[0 (99%)]]\n",
      "\n",
      "top deh hari ini lion air cengkareng balikpapan on time sekali mantap harus nya sepeti ini terus sangat [[memuaskan]] \n",
      "\n",
      "top deh hari ini lion air cengkareng balikpapan on time sekali mantap harus nya sepeti ini terus sangat [[muak]] \n",
      "\n",
      "\n"
     ]
    },
    {
     "name": "stderr",
     "output_type": "stream",
     "text": [
      "[Succeeded / Failed / Skipped / Total] 195 / 46 / 3 / 244:  49%|████▉     | 244/500 [1:57:47<2:03:34, 28.96s/it]"
     ]
    },
    {
     "name": "stdout",
     "output_type": "stream",
     "text": [
      "--------------------------------------------- Result 244 ---------------------------------------------\n",
      "[[2 (100%)]] --> [[0 (51%)]]\n",
      "\n",
      "bu memang [[mantap]] semoga siapapun presiden nya [[menteri]] kelautan perikanan tetap [[bu]] susi amin \n",
      "\n",
      "bu memang [[kaku]] semoga siapapun presiden nya [[permaisuri]] kelautan perikanan tetap [[perempuan]] susi amin \n",
      "\n",
      "\n"
     ]
    },
    {
     "name": "stderr",
     "output_type": "stream",
     "text": [
      "[Succeeded / Failed / Skipped / Total] 196 / 46 / 3 / 245:  49%|████▉     | 245/500 [1:57:59<2:02:48, 28.90s/it]"
     ]
    },
    {
     "name": "stdout",
     "output_type": "stream",
     "text": [
      "--------------------------------------------- Result 245 ---------------------------------------------\n",
      "[[2 (100%)]] --> [[0 (100%)]]\n",
      "\n",
      "[[mantap]] bu saya juga akan ikut ke pantai bu biar laut kita bersih kalau kotor nanti malah ditenggelamkan dengan bu susi hehehe \n",
      "\n",
      "[[kaku]] bu saya juga akan ikut ke pantai bu biar laut kita bersih kalau kotor nanti malah ditenggelamkan dengan bu susi hehehe \n",
      "\n",
      "\n"
     ]
    },
    {
     "name": "stderr",
     "output_type": "stream",
     "text": [
      "[Succeeded / Failed / Skipped / Total] 196 / 47 / 3 / 246:  49%|████▉     | 246/500 [1:58:52<2:02:44, 28.99s/it]"
     ]
    },
    {
     "name": "stdout",
     "output_type": "stream",
     "text": [
      "--------------------------------------------- Result 246 ---------------------------------------------\n",
      "[[2 (100%)]] --> [[[FAILED]]]\n",
      "\n",
      "antusias para pemilik agen sangat luar biasa dan terima kasih untuk para petinggi jne yang berkenan hadir dalam acara kami dan terima kasih untuk para agen mitra jne yang juga turut hadir dalam acara ini semoga di tahun depan akan semakin mantap\n",
      "\n",
      "\n"
     ]
    },
    {
     "name": "stderr",
     "output_type": "stream",
     "text": [
      "[Succeeded / Failed / Skipped / Total] 197 / 47 / 3 / 247:  49%|████▉     | 247/500 [1:59:25<2:02:19, 29.01s/it]"
     ]
    },
    {
     "name": "stdout",
     "output_type": "stream",
     "text": [
      "--------------------------------------------- Result 247 ---------------------------------------------\n",
      "[[2 (100%)]] --> [[0 (95%)]]\n",
      "\n",
      "[[kebiasaan]] paling keren dari tiki jne adalah [[langsung]] memberi laporan kalau yang menerima paket tidak ada di tempat tanpa telepon dulu ke si penerima [[mantap]] \n",
      "\n",
      "[[kelakuan]] paling keren dari tiki jne adalah [[berabad-abad]] memberi laporan kalau yang menerima paket tidak ada di tempat tanpa telepon dulu ke si penerima [[kaku]] \n",
      "\n",
      "\n"
     ]
    },
    {
     "name": "stderr",
     "output_type": "stream",
     "text": [
      "[Succeeded / Failed / Skipped / Total] 197 / 48 / 3 / 248:  50%|████▉     | 248/500 [1:59:34<2:01:29, 28.93s/it]"
     ]
    },
    {
     "name": "stdout",
     "output_type": "stream",
     "text": [
      "--------------------------------------------- Result 248 ---------------------------------------------\n",
      "[[2 (100%)]] --> [[[FAILED]]]\n",
      "\n",
      "selamat ulang tahun bdo petugas nya pada ramah ramah umur sudah matang dan mantap sukses selalu karyawan nya pada sehat \n",
      "\n",
      "\n"
     ]
    },
    {
     "name": "stderr",
     "output_type": "stream",
     "text": [
      "[Succeeded / Failed / Skipped / Total] 198 / 48 / 3 / 249:  50%|████▉     | 249/500 [1:59:46<2:00:44, 28.86s/it]"
     ]
    },
    {
     "name": "stdout",
     "output_type": "stream",
     "text": [
      "--------------------------------------------- Result 249 ---------------------------------------------\n",
      "[[2 (100%)]] --> [[0 (100%)]]\n",
      "\n",
      "[[mantap]] sekali di hari libur tetap mengantarkan paket ke tujuan benar benar terapkan [[semangat]] kemerdekaan id bdo \n",
      "\n",
      "[[kaku]] sekali di hari libur tetap mengantarkan paket ke tujuan benar benar terapkan [[rancak]] kemerdekaan id bdo \n",
      "\n",
      "\n"
     ]
    },
    {
     "name": "stderr",
     "output_type": "stream",
     "text": [
      "[Succeeded / Failed / Skipped / Total] 199 / 48 / 3 / 250:  50%|█████     | 250/500 [2:00:19<2:00:19, 28.88s/it]"
     ]
    },
    {
     "name": "stdout",
     "output_type": "stream",
     "text": [
      "--------------------------------------------- Result 250 ---------------------------------------------\n",
      "[[2 (100%)]] --> [[0 (100%)]]\n",
      "\n",
      "pengiriman barang menggunakan jne sangat [[memuaskan]] [[tanggal]] sampai pengiriman barang sesuai pelayanan sangat ramah harga juga sangat masuk akal dan terjangkau \n",
      "\n",
      "pengiriman barang menggunakan jne sangat [[muak]] [[membuntuti]] sampai pengiriman barang sesuai pelayanan sangat ramah harga juga sangat masuk akal dan terjangkau \n",
      "\n",
      "\n"
     ]
    },
    {
     "name": "stderr",
     "output_type": "stream",
     "text": [
      "[Succeeded / Failed / Skipped / Total] 200 / 48 / 4 / 252:  50%|█████     | 252/500 [2:00:52<1:58:57, 28.78s/it]"
     ]
    },
    {
     "name": "stdout",
     "output_type": "stream",
     "text": [
      "--------------------------------------------- Result 251 ---------------------------------------------\n",
      "[[1 (100%)]] --> [[0 (100%)]]\n",
      "\n",
      "saya suwandi sudah pesan tiket pak cengkareng tuk penerbangan tanggal jam via pesawat nam air namun sampai dengan hari ini tanggal juli saya belum terima info apa pun transfer dari bri syariah ke bank mandiri [[mohon]] bantuan nya untuk diinformasi kembali [[terima]] kasih \n",
      "\n",
      "saya suwandi sudah pesan tiket pak cengkareng tuk penerbangan tanggal jam via pesawat nam air namun sampai dengan hari ini tanggal juli saya belum terima info apa pun transfer dari bri syariah ke bank mandiri [[menggoleng]] bantuan nya untuk diinformasi kembali [[merelakan]] kasih \n",
      "\n",
      "\n",
      "--------------------------------------------- Result 252 ---------------------------------------------\n",
      "[[2 (98%)]] --> [[[SKIPPED]]]\n",
      "\n",
      "daftar harga dispenser terbaik yang ada di blibli com memuat banyak produk salah satu nya adalah miyako wdp dispenser produk ini merupakan dispenser dengan penempatan galon di bawah sehingga anda tidak perlu mengangkat galon saat akan mengisi air \n",
      "\n",
      "\n"
     ]
    },
    {
     "name": "stderr",
     "output_type": "stream",
     "text": [
      "[Succeeded / Failed / Skipped / Total] 201 / 48 / 4 / 253:  51%|█████     | 253/500 [2:01:03<1:58:11, 28.71s/it]"
     ]
    },
    {
     "name": "stdout",
     "output_type": "stream",
     "text": [
      "--------------------------------------------- Result 253 ---------------------------------------------\n",
      "[[1 (100%)]] --> [[2 (83%)]]\n",
      "\n",
      "samsung panasonic sharp dan berbagai produsen lainnya telah memasarkan berbagai macam [[jenis]] mesin cuci dengan [[fungsi]] yang [[beragam]] \n",
      "\n",
      "samsung panasonic sharp dan berbagai produsen lainnya telah memasarkan berbagai macam [[pilihan]] mesin cuci dengan [[menyediakan]] yang [[menghelakan]] \n",
      "\n",
      "\n"
     ]
    },
    {
     "name": "stderr",
     "output_type": "stream",
     "text": [
      "[Succeeded / Failed / Skipped / Total] 202 / 48 / 4 / 254:  51%|█████     | 254/500 [2:01:08<1:57:19, 28.61s/it]"
     ]
    },
    {
     "name": "stdout",
     "output_type": "stream",
     "text": [
      "--------------------------------------------- Result 254 ---------------------------------------------\n",
      "[[1 (100%)]] --> [[2 (79%)]]\n",
      "\n",
      "kami [[segenap]] direksi dan [[karyawan]] pt smartplus consulting indonesia mengucapkan [[selamat]] hari [[raya]] idul [[fitri]] h \n",
      "\n",
      "kami [[benar-benar]] direksi dan [[profesional]] pt smartplus consulting indonesia mengucapkan [[terlindung]] hari [[keramaian]] idul [[suci]] h \n",
      "\n",
      "\n"
     ]
    },
    {
     "name": "stderr",
     "output_type": "stream",
     "text": [
      "[Succeeded / Failed / Skipped / Total] 203 / 48 / 7 / 258:  52%|█████▏    | 258/500 [2:01:30<1:53:58, 28.26s/it]"
     ]
    },
    {
     "name": "stdout",
     "output_type": "stream",
     "text": [
      "--------------------------------------------- Result 255 ---------------------------------------------\n",
      "[[0 (100%)]] --> [[2 (54%)]]\n",
      "\n",
      "sudahlah ini [[negara]] demokrasi jangan saling membual masing masing punya pilihan [[pilih]] prabowo minggu tidak mau pilih jokowi juga tidak apa apa [[bebas]] \n",
      "\n",
      "sudahlah ini [[menyatakan]] demokrasi jangan saling membual masing masing punya pilihan [[berkualitas]] prabowo minggu tidak mau pilih jokowi juga tidak apa apa [[lega]] \n",
      "\n",
      "\n",
      "--------------------------------------------- Result 256 ---------------------------------------------\n",
      "[[0 (52%)]] --> [[[SKIPPED]]]\n",
      "\n",
      "kami bukan dalam kapasitas menentukan jangan nyapres mbk \n",
      "\n",
      "\n",
      "--------------------------------------------- Result 257 ---------------------------------------------\n",
      "[[0 (97%)]] --> [[[SKIPPED]]]\n",
      "\n",
      "adab di media sosial itu jelas kok suka silakan like mengikuti tidak suka unfoll block simpel dan kita memiliki hak yang sama untuk melakukan nya \n",
      "\n",
      "\n",
      "--------------------------------------------- Result 258 ---------------------------------------------\n",
      "[[0 (88%)]] --> [[[SKIPPED]]]\n",
      "\n",
      "kalau tidak suka gaperlu didukung mas dukung saja yang menurut mas daus itu bisa bawa indonesia jauh lebih baik yang penting kita harus menomorsatukan asas etika \n",
      "\n",
      "\n"
     ]
    },
    {
     "name": "stderr",
     "output_type": "stream",
     "text": [
      "[Succeeded / Failed / Skipped / Total] 204 / 48 / 7 / 259:  52%|█████▏    | 259/500 [2:01:39<1:53:11, 28.18s/it]"
     ]
    },
    {
     "name": "stdout",
     "output_type": "stream",
     "text": [
      "--------------------------------------------- Result 259 ---------------------------------------------\n",
      "[[1 (100%)]] --> [[2 (72%)]]\n",
      "\n",
      "kamu bisa punya [[koleksi]] bts dengan [[membeli]] smartphone lagi k selain tersedia wallpaper dan tema di dalam nya kamu juga dapat [[poster]] dan postcard bts \n",
      "\n",
      "kamu bisa punya [[banyak]] bts dengan [[menggemari]] smartphone lagi k selain tersedia wallpaper dan tema di dalam nya kamu juga dapat [[pelekat]] dan postcard bts \n",
      "\n",
      "\n"
     ]
    },
    {
     "name": "stderr",
     "output_type": "stream",
     "text": [
      "[Succeeded / Failed / Skipped / Total] 205 / 48 / 10 / 263:  53%|█████▎    | 263/500 [2:02:00<1:49:57, 27.84s/it]"
     ]
    },
    {
     "name": "stdout",
     "output_type": "stream",
     "text": [
      "--------------------------------------------- Result 260 ---------------------------------------------\n",
      "[[0 (100%)]] --> [[2 (100%)]]\n",
      "\n",
      "siarin bola asian games lewat parabola dong puluhan juta pasang mata di luar jawa yang pakai parabola pasti [[kecewa]] kalau tidak bisa menonton \n",
      "\n",
      "siarin bola asian games lewat parabola dong puluhan juta pasang mata di luar jawa yang pakai parabola pasti [[menjelajahi]] kalau tidak bisa menonton \n",
      "\n",
      "\n",
      "--------------------------------------------- Result 261 ---------------------------------------------\n",
      "[[0 (92%)]] --> [[[SKIPPED]]]\n",
      "\n",
      "ada tiga tahap pertama harus unlock bootloader terus pasang twrp terus robot deh xiaomi kamu tipe berapa ya soal nya suka beda gitu loh\n",
      "\n",
      "\n",
      "--------------------------------------------- Result 262 ---------------------------------------------\n",
      "[[0 (100%)]] --> [[[SKIPPED]]]\n",
      "\n",
      "maaf ini oot yang hape nya xiaomi bisa bantu aku tidak ini kalau aku lagi buka twit atau saya begitu suka menang nah yang aku lingkarkan merah itu aplikasi yang menghilang begitu ada yang tahu kenapa dan bagaimana cara menyembuhkan nya \n",
      "\n",
      "\n",
      "--------------------------------------------- Result 263 ---------------------------------------------\n",
      "[[0 (99%)]] --> [[[SKIPPED]]]\n",
      "\n",
      "di indonesia pilihan brand smartphone kan melimpah kalau tidak suka cara xiaomi menjalankan bisnis nya ya tinggal pilih brand lain dibawa santai saja \n",
      "\n",
      "\n"
     ]
    },
    {
     "name": "stderr",
     "output_type": "stream",
     "text": [
      "[Succeeded / Failed / Skipped / Total] 205 / 49 / 10 / 264:  53%|█████▎    | 264/500 [2:02:02<1:49:05, 27.74s/it]"
     ]
    },
    {
     "name": "stdout",
     "output_type": "stream",
     "text": [
      "--------------------------------------------- Result 264 ---------------------------------------------\n",
      "[[1 (100%)]] --> [[[FAILED]]]\n",
      "\n",
      "pendaftar towel towel lagi g thinq membludak hingga x kapasitas tempat ke depan nya bakal segera ada towel towel huawei nova i dan mungkin samsung galaxy note \n",
      "\n",
      "\n"
     ]
    },
    {
     "name": "stderr",
     "output_type": "stream",
     "text": [
      "[Succeeded / Failed / Skipped / Total] 206 / 49 / 10 / 265:  53%|█████▎    | 265/500 [2:02:04<1:48:14, 27.64s/it]"
     ]
    },
    {
     "name": "stdout",
     "output_type": "stream",
     "text": [
      "--------------------------------------------- Result 265 ---------------------------------------------\n",
      "[[1 (100%)]] --> [[0 (100%)]]\n",
      "\n",
      "di depan sana masih ada [[kompetisi]] [[foto]] dengan [[tema]] morning feel \n",
      "\n",
      "di depan sana masih ada [[pesaing]] [[menggertak]] dengan [[hal]] morning feel \n",
      "\n",
      "\n"
     ]
    },
    {
     "name": "stderr",
     "output_type": "stream",
     "text": [
      "[Succeeded / Failed / Skipped / Total] 206 / 50 / 10 / 266:  53%|█████▎    | 266/500 [2:02:04<1:47:23, 27.54s/it]"
     ]
    },
    {
     "name": "stdout",
     "output_type": "stream",
     "text": [
      "--------------------------------------------- Result 266 ---------------------------------------------\n",
      "[[1 (100%)]] --> [[[FAILED]]]\n",
      "\n",
      "oke saya akan segera menuju ke cabang bca terdekat \n",
      "\n",
      "\n"
     ]
    },
    {
     "name": "stderr",
     "output_type": "stream",
     "text": [
      "[Succeeded / Failed / Skipped / Total] 207 / 50 / 10 / 267:  53%|█████▎    | 267/500 [2:02:25<1:46:50, 27.51s/it]"
     ]
    },
    {
     "name": "stdout",
     "output_type": "stream",
     "text": [
      "--------------------------------------------- Result 267 ---------------------------------------------\n",
      "[[1 (100%)]] --> [[0 (99%)]]\n",
      "\n",
      "isi pulsa via atm bca tadi jam sampai sekarang belum masuk boleh tolong dicek [[terima]] kasih\n",
      "\n",
      "isi pulsa via atm bca tadi jam sampai sekarang belum masuk boleh tolong dicek [[menenggak]] kasih\n",
      "\n",
      "\n"
     ]
    },
    {
     "name": "stderr",
     "output_type": "stream",
     "text": [
      "[Succeeded / Failed / Skipped / Total] 208 / 50 / 10 / 268:  54%|█████▎    | 268/500 [2:02:31<1:46:03, 27.43s/it]"
     ]
    },
    {
     "name": "stdout",
     "output_type": "stream",
     "text": [
      "--------------------------------------------- Result 268 ---------------------------------------------\n",
      "[[1 (100%)]] --> [[2 (98%)]]\n",
      "\n",
      "mau tanya apa nomer ini benar nomer kantor bca jakarta yang menangani kartu kredit saya [[tunggu]] jawaban nya [[ya]]\n",
      "\n",
      "mau tanya apa nomer ini benar nomer kantor bca jakarta yang menangani kartu kredit saya [[menangap]] jawaban nya [[sungguh]]\n",
      "\n",
      "\n"
     ]
    },
    {
     "name": "stderr",
     "output_type": "stream",
     "text": [
      "[Succeeded / Failed / Skipped / Total] 209 / 50 / 10 / 269:  54%|█████▍    | 269/500 [2:02:36<1:45:17, 27.35s/it]"
     ]
    },
    {
     "name": "stdout",
     "output_type": "stream",
     "text": [
      "--------------------------------------------- Result 269 ---------------------------------------------\n",
      "[[1 (100%)]] --> [[0 (86%)]]\n",
      "\n",
      "[[hai]] mas cepy saya sudah ke bank bca terdekat untuk langsung diproses pergantian kartu [[ya]]\n",
      "\n",
      "[[keluhan]] mas cepy saya sudah ke bank bca terdekat untuk langsung diproses pergantian kartu [[sungguh]]\n",
      "\n",
      "\n"
     ]
    },
    {
     "name": "stderr",
     "output_type": "stream",
     "text": [
      "[Succeeded / Failed / Skipped / Total] 210 / 50 / 10 / 270:  54%|█████▍    | 270/500 [2:02:54<1:44:41, 27.31s/it]"
     ]
    },
    {
     "name": "stdout",
     "output_type": "stream",
     "text": [
      "--------------------------------------------- Result 270 ---------------------------------------------\n",
      "[[1 (100%)]] --> [[2 (100%)]]\n",
      "\n",
      "hai ken saat ini isi e money flazz dari bca belum bisa di jenius ya kamu bisa menyampaikan saran kamu melalui bagian dari kami di jenius co create info [[lengkap]] bisa ku njungi [[terima]] kasih \n",
      "\n",
      "hai ken saat ini isi e money flazz dari bca belum bisa di jenius ya kamu bisa menyampaikan saran kamu melalui bagian dari kami di jenius co create info [[betul-betul]] bisa ku njungi [[menggemari]] kasih \n",
      "\n",
      "\n"
     ]
    },
    {
     "name": "stderr",
     "output_type": "stream",
     "text": [
      "[Succeeded / Failed / Skipped / Total] 211 / 50 / 10 / 271:  54%|█████▍    | 271/500 [2:03:03<1:43:59, 27.25s/it]"
     ]
    },
    {
     "name": "stdout",
     "output_type": "stream",
     "text": [
      "--------------------------------------------- Result 271 ---------------------------------------------\n",
      "[[1 (100%)]] --> [[2 (56%)]]\n",
      "\n",
      "[[selamat]] [[siang]] kamu bisa menggunakan [[tarif]] ramai ramai untuk rombongan serta memanfat promo cashback dari rekanan bank seperti bank bri dan bca \n",
      "\n",
      "[[terlindung]] [[cerah]] kamu bisa menggunakan [[cukai]] ramai ramai untuk rombongan serta memanfat promo cashback dari rekanan bank seperti bank bri dan bca \n",
      "\n",
      "\n"
     ]
    },
    {
     "name": "stderr",
     "output_type": "stream",
     "text": [
      "[Succeeded / Failed / Skipped / Total] 212 / 50 / 10 / 272:  54%|█████▍    | 272/500 [2:03:14<1:43:18, 27.19s/it]"
     ]
    },
    {
     "name": "stdout",
     "output_type": "stream",
     "text": [
      "--------------------------------------------- Result 272 ---------------------------------------------\n",
      "[[1 (65%)]] --> [[2 (99%)]]\n",
      "\n",
      "di pesona festival pasar terapung ada juga permainan tradisional balogo festival kain tradisional sasirangan [[kompetisi]] chef hotel dan restoran terbaik festival kuliner desa banjar lomba hias perahu jukung lomba fotografi dan masih banyak lagi yang lainnya \n",
      "\n",
      "di pesona festival pasar terapung ada juga permainan tradisional balogo festival kain tradisional sasirangan [[perlawanan]] chef hotel dan restoran terbaik festival kuliner desa banjar lomba hias perahu jukung lomba fotografi dan masih banyak lagi yang lainnya \n",
      "\n",
      "\n"
     ]
    },
    {
     "name": "stderr",
     "output_type": "stream",
     "text": [
      "[Succeeded / Failed / Skipped / Total] 213 / 50 / 10 / 273:  55%|█████▍    | 273/500 [2:03:34<1:42:45, 27.16s/it]"
     ]
    },
    {
     "name": "stdout",
     "output_type": "stream",
     "text": [
      "--------------------------------------------- Result 273 ---------------------------------------------\n",
      "[[2 (98%)]] --> [[0 (99%)]]\n",
      "\n",
      "asisten pelatih pskc cimahi nurjati merasa tim nya sangat [[bangga]] bertemu dengan tim sebesar persib bandung di babak besar piala indonesia \n",
      "\n",
      "asisten pelatih pskc cimahi nurjati merasa tim nya sangat [[sombong]] bertemu dengan tim sebesar persib bandung di babak besar piala indonesia \n",
      "\n",
      "\n"
     ]
    },
    {
     "name": "stderr",
     "output_type": "stream",
     "text": [
      "[Succeeded / Failed / Skipped / Total] 214 / 50 / 10 / 274:  55%|█████▍    | 274/500 [2:03:49<1:42:08, 27.12s/it]"
     ]
    },
    {
     "name": "stdout",
     "output_type": "stream",
     "text": [
      "--------------------------------------------- Result 274 ---------------------------------------------\n",
      "[[1 (100%)]] --> [[2 (66%)]]\n",
      "\n",
      "[[selamat]] siang jika selama bulan tidak terdapat saldo rp tidak ada [[transaksi]] maka sudah otomatis closed namun untuk pengecekan [[status]] rekening anda dapat [[menghubungi]] bni call \n",
      "\n",
      "[[terlindung]] siang jika selama bulan tidak terdapat saldo rp tidak ada [[perjanjian]] maka sudah otomatis closed namun untuk pengecekan [[posisi]] rekening anda dapat [[menggemari]] bni call \n",
      "\n",
      "\n"
     ]
    },
    {
     "name": "stderr",
     "output_type": "stream",
     "text": [
      "[Succeeded / Failed / Skipped / Total] 215 / 50 / 10 / 275:  55%|█████▌    | 275/500 [2:04:53<1:42:11, 27.25s/it]"
     ]
    },
    {
     "name": "stdout",
     "output_type": "stream",
     "text": [
      "--------------------------------------------- Result 275 ---------------------------------------------\n",
      "[[1 (100%)]] --> [[2 (70%)]]\n",
      "\n",
      "[[selamat]] pagi untuk melihat tagihan dapat menghubungi bni call kemudian [[tekan]] untuk berbicara dengan bni call officer lalu tekan untuk [[berbicara]] dengan bni call officer layanan kartu kredit nanti petugas kami akan [[membantu]] anda \n",
      "\n",
      "[[terlindung]] pagi untuk melihat tagihan dapat menghubungi bni call kemudian [[menciutkan]] untuk berbicara dengan bni call officer lalu tekan untuk [[menggurui]] dengan bni call officer layanan kartu kredit nanti petugas kami akan [[mempermudah]] anda \n",
      "\n",
      "\n"
     ]
    },
    {
     "name": "stderr",
     "output_type": "stream",
     "text": [
      "[Succeeded / Failed / Skipped / Total] 216 / 50 / 10 / 276:  55%|█████▌    | 276/500 [2:07:01<1:43:05, 27.61s/it]"
     ]
    },
    {
     "name": "stdout",
     "output_type": "stream",
     "text": [
      "--------------------------------------------- Result 276 ---------------------------------------------\n",
      "[[1 (100%)]] --> [[0 (81%)]]\n",
      "\n",
      "selamat pagi silakan hubungi bni call untuk melakukan pemblokiran setelah itu silakan datang ke kantor cabang bni terdekat dengan [[membawa]] ktp surat keterangan hilang dari kepolisian dan buku tabungan untuk penggantian kartu nya [[ya]] \n",
      "\n",
      "selamat pagi silakan hubungi bni call untuk melakukan pemblokiran setelah itu silakan datang ke kantor cabang bni terdekat dengan [[menggonggong]] ktp surat keterangan hilang dari kepolisian dan buku tabungan untuk penggantian kartu nya [[sungguh]] \n",
      "\n",
      "\n"
     ]
    },
    {
     "name": "stderr",
     "output_type": "stream",
     "text": [
      "[Succeeded / Failed / Skipped / Total] 217 / 50 / 10 / 277:  55%|█████▌    | 277/500 [2:07:14<1:42:26, 27.56s/it]"
     ]
    },
    {
     "name": "stdout",
     "output_type": "stream",
     "text": [
      "--------------------------------------------- Result 277 ---------------------------------------------\n",
      "[[1 (100%)]] --> [[0 (81%)]]\n",
      "\n",
      "tadi [[sore]] saya baru cek email dan sudah transfer kekurangan tapi belum ada balasan lagi apakah transferan nya sudah [[masuk]] atas nama ellena saufika no cust tf via mbanking bni \n",
      "\n",
      "tadi [[kudis]] saya baru cek email dan sudah transfer kekurangan tapi belum ada balasan lagi apakah transferan nya sudah [[mencampuri]] atas nama ellena saufika no cust tf via mbanking bni \n",
      "\n",
      "\n"
     ]
    },
    {
     "name": "stderr",
     "output_type": "stream",
     "text": [
      "[Succeeded / Failed / Skipped / Total] 217 / 51 / 10 / 278:  56%|█████▌    | 278/500 [2:08:11<1:42:22, 27.67s/it]"
     ]
    },
    {
     "name": "stdout",
     "output_type": "stream",
     "text": [
      "--------------------------------------------- Result 278 ---------------------------------------------\n",
      "[[1 (100%)]] --> [[[FAILED]]]\n",
      "\n",
      "jakarta november di hotel ibis kramat jakarta pusat balai ksda jakarta mengadakan bimtek web based integrated system peredaran tsl secara online e permit untuk mengenalkan sebuah aplikasi pelayanan pemanfaatan tsl yang dinamai si pinter sistem perijinan terpadu \n",
      "\n",
      "\n"
     ]
    },
    {
     "name": "stderr",
     "output_type": "stream",
     "text": [
      "[Succeeded / Failed / Skipped / Total] 218 / 51 / 10 / 279:  56%|█████▌    | 279/500 [2:08:46<1:42:00, 27.69s/it]"
     ]
    },
    {
     "name": "stdout",
     "output_type": "stream",
     "text": [
      "--------------------------------------------- Result 279 ---------------------------------------------\n",
      "[[1 (100%)]] --> [[2 (89%)]]\n",
      "\n",
      "dalam kunjungan [[kerja]] nya ke [[provinsi]] jawa [[barat]] presiden meninjau [[pelayanan]] bpjs dan [[kartu]] indonesia [[sehat]] kis di rumah sakit umum [[pendidikan]] rsup dari [[hasan]] sadikin rshs kota bandung kamis [[siang]] februari \n",
      "\n",
      "dalam kunjungan [[berkesan]] nya ke [[kawasan]] jawa [[Occident]] presiden meninjau [[khidmat]] bpjs dan [[pelekat]] indonesia [[menyegarkan]] kis di rumah sakit umum [[sekolah]] rsup dari [[enak]] sadikin rshs kota bandung kamis [[cerah]] februari \n",
      "\n",
      "\n"
     ]
    },
    {
     "name": "stderr",
     "output_type": "stream",
     "text": [
      "[Succeeded / Failed / Skipped / Total] 218 / 52 / 10 / 280:  56%|█████▌    | 280/500 [2:08:47<1:41:11, 27.60s/it]"
     ]
    },
    {
     "name": "stdout",
     "output_type": "stream",
     "text": [
      "--------------------------------------------- Result 280 ---------------------------------------------\n",
      "[[1 (100%)]] --> [[[FAILED]]]\n",
      "\n",
      "hari ini rshs berusia tahun \n",
      "\n",
      "\n"
     ]
    },
    {
     "name": "stderr",
     "output_type": "stream",
     "text": [
      "[Succeeded / Failed / Skipped / Total] 219 / 52 / 10 / 281:  56%|█████▌    | 281/500 [2:09:13<1:40:42, 27.59s/it]"
     ]
    },
    {
     "name": "stdout",
     "output_type": "stream",
     "text": [
      "--------------------------------------------- Result 281 ---------------------------------------------\n",
      "[[1 (100%)]] --> [[0 (98%)]]\n",
      "\n",
      "pada tanggal februari esok poliklinik rawat [[jalan]] rshs tidak melakukan pelayanan dikarenakan hari libur nasional poli kembali [[buka]] hari senin februari \n",
      "\n",
      "pada tanggal februari esok poliklinik rawat [[membuyarkan]] rshs tidak melakukan pelayanan dikarenakan hari libur nasional poli kembali [[meleraikan]] hari senin februari \n",
      "\n",
      "\n"
     ]
    },
    {
     "name": "stderr",
     "output_type": "stream",
     "text": [
      "[Succeeded / Failed / Skipped / Total] 220 / 52 / 10 / 282:  56%|█████▋    | 282/500 [2:09:33<1:40:09, 27.57s/it]"
     ]
    },
    {
     "name": "stdout",
     "output_type": "stream",
     "text": [
      "--------------------------------------------- Result 282 ---------------------------------------------\n",
      "[[1 (100%)]] --> [[0 (100%)]]\n",
      "\n",
      "kami ingin [[mengumumkan]] bahwa mal bom kini [[hadir]] di shopee mal \n",
      "\n",
      "kami ingin [[menghukum]] bahwa mal bom kini [[mempertontonkan]] di shopee mal \n",
      "\n",
      "\n"
     ]
    },
    {
     "name": "stderr",
     "output_type": "stream",
     "text": [
      "[Succeeded / Failed / Skipped / Total] 220 / 53 / 10 / 283:  57%|█████▋    | 283/500 [2:09:47<1:39:31, 27.52s/it]"
     ]
    },
    {
     "name": "stdout",
     "output_type": "stream",
     "text": [
      "--------------------------------------------- Result 283 ---------------------------------------------\n",
      "[[1 (100%)]] --> [[[FAILED]]]\n",
      "\n",
      "hari ini periode submission xpresound telah ditutup ya dan para juri akan memilih finalis yang akan diumumkan tanggal agustus nanti \n",
      "\n",
      "\n"
     ]
    },
    {
     "name": "stderr",
     "output_type": "stream",
     "text": [
      "[Succeeded / Failed / Skipped / Total] 221 / 53 / 10 / 284:  57%|█████▋    | 284/500 [2:11:15<1:39:49, 27.73s/it]"
     ]
    },
    {
     "name": "stdout",
     "output_type": "stream",
     "text": [
      "--------------------------------------------- Result 284 ---------------------------------------------\n",
      "[[1 (100%)]] --> [[0 (100%)]]\n",
      "\n",
      "informasi [[tambahan]] bahwa untuk pembayaran rp juta yang bapak lakukan tidak menjadikan limit menjadi rp juta melainkan pembayaran tersebut akan [[mengurangi]] tagihan yang sedang berjalan jika kartu kredit dalam keadaan berlebihan limit maka akan dikenakan biaya rp ribu \n",
      "\n",
      "informasi [[berlebihan]] bahwa untuk pembayaran rp juta yang bapak lakukan tidak menjadikan limit menjadi rp juta melainkan pembayaran tersebut akan [[menyesakkan]] tagihan yang sedang berjalan jika kartu kredit dalam keadaan berlebihan limit maka akan dikenakan biaya rp ribu \n",
      "\n",
      "\n"
     ]
    },
    {
     "name": "stderr",
     "output_type": "stream",
     "text": [
      "[Succeeded / Failed / Skipped / Total] 222 / 53 / 11 / 286:  57%|█████▋    | 286/500 [2:11:31<1:38:24, 27.59s/it]"
     ]
    },
    {
     "name": "stdout",
     "output_type": "stream",
     "text": [
      "--------------------------------------------- Result 285 ---------------------------------------------\n",
      "[[1 (100%)]] --> [[2 (91%)]]\n",
      "\n",
      "sebentar lagi asian games dimulai nih coba tebak ada berapa cabang olahraga yang dipertandingkan di asian games nanti lalu menangkan hadiah kompor spesial dari rinnai untuk orang lazadians yang [[beruntung]] \n",
      "\n",
      "sebentar lagi asian games dimulai nih coba tebak ada berapa cabang olahraga yang dipertandingkan di asian games nanti lalu menangkan hadiah kompor spesial dari rinnai untuk orang lazadians yang [[faedah]] \n",
      "\n",
      "\n",
      "--------------------------------------------- Result 286 ---------------------------------------------\n",
      "[[1 (99%)]] --> [[[SKIPPED]]]\n",
      "\n",
      "saat kunjungan ke hotel menag banyak menerima apresiasi atas layanan haji tahun ini \n",
      "\n",
      "\n"
     ]
    },
    {
     "name": "stderr",
     "output_type": "stream",
     "text": [
      "[Succeeded / Failed / Skipped / Total] 222 / 54 / 11 / 287:  57%|█████▋    | 287/500 [2:12:16<1:38:10, 27.65s/it]"
     ]
    },
    {
     "name": "stdout",
     "output_type": "stream",
     "text": [
      "--------------------------------------------- Result 287 ---------------------------------------------\n",
      "[[1 (100%)]] --> [[[FAILED]]]\n",
      "\n",
      "pagi ini pemkab pemalang melalui menyelenggarakan kegiatan launching sistem layanan informasi publik secara online dan rakor ppid di salah satu hotel di pemalang \n",
      "\n",
      "\n"
     ]
    },
    {
     "name": "stderr",
     "output_type": "stream",
     "text": [
      "[Succeeded / Failed / Skipped / Total] 223 / 54 / 11 / 288:  58%|█████▊    | 288/500 [2:13:26<1:38:13, 27.80s/it]"
     ]
    },
    {
     "name": "stdout",
     "output_type": "stream",
     "text": [
      "--------------------------------------------- Result 288 ---------------------------------------------\n",
      "[[1 (100%)]] --> [[0 (100%)]]\n",
      "\n",
      "kemnaker ri [[menyelenggarakan]] pameran kesempatan kerja job fair nasional tahun di balairung hotel bumiwiyata depok jawa barat [[tanggal]] juli job fair ini tidak dipungut biaya [[gratis]] \n",
      "\n",
      "kemnaker ri [[membohongi]] pameran kesempatan kerja job fair nasional tahun di balairung hotel bumiwiyata depok jawa barat [[berkelahi]] juli job fair ini tidak dipungut biaya [[percuma]] \n",
      "\n",
      "\n"
     ]
    },
    {
     "name": "stderr",
     "output_type": "stream",
     "text": [
      "[Succeeded / Failed / Skipped / Total] 224 / 54 / 11 / 289:  58%|█████▊    | 289/500 [2:13:44<1:37:38, 27.77s/it]"
     ]
    },
    {
     "name": "stdout",
     "output_type": "stream",
     "text": [
      "--------------------------------------------- Result 289 ---------------------------------------------\n",
      "[[2 (68%)]] --> [[1 (99%)]]\n",
      "\n",
      "gelaran jateng wow telah usai pada maret lalu dari pelaksanaan selama dua bulan penuh kegiatan ini telah [[meningkatkan]] hunian hotel mendatangkan ribuan kunjungan wisatawan mancanegara ke jawa tengah \n",
      "\n",
      "gelaran jateng wow telah usai pada maret lalu dari pelaksanaan selama dua bulan penuh kegiatan ini telah [[pendahuluan]] hunian hotel mendatangkan ribuan kunjungan wisatawan mancanegara ke jawa tengah \n",
      "\n",
      "\n"
     ]
    },
    {
     "name": "stderr",
     "output_type": "stream",
     "text": [
      "[Succeeded / Failed / Skipped / Total] 225 / 54 / 11 / 290:  58%|█████▊    | 290/500 [2:14:19<1:37:16, 27.79s/it]"
     ]
    },
    {
     "name": "stdout",
     "output_type": "stream",
     "text": [
      "--------------------------------------------- Result 290 ---------------------------------------------\n",
      "[[1 (100%)]] --> [[2 (98%)]]\n",
      "\n",
      "presiden harapkan menpar ri dan menko untuk [[mengajak]] [[pelaku]] pariwisata baik hotel maupun maskapai penerbangan untuk juga diajak memberikan [[informasi]] [[mempromosikan]] wisata di indonesia [[khusus]] nya bali \n",
      "\n",
      "presiden harapkan menpar ri dan menko untuk [[memberangsangkan]] [[akhlak]] pariwisata baik hotel maupun maskapai penerbangan untuk juga diajak memberikan [[khabar]] [[menyekang]] wisata di indonesia [[istimewa]] nya bali \n",
      "\n",
      "\n"
     ]
    },
    {
     "name": "stderr",
     "output_type": "stream",
     "text": [
      "[Succeeded / Failed / Skipped / Total] 226 / 54 / 11 / 291:  58%|█████▊    | 291/500 [2:17:10<1:38:31, 28.28s/it]"
     ]
    },
    {
     "name": "stdout",
     "output_type": "stream",
     "text": [
      "--------------------------------------------- Result 291 ---------------------------------------------\n",
      "[[1 (100%)]] --> [[0 (73%)]]\n",
      "\n",
      "gubernur dki jakarta anies baswedan [[membentuk]] tim evaluasi tata kelola [[air]] [[minum]] pembentukan tim ini tertuang dalam [[keputusan]] gubernur nomor tahun yang ditandatangani agustus tim ini diketuai sekretaris daerah saefullah dengan [[wakil]] [[ketua]] asisten pembangunan dan lingkungan [[hidup]] yusmada faizal \n",
      "\n",
      "gubernur dki jakarta anies baswedan [[menjebak]] tim evaluasi tata kelola [[jus]] [[menggoleng]] pembentukan tim ini tertuang dalam [[ketetapan]] gubernur nomor tahun yang ditandatangani agustus tim ini diketuai sekretaris daerah saefullah dengan [[menguntukkan]] [[profesionalisme]] asisten pembangunan dan lingkungan [[membobolkan]] yusmada faizal \n",
      "\n",
      "\n"
     ]
    },
    {
     "name": "stderr",
     "output_type": "stream",
     "text": [
      "[Succeeded / Failed / Skipped / Total] 227 / 54 / 11 / 292:  58%|█████▊    | 292/500 [2:17:44<1:38:07, 28.30s/it]"
     ]
    },
    {
     "name": "stdout",
     "output_type": "stream",
     "text": [
      "--------------------------------------------- Result 292 ---------------------------------------------\n",
      "[[1 (100%)]] --> [[2 (60%)]]\n",
      "\n",
      "tujuh [[pemain]] [[real]] madrid akan [[menyamai]] rekor paolo maldini dan dani alves yang sampai saat ini masih [[menyandang]] predikat raja di [[piala]] super eropa ketujuh pemain yang dimaksud adalah dani carvajal sergio ramos marcelo luka modric karim benzema isco dan toni kroos di antara tujuh pemain itu sudah ada enam [[pemain]] yang [[meraih]] tiga gelar [[piala]] super eropa bersama real madrid yakni carvajal ramos marcelo modric benzema dan isco \n",
      "\n",
      "tujuh [[tangan]] [[asli]] madrid akan [[cocok]] rekor paolo maldini dan dani alves yang sampai saat ini masih [[menggemak-gemak]] predikat raja di [[hadiah]] super eropa ketujuh pemain yang dimaksud adalah dani carvajal sergio ramos marcelo luka modric karim benzema isco dan toni kroos di antara tujuh pemain itu sudah ada enam [[berseni]] yang [[menggemak-gemak]] tiga gelar [[hadiah]] super eropa bersama real madrid yakni carvajal ramos marcelo modric benzema dan isco \n",
      "\n",
      "\n"
     ]
    },
    {
     "name": "stderr",
     "output_type": "stream",
     "text": [
      "[Succeeded / Failed / Skipped / Total] 228 / 54 / 11 / 293:  59%|█████▊    | 293/500 [2:18:36<1:37:55, 28.38s/it]"
     ]
    },
    {
     "name": "stdout",
     "output_type": "stream",
     "text": [
      "--------------------------------------------- Result 293 ---------------------------------------------\n",
      "[[1 (100%)]] --> [[2 (56%)]]\n",
      "\n",
      "keberadaan [[peraturan]] presiden [[nomor]] tahun tentang [[strategi]] nasional [[pencegahan]] [[korupsi]] yang telah diteken oleh [[presiden]] joko widodo pada [[juli]] silam diharapkan mampu [[menghasilkan]] [[perubahan]] mendasar [[khusus]] nya [[terkait]] tiga [[aspek]] ketiga [[aspek]] itu menyangkut perizinan dan [[tata]] [[niaga]] keuangan [[negara]] dan [[penegakan]] [[hukum]] serta [[reformasi]] birokrasi \n",
      "\n",
      "keberadaan [[prinsip]] presiden [[angka]] tahun tentang [[rencana]] nasional [[pelarangan]] [[kecurangan]] yang telah diteken oleh [[pemimpin]] joko widodo pada [[Jul]] silam diharapkan mampu [[main-main]] [[pewujudan]] mendasar [[sendiri]] nya [[bertalian]] tiga [[segi]] ketiga [[segi]] itu menyangkut perizinan dan [[meletakkan]] [[industri]] keuangan [[menyatakan]] dan [[pendirian]] [[kepercayaan]] serta [[pembaruan]] birokrasi \n",
      "\n",
      "\n"
     ]
    },
    {
     "name": "stderr",
     "output_type": "stream",
     "text": [
      "[Succeeded / Failed / Skipped / Total] 229 / 54 / 12 / 295:  59%|█████▉    | 295/500 [2:19:25<1:36:53, 28.36s/it]"
     ]
    },
    {
     "name": "stdout",
     "output_type": "stream",
     "text": [
      "--------------------------------------------- Result 294 ---------------------------------------------\n",
      "[[1 (100%)]] --> [[0 (97%)]]\n",
      "\n",
      "beberapa fungsi layanan kami membutuhkan pendaftaran akun dengan memilih identifikasi pengguna id pengguna dan kata sandi unik serta memberikan informasi pribadi tertentu apabila anda memilih id pengguna yang dianggap tidak sopan atau tidak pantas oleh shopee atas [[kebijakan]] nya sendiri shopee berhak untuk [[menangguhkan]] atau mengakhiri akun anda \n",
      "\n",
      "beberapa fungsi layanan kami membutuhkan pendaftaran akun dengan memilih identifikasi pengguna id pengguna dan kata sandi unik serta memberikan informasi pribadi tertentu apabila anda memilih id pengguna yang dianggap tidak sopan atau tidak pantas oleh shopee atas [[kelucuan]] nya sendiri shopee berhak untuk [[membenamkan]] atau mengakhiri akun anda \n",
      "\n",
      "\n",
      "--------------------------------------------- Result 295 ---------------------------------------------\n",
      "[[0 (82%)]] --> [[[SKIPPED]]]\n",
      "\n",
      "sebuah musibah baru saja menimpa kampung adat megalitikum gurusina di bajawa flores kebakaran hebat yang terjadi pada senin sore hampir menghanguskan seluruh kampung total dari rumah adat yang ada habis dilalap api bersama semua cerita dan sejarah nya \n",
      "\n",
      "\n"
     ]
    },
    {
     "name": "stderr",
     "output_type": "stream",
     "text": [
      "[Succeeded / Failed / Skipped / Total] 230 / 54 / 12 / 296:  59%|█████▉    | 296/500 [2:19:39<1:36:15, 28.31s/it]"
     ]
    },
    {
     "name": "stdout",
     "output_type": "stream",
     "text": [
      "--------------------------------------------- Result 296 ---------------------------------------------\n",
      "[[1 (100%)]] --> [[2 (68%)]]\n",
      "\n",
      "di [[usia]] tahun saat nya [[gerakan]] pramuka di tanah air menjawab [[tantangan]] zaman baru [[anggota]] pramuka harus dididik bukan hanya bahasa morse tetapi juga pengetahuan digital seperti coding artificial intelligence advance robotic dan internet of things \n",
      "\n",
      "di [[zaman]] tahun saat nya [[garit]] pramuka di tanah air menjawab [[berani]] zaman baru [[kepak]] pramuka harus dididik bukan hanya bahasa morse tetapi juga pengetahuan digital seperti coding artificial intelligence advance robotic dan internet of things \n",
      "\n",
      "\n"
     ]
    },
    {
     "name": "stderr",
     "output_type": "stream",
     "text": [
      "[Succeeded / Failed / Skipped / Total] 231 / 54 / 12 / 297:  59%|█████▉    | 297/500 [2:20:18<1:35:54, 28.35s/it]"
     ]
    },
    {
     "name": "stdout",
     "output_type": "stream",
     "text": [
      "--------------------------------------------- Result 297 ---------------------------------------------\n",
      "[[1 (100%)]] --> [[2 (53%)]]\n",
      "\n",
      "dalam [[paparan]] nya menkeu smi [[menekankan]] penting nya [[menjaga]] integritas taxmin sebagai penyalur [[utama]] informasi perpajakan agar menyampaikan informasi yang baik dan benar kepada masyarakat melalui [[media]] [[sosial]] yang dimiliki nya \n",
      "\n",
      "dalam [[persembahan]] nya menkeu smi [[membajau]] penting nya [[mengempukkan]] integritas taxmin sebagai penyalur [[terkenal]] informasi perpajakan agar menyampaikan informasi yang baik dan benar kepada masyarakat melalui [[sederhana]] [[pergaulan]] yang dimiliki nya \n",
      "\n",
      "\n"
     ]
    },
    {
     "name": "stderr",
     "output_type": "stream",
     "text": [
      "[Succeeded / Failed / Skipped / Total] 232 / 54 / 12 / 298:  60%|█████▉    | 298/500 [2:20:35<1:35:18, 28.31s/it]"
     ]
    },
    {
     "name": "stdout",
     "output_type": "stream",
     "text": [
      "--------------------------------------------- Result 298 ---------------------------------------------\n",
      "[[1 (100%)]] --> [[0 (74%)]]\n",
      "\n",
      "[[sahabat]] mido untuk kenyamanan pemohon paspor dan [[menghindari]] [[praktik]] percaloan direktorat jenderal imigrasi bekerjasama dengan kementerian keuangan melalui bank bank yang tergabung dalam sistim informasi [[penerimaan]] [[negara]] bukan [[pajak]] online simponi \n",
      "\n",
      "[[abang]] mido untuk kenyamanan pemohon paspor dan [[membungkuk]] [[benar-benar]] percaloan direktorat jenderal imigrasi bekerjasama dengan kementerian keuangan melalui bank bank yang tergabung dalam sistim informasi [[kepercayaan]] [[menyatakan]] bukan [[penyewaan]] online simponi \n",
      "\n",
      "\n"
     ]
    },
    {
     "name": "stderr",
     "output_type": "stream",
     "text": [
      "[Succeeded / Failed / Skipped / Total] 233 / 54 / 12 / 299:  60%|█████▉    | 299/500 [2:20:52<1:34:42, 28.27s/it]"
     ]
    },
    {
     "name": "stdout",
     "output_type": "stream",
     "text": [
      "--------------------------------------------- Result 299 ---------------------------------------------\n",
      "[[1 (100%)]] --> [[0 (57%)]]\n",
      "\n",
      "[[hai]] kak saat ini jam opertional restoran pizza hut belum sampai jam [[ya]] sekadar informasi restoran ph dan phd [[berbeda]] menu dengan konsep nya informasi mengenai phd kk dapat menghubungi atau tanyakan ke akun official nya id kak \n",
      "\n",
      "[[keluhan]] kak saat ini jam opertional restoran pizza hut belum sampai jam [[benar-benar]] sekadar informasi restoran ph dan phd [[berlainan]] menu dengan konsep nya informasi mengenai phd kk dapat menghubungi atau tanyakan ke akun official nya id kak \n",
      "\n",
      "\n"
     ]
    },
    {
     "name": "stderr",
     "output_type": "stream",
     "text": [
      "[Succeeded / Failed / Skipped / Total] 233 / 55 / 12 / 300:  60%|██████    | 300/500 [2:21:32<1:34:21, 28.31s/it]"
     ]
    },
    {
     "name": "stdout",
     "output_type": "stream",
     "text": [
      "--------------------------------------------- Result 300 ---------------------------------------------\n",
      "[[1 (100%)]] --> [[[FAILED]]]\n",
      "\n",
      "juru bicara komisi pemberantasan korupsi kpk febri diansyah mengungkapkan laporan harta kekayaan calon presiden joko widodo telah terverifikasi lengkap kpk dalam waktu dekat akan mengumumkan laporan harta kekayaan jokowi di situs resmi kpk \n",
      "\n",
      "\n"
     ]
    },
    {
     "name": "stderr",
     "output_type": "stream",
     "text": [
      "[Succeeded / Failed / Skipped / Total] 233 / 56 / 12 / 301:  60%|██████    | 301/500 [2:21:38<1:33:38, 28.24s/it]"
     ]
    },
    {
     "name": "stdout",
     "output_type": "stream",
     "text": [
      "--------------------------------------------- Result 301 ---------------------------------------------\n",
      "[[0 (100%)]] --> [[[FAILED]]]\n",
      "\n",
      "dia tidak pantas jadi pemimpin negara ini \n",
      "\n",
      "\n"
     ]
    },
    {
     "name": "stderr",
     "output_type": "stream",
     "text": [
      "[Succeeded / Failed / Skipped / Total] 234 / 56 / 12 / 302:  60%|██████    | 302/500 [2:21:46<1:32:56, 28.17s/it]"
     ]
    },
    {
     "name": "stdout",
     "output_type": "stream",
     "text": [
      "--------------------------------------------- Result 302 ---------------------------------------------\n",
      "[[0 (78%)]] --> [[2 (100%)]]\n",
      "\n",
      "tidak perlu diragukan lagi semua orang memang [[membenci]] dia aku pun sama \n",
      "\n",
      "tidak perlu diragukan lagi semua orang memang [[menemukan]] dia aku pun sama \n",
      "\n",
      "\n"
     ]
    },
    {
     "name": "stderr",
     "output_type": "stream",
     "text": [
      "[Succeeded / Failed / Skipped / Total] 235 / 56 / 12 / 303:  61%|██████    | 303/500 [2:22:02<1:32:21, 28.13s/it]"
     ]
    },
    {
     "name": "stdout",
     "output_type": "stream",
     "text": [
      "--------------------------------------------- Result 303 ---------------------------------------------\n",
      "[[0 (100%)]] --> [[2 (100%)]]\n",
      "\n",
      "selalu tidak [[suka]] sama cara dia ngomong belepotan dan [[sok]] paling mengerti sama masalah di negara ini \n",
      "\n",
      "selalu tidak [[mengecap]] sama cara dia ngomong belepotan dan [[terenyuh]] paling mengerti sama masalah di negara ini \n",
      "\n",
      "\n"
     ]
    },
    {
     "name": "stderr",
     "output_type": "stream",
     "text": [
      "[Succeeded / Failed / Skipped / Total] 236 / 56 / 12 / 304:  61%|██████    | 304/500 [2:22:03<1:31:35, 28.04s/it]"
     ]
    },
    {
     "name": "stdout",
     "output_type": "stream",
     "text": [
      "--------------------------------------------- Result 304 ---------------------------------------------\n",
      "[[0 (100%)]] --> [[2 (100%)]]\n",
      "\n",
      "pelayanan di supermarket itu [[payah]] \n",
      "\n",
      "pelayanan di supermarket itu [[kuat]] \n",
      "\n",
      "\n"
     ]
    },
    {
     "name": "stderr",
     "output_type": "stream",
     "text": [
      "[Succeeded / Failed / Skipped / Total] 237 / 56 / 12 / 305:  61%|██████    | 305/500 [2:22:17<1:30:58, 27.99s/it]"
     ]
    },
    {
     "name": "stdout",
     "output_type": "stream",
     "text": [
      "--------------------------------------------- Result 305 ---------------------------------------------\n",
      "[[0 (100%)]] --> [[2 (100%)]]\n",
      "\n",
      "aku [[kecewa]] dengan pelayanan hotel yang semalam aku tempati kamar [[mandi]] [[kotor]] pelayan tidak [[ramah]] \n",
      "\n",
      "aku [[menjelajahi]] dengan pelayanan hotel yang semalam aku tempati kamar [[memandikan]] [[menyeramkan]] pelayan tidak [[curiah]] \n",
      "\n",
      "\n"
     ]
    },
    {
     "name": "stderr",
     "output_type": "stream",
     "text": [
      "[Succeeded / Failed / Skipped / Total] 238 / 56 / 12 / 306:  61%|██████    | 306/500 [2:22:19<1:30:14, 27.91s/it]"
     ]
    },
    {
     "name": "stdout",
     "output_type": "stream",
     "text": [
      "--------------------------------------------- Result 306 ---------------------------------------------\n",
      "[[0 (100%)]] --> [[2 (100%)]]\n",
      "\n",
      "[[parah]] sih bikin emosi naik ngobrol sama pelayanan pelanggan bank itu [[songong]] setelah \n",
      "\n",
      "[[dahsyat]] sih bikin emosi naik ngobrol sama pelayanan pelanggan bank itu [[rampus]] setelah \n",
      "\n",
      "\n"
     ]
    },
    {
     "name": "stderr",
     "output_type": "stream",
     "text": [
      "[Succeeded / Failed / Skipped / Total] 239 / 56 / 12 / 307:  61%|██████▏   | 307/500 [2:22:42<1:29:42, 27.89s/it]"
     ]
    },
    {
     "name": "stdout",
     "output_type": "stream",
     "text": [
      "--------------------------------------------- Result 307 ---------------------------------------------\n",
      "[[0 (100%)]] --> [[2 (100%)]]\n",
      "\n",
      "dia tidak [[cocok]] pakai baju mahal karena dari sana nya memang sudah kelihatan [[kayak]] orang miskin \n",
      "\n",
      "dia tidak [[jumbuh]] pakai baju mahal karena dari sana nya memang sudah kelihatan [[peduli]] orang miskin \n",
      "\n",
      "\n"
     ]
    },
    {
     "name": "stderr",
     "output_type": "stream",
     "text": [
      "[Succeeded / Failed / Skipped / Total] 240 / 56 / 12 / 308:  62%|██████▏   | 308/500 [2:22:58<1:29:07, 27.85s/it]"
     ]
    },
    {
     "name": "stdout",
     "output_type": "stream",
     "text": [
      "--------------------------------------------- Result 308 ---------------------------------------------\n",
      "[[0 (100%)]] --> [[2 (100%)]]\n",
      "\n",
      "harga makanan di restoran tadi [[mahal]] banget sudah begitu tidak [[enak]] lagi makanan nya \n",
      "\n",
      "harga makanan di restoran tadi [[berharga]] banget sudah begitu tidak [[kelezatan]] lagi makanan nya \n",
      "\n",
      "\n"
     ]
    },
    {
     "name": "stderr",
     "output_type": "stream",
     "text": [
      "[Succeeded / Failed / Skipped / Total] 240 / 57 / 12 / 309:  62%|██████▏   | 309/500 [2:23:01<1:28:24, 27.77s/it]"
     ]
    },
    {
     "name": "stdout",
     "output_type": "stream",
     "text": [
      "--------------------------------------------- Result 309 ---------------------------------------------\n",
      "[[0 (100%)]] --> [[[FAILED]]]\n",
      "\n",
      "nyesel deh beli baju di toko tadi kualitas nya murahan banget \n",
      "\n",
      "\n"
     ]
    },
    {
     "name": "stderr",
     "output_type": "stream",
     "text": [
      "[Succeeded / Failed / Skipped / Total] 241 / 57 / 12 / 310:  62%|██████▏   | 310/500 [2:24:35<1:28:37, 27.99s/it]"
     ]
    },
    {
     "name": "stdout",
     "output_type": "stream",
     "text": [
      "--------------------------------------------- Result 310 ---------------------------------------------\n",
      "[[0 (100%)]] --> [[2 (100%)]]\n",
      "\n",
      "ipuh pantesan tidak pernah didatangkan banyak [[orang]] ternyata tempat [[makan]] di sana dalem nya [[kotor]] banget [[sampah]] saja dibiarkan berserakan \n",
      "\n",
      "ipuh pantesan tidak pernah didatangkan banyak [[unik]] ternyata tempat [[meresapi]] di sana dalem nya [[menyeramkan]] banget [[serasah]] saja dibiarkan berserakan \n",
      "\n",
      "\n"
     ]
    },
    {
     "name": "stderr",
     "output_type": "stream",
     "text": [
      "[Succeeded / Failed / Skipped / Total] 242 / 57 / 12 / 311:  62%|██████▏   | 311/500 [2:25:28<1:28:24, 28.07s/it]"
     ]
    },
    {
     "name": "stdout",
     "output_type": "stream",
     "text": [
      "--------------------------------------------- Result 311 ---------------------------------------------\n",
      "[[0 (100%)]] --> [[2 (100%)]]\n",
      "\n",
      "tidak ada enak nya makan di sana bakso tidak [[enak]] teh manis nya rasanya [[aneh]] mi ayam nya mie nya kelembekan tidak mau lagi deh ke sana \n",
      "\n",
      "tidak ada enak nya makan di sana bakso tidak [[kelezatan]] teh manis nya rasanya [[aduhai]] mi ayam nya mie nya kelembekan tidak mau lagi deh ke sana \n",
      "\n",
      "\n"
     ]
    },
    {
     "name": "stderr",
     "output_type": "stream",
     "text": [
      "[Succeeded / Failed / Skipped / Total] 243 / 57 / 12 / 312:  62%|██████▏   | 312/500 [2:25:37<1:27:44, 28.00s/it]"
     ]
    },
    {
     "name": "stdout",
     "output_type": "stream",
     "text": [
      "--------------------------------------------- Result 312 ---------------------------------------------\n",
      "[[0 (100%)]] --> [[2 (100%)]]\n",
      "\n",
      "[[benci]] banget sama pelayanan di rumah sakit itu tidak ada [[adab]] nya \n",
      "\n",
      "[[memuntahkan]] banget sama pelayanan di rumah sakit itu tidak ada [[ragam]] nya \n",
      "\n",
      "\n"
     ]
    },
    {
     "name": "stderr",
     "output_type": "stream",
     "text": [
      "[Succeeded / Failed / Skipped / Total] 243 / 58 / 12 / 313:  63%|██████▎   | 313/500 [2:26:09<1:27:19, 28.02s/it]"
     ]
    },
    {
     "name": "stdout",
     "output_type": "stream",
     "text": [
      "--------------------------------------------- Result 313 ---------------------------------------------\n",
      "[[0 (100%)]] --> [[[FAILED]]]\n",
      "\n",
      "saya tidak mau bicara lagi sama orang bodoh kayak dia \n",
      "\n",
      "\n"
     ]
    },
    {
     "name": "stderr",
     "output_type": "stream",
     "text": [
      "[Succeeded / Failed / Skipped / Total] 243 / 59 / 12 / 314:  63%|██████▎   | 314/500 [2:26:29<1:26:46, 27.99s/it]"
     ]
    },
    {
     "name": "stdout",
     "output_type": "stream",
     "text": [
      "--------------------------------------------- Result 314 ---------------------------------------------\n",
      "[[0 (100%)]] --> [[[FAILED]]]\n",
      "\n",
      "sampai kapan pun saya tidak sudi berbagi sama orang yang tidak tahu terima kasih biarpun dia keluarga saya sendiri \n",
      "\n",
      "\n"
     ]
    },
    {
     "name": "stderr",
     "output_type": "stream",
     "text": [
      "[Succeeded / Failed / Skipped / Total] 244 / 59 / 12 / 315:  63%|██████▎   | 315/500 [2:26:41<1:26:09, 27.94s/it]"
     ]
    },
    {
     "name": "stdout",
     "output_type": "stream",
     "text": [
      "--------------------------------------------- Result 315 ---------------------------------------------\n",
      "[[0 (100%)]] --> [[2 (99%)]]\n",
      "\n",
      "gue tidak [[puas]] sama pelayanan kerja di tempat kemarin hak hak karyawan dibatesin banget \n",
      "\n",
      "gue tidak [[padam]] sama pelayanan kerja di tempat kemarin hak hak karyawan dibatesin banget \n",
      "\n",
      "\n"
     ]
    },
    {
     "name": "stderr",
     "output_type": "stream",
     "text": [
      "[Succeeded / Failed / Skipped / Total] 245 / 59 / 12 / 316:  63%|██████▎   | 316/500 [2:27:04<1:25:38, 27.92s/it]"
     ]
    },
    {
     "name": "stdout",
     "output_type": "stream",
     "text": [
      "--------------------------------------------- Result 316 ---------------------------------------------\n",
      "[[0 (100%)]] --> [[2 (100%)]]\n",
      "\n",
      "gue sudah [[mengecap]] dia jelek sih jadi mau sebaik apa pun sikap nya gue tetap tidak [[suka]] dia \n",
      "\n",
      "gue sudah [[sayang]] dia jelek sih jadi mau sebaik apa pun sikap nya gue tetap tidak [[sukaria]] dia \n",
      "\n",
      "\n"
     ]
    },
    {
     "name": "stderr",
     "output_type": "stream",
     "text": [
      "[Succeeded / Failed / Skipped / Total] 246 / 59 / 12 / 317:  63%|██████▎   | 317/500 [2:27:11<1:24:58, 27.86s/it]"
     ]
    },
    {
     "name": "stdout",
     "output_type": "stream",
     "text": [
      "--------------------------------------------- Result 317 ---------------------------------------------\n",
      "[[0 (100%)]] --> [[1 (87%)]]\n",
      "\n",
      "setelah diperhatikan [[iklan]] di [[indonesia]] paling tidak [[kreatif]] dibanding [[negara]] lain terutama [[thailand]] \n",
      "\n",
      "setelah diperhatikan [[pemberitahuan]] di [[Hindia-Belanda]] paling tidak [[kreativitas]] dibanding [[bidang]] lain terutama [[Siam]] \n",
      "\n",
      "\n"
     ]
    },
    {
     "name": "stderr",
     "output_type": "stream",
     "text": [
      "[Succeeded / Failed / Skipped / Total] 247 / 59 / 12 / 318:  64%|██████▎   | 318/500 [2:27:19<1:24:19, 27.80s/it]"
     ]
    },
    {
     "name": "stdout",
     "output_type": "stream",
     "text": [
      "--------------------------------------------- Result 318 ---------------------------------------------\n",
      "[[0 (100%)]] --> [[2 (100%)]]\n",
      "\n",
      "tidak [[mengerti]] lagi sama perfilman di [[indonesia]] tidak [[berkualitas]] banget \n",
      "\n",
      "tidak [[mencengkam]] lagi sama perfilman di [[Hindia-Belanda]] tidak [[kaliber]] banget \n",
      "\n",
      "\n"
     ]
    },
    {
     "name": "stderr",
     "output_type": "stream",
     "text": [
      "[Succeeded / Failed / Skipped / Total] 248 / 59 / 12 / 319:  64%|██████▍   | 319/500 [2:28:09<1:24:04, 27.87s/it]"
     ]
    },
    {
     "name": "stdout",
     "output_type": "stream",
     "text": [
      "--------------------------------------------- Result 319 ---------------------------------------------\n",
      "[[0 (100%)]] --> [[2 (69%)]]\n",
      "\n",
      "gue enggak [[suka]] sama pelatih timnas yang sekarang strategi yang dibikin nya tidak bisa dipakai buat [[mengalahkan]] lawan \n",
      "\n",
      "gue enggak [[menyenangi]] sama pelatih timnas yang sekarang strategi yang dibikin nya tidak bisa dipakai buat [[gentar]] lawan \n",
      "\n",
      "\n"
     ]
    },
    {
     "name": "stderr",
     "output_type": "stream",
     "text": [
      "[Succeeded / Failed / Skipped / Total] 249 / 59 / 12 / 320:  64%|██████▍   | 320/500 [2:28:31<1:23:32, 27.85s/it]"
     ]
    },
    {
     "name": "stdout",
     "output_type": "stream",
     "text": [
      "--------------------------------------------- Result 320 ---------------------------------------------\n",
      "[[0 (100%)]] --> [[2 (86%)]]\n",
      "\n",
      "orang orang di indonesia itu memang begitu kerjaan nya nethink terus sama pemimpin tidak [[suka]] gue \n",
      "\n",
      "orang orang di indonesia itu memang begitu kerjaan nya nethink terus sama pemimpin tidak [[sukaria]] gue \n",
      "\n",
      "\n"
     ]
    },
    {
     "name": "stderr",
     "output_type": "stream",
     "text": [
      "[Succeeded / Failed / Skipped / Total] 250 / 59 / 12 / 321:  64%|██████▍   | 322/500 [2:28:40<1:22:11, 27.70s/it]"
     ]
    },
    {
     "name": "stdout",
     "output_type": "stream",
     "text": [
      "--------------------------------------------- Result 321 ---------------------------------------------\n",
      "[[0 (100%)]] --> [[2 (100%)]]\n",
      "\n",
      "kadang [[bingung]] sih kenapa mulut netijen pada tidak bisa dijaga bisa nya behina terus [[aneh]] \n",
      "\n",
      "kadang [[membajau]] sih kenapa mulut netijen pada tidak bisa dijaga bisa nya behina terus [[menakjubkan]] \n",
      "\n",
      "\n",
      "--------------------------------------------- Result 322 ---------------------------------------------\n",
      "[[0 (100%)]] --> [[[FAILED]]]\n",
      "\n",
      "ah persija mah cupu \n",
      "\n",
      "\n"
     ]
    },
    {
     "name": "stderr",
     "output_type": "stream",
     "text": [
      "[Succeeded / Failed / Skipped / Total] 250 / 61 / 12 / 323:  65%|██████▍   | 323/500 [2:29:12<1:21:45, 27.72s/it]"
     ]
    },
    {
     "name": "stdout",
     "output_type": "stream",
     "text": [
      "--------------------------------------------- Result 323 ---------------------------------------------\n",
      "[[0 (100%)]] --> [[[FAILED]]]\n",
      "\n",
      "persija cuma bisa mencari ribut saja kalau lagi main di lapangan main nya tidak jago sama sekali \n",
      "\n",
      "\n"
     ]
    },
    {
     "name": "stderr",
     "output_type": "stream",
     "text": [
      "[Succeeded / Failed / Skipped / Total] 251 / 61 / 12 / 324:  65%|██████▍   | 324/500 [2:29:35<1:21:15, 27.70s/it]"
     ]
    },
    {
     "name": "stdout",
     "output_type": "stream",
     "text": [
      "--------------------------------------------- Result 324 ---------------------------------------------\n",
      "[[0 (100%)]] --> [[2 (99%)]]\n",
      "\n",
      "memang masih zaman [[ya]] ngomong pakai kode kodean tidak [[suka]] banget gue sama orang yang kayak gitu \n",
      "\n",
      "memang masih zaman [[benar-benar]] ngomong pakai kode kodean tidak [[sukaria]] banget gue sama orang yang kayak gitu \n",
      "\n",
      "\n"
     ]
    },
    {
     "name": "stderr",
     "output_type": "stream",
     "text": [
      "[Succeeded / Failed / Skipped / Total] 252 / 61 / 12 / 325:  65%|██████▌   | 325/500 [2:29:51<1:20:41, 27.67s/it]"
     ]
    },
    {
     "name": "stdout",
     "output_type": "stream",
     "text": [
      "--------------------------------------------- Result 325 ---------------------------------------------\n",
      "[[0 (100%)]] --> [[1 (99%)]]\n",
      "\n",
      "harus nya pop ditenggelamkan di [[indonesia]] karena cuma bikin anak [[muda]] [[lupa]] [[agama]] \n",
      "\n",
      "harus nya pop ditenggelamkan di [[Nederlands-Indie]] karena cuma bikin anak [[keterangan]] [[mengempang]] [[keagamaan]] \n",
      "\n",
      "\n"
     ]
    },
    {
     "name": "stderr",
     "output_type": "stream",
     "text": [
      "[Succeeded / Failed / Skipped / Total] 253 / 61 / 12 / 326:  65%|██████▌   | 326/500 [2:30:19<1:20:13, 27.67s/it]"
     ]
    },
    {
     "name": "stdout",
     "output_type": "stream",
     "text": [
      "--------------------------------------------- Result 326 ---------------------------------------------\n",
      "[[0 (100%)]] --> [[2 (100%)]]\n",
      "\n",
      "kagak ada [[faedah]] nya [[kenal]] kpop yang ada [[mata]] kita dibutakan terus bikin kita muja muja [[manusia]] \n",
      "\n",
      "kagak ada [[riba]] nya [[pengalaman]] kpop yang ada [[penunjuk]] kita dibutakan terus bikin kita muja muja [[setaraf]] \n",
      "\n",
      "\n"
     ]
    },
    {
     "name": "stderr",
     "output_type": "stream",
     "text": [
      "[Succeeded / Failed / Skipped / Total] 254 / 61 / 12 / 327:  65%|██████▌   | 327/500 [2:30:28<1:19:36, 27.61s/it]"
     ]
    },
    {
     "name": "stdout",
     "output_type": "stream",
     "text": [
      "--------------------------------------------- Result 327 ---------------------------------------------\n",
      "[[0 (100%)]] --> [[2 (63%)]]\n",
      "\n",
      "entah kenapa gue enggak [[suka]] banget sama politisi yang bisa ngemis ngemis suara rakyat dengan manfaatkan [[harga]] diri ulama \n",
      "\n",
      "entah kenapa gue enggak [[jigrah]] banget sama politisi yang bisa ngemis ngemis suara rakyat dengan manfaatkan [[berharga]] diri ulama \n",
      "\n",
      "\n"
     ]
    },
    {
     "name": "stderr",
     "output_type": "stream",
     "text": [
      "[Succeeded / Failed / Skipped / Total] 255 / 61 / 12 / 328:  66%|██████▌   | 328/500 [2:30:43<1:19:02, 27.57s/it]"
     ]
    },
    {
     "name": "stdout",
     "output_type": "stream",
     "text": [
      "--------------------------------------------- Result 328 ---------------------------------------------\n",
      "[[0 (100%)]] --> [[2 (100%)]]\n",
      "\n",
      "[[menyesal]] gue beli vivo kamera nya tidak [[bagus]] \n",
      "\n",
      "[[insaf]] gue beli vivo kamera nya tidak [[meruyak]] \n",
      "\n",
      "\n"
     ]
    },
    {
     "name": "stderr",
     "output_type": "stream",
     "text": [
      "[Succeeded / Failed / Skipped / Total] 256 / 61 / 12 / 329:  66%|██████▌   | 329/500 [2:30:55<1:18:26, 27.52s/it]"
     ]
    },
    {
     "name": "stdout",
     "output_type": "stream",
     "text": [
      "--------------------------------------------- Result 329 ---------------------------------------------\n",
      "[[0 (100%)]] --> [[1 (100%)]]\n",
      "\n",
      "sudah berkali kali mencoba produk apple tetap tidak [[suka]] \n",
      "\n",
      "sudah berkali kali mencoba produk apple tetap tidak [[persetujuan]] \n",
      "\n",
      "\n"
     ]
    },
    {
     "name": "stderr",
     "output_type": "stream",
     "text": [
      "[Succeeded / Failed / Skipped / Total] 257 / 61 / 12 / 330:  66%|██████▌   | 330/500 [2:30:56<1:17:45, 27.44s/it]"
     ]
    },
    {
     "name": "stdout",
     "output_type": "stream",
     "text": [
      "--------------------------------------------- Result 330 ---------------------------------------------\n",
      "[[0 (100%)]] --> [[2 (100%)]]\n",
      "\n",
      "produk lokal memang [[cetek]] \n",
      "\n",
      "produk lokal memang [[jangkat]] \n",
      "\n",
      "\n"
     ]
    },
    {
     "name": "stderr",
     "output_type": "stream",
     "text": [
      "[Succeeded / Failed / Skipped / Total] 257 / 62 / 12 / 331:  66%|██████▌   | 331/500 [2:30:57<1:17:04, 27.36s/it]"
     ]
    },
    {
     "name": "stdout",
     "output_type": "stream",
     "text": [
      "--------------------------------------------- Result 331 ---------------------------------------------\n",
      "[[0 (100%)]] --> [[[FAILED]]]\n",
      "\n",
      "band di indonesia tidak berkualitas dah \n",
      "\n",
      "\n"
     ]
    },
    {
     "name": "stderr",
     "output_type": "stream",
     "text": [
      "[Succeeded / Failed / Skipped / Total] 257 / 63 / 12 / 332:  66%|██████▋   | 332/500 [2:30:57<1:16:23, 27.28s/it]"
     ]
    },
    {
     "name": "stdout",
     "output_type": "stream",
     "text": [
      "--------------------------------------------- Result 332 ---------------------------------------------\n",
      "[[0 (100%)]] --> [[[FAILED]]]\n",
      "\n",
      "kalau dibandingkan sama jepang indonesia itu tidak ada apa apa nya \n",
      "\n",
      "\n"
     ]
    },
    {
     "name": "stderr",
     "output_type": "stream",
     "text": [
      "[Succeeded / Failed / Skipped / Total] 258 / 63 / 12 / 333:  67%|██████▋   | 333/500 [2:30:59<1:15:43, 27.21s/it]"
     ]
    },
    {
     "name": "stdout",
     "output_type": "stream",
     "text": [
      "--------------------------------------------- Result 333 ---------------------------------------------\n",
      "[[0 (100%)]] --> [[2 (87%)]]\n",
      "\n",
      "netijen mulut nya [[sampah]] semua tidak [[berfaedah]] \n",
      "\n",
      "netijen mulut nya [[ranap]] semua tidak [[berkelebihan]] \n",
      "\n",
      "\n"
     ]
    },
    {
     "name": "stderr",
     "output_type": "stream",
     "text": [
      "[Succeeded / Failed / Skipped / Total] 259 / 63 / 12 / 334:  67%|██████▋   | 334/500 [2:31:26<1:15:16, 27.20s/it]"
     ]
    },
    {
     "name": "stdout",
     "output_type": "stream",
     "text": [
      "--------------------------------------------- Result 334 ---------------------------------------------\n",
      "[[0 (100%)]] --> [[2 (98%)]]\n",
      "\n",
      "menurut gue sih [[indonesia]] bakal [[susah]] [[bangkit]] kalau isi otak [[penduduk]] nya gitu gitu aja \n",
      "\n",
      "menurut gue sih [[Nederlands-Indie]] bakal [[kuat]] [[menggugah]] kalau isi otak [[menetap]] nya gitu gitu aja \n",
      "\n",
      "\n"
     ]
    },
    {
     "name": "stderr",
     "output_type": "stream",
     "text": [
      "[Succeeded / Failed / Skipped / Total] 259 / 64 / 12 / 335:  67%|██████▋   | 335/500 [2:32:48<1:15:15, 27.37s/it]"
     ]
    },
    {
     "name": "stdout",
     "output_type": "stream",
     "text": [
      "--------------------------------------------- Result 335 ---------------------------------------------\n",
      "[[0 (100%)]] --> [[[FAILED]]]\n",
      "\n",
      "percuma ganti presiden kayak makan buah simalakama tidak ada untung nya \n",
      "\n",
      "\n"
     ]
    },
    {
     "name": "stderr",
     "output_type": "stream",
     "text": [
      "[Succeeded / Failed / Skipped / Total] 259 / 65 / 12 / 336:  67%|██████▋   | 336/500 [2:32:58<1:14:39, 27.32s/it]"
     ]
    },
    {
     "name": "stdout",
     "output_type": "stream",
     "text": [
      "--------------------------------------------- Result 336 ---------------------------------------------\n",
      "[[0 (100%)]] --> [[[FAILED]]]\n",
      "\n",
      "kepemimpinan di indonesia mah cuma kayak panggung komedi rakyat nya juga sama saja cuma bisa nontonin saja tidak ada yang baik\n",
      "\n",
      "\n"
     ]
    },
    {
     "name": "stderr",
     "output_type": "stream",
     "text": [
      "[Succeeded / Failed / Skipped / Total] 259 / 66 / 12 / 337:  67%|██████▋   | 337/500 [2:32:58<1:13:59, 27.24s/it]"
     ]
    },
    {
     "name": "stdout",
     "output_type": "stream",
     "text": [
      "--------------------------------------------- Result 337 ---------------------------------------------\n",
      "[[0 (100%)]] --> [[[FAILED]]]\n",
      "\n",
      "sandi uno tidak bertanggung jawab banget deh sama jakarta \n",
      "\n",
      "\n"
     ]
    },
    {
     "name": "stderr",
     "output_type": "stream",
     "text": [
      "[Succeeded / Failed / Skipped / Total] 259 / 67 / 12 / 338:  68%|██████▊   | 338/500 [2:33:03<1:13:21, 27.17s/it]"
     ]
    },
    {
     "name": "stdout",
     "output_type": "stream",
     "text": [
      "--------------------------------------------- Result 338 ---------------------------------------------\n",
      "[[0 (100%)]] --> [[[FAILED]]]\n",
      "\n",
      "sebenarnya yang dicari sama para pejabat di indonesia hanyalah kekuasaan bukan mensejahterakan rakyat payah \n",
      "\n",
      "\n"
     ]
    },
    {
     "name": "stderr",
     "output_type": "stream",
     "text": [
      "[Succeeded / Failed / Skipped / Total] 260 / 67 / 12 / 339:  68%|██████▊   | 339/500 [2:33:14<1:12:46, 27.12s/it]"
     ]
    },
    {
     "name": "stdout",
     "output_type": "stream",
     "text": [
      "--------------------------------------------- Result 339 ---------------------------------------------\n",
      "[[0 (100%)]] --> [[2 (100%)]]\n",
      "\n",
      "sumpah ya gue [[terganggu]] banget sama suara nya komentator bola di indonesia malah bikin esmosi jiwa \n",
      "\n",
      "sumpah ya gue [[tergerak]] banget sama suara nya komentator bola di indonesia malah bikin esmosi jiwa \n",
      "\n",
      "\n"
     ]
    },
    {
     "name": "stderr",
     "output_type": "stream",
     "text": [
      "[Succeeded / Failed / Skipped / Total] 261 / 67 / 12 / 340:  68%|██████▊   | 340/500 [2:33:15<1:12:07, 27.05s/it]"
     ]
    },
    {
     "name": "stdout",
     "output_type": "stream",
     "text": [
      "--------------------------------------------- Result 340 ---------------------------------------------\n",
      "[[0 (100%)]] --> [[2 (100%)]]\n",
      "\n",
      "pemain persib main nya [[jelek]] \n",
      "\n",
      "pemain persib main nya [[dahsyat]] \n",
      "\n",
      "\n"
     ]
    },
    {
     "name": "stderr",
     "output_type": "stream",
     "text": [
      "[Succeeded / Failed / Skipped / Total] 262 / 67 / 12 / 341:  68%|██████▊   | 341/500 [2:33:17<1:11:28, 26.97s/it]"
     ]
    },
    {
     "name": "stdout",
     "output_type": "stream",
     "text": [
      "--------------------------------------------- Result 341 ---------------------------------------------\n",
      "[[0 (100%)]] --> [[1 (100%)]]\n",
      "\n",
      "[[artis]] cowok pop [[banci]] semua \n",
      "\n",
      "[[seniman]] cowok pop [[hermafrodit]] semua \n",
      "\n",
      "\n"
     ]
    },
    {
     "name": "stderr",
     "output_type": "stream",
     "text": [
      "[Succeeded / Failed / Skipped / Total] 263 / 67 / 12 / 342:  68%|██████▊   | 342/500 [2:33:25<1:10:52, 26.92s/it]"
     ]
    },
    {
     "name": "stdout",
     "output_type": "stream",
     "text": [
      "--------------------------------------------- Result 342 ---------------------------------------------\n",
      "[[0 (100%)]] --> [[2 (100%)]]\n",
      "\n",
      "harga baju di ramayana tidak [[sebanding]] sama kualitas baju nya \n",
      "\n",
      "harga baju di ramayana tidak [[menggoleng]] sama kualitas baju nya \n",
      "\n",
      "\n"
     ]
    },
    {
     "name": "stderr",
     "output_type": "stream",
     "text": [
      "[Succeeded / Failed / Skipped / Total] 264 / 67 / 12 / 343:  69%|██████▊   | 343/500 [2:33:32<1:10:16, 26.86s/it]"
     ]
    },
    {
     "name": "stdout",
     "output_type": "stream",
     "text": [
      "--------------------------------------------- Result 343 ---------------------------------------------\n",
      "[[0 (100%)]] --> [[1 (100%)]]\n",
      "\n",
      "[[model]] baju yang ada di matahari tidak sebagus model baju di ramayana \n",
      "\n",
      "[[peringatan]] baju yang ada di matahari tidak sebagus model baju di ramayana \n",
      "\n",
      "\n"
     ]
    },
    {
     "name": "stderr",
     "output_type": "stream",
     "text": [
      "[Succeeded / Failed / Skipped / Total] 264 / 68 / 12 / 344:  69%|██████▉   | 344/500 [2:33:45<1:09:43, 26.82s/it]"
     ]
    },
    {
     "name": "stdout",
     "output_type": "stream",
     "text": [
      "--------------------------------------------- Result 344 ---------------------------------------------\n",
      "[[0 (100%)]] --> [[[FAILED]]]\n",
      "\n",
      "sudah harga mahal tidak enak pula makanan nya tidak mau lagi deh ke restoran itu \n",
      "\n",
      "\n"
     ]
    },
    {
     "name": "stderr",
     "output_type": "stream",
     "text": [
      "[Succeeded / Failed / Skipped / Total] 264 / 69 / 12 / 345:  69%|██████▉   | 345/500 [2:33:54<1:09:09, 26.77s/it]"
     ]
    },
    {
     "name": "stdout",
     "output_type": "stream",
     "text": [
      "--------------------------------------------- Result 345 ---------------------------------------------\n",
      "[[0 (100%)]] --> [[[FAILED]]]\n",
      "\n",
      "anak muda zaman sekarang cuma mikirin tenar enggak mikir buat masa depan \n",
      "\n",
      "\n"
     ]
    },
    {
     "name": "stderr",
     "output_type": "stream",
     "text": [
      "[Succeeded / Failed / Skipped / Total] 264 / 70 / 12 / 346:  69%|██████▉   | 346/500 [2:34:25<1:08:43, 26.78s/it]"
     ]
    },
    {
     "name": "stdout",
     "output_type": "stream",
     "text": [
      "--------------------------------------------- Result 346 ---------------------------------------------\n",
      "[[0 (100%)]] --> [[[FAILED]]]\n",
      "\n",
      "bodoh banget itu bocah tidak punya otak mengajak jokowi berantem \n",
      "\n",
      "\n"
     ]
    },
    {
     "name": "stderr",
     "output_type": "stream",
     "text": [
      "[Succeeded / Failed / Skipped / Total] 265 / 70 / 12 / 347:  69%|██████▉   | 347/500 [2:34:26<1:08:05, 26.70s/it]"
     ]
    },
    {
     "name": "stdout",
     "output_type": "stream",
     "text": [
      "--------------------------------------------- Result 347 ---------------------------------------------\n",
      "[[0 (100%)]] --> [[2 (100%)]]\n",
      "\n",
      "sinyal xl [[jelek]] banget di sini \n",
      "\n",
      "sinyal xl [[dahsyat]] banget di sini \n",
      "\n",
      "\n"
     ]
    },
    {
     "name": "stderr",
     "output_type": "stream",
     "text": [
      "[Succeeded / Failed / Skipped / Total] 266 / 70 / 12 / 348:  70%|██████▉   | 348/500 [2:34:34<1:07:30, 26.65s/it]"
     ]
    },
    {
     "name": "stdout",
     "output_type": "stream",
     "text": [
      "--------------------------------------------- Result 348 ---------------------------------------------\n",
      "[[0 (100%)]] --> [[2 (88%)]]\n",
      "\n",
      "indosat [[bagus]] iklan nya doang tapi kualitas nya nol \n",
      "\n",
      "indosat [[menakjubkan]] iklan nya doang tapi kualitas nya nol \n",
      "\n",
      "\n"
     ]
    },
    {
     "name": "stderr",
     "output_type": "stream",
     "text": [
      "[Succeeded / Failed / Skipped / Total] 266 / 71 / 12 / 349:  70%|██████▉   | 349/500 [2:35:01<1:07:04, 26.65s/it]"
     ]
    },
    {
     "name": "stdout",
     "output_type": "stream",
     "text": [
      "--------------------------------------------- Result 349 ---------------------------------------------\n",
      "[[0 (100%)]] --> [[[FAILED]]]\n",
      "\n",
      "sumpah ya kesel banget melihat orang yang sok tahu kayak anies \n",
      "\n",
      "\n"
     ]
    },
    {
     "name": "stderr",
     "output_type": "stream",
     "text": [
      "[Succeeded / Failed / Skipped / Total] 267 / 71 / 12 / 350:  70%|███████   | 350/500 [2:35:03<1:06:27, 26.58s/it]"
     ]
    },
    {
     "name": "stdout",
     "output_type": "stream",
     "text": [
      "--------------------------------------------- Result 350 ---------------------------------------------\n",
      "[[0 (100%)]] --> [[2 (100%)]]\n",
      "\n",
      "barang barang di informa biasa saja tapi harga [[mahal]] banget \n",
      "\n",
      "barang barang di informa biasa saja tapi harga [[berharga]] banget \n",
      "\n",
      "\n"
     ]
    },
    {
     "name": "stderr",
     "output_type": "stream",
     "text": [
      "[Succeeded / Failed / Skipped / Total] 268 / 71 / 12 / 351:  70%|███████   | 351/500 [2:35:05<1:05:50, 26.51s/it]"
     ]
    },
    {
     "name": "stdout",
     "output_type": "stream",
     "text": [
      "--------------------------------------------- Result 351 ---------------------------------------------\n",
      "[[0 (100%)]] --> [[1 (100%)]]\n",
      "\n",
      "handphone samsung [[jelek]] [[gampang]] rusak \n",
      "\n",
      "handphone samsung [[selekeh]] [[ampang]] rusak \n",
      "\n",
      "\n"
     ]
    },
    {
     "name": "stderr",
     "output_type": "stream",
     "text": [
      "[Succeeded / Failed / Skipped / Total] 268 / 72 / 12 / 352:  70%|███████   | 352/500 [2:35:12<1:05:15, 26.46s/it]"
     ]
    },
    {
     "name": "stdout",
     "output_type": "stream",
     "text": [
      "--------------------------------------------- Result 352 ---------------------------------------------\n",
      "[[0 (100%)]] --> [[[FAILED]]]\n",
      "\n",
      "hai prabowo daripada malu mending tidak usah naik jadi presiden tahun ini \n",
      "\n",
      "\n"
     ]
    },
    {
     "name": "stderr",
     "output_type": "stream",
     "text": [
      "[Succeeded / Failed / Skipped / Total] 268 / 73 / 12 / 353:  71%|███████   | 353/500 [2:35:13<1:04:38, 26.38s/it]"
     ]
    },
    {
     "name": "stdout",
     "output_type": "stream",
     "text": [
      "--------------------------------------------- Result 353 ---------------------------------------------\n",
      "[[0 (100%)]] --> [[[FAILED]]]\n",
      "\n",
      "pengecut dia itu cuma bisa nantangin dari belakang saja \n",
      "\n",
      "\n"
     ]
    },
    {
     "name": "stderr",
     "output_type": "stream",
     "text": [
      "[Succeeded / Failed / Skipped / Total] 269 / 73 / 12 / 354:  71%|███████   | 354/500 [2:35:20<1:04:03, 26.33s/it]"
     ]
    },
    {
     "name": "stdout",
     "output_type": "stream",
     "text": [
      "--------------------------------------------- Result 354 ---------------------------------------------\n",
      "[[0 (100%)]] --> [[2 (100%)]]\n",
      "\n",
      "aku tidak [[suka]] sama cowok yang bisa dance tidak maco \n",
      "\n",
      "aku tidak [[sukaria]] sama cowok yang bisa dance tidak maco \n",
      "\n",
      "\n"
     ]
    },
    {
     "name": "stderr",
     "output_type": "stream",
     "text": [
      "[Succeeded / Failed / Skipped / Total] 270 / 73 / 12 / 355:  71%|███████   | 355/500 [2:35:38<1:03:34, 26.31s/it]"
     ]
    },
    {
     "name": "stdout",
     "output_type": "stream",
     "text": [
      "--------------------------------------------- Result 355 ---------------------------------------------\n",
      "[[0 (100%)]] --> [[2 (56%)]]\n",
      "\n",
      "sebenarnya gue [[benci]] banget sih sama orang yang kalau lagi diajak ngobrol dia tidak mau [[lihat]] muka kita tidak sopan \n",
      "\n",
      "sebenarnya gue [[memuakkan]] banget sih sama orang yang kalau lagi diajak ngobrol dia tidak mau [[memandang]] muka kita tidak sopan \n",
      "\n",
      "\n"
     ]
    },
    {
     "name": "stderr",
     "output_type": "stream",
     "text": [
      "[Succeeded / Failed / Skipped / Total] 271 / 73 / 12 / 356:  71%|███████   | 356/500 [2:35:49<1:03:01, 26.26s/it]"
     ]
    },
    {
     "name": "stdout",
     "output_type": "stream",
     "text": [
      "--------------------------------------------- Result 356 ---------------------------------------------\n",
      "[[0 (100%)]] --> [[1 (100%)]]\n",
      "\n",
      "di antara mata kuliah yang ada gue paling tidak [[suka]] sama statistika \n",
      "\n",
      "di antara mata kuliah yang ada gue paling tidak [[persetujuan]] sama statistika \n",
      "\n",
      "\n"
     ]
    },
    {
     "name": "stderr",
     "output_type": "stream",
     "text": [
      "[Succeeded / Failed / Skipped / Total] 272 / 73 / 12 / 357:  71%|███████▏  | 357/500 [2:36:06<1:02:31, 26.24s/it]"
     ]
    },
    {
     "name": "stdout",
     "output_type": "stream",
     "text": [
      "--------------------------------------------- Result 357 ---------------------------------------------\n",
      "[[0 (100%)]] --> [[2 (100%)]]\n",
      "\n",
      "[[orang]] yang [[pakai]] kacamata itu terlihat cupu \n",
      "\n",
      "[[memisalkan]] yang [[mengira]] kacamata itu terlihat cupu \n",
      "\n",
      "\n"
     ]
    },
    {
     "name": "stderr",
     "output_type": "stream",
     "text": [
      "[Succeeded / Failed / Skipped / Total] 273 / 73 / 12 / 358:  72%|███████▏  | 358/500 [2:36:18<1:02:00, 26.20s/it]"
     ]
    },
    {
     "name": "stdout",
     "output_type": "stream",
     "text": [
      "--------------------------------------------- Result 358 ---------------------------------------------\n",
      "[[0 (100%)]] --> [[2 (92%)]]\n",
      "\n",
      "apa bagus nya ya itu acara l men [[jijik]] gue sih liat nya \n",
      "\n",
      "apa bagus nya ya itu acara l men [[bersempuras]] gue sih liat nya \n",
      "\n",
      "\n"
     ]
    },
    {
     "name": "stderr",
     "output_type": "stream",
     "text": [
      "[Succeeded / Failed / Skipped / Total] 274 / 73 / 12 / 359:  72%|███████▏  | 359/500 [2:36:26<1:01:26, 26.15s/it]"
     ]
    },
    {
     "name": "stdout",
     "output_type": "stream",
     "text": [
      "--------------------------------------------- Result 359 ---------------------------------------------\n",
      "[[0 (100%)]] --> [[2 (96%)]]\n",
      "\n",
      "sinetron di [[indonesia]] mana ada yang [[bagus]] \n",
      "\n",
      "sinetron di [[Ned-Indie]] mana ada yang [[menakjubkan]] \n",
      "\n",
      "\n"
     ]
    },
    {
     "name": "stderr",
     "output_type": "stream",
     "text": [
      "[Succeeded / Failed / Skipped / Total] 275 / 73 / 12 / 360:  72%|███████▏  | 360/500 [2:36:35<1:00:53, 26.10s/it]"
     ]
    },
    {
     "name": "stdout",
     "output_type": "stream",
     "text": [
      "--------------------------------------------- Result 360 ---------------------------------------------\n",
      "[[0 (100%)]] --> [[2 (79%)]]\n",
      "\n",
      "odol pepsodent menurut gue terlalu [[pedas]] gue enggak [[suka]] \n",
      "\n",
      "odol pepsodent menurut gue terlalu [[asid]] gue enggak [[sukaria]] \n",
      "\n",
      "\n"
     ]
    },
    {
     "name": "stderr",
     "output_type": "stream",
     "text": [
      "[Succeeded / Failed / Skipped / Total] 276 / 73 / 12 / 361:  72%|███████▏  | 362/500 [2:36:43<59:44, 25.98s/it]  "
     ]
    },
    {
     "name": "stdout",
     "output_type": "stream",
     "text": [
      "--------------------------------------------- Result 361 ---------------------------------------------\n",
      "[[0 (100%)]] --> [[2 (100%)]]\n",
      "\n",
      "gue enggak [[suka]] anggun jadi duta shampoo \n",
      "\n",
      "gue enggak [[girang]] anggun jadi duta shampoo \n",
      "\n",
      "\n"
     ]
    },
    {
     "name": "stderr",
     "output_type": "stream",
     "text": [
      "[Succeeded / Failed / Skipped / Total] 276 / 74 / 12 / 362:  72%|███████▏  | 362/500 [2:36:43<59:44, 25.98s/it]"
     ]
    },
    {
     "name": "stdout",
     "output_type": "stream",
     "text": [
      "--------------------------------------------- Result 362 ---------------------------------------------\n",
      "[[0 (100%)]] --> [[[FAILED]]]\n",
      "\n",
      "kesian sheila on tenggelem sekarang \n",
      "\n",
      "\n"
     ]
    },
    {
     "name": "stderr",
     "output_type": "stream",
     "text": [
      "[Succeeded / Failed / Skipped / Total] 276 / 75 / 12 / 363:  73%|███████▎  | 363/500 [2:36:45<59:09, 25.91s/it]"
     ]
    },
    {
     "name": "stdout",
     "output_type": "stream",
     "text": [
      "--------------------------------------------- Result 363 ---------------------------------------------\n",
      "[[0 (100%)]] --> [[[FAILED]]]\n",
      "\n",
      "andhika kangen band apa kabar ya sepertinya makin miskin saja sekarang \n",
      "\n",
      "\n"
     ]
    },
    {
     "name": "stderr",
     "output_type": "stream",
     "text": [
      "[Succeeded / Failed / Skipped / Total] 277 / 75 / 12 / 364:  73%|███████▎  | 364/500 [2:36:46<58:34, 25.84s/it]"
     ]
    },
    {
     "name": "stdout",
     "output_type": "stream",
     "text": [
      "--------------------------------------------- Result 364 ---------------------------------------------\n",
      "[[0 (100%)]] --> [[2 (100%)]]\n",
      "\n",
      "semua program yang ada ya kuya nya tidak pernah [[berfaedah]] \n",
      "\n",
      "semua program yang ada ya kuya nya tidak pernah [[berkelebihan]] \n",
      "\n",
      "\n"
     ]
    },
    {
     "name": "stderr",
     "output_type": "stream",
     "text": [
      "[Succeeded / Failed / Skipped / Total] 278 / 75 / 12 / 365:  73%|███████▎  | 366/500 [2:37:06<57:31, 25.76s/it]"
     ]
    },
    {
     "name": "stdout",
     "output_type": "stream",
     "text": [
      "--------------------------------------------- Result 365 ---------------------------------------------\n",
      "[[0 (100%)]] --> [[2 (59%)]]\n",
      "\n",
      "harus nya [[orang]] [[indonesia]] itu banyak [[cari]] [[ilmu]] bukan malah banyak [[cari]] masalah \n",
      "\n",
      "harus nya [[unik]] [[Ned-Indie]] itu banyak [[menggeledah]] [[kesarjanaan]] bukan malah banyak [[menelaah]] masalah \n",
      "\n",
      "\n"
     ]
    },
    {
     "name": "stderr",
     "output_type": "stream",
     "text": [
      "[Succeeded / Failed / Skipped / Total] 278 / 76 / 12 / 366:  73%|███████▎  | 366/500 [2:37:06<57:31, 25.76s/it]"
     ]
    },
    {
     "name": "stdout",
     "output_type": "stream",
     "text": [
      "--------------------------------------------- Result 366 ---------------------------------------------\n",
      "[[0 (100%)]] --> [[[FAILED]]]\n",
      "\n",
      "its tidak ada apa apa nya kalau dibandingkan itb \n",
      "\n",
      "\n"
     ]
    },
    {
     "name": "stderr",
     "output_type": "stream",
     "text": [
      "[Succeeded / Failed / Skipped / Total] 278 / 77 / 12 / 367:  73%|███████▎  | 367/500 [2:37:35<57:06, 25.76s/it]"
     ]
    },
    {
     "name": "stdout",
     "output_type": "stream",
     "text": [
      "--------------------------------------------- Result 367 ---------------------------------------------\n",
      "[[0 (100%)]] --> [[[FAILED]]]\n",
      "\n",
      "sekarang makin banyak orang yang nga ku islami tapi akhlak kagak dijaga selalu merasa jadi orang paling benar \n",
      "\n",
      "\n"
     ]
    },
    {
     "name": "stderr",
     "output_type": "stream",
     "text": [
      "[Succeeded / Failed / Skipped / Total] 279 / 77 / 12 / 368:  74%|███████▎  | 368/500 [2:38:09<56:43, 25.79s/it]"
     ]
    },
    {
     "name": "stdout",
     "output_type": "stream",
     "text": [
      "--------------------------------------------- Result 368 ---------------------------------------------\n",
      "[[0 (100%)]] --> [[2 (99%)]]\n",
      "\n",
      "gue enggak [[suka]] itu sama orang orang yang pakai alasan agama buat menang di dunia politik \n",
      "\n",
      "gue enggak [[berkehendak]] itu sama orang orang yang pakai alasan agama buat menang di dunia politik \n",
      "\n",
      "\n"
     ]
    },
    {
     "name": "stderr",
     "output_type": "stream",
     "text": [
      "[Succeeded / Failed / Skipped / Total] 279 / 78 / 12 / 369:  74%|███████▍  | 369/500 [2:38:16<56:11, 25.74s/it]"
     ]
    },
    {
     "name": "stdout",
     "output_type": "stream",
     "text": [
      "--------------------------------------------- Result 369 ---------------------------------------------\n",
      "[[0 (100%)]] --> [[[FAILED]]]\n",
      "\n",
      "kesal dah sama habib rizieq malu maluin saja bisa nya \n",
      "\n",
      "\n"
     ]
    },
    {
     "name": "stderr",
     "output_type": "stream",
     "text": [
      "[Succeeded / Failed / Skipped / Total] 280 / 78 / 12 / 370:  74%|███████▍  | 370/500 [2:38:30<55:41, 25.70s/it]"
     ]
    },
    {
     "name": "stdout",
     "output_type": "stream",
     "text": [
      "--------------------------------------------- Result 370 ---------------------------------------------\n",
      "[[0 (100%)]] --> [[2 (100%)]]\n",
      "\n",
      "tidak [[suka]] sama laptop merek acer cepat rusak kakak \n",
      "\n",
      "tidak [[sukaria]] sama laptop merek acer cepat rusak kakak \n",
      "\n",
      "\n"
     ]
    },
    {
     "name": "stderr",
     "output_type": "stream",
     "text": [
      "[Succeeded / Failed / Skipped / Total] 281 / 78 / 12 / 371:  74%|███████▍  | 371/500 [2:38:53<55:14, 25.70s/it]"
     ]
    },
    {
     "name": "stdout",
     "output_type": "stream",
     "text": [
      "--------------------------------------------- Result 371 ---------------------------------------------\n",
      "[[0 (100%)]] --> [[2 (99%)]]\n",
      "\n",
      "harga telepon genggam vivo y kemahalan padahal telepon genggam nya tidak [[bagus]] bagus amat \n",
      "\n",
      "harga telepon genggam vivo y kemahalan padahal telepon genggam nya tidak [[menakjubkan]] bagus amat \n",
      "\n",
      "\n"
     ]
    },
    {
     "name": "stderr",
     "output_type": "stream",
     "text": [
      "[Succeeded / Failed / Skipped / Total] 282 / 78 / 12 / 372:  74%|███████▍  | 372/500 [2:38:59<54:42, 25.65s/it]"
     ]
    },
    {
     "name": "stdout",
     "output_type": "stream",
     "text": [
      "--------------------------------------------- Result 372 ---------------------------------------------\n",
      "[[0 (100%)]] --> [[2 (80%)]]\n",
      "\n",
      "tidak pernah [[suka]] sama handphone zenfone alay \n",
      "\n",
      "tidak pernah [[membenarkan]] sama handphone zenfone alay \n",
      "\n",
      "\n"
     ]
    },
    {
     "name": "stderr",
     "output_type": "stream",
     "text": [
      "[Succeeded / Failed / Skipped / Total] 283 / 78 / 12 / 373:  75%|███████▍  | 373/500 [2:39:01<54:08, 25.58s/it]"
     ]
    },
    {
     "name": "stdout",
     "output_type": "stream",
     "text": [
      "--------------------------------------------- Result 373 ---------------------------------------------\n",
      "[[0 (100%)]] --> [[2 (100%)]]\n",
      "\n",
      "kamera zenfone selalu [[jelek]] kalau dipakai di tempat remang remang tidak [[profesional]] \n",
      "\n",
      "kamera zenfone selalu [[bangpak]] kalau dipakai di tempat remang remang tidak [[karyawan]] \n",
      "\n",
      "\n"
     ]
    },
    {
     "name": "stderr",
     "output_type": "stream",
     "text": [
      "[Succeeded / Failed / Skipped / Total] 284 / 78 / 12 / 374:  75%|███████▍  | 374/500 [2:39:08<53:36, 25.53s/it]"
     ]
    },
    {
     "name": "stdout",
     "output_type": "stream",
     "text": [
      "--------------------------------------------- Result 374 ---------------------------------------------\n",
      "[[0 (100%)]] --> [[1 (100%)]]\n",
      "\n",
      "di antara olah raga yang ada gue paling tidak [[suka]] sepak bola \n",
      "\n",
      "di antara olah raga yang ada gue paling tidak [[persetujuan]] sepak bola \n",
      "\n",
      "\n"
     ]
    },
    {
     "name": "stderr",
     "output_type": "stream",
     "text": [
      "[Succeeded / Failed / Skipped / Total] 285 / 78 / 12 / 375:  75%|███████▌  | 375/500 [2:39:46<53:15, 25.56s/it]"
     ]
    },
    {
     "name": "stdout",
     "output_type": "stream",
     "text": [
      "--------------------------------------------- Result 375 ---------------------------------------------\n",
      "[[0 (100%)]] --> [[2 (89%)]]\n",
      "\n",
      "dulu pernah mencoba belajar renang tapi [[tenggelam]] terus sekarang tidak mau lagi deh gue [[renang]] [[trauma]] seram \n",
      "\n",
      "dulu pernah mencoba belajar renang tapi [[menenangkan]] terus sekarang tidak mau lagi deh gue [[menggayun]] [[dahsyat]] seram \n",
      "\n",
      "\n"
     ]
    },
    {
     "name": "stderr",
     "output_type": "stream",
     "text": [
      "[Succeeded / Failed / Skipped / Total] 286 / 78 / 12 / 376:  75%|███████▌  | 376/500 [2:40:26<52:54, 25.60s/it]"
     ]
    },
    {
     "name": "stdout",
     "output_type": "stream",
     "text": [
      "--------------------------------------------- Result 376 ---------------------------------------------\n",
      "[[2 (100%)]] --> [[0 (100%)]]\n",
      "\n",
      "sebenarnya kelebihan makan di upnormal itu karena disediakan banyak mainan nongkrong jadi lebih [[seru]] \n",
      "\n",
      "sebenarnya kelebihan makan di upnormal itu karena disediakan banyak mainan nongkrong jadi lebih [[pedih]] \n",
      "\n",
      "\n"
     ]
    },
    {
     "name": "stderr",
     "output_type": "stream",
     "text": [
      "[Succeeded / Failed / Skipped / Total] 287 / 78 / 12 / 377:  75%|███████▌  | 377/500 [2:40:34<52:23, 25.55s/it]"
     ]
    },
    {
     "name": "stdout",
     "output_type": "stream",
     "text": [
      "--------------------------------------------- Result 377 ---------------------------------------------\n",
      "[[2 (100%)]] --> [[0 (100%)]]\n",
      "\n",
      "gue paling [[suka]] sama indomie cabe hijau terbaik \n",
      "\n",
      "gue paling [[membenarkan]] sama indomie cabe hijau terbaik \n",
      "\n",
      "\n"
     ]
    },
    {
     "name": "stderr",
     "output_type": "stream",
     "text": [
      "[Succeeded / Failed / Skipped / Total] 288 / 78 / 12 / 378:  76%|███████▌  | 378/500 [2:40:42<51:52, 25.51s/it]"
     ]
    },
    {
     "name": "stdout",
     "output_type": "stream",
     "text": [
      "--------------------------------------------- Result 378 ---------------------------------------------\n",
      "[[2 (100%)]] --> [[0 (100%)]]\n",
      "\n",
      "kalau suruh milih gue lebih [[suka]] belanja di shopee pelayanan nya nomor \n",
      "\n",
      "kalau suruh milih gue lebih [[membenarkan]] belanja di shopee pelayanan nya nomor \n",
      "\n",
      "\n"
     ]
    },
    {
     "name": "stderr",
     "output_type": "stream",
     "text": [
      "[Succeeded / Failed / Skipped / Total] 289 / 78 / 12 / 379:  76%|███████▌  | 379/500 [2:40:50<51:21, 25.46s/it]"
     ]
    },
    {
     "name": "stdout",
     "output_type": "stream",
     "text": [
      "--------------------------------------------- Result 379 ---------------------------------------------\n",
      "[[2 (100%)]] --> [[0 (100%)]]\n",
      "\n",
      "kalau mau kirim barang ke luar negeri menurut gue dil sudah paling [[enak]] \n",
      "\n",
      "kalau mau kirim barang ke luar negeri menurut gue dil sudah paling [[molek]] \n",
      "\n",
      "\n"
     ]
    },
    {
     "name": "stderr",
     "output_type": "stream",
     "text": [
      "[Succeeded / Failed / Skipped / Total] 289 / 79 / 12 / 380:  76%|███████▌  | 380/500 [2:40:51<50:47, 25.40s/it]"
     ]
    },
    {
     "name": "stdout",
     "output_type": "stream",
     "text": [
      "--------------------------------------------- Result 380 ---------------------------------------------\n",
      "[[2 (100%)]] --> [[[FAILED]]]\n",
      "\n",
      "gue bersyukur jokowi bakal jadi presiden selama sepuluh tahun \n",
      "\n",
      "\n"
     ]
    },
    {
     "name": "stderr",
     "output_type": "stream",
     "text": [
      "[Succeeded / Failed / Skipped / Total] 290 / 79 / 12 / 381:  76%|███████▌  | 381/500 [2:41:06<50:19, 25.37s/it]"
     ]
    },
    {
     "name": "stdout",
     "output_type": "stream",
     "text": [
      "--------------------------------------------- Result 381 ---------------------------------------------\n",
      "[[2 (100%)]] --> [[0 (100%)]]\n",
      "\n",
      "[[senang]] banget liat sandi maju cawapres untuk yakin gue bakal milih dia \n",
      "\n",
      "[[enteng]] banget liat sandi maju cawapres untuk yakin gue bakal milih dia \n",
      "\n",
      "\n"
     ]
    },
    {
     "name": "stderr",
     "output_type": "stream",
     "text": [
      "[Succeeded / Failed / Skipped / Total] 291 / 79 / 12 / 382:  76%|███████▋  | 382/500 [2:41:11<49:47, 25.32s/it]"
     ]
    },
    {
     "name": "stdout",
     "output_type": "stream",
     "text": [
      "--------------------------------------------- Result 382 ---------------------------------------------\n",
      "[[2 (100%)]] --> [[0 (100%)]]\n",
      "\n",
      "kalau mau karaoke enak lu datang saja ke studio karaoke [[harga]] nya juga terjangkau [[banget]] \n",
      "\n",
      "kalau mau karaoke enak lu datang saja ke studio karaoke [[pengorbanan]] nya juga terjangkau [[amat]] \n",
      "\n",
      "\n"
     ]
    },
    {
     "name": "stderr",
     "output_type": "stream",
     "text": [
      "[Succeeded / Failed / Skipped / Total] 292 / 79 / 12 / 383:  77%|███████▋  | 383/500 [2:41:20<49:17, 25.28s/it]"
     ]
    },
    {
     "name": "stdout",
     "output_type": "stream",
     "text": [
      "--------------------------------------------- Result 383 ---------------------------------------------\n",
      "[[2 (100%)]] --> [[0 (100%)]]\n",
      "\n",
      "xiamo sudah paling [[enak]] sih kualitas nya [[mantap]] harga nya juga kejangkau \n",
      "\n",
      "xiamo sudah paling [[berair]] sih kualitas nya [[kaku]] harga nya juga kejangkau \n",
      "\n",
      "\n"
     ]
    },
    {
     "name": "stderr",
     "output_type": "stream",
     "text": [
      "[Succeeded / Failed / Skipped / Total] 293 / 79 / 12 / 384:  77%|███████▋  | 384/500 [2:41:21<48:44, 25.21s/it]"
     ]
    },
    {
     "name": "stdout",
     "output_type": "stream",
     "text": [
      "--------------------------------------------- Result 384 ---------------------------------------------\n",
      "[[2 (100%)]] --> [[1 (92%)]]\n",
      "\n",
      "banyak [[nilai]] [[positif]] yang bisa diambil dari jokowi \n",
      "\n",
      "banyak [[angka]] [[keruan]] yang bisa diambil dari jokowi \n",
      "\n",
      "\n"
     ]
    },
    {
     "name": "stderr",
     "output_type": "stream",
     "text": [
      "[Succeeded / Failed / Skipped / Total] 294 / 79 / 12 / 385:  77%|███████▋  | 385/500 [2:41:31<48:14, 25.17s/it]"
     ]
    },
    {
     "name": "stdout",
     "output_type": "stream",
     "text": [
      "--------------------------------------------- Result 385 ---------------------------------------------\n",
      "[[2 (100%)]] --> [[0 (99%)]]\n",
      "\n",
      "gue [[suka]] banget matematika dari dulu karena [[mengasah]] otak jadi [[cerdas]] \n",
      "\n",
      "gue [[harap]] banget matematika dari dulu karena [[tirus]] otak jadi [[waspada]] \n",
      "\n",
      "\n"
     ]
    },
    {
     "name": "stderr",
     "output_type": "stream",
     "text": [
      "[Succeeded / Failed / Skipped / Total] 295 / 79 / 12 / 386:  77%|███████▋  | 386/500 [2:41:59<47:50, 25.18s/it]"
     ]
    },
    {
     "name": "stdout",
     "output_type": "stream",
     "text": [
      "--------------------------------------------- Result 386 ---------------------------------------------\n",
      "[[2 (100%)]] --> [[0 (96%)]]\n",
      "\n",
      "jam [[tangan]] switch selalu kasih model yang terkini pilihan warna nya juga [[bagus]] [[bagus]] \n",
      "\n",
      "jam [[kemampuan]] switch selalu kasih model yang terkini pilihan warna nya juga [[sangat]] [[molek]] \n",
      "\n",
      "\n"
     ]
    },
    {
     "name": "stderr",
     "output_type": "stream",
     "text": [
      "[Succeeded / Failed / Skipped / Total] 296 / 79 / 12 / 387:  77%|███████▋  | 387/500 [2:42:27<47:26, 25.19s/it]"
     ]
    },
    {
     "name": "stdout",
     "output_type": "stream",
     "text": [
      "--------------------------------------------- Result 387 ---------------------------------------------\n",
      "[[2 (100%)]] --> [[0 (100%)]]\n",
      "\n",
      "kalau diperhatikan perkembangan film di indonesia makin berkembang gue [[suka]] itu \n",
      "\n",
      "kalau diperhatikan perkembangan film di indonesia makin berkembang gue [[sukaria]] itu \n",
      "\n",
      "\n"
     ]
    },
    {
     "name": "stderr",
     "output_type": "stream",
     "text": [
      "[Succeeded / Failed / Skipped / Total] 296 / 80 / 12 / 388:  78%|███████▊  | 388/500 [2:42:42<46:58, 25.16s/it]"
     ]
    },
    {
     "name": "stdout",
     "output_type": "stream",
     "text": [
      "--------------------------------------------- Result 388 ---------------------------------------------\n",
      "[[2 (100%)]] --> [[[FAILED]]]\n",
      "\n",
      "film horor indonesia patut diacungin jempol konsep nya sudah hampir setara sama film horor luar negeri \n",
      "\n",
      "\n"
     ]
    },
    {
     "name": "stderr",
     "output_type": "stream",
     "text": [
      "[Succeeded / Failed / Skipped / Total] 297 / 80 / 12 / 389:  78%|███████▊  | 389/500 [2:43:00<46:30, 25.14s/it]"
     ]
    },
    {
     "name": "stdout",
     "output_type": "stream",
     "text": [
      "--------------------------------------------- Result 389 ---------------------------------------------\n",
      "[[2 (100%)]] --> [[0 (100%)]]\n",
      "\n",
      "asli ya gue [[suka]] banget sama alur cerita film kafir sederhana tapi dapat makna nya \n",
      "\n",
      "asli ya gue [[membenarkan]] banget sama alur cerita film kafir sederhana tapi dapat makna nya \n",
      "\n",
      "\n"
     ]
    },
    {
     "name": "stderr",
     "output_type": "stream",
     "text": [
      "[Succeeded / Failed / Skipped / Total] 298 / 80 / 12 / 390:  78%|███████▊  | 390/500 [2:43:02<45:59, 25.08s/it]"
     ]
    },
    {
     "name": "stdout",
     "output_type": "stream",
     "text": [
      "--------------------------------------------- Result 390 ---------------------------------------------\n",
      "[[2 (100%)]] --> [[0 (100%)]]\n",
      "\n",
      "[[cinta]] [[banget]] sama iko uwais apalagi kalau lagi main film \n",
      "\n",
      "[[percintaan]] [[amat]] sama iko uwais apalagi kalau lagi main film \n",
      "\n",
      "\n"
     ]
    },
    {
     "name": "stderr",
     "output_type": "stream",
     "text": [
      "[Succeeded / Failed / Skipped / Total] 299 / 80 / 12 / 391:  78%|███████▊  | 391/500 [2:43:03<45:27, 25.02s/it]"
     ]
    },
    {
     "name": "stdout",
     "output_type": "stream",
     "text": [
      "--------------------------------------------- Result 391 ---------------------------------------------\n",
      "[[2 (100%)]] --> [[0 (100%)]]\n",
      "\n",
      "[[kangen]] deh sama prabowo semoga beliau jadi presiden deh ya dua tahun lagi \n",
      "\n",
      "[[kehilangan]] deh sama prabowo semoga beliau jadi presiden deh ya dua tahun lagi \n",
      "\n",
      "\n"
     ]
    },
    {
     "name": "stderr",
     "output_type": "stream",
     "text": [
      "[Succeeded / Failed / Skipped / Total] 300 / 80 / 12 / 392:  78%|███████▊  | 392/500 [2:43:08<44:56, 24.97s/it]"
     ]
    },
    {
     "name": "stdout",
     "output_type": "stream",
     "text": [
      "--------------------------------------------- Result 392 ---------------------------------------------\n",
      "[[2 (100%)]] --> [[1 (93%)]]\n",
      "\n",
      "recheese nabati yang keju [[enak]] [[banget]] \n",
      "\n",
      "recheese nabati yang keju [[kelezatan]] [[terlalu]] \n",
      "\n",
      "\n"
     ]
    },
    {
     "name": "stderr",
     "output_type": "stream",
     "text": [
      "[Succeeded / Failed / Skipped / Total] 301 / 80 / 12 / 393:  79%|███████▊  | 393/500 [2:43:36<44:32, 24.98s/it]"
     ]
    },
    {
     "name": "stdout",
     "output_type": "stream",
     "text": [
      "--------------------------------------------- Result 393 ---------------------------------------------\n",
      "[[2 (99%)]] --> [[0 (100%)]]\n",
      "\n",
      "kalau ingin menghilangkan haus pakai minuman super duper [[segar]] mending beli hydrococo \n",
      "\n",
      "kalau ingin menghilangkan haus pakai minuman super duper [[kasar]] mending beli hydrococo \n",
      "\n",
      "\n"
     ]
    },
    {
     "name": "stderr",
     "output_type": "stream",
     "text": [
      "[Succeeded / Failed / Skipped / Total] 302 / 80 / 12 / 394:  79%|███████▉  | 394/500 [2:43:53<44:05, 24.96s/it]"
     ]
    },
    {
     "name": "stdout",
     "output_type": "stream",
     "text": [
      "--------------------------------------------- Result 394 ---------------------------------------------\n",
      "[[2 (100%)]] --> [[0 (100%)]]\n",
      "\n",
      "tidak tahu kenapa gue [[senang]] banget bisa tinggal di jakarta \n",
      "\n",
      "tidak tahu kenapa gue [[enteng]] banget bisa tinggal di jakarta \n",
      "\n",
      "\n"
     ]
    },
    {
     "name": "stderr",
     "output_type": "stream",
     "text": [
      "[Succeeded / Failed / Skipped / Total] 302 / 81 / 12 / 395:  79%|███████▉  | 395/500 [2:43:54<43:34, 24.90s/it]"
     ]
    },
    {
     "name": "stdout",
     "output_type": "stream",
     "text": [
      "--------------------------------------------- Result 395 ---------------------------------------------\n",
      "[[2 (100%)]] --> [[[FAILED]]]\n",
      "\n",
      "menurut gue bali itu pulau tercantik yang ada di indonesia \n",
      "\n",
      "\n"
     ]
    },
    {
     "name": "stderr",
     "output_type": "stream",
     "text": [
      "[Succeeded / Failed / Skipped / Total] 303 / 81 / 12 / 396:  79%|███████▉  | 396/500 [2:44:03<43:05, 24.86s/it]"
     ]
    },
    {
     "name": "stdout",
     "output_type": "stream",
     "text": [
      "--------------------------------------------- Result 396 ---------------------------------------------\n",
      "[[2 (100%)]] --> [[0 (100%)]]\n",
      "\n",
      "yang gue [[suka]] dari indonesia adalah budaya nya yang [[kental]] banget \n",
      "\n",
      "yang gue [[membenarkan]] dari indonesia adalah budaya nya yang [[terganjal]] banget \n",
      "\n",
      "\n"
     ]
    },
    {
     "name": "stderr",
     "output_type": "stream",
     "text": [
      "[Succeeded / Failed / Skipped / Total] 304 / 81 / 12 / 397:  79%|███████▉  | 397/500 [2:44:27<42:40, 24.85s/it]"
     ]
    },
    {
     "name": "stdout",
     "output_type": "stream",
     "text": [
      "--------------------------------------------- Result 397 ---------------------------------------------\n",
      "[[2 (100%)]] --> [[0 (54%)]]\n",
      "\n",
      "indonesia itu seperti [[banget]] sama seni dan budaya nya syukurlah gue dilahirkan di indonesia jadi bisa banyak [[belajar]] tentang [[indah]] nya perbedaan \n",
      "\n",
      "indonesia itu seperti [[terlalu]] sama seni dan budaya nya syukurlah gue dilahirkan di indonesia jadi bisa banyak [[menghinap-hinap]] tentang [[syahda]] nya perbedaan \n",
      "\n",
      "\n"
     ]
    },
    {
     "name": "stderr",
     "output_type": "stream",
     "text": [
      "[Succeeded / Failed / Skipped / Total] 305 / 81 / 12 / 398:  80%|███████▉  | 398/500 [2:44:43<42:13, 24.83s/it]"
     ]
    },
    {
     "name": "stdout",
     "output_type": "stream",
     "text": [
      "--------------------------------------------- Result 398 ---------------------------------------------\n",
      "[[2 (100%)]] --> [[0 (80%)]]\n",
      "\n",
      "tidak pernah tidak suka sama suara once paling [[suka]] waktu dia nyanyi dealova dalem [[banget]] nusuk ke [[hati]] \n",
      "\n",
      "tidak pernah tidak suka sama suara once paling [[kebenaran]] waktu dia nyanyi dealova dalem [[amat]] nusuk ke [[benda]] \n",
      "\n",
      "\n"
     ]
    },
    {
     "name": "stderr",
     "output_type": "stream",
     "text": [
      "[Succeeded / Failed / Skipped / Total] 306 / 81 / 12 / 399:  80%|███████▉  | 399/500 [2:44:49<41:43, 24.79s/it]"
     ]
    },
    {
     "name": "stdout",
     "output_type": "stream",
     "text": [
      "--------------------------------------------- Result 399 ---------------------------------------------\n",
      "[[2 (100%)]] --> [[0 (99%)]]\n",
      "\n",
      "[[lagu]] lagu indie itu selalu [[enak]] didenger \n",
      "\n",
      "[[tindakan]] lagu indie itu selalu [[lazat]] didenger \n",
      "\n",
      "\n"
     ]
    },
    {
     "name": "stderr",
     "output_type": "stream",
     "text": [
      "[Succeeded / Failed / Skipped / Total] 306 / 82 / 12 / 400:  80%|████████  | 400/500 [2:44:50<41:12, 24.73s/it]"
     ]
    },
    {
     "name": "stdout",
     "output_type": "stream",
     "text": [
      "--------------------------------------------- Result 400 ---------------------------------------------\n",
      "[[2 (100%)]] --> [[[FAILED]]]\n",
      "\n",
      "genre musik paling asik menurut aku sih jazz \n",
      "\n",
      "\n"
     ]
    },
    {
     "name": "stderr",
     "output_type": "stream",
     "text": [
      "[Succeeded / Failed / Skipped / Total] 307 / 82 / 13 / 402:  80%|████████  | 402/500 [2:44:52<40:11, 24.61s/it]"
     ]
    },
    {
     "name": "stdout",
     "output_type": "stream",
     "text": [
      "--------------------------------------------- Result 401 ---------------------------------------------\n",
      "[[2 (75%)]] --> [[1 (78%)]]\n",
      "\n",
      "kalau ditanya kualitas lirik lagu [[terbaik]] di indonesia gue bakal jawab lirik lagu nya ebiet tidak ade belum ada yang bisa bandingkan \n",
      "\n",
      "kalau ditanya kualitas lirik lagu [[paling]] di indonesia gue bakal jawab lirik lagu nya ebiet tidak ade belum ada yang bisa bandingkan \n",
      "\n",
      "\n",
      "--------------------------------------------- Result 402 ---------------------------------------------\n",
      "[[0 (100%)]] --> [[[SKIPPED]]]\n",
      "\n",
      "buat indonesia apa sih yang tidak gue rela deh kayak pahlawan zaman dulu yang sampai mengorbankan nyawa \n",
      "\n",
      "\n"
     ]
    },
    {
     "name": "stderr",
     "output_type": "stream",
     "text": [
      "[Succeeded / Failed / Skipped / Total] 308 / 82 / 13 / 403:  81%|████████  | 403/500 [2:45:22<39:48, 24.62s/it]"
     ]
    },
    {
     "name": "stdout",
     "output_type": "stream",
     "text": [
      "--------------------------------------------- Result 403 ---------------------------------------------\n",
      "[[2 (100%)]] --> [[0 (100%)]]\n",
      "\n",
      "sebenarnya nilai di dalam pancasila itu sudah [[sesuai]] banget sama cita cita masyarakat indonesia pancasila sangat meninggikan kepentingan bersama karena itu gue sangat [[cinta]] dengan pancasila dan indonesia \n",
      "\n",
      "sebenarnya nilai di dalam pancasila itu sudah [[mencampurkan]] banget sama cita cita masyarakat indonesia pancasila sangat meninggikan kepentingan bersama karena itu gue sangat [[kekasih]] dengan pancasila dan indonesia \n",
      "\n",
      "\n"
     ]
    },
    {
     "name": "stderr",
     "output_type": "stream",
     "text": [
      "[Succeeded / Failed / Skipped / Total] 308 / 83 / 13 / 404:  81%|████████  | 404/500 [2:45:33<39:20, 24.59s/it]"
     ]
    },
    {
     "name": "stdout",
     "output_type": "stream",
     "text": [
      "--------------------------------------------- Result 404 ---------------------------------------------\n",
      "[[2 (100%)]] --> [[[FAILED]]]\n",
      "\n",
      "aku dukung banget kerja sama antara jokowi sama dengan ruf amin insyaallah indonesia bisa lebih baik ke depan nya kalau sama mereka \n",
      "\n",
      "\n"
     ]
    },
    {
     "name": "stderr",
     "output_type": "stream",
     "text": [
      "[Succeeded / Failed / Skipped / Total] 309 / 83 / 14 / 406:  81%|████████  | 406/500 [2:45:52<38:24, 24.51s/it]"
     ]
    },
    {
     "name": "stdout",
     "output_type": "stream",
     "text": [
      "--------------------------------------------- Result 405 ---------------------------------------------\n",
      "[[2 (100%)]] --> [[0 (100%)]]\n",
      "\n",
      "gue paling [[suka]] tisu merek paseo karena [[lembut]] banget \n",
      "\n",
      "gue paling [[sukaria]] tisu merek paseo karena [[rapuh]] banget \n",
      "\n",
      "\n",
      "--------------------------------------------- Result 406 ---------------------------------------------\n",
      "[[1 (100%)]] --> [[[SKIPPED]]]\n",
      "\n",
      "laptop lenovo nomor sih buat gue \n",
      "\n",
      "\n"
     ]
    },
    {
     "name": "stderr",
     "output_type": "stream",
     "text": [
      "[Succeeded / Failed / Skipped / Total] 309 / 84 / 14 / 407:  81%|████████▏ | 407/500 [2:45:52<37:54, 24.45s/it]"
     ]
    },
    {
     "name": "stdout",
     "output_type": "stream",
     "text": [
      "--------------------------------------------- Result 407 ---------------------------------------------\n",
      "[[2 (100%)]] --> [[[FAILED]]]\n",
      "\n",
      "cemilan terenak menurut gue itu adalah kacang kuaci merek rebo \n",
      "\n",
      "\n"
     ]
    },
    {
     "name": "stderr",
     "output_type": "stream",
     "text": [
      "[Succeeded / Failed / Skipped / Total] 310 / 84 / 14 / 408:  82%|████████▏ | 408/500 [2:46:08<37:27, 24.43s/it]"
     ]
    },
    {
     "name": "stdout",
     "output_type": "stream",
     "text": [
      "--------------------------------------------- Result 408 ---------------------------------------------\n",
      "[[2 (100%)]] --> [[0 (100%)]]\n",
      "\n",
      "mouse logitech [[lucu]] lucu desain nya hampir semuanya gue [[suka]] \n",
      "\n",
      "mouse logitech [[absurd]] lucu desain nya hampir semuanya gue [[mengakuri]] \n",
      "\n",
      "\n"
     ]
    },
    {
     "name": "stderr",
     "output_type": "stream",
     "text": [
      "[Succeeded / Failed / Skipped / Total] 311 / 84 / 14 / 409:  82%|████████▏ | 409/500 [2:46:21<37:00, 24.40s/it]"
     ]
    },
    {
     "name": "stdout",
     "output_type": "stream",
     "text": [
      "--------------------------------------------- Result 409 ---------------------------------------------\n",
      "[[2 (100%)]] --> [[0 (100%)]]\n",
      "\n",
      "lagu nya richard marx selalu [[syahdu]] [[enak]] didengar [[berulang]] [[ulang]] \n",
      "\n",
      "lagu nya richard marx selalu [[molek]] [[berair]] didengar [[menyeleweng]] [[membeo]] \n",
      "\n",
      "\n"
     ]
    },
    {
     "name": "stderr",
     "output_type": "stream",
     "text": [
      "[Succeeded / Failed / Skipped / Total] 312 / 84 / 14 / 410:  82%|████████▏ | 410/500 [2:46:34<36:33, 24.38s/it]"
     ]
    },
    {
     "name": "stdout",
     "output_type": "stream",
     "text": [
      "--------------------------------------------- Result 410 ---------------------------------------------\n",
      "[[2 (100%)]] --> [[0 (100%)]]\n",
      "\n",
      "karya anak bangsa indonesia di bidang teknologi selalu [[membanggakan]] \n",
      "\n",
      "karya anak bangsa indonesia di bidang teknologi selalu [[angkuh]] \n",
      "\n",
      "\n"
     ]
    },
    {
     "name": "stderr",
     "output_type": "stream",
     "text": [
      "[Succeeded / Failed / Skipped / Total] 312 / 85 / 14 / 411:  82%|████████▏ | 411/500 [2:46:57<36:09, 24.37s/it]"
     ]
    },
    {
     "name": "stdout",
     "output_type": "stream",
     "text": [
      "--------------------------------------------- Result 411 ---------------------------------------------\n",
      "[[2 (100%)]] --> [[[FAILED]]]\n",
      "\n",
      "salut banget sih sama pemimpin yang selalu bisa melihat poin plus yang ada di diri orang orang di sekitar nya \n",
      "\n",
      "\n"
     ]
    },
    {
     "name": "stderr",
     "output_type": "stream",
     "text": [
      "[Succeeded / Failed / Skipped / Total] 313 / 85 / 14 / 412:  82%|████████▏ | 412/500 [2:47:08<35:42, 24.34s/it]"
     ]
    },
    {
     "name": "stdout",
     "output_type": "stream",
     "text": [
      "--------------------------------------------- Result 412 ---------------------------------------------\n",
      "[[2 (100%)]] --> [[0 (100%)]]\n",
      "\n",
      "[[bangga]] deh sama jokowi maju terus pak \n",
      "\n",
      "[[congkak]] deh sama jokowi maju terus pak \n",
      "\n",
      "\n"
     ]
    },
    {
     "name": "stderr",
     "output_type": "stream",
     "text": [
      "[Succeeded / Failed / Skipped / Total] 314 / 85 / 14 / 413:  83%|████████▎ | 413/500 [2:47:12<35:13, 24.29s/it]"
     ]
    },
    {
     "name": "stdout",
     "output_type": "stream",
     "text": [
      "--------------------------------------------- Result 413 ---------------------------------------------\n",
      "[[2 (100%)]] --> [[0 (100%)]]\n",
      "\n",
      "tidak usah ditanya [[kehebatan]] jokowi apa semua juga bisa dilakukan sama bapak presiden terkuat satu itu \n",
      "\n",
      "tidak usah ditanya [[keterlaluan]] jokowi apa semua juga bisa dilakukan sama bapak presiden terkuat satu itu \n",
      "\n",
      "\n"
     ]
    },
    {
     "name": "stderr",
     "output_type": "stream",
     "text": [
      "[Succeeded / Failed / Skipped / Total] 315 / 85 / 14 / 414:  83%|████████▎ | 414/500 [2:48:04<34:54, 24.36s/it]"
     ]
    },
    {
     "name": "stdout",
     "output_type": "stream",
     "text": [
      "--------------------------------------------- Result 414 ---------------------------------------------\n",
      "[[2 (100%)]] --> [[0 (99%)]]\n",
      "\n",
      "gue lebih milih [[makan]] di restoran yang bersih dan makanan nya enak kayak di ampera \n",
      "\n",
      "gue lebih milih [[muak]] di restoran yang bersih dan makanan nya enak kayak di ampera \n",
      "\n",
      "\n"
     ]
    },
    {
     "name": "stderr",
     "output_type": "stream",
     "text": [
      "[Succeeded / Failed / Skipped / Total] 316 / 85 / 14 / 415:  83%|████████▎ | 415/500 [2:48:10<34:26, 24.31s/it]"
     ]
    },
    {
     "name": "stdout",
     "output_type": "stream",
     "text": [
      "--------------------------------------------- Result 415 ---------------------------------------------\n",
      "[[2 (100%)]] --> [[0 (100%)]]\n",
      "\n",
      "banyak ya yang bisa dibanggakan dari seorang habibie cerdas iya [[rendah]] hati pula \n",
      "\n",
      "banyak ya yang bisa dibanggakan dari seorang habibie cerdas iya [[terkutuk]] hati pula \n",
      "\n",
      "\n"
     ]
    },
    {
     "name": "stderr",
     "output_type": "stream",
     "text": [
      "[Succeeded / Failed / Skipped / Total] 317 / 85 / 14 / 416:  83%|████████▎ | 416/500 [2:48:25<34:00, 24.29s/it]"
     ]
    },
    {
     "name": "stdout",
     "output_type": "stream",
     "text": [
      "--------------------------------------------- Result 416 ---------------------------------------------\n",
      "[[2 (100%)]] --> [[0 (100%)]]\n",
      "\n",
      "pelayanan bank bni selalu [[memuaskan]] ramah [[ramah]] [[banget]] [[orang]] nya \n",
      "\n",
      "pelayanan bank bni selalu [[muak]] ramah [[mesra]] [[amat]] [[kabilah]] nya \n",
      "\n",
      "\n"
     ]
    },
    {
     "name": "stderr",
     "output_type": "stream",
     "text": [
      "[Succeeded / Failed / Skipped / Total] 318 / 85 / 14 / 417:  83%|████████▎ | 417/500 [2:48:40<33:34, 24.27s/it]"
     ]
    },
    {
     "name": "stdout",
     "output_type": "stream",
     "text": [
      "--------------------------------------------- Result 417 ---------------------------------------------\n",
      "[[2 (100%)]] --> [[1 (100%)]]\n",
      "\n",
      "bca [[keren]] sih karena sekarang sudah bisa medeteksi identitas [[orang]] cuma dengan ngedenger [[suara]] nya \n",
      "\n",
      "bca [[periang]] sih karena sekarang sudah bisa medeteksi identitas [[kabilah]] cuma dengan ngedenger [[artikulasi]] nya \n",
      "\n",
      "\n"
     ]
    },
    {
     "name": "stderr",
     "output_type": "stream",
     "text": [
      "[Succeeded / Failed / Skipped / Total] 318 / 86 / 14 / 418:  84%|████████▎ | 418/500 [2:48:42<33:05, 24.22s/it]"
     ]
    },
    {
     "name": "stdout",
     "output_type": "stream",
     "text": [
      "--------------------------------------------- Result 418 ---------------------------------------------\n",
      "[[2 (100%)]] --> [[[FAILED]]]\n",
      "\n",
      "salut sama anak its bisa bikin robot canggih dengan biaya yang tidak berlebihan \n",
      "\n",
      "\n"
     ]
    },
    {
     "name": "stderr",
     "output_type": "stream",
     "text": [
      "[Succeeded / Failed / Skipped / Total] 319 / 86 / 14 / 419:  84%|████████▍ | 419/500 [2:49:09<32:42, 24.22s/it]"
     ]
    },
    {
     "name": "stdout",
     "output_type": "stream",
     "text": [
      "--------------------------------------------- Result 419 ---------------------------------------------\n",
      "[[2 (100%)]] --> [[0 (100%)]]\n",
      "\n",
      "paling [[suka]] sama orang yang tidak pernah mengeluh kalau lagi kerja \n",
      "\n",
      "paling [[sukaria]] sama orang yang tidak pernah mengeluh kalau lagi kerja \n",
      "\n",
      "\n"
     ]
    },
    {
     "name": "stderr",
     "output_type": "stream",
     "text": [
      "[Succeeded / Failed / Skipped / Total] 320 / 86 / 14 / 420:  84%|████████▍ | 420/500 [2:49:23<32:15, 24.20s/it]"
     ]
    },
    {
     "name": "stdout",
     "output_type": "stream",
     "text": [
      "--------------------------------------------- Result 420 ---------------------------------------------\n",
      "[[2 (100%)]] --> [[0 (100%)]]\n",
      "\n",
      "gue dari dulu selalu [[suka]] momogi rasanya [[ketagihan]] [[banget]] \n",
      "\n",
      "gue dari dulu selalu [[persetujuan]] momogi rasanya [[ketergantungan]] [[amat]] \n",
      "\n",
      "\n"
     ]
    },
    {
     "name": "stderr",
     "output_type": "stream",
     "text": [
      "[Succeeded / Failed / Skipped / Total] 321 / 86 / 14 / 421:  84%|████████▍ | 421/500 [2:49:38<31:49, 24.18s/it]"
     ]
    },
    {
     "name": "stdout",
     "output_type": "stream",
     "text": [
      "--------------------------------------------- Result 421 ---------------------------------------------\n",
      "[[2 (100%)]] --> [[0 (100%)]]\n",
      "\n",
      "indomie sih enggak usah ditanya lagi naik gunung cuma bawa indomie saja sudah cukup buat gue sudah bisa [[melengkapi]] kebahagiaan indomie [[mantap]] \n",
      "\n",
      "indomie sih enggak usah ditanya lagi naik gunung cuma bawa indomie saja sudah cukup buat gue sudah bisa [[bubar]] kebahagiaan indomie [[malar]] \n",
      "\n",
      "\n"
     ]
    },
    {
     "name": "stderr",
     "output_type": "stream",
     "text": [
      "[Succeeded / Failed / Skipped / Total] 322 / 86 / 14 / 422:  84%|████████▍ | 422/500 [2:49:49<31:23, 24.14s/it]"
     ]
    },
    {
     "name": "stdout",
     "output_type": "stream",
     "text": [
      "--------------------------------------------- Result 422 ---------------------------------------------\n",
      "[[2 (100%)]] --> [[0 (100%)]]\n",
      "\n",
      "tidak pernah [[kecewa]] sama model sepatu nike selalu [[elegan]] \n",
      "\n",
      "tidak pernah [[mengarungi]] sama model sepatu nike selalu [[kehalusan]] \n",
      "\n",
      "\n"
     ]
    },
    {
     "name": "stderr",
     "output_type": "stream",
     "text": [
      "[Succeeded / Failed / Skipped / Total] 322 / 87 / 14 / 423:  85%|████████▍ | 423/500 [2:49:52<30:55, 24.09s/it]"
     ]
    },
    {
     "name": "stdout",
     "output_type": "stream",
     "text": [
      "--------------------------------------------- Result 423 ---------------------------------------------\n",
      "[[2 (100%)]] --> [[[FAILED]]]\n",
      "\n",
      "samsung galaxy a memang asik banget sih setimpal banget beli itu hp \n",
      "\n",
      "\n"
     ]
    },
    {
     "name": "stderr",
     "output_type": "stream",
     "text": [
      "[Succeeded / Failed / Skipped / Total] 323 / 87 / 14 / 424:  85%|████████▍ | 424/500 [2:50:08<30:29, 24.08s/it]"
     ]
    },
    {
     "name": "stdout",
     "output_type": "stream",
     "text": [
      "--------------------------------------------- Result 424 ---------------------------------------------\n",
      "[[2 (100%)]] --> [[0 (100%)]]\n",
      "\n",
      "[[bangga]] dan salut buat dokter yang rela tidak dibayar buat turun jangankan korban gempa di lombok \n",
      "\n",
      "[[congkak]] dan salut buat dokter yang rela tidak dibayar buat turun jangankan korban gempa di lombok \n",
      "\n",
      "\n"
     ]
    },
    {
     "name": "stderr",
     "output_type": "stream",
     "text": [
      "[Succeeded / Failed / Skipped / Total] 324 / 87 / 14 / 425:  85%|████████▌ | 425/500 [2:50:30<30:05, 24.07s/it]"
     ]
    },
    {
     "name": "stdout",
     "output_type": "stream",
     "text": [
      "--------------------------------------------- Result 425 ---------------------------------------------\n",
      "[[2 (100%)]] --> [[0 (100%)]]\n",
      "\n",
      "sandy shandoro tidak pernah [[gagal]] bikin gue merinding dewa banget [[suara]] nya \n",
      "\n",
      "sandy shandoro tidak pernah [[memberi]] bikin gue merinding dewa banget [[berbahaya]] nya \n",
      "\n",
      "\n"
     ]
    },
    {
     "name": "stderr",
     "output_type": "stream",
     "text": [
      "[Succeeded / Failed / Skipped / Total] 325 / 87 / 14 / 426:  85%|████████▌ | 426/500 [2:50:33<29:37, 24.02s/it]"
     ]
    },
    {
     "name": "stdout",
     "output_type": "stream",
     "text": [
      "--------------------------------------------- Result 426 ---------------------------------------------\n",
      "[[2 (100%)]] --> [[0 (100%)]]\n",
      "\n",
      "kalau disuruh milih antara koi sama chatime mending koi ke mana mana harga murah rasa [[juara]] \n",
      "\n",
      "kalau disuruh milih antara koi sama chatime mending koi ke mana mana harga murah rasa [[pemuja]] \n",
      "\n",
      "\n"
     ]
    },
    {
     "name": "stderr",
     "output_type": "stream",
     "text": [
      "[Succeeded / Failed / Skipped / Total] 325 / 88 / 14 / 427:  85%|████████▌ | 427/500 [2:50:34<29:09, 23.97s/it]"
     ]
    },
    {
     "name": "stdout",
     "output_type": "stream",
     "text": [
      "--------------------------------------------- Result 427 ---------------------------------------------\n",
      "[[2 (100%)]] --> [[[FAILED]]]\n",
      "\n",
      "salut sama rk gue yakin jawa barat bakal juara \n",
      "\n",
      "\n"
     ]
    },
    {
     "name": "stderr",
     "output_type": "stream",
     "text": [
      "[Succeeded / Failed / Skipped / Total] 326 / 88 / 15 / 429:  86%|████████▌ | 429/500 [2:50:41<28:15, 23.87s/it]"
     ]
    },
    {
     "name": "stdout",
     "output_type": "stream",
     "text": [
      "--------------------------------------------- Result 428 ---------------------------------------------\n",
      "[[2 (100%)]] --> [[1 (100%)]]\n",
      "\n",
      "di antara penyanyi rock yang ada gue paling [[suka]] bryan adams \n",
      "\n",
      "di antara penyanyi rock yang ada gue paling [[mengakuri]] bryan adams \n",
      "\n",
      "\n",
      "--------------------------------------------- Result 429 ---------------------------------------------\n",
      "[[0 (100%)]] --> [[[SKIPPED]]]\n",
      "\n",
      "gue cuma mau dipimpin sama jokowi \n",
      "\n",
      "\n"
     ]
    },
    {
     "name": "stderr",
     "output_type": "stream",
     "text": [
      "[Succeeded / Failed / Skipped / Total] 326 / 89 / 16 / 431:  86%|████████▌ | 431/500 [2:50:45<27:20, 23.77s/it]"
     ]
    },
    {
     "name": "stdout",
     "output_type": "stream",
     "text": [
      "--------------------------------------------- Result 430 ---------------------------------------------\n",
      "[[2 (100%)]] --> [[[FAILED]]]\n",
      "\n",
      "kopi paling enak menurut gue torabika \n",
      "\n",
      "\n",
      "--------------------------------------------- Result 431 ---------------------------------------------\n",
      "[[0 (100%)]] --> [[[SKIPPED]]]\n",
      "\n",
      "gila sih rasa iga bakar di iga bakar si jangkung terbaik parah \n",
      "\n",
      "\n"
     ]
    },
    {
     "name": "stderr",
     "output_type": "stream",
     "text": [
      "[Succeeded / Failed / Skipped / Total] 327 / 89 / 16 / 432:  86%|████████▋ | 432/500 [2:50:47<26:52, 23.72s/it]"
     ]
    },
    {
     "name": "stdout",
     "output_type": "stream",
     "text": [
      "--------------------------------------------- Result 432 ---------------------------------------------\n",
      "[[2 (100%)]] --> [[0 (100%)]]\n",
      "\n",
      "bandung itu kota paling [[nyaman]] buat ditempatkan \n",
      "\n",
      "bandung itu kota paling [[informal]] buat ditempatkan \n",
      "\n",
      "\n"
     ]
    },
    {
     "name": "stderr",
     "output_type": "stream",
     "text": [
      "[Succeeded / Failed / Skipped / Total] 328 / 89 / 16 / 433:  87%|████████▋ | 433/500 [2:51:24<26:31, 23.75s/it]"
     ]
    },
    {
     "name": "stdout",
     "output_type": "stream",
     "text": [
      "--------------------------------------------- Result 433 ---------------------------------------------\n",
      "[[2 (100%)]] --> [[0 (100%)]]\n",
      "\n",
      "distro baju di bandung ternyata [[bagus]] [[bagus]] deh harga nya juga [[sesuai]] \n",
      "\n",
      "distro baju di bandung ternyata [[menyeronokkan]] [[elok]] deh harga nya juga [[mengharmonikan]] \n",
      "\n",
      "\n"
     ]
    },
    {
     "name": "stderr",
     "output_type": "stream",
     "text": [
      "[Succeeded / Failed / Skipped / Total] 329 / 89 / 16 / 434:  87%|████████▋ | 434/500 [2:51:42<26:06, 23.74s/it]"
     ]
    },
    {
     "name": "stdout",
     "output_type": "stream",
     "text": [
      "--------------------------------------------- Result 434 ---------------------------------------------\n",
      "[[2 (100%)]] --> [[1 (83%)]]\n",
      "\n",
      "kalau mau jalan jalan melihat pulau paling [[cantik]] datang saja ke pulau saumlaki yang ada di maluku \n",
      "\n",
      "kalau mau jalan jalan melihat pulau paling [[atraktif]] datang saja ke pulau saumlaki yang ada di maluku \n",
      "\n",
      "\n"
     ]
    },
    {
     "name": "stderr",
     "output_type": "stream",
     "text": [
      "[Succeeded / Failed / Skipped / Total] 330 / 89 / 16 / 435:  87%|████████▋ | 435/500 [2:51:44<25:39, 23.69s/it]"
     ]
    },
    {
     "name": "stdout",
     "output_type": "stream",
     "text": [
      "--------------------------------------------- Result 435 ---------------------------------------------\n",
      "[[2 (100%)]] --> [[0 (100%)]]\n",
      "\n",
      "aku [[bangga]] jadi anak indonesia \n",
      "\n",
      "aku [[gaduk]] jadi anak indonesia \n",
      "\n",
      "\n"
     ]
    },
    {
     "name": "stderr",
     "output_type": "stream",
     "text": [
      "[Succeeded / Failed / Skipped / Total] 331 / 89 / 16 / 436:  87%|████████▋ | 436/500 [2:51:46<25:12, 23.64s/it]"
     ]
    },
    {
     "name": "stdout",
     "output_type": "stream",
     "text": [
      "--------------------------------------------- Result 436 ---------------------------------------------\n",
      "[[2 (100%)]] --> [[0 (98%)]]\n",
      "\n",
      "salut deh sama [[keberanian]] [[bu]] susi \n",
      "\n",
      "salut deh sama [[biadab]] [[perempuan]] susi \n",
      "\n",
      "\n"
     ]
    },
    {
     "name": "stderr",
     "output_type": "stream",
     "text": [
      "[Succeeded / Failed / Skipped / Total] 332 / 89 / 16 / 437:  87%|████████▋ | 437/500 [2:51:48<24:46, 23.59s/it]"
     ]
    },
    {
     "name": "stdout",
     "output_type": "stream",
     "text": [
      "--------------------------------------------- Result 437 ---------------------------------------------\n",
      "[[2 (100%)]] --> [[0 (99%)]]\n",
      "\n",
      "panutan [[banget]] [[bu]] sri mulyani [[otak]] nya [[cerdas]] luar biasa \n",
      "\n",
      "panutan [[terlalu]] [[nyonya]] sri mulyani [[akal]] nya [[berawas-awas]] luar biasa \n",
      "\n",
      "\n"
     ]
    },
    {
     "name": "stderr",
     "output_type": "stream",
     "text": [
      "[Succeeded / Failed / Skipped / Total] 333 / 89 / 16 / 438:  88%|████████▊ | 438/500 [2:52:00<24:20, 23.56s/it]"
     ]
    },
    {
     "name": "stdout",
     "output_type": "stream",
     "text": [
      "--------------------------------------------- Result 438 ---------------------------------------------\n",
      "[[2 (100%)]] --> [[0 (100%)]]\n",
      "\n",
      "[[suka]] banget sama desain toko pedia bikin mata segar \n",
      "\n",
      "[[membenarkan]] banget sama desain toko pedia bikin mata segar \n",
      "\n",
      "\n"
     ]
    },
    {
     "name": "stderr",
     "output_type": "stream",
     "text": [
      "[Succeeded / Failed / Skipped / Total] 334 / 89 / 17 / 440:  88%|████████▊ | 440/500 [2:52:05<23:28, 23.47s/it]"
     ]
    },
    {
     "name": "stdout",
     "output_type": "stream",
     "text": [
      "--------------------------------------------- Result 439 ---------------------------------------------\n",
      "[[2 (100%)]] --> [[0 (100%)]]\n",
      "\n",
      "gue [[senang]] banget [[belanja]] di shopee banyak promo nya \n",
      "\n",
      "gue [[marem]] banget [[memperlakukan]] di shopee banyak promo nya \n",
      "\n",
      "\n",
      "--------------------------------------------- Result 440 ---------------------------------------------\n",
      "[[1 (87%)]] --> [[[SKIPPED]]]\n",
      "\n",
      "kalau mau beli keperluan perawatan kulit the body stop direkomendasikan banget sih \n",
      "\n",
      "\n"
     ]
    },
    {
     "name": "stderr",
     "output_type": "stream",
     "text": [
      "[Succeeded / Failed / Skipped / Total] 334 / 90 / 17 / 441:  88%|████████▊ | 441/500 [2:52:06<23:01, 23.42s/it]"
     ]
    },
    {
     "name": "stdout",
     "output_type": "stream",
     "text": [
      "--------------------------------------------- Result 441 ---------------------------------------------\n",
      "[[2 (100%)]] --> [[[FAILED]]]\n",
      "\n",
      "fasilitas di hotel santika memang terbaik \n",
      "\n",
      "\n"
     ]
    },
    {
     "name": "stderr",
     "output_type": "stream",
     "text": [
      "[Succeeded / Failed / Skipped / Total] 335 / 90 / 17 / 442:  88%|████████▊ | 442/500 [2:52:11<22:35, 23.37s/it]"
     ]
    },
    {
     "name": "stdout",
     "output_type": "stream",
     "text": [
      "--------------------------------------------- Result 442 ---------------------------------------------\n",
      "[[2 (100%)]] --> [[0 (95%)]]\n",
      "\n",
      "alun alun bandung [[nyaman]] banget buat nongkrong nongkrong sama keluarga atau teman \n",
      "\n",
      "alun alun bandung [[halus]] banget buat nongkrong nongkrong sama keluarga atau teman \n",
      "\n",
      "\n"
     ]
    },
    {
     "name": "stderr",
     "output_type": "stream",
     "text": [
      "[Succeeded / Failed / Skipped / Total] 335 / 91 / 18 / 444:  89%|████████▉ | 444/500 [2:52:12<21:43, 23.27s/it]"
     ]
    },
    {
     "name": "stdout",
     "output_type": "stream",
     "text": [
      "--------------------------------------------- Result 443 ---------------------------------------------\n",
      "[[2 (100%)]] --> [[[FAILED]]]\n",
      "\n",
      "aku seneng banget sama desain interior cgv beda sama bioskop bioskop lain \n",
      "\n",
      "\n",
      "--------------------------------------------- Result 444 ---------------------------------------------\n",
      "[[0 (100%)]] --> [[[SKIPPED]]]\n",
      "\n",
      "ayam sama kentang mcd tidak ada yang bisa mengalahkan \n",
      "\n",
      "\n"
     ]
    },
    {
     "name": "stderr",
     "output_type": "stream",
     "text": [
      "[Succeeded / Failed / Skipped / Total] 335 / 92 / 18 / 445:  89%|████████▉ | 445/500 [2:52:13<21:17, 23.22s/it]"
     ]
    },
    {
     "name": "stdout",
     "output_type": "stream",
     "text": [
      "--------------------------------------------- Result 445 ---------------------------------------------\n",
      "[[2 (100%)]] --> [[[FAILED]]]\n",
      "\n",
      "mocha float kfc itu minuman terenak yang pernah gue rasain \n",
      "\n",
      "\n"
     ]
    },
    {
     "name": "stderr",
     "output_type": "stream",
     "text": [
      "[Succeeded / Failed / Skipped / Total] 335 / 93 / 18 / 446:  89%|████████▉ | 446/500 [2:52:13<20:51, 23.17s/it]"
     ]
    },
    {
     "name": "stdout",
     "output_type": "stream",
     "text": [
      "--------------------------------------------- Result 446 ---------------------------------------------\n",
      "[[2 (100%)]] --> [[[FAILED]]]\n",
      "\n",
      "mal terasik di bandung menurut gue pvj sih \n",
      "\n",
      "\n"
     ]
    },
    {
     "name": "stderr",
     "output_type": "stream",
     "text": [
      "[Succeeded / Failed / Skipped / Total] 336 / 93 / 18 / 447:  89%|████████▉ | 447/500 [2:52:20<20:26, 23.13s/it]"
     ]
    },
    {
     "name": "stdout",
     "output_type": "stream",
     "text": [
      "--------------------------------------------- Result 447 ---------------------------------------------\n",
      "[[2 (100%)]] --> [[0 (100%)]]\n",
      "\n",
      "semua rasa ayam di wingstop gue [[suka]] \n",
      "\n",
      "semua rasa ayam di wingstop gue [[meluluskan]] \n",
      "\n",
      "\n"
     ]
    },
    {
     "name": "stderr",
     "output_type": "stream",
     "text": [
      "[Succeeded / Failed / Skipped / Total] 337 / 93 / 18 / 448:  90%|████████▉ | 448/500 [2:52:32<20:01, 23.11s/it]"
     ]
    },
    {
     "name": "stdout",
     "output_type": "stream",
     "text": [
      "--------------------------------------------- Result 448 ---------------------------------------------\n",
      "[[2 (100%)]] --> [[0 (100%)]]\n",
      "\n",
      "indomie goreng rasa rendang rasanya enak [[banget]] [[enak]] banget \n",
      "\n",
      "indomie goreng rasa rendang rasanya enak [[terlalu]] [[selesa]] banget \n",
      "\n",
      "\n"
     ]
    },
    {
     "name": "stderr",
     "output_type": "stream",
     "text": [
      "[Succeeded / Failed / Skipped / Total] 338 / 93 / 18 / 449:  90%|████████▉ | 449/500 [2:52:34<19:36, 23.06s/it]"
     ]
    },
    {
     "name": "stdout",
     "output_type": "stream",
     "text": [
      "--------------------------------------------- Result 449 ---------------------------------------------\n",
      "[[2 (100%)]] --> [[1 (100%)]]\n",
      "\n",
      "tempat direkomendasikan buat [[beli]] barang elektronik itu bec di sana banyak [[pilihan]] \n",
      "\n",
      "tempat direkomendasikan buat [[memperoleh]] barang elektronik itu bec di sana banyak [[seleksi]] \n",
      "\n",
      "\n"
     ]
    },
    {
     "name": "stderr",
     "output_type": "stream",
     "text": [
      "[Succeeded / Failed / Skipped / Total] 339 / 93 / 18 / 450:  90%|█████████ | 450/500 [2:52:36<19:10, 23.01s/it]"
     ]
    },
    {
     "name": "stdout",
     "output_type": "stream",
     "text": [
      "--------------------------------------------- Result 450 ---------------------------------------------\n",
      "[[2 (100%)]] --> [[1 (82%)]]\n",
      "\n",
      "[[keren]] pemain pemain bola di [[indonesia]] makin punya skill \n",
      "\n",
      "[[gembira]] pemain pemain bola di [[Nederlands-Indie]] makin punya skill \n",
      "\n",
      "\n"
     ]
    },
    {
     "name": "stderr",
     "output_type": "stream",
     "text": [
      "[Succeeded / Failed / Skipped / Total] 340 / 93 / 19 / 452:  91%|█████████ | 453/500 [2:52:51<17:56, 22.89s/it]"
     ]
    },
    {
     "name": "stdout",
     "output_type": "stream",
     "text": [
      "--------------------------------------------- Result 451 ---------------------------------------------\n",
      "[[1 (76%)]] --> [[0 (100%)]]\n",
      "\n",
      "kalau mau indonesia maju [[pemimpin]] itu harus peka sama kebutuhan negara \n",
      "\n",
      "kalau mau indonesia maju [[mandur]] itu harus peka sama kebutuhan negara \n",
      "\n",
      "\n",
      "--------------------------------------------- Result 452 ---------------------------------------------\n",
      "[[0 (100%)]] --> [[[SKIPPED]]]\n",
      "\n",
      "di indonesia lagi banyak bencana \n",
      "\n",
      "\n"
     ]
    },
    {
     "name": "stderr",
     "output_type": "stream",
     "text": [
      "[Succeeded / Failed / Skipped / Total] 340 / 94 / 20 / 454:  91%|█████████ | 454/500 [2:52:51<17:30, 22.84s/it]"
     ]
    },
    {
     "name": "stdout",
     "output_type": "stream",
     "text": [
      "--------------------------------------------- Result 453 ---------------------------------------------\n",
      "[[1 (100%)]] --> [[[FAILED]]]\n",
      "\n",
      "kata nya lagi banyak promo di shopee \n",
      "\n",
      "\n",
      "--------------------------------------------- Result 454 ---------------------------------------------\n",
      "[[2 (100%)]] --> [[[SKIPPED]]]\n",
      "\n",
      "gojek fitur nya makin banyak \n",
      "\n",
      "\n"
     ]
    },
    {
     "name": "stderr",
     "output_type": "stream",
     "text": [
      "[Succeeded / Failed / Skipped / Total] 340 / 95 / 20 / 455:  91%|█████████ | 455/500 [2:53:02<17:06, 22.82s/it]"
     ]
    },
    {
     "name": "stdout",
     "output_type": "stream",
     "text": [
      "--------------------------------------------- Result 455 ---------------------------------------------\n",
      "[[1 (100%)]] --> [[[FAILED]]]\n",
      "\n",
      "prabowo sama sandi maju jadi capres dan cawapres indonesia tahun \n",
      "\n",
      "\n"
     ]
    },
    {
     "name": "stderr",
     "output_type": "stream",
     "text": [
      "[Succeeded / Failed / Skipped / Total] 340 / 96 / 20 / 456:  91%|█████████ | 456/500 [2:53:02<16:41, 22.77s/it]"
     ]
    },
    {
     "name": "stdout",
     "output_type": "stream",
     "text": [
      "--------------------------------------------- Result 456 ---------------------------------------------\n",
      "[[1 (100%)]] --> [[[FAILED]]]\n",
      "\n",
      "jokowi milih dengan ruh amin jadi cawapres nya \n",
      "\n",
      "\n"
     ]
    },
    {
     "name": "stderr",
     "output_type": "stream",
     "text": [
      "[Succeeded / Failed / Skipped / Total] 341 / 96 / 20 / 457:  91%|█████████▏| 457/500 [2:53:07<16:17, 22.73s/it]"
     ]
    },
    {
     "name": "stdout",
     "output_type": "stream",
     "text": [
      "--------------------------------------------- Result 457 ---------------------------------------------\n",
      "[[1 (99%)]] --> [[0 (100%)]]\n",
      "\n",
      "hotel bintang yang ada di bogor [[salah]] satu nya hotel salak \n",
      "\n",
      "hotel bintang yang ada di bogor [[janggal]] satu nya hotel salak \n",
      "\n",
      "\n"
     ]
    },
    {
     "name": "stderr",
     "output_type": "stream",
     "text": [
      "[Succeeded / Failed / Skipped / Total] 342 / 96 / 20 / 458:  92%|█████████▏| 458/500 [2:53:11<15:52, 22.69s/it]"
     ]
    },
    {
     "name": "stdout",
     "output_type": "stream",
     "text": [
      "--------------------------------------------- Result 458 ---------------------------------------------\n",
      "[[1 (100%)]] --> [[0 (97%)]]\n",
      "\n",
      "di bogor itu ada lima mal yang bisa didatangkan [[salah]] satu nya botani square \n",
      "\n",
      "di bogor itu ada lima mal yang bisa didatangkan [[janggal]] satu nya botani square \n",
      "\n",
      "\n"
     ]
    },
    {
     "name": "stderr",
     "output_type": "stream",
     "text": [
      "[Succeeded / Failed / Skipped / Total] 343 / 96 / 20 / 459:  92%|█████████▏| 459/500 [2:53:18<15:28, 22.66s/it]"
     ]
    },
    {
     "name": "stdout",
     "output_type": "stream",
     "text": [
      "--------------------------------------------- Result 459 ---------------------------------------------\n",
      "[[1 (100%)]] --> [[0 (100%)]]\n",
      "\n",
      "sekarang transmart [[buka]] juga di bogor \n",
      "\n",
      "sekarang transmart [[membuyarkan]] juga di bogor \n",
      "\n",
      "\n"
     ]
    },
    {
     "name": "stderr",
     "output_type": "stream",
     "text": [
      "[Succeeded / Failed / Skipped / Total] 344 / 96 / 20 / 460:  92%|█████████▏| 460/500 [2:53:24<15:04, 22.62s/it]"
     ]
    },
    {
     "name": "stdout",
     "output_type": "stream",
     "text": [
      "--------------------------------------------- Result 460 ---------------------------------------------\n",
      "[[1 (100%)]] --> [[2 (73%)]]\n",
      "\n",
      "kata nya di pasteur bakal dibangun transmart yang [[kayak]] di [[buah]] batu itu \n",
      "\n",
      "kata nya di pasteur bakal dibangun transmart yang [[menggemari]] di [[keuntungan]] batu itu \n",
      "\n",
      "\n"
     ]
    },
    {
     "name": "stderr",
     "output_type": "stream",
     "text": [
      "[Succeeded / Failed / Skipped / Total] 345 / 96 / 20 / 461:  92%|█████████▏| 461/500 [2:53:35<14:41, 22.59s/it]"
     ]
    },
    {
     "name": "stdout",
     "output_type": "stream",
     "text": [
      "--------------------------------------------- Result 461 ---------------------------------------------\n",
      "[[0 (100%)]] --> [[2 (100%)]]\n",
      "\n",
      "bogor memang suka macet tiap akhir pekan [[melelahkan]] \n",
      "\n",
      "bogor memang suka macet tiap akhir pekan [[menjemukan]] \n",
      "\n",
      "\n"
     ]
    },
    {
     "name": "stderr",
     "output_type": "stream",
     "text": [
      "[Succeeded / Failed / Skipped / Total] 345 / 97 / 20 / 462:  92%|█████████▏| 462/500 [2:53:43<14:17, 22.56s/it]"
     ]
    },
    {
     "name": "stdout",
     "output_type": "stream",
     "text": [
      "--------------------------------------------- Result 462 ---------------------------------------------\n",
      "[[1 (100%)]] --> [[[FAILED]]]\n",
      "\n",
      "car free hari di jalan sudirman bogor sudah tidak ada \n",
      "\n",
      "\n"
     ]
    },
    {
     "name": "stderr",
     "output_type": "stream",
     "text": [
      "[Succeeded / Failed / Skipped / Total] 346 / 97 / 23 / 466:  93%|█████████▎| 466/500 [2:53:58<12:41, 22.40s/it]"
     ]
    },
    {
     "name": "stdout",
     "output_type": "stream",
     "text": [
      "--------------------------------------------- Result 463 ---------------------------------------------\n",
      "[[1 (96%)]] --> [[0 (100%)]]\n",
      "\n",
      "kalau di hari sabtu sama minggu banyak warga bogor yang lari [[keliling]] kebun raya \n",
      "\n",
      "kalau di hari sabtu sama minggu banyak warga bogor yang lari [[terlingkung]] kebun raya \n",
      "\n",
      "\n",
      "--------------------------------------------- Result 464 ---------------------------------------------\n",
      "[[0 (100%)]] --> [[[SKIPPED]]]\n",
      "\n",
      "di istana bogor itu dipelihara banyak rusa tutul peninggalan penjajah kata nya sih \n",
      "\n",
      "\n",
      "--------------------------------------------- Result 465 ---------------------------------------------\n",
      "[[2 (100%)]] --> [[[SKIPPED]]]\n",
      "\n",
      "kemajuan teknologi di indonesia makin ke sini makin berkembang \n",
      "\n",
      "\n",
      "--------------------------------------------- Result 466 ---------------------------------------------\n",
      "[[0 (57%)]] --> [[[SKIPPED]]]\n",
      "\n",
      "kemampuan memahami bacaan tiap orang itu beda beda ada yang sekali baca sudah paham ada juga yang butuh berkali kali baca dulu baru paham \n",
      "\n",
      "\n"
     ]
    },
    {
     "name": "stderr",
     "output_type": "stream",
     "text": [
      "[Succeeded / Failed / Skipped / Total] 346 / 98 / 23 / 467:  93%|█████████▎| 467/500 [2:53:58<12:17, 22.35s/it]"
     ]
    },
    {
     "name": "stdout",
     "output_type": "stream",
     "text": [
      "--------------------------------------------- Result 467 ---------------------------------------------\n",
      "[[1 (94%)]] --> [[[FAILED]]]\n",
      "\n",
      "bali punya banyak pulau yang bisa dikunjungi \n",
      "\n",
      "\n"
     ]
    },
    {
     "name": "stderr",
     "output_type": "stream",
     "text": [
      "[Succeeded / Failed / Skipped / Total] 347 / 98 / 23 / 468:  94%|█████████▎| 468/500 [2:54:21<11:55, 22.35s/it]"
     ]
    },
    {
     "name": "stdout",
     "output_type": "stream",
     "text": [
      "--------------------------------------------- Result 468 ---------------------------------------------\n",
      "[[1 (55%)]] --> [[2 (100%)]]\n",
      "\n",
      "wortel mengandung vitamin a yang bisa jaga kesehatan [[mata]] \n",
      "\n",
      "wortel mengandung vitamin a yang bisa jaga kesehatan [[punat]] \n",
      "\n",
      "\n"
     ]
    },
    {
     "name": "stderr",
     "output_type": "stream",
     "text": [
      "[Succeeded / Failed / Skipped / Total] 348 / 98 / 24 / 470:  94%|█████████▍| 470/500 [2:54:29<11:08, 22.28s/it]"
     ]
    },
    {
     "name": "stdout",
     "output_type": "stream",
     "text": [
      "--------------------------------------------- Result 469 ---------------------------------------------\n",
      "[[1 (100%)]] --> [[2 (100%)]]\n",
      "\n",
      "jangan [[lupa]] minum air mineral gelas per hari nya \n",
      "\n",
      "jangan [[terbantut]] minum air mineral gelas per hari nya \n",
      "\n",
      "\n",
      "--------------------------------------------- Result 470 ---------------------------------------------\n",
      "[[2 (97%)]] --> [[[SKIPPED]]]\n",
      "\n",
      "sekarang lagi musim durian \n",
      "\n",
      "\n"
     ]
    },
    {
     "name": "stderr",
     "output_type": "stream",
     "text": [
      "[Succeeded / Failed / Skipped / Total] 349 / 98 / 24 / 471:  94%|█████████▍| 471/500 [2:54:30<10:44, 22.23s/it]"
     ]
    },
    {
     "name": "stdout",
     "output_type": "stream",
     "text": [
      "--------------------------------------------- Result 471 ---------------------------------------------\n",
      "[[1 (100%)]] --> [[0 (73%)]]\n",
      "\n",
      "youngle nya setelah berantem sama [[penggemar]] kpop \n",
      "\n",
      "youngle nya setelah berantem sama [[pengkhayal]] kpop \n",
      "\n",
      "\n"
     ]
    },
    {
     "name": "stderr",
     "output_type": "stream",
     "text": [
      "[Succeeded / Failed / Skipped / Total] 349 / 99 / 25 / 473:  95%|█████████▍| 473/500 [2:54:31<09:57, 22.14s/it]"
     ]
    },
    {
     "name": "stdout",
     "output_type": "stream",
     "text": [
      "--------------------------------------------- Result 472 ---------------------------------------------\n",
      "[[1 (100%)]] --> [[[FAILED]]]\n",
      "\n",
      "belakangan ini sudah terjadi dua kali gempa di lombok \n",
      "\n",
      "\n",
      "--------------------------------------------- Result 473 ---------------------------------------------\n",
      "[[0 (91%)]] --> [[[SKIPPED]]]\n",
      "\n",
      "kabar tenggelam nya kami sinar bangun di danau toba sudah tidak pernah terdengar lagi \n",
      "\n",
      "\n"
     ]
    },
    {
     "name": "stderr",
     "output_type": "stream",
     "text": [
      "[Succeeded / Failed / Skipped / Total] 350 / 99 / 25 / 474:  95%|█████████▍| 474/500 [2:55:15<09:36, 22.18s/it]"
     ]
    },
    {
     "name": "stdout",
     "output_type": "stream",
     "text": [
      "--------------------------------------------- Result 474 ---------------------------------------------\n",
      "[[1 (98%)]] --> [[0 (100%)]]\n",
      "\n",
      "jumlah korban tenggelam nya kami [[sinar]] bangun itu kurang lebih an orang \n",
      "\n",
      "jumlah korban tenggelam nya kami [[mencucuh]] bangun itu kurang lebih an orang \n",
      "\n",
      "\n"
     ]
    },
    {
     "name": "stderr",
     "output_type": "stream",
     "text": [
      "[Succeeded / Failed / Skipped / Total] 351 / 99 / 26 / 476:  95%|█████████▌| 476/500 [2:55:33<08:51, 22.13s/it]"
     ]
    },
    {
     "name": "stdout",
     "output_type": "stream",
     "text": [
      "--------------------------------------------- Result 475 ---------------------------------------------\n",
      "[[1 (100%)]] --> [[0 (100%)]]\n",
      "\n",
      "sudah hampir [[orang]] yang [[meninggal]] karena gempa di lombok kemarin \n",
      "\n",
      "sudah hampir [[sebanding]] yang [[hambar]] karena gempa di lombok kemarin \n",
      "\n",
      "\n",
      "--------------------------------------------- Result 476 ---------------------------------------------\n",
      "[[0 (83%)]] --> [[[SKIPPED]]]\n",
      "\n",
      "tukang bubur naik haji sudah stop produksi \n",
      "\n",
      "\n"
     ]
    },
    {
     "name": "stderr",
     "output_type": "stream",
     "text": [
      "[Succeeded / Failed / Skipped / Total] 352 / 99 / 26 / 477:  95%|█████████▌| 477/500 [2:55:44<08:28, 22.11s/it]"
     ]
    },
    {
     "name": "stdout",
     "output_type": "stream",
     "text": [
      "--------------------------------------------- Result 477 ---------------------------------------------\n",
      "[[1 (100%)]] --> [[0 (100%)]]\n",
      "\n",
      "ada satu relawan di lombok yang [[meninggal]] [[dunia]] \n",
      "\n",
      "ada satu relawan di lombok yang [[hambar]] [[lelaki]] \n",
      "\n",
      "\n"
     ]
    },
    {
     "name": "stderr",
     "output_type": "stream",
     "text": [
      "[Succeeded / Failed / Skipped / Total] 353 / 99 / 26 / 478:  96%|█████████▌| 478/500 [2:55:53<08:05, 22.08s/it]"
     ]
    },
    {
     "name": "stdout",
     "output_type": "stream",
     "text": [
      "--------------------------------------------- Result 478 ---------------------------------------------\n",
      "[[2 (100%)]] --> [[0 (100%)]]\n",
      "\n",
      "bikin [[puisi]] bisa bikin [[hati]] yang tadinya banyak masalah jadi lebih [[tenang]] \n",
      "\n",
      "bikin [[syair]] bisa bikin [[pusat]] yang tadinya banyak masalah jadi lebih [[lembam]] \n",
      "\n",
      "\n"
     ]
    },
    {
     "name": "stderr",
     "output_type": "stream",
     "text": [
      "[Succeeded / Failed / Skipped / Total] 354 / 99 / 27 / 480:  96%|█████████▌| 480/500 [2:56:32<07:21, 22.07s/it]"
     ]
    },
    {
     "name": "stdout",
     "output_type": "stream",
     "text": [
      "--------------------------------------------- Result 479 ---------------------------------------------\n",
      "[[1 (99%)]] --> [[0 (100%)]]\n",
      "\n",
      "kalau lapar ya baiknya [[makan]] \n",
      "\n",
      "kalau lapar ya baiknya [[muak]] \n",
      "\n",
      "\n",
      "--------------------------------------------- Result 480 ---------------------------------------------\n",
      "[[0 (100%)]] --> [[[SKIPPED]]]\n",
      "\n",
      "kerja dari pagi sampai pagi lagi itu cuma bakal menyiksa diri sendiri jadi tidak usah berlebihan kalau soal kerjaan \n",
      "\n",
      "\n"
     ]
    },
    {
     "name": "stderr",
     "output_type": "stream",
     "text": [
      "[Succeeded / Failed / Skipped / Total] 355 / 99 / 27 / 481:  96%|█████████▌| 481/500 [2:56:39<06:58, 22.04s/it]"
     ]
    },
    {
     "name": "stdout",
     "output_type": "stream",
     "text": [
      "--------------------------------------------- Result 481 ---------------------------------------------\n",
      "[[1 (100%)]] --> [[0 (100%)]]\n",
      "\n",
      "perempuan yang malang itu sekarang sudah tutup [[usia]] \n",
      "\n",
      "perempuan yang malang itu sekarang sudah tutup [[zaman]] \n",
      "\n",
      "\n"
     ]
    },
    {
     "name": "stderr",
     "output_type": "stream",
     "text": [
      "[Succeeded / Failed / Skipped / Total] 356 / 99 / 27 / 482:  96%|█████████▋| 482/500 [2:56:43<06:35, 22.00s/it]"
     ]
    },
    {
     "name": "stdout",
     "output_type": "stream",
     "text": [
      "--------------------------------------------- Result 482 ---------------------------------------------\n",
      "[[1 (99%)]] --> [[0 (100%)]]\n",
      "\n",
      "[[cerita]] si kancil itu identik dengan kecerdikan seorang kancil menyelesai masalah yang ada di hadapan nya \n",
      "\n",
      "[[bohong]] si kancil itu identik dengan kecerdikan seorang kancil menyelesai masalah yang ada di hadapan nya \n",
      "\n",
      "\n"
     ]
    },
    {
     "name": "stderr",
     "output_type": "stream",
     "text": [
      "[Succeeded / Failed / Skipped / Total] 357 / 99 / 27 / 483:  97%|█████████▋| 483/500 [2:56:49<06:13, 21.96s/it]"
     ]
    },
    {
     "name": "stdout",
     "output_type": "stream",
     "text": [
      "--------------------------------------------- Result 483 ---------------------------------------------\n",
      "[[2 (100%)]] --> [[0 (99%)]]\n",
      "\n",
      "kalau mau beli obat obatan datang saja ke kimia farma karena di sana [[lengkap]] dan [[harga]] terjangkau \n",
      "\n",
      "kalau mau beli obat obatan datang saja ke kimia farma karena di sana [[kafah]] dan [[pengorbanan]] terjangkau \n",
      "\n",
      "\n"
     ]
    },
    {
     "name": "stderr",
     "output_type": "stream",
     "text": [
      "[Succeeded / Failed / Skipped / Total] 358 / 99 / 27 / 484:  97%|█████████▋| 484/500 [2:56:58<05:51, 21.94s/it]"
     ]
    },
    {
     "name": "stdout",
     "output_type": "stream",
     "text": [
      "--------------------------------------------- Result 484 ---------------------------------------------\n",
      "[[1 (100%)]] --> [[0 (100%)]]\n",
      "\n",
      "buah mangga yang kemarin gue [[lihat]] di pohon kayak nya sudah dimakan sama kelelawar \n",
      "\n",
      "buah mangga yang kemarin gue [[lagak]] di pohon kayak nya sudah dimakan sama kelelawar \n",
      "\n",
      "\n"
     ]
    },
    {
     "name": "stderr",
     "output_type": "stream",
     "text": [
      "[Succeeded / Failed / Skipped / Total] 359 / 99 / 29 / 487:  97%|█████████▋| 487/500 [2:57:06<04:43, 21.82s/it]"
     ]
    },
    {
     "name": "stdout",
     "output_type": "stream",
     "text": [
      "--------------------------------------------- Result 485 ---------------------------------------------\n",
      "[[2 (99%)]] --> [[1 (100%)]]\n",
      "\n",
      "semua perempuan [[suka]] dikasih bunga atau puisi sama pacar nya \n",
      "\n",
      "semua perempuan [[persetujuan]] dikasih bunga atau puisi sama pacar nya \n",
      "\n",
      "\n",
      "--------------------------------------------- Result 486 ---------------------------------------------\n",
      "[[2 (100%)]] --> [[[SKIPPED]]]\n",
      "\n",
      "tidur yang cukup tiap hari nya bisa bikin badan segar \n",
      "\n",
      "\n",
      "--------------------------------------------- Result 487 ---------------------------------------------\n",
      "[[2 (99%)]] --> [[[SKIPPED]]]\n",
      "\n",
      "baiknya orang yang dikasih kekuasaan di indonesia itu adalah orang yang paling tahu apa yang dibutuhkan sama rakyat \n",
      "\n",
      "\n"
     ]
    },
    {
     "name": "stderr",
     "output_type": "stream",
     "text": [
      "[Succeeded / Failed / Skipped / Total] 360 / 99 / 29 / 488:  98%|█████████▊| 488/500 [2:57:25<04:21, 21.81s/it]"
     ]
    },
    {
     "name": "stdout",
     "output_type": "stream",
     "text": [
      "--------------------------------------------- Result 488 ---------------------------------------------\n",
      "[[1 (100%)]] --> [[0 (100%)]]\n",
      "\n",
      "sandiaga uno [[salah]] satu [[orang]] terkaya di indonesia \n",
      "\n",
      "sandiaga uno [[janggal]] satu [[budak]] terkaya di indonesia \n",
      "\n",
      "\n"
     ]
    },
    {
     "name": "stderr",
     "output_type": "stream",
     "text": [
      "[Succeeded / Failed / Skipped / Total] 361 / 99 / 29 / 489:  98%|█████████▊| 489/500 [2:57:49<04:00, 21.82s/it]"
     ]
    },
    {
     "name": "stdout",
     "output_type": "stream",
     "text": [
      "--------------------------------------------- Result 489 ---------------------------------------------\n",
      "[[2 (100%)]] --> [[1 (59%)]]\n",
      "\n",
      "di bandung banyak tempat yang bisa didatangkan buat wisata sama [[keluarga]] yang tempat nya [[bagus]] [[bagus]] \n",
      "\n",
      "di bandung banyak tempat yang bisa didatangkan buat wisata sama [[kelompok]] yang tempat nya [[bum]] [[syahda]] \n",
      "\n",
      "\n"
     ]
    },
    {
     "name": "stderr",
     "output_type": "stream",
     "text": [
      "[Succeeded / Failed / Skipped / Total] 362 / 99 / 31 / 492:  98%|█████████▊| 492/500 [2:58:02<02:53, 21.71s/it]"
     ]
    },
    {
     "name": "stdout",
     "output_type": "stream",
     "text": [
      "--------------------------------------------- Result 490 ---------------------------------------------\n",
      "[[2 (100%)]] --> [[0 (100%)]]\n",
      "\n",
      "indonesia punya banyak banget suku yang beragam budaya nya dan itu mencerminkan kalau negara kita sangat [[kaya]] \n",
      "\n",
      "indonesia punya banyak banget suku yang beragam budaya nya dan itu mencerminkan kalau negara kita sangat [[lem]] \n",
      "\n",
      "\n",
      "--------------------------------------------- Result 491 ---------------------------------------------\n",
      "[[0 (73%)]] --> [[[SKIPPED]]]\n",
      "\n",
      "kalau jadi pemimpin itu harus bisa adil \n",
      "\n",
      "\n",
      "--------------------------------------------- Result 492 ---------------------------------------------\n",
      "[[0 (100%)]] --> [[[SKIPPED]]]\n",
      "\n",
      "jadi pemimpin di indonesia itu banyak tantangan nya \n",
      "\n",
      "\n"
     ]
    },
    {
     "name": "stderr",
     "output_type": "stream",
     "text": [
      "[Succeeded / Failed / Skipped / Total] 363 / 99 / 31 / 493:  99%|█████████▊| 493/500 [2:58:07<02:31, 21.68s/it]"
     ]
    },
    {
     "name": "stdout",
     "output_type": "stream",
     "text": [
      "--------------------------------------------- Result 493 ---------------------------------------------\n",
      "[[1 (100%)]] --> [[0 (100%)]]\n",
      "\n",
      "[[salah]] satu tempat yang banyak didatangkan di bogor itu kebun raya bogor \n",
      "\n",
      "[[dusta]] satu tempat yang banyak didatangkan di bogor itu kebun raya bogor \n",
      "\n",
      "\n"
     ]
    },
    {
     "name": "stderr",
     "output_type": "stream",
     "text": [
      "[Succeeded / Failed / Skipped / Total] 364 / 99 / 31 / 494:  99%|█████████▉| 494/500 [2:58:49<02:10, 21.72s/it]"
     ]
    },
    {
     "name": "stdout",
     "output_type": "stream",
     "text": [
      "--------------------------------------------- Result 494 ---------------------------------------------\n",
      "[[1 (99%)]] --> [[2 (99%)]]\n",
      "\n",
      "di sekitar istana bogor kita bisa [[kasih]] makan rusa langsung kalau rusa rusa nya lagi dikeluarkan \n",
      "\n",
      "di sekitar istana bogor kita bisa [[suka]] makan rusa langsung kalau rusa rusa nya lagi dikeluarkan \n",
      "\n",
      "\n"
     ]
    },
    {
     "name": "stderr",
     "output_type": "stream",
     "text": [
      "[Succeeded / Failed / Skipped / Total] 364 / 100 / 31 / 495:  99%|█████████▉| 495/500 [2:58:50<01:48, 21.68s/it]"
     ]
    },
    {
     "name": "stdout",
     "output_type": "stream",
     "text": [
      "--------------------------------------------- Result 495 ---------------------------------------------\n",
      "[[1 (100%)]] --> [[[FAILED]]]\n",
      "\n",
      "kemarin aku setelah nyobain kopi nya warung kopi nako \n",
      "\n",
      "\n"
     ]
    },
    {
     "name": "stderr",
     "output_type": "stream",
     "text": [
      "[Succeeded / Failed / Skipped / Total] 365 / 100 / 31 / 496:  99%|█████████▉| 496/500 [2:58:52<01:26, 21.64s/it]"
     ]
    },
    {
     "name": "stdout",
     "output_type": "stream",
     "text": [
      "--------------------------------------------- Result 496 ---------------------------------------------\n",
      "[[1 (100%)]] --> [[2 (99%)]]\n",
      "\n",
      "kata nya [[tidur]] yang baik itu [[minimal]] enam jam sehari \n",
      "\n",
      "kata nya [[lelap]] yang baik itu [[sedikit-dikitnya]] enam jam sehari \n",
      "\n",
      "\n"
     ]
    },
    {
     "name": "stderr",
     "output_type": "stream",
     "text": [
      "[Succeeded / Failed / Skipped / Total] 365 / 101 / 31 / 497:  99%|█████████▉| 497/500 [2:58:52<01:04, 21.60s/it]"
     ]
    },
    {
     "name": "stdout",
     "output_type": "stream",
     "text": [
      "--------------------------------------------- Result 497 ---------------------------------------------\n",
      "[[1 (100%)]] --> [[[FAILED]]]\n",
      "\n",
      "indonesia itu ada di benua asia \n",
      "\n",
      "\n"
     ]
    },
    {
     "name": "stderr",
     "output_type": "stream",
     "text": [
      "[Succeeded / Failed / Skipped / Total] 366 / 101 / 31 / 498: 100%|█████████▉| 498/500 [2:59:05<00:43, 21.58s/it]"
     ]
    },
    {
     "name": "stdout",
     "output_type": "stream",
     "text": [
      "--------------------------------------------- Result 498 ---------------------------------------------\n",
      "[[1 (67%)]] --> [[2 (100%)]]\n",
      "\n",
      "salah satu kegemaran anak remaja indonesia sekarang adalah [[mendengar]] kpop \n",
      "\n",
      "salah satu kegemaran anak remaja indonesia sekarang adalah [[sabar]] kpop \n",
      "\n",
      "\n"
     ]
    },
    {
     "name": "stderr",
     "output_type": "stream",
     "text": [
      "[Succeeded / Failed / Skipped / Total] 367 / 101 / 31 / 499: 100%|█████████▉| 499/500 [2:59:10<00:21, 21.54s/it]"
     ]
    },
    {
     "name": "stdout",
     "output_type": "stream",
     "text": [
      "--------------------------------------------- Result 499 ---------------------------------------------\n",
      "[[2 (100%)]] --> [[0 (93%)]]\n",
      "\n",
      "melihat warna [[hijau]] bisa bikin [[mata]] jadi lebih santai \n",
      "\n",
      "melihat warna [[mentah]] bisa bikin [[angka]] jadi lebih santai \n",
      "\n",
      "\n"
     ]
    },
    {
     "name": "stderr",
     "output_type": "stream",
     "text": [
      "[Succeeded / Failed / Skipped / Total] 368 / 101 / 31 / 500: 100%|██████████| 500/500 [2:59:17<00:00, 21.51s/it]"
     ]
    },
    {
     "name": "stdout",
     "output_type": "stream",
     "text": [
      "--------------------------------------------- Result 500 ---------------------------------------------\n",
      "[[1 (86%)]] --> [[0 (99%)]]\n",
      "\n",
      "bondan winarno yang suka bilang maknyus sekarang sudah [[tiada]] \n",
      "\n",
      "bondan winarno yang suka bilang maknyus sekarang sudah [[tidak]] \n",
      "\n",
      "\n",
      "\n",
      "+-------------------------------+--------+\n",
      "| Attack Results                |        |\n",
      "+-------------------------------+--------+\n",
      "| Number of successful attacks: | 368    |\n",
      "| Number of failed attacks:     | 101    |\n",
      "| Number of skipped attacks:    | 31     |\n",
      "| Original accuracy:            | 93.8%  |\n",
      "| Accuracy under attack:        | 20.2%  |\n",
      "| Attack success rate:          | 78.46% |\n",
      "| Average perturbed word %:     | 13.38% |\n",
      "| Average num. words per input: | 21.57  |\n",
      "| Avg num queries:              | 325.67 |\n",
      "+-------------------------------+--------+\n"
     ]
    },
    {
     "name": "stderr",
     "output_type": "stream",
     "text": [
      "\n"
     ]
    }
   ],
   "source": [
    "import logging\n",
    "from textattack.datasets import Dataset\n",
    "\n",
    "logging.basicConfig(filename=\"textattack_output.log\", level=logging.INFO)\n",
    "\n",
    "# Import dataset yang akan diserang\n",
    "dataset = Dataset(custom_data) #HuggingFaceDataset(\"tyqiangz/multilingual-sentiments\", \"indonesian\", \"test\")\n",
    "# Inisilisasi serangan\n",
    "attack = PWWSham2024INDO.build(model_wrapper=model_wrapper)\n",
    "# Inisialisasi Detail serangan\n",
    "attackargs = AttackArgs(num_examples=500, log_to_csv=\"attack_results_pretrained.csv\")\n",
    "attacker = Attacker(attack, dataset, attack_args=attackargs)\n",
    "# Penyerangan Dataset\n",
    "attack_results = attacker.attack_dataset()\n",
    "\n",
    "for result in attack_results:\n",
    "    logging.info(result)"
   ]
  },
  {
   "cell_type": "code",
   "execution_count": 27,
   "metadata": {},
   "outputs": [
    {
     "name": "stderr",
     "output_type": "stream",
     "text": [
      "textattack: Logging to CSV at path results.csv\n",
      "C:\\Users\\Ilham AM\\AppData\\Local\\Temp\\ipykernel_33068\\2580654721.py:14: DeprecationWarning: Importing display from IPython.core.display is deprecated since IPython 7.14, please import from IPython display\n",
      "  from IPython.core.display import display, HTML\n"
     ]
    },
    {
     "data": {
      "text/html": [
       "<table border=\"1\" class=\"dataframe\">\n",
       "  <thead>\n",
       "    <tr style=\"text-align: right;\">\n",
       "      <th></th>\n",
       "      <th>original_text</th>\n",
       "      <th>perturbed_text</th>\n",
       "    </tr>\n",
       "  </thead>\n",
       "  <tbody>\n",
       "    <tr>\n",
       "      <th>0</th>\n",
       "      <td>kemarin gue datang ke tempat makan baru yang ada di dago atas gue kira makanan nya enak karena harga nya <font color = red>mahal</font> ternyata boro boro tidak mau lagi deh ke tempat itu sudah mana tempat nya juga tidak <font color = red>nyaman</font> banget terlalu <font color = red>sempit</font></td>\n",
       "      <td>kemarin gue datang ke tempat makan baru yang ada di dago atas gue kira makanan nya enak karena harga nya <font color = blue>mewah</font> ternyata boro boro tidak mau lagi deh ke tempat itu sudah mana tempat nya juga tidak <font color = blue>romantik</font> banget terlalu <font color = blue>kencang</font></td>\n",
       "    </tr>\n",
       "    <tr>\n",
       "      <th>1</th>\n",
       "      <td><font color = red>kayak</font> nya sih gue tidak akan mau balik lagi ke tempat itu <font color = red>gila</font> ya gue enggak ngerti kenapa tempat nya dibiarkan panas sudah begitu <font color = red>kotor</font> pula kalau panas kepanasan kalau hujan kehujanan harus nya sih tidak ada restoran yang kayak gitu tidak tahu deh apa yang mereka jual</td>\n",
       "      <td><font color = blue>menyenangi</font> nya sih gue tidak akan mau balik lagi ke tempat itu <font color = blue>kegemaran</font> ya gue enggak ngerti kenapa tempat nya dibiarkan panas sudah begitu <font color = blue>menyeramkan</font> pula kalau panas kepanasan kalau hujan kehujanan harus nya sih tidak ada restoran yang kayak gitu tidak tahu deh apa yang mereka jual</td>\n",
       "    </tr>\n",
       "    <tr>\n",
       "      <th>2</th>\n",
       "      <td>ini pertama kalinya gua ke bank buat ngurusin pembuatan rekening baru nama nya juga orang pertama kali ya baru ke bank gua <font color = red>kena</font> semprot kelihatan banget pelayanan pelanggan nya tidak <font color = red>suka</font> gua banyak bertanya amit amit padahal itu kan tugas mereka buat melayangkan gua</td>\n",
       "      <td>ini pertama kalinya gua ke bank buat ngurusin pembuatan rekening baru nama nya juga orang pertama kali ya baru ke bank gua <font color = blue>berhasil</font> semprot kelihatan banget pelayanan pelanggan nya tidak <font color = blue>menyenangi</font> gua banyak bertanya amit amit padahal itu kan tugas mereka buat melayangkan gua</td>\n",
       "    </tr>\n",
       "    <tr>\n",
       "      <th>3</th>\n",
       "      <td>pelayanan di hotel salak bogor tidak sebagus yang gue membayangkan fasilitas nya juga biasa banget padahal kata nya hotel bintang lima hm <font color = red>kecewa</font> <font color = red>kayak</font> nya sih nanti nanti tidak mau ke sana lagi</td>\n",
       "      <td>pelayanan di hotel salak bogor tidak sebagus yang gue membayangkan fasilitas nya juga biasa banget padahal kata nya hotel bintang lima hm <font color = blue>menjelajahi</font> <font color = blue>suka</font> nya sih nanti nanti tidak mau ke sana lagi</td>\n",
       "    </tr>\n",
       "    <tr>\n",
       "      <th>4</th>\n",
       "      <td>ada apa dengan young lex kenapa dia harus mengirim hal hal tidak berfaedah <font color = red>kayak</font> gitu <font color = red>merusak</font> <font color = red>moral</font> banget sumpah</td>\n",
       "      <td>ada apa dengan young lex kenapa dia harus mengirim hal hal tidak berfaedah <font color = blue>menggemari</font> gitu <font color = blue>menggeledah</font> <font color = blue>semangat</font> banget sumpah</td>\n",
       "    </tr>\n",
       "    <tr>\n",
       "      <th>5</th>\n",
       "      <td>saya itu memesan tiket dot com sudah dibayar email belum ada balasan bukti pembayaran sudah saya kirim by email saya masukkan data balasan nya pemesanan kadaluarsa terus akhirnya saya beli lagi langsung ke loket saya minta uang kembali masih menunggu hari ambil saja uang tiket nya tidak apa apa <font color = red>sedih</font> saya download aplikasi ini</td>\n",
       "      <td>saya itu memesan tiket dot com sudah dibayar email belum ada balasan bukti pembayaran sudah saya kirim by email saya masukkan data balasan nya pemesanan kadaluarsa terus akhirnya saya beli lagi langsung ke loket saya minta uang kembali masih menunggu hari ambil saja uang tiket nya tidak apa apa <font color = blue>terharu</font> saya download aplikasi ini</td>\n",
       "    </tr>\n",
       "    <tr>\n",
       "      <th>6</th>\n",
       "      <td>saya sudah bayar tetapi etiket tidak dikirim malah kadaluwarsa diminta struk <font color = red>pembayaran</font> saya sudah tidak punya hanya sms banking tetapi tetap saja tidak digubris dari <font color = red>pelayanan</font> pelanggan nya sudah email dan telepon berkali berkali tetap tidak ada <font color = red>hasil</font> sangat <font color = red>mengecewakan</font></td>\n",
       "      <td>saya sudah bayar tetapi etiket tidak dikirim malah kadaluwarsa diminta struk <font color = blue>penyelesaian</font> saya sudah tidak punya hanya sms banking tetapi tetap saja tidak digubris dari <font color = blue>layanan</font> pelanggan nya sudah email dan telepon berkali berkali tetap tidak ada <font color = blue>pulangan</font> sangat <font color = blue>menggiurkan</font></td>\n",
       "    </tr>\n",
       "    <tr>\n",
       "      <th>7</th>\n",
       "      <td>saya mesan tiket tapi tidak dikonformasi dan proses pengembalian uang yang tidak jelas dan belum ada sampai sekarang pelayanan nya yang sangat <font color = red>buruk</font> dan saran saya jangan pesan di sini sangat <font color = red>mengecewakan</font></td>\n",
       "      <td>saya mesan tiket tapi tidak dikonformasi dan proses pengembalian uang yang tidak jelas dan belum ada sampai sekarang pelayanan nya yang sangat <font color = blue>murah</font> dan saran saya jangan pesan di sini sangat <font color = blue>mengentuti</font></td>\n",
       "    </tr>\n",
       "    <tr>\n",
       "      <th>8</th>\n",
       "      <td>sangat <font color = red>kecewa</font> dengan aplikasi ini sudah ditransfer tetapi etiket tidak dikirim saya coba telepon call centre seharian tetapi sibuk terus call genre nya mending pakai traveloka adalah untuk pesanan selanjutnya</td>\n",
       "      <td>sangat <font color = blue>menjelajahi</font> dengan aplikasi ini sudah ditransfer tetapi etiket tidak dikirim saya coba telepon call centre seharian tetapi sibuk terus call genre nya mending pakai traveloka adalah untuk pesanan selanjutnya</td>\n",
       "    </tr>\n",
       "    <tr>\n",
       "      <th>9</th>\n",
       "      <td>melihat komen nya <font color = red>negatif</font> jadi pikir pikir buat mencari tiket kereta di sini mending aplikasi yang lain saja yang sudah terbukti bagus bertahun bertahun</td>\n",
       "      <td>melihat komen nya <font color = blue>nafi</font> jadi pikir pikir buat mencari tiket kereta di sini mending aplikasi yang lain saja yang sudah terbukti bagus bertahun bertahun</td>\n",
       "    </tr>\n",
       "    <tr>\n",
       "      <th>10</th>\n",
       "      <td>kata nya dapat promo ribu tapi setelah di bayar di atm nya ternyata harga normal sudah saya kirim email tapi tidak ada balasan <font color = red>mengecewakan</font></td>\n",
       "      <td>kata nya dapat promo ribu tapi setelah di bayar di atm nya ternyata harga normal sudah saya kirim email tapi tidak ada balasan <font color = green>menghalang</font></td>\n",
       "    </tr>\n",
       "    <tr>\n",
       "      <th>11</th>\n",
       "      <td>saya sudah transfer ratusan ribu dan <font color = red>sesuai</font> nominal transfer tapi tiket belum <font color = red>muncul</font> juga harus diwaspadai ini <font color = red>aplikasi</font> ini <font color = red>bahaya</font></td>\n",
       "      <td>saya sudah transfer ratusan ribu dan <font color = green>berkenaan</font> nominal transfer tapi tiket belum <font color = green>berekor</font> juga harus diwaspadai ini <font color = green>penggunaan</font> ini <font color = green>risiko</font></td>\n",
       "    </tr>\n",
       "    <tr>\n",
       "      <th>12</th>\n",
       "      <td>pelayanan pelanggan tidak respon komentar disuruh email email saya tidak ditanggapi sudah beberapa hari yang lalu sampai sekarang tidak ada respon <font color = red>menyusahkan</font> saja</td>\n",
       "      <td>pelayanan pelanggan tidak respon komentar disuruh email email saya tidak ditanggapi sudah beberapa hari yang lalu sampai sekarang tidak ada respon <font color = blue>menjemukan</font> saja</td>\n",
       "    </tr>\n",
       "    <tr>\n",
       "      <th>13</th>\n",
       "      <td><font color = red>tolong</font> untuk pelayana nya diperjelas <font color = red>ya</font> sudah <font color = red>pesan</font> tiket sudah dibayar tetapi dengan <font color = red>alasan</font> bank bermasalah dan tidak ada <font color = red>pertanggungjawaban</font> untuk memulangkan uang saja harus sampai ditelpon lagi dikirim by email untuk komponen tidak direspon <font color = red>kecewa</font></td>\n",
       "      <td><font color = blue>membantu</font> untuk pelayana nya diperjelas <font color = blue>tentu</font> sudah <font color = blue>menceritakan</font> tiket sudah dibayar tetapi dengan <font color = blue>pernyataan</font> bank bermasalah dan tidak ada <font color = blue>kekurangan</font> untuk memulangkan uang saja harus sampai ditelpon lagi dikirim by email untuk komponen tidak direspon <font color = blue>mengarungi</font></td>\n",
       "    </tr>\n",
       "    <tr>\n",
       "      <th>14</th>\n",
       "      <td>luar biasa <font color = red>kecewa</font> sangat dengan aplikasi ini saya sudah hubungi pusat panggilan untuk cek pemesanan saya karena saya sudah bayar dan tidak muncul e tiket nya bahkan saya sudah kirim bukti transaksi nya ke e mail hingga saat ini tidak ada pihak pusat panggilan yang menghubungi <font color = red>kecewa</font></td>\n",
       "      <td>luar biasa <font color = blue>menjelajah</font> sangat dengan aplikasi ini saya sudah hubungi pusat panggilan untuk cek pemesanan saya karena saya sudah bayar dan tidak muncul e tiket nya bahkan saya sudah kirim bukti transaksi nya ke e mail hingga saat ini tidak ada pihak pusat panggilan yang menghubungi <font color = blue>menghentikan</font></td>\n",
       "    </tr>\n",
       "    <tr>\n",
       "      <th>15</th>\n",
       "      <td>sangat <font color = red>mengecewakan</font> saya <font color = red>pesan</font> tiket dan sudah saya bayar padahal waktu itu belum kadaluarsa pas saya transfer tapi sampai sekarang belum dikasih kode bokong nya malah dikasih notifikasi sudah kadaluarsa lalu <font color = red>uang</font> nya <font color = red>lari</font> nya ke mana pas saya hubungi lewat email hanya ditanggapi sekali saja</td>\n",
       "      <td>sangat <font color = blue>menjelajahi</font> saya <font color = blue>menceritakan</font> tiket dan sudah saya bayar padahal waktu itu belum kadaluarsa pas saya transfer tapi sampai sekarang belum dikasih kode bokong nya malah dikasih notifikasi sudah kadaluarsa lalu <font color = blue>wang</font> nya <font color = blue>pendakian</font> nya ke mana pas saya hubungi lewat email hanya ditanggapi sekali saja</td>\n",
       "    </tr>\n",
       "    <tr>\n",
       "      <th>16</th>\n",
       "      <td>saya <font color = red>pesan</font> tiket pesawat dan sudah melakukan pembayaran <font color = red>sesuai</font> <font color = red>instruksi</font> namun sudah lebih dari jam belum ada <font color = red>terbit</font> e tiket malahan status pesanan saya malah jadi pemesanan kadaluarsa komplain sudah saya lakukan melalui email dan telpon pelayanan <font color = red>pelanggan</font> sampai sekarang belum ada <font color = red>penyelesaian</font> yang berarti ini sangat <font color = red>merugikan</font></td>\n",
       "      <td>saya <font color = green>mengarahkan</font> tiket pesawat dan sudah melakukan pembayaran <font color = green>serupa</font> <font color = green>amaran</font> namun sudah lebih dari jam belum ada <font color = green>bermula</font> e tiket malahan status pesanan saya malah jadi pemesanan kadaluarsa komplain sudah saya lakukan melalui email dan telpon pelayanan <font color = green>penyumbang</font> sampai sekarang belum ada <font color = green>perjanjian</font> yang berarti ini sangat <font color = green>berharga</font></td>\n",
       "    </tr>\n",
       "    <tr>\n",
       "      <th>17</th>\n",
       "      <td>sangat <font color = red>mengecewakan</font> di mana kalau pesan tiket sudah dibayar sudah dikasih bukti transfer itu langsung dikasih nomor e tiket nya ini kok tidak ada konfirmasi apa sudah mendekati hari h tiba pesanan kadaluarsa pelayanan sangat <font color = red>buruk</font> pelayanan pelanggan nya juga tidak <font color = red>sopan</font> segera kembalikan uang pengembalian dana tiket saya</td>\n",
       "      <td>sangat <font color = blue>menjelajahi</font> di mana kalau pesan tiket sudah dibayar sudah dikasih bukti transfer itu langsung dikasih nomor e tiket nya ini kok tidak ada konfirmasi apa sudah mendekati hari h tiba pesanan kadaluarsa pelayanan sangat <font color = blue>murah</font> pelayanan pelanggan nya juga tidak <font color = blue>segan</font> segera kembalikan uang pengembalian dana tiket saya</td>\n",
       "    </tr>\n",
       "    <tr>\n",
       "      <th>18</th>\n",
       "      <td>saya <font color = red>hilang</font> juta dari apa ini karena terjadi eror saat melanjutkan pembayaran yang terpending menyebabkan isi isi data penumpang dan terjadi kesalahan flight <font color = red>kecewa</font> sekali dengan fasilitas yang ada</td>\n",
       "      <td>saya <font color = blue>rindu</font> juta dari apa ini karena terjadi eror saat melanjutkan pembayaran yang terpending menyebabkan isi isi data penumpang dan terjadi kesalahan flight <font color = blue>menjelajah</font> sekali dengan fasilitas yang ada</td>\n",
       "    </tr>\n",
       "    <tr>\n",
       "      <th>19</th>\n",
       "      <td>sudah melakukan pembayaran tetapi tiket ada bukti transfer sudah dilampirkan ke email dengan alasan uang belum diterima ini niat jualan apa mau mengambil uang orang tidak lagi lagi beli tiket di tiket com sumpah asli <font color = red>tipu</font> dan produk <font color = red>sampah</font></td>\n",
       "      <td>sudah melakukan pembayaran tetapi tiket ada bukti transfer sudah dilampirkan ke email dengan alasan uang belum diterima ini niat jualan apa mau mengambil uang orang tidak lagi lagi beli tiket di tiket com sumpah asli <font color = blue>memperdaya</font> dan produk <font color = blue>serasah</font></td>\n",
       "    </tr>\n",
       "    <tr>\n",
       "      <th>20</th>\n",
       "      <td>saya baru saja mengalami pesan tiket lewat ini aplikasi <font color = red>penipu</font> sudah transfer uang tapi belum ada balasan dan tidak ada respon jangan pernah <font color = red>pakai</font> <font color = red>aplikasi</font> tak nii</td>\n",
       "      <td>saya baru saja mengalami pesan tiket lewat ini aplikasi <font color = blue>perantau</font> sudah transfer uang tapi belum ada balasan dan tidak ada respon jangan pernah <font color = blue>melindangkan</font> <font color = blue>ketekunan</font> tak nii</td>\n",
       "    </tr>\n",
       "    <tr>\n",
       "      <th>21</th>\n",
       "      <td>biasanya pesan tiket pesawat lancar lancar saja terakhir beli tiket kereta eksekutif untuk orang sudah ditransfer sebelum waktu berakhir tetapi cek order pemesanan kadaluarsa <font color = red>menyebalkan</font></td>\n",
       "      <td>biasanya pesan tiket pesawat lancar lancar saja terakhir beli tiket kereta eksekutif untuk orang sudah ditransfer sebelum waktu berakhir tetapi cek order pemesanan kadaluarsa <font color = green>keluhan</font></td>\n",
       "    </tr>\n",
       "    <tr>\n",
       "      <th>22</th>\n",
       "      <td><font color = red>proses</font> <font color = red>pengembalian</font> dana lama sudah dibayar tapi kode pesan tidak dapat <font color = red>pelayanan</font> kurang telepon ke <font color = red>pelayanan</font> pelanggan <font color = red>pakai</font> pulsa yang banyak tidak mau <font color = red>pesan</font> lagi di sini</td>\n",
       "      <td><font color = green>cara</font> <font color = green>pembaruan</font> dana lama sudah dibayar tapi kode pesan tidak dapat <font color = green>layanan</font> kurang telepon ke <font color = green>layanan</font> pelanggan <font color = green>mengandaikan</font> pulsa yang banyak tidak mau <font color = green>sebut</font> lagi di sini</td>\n",
       "    </tr>\n",
       "    <tr>\n",
       "      <th>23</th>\n",
       "      <td>saya sudah berhasil transaksi sesuai nominal tagihan dan sampai saat ini belum dapat etiket ini pelayanan yang sangat <font color = red>buruk</font> dan menjengkelkan sudah email beberapa kali tapi tidak ada respon pelayanan pelanggan nya yang super duper <font color = red>lemah</font> otak kalau kode pesan tidak juga dikirim pokokanyak duit saya harus kembali</td>\n",
       "      <td>saya sudah berhasil transaksi sesuai nominal tagihan dan sampai saat ini belum dapat etiket ini pelayanan yang sangat <font color = blue>werda</font> dan menjengkelkan sudah email beberapa kali tapi tidak ada respon pelayanan pelanggan nya yang super duper <font color = blue>terbantut</font> otak kalau kode pesan tidak juga dikirim pokokanyak duit saya harus kembali</td>\n",
       "    </tr>\n",
       "    <tr>\n",
       "      <th>24</th>\n",
       "      <td><font color = red>menyesal</font> pesan tiket pesawat di tiket com sudah di transfer dibilang transaksi kedaluarsa pulsa <font color = red>habis</font> banyak untuk telpon pelayanan pelanggan</td>\n",
       "      <td><font color = blue>insaf</font> pesan tiket pesawat di tiket com sudah di transfer dibilang transaksi kedaluarsa pulsa <font color = blue>menyudahkan</font> banyak untuk telpon pelayanan pelanggan</td>\n",
       "    </tr>\n",
       "    <tr>\n",
       "      <th>25</th>\n",
       "      <td>sangat <font color = red>kecewa</font> dengan pelayanan nya saya sudah transfer tapi sampai sekarang belum ada konfirmasi padahal sudah kirim bukti transfer dan sudah telpon ke cs nya</td>\n",
       "      <td>sangat <font color = blue>menjelajah</font> dengan pelayanan nya saya sudah transfer tapi sampai sekarang belum ada konfirmasi padahal sudah kirim bukti transfer dan sudah telpon ke cs nya</td>\n",
       "    </tr>\n",
       "    <tr>\n",
       "      <th>26</th>\n",
       "      <td>saya <font color = red>kecewa</font> sama aplikasi ini padahal <font color = red>cek</font> in nya <font color = red>jam</font> malahan saya ketinggal pesawat kembalikan <font color = red>uang</font> saya</td>\n",
       "      <td>saya <font color = green>menjelajah</font> sama aplikasi ini padahal <font color = green>audit</font> in nya <font color = green>ketika</font> malahan saya ketinggal pesawat kembalikan <font color = green>penukar</font> saya</td>\n",
       "    </tr>\n",
       "    <tr>\n",
       "      <th>27</th>\n",
       "      <td>tiket kadaluarsa padahal sudah bayar <font color = red>kacau</font> <font color = red>mengganggu</font> waktu dan <font color = red>rencana</font> saya <font color = red>sistem</font> nya tidak <font color = red>bagus</font> pelayanan <font color = red>pelanggan</font> nya tidak professional kalau tidak mau <font color = red>kerja</font> <font color = red>suruh</font> jangan <font color = red>kerja</font></td>\n",
       "      <td>tiket kadaluarsa padahal sudah bayar <font color = blue>menggairahkan</font> <font color = blue>menigas</font> waktu dan <font color = blue>pemerintahan</font> saya <font color = blue>peranti</font> nya tidak <font color = blue>meruak</font> pelayanan <font color = blue>tajaan</font> nya tidak professional kalau tidak mau <font color = blue>membuat</font> <font color = blue>membuat</font> jangan <font color = blue>melangsungkan</font></td>\n",
       "    </tr>\n",
       "    <tr>\n",
       "      <th>28</th>\n",
       "      <td>maaf ya saya uninstall saya <font color = red>kecewa</font> karena sudah melakukan pembayaran tetapi tidak dikonfirmasi saya sudah komplain via email tetapi respon nya sangat <font color = red>lambat</font></td>\n",
       "      <td>maaf ya saya uninstall saya <font color = blue>mogok</font> karena sudah melakukan pembayaran tetapi tidak dikonfirmasi saya sudah komplain via email tetapi respon nya sangat <font color = blue>kasip</font></td>\n",
       "    </tr>\n",
       "    <tr>\n",
       "      <th>29</th>\n",
       "      <td>serem melihat <font color = red>pengalaman</font> yang sudah <font color = red>pesan</font> di sini <font color = red>mending</font> uninstal saja <font color = red>aplikasi</font> abal abal ini <font color = red>mending</font> <font color = red>pakai</font> <font color = red>burung</font> <font color = red>biru</font> saja jelas</td>\n",
       "      <td>serem melihat <font color = blue>berumah</font> yang sudah <font color = blue>menyarankan</font> di sini <font color = blue>khair</font> uninstal saja <font color = blue>pemetaan</font> abal abal ini <font color = blue>mulia</font> <font color = blue>melindangkan</font> <font color = blue>unggas</font> <font color = blue>kebiru-biruan</font> saja jelas</td>\n",
       "    </tr>\n",
       "    <tr>\n",
       "      <th>30</th>\n",
       "      <td>minta dikembalikan karena permasalahan bencana alam tapi tidak ada respon baik dari pelanggan nya sangat <font color = red>mengecewakan</font></td>\n",
       "      <td>minta dikembalikan karena permasalahan bencana alam tapi tidak ada respon baik dari pelanggan nya sangat <font color = blue>menganiaya</font></td>\n",
       "    </tr>\n",
       "    <tr>\n",
       "      <th>31</th>\n",
       "      <td><font color = red>aplikasi</font> <font color = red>tipu</font> sialan <font color = red>mengembalikan</font> duit gua gua minta prtnggungjawaban <font color = red>susah</font> sekali sialan <font color = red>menyebalkan</font></td>\n",
       "      <td><font color = blue>kerajinan</font> <font color = blue>memujuk</font> sialan <font color = blue>menyingkir</font> duit gua gua minta prtnggungjawaban <font color = blue>menjerihkan</font> sekali sialan <font color = blue>keluhan</font></td>\n",
       "    </tr>\n",
       "    <tr>\n",
       "      <th>32</th>\n",
       "      <td>saya kemarin batalkan tiket pesawat karena salah ordrer kami sudah minta dikembalikan dan dapat balasan baru diproses tapi kenapa proses lama tidak seperti traveloka saat itu langsung dikembalikan pelayanan <font color = red>pelanggan</font> pun <font color = red>telepon</font> nya <font color = red>tarif</font> <font color = red>mahal</font> ini sudah lebih tiga hari setelah saya <font color = red>baca</font> ternyata banyak pelanggan yang dibuat <font color = red>kecewa</font></td>\n",
       "      <td>saya kemarin batalkan tiket pesawat karena salah ordrer kami sudah minta dikembalikan dan dapat balasan baru diproses tapi kenapa proses lama tidak seperti traveloka saat itu langsung dikembalikan pelayanan <font color = blue>nasabah</font> pun <font color = blue>telefon</font> nya <font color = blue>cukai</font> <font color = blue>berharga</font> ini sudah lebih tiga hari setelah saya <font color = blue>berdoa</font> ternyata banyak pelanggan yang dibuat <font color = blue>menjelajahi</font></td>\n",
       "    </tr>\n",
       "    <tr>\n",
       "      <th>33</th>\n",
       "      <td>sebelumnya saya senang sekali menggunakan <font color = red>aplikasi</font> ini tetapi sekarang agak <font color = red>kecewa</font> kenapa diminta update dan karena belum diupdate <font color = red>aplikasi</font> tidak dapat dijalankan pertanyaan saya update terbaru ini kenapa minta <font color = red>izin</font> akses ke kontak dan telpon ini membuat konsumen tidak <font color = red>nyaman</font></td>\n",
       "      <td>sebelumnya saya senang sekali menggunakan <font color = blue>kerajinan</font> ini tetapi sekarang agak <font color = blue>menjelajahi</font> kenapa diminta update dan karena belum diupdate <font color = blue>permohonan</font> tidak dapat dijalankan pertanyaan saya update terbaru ini kenapa minta <font color = blue>berkat</font> akses ke kontak dan telpon ini membuat konsumen tidak <font color = blue>romantik</font></td>\n",
       "    </tr>\n",
       "    <tr>\n",
       "      <th>34</th>\n",
       "      <td>sudah hampir bulan ini <font color = red>pengembalian</font> dana <font color = red>dana</font> tidak balik <font color = red>kali</font> dapat notifikasi email <font color = red>berisi</font> <font color = red>pengembalian</font> dana dana sudah dikembalikan tapi kenyataan tidak ada dana yang <font color = red>masuk</font> ke rekening saya dua <font color = red>kali</font> juga <font color = red>suruh</font> upload mutasi rekening telpon <font color = red>pelayanan</font> <font color = red>pelanggan</font> cuma bilang mengikuti naik saja sampai sekarang <font color = red>dana</font> tidak balik</td>\n",
       "      <td>sudah hampir bulan ini <font color = green>pulih</font> dana <font color = green>simpanan</font> tidak balik <font color = green>sungai</font> dapat notifikasi email <font color = green>memegat</font> <font color = green>balasan</font> dana dana sudah dikembalikan tapi kenyataan tidak ada dana yang <font color = green>memasuki</font> ke rekening saya dua <font color = green>ketika</font> juga <font color = green>menghendaki</font> upload mutasi rekening telpon <font color = green>khidmat</font> <font color = green>anjuran</font> cuma bilang mengikuti naik saja sampai sekarang <font color = green>penyumbangan</font> tidak balik</td>\n",
       "    </tr>\n",
       "    <tr>\n",
       "      <th>35</th>\n",
       "      <td>sangat <font color = red>jelek</font> pelayanan nya saya <font color = red>transfer</font> <font color = red>kelebihan</font> saja tidak dikasih tiket <font color = red>pesan</font> dan proses pengembalian <font color = red>dana</font> nya lama <font color = red>banget</font> sedangkan saya harus <font color = red>beli</font> tiket baru lagi karena <font color = red>orang</font> tua saya <font color = red>sakit</font> tapi tidak ada <font color = red>kebijakan</font> nya malah disuruh tunggu hari <font color = red>jelek</font> sekali</td>\n",
       "      <td>sangat <font color = blue>bangpak</font> pelayanan nya saya <font color = blue>pindahan</font> <font color = blue>membantu</font> saja tidak dikasih tiket <font color = blue>bercakap</font> dan proses pengembalian <font color = blue>modal</font> nya lama <font color = blue>metah</font> sedangkan saya harus <font color = blue>memperoleh</font> tiket baru lagi karena <font color = blue>membentuk</font> tua saya <font color = blue>uzur</font> tapi tidak ada <font color = blue>brilian</font> nya malah disuruh tunggu hari <font color = blue>dahsyat</font> sekali</td>\n",
       "    </tr>\n",
       "    <tr>\n",
       "      <th>36</th>\n",
       "      <td>kami meyewa kamar sangat <font color = red>kecewa</font> dengan fasilitas yang didapat mulai dari ac yang tidak berfungsi dengan baik alat cukur di kamar yang tidak layak pakai sampai dapat apel yang <font color = red>busuk</font> di evening coctail</td>\n",
       "      <td>kami meyewa kamar sangat <font color = blue>menjelajahi</font> dengan fasilitas yang didapat mulai dari ac yang tidak berfungsi dengan baik alat cukur di kamar yang tidak layak pakai sampai dapat apel yang <font color = blue>cemar</font> di evening coctail</td>\n",
       "    </tr>\n",
       "    <tr>\n",
       "      <th>37</th>\n",
       "      <td>gue merasa dirugikan banget sih ini harga miyako dispenser yang dp kualitas nya sama <font color = red>kayak</font> profesional meja dispenser sanex ini tidak tahu gue saja yang mengalahkan atau bagaimana tapi yang pasti cold sama hot nya tidak <font color = red>berfungsi</font></td>\n",
       "      <td>gue merasa dirugikan banget sih ini harga miyako dispenser yang dp kualitas nya sama <font color = blue>suka</font> profesional meja dispenser sanex ini tidak tahu gue saja yang mengalahkan atau bagaimana tapi yang pasti cold sama hot nya tidak <font color = blue>membuyarkan</font></td>\n",
       "    </tr>\n",
       "    <tr>\n",
       "      <th>38</th>\n",
       "      <td>bicara kemiskinan tetapi hidup dengan kemewahan bicara kesenjangan tetapi harta triliunan bicara cinta nkri tetapi ngemplang pajak bicara kelaparan tetapi tidak bisa tahan lapar <font color = red>aneh</font></td>\n",
       "      <td>bicara kemiskinan tetapi hidup dengan kemewahan bicara kesenjangan tetapi harta triliunan bicara cinta nkri tetapi ngemplang pajak bicara kelaparan tetapi tidak bisa tahan lapar <font color = blue>menakjubkan</font></td>\n",
       "    </tr>\n",
       "    <tr>\n",
       "      <th>39</th>\n",
       "      <td>buat kamu yang ke wattpad hanya buat mereport author yang bikin ff bxb <font color = red>mending</font> cari kerjaan yang lebih berfaedah daripada menganjurkan karya <font color = red>orang</font> <font color = red>membayangkan</font> semua ide yang dibikin capek capek hilang gara gara orang yang <font color = red>gemar</font> mereport karya orang lain kalau gasuka bab ya enggak usah <font color = red>lihat</font></td>\n",
       "      <td>buat kamu yang ke wattpad hanya buat mereport author yang bikin ff bxb <font color = blue>tulus</font> cari kerjaan yang lebih berfaedah daripada menganjurkan karya <font color = blue>memisalkan</font> <font color = blue>merefleksikan</font> semua ide yang dibikin capek capek hilang gara gara orang yang <font color = blue>sayang</font> mereport karya orang lain kalau gasuka bab ya enggak usah <font color = blue>mencagun</font></td>\n",
       "    </tr>\n",
       "    <tr>\n",
       "      <th>40</th>\n",
       "      <td>betul era sebelum perbedaan politik suatu hal yang biasa <font color = red>media</font> sosial damai sejak jokowi nyapres pendukung pendukung nya <font color = red>suka</font> <font color = red>cari</font> <font color = red>ribut</font> ke yang berbeda contoh di pilgub dki kami ikut ulama dibilang radikal intoleran jangan bawa bawa agama dan ulama sekarang <font color = red>ya</font> dengan jadi cawapres yang tidak <font color = red>pilih</font> dibilang anti ulama hadeuh <font color = red>pusing</font></td>\n",
       "      <td>betul era sebelum perbedaan politik suatu hal yang biasa <font color = blue>sederhana</font> sosial damai sejak jokowi nyapres pendukung pendukung nya <font color = blue>berbahagia</font> <font color = blue>meneliti</font> <font color = blue>hiruk</font> ke yang berbeda contoh di pilgub dki kami ikut ulama dibilang radikal intoleran jangan bawa bawa agama dan ulama sekarang <font color = blue>yakin</font> dengan jadi cawapres yang tidak <font color = blue>meluwengkan</font> dibilang anti ulama hadeuh <font color = blue>perubahan</font></td>\n",
       "    </tr>\n",
       "    <tr>\n",
       "      <th>41</th>\n",
       "      <td><font color = red>suka</font> kesal dengan kpopers yang mukulin pangsek <font color = red>sumpah</font> saya <font color = red>kesal</font> <font color = red>banget</font> sama kalian saya dukung yanglek karena dia satu satu nya rapper yang <font color = red>muka</font> nya seperti lipatan kulit badak kenapa kalian tidak mengajak saya dan tidak dimatikan sekalian atau direndam <font color = red>pakai</font> rinso biar bening gue kan <font color = red>benci</font> banget sama dia</td>\n",
       "      <td><font color = blue>senang</font> kesal dengan kpopers yang mukulin pangsek <font color = blue>berbakti</font> saya <font color = blue>taubat</font> <font color = blue>sangat</font> sama kalian saya dukung yanglek karena dia satu satu nya rapper yang <font color = blue>gelendong</font> nya seperti lipatan kulit badak kenapa kalian tidak mengajak saya dan tidak dimatikan sekalian atau direndam <font color = blue>melindangkan</font> rinso biar bening gue kan <font color = blue>meluahkan</font> banget sama dia</td>\n",
       "    </tr>\n",
       "    <tr>\n",
       "      <th>42</th>\n",
       "      <td>gua enggak <font color = red>suka</font> cara pelatih timnas u yang melarang pemain nya diwawancara sama teman teman media di luar sana justru pemain muda diajari public speaking baik di depan media maupun di depan rakyat harus nya pelatih atau manager cukup membatasi apa yang tidak boleh dishare ke media</td>\n",
       "      <td>gua enggak <font color = blue>menyenangi</font> cara pelatih timnas u yang melarang pemain nya diwawancara sama teman teman media di luar sana justru pemain muda diajari public speaking baik di depan media maupun di depan rakyat harus nya pelatih atau manager cukup membatasi apa yang tidak boleh dishare ke media</td>\n",
       "    </tr>\n",
       "    <tr>\n",
       "      <th>43</th>\n",
       "      <td>takdir politik ahy belum bisa ikut kontestasi pilpres walaupun ahy legowo kami tetap <font color = red>kecewa</font></td>\n",
       "      <td>takdir politik ahy belum bisa ikut kontestasi pilpres walaupun ahy legowo kami tetap <font color = green>menjelajah</font></td>\n",
       "    </tr>\n",
       "    <tr>\n",
       "      <th>44</th>\n",
       "      <td>yang mengira politik itu cuma soal dukung partai tokoh atau <font color = red>kepentingan</font> nya saja pasti kemarin dan hari ini <font color = red>kecewa</font> ketika ekspektasi nya tidak terpenuhi politik itu sarana <font color = red>mewujudkan</font> amanat <font color = red>pembukaan</font> uud untuk bangsa ini <font color = red>tokoh</font> <font color = red>partai</font> itu cuma <font color = red>alat</font> saja</td>\n",
       "      <td>yang mengira politik itu cuma soal dukung partai tokoh atau <font color = blue>minat</font> nya saja pasti kemarin dan hari ini <font color = blue>menggundahkan</font> ketika ekspektasi nya tidak terpenuhi politik itu sarana <font color = blue>menggugah</font> amanat <font color = blue>pertama</font> uud untuk bangsa ini <font color = blue>kes</font> <font color = blue>sambutan</font> itu cuma <font color = blue>pesawat</font> saja</td>\n",
       "    </tr>\n",
       "    <tr>\n",
       "      <th>45</th>\n",
       "      <td>saya <font color = red>kecewa</font> sama waktu beliau berhentikan sebagai mendikbud setelah saya tahu bagaimana kinerja nya baru paham mengapa dia diberhentikan sekarang pun begitu <font color = red>keputusan</font> yang diambil jokowi pasti beralasan termasuk pemilihan wapres</td>\n",
       "      <td>saya <font color = blue>menjelajah</font> sama waktu beliau berhentikan sebagai mendikbud setelah saya tahu bagaimana kinerja nya baru paham mengapa dia diberhentikan sekarang pun begitu <font color = blue>kesungguhan</font> yang diambil jokowi pasti beralasan termasuk pemilihan wapres</td>\n",
       "    </tr>\n",
       "    <tr>\n",
       "      <th>46</th>\n",
       "      <td><font color = red>kecewa</font> berat kepada pihak stasiun tv yang mengacak siaran nya karena rakyat jelata seperti kami tidak bisa melihat timnas u bermain percuma kita tuan rumah kalau rakyat indonesia sendiri tidak bisa melihat di tv salam buat pihak yang terkait semoga kalian semua <font color = red>puas</font></td>\n",
       "      <td><font color = blue>terhalang</font> berat kepada pihak stasiun tv yang mengacak siaran nya karena rakyat jelata seperti kami tidak bisa melihat timnas u bermain percuma kita tuan rumah kalau rakyat indonesia sendiri tidak bisa melihat di tv salam buat pihak yang terkait semoga kalian semua <font color = blue>senang</font></td>\n",
       "    </tr>\n",
       "    <tr>\n",
       "      <th>47</th>\n",
       "      <td>pak kami orang kampung yang khusus orang sumatera pedalaman kami sangat <font color = red>kecewa</font> dengan hal penyiaran asian games sebenarnya regulasi bisa diubah karena ini wilayah indonesia jadi apa pun yang berada diindonesia harus mengikutkan perintah dari saya</td>\n",
       "      <td>pak kami orang kampung yang khusus orang sumatera pedalaman kami sangat <font color = blue>menjelajahi</font> dengan hal penyiaran asian games sebenarnya regulasi bisa diubah karena ini wilayah indonesia jadi apa pun yang berada diindonesia harus mengikutkan perintah dari saya</td>\n",
       "    </tr>\n",
       "    <tr>\n",
       "      <th>48</th>\n",
       "      <td>dukungan untuk asian games terbatas ini status satu kampung aku yang merasa <font color = red>kecewa</font> ri nahrawi</td>\n",
       "      <td>dukungan untuk asian games terbatas ini status satu kampung aku yang merasa <font color = green>menjelajah</font> ri nahrawi</td>\n",
       "    </tr>\n",
       "    <tr>\n",
       "      <th>49</th>\n",
       "      <td>kami warga <font color = red>khusus</font> sumatera kalimantan dan papua sangat <font color = red>kecewa</font> dengan cara <font color = red>penyiaran</font> asian games cabor sepak bola jangan bagikan <font color = red>alasan</font> bahwa itu adalah <font color = red>aturan</font> dari oympic bila bola itu adalah <font color = red>alasan</font> <font color = red>basi</font> memang kami <font color = red>bodoh</font> apa</td>\n",
       "      <td>kami warga <font color = blue>masing-masing</font> sumatera kalimantan dan papua sangat <font color = blue>menjelajah</font> dengan cara <font color = blue>pancaran</font> asian games cabor sepak bola jangan bagikan <font color = blue>perdebatan</font> bahwa itu adalah <font color = blue>tertib</font> dari oympic bila bola itu adalah <font color = blue>keterampilan</font> <font color = blue>stok</font> memang kami <font color = blue>bambung</font> apa</td>\n",
       "    </tr>\n",
       "    <tr>\n",
       "      <th>50</th>\n",
       "      <td>sebagai resmi broadcast saya merasa <font color = red>kecewa</font> dengan karena selain siaran yang di acak iklan pop naik yang menutupi layar juga tidak <font color = red>menayangkan</font> pertandingan lainn nya bahkan menjelang asian games masih banyak sinetron reguler daripada tayangan asian games</td>\n",
       "      <td>sebagai resmi broadcast saya merasa <font color = blue>menjelajah</font> dengan karena selain siaran yang di acak iklan pop naik yang menutupi layar juga tidak <font color = blue>berpongah-pongah</font> pertandingan lainn nya bahkan menjelang asian games masih banyak sinetron reguler daripada tayangan asian games</td>\n",
       "    </tr>\n",
       "    <tr>\n",
       "      <th>51</th>\n",
       "      <td>rakyat <font color = red>indonesia</font> lebih <font color = red>kecewa</font> ini bukan settingan kayak sinetron ini <font color = red>asli</font> rakyat indonesia <font color = red>kecewa</font> tidak bisa nonton asian games ingat sctv bisa menjadi besar sekarang karena rakyat indonesia bukan india atau sinetron tidak jelas</td>\n",
       "      <td>rakyat <font color = blue>Hindia-Belanda</font> lebih <font color = blue>menggundahkan</font> ini bukan settingan kayak sinetron ini <font color = blue>unik</font> rakyat indonesia <font color = blue>terhalang</font> tidak bisa nonton asian games ingat sctv bisa menjadi besar sekarang karena rakyat indonesia bukan india atau sinetron tidak jelas</td>\n",
       "    </tr>\n",
       "    <tr>\n",
       "      <th>52</th>\n",
       "      <td>saya secara pribadi tetap tidak <font color = red>setuju</font> dengan semua jenis ajakan apalagi untuk timnas yang main kalau liga liga top eropa apa yang lain silakan saya tidak menonton juga tidak mengapa tapi ini timnas kita tetap meminta ta pak dan pak nahrawi</td>\n",
       "      <td>saya secara pribadi tetap tidak <font color = blue>mencengkeram</font> dengan semua jenis ajakan apalagi untuk timnas yang main kalau liga liga top eropa apa yang lain silakan saya tidak menonton juga tidak mengapa tapi ini timnas kita tetap meminta ta pak dan pak nahrawi</td>\n",
       "    </tr>\n",
       "    <tr>\n",
       "      <th>53</th>\n",
       "      <td>saya tidak <font color = red>peduli</font> milo dan kokokrunch duo lebih mahal murah mana anak saya <font color = red>kecewa</font> sarapan tidak sesuai keinginan nya</td>\n",
       "      <td>saya tidak <font color = blue>mencemaskan</font> milo dan kokokrunch duo lebih mahal murah mana anak saya <font color = blue>mencegah</font> sarapan tidak sesuai keinginan nya</td>\n",
       "    </tr>\n",
       "    <tr>\n",
       "      <th>54</th>\n",
       "      <td>saya sebagai aktifis pecinta beruang indonesia apbi dengan ini merasa <font color = red>kecewa</font> kepada pt nestle kenapa iklan nya sangat <font color = red>menipu</font></td>\n",
       "      <td>saya sebagai aktifis pecinta beruang indonesia apbi dengan ini merasa <font color = blue>menjelajah</font> kepada pt nestle kenapa iklan nya sangat <font color = blue>memahat</font></td>\n",
       "    </tr>\n",
       "    <tr>\n",
       "      <th>55</th>\n",
       "      <td><font color = red>kecewa</font> sama promo yang diadakan id dan sepertinya setengah setengah sekali <font color = red>kasih</font> promo ivoucher ribu tiap beli box dancow gr huft harus nya tidak usah kasih promo kalau tidak niat</td>\n",
       "      <td><font color = blue>menjelajahi</font> sama promo yang diadakan id dan sepertinya setengah setengah sekali <font color = blue>suka</font> promo ivoucher ribu tiap beli box dancow gr huft harus nya tidak usah kasih promo kalau tidak niat</td>\n",
       "    </tr>\n",
       "    <tr>\n",
       "      <th>56</th>\n",
       "      <td>aku <font color = red>kecewa</font> tadi pergi kfc dapat wedges macam tidak niat dibuat nya sudah begitu memberi mayones nya <font color = red>berantakan</font> banget</td>\n",
       "      <td>aku <font color = blue>menjelajahi</font> tadi pergi kfc dapat wedges macam tidak niat dibuat nya sudah begitu memberi mayones nya <font color = blue>rincu</font> banget</td>\n",
       "    </tr>\n",
       "    <tr>\n",
       "      <th>57</th>\n",
       "      <td>kfc chizza apa <font color = red>banget</font> tidak jelas rasanya rasanya ingin <font color = red>buntut</font> kfc buat <font color = red>mengembalikan</font> <font color = red>uang</font> gue <font color = red>kecewa</font></td>\n",
       "      <td>kfc chizza apa <font color = blue>terlalu</font> tidak jelas rasanya rasanya ingin <font color = blue>belakang</font> kfc buat <font color = blue>menghasilkan</font> <font color = blue>penukar</font> gue <font color = blue>menjelajahi</font></td>\n",
       "    </tr>\n",
       "    <tr>\n",
       "      <th>58</th>\n",
       "      <td>aku belajar satu perkara tentang pengharapan kalau kita berharap pada tuhan memang tak akan kecewa kalau kita berharap pd kfc barulah <font color = red>kecewa</font> sangat</td>\n",
       "      <td>aku belajar satu perkara tentang pengharapan kalau kita berharap pada tuhan memang tak akan kecewa kalau kita berharap pd kfc barulah <font color = blue>menjelajahi</font> sangat</td>\n",
       "    </tr>\n",
       "    <tr>\n",
       "      <th>59</th>\n",
       "      <td>itu tadi saya cancel soal nya kantor saya juga sudah tutup semoga tidak kejadian seperti ini lagi karena selama saya order di pd baru pertama kali menemukan hal yang seperti ini <font color = red>kecewa</font> sih</td>\n",
       "      <td>itu tadi saya cancel soal nya kantor saya juga sudah tutup semoga tidak kejadian seperti ini lagi karena selama saya order di pd baru pertama kali menemukan hal yang seperti ini <font color = blue>menjelajah</font> sih</td>\n",
       "    </tr>\n",
       "    <tr>\n",
       "      <th>60</th>\n",
       "      <td>dari sejujur nya saya sangat <font color = red>kecewa</font> dengan kenyataan dari menangguhkan dengan alasan masalah kewangan berpunca dari kerajaan lama <font color = red>cari</font> la solusi baru bukan tangguh dan tanding jari bagaimana nasib kami yang kurang mampu untuk memiliki sarjana dan pd <font color = red>kena</font> <font color = red>korek</font> duit tabung</td>\n",
       "      <td>dari sejujur nya saya sangat <font color = blue>menjelajah</font> dengan kenyataan dari menangguhkan dengan alasan masalah kewangan berpunca dari kerajaan lama <font color = blue>menjelajahi</font> la solusi baru bukan tangguh dan tanding jari bagaimana nasib kami yang kurang mampu untuk memiliki sarjana dan pd <font color = blue>menyayukan</font> <font color = blue>melubangi</font> duit tabung</td>\n",
       "    </tr>\n",
       "    <tr>\n",
       "      <th>61</th>\n",
       "      <td>gue paling <font color = red>suka</font> cebong pada <font color = red>mengawal</font> <font color = red>ketua</font> kpk wkwkkwk ahok <font color = red>mengurus</font> laporan keuangan saja amburadul tidak pernah dapat wtp tahun bos sudahlah saya sudah terlanjur <font color = red>kecewa</font> dengan dia</td>\n",
       "      <td>gue paling <font color = blue>bahagia</font> cebong pada <font color = blue>menawan</font> <font color = blue>memimpin</font> kpk wkwkkwk ahok <font color = blue>memuat</font> laporan keuangan saja amburadul tidak pernah dapat wtp tahun bos sudahlah saya sudah terlanjur <font color = blue>menggagalkan</font> dengan dia</td>\n",
       "    </tr>\n",
       "    <tr>\n",
       "      <th>62</th>\n",
       "      <td>ini <font color = red>orang</font> suka banget pidato sama resmikan acara tidak <font color = red>suka</font> kerja si wakil nya cuma cengeh cengehan disamping benar benar badut</td>\n",
       "      <td>ini <font color = blue>unik</font> suka banget pidato sama resmikan acara tidak <font color = blue>mudah</font> kerja si wakil nya cuma cengeh cengehan disamping benar benar badut</td>\n",
       "    </tr>\n",
       "    <tr>\n",
       "      <th>63</th>\n",
       "      <td>charger masih benar buat telepon genggam lain cuma sama xiao mi saya suka tidak <font color = red>cocok</font> yang saya bawa tiap hari lebih cocok padahal charger asus malah charger ori xiaomi nya tidak <font color = red>enak</font></td>\n",
       "      <td>charger masih benar buat telepon genggam lain cuma sama xiao mi saya suka tidak <font color = blue>mencampurkan</font> yang saya bawa tiap hari lebih cocok padahal charger asus malah charger ori xiaomi nya tidak <font color = blue>kelezatan</font></td>\n",
       "    </tr>\n",
       "    <tr>\n",
       "      <th>64</th>\n",
       "      <td>dulu aku sempat pengin ganti handphone juga pertimbangan ku itu oppo f vivo v sama xiaomi mi a mereka bertiga dari spesifikasi dan harga mirip mirip tapi terus aku eliminasi xiaomi mi a karena dia slot nya hybrid aku tidak <font color = red>suka</font></td>\n",
       "      <td>dulu aku sempat pengin ganti handphone juga pertimbangan ku itu oppo f vivo v sama xiaomi mi a mereka bertiga dari spesifikasi dan harga mirip mirip tapi terus aku eliminasi xiaomi mi a karena dia slot nya hybrid aku tidak <font color = blue>jigrah</font></td>\n",
       "    </tr>\n",
       "    <tr>\n",
       "      <th>65</th>\n",
       "      <td><font color = red>menyesal</font> tidak sih ganti handphone dari iphone ke samsung s hmm menyesal kurang enak buat pakai s dari segi camera lebih <font color = red>suka</font> ip dari segi performa juga ip batre juga tidak beda jauh banget lalu s ini juga agak sering <font color = red>melar</font> padahal cuma buka instagram saja ckck</td>\n",
       "      <td><font color = blue>taubat</font> tidak sih ganti handphone dari iphone ke samsung s hmm menyesal kurang enak buat pakai s dari segi camera lebih <font color = blue>bahagia</font> ip dari segi performa juga ip batre juga tidak beda jauh banget lalu s ini juga agak sering <font color = blue>elastik</font> padahal cuma buka instagram saja ckck</td>\n",
       "    </tr>\n",
       "    <tr>\n",
       "      <th>66</th>\n",
       "      <td>saya sangat <font color = red>kecewa</font> dengan pihak sales promotion toyota saya menang hadiah samsung gear sport tetapi di kasih nya gear s yang jelas jelas harga beda jauh nama nya satria after sales promotion dia bilang sudah bersyukur saja nama nya juga hadiahlah kok begitu</td>\n",
       "      <td>saya sangat <font color = blue>menjelajah</font> dengan pihak sales promotion toyota saya menang hadiah samsung gear sport tetapi di kasih nya gear s yang jelas jelas harga beda jauh nama nya satria after sales promotion dia bilang sudah bersyukur saja nama nya juga hadiahlah kok begitu</td>\n",
       "    </tr>\n",
       "    <tr>\n",
       "      <th>67</th>\n",
       "      <td>id my s eror lagi hang atau apapun nama nya selama jam lebih kirain cuma hang biasa selama atau menit but ini adalah crazy <font color = red>kecewa</font> parah pokok nya</td>\n",
       "      <td>id my s eror lagi hang atau apapun nama nya selama jam lebih kirain cuma hang biasa selama atau menit but ini adalah crazy <font color = blue>menjelajahi</font> parah pokok nya</td>\n",
       "    </tr>\n",
       "    <tr>\n",
       "      <th>68</th>\n",
       "      <td><font color = red>kecewa</font> sama iphone kalah politik dengan samsung saat nya hijrah ke samsung iphone iphone x</td>\n",
       "      <td><font color = green>menjelajahi</font> sama iphone kalah politik dengan samsung saat nya hijrah ke samsung iphone iphone x</td>\n",
       "    </tr>\n",
       "    <tr>\n",
       "      <th>69</th>\n",
       "      <td>aku <font color = red>kecewa</font> dengan iphone aku <font color = red>pakai</font> ip s ini lama <font color = red>gila</font></td>\n",
       "      <td>aku <font color = blue>menjelajahi</font> dengan iphone aku <font color = blue>melindangkan</font> ip s ini lama <font color = blue>bersemangat</font></td>\n",
       "    </tr>\n",
       "    <tr>\n",
       "      <th>70</th>\n",
       "      <td>cukuplah sekali aku pernah <font color = red>kecewa</font> dengan lenovo</td>\n",
       "      <td>cukuplah sekali aku pernah <font color = blue>menjelajahi</font> dengan lenovo</td>\n",
       "    </tr>\n",
       "    <tr>\n",
       "      <th>71</th>\n",
       "      <td>kemarin banget <font color = red>dengar</font> cerita ini <font color = red>wajar</font> dong kalau saya <font color = red>kecewa</font> dengan samsung saya merasa tertipu saya tidak dapat apa yang dijanjikan di awal</td>\n",
       "      <td>kemarin banget <font color = blue>mengerti</font> cerita ini <font color = blue>bijak</font> dong kalau saya <font color = blue>mengarungi</font> dengan samsung saya merasa tertipu saya tidak dapat apa yang dijanjikan di awal</td>\n",
       "    </tr>\n",
       "    <tr>\n",
       "      <th>72</th>\n",
       "      <td>aku sudah x pakai samsung x <font color = red>kecewa</font> aku <font color = red>menyesal</font> aku tidak ingin pakai handphone merek itu lagi</td>\n",
       "      <td>aku sudah x pakai samsung x <font color = blue>mencegah</font> aku <font color = blue>bersimpati</font> aku tidak ingin pakai handphone merek itu lagi</td>\n",
       "    </tr>\n",
       "    <tr>\n",
       "      <th>73</th>\n",
       "      <td>samsung galaxy s standar fon samsung ini bila sampai satu peringkat dia akan lagi dijuragan sendiri nya saya pengguna samsung yang <font color = red>kecewa</font></td>\n",
       "      <td>samsung galaxy s standar fon samsung ini bila sampai satu peringkat dia akan lagi dijuragan sendiri nya saya pengguna samsung yang <font color = blue>menjelajah</font></td>\n",
       "    </tr>\n",
       "    <tr>\n",
       "      <th>74</th>\n",
       "      <td><font color = red>kecewa</font> dengan specs desain galaxy s tidak <font color = red>sesuai</font> dengan harapan terlalu biasa saja</td>\n",
       "      <td><font color = blue>terbentur</font> dengan specs desain galaxy s tidak <font color = blue>gegadan</font> dengan harapan terlalu biasa saja</td>\n",
       "    </tr>\n",
       "    <tr>\n",
       "      <th>75</th>\n",
       "      <td><font color = red>kecewa</font> banget sama id pusat servis pi kan kita spent waktu untuk ke sini tidak dikasih solusi masa harus bolak balik</td>\n",
       "      <td><font color = blue>menjelajah</font> banget sama id pusat servis pi kan kita spent waktu untuk ke sini tidak dikasih solusi masa harus bolak balik</td>\n",
       "    </tr>\n",
       "    <tr>\n",
       "      <th>76</th>\n",
       "      <td>baru sadar bahwa selama ini ternyata saya bukan apple <font color = red>penggemar</font> saya adalah umat stevejob yang <font color = red>kecewa</font> karena apple <font color = red>kalah</font> inovasi oleh samsung</td>\n",
       "      <td>baru sadar bahwa selama ini ternyata saya bukan apple <font color = green>amatir</font> saya adalah umat stevejob yang <font color = green>tewas</font> karena apple <font color = green>menewaskan</font> inovasi oleh samsung</td>\n",
       "    </tr>\n",
       "    <tr>\n",
       "      <th>77</th>\n",
       "      <td><font color = red>kecewa</font> aku dengan desain s samsung ketandusan ide kenapa bisa perusahaan besar itu keilangan <font color = red>akal</font> mungkin isi orang orang nya hanya orang biasa saja</td>\n",
       "      <td><font color = blue>menjelajahi</font> aku dengan desain s samsung ketandusan ide kenapa bisa perusahaan besar itu keilangan <font color = blue>kecerdikan</font> mungkin isi orang orang nya hanya orang biasa saja</td>\n",
       "    </tr>\n",
       "    <tr>\n",
       "      <th>78</th>\n",
       "      <td>samsung galaxy s saya sudah diluncurkan semalam saya <font color = red>kecewa</font> desain nya standar banget ekspektasi saya cuma terwujud percuma terbawa sampai <font color = red>mimpi</font></td>\n",
       "      <td>samsung galaxy s saya sudah diluncurkan semalam saya <font color = blue>menggundahkan</font> desain nya standar banget ekspektasi saya cuma terwujud percuma terbawa sampai <font color = blue>memimpikan</font></td>\n",
       "    </tr>\n",
       "    <tr>\n",
       "      <th>79</th>\n",
       "      <td>hotel mau cek in aja ribet bersihkan kamar lama <font color = red>banget</font> <font color = red>kecewa</font> dah ini pertama kalinya gue ke sana terus langsung dikasih first impression yang tidak bagus</td>\n",
       "      <td>hotel mau cek in aja ribet bersihkan kamar lama <font color = blue>sangat</font> <font color = blue>menjelajahi</font> dah ini pertama kalinya gue ke sana terus langsung dikasih first impression yang tidak bagus</td>\n",
       "    </tr>\n",
       "    <tr>\n",
       "      <th>80</th>\n",
       "      <td>sebagai indomie goreng mania saya merasa <font color = red>kecewa</font> kalau mendapati ternyata bumbu jebol di dalam <font color = red>kemasan</font> kudu bagaimana nek ngene ini <font color = red>gaduh</font> tidak <font color = red>profesional</font> <font color = red>banget</font></td>\n",
       "      <td>sebagai indomie goreng mania saya merasa <font color = blue>menjelajah</font> kalau mendapati ternyata bumbu jebol di dalam <font color = blue>mencocokkan</font> kudu bagaimana nek ngene ini <font color = blue>bergolak</font> tidak <font color = blue>pekerjaan</font> <font color = blue>metah</font></td>\n",
       "    </tr>\n",
       "    <tr>\n",
       "      <th>81</th>\n",
       "      <td><font color = red>kecewa</font> dengan kualitas barang dari depan kantor chitato expired masih dijual untung aku masih baik tadinya ingin lapor</td>\n",
       "      <td><font color = blue>menjelajah</font> dengan kualitas barang dari depan kantor chitato expired masih dijual untung aku masih baik tadinya ingin lapor</td>\n",
       "    </tr>\n",
       "    <tr>\n",
       "      <th>82</th>\n",
       "      <td><font color = red>kecewa</font> berat baru tahu pop mie goreng sudah discontinue ya why padahal itu enak banget terbaik</td>\n",
       "      <td><font color = blue>menjelajah</font> berat baru tahu pop mie goreng sudah discontinue ya why padahal itu enak banget terbaik</td>\n",
       "    </tr>\n",
       "    <tr>\n",
       "      <th>83</th>\n",
       "      <td>selesai juga bikin surat pengunduran diri dah ah tinggal tidur saja besok pagi tinggal pergi ke gudang indofood sangat <font color = red>kecewa</font></td>\n",
       "      <td>selesai juga bikin surat pengunduran diri dah ah tinggal tidur saja besok pagi tinggal pergi ke gudang indofood sangat <font color = blue>menjelajahi</font></td>\n",
       "    </tr>\n",
       "    <tr>\n",
       "      <th>84</th>\n",
       "      <td>indofood <font color = red>tukang</font> <font color = red>bohong</font> dapat <font color = red>pulsa</font> dari <font color = red>mi</font> tetapi tidak di tanggepin <font color = red>kecewa</font> tidak mau <font color = red>beli</font> <font color = red>produk</font> indofood lagi ah <font color = red>kecewa</font> <font color = red>kecewa</font></td>\n",
       "      <td>indofood <font color = blue>pandai</font> <font color = blue>mengentuti</font> dapat <font color = blue>keinginan</font> dari <font color = blue>Michigan</font> tetapi tidak di tanggepin <font color = blue>jatuh</font> tidak mau <font color = blue>membelikan</font> <font color = blue>barangan</font> indofood lagi ah <font color = blue>mencegah</font> <font color = blue>kegagalan</font></td>\n",
       "    </tr>\n",
       "    <tr>\n",
       "      <th>85</th>\n",
       "      <td>sumpah aku <font color = red>sedih</font> banget dan kagol popmie favorit aku sudah tidak ada lagi kecewa indofood aku itu padahal hampir setiap hari makan itu</td>\n",
       "      <td>sumpah aku <font color = blue>terharu</font> banget dan kagol popmie favorit aku sudah tidak ada lagi kecewa indofood aku itu padahal hampir setiap hari makan itu</td>\n",
       "    </tr>\n",
       "    <tr>\n",
       "      <th>86</th>\n",
       "      <td><font color = red>kecewa</font> sama indofood kata nya di sini <font color = red>tulisan</font> nya sambal abc ekstra <font color = red>pedas</font> tapi <font color = red>biro</font> <font color = red>biro</font> <font color = red>pedas</font> <font color = red>manis</font> mah iya ini tidak asik ah</td>\n",
       "      <td><font color = blue>menjelajahi</font> sama indofood kata nya di sini <font color = blue>inskripsi</font> nya sambal abc ekstra <font color = blue>menggerunkan</font> tapi <font color = blue>bagian</font> <font color = blue>agen</font> <font color = blue>menjengkelkan</font> <font color = blue>memikat</font> mah iya ini tidak asik ah</td>\n",
       "    </tr>\n",
       "    <tr>\n",
       "      <th>87</th>\n",
       "      <td>dengan ini saya nyatakan <font color = red>kecewa</font> dengan indofood masa di indomie soto saya bubuk cabai nya <font color = red>kosong</font> <font color = red>hak</font> saya dihilangkan</td>\n",
       "      <td>dengan ini saya nyatakan <font color = blue>menjelajahi</font> dengan indofood masa di indomie soto saya bubuk cabai nya <font color = blue>langgas</font> <font color = blue>peluang</font> saya dihilangkan</td>\n",
       "    </tr>\n",
       "    <tr>\n",
       "      <th>88</th>\n",
       "      <td><font color = red>kecewa</font> sama supir taxi masa menara indofood dibilang shangrila hotel kalau memang tidak tahu ada baiknya tanya</td>\n",
       "      <td><font color = green>menjelajah</font> sama supir taxi masa menara indofood dibilang shangrila hotel kalau memang tidak tahu ada baiknya tanya</td>\n",
       "    </tr>\n",
       "    <tr>\n",
       "      <th>89</th>\n",
       "      <td>gimana ya antara <font color = red>kecewa</font> atau sekadar deh sama r di indofood karena pas rendang keluar itu heboh mampus enak nya enggak ketolongan new varian noods din triliun capture dat magic</td>\n",
       "      <td>gimana ya antara <font color = blue>menjelajahi</font> atau sekadar deh sama r di indofood karena pas rendang keluar itu heboh mampus enak nya enggak ketolongan new varian noods din triliun capture dat magic</td>\n",
       "    </tr>\n",
       "    <tr>\n",
       "      <th>90</th>\n",
       "      <td><font color = red>kecewa</font> sama sales teh kahuripan tawarkan produk maksa harus beli sampai ngancem enggak bakal dikasih tiket kupon mudik</td>\n",
       "      <td><font color = green>menjelajah</font> sama sales teh kahuripan tawarkan produk maksa harus beli sampai ngancem enggak bakal dikasih tiket kupon mudik</td>\n",
       "    </tr>\n",
       "    <tr>\n",
       "      <th>91</th>\n",
       "      <td>saya sangat <font color = red>kecewa</font> dengan klaim mobil saya an karpito serena b toz <font color = red>mohon</font> <font color = red>penjelasan</font> dari pihak bca karena <font color = red>hak</font> dalam <font color = red>polis</font> saya tidak dipenuh jangan merugikan <font color = red>orang</font> lain</td>\n",
       "      <td>saya sangat <font color = blue>menjelajah</font> dengan klaim mobil saya an karpito serena b toz <font color = blue>mendoa</font> <font color = blue>tafsiran</font> dari pihak bca karena <font color = blue>peluang</font> dalam <font color = blue>mata-mata</font> saya tidak dipenuh jangan merugikan <font color = blue>merupakan</font> lain</td>\n",
       "    </tr>\n",
       "    <tr>\n",
       "      <th>92</th>\n",
       "      <td><font color = red>kecewa</font> dengan xl sudah bulan berturut berturut gagal debet ke kartu kredit bca status kartu normal padahal bulan bulan sebelumnya lancar malah <font color = red>suruh</font> datang ke gerai xl buat apa ada pusat panggilan</td>\n",
       "      <td><font color = blue>menjelajah</font> dengan xl sudah bulan berturut berturut gagal debet ke kartu kredit bca status kartu normal padahal bulan bulan sebelumnya lancar malah <font color = blue>membuat</font> datang ke gerai xl buat apa ada pusat panggilan</td>\n",
       "    </tr>\n",
       "    <tr>\n",
       "      <th>93</th>\n",
       "      <td>sampai saat ini benar benar enjoy deh pakai tapi tadi kita coba cash kembali sunday ya nonton bioskop di xxi epicentrum cuma bisa pkk debit bca saja tidak bisa pakai kartu lain <font color = red>penonton</font> <font color = red>kecewa</font> deh sad</td>\n",
       "      <td>sampai saat ini benar benar enjoy deh pakai tapi tadi kita coba cash kembali sunday ya nonton bioskop di xxi epicentrum cuma bisa pkk debit bca saja tidak bisa pakai kartu lain <font color = blue>menarik</font> <font color = blue>mencegah</font> deh sad</td>\n",
       "    </tr>\n",
       "    <tr>\n",
       "      <th>94</th>\n",
       "      <td><font color = red>sungguh</font> <font color = red>kecewa</font> dengan pelayanan bca <font color = red>khusus</font> nya <font color = red>baca</font> finance wtc mg pelayanan ovet kredit yang <font color = red>sungguh</font> <font color = red>mengecewakan</font> sudah hampir bulan lebih belum ada kabar juga bahkan saya sudah <font color = red>membayar</font> x <font color = red>tagihan</font> cicilan masih belum ada kabar juga tanya ke marketing juga respon nya tidak ada</td>\n",
       "      <td><font color = blue>sangat</font> <font color = blue>menjelajah</font> dengan pelayanan bca <font color = blue>istimewa</font> nya <font color = blue>berdeklamasi</font> finance wtc mg pelayanan ovet kredit yang <font color = blue>timbun</font> <font color = blue>menjelajah</font> sudah hampir bulan lebih belum ada kabar juga bahkan saya sudah <font color = blue>menguntungkan</font> x <font color = blue>kira-kira</font> cicilan masih belum ada kabar juga tanya ke marketing juga respon nya tidak ada</td>\n",
       "    </tr>\n",
       "    <tr>\n",
       "      <th>95</th>\n",
       "      <td>sedang proses penukaran produk karena awam pertama kali urusan dengan blibli maka pt bca tbk menyampaikan catatan ini <font color = red>serius</font> sangat <font color = red>kecewa</font> keberatan karena tidak ada itikad baik</td>\n",
       "      <td>sedang proses penukaran produk karena awam pertama kali urusan dengan blibli maka pt bca tbk menyampaikan catatan ini <font color = green>penting</font> sangat <font color = green>mencegah</font> keberatan karena tidak ada itikad baik</td>\n",
       "    </tr>\n",
       "    <tr>\n",
       "      <th>96</th>\n",
       "      <td>seperti yang sudah saya mention sebelumnya pak romi data saya diketahui semuanya oh iya jikalau <font color = red>tutup</font> akun bagaimana ya dan meminta semua data saya yang di bca tidak <font color = red>tersimpan</font> lagi saya <font color = red>kecewa</font> ingin <font color = red>tutup</font> akun bca saja biar tidak terjadi seperti ini lagi</td>\n",
       "      <td>seperti yang sudah saya mention sebelumnya pak romi data saya diketahui semuanya oh iya jikalau <font color = green>memejamkan</font> akun bagaimana ya dan meminta semua data saya yang di bca tidak <font color = green>menyisakan</font> lagi saya <font color = green>urung</font> ingin <font color = green>menutup</font> akun bca saja biar tidak terjadi seperti ini lagi</td>\n",
       "    </tr>\n",
       "    <tr>\n",
       "      <th>97</th>\n",
       "      <td>dua kali sudah teman saya bookingkan tiket lewat aplikasi ini bagus <font color = blue>bagus</font> saja tidak sampai mnit kode booking nya langsung dikirimkan <font color = blue>mantap</font></td>\n",
       "      <td>dua kali sudah teman saya bookingkan tiket lewat aplikasi ini bagus <font color = red>membiak</font> saja tidak sampai mnit kode booking nya langsung dikirimkan <font color = red>malar</font></td>\n",
       "    </tr>\n",
       "    <tr>\n",
       "      <th>98</th>\n",
       "      <td>alhamdulillahirrabil allamin menggunakan <font color = blue>aplikasi</font> ini <font color = blue>mudah</font> paling <font color = blue>suka</font> adalah <font color = blue>penukaran</font> poin sebagai pembayaran <font color = blue>tiket</font> bisa dilakukan dengan <font color = blue>mudah</font> simpel dan terpercaya</td>\n",
       "      <td>alhamdulillahirrabil allamin menggunakan <font color = green>permohonan</font> ini <font color = green>praktik</font> paling <font color = green>sukaria</font> adalah <font color = green>berganti</font> poin sebagai pembayaran <font color = green>kupon</font> bisa dilakukan dengan <font color = green>memasang</font> simpel dan terpercaya</td>\n",
       "    </tr>\n",
       "    <tr>\n",
       "      <th>99</th>\n",
       "      <td>sempat agak <font color = blue>takut</font> pesan tiket pesawat di sini karena <font color = blue>ulasan</font> yang lain tapi ingat <font color = blue>teman</font> pernah beli di sini <font color = blue>lancar</font> saja akhirnya memesan pas <font color = blue>banget</font> di tfansfer cuma hitungan detik e tiket dikirim <font color = blue>terima</font> kasih lo <font color = blue>terima</font> kasih promo nya <font color = blue>lumayan</font> jadi <font color = blue>lumayan</font> <font color = blue>untung</font></td>\n",
       "      <td>sempat agak <font color = red>lisah</font> pesan tiket pesawat di sini karena <font color = red>menunjukkan</font> yang lain tapi ingat <font color = red>kawan</font> pernah beli di sini <font color = red>mengacir</font> saja akhirnya memesan pas <font color = red>benar</font> di tfansfer cuma hitungan detik e tiket dikirim <font color = red>merelakan</font> kasih lo <font color = red>mengira</font> kasih promo nya <font color = red>sedang</font> jadi <font color = red>cukup</font> <font color = red>mujur</font></td>\n",
       "    </tr>\n",
       "    <tr>\n",
       "      <th>100</th>\n",
       "      <td>aplikasi yang sangat membantu dalam setiap perjalan saya <font color = blue>memuaskan</font> pokok nya segera coba</td>\n",
       "      <td>aplikasi yang sangat membantu dalam setiap perjalan saya <font color = red>muak</font> pokok nya segera coba</td>\n",
       "    </tr>\n",
       "    <tr>\n",
       "      <th>101</th>\n",
       "      <td><font color = blue>menyenangkan</font> menggunakan aplikasi ini selain sangat <font color = blue>lengkap</font> aplikasi ini juga sangat rinci yang paling <font color = blue>menyenangkan</font> adalah banyak promo nya</td>\n",
       "      <td><font color = red>menggemarkan</font> menggunakan aplikasi ini selain sangat <font color = red>kafah</font> aplikasi ini juga sangat rinci yang paling <font color = red>berkurang</font> adalah banyak promo nya</td>\n",
       "    </tr>\n",
       "    <tr>\n",
       "      <th>102</th>\n",
       "      <td>dari dulu <font color = blue>pas</font> liburan saya selalu <font color = blue>memesan</font> hotel <font color = blue>pakai</font> tiket com untuk gaji yang saat saat an seperti saya dan bisa dapat hotel bintang cup wow <font color = blue>banget</font> enggak iniihh apalagi ada tonight deals kita bisa dapatkan diskon sampai kalau pesan hotel di atas jam malam sudah pasti makin <font color = blue>nikmat</font> pas liburan ditambah lagi bisa <font color = blue>istirahat</font> di hotel bintang yang <font color = blue>nyaman</font> dengan <font color = blue>harga</font> yang <font color = blue>murah</font> <font color = blue>terima</font> <font color = blue>kasih</font> tiket com</td>\n",
       "      <td>dari dulu <font color = red>kelulusan</font> liburan saya selalu <font color = red>bermohon</font> hotel <font color = red>mengira</font> tiket com untuk gaji yang saat saat an seperti saya dan bisa dapat hotel bintang cup wow <font color = red>sangat</font> enggak iniihh apalagi ada tonight deals kita bisa dapatkan diskon sampai kalau pesan hotel di atas jam malam sudah pasti makin <font color = red>menggembirakan</font> pas liburan ditambah lagi bisa <font color = red>putus</font> di hotel bintang yang <font color = red>baik</font> dengan <font color = red>nilai</font> yang <font color = red>buruk</font> <font color = red>berlaku</font> <font color = red>sayang</font> tiket com</td>\n",
       "    </tr>\n",
       "    <tr>\n",
       "      <th>103</th>\n",
       "      <td>sumpah <font color = blue>suka</font> banget sudah limit nya lama bonus tixpoint nya luar binasaah tiket ke jakarta bisa dapat diskon ribu</td>\n",
       "      <td>sumpah <font color = red>membenarkan</font> banget sudah limit nya lama bonus tixpoint nya luar binasaah tiket ke jakarta bisa dapat diskon ribu</td>\n",
       "    </tr>\n",
       "    <tr>\n",
       "      <th>104</th>\n",
       "      <td>mantap paling <font color = blue>murah</font> dan banyak <font color = blue>bonus</font> nya apa ini <font color = blue>bagus</font> banget proses nya cepat saya kasi bintang aku makin <font color = blue>suka</font> kamu</td>\n",
       "      <td>mantap paling <font color = red>buruk</font> dan banyak <font color = red>hadiah</font> nya apa ini <font color = red>kandis</font> banget proses nya cepat saya kasi bintang aku makin <font color = red>membenarkan</font> kamu</td>\n",
       "    </tr>\n",
       "    <tr>\n",
       "      <th>105</th>\n",
       "      <td>banyak promo dan aplikasi <font color = blue>mudah</font> digunakan proses sangat <font color = blue>cepat</font> dan juga aplikasi nya bagus dan tidak <font color = blue>rumit</font></td>\n",
       "      <td>banyak promo dan aplikasi <font color = red>tepat</font> digunakan proses sangat <font color = red>rancak</font> dan juga aplikasi nya bagus dan tidak <font color = red>keras</font></td>\n",
       "    </tr>\n",
       "    <tr>\n",
       "      <th>106</th>\n",
       "      <td>saya <font color = blue>suka</font> beli tiket di tiket com oke banget sangat <font color = blue>membantu</font> respon nya cepat yang pasti sangat <font color = blue>memudahkan</font> traveling saya</td>\n",
       "      <td>saya <font color = red>harap</font> beli tiket di tiket com oke banget sangat <font color = red>mundur</font> respon nya cepat yang pasti sangat <font color = red>kurang</font> traveling saya</td>\n",
       "    </tr>\n",
       "    <tr>\n",
       "      <th>107</th>\n",
       "      <td><font color = blue>tiket</font> com sangat terpercaya harga <font color = blue>murah</font> <font color = blue>lancar</font> <font color = blue>praktis</font> efektif dan efisien</td>\n",
       "      <td><font color = red>kad</font> com sangat terpercaya harga <font color = red>kotor</font> <font color = red>jelas</font> <font color = red>arif</font> efektif dan efisien</td>\n",
       "    </tr>\n",
       "    <tr>\n",
       "      <th>108</th>\n",
       "      <td>sangat <font color = blue>puas</font> dengan pelayanan nya tiket com selalu bokong tiket pesawat dari sini dan yang bikin <font color = blue>nyaman</font> nya kalau ada kslhan nm atau data lain bisa cepat diperbaiki dan tidak bikin ribet <font color = blue>terima</font> kasih</td>\n",
       "      <td>sangat <font color = red>marem</font> dengan pelayanan nya tiket com selalu bokong tiket pesawat dari sini dan yang bikin <font color = red>elok</font> nya kalau ada kslhan nm atau data lain bisa cepat diperbaiki dan tidak bikin ribet <font color = red>menenggak</font> kasih</td>\n",
       "    </tr>\n",
       "    <tr>\n",
       "      <th>109</th>\n",
       "      <td>saya selalu pesan tiket pesawat maupun kereta di sini harga lebih <font color = blue>murah</font> berbeda dengan aplikasi lain</td>\n",
       "      <td>saya selalu pesan tiket pesawat maupun kereta di sini harga lebih <font color = red>buruk</font> berbeda dengan aplikasi lain</td>\n",
       "    </tr>\n",
       "    <tr>\n",
       "      <th>110</th>\n",
       "      <td>hotel ini adalah <font color = blue>salah</font> satu hotel yang wajib dikunjungi kalau buka puasa bareng tempat nya menarik mewah staf nya ramah makanan nya banyaakk <font color = blue>jenis</font> nya menu nya komplet dan <font color = blue>suasana</font> nya sangat <font color = blue>menyenangkan</font> tempat yang sangat <font color = blue>indah</font></td>\n",
       "      <td>hotel ini adalah <font color = red>janggal</font> satu hotel yang wajib dikunjungi kalau buka puasa bareng tempat nya menarik mewah staf nya ramah makanan nya banyaakk <font color = red>perkara</font> nya menu nya komplet dan <font color = red>syarat</font> nya sangat <font color = red>berkurang</font> tempat yang sangat <font color = red>lela</font></td>\n",
       "    </tr>\n",
       "    <tr>\n",
       "      <th>111</th>\n",
       "      <td>saya menginap dua malam bersama keluarga secara keseluruhan hotel nya sangat <font color = blue>bagus</font> <font color = blue>bersih</font> fasilitas <font color = blue>hotel</font> lengkap breakfast nya pun <font color = blue>enak</font> enak dan tentunya suasana hotel yang <font color = blue>sejuk</font> dan nyaman <font color = blue>cocok</font> untuk pilihan menginap bersama keluarga</td>\n",
       "      <td>saya menginap dua malam bersama keluarga secara keseluruhan hotel nya sangat <font color = red>sangat</font> <font color = red>kosong</font> fasilitas <font color = red>telatap</font> lengkap breakfast nya pun <font color = red>hasan</font> enak dan tentunya suasana hotel yang <font color = red>kedinginan</font> dan nyaman <font color = red>beradab</font> untuk pilihan menginap bersama keluarga</td>\n",
       "    </tr>\n",
       "    <tr>\n",
       "      <th>112</th>\n",
       "      <td><font color = blue>proses</font> <font color = blue>cek</font> in <font color = blue>cepat</font> staf nya <font color = blue>ramah</font> dan helpfully <font color = blue>lingkungan</font> hotel sangat <font color = blue>asri</font> <font color = blue>sejuk</font> dan <font color = blue>tenang</font> amenities di kamar <font color = blue>lengkap</font> terdapat kampung ramadhan untuk berbuka dengan begitu banyak pilihan <font color = blue>makanan</font> yang siap <font color = blue>memanjakan</font> lidah terbaik tempat untuk staf when kamu <font color = blue>visi</font> bandung</td>\n",
       "      <td><font color = red>tindakan</font> <font color = red>pembuktian</font> in <font color = red>memburu-buru</font> staf nya <font color = red>curiah</font> dan helpfully <font color = red>tiba</font> hotel sangat <font color = red>bagus</font> <font color = red>kedinginan</font> dan <font color = red>bungkam</font> amenities di kamar <font color = red>memasang</font> terdapat kampung ramadhan untuk berbuka dengan begitu banyak pilihan <font color = red>mencampurkan</font> yang siap <font color = red>merusak</font> lidah terbaik tempat untuk staf when kamu <font color = red>khayalan</font> bandung</td>\n",
       "    </tr>\n",
       "    <tr>\n",
       "      <th>113</th>\n",
       "      <td>kami memakai berenam dan memakai kamar kamar besar dan bersih breakfast nya <font color = blue>enak</font> banyak <font color = blue>varian</font> nya dan aneka segar juice pelayanan sangat baik terutama pelayanan di restoran sangat <font color = blue>memuaskan</font> rekomendasi</td>\n",
       "      <td>kami memakai berenam dan memakai kamar kamar besar dan bersih breakfast nya <font color = red>waras</font> banyak <font color = red>kelainan</font> nya dan aneka segar juice pelayanan sangat baik terutama pelayanan di restoran sangat <font color = red>muak</font> rekomendasi</td>\n",
       "    </tr>\n",
       "    <tr>\n",
       "      <th>114</th>\n",
       "      <td>menurut ku rumah <font color = blue>sakit</font> <font color = blue>harapan</font> kita itu <font color = blue>rekomendasi</font> selain bisa rooming suster nya juga <font color = blue>membantu</font> soal biaya tidak usah khawatir karena pasti terjangkau</td>\n",
       "      <td>menurut ku rumah <font color = red>mencelakai</font> <font color = red>harap</font> kita itu <font color = red>cadangan</font> selain bisa rooming suster nya juga <font color = red>mencampurkan</font> soal biaya tidak usah khawatir karena pasti terjangkau</td>\n",
       "    </tr>\n",
       "    <tr>\n",
       "      <th>115</th>\n",
       "      <td>kalau <font color = blue>belanja</font> di blibli com tidak usah <font color = blue>ragu</font> pertama kita bisa leluasa <font color = blue>memilih</font> produk tanpa <font color = blue>takut</font> privasi kita <font color = blue>terganggu</font> selain itu kita juga dapat fasilitas <font color = blue>pengiriman</font> yang <font color = blue>cepat</font> dan gratis bisa sambil sadar emat uang dan <font color = blue>tenaga</font></td>\n",
       "      <td>kalau <font color = red>memperlakukan</font> di blibli com tidak usah <font color = red>maido</font> pertama kita bisa leluasa <font color = red>mengundi</font> produk tanpa <font color = red>kuat</font> privasi kita <font color = red>mengacaukan</font> selain itu kita juga dapat fasilitas <font color = red>tugas</font> yang <font color = red>tergesa-gesa</font> dan gratis bisa sambil sadar emat uang dan <font color = red>rancak</font></td>\n",
       "    </tr>\n",
       "    <tr>\n",
       "      <th>116</th>\n",
       "      <td>saya dukung ahok itu tidak ada <font color = blue>hubungan</font> nya dengan etnis dia atau agama ahok bahkan saya tak tahu agama dia apa saya dukung ahok karena saya <font color = blue>suka</font> fenomena baru dalam pemerintahan yang inovatif <font color = blue>bersih</font> dan banyak terobosan terobosan yang ia kerjakan dalam <font color = blue>membangun</font> pemerintahan</td>\n",
       "      <td>saya dukung ahok itu tidak ada <font color = red>persatuan</font> nya dengan etnis dia atau agama ahok bahkan saya tak tahu agama dia apa saya dukung ahok karena saya <font color = red>ingin</font> fenomena baru dalam pemerintahan yang inovatif <font color = red>kosong</font> dan banyak terobosan terobosan yang ia kerjakan dalam <font color = red>memalsukan</font> pemerintahan</td>\n",
       "    </tr>\n",
       "    <tr>\n",
       "      <th>117</th>\n",
       "      <td>spasi <font color = red>bambang</font> jangan <font color = red>suka</font> mengkafirkan sesama muslim lu bukan <font color = red>malaikat</font> tanpa dosa beda pilihan beda <font color = red>pemahaman</font> oke itu hak lu tetapi tidak harus mejelek mejelekin orang lain juga tidak <font color = red>suka</font> cara lo yang <font color = red>kayak</font> gini</td>\n",
       "      <td>spasi <font color = blue>luas</font> jangan <font color = blue>peduli</font> mengkafirkan sesama muslim lu bukan <font color = blue>santo</font> tanpa dosa beda pilihan beda <font color = blue>tiba</font> oke itu hak lu tetapi tidak harus mejelek mejelekin orang lain juga tidak <font color = blue>sukaria</font> cara lo yang <font color = blue>menghayati</font> gini</td>\n",
       "    </tr>\n",
       "    <tr>\n",
       "      <th>118</th>\n",
       "      <td><font color = blue>suka</font> <font color = blue>banget</font> sama siti nurhaliza <font color = blue>suara</font> nya <font color = blue>wajah</font> nya attitude nya <font color = blue>sempurna</font> kayak nya cuma dia penyanyi yang tidak ada haters nya paling <font color = blue>suka</font> dulu pas dia rilis album transkripsi lupa tahun berapa <font color = blue>lagu</font> lagu nya semua jadi favorit ku semoga bisa duet sama di dalam album</td>\n",
       "      <td><font color = red>ganal</font> <font color = red>amat</font> sama siti nurhaliza <font color = red>pembunyian</font> nya <font color = red>lagak</font> nya attitude nya <font color = red>absolut</font> kayak nya cuma dia penyanyi yang tidak ada haters nya paling <font color = red>ganal</font> dulu pas dia rilis album transkripsi lupa tahun berapa <font color = red>perbuatan</font> lagu nya semua jadi favorit ku semoga bisa duet sama di dalam album</td>\n",
       "    </tr>\n",
       "    <tr>\n",
       "      <th>119</th>\n",
       "      <td>foto aku cuma modal kamera xiaomi tetapi tetap <font color = blue>suka</font></td>\n",
       "      <td>foto aku cuma modal kamera xiaomi tetapi tetap <font color = green>persetujuan</font></td>\n",
       "    </tr>\n",
       "    <tr>\n",
       "      <th>120</th>\n",
       "      <td>xiaomi ram nya <font color = blue>mantap</font> baterai awet juga kamera depan nya juga <font color = blue>lumayan</font> tidak <font color = blue>menyesal</font> beli ini</td>\n",
       "      <td>xiaomi ram nya <font color = red>kaku</font> baterai awet juga kamera depan nya juga <font color = red>pantas</font> tidak <font color = red>insaf</font> beli ini</td>\n",
       "    </tr>\n",
       "    <tr>\n",
       "      <th>121</th>\n",
       "      <td>xiaomi karena gue pakai xiaomi sekarang sebelumnya oppo f lebih suka xiaomi saja baterai nya kuat gue <font color = blue>puas</font> banget sih dengan xiaomi</td>\n",
       "      <td>xiaomi karena gue pakai xiaomi sekarang sebelumnya oppo f lebih suka xiaomi saja baterai nya kuat gue <font color = red>marem</font> banget sih dengan xiaomi</td>\n",
       "    </tr>\n",
       "    <tr>\n",
       "      <th>122</th>\n",
       "      <td>temen gue telepon genggam nya xiaomi yang juta saja masih kembali pas gue tanya kenapa dia beli itu padahal bisa saja di beli iphone dia jawab karena dia <font color = blue>suka</font> karena spek nya melebih iphone yang lo pandang ricuh itu</td>\n",
       "      <td>temen gue telepon genggam nya xiaomi yang juta saja masih kembali pas gue tanya kenapa dia beli itu padahal bisa saja di beli iphone dia jawab karena dia <font color = red>berhasrat</font> karena spek nya melebih iphone yang lo pandang ricuh itu</td>\n",
       "    </tr>\n",
       "    <tr>\n",
       "      <th>123</th>\n",
       "      <td>yang paling saya <font color = blue>suka</font> dari adalah trully open source sampai disediakan forum khusus itu bikin <font color = blue>nyaman</font> banget sih</td>\n",
       "      <td>yang paling saya <font color = red>mengakuri</font> dari adalah trully open source sampai disediakan forum khusus itu bikin <font color = red>informal</font> banget sih</td>\n",
       "    </tr>\n",
       "    <tr>\n",
       "      <th>124</th>\n",
       "      <td>agak nya xiaomi tidak <font color = blue>main</font> main mau masuk pasar ponsel global <font color = blue>mantap</font> saya selalu <font color = blue>suka</font> miui mereka d</td>\n",
       "      <td>agak nya xiaomi tidak <font color = red>mengetahui</font> main mau masuk pasar ponsel global <font color = red>kaku</font> saya selalu <font color = red>membenarkan</font> miui mereka d</td>\n",
       "    </tr>\n",
       "    <tr>\n",
       "      <th>125</th>\n",
       "      <td>tidak dapat apple aku tidak kecewa kok yang penting samsung galaxy grand sudah di tangan ku sekarang aku <font color = blue>senang</font></td>\n",
       "      <td>tidak dapat apple aku tidak kecewa kok yang penting samsung galaxy grand sudah di tangan ku sekarang aku <font color = red>marem</font></td>\n",
       "    </tr>\n",
       "    <tr>\n",
       "      <th>126</th>\n",
       "      <td><font color = blue>terima</font> <font color = blue>kasih</font> bapak presiden jokowi sudah hadir dan <font color = blue>menginap</font> di tengah tengah kami warga lombok utara kehadiran bapak <font color = blue>menambah</font> <font color = blue>semangat</font> kami untuk bangkit lagi</td>\n",
       "      <td><font color = red>menggantikan</font> <font color = red>perasaan</font> bapak presiden jokowi sudah hadir dan <font color = red>menumpang</font> di tengah tengah kami warga lombok utara kehadiran bapak <font color = red>mencampurkan</font> <font color = red>nafsu</font> kami untuk bangkit lagi</td>\n",
       "    </tr>\n",
       "    <tr>\n",
       "      <th>127</th>\n",
       "      <td>ketersediaan air adalah kunci ketahanan pangan kita karena itulah pemerintah telah membangun bendungan yang akan menjamin produksi pangan kita di masa depan <font color = blue>terima</font> <font color = blue>kasih</font> pak</td>\n",
       "      <td>ketersediaan air adalah kunci ketahanan pangan kita karena itulah pemerintah telah membangun bendungan yang akan menjamin produksi pangan kita di masa depan <font color = green>mengadakan</font> <font color = green>penyakit</font> pak</td>\n",
       "    </tr>\n",
       "    <tr>\n",
       "      <th>128</th>\n",
       "      <td><font color = blue>terima</font> kasih bang atas <font color = blue>apresiasi</font> nya semoga pak cepat <font color = blue>menemui</font> wakil kami korban phk sepihak freeport bila perlu pak presiden agar masalah kami terselesaikan</td>\n",
       "      <td><font color = green>mengadakan</font> kasih bang atas <font color = green>penghayatan</font> nya semoga pak cepat <font color = green>bertinjau-tinjauan</font> wakil kami korban phk sepihak freeport bila perlu pak presiden agar masalah kami terselesaikan</td>\n",
       "    </tr>\n",
       "    <tr>\n",
       "      <th>129</th>\n",
       "      <td>masyarakat papua dipastikan akan <font color = blue>mendukung</font> memilih jokowi saat pilpres karena masyarakat papua <font color = blue>merasakan</font> hasil pembangunan yang dicapai di era terima kasih pak</td>\n",
       "      <td>masyarakat papua dipastikan akan <font color = red>mencengkam</font> memilih jokowi saat pilpres karena masyarakat papua <font color = red>mengecam</font> hasil pembangunan yang dicapai di era terima kasih pak</td>\n",
       "    </tr>\n",
       "    <tr>\n",
       "      <th>130</th>\n",
       "      <td>beliau cinta rakyat di cinta rakyat merakyat <font color = blue>terima</font> <font color = blue>kasih</font> pak</td>\n",
       "      <td>beliau cinta rakyat di cinta rakyat merakyat <font color = red>meluwengkan</font> <font color = red>perasaan</font> pak</td>\n",
       "    </tr>\n",
       "    <tr>\n",
       "      <th>131</th>\n",
       "      <td>semoga bapak selalu sehat semoga bapak bisa melanjutkan dua periode amin saya <font color = blue>mendukung</font> bapak</td>\n",
       "      <td>semoga bapak selalu sehat semoga bapak bisa melanjutkan dua periode amin saya <font color = red>meringkukkan</font> bapak</td>\n",
       "    </tr>\n",
       "    <tr>\n",
       "      <th>132</th>\n",
       "      <td>terima kasih kepada anies baswedan dan diego uno atas komitmen nya untuk tidak meninggalkan jabatan gubernur dan wakil gubernur selama tahun saya <font color = blue>bangga</font> memilih kalian</td>\n",
       "      <td>terima kasih kepada anies baswedan dan diego uno atas komitmen nya untuk tidak meninggalkan jabatan gubernur dan wakil gubernur selama tahun saya <font color = red>angkuh</font> memilih kalian</td>\n",
       "    </tr>\n",
       "    <tr>\n",
       "      <th>133</th>\n",
       "      <td>karya karya seperti itu layak <font color = blue>menempati</font> <font color = blue>lokasi</font> yang premium <font color = blue>indah</font> dan klasik saya <font color = blue>suka</font> terima kasih pak anies</td>\n",
       "      <td>karya karya seperti itu layak <font color = green>menduduki</font> <font color = green>peletakan</font> yang premium <font color = green>sahda</font> dan klasik saya <font color = green>persetujuan</font> terima kasih pak anies</td>\n",
       "    </tr>\n",
       "    <tr>\n",
       "      <th>134</th>\n",
       "      <td><font color = blue>terima</font> <font color = blue>kasih</font> pak anies sukses untuk anda baru <font color = blue>kali</font> ini <font color = blue>lihat</font> trotoar jakarta yang <font color = blue>lebar</font> nya <font color = blue>melebihi</font> lapangan badminton <font color = blue>keren</font> pak</td>\n",
       "      <td><font color = red>mencaplok</font> <font color = red>meregup</font> pak anies sukses untuk anda baru <font color = red>jam</font> ini <font color = red>mengawasi</font> trotoar jakarta yang <font color = red>buka</font> nya <font color = red>keterlaluan</font> lapangan badminton <font color = red>periang</font> pak</td>\n",
       "    </tr>\n",
       "    <tr>\n",
       "      <th>135</th>\n",
       "      <td><font color = blue>terima</font> <font color = blue>kasih</font> untuk buah karya mu di jakarta yang jadi <font color = blue>sejuk</font> <font color = blue>santun</font> bersama pak sandi juga pak anies</td>\n",
       "      <td><font color = green>iktiraf</font> <font color = green>afeksi</font> untuk buah karya mu di jakarta yang jadi <font color = green>kedinginan</font> <font color = green>seni</font> bersama pak sandi juga pak anies</td>\n",
       "    </tr>\n",
       "    <tr>\n",
       "      <th>136</th>\n",
       "      <td>gue paling <font color = blue>suka</font> pakai susu ultra yang lowfat sumpah sih <font color = blue>enak</font> banget banget malah gue cuma bisa menghabiskan indomie rebus kalau kuah nya diganti susu</td>\n",
       "      <td>gue paling <font color = red>membenarkan</font> pakai susu ultra yang lowfat sumpah sih <font color = red>molek</font> banget banget malah gue cuma bisa menghabiskan indomie rebus kalau kuah nya diganti susu</td>\n",
       "    </tr>\n",
       "    <tr>\n",
       "      <th>137</th>\n",
       "      <td>kenapa aku kok suka banget sama yang nama nya mi apalagi mi indomie goreng dikasih kuah telur berh rasanya mantap tjoy pangsit di depan rumah gue aja <font color = blue>kalah</font> enak sama mi buatan aku sendiri</td>\n",
       "      <td>kenapa aku kok suka banget sama yang nama nya mi apalagi mi indomie goreng dikasih kuah telur berh rasanya mantap tjoy pangsit di depan rumah gue aja <font color = red>kecewa</font> enak sama mi buatan aku sendiri</td>\n",
       "    </tr>\n",
       "    <tr>\n",
       "      <th>138</th>\n",
       "      <td>sebenarnya lebih suka kari ayam sih kak hehehe tapi kalau label nya sudah indomie apa saja masuk kok ke perut ku karena aku <font color = blue>penggemar</font> berat indomie</td>\n",
       "      <td>sebenarnya lebih suka kari ayam sih kak hehehe tapi kalau label nya sudah indomie apa saja masuk kok ke perut ku karena aku <font color = red>pengkhayal</font> berat indomie</td>\n",
       "    </tr>\n",
       "    <tr>\n",
       "      <th>139</th>\n",
       "      <td>yang terhormat saya <font color = blue>suka</font> banget sama indomie mau minta boleh tidak inovasiin bungkus minyak nya biar gampang dibuka pakai tangan dong supaya tidak bleweran ketika tidak ada gunting terima kasih</td>\n",
       "      <td>yang terhormat saya <font color = red>membenarkan</font> banget sama indomie mau minta boleh tidak inovasiin bungkus minyak nya biar gampang dibuka pakai tangan dong supaya tidak bleweran ketika tidak ada gunting terima kasih</td>\n",
       "    </tr>\n",
       "    <tr>\n",
       "      <th>140</th>\n",
       "      <td>yang saya <font color = blue>suka</font> dari chitato indomie konsistensi mereka meng eksplore rasa lokal <font color = blue>kesan</font> nya indonesia <font color = blue>banget</font></td>\n",
       "      <td>yang saya <font color = red>harap</font> dari chitato indomie konsistensi mereka meng eksplore rasa lokal <font color = red>kotoran</font> nya indonesia <font color = red>terlalu</font></td>\n",
       "    </tr>\n",
       "    <tr>\n",
       "      <th>141</th>\n",
       "      <td>asus <font color = blue>bagus</font> speaker nya <font color = blue>kencang</font> kalau buat presentasi mayan maka dari itu aku lebih milih asus dibanding yang lain</td>\n",
       "      <td>asus <font color = red>rupawan</font> speaker nya <font color = red>bengis</font> kalau buat presentasi mayan maka dari itu aku lebih milih asus dibanding yang lain</td>\n",
       "    </tr>\n",
       "    <tr>\n",
       "      <th>142</th>\n",
       "      <td>xiaomi redmi note atau asus zenfone max pro m saja jutaan sudah pakai snapdragon batre gede update os <font color = blue>terjamin</font> kamera <font color = blue>bagus</font></td>\n",
       "      <td>xiaomi redmi note atau asus zenfone max pro m saja jutaan sudah pakai snapdragon batre gede update os <font color = green>selamat</font> kamera <font color = green>bum</font></td>\n",
       "    </tr>\n",
       "    <tr>\n",
       "      <th>143</th>\n",
       "      <td>aku lagi <font color = blue>makan</font> mangga potong aku suka banget buah mangga besok kalau kepasar mau beli banyak banyak lagi ah</td>\n",
       "      <td>aku lagi <font color = red>muak</font> mangga potong aku suka banget buah mangga besok kalau kepasar mau beli banyak banyak lagi ah</td>\n",
       "    </tr>\n",
       "    <tr>\n",
       "      <th>144</th>\n",
       "      <td>jaemin itu soft banget hati nya <font color = blue>mudah</font> tersentuh begitu <font color = blue>sayang</font> banget sama nctzen juga inti nya dia itu <font color = blue>suka</font> sama yang nama nya kasih sayang itu kenapa aku <font color = blue>suka</font> banget sama dia</td>\n",
       "      <td>jaemin itu soft banget hati nya <font color = red>memelihara</font> tersentuh begitu <font color = red>penyakit</font> banget sama nctzen juga inti nya dia itu <font color = red>bercinta</font> sama yang nama nya kasih sayang itu kenapa aku <font color = red>membenarkan</font> banget sama dia</td>\n",
       "    </tr>\n",
       "    <tr>\n",
       "      <th>145</th>\n",
       "      <td>ingin rekomendasi saja buat yang tertarik kuliner bandung bacang yang ada di jalan naripan sebelah hotel ibis styles ibis yang warna <font color = blue>hijau</font> <font color = blue>sungguh</font> seenak itu <font color = blue>buka</font> dari jam sore sampai jam dinihari kalau belum sekali harga ribu <font color = blue>cocok</font> buat ajak <font color = blue>orang</font> tersayang nya</td>\n",
       "      <td>ingin rekomendasi saja buat yang tertarik kuliner bandung bacang yang ada di jalan naripan sebelah hotel ibis styles ibis yang warna <font color = red>mentah</font> <font color = red>terlalu</font> seenak itu <font color = red>meleraikan</font> dari jam sore sampai jam dinihari kalau belum sekali harga ribu <font color = red>mencampurkan</font> buat ajak <font color = red>manusia</font> tersayang nya</td>\n",
       "    </tr>\n",
       "    <tr>\n",
       "      <th>146</th>\n",
       "      <td>kuliner pertama yang harus dicoba itu ketan jompo rasa jangan ditanya lagi gurih <font color = blue>manis</font> dan <font color = blue>hangat</font> nya <font color = blue>ketan</font> yang ditaburi bubuk koyah bisa banget <font color = blue>menemani</font> <font color = blue>malam</font> kalian di kota jember harga nya juga <font color = blue>murah</font> cuma tiga ribu <font color = blue>suka</font> banget</td>\n",
       "      <td>kuliner pertama yang harus dicoba itu ketan jompo rasa jangan ditanya lagi gurih <font color = red>halus</font> dan <font color = red>sayang</font> nya <font color = red>belengket</font> yang ditaburi bubuk koyah bisa banget <font color = red>menganut</font> <font color = red>nokturnal</font> kalian di kota jember harga nya juga <font color = red>kotor</font> cuma tiga ribu <font color = red>ingin</font> banget</td>\n",
       "    </tr>\n",
       "    <tr>\n",
       "      <th>147</th>\n",
       "      <td>di jember itu ada tempat <font color = blue>makan</font> enak nama nya warung bakaran mbak vivi makanan nya enak enak bakaran nya itu pas banget matang nya dan yang paling penting nya harga nya <font color = blue>murah</font> sekali untuk <font color = blue>makanan</font> seenak itu</td>\n",
       "      <td>di jember itu ada tempat <font color = red>menuntut</font> enak nama nya warung bakaran mbak vivi makanan nya enak enak bakaran nya itu pas banget matang nya dan yang paling penting nya harga nya <font color = red>buruk</font> sekali untuk <font color = red>melayani</font> seenak itu</td>\n",
       "    </tr>\n",
       "    <tr>\n",
       "      <th>148</th>\n",
       "      <td>gue baru pertama kali ke tempat <font color = blue>makan</font> nama nya ayam rempah jember rasanya bisa diadu sama <font color = blue>makanan</font> makanan <font color = blue>enak</font> kelas atas <font color = blue>paduan</font> nasi <font color = blue>hangat</font> sama ayam rempah terus disanding sama dua macam sambal dan <font color = blue>minum</font> nya <font color = blue>jeruk</font> <font color = blue>panas</font> parah sih itu rasanya <font color = blue>ketagihan</font> bikin ingin lagi dan lagi dan lagi</td>\n",
       "      <td>gue baru pertama kali ke tempat <font color = red>rakus</font> nama nya ayam rempah jember rasanya bisa diadu sama <font color = red>menyerahkan</font> makanan <font color = red>elok</font> kelas atas <font color = red>kepaduan</font> nasi <font color = red>pesam</font> sama ayam rempah terus disanding sama dua macam sambal dan <font color = red>ambil</font> nya <font color = red>acar</font> <font color = red>berdiang</font> parah sih itu rasanya <font color = red>ketergantungan</font> bikin ingin lagi dan lagi dan lagi</td>\n",
       "    </tr>\n",
       "    <tr>\n",
       "      <th>149</th>\n",
       "      <td>di jember ada juga makanan nama nya tahu telur bangka waktu itu belum pernah nyobain makanan yang begituan eh sekali nya mencoba gue langsung <font color = blue>jatuh</font> cinta top</td>\n",
       "      <td>di jember ada juga makanan nama nya tahu telur bangka waktu itu belum pernah nyobain makanan yang begituan eh sekali nya mencoba gue langsung <font color = red>kecewa</font> cinta top</td>\n",
       "    </tr>\n",
       "    <tr>\n",
       "      <th>150</th>\n",
       "      <td>pujasera okm semanggi itu <font color = blue>salah</font> satu tempat <font color = blue>makan</font> yang lagi populer di jember asik banget buat nongkrong wifi nya juga <font color = blue>kencang</font> <font color = blue>kayak</font> nya sih bakal sering sering ke sana</td>\n",
       "      <td>pujasera okm semanggi itu <font color = red>janggal</font> satu tempat <font color = red>membenamkan</font> yang lagi populer di jember asik banget buat nongkrong wifi nya juga <font color = red>bengis</font> <font color = red>harap</font> nya sih bakal sering sering ke sana</td>\n",
       "    </tr>\n",
       "    <tr>\n",
       "      <th>151</th>\n",
       "      <td>haha yang baru baru sih sudah tidak begitu terlihat absurd nya yang rog baru malah logo mata doang keren jadi nya lenovo legion yang baru malah lebih lebih lagi <font color = blue>elegan</font> nya kalau saya pribadi sih <font color = blue>suka</font></td>\n",
       "      <td>haha yang baru baru sih sudah tidak begitu terlihat absurd nya yang rog baru malah logo mata doang keren jadi nya lenovo legion yang baru malah lebih lebih lagi <font color = red>kehalusan</font> nya kalau saya pribadi sih <font color = red>membenarkan</font></td>\n",
       "    </tr>\n",
       "    <tr>\n",
       "      <th>152</th>\n",
       "      <td>ultra milk ini luv <font color = blue>banget</font> <font color = blue>ya</font> sekali nya ngeluarin flavor baru dua dua nya favorit ku tapi ku lebih <font color = blue>sayang</font> sama yang karamel sih</td>\n",
       "      <td>ultra milk ini luv <font color = red>terlalu</font> <font color = red>alah</font> sekali nya ngeluarin flavor baru dua dua nya favorit ku tapi ku lebih <font color = red>penyakit</font> sama yang karamel sih</td>\n",
       "    </tr>\n",
       "    <tr>\n",
       "      <th>153</th>\n",
       "      <td>big cola itu <font color = blue>enak</font> banget aku suka dia tidak jauh beda enak nya dengan minuman cola lain ditambah dia itu harga nya lebih <font color = blue>murah</font> luv <font color = blue>banget</font> buat orang yang suka cola kayak aku</td>\n",
       "      <td>big cola itu <font color = red>boto</font> banget aku suka dia tidak jauh beda enak nya dengan minuman cola lain ditambah dia itu harga nya lebih <font color = red>buruk</font> luv <font color = red>terlalu</font> buat orang yang suka cola kayak aku</td>\n",
       "    </tr>\n",
       "    <tr>\n",
       "      <th>154</th>\n",
       "      <td>dulu saya haus setelah ke indomaret dan membeli big cola haus saya hilang gila rasanya <font color = blue>enak</font> banget sejak saat itu jadi keterusan <font color = blue>suka</font> minumkan big cola</td>\n",
       "      <td>dulu saya haus setelah ke indomaret dan membeli big cola haus saya hilang gila rasanya <font color = red>hasan</font> banget sejak saat itu jadi keterusan <font color = red>sukaria</font> minumkan big cola</td>\n",
       "    </tr>\n",
       "    <tr>\n",
       "      <th>155</th>\n",
       "      <td>sumpah big cola jauh banget lebih enak daripada coca cola tidak terlalu manis dan tidak menyisakan pait di mulut seperti coke zero wkwk norak ya gue baru mencoba tapi asli <font color = blue>enak</font> banget</td>\n",
       "      <td>sumpah big cola jauh banget lebih enak daripada coca cola tidak terlalu manis dan tidak menyisakan pait di mulut seperti coke zero wkwk norak ya gue baru mencoba tapi asli <font color = red>berair</font> banget</td>\n",
       "    </tr>\n",
       "    <tr>\n",
       "      <th>156</th>\n",
       "      <td>aku <font color = blue>sayang</font> banget sama susu ultramilk rasanya tiap ke indomaret tidak pernah tidak beli susu itu <font color = blue>enak</font> ketagihan</td>\n",
       "      <td>aku <font color = red>rendah</font> banget sama susu ultramilk rasanya tiap ke indomaret tidak pernah tidak beli susu itu <font color = red>kelezatan</font> ketagihan</td>\n",
       "    </tr>\n",
       "    <tr>\n",
       "      <th>157</th>\n",
       "      <td>oppo f menurut gue <font color = blue>mantap</font> banget sih mulai dari kamera depan nya yang bersih terus layar nya penuh display pakai gorilla glass lalu kamera belakang nya naik tingkat banget dari yang sebelumnya tidak menyesal gue beli ini hp</td>\n",
       "      <td>oppo f menurut gue <font color = red>kaku</font> banget sih mulai dari kamera depan nya yang bersih terus layar nya penuh display pakai gorilla glass lalu kamera belakang nya naik tingkat banget dari yang sebelumnya tidak menyesal gue beli ini hp</td>\n",
       "    </tr>\n",
       "    <tr>\n",
       "      <th>158</th>\n",
       "      <td>ini ya menurut gue tentang hotel aston itu pertama staf hotel tanggap cepat dan ramah kedua untuk sarapan lumayan enak dan untuk anak <font color = blue>anak</font> <font color = blue>suka</font> sekali dengan kolam renang anak termasuk saya dan istri ketiga yang pasti <font color = blue>bersih</font></td>\n",
       "      <td>ini ya menurut gue tentang hotel aston itu pertama staf hotel tanggap cepat dan ramah kedua untuk sarapan lumayan enak dan untuk anak <font color = red>mentah</font> <font color = red>bercintakan</font> sekali dengan kolam renang anak termasuk saya dan istri ketiga yang pasti <font color = red>polos</font></td>\n",
       "    </tr>\n",
       "    <tr>\n",
       "      <th>159</th>\n",
       "      <td>kolam renang di hotel aston bikin tidak mau berenti berenang <font color = blue>nyaman</font> <font color = blue>banget</font> air nya <font color = blue>bersih</font> tempat bilas nya <font color = blue>nyaman</font></td>\n",
       "      <td>kolam renang di hotel aston bikin tidak mau berenti berenang <font color = red>informal</font> <font color = red>amat</font> air nya <font color = red>kosong</font> tempat bilas nya <font color = red>informal</font></td>\n",
       "    </tr>\n",
       "    <tr>\n",
       "      <th>160</th>\n",
       "      <td>wah <font color = blue>keren</font> ya persiapan bni saya juga <font color = blue>mendukung</font> semoga bisa berjalan lancar</td>\n",
       "      <td>wah <font color = green>periang</font> ya persiapan bni saya juga <font color = green>mundur</font> semoga bisa berjalan lancar</td>\n",
       "    </tr>\n",
       "    <tr>\n",
       "      <th>161</th>\n",
       "      <td>lebih <font color = blue>enak</font> lagi kalau nasi padang oreo momogi chocolatos terus semua itu di campur di aduk pakai tangan baru dimakan <font color = blue>enak</font> banget</td>\n",
       "      <td>lebih <font color = red>elok</font> lagi kalau nasi padang oreo momogi chocolatos terus semua itu di campur di aduk pakai tangan baru dimakan <font color = red>syahda</font> banget</td>\n",
       "    </tr>\n",
       "    <tr>\n",
       "      <th>162</th>\n",
       "      <td>sudah lama tidak minum ultra milk rasa stroberi <font color = blue>pas</font> sekarang minum merasa <font color = blue>enak</font> sekali tidak tahu kenapa <font color = blue>ketagihan</font> rasanya ingin beli sekardus gede buat diminum sendiri</td>\n",
       "      <td>sudah lama tidak minum ultra milk rasa stroberi <font color = red>lulus</font> sekarang minum merasa <font color = red>selesa</font> sekali tidak tahu kenapa <font color = red>habituasi</font> rasanya ingin beli sekardus gede buat diminum sendiri</td>\n",
       "    </tr>\n",
       "    <tr>\n",
       "      <th>163</th>\n",
       "      <td>go jek kalian harus tetap ada karena kami bukan sekadar butuh angkutan kami juga butuh pelayanan yang prima seperti biasanya saya sangat <font color = blue>mendukung</font> kalian</td>\n",
       "      <td>go jek kalian harus tetap ada karena kami bukan sekadar butuh angkutan kami juga butuh pelayanan yang prima seperti biasanya saya sangat <font color = red>membuang</font> kalian</td>\n",
       "    </tr>\n",
       "    <tr>\n",
       "      <th>164</th>\n",
       "      <td>saya <font color = blue>senang</font> di <font color = blue>bali</font> <font color = blue>bagus</font> pelayanan go jek nya sangat terbantu dengan <font color = blue>keberadaan</font> nya memang harus ada terus supaya pelayanan nya semakin <font color = blue>memuaskan</font></td>\n",
       "      <td>saya <font color = red>berdaulat</font> di <font color = red>Subali</font> <font color = red>gombang</font> pelayanan go jek nya sangat terbantu dengan <font color = red>ada</font> nya memang harus ada terus supaya pelayanan nya semakin <font color = red>muak</font></td>\n",
       "    </tr>\n",
       "    <tr>\n",
       "      <th>165</th>\n",
       "      <td>kalau driver go jek tidak pelayanan prima meminta <font color = blue>bungkus</font> acar untuk mengambil saos tambahan hilang nafsu makan saya bravo driver go jek</td>\n",
       "      <td>kalau driver go jek tidak pelayanan prima meminta <font color = red>kampit</font> acar untuk mengambil saos tambahan hilang nafsu makan saya bravo driver go jek</td>\n",
       "    </tr>\n",
       "    <tr>\n",
       "      <th>166</th>\n",
       "      <td>banyak <font color = blue>alasan</font> saya bisa merasa puas dengan pelayanan go jek go jek tidak pernah <font color = blue>lepas</font> dari tanggung jawab itu adalah nilai plus yang belum tentu dimiliki oleh perusahaan yang lain</td>\n",
       "      <td>banyak <font color = red>merasionalkan</font> saya bisa merasa puas dengan pelayanan go jek go jek tidak pernah <font color = red>mengimbak-imbak</font> dari tanggung jawab itu adalah nilai plus yang belum tentu dimiliki oleh perusahaan yang lain</td>\n",
       "    </tr>\n",
       "    <tr>\n",
       "      <th>167</th>\n",
       "      <td>kepada yang terhormat ibu dari ayi djembarsari selamat <font color = blue>menunaikan</font> tugas bu sebagai dirut rshs semoga pelayanan rshs semakin baik saya <font color = blue>bangga</font> kepada ibu</td>\n",
       "      <td>kepada yang terhormat ibu dari ayi djembarsari selamat <font color = green>bertinjau-tinjauan</font> tugas bu sebagai dirut rshs semoga pelayanan rshs semakin baik saya <font color = green>aga</font> kepada ibu</td>\n",
       "    </tr>\n",
       "    <tr>\n",
       "      <th>168</th>\n",
       "      <td><font color = blue>terima</font> kasih atas saran yang kamu berikan kak kami akan selalu <font color = blue>berusaha</font> untuk meningkatkan pelayanan kami untuk pengalaman belanja yang lebih <font color = blue>menyenangkan</font> ya</td>\n",
       "      <td><font color = red>mencaplok</font> kasih atas saran yang kamu berikan kak kami akan selalu <font color = red>menolak</font> untuk meningkatkan pelayanan kami untuk pengalaman belanja yang lebih <font color = red>berkurang</font> ya</td>\n",
       "    </tr>\n",
       "    <tr>\n",
       "      <th>169</th>\n",
       "      <td>hai kak terima kasih atas masukan kamu ya saran kamu sangat <font color = blue>berharga</font> bagi kami kami akan berupaya meningkatkan performa aplikasi dan pelayanan kami untuk pengalaman jual beli yang selalu <font color = blue>menyenangkan</font> untuk kamu dan semua sobat shopee ya kak</td>\n",
       "      <td>hai kak terima kasih atas masukan kamu ya saran kamu sangat <font color = red>merugikan</font> bagi kami kami akan berupaya meningkatkan performa aplikasi dan pelayanan kami untuk pengalaman jual beli yang selalu <font color = red>berkurang</font> untuk kamu dan semua sobat shopee ya kak</td>\n",
       "    </tr>\n",
       "    <tr>\n",
       "      <th>170</th>\n",
       "      <td>keleveru terbaik memang dari kualitas kuantitas pelayanan pun terbaik tidak <font color = blue>salah</font> pilih aku</td>\n",
       "      <td>keleveru terbaik memang dari kualitas kuantitas pelayanan pun terbaik tidak <font color = red>sumbang</font> pilih aku</td>\n",
       "    </tr>\n",
       "    <tr>\n",
       "      <th>171</th>\n",
       "      <td><font color = blue>cocok</font> banget gue pakai shope sudah mana ongkos kirim gratis pengiriman juga aman dan <font color = blue>lancar</font></td>\n",
       "      <td><font color = red>mengarun</font> banget gue pakai shope sudah mana ongkos kirim gratis pengiriman juga aman dan <font color = red>licin</font></td>\n",
       "    </tr>\n",
       "    <tr>\n",
       "      <th>172</th>\n",
       "      <td>alhamdulillah selama beli di lazada tidak pernah bermasalah <font color = blue>barang</font> <font color = blue>barang</font> nya lebih <font color = blue>lucu</font> <font color = blue>lucu</font> <font color = blue>pelayanan</font> juga lebih baik dari yang lain sudah deh kalau beli apa apa aku mau <font color = blue>beli</font> di lazada saja</td>\n",
       "      <td>alhamdulillah selama beli di lazada tidak pernah bermasalah <font color = red>muatan</font> <font color = red>barangan</font> nya lebih <font color = red>absurd</font> <font color = red>absurd</font> <font color = red>jasa</font> juga lebih baik dari yang lain sudah deh kalau beli apa apa aku mau <font color = red>pembelian</font> di lazada saja</td>\n",
       "    </tr>\n",
       "    <tr>\n",
       "      <th>173</th>\n",
       "      <td>karena shopee bukan <font color = blue>barang</font> shope dia itu tempat belanjaan aku yang paling luar biasa <font color = blue>pelayanan</font> nya oke punya <font color = blue>disko</font> nya <font color = blue>banjir</font></td>\n",
       "      <td>karena shopee bukan <font color = red>tindakan</font> shope dia itu tempat belanjaan aku yang paling luar biasa <font color = red>bakti</font> nya oke punya <font color = red>klub</font> nya <font color = red>tertubruk</font></td>\n",
       "    </tr>\n",
       "    <tr>\n",
       "      <th>174</th>\n",
       "      <td>harus belanja di shopee karena shopee itu memberikan bukti <font color = blue>pelayanan</font> yang baik bukan sekadar janji doang seperti mantan itu</td>\n",
       "      <td>harus belanja di shopee karena shopee itu memberikan bukti <font color = red>jasa</font> yang baik bukan sekadar janji doang seperti mantan itu</td>\n",
       "    </tr>\n",
       "    <tr>\n",
       "      <th>175</th>\n",
       "      <td>harus belanja di shopee karena pelayanan dari shope itu benar benar <font color = blue>memuaskan</font> pelanggan dan takkan mengecewakan</td>\n",
       "      <td>harus belanja di shopee karena pelayanan dari shope itu benar benar <font color = red>muak</font> pelanggan dan takkan mengecewakan</td>\n",
       "    </tr>\n",
       "    <tr>\n",
       "      <th>176</th>\n",
       "      <td>karena hanya shope yang pelayanan nya memuaskan diskon besar besaran barang nya juga pasti nya bermerek <font color = blue>mantap</font></td>\n",
       "      <td>karena hanya shope yang pelayanan nya memuaskan diskon besar besaran barang nya juga pasti nya bermerek <font color = red>malar</font></td>\n",
       "    </tr>\n",
       "    <tr>\n",
       "      <th>177</th>\n",
       "      <td>shopee itu pusat pembelanjaan online terpercaya dengan pelayanan yang memuaskan yang paling <font color = blue>menarik</font> adalah pemberian diskon yang besar besaran aku suka aku <font color = blue>suka</font></td>\n",
       "      <td>shopee itu pusat pembelanjaan online terpercaya dengan pelayanan yang memuaskan yang paling <font color = red>menyusahkan</font> adalah pemberian diskon yang besar besaran aku suka aku <font color = red>mengecap</font></td>\n",
       "    </tr>\n",
       "    <tr>\n",
       "      <th>178</th>\n",
       "      <td>kalau ada permasalahan di toko pedia bisa langsung terselesaikan dengan mudah dan cepat pelayanan nya juga jelas pusat panggilan yang harus dihubungi juga selalu <font color = blue>aktif</font> <font color = blue>memuaskan</font></td>\n",
       "      <td>kalau ada permasalahan di toko pedia bisa langsung terselesaikan dengan mudah dan cepat pelayanan nya juga jelas pusat panggilan yang harus dihubungi juga selalu <font color = red>rancak</font> <font color = red>muak</font></td>\n",
       "    </tr>\n",
       "    <tr>\n",
       "      <th>179</th>\n",
       "      <td><font color = blue>senang</font> sekali gue dengan pelayanan komplain di di saat penjual tidak menggubris tokopedia memberikan solusi dengan <font color = blue>cepat</font> pasti nya dengan investigasi yang tidak berlarut larut ya walau harus berakhir dengan pengembalian dana dana jadi gue tidak pernah <font color = blue>bosan</font> buat belanja di tokopedia</td>\n",
       "      <td><font color = red>marem</font> sekali gue dengan pelayanan komplain di di saat penjual tidak menggubris tokopedia memberikan solusi dengan <font color = red>rancak</font> pasti nya dengan investigasi yang tidak berlarut larut ya walau harus berakhir dengan pengembalian dana dana jadi gue tidak pernah <font color = red>menjemukan</font> buat belanja di tokopedia</td>\n",
       "    </tr>\n",
       "    <tr>\n",
       "      <th>180</th>\n",
       "      <td><font color = blue>terima</font> kasih atas tanggapan dari keluhan yang saya alami mengenai hilang nya kuota data saya terima kasih xl karena sudah betul betul menanggapi dan memberikan solusi yang sangat <font color = blue>memuaskan</font> atas keluhan keluhan saya saya jadi merasa sangat terbantu</td>\n",
       "      <td><font color = red>mencaplok</font> kasih atas tanggapan dari keluhan yang saya alami mengenai hilang nya kuota data saya terima kasih xl karena sudah betul betul menanggapi dan memberikan solusi yang sangat <font color = red>muak</font> atas keluhan keluhan saya saya jadi merasa sangat terbantu</td>\n",
       "    </tr>\n",
       "    <tr>\n",
       "      <th>181</th>\n",
       "      <td>kemarin itu pertama kalinya mencoba fatmilo yang white milo demi apa pun itu enak banget sih ampun aku itu tidak bisa berkata berkata lagi <font color = blue>enak</font> banget <font color = blue>selera</font> gue bangetlah</td>\n",
       "      <td>kemarin itu pertama kalinya mencoba fatmilo yang white milo demi apa pun itu enak banget sih ampun aku itu tidak bisa berkata berkata lagi <font color = red>elok</font> banget <font color = red>kehalusan</font> gue bangetlah</td>\n",
       "    </tr>\n",
       "    <tr>\n",
       "      <th>182</th>\n",
       "      <td>ada yang <font color = blue>suka</font> makanin milo bubuk langsung dari saset nya tidak iya sama memang <font color = blue>enak</font> banget gimana gitu sih rasanya gue bisa setelah lima bungkus sendiri</td>\n",
       "      <td>ada yang <font color = red>membenarkan</font> makanin milo bubuk langsung dari saset nya tidak iya sama memang <font color = red>kelezatan</font> banget gimana gitu sih rasanya gue bisa setelah lima bungkus sendiri</td>\n",
       "    </tr>\n",
       "    <tr>\n",
       "      <th>183</th>\n",
       "      <td><font color = blue>terima</font> kasih kembali oh iya garuda dan traveloka <font color = blue>cepat</font> <font color = blue>respons</font> <font color = blue>mantap</font> dan <font color = blue>keren</font></td>\n",
       "      <td><font color = red>mencaplok</font> kasih kembali oh iya garuda dan traveloka <font color = red>kesibukan</font> <font color = red>balasan</font> <font color = red>kaku</font> dan <font color = red>periang</font></td>\n",
       "    </tr>\n",
       "    <tr>\n",
       "      <th>184</th>\n",
       "      <td><font color = blue>mantap</font> banget ikut kontribusi di google local guides kemarin dapat voucher diskon traveloka terus ini dapat tokocash tokopedia lagi aku <font color = blue>senang</font></td>\n",
       "      <td><font color = red>kaku</font> banget ikut kontribusi di google local guides kemarin dapat voucher diskon traveloka terus ini dapat tokocash tokopedia lagi aku <font color = red>sukaria</font></td>\n",
       "    </tr>\n",
       "    <tr>\n",
       "      <th>185</th>\n",
       "      <td>wuih ada yang baru di aplikasi nih sekarang bisa <font color = blue>pesan</font> tiket bus <font color = blue>mantap</font></td>\n",
       "      <td>wuih ada yang baru di aplikasi nih sekarang bisa <font color = green>meminta</font> tiket bus <font color = green>kukuh</font></td>\n",
       "    </tr>\n",
       "    <tr>\n",
       "      <th>186</th>\n",
       "      <td>barusan memesan pesawat via traveloka seperti biasanya kadang pakai kadang booking com kadang agoda mana yang paling asyik aja <font color = blue>hidup</font> jadi lebih <font color = blue>mudah</font> <font color = blue>mantap</font> traveloka</td>\n",
       "      <td>barusan memesan pesawat via traveloka seperti biasanya kadang pakai kadang booking com kadang agoda mana yang paling asyik aja <font color = red>hilang</font> jadi lebih <font color = red>kacang</font> <font color = red>kaku</font> traveloka</td>\n",
       "    </tr>\n",
       "    <tr>\n",
       "      <th>187</th>\n",
       "      <td>terima kasih pelayanan <font color = blue>mantap</font> nih pengembalian dana cair kurang dari jam rekomendasi <font color = blue>banget</font> traveloka</td>\n",
       "      <td>terima kasih pelayanan <font color = red>kaku</font> nih pengembalian dana cair kurang dari jam rekomendasi <font color = red>amat</font> traveloka</td>\n",
       "    </tr>\n",
       "    <tr>\n",
       "      <th>188</th>\n",
       "      <td><font color = blue>mantap</font> <font color = blue>terima</font> <font color = blue>kasih</font> atas proses <font color = blue>pengembalian</font> dana yang <font color = blue>cepat</font> waktu maksimal hari tapi baru satu hari sudah ditransfer thumbsup</td>\n",
       "      <td><font color = green>utuh</font> <font color = green>mengantongi</font> <font color = green>afeksi</font> atas proses <font color = green>terbalik</font> dana yang <font color = green>kepesatan</font> waktu maksimal hari tapi baru satu hari sudah ditransfer thumbsup</td>\n",
       "    </tr>\n",
       "    <tr>\n",
       "      <th>189</th>\n",
       "      <td>saya tambah <font color = blue>setia</font> ini sama traveloka sekarang pilihan maskapai nya makin banyak payment nya mudah selaint itu harga nya <font color = blue>murah</font> dari yang lain <font color = blue>mantap</font></td>\n",
       "      <td>saya tambah <font color = red>malar</font> ini sama traveloka sekarang pilihan maskapai nya makin banyak payment nya mudah selaint itu harga nya <font color = red>kotor</font> dari yang lain <font color = red>malar</font></td>\n",
       "    </tr>\n",
       "    <tr>\n",
       "      <th>190</th>\n",
       "      <td>e tiket sudah saya terima <font color = blue>mantap</font> reservasi cepat harga murah nomor tiketing online indonesia</td>\n",
       "      <td>e tiket sudah saya terima <font color = green>malar</font> reservasi cepat harga murah nomor tiketing online indonesia</td>\n",
       "    </tr>\n",
       "    <tr>\n",
       "      <th>191</th>\n",
       "      <td>hari ini iseng mencoba versi beta nya mantap search engine nya tidak <font color = blue>pusing</font> lagi kalau mau cari tiket murah dan waktu penerbangan <font color = blue>memudahkan</font> aku</td>\n",
       "      <td>hari ini iseng mencoba versi beta nya mantap search engine nya tidak <font color = red>giliran</font> lagi kalau mau cari tiket murah dan waktu penerbangan <font color = red>menyusuti</font> aku</td>\n",
       "    </tr>\n",
       "    <tr>\n",
       "      <th>192</th>\n",
       "      <td>air asia ini <font color = blue>keren</font> banget kasih <font color = blue>tiket</font> gratis seumur <font color = blue>hidup</font> buat atlit asia pemenang <font color = blue>medali</font> di olimpiade rio</td>\n",
       "      <td>air asia ini <font color = green>gembira</font> banget kasih <font color = green>kupon</font> gratis seumur <font color = green>lolos</font> buat atlit asia pemenang <font color = green>lencana</font> di olimpiade rio</td>\n",
       "    </tr>\n",
       "    <tr>\n",
       "      <th>193</th>\n",
       "      <td>top deh hari ini lion air cengkareng balikpapan on time sekali mantap harus nya sepeti ini terus sangat <font color = blue>memuaskan</font></td>\n",
       "      <td>top deh hari ini lion air cengkareng balikpapan on time sekali mantap harus nya sepeti ini terus sangat <font color = red>muak</font></td>\n",
       "    </tr>\n",
       "    <tr>\n",
       "      <th>194</th>\n",
       "      <td>bu memang <font color = blue>mantap</font> semoga siapapun presiden nya <font color = blue>menteri</font> kelautan perikanan tetap <font color = blue>bu</font> susi amin</td>\n",
       "      <td>bu memang <font color = red>kaku</font> semoga siapapun presiden nya <font color = red>permaisuri</font> kelautan perikanan tetap <font color = red>perempuan</font> susi amin</td>\n",
       "    </tr>\n",
       "    <tr>\n",
       "      <th>195</th>\n",
       "      <td><font color = blue>mantap</font> bu saya juga akan ikut ke pantai bu biar laut kita bersih kalau kotor nanti malah ditenggelamkan dengan bu susi hehehe</td>\n",
       "      <td><font color = red>kaku</font> bu saya juga akan ikut ke pantai bu biar laut kita bersih kalau kotor nanti malah ditenggelamkan dengan bu susi hehehe</td>\n",
       "    </tr>\n",
       "    <tr>\n",
       "      <th>196</th>\n",
       "      <td><font color = blue>kebiasaan</font> paling keren dari tiki jne adalah <font color = blue>langsung</font> memberi laporan kalau yang menerima paket tidak ada di tempat tanpa telepon dulu ke si penerima <font color = blue>mantap</font></td>\n",
       "      <td><font color = red>kelakuan</font> paling keren dari tiki jne adalah <font color = red>berabad-abad</font> memberi laporan kalau yang menerima paket tidak ada di tempat tanpa telepon dulu ke si penerima <font color = red>kaku</font></td>\n",
       "    </tr>\n",
       "    <tr>\n",
       "      <th>197</th>\n",
       "      <td><font color = blue>mantap</font> sekali di hari libur tetap mengantarkan paket ke tujuan benar benar terapkan <font color = blue>semangat</font> kemerdekaan id bdo</td>\n",
       "      <td><font color = red>kaku</font> sekali di hari libur tetap mengantarkan paket ke tujuan benar benar terapkan <font color = red>rancak</font> kemerdekaan id bdo</td>\n",
       "    </tr>\n",
       "    <tr>\n",
       "      <th>198</th>\n",
       "      <td>pengiriman barang menggunakan jne sangat <font color = blue>memuaskan</font> <font color = blue>tanggal</font> sampai pengiriman barang sesuai pelayanan sangat ramah harga juga sangat masuk akal dan terjangkau</td>\n",
       "      <td>pengiriman barang menggunakan jne sangat <font color = red>muak</font> <font color = red>membuntuti</font> sampai pengiriman barang sesuai pelayanan sangat ramah harga juga sangat masuk akal dan terjangkau</td>\n",
       "    </tr>\n",
       "    <tr>\n",
       "      <th>199</th>\n",
       "      <td>saya suwandi sudah pesan tiket pak cengkareng tuk penerbangan tanggal jam via pesawat nam air namun sampai dengan hari ini tanggal juli saya belum terima info apa pun transfer dari bri syariah ke bank mandiri <font color = green>mohon</font> bantuan nya untuk diinformasi kembali <font color = green>terima</font> kasih</td>\n",
       "      <td>saya suwandi sudah pesan tiket pak cengkareng tuk penerbangan tanggal jam via pesawat nam air namun sampai dengan hari ini tanggal juli saya belum terima info apa pun transfer dari bri syariah ke bank mandiri <font color = red>menggoleng</font> bantuan nya untuk diinformasi kembali <font color = red>merelakan</font> kasih</td>\n",
       "    </tr>\n",
       "    <tr>\n",
       "      <th>200</th>\n",
       "      <td>samsung panasonic sharp dan berbagai produsen lainnya telah memasarkan berbagai macam <font color = green>jenis</font> mesin cuci dengan <font color = green>fungsi</font> yang <font color = green>beragam</font></td>\n",
       "      <td>samsung panasonic sharp dan berbagai produsen lainnya telah memasarkan berbagai macam <font color = blue>pilihan</font> mesin cuci dengan <font color = blue>menyediakan</font> yang <font color = blue>menghelakan</font></td>\n",
       "    </tr>\n",
       "    <tr>\n",
       "      <th>201</th>\n",
       "      <td>kami <font color = green>segenap</font> direksi dan <font color = green>karyawan</font> pt smartplus consulting indonesia mengucapkan <font color = green>selamat</font> hari <font color = green>raya</font> idul <font color = green>fitri</font> h</td>\n",
       "      <td>kami <font color = blue>benar-benar</font> direksi dan <font color = blue>profesional</font> pt smartplus consulting indonesia mengucapkan <font color = blue>terlindung</font> hari <font color = blue>keramaian</font> idul <font color = blue>suci</font> h</td>\n",
       "    </tr>\n",
       "    <tr>\n",
       "      <th>202</th>\n",
       "      <td>sudahlah ini <font color = red>negara</font> demokrasi jangan saling membual masing masing punya pilihan <font color = red>pilih</font> prabowo minggu tidak mau pilih jokowi juga tidak apa apa <font color = red>bebas</font></td>\n",
       "      <td>sudahlah ini <font color = blue>menyatakan</font> demokrasi jangan saling membual masing masing punya pilihan <font color = blue>berkualitas</font> prabowo minggu tidak mau pilih jokowi juga tidak apa apa <font color = blue>lega</font></td>\n",
       "    </tr>\n",
       "    <tr>\n",
       "      <th>203</th>\n",
       "      <td>kamu bisa punya <font color = green>koleksi</font> bts dengan <font color = green>membeli</font> smartphone lagi k selain tersedia wallpaper dan tema di dalam nya kamu juga dapat <font color = green>poster</font> dan postcard bts</td>\n",
       "      <td>kamu bisa punya <font color = blue>banyak</font> bts dengan <font color = blue>menggemari</font> smartphone lagi k selain tersedia wallpaper dan tema di dalam nya kamu juga dapat <font color = blue>pelekat</font> dan postcard bts</td>\n",
       "    </tr>\n",
       "    <tr>\n",
       "      <th>204</th>\n",
       "      <td>siarin bola asian games lewat parabola dong puluhan juta pasang mata di luar jawa yang pakai parabola pasti <font color = red>kecewa</font> kalau tidak bisa menonton</td>\n",
       "      <td>siarin bola asian games lewat parabola dong puluhan juta pasang mata di luar jawa yang pakai parabola pasti <font color = blue>menjelajahi</font> kalau tidak bisa menonton</td>\n",
       "    </tr>\n",
       "    <tr>\n",
       "      <th>205</th>\n",
       "      <td>di depan sana masih ada <font color = green>kompetisi</font> <font color = green>foto</font> dengan <font color = green>tema</font> morning feel</td>\n",
       "      <td>di depan sana masih ada <font color = red>pesaing</font> <font color = red>menggertak</font> dengan <font color = red>hal</font> morning feel</td>\n",
       "    </tr>\n",
       "    <tr>\n",
       "      <th>206</th>\n",
       "      <td>isi pulsa via atm bca tadi jam sampai sekarang belum masuk boleh tolong dicek <font color = green>terima</font> kasih</td>\n",
       "      <td>isi pulsa via atm bca tadi jam sampai sekarang belum masuk boleh tolong dicek <font color = red>menenggak</font> kasih</td>\n",
       "    </tr>\n",
       "    <tr>\n",
       "      <th>207</th>\n",
       "      <td>mau tanya apa nomer ini benar nomer kantor bca jakarta yang menangani kartu kredit saya <font color = green>tunggu</font> jawaban nya <font color = green>ya</font></td>\n",
       "      <td>mau tanya apa nomer ini benar nomer kantor bca jakarta yang menangani kartu kredit saya <font color = blue>menangap</font> jawaban nya <font color = blue>sungguh</font></td>\n",
       "    </tr>\n",
       "    <tr>\n",
       "      <th>208</th>\n",
       "      <td><font color = green>hai</font> mas cepy saya sudah ke bank bca terdekat untuk langsung diproses pergantian kartu <font color = green>ya</font></td>\n",
       "      <td><font color = red>keluhan</font> mas cepy saya sudah ke bank bca terdekat untuk langsung diproses pergantian kartu <font color = red>sungguh</font></td>\n",
       "    </tr>\n",
       "    <tr>\n",
       "      <th>209</th>\n",
       "      <td>hai ken saat ini isi e money flazz dari bca belum bisa di jenius ya kamu bisa menyampaikan saran kamu melalui bagian dari kami di jenius co create info <font color = green>lengkap</font> bisa ku njungi <font color = green>terima</font> kasih</td>\n",
       "      <td>hai ken saat ini isi e money flazz dari bca belum bisa di jenius ya kamu bisa menyampaikan saran kamu melalui bagian dari kami di jenius co create info <font color = blue>betul-betul</font> bisa ku njungi <font color = blue>menggemari</font> kasih</td>\n",
       "    </tr>\n",
       "    <tr>\n",
       "      <th>210</th>\n",
       "      <td><font color = green>selamat</font> <font color = green>siang</font> kamu bisa menggunakan <font color = green>tarif</font> ramai ramai untuk rombongan serta memanfat promo cashback dari rekanan bank seperti bank bri dan bca</td>\n",
       "      <td><font color = blue>terlindung</font> <font color = blue>cerah</font> kamu bisa menggunakan <font color = blue>cukai</font> ramai ramai untuk rombongan serta memanfat promo cashback dari rekanan bank seperti bank bri dan bca</td>\n",
       "    </tr>\n",
       "    <tr>\n",
       "      <th>211</th>\n",
       "      <td>di pesona festival pasar terapung ada juga permainan tradisional balogo festival kain tradisional sasirangan <font color = green>kompetisi</font> chef hotel dan restoran terbaik festival kuliner desa banjar lomba hias perahu jukung lomba fotografi dan masih banyak lagi yang lainnya</td>\n",
       "      <td>di pesona festival pasar terapung ada juga permainan tradisional balogo festival kain tradisional sasirangan <font color = blue>perlawanan</font> chef hotel dan restoran terbaik festival kuliner desa banjar lomba hias perahu jukung lomba fotografi dan masih banyak lagi yang lainnya</td>\n",
       "    </tr>\n",
       "    <tr>\n",
       "      <th>212</th>\n",
       "      <td>asisten pelatih pskc cimahi nurjati merasa tim nya sangat <font color = blue>bangga</font> bertemu dengan tim sebesar persib bandung di babak besar piala indonesia</td>\n",
       "      <td>asisten pelatih pskc cimahi nurjati merasa tim nya sangat <font color = red>sombong</font> bertemu dengan tim sebesar persib bandung di babak besar piala indonesia</td>\n",
       "    </tr>\n",
       "    <tr>\n",
       "      <th>213</th>\n",
       "      <td><font color = green>selamat</font> siang jika selama bulan tidak terdapat saldo rp tidak ada <font color = green>transaksi</font> maka sudah otomatis closed namun untuk pengecekan <font color = green>status</font> rekening anda dapat <font color = green>menghubungi</font> bni call</td>\n",
       "      <td><font color = blue>terlindung</font> siang jika selama bulan tidak terdapat saldo rp tidak ada <font color = blue>perjanjian</font> maka sudah otomatis closed namun untuk pengecekan <font color = blue>posisi</font> rekening anda dapat <font color = blue>menggemari</font> bni call</td>\n",
       "    </tr>\n",
       "    <tr>\n",
       "      <th>214</th>\n",
       "      <td><font color = green>selamat</font> pagi untuk melihat tagihan dapat menghubungi bni call kemudian <font color = green>tekan</font> untuk berbicara dengan bni call officer lalu tekan untuk <font color = green>berbicara</font> dengan bni call officer layanan kartu kredit nanti petugas kami akan <font color = green>membantu</font> anda</td>\n",
       "      <td><font color = blue>terlindung</font> pagi untuk melihat tagihan dapat menghubungi bni call kemudian <font color = blue>menciutkan</font> untuk berbicara dengan bni call officer lalu tekan untuk <font color = blue>menggurui</font> dengan bni call officer layanan kartu kredit nanti petugas kami akan <font color = blue>mempermudah</font> anda</td>\n",
       "    </tr>\n",
       "    <tr>\n",
       "      <th>215</th>\n",
       "      <td>selamat pagi silakan hubungi bni call untuk melakukan pemblokiran setelah itu silakan datang ke kantor cabang bni terdekat dengan <font color = green>membawa</font> ktp surat keterangan hilang dari kepolisian dan buku tabungan untuk penggantian kartu nya <font color = green>ya</font></td>\n",
       "      <td>selamat pagi silakan hubungi bni call untuk melakukan pemblokiran setelah itu silakan datang ke kantor cabang bni terdekat dengan <font color = red>menggonggong</font> ktp surat keterangan hilang dari kepolisian dan buku tabungan untuk penggantian kartu nya <font color = red>sungguh</font></td>\n",
       "    </tr>\n",
       "    <tr>\n",
       "      <th>216</th>\n",
       "      <td>tadi <font color = green>sore</font> saya baru cek email dan sudah transfer kekurangan tapi belum ada balasan lagi apakah transferan nya sudah <font color = green>masuk</font> atas nama ellena saufika no cust tf via mbanking bni</td>\n",
       "      <td>tadi <font color = red>kudis</font> saya baru cek email dan sudah transfer kekurangan tapi belum ada balasan lagi apakah transferan nya sudah <font color = red>mencampuri</font> atas nama ellena saufika no cust tf via mbanking bni</td>\n",
       "    </tr>\n",
       "    <tr>\n",
       "      <th>217</th>\n",
       "      <td>dalam kunjungan <font color = green>kerja</font> nya ke <font color = green>provinsi</font> jawa <font color = green>barat</font> presiden meninjau <font color = green>pelayanan</font> bpjs dan <font color = green>kartu</font> indonesia <font color = green>sehat</font> kis di rumah sakit umum <font color = green>pendidikan</font> rsup dari <font color = green>hasan</font> sadikin rshs kota bandung kamis <font color = green>siang</font> februari</td>\n",
       "      <td>dalam kunjungan <font color = blue>berkesan</font> nya ke <font color = blue>kawasan</font> jawa <font color = blue>Occident</font> presiden meninjau <font color = blue>khidmat</font> bpjs dan <font color = blue>pelekat</font> indonesia <font color = blue>menyegarkan</font> kis di rumah sakit umum <font color = blue>sekolah</font> rsup dari <font color = blue>enak</font> sadikin rshs kota bandung kamis <font color = blue>cerah</font> februari</td>\n",
       "    </tr>\n",
       "    <tr>\n",
       "      <th>218</th>\n",
       "      <td>pada tanggal februari esok poliklinik rawat <font color = green>jalan</font> rshs tidak melakukan pelayanan dikarenakan hari libur nasional poli kembali <font color = green>buka</font> hari senin februari</td>\n",
       "      <td>pada tanggal februari esok poliklinik rawat <font color = red>membuyarkan</font> rshs tidak melakukan pelayanan dikarenakan hari libur nasional poli kembali <font color = red>meleraikan</font> hari senin februari</td>\n",
       "    </tr>\n",
       "    <tr>\n",
       "      <th>219</th>\n",
       "      <td>kami ingin <font color = green>mengumumkan</font> bahwa mal bom kini <font color = green>hadir</font> di shopee mal</td>\n",
       "      <td>kami ingin <font color = red>menghukum</font> bahwa mal bom kini <font color = red>mempertontonkan</font> di shopee mal</td>\n",
       "    </tr>\n",
       "    <tr>\n",
       "      <th>220</th>\n",
       "      <td>informasi <font color = green>tambahan</font> bahwa untuk pembayaran rp juta yang bapak lakukan tidak menjadikan limit menjadi rp juta melainkan pembayaran tersebut akan <font color = green>mengurangi</font> tagihan yang sedang berjalan jika kartu kredit dalam keadaan berlebihan limit maka akan dikenakan biaya rp ribu</td>\n",
       "      <td>informasi <font color = red>berlebihan</font> bahwa untuk pembayaran rp juta yang bapak lakukan tidak menjadikan limit menjadi rp juta melainkan pembayaran tersebut akan <font color = red>menyesakkan</font> tagihan yang sedang berjalan jika kartu kredit dalam keadaan berlebihan limit maka akan dikenakan biaya rp ribu</td>\n",
       "    </tr>\n",
       "    <tr>\n",
       "      <th>221</th>\n",
       "      <td>sebentar lagi asian games dimulai nih coba tebak ada berapa cabang olahraga yang dipertandingkan di asian games nanti lalu menangkan hadiah kompor spesial dari rinnai untuk orang lazadians yang <font color = green>beruntung</font></td>\n",
       "      <td>sebentar lagi asian games dimulai nih coba tebak ada berapa cabang olahraga yang dipertandingkan di asian games nanti lalu menangkan hadiah kompor spesial dari rinnai untuk orang lazadians yang <font color = blue>faedah</font></td>\n",
       "    </tr>\n",
       "    <tr>\n",
       "      <th>222</th>\n",
       "      <td>kemnaker ri <font color = green>menyelenggarakan</font> pameran kesempatan kerja job fair nasional tahun di balairung hotel bumiwiyata depok jawa barat <font color = green>tanggal</font> juli job fair ini tidak dipungut biaya <font color = green>gratis</font></td>\n",
       "      <td>kemnaker ri <font color = red>membohongi</font> pameran kesempatan kerja job fair nasional tahun di balairung hotel bumiwiyata depok jawa barat <font color = red>berkelahi</font> juli job fair ini tidak dipungut biaya <font color = red>percuma</font></td>\n",
       "    </tr>\n",
       "    <tr>\n",
       "      <th>223</th>\n",
       "      <td>gelaran jateng wow telah usai pada maret lalu dari pelaksanaan selama dua bulan penuh kegiatan ini telah <font color = blue>meningkatkan</font> hunian hotel mendatangkan ribuan kunjungan wisatawan mancanegara ke jawa tengah</td>\n",
       "      <td>gelaran jateng wow telah usai pada maret lalu dari pelaksanaan selama dua bulan penuh kegiatan ini telah <font color = green>pendahuluan</font> hunian hotel mendatangkan ribuan kunjungan wisatawan mancanegara ke jawa tengah</td>\n",
       "    </tr>\n",
       "    <tr>\n",
       "      <th>224</th>\n",
       "      <td>presiden harapkan menpar ri dan menko untuk <font color = green>mengajak</font> <font color = green>pelaku</font> pariwisata baik hotel maupun maskapai penerbangan untuk juga diajak memberikan <font color = green>informasi</font> <font color = green>mempromosikan</font> wisata di indonesia <font color = green>khusus</font> nya bali</td>\n",
       "      <td>presiden harapkan menpar ri dan menko untuk <font color = blue>memberangsangkan</font> <font color = blue>akhlak</font> pariwisata baik hotel maupun maskapai penerbangan untuk juga diajak memberikan <font color = blue>khabar</font> <font color = blue>menyekang</font> wisata di indonesia <font color = blue>istimewa</font> nya bali</td>\n",
       "    </tr>\n",
       "    <tr>\n",
       "      <th>225</th>\n",
       "      <td>gubernur dki jakarta anies baswedan <font color = green>membentuk</font> tim evaluasi tata kelola <font color = green>air</font> <font color = green>minum</font> pembentukan tim ini tertuang dalam <font color = green>keputusan</font> gubernur nomor tahun yang ditandatangani agustus tim ini diketuai sekretaris daerah saefullah dengan <font color = green>wakil</font> <font color = green>ketua</font> asisten pembangunan dan lingkungan <font color = green>hidup</font> yusmada faizal</td>\n",
       "      <td>gubernur dki jakarta anies baswedan <font color = red>menjebak</font> tim evaluasi tata kelola <font color = red>jus</font> <font color = red>menggoleng</font> pembentukan tim ini tertuang dalam <font color = red>ketetapan</font> gubernur nomor tahun yang ditandatangani agustus tim ini diketuai sekretaris daerah saefullah dengan <font color = red>menguntukkan</font> <font color = red>profesionalisme</font> asisten pembangunan dan lingkungan <font color = red>membobolkan</font> yusmada faizal</td>\n",
       "    </tr>\n",
       "    <tr>\n",
       "      <th>226</th>\n",
       "      <td>tujuh <font color = green>pemain</font> <font color = green>real</font> madrid akan <font color = green>menyamai</font> rekor paolo maldini dan dani alves yang sampai saat ini masih <font color = green>menyandang</font> predikat raja di <font color = green>piala</font> super eropa ketujuh pemain yang dimaksud adalah dani carvajal sergio ramos marcelo luka modric karim benzema isco dan toni kroos di antara tujuh pemain itu sudah ada enam <font color = green>pemain</font> yang <font color = green>meraih</font> tiga gelar <font color = green>piala</font> super eropa bersama real madrid yakni carvajal ramos marcelo modric benzema dan isco</td>\n",
       "      <td>tujuh <font color = blue>tangan</font> <font color = blue>asli</font> madrid akan <font color = blue>cocok</font> rekor paolo maldini dan dani alves yang sampai saat ini masih <font color = blue>menggemak-gemak</font> predikat raja di <font color = blue>hadiah</font> super eropa ketujuh pemain yang dimaksud adalah dani carvajal sergio ramos marcelo luka modric karim benzema isco dan toni kroos di antara tujuh pemain itu sudah ada enam <font color = blue>berseni</font> yang <font color = blue>menggemak-gemak</font> tiga gelar <font color = blue>hadiah</font> super eropa bersama real madrid yakni carvajal ramos marcelo modric benzema dan isco</td>\n",
       "    </tr>\n",
       "    <tr>\n",
       "      <th>227</th>\n",
       "      <td>keberadaan <font color = green>peraturan</font> presiden <font color = green>nomor</font> tahun tentang <font color = green>strategi</font> nasional <font color = green>pencegahan</font> <font color = green>korupsi</font> yang telah diteken oleh <font color = green>presiden</font> joko widodo pada <font color = green>juli</font> silam diharapkan mampu <font color = green>menghasilkan</font> <font color = green>perubahan</font> mendasar <font color = green>khusus</font> nya <font color = green>terkait</font> tiga <font color = green>aspek</font> ketiga <font color = green>aspek</font> itu menyangkut perizinan dan <font color = green>tata</font> <font color = green>niaga</font> keuangan <font color = green>negara</font> dan <font color = green>penegakan</font> <font color = green>hukum</font> serta <font color = green>reformasi</font> birokrasi</td>\n",
       "      <td>keberadaan <font color = blue>prinsip</font> presiden <font color = blue>angka</font> tahun tentang <font color = blue>rencana</font> nasional <font color = blue>pelarangan</font> <font color = blue>kecurangan</font> yang telah diteken oleh <font color = blue>pemimpin</font> joko widodo pada <font color = blue>Jul</font> silam diharapkan mampu <font color = blue>main-main</font> <font color = blue>pewujudan</font> mendasar <font color = blue>sendiri</font> nya <font color = blue>bertalian</font> tiga <font color = blue>segi</font> ketiga <font color = blue>segi</font> itu menyangkut perizinan dan <font color = blue>meletakkan</font> <font color = blue>industri</font> keuangan <font color = blue>menyatakan</font> dan <font color = blue>pendirian</font> <font color = blue>kepercayaan</font> serta <font color = blue>pembaruan</font> birokrasi</td>\n",
       "    </tr>\n",
       "    <tr>\n",
       "      <th>228</th>\n",
       "      <td>beberapa fungsi layanan kami membutuhkan pendaftaran akun dengan memilih identifikasi pengguna id pengguna dan kata sandi unik serta memberikan informasi pribadi tertentu apabila anda memilih id pengguna yang dianggap tidak sopan atau tidak pantas oleh shopee atas <font color = green>kebijakan</font> nya sendiri shopee berhak untuk <font color = green>menangguhkan</font> atau mengakhiri akun anda</td>\n",
       "      <td>beberapa fungsi layanan kami membutuhkan pendaftaran akun dengan memilih identifikasi pengguna id pengguna dan kata sandi unik serta memberikan informasi pribadi tertentu apabila anda memilih id pengguna yang dianggap tidak sopan atau tidak pantas oleh shopee atas <font color = red>kelucuan</font> nya sendiri shopee berhak untuk <font color = red>membenamkan</font> atau mengakhiri akun anda</td>\n",
       "    </tr>\n",
       "    <tr>\n",
       "      <th>229</th>\n",
       "      <td>di <font color = green>usia</font> tahun saat nya <font color = green>gerakan</font> pramuka di tanah air menjawab <font color = green>tantangan</font> zaman baru <font color = green>anggota</font> pramuka harus dididik bukan hanya bahasa morse tetapi juga pengetahuan digital seperti coding artificial intelligence advance robotic dan internet of things</td>\n",
       "      <td>di <font color = blue>zaman</font> tahun saat nya <font color = blue>garit</font> pramuka di tanah air menjawab <font color = blue>berani</font> zaman baru <font color = blue>kepak</font> pramuka harus dididik bukan hanya bahasa morse tetapi juga pengetahuan digital seperti coding artificial intelligence advance robotic dan internet of things</td>\n",
       "    </tr>\n",
       "    <tr>\n",
       "      <th>230</th>\n",
       "      <td>dalam <font color = green>paparan</font> nya menkeu smi <font color = green>menekankan</font> penting nya <font color = green>menjaga</font> integritas taxmin sebagai penyalur <font color = green>utama</font> informasi perpajakan agar menyampaikan informasi yang baik dan benar kepada masyarakat melalui <font color = green>media</font> <font color = green>sosial</font> yang dimiliki nya</td>\n",
       "      <td>dalam <font color = blue>persembahan</font> nya menkeu smi <font color = blue>membajau</font> penting nya <font color = blue>mengempukkan</font> integritas taxmin sebagai penyalur <font color = blue>terkenal</font> informasi perpajakan agar menyampaikan informasi yang baik dan benar kepada masyarakat melalui <font color = blue>sederhana</font> <font color = blue>pergaulan</font> yang dimiliki nya</td>\n",
       "    </tr>\n",
       "    <tr>\n",
       "      <th>231</th>\n",
       "      <td><font color = green>sahabat</font> mido untuk kenyamanan pemohon paspor dan <font color = green>menghindari</font> <font color = green>praktik</font> percaloan direktorat jenderal imigrasi bekerjasama dengan kementerian keuangan melalui bank bank yang tergabung dalam sistim informasi <font color = green>penerimaan</font> <font color = green>negara</font> bukan <font color = green>pajak</font> online simponi</td>\n",
       "      <td><font color = red>abang</font> mido untuk kenyamanan pemohon paspor dan <font color = red>membungkuk</font> <font color = red>benar-benar</font> percaloan direktorat jenderal imigrasi bekerjasama dengan kementerian keuangan melalui bank bank yang tergabung dalam sistim informasi <font color = red>kepercayaan</font> <font color = red>menyatakan</font> bukan <font color = red>penyewaan</font> online simponi</td>\n",
       "    </tr>\n",
       "    <tr>\n",
       "      <th>232</th>\n",
       "      <td><font color = green>hai</font> kak saat ini jam opertional restoran pizza hut belum sampai jam <font color = green>ya</font> sekadar informasi restoran ph dan phd <font color = green>berbeda</font> menu dengan konsep nya informasi mengenai phd kk dapat menghubungi atau tanyakan ke akun official nya id kak</td>\n",
       "      <td><font color = red>keluhan</font> kak saat ini jam opertional restoran pizza hut belum sampai jam <font color = red>benar-benar</font> sekadar informasi restoran ph dan phd <font color = red>berlainan</font> menu dengan konsep nya informasi mengenai phd kk dapat menghubungi atau tanyakan ke akun official nya id kak</td>\n",
       "    </tr>\n",
       "    <tr>\n",
       "      <th>233</th>\n",
       "      <td>tidak perlu diragukan lagi semua orang memang <font color = red>membenci</font> dia aku pun sama</td>\n",
       "      <td>tidak perlu diragukan lagi semua orang memang <font color = blue>menemukan</font> dia aku pun sama</td>\n",
       "    </tr>\n",
       "    <tr>\n",
       "      <th>234</th>\n",
       "      <td>selalu tidak <font color = red>suka</font> sama cara dia ngomong belepotan dan <font color = red>sok</font> paling mengerti sama masalah di negara ini</td>\n",
       "      <td>selalu tidak <font color = blue>mengecap</font> sama cara dia ngomong belepotan dan <font color = blue>terenyuh</font> paling mengerti sama masalah di negara ini</td>\n",
       "    </tr>\n",
       "    <tr>\n",
       "      <th>235</th>\n",
       "      <td>pelayanan di supermarket itu <font color = red>payah</font></td>\n",
       "      <td>pelayanan di supermarket itu <font color = blue>kuat</font></td>\n",
       "    </tr>\n",
       "    <tr>\n",
       "      <th>236</th>\n",
       "      <td>aku <font color = red>kecewa</font> dengan pelayanan hotel yang semalam aku tempati kamar <font color = red>mandi</font> <font color = red>kotor</font> pelayan tidak <font color = red>ramah</font></td>\n",
       "      <td>aku <font color = blue>menjelajahi</font> dengan pelayanan hotel yang semalam aku tempati kamar <font color = blue>memandikan</font> <font color = blue>menyeramkan</font> pelayan tidak <font color = blue>curiah</font></td>\n",
       "    </tr>\n",
       "    <tr>\n",
       "      <th>237</th>\n",
       "      <td><font color = red>parah</font> sih bikin emosi naik ngobrol sama pelayanan pelanggan bank itu <font color = red>songong</font> setelah</td>\n",
       "      <td><font color = blue>dahsyat</font> sih bikin emosi naik ngobrol sama pelayanan pelanggan bank itu <font color = blue>rampus</font> setelah</td>\n",
       "    </tr>\n",
       "    <tr>\n",
       "      <th>238</th>\n",
       "      <td>dia tidak <font color = red>cocok</font> pakai baju mahal karena dari sana nya memang sudah kelihatan <font color = red>kayak</font> orang miskin</td>\n",
       "      <td>dia tidak <font color = blue>jumbuh</font> pakai baju mahal karena dari sana nya memang sudah kelihatan <font color = blue>peduli</font> orang miskin</td>\n",
       "    </tr>\n",
       "    <tr>\n",
       "      <th>239</th>\n",
       "      <td>harga makanan di restoran tadi <font color = red>mahal</font> banget sudah begitu tidak <font color = red>enak</font> lagi makanan nya</td>\n",
       "      <td>harga makanan di restoran tadi <font color = blue>berharga</font> banget sudah begitu tidak <font color = blue>kelezatan</font> lagi makanan nya</td>\n",
       "    </tr>\n",
       "    <tr>\n",
       "      <th>240</th>\n",
       "      <td>ipuh pantesan tidak pernah didatangkan banyak <font color = red>orang</font> ternyata tempat <font color = red>makan</font> di sana dalem nya <font color = red>kotor</font> banget <font color = red>sampah</font> saja dibiarkan berserakan</td>\n",
       "      <td>ipuh pantesan tidak pernah didatangkan banyak <font color = blue>unik</font> ternyata tempat <font color = blue>meresapi</font> di sana dalem nya <font color = blue>menyeramkan</font> banget <font color = blue>serasah</font> saja dibiarkan berserakan</td>\n",
       "    </tr>\n",
       "    <tr>\n",
       "      <th>241</th>\n",
       "      <td>tidak ada enak nya makan di sana bakso tidak <font color = red>enak</font> teh manis nya rasanya <font color = red>aneh</font> mi ayam nya mie nya kelembekan tidak mau lagi deh ke sana</td>\n",
       "      <td>tidak ada enak nya makan di sana bakso tidak <font color = blue>kelezatan</font> teh manis nya rasanya <font color = blue>aduhai</font> mi ayam nya mie nya kelembekan tidak mau lagi deh ke sana</td>\n",
       "    </tr>\n",
       "    <tr>\n",
       "      <th>242</th>\n",
       "      <td><font color = red>benci</font> banget sama pelayanan di rumah sakit itu tidak ada <font color = red>adab</font> nya</td>\n",
       "      <td><font color = blue>memuntahkan</font> banget sama pelayanan di rumah sakit itu tidak ada <font color = blue>ragam</font> nya</td>\n",
       "    </tr>\n",
       "    <tr>\n",
       "      <th>243</th>\n",
       "      <td>gue tidak <font color = red>puas</font> sama pelayanan kerja di tempat kemarin hak hak karyawan dibatesin banget</td>\n",
       "      <td>gue tidak <font color = blue>padam</font> sama pelayanan kerja di tempat kemarin hak hak karyawan dibatesin banget</td>\n",
       "    </tr>\n",
       "    <tr>\n",
       "      <th>244</th>\n",
       "      <td>gue sudah <font color = red>mengecap</font> dia jelek sih jadi mau sebaik apa pun sikap nya gue tetap tidak <font color = red>suka</font> dia</td>\n",
       "      <td>gue sudah <font color = blue>sayang</font> dia jelek sih jadi mau sebaik apa pun sikap nya gue tetap tidak <font color = blue>sukaria</font> dia</td>\n",
       "    </tr>\n",
       "    <tr>\n",
       "      <th>245</th>\n",
       "      <td>setelah diperhatikan <font color = red>iklan</font> di <font color = red>indonesia</font> paling tidak <font color = red>kreatif</font> dibanding <font color = red>negara</font> lain terutama <font color = red>thailand</font></td>\n",
       "      <td>setelah diperhatikan <font color = green>pemberitahuan</font> di <font color = green>Hindia-Belanda</font> paling tidak <font color = green>kreativitas</font> dibanding <font color = green>bidang</font> lain terutama <font color = green>Siam</font></td>\n",
       "    </tr>\n",
       "    <tr>\n",
       "      <th>246</th>\n",
       "      <td>tidak <font color = red>mengerti</font> lagi sama perfilman di <font color = red>indonesia</font> tidak <font color = red>berkualitas</font> banget</td>\n",
       "      <td>tidak <font color = blue>mencengkam</font> lagi sama perfilman di <font color = blue>Hindia-Belanda</font> tidak <font color = blue>kaliber</font> banget</td>\n",
       "    </tr>\n",
       "    <tr>\n",
       "      <th>247</th>\n",
       "      <td>gue enggak <font color = red>suka</font> sama pelatih timnas yang sekarang strategi yang dibikin nya tidak bisa dipakai buat <font color = red>mengalahkan</font> lawan</td>\n",
       "      <td>gue enggak <font color = blue>menyenangi</font> sama pelatih timnas yang sekarang strategi yang dibikin nya tidak bisa dipakai buat <font color = blue>gentar</font> lawan</td>\n",
       "    </tr>\n",
       "    <tr>\n",
       "      <th>248</th>\n",
       "      <td>orang orang di indonesia itu memang begitu kerjaan nya nethink terus sama pemimpin tidak <font color = red>suka</font> gue</td>\n",
       "      <td>orang orang di indonesia itu memang begitu kerjaan nya nethink terus sama pemimpin tidak <font color = blue>sukaria</font> gue</td>\n",
       "    </tr>\n",
       "    <tr>\n",
       "      <th>249</th>\n",
       "      <td>kadang <font color = red>bingung</font> sih kenapa mulut netijen pada tidak bisa dijaga bisa nya behina terus <font color = red>aneh</font></td>\n",
       "      <td>kadang <font color = blue>membajau</font> sih kenapa mulut netijen pada tidak bisa dijaga bisa nya behina terus <font color = blue>menakjubkan</font></td>\n",
       "    </tr>\n",
       "    <tr>\n",
       "      <th>250</th>\n",
       "      <td>memang masih zaman <font color = red>ya</font> ngomong pakai kode kodean tidak <font color = red>suka</font> banget gue sama orang yang kayak gitu</td>\n",
       "      <td>memang masih zaman <font color = blue>benar-benar</font> ngomong pakai kode kodean tidak <font color = blue>sukaria</font> banget gue sama orang yang kayak gitu</td>\n",
       "    </tr>\n",
       "    <tr>\n",
       "      <th>251</th>\n",
       "      <td>harus nya pop ditenggelamkan di <font color = red>indonesia</font> karena cuma bikin anak <font color = red>muda</font> <font color = red>lupa</font> <font color = red>agama</font></td>\n",
       "      <td>harus nya pop ditenggelamkan di <font color = green>Nederlands-Indie</font> karena cuma bikin anak <font color = green>keterangan</font> <font color = green>mengempang</font> <font color = green>keagamaan</font></td>\n",
       "    </tr>\n",
       "    <tr>\n",
       "      <th>252</th>\n",
       "      <td>kagak ada <font color = red>faedah</font> nya <font color = red>kenal</font> kpop yang ada <font color = red>mata</font> kita dibutakan terus bikin kita muja muja <font color = red>manusia</font></td>\n",
       "      <td>kagak ada <font color = blue>riba</font> nya <font color = blue>pengalaman</font> kpop yang ada <font color = blue>penunjuk</font> kita dibutakan terus bikin kita muja muja <font color = blue>setaraf</font></td>\n",
       "    </tr>\n",
       "    <tr>\n",
       "      <th>253</th>\n",
       "      <td>entah kenapa gue enggak <font color = red>suka</font> banget sama politisi yang bisa ngemis ngemis suara rakyat dengan manfaatkan <font color = red>harga</font> diri ulama</td>\n",
       "      <td>entah kenapa gue enggak <font color = blue>jigrah</font> banget sama politisi yang bisa ngemis ngemis suara rakyat dengan manfaatkan <font color = blue>berharga</font> diri ulama</td>\n",
       "    </tr>\n",
       "    <tr>\n",
       "      <th>254</th>\n",
       "      <td><font color = red>menyesal</font> gue beli vivo kamera nya tidak <font color = red>bagus</font></td>\n",
       "      <td><font color = blue>insaf</font> gue beli vivo kamera nya tidak <font color = blue>meruyak</font></td>\n",
       "    </tr>\n",
       "    <tr>\n",
       "      <th>255</th>\n",
       "      <td>sudah berkali kali mencoba produk apple tetap tidak <font color = red>suka</font></td>\n",
       "      <td>sudah berkali kali mencoba produk apple tetap tidak <font color = green>persetujuan</font></td>\n",
       "    </tr>\n",
       "    <tr>\n",
       "      <th>256</th>\n",
       "      <td>produk lokal memang <font color = red>cetek</font></td>\n",
       "      <td>produk lokal memang <font color = blue>jangkat</font></td>\n",
       "    </tr>\n",
       "    <tr>\n",
       "      <th>257</th>\n",
       "      <td>netijen mulut nya <font color = red>sampah</font> semua tidak <font color = red>berfaedah</font></td>\n",
       "      <td>netijen mulut nya <font color = blue>ranap</font> semua tidak <font color = blue>berkelebihan</font></td>\n",
       "    </tr>\n",
       "    <tr>\n",
       "      <th>258</th>\n",
       "      <td>menurut gue sih <font color = red>indonesia</font> bakal <font color = red>susah</font> <font color = red>bangkit</font> kalau isi otak <font color = red>penduduk</font> nya gitu gitu aja</td>\n",
       "      <td>menurut gue sih <font color = blue>Nederlands-Indie</font> bakal <font color = blue>kuat</font> <font color = blue>menggugah</font> kalau isi otak <font color = blue>menetap</font> nya gitu gitu aja</td>\n",
       "    </tr>\n",
       "    <tr>\n",
       "      <th>259</th>\n",
       "      <td>sumpah ya gue <font color = red>terganggu</font> banget sama suara nya komentator bola di indonesia malah bikin esmosi jiwa</td>\n",
       "      <td>sumpah ya gue <font color = blue>tergerak</font> banget sama suara nya komentator bola di indonesia malah bikin esmosi jiwa</td>\n",
       "    </tr>\n",
       "    <tr>\n",
       "      <th>260</th>\n",
       "      <td>pemain persib main nya <font color = red>jelek</font></td>\n",
       "      <td>pemain persib main nya <font color = blue>dahsyat</font></td>\n",
       "    </tr>\n",
       "    <tr>\n",
       "      <th>261</th>\n",
       "      <td><font color = red>artis</font> cowok pop <font color = red>banci</font> semua</td>\n",
       "      <td><font color = green>seniman</font> cowok pop <font color = green>hermafrodit</font> semua</td>\n",
       "    </tr>\n",
       "    <tr>\n",
       "      <th>262</th>\n",
       "      <td>harga baju di ramayana tidak <font color = red>sebanding</font> sama kualitas baju nya</td>\n",
       "      <td>harga baju di ramayana tidak <font color = blue>menggoleng</font> sama kualitas baju nya</td>\n",
       "    </tr>\n",
       "    <tr>\n",
       "      <th>263</th>\n",
       "      <td><font color = red>model</font> baju yang ada di matahari tidak sebagus model baju di ramayana</td>\n",
       "      <td><font color = green>peringatan</font> baju yang ada di matahari tidak sebagus model baju di ramayana</td>\n",
       "    </tr>\n",
       "    <tr>\n",
       "      <th>264</th>\n",
       "      <td>sinyal xl <font color = red>jelek</font> banget di sini</td>\n",
       "      <td>sinyal xl <font color = blue>dahsyat</font> banget di sini</td>\n",
       "    </tr>\n",
       "    <tr>\n",
       "      <th>265</th>\n",
       "      <td>indosat <font color = red>bagus</font> iklan nya doang tapi kualitas nya nol</td>\n",
       "      <td>indosat <font color = blue>menakjubkan</font> iklan nya doang tapi kualitas nya nol</td>\n",
       "    </tr>\n",
       "    <tr>\n",
       "      <th>266</th>\n",
       "      <td>barang barang di informa biasa saja tapi harga <font color = red>mahal</font> banget</td>\n",
       "      <td>barang barang di informa biasa saja tapi harga <font color = blue>berharga</font> banget</td>\n",
       "    </tr>\n",
       "    <tr>\n",
       "      <th>267</th>\n",
       "      <td>handphone samsung <font color = red>jelek</font> <font color = red>gampang</font> rusak</td>\n",
       "      <td>handphone samsung <font color = green>selekeh</font> <font color = green>ampang</font> rusak</td>\n",
       "    </tr>\n",
       "    <tr>\n",
       "      <th>268</th>\n",
       "      <td>aku tidak <font color = red>suka</font> sama cowok yang bisa dance tidak maco</td>\n",
       "      <td>aku tidak <font color = blue>sukaria</font> sama cowok yang bisa dance tidak maco</td>\n",
       "    </tr>\n",
       "    <tr>\n",
       "      <th>269</th>\n",
       "      <td>sebenarnya gue <font color = red>benci</font> banget sih sama orang yang kalau lagi diajak ngobrol dia tidak mau <font color = red>lihat</font> muka kita tidak sopan</td>\n",
       "      <td>sebenarnya gue <font color = blue>memuakkan</font> banget sih sama orang yang kalau lagi diajak ngobrol dia tidak mau <font color = blue>memandang</font> muka kita tidak sopan</td>\n",
       "    </tr>\n",
       "    <tr>\n",
       "      <th>270</th>\n",
       "      <td>di antara mata kuliah yang ada gue paling tidak <font color = red>suka</font> sama statistika</td>\n",
       "      <td>di antara mata kuliah yang ada gue paling tidak <font color = green>persetujuan</font> sama statistika</td>\n",
       "    </tr>\n",
       "    <tr>\n",
       "      <th>271</th>\n",
       "      <td><font color = red>orang</font> yang <font color = red>pakai</font> kacamata itu terlihat cupu</td>\n",
       "      <td><font color = blue>memisalkan</font> yang <font color = blue>mengira</font> kacamata itu terlihat cupu</td>\n",
       "    </tr>\n",
       "    <tr>\n",
       "      <th>272</th>\n",
       "      <td>apa bagus nya ya itu acara l men <font color = red>jijik</font> gue sih liat nya</td>\n",
       "      <td>apa bagus nya ya itu acara l men <font color = blue>bersempuras</font> gue sih liat nya</td>\n",
       "    </tr>\n",
       "    <tr>\n",
       "      <th>273</th>\n",
       "      <td>sinetron di <font color = red>indonesia</font> mana ada yang <font color = red>bagus</font></td>\n",
       "      <td>sinetron di <font color = blue>Ned-Indie</font> mana ada yang <font color = blue>menakjubkan</font></td>\n",
       "    </tr>\n",
       "    <tr>\n",
       "      <th>274</th>\n",
       "      <td>odol pepsodent menurut gue terlalu <font color = red>pedas</font> gue enggak <font color = red>suka</font></td>\n",
       "      <td>odol pepsodent menurut gue terlalu <font color = blue>asid</font> gue enggak <font color = blue>sukaria</font></td>\n",
       "    </tr>\n",
       "    <tr>\n",
       "      <th>275</th>\n",
       "      <td>gue enggak <font color = red>suka</font> anggun jadi duta shampoo</td>\n",
       "      <td>gue enggak <font color = blue>girang</font> anggun jadi duta shampoo</td>\n",
       "    </tr>\n",
       "    <tr>\n",
       "      <th>276</th>\n",
       "      <td>semua program yang ada ya kuya nya tidak pernah <font color = red>berfaedah</font></td>\n",
       "      <td>semua program yang ada ya kuya nya tidak pernah <font color = blue>berkelebihan</font></td>\n",
       "    </tr>\n",
       "    <tr>\n",
       "      <th>277</th>\n",
       "      <td>harus nya <font color = red>orang</font> <font color = red>indonesia</font> itu banyak <font color = red>cari</font> <font color = red>ilmu</font> bukan malah banyak <font color = red>cari</font> masalah</td>\n",
       "      <td>harus nya <font color = blue>unik</font> <font color = blue>Ned-Indie</font> itu banyak <font color = blue>menggeledah</font> <font color = blue>kesarjanaan</font> bukan malah banyak <font color = blue>menelaah</font> masalah</td>\n",
       "    </tr>\n",
       "    <tr>\n",
       "      <th>278</th>\n",
       "      <td>gue enggak <font color = red>suka</font> itu sama orang orang yang pakai alasan agama buat menang di dunia politik</td>\n",
       "      <td>gue enggak <font color = blue>berkehendak</font> itu sama orang orang yang pakai alasan agama buat menang di dunia politik</td>\n",
       "    </tr>\n",
       "    <tr>\n",
       "      <th>279</th>\n",
       "      <td>tidak <font color = red>suka</font> sama laptop merek acer cepat rusak kakak</td>\n",
       "      <td>tidak <font color = blue>sukaria</font> sama laptop merek acer cepat rusak kakak</td>\n",
       "    </tr>\n",
       "    <tr>\n",
       "      <th>280</th>\n",
       "      <td>harga telepon genggam vivo y kemahalan padahal telepon genggam nya tidak <font color = red>bagus</font> bagus amat</td>\n",
       "      <td>harga telepon genggam vivo y kemahalan padahal telepon genggam nya tidak <font color = blue>menakjubkan</font> bagus amat</td>\n",
       "    </tr>\n",
       "    <tr>\n",
       "      <th>281</th>\n",
       "      <td>tidak pernah <font color = red>suka</font> sama handphone zenfone alay</td>\n",
       "      <td>tidak pernah <font color = blue>membenarkan</font> sama handphone zenfone alay</td>\n",
       "    </tr>\n",
       "    <tr>\n",
       "      <th>282</th>\n",
       "      <td>kamera zenfone selalu <font color = red>jelek</font> kalau dipakai di tempat remang remang tidak <font color = red>profesional</font></td>\n",
       "      <td>kamera zenfone selalu <font color = blue>bangpak</font> kalau dipakai di tempat remang remang tidak <font color = blue>karyawan</font></td>\n",
       "    </tr>\n",
       "    <tr>\n",
       "      <th>283</th>\n",
       "      <td>di antara olah raga yang ada gue paling tidak <font color = red>suka</font> sepak bola</td>\n",
       "      <td>di antara olah raga yang ada gue paling tidak <font color = green>persetujuan</font> sepak bola</td>\n",
       "    </tr>\n",
       "    <tr>\n",
       "      <th>284</th>\n",
       "      <td>dulu pernah mencoba belajar renang tapi <font color = red>tenggelam</font> terus sekarang tidak mau lagi deh gue <font color = red>renang</font> <font color = red>trauma</font> seram</td>\n",
       "      <td>dulu pernah mencoba belajar renang tapi <font color = blue>menenangkan</font> terus sekarang tidak mau lagi deh gue <font color = blue>menggayun</font> <font color = blue>dahsyat</font> seram</td>\n",
       "    </tr>\n",
       "    <tr>\n",
       "      <th>285</th>\n",
       "      <td>sebenarnya kelebihan makan di upnormal itu karena disediakan banyak mainan nongkrong jadi lebih <font color = blue>seru</font></td>\n",
       "      <td>sebenarnya kelebihan makan di upnormal itu karena disediakan banyak mainan nongkrong jadi lebih <font color = red>pedih</font></td>\n",
       "    </tr>\n",
       "    <tr>\n",
       "      <th>286</th>\n",
       "      <td>gue paling <font color = blue>suka</font> sama indomie cabe hijau terbaik</td>\n",
       "      <td>gue paling <font color = red>membenarkan</font> sama indomie cabe hijau terbaik</td>\n",
       "    </tr>\n",
       "    <tr>\n",
       "      <th>287</th>\n",
       "      <td>kalau suruh milih gue lebih <font color = blue>suka</font> belanja di shopee pelayanan nya nomor</td>\n",
       "      <td>kalau suruh milih gue lebih <font color = red>membenarkan</font> belanja di shopee pelayanan nya nomor</td>\n",
       "    </tr>\n",
       "    <tr>\n",
       "      <th>288</th>\n",
       "      <td>kalau mau kirim barang ke luar negeri menurut gue dil sudah paling <font color = blue>enak</font></td>\n",
       "      <td>kalau mau kirim barang ke luar negeri menurut gue dil sudah paling <font color = red>molek</font></td>\n",
       "    </tr>\n",
       "    <tr>\n",
       "      <th>289</th>\n",
       "      <td><font color = blue>senang</font> banget liat sandi maju cawapres untuk yakin gue bakal milih dia</td>\n",
       "      <td><font color = red>enteng</font> banget liat sandi maju cawapres untuk yakin gue bakal milih dia</td>\n",
       "    </tr>\n",
       "    <tr>\n",
       "      <th>290</th>\n",
       "      <td>kalau mau karaoke enak lu datang saja ke studio karaoke <font color = blue>harga</font> nya juga terjangkau <font color = blue>banget</font></td>\n",
       "      <td>kalau mau karaoke enak lu datang saja ke studio karaoke <font color = red>pengorbanan</font> nya juga terjangkau <font color = red>amat</font></td>\n",
       "    </tr>\n",
       "    <tr>\n",
       "      <th>291</th>\n",
       "      <td>xiamo sudah paling <font color = blue>enak</font> sih kualitas nya <font color = blue>mantap</font> harga nya juga kejangkau</td>\n",
       "      <td>xiamo sudah paling <font color = red>berair</font> sih kualitas nya <font color = red>kaku</font> harga nya juga kejangkau</td>\n",
       "    </tr>\n",
       "    <tr>\n",
       "      <th>292</th>\n",
       "      <td>banyak <font color = blue>nilai</font> <font color = blue>positif</font> yang bisa diambil dari jokowi</td>\n",
       "      <td>banyak <font color = green>angka</font> <font color = green>keruan</font> yang bisa diambil dari jokowi</td>\n",
       "    </tr>\n",
       "    <tr>\n",
       "      <th>293</th>\n",
       "      <td>gue <font color = blue>suka</font> banget matematika dari dulu karena <font color = blue>mengasah</font> otak jadi <font color = blue>cerdas</font></td>\n",
       "      <td>gue <font color = red>harap</font> banget matematika dari dulu karena <font color = red>tirus</font> otak jadi <font color = red>waspada</font></td>\n",
       "    </tr>\n",
       "    <tr>\n",
       "      <th>294</th>\n",
       "      <td>jam <font color = blue>tangan</font> switch selalu kasih model yang terkini pilihan warna nya juga <font color = blue>bagus</font> <font color = blue>bagus</font></td>\n",
       "      <td>jam <font color = red>kemampuan</font> switch selalu kasih model yang terkini pilihan warna nya juga <font color = red>sangat</font> <font color = red>molek</font></td>\n",
       "    </tr>\n",
       "    <tr>\n",
       "      <th>295</th>\n",
       "      <td>kalau diperhatikan perkembangan film di indonesia makin berkembang gue <font color = blue>suka</font> itu</td>\n",
       "      <td>kalau diperhatikan perkembangan film di indonesia makin berkembang gue <font color = red>sukaria</font> itu</td>\n",
       "    </tr>\n",
       "    <tr>\n",
       "      <th>296</th>\n",
       "      <td>asli ya gue <font color = blue>suka</font> banget sama alur cerita film kafir sederhana tapi dapat makna nya</td>\n",
       "      <td>asli ya gue <font color = red>membenarkan</font> banget sama alur cerita film kafir sederhana tapi dapat makna nya</td>\n",
       "    </tr>\n",
       "    <tr>\n",
       "      <th>297</th>\n",
       "      <td><font color = blue>cinta</font> <font color = blue>banget</font> sama iko uwais apalagi kalau lagi main film</td>\n",
       "      <td><font color = red>percintaan</font> <font color = red>amat</font> sama iko uwais apalagi kalau lagi main film</td>\n",
       "    </tr>\n",
       "    <tr>\n",
       "      <th>298</th>\n",
       "      <td><font color = blue>kangen</font> deh sama prabowo semoga beliau jadi presiden deh ya dua tahun lagi</td>\n",
       "      <td><font color = red>kehilangan</font> deh sama prabowo semoga beliau jadi presiden deh ya dua tahun lagi</td>\n",
       "    </tr>\n",
       "    <tr>\n",
       "      <th>299</th>\n",
       "      <td>recheese nabati yang keju <font color = blue>enak</font> <font color = blue>banget</font></td>\n",
       "      <td>recheese nabati yang keju <font color = green>kelezatan</font> <font color = green>terlalu</font></td>\n",
       "    </tr>\n",
       "    <tr>\n",
       "      <th>300</th>\n",
       "      <td>kalau ingin menghilangkan haus pakai minuman super duper <font color = blue>segar</font> mending beli hydrococo</td>\n",
       "      <td>kalau ingin menghilangkan haus pakai minuman super duper <font color = red>kasar</font> mending beli hydrococo</td>\n",
       "    </tr>\n",
       "    <tr>\n",
       "      <th>301</th>\n",
       "      <td>tidak tahu kenapa gue <font color = blue>senang</font> banget bisa tinggal di jakarta</td>\n",
       "      <td>tidak tahu kenapa gue <font color = red>enteng</font> banget bisa tinggal di jakarta</td>\n",
       "    </tr>\n",
       "    <tr>\n",
       "      <th>302</th>\n",
       "      <td>yang gue <font color = blue>suka</font> dari indonesia adalah budaya nya yang <font color = blue>kental</font> banget</td>\n",
       "      <td>yang gue <font color = red>membenarkan</font> dari indonesia adalah budaya nya yang <font color = red>terganjal</font> banget</td>\n",
       "    </tr>\n",
       "    <tr>\n",
       "      <th>303</th>\n",
       "      <td>indonesia itu seperti <font color = blue>banget</font> sama seni dan budaya nya syukurlah gue dilahirkan di indonesia jadi bisa banyak <font color = blue>belajar</font> tentang <font color = blue>indah</font> nya perbedaan</td>\n",
       "      <td>indonesia itu seperti <font color = red>terlalu</font> sama seni dan budaya nya syukurlah gue dilahirkan di indonesia jadi bisa banyak <font color = red>menghinap-hinap</font> tentang <font color = red>syahda</font> nya perbedaan</td>\n",
       "    </tr>\n",
       "    <tr>\n",
       "      <th>304</th>\n",
       "      <td>tidak pernah tidak suka sama suara once paling <font color = blue>suka</font> waktu dia nyanyi dealova dalem <font color = blue>banget</font> nusuk ke <font color = blue>hati</font></td>\n",
       "      <td>tidak pernah tidak suka sama suara once paling <font color = red>kebenaran</font> waktu dia nyanyi dealova dalem <font color = red>amat</font> nusuk ke <font color = red>benda</font></td>\n",
       "    </tr>\n",
       "    <tr>\n",
       "      <th>305</th>\n",
       "      <td><font color = blue>lagu</font> lagu indie itu selalu <font color = blue>enak</font> didenger</td>\n",
       "      <td><font color = red>tindakan</font> lagu indie itu selalu <font color = red>lazat</font> didenger</td>\n",
       "    </tr>\n",
       "    <tr>\n",
       "      <th>306</th>\n",
       "      <td>kalau ditanya kualitas lirik lagu <font color = blue>terbaik</font> di indonesia gue bakal jawab lirik lagu nya ebiet tidak ade belum ada yang bisa bandingkan</td>\n",
       "      <td>kalau ditanya kualitas lirik lagu <font color = green>paling</font> di indonesia gue bakal jawab lirik lagu nya ebiet tidak ade belum ada yang bisa bandingkan</td>\n",
       "    </tr>\n",
       "    <tr>\n",
       "      <th>307</th>\n",
       "      <td>sebenarnya nilai di dalam pancasila itu sudah <font color = blue>sesuai</font> banget sama cita cita masyarakat indonesia pancasila sangat meninggikan kepentingan bersama karena itu gue sangat <font color = blue>cinta</font> dengan pancasila dan indonesia</td>\n",
       "      <td>sebenarnya nilai di dalam pancasila itu sudah <font color = red>mencampurkan</font> banget sama cita cita masyarakat indonesia pancasila sangat meninggikan kepentingan bersama karena itu gue sangat <font color = red>kekasih</font> dengan pancasila dan indonesia</td>\n",
       "    </tr>\n",
       "    <tr>\n",
       "      <th>308</th>\n",
       "      <td>gue paling <font color = blue>suka</font> tisu merek paseo karena <font color = blue>lembut</font> banget</td>\n",
       "      <td>gue paling <font color = red>sukaria</font> tisu merek paseo karena <font color = red>rapuh</font> banget</td>\n",
       "    </tr>\n",
       "    <tr>\n",
       "      <th>309</th>\n",
       "      <td>mouse logitech <font color = blue>lucu</font> lucu desain nya hampir semuanya gue <font color = blue>suka</font></td>\n",
       "      <td>mouse logitech <font color = red>absurd</font> lucu desain nya hampir semuanya gue <font color = red>mengakuri</font></td>\n",
       "    </tr>\n",
       "    <tr>\n",
       "      <th>310</th>\n",
       "      <td>lagu nya richard marx selalu <font color = blue>syahdu</font> <font color = blue>enak</font> didengar <font color = blue>berulang</font> <font color = blue>ulang</font></td>\n",
       "      <td>lagu nya richard marx selalu <font color = red>molek</font> <font color = red>berair</font> didengar <font color = red>menyeleweng</font> <font color = red>membeo</font></td>\n",
       "    </tr>\n",
       "    <tr>\n",
       "      <th>311</th>\n",
       "      <td>karya anak bangsa indonesia di bidang teknologi selalu <font color = blue>membanggakan</font></td>\n",
       "      <td>karya anak bangsa indonesia di bidang teknologi selalu <font color = red>angkuh</font></td>\n",
       "    </tr>\n",
       "    <tr>\n",
       "      <th>312</th>\n",
       "      <td><font color = blue>bangga</font> deh sama jokowi maju terus pak</td>\n",
       "      <td><font color = red>congkak</font> deh sama jokowi maju terus pak</td>\n",
       "    </tr>\n",
       "    <tr>\n",
       "      <th>313</th>\n",
       "      <td>tidak usah ditanya <font color = blue>kehebatan</font> jokowi apa semua juga bisa dilakukan sama bapak presiden terkuat satu itu</td>\n",
       "      <td>tidak usah ditanya <font color = red>keterlaluan</font> jokowi apa semua juga bisa dilakukan sama bapak presiden terkuat satu itu</td>\n",
       "    </tr>\n",
       "    <tr>\n",
       "      <th>314</th>\n",
       "      <td>gue lebih milih <font color = blue>makan</font> di restoran yang bersih dan makanan nya enak kayak di ampera</td>\n",
       "      <td>gue lebih milih <font color = red>muak</font> di restoran yang bersih dan makanan nya enak kayak di ampera</td>\n",
       "    </tr>\n",
       "    <tr>\n",
       "      <th>315</th>\n",
       "      <td>banyak ya yang bisa dibanggakan dari seorang habibie cerdas iya <font color = blue>rendah</font> hati pula</td>\n",
       "      <td>banyak ya yang bisa dibanggakan dari seorang habibie cerdas iya <font color = red>terkutuk</font> hati pula</td>\n",
       "    </tr>\n",
       "    <tr>\n",
       "      <th>316</th>\n",
       "      <td>pelayanan bank bni selalu <font color = blue>memuaskan</font> ramah <font color = blue>ramah</font> <font color = blue>banget</font> <font color = blue>orang</font> nya</td>\n",
       "      <td>pelayanan bank bni selalu <font color = red>muak</font> ramah <font color = red>mesra</font> <font color = red>amat</font> <font color = red>kabilah</font> nya</td>\n",
       "    </tr>\n",
       "    <tr>\n",
       "      <th>317</th>\n",
       "      <td>bca <font color = blue>keren</font> sih karena sekarang sudah bisa medeteksi identitas <font color = blue>orang</font> cuma dengan ngedenger <font color = blue>suara</font> nya</td>\n",
       "      <td>bca <font color = green>periang</font> sih karena sekarang sudah bisa medeteksi identitas <font color = green>kabilah</font> cuma dengan ngedenger <font color = green>artikulasi</font> nya</td>\n",
       "    </tr>\n",
       "    <tr>\n",
       "      <th>318</th>\n",
       "      <td>paling <font color = blue>suka</font> sama orang yang tidak pernah mengeluh kalau lagi kerja</td>\n",
       "      <td>paling <font color = red>sukaria</font> sama orang yang tidak pernah mengeluh kalau lagi kerja</td>\n",
       "    </tr>\n",
       "    <tr>\n",
       "      <th>319</th>\n",
       "      <td>gue dari dulu selalu <font color = blue>suka</font> momogi rasanya <font color = blue>ketagihan</font> <font color = blue>banget</font></td>\n",
       "      <td>gue dari dulu selalu <font color = red>persetujuan</font> momogi rasanya <font color = red>ketergantungan</font> <font color = red>amat</font></td>\n",
       "    </tr>\n",
       "    <tr>\n",
       "      <th>320</th>\n",
       "      <td>indomie sih enggak usah ditanya lagi naik gunung cuma bawa indomie saja sudah cukup buat gue sudah bisa <font color = blue>melengkapi</font> kebahagiaan indomie <font color = blue>mantap</font></td>\n",
       "      <td>indomie sih enggak usah ditanya lagi naik gunung cuma bawa indomie saja sudah cukup buat gue sudah bisa <font color = red>bubar</font> kebahagiaan indomie <font color = red>malar</font></td>\n",
       "    </tr>\n",
       "    <tr>\n",
       "      <th>321</th>\n",
       "      <td>tidak pernah <font color = blue>kecewa</font> sama model sepatu nike selalu <font color = blue>elegan</font></td>\n",
       "      <td>tidak pernah <font color = red>mengarungi</font> sama model sepatu nike selalu <font color = red>kehalusan</font></td>\n",
       "    </tr>\n",
       "    <tr>\n",
       "      <th>322</th>\n",
       "      <td><font color = blue>bangga</font> dan salut buat dokter yang rela tidak dibayar buat turun jangankan korban gempa di lombok</td>\n",
       "      <td><font color = red>congkak</font> dan salut buat dokter yang rela tidak dibayar buat turun jangankan korban gempa di lombok</td>\n",
       "    </tr>\n",
       "    <tr>\n",
       "      <th>323</th>\n",
       "      <td>sandy shandoro tidak pernah <font color = blue>gagal</font> bikin gue merinding dewa banget <font color = blue>suara</font> nya</td>\n",
       "      <td>sandy shandoro tidak pernah <font color = red>memberi</font> bikin gue merinding dewa banget <font color = red>berbahaya</font> nya</td>\n",
       "    </tr>\n",
       "    <tr>\n",
       "      <th>324</th>\n",
       "      <td>kalau disuruh milih antara koi sama chatime mending koi ke mana mana harga murah rasa <font color = blue>juara</font></td>\n",
       "      <td>kalau disuruh milih antara koi sama chatime mending koi ke mana mana harga murah rasa <font color = red>pemuja</font></td>\n",
       "    </tr>\n",
       "    <tr>\n",
       "      <th>325</th>\n",
       "      <td>di antara penyanyi rock yang ada gue paling <font color = blue>suka</font> bryan adams</td>\n",
       "      <td>di antara penyanyi rock yang ada gue paling <font color = green>mengakuri</font> bryan adams</td>\n",
       "    </tr>\n",
       "    <tr>\n",
       "      <th>326</th>\n",
       "      <td>bandung itu kota paling <font color = blue>nyaman</font> buat ditempatkan</td>\n",
       "      <td>bandung itu kota paling <font color = red>informal</font> buat ditempatkan</td>\n",
       "    </tr>\n",
       "    <tr>\n",
       "      <th>327</th>\n",
       "      <td>distro baju di bandung ternyata <font color = blue>bagus</font> <font color = blue>bagus</font> deh harga nya juga <font color = blue>sesuai</font></td>\n",
       "      <td>distro baju di bandung ternyata <font color = red>menyeronokkan</font> <font color = red>elok</font> deh harga nya juga <font color = red>mengharmonikan</font></td>\n",
       "    </tr>\n",
       "    <tr>\n",
       "      <th>328</th>\n",
       "      <td>kalau mau jalan jalan melihat pulau paling <font color = blue>cantik</font> datang saja ke pulau saumlaki yang ada di maluku</td>\n",
       "      <td>kalau mau jalan jalan melihat pulau paling <font color = green>atraktif</font> datang saja ke pulau saumlaki yang ada di maluku</td>\n",
       "    </tr>\n",
       "    <tr>\n",
       "      <th>329</th>\n",
       "      <td>aku <font color = blue>bangga</font> jadi anak indonesia</td>\n",
       "      <td>aku <font color = red>gaduk</font> jadi anak indonesia</td>\n",
       "    </tr>\n",
       "    <tr>\n",
       "      <th>330</th>\n",
       "      <td>salut deh sama <font color = blue>keberanian</font> <font color = blue>bu</font> susi</td>\n",
       "      <td>salut deh sama <font color = red>biadab</font> <font color = red>perempuan</font> susi</td>\n",
       "    </tr>\n",
       "    <tr>\n",
       "      <th>331</th>\n",
       "      <td>panutan <font color = blue>banget</font> <font color = blue>bu</font> sri mulyani <font color = blue>otak</font> nya <font color = blue>cerdas</font> luar biasa</td>\n",
       "      <td>panutan <font color = red>terlalu</font> <font color = red>nyonya</font> sri mulyani <font color = red>akal</font> nya <font color = red>berawas-awas</font> luar biasa</td>\n",
       "    </tr>\n",
       "    <tr>\n",
       "      <th>332</th>\n",
       "      <td><font color = blue>suka</font> banget sama desain toko pedia bikin mata segar</td>\n",
       "      <td><font color = red>membenarkan</font> banget sama desain toko pedia bikin mata segar</td>\n",
       "    </tr>\n",
       "    <tr>\n",
       "      <th>333</th>\n",
       "      <td>gue <font color = blue>senang</font> banget <font color = blue>belanja</font> di shopee banyak promo nya</td>\n",
       "      <td>gue <font color = red>marem</font> banget <font color = red>memperlakukan</font> di shopee banyak promo nya</td>\n",
       "    </tr>\n",
       "    <tr>\n",
       "      <th>334</th>\n",
       "      <td>alun alun bandung <font color = blue>nyaman</font> banget buat nongkrong nongkrong sama keluarga atau teman</td>\n",
       "      <td>alun alun bandung <font color = red>halus</font> banget buat nongkrong nongkrong sama keluarga atau teman</td>\n",
       "    </tr>\n",
       "    <tr>\n",
       "      <th>335</th>\n",
       "      <td>semua rasa ayam di wingstop gue <font color = blue>suka</font></td>\n",
       "      <td>semua rasa ayam di wingstop gue <font color = red>meluluskan</font></td>\n",
       "    </tr>\n",
       "    <tr>\n",
       "      <th>336</th>\n",
       "      <td>indomie goreng rasa rendang rasanya enak <font color = blue>banget</font> <font color = blue>enak</font> banget</td>\n",
       "      <td>indomie goreng rasa rendang rasanya enak <font color = red>terlalu</font> <font color = red>selesa</font> banget</td>\n",
       "    </tr>\n",
       "    <tr>\n",
       "      <th>337</th>\n",
       "      <td>tempat direkomendasikan buat <font color = blue>beli</font> barang elektronik itu bec di sana banyak <font color = blue>pilihan</font></td>\n",
       "      <td>tempat direkomendasikan buat <font color = green>memperoleh</font> barang elektronik itu bec di sana banyak <font color = green>seleksi</font></td>\n",
       "    </tr>\n",
       "    <tr>\n",
       "      <th>338</th>\n",
       "      <td><font color = blue>keren</font> pemain pemain bola di <font color = blue>indonesia</font> makin punya skill</td>\n",
       "      <td><font color = green>gembira</font> pemain pemain bola di <font color = green>Nederlands-Indie</font> makin punya skill</td>\n",
       "    </tr>\n",
       "    <tr>\n",
       "      <th>339</th>\n",
       "      <td>kalau mau indonesia maju <font color = green>pemimpin</font> itu harus peka sama kebutuhan negara</td>\n",
       "      <td>kalau mau indonesia maju <font color = red>mandur</font> itu harus peka sama kebutuhan negara</td>\n",
       "    </tr>\n",
       "    <tr>\n",
       "      <th>340</th>\n",
       "      <td>hotel bintang yang ada di bogor <font color = green>salah</font> satu nya hotel salak</td>\n",
       "      <td>hotel bintang yang ada di bogor <font color = red>janggal</font> satu nya hotel salak</td>\n",
       "    </tr>\n",
       "    <tr>\n",
       "      <th>341</th>\n",
       "      <td>di bogor itu ada lima mal yang bisa didatangkan <font color = green>salah</font> satu nya botani square</td>\n",
       "      <td>di bogor itu ada lima mal yang bisa didatangkan <font color = red>janggal</font> satu nya botani square</td>\n",
       "    </tr>\n",
       "    <tr>\n",
       "      <th>342</th>\n",
       "      <td>sekarang transmart <font color = green>buka</font> juga di bogor</td>\n",
       "      <td>sekarang transmart <font color = red>membuyarkan</font> juga di bogor</td>\n",
       "    </tr>\n",
       "    <tr>\n",
       "      <th>343</th>\n",
       "      <td>kata nya di pasteur bakal dibangun transmart yang <font color = green>kayak</font> di <font color = green>buah</font> batu itu</td>\n",
       "      <td>kata nya di pasteur bakal dibangun transmart yang <font color = blue>menggemari</font> di <font color = blue>keuntungan</font> batu itu</td>\n",
       "    </tr>\n",
       "    <tr>\n",
       "      <th>344</th>\n",
       "      <td>bogor memang suka macet tiap akhir pekan <font color = red>melelahkan</font></td>\n",
       "      <td>bogor memang suka macet tiap akhir pekan <font color = blue>menjemukan</font></td>\n",
       "    </tr>\n",
       "    <tr>\n",
       "      <th>345</th>\n",
       "      <td>kalau di hari sabtu sama minggu banyak warga bogor yang lari <font color = green>keliling</font> kebun raya</td>\n",
       "      <td>kalau di hari sabtu sama minggu banyak warga bogor yang lari <font color = red>terlingkung</font> kebun raya</td>\n",
       "    </tr>\n",
       "    <tr>\n",
       "      <th>346</th>\n",
       "      <td>wortel mengandung vitamin a yang bisa jaga kesehatan <font color = green>mata</font></td>\n",
       "      <td>wortel mengandung vitamin a yang bisa jaga kesehatan <font color = blue>punat</font></td>\n",
       "    </tr>\n",
       "    <tr>\n",
       "      <th>347</th>\n",
       "      <td>jangan <font color = green>lupa</font> minum air mineral gelas per hari nya</td>\n",
       "      <td>jangan <font color = blue>terbantut</font> minum air mineral gelas per hari nya</td>\n",
       "    </tr>\n",
       "    <tr>\n",
       "      <th>348</th>\n",
       "      <td>youngle nya setelah berantem sama <font color = green>penggemar</font> kpop</td>\n",
       "      <td>youngle nya setelah berantem sama <font color = red>pengkhayal</font> kpop</td>\n",
       "    </tr>\n",
       "    <tr>\n",
       "      <th>349</th>\n",
       "      <td>jumlah korban tenggelam nya kami <font color = green>sinar</font> bangun itu kurang lebih an orang</td>\n",
       "      <td>jumlah korban tenggelam nya kami <font color = red>mencucuh</font> bangun itu kurang lebih an orang</td>\n",
       "    </tr>\n",
       "    <tr>\n",
       "      <th>350</th>\n",
       "      <td>sudah hampir <font color = green>orang</font> yang <font color = green>meninggal</font> karena gempa di lombok kemarin</td>\n",
       "      <td>sudah hampir <font color = red>sebanding</font> yang <font color = red>hambar</font> karena gempa di lombok kemarin</td>\n",
       "    </tr>\n",
       "    <tr>\n",
       "      <th>351</th>\n",
       "      <td>ada satu relawan di lombok yang <font color = green>meninggal</font> <font color = green>dunia</font></td>\n",
       "      <td>ada satu relawan di lombok yang <font color = red>hambar</font> <font color = red>lelaki</font></td>\n",
       "    </tr>\n",
       "    <tr>\n",
       "      <th>352</th>\n",
       "      <td>bikin <font color = blue>puisi</font> bisa bikin <font color = blue>hati</font> yang tadinya banyak masalah jadi lebih <font color = blue>tenang</font></td>\n",
       "      <td>bikin <font color = red>syair</font> bisa bikin <font color = red>pusat</font> yang tadinya banyak masalah jadi lebih <font color = red>lembam</font></td>\n",
       "    </tr>\n",
       "    <tr>\n",
       "      <th>353</th>\n",
       "      <td>kalau lapar ya baiknya <font color = green>makan</font></td>\n",
       "      <td>kalau lapar ya baiknya <font color = red>muak</font></td>\n",
       "    </tr>\n",
       "    <tr>\n",
       "      <th>354</th>\n",
       "      <td>perempuan yang malang itu sekarang sudah tutup <font color = green>usia</font></td>\n",
       "      <td>perempuan yang malang itu sekarang sudah tutup <font color = red>zaman</font></td>\n",
       "    </tr>\n",
       "    <tr>\n",
       "      <th>355</th>\n",
       "      <td><font color = green>cerita</font> si kancil itu identik dengan kecerdikan seorang kancil menyelesai masalah yang ada di hadapan nya</td>\n",
       "      <td><font color = red>bohong</font> si kancil itu identik dengan kecerdikan seorang kancil menyelesai masalah yang ada di hadapan nya</td>\n",
       "    </tr>\n",
       "    <tr>\n",
       "      <th>356</th>\n",
       "      <td>kalau mau beli obat obatan datang saja ke kimia farma karena di sana <font color = blue>lengkap</font> dan <font color = blue>harga</font> terjangkau</td>\n",
       "      <td>kalau mau beli obat obatan datang saja ke kimia farma karena di sana <font color = red>kafah</font> dan <font color = red>pengorbanan</font> terjangkau</td>\n",
       "    </tr>\n",
       "    <tr>\n",
       "      <th>357</th>\n",
       "      <td>buah mangga yang kemarin gue <font color = green>lihat</font> di pohon kayak nya sudah dimakan sama kelelawar</td>\n",
       "      <td>buah mangga yang kemarin gue <font color = red>lagak</font> di pohon kayak nya sudah dimakan sama kelelawar</td>\n",
       "    </tr>\n",
       "    <tr>\n",
       "      <th>358</th>\n",
       "      <td>semua perempuan <font color = blue>suka</font> dikasih bunga atau puisi sama pacar nya</td>\n",
       "      <td>semua perempuan <font color = green>persetujuan</font> dikasih bunga atau puisi sama pacar nya</td>\n",
       "    </tr>\n",
       "    <tr>\n",
       "      <th>359</th>\n",
       "      <td>sandiaga uno <font color = green>salah</font> satu <font color = green>orang</font> terkaya di indonesia</td>\n",
       "      <td>sandiaga uno <font color = red>janggal</font> satu <font color = red>budak</font> terkaya di indonesia</td>\n",
       "    </tr>\n",
       "    <tr>\n",
       "      <th>360</th>\n",
       "      <td>di bandung banyak tempat yang bisa didatangkan buat wisata sama <font color = blue>keluarga</font> yang tempat nya <font color = blue>bagus</font> <font color = blue>bagus</font></td>\n",
       "      <td>di bandung banyak tempat yang bisa didatangkan buat wisata sama <font color = green>kelompok</font> yang tempat nya <font color = green>bum</font> <font color = green>syahda</font></td>\n",
       "    </tr>\n",
       "    <tr>\n",
       "      <th>361</th>\n",
       "      <td>indonesia punya banyak banget suku yang beragam budaya nya dan itu mencerminkan kalau negara kita sangat <font color = blue>kaya</font></td>\n",
       "      <td>indonesia punya banyak banget suku yang beragam budaya nya dan itu mencerminkan kalau negara kita sangat <font color = red>lem</font></td>\n",
       "    </tr>\n",
       "    <tr>\n",
       "      <th>362</th>\n",
       "      <td><font color = green>salah</font> satu tempat yang banyak didatangkan di bogor itu kebun raya bogor</td>\n",
       "      <td><font color = red>dusta</font> satu tempat yang banyak didatangkan di bogor itu kebun raya bogor</td>\n",
       "    </tr>\n",
       "    <tr>\n",
       "      <th>363</th>\n",
       "      <td>di sekitar istana bogor kita bisa <font color = green>kasih</font> makan rusa langsung kalau rusa rusa nya lagi dikeluarkan</td>\n",
       "      <td>di sekitar istana bogor kita bisa <font color = blue>suka</font> makan rusa langsung kalau rusa rusa nya lagi dikeluarkan</td>\n",
       "    </tr>\n",
       "    <tr>\n",
       "      <th>364</th>\n",
       "      <td>kata nya <font color = green>tidur</font> yang baik itu <font color = green>minimal</font> enam jam sehari</td>\n",
       "      <td>kata nya <font color = blue>lelap</font> yang baik itu <font color = blue>sedikit-dikitnya</font> enam jam sehari</td>\n",
       "    </tr>\n",
       "    <tr>\n",
       "      <th>365</th>\n",
       "      <td>salah satu kegemaran anak remaja indonesia sekarang adalah <font color = green>mendengar</font> kpop</td>\n",
       "      <td>salah satu kegemaran anak remaja indonesia sekarang adalah <font color = blue>sabar</font> kpop</td>\n",
       "    </tr>\n",
       "    <tr>\n",
       "      <th>366</th>\n",
       "      <td>melihat warna <font color = blue>hijau</font> bisa bikin <font color = blue>mata</font> jadi lebih santai</td>\n",
       "      <td>melihat warna <font color = red>mentah</font> bisa bikin <font color = red>angka</font> jadi lebih santai</td>\n",
       "    </tr>\n",
       "    <tr>\n",
       "      <th>367</th>\n",
       "      <td>bondan winarno yang suka bilang maknyus sekarang sudah <font color = green>tiada</font></td>\n",
       "      <td>bondan winarno yang suka bilang maknyus sekarang sudah <font color = red>tidak</font></td>\n",
       "    </tr>\n",
       "  </tbody>\n",
       "</table>"
      ],
      "text/plain": [
       "<IPython.core.display.HTML object>"
      ]
     },
     "metadata": {},
     "output_type": "display_data"
    }
   ],
   "source": [
    "from textattack.loggers import CSVLogger\n",
    "from textattack.attack_results import SuccessfulAttackResult\n",
    "\n",
    "pd.options.display.max_colwidth = (\n",
    "    480  # increase colum width so we can actually read the examples\n",
    ")\n",
    "\n",
    "logger = CSVLogger(color_method=\"html\")\n",
    "\n",
    "for result in attack_results:\n",
    "    if isinstance(result, SuccessfulAttackResult):\n",
    "        logger.log_attack_result(result)\n",
    "\n",
    "from IPython.core.display import display, HTML\n",
    "\n",
    "results = pd.DataFrame.from_records(logger.row_list)\n",
    "display(HTML(results[[\"original_text\", \"perturbed_text\"]].to_html(escape=False)))"
   ]
  }
 ],
 "metadata": {
  "kernelspec": {
   "display_name": "Python 3",
   "language": "python",
   "name": "python3"
  },
  "language_info": {
   "codemirror_mode": {
    "name": "ipython",
    "version": 3
   },
   "file_extension": ".py",
   "mimetype": "text/x-python",
   "name": "python",
   "nbconvert_exporter": "python",
   "pygments_lexer": "ipython3",
   "version": "3.10.11"
  }
 },
 "nbformat": 4,
 "nbformat_minor": 2
}
